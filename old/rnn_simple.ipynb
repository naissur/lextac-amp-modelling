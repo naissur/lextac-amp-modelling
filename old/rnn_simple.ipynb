{
 "cells": [
  {
   "cell_type": "code",
   "execution_count": 172,
   "metadata": {},
   "outputs": [
    {
     "data": {
      "text/plain": [
       "array([ 0.5  ,  0.494,  0.488,  0.482,  0.476,  0.47 ,  0.464,  0.458,\n",
       "        0.452,  0.446,  0.44 ,  0.434,  0.428,  0.422,  0.416,  0.41 ,\n",
       "        0.404,  0.398,  0.392,  0.386,  0.38 ,  0.374,  0.368,  0.362,\n",
       "        0.356,  0.35 ,  0.344,  0.338,  0.332,  0.326,  0.32 ,  0.314,\n",
       "        0.308,  0.302,  0.296,  0.29 ,  0.284,  0.278,  0.272,  0.266,\n",
       "        0.26 ,  0.254,  0.248,  0.242,  0.236,  0.23 ,  0.224,  0.218,\n",
       "        0.212,  0.206,  0.2  ,  0.194,  0.188,  0.182,  0.176,  0.17 ,\n",
       "        0.164,  0.158,  0.152,  0.146,  0.14 ,  0.134,  0.128,  0.122,\n",
       "        0.116,  0.11 ,  0.104,  0.098,  0.092,  0.086,  0.08 ,  0.074,\n",
       "        0.068,  0.062,  0.056,  0.05 ,  0.044,  0.038,  0.032,  0.026,\n",
       "        0.02 ,  0.014,  0.008,  0.002, -0.004, -0.01 , -0.016, -0.022,\n",
       "       -0.028, -0.034, -0.04 , -0.046, -0.052, -0.058, -0.064, -0.07 ,\n",
       "       -0.076, -0.082, -0.088, -0.094, -0.1  , -0.106, -0.112, -0.118,\n",
       "       -0.124, -0.13 , -0.136, -0.142, -0.148, -0.154, -0.16 , -0.166,\n",
       "       -0.172, -0.178, -0.184, -0.19 , -0.196, -0.202, -0.208, -0.214,\n",
       "       -0.22 , -0.226, -0.232, -0.238, -0.244, -0.25 , -0.256, -0.262,\n",
       "       -0.268, -0.274, -0.28 , -0.286, -0.292, -0.298, -0.304, -0.31 ,\n",
       "       -0.316, -0.322, -0.328, -0.334, -0.34 , -0.346, -0.352, -0.358,\n",
       "       -0.364, -0.37 , -0.376, -0.382, -0.388, -0.394, -0.4  , -0.406,\n",
       "       -0.412, -0.418, -0.424, -0.43 , -0.436, -0.442, -0.448, -0.454,\n",
       "       -0.46 , -0.466, -0.472, -0.478, -0.484, -0.49 , -0.496, -0.498,\n",
       "       -0.492, -0.486, -0.48 , -0.474, -0.468, -0.462, -0.456, -0.45 ,\n",
       "       -0.444, -0.438, -0.432, -0.426, -0.42 , -0.414, -0.408, -0.402,\n",
       "       -0.396, -0.39 , -0.384, -0.378, -0.372, -0.366, -0.36 , -0.354,\n",
       "       -0.348, -0.342, -0.336, -0.33 , -0.324, -0.318, -0.312, -0.306,\n",
       "       -0.3  , -0.294, -0.288, -0.282, -0.276, -0.27 , -0.264, -0.258,\n",
       "       -0.252, -0.246, -0.24 , -0.234, -0.228, -0.222, -0.216, -0.21 ,\n",
       "       -0.204, -0.198, -0.192, -0.186, -0.18 , -0.174, -0.168, -0.162,\n",
       "       -0.156, -0.15 , -0.144, -0.138, -0.132, -0.126, -0.12 , -0.114,\n",
       "       -0.108, -0.102, -0.096, -0.09 , -0.084, -0.078, -0.072, -0.066,\n",
       "       -0.06 , -0.054, -0.048, -0.042, -0.036, -0.03 , -0.024, -0.018,\n",
       "       -0.012, -0.006,  0.   ,  0.006,  0.012,  0.018,  0.024,  0.03 ,\n",
       "        0.036,  0.042,  0.048,  0.054,  0.06 ,  0.066,  0.072,  0.078,\n",
       "        0.084,  0.09 ,  0.096,  0.102,  0.108,  0.114,  0.12 ,  0.126,\n",
       "        0.132,  0.138,  0.144,  0.15 ,  0.156,  0.162,  0.168,  0.174,\n",
       "        0.18 ,  0.186,  0.192,  0.198,  0.204,  0.21 ,  0.216,  0.222,\n",
       "        0.228,  0.234,  0.24 ,  0.246,  0.252,  0.258,  0.264,  0.27 ,\n",
       "        0.276,  0.282,  0.288,  0.294,  0.3  ,  0.306,  0.312,  0.318,\n",
       "        0.324,  0.33 ,  0.336,  0.342,  0.348,  0.354,  0.36 ,  0.366,\n",
       "        0.372,  0.378,  0.384,  0.39 ,  0.396,  0.402,  0.408,  0.414,\n",
       "        0.42 ,  0.426,  0.432,  0.438,  0.444,  0.45 ,  0.456,  0.462,\n",
       "        0.468,  0.474,  0.48 ,  0.486,  0.492,  0.498,  0.496,  0.49 ,\n",
       "        0.484,  0.478,  0.472,  0.466,  0.46 ,  0.454,  0.448,  0.442,\n",
       "        0.436,  0.43 ,  0.424,  0.418,  0.412,  0.406,  0.4  ,  0.394,\n",
       "        0.388,  0.382,  0.376,  0.37 ,  0.364,  0.358,  0.352,  0.346,\n",
       "        0.34 ,  0.334,  0.328,  0.322,  0.316,  0.31 ,  0.304,  0.298,\n",
       "        0.292,  0.286,  0.28 ,  0.274,  0.268,  0.262,  0.256,  0.25 ,\n",
       "        0.244,  0.238,  0.232,  0.226,  0.22 ,  0.214,  0.208,  0.202,\n",
       "        0.196,  0.19 ,  0.184,  0.178,  0.172,  0.166,  0.16 ,  0.154,\n",
       "        0.148,  0.142,  0.136,  0.13 ,  0.124,  0.118,  0.112,  0.106,\n",
       "        0.1  ,  0.094,  0.088,  0.082,  0.076,  0.07 ,  0.064,  0.058,\n",
       "        0.052,  0.046,  0.04 ,  0.034,  0.028,  0.022,  0.016,  0.01 ,\n",
       "        0.004, -0.002, -0.008, -0.014, -0.02 , -0.026, -0.032, -0.038,\n",
       "       -0.044, -0.05 , -0.056, -0.062, -0.068, -0.074, -0.08 , -0.086,\n",
       "       -0.092, -0.098, -0.104, -0.11 , -0.116, -0.122, -0.128, -0.134,\n",
       "       -0.14 , -0.146, -0.152, -0.158, -0.164, -0.17 , -0.176, -0.182,\n",
       "       -0.188, -0.194, -0.2  , -0.206, -0.212, -0.218, -0.224, -0.23 ,\n",
       "       -0.236, -0.242, -0.248, -0.254, -0.26 , -0.266, -0.272, -0.278,\n",
       "       -0.284, -0.29 , -0.296, -0.302, -0.308, -0.314, -0.32 , -0.326,\n",
       "       -0.332, -0.338, -0.344, -0.35 , -0.356, -0.362, -0.368, -0.374,\n",
       "       -0.38 , -0.386, -0.392, -0.398, -0.404, -0.41 , -0.416, -0.422,\n",
       "       -0.428, -0.434, -0.44 , -0.446, -0.452, -0.458, -0.464, -0.47 ,\n",
       "       -0.476, -0.482, -0.488, -0.494, -0.5  , -0.494, -0.488, -0.482,\n",
       "       -0.476, -0.47 , -0.464, -0.458, -0.452, -0.446, -0.44 , -0.434,\n",
       "       -0.428, -0.422, -0.416, -0.41 , -0.404, -0.398, -0.392, -0.386,\n",
       "       -0.38 , -0.374, -0.368, -0.362, -0.356, -0.35 , -0.344, -0.338,\n",
       "       -0.332, -0.326, -0.32 , -0.314, -0.308, -0.302, -0.296, -0.29 ,\n",
       "       -0.284, -0.278, -0.272, -0.266, -0.26 , -0.254, -0.248, -0.242,\n",
       "       -0.236, -0.23 , -0.224, -0.218, -0.212, -0.206, -0.2  , -0.194,\n",
       "       -0.188, -0.182, -0.176, -0.17 , -0.164, -0.158, -0.152, -0.146,\n",
       "       -0.14 , -0.134, -0.128, -0.122, -0.116, -0.11 , -0.104, -0.098,\n",
       "       -0.092, -0.086, -0.08 , -0.074, -0.068, -0.062, -0.056, -0.05 ,\n",
       "       -0.044, -0.038, -0.032, -0.026, -0.02 , -0.014, -0.008, -0.002,\n",
       "        0.004,  0.01 ,  0.016,  0.022,  0.028,  0.034,  0.04 ,  0.046,\n",
       "        0.052,  0.058,  0.064,  0.07 ,  0.076,  0.082,  0.088,  0.094,\n",
       "        0.1  ,  0.106,  0.112,  0.118,  0.124,  0.13 ,  0.136,  0.142,\n",
       "        0.148,  0.154,  0.16 ,  0.166,  0.172,  0.178,  0.184,  0.19 ,\n",
       "        0.196,  0.202,  0.208,  0.214,  0.22 ,  0.226,  0.232,  0.238,\n",
       "        0.244,  0.25 ,  0.256,  0.262,  0.268,  0.274,  0.28 ,  0.286,\n",
       "        0.292,  0.298,  0.304,  0.31 ,  0.316,  0.322,  0.328,  0.334,\n",
       "        0.34 ,  0.346,  0.352,  0.358,  0.364,  0.37 ,  0.376,  0.382,\n",
       "        0.388,  0.394,  0.4  ,  0.406,  0.412,  0.418,  0.424,  0.43 ,\n",
       "        0.436,  0.442,  0.448,  0.454,  0.46 ,  0.466,  0.472,  0.478,\n",
       "        0.484,  0.49 ,  0.496,  0.498,  0.492,  0.486,  0.48 ,  0.474,\n",
       "        0.468,  0.462,  0.456,  0.45 ,  0.444,  0.438,  0.432,  0.426,\n",
       "        0.42 ,  0.414,  0.408,  0.402,  0.396,  0.39 ,  0.384,  0.378,\n",
       "        0.372,  0.366,  0.36 ,  0.354,  0.348,  0.342,  0.336,  0.33 ,\n",
       "        0.324,  0.318,  0.312,  0.306,  0.3  ,  0.294,  0.288,  0.282,\n",
       "        0.276,  0.27 ,  0.264,  0.258,  0.252,  0.246,  0.24 ,  0.234,\n",
       "        0.228,  0.222,  0.216,  0.21 ,  0.204,  0.198,  0.192,  0.186,\n",
       "        0.18 ,  0.174,  0.168,  0.162,  0.156,  0.15 ,  0.144,  0.138,\n",
       "        0.132,  0.126,  0.12 ,  0.114,  0.108,  0.102,  0.096,  0.09 ,\n",
       "        0.084,  0.078,  0.072,  0.066,  0.06 ,  0.054,  0.048,  0.042,\n",
       "        0.036,  0.03 ,  0.024,  0.018,  0.012,  0.006,  0.   , -0.006,\n",
       "       -0.012, -0.018, -0.024, -0.03 , -0.036, -0.042, -0.048, -0.054,\n",
       "       -0.06 , -0.066, -0.072, -0.078, -0.084, -0.09 , -0.096, -0.102,\n",
       "       -0.108, -0.114, -0.12 , -0.126, -0.132, -0.138, -0.144, -0.15 ,\n",
       "       -0.156, -0.162, -0.168, -0.174, -0.18 , -0.186, -0.192, -0.198,\n",
       "       -0.204, -0.21 , -0.216, -0.222, -0.228, -0.234, -0.24 , -0.246,\n",
       "       -0.252, -0.258, -0.264, -0.27 , -0.276, -0.282, -0.288, -0.294,\n",
       "       -0.3  , -0.306, -0.312, -0.318, -0.324, -0.33 , -0.336, -0.342,\n",
       "       -0.348, -0.354, -0.36 , -0.366, -0.372, -0.378, -0.384, -0.39 ,\n",
       "       -0.396, -0.402, -0.408, -0.414, -0.42 , -0.426, -0.432, -0.438,\n",
       "       -0.444, -0.45 , -0.456, -0.462, -0.468, -0.474, -0.48 , -0.486,\n",
       "       -0.492, -0.498, -0.496, -0.49 , -0.484, -0.478, -0.472, -0.466,\n",
       "       -0.46 , -0.454, -0.448, -0.442, -0.436, -0.43 , -0.424, -0.418,\n",
       "       -0.412, -0.406, -0.4  , -0.394, -0.388, -0.382, -0.376, -0.37 ,\n",
       "       -0.364, -0.358, -0.352, -0.346, -0.34 , -0.334, -0.328, -0.322,\n",
       "       -0.316, -0.31 , -0.304, -0.298, -0.292, -0.286, -0.28 , -0.274,\n",
       "       -0.268, -0.262, -0.256, -0.25 , -0.244, -0.238, -0.232, -0.226,\n",
       "       -0.22 , -0.214, -0.208, -0.202, -0.196, -0.19 , -0.184, -0.178,\n",
       "       -0.172, -0.166, -0.16 , -0.154, -0.148, -0.142, -0.136, -0.13 ,\n",
       "       -0.124, -0.118, -0.112, -0.106, -0.1  , -0.094, -0.088, -0.082,\n",
       "       -0.076, -0.07 , -0.064, -0.058, -0.052, -0.046, -0.04 , -0.034,\n",
       "       -0.028, -0.022, -0.016, -0.01 , -0.004,  0.002,  0.008,  0.014,\n",
       "        0.02 ,  0.026,  0.032,  0.038,  0.044,  0.05 ,  0.056,  0.062,\n",
       "        0.068,  0.074,  0.08 ,  0.086,  0.092,  0.098,  0.104,  0.11 ,\n",
       "        0.116,  0.122,  0.128,  0.134,  0.14 ,  0.146,  0.152,  0.158,\n",
       "        0.164,  0.17 ,  0.176,  0.182,  0.188,  0.194,  0.2  ,  0.206,\n",
       "        0.212,  0.218,  0.224,  0.23 ,  0.236,  0.242,  0.248,  0.254,\n",
       "        0.26 ,  0.266,  0.272,  0.278,  0.284,  0.29 ,  0.296,  0.302,\n",
       "        0.308,  0.314,  0.32 ,  0.326,  0.332,  0.338,  0.344,  0.35 ,\n",
       "        0.356,  0.362,  0.368,  0.374,  0.38 ,  0.386,  0.392,  0.398,\n",
       "        0.404,  0.41 ,  0.416,  0.422,  0.428,  0.434,  0.44 ,  0.446,\n",
       "        0.452,  0.458,  0.464,  0.47 ,  0.476,  0.482,  0.488,  0.494])"
      ]
     },
     "execution_count": 172,
     "metadata": {},
     "output_type": "execute_result"
    }
   ],
   "source": [
    "import numpy as np\n",
    "import math\n",
    "from scipy import signal\n",
    "\n",
    "# data = np.array(list(map(lambda x: math.sin(x / 40), range(0, 200))))\n",
    "\n",
    "time=np.arange(0,1,0.001)\n",
    "freq=3\n",
    "data=np.abs(signal.sawtooth(2 * np.pi * freq * time)) - 0.5\n",
    "\n",
    "data"
   ]
  },
  {
   "cell_type": "code",
   "execution_count": 173,
   "metadata": {},
   "outputs": [],
   "source": [
    "def make_windows(X, y, n_window_points):\n",
    "    X_index = X.index\n",
    "    index = 0\n",
    "    \n",
    "    res_X = []\n",
    "    res_y = []\n",
    "\n",
    "    for index in range(0, len(X) - n_window_points - 1):\n",
    "        res_X.append(X.iloc[index:(index + n_window_points)])\n",
    "        res_y.append(y.iloc[index + n_window_points])\n",
    "\n",
    "    return (np.array(res_X), np.array(res_y))"
   ]
  },
  {
   "cell_type": "code",
   "execution_count": 174,
   "metadata": {},
   "outputs": [],
   "source": [
    "N_WINDOW_POINTS = 6"
   ]
  },
  {
   "cell_type": "code",
   "execution_count": 175,
   "metadata": {},
   "outputs": [],
   "source": [
    "import pandas as pd\n",
    "\n",
    "(X, y) = make_windows(pd.Series(data), pd.Series(data), N_WINDOW_POINTS)"
   ]
  },
  {
   "cell_type": "code",
   "execution_count": 176,
   "metadata": {
    "scrolled": true
   },
   "outputs": [],
   "source": [
    "import keras\n",
    "from keras.models import Sequential\n",
    "from keras.layers import Dense, Dropout, Activation, Flatten, LSTM, Reshape, GRU\n",
    "from keras.layers import Convolution2D, MaxPooling2D\n",
    "from keras.utils import np_utils"
   ]
  },
  {
   "cell_type": "code",
   "execution_count": 177,
   "metadata": {},
   "outputs": [],
   "source": [
    "# from keras import optimizers\n",
    "\n",
    "# N_WINDOW_POINTS = 6\n",
    "# BATCH_SIZE = 1\n",
    "# N_UNITS = 3\n",
    "\n",
    "\n",
    "# model = Sequential()\n",
    "\n",
    "# model.add(Reshape((N_WINDOW_POINTS, 1), batch_input_shape=(BATCH_SIZE, N_WINDOW_POINTS)))\n",
    "    \n",
    "# model.add(GRU(N_UNITS,\n",
    "#           input_shape=(N_WINDOW_POINTS, 1),\n",
    "#           # batch_input_shape=(BATCH_SIZE, 1),\n",
    "#           stateful=True,\n",
    "#           # reset_after=True,\n",
    "#           recurrent_activation='sigmoid'))\n",
    "#           # return_sequences=True))\n",
    "\n",
    "# # model.add(LSTM(10,\n",
    "# #           input_shape=(1, 1),\n",
    "# #           stateful=True,\n",
    "# #           unit_forget_bias=True))\n",
    "# #           # return_sequences=True))\n",
    "\n",
    "# # model.add(Dropout(1, 0.2))\n",
    "\n",
    "# # model.add(LSTM(24,\n",
    "# #           input_shape=(None, 1),\n",
    "# #           stateful=True))\n",
    "\n",
    "# model.add(Dense(1, activation=None))\n",
    "\n",
    "# adam = optimizers.Adam(lr=0.1)\n",
    "\n",
    "\n",
    "# model.compile(loss='mse', optimizer=adam)"
   ]
  },
  {
   "cell_type": "code",
   "execution_count": 178,
   "metadata": {},
   "outputs": [],
   "source": [
    "N_UNITS = 10\n",
    "n_steps = N_WINDOW_POINTS\n",
    "n_features = 1\n",
    "\n",
    "model = Sequential()\n",
    "# model.add(LSTM(\n",
    "#      10,\n",
    "#      activation='relu',\n",
    "#      stateful=True,\n",
    "#      reset_after=True,\n",
    "#      input_shape=(n_steps, n_features),\n",
    "#      batch_input_shape=(1, n_steps, 1)\n",
    "# ))\n",
    "\n",
    "model.add(GRU(N_UNITS,\n",
    "          input_shape=(N_WINDOW_POINTS, n_features),\n",
    "          # batch_input_shape=(BATCH_SIZE, 1),\n",
    "          stateful=True,\n",
    "          # reset_after=True,\n",
    "          recurrent_activation='sigmoid',\n",
    "          batch_input_shape=(1, n_steps, 1)\n",
    "))\n",
    "          # return_sequences=True))\n",
    "\n",
    "model.add(Dense(1))\n",
    "model.compile(optimizer='adam', loss='mse')"
   ]
  },
  {
   "cell_type": "code",
   "execution_count": 179,
   "metadata": {},
   "outputs": [
    {
     "name": "stdout",
     "output_type": "stream",
     "text": [
      "(993, 6)\n"
     ]
    }
   ],
   "source": [
    "print(X.shape)"
   ]
  },
  {
   "cell_type": "code",
   "execution_count": 180,
   "metadata": {},
   "outputs": [
    {
     "data": {
      "text/plain": [
       "array([[0.5  ],\n",
       "       [0.494],\n",
       "       [0.488],\n",
       "       [0.482],\n",
       "       [0.476],\n",
       "       [0.47 ]])"
      ]
     },
     "execution_count": 180,
     "metadata": {},
     "output_type": "execute_result"
    }
   ],
   "source": [
    "X = X.reshape((X.shape[0], X.shape[1], 1))\n",
    "X[0]"
   ]
  },
  {
   "cell_type": "code",
   "execution_count": 181,
   "metadata": {},
   "outputs": [
    {
     "name": "stdout",
     "output_type": "stream",
     "text": [
      "Epoch 1/10\n",
      "190/190 [==============================] - 3s 15ms/step - loss: 0.0062\n",
      "Epoch 2/10\n",
      "190/190 [==============================] - 1s 3ms/step - loss: 9.0993e-05\n",
      "Epoch 3/10\n",
      "190/190 [==============================] - 1s 3ms/step - loss: 6.8643e-05\n",
      "Epoch 4/10\n",
      "190/190 [==============================] - 1s 3ms/step - loss: 6.5715e-05\n",
      "Epoch 5/10\n",
      "190/190 [==============================] - 1s 3ms/step - loss: 6.2865e-05\n",
      "Epoch 6/10\n",
      "190/190 [==============================] - 1s 3ms/step - loss: 7.8252e-05\n",
      "Epoch 7/10\n",
      "190/190 [==============================] - 1s 3ms/step - loss: 7.6616e-05\n",
      "Epoch 8/10\n",
      "190/190 [==============================] - 1s 3ms/step - loss: 8.3048e-05\n",
      "Epoch 9/10\n",
      "190/190 [==============================] - 1s 3ms/step - loss: 6.5842e-05\n",
      "Epoch 10/10\n",
      "190/190 [==============================] - 1s 3ms/step - loss: 6.4477e-05\n"
     ]
    },
    {
     "data": {
      "text/plain": [
       "<keras.callbacks.History at 0x14db25b70>"
      ]
     },
     "execution_count": 181,
     "metadata": {},
     "output_type": "execute_result"
    }
   ],
   "source": [
    "model.fit(X[:190], y[:190], epochs=10, batch_size=1)"
   ]
  },
  {
   "cell_type": "code",
   "execution_count": 182,
   "metadata": {},
   "outputs": [
    {
     "name": "stdout",
     "output_type": "stream",
     "text": [
      "_________________________________________________________________\n",
      "Layer (type)                 Output Shape              Param #   \n",
      "=================================================================\n",
      "gru_9 (GRU)                  (1, 10)                   360       \n",
      "_________________________________________________________________\n",
      "dense_24 (Dense)             (1, 1)                    11        \n",
      "=================================================================\n",
      "Total params: 371\n",
      "Trainable params: 371\n",
      "Non-trainable params: 0\n",
      "_________________________________________________________________\n"
     ]
    }
   ],
   "source": [
    "model.summary()"
   ]
  },
  {
   "cell_type": "code",
   "execution_count": 183,
   "metadata": {},
   "outputs": [
    {
     "name": "stdout",
     "output_type": "stream",
     "text": [
      "[[0.45595512]]\n"
     ]
    }
   ],
   "source": [
    "x_input = array([0.1, 0.2, 0.3, 0.4, 0.5, 0.6])\n",
    "x_input = x_input.reshape((1, n_steps, n_features))\n",
    "yhat = model.predict(x_input, verbose=0)\n",
    "print(yhat)"
   ]
  },
  {
   "cell_type": "code",
   "execution_count": 186,
   "metadata": {},
   "outputs": [
    {
     "name": "stdout",
     "output_type": "stream",
     "text": [
      "[[0.21442367]]\n"
     ]
    }
   ],
   "source": [
    "x_input = np.flip(array([0.1, 0.2, 0.3, 0.4, 0.5, 0.6]))\n",
    "x_input = x_input.reshape((1, n_steps, n_features))\n",
    "yhat = model.predict(x_input, verbose=0)\n",
    "print(yhat)"
   ]
  },
  {
   "cell_type": "code",
   "execution_count": 187,
   "metadata": {},
   "outputs": [
    {
     "data": {
      "text/plain": [
       "Text(0, 0.5, 'value')"
      ]
     },
     "execution_count": 187,
     "metadata": {},
     "output_type": "execute_result"
    },
    {
     "data": {
      "image/png": "[encoded data removed]",
      "text/plain": [
       "<Figure size 1152x576 with 1 Axes>"
      ]
     },
     "metadata": {
      "needs_background": "light"
     },
     "output_type": "display_data"
    }
   ],
   "source": [
    "from matplotlib import pyplot as plt\n",
    "\n",
    "from scipy.signal import savgol_filter\n",
    "\n",
    "(fig, ax) = plt.subplots(figsize=(16, 8))\n",
    "\n",
    "I = 100\n",
    "\n",
    "(pd.Series(y)).plot.line(ax=ax, label='target')\n",
    "\n",
    "# pd.Series(normalize(np.array(list(map(lambda w: w[-1], X_tr_f[:I]))))).plot.line(ax=ax, label='feature')\n",
    "pred = pd.Series(model.predict(X, batch_size=1).flatten())\n",
    "\n",
    "pred.plot.line(label='predicted')\n",
    "\n",
    "\n",
    "# pd.Series(savgol_filter(pred, 5, 3)).plot.line(ax=ax, label='savgol(predicted)')\n",
    "\n",
    "ax.legend(loc=\"upper right\")\n",
    "ax.set_xlabel('index')\n",
    "ax.set_ylabel('value')"
   ]
  },
  {
   "cell_type": "code",
   "execution_count": null,
   "metadata": {},
   "outputs": [],
   "source": []
  },
  {
   "cell_type": "code",
   "execution_count": 147,
   "metadata": {},
   "outputs": [
    {
     "name": "stdout",
     "output_type": "stream",
     "text": [
      "[[10 20 30]\n",
      " [20 30 40]\n",
      " [30 40 50]\n",
      " [40 50 60]\n",
      " [50 60 70]\n",
      " [60 70 80]]\n",
      "[[102.737236]]\n"
     ]
    }
   ],
   "source": [
    "from numpy import array\n",
    "from keras.models import Sequential\n",
    "from keras.layers import LSTM\n",
    "from keras.layers import Dense\n",
    " \n",
    "# split a univariate sequence\n",
    "def split_sequence(sequence, n_steps):\n",
    "\tX, y = list(), list()\n",
    "\tfor i in range(len(sequence)):\n",
    "\t\t# find the end of this pattern\n",
    "\t\tend_ix = i + n_steps\n",
    "\t\t# check if we are beyond the sequence\n",
    "\t\tif end_ix > len(sequence)-1:\n",
    "\t\t\tbreak\n",
    "\t\t# gather input and output parts of the pattern\n",
    "\t\tseq_x, seq_y = sequence[i:end_ix], sequence[end_ix]\n",
    "\t\tX.append(seq_x)\n",
    "\t\ty.append(seq_y)\n",
    "\treturn array(X), array(y)\n",
    " \n",
    "# define input sequence\n",
    "raw_seq = [10, 20, 30, 40, 50, 60, 70, 80, 90]\n",
    "# choose a number of time steps\n",
    "n_steps = 3\n",
    "# split into samples\n",
    "X, y = split_sequence(raw_seq, n_steps)\n",
    "# reshape from [samples, timesteps] into [samples, timesteps, features]\n",
    "n_features = 1\n",
    "\n",
    "X = X.reshape((X.shape[0], X.shape[1], n_features))\n",
    "\n",
    "# define model\n",
    "model = Sequential()\n",
    "model.add(LSTM(50, activation='relu', return_sequences=True, input_shape=(n_steps, n_features)))\n",
    "model.add(LSTM(50, activation='relu'))\n",
    "model.add(Dense(1))\n",
    "model.compile(optimizer='adam', loss='mse')\n",
    "# fit model\n",
    "model.fit(X, y, epochs=200, verbose=0)\n",
    "# demonstrate prediction\n",
    "x_input = array([70, 80, 90])\n",
    "x_input = x_input.reshape((1, n_steps, n_features))\n",
    "yhat = model.predict(x_input, verbose=0)\n",
    "print(yhat)"
   ]
  },
  {
   "cell_type": "code",
   "execution_count": null,
   "metadata": {},
   "outputs": [],
   "source": []
  }
 ],
 "metadata": {
  "kernelspec": {
   "display_name": "Python 3",
   "language": "python",
   "name": "python3"
  },
  "language_info": {
   "codemirror_mode": {
    "name": "ipython",
    "version": 3
   },
   "file_extension": ".py",
   "mimetype": "text/x-python",
   "name": "python",
   "nbconvert_exporter": "python",
   "pygments_lexer": "ipython3",
   "version": "3.7.3"
  }
 },
 "nbformat": 4,
 "nbformat_minor": 2
}
