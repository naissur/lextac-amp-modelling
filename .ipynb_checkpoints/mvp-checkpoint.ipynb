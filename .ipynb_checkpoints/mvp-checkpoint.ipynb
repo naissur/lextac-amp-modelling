{
 "cells": [
  {
   "cell_type": "code",
   "execution_count": 1,
   "metadata": {},
   "outputs": [],
   "source": [
    "from scipy.io import wavfile\n",
    "\n",
    "(source_fs, source_data) = wavfile.read('./data/01_source.wav')\n",
    "(target_fs, target_data) = wavfile.read('./data/01_peak_compressor.wav')\n"
   ]
  },
  {
   "cell_type": "code",
   "execution_count": 2,
   "metadata": {},
   "outputs": [],
   "source": [
    "import pandas as pd"
   ]
  },
  {
   "cell_type": "code",
   "execution_count": 3,
   "metadata": {},
   "outputs": [
    {
     "data": {
      "text/html": [
       "<div>\n",
       "<style scoped>\n",
       "    .dataframe tbody tr th:only-of-type {\n",
       "        vertical-align: middle;\n",
       "    }\n",
       "\n",
       "    .dataframe tbody tr th {\n",
       "        vertical-align: top;\n",
       "    }\n",
       "\n",
       "    .dataframe thead th {\n",
       "        text-align: right;\n",
       "    }\n",
       "</style>\n",
       "<table border=\"1\" class=\"dataframe\">\n",
       "  <thead>\n",
       "    <tr style=\"text-align: right;\">\n",
       "      <th></th>\n",
       "      <th>L</th>\n",
       "      <th>R</th>\n",
       "    </tr>\n",
       "  </thead>\n",
       "  <tbody>\n",
       "    <tr>\n",
       "      <th>0</th>\n",
       "      <td>1</td>\n",
       "      <td>-1</td>\n",
       "    </tr>\n",
       "    <tr>\n",
       "      <th>1</th>\n",
       "      <td>-5</td>\n",
       "      <td>-6</td>\n",
       "    </tr>\n",
       "    <tr>\n",
       "      <th>2</th>\n",
       "      <td>-11</td>\n",
       "      <td>-12</td>\n",
       "    </tr>\n",
       "    <tr>\n",
       "      <th>3</th>\n",
       "      <td>-18</td>\n",
       "      <td>-17</td>\n",
       "    </tr>\n",
       "    <tr>\n",
       "      <th>4</th>\n",
       "      <td>-24</td>\n",
       "      <td>-24</td>\n",
       "    </tr>\n",
       "  </tbody>\n",
       "</table>\n",
       "</div>"
      ],
      "text/plain": [
       "    L   R\n",
       "0   1  -1\n",
       "1  -5  -6\n",
       "2 -11 -12\n",
       "3 -18 -17\n",
       "4 -24 -24"
      ]
     },
     "execution_count": 3,
     "metadata": {},
     "output_type": "execute_result"
    }
   ],
   "source": [
    "source_df = pd.DataFrame(source_data, columns=['L', 'R'])\n",
    "source_df.head()"
   ]
  },
  {
   "cell_type": "code",
   "execution_count": 4,
   "metadata": {},
   "outputs": [
    {
     "data": {
      "text/html": [
       "<div>\n",
       "<style scoped>\n",
       "    .dataframe tbody tr th:only-of-type {\n",
       "        vertical-align: middle;\n",
       "    }\n",
       "\n",
       "    .dataframe tbody tr th {\n",
       "        vertical-align: top;\n",
       "    }\n",
       "\n",
       "    .dataframe thead th {\n",
       "        text-align: right;\n",
       "    }\n",
       "</style>\n",
       "<table border=\"1\" class=\"dataframe\">\n",
       "  <thead>\n",
       "    <tr style=\"text-align: right;\">\n",
       "      <th></th>\n",
       "      <th>L</th>\n",
       "      <th>R</th>\n",
       "    </tr>\n",
       "  </thead>\n",
       "  <tbody>\n",
       "    <tr>\n",
       "      <th>0</th>\n",
       "      <td>-1</td>\n",
       "      <td>0</td>\n",
       "    </tr>\n",
       "    <tr>\n",
       "      <th>1</th>\n",
       "      <td>-37</td>\n",
       "      <td>-37</td>\n",
       "    </tr>\n",
       "    <tr>\n",
       "      <th>2</th>\n",
       "      <td>-81</td>\n",
       "      <td>-81</td>\n",
       "    </tr>\n",
       "    <tr>\n",
       "      <th>3</th>\n",
       "      <td>-128</td>\n",
       "      <td>-128</td>\n",
       "    </tr>\n",
       "    <tr>\n",
       "      <th>4</th>\n",
       "      <td>-177</td>\n",
       "      <td>-178</td>\n",
       "    </tr>\n",
       "  </tbody>\n",
       "</table>\n",
       "</div>"
      ],
      "text/plain": [
       "     L    R\n",
       "0   -1    0\n",
       "1  -37  -37\n",
       "2  -81  -81\n",
       "3 -128 -128\n",
       "4 -177 -178"
      ]
     },
     "execution_count": 4,
     "metadata": {},
     "output_type": "execute_result"
    }
   ],
   "source": [
    "target_df = pd.DataFrame(target_data, columns=['L', 'R'])\n",
    "target_df.head()"
   ]
  },
  {
   "cell_type": "code",
   "execution_count": 5,
   "metadata": {},
   "outputs": [
    {
     "data": {
      "text/plain": [
       "(10790, 16537)"
      ]
     },
     "execution_count": 5,
     "metadata": {},
     "output_type": "execute_result"
    }
   ],
   "source": [
    "source_df['L'].max(), target_df['L'].max()"
   ]
  },
  {
   "cell_type": "code",
   "execution_count": 6,
   "metadata": {},
   "outputs": [
    {
     "data": {
      "text/plain": [
       "32768"
      ]
     },
     "execution_count": 6,
     "metadata": {},
     "output_type": "execute_result"
    }
   ],
   "source": [
    "2 ** 15"
   ]
  },
  {
   "cell_type": "code",
   "execution_count": 7,
   "metadata": {},
   "outputs": [
    {
     "data": {
      "text/plain": [
       "32767"
      ]
     },
     "execution_count": 7,
     "metadata": {},
     "output_type": "execute_result"
    }
   ],
   "source": [
    "MAX_VALUE = 2 ** 15 - 1\n",
    "MAX_VALUE"
   ]
  },
  {
   "cell_type": "code",
   "execution_count": null,
   "metadata": {},
   "outputs": [],
   "source": []
  },
  {
   "cell_type": "code",
   "execution_count": 8,
   "metadata": {},
   "outputs": [
    {
     "data": {
      "text/plain": [
       "(1302647, 1302647)"
      ]
     },
     "execution_count": 8,
     "metadata": {},
     "output_type": "execute_result"
    }
   ],
   "source": [
    "len(source_df), len(target_df)"
   ]
  },
  {
   "cell_type": "code",
   "execution_count": 9,
   "metadata": {},
   "outputs": [
    {
     "data": {
      "text/plain": [
       "1042100"
      ]
     },
     "execution_count": 9,
     "metadata": {},
     "output_type": "execute_result"
    }
   ],
   "source": [
    "# END_LOC = int(len(target_df) * 0.8)\n",
    "TR_END_LOC = int(len(target_df) * 0.8 / 100) * 100\n",
    "TR_END_LOC"
   ]
  },
  {
   "cell_type": "markdown",
   "metadata": {},
   "source": [
    "## IT'S MONO"
   ]
  },
  {
   "cell_type": "code",
   "execution_count": 10,
   "metadata": {},
   "outputs": [
    {
     "data": {
      "text/plain": [
       "1042100"
      ]
     },
     "execution_count": 10,
     "metadata": {},
     "output_type": "execute_result"
    }
   ],
   "source": [
    "X_train_raw = source_df['L'][:TR_END_LOC]\n",
    "len(X_train_raw)"
   ]
  },
  {
   "cell_type": "code",
   "execution_count": 11,
   "metadata": {},
   "outputs": [
    {
     "data": {
      "text/plain": [
       "260547"
      ]
     },
     "execution_count": 11,
     "metadata": {},
     "output_type": "execute_result"
    }
   ],
   "source": [
    "X_test_raw = source_df['L'][TR_END_LOC:]\n",
    "len(X_test_raw)"
   ]
  },
  {
   "cell_type": "code",
   "execution_count": 12,
   "metadata": {},
   "outputs": [
    {
     "data": {
      "text/plain": [
       "1042100"
      ]
     },
     "execution_count": 12,
     "metadata": {},
     "output_type": "execute_result"
    }
   ],
   "source": [
    "y_train_raw = target_df['L'][:TR_END_LOC]\n",
    "len(y_train_raw)"
   ]
  },
  {
   "cell_type": "code",
   "execution_count": 13,
   "metadata": {},
   "outputs": [
    {
     "data": {
      "text/plain": [
       "260547"
      ]
     },
     "execution_count": 13,
     "metadata": {},
     "output_type": "execute_result"
    }
   ],
   "source": [
    "y_test_raw = target_df['L'][TR_END_LOC:]\n",
    "len(y_test_raw)"
   ]
  },
  {
   "cell_type": "code",
   "execution_count": 14,
   "metadata": {},
   "outputs": [
    {
     "data": {
      "text/plain": [
       "1042100    3458\n",
       "1042101    3469\n",
       "1042102    3479\n",
       "1042103    3485\n",
       "1042104    3490\n",
       "1042105    3491\n",
       "1042106    3489\n",
       "1042107    3485\n",
       "1042108    3479\n",
       "1042109    3471\n",
       "Name: L, dtype: int16"
      ]
     },
     "execution_count": 14,
     "metadata": {},
     "output_type": "execute_result"
    }
   ],
   "source": [
    "X_test_raw.iloc[:10]"
   ]
  },
  {
   "cell_type": "code",
   "execution_count": 15,
   "metadata": {},
   "outputs": [],
   "source": [
    "# safe-checking data"
   ]
  },
  {
   "cell_type": "code",
   "execution_count": 16,
   "metadata": {},
   "outputs": [],
   "source": [
    "# y_train_raw = -y_train_raw + 4000\n",
    "# y_train_raw.iloc[0]"
   ]
  },
  {
   "cell_type": "code",
   "execution_count": 17,
   "metadata": {},
   "outputs": [],
   "source": [
    "# y_test_raw = -y_test_raw + 4000\n",
    "# y_test_raw.iloc[0]"
   ]
  },
  {
   "cell_type": "markdown",
   "metadata": {},
   "source": [
    "## Preparing data for processing"
   ]
  },
  {
   "cell_type": "code",
   "execution_count": 18,
   "metadata": {},
   "outputs": [],
   "source": [
    "def normalize_keeping_mean(arr, forced_abs=None):\n",
    "    left_abs = np.abs(arr.mean() - arr.min())\n",
    "    right_abs = np.abs(arr.max() - arr.mean())\n",
    "    \n",
    "    n = max(left_abs, right_abs)\n",
    "    \n",
    "    if (forced_abs is not None):\n",
    "        n = forced_abs\n",
    "    \n",
    "    return np.clip(arr / n, -1.0, 1.0)"
   ]
  },
  {
   "cell_type": "code",
   "execution_count": 19,
   "metadata": {},
   "outputs": [],
   "source": [
    "def normalize(arr, forced_abs=None, mean=None):\n",
    "    left_abs = np.abs(arr.mean() - arr.min())\n",
    "    right_abs = np.abs(arr.max() - arr.mean())\n",
    "    \n",
    "    n = max(left_abs, right_abs)\n",
    "    \n",
    "    if (forced_abs is not None):\n",
    "        n = forced_abs\n",
    "        \n",
    "    if (mean is None):\n",
    "        mean = arr.mean()\n",
    "    \n",
    "    \n",
    "    return np.clip((arr - mean) / n, -1.0, 1.0)"
   ]
  },
  {
   "cell_type": "code",
   "execution_count": 20,
   "metadata": {},
   "outputs": [
    {
     "data": {
      "text/plain": [
       "(-0.30961027863399154, 0.3292947172460097, 5.524491569495269e-06)"
      ]
     },
     "execution_count": 20,
     "metadata": {},
     "output_type": "execute_result"
    }
   ],
   "source": [
    "import numpy as np\n",
    "\n",
    "X_tr = np.array(list(map(lambda x: np.array(x), X_train_raw)))\n",
    "X_tr_n = normalize(X_tr, forced_abs=MAX_VALUE, mean=0.0)\n",
    "X_tr_n.min(), X_tr_n.max(), np.mean(X_tr_n)"
   ]
  },
  {
   "cell_type": "code",
   "execution_count": 21,
   "metadata": {},
   "outputs": [
    {
     "data": {
      "text/plain": [
       "(-0.1662038026062807, 0.2346873378704184, 1.2222185906085745e-05)"
      ]
     },
     "execution_count": 21,
     "metadata": {},
     "output_type": "execute_result"
    }
   ],
   "source": [
    "X_te = np.array(list(map(lambda x: np.array(x), X_test_raw)))\n",
    "X_te_n= normalize(X_te, forced_abs=MAX_VALUE, mean=0.0)\n",
    "X_te_n.min(), X_te_n.max(), np.mean(X_te_n)"
   ]
  },
  {
   "cell_type": "code",
   "execution_count": 22,
   "metadata": {},
   "outputs": [
    {
     "data": {
      "text/plain": [
       "(-0.3057954649494919, 0.5046845912045655, -0.0002333393516189353)"
      ]
     },
     "execution_count": 22,
     "metadata": {},
     "output_type": "execute_result"
    }
   ],
   "source": [
    "y_tr = np.array(list(map(lambda x: np.array(x), y_train_raw)))\n",
    "y_tr_n = normalize(y_tr, forced_abs=MAX_VALUE, mean=0.0)\n",
    "y_tr_n.min(), y_tr_n.max(), np.mean(y_tr_n)"
   ]
  },
  {
   "cell_type": "code",
   "execution_count": 23,
   "metadata": {},
   "outputs": [
    {
     "data": {
      "text/plain": [
       "(-0.2708517715994751, 0.43766594439527573, -2.5239466909497803e-05)"
      ]
     },
     "execution_count": 23,
     "metadata": {},
     "output_type": "execute_result"
    }
   ],
   "source": [
    "y_te = np.array(list(map(lambda x: np.array(x), y_test_raw)))\n",
    "y_te_n = normalize(y_te, forced_abs=MAX_VALUE, mean=0.0)\n",
    "y_te_n.min(), y_te_n.max(), np.mean(y_te_n)"
   ]
  },
  {
   "cell_type": "code",
   "execution_count": 24,
   "metadata": {},
   "outputs": [],
   "source": [
    "X_tr_n = X_tr_n.astype('float32')\n",
    "X_te_n = X_te_n.astype('float32')\n",
    "y_tr_n = y_tr_n.astype('float32')\n",
    "y_te_n = y_te_n.astype('float32')"
   ]
  },
  {
   "cell_type": "code",
   "execution_count": 25,
   "metadata": {
    "scrolled": false
   },
   "outputs": [
    {
     "data": {
      "text/plain": [
       "<matplotlib.axes._subplots.AxesSubplot at 0x1291136d8>"
      ]
     },
     "execution_count": 25,
     "metadata": {},
     "output_type": "execute_result"
    }
   ],
   "source": [
    "pd.Series(X_tr_n[:800]).plot.line(figsize=(16, 8))"
   ]
  },
  {
   "cell_type": "code",
   "execution_count": 26,
   "metadata": {},
   "outputs": [
    {
     "data": {
      "text/plain": [
       "<matplotlib.axes._subplots.AxesSubplot at 0x129cb67f0>"
      ]
     },
     "execution_count": 26,
     "metadata": {},
     "output_type": "execute_result"
    },
    {
     "data": {
      "image/png": "[encoded data removed]",
      "text/plain": [
       "<Figure size 1152x576 with 1 Axes>"
      ]
     },
     "metadata": {
      "needs_background": "light"
     },
     "output_type": "display_data"
    }
   ],
   "source": [
    "pd.Series(y_tr_n[:800]).plot.line(figsize=(16, 8))"
   ]
  },
  {
   "cell_type": "code",
   "execution_count": 27,
   "metadata": {},
   "outputs": [
    {
     "data": {
      "text/plain": [
       "(-0.1662038, 0.23468734, 1.2222178e-05)"
      ]
     },
     "execution_count": 27,
     "metadata": {},
     "output_type": "execute_result"
    }
   ],
   "source": [
    "\n",
    "X_te_n.min(), X_te_n.max(), np.mean(X_te_n)"
   ]
  },
  {
   "cell_type": "code",
   "execution_count": 28,
   "metadata": {},
   "outputs": [
    {
     "data": {
      "text/plain": [
       "<matplotlib.axes._subplots.AxesSubplot at 0x129d01c88>"
      ]
     },
     "execution_count": 28,
     "metadata": {},
     "output_type": "execute_result"
    },
    {
     "data": {
      "image/png": "[encoded data removed]",
      "text/plain": [
       "<Figure size 1152x576 with 1 Axes>"
      ]
     },
     "metadata": {
      "needs_background": "light"
     },
     "output_type": "display_data"
    }
   ],
   "source": [
    "pd.Series(X_te_n[:800]).plot.line(figsize=(16, 8))"
   ]
  },
  {
   "cell_type": "code",
   "execution_count": 29,
   "metadata": {
    "scrolled": true
   },
   "outputs": [
    {
     "data": {
      "text/plain": [
       "<matplotlib.axes._subplots.AxesSubplot at 0x129d85898>"
      ]
     },
     "execution_count": 29,
     "metadata": {},
     "output_type": "execute_result"
    },
    {
     "data": {
      "image/png": "[encoded data removed]",
      "text/plain": [
       "<Figure size 1152x576 with 1 Axes>"
      ]
     },
     "metadata": {
      "needs_background": "light"
     },
     "output_type": "display_data"
    }
   ],
   "source": [
    "pd.Series(y_te_n[:800]).plot.line(figsize=(16, 8))"
   ]
  },
  {
   "cell_type": "code",
   "execution_count": null,
   "metadata": {},
   "outputs": [],
   "source": []
  },
  {
   "cell_type": "code",
   "execution_count": 30,
   "metadata": {},
   "outputs": [],
   "source": [
    "# appending stats of the whole sample, fading from silence"
   ]
  },
  {
   "cell_type": "code",
   "execution_count": 31,
   "metadata": {},
   "outputs": [],
   "source": [
    "# train_shuffle_index = np.random.shuffle(np.arange(0, len(X_tr_n)))\n",
    "# test_shuffle_index = np.random.shuffle(np.arange(0, len(X_te_n)))\n",
    "\n",
    "# X_tr_f = X_tr_n[train_shuffle_index][0]\n",
    "# y_tr_f = y_tr_n[train_shuffle_index][0]\n",
    "\n",
    "# X_te_f = X_te_n[test_shuffle_index][0]\n",
    "# y_te_f = y_te_n[test_shuffle_index][0]"
   ]
  },
  {
   "cell_type": "markdown",
   "metadata": {},
   "source": [
    "## Making windows"
   ]
  },
  {
   "cell_type": "code",
   "execution_count": 187,
   "metadata": {},
   "outputs": [
    {
     "data": {
      "text/plain": [
       "64"
      ]
     },
     "execution_count": 187,
     "metadata": {},
     "output_type": "execute_result"
    }
   ],
   "source": [
    "# N_WINDOW_POINTS = int(source_clean_fs * 0.02)\n",
    "N_WINDOW_POINTS = 64\n",
    "N_WINDOW_POINTS"
   ]
  },
  {
   "cell_type": "code",
   "execution_count": 444,
   "metadata": {},
   "outputs": [
    {
     "data": {
      "text/plain": [
       "8000"
      ]
     },
     "execution_count": 444,
     "metadata": {},
     "output_type": "execute_result"
    }
   ],
   "source": [
    "N_SAMPLES = 8000\n",
    "N_SAMPLES"
   ]
  },
  {
   "cell_type": "code",
   "execution_count": 445,
   "metadata": {},
   "outputs": [],
   "source": [
    "def make_windows(X, y, n_window_points):\n",
    "    X_index = X.index\n",
    "    index = 0\n",
    "    \n",
    "    res_X = []\n",
    "    res_y = []\n",
    "\n",
    "    for index in range(0, len(X) - n_window_points - 1):\n",
    "        res_X.append(X.iloc[index:(index + n_window_points)])\n",
    "#         res_y.append(y.iloc[index + n_window_points])\n",
    "        res_y.append(y.iloc[index + n_window_points - 1])\n",
    "\n",
    "    return (np.array(res_X), np.array(res_y))"
   ]
  },
  {
   "cell_type": "code",
   "execution_count": 446,
   "metadata": {},
   "outputs": [
    {
     "name": "stdout",
     "output_type": "stream",
     "text": [
      "(8000, array([ 3.05185094e-05, -1.52592547e-04, -3.35703604e-04, -5.49333170e-04,\n",
      "       -7.32444227e-04, -9.15555283e-04, -1.12918485e-03, -1.40385143e-03,\n",
      "       -1.61748100e-03, -1.86162908e-03, -2.10577715e-03, -2.38044374e-03,\n",
      "       -2.59407330e-03, -2.80770287e-03, -3.02133244e-03, -3.23496200e-03,\n",
      "       -3.38755455e-03, -3.54014710e-03, -3.75377666e-03, -3.93688772e-03,\n",
      "       -4.08948027e-03, -4.21155430e-03, -4.30310983e-03, -4.39466536e-03,\n",
      "       -4.45570238e-03, -4.57777642e-03, -4.69985045e-03, -4.79140598e-03,\n",
      "       -4.94399853e-03, -5.06607257e-03, -5.31022064e-03, -5.52385021e-03,\n",
      "       -5.85955381e-03, -6.50044251e-03, -7.14133121e-03, -7.87377544e-03,\n",
      "       -8.54518265e-03, -9.27762687e-03, -9.94903408e-03, -1.06814783e-02,\n",
      "       -1.12918485e-02, -1.18717002e-02, -1.24820704e-02, -1.30619220e-02,\n",
      "       -1.36722922e-02, -1.42216254e-02, -1.47404401e-02, -1.51982177e-02,\n",
      "       -1.55949583e-02, -1.58391073e-02, -1.59306619e-02, -1.58391073e-02,\n",
      "       -1.55949583e-02, -1.51982177e-02, -1.46183660e-02, -1.38859218e-02,\n",
      "       -1.30314035e-02, -1.21158483e-02, -1.11392559e-02, -1.01931822e-02,\n",
      "       -9.24710836e-03, -8.51466414e-03, -7.93481246e-03, -7.59910885e-03],\n",
      "      dtype=float32), -0.054567095)\n",
      "CPU times: user 1.19 s, sys: 39.6 ms, total: 1.22 s\n",
      "Wall time: 1.32 s\n"
     ]
    }
   ],
   "source": [
    "%%time\n",
    "(X_tr_f, y_tr_f) = make_windows(\n",
    "    pd.Series(X_tr_n[:(N_SAMPLES + N_WINDOW_POINTS + 1)]),\n",
    "    pd.Series(y_tr_n[:(N_SAMPLES + N_WINDOW_POINTS + 1)]),\n",
    "    N_WINDOW_POINTS)\n",
    "print((len(X_tr_f), X_tr_f[0], y_tr_f[0]))"
   ]
  },
  {
   "cell_type": "code",
   "execution_count": 447,
   "metadata": {},
   "outputs": [
    {
     "data": {
      "text/plain": [
       "(array([-0.00015259, -0.0003357 , -0.00054933, -0.00073244, -0.00091556,\n",
       "        -0.00112918, -0.00140385, -0.00161748, -0.00186163, -0.00210578,\n",
       "        -0.00238044, -0.00259407, -0.0028077 , -0.00302133, -0.00323496,\n",
       "        -0.00338755, -0.00354015, -0.00375378, -0.00393689, -0.00408948,\n",
       "        -0.00421155, -0.00430311, -0.00439467, -0.0044557 , -0.00457778,\n",
       "        -0.00469985, -0.00479141, -0.004944  , -0.00506607, -0.00531022,\n",
       "        -0.00552385, -0.00585955, -0.00650044, -0.00714133, -0.00787378,\n",
       "        -0.00854518, -0.00927763, -0.00994903, -0.01068148, -0.01129185,\n",
       "        -0.0118717 , -0.01248207, -0.01306192, -0.01367229, -0.01422163,\n",
       "        -0.01474044, -0.01519822, -0.01559496, -0.01583911, -0.01593066,\n",
       "        -0.01583911, -0.01559496, -0.01519822, -0.01461837, -0.01388592,\n",
       "        -0.0130314 , -0.01211585, -0.01113926, -0.01019318, -0.00924711,\n",
       "        -0.00851466, -0.00793481, -0.00759911, -0.00747703], dtype=float32),\n",
       " -0.053773616)"
      ]
     },
     "execution_count": 447,
     "metadata": {},
     "output_type": "execute_result"
    }
   ],
   "source": [
    "X_tr_f[1], y_tr_f[1]"
   ]
  },
  {
   "cell_type": "code",
   "execution_count": 448,
   "metadata": {},
   "outputs": [
    {
     "name": "stdout",
     "output_type": "stream",
     "text": [
      "(8000, array([0.105533  , 0.10586871, 0.1061739 , 0.10635701, 0.1065096 ,\n",
      "       0.10654011, 0.10647908, 0.10635701, 0.1061739 , 0.10592975,\n",
      "       0.105533  , 0.10507523, 0.10455641, 0.10391553, 0.1032136 ,\n",
      "       0.10242012, 0.10153508, 0.10058901, 0.09955138, 0.09839167,\n",
      "       0.09720145, 0.09588916, 0.09454634, 0.09305093, 0.09155553,\n",
      "       0.08990753, 0.08822901, 0.08648945, 0.08465835, 0.0827662 ,\n",
      "       0.08084353, 0.07882931, 0.07672353, 0.07458724, 0.07238991,\n",
      "       0.07016205, 0.06787317, 0.06552324, 0.0631428 , 0.06073184,\n",
      "       0.05829035, 0.05578784, 0.05328532, 0.0507828 , 0.04821924,\n",
      "       0.04565569, 0.04306162, 0.04049806, 0.03790399, 0.03530991,\n",
      "       0.03277688, 0.03021332, 0.02764977, 0.02517777, 0.02264473,\n",
      "       0.02023377, 0.01782281, 0.01544237, 0.01312296, 0.01083407,\n",
      "       0.00860622, 0.00640889, 0.00424207, 0.00219733], dtype=float32), 0.0045777764)\n",
      "CPU times: user 1.24 s, sys: 42.3 ms, total: 1.28 s\n",
      "Wall time: 1.4 s\n"
     ]
    }
   ],
   "source": [
    "%%time\n",
    "(X_te_f, y_te_f) = make_windows(\n",
    "    pd.Series(X_te_n[:(N_SAMPLES + N_WINDOW_POINTS + 1)]),\n",
    "    pd.Series(y_te_n[:(N_SAMPLES + N_WINDOW_POINTS + 1)]),\n",
    "    N_WINDOW_POINTS\n",
    ")\n",
    "print((len(X_te_f), X_te_f[0], y_te_f[0]))"
   ]
  },
  {
   "cell_type": "code",
   "execution_count": 449,
   "metadata": {},
   "outputs": [
    {
     "data": {
      "text/plain": [
       "(array([0.10586871, 0.1061739 , 0.10635701, 0.1065096 , 0.10654011,\n",
       "        0.10647908, 0.10635701, 0.1061739 , 0.10592975, 0.105533  ,\n",
       "        0.10507523, 0.10455641, 0.10391553, 0.1032136 , 0.10242012,\n",
       "        0.10153508, 0.10058901, 0.09955138, 0.09839167, 0.09720145,\n",
       "        0.09588916, 0.09454634, 0.09305093, 0.09155553, 0.08990753,\n",
       "        0.08822901, 0.08648945, 0.08465835, 0.0827662 , 0.08084353,\n",
       "        0.07882931, 0.07672353, 0.07458724, 0.07238991, 0.07016205,\n",
       "        0.06787317, 0.06552324, 0.0631428 , 0.06073184, 0.05829035,\n",
       "        0.05578784, 0.05328532, 0.0507828 , 0.04821924, 0.04565569,\n",
       "        0.04306162, 0.04049806, 0.03790399, 0.03530991, 0.03277688,\n",
       "        0.03021332, 0.02764977, 0.02517777, 0.02264473, 0.02023377,\n",
       "        0.01782281, 0.01544237, 0.01312296, 0.01083407, 0.00860622,\n",
       "        0.00640889, 0.00424207, 0.00219733, 0.00015259], dtype=float32),\n",
       " 0.0003357036)"
      ]
     },
     "execution_count": 449,
     "metadata": {},
     "output_type": "execute_result"
    }
   ],
   "source": [
    "X_te_f[1], y_te_f[1]"
   ]
  },
  {
   "cell_type": "code",
   "execution_count": null,
   "metadata": {},
   "outputs": [],
   "source": []
  },
  {
   "cell_type": "code",
   "execution_count": 450,
   "metadata": {},
   "outputs": [],
   "source": [
    "# import numpy as np\n",
    "\n",
    "# train_shuffle_index = np.arange(0, len(X_tr_f))\n",
    "# np.random.shuffle(train_shuffle_index)\n",
    "\n",
    "# test_shuffle_index = np.arange(0, len(X_te_f))\n",
    "# np.random.shuffle(test_shuffle_index)\n",
    "\n",
    "# X_tr_f = np.array(X_tr_f)[train_shuffle_index]\n",
    "# y_tr_f = np.array(y_tr_f)[train_shuffle_index]\n",
    "\n",
    "# X_te_f = np.array(X_te_f)[test_shuffle_index]\n",
    "# y_te_f = np.array(y_te_f)[test_shuffle_index]\n",
    "\n",
    "# X_tr_f[0], y_tr_f[0], len(X_tr_f), len(y_tr_f), len(X_te_f), len(y_te_f)"
   ]
  },
  {
   "cell_type": "code",
   "execution_count": 451,
   "metadata": {},
   "outputs": [],
   "source": [
    "# X_tr_f = X_tr_n\n",
    "# y_tr_f = y_tr_n\n",
    "\n",
    "# X_te_f = X_te_n\n",
    "# y_te_f = y_te_n"
   ]
  },
  {
   "cell_type": "code",
   "execution_count": 452,
   "metadata": {},
   "outputs": [
    {
     "data": {
      "text/plain": [
       "(8000, 8000, 8000, 8000)"
      ]
     },
     "execution_count": 452,
     "metadata": {},
     "output_type": "execute_result"
    }
   ],
   "source": [
    "(len(X_tr_f), len(y_tr_f), len(X_te_f), len(y_te_f))"
   ]
  },
  {
   "cell_type": "code",
   "execution_count": 453,
   "metadata": {},
   "outputs": [],
   "source": [
    "# list(map(lambda row: row[:N_PEAKS*2], X_tr_f))[0]\n",
    "# # list(map(lambda row: row[:N_PEAKS], X_tr_f))[0]"
   ]
  },
  {
   "cell_type": "code",
   "execution_count": 454,
   "metadata": {
    "scrolled": true
   },
   "outputs": [],
   "source": [
    "# from matplotlib import pyplot as plt\n",
    "\n",
    "# # amp_df = pd.DataFrame(list(map(lambda row: row[N_PEAKS:N_PEAKS*2], X_tr_f)))\n",
    "# amp_df = pd.DataFrame(list(map(lambda row: row, X_tr_f)))\n",
    "\n",
    "# f = plt.figure(figsize=(19, 15))\n",
    "# plt.matshow(amp_df.corr())\n",
    "# plt.xticks(range(amp_df.shape[1]), amp_df.columns, fontsize=14, rotation=45)\n",
    "# plt.yticks(range(amp_df.shape[1]), amp_df.columns, fontsize=14)\n",
    "# cb = plt.colorbar()\n",
    "# cb.ax.tick_params(labelsize=14)\n",
    "# plt.title('Correlation Matrix', fontsize=16);"
   ]
  },
  {
   "cell_type": "code",
   "execution_count": 455,
   "metadata": {
    "scrolled": false
   },
   "outputs": [
    {
     "data": {
      "text/plain": [
       "<matplotlib.axes._subplots.AxesSubplot at 0x164a3f9b0>"
      ]
     },
     "execution_count": 455,
     "metadata": {},
     "output_type": "execute_result"
    }
   ],
   "source": [
    "pd.Series(X_tr_f[0]).plot.line(figsize=(16, 8))"
   ]
  },
  {
   "cell_type": "code",
   "execution_count": 456,
   "metadata": {},
   "outputs": [
    {
     "data": {
      "text/plain": [
       "<matplotlib.axes._subplots.AxesSubplot at 0x164a3f9b0>"
      ]
     },
     "execution_count": 456,
     "metadata": {},
     "output_type": "execute_result"
    }
   ],
   "source": [
    "pd.Series(y_tr_f[:N_WINDOW_POINTS]).plot.line(figsize=(16, 8))"
   ]
  },
  {
   "cell_type": "code",
   "execution_count": 457,
   "metadata": {},
   "outputs": [
    {
     "data": {
      "text/plain": [
       "<matplotlib.axes._subplots.AxesSubplot at 0x164a3f9b0>"
      ]
     },
     "execution_count": 457,
     "metadata": {},
     "output_type": "execute_result"
    }
   ],
   "source": [
    "pd.Series(X_te_f[0]).plot.line(figsize=(16, 8))"
   ]
  },
  {
   "cell_type": "code",
   "execution_count": 458,
   "metadata": {
    "scrolled": false
   },
   "outputs": [
    {
     "data": {
      "text/plain": [
       "<matplotlib.axes._subplots.AxesSubplot at 0x164a3f9b0>"
      ]
     },
     "execution_count": 458,
     "metadata": {},
     "output_type": "execute_result"
    }
   ],
   "source": [
    "pd.Series(y_te_f[:N_WINDOW_POINTS]).plot.line(figsize=(16, 8))"
   ]
  },
  {
   "cell_type": "code",
   "execution_count": 459,
   "metadata": {},
   "outputs": [],
   "source": [
    "n_features = 1"
   ]
  },
  {
   "cell_type": "code",
   "execution_count": 460,
   "metadata": {},
   "outputs": [
    {
     "data": {
      "text/plain": [
       "(array([ 3.05185094e-05, -1.52592547e-04, -3.35703604e-04, -5.49333170e-04,\n",
       "        -7.32444227e-04, -9.15555283e-04, -1.12918485e-03, -1.40385143e-03,\n",
       "        -1.61748100e-03, -1.86162908e-03, -2.10577715e-03, -2.38044374e-03,\n",
       "        -2.59407330e-03, -2.80770287e-03, -3.02133244e-03, -3.23496200e-03,\n",
       "        -3.38755455e-03, -3.54014710e-03, -3.75377666e-03, -3.93688772e-03,\n",
       "        -4.08948027e-03, -4.21155430e-03, -4.30310983e-03, -4.39466536e-03,\n",
       "        -4.45570238e-03, -4.57777642e-03, -4.69985045e-03, -4.79140598e-03,\n",
       "        -4.94399853e-03, -5.06607257e-03, -5.31022064e-03, -5.52385021e-03,\n",
       "        -5.85955381e-03, -6.50044251e-03, -7.14133121e-03, -7.87377544e-03,\n",
       "        -8.54518265e-03, -9.27762687e-03, -9.94903408e-03, -1.06814783e-02,\n",
       "        -1.12918485e-02, -1.18717002e-02, -1.24820704e-02, -1.30619220e-02,\n",
       "        -1.36722922e-02, -1.42216254e-02, -1.47404401e-02, -1.51982177e-02,\n",
       "        -1.55949583e-02, -1.58391073e-02, -1.59306619e-02, -1.58391073e-02,\n",
       "        -1.55949583e-02, -1.51982177e-02, -1.46183660e-02, -1.38859218e-02,\n",
       "        -1.30314035e-02, -1.21158483e-02, -1.11392559e-02, -1.01931822e-02,\n",
       "        -9.24710836e-03, -8.51466414e-03, -7.93481246e-03, -7.59910885e-03],\n",
       "       dtype=float32), -0.054567095)"
      ]
     },
     "execution_count": 460,
     "metadata": {},
     "output_type": "execute_result"
    }
   ],
   "source": [
    "(X_tr_f[0], y_tr_f[0])"
   ]
  },
  {
   "cell_type": "code",
   "execution_count": 461,
   "metadata": {},
   "outputs": [
    {
     "data": {
      "text/plain": [
       "array([[ 3.0518509e-05],\n",
       "       [-1.5259255e-04],\n",
       "       [-3.3570360e-04],\n",
       "       [-5.4933317e-04],\n",
       "       [-7.3244423e-04]], dtype=float32)"
      ]
     },
     "execution_count": 461,
     "metadata": {},
     "output_type": "execute_result"
    }
   ],
   "source": [
    "X_tr_s = X_tr_f.reshape(X_tr_f.shape[0], X_tr_f.shape[1], n_features)\n",
    "X_tr_s[0][:5]"
   ]
  },
  {
   "cell_type": "code",
   "execution_count": 462,
   "metadata": {},
   "outputs": [],
   "source": [
    "y_tr_s = y_tr_f"
   ]
  },
  {
   "cell_type": "code",
   "execution_count": 463,
   "metadata": {},
   "outputs": [
    {
     "data": {
      "text/plain": [
       "array([[0.105533  ],\n",
       "       [0.10586871],\n",
       "       [0.1061739 ],\n",
       "       [0.10635701],\n",
       "       [0.1065096 ]], dtype=float32)"
      ]
     },
     "execution_count": 463,
     "metadata": {},
     "output_type": "execute_result"
    }
   ],
   "source": [
    "X_te_s = X_te_f.reshape(X_te_f.shape[0], X_te_f.shape[1], n_features)\n",
    "X_te_s[0][:5]"
   ]
  },
  {
   "cell_type": "code",
   "execution_count": 464,
   "metadata": {},
   "outputs": [],
   "source": [
    "y_te_s = y_te_f"
   ]
  },
  {
   "cell_type": "code",
   "execution_count": 465,
   "metadata": {},
   "outputs": [],
   "source": [
    "# def add_stats(row):\n",
    "#     stats = [\n",
    "#         np.mean(row),\n",
    "#         np.max(row),\n",
    "#         np.min(row),\n",
    "#         np.var(row)\n",
    "#     ]\n",
    "\n",
    "#     return np.array([(list(x) + list(stats)) for x in row])"
   ]
  },
  {
   "cell_type": "code",
   "execution_count": 466,
   "metadata": {},
   "outputs": [],
   "source": [
    "# %%time\n",
    "# X_tr_s = np.array([add_stats(row) for row in X_tr_s])\n",
    "# print(X_tr_s[0][0], X_tr_s[0][1])"
   ]
  },
  {
   "cell_type": "code",
   "execution_count": 467,
   "metadata": {},
   "outputs": [],
   "source": [
    "# %%time\n",
    "# X_te_s = np.array([add_stats(row) for row in X_te_s])\n",
    "# print(X_te_s[0][0], X_te_s[0][1])"
   ]
  },
  {
   "cell_type": "markdown",
   "metadata": {},
   "source": [
    "## Finished data processing!\n",
    "\n",
    "## Moving on to training NN"
   ]
  },
  {
   "cell_type": "code",
   "execution_count": 468,
   "metadata": {},
   "outputs": [],
   "source": [
    "import numpy as np"
   ]
  },
  {
   "cell_type": "code",
   "execution_count": 469,
   "metadata": {},
   "outputs": [],
   "source": [
    "# num_steps=100, 24 hidden states"
   ]
  },
  {
   "cell_type": "code",
   "execution_count": null,
   "metadata": {},
   "outputs": [],
   "source": []
  },
  {
   "cell_type": "code",
   "execution_count": 537,
   "metadata": {},
   "outputs": [],
   "source": [
    "import keras\n",
    "import tensorflow as tf\n",
    "from keras.models import Sequential, Model\n",
    "from keras.layers import Dense, Dropout, Activation, Flatten, LSTM, Reshape, GRU, GaussianNoise\n",
    "from keras.layers import Convolution2D, MaxPooling2D, Layer, Input\n",
    "from keras.utils import np_utils\n",
    "from keras.regularizers import L1L2\n",
    "\n",
    "tf.set_random_seed(1234)"
   ]
  },
  {
   "cell_type": "code",
   "execution_count": 538,
   "metadata": {},
   "outputs": [
    {
     "data": {
      "text/plain": [
       "((8000, 64, 1), (8000,), (8000, 64, 1), (8000,))"
      ]
     },
     "execution_count": 538,
     "metadata": {},
     "output_type": "execute_result"
    }
   ],
   "source": [
    "X_tr_s.shape, y_tr_s.shape, X_te_s.shape, y_te_s.shape"
   ]
  },
  {
   "cell_type": "code",
   "execution_count": 539,
   "metadata": {},
   "outputs": [
    {
     "data": {
      "text/plain": [
       "array([-0.05456709, -0.05377362, -0.05502487, ...,  0.09576708,\n",
       "        0.09561449,  0.09479049], dtype=float32)"
      ]
     },
     "execution_count": 539,
     "metadata": {},
     "output_type": "execute_result"
    }
   ],
   "source": [
    "y_tr_s"
   ]
  },
  {
   "cell_type": "code",
   "execution_count": 540,
   "metadata": {},
   "outputs": [],
   "source": [
    "from keras import backend as K\n",
    "from keras.layers import Layer\n",
    "\n",
    "class DebugLayer(Layer):\n",
    "\n",
    "    def __init__(self, output_dim, **kwargs):\n",
    "        self.output_dim = output_dim\n",
    "        super(DebugLayer, self).__init__(**kwargs)\n",
    "\n",
    "    def build(self, input_shape):\n",
    "        super(DebugLayer, self).build(input_shape)  # Be sure to call this at the end\n",
    "\n",
    "    def call(self, x):\n",
    "        print(x[0])\n",
    "        return x"
   ]
  },
  {
   "cell_type": "code",
   "execution_count": 544,
   "metadata": {},
   "outputs": [],
   "source": [
    "N_UNITS = 10\n",
    "n_features = 1\n",
    "BATCH_SIZE = 1\n",
    "\n",
    "best_params = {\n",
    "  'lr': 0.001,\n",
    "  'n_units': N_UNITS,\n",
    "  'batch_size': BATCH_SIZE,\n",
    "  'optimizer': keras.optimizers.adam,\n",
    "}\n",
    "\n",
    "\n",
    "input_l = Input(\n",
    "    shape=(N_WINDOW_POINTS, n_features),\n",
    "    batch_shape=(BATCH_SIZE, N_WINDOW_POINTS, n_features),\n",
    ")\n",
    "\n",
    "dense_l = Dense(\n",
    "    N_UNITS,\n",
    "    input_shape=(N_WINDOW_POINTS, n_features),\n",
    "    activation='tanh',\n",
    "    batch_input_shape=(BATCH_SIZE, N_WINDOW_POINTS, n_features),\n",
    "    kernel_initializer='identity',\n",
    "    bias_initializer='zeros',\n",
    ")(input_l)\n",
    "\n",
    "gru_l = GRU(\n",
    "    N_UNITS,\n",
    "    input_shape=(N_WINDOW_POINTS, n_features),\n",
    "    # bias_regularizer=L1L2(l1=0.1, l2=0.1),\n",
    "    stateful=True,\n",
    "    # reset_after=True,\n",
    "    # batch_input_shape=(BATCH_SIZE, N_WINDOW_POINTS, n_features),\n",
    "    activation='tanh', recurrent_activation='hard_sigmoid',\n",
    "    # kernel_initializer='identity',\n",
    "    bias_initializer='zeros',\n",
    "    # return_sequences=True,\n",
    ")(dense_l)\n",
    "\n",
    "dense_2_l = Dense(\n",
    "    1,\n",
    "    activation=None,\n",
    "    kernel_initializer='identity',\n",
    "    bias_initializer='zeros',\n",
    ")(gru_l)\n",
    "\n",
    "\n",
    "model = Model(inputs=input_l, outputs=dense_2_l)\n",
    "\n",
    "optimizer = keras.optimizers.adam(lr=best_params['lr'], clipvalue=10, clipnorm=10)\n",
    "# optimizer = keras.optimizers.SGD(lr=best_params['lr'], decay=0.2)\n",
    "\n",
    "model.compile(optimizer=optimizer, loss='mae')\n"
   ]
  },
  {
   "cell_type": "code",
   "execution_count": 545,
   "metadata": {},
   "outputs": [],
   "source": [
    "import math\n",
    "\n",
    "def predict(model, X_input):\n",
    "    # X_input = np.array(rows).reshape(rows.shape[0], rows.shape[1], n_features)\n",
    "    \n",
    "    return np.array(\n",
    "        model.predict(\n",
    "            X_input[:(math.floor(len(X_input) / BATCH_SIZE) * BATCH_SIZE)], batch_size=BATCH_SIZE\n",
    "        )\n",
    "    ).flatten()"
   ]
  },
  {
   "cell_type": "code",
   "execution_count": 546,
   "metadata": {},
   "outputs": [],
   "source": [
    "from scipy.signal import savgol_filter\n",
    "\n",
    "\n",
    "# TensorBoard callback\n",
    "# tensorboard_cb = keras.callbacks.TensorBoard(\n",
    "#     log_dir='./logs',\n",
    "#     batch_size=BATCH_SIZE,\n",
    "#     # histogram_freq='batch',\n",
    "#     write_graph=True,\n",
    "#     write_grads=True,\n",
    "#     write_images=True\n",
    "# )\n",
    "\n",
    "class TestModel(keras.callbacks.Callback):\n",
    "    def __init__(self, model, I=200):\n",
    "        self.model = model\n",
    "        self.I = I\n",
    "        \n",
    "    def on_train_begin(self, batch):\n",
    "#         (fig, ax) = plt.subplots(figsize=(12, 8))\n",
    "        (fig, ax) = plt.subplots()\n",
    "        self.fig = fig\n",
    "        self.ax = ax\n",
    "        \n",
    "        feat = pd.Series((np.array(list(map(lambda row: row[-1][0], X_tr_s[:I])))))\n",
    "\n",
    "        feat_data, =  ax.plot(feat.values, label='feature')\n",
    "\n",
    "        targ = (pd.Series((y_tr_s[:I])))\n",
    "\n",
    "        pred = pd.Series(np.zeros(I))\n",
    "        # pred = (pred * 2.2) + 0.001\n",
    "        pred = pred + 0.001\n",
    "\n",
    "        zeros = pd.Series(np.zeros(I))\n",
    "        zeros.plot.line(ax=ax, label='0')\n",
    "\n",
    "        targ_data, = ax.plot(targ.values, label='target')\n",
    "\n",
    "        pred_data, = ax.plot(pred.values, label='predicted')\n",
    "        # pd.Series(savgol_filter(pred, 5, 3)).plot.line(ax=ax, label='savgol(predicted)')\n",
    "        \n",
    "        self.feat_data = feat_data\n",
    "        self.targ_data = targ_data\n",
    "        self.pred_data = pred_data\n",
    "        \n",
    "        ax.legend(loc=\"upper right\")\n",
    "        ax.set_xlabel('index')\n",
    "        ax.set_ylabel('value')\n",
    "        \n",
    "        plt.show()\n",
    "        fig.canvas.draw()\n",
    "        \n",
    "        \n",
    "    def on_epoch_end(self, batch, logs={}):\n",
    "        model = self.model\n",
    "        \n",
    "        fig = self.fig\n",
    "        ax = self.ax\n",
    "        \n",
    "        I = 200\n",
    "\n",
    "        feat = pd.Series((np.array(list(map(lambda row: row[-1][0], X_tr_s[:I])))))\n",
    "\n",
    "        self.feat_data.set_ydata(feat.values)\n",
    "\n",
    "        targ = (pd.Series((y_tr_s[:I])))\n",
    "\n",
    "        pred = pd.Series(predict(model, X_tr_s[:I]))\n",
    "        # pred = (pred * 2.2) + 0.001\n",
    "        pred = pred + 0.001\n",
    "\n",
    "        zeros = pd.Series(np.zeros(I))\n",
    "        zeros.plot.line(ax=ax, label='0')\n",
    "\n",
    "        self.targ_data.set_ydata(targ.values)\n",
    "\n",
    "        self.pred_data.set_ydata(pred.values)\n",
    "        # pd.Series(savgol_filter(pred, 5, 3)).plot.line(ax=ax, label='savgol(predicted)')\n",
    "\n",
    "        # pd.Series(normalize(np.array(list(map(lambda w: w[-1], X_tr_f[:I]))))).plot.line(ax=ax, label='feature')\n",
    "\n",
    "        fig.canvas.draw()\n",
    "\n",
    "\n",
    "test_model_cb = TestModel(model)\n",
    "\n",
    "# Callback to display the target and prediciton\n",
    "# test_model_cb = keras.callbacks.LambdaCallback(on_epoch_end=testmodel)"
   ]
  },
  {
   "cell_type": "code",
   "execution_count": 547,
   "metadata": {
    "scrolled": false
   },
   "outputs": [
    {
     "name": "stdout",
     "output_type": "stream",
     "text": [
      "Train on 1000 samples, validate on 400 samples\n"
     ]
    },
    {
     "data": {
      "application/javascript": [
       "/* Put everything inside the global mpl namespace */\n",
       "window.mpl = {};\n",
       "\n",
       "\n",
       "mpl.get_websocket_type = function() {\n",
       "    if (typeof(WebSocket) !== 'undefined') {\n",
       "        return WebSocket;\n",
       "    } else if (typeof(MozWebSocket) !== 'undefined') {\n",
       "        return MozWebSocket;\n",
       "    } else {\n",
       "        alert('Your browser does not have WebSocket support.' +\n",
       "              'Please try Chrome, Safari or Firefox ≥ 6. ' +\n",
       "              'Firefox 4 and 5 are also supported but you ' +\n",
       "              'have to enable WebSockets in about:config.');\n",
       "    };\n",
       "}\n",
       "\n",
       "mpl.figure = function(figure_id, websocket, ondownload, parent_element) {\n",
       "    this.id = figure_id;\n",
       "\n",
       "    this.ws = websocket;\n",
       "\n",
       "    this.supports_binary = (this.ws.binaryType != undefined);\n",
       "\n",
       "    if (!this.supports_binary) {\n",
       "        var warnings = document.getElementById(\"mpl-warnings\");\n",
       "        if (warnings) {\n",
       "            warnings.style.display = 'block';\n",
       "            warnings.textContent = (\n",
       "                \"This browser does not support binary websocket messages. \" +\n",
       "                    \"Performance may be slow.\");\n",
       "        }\n",
       "    }\n",
       "\n",
       "    this.imageObj = new Image();\n",
       "\n",
       "    this.context = undefined;\n",
       "    this.message = undefined;\n",
       "    this.canvas = undefined;\n",
       "    this.rubberband_canvas = undefined;\n",
       "    this.rubberband_context = undefined;\n",
       "    this.format_dropdown = undefined;\n",
       "\n",
       "    this.image_mode = 'full';\n",
       "\n",
       "    this.root = $('<div/>');\n",
       "    this._root_extra_style(this.root)\n",
       "    this.root.attr('style', 'display: inline-block');\n",
       "\n",
       "    $(parent_element).append(this.root);\n",
       "\n",
       "    this._init_header(this);\n",
       "    this._init_canvas(this);\n",
       "    this._init_toolbar(this);\n",
       "\n",
       "    var fig = this;\n",
       "\n",
       "    this.waiting = false;\n",
       "\n",
       "    this.ws.onopen =  function () {\n",
       "            fig.send_message(\"supports_binary\", {value: fig.supports_binary});\n",
       "            fig.send_message(\"send_image_mode\", {});\n",
       "            if (mpl.ratio != 1) {\n",
       "                fig.send_message(\"set_dpi_ratio\", {'dpi_ratio': mpl.ratio});\n",
       "            }\n",
       "            fig.send_message(\"refresh\", {});\n",
       "        }\n",
       "\n",
       "    this.imageObj.onload = function() {\n",
       "            if (fig.image_mode == 'full') {\n",
       "                // Full images could contain transparency (where diff images\n",
       "                // almost always do), so we need to clear the canvas so that\n",
       "                // there is no ghosting.\n",
       "                fig.context.clearRect(0, 0, fig.canvas.width, fig.canvas.height);\n",
       "            }\n",
       "            fig.context.drawImage(fig.imageObj, 0, 0);\n",
       "        };\n",
       "\n",
       "    this.imageObj.onunload = function() {\n",
       "        fig.ws.close();\n",
       "    }\n",
       "\n",
       "    this.ws.onmessage = this._make_on_message_function(this);\n",
       "\n",
       "    this.ondownload = ondownload;\n",
       "}\n",
       "\n",
       "mpl.figure.prototype._init_header = function() {\n",
       "    var titlebar = $(\n",
       "        '<div class=\"ui-dialog-titlebar ui-widget-header ui-corner-all ' +\n",
       "        'ui-helper-clearfix\"/>');\n",
       "    var titletext = $(\n",
       "        '<div class=\"ui-dialog-title\" style=\"width: 100%; ' +\n",
       "        'text-align: center; padding: 3px;\"/>');\n",
       "    titlebar.append(titletext)\n",
       "    this.root.append(titlebar);\n",
       "    this.header = titletext[0];\n",
       "}\n",
       "\n",
       "\n",
       "\n",
       "mpl.figure.prototype._canvas_extra_style = function(canvas_div) {\n",
       "\n",
       "}\n",
       "\n",
       "\n",
       "mpl.figure.prototype._root_extra_style = function(canvas_div) {\n",
       "\n",
       "}\n",
       "\n",
       "mpl.figure.prototype._init_canvas = function() {\n",
       "    var fig = this;\n",
       "\n",
       "    var canvas_div = $('<div/>');\n",
       "\n",
       "    canvas_div.attr('style', 'position: relative; clear: both; outline: 0');\n",
       "\n",
       "    function canvas_keyboard_event(event) {\n",
       "        return fig.key_event(event, event['data']);\n",
       "    }\n",
       "\n",
       "    canvas_div.keydown('key_press', canvas_keyboard_event);\n",
       "    canvas_div.keyup('key_release', canvas_keyboard_event);\n",
       "    this.canvas_div = canvas_div\n",
       "    this._canvas_extra_style(canvas_div)\n",
       "    this.root.append(canvas_div);\n",
       "\n",
       "    var canvas = $('<canvas/>');\n",
       "    canvas.addClass('mpl-canvas');\n",
       "    canvas.attr('style', \"left: 0; top: 0; z-index: 0; outline: 0\")\n",
       "\n",
       "    this.canvas = canvas[0];\n",
       "    this.context = canvas[0].getContext(\"2d\");\n",
       "\n",
       "    var backingStore = this.context.backingStorePixelRatio ||\n",
       "\tthis.context.webkitBackingStorePixelRatio ||\n",
       "\tthis.context.mozBackingStorePixelRatio ||\n",
       "\tthis.context.msBackingStorePixelRatio ||\n",
       "\tthis.context.oBackingStorePixelRatio ||\n",
       "\tthis.context.backingStorePixelRatio || 1;\n",
       "\n",
       "    mpl.ratio = (window.devicePixelRatio || 1) / backingStore;\n",
       "\n",
       "    var rubberband = $('<canvas/>');\n",
       "    rubberband.attr('style', \"position: absolute; left: 0; top: 0; z-index: 1;\")\n",
       "\n",
       "    var pass_mouse_events = true;\n",
       "\n",
       "    canvas_div.resizable({\n",
       "        start: function(event, ui) {\n",
       "            pass_mouse_events = false;\n",
       "        },\n",
       "        resize: function(event, ui) {\n",
       "            fig.request_resize(ui.size.width, ui.size.height);\n",
       "        },\n",
       "        stop: function(event, ui) {\n",
       "            pass_mouse_events = true;\n",
       "            fig.request_resize(ui.size.width, ui.size.height);\n",
       "        },\n",
       "    });\n",
       "\n",
       "    function mouse_event_fn(event) {\n",
       "        if (pass_mouse_events)\n",
       "            return fig.mouse_event(event, event['data']);\n",
       "    }\n",
       "\n",
       "    rubberband.mousedown('button_press', mouse_event_fn);\n",
       "    rubberband.mouseup('button_release', mouse_event_fn);\n",
       "    // Throttle sequential mouse events to 1 every 20ms.\n",
       "    rubberband.mousemove('motion_notify', mouse_event_fn);\n",
       "\n",
       "    rubberband.mouseenter('figure_enter', mouse_event_fn);\n",
       "    rubberband.mouseleave('figure_leave', mouse_event_fn);\n",
       "\n",
       "    canvas_div.on(\"wheel\", function (event) {\n",
       "        event = event.originalEvent;\n",
       "        event['data'] = 'scroll'\n",
       "        if (event.deltaY < 0) {\n",
       "            event.step = 1;\n",
       "        } else {\n",
       "            event.step = -1;\n",
       "        }\n",
       "        mouse_event_fn(event);\n",
       "    });\n",
       "\n",
       "    canvas_div.append(canvas);\n",
       "    canvas_div.append(rubberband);\n",
       "\n",
       "    this.rubberband = rubberband;\n",
       "    this.rubberband_canvas = rubberband[0];\n",
       "    this.rubberband_context = rubberband[0].getContext(\"2d\");\n",
       "    this.rubberband_context.strokeStyle = \"#000000\";\n",
       "\n",
       "    this._resize_canvas = function(width, height) {\n",
       "        // Keep the size of the canvas, canvas container, and rubber band\n",
       "        // canvas in synch.\n",
       "        canvas_div.css('width', width)\n",
       "        canvas_div.css('height', height)\n",
       "\n",
       "        canvas.attr('width', width * mpl.ratio);\n",
       "        canvas.attr('height', height * mpl.ratio);\n",
       "        canvas.attr('style', 'width: ' + width + 'px; height: ' + height + 'px;');\n",
       "\n",
       "        rubberband.attr('width', width);\n",
       "        rubberband.attr('height', height);\n",
       "    }\n",
       "\n",
       "    // Set the figure to an initial 600x600px, this will subsequently be updated\n",
       "    // upon first draw.\n",
       "    this._resize_canvas(600, 600);\n",
       "\n",
       "    // Disable right mouse context menu.\n",
       "    $(this.rubberband_canvas).bind(\"contextmenu\",function(e){\n",
       "        return false;\n",
       "    });\n",
       "\n",
       "    function set_focus () {\n",
       "        canvas.focus();\n",
       "        canvas_div.focus();\n",
       "    }\n",
       "\n",
       "    window.setTimeout(set_focus, 100);\n",
       "}\n",
       "\n",
       "mpl.figure.prototype._init_toolbar = function() {\n",
       "    var fig = this;\n",
       "\n",
       "    var nav_element = $('<div/>')\n",
       "    nav_element.attr('style', 'width: 100%');\n",
       "    this.root.append(nav_element);\n",
       "\n",
       "    // Define a callback function for later on.\n",
       "    function toolbar_event(event) {\n",
       "        return fig.toolbar_button_onclick(event['data']);\n",
       "    }\n",
       "    function toolbar_mouse_event(event) {\n",
       "        return fig.toolbar_button_onmouseover(event['data']);\n",
       "    }\n",
       "\n",
       "    for(var toolbar_ind in mpl.toolbar_items) {\n",
       "        var name = mpl.toolbar_items[toolbar_ind][0];\n",
       "        var tooltip = mpl.toolbar_items[toolbar_ind][1];\n",
       "        var image = mpl.toolbar_items[toolbar_ind][2];\n",
       "        var method_name = mpl.toolbar_items[toolbar_ind][3];\n",
       "\n",
       "        if (!name) {\n",
       "            // put a spacer in here.\n",
       "            continue;\n",
       "        }\n",
       "        var button = $('<button/>');\n",
       "        button.addClass('ui-button ui-widget ui-state-default ui-corner-all ' +\n",
       "                        'ui-button-icon-only');\n",
       "        button.attr('role', 'button');\n",
       "        button.attr('aria-disabled', 'false');\n",
       "        button.click(method_name, toolbar_event);\n",
       "        button.mouseover(tooltip, toolbar_mouse_event);\n",
       "\n",
       "        var icon_img = $('<span/>');\n",
       "        icon_img.addClass('ui-button-icon-primary ui-icon');\n",
       "        icon_img.addClass(image);\n",
       "        icon_img.addClass('ui-corner-all');\n",
       "\n",
       "        var tooltip_span = $('<span/>');\n",
       "        tooltip_span.addClass('ui-button-text');\n",
       "        tooltip_span.html(tooltip);\n",
       "\n",
       "        button.append(icon_img);\n",
       "        button.append(tooltip_span);\n",
       "\n",
       "        nav_element.append(button);\n",
       "    }\n",
       "\n",
       "    var fmt_picker_span = $('<span/>');\n",
       "\n",
       "    var fmt_picker = $('<select/>');\n",
       "    fmt_picker.addClass('mpl-toolbar-option ui-widget ui-widget-content');\n",
       "    fmt_picker_span.append(fmt_picker);\n",
       "    nav_element.append(fmt_picker_span);\n",
       "    this.format_dropdown = fmt_picker[0];\n",
       "\n",
       "    for (var ind in mpl.extensions) {\n",
       "        var fmt = mpl.extensions[ind];\n",
       "        var option = $(\n",
       "            '<option/>', {selected: fmt === mpl.default_extension}).html(fmt);\n",
       "        fmt_picker.append(option)\n",
       "    }\n",
       "\n",
       "    // Add hover states to the ui-buttons\n",
       "    $( \".ui-button\" ).hover(\n",
       "        function() { $(this).addClass(\"ui-state-hover\");},\n",
       "        function() { $(this).removeClass(\"ui-state-hover\");}\n",
       "    );\n",
       "\n",
       "    var status_bar = $('<span class=\"mpl-message\"/>');\n",
       "    nav_element.append(status_bar);\n",
       "    this.message = status_bar[0];\n",
       "}\n",
       "\n",
       "mpl.figure.prototype.request_resize = function(x_pixels, y_pixels) {\n",
       "    // Request matplotlib to resize the figure. Matplotlib will then trigger a resize in the client,\n",
       "    // which will in turn request a refresh of the image.\n",
       "    this.send_message('resize', {'width': x_pixels, 'height': y_pixels});\n",
       "}\n",
       "\n",
       "mpl.figure.prototype.send_message = function(type, properties) {\n",
       "    properties['type'] = type;\n",
       "    properties['figure_id'] = this.id;\n",
       "    this.ws.send(JSON.stringify(properties));\n",
       "}\n",
       "\n",
       "mpl.figure.prototype.send_draw_message = function() {\n",
       "    if (!this.waiting) {\n",
       "        this.waiting = true;\n",
       "        this.ws.send(JSON.stringify({type: \"draw\", figure_id: this.id}));\n",
       "    }\n",
       "}\n",
       "\n",
       "\n",
       "mpl.figure.prototype.handle_save = function(fig, msg) {\n",
       "    var format_dropdown = fig.format_dropdown;\n",
       "    var format = format_dropdown.options[format_dropdown.selectedIndex].value;\n",
       "    fig.ondownload(fig, format);\n",
       "}\n",
       "\n",
       "\n",
       "mpl.figure.prototype.handle_resize = function(fig, msg) {\n",
       "    var size = msg['size'];\n",
       "    if (size[0] != fig.canvas.width || size[1] != fig.canvas.height) {\n",
       "        fig._resize_canvas(size[0], size[1]);\n",
       "        fig.send_message(\"refresh\", {});\n",
       "    };\n",
       "}\n",
       "\n",
       "mpl.figure.prototype.handle_rubberband = function(fig, msg) {\n",
       "    var x0 = msg['x0'] / mpl.ratio;\n",
       "    var y0 = (fig.canvas.height - msg['y0']) / mpl.ratio;\n",
       "    var x1 = msg['x1'] / mpl.ratio;\n",
       "    var y1 = (fig.canvas.height - msg['y1']) / mpl.ratio;\n",
       "    x0 = Math.floor(x0) + 0.5;\n",
       "    y0 = Math.floor(y0) + 0.5;\n",
       "    x1 = Math.floor(x1) + 0.5;\n",
       "    y1 = Math.floor(y1) + 0.5;\n",
       "    var min_x = Math.min(x0, x1);\n",
       "    var min_y = Math.min(y0, y1);\n",
       "    var width = Math.abs(x1 - x0);\n",
       "    var height = Math.abs(y1 - y0);\n",
       "\n",
       "    fig.rubberband_context.clearRect(\n",
       "        0, 0, fig.canvas.width, fig.canvas.height);\n",
       "\n",
       "    fig.rubberband_context.strokeRect(min_x, min_y, width, height);\n",
       "}\n",
       "\n",
       "mpl.figure.prototype.handle_figure_label = function(fig, msg) {\n",
       "    // Updates the figure title.\n",
       "    fig.header.textContent = msg['label'];\n",
       "}\n",
       "\n",
       "mpl.figure.prototype.handle_cursor = function(fig, msg) {\n",
       "    var cursor = msg['cursor'];\n",
       "    switch(cursor)\n",
       "    {\n",
       "    case 0:\n",
       "        cursor = 'pointer';\n",
       "        break;\n",
       "    case 1:\n",
       "        cursor = 'default';\n",
       "        break;\n",
       "    case 2:\n",
       "        cursor = 'crosshair';\n",
       "        break;\n",
       "    case 3:\n",
       "        cursor = 'move';\n",
       "        break;\n",
       "    }\n",
       "    fig.rubberband_canvas.style.cursor = cursor;\n",
       "}\n",
       "\n",
       "mpl.figure.prototype.handle_message = function(fig, msg) {\n",
       "    fig.message.textContent = msg['message'];\n",
       "}\n",
       "\n",
       "mpl.figure.prototype.handle_draw = function(fig, msg) {\n",
       "    // Request the server to send over a new figure.\n",
       "    fig.send_draw_message();\n",
       "}\n",
       "\n",
       "mpl.figure.prototype.handle_image_mode = function(fig, msg) {\n",
       "    fig.image_mode = msg['mode'];\n",
       "}\n",
       "\n",
       "mpl.figure.prototype.updated_canvas_event = function() {\n",
       "    // Called whenever the canvas gets updated.\n",
       "    this.send_message(\"ack\", {});\n",
       "}\n",
       "\n",
       "// A function to construct a web socket function for onmessage handling.\n",
       "// Called in the figure constructor.\n",
       "mpl.figure.prototype._make_on_message_function = function(fig) {\n",
       "    return function socket_on_message(evt) {\n",
       "        if (evt.data instanceof Blob) {\n",
       "            /* FIXME: We get \"Resource interpreted as Image but\n",
       "             * transferred with MIME type text/plain:\" errors on\n",
       "             * Chrome.  But how to set the MIME type?  It doesn't seem\n",
       "             * to be part of the websocket stream */\n",
       "            evt.data.type = \"image/png\";\n",
       "\n",
       "            /* Free the memory for the previous frames */\n",
       "            if (fig.imageObj.src) {\n",
       "                (window.URL || window.webkitURL).revokeObjectURL(\n",
       "                    fig.imageObj.src);\n",
       "            }\n",
       "\n",
       "            fig.imageObj.src = (window.URL || window.webkitURL).createObjectURL(\n",
       "                evt.data);\n",
       "            fig.updated_canvas_event();\n",
       "            fig.waiting = false;\n",
       "            return;\n",
       "        }\n",
       "        else if (typeof evt.data === 'string' && evt.data.slice(0, 21) == \"data:image/png;base64\") {\n",
       "            fig.imageObj.src = evt.data;\n",
       "            fig.updated_canvas_event();\n",
       "            fig.waiting = false;\n",
       "            return;\n",
       "        }\n",
       "\n",
       "        var msg = JSON.parse(evt.data);\n",
       "        var msg_type = msg['type'];\n",
       "\n",
       "        // Call the  \"handle_{type}\" callback, which takes\n",
       "        // the figure and JSON message as its only arguments.\n",
       "        try {\n",
       "            var callback = fig[\"handle_\" + msg_type];\n",
       "        } catch (e) {\n",
       "            console.log(\"No handler for the '\" + msg_type + \"' message type: \", msg);\n",
       "            return;\n",
       "        }\n",
       "\n",
       "        if (callback) {\n",
       "            try {\n",
       "                // console.log(\"Handling '\" + msg_type + \"' message: \", msg);\n",
       "                callback(fig, msg);\n",
       "            } catch (e) {\n",
       "                console.log(\"Exception inside the 'handler_\" + msg_type + \"' callback:\", e, e.stack, msg);\n",
       "            }\n",
       "        }\n",
       "    };\n",
       "}\n",
       "\n",
       "// from http://stackoverflow.com/questions/1114465/getting-mouse-location-in-canvas\n",
       "mpl.findpos = function(e) {\n",
       "    //this section is from http://www.quirksmode.org/js/events_properties.html\n",
       "    var targ;\n",
       "    if (!e)\n",
       "        e = window.event;\n",
       "    if (e.target)\n",
       "        targ = e.target;\n",
       "    else if (e.srcElement)\n",
       "        targ = e.srcElement;\n",
       "    if (targ.nodeType == 3) // defeat Safari bug\n",
       "        targ = targ.parentNode;\n",
       "\n",
       "    // jQuery normalizes the pageX and pageY\n",
       "    // pageX,Y are the mouse positions relative to the document\n",
       "    // offset() returns the position of the element relative to the document\n",
       "    var x = e.pageX - $(targ).offset().left;\n",
       "    var y = e.pageY - $(targ).offset().top;\n",
       "\n",
       "    return {\"x\": x, \"y\": y};\n",
       "};\n",
       "\n",
       "/*\n",
       " * return a copy of an object with only non-object keys\n",
       " * we need this to avoid circular references\n",
       " * http://stackoverflow.com/a/24161582/3208463\n",
       " */\n",
       "function simpleKeys (original) {\n",
       "  return Object.keys(original).reduce(function (obj, key) {\n",
       "    if (typeof original[key] !== 'object')\n",
       "        obj[key] = original[key]\n",
       "    return obj;\n",
       "  }, {});\n",
       "}\n",
       "\n",
       "mpl.figure.prototype.mouse_event = function(event, name) {\n",
       "    var canvas_pos = mpl.findpos(event)\n",
       "\n",
       "    if (name === 'button_press')\n",
       "    {\n",
       "        this.canvas.focus();\n",
       "        this.canvas_div.focus();\n",
       "    }\n",
       "\n",
       "    var x = canvas_pos.x * mpl.ratio;\n",
       "    var y = canvas_pos.y * mpl.ratio;\n",
       "\n",
       "    this.send_message(name, {x: x, y: y, button: event.button,\n",
       "                             step: event.step,\n",
       "                             guiEvent: simpleKeys(event)});\n",
       "\n",
       "    /* This prevents the web browser from automatically changing to\n",
       "     * the text insertion cursor when the button is pressed.  We want\n",
       "     * to control all of the cursor setting manually through the\n",
       "     * 'cursor' event from matplotlib */\n",
       "    event.preventDefault();\n",
       "    return false;\n",
       "}\n",
       "\n",
       "mpl.figure.prototype._key_event_extra = function(event, name) {\n",
       "    // Handle any extra behaviour associated with a key event\n",
       "}\n",
       "\n",
       "mpl.figure.prototype.key_event = function(event, name) {\n",
       "\n",
       "    // Prevent repeat events\n",
       "    if (name == 'key_press')\n",
       "    {\n",
       "        if (event.which === this._key)\n",
       "            return;\n",
       "        else\n",
       "            this._key = event.which;\n",
       "    }\n",
       "    if (name == 'key_release')\n",
       "        this._key = null;\n",
       "\n",
       "    var value = '';\n",
       "    if (event.ctrlKey && event.which != 17)\n",
       "        value += \"ctrl+\";\n",
       "    if (event.altKey && event.which != 18)\n",
       "        value += \"alt+\";\n",
       "    if (event.shiftKey && event.which != 16)\n",
       "        value += \"shift+\";\n",
       "\n",
       "    value += 'k';\n",
       "    value += event.which.toString();\n",
       "\n",
       "    this._key_event_extra(event, name);\n",
       "\n",
       "    this.send_message(name, {key: value,\n",
       "                             guiEvent: simpleKeys(event)});\n",
       "    return false;\n",
       "}\n",
       "\n",
       "mpl.figure.prototype.toolbar_button_onclick = function(name) {\n",
       "    if (name == 'download') {\n",
       "        this.handle_save(this, null);\n",
       "    } else {\n",
       "        this.send_message(\"toolbar_button\", {name: name});\n",
       "    }\n",
       "};\n",
       "\n",
       "mpl.figure.prototype.toolbar_button_onmouseover = function(tooltip) {\n",
       "    this.message.textContent = tooltip;\n",
       "};\n",
       "mpl.toolbar_items = [[\"Home\", \"Reset original view\", \"fa fa-home icon-home\", \"home\"], [\"Back\", \"Back to  previous view\", \"fa fa-arrow-left icon-arrow-left\", \"back\"], [\"Forward\", \"Forward to next view\", \"fa fa-arrow-right icon-arrow-right\", \"forward\"], [\"\", \"\", \"\", \"\"], [\"Pan\", \"Pan axes with left mouse, zoom with right\", \"fa fa-arrows icon-move\", \"pan\"], [\"Zoom\", \"Zoom to rectangle\", \"fa fa-square-o icon-check-empty\", \"zoom\"], [\"\", \"\", \"\", \"\"], [\"Download\", \"Download plot\", \"fa fa-floppy-o icon-save\", \"download\"]];\n",
       "\n",
       "mpl.extensions = [\"eps\", \"jpeg\", \"pdf\", \"png\", \"ps\", \"raw\", \"svg\", \"tif\"];\n",
       "\n",
       "mpl.default_extension = \"png\";var comm_websocket_adapter = function(comm) {\n",
       "    // Create a \"websocket\"-like object which calls the given IPython comm\n",
       "    // object with the appropriate methods. Currently this is a non binary\n",
       "    // socket, so there is still some room for performance tuning.\n",
       "    var ws = {};\n",
       "\n",
       "    ws.close = function() {\n",
       "        comm.close()\n",
       "    };\n",
       "    ws.send = function(m) {\n",
       "        //console.log('sending', m);\n",
       "        comm.send(m);\n",
       "    };\n",
       "    // Register the callback with on_msg.\n",
       "    comm.on_msg(function(msg) {\n",
       "        //console.log('receiving', msg['content']['data'], msg);\n",
       "        // Pass the mpl event to the overridden (by mpl) onmessage function.\n",
       "        ws.onmessage(msg['content']['data'])\n",
       "    });\n",
       "    return ws;\n",
       "}\n",
       "\n",
       "mpl.mpl_figure_comm = function(comm, msg) {\n",
       "    // This is the function which gets called when the mpl process\n",
       "    // starts-up an IPython Comm through the \"matplotlib\" channel.\n",
       "\n",
       "    var id = msg.content.data.id;\n",
       "    // Get hold of the div created by the display call when the Comm\n",
       "    // socket was opened in Python.\n",
       "    var element = $(\"#\" + id);\n",
       "    var ws_proxy = comm_websocket_adapter(comm)\n",
       "\n",
       "    function ondownload(figure, format) {\n",
       "        window.open(figure.imageObj.src);\n",
       "    }\n",
       "\n",
       "    var fig = new mpl.figure(id, ws_proxy,\n",
       "                           ondownload,\n",
       "                           element.get(0));\n",
       "\n",
       "    // Call onopen now - mpl needs it, as it is assuming we've passed it a real\n",
       "    // web socket which is closed, not our websocket->open comm proxy.\n",
       "    ws_proxy.onopen();\n",
       "\n",
       "    fig.parent_element = element.get(0);\n",
       "    fig.cell_info = mpl.find_output_cell(\"<div id='\" + id + \"'></div>\");\n",
       "    if (!fig.cell_info) {\n",
       "        console.error(\"Failed to find cell for figure\", id, fig);\n",
       "        return;\n",
       "    }\n",
       "\n",
       "    var output_index = fig.cell_info[2]\n",
       "    var cell = fig.cell_info[0];\n",
       "\n",
       "};\n",
       "\n",
       "mpl.figure.prototype.handle_close = function(fig, msg) {\n",
       "    var width = fig.canvas.width/mpl.ratio\n",
       "    fig.root.unbind('remove')\n",
       "\n",
       "    // Update the output cell to use the data from the current canvas.\n",
       "    fig.push_to_output();\n",
       "    var dataURL = fig.canvas.toDataURL();\n",
       "    // Re-enable the keyboard manager in IPython - without this line, in FF,\n",
       "    // the notebook keyboard shortcuts fail.\n",
       "    IPython.keyboard_manager.enable()\n",
       "    $(fig.parent_element).html('<img src=\"' + dataURL + '\" width=\"' + width + '\">');\n",
       "    fig.close_ws(fig, msg);\n",
       "}\n",
       "\n",
       "mpl.figure.prototype.close_ws = function(fig, msg){\n",
       "    fig.send_message('closing', msg);\n",
       "    // fig.ws.close()\n",
       "}\n",
       "\n",
       "mpl.figure.prototype.push_to_output = function(remove_interactive) {\n",
       "    // Turn the data on the canvas into data in the output cell.\n",
       "    var width = this.canvas.width/mpl.ratio\n",
       "    var dataURL = this.canvas.toDataURL();\n",
       "    this.cell_info[1]['text/html'] = '<img src=\"' + dataURL + '\" width=\"' + width + '\">';\n",
       "}\n",
       "\n",
       "mpl.figure.prototype.updated_canvas_event = function() {\n",
       "    // Tell IPython that the notebook contents must change.\n",
       "    IPython.notebook.set_dirty(true);\n",
       "    this.send_message(\"ack\", {});\n",
       "    var fig = this;\n",
       "    // Wait a second, then push the new image to the DOM so\n",
       "    // that it is saved nicely (might be nice to debounce this).\n",
       "    setTimeout(function () { fig.push_to_output() }, 1000);\n",
       "}\n",
       "\n",
       "mpl.figure.prototype._init_toolbar = function() {\n",
       "    var fig = this;\n",
       "\n",
       "    var nav_element = $('<div/>')\n",
       "    nav_element.attr('style', 'width: 100%');\n",
       "    this.root.append(nav_element);\n",
       "\n",
       "    // Define a callback function for later on.\n",
       "    function toolbar_event(event) {\n",
       "        return fig.toolbar_button_onclick(event['data']);\n",
       "    }\n",
       "    function toolbar_mouse_event(event) {\n",
       "        return fig.toolbar_button_onmouseover(event['data']);\n",
       "    }\n",
       "\n",
       "    for(var toolbar_ind in mpl.toolbar_items){\n",
       "        var name = mpl.toolbar_items[toolbar_ind][0];\n",
       "        var tooltip = mpl.toolbar_items[toolbar_ind][1];\n",
       "        var image = mpl.toolbar_items[toolbar_ind][2];\n",
       "        var method_name = mpl.toolbar_items[toolbar_ind][3];\n",
       "\n",
       "        if (!name) { continue; };\n",
       "\n",
       "        var button = $('<button class=\"btn btn-default\" href=\"#\" title=\"' + name + '\"><i class=\"fa ' + image + ' fa-lg\"></i></button>');\n",
       "        button.click(method_name, toolbar_event);\n",
       "        button.mouseover(tooltip, toolbar_mouse_event);\n",
       "        nav_element.append(button);\n",
       "    }\n",
       "\n",
       "    // Add the status bar.\n",
       "    var status_bar = $('<span class=\"mpl-message\" style=\"text-align:right; float: right;\"/>');\n",
       "    nav_element.append(status_bar);\n",
       "    this.message = status_bar[0];\n",
       "\n",
       "    // Add the close button to the window.\n",
       "    var buttongrp = $('<div class=\"btn-group inline pull-right\"></div>');\n",
       "    var button = $('<button class=\"btn btn-mini btn-primary\" href=\"#\" title=\"Stop Interaction\"><i class=\"fa fa-power-off icon-remove icon-large\"></i></button>');\n",
       "    button.click(function (evt) { fig.handle_close(fig, {}); } );\n",
       "    button.mouseover('Stop Interaction', toolbar_mouse_event);\n",
       "    buttongrp.append(button);\n",
       "    var titlebar = this.root.find($('.ui-dialog-titlebar'));\n",
       "    titlebar.prepend(buttongrp);\n",
       "}\n",
       "\n",
       "mpl.figure.prototype._root_extra_style = function(el){\n",
       "    var fig = this\n",
       "    el.on(\"remove\", function(){\n",
       "\tfig.close_ws(fig, {});\n",
       "    });\n",
       "}\n",
       "\n",
       "mpl.figure.prototype._canvas_extra_style = function(el){\n",
       "    // this is important to make the div 'focusable\n",
       "    el.attr('tabindex', 0)\n",
       "    // reach out to IPython and tell the keyboard manager to turn it's self\n",
       "    // off when our div gets focus\n",
       "\n",
       "    // location in version 3\n",
       "    if (IPython.notebook.keyboard_manager) {\n",
       "        IPython.notebook.keyboard_manager.register_events(el);\n",
       "    }\n",
       "    else {\n",
       "        // location in version 2\n",
       "        IPython.keyboard_manager.register_events(el);\n",
       "    }\n",
       "\n",
       "}\n",
       "\n",
       "mpl.figure.prototype._key_event_extra = function(event, name) {\n",
       "    var manager = IPython.notebook.keyboard_manager;\n",
       "    if (!manager)\n",
       "        manager = IPython.keyboard_manager;\n",
       "\n",
       "    // Check for shift+enter\n",
       "    if (event.shiftKey && event.which == 13) {\n",
       "        this.canvas_div.blur();\n",
       "        event.shiftKey = false;\n",
       "        // Send a \"J\" for go to next cell\n",
       "        event.which = 74;\n",
       "        event.keyCode = 74;\n",
       "        manager.command_mode();\n",
       "        manager.handle_keydown(event);\n",
       "    }\n",
       "}\n",
       "\n",
       "mpl.figure.prototype.handle_save = function(fig, msg) {\n",
       "    fig.ondownload(fig, null);\n",
       "}\n",
       "\n",
       "\n",
       "mpl.find_output_cell = function(html_output) {\n",
       "    // Return the cell and output element which can be found *uniquely* in the notebook.\n",
       "    // Note - this is a bit hacky, but it is done because the \"notebook_saving.Notebook\"\n",
       "    // IPython event is triggered only after the cells have been serialised, which for\n",
       "    // our purposes (turning an active figure into a static one), is too late.\n",
       "    var cells = IPython.notebook.get_cells();\n",
       "    var ncells = cells.length;\n",
       "    for (var i=0; i<ncells; i++) {\n",
       "        var cell = cells[i];\n",
       "        if (cell.cell_type === 'code'){\n",
       "            for (var j=0; j<cell.output_area.outputs.length; j++) {\n",
       "                var data = cell.output_area.outputs[j];\n",
       "                if (data.data) {\n",
       "                    // IPython >= 3 moved mimebundle to data attribute of output\n",
       "                    data = data.data;\n",
       "                }\n",
       "                if (data['text/html'] == html_output) {\n",
       "                    return [cell, data, j];\n",
       "                }\n",
       "            }\n",
       "        }\n",
       "    }\n",
       "}\n",
       "\n",
       "// Register the function which deals with the matplotlib target/channel.\n",
       "// The kernel may be null if the page has been refreshed.\n",
       "if (IPython.notebook.kernel != null) {\n",
       "    IPython.notebook.kernel.comm_manager.register_target('matplotlib', mpl.mpl_figure_comm);\n",
       "}\n"
      ],
      "text/plain": [
       "<IPython.core.display.Javascript object>"
      ]
     },
     "metadata": {},
     "output_type": "display_data"
    },
    {
     "data": {
      "text/html": [
       "<img src=\"data:image/png;base64,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\" width=\"432\">"
      ],
      "text/plain": [
       "<IPython.core.display.HTML object>"
      ]
     },
     "metadata": {},
     "output_type": "display_data"
    },
    {
     "name": "stdout",
     "output_type": "stream",
     "text": [
      "Epoch 1/100\n",
      "1000/1000 [==============================] - 36s 36ms/step - loss: 0.0335 - val_loss: 0.0461\n",
      "Epoch 2/100\n",
      " 189/1000 [====>.........................] - ETA: 25s - loss: 0.0261"
     ]
    },
    {
     "ename": "KeyboardInterrupt",
     "evalue": "",
     "output_type": "error",
     "traceback": [
      "\u001b[0;31m---------------------------------------------------------------------------\u001b[0m",
      "\u001b[0;31mKeyboardInterrupt\u001b[0m                         Traceback (most recent call last)",
      "\u001b[0;32m<timed exec>\u001b[0m in \u001b[0;36m<module>\u001b[0;34m\u001b[0m\n",
      "\u001b[0;32m/usr/local/lib/python3.7/site-packages/keras/engine/training.py\u001b[0m in \u001b[0;36mfit\u001b[0;34m(self, x, y, batch_size, epochs, verbose, callbacks, validation_split, validation_data, shuffle, class_weight, sample_weight, initial_epoch, steps_per_epoch, validation_steps, **kwargs)\u001b[0m\n\u001b[1;32m   1037\u001b[0m                                         \u001b[0minitial_epoch\u001b[0m\u001b[0;34m=\u001b[0m\u001b[0minitial_epoch\u001b[0m\u001b[0;34m,\u001b[0m\u001b[0;34m\u001b[0m\u001b[0;34m\u001b[0m\u001b[0m\n\u001b[1;32m   1038\u001b[0m                                         \u001b[0msteps_per_epoch\u001b[0m\u001b[0;34m=\u001b[0m\u001b[0msteps_per_epoch\u001b[0m\u001b[0;34m,\u001b[0m\u001b[0;34m\u001b[0m\u001b[0;34m\u001b[0m\u001b[0m\n\u001b[0;32m-> 1039\u001b[0;31m                                         validation_steps=validation_steps)\n\u001b[0m\u001b[1;32m   1040\u001b[0m \u001b[0;34m\u001b[0m\u001b[0m\n\u001b[1;32m   1041\u001b[0m     def evaluate(self, x=None, y=None,\n",
      "\u001b[0;32m/usr/local/lib/python3.7/site-packages/keras/engine/training_arrays.py\u001b[0m in \u001b[0;36mfit_loop\u001b[0;34m(model, f, ins, out_labels, batch_size, epochs, verbose, callbacks, val_f, val_ins, shuffle, callback_metrics, initial_epoch, steps_per_epoch, validation_steps)\u001b[0m\n\u001b[1;32m    197\u001b[0m                     \u001b[0mins_batch\u001b[0m\u001b[0;34m[\u001b[0m\u001b[0mi\u001b[0m\u001b[0;34m]\u001b[0m \u001b[0;34m=\u001b[0m \u001b[0mins_batch\u001b[0m\u001b[0;34m[\u001b[0m\u001b[0mi\u001b[0m\u001b[0;34m]\u001b[0m\u001b[0;34m.\u001b[0m\u001b[0mtoarray\u001b[0m\u001b[0;34m(\u001b[0m\u001b[0;34m)\u001b[0m\u001b[0;34m\u001b[0m\u001b[0;34m\u001b[0m\u001b[0m\n\u001b[1;32m    198\u001b[0m \u001b[0;34m\u001b[0m\u001b[0m\n\u001b[0;32m--> 199\u001b[0;31m                 \u001b[0mouts\u001b[0m \u001b[0;34m=\u001b[0m \u001b[0mf\u001b[0m\u001b[0;34m(\u001b[0m\u001b[0mins_batch\u001b[0m\u001b[0;34m)\u001b[0m\u001b[0;34m\u001b[0m\u001b[0;34m\u001b[0m\u001b[0m\n\u001b[0m\u001b[1;32m    200\u001b[0m                 \u001b[0mouts\u001b[0m \u001b[0;34m=\u001b[0m \u001b[0mto_list\u001b[0m\u001b[0;34m(\u001b[0m\u001b[0mouts\u001b[0m\u001b[0;34m)\u001b[0m\u001b[0;34m\u001b[0m\u001b[0;34m\u001b[0m\u001b[0m\n\u001b[1;32m    201\u001b[0m                 \u001b[0;32mfor\u001b[0m \u001b[0ml\u001b[0m\u001b[0;34m,\u001b[0m \u001b[0mo\u001b[0m \u001b[0;32min\u001b[0m \u001b[0mzip\u001b[0m\u001b[0;34m(\u001b[0m\u001b[0mout_labels\u001b[0m\u001b[0;34m,\u001b[0m \u001b[0mouts\u001b[0m\u001b[0;34m)\u001b[0m\u001b[0;34m:\u001b[0m\u001b[0;34m\u001b[0m\u001b[0;34m\u001b[0m\u001b[0m\n",
      "\u001b[0;32m/usr/local/lib/python3.7/site-packages/keras/backend/tensorflow_backend.py\u001b[0m in \u001b[0;36m__call__\u001b[0;34m(self, inputs)\u001b[0m\n\u001b[1;32m   2713\u001b[0m                 \u001b[0;32mreturn\u001b[0m \u001b[0mself\u001b[0m\u001b[0;34m.\u001b[0m\u001b[0m_legacy_call\u001b[0m\u001b[0;34m(\u001b[0m\u001b[0minputs\u001b[0m\u001b[0;34m)\u001b[0m\u001b[0;34m\u001b[0m\u001b[0;34m\u001b[0m\u001b[0m\n\u001b[1;32m   2714\u001b[0m \u001b[0;34m\u001b[0m\u001b[0m\n\u001b[0;32m-> 2715\u001b[0;31m             \u001b[0;32mreturn\u001b[0m \u001b[0mself\u001b[0m\u001b[0;34m.\u001b[0m\u001b[0m_call\u001b[0m\u001b[0;34m(\u001b[0m\u001b[0minputs\u001b[0m\u001b[0;34m)\u001b[0m\u001b[0;34m\u001b[0m\u001b[0;34m\u001b[0m\u001b[0m\n\u001b[0m\u001b[1;32m   2716\u001b[0m         \u001b[0;32melse\u001b[0m\u001b[0;34m:\u001b[0m\u001b[0;34m\u001b[0m\u001b[0;34m\u001b[0m\u001b[0m\n\u001b[1;32m   2717\u001b[0m             \u001b[0;32mif\u001b[0m \u001b[0mpy_any\u001b[0m\u001b[0;34m(\u001b[0m\u001b[0mis_tensor\u001b[0m\u001b[0;34m(\u001b[0m\u001b[0mx\u001b[0m\u001b[0;34m)\u001b[0m \u001b[0;32mfor\u001b[0m \u001b[0mx\u001b[0m \u001b[0;32min\u001b[0m \u001b[0minputs\u001b[0m\u001b[0;34m)\u001b[0m\u001b[0;34m:\u001b[0m\u001b[0;34m\u001b[0m\u001b[0;34m\u001b[0m\u001b[0m\n",
      "\u001b[0;32m/usr/local/lib/python3.7/site-packages/keras/backend/tensorflow_backend.py\u001b[0m in \u001b[0;36m_call\u001b[0;34m(self, inputs)\u001b[0m\n\u001b[1;32m   2673\u001b[0m             \u001b[0mfetched\u001b[0m \u001b[0;34m=\u001b[0m \u001b[0mself\u001b[0m\u001b[0;34m.\u001b[0m\u001b[0m_callable_fn\u001b[0m\u001b[0;34m(\u001b[0m\u001b[0;34m*\u001b[0m\u001b[0marray_vals\u001b[0m\u001b[0;34m,\u001b[0m \u001b[0mrun_metadata\u001b[0m\u001b[0;34m=\u001b[0m\u001b[0mself\u001b[0m\u001b[0;34m.\u001b[0m\u001b[0mrun_metadata\u001b[0m\u001b[0;34m)\u001b[0m\u001b[0;34m\u001b[0m\u001b[0;34m\u001b[0m\u001b[0m\n\u001b[1;32m   2674\u001b[0m         \u001b[0;32melse\u001b[0m\u001b[0;34m:\u001b[0m\u001b[0;34m\u001b[0m\u001b[0;34m\u001b[0m\u001b[0m\n\u001b[0;32m-> 2675\u001b[0;31m             \u001b[0mfetched\u001b[0m \u001b[0;34m=\u001b[0m \u001b[0mself\u001b[0m\u001b[0;34m.\u001b[0m\u001b[0m_callable_fn\u001b[0m\u001b[0;34m(\u001b[0m\u001b[0;34m*\u001b[0m\u001b[0marray_vals\u001b[0m\u001b[0;34m)\u001b[0m\u001b[0;34m\u001b[0m\u001b[0;34m\u001b[0m\u001b[0m\n\u001b[0m\u001b[1;32m   2676\u001b[0m         \u001b[0;32mreturn\u001b[0m \u001b[0mfetched\u001b[0m\u001b[0;34m[\u001b[0m\u001b[0;34m:\u001b[0m\u001b[0mlen\u001b[0m\u001b[0;34m(\u001b[0m\u001b[0mself\u001b[0m\u001b[0;34m.\u001b[0m\u001b[0moutputs\u001b[0m\u001b[0;34m)\u001b[0m\u001b[0;34m]\u001b[0m\u001b[0;34m\u001b[0m\u001b[0;34m\u001b[0m\u001b[0m\n\u001b[1;32m   2677\u001b[0m \u001b[0;34m\u001b[0m\u001b[0m\n",
      "\u001b[0;32m/usr/local/lib/python3.7/site-packages/tensorflow/python/client/session.py\u001b[0m in \u001b[0;36m__call__\u001b[0;34m(self, *args, **kwargs)\u001b[0m\n\u001b[1;32m   1437\u001b[0m           ret = tf_session.TF_SessionRunCallable(\n\u001b[1;32m   1438\u001b[0m               \u001b[0mself\u001b[0m\u001b[0;34m.\u001b[0m\u001b[0m_session\u001b[0m\u001b[0;34m.\u001b[0m\u001b[0m_session\u001b[0m\u001b[0;34m,\u001b[0m \u001b[0mself\u001b[0m\u001b[0;34m.\u001b[0m\u001b[0m_handle\u001b[0m\u001b[0;34m,\u001b[0m \u001b[0margs\u001b[0m\u001b[0;34m,\u001b[0m \u001b[0mstatus\u001b[0m\u001b[0;34m,\u001b[0m\u001b[0;34m\u001b[0m\u001b[0;34m\u001b[0m\u001b[0m\n\u001b[0;32m-> 1439\u001b[0;31m               run_metadata_ptr)\n\u001b[0m\u001b[1;32m   1440\u001b[0m         \u001b[0;32mif\u001b[0m \u001b[0mrun_metadata\u001b[0m\u001b[0;34m:\u001b[0m\u001b[0;34m\u001b[0m\u001b[0;34m\u001b[0m\u001b[0m\n\u001b[1;32m   1441\u001b[0m           \u001b[0mproto_data\u001b[0m \u001b[0;34m=\u001b[0m \u001b[0mtf_session\u001b[0m\u001b[0;34m.\u001b[0m\u001b[0mTF_GetBuffer\u001b[0m\u001b[0;34m(\u001b[0m\u001b[0mrun_metadata_ptr\u001b[0m\u001b[0;34m)\u001b[0m\u001b[0;34m\u001b[0m\u001b[0;34m\u001b[0m\u001b[0m\n",
      "\u001b[0;31mKeyboardInterrupt\u001b[0m: "
     ]
    },
    {
     "data": {
      "application/javascript": [
       "/* Put everything inside the global mpl namespace */\n",
       "window.mpl = {};\n",
       "\n",
       "\n",
       "mpl.get_websocket_type = function() {\n",
       "    if (typeof(WebSocket) !== 'undefined') {\n",
       "        return WebSocket;\n",
       "    } else if (typeof(MozWebSocket) !== 'undefined') {\n",
       "        return MozWebSocket;\n",
       "    } else {\n",
       "        alert('Your browser does not have WebSocket support.' +\n",
       "              'Please try Chrome, Safari or Firefox ≥ 6. ' +\n",
       "              'Firefox 4 and 5 are also supported but you ' +\n",
       "              'have to enable WebSockets in about:config.');\n",
       "    };\n",
       "}\n",
       "\n",
       "mpl.figure = function(figure_id, websocket, ondownload, parent_element) {\n",
       "    this.id = figure_id;\n",
       "\n",
       "    this.ws = websocket;\n",
       "\n",
       "    this.supports_binary = (this.ws.binaryType != undefined);\n",
       "\n",
       "    if (!this.supports_binary) {\n",
       "        var warnings = document.getElementById(\"mpl-warnings\");\n",
       "        if (warnings) {\n",
       "            warnings.style.display = 'block';\n",
       "            warnings.textContent = (\n",
       "                \"This browser does not support binary websocket messages. \" +\n",
       "                    \"Performance may be slow.\");\n",
       "        }\n",
       "    }\n",
       "\n",
       "    this.imageObj = new Image();\n",
       "\n",
       "    this.context = undefined;\n",
       "    this.message = undefined;\n",
       "    this.canvas = undefined;\n",
       "    this.rubberband_canvas = undefined;\n",
       "    this.rubberband_context = undefined;\n",
       "    this.format_dropdown = undefined;\n",
       "\n",
       "    this.image_mode = 'full';\n",
       "\n",
       "    this.root = $('<div/>');\n",
       "    this._root_extra_style(this.root)\n",
       "    this.root.attr('style', 'display: inline-block');\n",
       "\n",
       "    $(parent_element).append(this.root);\n",
       "\n",
       "    this._init_header(this);\n",
       "    this._init_canvas(this);\n",
       "    this._init_toolbar(this);\n",
       "\n",
       "    var fig = this;\n",
       "\n",
       "    this.waiting = false;\n",
       "\n",
       "    this.ws.onopen =  function () {\n",
       "            fig.send_message(\"supports_binary\", {value: fig.supports_binary});\n",
       "            fig.send_message(\"send_image_mode\", {});\n",
       "            if (mpl.ratio != 1) {\n",
       "                fig.send_message(\"set_dpi_ratio\", {'dpi_ratio': mpl.ratio});\n",
       "            }\n",
       "            fig.send_message(\"refresh\", {});\n",
       "        }\n",
       "\n",
       "    this.imageObj.onload = function() {\n",
       "            if (fig.image_mode == 'full') {\n",
       "                // Full images could contain transparency (where diff images\n",
       "                // almost always do), so we need to clear the canvas so that\n",
       "                // there is no ghosting.\n",
       "                fig.context.clearRect(0, 0, fig.canvas.width, fig.canvas.height);\n",
       "            }\n",
       "            fig.context.drawImage(fig.imageObj, 0, 0);\n",
       "        };\n",
       "\n",
       "    this.imageObj.onunload = function() {\n",
       "        fig.ws.close();\n",
       "    }\n",
       "\n",
       "    this.ws.onmessage = this._make_on_message_function(this);\n",
       "\n",
       "    this.ondownload = ondownload;\n",
       "}\n",
       "\n",
       "mpl.figure.prototype._init_header = function() {\n",
       "    var titlebar = $(\n",
       "        '<div class=\"ui-dialog-titlebar ui-widget-header ui-corner-all ' +\n",
       "        'ui-helper-clearfix\"/>');\n",
       "    var titletext = $(\n",
       "        '<div class=\"ui-dialog-title\" style=\"width: 100%; ' +\n",
       "        'text-align: center; padding: 3px;\"/>');\n",
       "    titlebar.append(titletext)\n",
       "    this.root.append(titlebar);\n",
       "    this.header = titletext[0];\n",
       "}\n",
       "\n",
       "\n",
       "\n",
       "mpl.figure.prototype._canvas_extra_style = function(canvas_div) {\n",
       "\n",
       "}\n",
       "\n",
       "\n",
       "mpl.figure.prototype._root_extra_style = function(canvas_div) {\n",
       "\n",
       "}\n",
       "\n",
       "mpl.figure.prototype._init_canvas = function() {\n",
       "    var fig = this;\n",
       "\n",
       "    var canvas_div = $('<div/>');\n",
       "\n",
       "    canvas_div.attr('style', 'position: relative; clear: both; outline: 0');\n",
       "\n",
       "    function canvas_keyboard_event(event) {\n",
       "        return fig.key_event(event, event['data']);\n",
       "    }\n",
       "\n",
       "    canvas_div.keydown('key_press', canvas_keyboard_event);\n",
       "    canvas_div.keyup('key_release', canvas_keyboard_event);\n",
       "    this.canvas_div = canvas_div\n",
       "    this._canvas_extra_style(canvas_div)\n",
       "    this.root.append(canvas_div);\n",
       "\n",
       "    var canvas = $('<canvas/>');\n",
       "    canvas.addClass('mpl-canvas');\n",
       "    canvas.attr('style', \"left: 0; top: 0; z-index: 0; outline: 0\")\n",
       "\n",
       "    this.canvas = canvas[0];\n",
       "    this.context = canvas[0].getContext(\"2d\");\n",
       "\n",
       "    var backingStore = this.context.backingStorePixelRatio ||\n",
       "\tthis.context.webkitBackingStorePixelRatio ||\n",
       "\tthis.context.mozBackingStorePixelRatio ||\n",
       "\tthis.context.msBackingStorePixelRatio ||\n",
       "\tthis.context.oBackingStorePixelRatio ||\n",
       "\tthis.context.backingStorePixelRatio || 1;\n",
       "\n",
       "    mpl.ratio = (window.devicePixelRatio || 1) / backingStore;\n",
       "\n",
       "    var rubberband = $('<canvas/>');\n",
       "    rubberband.attr('style', \"position: absolute; left: 0; top: 0; z-index: 1;\")\n",
       "\n",
       "    var pass_mouse_events = true;\n",
       "\n",
       "    canvas_div.resizable({\n",
       "        start: function(event, ui) {\n",
       "            pass_mouse_events = false;\n",
       "        },\n",
       "        resize: function(event, ui) {\n",
       "            fig.request_resize(ui.size.width, ui.size.height);\n",
       "        },\n",
       "        stop: function(event, ui) {\n",
       "            pass_mouse_events = true;\n",
       "            fig.request_resize(ui.size.width, ui.size.height);\n",
       "        },\n",
       "    });\n",
       "\n",
       "    function mouse_event_fn(event) {\n",
       "        if (pass_mouse_events)\n",
       "            return fig.mouse_event(event, event['data']);\n",
       "    }\n",
       "\n",
       "    rubberband.mousedown('button_press', mouse_event_fn);\n",
       "    rubberband.mouseup('button_release', mouse_event_fn);\n",
       "    // Throttle sequential mouse events to 1 every 20ms.\n",
       "    rubberband.mousemove('motion_notify', mouse_event_fn);\n",
       "\n",
       "    rubberband.mouseenter('figure_enter', mouse_event_fn);\n",
       "    rubberband.mouseleave('figure_leave', mouse_event_fn);\n",
       "\n",
       "    canvas_div.on(\"wheel\", function (event) {\n",
       "        event = event.originalEvent;\n",
       "        event['data'] = 'scroll'\n",
       "        if (event.deltaY < 0) {\n",
       "            event.step = 1;\n",
       "        } else {\n",
       "            event.step = -1;\n",
       "        }\n",
       "        mouse_event_fn(event);\n",
       "    });\n",
       "\n",
       "    canvas_div.append(canvas);\n",
       "    canvas_div.append(rubberband);\n",
       "\n",
       "    this.rubberband = rubberband;\n",
       "    this.rubberband_canvas = rubberband[0];\n",
       "    this.rubberband_context = rubberband[0].getContext(\"2d\");\n",
       "    this.rubberband_context.strokeStyle = \"#000000\";\n",
       "\n",
       "    this._resize_canvas = function(width, height) {\n",
       "        // Keep the size of the canvas, canvas container, and rubber band\n",
       "        // canvas in synch.\n",
       "        canvas_div.css('width', width)\n",
       "        canvas_div.css('height', height)\n",
       "\n",
       "        canvas.attr('width', width * mpl.ratio);\n",
       "        canvas.attr('height', height * mpl.ratio);\n",
       "        canvas.attr('style', 'width: ' + width + 'px; height: ' + height + 'px;');\n",
       "\n",
       "        rubberband.attr('width', width);\n",
       "        rubberband.attr('height', height);\n",
       "    }\n",
       "\n",
       "    // Set the figure to an initial 600x600px, this will subsequently be updated\n",
       "    // upon first draw.\n",
       "    this._resize_canvas(600, 600);\n",
       "\n",
       "    // Disable right mouse context menu.\n",
       "    $(this.rubberband_canvas).bind(\"contextmenu\",function(e){\n",
       "        return false;\n",
       "    });\n",
       "\n",
       "    function set_focus () {\n",
       "        canvas.focus();\n",
       "        canvas_div.focus();\n",
       "    }\n",
       "\n",
       "    window.setTimeout(set_focus, 100);\n",
       "}\n",
       "\n",
       "mpl.figure.prototype._init_toolbar = function() {\n",
       "    var fig = this;\n",
       "\n",
       "    var nav_element = $('<div/>')\n",
       "    nav_element.attr('style', 'width: 100%');\n",
       "    this.root.append(nav_element);\n",
       "\n",
       "    // Define a callback function for later on.\n",
       "    function toolbar_event(event) {\n",
       "        return fig.toolbar_button_onclick(event['data']);\n",
       "    }\n",
       "    function toolbar_mouse_event(event) {\n",
       "        return fig.toolbar_button_onmouseover(event['data']);\n",
       "    }\n",
       "\n",
       "    for(var toolbar_ind in mpl.toolbar_items) {\n",
       "        var name = mpl.toolbar_items[toolbar_ind][0];\n",
       "        var tooltip = mpl.toolbar_items[toolbar_ind][1];\n",
       "        var image = mpl.toolbar_items[toolbar_ind][2];\n",
       "        var method_name = mpl.toolbar_items[toolbar_ind][3];\n",
       "\n",
       "        if (!name) {\n",
       "            // put a spacer in here.\n",
       "            continue;\n",
       "        }\n",
       "        var button = $('<button/>');\n",
       "        button.addClass('ui-button ui-widget ui-state-default ui-corner-all ' +\n",
       "                        'ui-button-icon-only');\n",
       "        button.attr('role', 'button');\n",
       "        button.attr('aria-disabled', 'false');\n",
       "        button.click(method_name, toolbar_event);\n",
       "        button.mouseover(tooltip, toolbar_mouse_event);\n",
       "\n",
       "        var icon_img = $('<span/>');\n",
       "        icon_img.addClass('ui-button-icon-primary ui-icon');\n",
       "        icon_img.addClass(image);\n",
       "        icon_img.addClass('ui-corner-all');\n",
       "\n",
       "        var tooltip_span = $('<span/>');\n",
       "        tooltip_span.addClass('ui-button-text');\n",
       "        tooltip_span.html(tooltip);\n",
       "\n",
       "        button.append(icon_img);\n",
       "        button.append(tooltip_span);\n",
       "\n",
       "        nav_element.append(button);\n",
       "    }\n",
       "\n",
       "    var fmt_picker_span = $('<span/>');\n",
       "\n",
       "    var fmt_picker = $('<select/>');\n",
       "    fmt_picker.addClass('mpl-toolbar-option ui-widget ui-widget-content');\n",
       "    fmt_picker_span.append(fmt_picker);\n",
       "    nav_element.append(fmt_picker_span);\n",
       "    this.format_dropdown = fmt_picker[0];\n",
       "\n",
       "    for (var ind in mpl.extensions) {\n",
       "        var fmt = mpl.extensions[ind];\n",
       "        var option = $(\n",
       "            '<option/>', {selected: fmt === mpl.default_extension}).html(fmt);\n",
       "        fmt_picker.append(option)\n",
       "    }\n",
       "\n",
       "    // Add hover states to the ui-buttons\n",
       "    $( \".ui-button\" ).hover(\n",
       "        function() { $(this).addClass(\"ui-state-hover\");},\n",
       "        function() { $(this).removeClass(\"ui-state-hover\");}\n",
       "    );\n",
       "\n",
       "    var status_bar = $('<span class=\"mpl-message\"/>');\n",
       "    nav_element.append(status_bar);\n",
       "    this.message = status_bar[0];\n",
       "}\n",
       "\n",
       "mpl.figure.prototype.request_resize = function(x_pixels, y_pixels) {\n",
       "    // Request matplotlib to resize the figure. Matplotlib will then trigger a resize in the client,\n",
       "    // which will in turn request a refresh of the image.\n",
       "    this.send_message('resize', {'width': x_pixels, 'height': y_pixels});\n",
       "}\n",
       "\n",
       "mpl.figure.prototype.send_message = function(type, properties) {\n",
       "    properties['type'] = type;\n",
       "    properties['figure_id'] = this.id;\n",
       "    this.ws.send(JSON.stringify(properties));\n",
       "}\n",
       "\n",
       "mpl.figure.prototype.send_draw_message = function() {\n",
       "    if (!this.waiting) {\n",
       "        this.waiting = true;\n",
       "        this.ws.send(JSON.stringify({type: \"draw\", figure_id: this.id}));\n",
       "    }\n",
       "}\n",
       "\n",
       "\n",
       "mpl.figure.prototype.handle_save = function(fig, msg) {\n",
       "    var format_dropdown = fig.format_dropdown;\n",
       "    var format = format_dropdown.options[format_dropdown.selectedIndex].value;\n",
       "    fig.ondownload(fig, format);\n",
       "}\n",
       "\n",
       "\n",
       "mpl.figure.prototype.handle_resize = function(fig, msg) {\n",
       "    var size = msg['size'];\n",
       "    if (size[0] != fig.canvas.width || size[1] != fig.canvas.height) {\n",
       "        fig._resize_canvas(size[0], size[1]);\n",
       "        fig.send_message(\"refresh\", {});\n",
       "    };\n",
       "}\n",
       "\n",
       "mpl.figure.prototype.handle_rubberband = function(fig, msg) {\n",
       "    var x0 = msg['x0'] / mpl.ratio;\n",
       "    var y0 = (fig.canvas.height - msg['y0']) / mpl.ratio;\n",
       "    var x1 = msg['x1'] / mpl.ratio;\n",
       "    var y1 = (fig.canvas.height - msg['y1']) / mpl.ratio;\n",
       "    x0 = Math.floor(x0) + 0.5;\n",
       "    y0 = Math.floor(y0) + 0.5;\n",
       "    x1 = Math.floor(x1) + 0.5;\n",
       "    y1 = Math.floor(y1) + 0.5;\n",
       "    var min_x = Math.min(x0, x1);\n",
       "    var min_y = Math.min(y0, y1);\n",
       "    var width = Math.abs(x1 - x0);\n",
       "    var height = Math.abs(y1 - y0);\n",
       "\n",
       "    fig.rubberband_context.clearRect(\n",
       "        0, 0, fig.canvas.width, fig.canvas.height);\n",
       "\n",
       "    fig.rubberband_context.strokeRect(min_x, min_y, width, height);\n",
       "}\n",
       "\n",
       "mpl.figure.prototype.handle_figure_label = function(fig, msg) {\n",
       "    // Updates the figure title.\n",
       "    fig.header.textContent = msg['label'];\n",
       "}\n",
       "\n",
       "mpl.figure.prototype.handle_cursor = function(fig, msg) {\n",
       "    var cursor = msg['cursor'];\n",
       "    switch(cursor)\n",
       "    {\n",
       "    case 0:\n",
       "        cursor = 'pointer';\n",
       "        break;\n",
       "    case 1:\n",
       "        cursor = 'default';\n",
       "        break;\n",
       "    case 2:\n",
       "        cursor = 'crosshair';\n",
       "        break;\n",
       "    case 3:\n",
       "        cursor = 'move';\n",
       "        break;\n",
       "    }\n",
       "    fig.rubberband_canvas.style.cursor = cursor;\n",
       "}\n",
       "\n",
       "mpl.figure.prototype.handle_message = function(fig, msg) {\n",
       "    fig.message.textContent = msg['message'];\n",
       "}\n",
       "\n",
       "mpl.figure.prototype.handle_draw = function(fig, msg) {\n",
       "    // Request the server to send over a new figure.\n",
       "    fig.send_draw_message();\n",
       "}\n",
       "\n",
       "mpl.figure.prototype.handle_image_mode = function(fig, msg) {\n",
       "    fig.image_mode = msg['mode'];\n",
       "}\n",
       "\n",
       "mpl.figure.prototype.updated_canvas_event = function() {\n",
       "    // Called whenever the canvas gets updated.\n",
       "    this.send_message(\"ack\", {});\n",
       "}\n",
       "\n",
       "// A function to construct a web socket function for onmessage handling.\n",
       "// Called in the figure constructor.\n",
       "mpl.figure.prototype._make_on_message_function = function(fig) {\n",
       "    return function socket_on_message(evt) {\n",
       "        if (evt.data instanceof Blob) {\n",
       "            /* FIXME: We get \"Resource interpreted as Image but\n",
       "             * transferred with MIME type text/plain:\" errors on\n",
       "             * Chrome.  But how to set the MIME type?  It doesn't seem\n",
       "             * to be part of the websocket stream */\n",
       "            evt.data.type = \"image/png\";\n",
       "\n",
       "            /* Free the memory for the previous frames */\n",
       "            if (fig.imageObj.src) {\n",
       "                (window.URL || window.webkitURL).revokeObjectURL(\n",
       "                    fig.imageObj.src);\n",
       "            }\n",
       "\n",
       "            fig.imageObj.src = (window.URL || window.webkitURL).createObjectURL(\n",
       "                evt.data);\n",
       "            fig.updated_canvas_event();\n",
       "            fig.waiting = false;\n",
       "            return;\n",
       "        }\n",
       "        else if (typeof evt.data === 'string' && evt.data.slice(0, 21) == \"data:image/png;base64\") {\n",
       "            fig.imageObj.src = evt.data;\n",
       "            fig.updated_canvas_event();\n",
       "            fig.waiting = false;\n",
       "            return;\n",
       "        }\n",
       "\n",
       "        var msg = JSON.parse(evt.data);\n",
       "        var msg_type = msg['type'];\n",
       "\n",
       "        // Call the  \"handle_{type}\" callback, which takes\n",
       "        // the figure and JSON message as its only arguments.\n",
       "        try {\n",
       "            var callback = fig[\"handle_\" + msg_type];\n",
       "        } catch (e) {\n",
       "            console.log(\"No handler for the '\" + msg_type + \"' message type: \", msg);\n",
       "            return;\n",
       "        }\n",
       "\n",
       "        if (callback) {\n",
       "            try {\n",
       "                // console.log(\"Handling '\" + msg_type + \"' message: \", msg);\n",
       "                callback(fig, msg);\n",
       "            } catch (e) {\n",
       "                console.log(\"Exception inside the 'handler_\" + msg_type + \"' callback:\", e, e.stack, msg);\n",
       "            }\n",
       "        }\n",
       "    };\n",
       "}\n",
       "\n",
       "// from http://stackoverflow.com/questions/1114465/getting-mouse-location-in-canvas\n",
       "mpl.findpos = function(e) {\n",
       "    //this section is from http://www.quirksmode.org/js/events_properties.html\n",
       "    var targ;\n",
       "    if (!e)\n",
       "        e = window.event;\n",
       "    if (e.target)\n",
       "        targ = e.target;\n",
       "    else if (e.srcElement)\n",
       "        targ = e.srcElement;\n",
       "    if (targ.nodeType == 3) // defeat Safari bug\n",
       "        targ = targ.parentNode;\n",
       "\n",
       "    // jQuery normalizes the pageX and pageY\n",
       "    // pageX,Y are the mouse positions relative to the document\n",
       "    // offset() returns the position of the element relative to the document\n",
       "    var x = e.pageX - $(targ).offset().left;\n",
       "    var y = e.pageY - $(targ).offset().top;\n",
       "\n",
       "    return {\"x\": x, \"y\": y};\n",
       "};\n",
       "\n",
       "/*\n",
       " * return a copy of an object with only non-object keys\n",
       " * we need this to avoid circular references\n",
       " * http://stackoverflow.com/a/24161582/3208463\n",
       " */\n",
       "function simpleKeys (original) {\n",
       "  return Object.keys(original).reduce(function (obj, key) {\n",
       "    if (typeof original[key] !== 'object')\n",
       "        obj[key] = original[key]\n",
       "    return obj;\n",
       "  }, {});\n",
       "}\n",
       "\n",
       "mpl.figure.prototype.mouse_event = function(event, name) {\n",
       "    var canvas_pos = mpl.findpos(event)\n",
       "\n",
       "    if (name === 'button_press')\n",
       "    {\n",
       "        this.canvas.focus();\n",
       "        this.canvas_div.focus();\n",
       "    }\n",
       "\n",
       "    var x = canvas_pos.x * mpl.ratio;\n",
       "    var y = canvas_pos.y * mpl.ratio;\n",
       "\n",
       "    this.send_message(name, {x: x, y: y, button: event.button,\n",
       "                             step: event.step,\n",
       "                             guiEvent: simpleKeys(event)});\n",
       "\n",
       "    /* This prevents the web browser from automatically changing to\n",
       "     * the text insertion cursor when the button is pressed.  We want\n",
       "     * to control all of the cursor setting manually through the\n",
       "     * 'cursor' event from matplotlib */\n",
       "    event.preventDefault();\n",
       "    return false;\n",
       "}\n",
       "\n",
       "mpl.figure.prototype._key_event_extra = function(event, name) {\n",
       "    // Handle any extra behaviour associated with a key event\n",
       "}\n",
       "\n",
       "mpl.figure.prototype.key_event = function(event, name) {\n",
       "\n",
       "    // Prevent repeat events\n",
       "    if (name == 'key_press')\n",
       "    {\n",
       "        if (event.which === this._key)\n",
       "            return;\n",
       "        else\n",
       "            this._key = event.which;\n",
       "    }\n",
       "    if (name == 'key_release')\n",
       "        this._key = null;\n",
       "\n",
       "    var value = '';\n",
       "    if (event.ctrlKey && event.which != 17)\n",
       "        value += \"ctrl+\";\n",
       "    if (event.altKey && event.which != 18)\n",
       "        value += \"alt+\";\n",
       "    if (event.shiftKey && event.which != 16)\n",
       "        value += \"shift+\";\n",
       "\n",
       "    value += 'k';\n",
       "    value += event.which.toString();\n",
       "\n",
       "    this._key_event_extra(event, name);\n",
       "\n",
       "    this.send_message(name, {key: value,\n",
       "                             guiEvent: simpleKeys(event)});\n",
       "    return false;\n",
       "}\n",
       "\n",
       "mpl.figure.prototype.toolbar_button_onclick = function(name) {\n",
       "    if (name == 'download') {\n",
       "        this.handle_save(this, null);\n",
       "    } else {\n",
       "        this.send_message(\"toolbar_button\", {name: name});\n",
       "    }\n",
       "};\n",
       "\n",
       "mpl.figure.prototype.toolbar_button_onmouseover = function(tooltip) {\n",
       "    this.message.textContent = tooltip;\n",
       "};\n",
       "mpl.toolbar_items = [[\"Home\", \"Reset original view\", \"fa fa-home icon-home\", \"home\"], [\"Back\", \"Back to  previous view\", \"fa fa-arrow-left icon-arrow-left\", \"back\"], [\"Forward\", \"Forward to next view\", \"fa fa-arrow-right icon-arrow-right\", \"forward\"], [\"\", \"\", \"\", \"\"], [\"Pan\", \"Pan axes with left mouse, zoom with right\", \"fa fa-arrows icon-move\", \"pan\"], [\"Zoom\", \"Zoom to rectangle\", \"fa fa-square-o icon-check-empty\", \"zoom\"], [\"\", \"\", \"\", \"\"], [\"Download\", \"Download plot\", \"fa fa-floppy-o icon-save\", \"download\"]];\n",
       "\n",
       "mpl.extensions = [\"eps\", \"jpeg\", \"pdf\", \"png\", \"ps\", \"raw\", \"svg\", \"tif\"];\n",
       "\n",
       "mpl.default_extension = \"png\";var comm_websocket_adapter = function(comm) {\n",
       "    // Create a \"websocket\"-like object which calls the given IPython comm\n",
       "    // object with the appropriate methods. Currently this is a non binary\n",
       "    // socket, so there is still some room for performance tuning.\n",
       "    var ws = {};\n",
       "\n",
       "    ws.close = function() {\n",
       "        comm.close()\n",
       "    };\n",
       "    ws.send = function(m) {\n",
       "        //console.log('sending', m);\n",
       "        comm.send(m);\n",
       "    };\n",
       "    // Register the callback with on_msg.\n",
       "    comm.on_msg(function(msg) {\n",
       "        //console.log('receiving', msg['content']['data'], msg);\n",
       "        // Pass the mpl event to the overridden (by mpl) onmessage function.\n",
       "        ws.onmessage(msg['content']['data'])\n",
       "    });\n",
       "    return ws;\n",
       "}\n",
       "\n",
       "mpl.mpl_figure_comm = function(comm, msg) {\n",
       "    // This is the function which gets called when the mpl process\n",
       "    // starts-up an IPython Comm through the \"matplotlib\" channel.\n",
       "\n",
       "    var id = msg.content.data.id;\n",
       "    // Get hold of the div created by the display call when the Comm\n",
       "    // socket was opened in Python.\n",
       "    var element = $(\"#\" + id);\n",
       "    var ws_proxy = comm_websocket_adapter(comm)\n",
       "\n",
       "    function ondownload(figure, format) {\n",
       "        window.open(figure.imageObj.src);\n",
       "    }\n",
       "\n",
       "    var fig = new mpl.figure(id, ws_proxy,\n",
       "                           ondownload,\n",
       "                           element.get(0));\n",
       "\n",
       "    // Call onopen now - mpl needs it, as it is assuming we've passed it a real\n",
       "    // web socket which is closed, not our websocket->open comm proxy.\n",
       "    ws_proxy.onopen();\n",
       "\n",
       "    fig.parent_element = element.get(0);\n",
       "    fig.cell_info = mpl.find_output_cell(\"<div id='\" + id + \"'></div>\");\n",
       "    if (!fig.cell_info) {\n",
       "        console.error(\"Failed to find cell for figure\", id, fig);\n",
       "        return;\n",
       "    }\n",
       "\n",
       "    var output_index = fig.cell_info[2]\n",
       "    var cell = fig.cell_info[0];\n",
       "\n",
       "};\n",
       "\n",
       "mpl.figure.prototype.handle_close = function(fig, msg) {\n",
       "    var width = fig.canvas.width/mpl.ratio\n",
       "    fig.root.unbind('remove')\n",
       "\n",
       "    // Update the output cell to use the data from the current canvas.\n",
       "    fig.push_to_output();\n",
       "    var dataURL = fig.canvas.toDataURL();\n",
       "    // Re-enable the keyboard manager in IPython - without this line, in FF,\n",
       "    // the notebook keyboard shortcuts fail.\n",
       "    IPython.keyboard_manager.enable()\n",
       "    $(fig.parent_element).html('<img src=\"' + dataURL + '\" width=\"' + width + '\">');\n",
       "    fig.close_ws(fig, msg);\n",
       "}\n",
       "\n",
       "mpl.figure.prototype.close_ws = function(fig, msg){\n",
       "    fig.send_message('closing', msg);\n",
       "    // fig.ws.close()\n",
       "}\n",
       "\n",
       "mpl.figure.prototype.push_to_output = function(remove_interactive) {\n",
       "    // Turn the data on the canvas into data in the output cell.\n",
       "    var width = this.canvas.width/mpl.ratio\n",
       "    var dataURL = this.canvas.toDataURL();\n",
       "    this.cell_info[1]['text/html'] = '<img src=\"' + dataURL + '\" width=\"' + width + '\">';\n",
       "}\n",
       "\n",
       "mpl.figure.prototype.updated_canvas_event = function() {\n",
       "    // Tell IPython that the notebook contents must change.\n",
       "    IPython.notebook.set_dirty(true);\n",
       "    this.send_message(\"ack\", {});\n",
       "    var fig = this;\n",
       "    // Wait a second, then push the new image to the DOM so\n",
       "    // that it is saved nicely (might be nice to debounce this).\n",
       "    setTimeout(function () { fig.push_to_output() }, 1000);\n",
       "}\n",
       "\n",
       "mpl.figure.prototype._init_toolbar = function() {\n",
       "    var fig = this;\n",
       "\n",
       "    var nav_element = $('<div/>')\n",
       "    nav_element.attr('style', 'width: 100%');\n",
       "    this.root.append(nav_element);\n",
       "\n",
       "    // Define a callback function for later on.\n",
       "    function toolbar_event(event) {\n",
       "        return fig.toolbar_button_onclick(event['data']);\n",
       "    }\n",
       "    function toolbar_mouse_event(event) {\n",
       "        return fig.toolbar_button_onmouseover(event['data']);\n",
       "    }\n",
       "\n",
       "    for(var toolbar_ind in mpl.toolbar_items){\n",
       "        var name = mpl.toolbar_items[toolbar_ind][0];\n",
       "        var tooltip = mpl.toolbar_items[toolbar_ind][1];\n",
       "        var image = mpl.toolbar_items[toolbar_ind][2];\n",
       "        var method_name = mpl.toolbar_items[toolbar_ind][3];\n",
       "\n",
       "        if (!name) { continue; };\n",
       "\n",
       "        var button = $('<button class=\"btn btn-default\" href=\"#\" title=\"' + name + '\"><i class=\"fa ' + image + ' fa-lg\"></i></button>');\n",
       "        button.click(method_name, toolbar_event);\n",
       "        button.mouseover(tooltip, toolbar_mouse_event);\n",
       "        nav_element.append(button);\n",
       "    }\n",
       "\n",
       "    // Add the status bar.\n",
       "    var status_bar = $('<span class=\"mpl-message\" style=\"text-align:right; float: right;\"/>');\n",
       "    nav_element.append(status_bar);\n",
       "    this.message = status_bar[0];\n",
       "\n",
       "    // Add the close button to the window.\n",
       "    var buttongrp = $('<div class=\"btn-group inline pull-right\"></div>');\n",
       "    var button = $('<button class=\"btn btn-mini btn-primary\" href=\"#\" title=\"Stop Interaction\"><i class=\"fa fa-power-off icon-remove icon-large\"></i></button>');\n",
       "    button.click(function (evt) { fig.handle_close(fig, {}); } );\n",
       "    button.mouseover('Stop Interaction', toolbar_mouse_event);\n",
       "    buttongrp.append(button);\n",
       "    var titlebar = this.root.find($('.ui-dialog-titlebar'));\n",
       "    titlebar.prepend(buttongrp);\n",
       "}\n",
       "\n",
       "mpl.figure.prototype._root_extra_style = function(el){\n",
       "    var fig = this\n",
       "    el.on(\"remove\", function(){\n",
       "\tfig.close_ws(fig, {});\n",
       "    });\n",
       "}\n",
       "\n",
       "mpl.figure.prototype._canvas_extra_style = function(el){\n",
       "    // this is important to make the div 'focusable\n",
       "    el.attr('tabindex', 0)\n",
       "    // reach out to IPython and tell the keyboard manager to turn it's self\n",
       "    // off when our div gets focus\n",
       "\n",
       "    // location in version 3\n",
       "    if (IPython.notebook.keyboard_manager) {\n",
       "        IPython.notebook.keyboard_manager.register_events(el);\n",
       "    }\n",
       "    else {\n",
       "        // location in version 2\n",
       "        IPython.keyboard_manager.register_events(el);\n",
       "    }\n",
       "\n",
       "}\n",
       "\n",
       "mpl.figure.prototype._key_event_extra = function(event, name) {\n",
       "    var manager = IPython.notebook.keyboard_manager;\n",
       "    if (!manager)\n",
       "        manager = IPython.keyboard_manager;\n",
       "\n",
       "    // Check for shift+enter\n",
       "    if (event.shiftKey && event.which == 13) {\n",
       "        this.canvas_div.blur();\n",
       "        event.shiftKey = false;\n",
       "        // Send a \"J\" for go to next cell\n",
       "        event.which = 74;\n",
       "        event.keyCode = 74;\n",
       "        manager.command_mode();\n",
       "        manager.handle_keydown(event);\n",
       "    }\n",
       "}\n",
       "\n",
       "mpl.figure.prototype.handle_save = function(fig, msg) {\n",
       "    fig.ondownload(fig, null);\n",
       "}\n",
       "\n",
       "\n",
       "mpl.find_output_cell = function(html_output) {\n",
       "    // Return the cell and output element which can be found *uniquely* in the notebook.\n",
       "    // Note - this is a bit hacky, but it is done because the \"notebook_saving.Notebook\"\n",
       "    // IPython event is triggered only after the cells have been serialised, which for\n",
       "    // our purposes (turning an active figure into a static one), is too late.\n",
       "    var cells = IPython.notebook.get_cells();\n",
       "    var ncells = cells.length;\n",
       "    for (var i=0; i<ncells; i++) {\n",
       "        var cell = cells[i];\n",
       "        if (cell.cell_type === 'code'){\n",
       "            for (var j=0; j<cell.output_area.outputs.length; j++) {\n",
       "                var data = cell.output_area.outputs[j];\n",
       "                if (data.data) {\n",
       "                    // IPython >= 3 moved mimebundle to data attribute of output\n",
       "                    data = data.data;\n",
       "                }\n",
       "                if (data['text/html'] == html_output) {\n",
       "                    return [cell, data, j];\n",
       "                }\n",
       "            }\n",
       "        }\n",
       "    }\n",
       "}\n",
       "\n",
       "// Register the function which deals with the matplotlib target/channel.\n",
       "// The kernel may be null if the page has been refreshed.\n",
       "if (IPython.notebook.kernel != null) {\n",
       "    IPython.notebook.kernel.comm_manager.register_target('matplotlib', mpl.mpl_figure_comm);\n",
       "}\n"
      ],
      "text/plain": [
       "<IPython.core.display.Javascript object>"
      ]
     },
     "metadata": {},
     "output_type": "display_data"
    },
    {
     "data": {
      "text/html": [
       "<img src=\"data:image/png;base64,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\" width=\"432\">"
      ],
      "text/plain": [
       "<IPython.core.display.HTML object>"
      ]
     },
     "metadata": {},
     "output_type": "display_data"
    }
   ],
   "source": [
    "%%time\n",
    "%matplotlib notebook\n",
    "\n",
    "# TRAIN\n",
    "\n",
    "# N_SAMPLES = 20000\n",
    "# N_SAMPLES = 8800\n",
    "# N_SAMPLES = 100\n",
    "\n",
    "es_cb = keras.callbacks.EarlyStopping(\n",
    "    monitor='val_loss',\n",
    "    min_delta=0.0001,\n",
    "    patience=4,\n",
    "    verbose=0,\n",
    "    mode='auto',\n",
    ")\n",
    "\n",
    "history = model.fit(\n",
    "#     X_tr_s[:N_SAMPLES],\n",
    "#     y_tr_s[:N_SAMPLES],\n",
    "    X_tr_s[:1000],\n",
    "    y_tr_s[:1000],\n",
    "    batch_size=BATCH_SIZE,\n",
    "    shuffle=False,\n",
    "#     epochs=400,\n",
    "    epochs=100,\n",
    "    verbose=1,\n",
    "    validation_data=(X_te_s[:400], y_te_s[:400]),\n",
    "    # validation_data=(X_te_s[:200], y_te_s[:200]),\n",
    "    # callbacks=[es_cb, test_model_cb, tensorboard_cb],\n",
    "    callbacks=[es_cb, test_model_cb],\n",
    ")\n"
   ]
  },
  {
   "cell_type": "code",
   "execution_count": 517,
   "metadata": {},
   "outputs": [
    {
     "name": "stdout",
     "output_type": "stream",
     "text": [
      "[array([[1.3008631 , 1.1152705 , 1.104721  , 0.9491318 , 1.0139843 ,\n",
      "        0.76040816, 0.6971809 , 1.0475198 , 1.0751456 , 0.9129879 ]],\n",
      "      dtype=float32), array([-3.9000381e-03,  5.3016022e-03, -6.6841068e-03, -3.1116062e-05,\n",
      "       -5.4415185e-03,  8.4831379e-03,  5.4949801e-03, -5.3857001e-03,\n",
      "       -6.8300124e-03,  3.3000913e-03], dtype=float32)]\n",
      "====================\n",
      "[array([[-2.43119270e-01,  9.92945582e-02, -2.70168990e-01,\n",
      "         3.64809632e-01, -1.52734831e-01,  1.44313604e-01,\n",
      "         1.36184350e-01,  2.87649166e-02, -4.05916274e-01,\n",
      "        -2.81422645e-01,  4.20946002e-01,  3.17868352e-01,\n",
      "        -3.10472041e-01, -3.00310731e-01, -3.73891950e-01,\n",
      "         4.56441343e-01,  3.82584155e-01,  1.50209382e-01,\n",
      "        -2.97407638e-02, -1.14145167e-01,  5.69238774e-02,\n",
      "        -4.22259234e-02, -1.90985277e-02,  4.34651762e-01,\n",
      "        -3.67737263e-01, -3.69166851e-01,  2.84166873e-01,\n",
      "         2.09552586e-01,  2.81547070e-01, -4.91042659e-02],\n",
      "       [-1.80175513e-01, -1.67432755e-01,  1.00791588e-01,\n",
      "         2.71321386e-01,  3.81340444e-01,  7.56997615e-02,\n",
      "         2.28857160e-01,  1.81196466e-01,  3.25353980e-01,\n",
      "         2.68040709e-02,  6.16702922e-02,  1.39446929e-01,\n",
      "         2.45209709e-01, -5.22272363e-02,  2.49693364e-01,\n",
      "         1.62998348e-01, -2.53208190e-01,  3.06000620e-01,\n",
      "        -2.91295171e-01,  1.29518881e-01,  5.56546748e-02,\n",
      "        -1.81506589e-01, -3.13215286e-01, -2.74881106e-02,\n",
      "         5.74452244e-02, -3.85963738e-01,  3.24166775e-01,\n",
      "         1.20274916e-01,  9.83543769e-02,  1.27170414e-01],\n",
      "       [-3.44117910e-01, -2.65251189e-01, -2.54955798e-01,\n",
      "        -1.49289653e-01, -1.15848094e-01, -8.65458250e-02,\n",
      "         1.85778081e-01,  2.16976747e-01,  2.98729122e-01,\n",
      "        -1.82820499e-01, -2.32320458e-01,  1.11366197e-01,\n",
      "        -4.15972620e-01, -1.54133424e-01, -2.93981999e-01,\n",
      "        -4.36548330e-02, -1.32420227e-01,  7.67467842e-02,\n",
      "        -3.54508400e-01, -2.39148572e-01, -6.53195083e-02,\n",
      "         2.65806895e-02,  1.16404988e-01,  2.81757087e-01,\n",
      "         7.53519684e-02, -4.47931774e-02, -1.78553060e-01,\n",
      "        -1.32540725e-02,  1.00667261e-01, -1.94301233e-01],\n",
      "       [-4.19170171e-01,  3.25423628e-02,  4.29687351e-01,\n",
      "        -1.87823355e-01, -8.38878099e-03, -3.27230066e-01,\n",
      "        -2.20831826e-01,  1.27752945e-01,  2.27028549e-01,\n",
      "         3.45086992e-01, -2.19887719e-01, -3.66655856e-01,\n",
      "        -3.13811213e-01,  2.41192058e-01, -9.47520509e-02,\n",
      "         4.01782960e-01,  2.04956278e-01,  2.12247387e-01,\n",
      "        -3.24457645e-01, -8.47934633e-02, -2.32248276e-01,\n",
      "         2.08247647e-01, -5.58583401e-02,  1.52242646e-01,\n",
      "        -1.59572542e-01,  9.62056443e-02, -1.82499155e-01,\n",
      "        -2.44019255e-01,  1.14825204e-01,  2.84258276e-02],\n",
      "       [ 7.35974684e-02, -3.17128479e-01, -2.39928663e-02,\n",
      "        -3.32443178e-01,  2.85519678e-02, -1.54113695e-01,\n",
      "         4.20321345e-01, -2.38783062e-02,  2.55440235e-01,\n",
      "         1.89361811e-01,  3.31664900e-03, -3.38647336e-01,\n",
      "        -1.96958017e-02,  2.18772635e-01, -1.01433076e-01,\n",
      "         4.27212536e-01, -2.46090531e-01, -1.00191832e-01,\n",
      "        -1.04062684e-01, -1.74157664e-01, -8.91957432e-02,\n",
      "        -2.65947789e-01,  2.89030224e-01,  3.47109616e-01,\n",
      "        -1.00273184e-01, -1.92846298e-01, -1.77065209e-01,\n",
      "        -7.66072199e-02,  4.40064929e-02,  1.39827551e-02],\n",
      "       [ 2.56086498e-01, -6.75932840e-02,  3.89915943e-01,\n",
      "        -1.38445495e-04,  1.68229029e-01,  1.11951055e-02,\n",
      "        -2.89965004e-01,  1.70428634e-01,  2.16914833e-01,\n",
      "        -1.29824877e-01, -2.59114951e-02, -2.76943427e-02,\n",
      "         1.68299288e-01,  4.48043942e-01,  1.07274987e-01,\n",
      "        -8.47817883e-02,  2.83436954e-01,  3.42819691e-01,\n",
      "         6.84599429e-02,  2.89905608e-01, -1.59071490e-01,\n",
      "         2.32796058e-01,  9.95209068e-02,  2.20666960e-01,\n",
      "         8.98353457e-02, -2.80287117e-01, -1.44853285e-02,\n",
      "         1.56726599e-01,  1.25277221e-01, -2.51524806e-01],\n",
      "       [-3.81325573e-01, -2.76684374e-01, -1.98603168e-01,\n",
      "        -1.70120195e-01,  1.48733109e-01, -1.35616094e-01,\n",
      "        -2.26661623e-01, -2.20453426e-01, -4.09386724e-01,\n",
      "         2.35876068e-01,  9.53380913e-02, -8.79482180e-02,\n",
      "        -4.17775989e-01,  2.11690739e-03,  1.81074232e-01,\n",
      "        -2.72682935e-01, -8.84502679e-02, -3.88765857e-02,\n",
      "        -1.41876310e-01, -8.86888653e-02, -2.38501579e-01,\n",
      "         4.20856243e-03, -1.61344871e-01,  3.85775194e-02,\n",
      "         2.63286196e-02,  2.24843517e-01, -2.67476499e-01,\n",
      "         1.60286322e-01, -1.98096722e-01,  1.48647532e-01],\n",
      "       [-4.41488832e-01, -2.41596445e-01,  2.42914721e-01,\n",
      "        -1.37102440e-01,  9.66294557e-02,  2.28303552e-01,\n",
      "         3.49008709e-01, -6.37617186e-02,  3.23684335e-01,\n",
      "         3.64581496e-01, -3.94773558e-02,  1.66458160e-01,\n",
      "        -2.17344686e-01,  4.20667231e-01, -7.08539039e-02,\n",
      "         1.39192212e-02,  9.38561186e-02, -1.00953035e-01,\n",
      "         2.00106323e-01,  8.86229128e-02,  2.65841901e-01,\n",
      "        -1.15186395e-02, -1.04851089e-02, -6.05778135e-02,\n",
      "        -3.31037521e-01,  2.61807352e-01, -8.65903050e-02,\n",
      "        -1.01718135e-01,  1.94850370e-01,  2.97467619e-01],\n",
      "       [ 1.98524877e-01,  1.20957531e-01,  5.09839952e-01,\n",
      "         3.86899501e-01,  4.71666902e-01, -6.84163943e-02,\n",
      "        -5.33537939e-03,  3.71715426e-01, -1.02774307e-01,\n",
      "        -1.74175456e-01, -3.00506085e-01, -4.62197848e-02,\n",
      "         1.22423694e-01,  4.90791909e-02, -2.14109182e-01,\n",
      "        -1.54873744e-01,  8.83464515e-02,  2.88452804e-01,\n",
      "         3.06939125e-01,  4.08891082e-01,  1.65859938e-01,\n",
      "         3.39069396e-01, -2.02523321e-01,  2.68735290e-01,\n",
      "        -3.81673463e-02,  2.43412048e-01,  1.65876254e-01,\n",
      "         3.02488029e-01, -2.11566225e-01,  1.99661985e-01],\n",
      "       [ 5.72399013e-02, -3.20764005e-01,  2.37538874e-01,\n",
      "         2.18978420e-01, -1.65384501e-01,  1.17900349e-01,\n",
      "         3.18524465e-02, -7.15467706e-03, -2.01684400e-01,\n",
      "         2.72733033e-01, -5.29746041e-02,  8.10105205e-02,\n",
      "         1.59964010e-01,  7.22226650e-02,  1.09963581e-01,\n",
      "         2.24549845e-01, -1.04958363e-01, -3.40950519e-01,\n",
      "        -3.00628662e-01,  5.18036000e-02,  1.91492692e-01,\n",
      "        -9.08997878e-02, -1.12411715e-01,  3.69777605e-02,\n",
      "         3.34225059e-01, -1.18325479e-01, -3.30976188e-01,\n",
      "        -1.03581570e-01,  5.10734208e-02, -8.34406167e-02]], dtype=float32), array([[-1.17518239e-01,  2.48827830e-01, -2.44357541e-01,\n",
      "         3.34117323e-01,  3.04384410e-01, -2.11424634e-01,\n",
      "        -8.03054050e-02, -3.80372614e-01, -1.44641787e-01,\n",
      "        -1.49794489e-01,  8.68272968e-03,  1.62351727e-01,\n",
      "        -8.91696811e-02, -4.62132841e-02, -8.74435231e-02,\n",
      "         2.99068421e-01, -3.44085805e-02, -2.67903358e-02,\n",
      "        -5.22541776e-02,  1.66579634e-01, -5.36089301e-01,\n",
      "        -2.16947153e-01, -2.21096277e-01, -1.73809424e-01,\n",
      "        -2.85392344e-01, -1.74161851e-01,  4.22242470e-02,\n",
      "        -2.85039634e-01,  1.69990875e-03, -5.87671518e-01],\n",
      "       [ 6.09891452e-02, -3.32500935e-01,  5.29667102e-02,\n",
      "         7.97330439e-02, -1.07672177e-01,  2.66714752e-01,\n",
      "         4.32845503e-01,  4.35859337e-02, -5.76235279e-02,\n",
      "        -1.08991235e-01, -2.48458818e-01,  4.47850168e-01,\n",
      "         6.65625930e-02, -5.49518764e-01,  2.17428029e-01,\n",
      "         1.27392963e-01, -8.12353473e-03, -7.75032938e-02,\n",
      "        -2.71857470e-01,  2.06979990e-01, -4.51839954e-01,\n",
      "        -1.49420172e-01, -1.49630547e-01, -5.44199049e-01,\n",
      "        -2.10963473e-01, -4.64457572e-01, -1.95368215e-01,\n",
      "        -2.25261390e-01, -3.42273384e-01, -1.14436179e-01],\n",
      "       [ 3.30971539e-01, -1.01184689e-01, -1.70038044e-01,\n",
      "         3.60734761e-01,  3.31367999e-02,  2.62686431e-01,\n",
      "         9.41331610e-02,  5.29431939e-01, -2.14000151e-01,\n",
      "        -1.73493847e-01, -1.43464103e-01,  3.95853247e-04,\n",
      "        -3.86644453e-02,  6.21510781e-02, -8.12636241e-02,\n",
      "        -1.54294062e-03, -7.50882644e-03,  2.90792346e-01,\n",
      "         1.19304121e-01,  4.36993003e-01, -4.92578238e-01,\n",
      "        -1.01612538e-01, -2.84012139e-01, -4.62396055e-01,\n",
      "        -2.83889890e-01, -2.56628275e-01, -7.23526776e-01,\n",
      "         1.21007757e-02, -1.78096071e-01, -1.84118599e-01],\n",
      "       [-1.89483717e-01,  1.98538125e-01,  7.30523653e-03,\n",
      "        -2.29649097e-02, -1.26588657e-01,  5.66346049e-02,\n",
      "         2.62587398e-01,  3.40009689e-01, -4.08894382e-02,\n",
      "         6.92632347e-02,  1.05739452e-01,  1.47880465e-01,\n",
      "         2.82385617e-01,  7.89854489e-03,  2.22367838e-01,\n",
      "        -1.04478404e-01, -4.97960784e-02, -4.37231623e-02,\n",
      "        -6.36323690e-02, -6.44503906e-02, -2.52768457e-01,\n",
      "        -3.82157266e-01, -3.69395405e-01,  2.92610347e-01,\n",
      "        -4.85370070e-01,  5.10014109e-02,  7.20601156e-02,\n",
      "        -3.19360137e-01, -4.89480227e-01, -4.99257416e-01],\n",
      "       [ 1.81438372e-01, -4.19265106e-02, -4.42643344e-01,\n",
      "         8.24063923e-03, -4.95593309e-01,  7.75420144e-02,\n",
      "        -2.69361109e-01, -1.03159674e-01, -3.64180724e-03,\n",
      "         1.65431023e-01,  1.12775095e-01, -1.57193080e-01,\n",
      "         3.47396582e-01, -1.39996886e-01,  6.10061437e-02,\n",
      "        -2.03058392e-01, -1.73822656e-01,  2.14468300e-01,\n",
      "        -1.96764633e-01,  8.19209814e-02, -4.86333668e-01,\n",
      "         8.81235152e-02,  4.50188247e-03, -3.26426744e-01,\n",
      "        -3.75618041e-01, -4.11275566e-01, -3.53274912e-01,\n",
      "        -1.43019617e-01, -1.01841554e-01, -1.01873346e-01],\n",
      "       [ 1.11826643e-01,  1.26834691e-01, -3.16429511e-02,\n",
      "        -2.49095634e-01,  3.70397985e-01,  4.42549318e-01,\n",
      "         4.85022254e-02, -2.03188315e-01, -3.46438736e-01,\n",
      "         3.21083307e-01,  2.34527916e-01, -3.44679207e-02,\n",
      "        -1.30829766e-01, -1.71666846e-01, -3.21859121e-01,\n",
      "         1.41053557e-01,  2.02192534e-02, -1.26849771e-01,\n",
      "        -1.15173712e-01,  1.82553574e-01, -1.06515430e-01,\n",
      "        -1.21329606e-01, -4.10633981e-01, -1.25456586e-01,\n",
      "        -1.63301140e-01, -1.38468549e-01, -2.52171960e-02,\n",
      "        -2.46897936e-01, -6.42435908e-01, -3.17944020e-01],\n",
      "       [-3.91843200e-01,  7.38868862e-02,  4.34184015e-01,\n",
      "        -1.15427025e-01,  8.88253525e-02, -2.16806233e-01,\n",
      "        -1.99762046e-01, -2.22535387e-01, -2.70875067e-01,\n",
      "         2.48460714e-02,  8.13739598e-02, -8.95015821e-02,\n",
      "        -1.10331967e-01, -5.42633832e-02,  9.02279541e-02,\n",
      "         6.39919639e-01,  2.84571499e-01, -6.96784258e-02,\n",
      "         5.56662418e-02,  9.37919766e-02, -2.34989598e-01,\n",
      "        -1.11037403e-01, -2.66040146e-01,  2.09801719e-01,\n",
      "        -2.61094391e-01, -4.76058394e-01, -2.65064895e-01,\n",
      "        -1.77888945e-01, -4.43803221e-01, -5.94345570e-01],\n",
      "       [-2.14529294e-03, -2.71452576e-01, -1.45669490e-01,\n",
      "         5.41701615e-01, -1.81273073e-01,  2.78566271e-01,\n",
      "         5.30945897e-01, -4.68935639e-01, -4.00025658e-02,\n",
      "        -2.46178374e-01,  1.19403087e-01,  2.88601071e-01,\n",
      "         2.28019595e-01, -9.95170027e-02,  2.94418596e-02,\n",
      "        -4.48807210e-01,  1.92637090e-02,  3.31366688e-01,\n",
      "         6.84639141e-02,  2.82605559e-01, -1.99452952e-01,\n",
      "         3.07028182e-03, -2.36070305e-01, -2.12392151e-01,\n",
      "        -1.54736876e-01, -2.27960348e-01, -6.01075292e-01,\n",
      "        -4.67435151e-01, -3.95469934e-01, -4.17922914e-01],\n",
      "       [ 3.11706811e-01,  1.05339862e-01, -1.27415285e-01,\n",
      "         2.04236284e-01, -1.69728503e-01,  2.64210105e-01,\n",
      "         2.19663560e-01,  1.54612213e-01,  5.32722473e-01,\n",
      "        -3.25202346e-02, -4.38062191e-01,  2.09078975e-02,\n",
      "        -6.69495165e-02, -1.96817562e-01, -6.70244843e-02,\n",
      "        -2.27452502e-01, -1.55641302e-01,  3.47778350e-02,\n",
      "         9.55217555e-02,  1.79890156e-01, -2.25560129e-01,\n",
      "         1.69121891e-01,  1.66213393e-01, -2.00290412e-01,\n",
      "        -2.80234277e-01, -4.67513204e-01, -2.13184029e-01,\n",
      "        -1.85860813e-01, -2.69676507e-01, -4.85150754e-01],\n",
      "       [ 5.07208239e-03,  1.68792099e-01,  1.21980250e-01,\n",
      "         2.83994228e-01,  7.46248662e-02,  3.70915949e-01,\n",
      "         1.28572479e-01, -1.51353776e-02,  1.70228496e-01,\n",
      "        -1.46933779e-01,  1.39395073e-01,  3.81591311e-03,\n",
      "         1.11010388e-01, -5.43932943e-03,  4.79991049e-01,\n",
      "         1.06850192e-01, -2.86112458e-01,  2.36834511e-02,\n",
      "         4.63253736e-01,  5.15762232e-02, -4.86586958e-01,\n",
      "         9.43592191e-02, -2.58288458e-02, -3.85048777e-01,\n",
      "         7.04036094e-03, -2.73765773e-01, -2.77687639e-01,\n",
      "        -2.36978814e-01, -3.14973563e-01,  2.38623604e-01]], dtype=float32), array([ 0.06393366,  0.42251554,  1.19252   ,  0.6476005 ,  1.0909941 ,\n",
      "        0.11035526,  0.82367486,  0.33802432,  0.07731874,  0.42314222,\n",
      "        0.2425167 ,  0.34582034,  0.23153847,  0.17215793,  0.16804007,\n",
      "        0.2951029 ,  0.31178972,  0.44389516,  0.34217462,  0.29500937,\n",
      "       -0.00401994, -0.00782378, -0.00588868, -0.00560176, -0.01313392,\n",
      "       -0.00727151, -0.00717874, -0.00418284, -0.00365897, -0.0091408 ],\n",
      "      dtype=float32)]\n",
      "====================\n"
     ]
    },
    {
     "name": "stdout",
     "output_type": "stream",
     "text": [
      "[array([[0.7627704 ],\n",
      "       [0.695984  ],\n",
      "       [0.725863  ],\n",
      "       [0.84036314],\n",
      "       [0.70908093],\n",
      "       [0.7013912 ],\n",
      "       [0.66210693],\n",
      "       [0.6239313 ],\n",
      "       [0.72128785],\n",
      "       [0.8378065 ]], dtype=float32), array([-0.00855013], dtype=float32)]\n",
      "====================\n"
     ]
    }
   ],
   "source": [
    "for layer in model.layers:\n",
    "    weights = layer.get_weights() # list of numpy arrays\n",
    "    print(weights)\n",
    "    print('='*20)"
   ]
  },
  {
   "cell_type": "code",
   "execution_count": 506,
   "metadata": {},
   "outputs": [
    {
     "name": "stdout",
     "output_type": "stream",
     "text": [
      "_________________________________________________________________\n",
      "Layer (type)                 Output Shape              Param #   \n",
      "=================================================================\n",
      "dense_60 (Dense)             (1, 64, 10)               20        \n",
      "_________________________________________________________________\n",
      "gru_45 (GRU)                 (1, 10)                   630       \n",
      "_________________________________________________________________\n",
      "dense_61 (Dense)             (1, 1)                    11        \n",
      "=================================================================\n",
      "Total params: 661\n",
      "Trainable params: 661\n",
      "Non-trainable params: 0\n",
      "_________________________________________________________________\n"
     ]
    }
   ],
   "source": [
    "model.summary()"
   ]
  },
  {
   "cell_type": "code",
   "execution_count": 374,
   "metadata": {},
   "outputs": [
    {
     "data": {
      "text/plain": [
       "0.021763145157601683"
      ]
     },
     "execution_count": 374,
     "metadata": {},
     "output_type": "execute_result"
    }
   ],
   "source": [
    "score = model.evaluate(X_te_s[:400], y_te_s[:400], verbose=0, batch_size=BATCH_SIZE)\n",
    "score"
   ]
  },
  {
   "cell_type": "code",
   "execution_count": 265,
   "metadata": {},
   "outputs": [
    {
     "data": {
      "text/plain": [
       "0.005132799269631505"
      ]
     },
     "execution_count": 265,
     "metadata": {},
     "output_type": "execute_result"
    }
   ],
   "source": [
    "0.005132799269631505"
   ]
  },
  {
   "cell_type": "code",
   "execution_count": 266,
   "metadata": {
    "scrolled": false
   },
   "outputs": [
    {
     "data": {
      "image/png": "[encoded data removed]",
      "text/plain": [
       "<Figure size 432x288 with 1 Axes>"
      ]
     },
     "metadata": {
      "needs_background": "light"
     },
     "output_type": "display_data"
    }
   ],
   "source": [
    "from matplotlib import pyplot as plt\n",
    "\n",
    "# Plot training & validation loss values\n",
    "plt.plot(normalize(np.array(history.history['loss'])))\n",
    "plt.plot(normalize(np.array(history.history['val_loss'])))\n",
    "plt.title('Model loss')\n",
    "plt.ylabel('Loss')\n",
    "plt.xlabel('Epoch')\n",
    "plt.legend(['Train'], loc='upper left')\n",
    "plt.show()"
   ]
  },
  {
   "cell_type": "code",
   "execution_count": 267,
   "metadata": {},
   "outputs": [
    {
     "data": {
      "text/plain": [
       "10000"
      ]
     },
     "execution_count": 267,
     "metadata": {},
     "output_type": "execute_result"
    }
   ],
   "source": [
    "len(X_te_f)"
   ]
  },
  {
   "cell_type": "code",
   "execution_count": 269,
   "metadata": {},
   "outputs": [
    {
     "data": {
      "text/plain": [
       "array([ 0.00720847,  0.00390608,  0.00069414, -0.00238913, -0.00538246,\n",
       "       -0.0082476 , -0.01097245, -0.01364918, -0.01623574, -0.01858433,\n",
       "       -0.0209128 , -0.02311743, -0.02515342, -0.0271521 , -0.0289777 ,\n",
       "       -0.03068439, -0.03238854, -0.03380311, -0.03520663, -0.03654917,\n",
       "       -0.03762048, -0.03861776, -0.03963517, -0.04040424, -0.04111475,\n",
       "       -0.04170411, -0.04220744, -0.04252864, -0.04285228, -0.04293739,\n",
       "       -0.04293268, -0.04301209, -0.04282712, -0.0426129 , -0.0423735 ,\n",
       "       -0.04189257, -0.04140666, -0.04086066, -0.0401896 , -0.03941978,\n",
       "       -0.03869359, -0.03782381, -0.03685462, -0.03586413, -0.03482395,\n",
       "       -0.03364499, -0.03251233, -0.03126309, -0.03004637, -0.02876272,\n",
       "       -0.02733327, -0.02604197, -0.02467418, -0.02319817, -0.02179869,\n",
       "       -0.02037514, -0.01891786, -0.0175517 , -0.01616797, -0.01475757,\n",
       "       -0.01333211, -0.01194194, -0.01061384, -0.00931575, -0.00807026,\n",
       "       -0.00677356, -0.00557142, -0.00450684, -0.00338372, -0.00232304,\n",
       "       -0.00135431, -0.00043977,  0.00040901,  0.00115946,  0.00186014,\n",
       "        0.00252367,  0.00306633,  0.00356573,  0.00398246,  0.00426971,\n",
       "        0.00453319,  0.00474836,  0.0048362 ,  0.00478653,  0.0048053 ,\n",
       "        0.00467371,  0.00443301,  0.00423093,  0.00387216,  0.00345785,\n",
       "        0.00293897,  0.00237639,  0.00170085,  0.00104053,  0.00027128,\n",
       "       -0.0005587 , -0.00141925, -0.00238321, -0.00326496, -0.00424822],\n",
       "      dtype=float32)"
      ]
     },
     "execution_count": 269,
     "metadata": {},
     "output_type": "execute_result"
    }
   ],
   "source": [
    "predict(model, X_te_s[:100])"
   ]
  },
  {
   "cell_type": "code",
   "execution_count": 270,
   "metadata": {},
   "outputs": [
    {
     "name": "stdout",
     "output_type": "stream",
     "text": [
      "[-0.00759911]\n"
     ]
    }
   ],
   "source": [
    "print(X_tr_s[0][-1])"
   ]
  },
  {
   "cell_type": "code",
   "execution_count": 548,
   "metadata": {
    "scrolled": false
   },
   "outputs": [
    {
     "name": "stdout",
     "output_type": "stream",
     "text": [
      "0   -0.043342\n",
      "1   -0.043335\n",
      "2   -0.044574\n",
      "3   -0.046696\n",
      "4   -0.049792\n",
      "dtype: float32\n"
     ]
    },
    {
     "data": {
      "text/plain": [
       "Text(0,0.5,'value')"
      ]
     },
     "execution_count": 548,
     "metadata": {},
     "output_type": "execute_result"
    },
    {
     "data": {
      "image/png": "[encoded data removed]",
      "text/plain": [
       "<Figure size 1152x576 with 1 Axes>"
      ]
     },
     "metadata": {
      "needs_background": "light"
     },
     "output_type": "display_data"
    }
   ],
   "source": [
    "%matplotlib inline\n",
    "from scipy.signal import savgol_filter\n",
    "\n",
    "(fig, ax) = plt.subplots(figsize=(16, 8))\n",
    "\n",
    "I = 200\n",
    "\n",
    "feat = pd.Series((np.array(list(map(lambda row: row[-1][0], X_tr_s[:I])))))\n",
    "\n",
    "feat.plot.line(ax=ax, label='feature')\n",
    "\n",
    "targ = (pd.Series((y_tr_s[:I])))\n",
    "\n",
    "pred = pd.Series(predict(model, X_tr_s[:I]))\n",
    "# pred = (pred * 3.2) + 0.001\n",
    "pred = pred + 0.001\n",
    "\n",
    "zeros = pd.Series(np.zeros(I))\n",
    "zeros.plot.line(ax=ax, label='0')\n",
    "\n",
    "targ.plot.line(ax=ax, label='target')\n",
    "\n",
    "print(pred[:5])\n",
    "\n",
    "pred.plot.line(ax=ax, label='predicted')\n",
    "# pd.Series(savgol_filter(pred, 5, 3)).plot.line(ax=ax, label='savgol(predicted)')\n",
    "\n",
    "# pd.Series(normalize(np.array(list(map(lambda w: w[-1], X_tr_f[:I]))))).plot.line(ax=ax, label='feature')\n",
    "\n",
    "ax.legend(loc=\"upper right\")\n",
    "ax.set_xlabel('index')\n",
    "ax.set_ylabel('value')"
   ]
  },
  {
   "cell_type": "markdown",
   "metadata": {},
   "source": [
    "## Time to evaluate performance"
   ]
  },
  {
   "cell_type": "code",
   "execution_count": 75,
   "metadata": {},
   "outputs": [
    {
     "ename": "ValueError",
     "evalue": "Error when checking input: expected gru_1_input to have 3 dimensions, but got array with shape (10000, 2)",
     "output_type": "error",
     "traceback": [
      "\u001b[0;31m---------------------------------------------------------------------------\u001b[0m",
      "\u001b[0;31mValueError\u001b[0m                                Traceback (most recent call last)",
      "\u001b[0;32m<ipython-input-75-7d77ab836aa5>\u001b[0m in \u001b[0;36m<module>\u001b[0;34m\u001b[0m\n\u001b[0;32m----> 1\u001b[0;31m \u001b[0mpredictions\u001b[0m \u001b[0;34m=\u001b[0m \u001b[0mpredict\u001b[0m\u001b[0;34m(\u001b[0m\u001b[0mmodel\u001b[0m\u001b[0;34m,\u001b[0m \u001b[0mX_tr_f\u001b[0m\u001b[0;34m[\u001b[0m\u001b[0;34m:\u001b[0m\u001b[0;36m10000\u001b[0m\u001b[0;34m]\u001b[0m\u001b[0;34m)\u001b[0m\u001b[0;34m\u001b[0m\u001b[0;34m\u001b[0m\u001b[0m\n\u001b[0m\u001b[1;32m      2\u001b[0m \u001b[0mlen\u001b[0m\u001b[0;34m(\u001b[0m\u001b[0mpredictions\u001b[0m\u001b[0;34m)\u001b[0m\u001b[0;34m,\u001b[0m \u001b[0mpredictions\u001b[0m\u001b[0;34m[\u001b[0m\u001b[0;34m:\u001b[0m\u001b[0;36m10\u001b[0m\u001b[0;34m]\u001b[0m\u001b[0;34m\u001b[0m\u001b[0;34m\u001b[0m\u001b[0m\n",
      "\u001b[0;32m<ipython-input-71-c9658235d849>\u001b[0m in \u001b[0;36mpredict\u001b[0;34m(model, X_input)\u001b[0m\n\u001b[1;32m      6\u001b[0m     return np.array(\n\u001b[1;32m      7\u001b[0m         model.predict(\n\u001b[0;32m----> 8\u001b[0;31m             \u001b[0mX_input\u001b[0m\u001b[0;34m[\u001b[0m\u001b[0;34m:\u001b[0m\u001b[0;34m(\u001b[0m\u001b[0mmath\u001b[0m\u001b[0;34m.\u001b[0m\u001b[0mfloor\u001b[0m\u001b[0;34m(\u001b[0m\u001b[0mlen\u001b[0m\u001b[0;34m(\u001b[0m\u001b[0mX_input\u001b[0m\u001b[0;34m)\u001b[0m \u001b[0;34m/\u001b[0m \u001b[0mBATCH_SIZE\u001b[0m\u001b[0;34m)\u001b[0m \u001b[0;34m*\u001b[0m \u001b[0mBATCH_SIZE\u001b[0m\u001b[0;34m)\u001b[0m\u001b[0;34m]\u001b[0m\u001b[0;34m,\u001b[0m \u001b[0mbatch_size\u001b[0m\u001b[0;34m=\u001b[0m\u001b[0mBATCH_SIZE\u001b[0m\u001b[0;34m\u001b[0m\u001b[0;34m\u001b[0m\u001b[0m\n\u001b[0m\u001b[1;32m      9\u001b[0m         )\n\u001b[1;32m     10\u001b[0m     ).flatten()\n",
      "\u001b[0;32m/usr/local/lib/python3.7/site-packages/keras/engine/training.py\u001b[0m in \u001b[0;36mpredict\u001b[0;34m(self, x, batch_size, verbose, steps)\u001b[0m\n\u001b[1;32m   1147\u001b[0m                              'argument.')\n\u001b[1;32m   1148\u001b[0m         \u001b[0;31m# Validate user data.\u001b[0m\u001b[0;34m\u001b[0m\u001b[0;34m\u001b[0m\u001b[0;34m\u001b[0m\u001b[0m\n\u001b[0;32m-> 1149\u001b[0;31m         \u001b[0mx\u001b[0m\u001b[0;34m,\u001b[0m \u001b[0m_\u001b[0m\u001b[0;34m,\u001b[0m \u001b[0m_\u001b[0m \u001b[0;34m=\u001b[0m \u001b[0mself\u001b[0m\u001b[0;34m.\u001b[0m\u001b[0m_standardize_user_data\u001b[0m\u001b[0;34m(\u001b[0m\u001b[0mx\u001b[0m\u001b[0;34m)\u001b[0m\u001b[0;34m\u001b[0m\u001b[0;34m\u001b[0m\u001b[0m\n\u001b[0m\u001b[1;32m   1150\u001b[0m         \u001b[0;32mif\u001b[0m \u001b[0mself\u001b[0m\u001b[0;34m.\u001b[0m\u001b[0mstateful\u001b[0m\u001b[0;34m:\u001b[0m\u001b[0;34m\u001b[0m\u001b[0;34m\u001b[0m\u001b[0m\n\u001b[1;32m   1151\u001b[0m             \u001b[0;32mif\u001b[0m \u001b[0mx\u001b[0m\u001b[0;34m[\u001b[0m\u001b[0;36m0\u001b[0m\u001b[0;34m]\u001b[0m\u001b[0;34m.\u001b[0m\u001b[0mshape\u001b[0m\u001b[0;34m[\u001b[0m\u001b[0;36m0\u001b[0m\u001b[0;34m]\u001b[0m \u001b[0;34m>\u001b[0m \u001b[0mbatch_size\u001b[0m \u001b[0;32mand\u001b[0m \u001b[0mx\u001b[0m\u001b[0;34m[\u001b[0m\u001b[0;36m0\u001b[0m\u001b[0;34m]\u001b[0m\u001b[0;34m.\u001b[0m\u001b[0mshape\u001b[0m\u001b[0;34m[\u001b[0m\u001b[0;36m0\u001b[0m\u001b[0;34m]\u001b[0m \u001b[0;34m%\u001b[0m \u001b[0mbatch_size\u001b[0m \u001b[0;34m!=\u001b[0m \u001b[0;36m0\u001b[0m\u001b[0;34m:\u001b[0m\u001b[0;34m\u001b[0m\u001b[0;34m\u001b[0m\u001b[0m\n",
      "\u001b[0;32m/usr/local/lib/python3.7/site-packages/keras/engine/training.py\u001b[0m in \u001b[0;36m_standardize_user_data\u001b[0;34m(self, x, y, sample_weight, class_weight, check_array_lengths, batch_size)\u001b[0m\n\u001b[1;32m    749\u001b[0m             \u001b[0mfeed_input_shapes\u001b[0m\u001b[0;34m,\u001b[0m\u001b[0;34m\u001b[0m\u001b[0;34m\u001b[0m\u001b[0m\n\u001b[1;32m    750\u001b[0m             \u001b[0mcheck_batch_axis\u001b[0m\u001b[0;34m=\u001b[0m\u001b[0;32mFalse\u001b[0m\u001b[0;34m,\u001b[0m  \u001b[0;31m# Don't enforce the batch size.\u001b[0m\u001b[0;34m\u001b[0m\u001b[0;34m\u001b[0m\u001b[0m\n\u001b[0;32m--> 751\u001b[0;31m             exception_prefix='input')\n\u001b[0m\u001b[1;32m    752\u001b[0m \u001b[0;34m\u001b[0m\u001b[0m\n\u001b[1;32m    753\u001b[0m         \u001b[0;32mif\u001b[0m \u001b[0my\u001b[0m \u001b[0;32mis\u001b[0m \u001b[0;32mnot\u001b[0m \u001b[0;32mNone\u001b[0m\u001b[0;34m:\u001b[0m\u001b[0;34m\u001b[0m\u001b[0;34m\u001b[0m\u001b[0m\n",
      "\u001b[0;32m/usr/local/lib/python3.7/site-packages/keras/engine/training_utils.py\u001b[0m in \u001b[0;36mstandardize_input_data\u001b[0;34m(data, names, shapes, check_batch_axis, exception_prefix)\u001b[0m\n\u001b[1;32m    126\u001b[0m                         \u001b[0;34m': expected '\u001b[0m \u001b[0;34m+\u001b[0m \u001b[0mnames\u001b[0m\u001b[0;34m[\u001b[0m\u001b[0mi\u001b[0m\u001b[0;34m]\u001b[0m \u001b[0;34m+\u001b[0m \u001b[0;34m' to have '\u001b[0m \u001b[0;34m+\u001b[0m\u001b[0;34m\u001b[0m\u001b[0;34m\u001b[0m\u001b[0m\n\u001b[1;32m    127\u001b[0m                         \u001b[0mstr\u001b[0m\u001b[0;34m(\u001b[0m\u001b[0mlen\u001b[0m\u001b[0;34m(\u001b[0m\u001b[0mshape\u001b[0m\u001b[0;34m)\u001b[0m\u001b[0;34m)\u001b[0m \u001b[0;34m+\u001b[0m \u001b[0;34m' dimensions, but got array '\u001b[0m\u001b[0;34m\u001b[0m\u001b[0;34m\u001b[0m\u001b[0m\n\u001b[0;32m--> 128\u001b[0;31m                         'with shape ' + str(data_shape))\n\u001b[0m\u001b[1;32m    129\u001b[0m                 \u001b[0;32mif\u001b[0m \u001b[0;32mnot\u001b[0m \u001b[0mcheck_batch_axis\u001b[0m\u001b[0;34m:\u001b[0m\u001b[0;34m\u001b[0m\u001b[0;34m\u001b[0m\u001b[0m\n\u001b[1;32m    130\u001b[0m                     \u001b[0mdata_shape\u001b[0m \u001b[0;34m=\u001b[0m \u001b[0mdata_shape\u001b[0m\u001b[0;34m[\u001b[0m\u001b[0;36m1\u001b[0m\u001b[0;34m:\u001b[0m\u001b[0;34m]\u001b[0m\u001b[0;34m\u001b[0m\u001b[0;34m\u001b[0m\u001b[0m\n",
      "\u001b[0;31mValueError\u001b[0m: Error when checking input: expected gru_1_input to have 3 dimensions, but got array with shape (10000, 2)"
     ]
    }
   ],
   "source": [
    "predictions = predict(model, X_tr_f[:10000])\n",
    "len(predictions), predictions[:10]"
   ]
  },
  {
   "cell_type": "code",
   "execution_count": null,
   "metadata": {},
   "outputs": [],
   "source": [
    "wavfile.write('output/clean_train_pred_out.wav', source_clean_fs, predictions)"
   ]
  },
  {
   "cell_type": "code",
   "execution_count": null,
   "metadata": {},
   "outputs": [],
   "source": [
    "len(predictions)"
   ]
  },
  {
   "cell_type": "code",
   "execution_count": null,
   "metadata": {},
   "outputs": [],
   "source": []
  }
 ],
 "metadata": {
  "kernelspec": {
   "display_name": "Python 3",
   "language": "python",
   "name": "python3"
  },
  "language_info": {
   "codemirror_mode": {
    "name": "ipython",
    "version": 3
   },
   "file_extension": ".py",
   "mimetype": "text/x-python",
   "name": "python",
   "nbconvert_exporter": "python",
   "pygments_lexer": "ipython3",
   "version": "3.7.3"
  }
 },
 "nbformat": 4,
 "nbformat_minor": 2
}
