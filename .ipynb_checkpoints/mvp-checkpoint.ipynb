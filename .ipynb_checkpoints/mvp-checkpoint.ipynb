{
 "cells": [
  {
   "cell_type": "code",
   "execution_count": 1,
   "metadata": {},
   "outputs": [],
   "source": [
    "from scipy.io import wavfile\n",
    "\n",
    "(source_fs, source_data) = wavfile.read('./data/01_source.wav')\n",
    "(target_fs, target_data) = wavfile.read('./data/01_peak_compressor.wav')\n"
   ]
  },
  {
   "cell_type": "code",
   "execution_count": 2,
   "metadata": {},
   "outputs": [],
   "source": [
    "import pandas as pd"
   ]
  },
  {
   "cell_type": "code",
   "execution_count": 3,
   "metadata": {},
   "outputs": [
    {
     "data": {
      "text/html": [
       "<div>\n",
       "<style scoped>\n",
       "    .dataframe tbody tr th:only-of-type {\n",
       "        vertical-align: middle;\n",
       "    }\n",
       "\n",
       "    .dataframe tbody tr th {\n",
       "        vertical-align: top;\n",
       "    }\n",
       "\n",
       "    .dataframe thead th {\n",
       "        text-align: right;\n",
       "    }\n",
       "</style>\n",
       "<table border=\"1\" class=\"dataframe\">\n",
       "  <thead>\n",
       "    <tr style=\"text-align: right;\">\n",
       "      <th></th>\n",
       "      <th>L</th>\n",
       "      <th>R</th>\n",
       "    </tr>\n",
       "  </thead>\n",
       "  <tbody>\n",
       "    <tr>\n",
       "      <th>0</th>\n",
       "      <td>1</td>\n",
       "      <td>-1</td>\n",
       "    </tr>\n",
       "    <tr>\n",
       "      <th>1</th>\n",
       "      <td>-5</td>\n",
       "      <td>-6</td>\n",
       "    </tr>\n",
       "    <tr>\n",
       "      <th>2</th>\n",
       "      <td>-11</td>\n",
       "      <td>-12</td>\n",
       "    </tr>\n",
       "    <tr>\n",
       "      <th>3</th>\n",
       "      <td>-18</td>\n",
       "      <td>-17</td>\n",
       "    </tr>\n",
       "    <tr>\n",
       "      <th>4</th>\n",
       "      <td>-24</td>\n",
       "      <td>-24</td>\n",
       "    </tr>\n",
       "  </tbody>\n",
       "</table>\n",
       "</div>"
      ],
      "text/plain": [
       "    L   R\n",
       "0   1  -1\n",
       "1  -5  -6\n",
       "2 -11 -12\n",
       "3 -18 -17\n",
       "4 -24 -24"
      ]
     },
     "execution_count": 3,
     "metadata": {},
     "output_type": "execute_result"
    }
   ],
   "source": [
    "source_df = pd.DataFrame(source_data, columns=['L', 'R'])\n",
    "source_df.head()"
   ]
  },
  {
   "cell_type": "code",
   "execution_count": 4,
   "metadata": {},
   "outputs": [
    {
     "data": {
      "text/html": [
       "<div>\n",
       "<style scoped>\n",
       "    .dataframe tbody tr th:only-of-type {\n",
       "        vertical-align: middle;\n",
       "    }\n",
       "\n",
       "    .dataframe tbody tr th {\n",
       "        vertical-align: top;\n",
       "    }\n",
       "\n",
       "    .dataframe thead th {\n",
       "        text-align: right;\n",
       "    }\n",
       "</style>\n",
       "<table border=\"1\" class=\"dataframe\">\n",
       "  <thead>\n",
       "    <tr style=\"text-align: right;\">\n",
       "      <th></th>\n",
       "      <th>L</th>\n",
       "      <th>R</th>\n",
       "    </tr>\n",
       "  </thead>\n",
       "  <tbody>\n",
       "    <tr>\n",
       "      <th>0</th>\n",
       "      <td>-1</td>\n",
       "      <td>0</td>\n",
       "    </tr>\n",
       "    <tr>\n",
       "      <th>1</th>\n",
       "      <td>-37</td>\n",
       "      <td>-37</td>\n",
       "    </tr>\n",
       "    <tr>\n",
       "      <th>2</th>\n",
       "      <td>-81</td>\n",
       "      <td>-81</td>\n",
       "    </tr>\n",
       "    <tr>\n",
       "      <th>3</th>\n",
       "      <td>-128</td>\n",
       "      <td>-128</td>\n",
       "    </tr>\n",
       "    <tr>\n",
       "      <th>4</th>\n",
       "      <td>-177</td>\n",
       "      <td>-178</td>\n",
       "    </tr>\n",
       "  </tbody>\n",
       "</table>\n",
       "</div>"
      ],
      "text/plain": [
       "     L    R\n",
       "0   -1    0\n",
       "1  -37  -37\n",
       "2  -81  -81\n",
       "3 -128 -128\n",
       "4 -177 -178"
      ]
     },
     "execution_count": 4,
     "metadata": {},
     "output_type": "execute_result"
    }
   ],
   "source": [
    "target_df = pd.DataFrame(target_data, columns=['L', 'R'])\n",
    "target_df.head()"
   ]
  },
  {
   "cell_type": "code",
   "execution_count": 5,
   "metadata": {},
   "outputs": [
    {
     "data": {
      "text/plain": [
       "(10790, 16537)"
      ]
     },
     "execution_count": 5,
     "metadata": {},
     "output_type": "execute_result"
    }
   ],
   "source": [
    "source_df['L'].max(), target_df['L'].max()"
   ]
  },
  {
   "cell_type": "code",
   "execution_count": 6,
   "metadata": {},
   "outputs": [
    {
     "data": {
      "text/plain": [
       "32768"
      ]
     },
     "execution_count": 6,
     "metadata": {},
     "output_type": "execute_result"
    }
   ],
   "source": [
    "2 ** 15"
   ]
  },
  {
   "cell_type": "code",
   "execution_count": 7,
   "metadata": {},
   "outputs": [
    {
     "data": {
      "text/plain": [
       "32767"
      ]
     },
     "execution_count": 7,
     "metadata": {},
     "output_type": "execute_result"
    }
   ],
   "source": [
    "MAX_VALUE = 2 ** 15 - 1\n",
    "MAX_VALUE"
   ]
  },
  {
   "cell_type": "code",
   "execution_count": null,
   "metadata": {},
   "outputs": [],
   "source": []
  },
  {
   "cell_type": "code",
   "execution_count": 8,
   "metadata": {},
   "outputs": [
    {
     "data": {
      "text/plain": [
       "(1302647, 1302647)"
      ]
     },
     "execution_count": 8,
     "metadata": {},
     "output_type": "execute_result"
    }
   ],
   "source": [
    "len(source_df), len(target_df)"
   ]
  },
  {
   "cell_type": "code",
   "execution_count": 9,
   "metadata": {},
   "outputs": [
    {
     "data": {
      "text/plain": [
       "1042100"
      ]
     },
     "execution_count": 9,
     "metadata": {},
     "output_type": "execute_result"
    }
   ],
   "source": [
    "# END_LOC = int(len(target_df) * 0.8)\n",
    "TR_END_LOC = int(len(target_df) * 0.8 / 100) * 100\n",
    "TR_END_LOC"
   ]
  },
  {
   "cell_type": "markdown",
   "metadata": {},
   "source": [
    "## IT'S MONO"
   ]
  },
  {
   "cell_type": "code",
   "execution_count": 10,
   "metadata": {},
   "outputs": [
    {
     "data": {
      "text/plain": [
       "1042100"
      ]
     },
     "execution_count": 10,
     "metadata": {},
     "output_type": "execute_result"
    }
   ],
   "source": [
    "X_train_raw = source_df['L'][:TR_END_LOC]\n",
    "len(X_train_raw)"
   ]
  },
  {
   "cell_type": "code",
   "execution_count": 11,
   "metadata": {},
   "outputs": [
    {
     "data": {
      "text/plain": [
       "260547"
      ]
     },
     "execution_count": 11,
     "metadata": {},
     "output_type": "execute_result"
    }
   ],
   "source": [
    "X_test_raw = source_df['L'][TR_END_LOC:]\n",
    "len(X_test_raw)"
   ]
  },
  {
   "cell_type": "code",
   "execution_count": 12,
   "metadata": {},
   "outputs": [
    {
     "data": {
      "text/plain": [
       "1042100"
      ]
     },
     "execution_count": 12,
     "metadata": {},
     "output_type": "execute_result"
    }
   ],
   "source": [
    "y_train_raw = target_df['L'][:TR_END_LOC]\n",
    "len(y_train_raw)"
   ]
  },
  {
   "cell_type": "code",
   "execution_count": 13,
   "metadata": {},
   "outputs": [
    {
     "data": {
      "text/plain": [
       "260547"
      ]
     },
     "execution_count": 13,
     "metadata": {},
     "output_type": "execute_result"
    }
   ],
   "source": [
    "y_test_raw = target_df['L'][TR_END_LOC:]\n",
    "len(y_test_raw)"
   ]
  },
  {
   "cell_type": "code",
   "execution_count": 14,
   "metadata": {},
   "outputs": [
    {
     "data": {
      "text/plain": [
       "1042100    3458\n",
       "1042101    3469\n",
       "1042102    3479\n",
       "1042103    3485\n",
       "1042104    3490\n",
       "1042105    3491\n",
       "1042106    3489\n",
       "1042107    3485\n",
       "1042108    3479\n",
       "1042109    3471\n",
       "Name: L, dtype: int16"
      ]
     },
     "execution_count": 14,
     "metadata": {},
     "output_type": "execute_result"
    }
   ],
   "source": [
    "X_test_raw.iloc[:10]"
   ]
  },
  {
   "cell_type": "code",
   "execution_count": 15,
   "metadata": {},
   "outputs": [],
   "source": [
    "# safe-checking data"
   ]
  },
  {
   "cell_type": "code",
   "execution_count": 16,
   "metadata": {},
   "outputs": [],
   "source": [
    "# y_train_raw = -y_train_raw + 4000\n",
    "# y_train_raw.iloc[0]"
   ]
  },
  {
   "cell_type": "code",
   "execution_count": 17,
   "metadata": {},
   "outputs": [],
   "source": [
    "# y_test_raw = -y_test_raw + 4000\n",
    "# y_test_raw.iloc[0]"
   ]
  },
  {
   "cell_type": "markdown",
   "metadata": {},
   "source": [
    "## Preparing data for processing"
   ]
  },
  {
   "cell_type": "code",
   "execution_count": 18,
   "metadata": {},
   "outputs": [],
   "source": [
    "def normalize_keeping_mean(arr, forced_abs=None):\n",
    "    left_abs = np.abs(arr.mean() - arr.min())\n",
    "    right_abs = np.abs(arr.max() - arr.mean())\n",
    "    \n",
    "    n = max(left_abs, right_abs)\n",
    "    \n",
    "    if (forced_abs is not None):\n",
    "        n = forced_abs\n",
    "    \n",
    "    return np.clip(arr / n, -1.0, 1.0)"
   ]
  },
  {
   "cell_type": "code",
   "execution_count": 19,
   "metadata": {},
   "outputs": [],
   "source": [
    "def normalize(arr, forced_abs=None, mean=None):\n",
    "    left_abs = np.abs(arr.mean() - arr.min())\n",
    "    right_abs = np.abs(arr.max() - arr.mean())\n",
    "    \n",
    "    n = max(left_abs, right_abs)\n",
    "    \n",
    "    if (forced_abs is not None):\n",
    "        n = forced_abs\n",
    "        \n",
    "    if (mean is None):\n",
    "        mean = arr.mean()\n",
    "    \n",
    "    \n",
    "    return np.clip((arr - mean) / n, -1.0, 1.0)"
   ]
  },
  {
   "cell_type": "code",
   "execution_count": 20,
   "metadata": {},
   "outputs": [
    {
     "data": {
      "text/plain": [
       "(-0.30961027863399154, 0.3292947172460097, 5.524491569495269e-06)"
      ]
     },
     "execution_count": 20,
     "metadata": {},
     "output_type": "execute_result"
    }
   ],
   "source": [
    "import numpy as np\n",
    "\n",
    "X_tr = np.array(list(map(lambda x: np.array(x), X_train_raw)))\n",
    "X_tr_n = normalize(X_tr, forced_abs=MAX_VALUE, mean=0.0)\n",
    "X_tr_n.min(), X_tr_n.max(), np.mean(X_tr_n)"
   ]
  },
  {
   "cell_type": "code",
   "execution_count": 21,
   "metadata": {},
   "outputs": [
    {
     "data": {
      "text/plain": [
       "(-0.1662038026062807, 0.2346873378704184, 1.2222185906085745e-05)"
      ]
     },
     "execution_count": 21,
     "metadata": {},
     "output_type": "execute_result"
    }
   ],
   "source": [
    "X_te = np.array(list(map(lambda x: np.array(x), X_test_raw)))\n",
    "X_te_n= normalize(X_te, forced_abs=MAX_VALUE, mean=0.0)\n",
    "X_te_n.min(), X_te_n.max(), np.mean(X_te_n)"
   ]
  },
  {
   "cell_type": "code",
   "execution_count": 22,
   "metadata": {},
   "outputs": [
    {
     "data": {
      "text/plain": [
       "(-0.3057954649494919, 0.5046845912045655, -0.0002333393516189353)"
      ]
     },
     "execution_count": 22,
     "metadata": {},
     "output_type": "execute_result"
    }
   ],
   "source": [
    "y_tr = np.array(list(map(lambda x: np.array(x), y_train_raw)))\n",
    "y_tr_n = normalize(y_tr, forced_abs=MAX_VALUE, mean=0.0)\n",
    "y_tr_n.min(), y_tr_n.max(), np.mean(y_tr_n)"
   ]
  },
  {
   "cell_type": "code",
   "execution_count": 23,
   "metadata": {},
   "outputs": [
    {
     "data": {
      "text/plain": [
       "(-0.2708517715994751, 0.43766594439527573, -2.5239466909497803e-05)"
      ]
     },
     "execution_count": 23,
     "metadata": {},
     "output_type": "execute_result"
    }
   ],
   "source": [
    "y_te = np.array(list(map(lambda x: np.array(x), y_test_raw)))\n",
    "y_te_n = normalize(y_te, forced_abs=MAX_VALUE, mean=0.0)\n",
    "y_te_n.min(), y_te_n.max(), np.mean(y_te_n)"
   ]
  },
  {
   "cell_type": "code",
   "execution_count": 24,
   "metadata": {},
   "outputs": [],
   "source": [
    "X_tr_n = X_tr_n.astype('float32')\n",
    "X_te_n = X_te_n.astype('float32')\n",
    "y_tr_n = y_tr_n.astype('float32')\n",
    "y_te_n = y_te_n.astype('float32')"
   ]
  },
  {
   "cell_type": "code",
   "execution_count": 25,
   "metadata": {
    "scrolled": false
   },
   "outputs": [
    {
     "data": {
      "text/plain": [
       "<matplotlib.axes._subplots.AxesSubplot at 0x1214bb588>"
      ]
     },
     "execution_count": 25,
     "metadata": {},
     "output_type": "execute_result"
    }
   ],
   "source": [
    "pd.Series(X_tr_n[:800]).plot.line(figsize=(16, 8))"
   ]
  },
  {
   "cell_type": "code",
   "execution_count": 26,
   "metadata": {},
   "outputs": [
    {
     "data": {
      "text/plain": [
       "<matplotlib.axes._subplots.AxesSubplot at 0x12204a400>"
      ]
     },
     "execution_count": 26,
     "metadata": {},
     "output_type": "execute_result"
    },
    {
     "data": {
      "image/png": "[encoded data removed]",
      "text/plain": [
       "<Figure size 1152x576 with 1 Axes>"
      ]
     },
     "metadata": {
      "needs_background": "light"
     },
     "output_type": "display_data"
    }
   ],
   "source": [
    "pd.Series(y_tr_n[:800]).plot.line(figsize=(16, 8))"
   ]
  },
  {
   "cell_type": "code",
   "execution_count": 27,
   "metadata": {},
   "outputs": [
    {
     "data": {
      "text/plain": [
       "(-0.1662038, 0.23468734, 1.2222178e-05)"
      ]
     },
     "execution_count": 27,
     "metadata": {},
     "output_type": "execute_result"
    }
   ],
   "source": [
    "\n",
    "X_te_n.min(), X_te_n.max(), np.mean(X_te_n)"
   ]
  },
  {
   "cell_type": "code",
   "execution_count": 28,
   "metadata": {},
   "outputs": [
    {
     "data": {
      "text/plain": [
       "<matplotlib.axes._subplots.AxesSubplot at 0x1220a05c0>"
      ]
     },
     "execution_count": 28,
     "metadata": {},
     "output_type": "execute_result"
    },
    {
     "data": {
      "image/png": "[encoded data removed]",
      "text/plain": [
       "<Figure size 1152x576 with 1 Axes>"
      ]
     },
     "metadata": {
      "needs_background": "light"
     },
     "output_type": "display_data"
    }
   ],
   "source": [
    "pd.Series(X_te_n[:800]).plot.line(figsize=(16, 8))"
   ]
  },
  {
   "cell_type": "code",
   "execution_count": 29,
   "metadata": {
    "scrolled": true
   },
   "outputs": [
    {
     "data": {
      "text/plain": [
       "<matplotlib.axes._subplots.AxesSubplot at 0x12210b4e0>"
      ]
     },
     "execution_count": 29,
     "metadata": {},
     "output_type": "execute_result"
    },
    {
     "data": {
      "image/png": "[encoded data removed]",
      "text/plain": [
       "<Figure size 1152x576 with 1 Axes>"
      ]
     },
     "metadata": {
      "needs_background": "light"
     },
     "output_type": "display_data"
    }
   ],
   "source": [
    "pd.Series(y_te_n[:800]).plot.line(figsize=(16, 8))"
   ]
  },
  {
   "cell_type": "code",
   "execution_count": null,
   "metadata": {},
   "outputs": [],
   "source": []
  },
  {
   "cell_type": "code",
   "execution_count": 30,
   "metadata": {},
   "outputs": [],
   "source": [
    "# appending stats of the whole sample, fading from silence"
   ]
  },
  {
   "cell_type": "code",
   "execution_count": 31,
   "metadata": {},
   "outputs": [],
   "source": [
    "# train_shuffle_index = np.random.shuffle(np.arange(0, len(X_tr_n)))\n",
    "# test_shuffle_index = np.random.shuffle(np.arange(0, len(X_te_n)))\n",
    "\n",
    "# X_tr_f = X_tr_n[train_shuffle_index][0]\n",
    "# y_tr_f = y_tr_n[train_shuffle_index][0]\n",
    "\n",
    "# X_te_f = X_te_n[test_shuffle_index][0]\n",
    "# y_te_f = y_te_n[test_shuffle_index][0]"
   ]
  },
  {
   "cell_type": "markdown",
   "metadata": {},
   "source": [
    "## Making windows"
   ]
  },
  {
   "cell_type": "code",
   "execution_count": 32,
   "metadata": {},
   "outputs": [
    {
     "data": {
      "text/plain": [
       "64"
      ]
     },
     "execution_count": 32,
     "metadata": {},
     "output_type": "execute_result"
    }
   ],
   "source": [
    "# N_WINDOW_POINTS = int(source_clean_fs * 0.02)\n",
    "N_WINDOW_POINTS = 64\n",
    "N_WINDOW_POINTS"
   ]
  },
  {
   "cell_type": "code",
   "execution_count": 33,
   "metadata": {},
   "outputs": [
    {
     "data": {
      "text/plain": [
       "132000"
      ]
     },
     "execution_count": 33,
     "metadata": {},
     "output_type": "execute_result"
    }
   ],
   "source": [
    "N_SAMPLES = 44000 * 3\n",
    "N_SAMPLES"
   ]
  },
  {
   "cell_type": "code",
   "execution_count": 34,
   "metadata": {},
   "outputs": [],
   "source": [
    "def make_windows(X, y, n_window_points):\n",
    "    X_index = X.index\n",
    "    index = 0\n",
    "    \n",
    "    res_X = []\n",
    "    res_y = []\n",
    "\n",
    "    for index in range(0, len(X) - n_window_points - 1):\n",
    "        res_X.append(X.iloc[index:(index + n_window_points)])\n",
    "#         res_y.append(y.iloc[index + n_window_points])\n",
    "        res_y.append(y.iloc[index + n_window_points - 1])\n",
    "\n",
    "    return (np.array(res_X), np.array(res_y))"
   ]
  },
  {
   "cell_type": "code",
   "execution_count": 35,
   "metadata": {},
   "outputs": [
    {
     "name": "stdout",
     "output_type": "stream",
     "text": [
      "(132000, array([ 3.05185094e-05, -1.52592547e-04, -3.35703604e-04, -5.49333170e-04,\n",
      "       -7.32444227e-04, -9.15555283e-04, -1.12918485e-03, -1.40385143e-03,\n",
      "       -1.61748100e-03, -1.86162908e-03, -2.10577715e-03, -2.38044374e-03,\n",
      "       -2.59407330e-03, -2.80770287e-03, -3.02133244e-03, -3.23496200e-03,\n",
      "       -3.38755455e-03, -3.54014710e-03, -3.75377666e-03, -3.93688772e-03,\n",
      "       -4.08948027e-03, -4.21155430e-03, -4.30310983e-03, -4.39466536e-03,\n",
      "       -4.45570238e-03, -4.57777642e-03, -4.69985045e-03, -4.79140598e-03,\n",
      "       -4.94399853e-03, -5.06607257e-03, -5.31022064e-03, -5.52385021e-03,\n",
      "       -5.85955381e-03, -6.50044251e-03, -7.14133121e-03, -7.87377544e-03,\n",
      "       -8.54518265e-03, -9.27762687e-03, -9.94903408e-03, -1.06814783e-02,\n",
      "       -1.12918485e-02, -1.18717002e-02, -1.24820704e-02, -1.30619220e-02,\n",
      "       -1.36722922e-02, -1.42216254e-02, -1.47404401e-02, -1.51982177e-02,\n",
      "       -1.55949583e-02, -1.58391073e-02, -1.59306619e-02, -1.58391073e-02,\n",
      "       -1.55949583e-02, -1.51982177e-02, -1.46183660e-02, -1.38859218e-02,\n",
      "       -1.30314035e-02, -1.21158483e-02, -1.11392559e-02, -1.01931822e-02,\n",
      "       -9.24710836e-03, -8.51466414e-03, -7.93481246e-03, -7.59910885e-03],\n",
      "      dtype=float32), -0.054567095)\n",
      "CPU times: user 18 s, sys: 178 ms, total: 18.1 s\n",
      "Wall time: 18.2 s\n"
     ]
    }
   ],
   "source": [
    "%%time\n",
    "(X_tr_f, y_tr_f) = make_windows(\n",
    "    pd.Series(X_tr_n[:(N_SAMPLES + N_WINDOW_POINTS + 1)]),\n",
    "    pd.Series(y_tr_n[:(N_SAMPLES + N_WINDOW_POINTS + 1)]),\n",
    "    N_WINDOW_POINTS)\n",
    "print((len(X_tr_f), X_tr_f[0], y_tr_f[0]))"
   ]
  },
  {
   "cell_type": "code",
   "execution_count": 36,
   "metadata": {},
   "outputs": [
    {
     "data": {
      "text/plain": [
       "(array([-0.00015259, -0.0003357 , -0.00054933, -0.00073244, -0.00091556,\n",
       "        -0.00112918, -0.00140385, -0.00161748, -0.00186163, -0.00210578,\n",
       "        -0.00238044, -0.00259407, -0.0028077 , -0.00302133, -0.00323496,\n",
       "        -0.00338755, -0.00354015, -0.00375378, -0.00393689, -0.00408948,\n",
       "        -0.00421155, -0.00430311, -0.00439467, -0.0044557 , -0.00457778,\n",
       "        -0.00469985, -0.00479141, -0.004944  , -0.00506607, -0.00531022,\n",
       "        -0.00552385, -0.00585955, -0.00650044, -0.00714133, -0.00787378,\n",
       "        -0.00854518, -0.00927763, -0.00994903, -0.01068148, -0.01129185,\n",
       "        -0.0118717 , -0.01248207, -0.01306192, -0.01367229, -0.01422163,\n",
       "        -0.01474044, -0.01519822, -0.01559496, -0.01583911, -0.01593066,\n",
       "        -0.01583911, -0.01559496, -0.01519822, -0.01461837, -0.01388592,\n",
       "        -0.0130314 , -0.01211585, -0.01113926, -0.01019318, -0.00924711,\n",
       "        -0.00851466, -0.00793481, -0.00759911, -0.00747703], dtype=float32),\n",
       " -0.053773616)"
      ]
     },
     "execution_count": 36,
     "metadata": {},
     "output_type": "execute_result"
    }
   ],
   "source": [
    "X_tr_f[1], y_tr_f[1]"
   ]
  },
  {
   "cell_type": "code",
   "execution_count": 37,
   "metadata": {},
   "outputs": [
    {
     "name": "stdout",
     "output_type": "stream",
     "text": [
      "(132000, array([0.105533  , 0.10586871, 0.1061739 , 0.10635701, 0.1065096 ,\n",
      "       0.10654011, 0.10647908, 0.10635701, 0.1061739 , 0.10592975,\n",
      "       0.105533  , 0.10507523, 0.10455641, 0.10391553, 0.1032136 ,\n",
      "       0.10242012, 0.10153508, 0.10058901, 0.09955138, 0.09839167,\n",
      "       0.09720145, 0.09588916, 0.09454634, 0.09305093, 0.09155553,\n",
      "       0.08990753, 0.08822901, 0.08648945, 0.08465835, 0.0827662 ,\n",
      "       0.08084353, 0.07882931, 0.07672353, 0.07458724, 0.07238991,\n",
      "       0.07016205, 0.06787317, 0.06552324, 0.0631428 , 0.06073184,\n",
      "       0.05829035, 0.05578784, 0.05328532, 0.0507828 , 0.04821924,\n",
      "       0.04565569, 0.04306162, 0.04049806, 0.03790399, 0.03530991,\n",
      "       0.03277688, 0.03021332, 0.02764977, 0.02517777, 0.02264473,\n",
      "       0.02023377, 0.01782281, 0.01544237, 0.01312296, 0.01083407,\n",
      "       0.00860622, 0.00640889, 0.00424207, 0.00219733], dtype=float32), 0.0045777764)\n",
      "CPU times: user 18.1 s, sys: 182 ms, total: 18.2 s\n",
      "Wall time: 18.3 s\n"
     ]
    }
   ],
   "source": [
    "%%time\n",
    "(X_te_f, y_te_f) = make_windows(\n",
    "    pd.Series(X_te_n[:(N_SAMPLES + N_WINDOW_POINTS + 1)]),\n",
    "    pd.Series(y_te_n[:(N_SAMPLES + N_WINDOW_POINTS + 1)]),\n",
    "    N_WINDOW_POINTS\n",
    ")\n",
    "print((len(X_te_f), X_te_f[0], y_te_f[0]))"
   ]
  },
  {
   "cell_type": "code",
   "execution_count": 38,
   "metadata": {},
   "outputs": [
    {
     "data": {
      "text/plain": [
       "(array([0.10586871, 0.1061739 , 0.10635701, 0.1065096 , 0.10654011,\n",
       "        0.10647908, 0.10635701, 0.1061739 , 0.10592975, 0.105533  ,\n",
       "        0.10507523, 0.10455641, 0.10391553, 0.1032136 , 0.10242012,\n",
       "        0.10153508, 0.10058901, 0.09955138, 0.09839167, 0.09720145,\n",
       "        0.09588916, 0.09454634, 0.09305093, 0.09155553, 0.08990753,\n",
       "        0.08822901, 0.08648945, 0.08465835, 0.0827662 , 0.08084353,\n",
       "        0.07882931, 0.07672353, 0.07458724, 0.07238991, 0.07016205,\n",
       "        0.06787317, 0.06552324, 0.0631428 , 0.06073184, 0.05829035,\n",
       "        0.05578784, 0.05328532, 0.0507828 , 0.04821924, 0.04565569,\n",
       "        0.04306162, 0.04049806, 0.03790399, 0.03530991, 0.03277688,\n",
       "        0.03021332, 0.02764977, 0.02517777, 0.02264473, 0.02023377,\n",
       "        0.01782281, 0.01544237, 0.01312296, 0.01083407, 0.00860622,\n",
       "        0.00640889, 0.00424207, 0.00219733, 0.00015259], dtype=float32),\n",
       " 0.0003357036)"
      ]
     },
     "execution_count": 38,
     "metadata": {},
     "output_type": "execute_result"
    }
   ],
   "source": [
    "X_te_f[1], y_te_f[1]"
   ]
  },
  {
   "cell_type": "code",
   "execution_count": null,
   "metadata": {},
   "outputs": [],
   "source": []
  },
  {
   "cell_type": "code",
   "execution_count": 39,
   "metadata": {},
   "outputs": [],
   "source": [
    "# import numpy as np\n",
    "\n",
    "# train_shuffle_index = np.arange(0, len(X_tr_f))\n",
    "# np.random.shuffle(train_shuffle_index)\n",
    "\n",
    "# test_shuffle_index = np.arange(0, len(X_te_f))\n",
    "# np.random.shuffle(test_shuffle_index)\n",
    "\n",
    "# X_tr_f = np.array(X_tr_f)[train_shuffle_index]\n",
    "# y_tr_f = np.array(y_tr_f)[train_shuffle_index]\n",
    "\n",
    "# X_te_f = np.array(X_te_f)[test_shuffle_index]\n",
    "# y_te_f = np.array(y_te_f)[test_shuffle_index]\n",
    "\n",
    "# X_tr_f[0], y_tr_f[0], len(X_tr_f), len(y_tr_f), len(X_te_f), len(y_te_f)"
   ]
  },
  {
   "cell_type": "code",
   "execution_count": 40,
   "metadata": {},
   "outputs": [],
   "source": [
    "# X_tr_f = X_tr_n\n",
    "# y_tr_f = y_tr_n\n",
    "\n",
    "# X_te_f = X_te_n\n",
    "# y_te_f = y_te_n"
   ]
  },
  {
   "cell_type": "code",
   "execution_count": 41,
   "metadata": {},
   "outputs": [
    {
     "data": {
      "text/plain": [
       "(132000, 132000, 132000, 132000)"
      ]
     },
     "execution_count": 41,
     "metadata": {},
     "output_type": "execute_result"
    }
   ],
   "source": [
    "(len(X_tr_f), len(y_tr_f), len(X_te_f), len(y_te_f))"
   ]
  },
  {
   "cell_type": "code",
   "execution_count": 42,
   "metadata": {},
   "outputs": [],
   "source": [
    "# list(map(lambda row: row[:N_PEAKS*2], X_tr_f))[0]\n",
    "# # list(map(lambda row: row[:N_PEAKS], X_tr_f))[0]"
   ]
  },
  {
   "cell_type": "code",
   "execution_count": 43,
   "metadata": {
    "scrolled": true
   },
   "outputs": [],
   "source": [
    "# from matplotlib import pyplot as plt\n",
    "\n",
    "# # amp_df = pd.DataFrame(list(map(lambda row: row[N_PEAKS:N_PEAKS*2], X_tr_f)))\n",
    "# amp_df = pd.DataFrame(list(map(lambda row: row, X_tr_f)))\n",
    "\n",
    "# f = plt.figure(figsize=(19, 15))\n",
    "# plt.matshow(amp_df.corr())\n",
    "# plt.xticks(range(amp_df.shape[1]), amp_df.columns, fontsize=14, rotation=45)\n",
    "# plt.yticks(range(amp_df.shape[1]), amp_df.columns, fontsize=14)\n",
    "# cb = plt.colorbar()\n",
    "# cb.ax.tick_params(labelsize=14)\n",
    "# plt.title('Correlation Matrix', fontsize=16);"
   ]
  },
  {
   "cell_type": "code",
   "execution_count": 44,
   "metadata": {
    "scrolled": false
   },
   "outputs": [
    {
     "data": {
      "text/plain": [
       "<matplotlib.axes._subplots.AxesSubplot at 0x13312c208>"
      ]
     },
     "execution_count": 44,
     "metadata": {},
     "output_type": "execute_result"
    },
    {
     "data": {
      "image/png": "[encoded data removed]",
      "text/plain": [
       "<Figure size 1152x576 with 1 Axes>"
      ]
     },
     "metadata": {
      "needs_background": "light"
     },
     "output_type": "display_data"
    }
   ],
   "source": [
    "pd.Series(X_tr_f[0]).plot.line(figsize=(16, 8))"
   ]
  },
  {
   "cell_type": "code",
   "execution_count": 45,
   "metadata": {},
   "outputs": [
    {
     "data": {
      "text/plain": [
       "<matplotlib.axes._subplots.AxesSubplot at 0x133077d68>"
      ]
     },
     "execution_count": 45,
     "metadata": {},
     "output_type": "execute_result"
    },
    {
     "data": {
      "image/png": "[encoded data removed]",
      "text/plain": [
       "<Figure size 1152x576 with 1 Axes>"
      ]
     },
     "metadata": {
      "needs_background": "light"
     },
     "output_type": "display_data"
    }
   ],
   "source": [
    "pd.Series(y_tr_f[:N_WINDOW_POINTS]).plot.line(figsize=(16, 8))"
   ]
  },
  {
   "cell_type": "code",
   "execution_count": 46,
   "metadata": {},
   "outputs": [
    {
     "data": {
      "text/plain": [
       "<matplotlib.axes._subplots.AxesSubplot at 0x133126a20>"
      ]
     },
     "execution_count": 46,
     "metadata": {},
     "output_type": "execute_result"
    },
    {
     "data": {
      "image/png": "[encoded data removed]",
      "text/plain": [
       "<Figure size 1152x576 with 1 Axes>"
      ]
     },
     "metadata": {
      "needs_background": "light"
     },
     "output_type": "display_data"
    }
   ],
   "source": [
    "pd.Series(X_te_f[0]).plot.line(figsize=(16, 8))"
   ]
  },
  {
   "cell_type": "code",
   "execution_count": 47,
   "metadata": {
    "scrolled": false
   },
   "outputs": [
    {
     "data": {
      "text/plain": [
       "<matplotlib.axes._subplots.AxesSubplot at 0x1320cf208>"
      ]
     },
     "execution_count": 47,
     "metadata": {},
     "output_type": "execute_result"
    },
    {
     "data": {
      "image/png": "[encoded data removed]",
      "text/plain": [
       "<Figure size 1152x576 with 1 Axes>"
      ]
     },
     "metadata": {
      "needs_background": "light"
     },
     "output_type": "display_data"
    }
   ],
   "source": [
    "pd.Series(y_te_f[:N_WINDOW_POINTS]).plot.line(figsize=(16, 8))"
   ]
  },
  {
   "cell_type": "code",
   "execution_count": 48,
   "metadata": {},
   "outputs": [],
   "source": [
    "n_features = 1"
   ]
  },
  {
   "cell_type": "code",
   "execution_count": 49,
   "metadata": {},
   "outputs": [
    {
     "data": {
      "text/plain": [
       "(array([ 3.05185094e-05, -1.52592547e-04, -3.35703604e-04, -5.49333170e-04,\n",
       "        -7.32444227e-04, -9.15555283e-04, -1.12918485e-03, -1.40385143e-03,\n",
       "        -1.61748100e-03, -1.86162908e-03, -2.10577715e-03, -2.38044374e-03,\n",
       "        -2.59407330e-03, -2.80770287e-03, -3.02133244e-03, -3.23496200e-03,\n",
       "        -3.38755455e-03, -3.54014710e-03, -3.75377666e-03, -3.93688772e-03,\n",
       "        -4.08948027e-03, -4.21155430e-03, -4.30310983e-03, -4.39466536e-03,\n",
       "        -4.45570238e-03, -4.57777642e-03, -4.69985045e-03, -4.79140598e-03,\n",
       "        -4.94399853e-03, -5.06607257e-03, -5.31022064e-03, -5.52385021e-03,\n",
       "        -5.85955381e-03, -6.50044251e-03, -7.14133121e-03, -7.87377544e-03,\n",
       "        -8.54518265e-03, -9.27762687e-03, -9.94903408e-03, -1.06814783e-02,\n",
       "        -1.12918485e-02, -1.18717002e-02, -1.24820704e-02, -1.30619220e-02,\n",
       "        -1.36722922e-02, -1.42216254e-02, -1.47404401e-02, -1.51982177e-02,\n",
       "        -1.55949583e-02, -1.58391073e-02, -1.59306619e-02, -1.58391073e-02,\n",
       "        -1.55949583e-02, -1.51982177e-02, -1.46183660e-02, -1.38859218e-02,\n",
       "        -1.30314035e-02, -1.21158483e-02, -1.11392559e-02, -1.01931822e-02,\n",
       "        -9.24710836e-03, -8.51466414e-03, -7.93481246e-03, -7.59910885e-03],\n",
       "       dtype=float32), -0.054567095)"
      ]
     },
     "execution_count": 49,
     "metadata": {},
     "output_type": "execute_result"
    }
   ],
   "source": [
    "(X_tr_f[0], y_tr_f[0])"
   ]
  },
  {
   "cell_type": "code",
   "execution_count": 50,
   "metadata": {},
   "outputs": [
    {
     "data": {
      "text/plain": [
       "array([[ 3.0518509e-05],\n",
       "       [-1.5259255e-04],\n",
       "       [-3.3570360e-04],\n",
       "       [-5.4933317e-04],\n",
       "       [-7.3244423e-04]], dtype=float32)"
      ]
     },
     "execution_count": 50,
     "metadata": {},
     "output_type": "execute_result"
    }
   ],
   "source": [
    "X_tr_s = X_tr_f.reshape(X_tr_f.shape[0], X_tr_f.shape[1], 1)\n",
    "X_tr_s[0][:5]"
   ]
  },
  {
   "cell_type": "code",
   "execution_count": 51,
   "metadata": {},
   "outputs": [],
   "source": [
    "y_tr_s = y_tr_f"
   ]
  },
  {
   "cell_type": "code",
   "execution_count": 52,
   "metadata": {},
   "outputs": [
    {
     "data": {
      "text/plain": [
       "array([[0.105533  ],\n",
       "       [0.10586871],\n",
       "       [0.1061739 ],\n",
       "       [0.10635701],\n",
       "       [0.1065096 ]], dtype=float32)"
      ]
     },
     "execution_count": 52,
     "metadata": {},
     "output_type": "execute_result"
    }
   ],
   "source": [
    "X_te_s = X_te_f.reshape(X_te_f.shape[0], X_te_f.shape[1], 1)\n",
    "X_te_s[0][:5]"
   ]
  },
  {
   "cell_type": "code",
   "execution_count": 53,
   "metadata": {},
   "outputs": [],
   "source": [
    "y_te_s = y_te_f"
   ]
  },
  {
   "cell_type": "code",
   "execution_count": 54,
   "metadata": {},
   "outputs": [],
   "source": [
    "def add_stats(row):\n",
    "    stats = [\n",
    "        np.abs(row[-1]),\n",
    "        -np.abs(row[-1]),\n",
    "#         np.mean(row),\n",
    "#         np.max(row),\n",
    "#         np.min(row),\n",
    "#         np.var(row)\n",
    "    ]\n",
    "\n",
    "    return np.array([(list(x) + list(stats)) for x in row])"
   ]
  },
  {
   "cell_type": "code",
   "execution_count": 55,
   "metadata": {},
   "outputs": [],
   "source": [
    "# %%time\n",
    "# X_tr_s = np.array([add_stats(row) for row in X_tr_s])\n",
    "# print(X_tr_s[0][0], X_tr_s[0][1])"
   ]
  },
  {
   "cell_type": "code",
   "execution_count": 56,
   "metadata": {},
   "outputs": [],
   "source": [
    "# %%time\n",
    "# X_te_s = np.array([add_stats(row) for row in X_te_s])\n",
    "# print(X_te_s[0][0], X_te_s[0][1])"
   ]
  },
  {
   "cell_type": "code",
   "execution_count": 57,
   "metadata": {},
   "outputs": [
    {
     "data": {
      "text/plain": [
       "4"
      ]
     },
     "execution_count": 57,
     "metadata": {},
     "output_type": "execute_result"
    }
   ],
   "source": [
    "N_REPEAT = 4\n",
    "N_REPEAT"
   ]
  },
  {
   "cell_type": "code",
   "execution_count": 58,
   "metadata": {},
   "outputs": [
    {
     "data": {
      "text/plain": [
       "array([3.051851e-05], dtype=float32)"
      ]
     },
     "execution_count": 58,
     "metadata": {},
     "output_type": "execute_result"
    }
   ],
   "source": [
    "X_tr_s[0][0]"
   ]
  },
  {
   "cell_type": "code",
   "execution_count": 59,
   "metadata": {},
   "outputs": [],
   "source": [
    "# X_tr_s = np.repeat(X_tr_s, N_REPEAT, axis=0)\n",
    "# X_tr_s[0][0], X_tr_s[1][0]"
   ]
  },
  {
   "cell_type": "code",
   "execution_count": 60,
   "metadata": {
    "scrolled": true
   },
   "outputs": [],
   "source": [
    "# y_tr_s = np.repeat(y_tr_s, N_REPEAT, axis=0)\n",
    "# y_tr_s[0], y_tr_s[1]"
   ]
  },
  {
   "cell_type": "code",
   "execution_count": 61,
   "metadata": {},
   "outputs": [],
   "source": [
    "# X_te_s = np.repeat(X_te_s, N_REPEAT, axis=0)\n",
    "# X_te_s[0][0], X_te_s[1][0]"
   ]
  },
  {
   "cell_type": "code",
   "execution_count": 62,
   "metadata": {},
   "outputs": [],
   "source": [
    "# y_te_s = np.repeat(y_te_s, N_REPEAT, axis=0)\n",
    "# y_tr_s[0], y_tr_s[1]"
   ]
  },
  {
   "cell_type": "markdown",
   "metadata": {},
   "source": [
    "## Finished data processing!\n",
    "\n",
    "## Moving on to training NN"
   ]
  },
  {
   "cell_type": "code",
   "execution_count": 63,
   "metadata": {},
   "outputs": [],
   "source": [
    "import numpy as np"
   ]
  },
  {
   "cell_type": "code",
   "execution_count": 64,
   "metadata": {},
   "outputs": [],
   "source": [
    "# num_steps=100, 24 hidden states"
   ]
  },
  {
   "cell_type": "code",
   "execution_count": null,
   "metadata": {},
   "outputs": [],
   "source": []
  },
  {
   "cell_type": "code",
   "execution_count": 65,
   "metadata": {},
   "outputs": [
    {
     "name": "stderr",
     "output_type": "stream",
     "text": [
      "Using TensorFlow backend.\n"
     ]
    }
   ],
   "source": [
    "import keras\n",
    "import tensorflow as tf\n",
    "from keras.models import Sequential, Model\n",
    "from keras.layers import Dense, Dropout, Activation, Flatten, LSTM, Reshape, GRU, GaussianNoise\n",
    "from keras.layers import Convolution2D, MaxPooling2D, Layer, Input, BatchNormalization\n",
    "from keras.utils import np_utils\n",
    "from keras.regularizers import L1L2\n",
    "from keras.layers.merge import concatenate\n",
    "\n",
    "tf.set_random_seed(1234)"
   ]
  },
  {
   "cell_type": "code",
   "execution_count": 66,
   "metadata": {},
   "outputs": [
    {
     "data": {
      "text/plain": [
       "((132000, 64, 1), (132000,), (132000, 64, 1), (132000,))"
      ]
     },
     "execution_count": 66,
     "metadata": {},
     "output_type": "execute_result"
    }
   ],
   "source": [
    "X_tr_s.shape, y_tr_s.shape, X_te_s.shape, y_te_s.shape"
   ]
  },
  {
   "cell_type": "code",
   "execution_count": 67,
   "metadata": {},
   "outputs": [
    {
     "data": {
      "text/plain": [
       "array([-0.05456709, -0.05377362, -0.05502487, ..., -0.16183965,\n",
       "       -0.1688284 , -0.17465743], dtype=float32)"
      ]
     },
     "execution_count": 67,
     "metadata": {},
     "output_type": "execute_result"
    }
   ],
   "source": [
    "y_tr_s"
   ]
  },
  {
   "cell_type": "code",
   "execution_count": 68,
   "metadata": {},
   "outputs": [],
   "source": [
    "from keras import backend as K\n",
    "from keras.layers import Layer\n",
    "\n",
    "class DebugLayer(Layer):\n",
    "\n",
    "    def __init__(self, output_dim, **kwargs):\n",
    "        self.output_dim = output_dim\n",
    "        super(DebugLayer, self).__init__(**kwargs)\n",
    "\n",
    "    def build(self, input_shape):\n",
    "        super(DebugLayer, self).build(input_shape)  # Be sure to call this at the end\n",
    "\n",
    "    def call(self, x):\n",
    "        print(x[0])\n",
    "        return x"
   ]
  },
  {
   "cell_type": "code",
   "execution_count": 109,
   "metadata": {},
   "outputs": [],
   "source": [
    "from scipy.signal import savgol_filter\n",
    "from matplotlib import pyplot as plt\n",
    "\n",
    "\n",
    "# TensorBoard callback\n",
    "# tensorboard_cb = keras.callbacks.TensorBoard(\n",
    "#     log_dir='./logs',\n",
    "#     batch_size=BATCH_SIZE,\n",
    "#     # histogram_freq='batch',\n",
    "#     write_graph=True,\n",
    "#     write_grads=True,\n",
    "#     write_images=True\n",
    "# )\n",
    "\n",
    "class TestModel(keras.callbacks.Callback):\n",
    "    def __init__(self, model, I=200, batch_size=1):\n",
    "        self.model = model\n",
    "        self.I = I\n",
    "        self.batch_size = batch_size\n",
    "        \n",
    "    def on_train_begin(self, epoch_n):\n",
    "#         (fig, ax) = plt.subplots(figsize=(12, 8))\n",
    "        I = self.I\n",
    "        (fig, ax) = plt.subplots()\n",
    "        self.fig = fig\n",
    "        self.ax = ax\n",
    "        \n",
    "        feat = pd.Series((np.array(list(map(lambda row: row[-1][0], X_tr_s[:I])))))\n",
    "\n",
    "        feat_data, =  ax.plot(feat.values, label='feature')\n",
    "\n",
    "        targ = (pd.Series((y_tr_s[:I])))\n",
    "\n",
    "        pred = pd.Series(np.zeros(I))\n",
    "        # pred = (pred * 2.2) + 0.001\n",
    "        pred = pred + 0.001\n",
    "\n",
    "        zeros = pd.Series(np.zeros(I))\n",
    "        zeros.plot.line(ax=ax, label='0')\n",
    "\n",
    "        targ_data, = ax.plot(targ.values, label='target')\n",
    "\n",
    "        pred_data, = ax.plot(pred.values, label='predicted')\n",
    "        # pd.Series(savgol_filter(pred, 5, 3)).plot.line(ax=ax, label='savgol(predicted)')\n",
    "        \n",
    "        self.feat_data = feat_data\n",
    "        self.targ_data = targ_data\n",
    "        self.pred_data = pred_data\n",
    "        \n",
    "        ax.legend(loc='upper right')\n",
    "        ax.set_title('NN predictions on first {} samples'.format(I))\n",
    "        ax.set_xlabel('index')\n",
    "        ax.set_ylabel('value')\n",
    "        \n",
    "        plt.show()\n",
    "        fig.canvas.draw()\n",
    "        \n",
    "        \n",
    "    def on_epoch_end(self, epoch_n, logs={}):\n",
    "        model = self.model\n",
    "        \n",
    "        fig = self.fig\n",
    "        ax = self.ax\n",
    "        \n",
    "        I = self.I\n",
    "        batch_size = self.batch_size\n",
    "\n",
    "        feat = pd.Series((np.array(list(map(lambda row: row[-1][0], X_tr_s[:I])))))\n",
    "\n",
    "        self.feat_data.set_ydata(feat.values)\n",
    "\n",
    "        targ = (pd.Series((y_tr_s[:I])))\n",
    "\n",
    "        pred = pd.Series(predict(model, X_tr_s[:I], batch_size=batch_size))\n",
    "        # pred = (pred * 2.2) + 0.001\n",
    "        pred = pred + 0.001\n",
    "\n",
    "        # zeros = pd.Series(np.zeros(I))\n",
    "        # zeros.plot.line(ax=ax, label='0')\n",
    "\n",
    "        self.targ_data.set_ydata(targ.values)\n",
    "\n",
    "        self.pred_data.set_ydata(pred.values)\n",
    "        # pd.Series(savgol_filter(pred, 5, 3)).plot.line(ax=ax, label='savgol(predicted)')\n",
    "\n",
    "        # pd.Series(normalize(np.array(list(map(lambda w: w[-1], X_tr_f[:I]))))).plot.line(ax=ax, label='feature')\n",
    "\n",
    "        ax.set_title('NN predictions on first {} samples, epoch {}'.format(I, epoch_n))\n",
    "        \n",
    "        fig.canvas.draw()\n",
    "\n",
    "\n",
    "# Callback to display the target and prediciton\n",
    "# test_model_cb = keras.callbacks.LambdaCallback(on_epoch_end=testmodel)"
   ]
  },
  {
   "cell_type": "code",
   "execution_count": 124,
   "metadata": {},
   "outputs": [],
   "source": [
    "from keras import backend as K\n",
    "    \n",
    "N_UNITS = 24\n",
    "BATCH_SIZE = 1\n",
    "\n",
    "def load_model(filepath):\n",
    "    model = keras.models.load_model(filepath)\n",
    "    \n",
    "    return model\n",
    "    \n",
    "    \n",
    "    \n",
    "def create_model(params):\n",
    "    print(params)\n",
    "    \n",
    "    input_L = Input(\n",
    "        shape=(N_WINDOW_POINTS, n_features),\n",
    "        batch_shape=(params['batch_size'], N_WINDOW_POINTS, n_features),\n",
    "    )\n",
    "\n",
    "    # bn_L = (BatchNormalization()(input_L))\n",
    "\n",
    "    gru_1_L = GRU(\n",
    "        params['n_units'],\n",
    "        input_shape=(N_WINDOW_POINTS, n_features),\n",
    "        batch_input_shape=(params['batch_size'], N_WINDOW_POINTS, n_features),\n",
    "        # bias_regularizer=L1L2(l1=0.1, l2=0.1),\n",
    "        stateful=True,\n",
    "        # reset_after=True,\n",
    "        # batch_input_shape=(params['batch_size'], N_WINDOW_POINTS, n_features),\n",
    "        activation='tanh',\n",
    "        recurrent_activation='hard_sigmoid',\n",
    "        # kernel_initializer=keras.initializers.RandomNormal(stddev=0.1),\n",
    "        kernel_initializer=keras.initializers.glorot_uniform(seed=43),\n",
    "#         recurrent_initializer=keras.initializers.Orthogonal(gain=1.0, seed=42),\n",
    "        recurrent_initializer=keras.initializers.glorot_uniform(seed=43),\n",
    "        # kernel_initializer='identity',\n",
    "        bias_initializer='zeros',\n",
    "        return_sequences=True,\n",
    "    )(input_L)\n",
    "\n",
    "    gru_2_L = GRU(\n",
    "        params['n_units'],\n",
    "        input_shape=(N_WINDOW_POINTS, n_features),\n",
    "        batch_input_shape=(params['batch_size'], N_WINDOW_POINTS, n_features),\n",
    "        # bias_regularizer=L1L2(l1=0.1, l2=0.1),\n",
    "        stateful=True,\n",
    "        # reset_after=True,\n",
    "        # batch_input_shape=(params['batch_size'], N_WINDOW_POINTS, n_features),\n",
    "        activation='tanh',\n",
    "        recurrent_activation='hard_sigmoid',\n",
    "        # kernel_initializer=keras.initializers.RandomNormal(stddev=0.1),\n",
    "        kernel_initializer=keras.initializers.glorot_uniform(seed=43),\n",
    "#         recurrent_initializer=keras.initializers.Orthogonal(gain=1.0, seed=42),\n",
    "        recurrent_initializer=keras.initializers.glorot_uniform(seed=43),\n",
    "        # kernel_initializer='identity',\n",
    "        bias_initializer='zeros',\n",
    "    #     return_sequences=True,\n",
    "    )(gru_1_L)\n",
    "\n",
    "    dense_2_l = Dense(\n",
    "        1,\n",
    "        activation=None,\n",
    "        kernel_initializer='identity',\n",
    "        bias_initializer='zeros',\n",
    "    # )(gru_1_l)\n",
    "    )(gru_2_L)\n",
    "\n",
    "\n",
    "    model = Model(inputs=input_L, outputs=dense_2_l)\n",
    "    \n",
    "    return model\n",
    "\n",
    "    \n",
    "\n",
    "def train_model(model, X_tr, y_tr, x_val, y_val, params):\n",
    "    optimizer = keras.optimizers.adam(lr=params['lr'], clipvalue=10, clipnorm=10)\n",
    "    # optimizer = keras.optimizers.SGD(lr=params['lr'], decay=0.2)\n",
    "\n",
    "\n",
    "    def mean_squared_error(y_true, y_pred):\n",
    "        return K.mean(K.square(10 * (y_pred - y_true)), axis=-1)\n",
    "\n",
    "    # model.compile(optimizer=optimizer, loss='mse')\n",
    "    model.compile(optimizer=optimizer, loss='mae')\n",
    "    \n",
    "    # TRAIN\n",
    "\n",
    "    es_cb = keras.callbacks.EarlyStopping(\n",
    "        monitor='val_loss',\n",
    "        min_delta=0.0005,\n",
    "        patience=8,\n",
    "        verbose=0,\n",
    "        mode='auto',\n",
    "    )\n",
    "\n",
    "    def step_decay(epoch):\n",
    "        initial_lrate = params['lr']\n",
    "        drop = 0.8\n",
    "        epochs_drop = 20.0\n",
    "        lrate = initial_lrate * math.pow(drop,  \n",
    "               math.floor((1+epoch)/epochs_drop))\n",
    "        return lrate\n",
    "\n",
    "    lrate = keras.callbacks.LearningRateScheduler(step_decay)\n",
    "\n",
    "    test_model_cb = TestModel(model, I=min(params['n_samples'], 400), batch_size=params['batch_size'])\n",
    "\n",
    "    history = model.fit(\n",
    "        X_tr_s[:params['n_samples']],\n",
    "        y_tr_s[:params['n_samples']],\n",
    "#         X_tr_s[:40],\n",
    "#         y_tr_s[:40],\n",
    "        batch_size=params['batch_size'],\n",
    "        shuffle=False,\n",
    "    #     epochs=400,\n",
    "#         epochs=100,\n",
    "        epochs=params['epochs'],\n",
    "        verbose=1,\n",
    "        # validation_data=(X_te_s[:400], y_te_s[:400]),\n",
    "        # validation_data=(X_te_s[:200], y_te_s[:200]),\n",
    "        # callbacks=[es_cb, test_model_cb, tensorboard_cb],\n",
    "        callbacks=[es_cb, test_model_cb, lrate],\n",
    "    )\n",
    "    \n",
    "    return (history, model)"
   ]
  },
  {
   "cell_type": "code",
   "execution_count": 71,
   "metadata": {},
   "outputs": [],
   "source": [
    "import math\n",
    "\n",
    "def predict(model, X_input, batch_size=1):\n",
    "    # X_input = np.array(rows).reshape(rows.shape[0], rows.shape[1], n_features)\n",
    "    \n",
    "    return np.array(\n",
    "        model.predict(\n",
    "            X_input[:(math.floor(len(X_input) / batch_size) * batch_size)], batch_size=batch_size\n",
    "        )\n",
    "    ).flatten()"
   ]
  },
  {
   "cell_type": "code",
   "execution_count": null,
   "metadata": {},
   "outputs": [],
   "source": []
  },
  {
   "cell_type": "code",
   "execution_count": 94,
   "metadata": {
    "scrolled": true
   },
   "outputs": [
    {
     "name": "stderr",
     "output_type": "stream",
     "text": [
      "\n",
      "  0%|          | 0/9 [00:00<?, ?it/s]\u001b[A"
     ]
    },
    {
     "name": "stdout",
     "output_type": "stream",
     "text": [
      "{'lr': 0.003, 'n_samples': 80, 'n_units': 16, 'batch_size': 10, 'epochs': 10, 'optimizer': <class 'keras.optimizers.Adam'>}\n"
     ]
    },
    {
     "data": {
      "application/javascript": [
       "/* Put everything inside the global mpl namespace */\n",
       "window.mpl = {};\n",
       "\n",
       "\n",
       "mpl.get_websocket_type = function() {\n",
       "    if (typeof(WebSocket) !== 'undefined') {\n",
       "        return WebSocket;\n",
       "    } else if (typeof(MozWebSocket) !== 'undefined') {\n",
       "        return MozWebSocket;\n",
       "    } else {\n",
       "        alert('Your browser does not have WebSocket support.' +\n",
       "              'Please try Chrome, Safari or Firefox ≥ 6. ' +\n",
       "              'Firefox 4 and 5 are also supported but you ' +\n",
       "              'have to enable WebSockets in about:config.');\n",
       "    };\n",
       "}\n",
       "\n",
       "mpl.figure = function(figure_id, websocket, ondownload, parent_element) {\n",
       "    this.id = figure_id;\n",
       "\n",
       "    this.ws = websocket;\n",
       "\n",
       "    this.supports_binary = (this.ws.binaryType != undefined);\n",
       "\n",
       "    if (!this.supports_binary) {\n",
       "        var warnings = document.getElementById(\"mpl-warnings\");\n",
       "        if (warnings) {\n",
       "            warnings.style.display = 'block';\n",
       "            warnings.textContent = (\n",
       "                \"This browser does not support binary websocket messages. \" +\n",
       "                    \"Performance may be slow.\");\n",
       "        }\n",
       "    }\n",
       "\n",
       "    this.imageObj = new Image();\n",
       "\n",
       "    this.context = undefined;\n",
       "    this.message = undefined;\n",
       "    this.canvas = undefined;\n",
       "    this.rubberband_canvas = undefined;\n",
       "    this.rubberband_context = undefined;\n",
       "    this.format_dropdown = undefined;\n",
       "\n",
       "    this.image_mode = 'full';\n",
       "\n",
       "    this.root = $('<div/>');\n",
       "    this._root_extra_style(this.root)\n",
       "    this.root.attr('style', 'display: inline-block');\n",
       "\n",
       "    $(parent_element).append(this.root);\n",
       "\n",
       "    this._init_header(this);\n",
       "    this._init_canvas(this);\n",
       "    this._init_toolbar(this);\n",
       "\n",
       "    var fig = this;\n",
       "\n",
       "    this.waiting = false;\n",
       "\n",
       "    this.ws.onopen =  function () {\n",
       "            fig.send_message(\"supports_binary\", {value: fig.supports_binary});\n",
       "            fig.send_message(\"send_image_mode\", {});\n",
       "            if (mpl.ratio != 1) {\n",
       "                fig.send_message(\"set_dpi_ratio\", {'dpi_ratio': mpl.ratio});\n",
       "            }\n",
       "            fig.send_message(\"refresh\", {});\n",
       "        }\n",
       "\n",
       "    this.imageObj.onload = function() {\n",
       "            if (fig.image_mode == 'full') {\n",
       "                // Full images could contain transparency (where diff images\n",
       "                // almost always do), so we need to clear the canvas so that\n",
       "                // there is no ghosting.\n",
       "                fig.context.clearRect(0, 0, fig.canvas.width, fig.canvas.height);\n",
       "            }\n",
       "            fig.context.drawImage(fig.imageObj, 0, 0);\n",
       "        };\n",
       "\n",
       "    this.imageObj.onunload = function() {\n",
       "        fig.ws.close();\n",
       "    }\n",
       "\n",
       "    this.ws.onmessage = this._make_on_message_function(this);\n",
       "\n",
       "    this.ondownload = ondownload;\n",
       "}\n",
       "\n",
       "mpl.figure.prototype._init_header = function() {\n",
       "    var titlebar = $(\n",
       "        '<div class=\"ui-dialog-titlebar ui-widget-header ui-corner-all ' +\n",
       "        'ui-helper-clearfix\"/>');\n",
       "    var titletext = $(\n",
       "        '<div class=\"ui-dialog-title\" style=\"width: 100%; ' +\n",
       "        'text-align: center; padding: 3px;\"/>');\n",
       "    titlebar.append(titletext)\n",
       "    this.root.append(titlebar);\n",
       "    this.header = titletext[0];\n",
       "}\n",
       "\n",
       "\n",
       "\n",
       "mpl.figure.prototype._canvas_extra_style = function(canvas_div) {\n",
       "\n",
       "}\n",
       "\n",
       "\n",
       "mpl.figure.prototype._root_extra_style = function(canvas_div) {\n",
       "\n",
       "}\n",
       "\n",
       "mpl.figure.prototype._init_canvas = function() {\n",
       "    var fig = this;\n",
       "\n",
       "    var canvas_div = $('<div/>');\n",
       "\n",
       "    canvas_div.attr('style', 'position: relative; clear: both; outline: 0');\n",
       "\n",
       "    function canvas_keyboard_event(event) {\n",
       "        return fig.key_event(event, event['data']);\n",
       "    }\n",
       "\n",
       "    canvas_div.keydown('key_press', canvas_keyboard_event);\n",
       "    canvas_div.keyup('key_release', canvas_keyboard_event);\n",
       "    this.canvas_div = canvas_div\n",
       "    this._canvas_extra_style(canvas_div)\n",
       "    this.root.append(canvas_div);\n",
       "\n",
       "    var canvas = $('<canvas/>');\n",
       "    canvas.addClass('mpl-canvas');\n",
       "    canvas.attr('style', \"left: 0; top: 0; z-index: 0; outline: 0\")\n",
       "\n",
       "    this.canvas = canvas[0];\n",
       "    this.context = canvas[0].getContext(\"2d\");\n",
       "\n",
       "    var backingStore = this.context.backingStorePixelRatio ||\n",
       "\tthis.context.webkitBackingStorePixelRatio ||\n",
       "\tthis.context.mozBackingStorePixelRatio ||\n",
       "\tthis.context.msBackingStorePixelRatio ||\n",
       "\tthis.context.oBackingStorePixelRatio ||\n",
       "\tthis.context.backingStorePixelRatio || 1;\n",
       "\n",
       "    mpl.ratio = (window.devicePixelRatio || 1) / backingStore;\n",
       "\n",
       "    var rubberband = $('<canvas/>');\n",
       "    rubberband.attr('style', \"position: absolute; left: 0; top: 0; z-index: 1;\")\n",
       "\n",
       "    var pass_mouse_events = true;\n",
       "\n",
       "    canvas_div.resizable({\n",
       "        start: function(event, ui) {\n",
       "            pass_mouse_events = false;\n",
       "        },\n",
       "        resize: function(event, ui) {\n",
       "            fig.request_resize(ui.size.width, ui.size.height);\n",
       "        },\n",
       "        stop: function(event, ui) {\n",
       "            pass_mouse_events = true;\n",
       "            fig.request_resize(ui.size.width, ui.size.height);\n",
       "        },\n",
       "    });\n",
       "\n",
       "    function mouse_event_fn(event) {\n",
       "        if (pass_mouse_events)\n",
       "            return fig.mouse_event(event, event['data']);\n",
       "    }\n",
       "\n",
       "    rubberband.mousedown('button_press', mouse_event_fn);\n",
       "    rubberband.mouseup('button_release', mouse_event_fn);\n",
       "    // Throttle sequential mouse events to 1 every 20ms.\n",
       "    rubberband.mousemove('motion_notify', mouse_event_fn);\n",
       "\n",
       "    rubberband.mouseenter('figure_enter', mouse_event_fn);\n",
       "    rubberband.mouseleave('figure_leave', mouse_event_fn);\n",
       "\n",
       "    canvas_div.on(\"wheel\", function (event) {\n",
       "        event = event.originalEvent;\n",
       "        event['data'] = 'scroll'\n",
       "        if (event.deltaY < 0) {\n",
       "            event.step = 1;\n",
       "        } else {\n",
       "            event.step = -1;\n",
       "        }\n",
       "        mouse_event_fn(event);\n",
       "    });\n",
       "\n",
       "    canvas_div.append(canvas);\n",
       "    canvas_div.append(rubberband);\n",
       "\n",
       "    this.rubberband = rubberband;\n",
       "    this.rubberband_canvas = rubberband[0];\n",
       "    this.rubberband_context = rubberband[0].getContext(\"2d\");\n",
       "    this.rubberband_context.strokeStyle = \"#000000\";\n",
       "\n",
       "    this._resize_canvas = function(width, height) {\n",
       "        // Keep the size of the canvas, canvas container, and rubber band\n",
       "        // canvas in synch.\n",
       "        canvas_div.css('width', width)\n",
       "        canvas_div.css('height', height)\n",
       "\n",
       "        canvas.attr('width', width * mpl.ratio);\n",
       "        canvas.attr('height', height * mpl.ratio);\n",
       "        canvas.attr('style', 'width: ' + width + 'px; height: ' + height + 'px;');\n",
       "\n",
       "        rubberband.attr('width', width);\n",
       "        rubberband.attr('height', height);\n",
       "    }\n",
       "\n",
       "    // Set the figure to an initial 600x600px, this will subsequently be updated\n",
       "    // upon first draw.\n",
       "    this._resize_canvas(600, 600);\n",
       "\n",
       "    // Disable right mouse context menu.\n",
       "    $(this.rubberband_canvas).bind(\"contextmenu\",function(e){\n",
       "        return false;\n",
       "    });\n",
       "\n",
       "    function set_focus () {\n",
       "        canvas.focus();\n",
       "        canvas_div.focus();\n",
       "    }\n",
       "\n",
       "    window.setTimeout(set_focus, 100);\n",
       "}\n",
       "\n",
       "mpl.figure.prototype._init_toolbar = function() {\n",
       "    var fig = this;\n",
       "\n",
       "    var nav_element = $('<div/>')\n",
       "    nav_element.attr('style', 'width: 100%');\n",
       "    this.root.append(nav_element);\n",
       "\n",
       "    // Define a callback function for later on.\n",
       "    function toolbar_event(event) {\n",
       "        return fig.toolbar_button_onclick(event['data']);\n",
       "    }\n",
       "    function toolbar_mouse_event(event) {\n",
       "        return fig.toolbar_button_onmouseover(event['data']);\n",
       "    }\n",
       "\n",
       "    for(var toolbar_ind in mpl.toolbar_items) {\n",
       "        var name = mpl.toolbar_items[toolbar_ind][0];\n",
       "        var tooltip = mpl.toolbar_items[toolbar_ind][1];\n",
       "        var image = mpl.toolbar_items[toolbar_ind][2];\n",
       "        var method_name = mpl.toolbar_items[toolbar_ind][3];\n",
       "\n",
       "        if (!name) {\n",
       "            // put a spacer in here.\n",
       "            continue;\n",
       "        }\n",
       "        var button = $('<button/>');\n",
       "        button.addClass('ui-button ui-widget ui-state-default ui-corner-all ' +\n",
       "                        'ui-button-icon-only');\n",
       "        button.attr('role', 'button');\n",
       "        button.attr('aria-disabled', 'false');\n",
       "        button.click(method_name, toolbar_event);\n",
       "        button.mouseover(tooltip, toolbar_mouse_event);\n",
       "\n",
       "        var icon_img = $('<span/>');\n",
       "        icon_img.addClass('ui-button-icon-primary ui-icon');\n",
       "        icon_img.addClass(image);\n",
       "        icon_img.addClass('ui-corner-all');\n",
       "\n",
       "        var tooltip_span = $('<span/>');\n",
       "        tooltip_span.addClass('ui-button-text');\n",
       "        tooltip_span.html(tooltip);\n",
       "\n",
       "        button.append(icon_img);\n",
       "        button.append(tooltip_span);\n",
       "\n",
       "        nav_element.append(button);\n",
       "    }\n",
       "\n",
       "    var fmt_picker_span = $('<span/>');\n",
       "\n",
       "    var fmt_picker = $('<select/>');\n",
       "    fmt_picker.addClass('mpl-toolbar-option ui-widget ui-widget-content');\n",
       "    fmt_picker_span.append(fmt_picker);\n",
       "    nav_element.append(fmt_picker_span);\n",
       "    this.format_dropdown = fmt_picker[0];\n",
       "\n",
       "    for (var ind in mpl.extensions) {\n",
       "        var fmt = mpl.extensions[ind];\n",
       "        var option = $(\n",
       "            '<option/>', {selected: fmt === mpl.default_extension}).html(fmt);\n",
       "        fmt_picker.append(option)\n",
       "    }\n",
       "\n",
       "    // Add hover states to the ui-buttons\n",
       "    $( \".ui-button\" ).hover(\n",
       "        function() { $(this).addClass(\"ui-state-hover\");},\n",
       "        function() { $(this).removeClass(\"ui-state-hover\");}\n",
       "    );\n",
       "\n",
       "    var status_bar = $('<span class=\"mpl-message\"/>');\n",
       "    nav_element.append(status_bar);\n",
       "    this.message = status_bar[0];\n",
       "}\n",
       "\n",
       "mpl.figure.prototype.request_resize = function(x_pixels, y_pixels) {\n",
       "    // Request matplotlib to resize the figure. Matplotlib will then trigger a resize in the client,\n",
       "    // which will in turn request a refresh of the image.\n",
       "    this.send_message('resize', {'width': x_pixels, 'height': y_pixels});\n",
       "}\n",
       "\n",
       "mpl.figure.prototype.send_message = function(type, properties) {\n",
       "    properties['type'] = type;\n",
       "    properties['figure_id'] = this.id;\n",
       "    this.ws.send(JSON.stringify(properties));\n",
       "}\n",
       "\n",
       "mpl.figure.prototype.send_draw_message = function() {\n",
       "    if (!this.waiting) {\n",
       "        this.waiting = true;\n",
       "        this.ws.send(JSON.stringify({type: \"draw\", figure_id: this.id}));\n",
       "    }\n",
       "}\n",
       "\n",
       "\n",
       "mpl.figure.prototype.handle_save = function(fig, msg) {\n",
       "    var format_dropdown = fig.format_dropdown;\n",
       "    var format = format_dropdown.options[format_dropdown.selectedIndex].value;\n",
       "    fig.ondownload(fig, format);\n",
       "}\n",
       "\n",
       "\n",
       "mpl.figure.prototype.handle_resize = function(fig, msg) {\n",
       "    var size = msg['size'];\n",
       "    if (size[0] != fig.canvas.width || size[1] != fig.canvas.height) {\n",
       "        fig._resize_canvas(size[0], size[1]);\n",
       "        fig.send_message(\"refresh\", {});\n",
       "    };\n",
       "}\n",
       "\n",
       "mpl.figure.prototype.handle_rubberband = function(fig, msg) {\n",
       "    var x0 = msg['x0'] / mpl.ratio;\n",
       "    var y0 = (fig.canvas.height - msg['y0']) / mpl.ratio;\n",
       "    var x1 = msg['x1'] / mpl.ratio;\n",
       "    var y1 = (fig.canvas.height - msg['y1']) / mpl.ratio;\n",
       "    x0 = Math.floor(x0) + 0.5;\n",
       "    y0 = Math.floor(y0) + 0.5;\n",
       "    x1 = Math.floor(x1) + 0.5;\n",
       "    y1 = Math.floor(y1) + 0.5;\n",
       "    var min_x = Math.min(x0, x1);\n",
       "    var min_y = Math.min(y0, y1);\n",
       "    var width = Math.abs(x1 - x0);\n",
       "    var height = Math.abs(y1 - y0);\n",
       "\n",
       "    fig.rubberband_context.clearRect(\n",
       "        0, 0, fig.canvas.width, fig.canvas.height);\n",
       "\n",
       "    fig.rubberband_context.strokeRect(min_x, min_y, width, height);\n",
       "}\n",
       "\n",
       "mpl.figure.prototype.handle_figure_label = function(fig, msg) {\n",
       "    // Updates the figure title.\n",
       "    fig.header.textContent = msg['label'];\n",
       "}\n",
       "\n",
       "mpl.figure.prototype.handle_cursor = function(fig, msg) {\n",
       "    var cursor = msg['cursor'];\n",
       "    switch(cursor)\n",
       "    {\n",
       "    case 0:\n",
       "        cursor = 'pointer';\n",
       "        break;\n",
       "    case 1:\n",
       "        cursor = 'default';\n",
       "        break;\n",
       "    case 2:\n",
       "        cursor = 'crosshair';\n",
       "        break;\n",
       "    case 3:\n",
       "        cursor = 'move';\n",
       "        break;\n",
       "    }\n",
       "    fig.rubberband_canvas.style.cursor = cursor;\n",
       "}\n",
       "\n",
       "mpl.figure.prototype.handle_message = function(fig, msg) {\n",
       "    fig.message.textContent = msg['message'];\n",
       "}\n",
       "\n",
       "mpl.figure.prototype.handle_draw = function(fig, msg) {\n",
       "    // Request the server to send over a new figure.\n",
       "    fig.send_draw_message();\n",
       "}\n",
       "\n",
       "mpl.figure.prototype.handle_image_mode = function(fig, msg) {\n",
       "    fig.image_mode = msg['mode'];\n",
       "}\n",
       "\n",
       "mpl.figure.prototype.updated_canvas_event = function() {\n",
       "    // Called whenever the canvas gets updated.\n",
       "    this.send_message(\"ack\", {});\n",
       "}\n",
       "\n",
       "// A function to construct a web socket function for onmessage handling.\n",
       "// Called in the figure constructor.\n",
       "mpl.figure.prototype._make_on_message_function = function(fig) {\n",
       "    return function socket_on_message(evt) {\n",
       "        if (evt.data instanceof Blob) {\n",
       "            /* FIXME: We get \"Resource interpreted as Image but\n",
       "             * transferred with MIME type text/plain:\" errors on\n",
       "             * Chrome.  But how to set the MIME type?  It doesn't seem\n",
       "             * to be part of the websocket stream */\n",
       "            evt.data.type = \"image/png\";\n",
       "\n",
       "            /* Free the memory for the previous frames */\n",
       "            if (fig.imageObj.src) {\n",
       "                (window.URL || window.webkitURL).revokeObjectURL(\n",
       "                    fig.imageObj.src);\n",
       "            }\n",
       "\n",
       "            fig.imageObj.src = (window.URL || window.webkitURL).createObjectURL(\n",
       "                evt.data);\n",
       "            fig.updated_canvas_event();\n",
       "            fig.waiting = false;\n",
       "            return;\n",
       "        }\n",
       "        else if (typeof evt.data === 'string' && evt.data.slice(0, 21) == \"data:image/png;base64\") {\n",
       "            fig.imageObj.src = evt.data;\n",
       "            fig.updated_canvas_event();\n",
       "            fig.waiting = false;\n",
       "            return;\n",
       "        }\n",
       "\n",
       "        var msg = JSON.parse(evt.data);\n",
       "        var msg_type = msg['type'];\n",
       "\n",
       "        // Call the  \"handle_{type}\" callback, which takes\n",
       "        // the figure and JSON message as its only arguments.\n",
       "        try {\n",
       "            var callback = fig[\"handle_\" + msg_type];\n",
       "        } catch (e) {\n",
       "            console.log(\"No handler for the '\" + msg_type + \"' message type: \", msg);\n",
       "            return;\n",
       "        }\n",
       "\n",
       "        if (callback) {\n",
       "            try {\n",
       "                // console.log(\"Handling '\" + msg_type + \"' message: \", msg);\n",
       "                callback(fig, msg);\n",
       "            } catch (e) {\n",
       "                console.log(\"Exception inside the 'handler_\" + msg_type + \"' callback:\", e, e.stack, msg);\n",
       "            }\n",
       "        }\n",
       "    };\n",
       "}\n",
       "\n",
       "// from http://stackoverflow.com/questions/1114465/getting-mouse-location-in-canvas\n",
       "mpl.findpos = function(e) {\n",
       "    //this section is from http://www.quirksmode.org/js/events_properties.html\n",
       "    var targ;\n",
       "    if (!e)\n",
       "        e = window.event;\n",
       "    if (e.target)\n",
       "        targ = e.target;\n",
       "    else if (e.srcElement)\n",
       "        targ = e.srcElement;\n",
       "    if (targ.nodeType == 3) // defeat Safari bug\n",
       "        targ = targ.parentNode;\n",
       "\n",
       "    // jQuery normalizes the pageX and pageY\n",
       "    // pageX,Y are the mouse positions relative to the document\n",
       "    // offset() returns the position of the element relative to the document\n",
       "    var x = e.pageX - $(targ).offset().left;\n",
       "    var y = e.pageY - $(targ).offset().top;\n",
       "\n",
       "    return {\"x\": x, \"y\": y};\n",
       "};\n",
       "\n",
       "/*\n",
       " * return a copy of an object with only non-object keys\n",
       " * we need this to avoid circular references\n",
       " * http://stackoverflow.com/a/24161582/3208463\n",
       " */\n",
       "function simpleKeys (original) {\n",
       "  return Object.keys(original).reduce(function (obj, key) {\n",
       "    if (typeof original[key] !== 'object')\n",
       "        obj[key] = original[key]\n",
       "    return obj;\n",
       "  }, {});\n",
       "}\n",
       "\n",
       "mpl.figure.prototype.mouse_event = function(event, name) {\n",
       "    var canvas_pos = mpl.findpos(event)\n",
       "\n",
       "    if (name === 'button_press')\n",
       "    {\n",
       "        this.canvas.focus();\n",
       "        this.canvas_div.focus();\n",
       "    }\n",
       "\n",
       "    var x = canvas_pos.x * mpl.ratio;\n",
       "    var y = canvas_pos.y * mpl.ratio;\n",
       "\n",
       "    this.send_message(name, {x: x, y: y, button: event.button,\n",
       "                             step: event.step,\n",
       "                             guiEvent: simpleKeys(event)});\n",
       "\n",
       "    /* This prevents the web browser from automatically changing to\n",
       "     * the text insertion cursor when the button is pressed.  We want\n",
       "     * to control all of the cursor setting manually through the\n",
       "     * 'cursor' event from matplotlib */\n",
       "    event.preventDefault();\n",
       "    return false;\n",
       "}\n",
       "\n",
       "mpl.figure.prototype._key_event_extra = function(event, name) {\n",
       "    // Handle any extra behaviour associated with a key event\n",
       "}\n",
       "\n",
       "mpl.figure.prototype.key_event = function(event, name) {\n",
       "\n",
       "    // Prevent repeat events\n",
       "    if (name == 'key_press')\n",
       "    {\n",
       "        if (event.which === this._key)\n",
       "            return;\n",
       "        else\n",
       "            this._key = event.which;\n",
       "    }\n",
       "    if (name == 'key_release')\n",
       "        this._key = null;\n",
       "\n",
       "    var value = '';\n",
       "    if (event.ctrlKey && event.which != 17)\n",
       "        value += \"ctrl+\";\n",
       "    if (event.altKey && event.which != 18)\n",
       "        value += \"alt+\";\n",
       "    if (event.shiftKey && event.which != 16)\n",
       "        value += \"shift+\";\n",
       "\n",
       "    value += 'k';\n",
       "    value += event.which.toString();\n",
       "\n",
       "    this._key_event_extra(event, name);\n",
       "\n",
       "    this.send_message(name, {key: value,\n",
       "                             guiEvent: simpleKeys(event)});\n",
       "    return false;\n",
       "}\n",
       "\n",
       "mpl.figure.prototype.toolbar_button_onclick = function(name) {\n",
       "    if (name == 'download') {\n",
       "        this.handle_save(this, null);\n",
       "    } else {\n",
       "        this.send_message(\"toolbar_button\", {name: name});\n",
       "    }\n",
       "};\n",
       "\n",
       "mpl.figure.prototype.toolbar_button_onmouseover = function(tooltip) {\n",
       "    this.message.textContent = tooltip;\n",
       "};\n",
       "mpl.toolbar_items = [[\"Home\", \"Reset original view\", \"fa fa-home icon-home\", \"home\"], [\"Back\", \"Back to  previous view\", \"fa fa-arrow-left icon-arrow-left\", \"back\"], [\"Forward\", \"Forward to next view\", \"fa fa-arrow-right icon-arrow-right\", \"forward\"], [\"\", \"\", \"\", \"\"], [\"Pan\", \"Pan axes with left mouse, zoom with right\", \"fa fa-arrows icon-move\", \"pan\"], [\"Zoom\", \"Zoom to rectangle\", \"fa fa-square-o icon-check-empty\", \"zoom\"], [\"\", \"\", \"\", \"\"], [\"Download\", \"Download plot\", \"fa fa-floppy-o icon-save\", \"download\"]];\n",
       "\n",
       "mpl.extensions = [\"eps\", \"jpeg\", \"pdf\", \"png\", \"ps\", \"raw\", \"svg\", \"tif\"];\n",
       "\n",
       "mpl.default_extension = \"png\";var comm_websocket_adapter = function(comm) {\n",
       "    // Create a \"websocket\"-like object which calls the given IPython comm\n",
       "    // object with the appropriate methods. Currently this is a non binary\n",
       "    // socket, so there is still some room for performance tuning.\n",
       "    var ws = {};\n",
       "\n",
       "    ws.close = function() {\n",
       "        comm.close()\n",
       "    };\n",
       "    ws.send = function(m) {\n",
       "        //console.log('sending', m);\n",
       "        comm.send(m);\n",
       "    };\n",
       "    // Register the callback with on_msg.\n",
       "    comm.on_msg(function(msg) {\n",
       "        //console.log('receiving', msg['content']['data'], msg);\n",
       "        // Pass the mpl event to the overridden (by mpl) onmessage function.\n",
       "        ws.onmessage(msg['content']['data'])\n",
       "    });\n",
       "    return ws;\n",
       "}\n",
       "\n",
       "mpl.mpl_figure_comm = function(comm, msg) {\n",
       "    // This is the function which gets called when the mpl process\n",
       "    // starts-up an IPython Comm through the \"matplotlib\" channel.\n",
       "\n",
       "    var id = msg.content.data.id;\n",
       "    // Get hold of the div created by the display call when the Comm\n",
       "    // socket was opened in Python.\n",
       "    var element = $(\"#\" + id);\n",
       "    var ws_proxy = comm_websocket_adapter(comm)\n",
       "\n",
       "    function ondownload(figure, format) {\n",
       "        window.open(figure.imageObj.src);\n",
       "    }\n",
       "\n",
       "    var fig = new mpl.figure(id, ws_proxy,\n",
       "                           ondownload,\n",
       "                           element.get(0));\n",
       "\n",
       "    // Call onopen now - mpl needs it, as it is assuming we've passed it a real\n",
       "    // web socket which is closed, not our websocket->open comm proxy.\n",
       "    ws_proxy.onopen();\n",
       "\n",
       "    fig.parent_element = element.get(0);\n",
       "    fig.cell_info = mpl.find_output_cell(\"<div id='\" + id + \"'></div>\");\n",
       "    if (!fig.cell_info) {\n",
       "        console.error(\"Failed to find cell for figure\", id, fig);\n",
       "        return;\n",
       "    }\n",
       "\n",
       "    var output_index = fig.cell_info[2]\n",
       "    var cell = fig.cell_info[0];\n",
       "\n",
       "};\n",
       "\n",
       "mpl.figure.prototype.handle_close = function(fig, msg) {\n",
       "    var width = fig.canvas.width/mpl.ratio\n",
       "    fig.root.unbind('remove')\n",
       "\n",
       "    // Update the output cell to use the data from the current canvas.\n",
       "    fig.push_to_output();\n",
       "    var dataURL = fig.canvas.toDataURL();\n",
       "    // Re-enable the keyboard manager in IPython - without this line, in FF,\n",
       "    // the notebook keyboard shortcuts fail.\n",
       "    IPython.keyboard_manager.enable()\n",
       "    $(fig.parent_element).html('<img src=\"' + dataURL + '\" width=\"' + width + '\">');\n",
       "    fig.close_ws(fig, msg);\n",
       "}\n",
       "\n",
       "mpl.figure.prototype.close_ws = function(fig, msg){\n",
       "    fig.send_message('closing', msg);\n",
       "    // fig.ws.close()\n",
       "}\n",
       "\n",
       "mpl.figure.prototype.push_to_output = function(remove_interactive) {\n",
       "    // Turn the data on the canvas into data in the output cell.\n",
       "    var width = this.canvas.width/mpl.ratio\n",
       "    var dataURL = this.canvas.toDataURL();\n",
       "    this.cell_info[1]['text/html'] = '<img src=\"' + dataURL + '\" width=\"' + width + '\">';\n",
       "}\n",
       "\n",
       "mpl.figure.prototype.updated_canvas_event = function() {\n",
       "    // Tell IPython that the notebook contents must change.\n",
       "    IPython.notebook.set_dirty(true);\n",
       "    this.send_message(\"ack\", {});\n",
       "    var fig = this;\n",
       "    // Wait a second, then push the new image to the DOM so\n",
       "    // that it is saved nicely (might be nice to debounce this).\n",
       "    setTimeout(function () { fig.push_to_output() }, 1000);\n",
       "}\n",
       "\n",
       "mpl.figure.prototype._init_toolbar = function() {\n",
       "    var fig = this;\n",
       "\n",
       "    var nav_element = $('<div/>')\n",
       "    nav_element.attr('style', 'width: 100%');\n",
       "    this.root.append(nav_element);\n",
       "\n",
       "    // Define a callback function for later on.\n",
       "    function toolbar_event(event) {\n",
       "        return fig.toolbar_button_onclick(event['data']);\n",
       "    }\n",
       "    function toolbar_mouse_event(event) {\n",
       "        return fig.toolbar_button_onmouseover(event['data']);\n",
       "    }\n",
       "\n",
       "    for(var toolbar_ind in mpl.toolbar_items){\n",
       "        var name = mpl.toolbar_items[toolbar_ind][0];\n",
       "        var tooltip = mpl.toolbar_items[toolbar_ind][1];\n",
       "        var image = mpl.toolbar_items[toolbar_ind][2];\n",
       "        var method_name = mpl.toolbar_items[toolbar_ind][3];\n",
       "\n",
       "        if (!name) { continue; };\n",
       "\n",
       "        var button = $('<button class=\"btn btn-default\" href=\"#\" title=\"' + name + '\"><i class=\"fa ' + image + ' fa-lg\"></i></button>');\n",
       "        button.click(method_name, toolbar_event);\n",
       "        button.mouseover(tooltip, toolbar_mouse_event);\n",
       "        nav_element.append(button);\n",
       "    }\n",
       "\n",
       "    // Add the status bar.\n",
       "    var status_bar = $('<span class=\"mpl-message\" style=\"text-align:right; float: right;\"/>');\n",
       "    nav_element.append(status_bar);\n",
       "    this.message = status_bar[0];\n",
       "\n",
       "    // Add the close button to the window.\n",
       "    var buttongrp = $('<div class=\"btn-group inline pull-right\"></div>');\n",
       "    var button = $('<button class=\"btn btn-mini btn-primary\" href=\"#\" title=\"Stop Interaction\"><i class=\"fa fa-power-off icon-remove icon-large\"></i></button>');\n",
       "    button.click(function (evt) { fig.handle_close(fig, {}); } );\n",
       "    button.mouseover('Stop Interaction', toolbar_mouse_event);\n",
       "    buttongrp.append(button);\n",
       "    var titlebar = this.root.find($('.ui-dialog-titlebar'));\n",
       "    titlebar.prepend(buttongrp);\n",
       "}\n",
       "\n",
       "mpl.figure.prototype._root_extra_style = function(el){\n",
       "    var fig = this\n",
       "    el.on(\"remove\", function(){\n",
       "\tfig.close_ws(fig, {});\n",
       "    });\n",
       "}\n",
       "\n",
       "mpl.figure.prototype._canvas_extra_style = function(el){\n",
       "    // this is important to make the div 'focusable\n",
       "    el.attr('tabindex', 0)\n",
       "    // reach out to IPython and tell the keyboard manager to turn it's self\n",
       "    // off when our div gets focus\n",
       "\n",
       "    // location in version 3\n",
       "    if (IPython.notebook.keyboard_manager) {\n",
       "        IPython.notebook.keyboard_manager.register_events(el);\n",
       "    }\n",
       "    else {\n",
       "        // location in version 2\n",
       "        IPython.keyboard_manager.register_events(el);\n",
       "    }\n",
       "\n",
       "}\n",
       "\n",
       "mpl.figure.prototype._key_event_extra = function(event, name) {\n",
       "    var manager = IPython.notebook.keyboard_manager;\n",
       "    if (!manager)\n",
       "        manager = IPython.keyboard_manager;\n",
       "\n",
       "    // Check for shift+enter\n",
       "    if (event.shiftKey && event.which == 13) {\n",
       "        this.canvas_div.blur();\n",
       "        event.shiftKey = false;\n",
       "        // Send a \"J\" for go to next cell\n",
       "        event.which = 74;\n",
       "        event.keyCode = 74;\n",
       "        manager.command_mode();\n",
       "        manager.handle_keydown(event);\n",
       "    }\n",
       "}\n",
       "\n",
       "mpl.figure.prototype.handle_save = function(fig, msg) {\n",
       "    fig.ondownload(fig, null);\n",
       "}\n",
       "\n",
       "\n",
       "mpl.find_output_cell = function(html_output) {\n",
       "    // Return the cell and output element which can be found *uniquely* in the notebook.\n",
       "    // Note - this is a bit hacky, but it is done because the \"notebook_saving.Notebook\"\n",
       "    // IPython event is triggered only after the cells have been serialised, which for\n",
       "    // our purposes (turning an active figure into a static one), is too late.\n",
       "    var cells = IPython.notebook.get_cells();\n",
       "    var ncells = cells.length;\n",
       "    for (var i=0; i<ncells; i++) {\n",
       "        var cell = cells[i];\n",
       "        if (cell.cell_type === 'code'){\n",
       "            for (var j=0; j<cell.output_area.outputs.length; j++) {\n",
       "                var data = cell.output_area.outputs[j];\n",
       "                if (data.data) {\n",
       "                    // IPython >= 3 moved mimebundle to data attribute of output\n",
       "                    data = data.data;\n",
       "                }\n",
       "                if (data['text/html'] == html_output) {\n",
       "                    return [cell, data, j];\n",
       "                }\n",
       "            }\n",
       "        }\n",
       "    }\n",
       "}\n",
       "\n",
       "// Register the function which deals with the matplotlib target/channel.\n",
       "// The kernel may be null if the page has been refreshed.\n",
       "if (IPython.notebook.kernel != null) {\n",
       "    IPython.notebook.kernel.comm_manager.register_target('matplotlib', mpl.mpl_figure_comm);\n",
       "}\n"
      ],
      "text/plain": [
       "<IPython.core.display.Javascript object>"
      ]
     },
     "metadata": {},
     "output_type": "display_data"
    },
    {
     "data": {
      "text/html": [
       "<img src=\"data:image/png;base64,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\" width=\"432\">"
      ],
      "text/plain": [
       "<IPython.core.display.HTML object>"
      ]
     },
     "metadata": {},
     "output_type": "display_data"
    },
    {
     "name": "stdout",
     "output_type": "stream",
     "text": [
      "Epoch 1/10\n",
      "80/80 [==============================] - 2s 26ms/step - loss: 0.1134\n",
      "Epoch 2/10\n",
      "80/80 [==============================] - 0s 6ms/step - loss: 0.0880\n",
      "Epoch 3/10\n",
      "80/80 [==============================] - 0s 6ms/step - loss: 0.0746\n",
      "Epoch 4/10\n",
      "80/80 [==============================] - 0s 5ms/step - loss: 0.0485\n",
      "Epoch 5/10\n",
      "10/80 [==>...........................] - ETA: 0s - loss: 0.0602"
     ]
    },
    {
     "ename": "KeyboardInterrupt",
     "evalue": "",
     "output_type": "error",
     "traceback": [
      "\u001b[0;31m---------------------------------------------------------------------------\u001b[0m",
      "\u001b[0;31mKeyboardInterrupt\u001b[0m                         Traceback (most recent call last)",
      "\u001b[0;32m<ipython-input-94-eadefa4bf75e>\u001b[0m in \u001b[0;36m<module>\u001b[0;34m\u001b[0m\n\u001b[1;32m     28\u001b[0m \u001b[0;31m#             grid_downsample=0.5,\u001b[0m\u001b[0;34m\u001b[0m\u001b[0;34m\u001b[0m\u001b[0;34m\u001b[0m\u001b[0m\n\u001b[1;32m     29\u001b[0m             \u001b[0mparams\u001b[0m\u001b[0;34m=\u001b[0m\u001b[0mp\u001b[0m\u001b[0;34m,\u001b[0m\u001b[0;34m\u001b[0m\u001b[0;34m\u001b[0m\u001b[0m\n\u001b[0;32m---> 30\u001b[0;31m             experiment_no='3')\n\u001b[0m",
      "\u001b[0;32m/usr/local/lib/python3.7/site-packages/talos/scan/Scan.py\u001b[0m in \u001b[0;36m__init__\u001b[0;34m(self, x, y, params, model, dataset_name, experiment_no, x_val, y_val, val_split, shuffle, round_limit, grid_downsample, random_method, seed, search_method, reduction_method, reduction_interval, reduction_window, reduction_threshold, reduction_metric, reduce_loss, last_epoch_value, clear_tf_session, disable_progress_bar, print_params, debug)\u001b[0m\n\u001b[1;32m    168\u001b[0m         \u001b[0;31m# input parameters section ends\u001b[0m\u001b[0;34m\u001b[0m\u001b[0;34m\u001b[0m\u001b[0;34m\u001b[0m\u001b[0m\n\u001b[1;32m    169\u001b[0m \u001b[0;34m\u001b[0m\u001b[0m\n\u001b[0;32m--> 170\u001b[0;31m         \u001b[0mself\u001b[0m\u001b[0;34m.\u001b[0m\u001b[0m_null\u001b[0m \u001b[0;34m=\u001b[0m \u001b[0mself\u001b[0m\u001b[0;34m.\u001b[0m\u001b[0mruntime\u001b[0m\u001b[0;34m(\u001b[0m\u001b[0;34m)\u001b[0m\u001b[0;34m\u001b[0m\u001b[0;34m\u001b[0m\u001b[0m\n\u001b[0m\u001b[1;32m    171\u001b[0m \u001b[0;34m\u001b[0m\u001b[0m\n\u001b[1;32m    172\u001b[0m     \u001b[0;32mdef\u001b[0m \u001b[0mruntime\u001b[0m\u001b[0;34m(\u001b[0m\u001b[0mself\u001b[0m\u001b[0;34m)\u001b[0m\u001b[0;34m:\u001b[0m\u001b[0;34m\u001b[0m\u001b[0;34m\u001b[0m\u001b[0m\n",
      "\u001b[0;32m/usr/local/lib/python3.7/site-packages/talos/scan/Scan.py\u001b[0m in \u001b[0;36mruntime\u001b[0;34m(self)\u001b[0m\n\u001b[1;32m    173\u001b[0m \u001b[0;34m\u001b[0m\u001b[0m\n\u001b[1;32m    174\u001b[0m         \u001b[0mself\u001b[0m \u001b[0;34m=\u001b[0m \u001b[0mscan_prepare\u001b[0m\u001b[0;34m(\u001b[0m\u001b[0mself\u001b[0m\u001b[0;34m)\u001b[0m\u001b[0;34m\u001b[0m\u001b[0;34m\u001b[0m\u001b[0m\n\u001b[0;32m--> 175\u001b[0;31m         \u001b[0mself\u001b[0m \u001b[0;34m=\u001b[0m \u001b[0mscan_run\u001b[0m\u001b[0;34m(\u001b[0m\u001b[0mself\u001b[0m\u001b[0;34m)\u001b[0m\u001b[0;34m\u001b[0m\u001b[0;34m\u001b[0m\u001b[0m\n\u001b[0m",
      "\u001b[0;32m/usr/local/lib/python3.7/site-packages/talos/scan/scan_run.py\u001b[0m in \u001b[0;36mscan_run\u001b[0;34m(self)\u001b[0m\n\u001b[1;32m     16\u001b[0m                      disable=self.disable_progress_bar)\n\u001b[1;32m     17\u001b[0m     \u001b[0;32mwhile\u001b[0m \u001b[0mlen\u001b[0m\u001b[0;34m(\u001b[0m\u001b[0mself\u001b[0m\u001b[0;34m.\u001b[0m\u001b[0mparam_log\u001b[0m\u001b[0;34m)\u001b[0m \u001b[0;34m!=\u001b[0m \u001b[0;36m0\u001b[0m\u001b[0;34m:\u001b[0m\u001b[0;34m\u001b[0m\u001b[0;34m\u001b[0m\u001b[0m\n\u001b[0;32m---> 18\u001b[0;31m         \u001b[0mself\u001b[0m \u001b[0;34m=\u001b[0m \u001b[0mscan_round\u001b[0m\u001b[0;34m(\u001b[0m\u001b[0mself\u001b[0m\u001b[0;34m)\u001b[0m\u001b[0;34m\u001b[0m\u001b[0;34m\u001b[0m\u001b[0m\n\u001b[0m\u001b[1;32m     19\u001b[0m         \u001b[0mself\u001b[0m\u001b[0;34m.\u001b[0m\u001b[0mpbar\u001b[0m\u001b[0;34m.\u001b[0m\u001b[0mupdate\u001b[0m\u001b[0;34m(\u001b[0m\u001b[0;36m1\u001b[0m\u001b[0;34m)\u001b[0m\u001b[0;34m\u001b[0m\u001b[0;34m\u001b[0m\u001b[0m\n\u001b[1;32m     20\u001b[0m     \u001b[0mself\u001b[0m\u001b[0;34m.\u001b[0m\u001b[0mpbar\u001b[0m\u001b[0;34m.\u001b[0m\u001b[0mclose\u001b[0m\u001b[0;34m(\u001b[0m\u001b[0;34m)\u001b[0m\u001b[0;34m\u001b[0m\u001b[0;34m\u001b[0m\u001b[0m\n",
      "\u001b[0;32m/usr/local/lib/python3.7/site-packages/talos/scan/scan_round.py\u001b[0m in \u001b[0;36mscan_round\u001b[0;34m(self)\u001b[0m\n\u001b[1;32m     30\u001b[0m     \u001b[0;31m# fit the model\u001b[0m\u001b[0;34m\u001b[0m\u001b[0;34m\u001b[0m\u001b[0;34m\u001b[0m\u001b[0m\n\u001b[1;32m     31\u001b[0m     \u001b[0;32mtry\u001b[0m\u001b[0;34m:\u001b[0m\u001b[0;34m\u001b[0m\u001b[0;34m\u001b[0m\u001b[0m\n\u001b[0;32m---> 32\u001b[0;31m         \u001b[0m_hr_out\u001b[0m\u001b[0;34m,\u001b[0m \u001b[0mself\u001b[0m\u001b[0;34m.\u001b[0m\u001b[0mkeras_model\u001b[0m \u001b[0;34m=\u001b[0m \u001b[0mingest_model\u001b[0m\u001b[0;34m(\u001b[0m\u001b[0mself\u001b[0m\u001b[0;34m)\u001b[0m\u001b[0;34m\u001b[0m\u001b[0;34m\u001b[0m\u001b[0m\n\u001b[0m\u001b[1;32m     33\u001b[0m     \u001b[0;32mexcept\u001b[0m \u001b[0mTypeError\u001b[0m \u001b[0;32mas\u001b[0m \u001b[0merr\u001b[0m\u001b[0;34m:\u001b[0m\u001b[0;34m\u001b[0m\u001b[0;34m\u001b[0m\u001b[0m\n\u001b[1;32m     34\u001b[0m         \u001b[0;32mif\u001b[0m \u001b[0merr\u001b[0m\u001b[0;34m.\u001b[0m\u001b[0margs\u001b[0m\u001b[0;34m[\u001b[0m\u001b[0;36m0\u001b[0m\u001b[0;34m]\u001b[0m \u001b[0;34m==\u001b[0m \u001b[0;34m\"unsupported operand type(s) for +: 'int' and 'numpy.str_'\"\u001b[0m\u001b[0;34m:\u001b[0m\u001b[0;34m\u001b[0m\u001b[0;34m\u001b[0m\u001b[0m\n",
      "\u001b[0;32m/usr/local/lib/python3.7/site-packages/talos/model/ingest_model.py\u001b[0m in \u001b[0;36mingest_model\u001b[0;34m(self)\u001b[0m\n\u001b[1;32m      8\u001b[0m                       \u001b[0mself\u001b[0m\u001b[0;34m.\u001b[0m\u001b[0mx_val\u001b[0m\u001b[0;34m,\u001b[0m\u001b[0;34m\u001b[0m\u001b[0;34m\u001b[0m\u001b[0m\n\u001b[1;32m      9\u001b[0m                       \u001b[0mself\u001b[0m\u001b[0;34m.\u001b[0m\u001b[0my_val\u001b[0m\u001b[0;34m,\u001b[0m\u001b[0;34m\u001b[0m\u001b[0;34m\u001b[0m\u001b[0m\n\u001b[0;32m---> 10\u001b[0;31m                       self.round_params)\n\u001b[0m",
      "\u001b[0;32m<ipython-input-93-85822adb6490>\u001b[0m in \u001b[0;36mcreate_lstm_model\u001b[0;34m(X_tr, y_tr, x_val, y_val, params)\u001b[0m\n\u001b[1;32m    109\u001b[0m         \u001b[0;31m# validation_data=(X_te_s[:200], y_te_s[:200]),\u001b[0m\u001b[0;34m\u001b[0m\u001b[0;34m\u001b[0m\u001b[0;34m\u001b[0m\u001b[0m\n\u001b[1;32m    110\u001b[0m         \u001b[0;31m# callbacks=[es_cb, test_model_cb, tensorboard_cb],\u001b[0m\u001b[0;34m\u001b[0m\u001b[0;34m\u001b[0m\u001b[0;34m\u001b[0m\u001b[0m\n\u001b[0;32m--> 111\u001b[0;31m         \u001b[0mcallbacks\u001b[0m\u001b[0;34m=\u001b[0m\u001b[0;34m[\u001b[0m\u001b[0mes_cb\u001b[0m\u001b[0;34m,\u001b[0m \u001b[0mtest_model_cb\u001b[0m\u001b[0;34m,\u001b[0m \u001b[0mlrate\u001b[0m\u001b[0;34m]\u001b[0m\u001b[0;34m,\u001b[0m\u001b[0;34m\u001b[0m\u001b[0;34m\u001b[0m\u001b[0m\n\u001b[0m\u001b[1;32m    112\u001b[0m     )\n\u001b[1;32m    113\u001b[0m \u001b[0;34m\u001b[0m\u001b[0m\n",
      "\u001b[0;32m/usr/local/lib/python3.7/site-packages/keras/engine/training.py\u001b[0m in \u001b[0;36mfit\u001b[0;34m(self, x, y, batch_size, epochs, verbose, callbacks, validation_split, validation_data, shuffle, class_weight, sample_weight, initial_epoch, steps_per_epoch, validation_steps, **kwargs)\u001b[0m\n\u001b[1;32m   1037\u001b[0m                                         \u001b[0minitial_epoch\u001b[0m\u001b[0;34m=\u001b[0m\u001b[0minitial_epoch\u001b[0m\u001b[0;34m,\u001b[0m\u001b[0;34m\u001b[0m\u001b[0;34m\u001b[0m\u001b[0m\n\u001b[1;32m   1038\u001b[0m                                         \u001b[0msteps_per_epoch\u001b[0m\u001b[0;34m=\u001b[0m\u001b[0msteps_per_epoch\u001b[0m\u001b[0;34m,\u001b[0m\u001b[0;34m\u001b[0m\u001b[0;34m\u001b[0m\u001b[0m\n\u001b[0;32m-> 1039\u001b[0;31m                                         validation_steps=validation_steps)\n\u001b[0m\u001b[1;32m   1040\u001b[0m \u001b[0;34m\u001b[0m\u001b[0m\n\u001b[1;32m   1041\u001b[0m     def evaluate(self, x=None, y=None,\n",
      "\u001b[0;32m/usr/local/lib/python3.7/site-packages/keras/engine/training_arrays.py\u001b[0m in \u001b[0;36mfit_loop\u001b[0;34m(model, f, ins, out_labels, batch_size, epochs, verbose, callbacks, val_f, val_ins, shuffle, callback_metrics, initial_epoch, steps_per_epoch, validation_steps)\u001b[0m\n\u001b[1;32m    197\u001b[0m                     \u001b[0mins_batch\u001b[0m\u001b[0;34m[\u001b[0m\u001b[0mi\u001b[0m\u001b[0;34m]\u001b[0m \u001b[0;34m=\u001b[0m \u001b[0mins_batch\u001b[0m\u001b[0;34m[\u001b[0m\u001b[0mi\u001b[0m\u001b[0;34m]\u001b[0m\u001b[0;34m.\u001b[0m\u001b[0mtoarray\u001b[0m\u001b[0;34m(\u001b[0m\u001b[0;34m)\u001b[0m\u001b[0;34m\u001b[0m\u001b[0;34m\u001b[0m\u001b[0m\n\u001b[1;32m    198\u001b[0m \u001b[0;34m\u001b[0m\u001b[0m\n\u001b[0;32m--> 199\u001b[0;31m                 \u001b[0mouts\u001b[0m \u001b[0;34m=\u001b[0m \u001b[0mf\u001b[0m\u001b[0;34m(\u001b[0m\u001b[0mins_batch\u001b[0m\u001b[0;34m)\u001b[0m\u001b[0;34m\u001b[0m\u001b[0;34m\u001b[0m\u001b[0m\n\u001b[0m\u001b[1;32m    200\u001b[0m                 \u001b[0mouts\u001b[0m \u001b[0;34m=\u001b[0m \u001b[0mto_list\u001b[0m\u001b[0;34m(\u001b[0m\u001b[0mouts\u001b[0m\u001b[0;34m)\u001b[0m\u001b[0;34m\u001b[0m\u001b[0;34m\u001b[0m\u001b[0m\n\u001b[1;32m    201\u001b[0m                 \u001b[0;32mfor\u001b[0m \u001b[0ml\u001b[0m\u001b[0;34m,\u001b[0m \u001b[0mo\u001b[0m \u001b[0;32min\u001b[0m \u001b[0mzip\u001b[0m\u001b[0;34m(\u001b[0m\u001b[0mout_labels\u001b[0m\u001b[0;34m,\u001b[0m \u001b[0mouts\u001b[0m\u001b[0;34m)\u001b[0m\u001b[0;34m:\u001b[0m\u001b[0;34m\u001b[0m\u001b[0;34m\u001b[0m\u001b[0m\n",
      "\u001b[0;32m/usr/local/lib/python3.7/site-packages/keras/backend/tensorflow_backend.py\u001b[0m in \u001b[0;36m__call__\u001b[0;34m(self, inputs)\u001b[0m\n\u001b[1;32m   2713\u001b[0m                 \u001b[0;32mreturn\u001b[0m \u001b[0mself\u001b[0m\u001b[0;34m.\u001b[0m\u001b[0m_legacy_call\u001b[0m\u001b[0;34m(\u001b[0m\u001b[0minputs\u001b[0m\u001b[0;34m)\u001b[0m\u001b[0;34m\u001b[0m\u001b[0;34m\u001b[0m\u001b[0m\n\u001b[1;32m   2714\u001b[0m \u001b[0;34m\u001b[0m\u001b[0m\n\u001b[0;32m-> 2715\u001b[0;31m             \u001b[0;32mreturn\u001b[0m \u001b[0mself\u001b[0m\u001b[0;34m.\u001b[0m\u001b[0m_call\u001b[0m\u001b[0;34m(\u001b[0m\u001b[0minputs\u001b[0m\u001b[0;34m)\u001b[0m\u001b[0;34m\u001b[0m\u001b[0;34m\u001b[0m\u001b[0m\n\u001b[0m\u001b[1;32m   2716\u001b[0m         \u001b[0;32melse\u001b[0m\u001b[0;34m:\u001b[0m\u001b[0;34m\u001b[0m\u001b[0;34m\u001b[0m\u001b[0m\n\u001b[1;32m   2717\u001b[0m             \u001b[0;32mif\u001b[0m \u001b[0mpy_any\u001b[0m\u001b[0;34m(\u001b[0m\u001b[0mis_tensor\u001b[0m\u001b[0;34m(\u001b[0m\u001b[0mx\u001b[0m\u001b[0;34m)\u001b[0m \u001b[0;32mfor\u001b[0m \u001b[0mx\u001b[0m \u001b[0;32min\u001b[0m \u001b[0minputs\u001b[0m\u001b[0;34m)\u001b[0m\u001b[0;34m:\u001b[0m\u001b[0;34m\u001b[0m\u001b[0;34m\u001b[0m\u001b[0m\n",
      "\u001b[0;32m/usr/local/lib/python3.7/site-packages/keras/backend/tensorflow_backend.py\u001b[0m in \u001b[0;36m_call\u001b[0;34m(self, inputs)\u001b[0m\n\u001b[1;32m   2673\u001b[0m             \u001b[0mfetched\u001b[0m \u001b[0;34m=\u001b[0m \u001b[0mself\u001b[0m\u001b[0;34m.\u001b[0m\u001b[0m_callable_fn\u001b[0m\u001b[0;34m(\u001b[0m\u001b[0;34m*\u001b[0m\u001b[0marray_vals\u001b[0m\u001b[0;34m,\u001b[0m \u001b[0mrun_metadata\u001b[0m\u001b[0;34m=\u001b[0m\u001b[0mself\u001b[0m\u001b[0;34m.\u001b[0m\u001b[0mrun_metadata\u001b[0m\u001b[0;34m)\u001b[0m\u001b[0;34m\u001b[0m\u001b[0;34m\u001b[0m\u001b[0m\n\u001b[1;32m   2674\u001b[0m         \u001b[0;32melse\u001b[0m\u001b[0;34m:\u001b[0m\u001b[0;34m\u001b[0m\u001b[0;34m\u001b[0m\u001b[0m\n\u001b[0;32m-> 2675\u001b[0;31m             \u001b[0mfetched\u001b[0m \u001b[0;34m=\u001b[0m \u001b[0mself\u001b[0m\u001b[0;34m.\u001b[0m\u001b[0m_callable_fn\u001b[0m\u001b[0;34m(\u001b[0m\u001b[0;34m*\u001b[0m\u001b[0marray_vals\u001b[0m\u001b[0;34m)\u001b[0m\u001b[0;34m\u001b[0m\u001b[0;34m\u001b[0m\u001b[0m\n\u001b[0m\u001b[1;32m   2676\u001b[0m         \u001b[0;32mreturn\u001b[0m \u001b[0mfetched\u001b[0m\u001b[0;34m[\u001b[0m\u001b[0;34m:\u001b[0m\u001b[0mlen\u001b[0m\u001b[0;34m(\u001b[0m\u001b[0mself\u001b[0m\u001b[0;34m.\u001b[0m\u001b[0moutputs\u001b[0m\u001b[0;34m)\u001b[0m\u001b[0;34m]\u001b[0m\u001b[0;34m\u001b[0m\u001b[0;34m\u001b[0m\u001b[0m\n\u001b[1;32m   2677\u001b[0m \u001b[0;34m\u001b[0m\u001b[0m\n",
      "\u001b[0;32m/usr/local/lib/python3.7/site-packages/tensorflow/python/client/session.py\u001b[0m in \u001b[0;36m__call__\u001b[0;34m(self, *args, **kwargs)\u001b[0m\n\u001b[1;32m   1456\u001b[0m         ret = tf_session.TF_SessionRunCallable(self._session._session,\n\u001b[1;32m   1457\u001b[0m                                                \u001b[0mself\u001b[0m\u001b[0;34m.\u001b[0m\u001b[0m_handle\u001b[0m\u001b[0;34m,\u001b[0m \u001b[0margs\u001b[0m\u001b[0;34m,\u001b[0m\u001b[0;34m\u001b[0m\u001b[0;34m\u001b[0m\u001b[0m\n\u001b[0;32m-> 1458\u001b[0;31m                                                run_metadata_ptr)\n\u001b[0m\u001b[1;32m   1459\u001b[0m         \u001b[0;32mif\u001b[0m \u001b[0mrun_metadata\u001b[0m\u001b[0;34m:\u001b[0m\u001b[0;34m\u001b[0m\u001b[0;34m\u001b[0m\u001b[0m\n\u001b[1;32m   1460\u001b[0m           \u001b[0mproto_data\u001b[0m \u001b[0;34m=\u001b[0m \u001b[0mtf_session\u001b[0m\u001b[0;34m.\u001b[0m\u001b[0mTF_GetBuffer\u001b[0m\u001b[0;34m(\u001b[0m\u001b[0mrun_metadata_ptr\u001b[0m\u001b[0;34m)\u001b[0m\u001b[0;34m\u001b[0m\u001b[0;34m\u001b[0m\u001b[0m\n",
      "\u001b[0;31mKeyboardInterrupt\u001b[0m: "
     ]
    }
   ],
   "source": [
    "from keras.optimizers import Adam, Nadam, RMSprop\n",
    "import talos as ta\n",
    "\n",
    "p = {\n",
    "     'lr': [0.001, 0.003, 0.01],\n",
    "     'n_samples': [80],\n",
    "     'n_units': [4, 8, 16],\n",
    "#      'batch_size': [10, 100, 1000],\n",
    "     'batch_size': [10],\n",
    "     'epochs': [10],\n",
    "     # 'dropout': (0, 0.5, 5),\n",
    "     # 'weight_regulizer':[None],\n",
    "     # 'emb_output_dims': [None],\n",
    "     # 'shape':['brick','long_funnel'],\n",
    "     'optimizer': [Adam],\n",
    " }\n",
    "#     'lr': 0.001,\n",
    "#     'n_samples': 20,\n",
    "#     'n_units': 24,\n",
    "#     'batch_size': 10,\n",
    "#     'epochs': 100,\n",
    "#     'optimizer': keras.optimizers.Adam,\n",
    "\n",
    "# and run the experiment\n",
    "t = ta.Scan(x=X_tr_s[:np.max(p['n_samples'])],\n",
    "            y=y_tr_s[:np.max(p['n_samples'])],\n",
    "            model=create_lstm_model,\n",
    "#             grid_downsample=0.5,\n",
    "            params=p,\n",
    "            experiment_no='3')\n"
   ]
  },
  {
   "cell_type": "code",
   "execution_count": null,
   "metadata": {},
   "outputs": [],
   "source": [
    "r = ta.Reporting(t)\n",
    "r.data.sort_values(by='loss')"
   ]
  },
  {
   "cell_type": "code",
   "execution_count": null,
   "metadata": {},
   "outputs": [],
   "source": [
    "best_params = r.data.loc[3]\n",
    "best_params"
   ]
  },
  {
   "cell_type": "code",
   "execution_count": null,
   "metadata": {},
   "outputs": [],
   "source": [
    "type(best_params)"
   ]
  },
  {
   "cell_type": "code",
   "execution_count": null,
   "metadata": {
    "scrolled": false
   },
   "outputs": [
    {
     "data": {
      "application/javascript": [
       "/* Put everything inside the global mpl namespace */\n",
       "window.mpl = {};\n",
       "\n",
       "\n",
       "mpl.get_websocket_type = function() {\n",
       "    if (typeof(WebSocket) !== 'undefined') {\n",
       "        return WebSocket;\n",
       "    } else if (typeof(MozWebSocket) !== 'undefined') {\n",
       "        return MozWebSocket;\n",
       "    } else {\n",
       "        alert('Your browser does not have WebSocket support.' +\n",
       "              'Please try Chrome, Safari or Firefox ≥ 6. ' +\n",
       "              'Firefox 4 and 5 are also supported but you ' +\n",
       "              'have to enable WebSockets in about:config.');\n",
       "    };\n",
       "}\n",
       "\n",
       "mpl.figure = function(figure_id, websocket, ondownload, parent_element) {\n",
       "    this.id = figure_id;\n",
       "\n",
       "    this.ws = websocket;\n",
       "\n",
       "    this.supports_binary = (this.ws.binaryType != undefined);\n",
       "\n",
       "    if (!this.supports_binary) {\n",
       "        var warnings = document.getElementById(\"mpl-warnings\");\n",
       "        if (warnings) {\n",
       "            warnings.style.display = 'block';\n",
       "            warnings.textContent = (\n",
       "                \"This browser does not support binary websocket messages. \" +\n",
       "                    \"Performance may be slow.\");\n",
       "        }\n",
       "    }\n",
       "\n",
       "    this.imageObj = new Image();\n",
       "\n",
       "    this.context = undefined;\n",
       "    this.message = undefined;\n",
       "    this.canvas = undefined;\n",
       "    this.rubberband_canvas = undefined;\n",
       "    this.rubberband_context = undefined;\n",
       "    this.format_dropdown = undefined;\n",
       "\n",
       "    this.image_mode = 'full';\n",
       "\n",
       "    this.root = $('<div/>');\n",
       "    this._root_extra_style(this.root)\n",
       "    this.root.attr('style', 'display: inline-block');\n",
       "\n",
       "    $(parent_element).append(this.root);\n",
       "\n",
       "    this._init_header(this);\n",
       "    this._init_canvas(this);\n",
       "    this._init_toolbar(this);\n",
       "\n",
       "    var fig = this;\n",
       "\n",
       "    this.waiting = false;\n",
       "\n",
       "    this.ws.onopen =  function () {\n",
       "            fig.send_message(\"supports_binary\", {value: fig.supports_binary});\n",
       "            fig.send_message(\"send_image_mode\", {});\n",
       "            if (mpl.ratio != 1) {\n",
       "                fig.send_message(\"set_dpi_ratio\", {'dpi_ratio': mpl.ratio});\n",
       "            }\n",
       "            fig.send_message(\"refresh\", {});\n",
       "        }\n",
       "\n",
       "    this.imageObj.onload = function() {\n",
       "            if (fig.image_mode == 'full') {\n",
       "                // Full images could contain transparency (where diff images\n",
       "                // almost always do), so we need to clear the canvas so that\n",
       "                // there is no ghosting.\n",
       "                fig.context.clearRect(0, 0, fig.canvas.width, fig.canvas.height);\n",
       "            }\n",
       "            fig.context.drawImage(fig.imageObj, 0, 0);\n",
       "        };\n",
       "\n",
       "    this.imageObj.onunload = function() {\n",
       "        fig.ws.close();\n",
       "    }\n",
       "\n",
       "    this.ws.onmessage = this._make_on_message_function(this);\n",
       "\n",
       "    this.ondownload = ondownload;\n",
       "}\n",
       "\n",
       "mpl.figure.prototype._init_header = function() {\n",
       "    var titlebar = $(\n",
       "        '<div class=\"ui-dialog-titlebar ui-widget-header ui-corner-all ' +\n",
       "        'ui-helper-clearfix\"/>');\n",
       "    var titletext = $(\n",
       "        '<div class=\"ui-dialog-title\" style=\"width: 100%; ' +\n",
       "        'text-align: center; padding: 3px;\"/>');\n",
       "    titlebar.append(titletext)\n",
       "    this.root.append(titlebar);\n",
       "    this.header = titletext[0];\n",
       "}\n",
       "\n",
       "\n",
       "\n",
       "mpl.figure.prototype._canvas_extra_style = function(canvas_div) {\n",
       "\n",
       "}\n",
       "\n",
       "\n",
       "mpl.figure.prototype._root_extra_style = function(canvas_div) {\n",
       "\n",
       "}\n",
       "\n",
       "mpl.figure.prototype._init_canvas = function() {\n",
       "    var fig = this;\n",
       "\n",
       "    var canvas_div = $('<div/>');\n",
       "\n",
       "    canvas_div.attr('style', 'position: relative; clear: both; outline: 0');\n",
       "\n",
       "    function canvas_keyboard_event(event) {\n",
       "        return fig.key_event(event, event['data']);\n",
       "    }\n",
       "\n",
       "    canvas_div.keydown('key_press', canvas_keyboard_event);\n",
       "    canvas_div.keyup('key_release', canvas_keyboard_event);\n",
       "    this.canvas_div = canvas_div\n",
       "    this._canvas_extra_style(canvas_div)\n",
       "    this.root.append(canvas_div);\n",
       "\n",
       "    var canvas = $('<canvas/>');\n",
       "    canvas.addClass('mpl-canvas');\n",
       "    canvas.attr('style', \"left: 0; top: 0; z-index: 0; outline: 0\")\n",
       "\n",
       "    this.canvas = canvas[0];\n",
       "    this.context = canvas[0].getContext(\"2d\");\n",
       "\n",
       "    var backingStore = this.context.backingStorePixelRatio ||\n",
       "\tthis.context.webkitBackingStorePixelRatio ||\n",
       "\tthis.context.mozBackingStorePixelRatio ||\n",
       "\tthis.context.msBackingStorePixelRatio ||\n",
       "\tthis.context.oBackingStorePixelRatio ||\n",
       "\tthis.context.backingStorePixelRatio || 1;\n",
       "\n",
       "    mpl.ratio = (window.devicePixelRatio || 1) / backingStore;\n",
       "\n",
       "    var rubberband = $('<canvas/>');\n",
       "    rubberband.attr('style', \"position: absolute; left: 0; top: 0; z-index: 1;\")\n",
       "\n",
       "    var pass_mouse_events = true;\n",
       "\n",
       "    canvas_div.resizable({\n",
       "        start: function(event, ui) {\n",
       "            pass_mouse_events = false;\n",
       "        },\n",
       "        resize: function(event, ui) {\n",
       "            fig.request_resize(ui.size.width, ui.size.height);\n",
       "        },\n",
       "        stop: function(event, ui) {\n",
       "            pass_mouse_events = true;\n",
       "            fig.request_resize(ui.size.width, ui.size.height);\n",
       "        },\n",
       "    });\n",
       "\n",
       "    function mouse_event_fn(event) {\n",
       "        if (pass_mouse_events)\n",
       "            return fig.mouse_event(event, event['data']);\n",
       "    }\n",
       "\n",
       "    rubberband.mousedown('button_press', mouse_event_fn);\n",
       "    rubberband.mouseup('button_release', mouse_event_fn);\n",
       "    // Throttle sequential mouse events to 1 every 20ms.\n",
       "    rubberband.mousemove('motion_notify', mouse_event_fn);\n",
       "\n",
       "    rubberband.mouseenter('figure_enter', mouse_event_fn);\n",
       "    rubberband.mouseleave('figure_leave', mouse_event_fn);\n",
       "\n",
       "    canvas_div.on(\"wheel\", function (event) {\n",
       "        event = event.originalEvent;\n",
       "        event['data'] = 'scroll'\n",
       "        if (event.deltaY < 0) {\n",
       "            event.step = 1;\n",
       "        } else {\n",
       "            event.step = -1;\n",
       "        }\n",
       "        mouse_event_fn(event);\n",
       "    });\n",
       "\n",
       "    canvas_div.append(canvas);\n",
       "    canvas_div.append(rubberband);\n",
       "\n",
       "    this.rubberband = rubberband;\n",
       "    this.rubberband_canvas = rubberband[0];\n",
       "    this.rubberband_context = rubberband[0].getContext(\"2d\");\n",
       "    this.rubberband_context.strokeStyle = \"#000000\";\n",
       "\n",
       "    this._resize_canvas = function(width, height) {\n",
       "        // Keep the size of the canvas, canvas container, and rubber band\n",
       "        // canvas in synch.\n",
       "        canvas_div.css('width', width)\n",
       "        canvas_div.css('height', height)\n",
       "\n",
       "        canvas.attr('width', width * mpl.ratio);\n",
       "        canvas.attr('height', height * mpl.ratio);\n",
       "        canvas.attr('style', 'width: ' + width + 'px; height: ' + height + 'px;');\n",
       "\n",
       "        rubberband.attr('width', width);\n",
       "        rubberband.attr('height', height);\n",
       "    }\n",
       "\n",
       "    // Set the figure to an initial 600x600px, this will subsequently be updated\n",
       "    // upon first draw.\n",
       "    this._resize_canvas(600, 600);\n",
       "\n",
       "    // Disable right mouse context menu.\n",
       "    $(this.rubberband_canvas).bind(\"contextmenu\",function(e){\n",
       "        return false;\n",
       "    });\n",
       "\n",
       "    function set_focus () {\n",
       "        canvas.focus();\n",
       "        canvas_div.focus();\n",
       "    }\n",
       "\n",
       "    window.setTimeout(set_focus, 100);\n",
       "}\n",
       "\n",
       "mpl.figure.prototype._init_toolbar = function() {\n",
       "    var fig = this;\n",
       "\n",
       "    var nav_element = $('<div/>')\n",
       "    nav_element.attr('style', 'width: 100%');\n",
       "    this.root.append(nav_element);\n",
       "\n",
       "    // Define a callback function for later on.\n",
       "    function toolbar_event(event) {\n",
       "        return fig.toolbar_button_onclick(event['data']);\n",
       "    }\n",
       "    function toolbar_mouse_event(event) {\n",
       "        return fig.toolbar_button_onmouseover(event['data']);\n",
       "    }\n",
       "\n",
       "    for(var toolbar_ind in mpl.toolbar_items) {\n",
       "        var name = mpl.toolbar_items[toolbar_ind][0];\n",
       "        var tooltip = mpl.toolbar_items[toolbar_ind][1];\n",
       "        var image = mpl.toolbar_items[toolbar_ind][2];\n",
       "        var method_name = mpl.toolbar_items[toolbar_ind][3];\n",
       "\n",
       "        if (!name) {\n",
       "            // put a spacer in here.\n",
       "            continue;\n",
       "        }\n",
       "        var button = $('<button/>');\n",
       "        button.addClass('ui-button ui-widget ui-state-default ui-corner-all ' +\n",
       "                        'ui-button-icon-only');\n",
       "        button.attr('role', 'button');\n",
       "        button.attr('aria-disabled', 'false');\n",
       "        button.click(method_name, toolbar_event);\n",
       "        button.mouseover(tooltip, toolbar_mouse_event);\n",
       "\n",
       "        var icon_img = $('<span/>');\n",
       "        icon_img.addClass('ui-button-icon-primary ui-icon');\n",
       "        icon_img.addClass(image);\n",
       "        icon_img.addClass('ui-corner-all');\n",
       "\n",
       "        var tooltip_span = $('<span/>');\n",
       "        tooltip_span.addClass('ui-button-text');\n",
       "        tooltip_span.html(tooltip);\n",
       "\n",
       "        button.append(icon_img);\n",
       "        button.append(tooltip_span);\n",
       "\n",
       "        nav_element.append(button);\n",
       "    }\n",
       "\n",
       "    var fmt_picker_span = $('<span/>');\n",
       "\n",
       "    var fmt_picker = $('<select/>');\n",
       "    fmt_picker.addClass('mpl-toolbar-option ui-widget ui-widget-content');\n",
       "    fmt_picker_span.append(fmt_picker);\n",
       "    nav_element.append(fmt_picker_span);\n",
       "    this.format_dropdown = fmt_picker[0];\n",
       "\n",
       "    for (var ind in mpl.extensions) {\n",
       "        var fmt = mpl.extensions[ind];\n",
       "        var option = $(\n",
       "            '<option/>', {selected: fmt === mpl.default_extension}).html(fmt);\n",
       "        fmt_picker.append(option)\n",
       "    }\n",
       "\n",
       "    // Add hover states to the ui-buttons\n",
       "    $( \".ui-button\" ).hover(\n",
       "        function() { $(this).addClass(\"ui-state-hover\");},\n",
       "        function() { $(this).removeClass(\"ui-state-hover\");}\n",
       "    );\n",
       "\n",
       "    var status_bar = $('<span class=\"mpl-message\"/>');\n",
       "    nav_element.append(status_bar);\n",
       "    this.message = status_bar[0];\n",
       "}\n",
       "\n",
       "mpl.figure.prototype.request_resize = function(x_pixels, y_pixels) {\n",
       "    // Request matplotlib to resize the figure. Matplotlib will then trigger a resize in the client,\n",
       "    // which will in turn request a refresh of the image.\n",
       "    this.send_message('resize', {'width': x_pixels, 'height': y_pixels});\n",
       "}\n",
       "\n",
       "mpl.figure.prototype.send_message = function(type, properties) {\n",
       "    properties['type'] = type;\n",
       "    properties['figure_id'] = this.id;\n",
       "    this.ws.send(JSON.stringify(properties));\n",
       "}\n",
       "\n",
       "mpl.figure.prototype.send_draw_message = function() {\n",
       "    if (!this.waiting) {\n",
       "        this.waiting = true;\n",
       "        this.ws.send(JSON.stringify({type: \"draw\", figure_id: this.id}));\n",
       "    }\n",
       "}\n",
       "\n",
       "\n",
       "mpl.figure.prototype.handle_save = function(fig, msg) {\n",
       "    var format_dropdown = fig.format_dropdown;\n",
       "    var format = format_dropdown.options[format_dropdown.selectedIndex].value;\n",
       "    fig.ondownload(fig, format);\n",
       "}\n",
       "\n",
       "\n",
       "mpl.figure.prototype.handle_resize = function(fig, msg) {\n",
       "    var size = msg['size'];\n",
       "    if (size[0] != fig.canvas.width || size[1] != fig.canvas.height) {\n",
       "        fig._resize_canvas(size[0], size[1]);\n",
       "        fig.send_message(\"refresh\", {});\n",
       "    };\n",
       "}\n",
       "\n",
       "mpl.figure.prototype.handle_rubberband = function(fig, msg) {\n",
       "    var x0 = msg['x0'] / mpl.ratio;\n",
       "    var y0 = (fig.canvas.height - msg['y0']) / mpl.ratio;\n",
       "    var x1 = msg['x1'] / mpl.ratio;\n",
       "    var y1 = (fig.canvas.height - msg['y1']) / mpl.ratio;\n",
       "    x0 = Math.floor(x0) + 0.5;\n",
       "    y0 = Math.floor(y0) + 0.5;\n",
       "    x1 = Math.floor(x1) + 0.5;\n",
       "    y1 = Math.floor(y1) + 0.5;\n",
       "    var min_x = Math.min(x0, x1);\n",
       "    var min_y = Math.min(y0, y1);\n",
       "    var width = Math.abs(x1 - x0);\n",
       "    var height = Math.abs(y1 - y0);\n",
       "\n",
       "    fig.rubberband_context.clearRect(\n",
       "        0, 0, fig.canvas.width, fig.canvas.height);\n",
       "\n",
       "    fig.rubberband_context.strokeRect(min_x, min_y, width, height);\n",
       "}\n",
       "\n",
       "mpl.figure.prototype.handle_figure_label = function(fig, msg) {\n",
       "    // Updates the figure title.\n",
       "    fig.header.textContent = msg['label'];\n",
       "}\n",
       "\n",
       "mpl.figure.prototype.handle_cursor = function(fig, msg) {\n",
       "    var cursor = msg['cursor'];\n",
       "    switch(cursor)\n",
       "    {\n",
       "    case 0:\n",
       "        cursor = 'pointer';\n",
       "        break;\n",
       "    case 1:\n",
       "        cursor = 'default';\n",
       "        break;\n",
       "    case 2:\n",
       "        cursor = 'crosshair';\n",
       "        break;\n",
       "    case 3:\n",
       "        cursor = 'move';\n",
       "        break;\n",
       "    }\n",
       "    fig.rubberband_canvas.style.cursor = cursor;\n",
       "}\n",
       "\n",
       "mpl.figure.prototype.handle_message = function(fig, msg) {\n",
       "    fig.message.textContent = msg['message'];\n",
       "}\n",
       "\n",
       "mpl.figure.prototype.handle_draw = function(fig, msg) {\n",
       "    // Request the server to send over a new figure.\n",
       "    fig.send_draw_message();\n",
       "}\n",
       "\n",
       "mpl.figure.prototype.handle_image_mode = function(fig, msg) {\n",
       "    fig.image_mode = msg['mode'];\n",
       "}\n",
       "\n",
       "mpl.figure.prototype.updated_canvas_event = function() {\n",
       "    // Called whenever the canvas gets updated.\n",
       "    this.send_message(\"ack\", {});\n",
       "}\n",
       "\n",
       "// A function to construct a web socket function for onmessage handling.\n",
       "// Called in the figure constructor.\n",
       "mpl.figure.prototype._make_on_message_function = function(fig) {\n",
       "    return function socket_on_message(evt) {\n",
       "        if (evt.data instanceof Blob) {\n",
       "            /* FIXME: We get \"Resource interpreted as Image but\n",
       "             * transferred with MIME type text/plain:\" errors on\n",
       "             * Chrome.  But how to set the MIME type?  It doesn't seem\n",
       "             * to be part of the websocket stream */\n",
       "            evt.data.type = \"image/png\";\n",
       "\n",
       "            /* Free the memory for the previous frames */\n",
       "            if (fig.imageObj.src) {\n",
       "                (window.URL || window.webkitURL).revokeObjectURL(\n",
       "                    fig.imageObj.src);\n",
       "            }\n",
       "\n",
       "            fig.imageObj.src = (window.URL || window.webkitURL).createObjectURL(\n",
       "                evt.data);\n",
       "            fig.updated_canvas_event();\n",
       "            fig.waiting = false;\n",
       "            return;\n",
       "        }\n",
       "        else if (typeof evt.data === 'string' && evt.data.slice(0, 21) == \"data:image/png;base64\") {\n",
       "            fig.imageObj.src = evt.data;\n",
       "            fig.updated_canvas_event();\n",
       "            fig.waiting = false;\n",
       "            return;\n",
       "        }\n",
       "\n",
       "        var msg = JSON.parse(evt.data);\n",
       "        var msg_type = msg['type'];\n",
       "\n",
       "        // Call the  \"handle_{type}\" callback, which takes\n",
       "        // the figure and JSON message as its only arguments.\n",
       "        try {\n",
       "            var callback = fig[\"handle_\" + msg_type];\n",
       "        } catch (e) {\n",
       "            console.log(\"No handler for the '\" + msg_type + \"' message type: \", msg);\n",
       "            return;\n",
       "        }\n",
       "\n",
       "        if (callback) {\n",
       "            try {\n",
       "                // console.log(\"Handling '\" + msg_type + \"' message: \", msg);\n",
       "                callback(fig, msg);\n",
       "            } catch (e) {\n",
       "                console.log(\"Exception inside the 'handler_\" + msg_type + \"' callback:\", e, e.stack, msg);\n",
       "            }\n",
       "        }\n",
       "    };\n",
       "}\n",
       "\n",
       "// from http://stackoverflow.com/questions/1114465/getting-mouse-location-in-canvas\n",
       "mpl.findpos = function(e) {\n",
       "    //this section is from http://www.quirksmode.org/js/events_properties.html\n",
       "    var targ;\n",
       "    if (!e)\n",
       "        e = window.event;\n",
       "    if (e.target)\n",
       "        targ = e.target;\n",
       "    else if (e.srcElement)\n",
       "        targ = e.srcElement;\n",
       "    if (targ.nodeType == 3) // defeat Safari bug\n",
       "        targ = targ.parentNode;\n",
       "\n",
       "    // jQuery normalizes the pageX and pageY\n",
       "    // pageX,Y are the mouse positions relative to the document\n",
       "    // offset() returns the position of the element relative to the document\n",
       "    var x = e.pageX - $(targ).offset().left;\n",
       "    var y = e.pageY - $(targ).offset().top;\n",
       "\n",
       "    return {\"x\": x, \"y\": y};\n",
       "};\n",
       "\n",
       "/*\n",
       " * return a copy of an object with only non-object keys\n",
       " * we need this to avoid circular references\n",
       " * http://stackoverflow.com/a/24161582/3208463\n",
       " */\n",
       "function simpleKeys (original) {\n",
       "  return Object.keys(original).reduce(function (obj, key) {\n",
       "    if (typeof original[key] !== 'object')\n",
       "        obj[key] = original[key]\n",
       "    return obj;\n",
       "  }, {});\n",
       "}\n",
       "\n",
       "mpl.figure.prototype.mouse_event = function(event, name) {\n",
       "    var canvas_pos = mpl.findpos(event)\n",
       "\n",
       "    if (name === 'button_press')\n",
       "    {\n",
       "        this.canvas.focus();\n",
       "        this.canvas_div.focus();\n",
       "    }\n",
       "\n",
       "    var x = canvas_pos.x * mpl.ratio;\n",
       "    var y = canvas_pos.y * mpl.ratio;\n",
       "\n",
       "    this.send_message(name, {x: x, y: y, button: event.button,\n",
       "                             step: event.step,\n",
       "                             guiEvent: simpleKeys(event)});\n",
       "\n",
       "    /* This prevents the web browser from automatically changing to\n",
       "     * the text insertion cursor when the button is pressed.  We want\n",
       "     * to control all of the cursor setting manually through the\n",
       "     * 'cursor' event from matplotlib */\n",
       "    event.preventDefault();\n",
       "    return false;\n",
       "}\n",
       "\n",
       "mpl.figure.prototype._key_event_extra = function(event, name) {\n",
       "    // Handle any extra behaviour associated with a key event\n",
       "}\n",
       "\n",
       "mpl.figure.prototype.key_event = function(event, name) {\n",
       "\n",
       "    // Prevent repeat events\n",
       "    if (name == 'key_press')\n",
       "    {\n",
       "        if (event.which === this._key)\n",
       "            return;\n",
       "        else\n",
       "            this._key = event.which;\n",
       "    }\n",
       "    if (name == 'key_release')\n",
       "        this._key = null;\n",
       "\n",
       "    var value = '';\n",
       "    if (event.ctrlKey && event.which != 17)\n",
       "        value += \"ctrl+\";\n",
       "    if (event.altKey && event.which != 18)\n",
       "        value += \"alt+\";\n",
       "    if (event.shiftKey && event.which != 16)\n",
       "        value += \"shift+\";\n",
       "\n",
       "    value += 'k';\n",
       "    value += event.which.toString();\n",
       "\n",
       "    this._key_event_extra(event, name);\n",
       "\n",
       "    this.send_message(name, {key: value,\n",
       "                             guiEvent: simpleKeys(event)});\n",
       "    return false;\n",
       "}\n",
       "\n",
       "mpl.figure.prototype.toolbar_button_onclick = function(name) {\n",
       "    if (name == 'download') {\n",
       "        this.handle_save(this, null);\n",
       "    } else {\n",
       "        this.send_message(\"toolbar_button\", {name: name});\n",
       "    }\n",
       "};\n",
       "\n",
       "mpl.figure.prototype.toolbar_button_onmouseover = function(tooltip) {\n",
       "    this.message.textContent = tooltip;\n",
       "};\n",
       "mpl.toolbar_items = [[\"Home\", \"Reset original view\", \"fa fa-home icon-home\", \"home\"], [\"Back\", \"Back to  previous view\", \"fa fa-arrow-left icon-arrow-left\", \"back\"], [\"Forward\", \"Forward to next view\", \"fa fa-arrow-right icon-arrow-right\", \"forward\"], [\"\", \"\", \"\", \"\"], [\"Pan\", \"Pan axes with left mouse, zoom with right\", \"fa fa-arrows icon-move\", \"pan\"], [\"Zoom\", \"Zoom to rectangle\", \"fa fa-square-o icon-check-empty\", \"zoom\"], [\"\", \"\", \"\", \"\"], [\"Download\", \"Download plot\", \"fa fa-floppy-o icon-save\", \"download\"]];\n",
       "\n",
       "mpl.extensions = [\"eps\", \"jpeg\", \"pdf\", \"png\", \"ps\", \"raw\", \"svg\", \"tif\"];\n",
       "\n",
       "mpl.default_extension = \"png\";var comm_websocket_adapter = function(comm) {\n",
       "    // Create a \"websocket\"-like object which calls the given IPython comm\n",
       "    // object with the appropriate methods. Currently this is a non binary\n",
       "    // socket, so there is still some room for performance tuning.\n",
       "    var ws = {};\n",
       "\n",
       "    ws.close = function() {\n",
       "        comm.close()\n",
       "    };\n",
       "    ws.send = function(m) {\n",
       "        //console.log('sending', m);\n",
       "        comm.send(m);\n",
       "    };\n",
       "    // Register the callback with on_msg.\n",
       "    comm.on_msg(function(msg) {\n",
       "        //console.log('receiving', msg['content']['data'], msg);\n",
       "        // Pass the mpl event to the overridden (by mpl) onmessage function.\n",
       "        ws.onmessage(msg['content']['data'])\n",
       "    });\n",
       "    return ws;\n",
       "}\n",
       "\n",
       "mpl.mpl_figure_comm = function(comm, msg) {\n",
       "    // This is the function which gets called when the mpl process\n",
       "    // starts-up an IPython Comm through the \"matplotlib\" channel.\n",
       "\n",
       "    var id = msg.content.data.id;\n",
       "    // Get hold of the div created by the display call when the Comm\n",
       "    // socket was opened in Python.\n",
       "    var element = $(\"#\" + id);\n",
       "    var ws_proxy = comm_websocket_adapter(comm)\n",
       "\n",
       "    function ondownload(figure, format) {\n",
       "        window.open(figure.imageObj.src);\n",
       "    }\n",
       "\n",
       "    var fig = new mpl.figure(id, ws_proxy,\n",
       "                           ondownload,\n",
       "                           element.get(0));\n",
       "\n",
       "    // Call onopen now - mpl needs it, as it is assuming we've passed it a real\n",
       "    // web socket which is closed, not our websocket->open comm proxy.\n",
       "    ws_proxy.onopen();\n",
       "\n",
       "    fig.parent_element = element.get(0);\n",
       "    fig.cell_info = mpl.find_output_cell(\"<div id='\" + id + \"'></div>\");\n",
       "    if (!fig.cell_info) {\n",
       "        console.error(\"Failed to find cell for figure\", id, fig);\n",
       "        return;\n",
       "    }\n",
       "\n",
       "    var output_index = fig.cell_info[2]\n",
       "    var cell = fig.cell_info[0];\n",
       "\n",
       "};\n",
       "\n",
       "mpl.figure.prototype.handle_close = function(fig, msg) {\n",
       "    var width = fig.canvas.width/mpl.ratio\n",
       "    fig.root.unbind('remove')\n",
       "\n",
       "    // Update the output cell to use the data from the current canvas.\n",
       "    fig.push_to_output();\n",
       "    var dataURL = fig.canvas.toDataURL();\n",
       "    // Re-enable the keyboard manager in IPython - without this line, in FF,\n",
       "    // the notebook keyboard shortcuts fail.\n",
       "    IPython.keyboard_manager.enable()\n",
       "    $(fig.parent_element).html('<img src=\"' + dataURL + '\" width=\"' + width + '\">');\n",
       "    fig.close_ws(fig, msg);\n",
       "}\n",
       "\n",
       "mpl.figure.prototype.close_ws = function(fig, msg){\n",
       "    fig.send_message('closing', msg);\n",
       "    // fig.ws.close()\n",
       "}\n",
       "\n",
       "mpl.figure.prototype.push_to_output = function(remove_interactive) {\n",
       "    // Turn the data on the canvas into data in the output cell.\n",
       "    var width = this.canvas.width/mpl.ratio\n",
       "    var dataURL = this.canvas.toDataURL();\n",
       "    this.cell_info[1]['text/html'] = '<img src=\"' + dataURL + '\" width=\"' + width + '\">';\n",
       "}\n",
       "\n",
       "mpl.figure.prototype.updated_canvas_event = function() {\n",
       "    // Tell IPython that the notebook contents must change.\n",
       "    IPython.notebook.set_dirty(true);\n",
       "    this.send_message(\"ack\", {});\n",
       "    var fig = this;\n",
       "    // Wait a second, then push the new image to the DOM so\n",
       "    // that it is saved nicely (might be nice to debounce this).\n",
       "    setTimeout(function () { fig.push_to_output() }, 1000);\n",
       "}\n",
       "\n",
       "mpl.figure.prototype._init_toolbar = function() {\n",
       "    var fig = this;\n",
       "\n",
       "    var nav_element = $('<div/>')\n",
       "    nav_element.attr('style', 'width: 100%');\n",
       "    this.root.append(nav_element);\n",
       "\n",
       "    // Define a callback function for later on.\n",
       "    function toolbar_event(event) {\n",
       "        return fig.toolbar_button_onclick(event['data']);\n",
       "    }\n",
       "    function toolbar_mouse_event(event) {\n",
       "        return fig.toolbar_button_onmouseover(event['data']);\n",
       "    }\n",
       "\n",
       "    for(var toolbar_ind in mpl.toolbar_items){\n",
       "        var name = mpl.toolbar_items[toolbar_ind][0];\n",
       "        var tooltip = mpl.toolbar_items[toolbar_ind][1];\n",
       "        var image = mpl.toolbar_items[toolbar_ind][2];\n",
       "        var method_name = mpl.toolbar_items[toolbar_ind][3];\n",
       "\n",
       "        if (!name) { continue; };\n",
       "\n",
       "        var button = $('<button class=\"btn btn-default\" href=\"#\" title=\"' + name + '\"><i class=\"fa ' + image + ' fa-lg\"></i></button>');\n",
       "        button.click(method_name, toolbar_event);\n",
       "        button.mouseover(tooltip, toolbar_mouse_event);\n",
       "        nav_element.append(button);\n",
       "    }\n",
       "\n",
       "    // Add the status bar.\n",
       "    var status_bar = $('<span class=\"mpl-message\" style=\"text-align:right; float: right;\"/>');\n",
       "    nav_element.append(status_bar);\n",
       "    this.message = status_bar[0];\n",
       "\n",
       "    // Add the close button to the window.\n",
       "    var buttongrp = $('<div class=\"btn-group inline pull-right\"></div>');\n",
       "    var button = $('<button class=\"btn btn-mini btn-primary\" href=\"#\" title=\"Stop Interaction\"><i class=\"fa fa-power-off icon-remove icon-large\"></i></button>');\n",
       "    button.click(function (evt) { fig.handle_close(fig, {}); } );\n",
       "    button.mouseover('Stop Interaction', toolbar_mouse_event);\n",
       "    buttongrp.append(button);\n",
       "    var titlebar = this.root.find($('.ui-dialog-titlebar'));\n",
       "    titlebar.prepend(buttongrp);\n",
       "}\n",
       "\n",
       "mpl.figure.prototype._root_extra_style = function(el){\n",
       "    var fig = this\n",
       "    el.on(\"remove\", function(){\n",
       "\tfig.close_ws(fig, {});\n",
       "    });\n",
       "}\n",
       "\n",
       "mpl.figure.prototype._canvas_extra_style = function(el){\n",
       "    // this is important to make the div 'focusable\n",
       "    el.attr('tabindex', 0)\n",
       "    // reach out to IPython and tell the keyboard manager to turn it's self\n",
       "    // off when our div gets focus\n",
       "\n",
       "    // location in version 3\n",
       "    if (IPython.notebook.keyboard_manager) {\n",
       "        IPython.notebook.keyboard_manager.register_events(el);\n",
       "    }\n",
       "    else {\n",
       "        // location in version 2\n",
       "        IPython.keyboard_manager.register_events(el);\n",
       "    }\n",
       "\n",
       "}\n",
       "\n",
       "mpl.figure.prototype._key_event_extra = function(event, name) {\n",
       "    var manager = IPython.notebook.keyboard_manager;\n",
       "    if (!manager)\n",
       "        manager = IPython.keyboard_manager;\n",
       "\n",
       "    // Check for shift+enter\n",
       "    if (event.shiftKey && event.which == 13) {\n",
       "        this.canvas_div.blur();\n",
       "        event.shiftKey = false;\n",
       "        // Send a \"J\" for go to next cell\n",
       "        event.which = 74;\n",
       "        event.keyCode = 74;\n",
       "        manager.command_mode();\n",
       "        manager.handle_keydown(event);\n",
       "    }\n",
       "}\n",
       "\n",
       "mpl.figure.prototype.handle_save = function(fig, msg) {\n",
       "    fig.ondownload(fig, null);\n",
       "}\n",
       "\n",
       "\n",
       "mpl.find_output_cell = function(html_output) {\n",
       "    // Return the cell and output element which can be found *uniquely* in the notebook.\n",
       "    // Note - this is a bit hacky, but it is done because the \"notebook_saving.Notebook\"\n",
       "    // IPython event is triggered only after the cells have been serialised, which for\n",
       "    // our purposes (turning an active figure into a static one), is too late.\n",
       "    var cells = IPython.notebook.get_cells();\n",
       "    var ncells = cells.length;\n",
       "    for (var i=0; i<ncells; i++) {\n",
       "        var cell = cells[i];\n",
       "        if (cell.cell_type === 'code'){\n",
       "            for (var j=0; j<cell.output_area.outputs.length; j++) {\n",
       "                var data = cell.output_area.outputs[j];\n",
       "                if (data.data) {\n",
       "                    // IPython >= 3 moved mimebundle to data attribute of output\n",
       "                    data = data.data;\n",
       "                }\n",
       "                if (data['text/html'] == html_output) {\n",
       "                    return [cell, data, j];\n",
       "                }\n",
       "            }\n",
       "        }\n",
       "    }\n",
       "}\n",
       "\n",
       "// Register the function which deals with the matplotlib target/channel.\n",
       "// The kernel may be null if the page has been refreshed.\n",
       "if (IPython.notebook.kernel != null) {\n",
       "    IPython.notebook.kernel.comm_manager.register_target('matplotlib', mpl.mpl_figure_comm);\n",
       "}\n"
      ],
      "text/plain": [
       "<IPython.core.display.Javascript object>"
      ]
     },
     "metadata": {},
     "output_type": "display_data"
    },
    {
     "data": {
      "text/html": [
       "<img src=\"data:image/png;base64,iVBORw0KGgoAAAANSUhEUgAAA2AAAAJACAYAAADrSQUmAAAgAElEQVR4XuydBVgU2BbH/9IgqJSKoiIWoK4BdndhYGJ3rLrW2u1b1+5cd+3GTiwwVsUCddcGUUEQUUEklOZ95zLjAgIzAwMMcO737edTbv7uHd79zzn3nALgwgSYABNgAkyACTABJsAEmAATYALZQqBAtozCgzABJsAEmAATYAJMgAkwASbABJgAWIDxIWACTIAJMAEmwASYABNgAkyACWQTARZg2QSah2ECTIAJMAEmwASYABNgAkyACbAA4zPABJgAE2ACTIAJMAEmwASYABPIJgIswLIJNA/DBJgAE2ACTIAJMAEmwASYABNgAcZngAkwASbABJgAE2ACTIAJMAEmkE0EWIBlE2gehgkwASbABJgAE2ACTIAJMAEmwAKMzwATYAJMgAkwASbABJgAE2ACTCCbCLAAyybQPAwTYAJMgAkwASbABJgAE2ACTIAFGJ8BJsAEmAATYAJMgAkwASbABJhANhFgAZZNoHkYJsAEmAATYAJMgAkwASbABJgACzA+A0yACTABJsAEmAATYAJMgAkwgWwiwAIsm0DzMEyACTABJsAEmAATYAJMgAkwARZgfAaYABNgAkyACTABJsAEmAATYALZRIAFWDaB5mGYABNgAkyACTABJsAEmAATYAIswPgMMAEmwASYABNgAkyACTABJsAEsokAC7BsAs3DMAEmwASYABNgAkyACTABJsAEWIDxGWACTIAJMAEmwASYABNgAkyACWQTARZg2QRaxYdJAFABwEsAfwDwB/BbBuYcDuAnAK8y0DanmxQDcBhADQB/AggCYAlgWE5PLA+MPx9AeQD98sBaki4h6ecmjy2Nl8MEmAATYAJMgAlkFQEWYMol+waAHoCyACIkXdMFni6eTSV/p0vbYwDVAMRL/m0hAHMAg5Q7Hbl7y8hF8iqAvQC2yj2KalecIxFf3QAQj8wURdgMALALwPAkLOlzuSSJ+CPG05PMqzqAbQCsATwDMBTAw8xMOIvbsgADtCV72guALoADAMYDiJGwpzNTF0Cs5O/0JUilLN4X7p4JMAEmwASYABPIAQIswJQLnQSYAYCVABalI8CCAfwCYH8WCDB1AHEKLosFWKKQfA9gthzsNJJclFOrLq8AMwRwS9LXmiQCbCSASQBaSETXJQDrJNZJLQBeAKj+JgBU91eJBTNajrnnRBUWYMA8AC0BdAZAn9HTAC4g8d+pyHtmcmL/eEwmwASYABNgAkxAiQRYgCkRJgASYOTCN1XivhYisWKktICRNYMsY2TBoG+807OAkeWMLE102aZLObn5zQKwTzL1nQC+ASgDoInkgncdwO8AeiLxm/fjACZK6lGzKZK+SHiR4CBritQFkfrzSyJE6MK4QLKejwDGAGgkscjQt/c0f2ozViIWpP0UBrAeQDsAXwH8JRGlZPUjSx+t/7bEekOcRgM4J1kT/XwuAFMAnyRzka436Y7R2pZK1kn/fgjANABREosjcVst+TcSpTMB7Ehly2n+fSXzJxHTBUDDJG5zFgBeS+ZMF2ba59YSwUTrows1iSJ7AOPSYJPaSaOz8q9k/kmtiW4SpuQKSYUsXGQhIwsJjUtrIIup1FLnC2AEgPOpDJIWy3KSPSFLLPVDYoD2lvaCCq1xI4D+AKjuQQk/YkVs7gDoAeAzACkfEoMktuj3Cn0JsULSV0oBRutYBcAGgI/EEkQChIq8e59yqXTeqM/2EssyMaK9on2nPonfA8l6AiRrdZV0UkLyuaV10ZcjdKbovFKhvaUzRXtQFICn5Hy8lXD7WSKA6azSGZV+DlLOz13SL7m5Uukj+Xspyd9ZgKX2CeF/YwJMgAkwASaQBwmwAFPuptKllYQFiYmnEuGQmgtiRcmFdrPkEi9LgLlILCAzJJdwZwA1AbyQXNQdJBdPsqaQhWSx5NJMF08SSWRpI7dHat9W4vJG1hUSFXTR7J2GAKsNgKwv3QHQZdVMYuF7nsY39kktabsB0KWYxKcxgIuSCyeJPZoXjUuctkvEA7kAlpS4cNIFuZZkfTSmEYAnqWzV/ySCpJPkMnxSMk/qi4QrcSNLJL1nawXgiGQMEg0pS0rhmVQ0SAXGHgB04SYRSa6DJLjIpYwEH7kFkggLldOaQWxJVNOfl1O4c36RrItEDhU7AFck7ElIkwgj4SctZyQ/J9GTtBQEkBZLepNFrrJ/AygE4CiA+wAmSDqgs0wWQRLgZPEj8ULCnIQIuT3SGbwmEedSPiTS6LzT2zlaE50r2oOkLGmPSXSSsCPBSOeQ2llJhLq8e59y/+hLhg+SLxZo3cSEztoWyXkjCyd98bABQFfJOz9aPwkuYkCfD/qCg+ZBZ572ldZAbWiv6TNA4oveOBIHeiNI5/2s5IwTQ48k60o5PxJgyyRfEtDPSPCT6C4CgPabBFhliXilzzV9ySIVpcr9LcW9MQEmwASYABNgAjlKgAWYcvFLBRhdXG9KLCh0gU1pASMrEYkwEmD0v8nak9YbMKmQIDEjfVdGlp5HEmFBwkFNckmk1dCeSoNheEuWV08iwujCSYKHLqpkhaNC86ALX2oWMLq8kvWKLv0pS2rf2EsFGAk7ssqRKCEhSoWsI3Qhp/WQACPLG4kAKvRujtZGYitMEgSELvp0yad+0iq0PnLlpHpU2kgu3CQIaByyqJFLqPRdDa2bxBpZ3lIWeQQYWYKkAUaGSMTGKImgSNqfLGsGWVVIXJG1hOaSsj5ZbegyTkKXCu0NXf5pn4kb/cwxyYBkeSHxR0InaSEhQm+J5GFJVj+yGFEQEip0lpNaWkmgET8SoFSIO4knaicVYGTRlc6ZxAYJbxo7qQAja1IViVCRzpWsb/QlAQlkeeebdJ0UQIWsgCRmpOeFzhpZBZtJzhsJcRJ/UqvhXYmFltjTWqktnT0q9AUGnUU6p/TZIIs2ifuUhfoia/ANyQ/oc0kilt7vpSz0JQvNhXjR/lN/JL7J+kais47ks0IWWNpbEor0+ZF+hlPpkv+JCTABJsAEmAATyI0EWIApd9ekAoy+9adLMQkxshakJsAo4iCJNPr2ny6Q6QkwclsiFydpWQ5AX3IZJuFAl1a6LFMhN6lAybfq0vq0z3TpozZkdaD3J+ReRoXc+CLTEGAkbOg/ugymLOkJMLrI0tppPKloJMsbuSSSmJC6IJLLl7QktZ6RkJossYIRI3rjJL3YJ50HXbbJOiS1jpH1gqwrZAWUum4SV2lJuj8p1yOPAKN+pUETNCUueWQpocs7WTNoD+jnsgQYiRcSOiTiqKSsTxYRstiRSKBiK6lDYpLEMP2MXO2khfaT+khpAaOfp8WSztxaiYCgfknckWVQ6hKXkhWtj86sVOSRpYuEAr1rkgqwpPtN7oxkISRLXVIBRlY/WjedOWkhlmSlJOEi794n3T8SMiRkyfooLbQechMksUrnjeZDVlVpoc8UWaWIG1nLkn6+SFRTMBbiTF9AUP9kIUtZUr6dTHmGktanwBv0uSVrNVlMyQJMrr06SYLxJK1Pn1OyrtFnhgsTYAJMgAkwASaQhwiwAFPuZia9tJJ1h74Np0sxffOdNAqi1NpE/0bR0Og/crNLLQpiahYwJ8mFkC6tKS99dPEkCxiNQcIsZaG3MSTQpBYwqXVFUQsYucSRyEwaBTE9CxhZI+jdi9QCRhf4tASYdM50aSXLAV2AydKQsqS0gJFrHr2bklrASDQoU4CRUJBa05LOhcYjoUp7TW5vqbFJWv+E5L0eXcSp0N6TmCQXR7KK0Rsw2ifpOyQSLMRP+gaMrJgklKTWHHpHRRbG1N6ApcWS5kmWRxIm5IZHlhkS2lJeGRFgSS1g9I7KJBULGLnBkosivclKr8ja+6RtyVpFlsmk1s6kP6fPVUoLGFkgab2pWcCoLlmm5LGAST83NF56AizlWmk/BwMg63Rqhay39B8FX+HCBJgAE2ACTIAJ5CECLMCUu5kpL610gab3JuQumJoAo9HpvQm95yIrRnoCjKLeURAJclWiizZZRcgqlNqljywbdCmlyzy5jZHrFbl9kasXWSToct9c4npFgoXeo6QmwEj40NstsgaQqEj6Bowsd3TppTlJS1KLAIkfcoGj9zMkMGhsCspAgi09CxhZz0hokBWRRAm5xRE7CjCSspA4o3WQmyeNTcKGLtTkppcVFrCkAoxENQUIIRdLcg8lPrRHxDY1NknnThYzsnxIyzGJ+x2JIrJ+kQWGQpSTdYnWRWeELCEUtEMaBZECTtDfScjQOyXav5RREMnKlRZLcpeTjlVc8jaJArlkRoCRGyHNh1xdiQdZfun8JLWAkXC8B2CgZI+JKc2RrGtkPUxrvlIrG/VNn7OUhVz66N/p/R99AUH1aC30To3OG507sqSSBY7EJrGmOvSWi4LW/COxupJLLvGmzwSdQWJL79XoM0BzrCr5YkP6BkxeASZ1f5S6G5IFjtwziQ+dB/pc01xJ4JNVlT6XZCUl11MuTIAJMAEmwASYQB4iwAJMuZuZUoDRZZPe5pB7VFoCjC5e9HPKBZWWACMxQ+/FyP2MXKLI1Y2sJVRSE2B0uad3ZeQiRlYIsoRRe+m36WT9omALFExCVhREcpkiVym6rJLljCwmJKbom3uaM7lu0Vwo+l9SAUYh1kk0kEsZuZuRGCXBlDQKYmoWMHJZJAFD71+oP8pvJQ1qknK3aJ301oii8VGhSy2916HxslqA0RsjEhZ0yacLP1klKYgDXaBTY5PeSUvpgkifS7IgSZNAk3igt1NSixddzOnfKIqgNA8YBclIWUgwp8WSXPMoUArlmiJhQXtI5yszAkwaBZGssCQQaW+opIyCSGeefkZiht67kaslvS0jAZbWfMkCSnMkwSN1A026XhLB5MLYUWIJoy8HiCH1lzIKIp1j+nKCxA8VWjOJ2foSN0xyFaS/UyHXXbLakViizxJ96UGfCQrEoYgLYmMJb3IRJtdICiAjjexJnyGyoJILLfGgMUhIkhDkwgSYABNgAkyACeQxAizAVH9DUxMSqj9rnmF+IiC1TqXloqkMFvRFAaVBoMAwipbULK6K9sH1mQATYAJMgAkwASagFAIswJSCMUs7YQGWpXi5cyUQyA4BlplpsgDLDD1uywSYABNgAkyACSiVAAswpeLMks5YgGUJVu5UiQRYgCkRJnfFBJgAE2ACTIAJ5G0CLMDy9v7y6pgAE2ACTIAJMAEmwASYABNQIQIswFRoM3gqTIAJMAEmwASYABNgAkyACeRtAizA8vb+8uqYABNgAkyACTABJsAEmAATUCECeVaAGRsbJ1hY0NMULkyACTABJiAvAQ8PD8pvR6HxuTABJsAEmAATYAJZQCDPCjBbW9sEd3f3LEDGXTIBJsAE8i6BAgUKeACwy7sr5JUxASbABJgAE8hZAizAcpY/j84EmAATUCkCLMBUajt4MkyACTABJpAHCbAAy4ObyktiAkyACWSUAAuwjJLjdkyACTABJsAE5CPAAkw+TlyLCTABJpAvCLAAyxfbzItkAkyACTCBHCTAAiwH4fPQTIAJKEYgJiYGfn5+iIyMVKwh1/6BgI6ODszNzaGpqZnsZyzA+LAwASbABJgAE8haAizAspYv984EmIASCbx+/RoGBgYwNjZGgQJ59teXEoml3lVCQgKCgoIQFhaGsmXLsgDLcuI8ABNgAkyACTCB/wjk2RsMR0HkY84E8h6BZ8+ewcrKisWXEraWRNjz589hbW3NAkwJPLkLJsAEmAATYALyEmABJi8prscE5CAQEx+DRx8foappVWiqJXftkqM5V5FBgARYSsHA0DJOIDWe7IKYcZ7ckgkwASbABJiAPARYgMlDieswATkIkPgad3kcbvjfgEUhC+xutxuGOoZytOQq8hJQBQG2bt06bN68GTVr1sS+ffvknTrevHkDNzc39OnTR+42WV2RBVhWE+b+mQATYAJMgAn8SIAFGJ8KJqAkApd8LmHS1UnobdUbRzyPoEHJBljffL2SeuduiIAqCDBygXRxcREBLBQpV69exYoVK3DmzBlFmiEuLg7q6uoKtZG3MgsweUlxPSbABJgAE2ACyiPAAkx5LLmnfE7gF9df8CToCS51v4Q9T/dgpcdKbGqxCY3MG+VzMspbfk4LsFGjRmH79u2oVKkSHB0d4e3tjcePH4OiM86fPx+dO3cWlq7+/fsjIiJCLHzDhg2oX78+6tatKwQkBb0YOHAgDA0N4e7uLn5Oxd7eHpMnT0bTpk2hr6+PkSNHCqG3ceNG6OrqYtKkSQgPD4eJiQl27twJMzOzTINlAZZphNwBE2ACTIAJMAGFCbAAUxgZN2ACPxL4GvMVDQ40QF/rvphcazJi4mLQ5WQX6Gro4nDHwxw0QkmHJqlgWHD6CZ6+C1VSz4nd2JQohHkdK6fbp4WFhRBOq1atgo2NDfr164eQkBDUrl0bDx48EHutpqYGCvPu5eWF3r17i/opLWAkotISYNSHk5MTevbsKcRdkyZNcPLkSZiamop/v3DhghCCmS0swDJLkNszASbABJgAE1CcAAswxZlxCybwAwH39+4YfGEwNjTfgCalmoifn3x5ErNvzk72b4wucwRUSYC1bdtW5CPT0NAQiwoODhbCqESJEhg7diwePnwoXAc9PT3x9etXhQQY9RkVFSXak4WNLGiWlpZiHHJJJOvXxYsXMwczDZdODsKRaazcARNgAkyACTCBdAmwAOMDwgSUQGDH4x1Y5bEK13pdg5GOkeiRgnK0PdoWlQwrYVPLTUoYhbvIaRdE2gGpBaxNmzbYv3+/cEdMWsgVkVwFly1bhvj4eGEJi42N/UGA7d27VwTl2LQp8Wy0bNkSs2fP/u6CSH1QefToEUaMGIFbt24p/QCwBUzpSLlDJsAEmAATYAIyCbAAk4ko9QrxCfFYd38d/v30L/pY9UHLMi0z2BM3ywsEKPjG06CnON/tfLLl0BnZ9ngbXLq7wFTPNC8sNUfXoEoCjFwQQ0NDsX79euF2SO6HNWrUwMSJE0WAjl9//RU7duzAkCFDQDm3PDw8xDuua9euCYY3btzA1KlTxZ/+/v6oXLkyTp069YMAi46OFq6Oe/bsQb169YRLIlnVqH5mCwuwzBLk9kyACTABJsAEFCfAAkxxZqLFX//+hXUP1qGYXjF8/PYRG1tsRMOSDTPYGzfL7QTaHW2HyiaVsaLJimRLefPlDTqe6IiJthMxpMqQ3L7MHJ+/KgmwggULYsKECcKKRZYuCq5BEQ7p3Ve3bt2EKCM3RQqiQdYsEk5kNQsKCsKgQYNEW3o/RsKMcpt9/vxZBPKQBuGQWsAIOrkzjhs3Dl++fBHWNGo7fPjwTO8HC7BMI+QOmAATYAJMgAkoTEBVBFhbAGsBUKzlrQCWpFjJJADDAMQC+AiAbrI+6a3W1tY2gR64Z0Uh61ebo21gWdgSq5uuRu+zvRGXEIfjnY9z8t2sAK7ifUbHRcNurx1GVRuF0dVH/zDbAecG4EvUF5zofIKDcWRyL1VBgGVyCSrVnAWYSm0HT4YJMAEmwATyCQFVEGAkujwBtALgB+AegN4AnibZg2YA7gD4CuBnAE0B9MopAXY34C6GXhyKZY2XoV3Zdrj29hrGXh6L3xr8hi7lu+STo8PLlBLwDvEWEQ+XNFqCDpYdfgBz1PMo5t+ajwMdDqCKSRUGlwkCLMAyAS+VpizAlMuTe2MCTIAJMAEmIA8BVRBg9QDMB9BGMuEZkj8Xp7GAGpRaB0CDnBJg9K5n++PtcOvtBj1NPfG+o+uprsL65WTvxFYOeU5eHqrj6uOKCVcn4GCHg8INMWUh61fTQ03Rz7offrX7NQ+tPPuXkhcEGKUoCIsJg3oBdehr6kNdLWuSLKfcHUqVEBQZhAIoAFNdU2hraKea2JqjIGb/ueYRmQATYAJMIH8RUAUB1h0AuSCSiyGV/gDqABibxlaQ+HoPYGFOCbBRl0bh07dPONLpyPcpOD13wsI7C4UAszG2yV+nKJ+vdtujbVhzfw1u9b4FfS39VGmMdR0Lz8+euNDtAgv0TJyX3C7APkd+RkBEgPjShgp9aVPKoBR0NXUzQUV209CoULwNeyvEHo1N79PKFS6Hl54vxfuzpIUFmGyeXIMJMAEmwASYQGYI5DYB1k8izCjRUlQqCx8BgP5D6dKlbX180n0mliFudHlp7NQYzUo1w/8a/O97HyGRIcLKMajyIEywnZChvrlR7iQw9+ZcXPe/jis9r6S5gONexzHXbS6OdDyCSkbJw5bnzlXnzKxzswALjw6HT6gPCmoWhFlBM8QmxMI/zB/xiBfvSbXUtbIEalRcFMhNVkdDB2UMyiA2PhavvrwSXxaE+4WzAMsS6twpE2ACTIAJMIG0CaiCAJPXBZHivK8HQOLrg6xNzaogHO/C34kAHLPrzEYvq+TP0MgyRhcs567ObOWQtUF56OfDLgxDZFwk9rbfm+aqPnz9gBaHW2CS7SQMrjI4D60+e5eSWwUYBe4hEUSlXJFyUCugJv53VGyUEEO6GrooU6iM0n9v0BdG9DvpW+w3lC9SHprqmmLc9xHvEfwtGAkfElDZJrnbLFvAsvdM82hMgAkwASaQ/wioggDTkAThaAHAXxKEow+AJ0m2g959kb8fuSp6ybNNWSXApAE39rTbg+pFqyebyjGvY5jnNg8H7Q+isnHmc/TIs06uk/MEOh7viAqGFbCq6ap0J+Nw0gHGusbY2poCfXLJCIHcKsACIwKF2zKJrJRuqkHfgoQgKqlfEkV0imQES5ptyOWRvjQy0zf7niCcKkfGRgpB+O3dN9j9ZJesPQswpW4Bd8YEmAATYAJM4AcCqiDAaFLtAayRhKHfDuB3AOTfR3HkTwFwAVAVQIBkBb4AOqW3n1klwPY924cld5cIdzMTXZNkUyA3xGaHmmFA5QEi7xOXvE+ALAx19tdBtwrdMK32tHQXvOLeCux/vh83e98UFg8uihNQFQF2/vx5jB8/HnFxcRg2bBimT5+e5mJI7LwKeYXC2oVR0qDkD/XoDL0OfQ1KZ1ChSAWlBeWgYB8vQ14K10OLQhY/WNe8Pnvhw5sPaFAjeTwjFmCKn0tuwQSYABNgAkxAEQKqIsAUmbNcdbNKgC29uxRHvY7iTp87qboLkRuiX7gfzjickWueXCl3EwiLDkP9A/Xxq+2vGFRlULqLcfN3w0iXkdjccjMn7c7gtquCACPRVbFiRVy6dAnm5uaoVasWDhw4ABubH4PvkLh6E/oG9A6LXAA11Mjg/2MhF0ESaSZ6JiK5e2ZLXHwcfMJ8hKWLXB611bV/6JIsYy+ev0AT2ybfXSKpEguwzNLn9kyACTABJsAE0ifAAkzBEzLu8jgRTYySLqdW9jzdg2X3lolodyX0SyjYO1fPbQSkOcCWNlqK9pZkyE270GW44cGG6FGxh0xrWW7jkF3zVQUBduvWLcyfPx8XLlwQy168ODFjxowZ0gwa/9EIjgxGQHiA+F1gqGOYLib6vUKBOsidNS2hlloHMfExiIiJEME1KMQ8/Z1SH9DfKcJiIe1CqY5LFnuPRx4wL2eeLDAMC7DsOs08DhNgAkyACeRXAizAFNz5bqe6iQhmG1pQNPwfy8vPL+FwygHz681Ht4rdFOydq+c2Am7v3DDy0kjsaLMDdsWTv6VJbS1Ul94DnehyIrctVSXmm0yAnZsOvH+k3HkVrwq0W5Jun0eOHAG5IG7dmviWb8+ePbhz5w42bEj+O4GEEP0+kDfABgXkIJdBI10j8TtGnkLvx+g8JSAxrL20UKTFonpFRZ7CtAq5PF6/fx1BhYLQs1LP79VYgMlDnuswASbABJgAE8g4ARZgCrAjd6J6B+qhc7nOmFHnx2+7qSuq0/JwS9QoVgMrmqxQoHeumhsJnHh5AnNuzoGzgzNKFSolcwk7Hu/AKo9VuNzjMkz1TGXW5wrJCeQWAUa/B3zDfIVlivJtUdJjeYp/uL+wXtFbMGnEwtTaUf8ikmFkMAy0DMRZ0lLTEkKMEjxTni9Zhfq46nEVN2NvYnbd2SzAZAHjnzMBJsAEmAATUBIB2f8vraSBsrubrHgDRi47jZwaYYrdFBFoI60y68YsXPO7hms9ryntQX128+Px5COw5Z8t2PBwA+71vSeCHcgqz4KeoeeZnljUcBE6lusoqzr/PAWB3OKCSBEPyTJVvGBxEflS3kJWKQqOkZ4VjN530TtTclekvunNmDyCK7U5kAVsa+BW7Gq3iwWYvJvE9ZgAE2ACTIAJZJIACzAFAHp+9gS5IJJlq41FmzRbnn11FtOvT8fBDgdR2YTD0SuAONdV/e3Wb7jocxHXHa/LNXfKB9XUqSkamTfC7w0p2CcXRQioggCLjY0VQThcXV1RsmRJEYRj//79qFw58bNOATVef3kNfU198QZLUXGUnhWMBBpZ1qJjo0VoeVnvymSxvfXwFn59+quIzCmdJ7sgyqLGP2cCTIAJMAEmkDkCLMAU4Cd977Oz7U7YFrNNsyW9y2h6qCkm1JyAoVWHKjACV81tBH5x/QXvIt7haKejck99yrUpuB94Hy49XBS+nMs9SB6tqAoCjNA6OztjwoQJIgz9kCFDMGvWLEFcmnCZ/qTog4oE05BuGYksegtWSKsQzA3Mv+/k15ivQnyR6yAJu5T5xDKy5e7/umPwg8G42O2iEHRUWIBlhCS3YQJMgAkwASYgPwEWYPKzwinvUyD3wrMOZ1G6UOl0W7Y/1h5WRlYyk/MqMDxXVUECPU/3FG5gFFpe3nLU8yjm35qPE51PiEs6F/kJqIoAS2vGFPGQ3mWllnBZ/lVCuC+SGyMlZ6b8YSFRIQiICICmmiZKG5SW+02ZrDEfPn6I/h79saXVFtQvUZ8FmCxg/HMmwASYABNgAkogwAJMAYjbH2/Hao/VIgdYetHFqMup16bi4ceHuNj9ogIjcNXcRoDcCZuWaor59efLPXVyMWt7tFbWnrEAACAASURBVC0m203GwMoD5W7HFQFVFmBkoSLXQ0WiGKa1p2RB8w1NDOJBVjQKKU+RDckilhGrWlrjPH7yGL3de2NO3TnfIyGyBYw/aUyACTABJsAEspYACzAF+FJ+ryOeR3C3712ZrXY92YUV7itwtedVhR7hy+yYK6gMgZi4GNTcWxM/V/sZo6uPVmhe9JaQLtS72+1WqF1+r6yqAozcAl99eSWEEiVcVldTz/RWUbANsqZREmc6K0W0iyjdZfXps6cY4DEAjpUcMbnWZDFnFmCZ3jrugAkwASbABJhAugRYgClwQMiq9SToCc52PSuzlft7dwy+MBibWmwSARe45D0C78Lfoc3RNhnK+fbHP39g48ONcO3hKvI1cZGPgKoKMHr3SWHhyUJFLoO5pRDPmZ4zxZuydc3XsQDLLRvH82QCTIAJMIFcTYAFmALbN+TCENC30klDNqfVnHL5NDzYEJNsJ2FwlcEKjMJVcwuBhx8eov+5/hkS2d4h3uhysgtm1pmJ3la9c8uSc3yeqijAyBJKQTPILZneZyka9TAnoRLPzQGb8TbsLY53Ps4CLCc3g8dmAkyACTCBfEOABZgCW93pRCeRIHVl05VytWp+qLl42L6w4UK56nOl3EXgwpsLmHxtMo50PIJKRpUUnjydJ1NdU2xrs03htvm1gSoKMLKEUpAMCqiirS5fwmVV2T/ieSb8DJxeOAnXarUCauyCqCqbw/NgAkyACTCBPEuABZgCW1v/QH3YW9oLq4U8ZdjFYYiIjsAB+wPyVOc6uYzAnqd7QO8Cr/e6jiI6RRSe/br767Dt8Ta4dHeBqZ6pwu3zYwNVE2CRsZEga6YyAm/kxH4Szwd4gMV3F+NKzysw0TVhAZYTG8FjMgEmwASYQL4iwAJMzu2mx/U19tQQwRYo6II8ZcndJTjmdUxETcxNbknyrI3rACvurcCB5wfg3s89Q/vrE+oD++P2GFt9LEZWG8lI5SCQ0wIsJCREJF0ePTox6Io0UmEFwwpKjU549epVaGlpoX79xNDwWVWIZ0DBAIy/Mv574ngOwpFVtLlfJsAEmAATYAKJBFiAyXkSpMmVFXmzc+jFIfx2+zdc6HYBJfRLyDkSV8stBCgoy+Ogx3Du6pzhKQ+/OFxEzzvX9Ry01LUy3E9+aZjTAuzNmzewt7fH48ePERUbJd5+kfUyrUAqFB2R/lNTU1Noi+bPnw99fX1MnpwYmTCrCvGMLxoPxzOOWNNsDVqUbsEWsKyCzf0yASbABJgAE5AQYAEm51F4FfIKnU92xrLGy9CubDu5Wt0NuIuhF4fir9Z/oa5ZXbnacKXcQ2DguYHC8rWz7c4MT9rN3w0jXUZiVp1ZcLRyzHA/+aVhTgswR0dHnDx5EpUqVULthrXx77//Iio8CrExsVi4cCE6d+4MEmlt2rRBnTp14OHhAWdnZ7i4uGDp0qUoUqQIqlWrBm1tbWzYsAEfP37EqFGj4OvrK7ZwzZo1KFmyJOrWrQt1dXWYmppi/fr1aNQoayKpEs+iFkXR9FBTTK89HX2t+7IAyy8fJl4nE2ACTIAJ5BgBFmByor8feB8Dzw/EllZbRGANeUpAeABaH22NufXmokfFHvI04Tq5iEC7o+1Q1bSqEOUZLWQdGXR+EPzC/ER6Ax0NnYx2lS/aJRVgS+8uxfPg50pdt5WRFabVnpZmn1IL2KNHj/D041MgGqhsXhmfPn0SosnLyws+Pj6wtLSEm5ub+Ld3794JV8L79+/DwMAAzZs3FyKMBFifPn2EO2PDhg2FCCPhRmvMTguYlZUVbPfaop91P0yym8QCTKknijtjAkyACTABJvAjARZgcp4KV19XTLgyAU72TrAxtpGrFYWsr7Wv1veLjVyNuFKuIEDCyW6vHfpY98Gvdr9mas733t8DpTiYYjcFAyoPyFRfeb2xqgiwew/u4cWnF9i4YCPuuN0RLoYvXrzA69evERkZiWbNmon/TeXEiRM4fvw4du3aJf6+bt06eHp6CgFWtGhRlCjxn3syWcSonxUrVmSbC6K1tTWSfpnAb8Dy+qeI18cEmAATYAI5TYAFmJw7QME05rnNU/g9F4UaL1e4HFY3Wy3nSFwtNxD4HPkZjZ0aY2qtqehv0z/TUx5xcYRI8k3vyXJTIt9ML1zBDnLaBVFqAXO964qt27bin+v/YN++fdDU1ISFhQUoeAYV6TsxWQLMxMQEfn5+0NFJbvnMTgsYCbDB5wcjPiFe5DhkAabgoeTqTIAJMAEmwAQUJMACTE5g2x9vx2qP1SKiISVclbeMcR2DwIhAHOl0RN4mXC8XEHgR/ALdT3fHiiYr0MaiTaZn7PnZEz1O90Afqz7pusBleqBc3kFOC7CgoCDUrFkTV/65gp1/7MRn/8/ijdaVK1eEa6HU6pVUgPn7+6NBgwZ48OCBcEFs0aIFqlat+t0FsUaNGpgyZYrYmYcPH6J69epYuXIlQkNDsWDBgizdMSnP6dengxKLn+92ngVYlhLnzpkAE2ACTIAJcBREuc/AKo9V2Pt0Lzz6eSgUcpzeqZD17Haf2wq1k3tiXDFHCPzt9zdIXO9tvxfVTKspZQ4Lbi3ACa8TONb5GMoWLquUPvNaJzktwIhn79694f7QHbZ2tvB56YPw8HDY2dnh9u3bOHfunECeVIDR3//8808sX74cRkZGoDdX5ubm+P3338XbsTFjxoh3X7GxsWjcuDH++OMP4aLYvXt34dqY1UE4yAK2xmMNdj3dJX6/qaupewCwy2tnh9fDBJgAE2ACTEBVCLAFTM6dIPfDG3434NrTVc4WidWkyXpvON5g1zKFyKl2ZWmKAUqiXKxgMaVM9tO3TyIvWK1itbC+xXql9JnXOlEFARYWHSbyf5UpVAb6WvpyISaRRmHlSWQ5ODhgyJAh4s+cLlKelM9u0Z1FIhmzqZ4pC7Cc3hgenwkwASbABPI0ARZgcm7v+Mvj8Tb8LY51OiZni8RqLj4umHh1Ig7ZH4K1sbVCbbmy6hJYd38dyC1VYjFINtGEuDiEuboi8tFjaJUti8L2HVBAS74cX9sebcOa+2s4dUEaW68KAoxciikvoJWxFdQKyJffi/J5USh6CtDRunVrrF27ViUs4lKeV3yvYNyVcTjQ4QBF9mQBprq/enhmTIAJMAEmkAcIsACTcxMp55O6mjq2t9kuZ4vEahRYgZKcrm22Fs1LN1eoLVdWXQIzr8/EvcB7uNT9UnLxFRMDv4kTEe7iCqirA3FxKNigAUpt3iSXCIuKi0LnE51RULMgDnc8LPcFX3VJKXdmqiDAfEJ9EBsfi3JFyil3cTnQm5Tns6Bn6HmmJ1Y3XY1WFq1YgOXAXvCQTIAJMAEmkH8IsACTc68dTjoIl6M1zdbI2SKxWnBkMJo4Nfme5FShxlxZZQkMvTAU0XHR2NN+T7I5ftryJz6uXo2iU6bAaOAAhBw5gvfzF8Bo6BAUkwRakLWo096nMfPGTGxovgFNSjWRVT1f/TynBRilH3jx+QUMtAxQUr9krmcv5Zn091Q/m34swHL9zvICmAATYAJMQJUJsACTc3daHWmFOsXrYGHDhXK2SKxGFzbKBdbbqnem80UpNDBXzlICHY51EPngljdZ/n2c2M+f4d2iJfTq1UOpjRu+/3vA3HkIOXwYFk4HofvTTzLnFRMfg/bH2osL/s62O2XWz08VclqAkej2+uwFs4JmMNI1ylXo6XdRQmQkUKAA1CRh76U8k+a1m1xrMguwXLWzPFkmwASYABPIbQRYgMm5Y3X314VDeYcMhQjveLwjKhpWxMqmK+UcjaupMoG0RHXQzp34sGQpyp46CZ2KFb8vIS48At7t2kKzRAlYHDwo19uf3U92Y7n7cuxvv5/e5KgyjmydW04LsNCoULwNeyuiVCqSjkIKKT4qCnFBwYj/9lW4qKrr60PdyAgF1OR7S5ZR2LEhIYh9/x4JsbGiCzV9fWiZm+O5lxcoCiIVEv2VjStjRdMVLMAyCprbMQEmwASYABOQgwALMDkgxcXHofqe6vi52s8YXX20HC2SVxl+cTgiYiKwv8N+hdtyA9UjkJpbKYmy1506o4CeLso6Of0w6ZCjRxEwazbMN22CQfNmMhdF56XV4VZoaN4Qyxovk1k/v1TIaQGWkQActDd0PuI+fULMhw+JAkhPT7wPjI+MhJq2NjRLlxZ/KrvQuCS8YoOCoKarC3VjYyA2FjGBgeLvryIjYW1jI4YddH6QmOfu9rtZgCl7I7g/JsAEmAATYAJJCLAAk+M4fIn6goYHG2Jqranob9NfjhbJq8y6MQt3Au7ApYeLwm25geoRSBqwoGWZlmKCUd7eeNXBHsXmzoFRnz4/TDohJgbe7dpD3dAQFoec5LKCLby9ECdenhChwenNEReIfFlSi01O8MhIAA6Kihnj54e4sDCoFyoETTMzFNDUFNOnfytcrBg+uXvgk7YWJkybhiNH0k7avmbNGowYMQJ6JOBklMRx/XHlsivW7d+PMxcvfj935C4b4++PV1FRqGxrK3qacm0KngY9hXM3ZxZgsuDyz5kAE2ACTIAJZIIACzA54PmH+6Pt0bb4X/3/waGC4rl7RJLTJ7vg0d+Do9rJwVvVqyQN2V3FpIqY7qc//8LHVatQ/tpVaBZLPS/Y50OH8H7uPJT66y/oN2ooc5mPPj5CH+c+WFB/AbpW6Cqzfn6okJMCTJEAHHFxcVBXVxcuf9E+vsLlkISXcDcskPzXLuUH+3T/vrCIaVlYCMtUWsXCwgLu7u4wMTFJViUhPh4kuKgP+jMhKgqxnz4hIToabt7eWP3XXzhz5sz3NrSW6Jfe8Hz3DlUaNxJzoqTxR72O4l6/eyzA8sOHidfIBJgAE2ACOUaABZgc6J8HP0eP0z2wpukatCjTQo4Wyavse7YPS+4uwbVe12Ckk7se7iu82HzQIGnSWhPdxIvwG8fe4rJd9sjhNAnQZfhlm7biIl5m316ZVjC6JHc60UmcmV3tduUDsrKXKI8Ai4mLwZfoL6A/NdU1UUS7CDTUNGR3LqOGNABHzKcYOHZxhK2tLe7fv4/KlStj9+7dsLGxQa9evXDp0iVMnToVttWrY8yIEfgYFISChQtj6/btsLKywuvXr9GnTx9QcubOnTuDrFqhwcHwun4dXUeNwqNHj5CgqYlp06bh/PnzUFNTw/Dhw4V7IOUTq1SpkhBgrs7OOHfsGP63fDmioqNhaW6OLQsXQl9PDxdv3MDUZctQsFAhNGzcGK9evUomwGipscHBePrgASqYmEC3WjWR1261x2o8HvSYBVimTwt3wASYABNgAkwgbQIswOQ4Hffe38OQC0OwtfVW1DGrI0eL5FUuvLmAydcm40jHI6hkVEnh9txAtQjQJXX3090iCTMl4o3/+hUvateB8ZAhKDppYrqTDd63D4G/LUTpnTtRsK7ss7T10Vasvb8Wzl2dUcqglGqByIHZJBVg7xctQtSz58lmERMfi+j4aHp0JQQuiRb6U1tdG+oF1GXOWNvaCsVnzky1njQAh9pnNdhUtMGNGzfQoEEDDBkyRIivDRs2YPTo0UJ8xYWHo2WrVlg3dy5sGjWC+5MnmDFjBi5fvoxOnTqhe/fuGDBgADZu3CiEFomxVy9eoKO9PTxOn8a2S5dw5do1HDx4EBoaGggODoaRkRHIAnbn6lUUAfDh7Vv0njgRpw8cgH7hIlixcQOiYmIwZdIkWFWvDtfLl1GhQgUhCr9+/fqDACNL2aOrV1HsnjuKTZ8GafoDFmAyjwlXYAJMgAkwASaQKQIswOTAd9n3MsZfGQ8neycRelzRcj/wPgaeH4gtLbegfsn6ijbn+ipGYPr16Xj44SHOdzsvZhZx+zZ8Bw1GqT+3QL9x43RnS1HwvFu2gpalJcrskh1iPiA8AK2Ptsb4muMxrOowFSOR/dNJT4AJ8RUXJRKma6lrQw0FEJ8Qj8i4KAqDAR0NXfFv6ZX0BBgF4Pj07RN0w3TRtElT+Pr6iq5IVK1btw4PHz7E1StXUFJXFyG+vijduLGwVlHYdypRUVHiDZuxsTHev38PTU1NhIaGokSJEkKAvXnzBvYdOsD9yBE4TpiAn8ePR5v27UVbEpLxYWGwtLHBjQMHYGpqigseHhg6fjzMzc1FnejoaNSrVw+//PILxo0bh7///lv8+6lTp/Dnn3/+IMDoZ49u3IDugv+h3MULuB1wGyMujWALWPYfax6RCTABJsAE8hkBFmBybPjJlycx++ZsODs4o1Qhxa0QvqG+6HC8AxY2WIjO5TvLMSJXUWUC0mhxUrfAjxs34tOGjah457YIsiCrSMPVl9m7B3p2drKqo69zX8TGx4ovAPJ7ScsFMTI2Eq++vIKehh5KFyqd7K1lVGwUvL94i0AmmbEiUgAOytGmEaKBJk2awMfH57sAW79+PR48eICbhw/DSFcXERqaqNqsKQICAn7YMhJggYGBwrL1gwCzt8e/d++ia+cuGN6rJ1p36CAEXNyXL6BALlZt2+LOlSsoVq4czpw9i/379+PAgQPJxiAhKK8Ae+LuDrV+/WF5+hTemhSAwykHFmD5/UPG62cCTIAJMIEsJ8ACTA7E0jdc13tdRxEdcv5RrHyN+Yo6++uwFUMxbCpbmwKyVDOthqWNl4o5+g4ZKt7TWJ44Ltec4799g3ebttAwNYXF4UMyc0BRAJcV7itwrus5mBskWjvya0lLgJE4os9ZecPy0FRLjDCYtHz8+hEfvn4QAqyQtmyRnLJ90gAc9AasbNmycHNzExanYcOGwapCBaxftx43DjmhRNWqQojXr18fEydORI8ePYQF699//0W1atWEC2LPnj3Rr18/bN68GVOmTPnPAmZvj8ePH2PThg1wcXbGrsWLoaGugZCYaBS1tET1hg2FRYvG//jxo3iHRha48uXLIyIiAv7+/ihdujQqVqyIK1euoFy5cujduzfCwsJStYA9ffQIBXr0RPH581CgS1s0cmrEAiy/frh43UyACTABJpBtBFRFgLUFsBYAPdLYCmBJCgLk17UGwE8AHAGkHadZ0tDW1jaBooUpo2z+ZzM2PdyEB/0fZPgxPyVy7lK+C6bXnq6MKXEfOUSALFG19tbC4CqDMa7mOBF4w7N2HRTu0gXF586Re1ZfTp/BuylTUHTyrzAelr5roTQK56+2v2JQlUFyj5EXK6YmwChn2psvb1CsYDFIg6KkJqDICkZCqFyRcgpHI5UG4DAraIbQwFC0bdsWdnZ28PDwgHXFitg6bx5qdOyIe7duoWjp0mJ4Crbx888/CytYTEwMHB0dMXfu3FSDcHx3QZQIsNjYWPGWjIJwkKsiBeEYO3YsyNJGb83IbZEEFokvekNG7o1UFi5cKAQetZswYYIIV9+oUSN4e3unKsCIp/rwEShYvx5KLF0K2722eDDgAQfhyIsfHl4TE2ACTIAJqAwBVRBgJLo8AbQC4AfgHoDeAJ4moWQBgL62nkxPGrJbgC2/txyHPQ/jbt+7Gd64jsc7oqJhRaxsujLDfXDDnCcgfZM1r948dK/YHd8eP8Gb7t1RYuUKFCZ3MTkLCQH/8RMQdvkyLPbugW716um2dDzjKIJI7OuwT84R8ma11ATY27C3iIiOQEWjiukKK2kQjRL6JWCoY6gQIGnbsoXL4oP/B9hLhBIF24j28RF5vUQIeS0thfrN6crE02DTZkQ+e4byLpdw6MUh9LLqxQIspzeGx2cCTIAJMIE8TUAVBFg9APMBtJGQniH5c3Eq5ClqASWzyVYL2Nybc3Hz3U249nDN8GFI+W4owx1xwxwl4P7eHYMvDMaWVltQv0R9BO/ejcBFi1H+6hVoFi+u0NziQkPx2qGrsKKV3rkD2mXLptl+26NtWHN/DS52uwgzfTOFxslLlVMKMHqT5RnsCWNdYxQvmD5/Er2vv7wW7+nIVZEiWMpbpAE4rI2t4evjKwTYP3fuIPqNjxBdWmUtUEAj86Hu5Z2PsuoRz6K37+DD0qUo//c1aBYtSlEjWYApCzD3wwSYABNgAkwgFQKqIMC6AyAXRKkfVn8AFJ97rKoIsElXJ+FVyCuc6HIiw4doyrUpeBr0FGe7ns1wH9ww5wmc8j6FWTdm4YzDGZQpVAZ+48Yj8skTlHd1ydDkIl+8gO/gISLQQunt26BDUfNSKdJALlNrTUV/G/qI5M+SUoAFfQvC+4j3wq1QR0NHJpTw6HDQezFFrWDSABzli5QXY1AI9ygvL0BNHdqWZXOl+KJ1EE+L6Gi86eWIkmvWoFDbNizAZJ4irsAEmAATYAJMIHME8poAGwGA/qOH6LbSKGWZQwQMuzgMFEltT/s9Ge5q6d2lOOp1NFNujBkenBsqjYD0PSDlAKNgD16NGov3MyWXLcvwGFGvXgkRRsE5Sv/1p0iKm1qhZOC6GrrY3W53hsfK7Q1TCjCyaMUlxEEqjGStj6xg3iHeIjcYiTZ5StIAHCX1S4omMQEBiA0Kgna5clDT1ZWnG5WsQzytypUTeeyK9OwhcqCxBUwlt4onxQSYABNgAnmIgCoIMJV3Qex1pheMdIywueXmDG/99sfbQQl8b/e5jYKaBTPcDzfMWQJzbs6Bm78bXHu6irc/FM2w+Pz5MHTslamJRfv5w3fwYHGpL7VpU6pJmrf8swUbHm6AS3cXEXAiPxYhGKyshIAiV8IXwS9gqmeKonpF5cYhtZrRey49TT2Z7b4H4NA3E78H4mNiEOXpCfXCRaBlnijIcmMhYfn8+XNYW1vDp/8A8QVA2SOHWYDlxs3kOTMBJsAEmECuIqAKAoweTlAQjhYA/CVBOPoAeJIKyRx5A9bhWAdUNqmMZY0zbuU47X0aM2/MxOkup2FRmGKKcMmNBIZeGCpyQZEVKuTYcQTMnAnLM6ehXT7RNS0zJSbwA3yHDkGM71uUXLsGBs2aJeuO8lx1PtFZRNLsa903M0Pl2rYUWdDAwEAkMw6NDoVfmB/kFVLSRcfFx8HzsycKaRVCSQPZAupL1BcxjmURS2GBjHn/HrGfgqBdoTzUtLVzJUsSX0FBQSI8PYW0/7BiBYJ37UYlD3daE78By5W7ypNmAkyACTCB3EJAFQQYsWovCTNPERG3A/gdwP8AUBx5inpYCwAlWaLQZZEA3gOonB5kZYahb3ywMVqVaYU59eQPM55ybm7v3DDy0kjsaLMDdsVlJ9/NLQcov82TcoBVL1odSxotwbtZsxDu4ooKt9xk5vKSl1Ps5894O3wEol68QOldu6BXs0aypg4nHVBYuzB2tqXvIvJfoXDufn5+iIyMREhkCCLjIlFMr5iwiClSQqJC8C3mm7AkygrGQREQKdQ9BfmgUWICA1FASwsaRkaKDKlydXV0dGBubi7C3H85cxbvJk9G2RPHoWttzQJM5XaLJ8QEmAATYAJ5iYBit5ZctHJlCTD6prjm3poYaDMQE2wnZJiA12cvdD3VFcsbL0fbshRzhEtuI5AyB5h323bQKlsWpTZvUupS4kJC8LpXL8SHR6DsISdolvzPSkP56P745w9c7nk5zZxXSp2MCnfW5kgbYZle1XSVwrN8+OEh+p/rj98a/Cby86VXKIIpWT33td+H0IsX4T9uPEpt+QP6TZooPK6qNqB3iK/ad4DZ4sUw7OrAAkxVN4rnxQSYABNgAnmCAAswGdv4LfYbau+rjfE1x2NY1R8T5pJAC3E6hOAdO0SS14L16qHolMlQ19dP1jN9W9/IqRHyexS73PypkeYAm19vPjobN4VXg4ZyJVLOyJrpQkyR6SjIQ5l9e1FAnYzDgFTIz6g9A32syVM3fxaKfNjqSCtMqzUN/Wz6KQyBPqvtj7WHuYE5/mr9V5rtSXTXP1AfXSt0Fa6ffhMm4uu9e6hw7WqujXyY2mIpquMLu1oo0qM7zGbNYgGm8IniBkyACTABJsAE5CfAAkwGq49fP6L54eaYU3cOelbqmax2Qnw83k2ZitCzZ6FbowY0TE0R5uoKbUtLlN61M5mLktSSNsBmACbaTpR/h7imyhC49/4ehlwYgj9b/YnKT8Lh/8s4lDmwH3o1krsJKmvCX06dwrup01Bs5kwYDUgMPU/nyPGsI8Kiw3CqyyloqOW+3FPK4OP8yhnTrk+Dk70TbIxtfuiSOMlyS1z/YD22PtoqgppQII/UCr0V63aqGxY1XIQOZi3gWb8BCjt0gdm8ecpYhkr1QYKfEkpb7NvLAkyldoYnwwSYABNgAnmNAAswGTtK+b86n+yMpY2Wor0lPVX7rwTv2oXAxUtg8stYmIweLS58Ebdu4e3Po6FbpQpK796V7G1Q80PN0ci8ERbUX5DXzlG+WM/Jlycx++ZsnHU4C+2N+/H54EFUvHdXJOLNikIi4u3Ikfh6zx2Wp09/j7jn6uOKCVcnYF69eehekdLo5b+y6M4i0H7c7H3zuwilhNafnZwQdu48vj19CsTHQ8PEBIW7dIFh3z7QMKQnpP8VaVCTKXZTMKDygFQhHvc6jrluc0XwHKObT+E/6VfxuS5Yu3aegx6wYAFCT5+BlYc7C7A8t7u8ICbABJgAE1AlAizAZOzGPx//QT/nftjUYpMQT9IS+fw53vToiYKNGsF844Zk37ZLo+MVmzsHRn3+cxOjN2Dm+uZY13ydKp0BnoucBDY/3AzKA+bezx3+jv1EBLwyezOeG06eYWPevYN3B3vo0zlbt1Y0iU+IF5Y4z2BPHO10FGb6Zsm6ooARWupaIk9ZXi30mVQvoI5d7XaJJUZ5ewtxRMFLtG2soVejJgpoa4tkyRHXr0Pd2Bild2yHTsWKyZD0PN1T9HPA/kCqqObenAtXX1dcd7yOd+Mm4OvDB6hw9ep3l9C8xPez0yG8nzcPNi+eswDLSxvLa2ECTIAJMAGVI8ACTMaW3PC/gZ9dfsaedntE9Dtp8R0yBJEvPEUI8pTfrJPlwnfQYJErqNzFC1A3MBDNkoYwUJ06jQAAIABJREFUV7mTwBOSSWDm9Zm4F3gPF9qdEIlrjYcNQ9GJGQ/MInNASYWPmzbh07r1KL1z5/f8YD6hPnA84ygi861suhKG2oY4/+Y8yGLzLPgZ9DX1hVVn1E+jZLriyTsPValH77Lq7a8nrH/Tak8DvZfz6dMX0NBA8blzYNCqVbI1Rz57hrcjRoIsZMRQp9J/ImzXk11Y4b4CZxzOoEyhMj8skaJeVjKshFW1F8GrQQMU6d4dxefMVhUUSp3Ht0ePxJdKLMCUipU7YwJMgAkwASbwAwEWYDIOxbnX5zD176k40fkEyhUpJ2qT9et1FweYTpwIk5EjUu3h26PHeNOjB0x/nQST4cNFncnXJovEsacdTvNRzIUE+p7tC11NXazRHYS3w4ej1Lat0G/Q4IeVxMTF4+TDd7j58hMoOnqbysXR2kbxUOnSjuMjI0WEOjUDA5Q9euR78IfbAbcx6cokhMWEfZ+DlZGVSJnwLOgZXHxdMPKnkRhbY2wupJ32lKWBSKTvsl45OIiIkRb790GrzI8iinqKev0avgMHISE6GqV37oCOlZUYgIJ5tD7SGqOrj8aoaqOSDfou/B3aHG0jgm/YvyyMd1OmiIAoera2eYpn0nP2wtYONk+fsAUsT+4wL4oJMAEmwARUhQALMBk7cejFIfx2+ze49nBFUb2iova7adNFOOoKVy5DvUiRNHvwGTQY0W/eoPyli+Jx+8LbC4WV4objDVXZf56HAgQaHmyINmXaYKSbHoJ27kKlO7ehpqeXrIewyBgM2+WOO6+DUbyQDmLj4/EpPBodq5XA8u4/QUczMZqhoiX0/AX4T5iA4vPnwdDR8XvzwIhAIbSi46JRx6zO94AUZIUV79VenRWBKioZVVJ0SJWtf8r7FGbdmCW+FNH/6xiCt20XOdMK1kn/XVa0jw98SIR9+waLQ07fxdrg84MRFBmEk51PJrOcHfM6hnlu84Sbp+6stYh88gTlr1xWWs43VQT8cf0GFB33CwswVdwcnhMTYAJMgAnkGQIswGRs5bZH27Dm/hrc6XMHepp6iPnwAS9btIRhz54yXZEoIqLfmLEw37QRBs2bY+PDjdjyzxbc738/30avy62fHGkagcl2k9F4gbOwQpHFJWkh0TP2wAOcf/weS7v9hG41SyIuPgFb/n6F5RdeoKV1UfzRzxYa6moKYxBurQMGijdN5S6ch3rhwjL7+BL1Be2OtkODkg2wvMlymfVzS4VV7quw99le3Gx6Am/a26Nwx44osYhyt8su0b6+eN2tO7QrVUSZ3buFmDrseRj/u/U/HLQ/iMrG/+V3H+0yGhSo40xLJ7xs2AiGfXqj2IwZsgeRUeNTeBQe+oYgMjYOpY30ULlEYairZe2vYrLKOj8KEFbZ8KhY1CxtiN61S6Og9o9RNAsUKMACLNO7zB0wASbABJgAE0ibQNb+v34OkldWIua199di5+OdQjRRlMPg3XsQuGgRLJ2doW1ZNt0VJsTEwKtpM+jVrAHz9eux/9l+LL67GNd6XYORjlEO0uGhFSUgDcaysc5ymHabDOMRw1F0/Phk3bg8DcSw3e6Y0qYSxjQrn+xnu9zeYN6pJ/i5aTlMa5vo/qZoobdMJB4M+/VF8Zkz5Wq+4t4KIVbOdzsv3ovlhTLGdYxwHdzgURVfjh0T7yw1zZIHIklvnd+D5MycAaMBAxAaHYqWh1uifdn2mF9/vmhKYf4bOzVGX6u+GOZbFgGzZgurme5PP2UYoZv3J2y88hK3vIMQn/BfNxbGehjWyBK9apWCZgbEeXoToi8ATv3jj9WXvOAb/BVGBbVQSEcDb4K+onxRfewZWhtmhXWTdcECLMNbzA2ZABNgAkyACchFgAWYDEzkNnjhzQURBY2Kz4CBiPscLMKCy1MClyxF8L59qOh2Exc/3fjhPZk8fXCdnCcgdXs7bjoHMZPmiYh6lHRbWuLjE9B27d+IiUvAxYmNU71Izzj2CAfu+gorWNsqGRNDAfPmI+TIEViePAHt8slFXmqU/ML80O5YuzQTiec8WcVnQIExbPWt0X/6NRRq3w4lfpfP+iUdiayJfqN+RsSdO7A8cRxaFhaY7zZfuGue63YOJromkAbnONjhIAymrkS0n7+wPMrKLZbaarwCw7D43HNcfv4BZoV10N3WHE0rmUJfWxNP3n3Brls++OdtCCoVM8DvDlVgZ5G5L2dIdPkERcD9zWdsu/EaLwLDYGNWCJPbVETTikWhplYA170+4ue992FV3ABOI+sls8CxAFP8THILJsAEmAATYAKKEGABJoPWtL+n4dGnR3Du6ozY4GB4NWwE45EjfrB+pNXN1/v3RYS2kqtW4mkNIwy/OBw72uyAXXE7RfaJ68pB4H7gfcy/NR+muqZY2GDhD+HZ5egizSqUtJfcUc8FOOLL3v2J+b90dL7Xd30WiKG73LHWsTo6Vy+Zaj9RsXHo8cctvP4UAedxjVDKKPn7MXnmR2fQu117aBYvjjL79kFdv6DMZv2d+yMiNgLHOh2TWVfVK3yN+Yo6++vg96AmqPCnKyycDkK3WjWFpx0TGIhXHTsJEVtmz274hL+Fw0kH2Jezx4SaE0Ty5fKG5fFHzSXwatwk0eI5QbGIlwFfvmGdqxec7r0Vrn5kFR1U3+KHd4AkCC89DcT8U08QEBop6kxtYwVdrbTfC9JZuvs6GK7PPuD2qyB8DItCWGQs4hMSEJeQgASJha2caUFMbFUR7auYCeGVtBx/4IeJTv/gty5V0L/uf8FLWIApfJy4ARNgAkyACTABhQiwAJOBi96BfPr2CYc6HkLI0aOJrkhHj0C38n9vRdLrIiEuToi2gg0bInzGUHQ/3R2rm65GyzItFdoorpw+gfDocLQ+2hqFtQrjc9RnETp8R9sdUCug+Hur1Eaacm0KngQ9wcZ9elDT1f0h/1e/rXfg/TEcf09tlq4b2dvgr2i/7josTQri8Kj60NJQfH7h12+IBM3a5cqJHHRapUt/nzJFTIzx9xfBYTSMjcW/S11fT3Y5CcvClrn6KD359ASOZx2x54wFDL4miDQQGbFKEYSQEycQMH0Gis2cCaMB/bHKYxV2PN4BAy0DxMTFYGe7nTBzfoDA33+H5elT0K5QQS52rz6GY/NVb5x46C/q96tbBr80ryDc/9IrEVGxWHr+OXbf8kEZYz0s6/YT6lgm7iEVEllXXnzA5WcfhAUrIjoO2hpqoo65oS4MdDSgoVYA6mpqKGWoK96WWZsZpMmHhB99IeD3+RuuTmn6XRiyAJNrm7kSE2ACTIAJMIEME2ABJgPdgHMDoKWmha1ttuLtqJ8Tc3u5uih06aOoiWFXr6LwxaNodaIt5tabix4Ve2R407jhjwSkwVLIZczzsyfmus3FmqZr0KJMC6XgooS9xRMK4efpt2Dy888w/eW/0O5+n7+i4dIrmNiyIsa3lH1JP/84AKP23ke3muYiMmJKy4Q8Ew6/eVMkHqZ3hpSkGWoFEP3qtUhIjNhY0YVerVooNmc2gkoUBLntTbGbInKD5ebi/MoZS5ynYsvGeJiMGQPTsWMyvBwSIG+HDQflvyp/8QIKFC4kXA+fBj1Fz0o9YVfMDq86doSaljbKHjsqc5wPYZFY45Jo8SIh5FirFIY3toS5oWKWTnojNvXoP3gb/E24DpY01BXi/tXHCDEHiq7Z3LooWlgVRf1yJulaymRNmoRc/213sbpXNTjUMBfVWYDJosY/ZwJMgAkwASaQOQIswGTwI7ckStC6qsEyeNaqjSI9eqD47FkKUQ+9cBH+48ejxM5taPhiJH6p8QtG/JR6/jCFOubK3wl0OdEFhjqGwuoVFx8H++P2ItDJvg7JIxVmBBld1Ovur4tR4Xaou/ryDyHPKbACRTn8e0ozlDaW77K91sULq108MaRBWcyxt1ZI0EvXEO3nh0+bN+PrnbuAmhq0LMpAx9oG2uXLIcb/HYL37BECrcyunXB8MQOmeqb4q/VfGUGgMm0oiujzHesw4ny8sH7J8w4uvclHvniB1w5dUaRbN5j99r9kVSNu3YLv4CEwW7QIRbo6pNlNZEwc/vz7Ff645o3o2Hhh8RrbvDxM9LUzzI2sYfvv+Ip3Y8ER0cLCRW/DGlc0EaIso1a/lBOis91sxVUUNdDBoVGJbxpZgGV427ghE2ACTIAJMAG5CLAAk4GpxeEWqF+iPmbodIFP334w37AeBi0Vcx+MC4+AV716MOzXD51LHYNDeQdMqz1Nrg3iSrIJBIQHCPfDpBYeqdvdIftDsDa2lt1JOjU+fv2I5oebY8NjWxS78CDx/Zd24uWaLrAtV10T7mXkUihvoXYLTj/FTrc36FDVDMu6/5RqSHB5+0utHgWO8OnXT+SgOzunGXb6HMJNx5sinUJuLZT/y2rtOdQNNED5a1eVIkQ+rFiBoK3bUGrLH9Bv0iRxX+Pj8aZnL8R++iSCb0j3OyU3slbNOPaviCrYrkpxTG1rhbImst/lqRL/TVdfYtn5F7g+tZl4l8gCTJV2h+fCBJgAE2ACeZEACzAZu1pnXx10q9gNQzwK4+OaNahwyw0ahoYKnwVKyhwXEoLR/b+hRtEaWNxoscJ9cIPUCRzxPIIFtxaIRLqWRRLfOFEOrOaHmsOhggNm152dKXT33t/DkAtDsP+wGQoZlxAWJWmh6HWdN97E4q5VRV4lRQqJMLKc0LsfC5OCWNmjGmqUVvxspTfm1/sP4NO3L6J6tkF/SxesbbYWzUs3V2SaKlV3gHN/jF3wL0o2aCkC2yijxEdH40237ogN+Ywyu3aL9BJBW7fiw4qVKLF0CQp37pzqMLtvJaYWKGOkh0UOVVG/vIkyppPtfVDExCbLr2J2B2sRDp8FWLZvAQ/IBJgAE2AC+YwAC7B0Njw2PhY19tTA6Gqj0WHjA8S+fy8e42ekkKvYx3Xrsfx/VaBVxAh/tPojI91wm1QIUKRK9/fucOmR/G3e1GtTcef9HVzucRnqamlHlJMFde/Tvdjw9xLsWBsPk7FjYDrmv3dHFLlu/11f3JvVEoV1NWV1lerP3V5+wq+H/0FgaCRGNSkn3pFpa2R8vikHeTdrFr6cPIWpI3VQy66jeIOYW0v3LY3w2+pPKDZ3Doz69FHaMiJfeMJ38GAkREZC29oa3zw8YNC2LUquXpWqle30P+/wy4EHaGldDOt718jUOyylLSITHbVd8zcK6WgKN0QWYJkAyU2ZABNgAkyACchBgAVYOpDIitLwYENMqzUNdcfvFklYS65cIQfWH6t89fAQLoxnh1fBvUpqcLJ3ylA/3OhHAh2PdxTR/dY2X5vsh+denxN51/a024PqRatnGN2cm3MQeukSRh38IqIf6tklphCIiYtHnUWuqGtphE19bTPcPzUMjYzBwjNPccjdT+SDWtmzGqqULJypPqWNYz58gHfbdvCuUBAbehYUua5yY6EQ9FOn18KYs/Eoe+okdCpWVOoyKHpk4LLliHn7FgatW8No8KBUXQ8pjUCHddfFW6x9w+soVSwrdUEKdLb6kifWXfbC3ZktUbSQjgcAzpOhAD+uygSYABNgAkxAEQIswNKh9TbsLdofa4/f6i5Ape7zYTxoEIr+OkkRvt/rkpsTBfF42sgcW5rG4EL3CxnqhxslJxAaHYoGBxqIwCaDjDogeOdOaJUpg8JdOiNCOwFNDjbBoCqDRCLijBaKgNjjyAf89PQrKt68gQJaieHEXZ4GYthud2wdYIeWNsUy2n2ydpefB2L60Uci8ALljaL/MhKqPuVkPm7ciE/rN2DKEHVsG+OKYgWVM1+lLFrOTl4Ev4DLKAc0ea2LynfuoYCa4iH85RwqzWrkNtpv2x088vuCCxMbw6ywbma7VIn2T9+FivQI5Erbp04ZFmAqsSs8CSbABJgAE8irBFiApbOzz4KeoeeZnlhXZR6K952D4vPnwdDR8YcWdCnzDAyHb/BXlCiik2aUMnoHFvDOE+MGxuBu37t59Uxl67puB9wWya23FpuMInM2Iv7bNxGGXa1QIfFWa4zvCgRHBuN45+MZmhe5odbbUxtb18fDpFlrlFy+7Hs/Y/bdx61XQbgzs0W6ub8UHTjka7QI0HH8gb+wrm0bWCvTATriQkPxomlT3LSIhPnKlWhXtp2i08rx+i4+LlBz/AXFq9SCzV+7c2Q+F5+8x4g9Hpjf0QaDGpTNkTlkxaD0O4zegVHi5p1D6rAAywrI3CcTYAJMgAkwAQkBFmDpHIW7AXcx9OJQ7DSbBr1xv6PUX38m5lxKUp68+4KZxx+DgjFIC7kmLepaFdVLFUlW9+OmTfi4fj2GjFfH1WHu0NHQ4YOYSQI7H+/E6nsrcHhPUahpaqL0tm2ICw6G37hEi5fHXAf8/vYvnO92HiX1Syo8GuWE+t+GHph3IB4l165FoTatRR9fvsWg1u8u6FO7NOZ3ki8pt6KDH7vvhylH/kU188LYNaQ2DHQy9sZMOu77ZcsQtGMHLi7thImdlio6nRyvv+fWJtgNXo/CE39BiZGjU50PWQ7v+3zGy4/hiIqJh46mGioVN0C9csaZdhWMio1D69V/Q0tdDc7jGylVdOc4XADzTj4WLrDPF7ZjAaYKG8JzYAJMgAkwgTxLgAVYOlvr6uOKCVcn4JDWWGDBGliePQPtcuW+t7j0NBBj999HIV1NjGteHj+ZF8HTgFCsd/XCp/BorOtdHW2rmH2v/9XdHT79+mNZNzUsnumK4gWL59mDlV0Lo7DkMedcMfjoF5hv2gSD5s3E0JHPnoEsjgmGheDY8x2m1JuBvtZ9FZ4WhbMPnr8QLbx0UMnNDWo6iaJ5z20fzDnxGKfGNhD7nlWFkjaP3f8AtmUMhQjT0cx4cI6YwA943qIp7tUqjCE7bmXVlLOs3w27f0GLRS7JwsVLB/MP+YZVFz1x8qE/YuMTfpiDib4WxreoAMfapTMsnLZc88bic8+xe0htNK5ommXrzKmOpS61PkvtWYDl1CbwuEyACTABJpAvCLAAS2ebT7w8AQrAcOJLf0Rv2oFK9z2gppeYQ+nu62D023oH1mYG2D6oFoyTJF39HBGNobvu4bF/KPYPryMSqFKJj4rCc1tbnLKLR6eVR2BjbJMvDllWLrLXmV4YssUH5aOLwPKcc7J3QeHXruHtyFE418YInvZVMxR5crrLr+gx+RzM2nQSIcmlxX79dcTFA87jGiolF1V6jE798w7jDz5AC6ui2NzPNsMCgsa4OqIrDG4/Q9mrrjAyKpGVW6P0vlcv6Ii2B16KvFz0zk9ajnr4YebxRyDZ1bdOaZFXrWJxA+hraSA8OhYebz5j8zVv8Zm1NiuEFT1+QuUSigU4+RgWJRIWk0vo1oG1lL42VeiQkj9X/99FvFzUgQWYKmwIz4EJMAEmwATyLAEWYOls7Z6ne7Ds3jKc8bRH1OVrqHjLTdQOCo9C27XXYaCtgWOj66OIXmJQhqTly9cYdNp4AzGx8Tg3ofH3EOWPHezxItwbJXZtR70S9fLswcqOhcUnxKP1H7Wwbt1XmI4eA9Nfxv4wrN+Eif9n7zzAsf7eP/5GZmSkSZE0v20ZRQmlEg1JQ3vvX3vvrb3Ht0mRiDS1SKkQGt+2ltGgRMqev+t8RMt4Hp6HR+5zXd/r//vnnPvc53Ue1/W8nXPeN+KvXMaSYVI4Op2/IsTsXcyMlUYY6xyLOvv3Q76DERf/0bt4WO64iRW9/sHQdpqlsdS8Ezfr1mrY2K8lxMWL96t77+pxyExegfjpdjAYV7L6aKWy8J8m2TFWHya3vuGfB/9BrFIl7iesFteS04/Rvn5VbOjXEmpK+ZtisL289Dgai08/AvsDyYpezTBIn/e6bXNP/gePe29xebpxuSu0zM8+Hb8TQSYc/ACjvkSACBABIkAEikGgeN/iijFRaQ/R0dHJDg4OLtG0e+7vwe4Hu3HWRwfZKcmodyLHOn6W2wPuqtPpSUZoWrtKgXPcj/wC6923MNhAg/vCx9rzJXOR7HEGUZ4b0U27R4nyq+iDI79GYtOSbhh3MQta585CWlv7DySs+PWzHt3xQuYLlA7vRqe6OVcUeWmhcaHwG9kbeu/l0OxWQN6X/kWeD+EW/Jaz7FaUK9m7LF7yyO3DrrZuuhKKEYaaWGLZtFgnbykZKbhh0gZVFFRhcOEGP9OXad/MrEwc690CTROqQNcn5/pkwOvPGLQ/AKaNa2C3XRue3CKZwcm0E/fh+/wTRhnVw0KLJkWK2bsRcbDefRtjO2phgUWTMuVQGpNTHbDSoExzEAEiQASIQEUmQAKskN23v2MPjxceOLZfDnJ6ulBbvx7/vf2CnjtvYZyxFuZ3L/rLGHvYzt4LXZrWEQ1qKODtKRd8m78cLzaPQ0+LaRX5s1fitV+PvI7/Zk+A2evKaBJ4p0BBEuNyHJ+WrUDQCD0MnevA87yHA3ehzaidqNLXGvWWr+bGfUtJR7u1PujStAa29C9+bTGek/ipIzvFWXnuKQ7deoMhBhqY171xsdwRN801hcXpD6jn4Q6ZpuXjGmx0YjTud+0EJa1G0Hf05E6hu2/zg7x0JZyZYsT9X15bRmYWVp1/iiO3w9BPRx3r+raARAEniplZ2ei16ybYFUTvmZ34mofXfEStHwkwUdsRyocIEAEiQAT+NgIkwArZUfb+KyjsJrasjILq1ClQnTAB/fb6I+xzIq7N6sSTKx1zZeu4/ho6NFDl3u8kRYYjvEs3vBxpAqs5u/+2z1OprufYk2NQmrgaTTTaor7D0QLnzs7MhLd1R1R/FYtG5y9C+qf3Q4UlvHZZV/R2iYDGcWfItW7NdT108w1WnHsCz0mGf7hclsbis7KysdbrKfb7vYGynCSGtNNE67pKkBQX55wZP35L4cQCEw7N1RXRuUmNP4w71lyeD6tpnqg+fCRqzJldGmmXeI4HUfcAs0HI6GsOnRXbMPX4PVx8HAXPiYaFnkIXNDETs1uvvsA27xewalkbm21b5vu2Lne/dwxszfWrCI0EWEXYZVojESACRIAIlCUBfgQYq9y6BgD7FsKKCLE/nbNHTAfLcgEFzS2IK4jTrk1DyvPn+N/WMNTetBGPGunD7kAgVvdpBjv9HyYARa1/w6Vn2O37CtdnmaCOiiz8df9BYgstdDl0rqih9PNCCKy9tRI9xjqjxvBRqDF7VqGsTgccgeYoe0hZdEGTDduL5Pr842OE2tqgTpYiWl73507XmKgx3eQLVXlpuE9oX2QMYXYICY/DTp8XuPb80x/TVBIXg7iYGNIys1CzigzW27T4xbXP9bkr0mcsg05SdTTyuVasq4zCXFt+sa8GOEFt+CqIzZuEZFM79Nl9m3MenWHeqESp7L3+Cuu8nnEnmjsHtf7Fqv5eRBz67wuAUQNVHBzWtlxwKhGM74NJgAmCIsUgAkSACBABIlAwAX4EmBeAwwAWAmgJgN35uQeguSgCFoQAG31pNDTvR6Hv4VfQPHkSk4OT8ODtF9yca8qXHXj01xQYrvPBsPaaWGzZFC7WbaD1SRx6fiV7oyaK3Eszp8WH7TDI/i7UNm9CFQuLQqf+nPwZR0d3RJf7QH13d8g0blxof8/p1mjk9RRK61ehVs++XN/cIrzsvZFF8x/lBUpzzb/PFZOQivDPScjKzoaCTCVUk5eGspwU5wh4+1UMVp17ihcfv2HrgNbo+f0E53HMY+xZa4tJ57O4z7VsM+HUMRMkF89jS9FolStUD+3FgpeVERQWi1tzTYt1BfP3vBxuh2HpmcfcKfWmfi1RTUEafi9iMNXlHsf0zCQjKFf+02hHkOsTpVgkwERpNygXIkAEiAAR+BsJ8CPAggAw/2UmunLuYwH3AZTuQxged0EQAsz2rC3MbybC8PRrSF/yhemeYK6W0PQuDXnM4kc3dmXq2rOP8F9ghoPzO8P8QjQa+N9GJWVlvmPRgBwCyxd0hK3Hpz9syQviM8ljKIatuYtqmk2g6eZa4IlGWLAvvg2dgAjDeuix/wIXjl1Z673rFj4npsF3VidUkhAvF9uQlJaB4YeDuOLEB4frwrhhNaRlpqHLv3rYuy0V1ab9D6rjx4v8WlxXDUPzY3cgdfoiOh95hEmdtDGra8lOv35etGtQJBZ6PkR2Njixxa5xalWrjMPDdaFRtbLI8xFkgiTABEmTYhEBIkAEiAAR+JMAPwLMFwA7CrgCoA0AAwD2AIxFEawgBFh39+6YcD4TjV8kw2nWHhy/E4mb80xQXSGnGC8/jV1nYtemVvb6B2+CZ6Hfrseoc/AA5A0N+QlDfb8TyMjKwK7BrWDyVALNQ+4BYmK49vwjboTGQFpSHBbNaqFlnV8LJLs8c8HN/Su5kx/1nTug0LnzHzy/+foiYsIEJEkD6qfcUKtejnul99NojHIIhn3f5uivy7t9uShs2NeUdAzYF4Dwz4k4O8UIWtXkwf64MHHba2jWaAxNp2OikGahOZwc1xX1A97CY5kLTgS/LfbvYWGTvIlJhFtwJD5+S+Xe9/Vtow5ZqeIXvhZ5qAUkSAKsvO4c5U0EiAARIALlhQA/AoyJrh0A2DfSRwCqAbAB8J8oLlYQAqyDSwescRJDbYW6sNIejO7NamGTLbt9WbzGXNukK4mjqaYLhsy8imozZ0B1zJjiBavgoyK/ReJuL3OoqdRDyxPnMM3lPs4//IDKUhJIz8zm3j+xorzMNrzyd4e8T0mf0OWEKQ46ykMhKRt1DuyHbPMfN2hjnZzwbusmvJVNRsKGWeinP4qjzE6/WN2vbykZ8J5pXKJCyGW1bR/ik2GxzQ81FWVxamJ7rAtaicqHT8PydjpX306iSsHlFMoq55/nPW+lC7kUYKLBSli2qMXV/KImHAIkwITDlaISASJABIgAEcglwI8AY2PYuy9274eNew4gXVRRllSAsS/drY+2hsNOMcS2NMaIql1wbooRmqkpFnvJ+66/wlqvZ7DtFgiree66iyWmAAAgAElEQVSo184c6lu2FDteRR54O9IPct3HQqxPV7i0HgVWQHZ210YY11ELKRlZ2O79Avv9XqNBdXkcG6WP6lVyTi2HeQ2D+PtPWOichuyMDFSbOhXS9bUQf+484o4dwwt1CfgNbQH7IccgLpZzzfDUvbeYfuIBVwDZRke93GJnV2BHHAnC8PaaaNroMVzdVmDlsUyobd2KKt26ivS6Atr+g7BGtTGvzrQyc6AUaUACTI4EmABhUigiQASIABEgAvkQ4EeADS2AoKMoki2pAEtKT4LpQT0c3poJ17Z98LiDFVzHMdPH4rf3X5JhaO8DI90gmDm4wShZHdqXLxU/YAUe6XlpOxr9bw/eT5mKUZF1863L5vfiE8YdDUF1BWk4jTGAmpIsToaexHL/5XBqsBoy09cgMz4+j+KLFipYY5UOjz6eqC2fYzkeFZ8Ci+1+0Kgqh5Pj2xdYL6q8bAWrS+cYEI71dopYFTQezjuloNzdArVXrRLZJSRFf0C4sSncTJrhuvYkXJ1hXGEcCctiU0iAlQV1mpMIEAEiQAQqEgF+BBi7fpjb2HGCGYC7368hihyzkgowVvh1/DYzrHHMxDL9ERgxeyi6NatZ4nX23+eP8AwvmP/njoHXs9Aw6A4kFBRKHLeiBXDeMhat9/nBvv8SvJGviSvTjSFV6U9jDGbXPvzwHSjJSeL4GAMoy2fDxNUEXTS6YJXBciQFBXH/eevLYvXTbVjafhlsGrKbteDqag05GIiXHxNwepIhV0i7vDdWSLrz5utQqpyF90ozsfuaFmq+iYe2r+ja0b+5ehopk+dhobkJzPrMwCQT7fK+DSKdPwkwkd4eSo4IEAEiQAT+AgL8CLDfl8scDlwAdBMABxZjGwD24v0AgHW/xZQGwE7adAB8BtAfQFhh85ZUgL2Me4ktq3th8rksLLJeAtdVAwRy+uEcGIElPodhkOyKha5ZqOvggMr6egJAWLFCuEwwR+Obb2FtYY/1tq0LvRr439svGHwgEFVkJeEwUg8n3+yC8zNnuFu5Q1tZG6/jX3OmFPq19LHTdCd3unI/8gtmuz3gim7vHawDsyasDN7f0bwefsAEp7tQa74JI8Krw9DxAeqdPg2ZRvy7e5YGkfvbV0B693HY9R2Kc7OnobaSbGlMW2HnIAFWYbeeFk4EiAARIAKlRKAkAkzyuxlHSb2gmegKBdAFwFsAzO5+IIAnPzGYCKAFAOaXPQBAn+8irEBMJRVgIdEh8Jo/BL39gcDdnhhlIpgvp7GJaTDYuh3VlY9g//ZMVJ87F1VHDC+l7f57prnQvQ0yUsWxufsG7kpaUbbwD9/GY8SRO0jLyMKG/tpYcX8oFKQUMLjJYDg8cUBKRgpOWrrjyVtg341XCHgdC1V5KWwb0BqG2qp/D7jvpiK2+/wRiq1oJZeCeWteoPrsWag6Ksd0RNTanbEDkHbvATaPXQuPMb1FLb2/Lh8SYH/dltKCiAARIAJEQMQI8CPAzrLvbt/zZ3e9mgJwBTCvhGtiD6uWAch1AZj/Pd7an+Kyh1Ksj/93I5Co7y6Mufn8kUJJBZhPhA/Cpk6Gxjsl6PpdRxUZpjcF03odOIbXkvZw2a8AJQNDqG3cIJjAhUTJTk9H3AlXpDz8D+KVK6Pq2LGQrFnyK5VCTzyfCTLTUvGfTit4N1RDvQVH0JdHY4zI2CSMdgjGy08JGNxRDH5fN+JT8kfUlKuNbtXm4tI9CYRGJ6CWogxGGtbDAL06UBDgvpcFq4LmvPMmFoM9lkBW9RY83OugkrIKNByOiFKKXC7ZWVl4oKeDAM1USM04hZHtS/r3HpFbosglRAJM5LaEEiICRIAIEIG/jAA/Auznel8ZAMK/n1iVFAl7cMOuII7+HmgIAH0Ak38KzGzvWR92Qsbaq+99YgqaXEejSnbwUqNi53Yy6xsqO3yCmowkWgysU+w4+Q0MTEjA6CqxOOQqDpUv2ag/WrDxf58zKz0LkSejkBSRgkoKEshMzoJYJTGo96mBynXL33WuyHcJSDj2EXc7y2CQTi2IcaacvLWMrCy8+pSIuKQ0ZCEb3yQBhXRAHGKQk5RALSVZVK0sBXEx3mPyNrPo9doXH4Odyklw85ZBdnACGk7VhIS0aBWYTolOxZsj7/BvD3HYN6kLqXJSAFv0dpv3jMRGXggB0Jb3EdSTCBABIkAEiAAR4IeAKHzLFKQAGwuA/YcWtWV1Hqwy4YfFL323Jn5Cp73foNhSHvU6Vy92nPwGRmWmo4vkB6z3loDmnVQ0mq4JcSnhffF9f+Ej4h8moFaPalBqpoC02HREekQhMykT9cfWgYRM+So2G+gXjSq3ExExWgVdq/5abJnXjUpIzcCX5DSuZhj7Uq8sJ8kV3eVHzPE6l6j2C0lLxnCZT1jzVBbant+gbl0DCg0qi1S6nwO/4KNvLFaMk8RxJeH+oUKkFl6GyZAAK0P4NDURIAJEgAhUCAK8CLBvP109/BkKG8uuAJa0gqvIXUH89C0VNlumYK+zH2osWwqVAezZmeBaelY62hxtA6PHOph6JhAaTscgp8P8RQTf0iIi8Kpbd6gMG4Yac+dwE2RmZSP92VO86WsD5SGDUXPBAsFPLKSIWVnZ8OjWGVWS3qPR+UvQUKwrpJn+/rDs3ZvuMT1IxpnC2ekWqpibo/aa1SK18OdDhiPsdQh2TdPFmX6HRCq3vzUZuoL4t+4srYsIEAEiQAREhQAvAkzYubLizsyEg9nav/tuwjEIwOOfJp4EoPlPJhzWAGwLS4y9AQsKCipWvaC1F57iyeWFWHDxKTSOO0OudWuBM9Bx1INk+D847BSAGgsWQGUou3kp+Ba1chXiXF2hffUqPCJSsPf6a7yJSYSWamWsDbuAKtcuQOu0J6S1y4e196WgN6g1rAcutxXHtCP3UUmcfXyoFZdAF1cLREZXwd4QFdR6EoKGN/0gJiVV3HACHZeVmoonbfVwsUU2YsZaY50xewZKTdgESIAJmzDFJwJEgAgQgYpOoDgCjN3HY3XAcluEACBaANj63Yae/Zmb/Rl+BYBgAGe+z3cUAFNCsd+dEF8XNq9UTe3sJhN2oXFNBfRprYZerdQgI1n0Vbvwz4nosuUGxkVvRbebEWgSEgJxOTkBLPHXEJ3dzPH2XQ2ccHqJal1MhXLykPnlC16YmEKhWzdsbt0f7nffonVdJRhpq8Ln2UdEvvkAZ5+1ULG0QO3VonXykR9w5mA4Z/p2jLuyD3tH1cK22T4C35eKFnD6tenwC3+IlgGWmOW7D+p7dkPBpPhXdwXJLzEgEBHDh2OdjTg69J+O0c1zn4kKchaK9TsBEmD0mSACRIAIEAEiIFwC/AiwngA2AagN4CMADQBPAfwj3BSLF129wT/Zg9cdR3BYLF58TICqvDQW9miM3q3UCjwVY1fzWL2oh+/isfrxCqhEJ6KD3/3iJVDEKFZ3KvxjJSx0TkbzqlKo53pC4PN8PngQHzdsxNn/bcTucOB/Zg0wrXMDbv1MzEx2vosmzjvR9cN9NPK7AYkqJb1NKvAl/BLwgN9rpC1fBIOYBzhob4RdXfcJd8IKEH3X/V3Y92Afkp4sgccVe1TtbAK19etFYuVhW3ciee8ujJgmgUXm62CpZSkSef3tSZAA+9t3mNZHBIgAESACZU2AHwH2AIApgKvfT6LYn8kHAxDJ4kG5NvTZ2dlcTad1F5/hQeQX6NVTwcpezdCopsIf7Nd6PcW+66+x3qYF6kzugej6SujtdEMoezT28li8iY2FqaMyen8IQeOQYIiJC9aI43XvPojLEEPfZqMwzlgL87s3+WUtzIhiwqKjWHB2PaotXwHV/v2EslZBBI1JSIX1Ck/sPrcSV9uKI3WyHebqzRVE6Aod43LYZcy8PhNaaQvR3fMSOkU9RMPbtyAuzWqfl23ztx2K+PCXmD3xG450OwKdGsJ5J1m2qxS92UmAid6eUEZEgAgQASLwdxHgR4Cx64DMmpgJMXYVMOv7/24pikh+rwPGzBtOBEfC/uIzfEvJwGD9uhjTUQvqynL4kpSG9ZeewzkwAnb6dbGsfQ28NDZGkE1TDF3lLpTlzb4+Gw8/PYHGSR1Mu++G+lcuQ6qO4FzeUl+9wuseljjcug/CO1nBeYwBJMT/3G7vJ1EQH2wNWW1tGLg6CmWtJQ3K9m60YzDqnTqCvi98MWWsGMZ2W4z+jfuXNHSFH/86/jV6efbC8AbzcHt/FFb5H4D63j1Q6NSpTNmw+l/32ujhjlYt7OoVhot9L0JNXq1Mc6ook5MAqyg7TeskAkSACBCBsiLAjwBjJ1+9AawDUPX7NURdAO3LKvnC5i2oEHNcYho2XckRW1nZQI0q0vickIaMrGyM66iFud0aI+HyJbybNh3XFnfDRLstQlneqoBVYKcP//w3ClM91kF9104omDEfEsG0T9t34OOePRhpsRQu8y1RTzXHXvxdwjvcencLHdU7omblmmAnhAfspsHgvje0b92CrLKiYBLIJ8rLjwk4/98HPPkQj9jENFQSF0f96pXRVkMFHRtWg0rlP80f2LXQ5Wcf44RfKE5eW4tsncawM7yP/eb7YVDLQGi5VpTAGVkZ0HPSw+Amg/H4nj4mb5sI5V69oLmaPcEsu/bxSSg+W/fCud56ONrkHkKGhEBSXHDF0MtuZaI/Mwkw0d8jypAIEAEiQATKNwF+BNhCAEcARH2/esi+qTsB+CyKCAoSYLm5vo1L4sQAEwWqCtLo1ao2GtfMeQP1YdUqRJ1wwu1D4zFJ939CWd6Oeztw4OEBjFc+hE6zB0Nm8v9Qb/J4gczFRNUjs654lCaNmOWbMcWsARc38msk7C7YIS41DkrSSjjT+wyUZZRx68QFqCydici5a2A+oo9Acvg5CDM2WXrmMXyffwKrb1yvamVUryLNvUN7HvUNiWmZ3L+3qasM08bV0UxNEYqykgiN+sadWoaEx2FTagiaeh3Hq3WjMD/eAVdsrnACklrJCdicsYGqnCpmtdiA6wNGoWXie+gE+BXLQbTk2eREuLjDERq71sJ1jjGuy4fCx5YMVwTFtqg4JMCKIkQ/JwJEgAgQASJQMgL8CLCl363fmQshc4xwAxBdsumFN7qZklL26Y7GkNPVheq4sahUrRrPk72wtMS99NdI3TIfQ5oKxx7e8bEjNgRvwLEul5HS1RLJhp3QaS/zOCl5+/LoMT7Y2OB4Bzss2rMAUpVy3pbNuTEHvpG+WGW4ivvf/Rr2w0KDhchISMAzXX1c0+mOyUc3CPSLt2twJJaefoxKEmIY20ELttrykLl/B6mvXnPukpKNGiFcoym8X33hnBmZAcrPrWYVGczXUUajuaMg37EjnIeowe25GwLtAiEuJtg3cyUnXz4jzPebjztRd+DdzxsOi3dAz203sP8omnRgN47Lph0aNgu6QRexa6MBvmYnwbmHc9kkUgFnJQFWATedlkwEiAARIAKlSoAfAZabWAsA7PFNXwBvAXQu1Yx5nKy5ikr2Oeu+SAoIgLi8PNR37uCp2HFaZCRedTGHg5k42k1fg17avXickb9uZ16dwcKbC3HB+gKeWIxBmqw8rC6f5C9IAb3dp6/gTosSnc+gbZuc0y929bC7e3eMaDYC03Wmc3P7RPjAt78vpCWkEdLVCqGJ2dA+5ghdTZUS58FO4Xb6vMSmK6Ew1K6KDVYNIXHkAOKOH0d2SgogIQFkZnLzSKiqQnnAACgP6I84aQWuTllcUhoaVJeHhrIsPkyfhgS/m6h//hymPVuD6MRonOwpGFYlXuhfEODQo0PYErIFNwfcRMbHJER1MYOfYW+MO7BaoGKcV1TsTeb5bv2gJZmONZMl0EC5ATZ32szrcOpXQgIkwEoIkIYTASJABIgAESiCQHEEGLv3xezyBgBgVoJMkIlcy72CyMwo3k6ajPToaGg4OkK2ebNCc/186DA+rl+PSRMksMR6JzrVEY4ZwfXI65jsMxnHexxH9NRtwPOnaOHrjWoKJXOfe/w+Hi/62nLvqTpePZu3VnbdcdvdbbjU9xJqy9fm3oGNvzoe20y2wbSuKd6uWIlPJ07iwJx/sWuYfon3c8uVUGzzfgHrNmpY00UTUZMnI/nuXSj2tILKsGGQbtAArNBuckgIYp2dkXj9BsQkJVHF0pIrSi3duDGyEhLwYfESfLt4EdVmzoDqmDGwPGWJRsqNsKmTYE4LS7zQvyDAzXc3MeHqBBzqegi6NXVxx6I33sUlocqhozBrUqPUV+gWFAH1UdZQMOmEkXo3YNPQBnN055R6HhV1QhJgFXXnad1EgAgQASJQWgT4EWATv19BZHf52PVDVwBPSitRfuf5+Q1YRkwMwvoPQFZaKuq5uEBSLX83NXZq86ZXbyRmp2KQzTs4dndE6+rM8FHw7f7H+xjiNQR7O++FyuGbyHByxIMDZzHYUKvYkzG3wCEbvbDo0EwoTJwM9amT8mJZn7FG5UqVcdSC1bMG0rPS0elEJ058rTRcia8XLuDdjJmY1mkqDqwZhjoqxS8+7RQYjoWnHqGfjjrW9miIyKFDkfL8OdTW26NK9+75ri/19RvEHTuKL6c8kZ2cDDFpaWSnpoI9Dqs+ezZURgxHRnYGdI/pYmSzkZjaZmqxOdHAXwmwE8XOJztjvt58DGoyCNG79yB2+3bMt1sHtwVWkJQo3auek7dfxKTd01Fl7gx0E9+O2W1nY+g/Q2nbSokACbBSAk3TEAEiQASIQIUlwI8AW/v97ZdwKhMLeAt+N+FgJ2FhAwdBskZ1aDg55Vt0OCkoCOFDhiJmmi0mynrAs5cn6ivVF3BmOeHexL9BT8+eWNdhHdqHJCNq8WLsGr0eO2dZFXs+5uzou+UApt93Qz3PU5Bp3JiL9SHhA8zdzTGr7SwM+2dYXvwpPlO4PM71OYf0qCi87GSCf1v0guqwoVjYo2mx8rge+gkjDt+BccNq+HdoW8SsWokvx114dnnMjI/HVy8vpIWFQ6KqCndtVK5NGy6XsPgwWHlaYbXRavSsz+qCUxMEAfaHByMXI5hrmmNpu6VIefYMb3r3wZbWtmg/eTiGG9YTxDQ8xfgQn4xp/9uJZQGHILZnDfpFLMEm401cbtRKhwAJsNLhTLMQASJABIhAxSXAjwArV5Tyc0FMDAhExJgxkGvZEnUO7Ie4jEzemtiX0HC7wUgLC8O9PeOx6v56XLO9BlVZVaGsOzYlFsYnjLlTh94JDTjht7T9aOzbMQXK+dixF5UEs3U33eSLpYFH0CzpA7R9fPLe75wMPYnl/stxqucpaCtr54XKffvja+uLqrJV8dLUDE+V1LGgxSAEzDdDZelKRU37y89ffUpA7123oKYkC/cJ7SH25CHCBw7irhzWmD+Pr1j5dc69tnnM4hhaVhPJ8nMlXmNZBRhxcQR3KsrYst+Fl6ameFS5NpbrDYPvrE5QkvuzRIAwct129QWidu7C0OeX8clzCyYFzIKThRNaVBPJm87CQFDmMUmAlfkWUAJEgAgQASLwlxOoUAKM7SV31W7mLFTu2AHqW7dCXFaW2+LPh4/go709aq1eBdcGn8Fs4kMGh0BKQjhfPFn9pdZHW2Niy4kYqzkQoQbtcOCfHtCf9z/Y6vJfkHme+384c+cN3C8tg7J1H9RcsiTvozvDdwYefHqAqzZXfzFVuPfxHoZ6DcVWk60wq2vGcYkPvAMLo7lY0esfDG2nyfPHPz4pHX1230J8cjpOTzaEmoIU3vSzRWZsLOpfOA/xyjl1yErSjjw6gk0hmzizCEVp4dUrK0mO5XXsmsA1OP3yNPwH+XPukh+WL+eug/YyX4phxg2LfSLKDw9W862DvQ/m3D6M5mkxCN42AqsCV3HujNXlqvMTivqWgAAJsBLAo6FEgAgQASJABHggUOEEGGMS5+qKqKXLIFWvHlSGDEZKaCh3TU7B3BxqW7dgY8gmuIW64Y7dHR4QFr9Le+f26KndE/P05uFFR2PcUKgHP5uJODJCj6+gDyK/oNeuW1isGov2B9agzv5/Id+hAxeDnWZ0cu0EIzUj7urezy01MxX6TvoY1XwUprSegljHo4heswZrR6xHpIQCvGcYQ1y86I9IRmYWRhwJQsDrz3AeY8C5KHKMlyyF2tatqNKtK1/rKajzAr8FCPwQCG9bb4HEoyA/CLDP+wr/FfCy9oK6gjoSbtxA5NhxuDR0HnYnVof3TOMSvQvkhbXPs2iMPBKMs7c2QEW3Ddzs6sLhiQP3hxAqOcALQcH0IQEmGI4UhQgQASJABIhAQQSK/nZdTtkVVYg54eYtRK9axV05ZJboyv1tUX3uXIhLS2PRzUUI+BCAq/2uCnX13dy7cSYfazusRcSo0XgX9h5DDSYjeFEXrhAxr23wgUA8/fAVp1L9kHThPBr63+bWwVr413DOOXBJuyVc3a/fWy/PXtCoooHtptuR/PAhwvrZ4sP0JRj5pgoODW8L08ZFu+AtP/sYh2+Fwb5vc/TXrYvsrCy87mHJ1fnSPOkmMCvzfmf7cVclmXEJNcESYCekgy8MznPFZA6V7FRW0rInekAfXf+piW0DhGNIk/uHAus9t5EQHYPtJ+ah+uxZ2NDwBZhZzcW+FwW7WIpWKAESYPQBIQJEgAgQASIgXAIVVoBxX/qyspD+/gMkFKtAQoE56ue0qT5TubpZ7j3dhUp/wLkBUJZRxp7OexBtvx6fjznB0mIVNg1ojT6t1Xma2//VZwzcH4BFFo1hvHgUZFs0h/qOHXlj2bWyRbcW/fH+K7fDrOuz8DjmMbz6eiE7LQ3P2+pCcdAg9MlqC+3q8jg2unBL+hNBEZjr/hAjDethiVWOccc3X1+8HT8BtTduhKJlD57WUVQn9j6JndYNbjoYM3RmFNWdfs4ngaT0JLQ73g5jW4zFpFY57pkRY8ciPfItPKZtxq5rr3B2shGaqwvn6ufFRx8w/thd7NBOhfbGhah75AgmfdnDneA6dHfgczXUvSQESICVhB6NJQJEgAgQASJQNIEKLcAKwjPMaxgkxCW4ukjCbOOujENCWgKcejjhi8cpfFiwAPN7LUbVJg1wcLhukVOzL6f99vojMi4Jl3vUwPv+tqi1ejWU+lrnjWXXyi6+uYibA2/me41r34N92Hl/JwIGBaCyZGXOKZJZv18YuxzrLz7HqYnt0bqucr65BIXFYtD+ALSrr4pDw9qi0ne78vDhI7iTRe0rl7naXoJoL+Neos+ZPtxpoaWWpSBCUozfCPT27A01BTXsMtvF/STWwQHRa9ehxoWL6OwUyglylzEGPF1L5Qfux28psNx+E6ry0jgs+YizwG8YdAc9LvfjzFbsO9rzE476lpAACbASAqThRIAIEAEiQASKIEACLB9A7ItoPcV62GKyRagfoDk35nCnT+etzyP50WOE2dggaMQcLPtSHTfnmqK2Uo5BSEEt983Mqt7N0PXuecTs2IkGN/1QqWrVvCGDzg+CbCVZHOx6MN8wPhE++N+1/3Hud+zLbvQ6e8QdPw61W/4w23YLNRVl4DGhfZ64yg3y8uM32O4LgJKsJE5NMsy7Mpny9Cne9LFG9VkzUXX0aIHxO/vqLBbcXACPnh5ooNxAYHEp0A8C7I2d/wd/zv2TtdQXL/DaqidqrlyBixr6mO/xEEssm2KkEW+29CnpmfC89w5+L2Pw6WsqJCuJoWENBejXq4oODVQ5l803MYmY6HQXYTGJODmhHRTXLkJq6AvUu3gBOsd0MLTpUEzXmU7bVIoESICVImyaiggQASJABCokARJg+Wx7R5eO6KLRBYvbLRbqh2J1wGp4hXlxrn5Zycl43kYHkiPGoEtcQ0zsVB+zu+bU8cqvMce4Htv9wL7kXplhjHfDhiI7OQX13E/mdc/MyoSBswFsGtpgrt7cfOPk1tZaZbgKvbR74evFi3g3bTo03dzgna2Cyc73MMnk11zCPydyJ2/ZrCL3uHbQVP3hcPh+3nx8vXwZDa75QEJRcNfV1gauxamXp+A/0J87naQmeALHnhyDfZB9nusgZ0dv3AmyOm2gtnkzRjsEc2KKXUVsVPPHld38MmF/HFjg8QhRX1O4sgTqyrJIychCaNQ3JKdnopK4GKorSOPD1xTIS1fCrkFt0LFhNbwwNYVcq9aQXj0fJq4mWKC/AAMbDxT8YiligQRIgNGHgwgQASJABIiAcAmQAPuNL7OHb3O0Dca1HJf3FkZYW7Dz3k78+9+/uD/0Pnc98FXXbpBu1AirdIfi1qsY3Jpniioy+V/h87j7FjNcH2DHwNawqK+IUAMDVB0xHNVnzsxL93X8azCTjZWGK9Fbu3e+y2Bvq3SP6WJks5GY2mYq0j98wEsTU9RYtAgqg+0w9+R/OBEcyYmwQfoauP0yBqsvPAX74LiMbffLF/H0jx/x0qwzlPv3R81FCwWKze68HSQlJHGk2xGBxqVgPwjcjb6LYReHYYfpDnSq04n7wfv5C5Dg44MGt2/hc3IGum31g5yUBFfnrZpCjtHLzy0rKxtbvV9gu/cLNK6pgKVW/8BASyXPiCU9MwvBYXG49TIG7+OToaFSGf1163AnrRmxsXjR3hDV58zBe6u2GHRh0C+50F6VDgESYKXDmWYhAkSACBCBikvgrxVgWv9oZbv7uKNV9VZ87W5Mckyp/eU998Qht67V2ylTkPriJZIPusByx03uFGxOtz9PwVjRZfMtN1BLUQanJxki8cZ1zvSi7uFDqNyuXd562duv2Tdmw83KDY1VCj5Ns/CwQNOqTbHReGNOEV7jTpDT14fahvVgFvPzPB7iZMjbvLgt1RWxdUBr1Pvp5Iv98OPWrfi871/Uv3QRUnXr8sW9sM7pmencSd6gJoMws+0PgSmwCSgQR4AZcTDO41uOx8RWE7l/iz93Hu9nzYKmmytkmzfHvYg4DNofyH32/h2qA+3qP07CPn1LxSy3B7ge+gn9dNSxsnczyEjyfjLfmWMAACAASURBVFqZ4OeHyDFjUdfBAbdrxoPVryvqs0tbJ3gCJMAEz5QiEgEiQASIABH4mcBfK8BkNGWytZdpY12HdeihxbsT34u4F7A+Y82Jka6agqlfVdBHLvdd0/k+51G3Sl182r4DMXv3otHdEMw68wxnH7zH6UlGaFq7Sl4IJohGOQTj9quYvJ9FrVmDLydc0fBOYJ79PBuw7e42sOLFgXaBhRaUHn91PGKTY+Fq5crN83bKVKQ8fw7ty5fy5mVfvB+9i0f96vJop1X1D2v5zIREvDQzg5xuW9TZuVOgv2XMinyI1xBs7rSZuxpKTXgE2IlpHYU62GmWs4cZnz/jhaERqk2bBtXx47h/Cw6LxdijIUhIyUBfHTW0r6+KiNgkHLr5BgmpGVhs2RR2+nX5Lj/wacdOxOzZw32OnSNOYX3Qevj194OSjJLwFkyR/yBAAow+FESACBABIkAEhEvgrxVgTVs2zW61uhXeJrzFuT7noCBV+JuVXMys0O/oy6M5B0TdmkU7EZZke268vYFJ3pPgZOGEFtVa/Hh/5X4SiRranDOchLgYHEbqcQ50SWkZmHPyP5z77wPWWjfHQL2cU6bXVlaoVK066h761Whj4tWJiEqK4owrCmvsfZXnS0/OCVFMTAyfDx7Exw0buWtnlVRUeFri58NH8NHeHpouxyHbqvBTx1dfXiEoKggqMiroqN4RMpVkCp1j9/3d2PffPtzofwOK0oJ7V8bTwipYp/l+87li1z62Pnkrf21tDYnK8tA46pj3b8y5cMuVUHjee8+96WKNXTVc0asZZ7RRnBY2eDCyU1JR76QbNgRtgOtzV64YOvtMUis9AiTASo81zUQEiAARIAIVk8Bf+82GFWI+5HUIdhfsMF9vPnd9jZfm9cYLzJ3Qs5cn6ivV52VIsfvkFr/dbbYbHdQ7IPX1a7y26IFa69ZCqXdv7sRp2KE7+JaaAf16KngW9Q3smtf87o0xzjgnN+7dVUfjfF0HzdzMoFdTj7NuL6w5PXXCujvrOPc7VVlVJIWEINxuMNR37YSCmVmR68tKS8Orzl0gpakJDceCazaxq4RsHtfQnJM21tTl1bHVZCsaqTQqcJ4hF4YgMzsTzj2ci8yFOpSMwNEnR7mTJ59+PqgmV40L9nHTJnw+4oCG/v6QkP9huMJ+xkxgwj4nQkVOCtWrFC6kC8ssKykJz/UNUHX4MO4d40zfmQiNC8XZPmdLtiAazTcBEmB8I6MBRIAIEAEiQAT4IvBXC7Dg4GDYnrXlgOReryuKTq4YYactrEiyMFuuA+EaozWwqm+F7IwMzglRefBg1Jgzm5v6/Zdk7PZ9ifuRXzg3uVFGWtCr9+NUKv70abyfOw/1PNwh0zSnEDJrcSlx6HiiI2bqzMTwZsMLXUbuSdzR7ke5N3NMUIXq6UOpXz/UXLigSARxbm6IWrwEdQ4cgLyRYb792dsyZiN/7vU5zlrcrokdmEnI0ttLwYTZga4H0FC54R9jPyZ9RJeTXX4pEFxkQtSh2ARCokMw/OJw7DTdCeM6xlycRH9/RIwYCfU9u6FgYlLs2IUNTLhxA5Fjx6HOwQOQNzQEM12Rk5TDfvP9QpmPghZMgAQYfTqIABEgAkSACAiXwF8vwHKNLs72PgtNRc0iaW6/ux0HHx3EvSH38i1cXGQAPjp8SfmCDic6YJ7ePE6QsPa6jzV37a/uwQM8RWLii315bXDrJsTExfPGBHwIwJjLY/Bvl3/RrvYPY478grIrgb1P9/7lvVzE6DFIj/qA+ufOFZpHNjv96tYdElWrQtP1RIHXxZjwYtfbJrWaxJk85Lbwr+EYeXEkmBsjq1X2e42vgw8PYuvdrch9J8cTFOpUbAK5RhwTWk7AhFYTuDhZqakI1TfgWZAXZ/IPixfj6wUvNPC/DXEpKZi5mqG9WnvOwZNa6RIgAVa6vGk2IkAEiAARqHgE/noB9vbbW3T36I65unMxuOngInd42e1l8I30hW9/3yL7lrQDq9PV+mjrX1zn3i9ahIQrV9EgwL/Ity95joVtdbg6TT83h8cO2Bi8Edf7X+feWhXW2JdufWd9TG09FWNajOG6fj54CB83bID29euQrFG9wOFxLicQtWwZ6uz/F/IdOuTbLzkjGT08eqCGXA049XD6Q9iyk8CRl0Zy1wzZ27vcq59sHDOFqFW5Fhy6F3y1saT7QON/JdDTsyc0FDSww2xH3g8ixoxFekQEtC56Ffm55JcnO/l90aEjKrdvD7VNG7kTUVaE+WcRyG9M6l98AiTAis+ORhIBIkAEiAAR4IXAXy/AGASrU1ZQU1DD3s57i2QyxXsK3ie+h3tP9yL7CqKD4XFDzqWRFZxlLc7VFVFLluZYuWtoFDoFcyp806s3aq1aCSUbm1/6Lry5EP7v/X8xUygsmPEJY5jUMcGy9su4bilPn+JNH2vUtl8HxV698h3Kvf0y7wrJmjWhcdy5wC/muaeQrIaXTg2dfGO9iX/DiTAmKnd13oUmKk2wwn8F3F+4c7W/ChoniD2gGL8SmOc3D0EfguBt6533g1yh/ftVV0Gwyy3+rb5zBxQ6d0bk10hYnLJAbnFwQcxBMXgnQAKMd1bUkwgQASJABIhAcQhUCAHGjB9Ohp6E/0B/rphvYa3/uf7cidGeznuKw5PvMawGV3PV5rDvaJ8jfJ49w5vefVB7wwYoWlkWGi/m3/34tHlzvqdUNmdsoCqnypPoZJOwNzeykrI4YJ5z9TE7K4uzH5c3NkbtdfmbeMQ6OSF65aq8dzv5JcsKW3dz7wZ1BfUiiyizN2GjL40Gq8XG3t/FpsRyBaKn60znmysNKD4Bx8eO2BC8Ic+UhUXKiIvjTqlUhg7Ne5/IywzsdIu9IUt59AgQl4CCmSmktbXzhmZnZuJNv37ITkyC1oXzEJOQQO712dJwIuVlDRWtDwmwirbjtF4iQASIABEobQIVQoBdDb+K6b7TkWsyURhkE1cTzhp9efvlpbIXg84PQhWpKtjbJed0jjPi0NWDkrU1ai5eVGgOYXaDkZWcBC2PX23m2RUuPWc9zuyCV/Ey+/psPP78GBesL+TN+Xb6dCSH3IX2dd8/TrfYu6BXXcwhWacONI4dLfD063rkdUz2mYwtnbags0bnIpnGp8bj+LPjYCdiJnVN0FWjq8CvvBWZRAXvEBwVjBGXRmCX2S7udyG3RY6fwJ2Mal/z+eW9YUG4mGh7N2MGkvwDfukib2LC1RWTbtiAq/sVs30Ham9YD0UrK66fxwsPzpzlYt+LUJNXq+C7UfrLJwFW+sxpRiJABIgAEahYBCqEAGMnKkxYzdCZgRHNRhS4w+y0ps3RNpzj3uTWk0vlk8CKIMenxOO45fG8+SJGjkJGTAy0zpwuMIfM+HiEtmuPquPGovr//vdLv+exz2Fz1gb2HexhoWXB0zq2hmyFwxMHBNsFQ0JcghuT67Co4ewMuTatf4kT63gU0WvWoO6RI6hsoF/gHNOuTQMrpHyl3xVIihd++shTotRJ6AQS0xNh4Gzwh2FK/LnzeD9rFuo6OqCynl6heWTExiKs/wBkREejxoIFqGLZA1mJSYj39OSKjWcnJ6NSrVrI+PABCt26QW3L5jyhvePeDjDzleDBwagkXkno66UJfiVAAow+EUSACBABIkAEhEugQggwhpC9A9OsovmLscDvaKMSozjL88UGi2HbKMe+Xtht7o25+O/Tf/Dq65U3Vcy+f/Fpy5ZCCyF/vXAB72bM5N5eybX+VRydeXUG7A3Y6V6noaWkxdMS3ELduDdXl/teRi35WtyYzIREvDAygpJ1H9RcsiQvTlZyMl6am0O6nlahdb+YuQezwu/boC/m68/nKQ/qJBoE2O9LPcV62G66/ce+JyUh1KgDqnTpjNr2OVdm82vs+mrk6NFICrmLuocP/yHe2clYvLs7kh8+4sS7kq0td/UwtzG3zLvRd3HJ5pJowKhgWZAAq2AbTsslAkSACBCBUidQYQTYkltL4BPpA1bfS1zsh137z8QffnqIQRcGYYfpDnSq06lUNmNt4FqcfX0Wtwfezpsv+f59hA0YyJ0KVOnePd883s2eg0Q/vxz7+Z++vLLOG4I24MTzEwgYFMDzCcLtd7cx7uo4HO56GG1rts2b893MWZzNvfa1a3lFeD8fOoyP69dD46gj5HR1C+R0OewyZl6fyTkb6tYsuF+pgKZJ+CLAipEzEXS139VfxkWtWYM45+PQvnwJkrVr5xvz8+Ej+Ghvj5rLl0O5P/9/yBjmNYz7HT3c7TBfOVNnwRAgASYYjhSFCBABIkAEiEBBBCqMAPN86YnFtxbjVM9T0Fb+YQLwMxjvCG+wK3MnLE+gadUfRY2F+fHZfX839jzYg/tD7udd/eNsuTsac6cDv9vLs1zY9UP2c8XevVFreY5r4c9t9OXRSEhLgIulC8+ps3pclqcs/3CeS37wgLtKVn3OHFQdOQIZnz7hVXcLyLZqhboHCi+Sy77EB7wP4JwY6SoZz1shEh1zyxj42vqiqmzVvJzS37/Hy67doNirJ2qvWvVHrinPQxFmY4PKHTpAfdfOYr3f6+zWGfq19LHaaLVIsKhoSZAAq2g7TuslAkSACBCB0iZQYQRYxNcI9DjVo9Drhcz8YU3gml/c34S9IU5PncBcGtnJHHP+y20fli9HvOdpNLx1E+Jycr+kEevoiOg1a5GfJTizcecs5eua8GUkkpaZhrbH2v5Skyx3UlaUOSk4GDWXLUWc41GkvnzJvU+T0iy4sDWLx/Iw1zTnKw9h86b4vBEIigriygIwN1AjNaNfBkWvs0esgwM0nI5Brk2bvJ+xPwy8sbXl3nppnfZEpao/hBtvsyKvBti4luO4N2jUSp8ACbDSZ04zEgEiQASIQMUiUGEEGBMmpm6m3F/W13VYl+8ubwnZAscnjr8YUQj743Du9TmwNy9ne5+FpuIPQZMUEoJwu8GouWwZlAf0z0sjr/aWmho0nY79kV50YjQ6n+yMeXrzYNfEjq/0zdzMYFDL4I+TB2YIEmZnh/TwCIjJyUF9y2bOnr6w5vfWDxO9J/7hpMdXQtS5zAh8S/uG9sfbY0rrKZwpzc8t89s3vLGxQVZCIjQcjnC28uxz+Xb8BCQGBXH/9rMw42cRuTXAVrRfgT4N+vAzlPoKiAAJMAGBpDBEgAgQASJABAogUGEEGFs/u17IHAJ/Nrz4mcus67PwLPYZzvU5V2ofmFyh8rtFPhOMYbb9ueuG9c+dhZiUFJdTbu2vuocOonL79n/keePtDUzynvTHWy5eFsTe3oiJieVbrys7LQ1Jd+9BpkljSCgqFhnO/o49mLHHrYG3IC0hXWR/6iB6BHp49EAD5QbYarL1j+RSX79G+LBh3GmXoqUl2LvF1NBQ1Fq9Ckp9+xZ7Mbk1wA6aH4RercKdFos9CQ0slAAJMPqAEAEiQASIABEQLoEKJcCOPDqCTSGb8Pu7llzEA84NgJK0Ul5NLuGiz4mea/zxe80l9jNmfhE5dhyUBg7gXAiTAu8gYswYKJiaQm3rlnzf1xx4eADb7m7jTD0UpBT4WsICvwUIig7CFZsrfI3Lr3O/s/2gKKWIA11zCjtTK38EWG24B58e4LLN5XyTT3/3Dh83b8E3Hx9I1qyJ6rNmQsHMrEQLPfXiFJbcXgIvay+ueDe10idAAqz0mdOMRIAIEAEiULEIlLUAUwFwAgC7excGgFmmxeWzBRcBGAC4CcCSly3S0dHJDg4O/qXrvY/3MNRrKLaZbINpXdM/whi5GKGbZjcsMii8ADIv8/PaJ/dt2hqjNbCqn1OI9ucWbb8esYcPQ1KjLtLfvoO0Vj3UdXREJeUf78V+7s++ND+MecgVseW37by3E/sf7ueuYEpKFL9mFyum3MGlAya2msi9KaNWPgkcfnQYm0M2//E+8ffVsNNadnIqiJb3GRwcTHXjBAG0GDFIgBUDGg0hAkSACBABIsAHAcF8a+Jjwt+6rgcQC4A9ypoHgKmKufmEY39WZ04U40oiwFIzU7kCs0ObDsV0nem/TPM17SsMjxtips5MDG82vPgr4nMkEytM+M3RnYMhTYf8MZp9uf3i6oYEX19I19eCyqhRBYovNrinZ0+u3tnP9Zt4TSn39OFCnwuoU6UOr8P+6JfrJnmk2xHo1NApdhwaWLYEAj8Egjlq7uu8D+3V/rzuKozs5vnN4+zvCzp1E8acFPNXAiTA6BNBBIgAESACREC4BMpagD0HwApufQDAqv/6AmhUwJJZv1klEWAs7qDzg7i/rDt0d/hlmqefn8L2nC22dNqCzhqdhUv9p+hZ2Vlo5diKMzqY3HpyieZlAlPPSQ9jmo8pVqxc57v95vs5M47ittz3X+wapJREzts1auWPQO4fB/7X5n8Y3Xx0qSxg4LmBkJeSB/sMUisbAiTAyoY7zUoEiAARIAIVh0BZC7AvAJS+42a5sOuHuf//77sgEAHGxMHJ0JO4Pej2L1ecLoVdAjPhcLNyQ2OVxqX6CRDU1ccnn5+g/7n+2Gi8EV01u/K9hvcJ79HVvSuWtVuGvg2Lb6Rgc8YGSjJKOGBO77/43gQRG9DNvRuaqTbjPlPCbuy0lzkvWmpZYqHBQmFPR/ELIEACjD4aRIAIEAEiQASES6A0BNhVADXzWQb7hsWOoX4WXEyA5f+4KeekrKgTMOaXzXlm161bVyc8PPyPaS++uYjZN2bDpYcL/lH9J+/nO+7tADOwuGN3p9Rd+1gB5KYqTbHemN3ILH47/fI0Ft1ahNO9T0NLUYvvQBlZGVwtsJHNRmJqm6l8j2cDvqR8QYcTHTC51WSwWk7UyjcB5hz68svLUnEGjUmOgYmrSbFKKJRvyqKVPQkw0doPyoYIEAEiQAT+PgKlIcAKo1bqVxBz62TNajsLw/4ZlpfbFO8piPgWwYmX0m525+1QWbIy/jX/t0RTbwzaCJfnLggYFIBK4pWKFYudeLSs1hL2He2LNd473BvTfKfBoZsD2tT4UaS3WMFoUJkT2PtgL3bd38V9pthnVJgtOCoYIy6NwN7Oe2GoZijMqSh2IQRIgNHHgwgQASJABIiAcAmUtQDbAODzTyYczBVxTgFL5uUELG9ofi6IuT9k9Y3YCdEOsx15/c1PmqNVtVYlPoUqznZNvDoRn1M+44QlM4Qsfht7eSy+pH6Bq5VrsYOMvjQaKZkpOGbxZ5FnXoKuu7MO7qHunA1+SZwUeZmL+gifwPXI65jsM7lUBDX73CzzX0YW9MLf1kJnIAFWxhtA0xMBIkAEiMBfT6CsBVhVAEwt1AXA7gsyG3rmitgWAPMvz3357weAPcyS/y7YRgG4VNjuFCbAlt1ehsthl+E3wA8S4hLIdUAsTbOBn3Of7zcfzCK/ONbxP8dh17fa126P1Uari/3BXXJrCfze+eGa7bVixbA+Y42qMlXJRKFY9ERvUO6J8Ty9ebBrYifUBNn7TPcX7vAf6M/9XlIrGwIkwMqGO81KBIgAESACFYdAWQswoZEuTIDlvgNz7O6I1tVbwzfSF1N8pnCioSTuf8VdDDs1Yu+3/Af5FzcEYlNiYXzCGL9freQ34L4H+7Dz/k4E2QVBppIMX8PjUuLQ8URHTGk9hXN1pFb+CTBjjE6undBRvSNWGq4U6oLY6WtSRhKcezgLdR4KXjgBEmD0CSECRIAIEAEiIFwCFVKAJaYnoqNLR/Rr1I978L/SfyXOvT7HnYiVhW36ngd7sPv+btwdcrfYxWfzajZ12cedghW3MQ7sRK44Rh5Xw69iuu90HO1+FK2qtypuCjROxAiMuzKOE/jMIVRYjQk99gcEk7omWN5+ubCmobg8ECABxgMk6kIEiAARIAJEoAQEKqQAY7yYu9uDTw9wvs959Drdi3Mh3Ga6rQQoiz/U+akz1t5ZC19bX1SVZbcy+W/HnhyDfZA9d3VQVVaV/wDfR7CrkEO9hmK32W50UO/AV5y1gWtx6uUp3Bpwi95/8UVOtDtvCdkCxyeOuDPojtD2lRwQReczQAJMdPaCMiECRIAIEIG/k0CFFWB3PtzBqMujoCytjLjUuFIvwPzzx+nC6wuY6ze3WKdOuXGW3l6KaxHXcL3/dYiJFX9bPyZ9hJmbGRbpL0L/xv35+tT3Od0H1WSrldjNka9JqbPQCVwMu4jZ12fD1dIVTao2Ecp8N9/dxISrE3Co6yHo1tQVyhwUlDcCJMB440S9iAARIAJEgAgUl0Dxv6kXd8ZSGlfYG7DcFNjVQ9dQV5jUMcE2k20lEi4lWdatd7cw/ur4El3dG3huIGcTfqBryYofZ2VnQfeYLme4MKPtDJ6XlfsGrayMTHhOlDryTSD8azhYrboV7VegT4M+fI/nZQC7grvvv32ce6aw7e55yaci9yEBVpF3n9ZOBIgAESACpUGgQgswBpi9B5ORkClT17VHMY8w8PxA7DDdgU51mNs+f42JJgNnA/Rt0Bdz9ebyNzif3lanrNBAuQE2d9rMc6wr4Vcww3dGiUQkz5NRx1IlwD5f7Y+3R8/6PbFAf4FQ5mYlFNhJtDDfmQkl8b8wKAmwv3BTaUlEgAgQASIgUgQqvAAThd2I/BYJCw8LrDJchV7avfhOKeJrBHqc6sGZF1g3sOZ7/O8Dxl8Zz9UTc7F04TnWmsA18HzpiVsDbxXbSITnyahjqRMY5jUM2cgGcw4VdMvMyoShiyEstSyxyGCRoMNTPD4JkADjExh1JwJEgAgQASLAJwESYHwCE0b33DpkxbWQ9w73xjTfaXC2cEbzas1LnCK7mnk5PKdOGq+t75m+XP2vf83/5XUI9StHBFiNLrdQN65Gl6ALbP/36T/YXbDDug7r0EOrRzmi8nemSgLs79xXWhURIAJEgAiIDgESYCKwF8yCu/XR1hjZbCSmtpnKd0YHHh7AtrvbuC/H8lKsVnXJ2sGHB7H17lYEDArg6T0OE5BGx40wsdVEjG/J6mdT+9sI5Ir83Np5glwf++wefnSYM5BRlFYUZGiKVQwCJMCKAY2GEAEiQASIABHggwAJMD5gCbMrq0vWRaMLFrdbzPc0C28uRMD7AHjbevM9Nr8Bua537j3d0VC5YZExb7y9gUnek8jBrkhS5bdDbpHtqa2nYkyLMTwvhF0vZKeprE6dkrQSd8W2nmK9vPHsjw89PXuiRuUaOGBeMgMZnpOijoUSIAFGHxAiQASIABEgAsIlQAJMuHx5js6MLxqpNMJG4408j8ntyK5vMSORg10P8j02vwG5piDbTbZzhXGLarl1otgJnEwlmaK608/LKQFWZqCGXA3s7bKXpxWkZ6Zj5vWZuBZ5jRNfCWkJnNPoXN25eSUObr+7jXFXxwns/SJPiVEnEmD0GSACRIAIEAEiUIYESICVIfyfpx58YTBkK8liv/l+vjJiJwhGLkboptmtWKdn+U2Wayk/T28eZ0dfVBtyYQhn0HDM4lhRXenn5ZjAqoBVOPvqLGe0Ukm8UpEr2RyymbtayATXoCaDwD5XS24tgd87PwxtOhRjmo/B2Ctj8Tn5M7z6ekFKQqrImNRB+AToBEz4jGkGIkAEiAARqNgESICJyP6zK3yfkj7B1cqVr4xyxdIc3TkY0nQIX2ML6sxEnb6zPk+29ikZKWh3vB039wwd3uuGCSRRClKqBHKvpvJi9vIi7gWYMUvfhn2xtN3SvDzZlcR1d9bB5XmOw6a4mDhX7sCsrlmproUmK5gACTD6dBABIkAEiAAREC4BEmDC5ctzdPaOKzgqGJdsLvE8hnW8G30Xwy4Ow26z3eig3oGvsYV1ZtfN6ijUwXbT7YXGDIoKwshLI7HTdCeM6xgLbH4KJHoEYpJjYOJqwgntEc1GFJrg/3z+B/bZYCdb+Rlr+L/3R0h0CPRr6UO3pq7oLbYCZ0QCrAJvPi2dCBABIkAESoUACbBSwVz0JMzm2+OFBwLtAovu/FMPNmbp7aW4YH2BE0yCapO9JyMqMQone54sNOS+B/uw6/4uzrKeHOwERV904zBhriKjUuh7w7D4MFh5WnGOmJNaTRLdxVBm+RIgAUYfDCJABIgAESACwiVAAky4fHmOvvfBXk7I3B18l686S5uDN8PpqRPu2N2BhLgEz/MV1XFt4FqceXUGtwfe5owTCmrjrozDp+RP8OjpUVRI+vlfQIAXy3hWlPtk6ElctrkMVVnVv2DVFWsJJMAq1n7TaokAESACRKD0CZAAK33m+c7o8swFqwNX45rtNb6+tE7xmYK3397iVK9TAl2J42NHbAjegJsDbhZ4spWRlQHD44awqm+FRQaLBDo/BRNNArlFk1cbrUbP+j3/SJLVhOvs1pkrqcD6UCt/BEiAlb89o4yJABEgAkSgfBEgASYi++X1xgtzbsyBZy9P1Feqz3NWzL5eW0kbW0y28DyGl46+kb5g4o45G7as1jLfIY9jHmPA+QFY33E9utfrzktY6lPOCWRlZ8HCwwLq8uo40PXPul0Ojx2wMXgjTlieQNOqTcv5aitm+iTAKua+06qJABEgAkSg9AiQACs91oXOdPv9bbDrfA7dHNCmRhueskrPSofeMT0MbzYc/2vzP57G8NqJnap19+jOOdjZNLTJd1jul22ffj6oJleN19DUr5wTyL0u+/u7w9TMVHR37w5NRU2uKDe18kmABFj53DfKmggQASJABMoPARJgIrJXjz8/xoBzA7DNZBtM65rylNWb+Dfo6dmTu+qV33UwnoIU0ImddBg4G8C6gTVYPbD8GjPqCP8ajrN9zpZkKhpbzghEJ0Zz4ry3dm8sabckL/vca7QHzA9w7obUyicBEmDlc98oayJABIgAESg/BEiAiche5Z44rWi/An0a9OEpK58IH/zv2v/AS10mngL+1snuvB1kKsnk63jH6jl1cOkAc01zLGu/rDjhaUw5JsCKMru/cIebpRu0lbWRnpmOHqd6oIZcDTh2dyzUuKUcgvxcsAAAIABJREFUL7tCpE4CrEJsMy2SCBABIkAEypAACbAyhP/z1AlpCVxB45k6M7krhby0gw8PYuvdrfAf6A95KXlehvDVh9nbX4u4huv9r//xhfrp56ewPWeLdR3WoYdWD77iUufyT+Bz8mdYn7HmLOnZdcMDDw/A8Ykj9nXeh/Zq7cv/AivwCkiAVeDNp6UTASJABIhAqRAgAVYqmIueJDs7G22OtuHrPdeim4vACtp623oXPUExehx/dhzMUvyKzRXUrFzzlwi5LolXba6iRuUaxYhOQ8o7AfZucYr3FGRmZ3L/9W/Un9wwy/umAuyPLSEA2v4FS6ElEAEiQASIABEQSQIkwERoW4xPGMOsrtkv72oKS8/ugh1kJWTzdaMTxLIexTzCwPMDscl4E3fV8Oc21WcqXn55yRWAplZxCbC3i5fCLqG+Yn1YalkKtBZdxaVatisnAVa2/Gl2IkAEiAAR+PsJkAAToT1mhhrMUn5zp81FZsVOzAxdDGFRz0Jopw5pmWmcEcfgJoMxo+2MvJzYv7P3XxZaFpxLIjUiQAT+HgIkwP6evaSVEAEiQASIgGgSIAEmQvsy1GsopMSleDrRikmOgYmrCedQaNfETmirYEYclcQrwaG7Q94cN9/dxISrE7DLbBc6qncU2twUmAgQgdInQAKs9JnTjESACBABIlCxCJAAE6H9Zu9pPiR+wMmeJ4vMKigqCCMvjcS+LvvQvrbwTA82BW+C01Mn3BxwE3KSclxeK/xX4Nzrc/Ab4AdpCekic6UORIAIlB8CJMDKz15RpkSACBABIlA+CZAAE6F9W3hzIQI/BOJqv6tFZuX63BUrA1bma5BR5GA+OrB8Rl8ejR2mO9CpTiekZKTA1M0URmpGWN9xPR+RqCsRIALlgQAJsPKwS5QjESACRIAIlGcCJMBEaPc2h2zGsSfHEDI4pMg6SvZ37Lk6TAGDAiAuJi60VbD3XkYuRtxbM1bvi518zfebj/3m+2FQy0Bo81JgIkAEyoYACbCy4U6zEgEiQASIQMUhQAJMhPb66JOjWB+0nrvupyitWGhmYy6Pwde0rzhheULoK2B298zp7rz1eYy4OAKS4pLw6OUhVOEn9EXRBESACORLgAQYfTCIABEgAkSACAiXAAkw4fLlK7rXGy/MuTEHp3qegraydoFjmQMiO5XqotGFO5USdnsd/xq9PXtzovBL6hcy3xA2cIpPBMqQAAmwMoRPUxMBIkAEiECFIEACTIS2OddY498u/6Jd7XYFZvb221t09+iOxQaLYdvItlRWcDHsIvbe3wu7pnbo17BfqcxJkxABIlD6BEiAlT5zmpEIEAEiQAQqFgESYCK032HxYbDytMIaozWwqm9VYGaXwy5j5vWZcOnhgn9U/xGhFVAqRIAIlHcCJMDK+w5S/kSACBABIiDqBEiAidAOJaYncoWPZ+jMwIhmIwrMbHPwZhx9ehSBgwIhJSElQiugVIgAESjvBEiAlfcdpPyJABEgAkRA1AmQABOxHdJz0oNNQxvM0Z1TYGb9z/WHjITML8WRRWwZlA4RIALllAAJsHK6cZQ2ESACRIAIlBsCJMBEbKssPCzQrGozrDfOv8ZWfGo8Orh0wISWEzCh1QQRy57SIQJEoLwTIAFW3neQ8icCRIAIEAFRJ1DWAkwFAPNR1wQQBoA5SsT9Bq0VgD0AqgDIBLD6+5hC2ero6GQHBweLOv8/8hvmNYz7N4fuDvnm7h3ujWm+0+DQzQFtarQpd+ujhIkAERBtAiTARHt/KDsiQASIABEo/wTKWoCxY55YAOsAzAOgDGDub1gbAsgG8P/27gXY1rIgA/ArRnjB8J6eksxMB2+jo+FkDUGiphkdG0u8HLMytYuRQSgymZOjlTZJhh5xyjS19AwqJyimMDNFhdAEQxs0MhqLNCzLSjKU5rN/03a7Nxxe9t7rsp81c4ZzOOv91/c/31pn1rv/b33r40l2JflgkiOSfPb6+Be1gJ16/qm58MoL844ffMe6p/fiC16c/Zfvz3uPf28OvvnBi/8MdAYECMyVgAI2V9NhMAQIECCwhAKzLmCXJTk6yZVJ7prkXUnufQPOlyR5/FTINrzrohawvZfszd6L9+aip1yUQ25+yFed33FnHZddh+7Kq4999RI+HZ0SAQKzFlDAZj0DHp8AAQIEll1g1gVsXMW67YQ8xjKWH678eT37I8fqvCRj7/UvLeMVsLMvPzvPP//52b97f+5x2D2+4hQ/9Z+fyrFnHpsTH3xinna/py37c9P5ESAwAwEFbAboHpIAAQIEdpTAdhSwsZbuLuuonjqVqdWFaxSwsQxxvdvKFbLxIakLNrjPM5KMXzn88MMffMUVVyzcZF786Yuz59w9eeXDX5mjvvGorxj/vsv25UUXvChvPe6tudftxspMNwIECGyugAK2uZ6ORoAAAQIE1gpsRwG7PvUDXYI4NuAYyxNfkuTMA5nGRV2CeNXnr8ox+47J8458Xp58xJO/4lSfed4z88nPfTLnPO6c3Oxms566A5kF9yFAYNEEFLBFmzHjJUCAAIFFE5j1u/iXJfnMqk04xq6Ia78Aa3zT8LlJzk5y2oECL2oBu/baa7/8Zcy777k7pzz0lOtOd2w/f/Rbjs6e++758hc1uxEgQGArBBSwrVB1TAIECBAg8P8Csy5gd0iyb6wYTDLWC45t6MeuiA9J8qwkT0/ylCS/k+QjqyZufADq4uubyEUtYOOcnnruUzOK2Bse84brTnHls2Fvesyb8oA7PcBzmAABAlsioIBtCauDEiBAgACB6wRmXcC2bCoWuYC99KKXZnze6/1Pen8OPuj/tpo/4Z0n5NLPXJrzHn9eDrrZQVvm5sAECOxsAQVsZ8+/sydAgACBrRdQwLbe+EY/wrmfODcnv/vk7HvsvhxxhyMyPhf2yDMfmSfc+wl57pFrvybtRh9egAABAhsKKGCeHAQIECBAYGsFFLCt9a2OPjbaePTbHp2Tv+3k7LnPnpz+odNzxofPyNm7z87dD7t7dUwhAgQIHIiAAnYgSu5DgAABAgR6AQWst9vS5PHnHJ+rr7k6rzr2Vdm9f3cetuthOe2YA96DZEvH5uAECCyvgAK2vHPrzAgQIEBgPgQUsPmYh68axds//va84H0vyGGHHJYvfPELOev7z8quQ3fN6WgNiwCBZRFQwJZlJp0HAQIECMyrgAI2pzNzzZeuyd5L9ubCKy/MSQ85KQ+88wPndKSGRYDAMgkoYMs0m86FAAECBOZRQAGbx1kxJgIECMxIQAGbEbyHJUCAAIEdI6CA7ZipdqIECBC4YQEF7IaN3IMAAQIECNwUAQXspujJEiBAYMkEFLAlm1CnQ4AAAQJzJ6CAzd2UGBABAgRmJ6CAzc7eIxMgQIDAzhBQwHbGPDtLAgQIHJCAAnZATO5EgAABAgRqAQWsphMkQIDA8gkoYMs3p86IAAECBOZLQAGbr/kwGgIECMxUQAGbKb8HJ0CAAIEdIKCA7YBJdooECBA4UAEF7ECl3I8AAQIECHQCCljnJkWAAIGlFFDAlnJanRQBAgQIzJHA0hawJJ9LctkcWW80lDsmuco4N02A56ZRfvlAPHee5zcludPmnrajESBAgAABAisCy1zAPpDkIQsw1ca5uZPEk+fmCmzu0Rbl+bm5Z+1oBAgQIECAwHUCCtjsnwyL8obMODf3ucKT5+YKOBoBAgQIECCwEAIK2OynyRvxzZ0Dnjw3V2Bzj7Yoz8/NPWtHI0CAAAECBHbEFbBnJHnNAsy1cW7uJPHkubkCm3u0RXl+bu5ZOxoBAgQIECCwIwqYaSZAgAABAgQIECBAgMBcCSzzEsS5gjYYAgQIECBAgAABAgQILGsB+54kv5Hk5kl+K8mvzMlU/920Pf4Xk1wz7dJ4+yRvSXL3JOPvfyjJv85gvK9N8tgkn05yv+nxNxrbeN4M38ck+a8kT0vyl9sw5vXG+MIkP57kn6fHf36SP5p+f0qSH0syvH8myR9vwxjHQ9wtye8m+fok105LYYfXvHluNM55M71FkncnOSTJ1yQ5M8kvJvnmJG9OcockH0yyJ8kXpvsN/wcn+UySJ0yvra2e/o3G+bok35Xk36YBjNfLxUlm9TraagfHJ0CAAAECBK5HYBkL2ChdH0vyiCSfTHJRkicm+egcPBNGwRpb46/+3q+XJvmXqSQ+L8ntkjx3BmM9Ksl/TMVhpYBtNLZRvJ49FbCHTmVs/Herb+uNcZSFMe5fW/Pg90ny+0mOTLIryTuS3GsqY1s9zrsmGb9GKb3NVA52T0V1vbmeledG4xw/BJgn0/Hv1K2nMR2c5PwkJyT5uSRvm0rYq5NckmRvkp9M8oAkz0pyfJLHTSVsq+d9o3GOcZwzFcfVY5jVvG+1g+MTIECAAAECO6yAfXuS8ab8UdN5j6sg4/bLc/BMWK+AjS+LPjrJldOb9nclufeMxjquwo03iisFbKOxnZFkjHMUnHFbfb+tHvraMW5UwNbO+7j6Ne77/q0e4DrH35/k9OnXenM9S8/Vw10Z53dsUMDmwfRWUwH7iSR/mOQu09Xk1a/71XM9rpj90/TFwuNq5HbdVo9zjHW9AjYv875dJh6HAAECBAgQmJbALBvE45OMJYhPn05sLEsaV2d+eg5O9BPT8sLxRnC8+Rq7NH42yW2nsY2foI/lhyt/3u4hry03G41tvJkcyzrHlYhx+9Ppqt3YYnurb+sVsLGk69+TjMc/cTIcheeCJG+cBvTbSc5d5yrEdox3LJ8bpfbvN5jrWXqunP9wXRnnuLI0b6bjyvZYZnjPJK9M8rJpfsefx20spxzzO5wvnf4NGFfAx+3y6d+A1Veet2re145zXM0eSxBHQfzv6bUyrnSP38/DvG+Vg+MSIECAAAECGwgs4xLEeS5g35DkH5LcOcl50zK+P1hTuEYBG8sQZ3G7vgI2xrMytlm+cVw7xvE5q/HGepTaF01XEX90uto06wJ2aJI/T/Liaanc6kI7L55jHGvHOc+m44cTb0/yC1OxmbcCtvK6XRnnWKo7Poc2rsJ97fRDl1EIf0kBm8U/cR6TAAECBAjMXmAZC9g8L0FcPeMrS+fGBhKWIB74a2FtAVudXP13s14uNz6rNIrqWA7369Mg53FJ53rjnFfTlXG9IMnnp6uu87oEcYx1jHNsUrP684njtX7StOGNJYgH/rp3TwIECBAgsDQCy1jAxmc+xiYcD5+uNo1NOJ6U5CMznrWxicBB0y6I4/fjCtj4KfgY5/gJ+VjSN5YmjZ3yTp7RWNeWm7HMa72xfe+0pHNsIjCWd75i2uxiO4a9doxjI4nx+blxe840nrHxwn2T/N6qTTjGMslv3aZNOMbr6vXT5io/uwpl3jw3Gue8md4pyf9My3VvmeRPkvxqkh9O8tZVm3B8OMmrkvxUkvuv2oTjB6bdRbf6+bnROMfSyfEcHd4vT3L19Fqf5etoqy0cnwABAgQIENhAYBkL2DjVUQxOm7ahH1uXjyVgs77dY1o6NcYxSuIoB2NcYwvtfUkOT3LF9EZx7JS33bexocb46fwdk3xq2ub7rA3GNp434zNW47N24yf8PzJ9/mqrx7zeGMeYHzgtQRybnDxzVSE7NclYjji2/B9FaHxGaDtu35nkPUn+KsmXpgcc2+NfOGeeG41z7Bo6T6ZjR8NRaMfnq8YPMcbrZfzwYrymxjb044cWH0rylOmzVWM7+DckedBUgkch/9ttmPiNxvnOaROQ8boZ28+PXRHHLpOzeh1tA4WHIECAAAECBDYSWNYCZsYJECBAgAABAgQIECAwdwIK2NxNiQERIECAAAECBAgQILCsAgrYss6s8yJAgAABAgQIECBAYO4EFLC5mxIDIkCAAAECBAgQIEBgWQUUsGWdWedFgAABAgQIECBAgMDcCShgczclBkSAAAECBAgQIECAwLIKKGDLOrPOazsF3pfkYTfiAVd/Ge+NiLkrAQIECBAgQIDAogsoYIs+g8a/iAIK2CLOmjETIECAAAECBDZBQAHbBESH2PEC40t1D52+yPqFSa5Kcr8kH5y+HPja6Uurx5eDjy+uPn/6EuHHJrl1kt+c7n9wkpHfn+Q5Se4/fZH0+O/4Euojp/yOBwdAgAABAgQIEFhUAQVsUWfOuOdJYHUBG+Xpvkn+Mcl7k/x8kg8k+XiS707yN0nekuRWSUYBe0mSjyZ5Y5LbJvmLJA9K8vkk70ry8iSnJjlhOt48nbexECBAgAABAgQI3EgBBexGgrk7gXUEVhewUZYeMd1n71SaLk3yiiRHTf//uCTPmArYKGe3SHLN9He3T/KoJH89XSX7cJIzkpxIngABAgQIECBAYPEFFLDFn0NnMHuB1QXspKlYjVGdPl39uvh6CthYpvikJJetcxqjiL0+yZ8leeLsT9MICBAgQIAAAQIEbqqAAnZTBeUJJDdUwN6c5GNJjkly+fR5rtusWoL4dUmenWR8VmwsP/xQksOm5YjfNxW51yQ5EzYBAgQIECBAgMBiCyhgiz1/Rj8fAjdUwF63ZhOO9yT5lqmA3TLJ2JxjbGN/UJJPTP//tUlWrpzdbboKNu7z6fk4ZaMgQIAAAQIECBBoBBSwRk2GAAECBAgQIECAAAEChYACVqCJECBAgAABAgQIECBAoBFQwBo1GQIECBAgQIAAAQIECBQCCliBJkKAAAECBAgQIECAAIFGQAFr1GQIECBAgAABAgQIECBQCChgBZoIAQIECBAgQIAAAQIEGgEFrFGTIUCAAAECBAgQIECAQCGggBVoIgQIECBAgAABAgQIEGgEFLBGTYYAAQIECBAgQIAAAQKFgAJWoIkQIECAAAECBAgQIECgEVDAGjUZAgQIECBAgAABAgQIFAIKWIEmQoAAAQIECBAgQIAAgUZAAWvUZAgQIECAAAECBAgQIFAIKGAFmggBAgQIECBAgAABAgQaAQWsUZMhQIAAAQIECBAgQIBAIaCAFWgiBAgQIECAAAECBAgQaAQUsEZNhgABAgQIECBAgAABAoWAAlagiRAgQIAAAQIECBAgQKARUMAaNRkCBAgQIECAAAECBAgUAgpYgSZCgAABAgQIECBAgACBRkABa9RkCBAgQIAAAQIECBAgUAgoYAWaCAECBAgQIECAAAECBBoBBaxRkyFAgAABAgQIECBAgEAhoIAVaCIECBAgQIAAAQIECBBoBBSwRk2GAAECBAgQIECAAAEChYACVqCJECBAgAABAgQIECBAoBFQwBo1GQIECBAgQIAAAQIECBQCCliBJkKAAAECBAgQIECAAIFGQAFr1GQIECBAgAABAgQIECBQCChgBZoIAQIECBAgQIAAAQIEGgEFrFGTIUCAAAECBAgQIECAQCGggBVoIgQIECBAgAABAgQIEGgEFLBGTYYAAQIECBAgQIAAAQKFgAJWoIkQIECAAAECBAgQIECgEVDAGjUZAgQIECBAgAABAgQIFAIKWIEmQoAAAQIECBAgQIAAgUZAAWvUZAgQIECAAAECBAgQIFAIKGAFmggBAgQIECBAgAABAgQaAQWsUZMhQIAAAQIECBAgQIBAIaCAFWgiBAgQIECAAAECBAgQaAQUsEZNhgABAgQIECBAgAABAoWAAlagiRAgQIAAAQIECBAgQKARUMAaNRkCBAgQIECAAAECBAgUAgpYgSZCgAABAgQIECBAgACBRkABa9RkCBAgQIAAAQIECBAgUAgoYAWaCAECBAgQIECAAAECBBoBBaxRkyFAgAABAgQIECBAgEAhoIAVaCIECBAgQIAAAQIECBBoBBSwRk2GAAECBAgQIECAAAEChYACVqCJECBAgAABAgQIECBAoBFQwBo1GQIECBAgQIAAAQIECBQCCliBJkKAAAECBAgQIECAAIFGQAFr1GQIECBAgAABAgQIECBQCChgBZoIAQIECBAgQIAAAQIEGgEFrFGTIUCAAAECBAgQIECAQCGggBVoIgQIECBAgAABAgQIEGgEFLBGTYYAAQIECBAgQIAAAQKFgAJWoIkQIECAAAECBAgQIECgEVDAGjUZAgQIECBAgAABAgQIFAIKWIEmQoAAAQIECBAgQIAAgUZAAWvUZAgQIECAAAECBAgQIFAIKGAFmggBAgQIECBAgAABAgQaAQWsUZMhQIAAAQIECBAgQIBAIaCAFWgiBAgQIECAAAECBAgQaAQUsEZNhgABAgQIECBAgAABAoWAAlagiRAgQIAAAQIECBAgQKARUMAaNRkCBAgQIECAAAECBAgUAgpYgSZCgAABAgQIECBAgACBRkABa9RkCBAgQIAAAQIECBAgUAgoYAWaCAECBAgQIECAAAECBBoBBaxRkyFAgAABAgQIECBAgEAhoIAVaCIECBAgQIAAAQIECBBoBBSwRk2GAAECBAgQIECAAAEChYACVqCJECBAgAABAgQIECBAoBFQwBo1GQIECBAgQIAAAQIECBQCCliBJkKAAAECBAgQIECAAIFGQAFr1GQIECBAgAABAgQIECBQCChgBZoIAQIECBAgQIAAAQIEGgEFrFGTIUCAAAECBAgQIECAQCGggBVoIgQIECBAgAABAgQIEGgEFLBGTYYAAQIECBAgQIAAAQKFgAJWoIkQIECAAAECBAgQIECgEVDAGjUZAgQIECBAgAABAgQIFAIKWIEmQoAAAQIECBAgQIAAgUZAAWvUZAgQIECAAAECBAgQIFAIKGAFmggBAgQIECBAgAABAgQaAQWsUZMhQIAAAQIECBAgQIBAIaCAFWgiBAgQIECAAAECBAgQaAQUsEZNhgABAgQIECBAgAABAoWAAlagiRAgQIAAAQIECBAgQKARUMAaNRkCBAgQIECAAAECBAgUAgpYgSZCgAABAgQIECBAgACBRkABa9RkCBAgQIAAAQIECBAgUAgoYAWaCAECBAgQIECAAAECBBoBBaxRkyFAgAABAgQIECBAgEAhoIAVaCIECBAgQIAAAQIECBBoBBSwRk2GAAECBAgQIECAAAEChYACVqCJECBAgAABAgQIECBAoBFQwBo1GQIECBAgQIAAAQIECBQCCliBJkKAAAECBAgQIECAAIFGQAFr1GQIECBAgAABAgQIECBQCChgBZoIAQIECBAgQIAAAQIEGgEFrFGTIUCAAAECBAgQIECAQCGggBVoIgQIECBAgAABAgQIEGgEFLBGTYYAAQIECBAgQIAAAQKFgAJWoIkQIECAAAECBAgQIECgEVDAGjUZAgQIECBAgAABAgQIFAIKWIEmQoAAAQIECBAgQIAAgUZAAWvUZAgQIECAAAECBAgQIFAIKGAFmggBAgQIECBAgAABAgQaAQWsUZMhQIAAAQIECBAgQIBAIaCAFWgiBAgQIECAAAECBAgQaAQUsEZNhgABAgQIECBAgAABAoWAAlagiRAgQIAAAQIECBAgQKARUMAaNRkCBAgQIECAAAECBAgUAgpYgSZCgAABAgQIECBAgACBRkABa9RkCBAgQIAAAQIECBAgUAgoYAWaCAECBAgQIECAAAECBBoBBaxRkyFAgAABAgQIECBAgEAhoIAVaCIECBAgQIAAAQIECBBoBBSwRk2GAAECBAgQIECAAAEChYACVqCJECBAgAABAgQIECBAoBFQwBo1GQIECBAgQIAAAQIECBQCCliBJkKAAAECBAgQIECAAIFGQAFr1GQIECBAgAABAgQIECBQCChgBZoIAQIECBAgQIAAAQIEGgEFrFGTIUCAAAECBAgQIECAQCGggBVoIgQIECBAgAABAgQIEGgEFLBGTYYAAQIECBAgQIAAAQKFgAJWoIkQIECAAAECBAgQIECgEVDAGjUZAgQIECBAgAABAgQIFAIKWIEmQoAAAQIECBAgQIAAgUZAAWvUZAgQIECAAAECBAgQIFAIKGAFmggBAgQIECBAgAABAgQaAQWsUZMhQIAAAQIECBAgQIBAIaCAFWgiBAgQIECAAAECBAgQaAQUsEZNhgABAgQIECBAgAABAoWAAlagiRAgQIAAAQIECBAgQKARUMAaNRkCBAgQIECAAAECBAgUAgpYgSZCgAABAgQIECBAgACBRkABa9RkCBAgQIAAAQIECBAgUAgoYAWaCAECBAgQIECAAAECBBoBBaxRkyFAgAABAgQIECBAgEAhoIAVaCIECBAgQIAAAQIECBBoBBSwRk2GAAECBAgQIECAAAEChYACVqCJECBAgAABAgQIECBAoBFQwBo1GQIECBAgQIAAAQIECBQCCliBJkKAAAECBAgQIECAAIFGQAFr1GQIECBAgAABAgQIECBQCChgBZoIAQIECBAgQIAAAQIEGgEFrFGTIUCAAAECBAgQIECAQCGggBVoIgQIECBAgAABAgQIEGgEFLBGTYYAAQIECBAgQIAAAQKFgAJWoIkQIECAAAECBAgQIECgEVDAGjUZAgQIECBAgAABAgQIFAIKWIEmQoAAAQIECBAgQIAAgUZAAWvUZAgQIECAAAECBAgQIFAIKGAFmggBAgQIECBAgAABAgQaAQWsUZMhQIAAAQIECBAgQIBAIaCAFWgiBAgQIECAAAECBAgQaAQUsEZNhgABAgQIECBAgAABAoWAAlagiRAgQIAAAQIECBAgQKARUMAaNRkCBAgQIECAAAECBAgUAgpYgSZCgAABAgQIECBAgACBRkABa9RkCBAgQIAAAQIECBAgUAgoYAWaCAECBAgQIECAAAECBBoBBaxRkyFAgAABAgQIECBAgEAhoIAVaCIECBAgQIAAAQIECBBoBBSwRk2GAAECBAgQIECAAAEChYACVqCJECBAgAABAgQIECBAoBFQwBo1GQIECBAgQIAAAQIECBQCCliBJkKAAAECBAgQIECAAIFGQAFr1GQIECBAgAABAgQIECBQCChgBZoIAQIECBAgQIAAAQIEGgEFrFGTIUCAAAHyRLNQAAAIyklEQVQCBAgQIECAQCGggBVoIgQIECBAgAABAgQIEGgEFLBGTYYAAQIECBAgQIAAAQKFgAJWoIkQIECAAAECBAgQIECgEVDAGjUZAgQIECBAgAABAgQIFAIKWIEmQoAAAQIECBAgQIAAgUZAAWvUZAgQIECAAAECBAgQIFAIKGAFmggBAgQIECBAgAABAgQaAQWsUZMhQIAAAQIECBAgQIBAIaCAFWgiBAgQIECAAAECBAgQaAQUsEZNhgABAgQIECBAgAABAoWAAlagiRAgQIAAAQIECBAgQKARUMAaNRkCBAgQIECAAAECBAgUAgpYgSZCgAABAgQIECBAgACBRkABa9RkCBAgQIAAAQIECBAgUAgoYAWaCAECBAgQIECAAAECBBoBBaxRkyFAgAABAgQIECBAgEAhoIAVaCIECBAgQIAAAQIECBBoBBSwRk2GAAECBAgQIECAAAEChYACVqCJECBAgAABAgQIECBAoBFQwBo1GQIECBAgQIAAAQIECBQCCliBJkKAAAECBAgQIECAAIFGQAFr1GQIECBAgAABAgQIECBQCChgBZoIAQIECBAgQIAAAQIEGgEFrFGTIUCAAAECBAgQIECAQCGggBVoIgQIECBAgAABAgQIEGgEFLBGTYYAAQIECBAgQIAAAQKFgAJWoIkQIECAAAECBAgQIECgEVDAGjUZAgQIECBAgAABAgQIFAIKWIEmQoAAAQIECBAgQIAAgUZAAWvUZAgQIECAAAECBAgQIFAIKGAFmggBAgQIECBAgAABAgQaAQWsUZMhQIAAAQIECBAgQIBAIaCAFWgiBAgQIECAAAECBAgQaAQUsEZNhgABAgQIECBAgAABAoWAAlagiRAgQIAAAQIECBAgQKARUMAaNRkCBAgQIECAAAECBAgUAgpYgSZCgAABAgQIECBAgACBRkABa9RkCBAgQIAAAQIECBAgUAgoYAWaCAECBAgQIECAAAECBBoBBaxRkyFAgAABAgQIECBAgEAhoIAVaCIECBAgQIAAAQIECBBoBBSwRk2GAAECBAgQIECAAAEChYACVqCJECBAgAABAgQIECBAoBFQwBo1GQIECBAgQIAAAQIECBQCCliBJkKAAAECBAgQIECAAIFGQAFr1GQIECBAgAABAgQIECBQCChgBZoIAQIECBAgQIAAAQIEGgEFrFGTIUCAAAECBAgQIECAQCGggBVoIgQIECBAgAABAgQIEGgEFLBGTYYAAQIECBAgQIAAAQKFgAJWoIkQIECAAAECBAgQIECgEVDAGjUZAgQIECBAgAABAgQIFAIKWIEmQoAAAQIECBAgQIAAgUZAAWvUZAgQIECAAAECBAgQIFAIKGAFmggBAgQIECBAgAABAgQaAQWsUZMhQIAAAQIECBAgQIBAIaCAFWgiBAgQIECAAAECBAgQaAQUsEZNhgABAgQIECBAgAABAoWAAlagiRAgQIAAAQIECBAgQKARUMAaNRkCBAgQIECAAAECBAgUAgpYgSZCgAABAgQIECBAgACBRkABa9RkCBAgQIAAAQIECBAgUAgoYAWaCAECBAgQIECAAAECBBoBBaxRkyFAgAABAgQIECBAgEAhoIAVaCIECBAgQIAAAQIECBBoBBSwRk2GAAECBAgQIECAAAEChYACVqCJECBAgAABAgQIECBAoBFQwBo1GQIECBAgQIAAAQIECBQCCliBJkKAAAECBAgQIECAAIFGQAFr1GQIECBAgAABAgQIECBQCChgBZoIAQIECBAgQIAAAQIEGgEFrFGTIUCAAAECBAgQIECAQCGggBVoIgQIECBAgAABAgQIEGgEFLBGTYYAAQIECBAgQIAAAQKFgAJWoIkQIECAAAECBAgQIECgEVDAGjUZAgQIECBAgAABAgQIFAIKWIEmQoAAAQIECBAgQIAAgUZAAWvUZAgQIECAAAECBAgQIFAIKGAFmggBAgQIECBAgAABAgQaAQWsUZMhQIAAAQIECBAgQIBAIaCAFWgiBAgQIECAAAECBAgQaAQUsEZNhgABAgQIECBAgAABAoWAAlagiRAgQIAAAQIECBAgQKARUMAaNRkCBAgQIECAAAECBAgUAgpYgSZCgAABAgQIECBAgACBRkABa9RkCBAgQIAAAQIECBAgUAgoYAWaCAECBAgQIECAAAECBBoBBaxRkyFAgAABAgQIECBAgEAhoIAVaCIECBAgQIAAAQIECBBoBBSwRk2GAAECBAgQIECAAAEChYACVqCJECBAgAABAgQIECBAoBFQwBo1GQIECBAgQIAAAQIECBQCCliBJkKAAAECBAgQIECAAIFGQAFr1GQIECBAgAABAgQIECBQCChgBZoIAQIECBAgQIAAAQIEGgEFrFGTIUCAAAECBAgQIECAQCGggBVoIgQIECBAgAABAgQIEGgEFLBGTYYAAQIECBAgQIAAAQKFgAJWoIkQIECAAAECBAgQIECgEVDAGjUZAgQIECBAgAABAgQIFAIKWIEmQoAAAQIECBAgQIAAgUZAAWvUZAgQIECAAAECBAgQIFAIKGAFmggBAgQIECBAgAABAgQaAQWsUZMhQIAAAQIECBAgQIBAIaCAFWgiBAgQIECAAAECBAgQaAQUsEZNhgABAgQIECBAgAABAoWAAlagiRAgQIAAAQIECBAgQKARUMAaNRkCBAgQIECAAAECBAgUAgpYgSZCgAABAgQIECBAgACBRkABa9RkCBAgQIAAAQIECBAgUAgoYAWaCAECBAgQIECAAAECBBoBBaxRkyFAgAABAgQIECBAgEAhoIAVaCIECBAgQIAAAQIECBBoBBSwRk2GAAECBAgQIECAAAEChYACVqCJECBAgAABAgQIECBAoBFQwBo1GQIECBAgQIAAAQIECBQCCliBJkKAAAECBAgQIECAAIFGQAFr1GQIECBAgAABAgQIECBQCChgBZoIAQIECBAgQIAAAQIEGgEFrFGTIUCAAAECBAgQIECAQCHwvw2E7uOM0Pd9AAAAAElFTkSuQmCC\" width=\"432\">"
      ],
      "text/plain": [
       "<IPython.core.display.HTML object>"
      ]
     },
     "metadata": {},
     "output_type": "display_data"
    },
    {
     "name": "stdout",
     "output_type": "stream",
     "text": [
      "Epoch 1/1000\n",
      "1000/1000 [==============================] - 37s 37ms/step - loss: 0.0206\n",
      "Epoch 2/1000\n",
      "1000/1000 [==============================] - 32s 32ms/step - loss: 0.0192\n",
      "Epoch 3/1000\n",
      "1000/1000 [==============================] - 32s 32ms/step - loss: 0.0198\n",
      "Epoch 4/1000\n",
      "1000/1000 [==============================] - 32s 32ms/step - loss: 0.0162\n",
      "Epoch 5/1000\n",
      "1000/1000 [==============================] - 32s 32ms/step - loss: 0.0149\n",
      "Epoch 6/1000\n",
      "1000/1000 [==============================] - 32s 32ms/step - loss: 0.0130\n",
      "Epoch 7/1000\n",
      "1000/1000 [==============================] - 32s 32ms/step - loss: 0.0171\n",
      "Epoch 8/1000\n",
      "1000/1000 [==============================] - 32s 32ms/step - loss: 0.0185\n",
      "Epoch 9/1000\n",
      "1000/1000 [==============================] - 32s 32ms/step - loss: 0.0147\n",
      "Epoch 10/1000\n",
      "1000/1000 [==============================] - 32s 32ms/step - loss: 0.0170\n",
      "Epoch 11/1000\n",
      "1000/1000 [==============================] - 32s 32ms/step - loss: 0.0139\n",
      "Epoch 12/1000\n",
      "1000/1000 [==============================] - 32s 32ms/step - loss: 0.0135\n",
      "Epoch 13/1000\n",
      "1000/1000 [==============================] - 32s 32ms/step - loss: 0.0169\n",
      "Epoch 14/1000\n",
      "1000/1000 [==============================] - 32s 32ms/step - loss: 0.0170\n",
      "Epoch 15/1000\n",
      "1000/1000 [==============================] - 32s 32ms/step - loss: 0.0161\n",
      "Epoch 16/1000\n",
      "1000/1000 [==============================] - 32s 32ms/step - loss: 0.0173\n",
      "Epoch 17/1000\n",
      "1000/1000 [==============================] - 32s 32ms/step - loss: 0.0154\n",
      "Epoch 18/1000\n",
      "1000/1000 [==============================] - 32s 32ms/step - loss: 0.0153\n",
      "Epoch 19/1000\n",
      "1000/1000 [==============================] - 32s 32ms/step - loss: 0.0154\n",
      "Epoch 20/1000\n",
      "1000/1000 [==============================] - 33s 33ms/step - loss: 0.0161\n",
      "Epoch 21/1000\n",
      "1000/1000 [==============================] - 32s 32ms/step - loss: 0.0174\n",
      "Epoch 22/1000\n",
      "1000/1000 [==============================] - 32s 32ms/step - loss: 0.0172\n",
      "Epoch 23/1000\n",
      "1000/1000 [==============================] - 32s 32ms/step - loss: 0.0187\n",
      "Epoch 24/1000\n",
      "1000/1000 [==============================] - 33s 33ms/step - loss: 0.0187\n",
      "Epoch 25/1000\n",
      "1000/1000 [==============================] - 31s 31ms/step - loss: 0.0186\n",
      "Epoch 26/1000\n",
      "1000/1000 [==============================] - 31s 31ms/step - loss: 0.0175\n",
      "Epoch 27/1000\n",
      "1000/1000 [==============================] - 31s 31ms/step - loss: 0.0170\n",
      "Epoch 28/1000\n",
      "1000/1000 [==============================] - 31s 31ms/step - loss: 0.0168\n",
      "Epoch 29/1000\n",
      "1000/1000 [==============================] - 31s 31ms/step - loss: 0.0150\n",
      "Epoch 30/1000\n",
      "1000/1000 [==============================] - 31s 31ms/step - loss: 0.0168\n",
      "Epoch 31/1000\n",
      "1000/1000 [==============================] - 31s 31ms/step - loss: 0.0179\n",
      "Epoch 32/1000\n",
      "1000/1000 [==============================] - 31s 31ms/step - loss: 0.0174\n",
      "Epoch 33/1000\n",
      "1000/1000 [==============================] - 31s 31ms/step - loss: 0.0179\n",
      "Epoch 34/1000\n",
      "1000/1000 [==============================] - 31s 31ms/step - loss: 0.0163\n",
      "Epoch 35/1000\n",
      "1000/1000 [==============================] - 31s 31ms/step - loss: 0.0158\n",
      "Epoch 36/1000\n",
      "1000/1000 [==============================] - 31s 31ms/step - loss: 0.0171\n",
      "Epoch 37/1000\n",
      "1000/1000 [==============================] - 31s 31ms/step - loss: 0.0168\n",
      "Epoch 38/1000\n",
      "1000/1000 [==============================] - 31s 31ms/step - loss: 0.0160\n",
      "Epoch 39/1000\n",
      "1000/1000 [==============================] - 31s 31ms/step - loss: 0.0168\n",
      "Epoch 40/1000\n",
      "1000/1000 [==============================] - 31s 31ms/step - loss: 0.0207\n",
      "Epoch 41/1000\n",
      "1000/1000 [==============================] - 31s 31ms/step - loss: 0.0200\n",
      "Epoch 42/1000\n",
      "1000/1000 [==============================] - 32s 32ms/step - loss: 0.0231\n",
      "Epoch 43/1000\n",
      "1000/1000 [==============================] - 32s 32ms/step - loss: 0.0180\n",
      "Epoch 44/1000\n",
      "1000/1000 [==============================] - 32s 32ms/step - loss: 0.0158\n",
      "Epoch 45/1000\n",
      "1000/1000 [==============================] - 32s 32ms/step - loss: 0.0161\n",
      "Epoch 46/1000\n",
      "1000/1000 [==============================] - 32s 32ms/step - loss: 0.0170\n",
      "Epoch 47/1000\n",
      "1000/1000 [==============================] - 32s 32ms/step - loss: 0.0164\n",
      "Epoch 48/1000\n",
      "1000/1000 [==============================] - 32s 32ms/step - loss: 0.0179\n",
      "Epoch 49/1000\n",
      "1000/1000 [==============================] - 32s 32ms/step - loss: 0.0193\n",
      "Epoch 50/1000\n",
      "1000/1000 [==============================] - 32s 32ms/step - loss: 0.0252\n",
      "Epoch 51/1000\n",
      "1000/1000 [==============================] - 32s 32ms/step - loss: 0.0172\n",
      "Epoch 52/1000\n",
      "1000/1000 [==============================] - 32s 32ms/step - loss: 0.0183\n",
      "Epoch 53/1000\n",
      "1000/1000 [==============================] - 32s 32ms/step - loss: 0.0225\n",
      "Epoch 54/1000\n",
      "1000/1000 [==============================] - 32s 32ms/step - loss: 0.0218\n",
      "Epoch 55/1000\n",
      "1000/1000 [==============================] - 32s 32ms/step - loss: 0.0186\n",
      "Epoch 56/1000\n",
      "1000/1000 [==============================] - 32s 32ms/step - loss: 0.0179\n",
      "Epoch 57/1000\n",
      "1000/1000 [==============================] - 32s 32ms/step - loss: 0.0163\n",
      "Epoch 58/1000\n",
      "1000/1000 [==============================] - 32s 32ms/step - loss: 0.0159\n",
      "Epoch 59/1000\n",
      "1000/1000 [==============================] - 32s 32ms/step - loss: 0.0178\n",
      "Epoch 60/1000\n",
      "1000/1000 [==============================] - 32s 32ms/step - loss: 0.0200\n",
      "Epoch 61/1000\n",
      "1000/1000 [==============================] - 32s 32ms/step - loss: 0.0199\n",
      "Epoch 62/1000\n",
      "1000/1000 [==============================] - 32s 32ms/step - loss: 0.0192\n",
      "Epoch 63/1000\n",
      "1000/1000 [==============================] - 32s 32ms/step - loss: 0.0173\n",
      "Epoch 64/1000\n",
      "1000/1000 [==============================] - 33s 33ms/step - loss: 0.0172\n",
      "Epoch 65/1000\n",
      "1000/1000 [==============================] - 33s 33ms/step - loss: 0.0163\n",
      "Epoch 66/1000\n",
      "1000/1000 [==============================] - 32s 32ms/step - loss: 0.0170\n",
      "Epoch 67/1000\n",
      "1000/1000 [==============================] - 33s 33ms/step - loss: 0.0177\n",
      "Epoch 68/1000\n",
      "1000/1000 [==============================] - 32s 32ms/step - loss: 0.0155\n",
      "Epoch 69/1000\n",
      "1000/1000 [==============================] - 32s 32ms/step - loss: 0.0169\n",
      "Epoch 70/1000\n",
      "1000/1000 [==============================] - 33s 33ms/step - loss: 0.0176\n",
      "Epoch 71/1000\n",
      "1000/1000 [==============================] - 34s 34ms/step - loss: 0.0148\n",
      "Epoch 72/1000\n",
      "1000/1000 [==============================] - 34s 34ms/step - loss: 0.0185\n",
      "Epoch 73/1000\n",
      "1000/1000 [==============================] - 33s 33ms/step - loss: 0.0178\n",
      "Epoch 74/1000\n",
      "1000/1000 [==============================] - 33s 33ms/step - loss: 0.0185\n",
      "Epoch 75/1000\n",
      "1000/1000 [==============================] - 32s 32ms/step - loss: 0.0163\n",
      "Epoch 76/1000\n",
      "1000/1000 [==============================] - 33s 33ms/step - loss: 0.0188\n",
      "Epoch 77/1000\n",
      "1000/1000 [==============================] - 33s 33ms/step - loss: 0.0180\n",
      "Epoch 78/1000\n",
      "1000/1000 [==============================] - 32s 32ms/step - loss: 0.0169\n",
      "Epoch 79/1000\n",
      "1000/1000 [==============================] - 34s 34ms/step - loss: 0.0176\n",
      "Epoch 80/1000\n",
      "1000/1000 [==============================] - 33s 33ms/step - loss: 0.0173\n",
      "Epoch 81/1000\n",
      "1000/1000 [==============================] - 31s 31ms/step - loss: 0.0192\n",
      "Epoch 82/1000\n",
      "1000/1000 [==============================] - 32s 32ms/step - loss: 0.0170\n",
      "Epoch 83/1000\n",
      "1000/1000 [==============================] - 34s 34ms/step - loss: 0.0173\n",
      "Epoch 84/1000\n",
      "1000/1000 [==============================] - 31s 31ms/step - loss: 0.0171\n",
      "Epoch 85/1000\n",
      "1000/1000 [==============================] - 31s 31ms/step - loss: 0.0169\n",
      "Epoch 86/1000\n",
      "1000/1000 [==============================] - 33s 33ms/step - loss: 0.0174\n",
      "Epoch 87/1000\n",
      "1000/1000 [==============================] - 33s 33ms/step - loss: 0.0196\n",
      "Epoch 88/1000\n",
      "1000/1000 [==============================] - 33s 33ms/step - loss: 0.0212\n",
      "Epoch 89/1000\n",
      "1000/1000 [==============================] - 35s 35ms/step - loss: 0.0188\n",
      "Epoch 90/1000\n",
      "1000/1000 [==============================] - 33s 33ms/step - loss: 0.0170\n",
      "Epoch 91/1000\n",
      "1000/1000 [==============================] - 31s 31ms/step - loss: 0.0172\n",
      "Epoch 92/1000\n",
      "1000/1000 [==============================] - 31s 31ms/step - loss: 0.0171\n",
      "Epoch 93/1000\n",
      "1000/1000 [==============================] - 31s 31ms/step - loss: 0.0164\n",
      "Epoch 94/1000\n"
     ]
    },
    {
     "name": "stdout",
     "output_type": "stream",
     "text": [
      "1000/1000 [==============================] - 31s 31ms/step - loss: 0.0168\n",
      "Epoch 95/1000\n",
      "1000/1000 [==============================] - 31s 31ms/step - loss: 0.0172\n",
      "Epoch 96/1000\n",
      "1000/1000 [==============================] - 31s 31ms/step - loss: 0.0152\n",
      "Epoch 97/1000\n",
      " 795/1000 [======================>.......] - ETA: 6s - loss: 0.0205"
     ]
    }
   ],
   "source": [
    "%matplotlib notebook\n",
    "\n",
    "best_params = {\n",
    "    'lr': 0.002,\n",
    "    'n_samples': 1000,\n",
    "    'n_units': 4,\n",
    "    'batch_size': 1,\n",
    "    'epochs': 1000,\n",
    "    'optimizer': keras.optimizers.Adam,\n",
    "}\n",
    "\n",
    "model = load_model('saved_models/02_peak_comp_60_samples_180_params.h5')\n",
    "\n",
    "history, model = train_model(\n",
    "    model,\n",
    "    X_tr_s[:best_params['n_samples']],\n",
    "    y_tr_s[:best_params['n_samples']],\n",
    "    X_te_s[:best_params['n_samples']],\n",
    "    y_te_s[:best_params['n_samples']],\n",
    "    best_params\n",
    ")"
   ]
  },
  {
   "cell_type": "code",
   "execution_count": 74,
   "metadata": {},
   "outputs": [
    {
     "name": "stdout",
     "output_type": "stream",
     "text": [
      "[]\n",
      "====================\n",
      "[array([[-1.9930363 , -1.2088823 , -1.1665124 , -1.140611  , -0.7802299 ,\n",
      "        -1.1415867 ,  0.12047306, -1.9630934 , -1.1389594 , -1.209383  ,\n",
      "        -1.134794  , -1.096016  ,  0.433691  , -0.4553654 ,  0.09966512,\n",
      "         1.0256974 ,  0.41399953,  0.21791226,  0.51552   ,  0.21770333,\n",
      "        -0.61797005,  0.19831754,  0.05508596, -0.42689335, -0.65467656,\n",
      "         0.8000907 , -0.89630324, -0.8627992 , -0.59065855, -1.049858  ,\n",
      "         0.43339992, -0.59059125,  0.7194685 , -0.78309107, -0.82719594,\n",
      "         0.17884956]], dtype=float32), array([[ 1.2203827 ,  0.02094106,  0.6388866 ,  0.2571571 ,  0.8630593 ,\n",
      "         0.34670594, -0.52400476,  1.6844049 ,  0.24042723,  0.69954675,\n",
      "         0.3431363 ,  0.49449903,  0.04901066, -0.12439268, -0.16947392,\n",
      "         0.0691731 ,  0.00745368, -0.27421176, -0.34575865, -0.35508114,\n",
      "         0.10818075, -0.14461496,  0.19733547, -0.20969532,  0.13264662,\n",
      "         0.36339673, -0.06876902, -0.29333365,  0.01228736, -0.33093742,\n",
      "         0.35009074,  0.511501  , -0.02565293, -0.23559405, -0.15311256,\n",
      "        -0.21213901],\n",
      "       [-1.2823387 , -0.36894938, -0.35351187, -0.29919773, -0.76445204,\n",
      "        -0.07457118,  0.62145984, -1.6441705 , -0.2529944 , -0.57748264,\n",
      "        -0.32707664, -0.7417416 ,  0.46717393,  0.07790253,  0.3029871 ,\n",
      "         0.27394244, -0.04964937,  0.01089168,  0.02335642, -0.0254851 ,\n",
      "        -0.20848751,  0.11629874, -0.14447357,  0.32594162, -0.19643672,\n",
      "        -0.38485947, -0.4187229 , -0.18150416, -0.36672175, -0.31115136,\n",
      "         0.04176065, -0.32277635, -0.02635746, -0.3562621 , -0.15943475,\n",
      "         0.05246279],\n",
      "       [ 1.139741  , -0.0880104 ,  0.55339295,  0.3226951 ,  0.44957024,\n",
      "         0.05605312, -0.90424496,  1.6117287 ,  0.32958874,  0.5490758 ,\n",
      "         0.66383773,  0.3593906 , -0.20435213, -0.11827104,  0.08887799,\n",
      "         0.11037087,  0.14517444, -0.04020794, -0.35669452, -0.34169748,\n",
      "         0.52110714, -0.40301603,  0.07124719, -0.27666634,  0.20594828,\n",
      "        -0.2030724 , -0.23061104, -0.33589825,  0.27832037, -0.3462619 ,\n",
      "         0.18235415,  0.5724609 , -0.1514124 , -0.26145935,  0.27679577,\n",
      "         0.18805724],\n",
      "       [ 0.9557838 ,  1.5992783 ,  1.461942  ,  1.5056726 ,  1.3216803 ,\n",
      "         1.9430743 ,  0.54898137,  0.39246902,  1.3340076 ,  1.7919974 ,\n",
      "         1.451014  ,  0.7711065 ,  0.1931277 , -0.07864581, -0.10945366,\n",
      "        -1.2811387 , -0.6636976 , -0.4303653 , -0.6433909 ,  0.0290309 ,\n",
      "         0.09079376, -0.43356982, -0.68782264,  0.59687555,  0.5182033 ,\n",
      "        -0.10212192, -0.10104124,  0.16161722, -0.11818869,  0.29767984,\n",
      "         0.3636579 , -0.28218892, -0.38375792,  0.09555042,  0.22680542,\n",
      "         0.01992126],\n",
      "       [ 1.1934731 ,  0.5155932 ,  0.65892434,  0.42308018,  0.81655574,\n",
      "         0.5835164 , -0.99407536,  2.12767   ,  0.48273516,  0.4923988 ,\n",
      "         0.10566501,  0.95312417, -0.4930056 , -0.03752201,  0.24986407,\n",
      "        -0.24539648, -0.06352301, -0.33001995, -0.2554194 , -0.5151365 ,\n",
      "         0.29205212, -0.33537373, -0.06073733,  0.11883195,  0.17270589,\n",
      "         0.30992624,  0.06169308,  0.00991388,  0.02211373, -0.19019054,\n",
      "         0.14765169,  0.64485073, -0.20221479,  0.13934122,  0.24666616,\n",
      "        -0.2148996 ],\n",
      "       [ 1.4014225 ,  0.8786863 ,  0.8957132 ,  0.5786467 ,  0.97512525,\n",
      "         1.0972768 , -0.1799386 ,  1.7393322 ,  0.5185632 ,  1.2668922 ,\n",
      "         0.729785  ,  0.36236796,  0.15215608,  0.05981942, -0.401961  ,\n",
      "        -0.26712433, -0.24409729, -0.6794927 , -0.18436396, -0.6071356 ,\n",
      "         0.12168787,  0.03025835, -0.40124777, -0.09755443,  0.35371467,\n",
      "        -0.25654614,  0.21726519, -0.14928232,  0.27649844,  0.07172635,\n",
      "         0.03951643,  0.54948026, -0.5369489 ,  0.48037007, -0.1050229 ,\n",
      "        -0.4279052 ],\n",
      "       [-0.4046829 , -0.6692431 , -0.73403466, -0.9888186 , -0.62878716,\n",
      "        -1.1339777 , -0.14043087, -0.18326326, -0.95560986, -0.67955226,\n",
      "        -0.33985665, -0.6721481 , -0.43208268, -0.15336746, -0.4595293 ,\n",
      "         1.072946  , -0.3727297 ,  0.29374272, -0.05431312, -0.37418476,\n",
      "        -0.02245218, -0.28834584,  0.27543375, -0.0987917 , -0.09137578,\n",
      "        -0.32832202,  0.13355926,  0.16150232, -0.14044954, -0.3295262 ,\n",
      "        -0.46045762,  0.26032618,  0.34730202,  0.04516787, -0.16662738,\n",
      "        -0.2370208 ],\n",
      "       [ 2.0953271 ,  0.4597388 ,  0.9021865 ,  0.36368895,  0.66580665,\n",
      "         0.40559372, -0.79006827,  1.8522121 ,  0.41059545,  0.92417365,\n",
      "         0.6600346 ,  0.7102707 , -0.35958555,  0.60206175,  0.02231116,\n",
      "         0.04206847, -0.351473  , -0.01718162, -0.30429325, -0.42813358,\n",
      "         0.22045024, -0.5987031 ,  0.40918836, -0.13348983, -0.01371239,\n",
      "        -0.25391456, -0.00761266, -0.32725796,  0.11201223, -0.46759847,\n",
      "        -0.05441754,  0.4776218 , -0.21519332, -0.3197579 , -0.4793787 ,\n",
      "         0.19843554],\n",
      "       [-1.6921864 , -0.14953384, -0.8042279 , -0.6019861 , -0.9903872 ,\n",
      "        -0.5516576 ,  0.86532015, -1.969782  , -0.44730192, -1.0782857 ,\n",
      "        -0.4490982 , -0.4019167 ,  0.47167918, -0.26033017,  0.2698817 ,\n",
      "         0.0209277 ,  0.25914127,  0.11671477, -0.01918362,  0.616769  ,\n",
      "        -0.5041709 ,  0.5517227 ,  0.06190173,  0.00803954, -0.03795471,\n",
      "         0.20251676, -0.17043798,  0.36465913,  0.20640695, -0.00887192,\n",
      "        -0.03944559, -0.03690766,  0.18111812,  0.3316054 , -0.15931208,\n",
      "         0.37563506],\n",
      "       [ 1.5144203 ,  0.41362944,  0.49108556,  0.40826708,  0.8325592 ,\n",
      "         0.25832346, -0.3426992 ,  1.5841293 ,  0.78629917,  0.6536035 ,\n",
      "         0.53495264,  0.74239063, -0.36713406,  0.25554046, -0.31632414,\n",
      "        -0.62153584, -0.22609013, -0.08144794, -0.5362816 , -0.04558809,\n",
      "         0.2571935 , -0.20519505,  0.21427307,  0.04484122,  0.5143372 ,\n",
      "         0.20414129,  0.07642032,  0.073612  ,  0.08038543, -0.20939663,\n",
      "         0.02374342,  0.26778638,  0.02933557,  0.10101433,  0.31065685,\n",
      "        -0.1416041 ],\n",
      "       [ 1.2850534 , -0.00610497,  0.5707997 ,  0.0781891 ,  0.621767  ,\n",
      "         0.19296987, -0.7319168 ,  1.5700307 ,  0.54567665,  0.8428925 ,\n",
      "         0.19886385,  0.83200395, -0.21713293,  0.4103999 , -0.12520787,\n",
      "         0.19695455,  0.18889858, -0.1445823 , -0.5890218 , -0.02504068,\n",
      "         0.00585548, -0.35006347, -0.0599246 , -0.27922907,  0.50081134,\n",
      "        -0.13885485,  0.17224434, -0.07673143, -0.15893352,  0.23416688,\n",
      "        -0.3026162 ,  0.16672765,  0.17543364,  0.04158702, -0.06568385,\n",
      "        -0.41179848],\n",
      "       [-1.5146118 , -0.30558652, -0.62939024,  0.03088189, -0.66492754,\n",
      "         0.01194717,  0.8164618 , -1.5444498 , -0.10063842, -0.21226622,\n",
      "        -0.12710524, -0.7020307 ,  0.47772714, -0.24696548, -0.13977264,\n",
      "        -0.20517819,  0.24319741, -0.00302518,  0.42437935,  0.5180496 ,\n",
      "        -0.06050514, -0.22025031,  0.17779472, -0.03115316,  0.00699094,\n",
      "        -0.06066782, -0.10955729,  0.22431688,  0.06734617, -0.03260728,\n",
      "        -0.1755938 , -0.12540495, -0.13631323, -0.34925452, -0.12987284,\n",
      "        -0.05061787]], dtype=float32), array([-4.7505826e-02, -3.1974024e-01, -5.2378386e-01, -5.4843551e-01,\n",
      "       -4.0275848e-01, -5.0710326e-01, -2.5021738e-01,  8.6240751e-01,\n",
      "       -4.5555726e-01, -4.1447124e-01, -5.2633512e-01,  9.5028162e-02,\n",
      "        4.1882303e-03,  9.7294807e-02, -6.8661280e-02,  4.6876207e-02,\n",
      "       -1.2746177e-02,  3.7623662e-01, -5.5160537e-02,  9.2889227e-02,\n",
      "       -1.5581307e-02, -7.8752987e-02, -9.5468089e-02, -1.1797342e-01,\n",
      "        1.8776704e-05, -1.8056610e-03,  1.6593082e-03,  2.6732776e-04,\n",
      "        3.3309595e-03,  7.6295628e-04, -4.7696559e-03,  1.0629571e-02,\n",
      "        4.1258754e-04,  4.0411092e-03,  3.6480443e-03, -5.1978324e-03],\n",
      "      dtype=float32)]\n",
      "====================\n",
      "[array([[ 8.01710606e-01,  5.30808687e-01, -4.74512905e-01,\n",
      "         7.94258654e-01, -3.64297539e-01,  9.94776368e-01,\n",
      "         2.24474981e-01,  5.05666256e-01, -5.92942119e-01,\n",
      "        -3.20930868e-01, -4.52138841e-01,  4.39502388e-01,\n",
      "         2.05542028e-01, -3.14022571e-01,  7.89745808e-01,\n",
      "         4.75652516e-01,  8.69313002e-01,  1.22991661e-02,\n",
      "         8.32402468e-01,  5.28371818e-02,  1.00982323e-01,\n",
      "         9.95317817e-01,  8.40102136e-01,  4.42906767e-02,\n",
      "        -3.89875770e-01, -6.40579015e-02, -2.81381935e-01,\n",
      "        -3.37304324e-01, -1.59316614e-01, -4.19557035e-01,\n",
      "        -2.62723975e-02, -2.05796391e-01,  7.45579526e-02,\n",
      "        -2.98846960e-01, -2.44338229e-01, -1.43979564e-01],\n",
      "       [-8.36279869e-01, -9.89563823e-01,  6.46680653e-01,\n",
      "        -8.18356752e-01,  3.33368689e-01, -7.65998840e-01,\n",
      "        -1.94080710e-01, -6.05089784e-01,  2.75985092e-01,\n",
      "         3.26530933e-01,  2.76909530e-01, -7.58989036e-01,\n",
      "         2.16077343e-01,  1.86740175e-01, -4.00026888e-01,\n",
      "        -1.87758803e-02, -6.91529691e-01, -2.18734220e-01,\n",
      "        -1.04763639e+00, -3.29085916e-01, -1.29112005e-01,\n",
      "        -7.55289614e-01, -5.40495574e-01,  5.17796576e-02,\n",
      "         3.38484228e-01,  7.26052225e-02,  1.66017637e-02,\n",
      "         1.44636944e-01, -7.74764940e-02,  6.99512735e-02,\n",
      "         4.10759062e-01,  4.49787319e-01, -2.87884641e-02,\n",
      "        -5.57374321e-02,  2.27519780e-01,  2.37854600e-01],\n",
      "       [ 6.94625437e-01,  4.72077101e-01, -3.75945270e-01,\n",
      "         8.36338937e-01, -5.69578469e-01,  7.38665938e-01,\n",
      "        -6.17384873e-02,  3.53076905e-01, -2.28159323e-01,\n",
      "        -2.97956198e-01,  8.52842405e-02,  3.25543523e-01,\n",
      "         3.05666141e-02, -2.05232531e-01,  7.73629606e-01,\n",
      "         3.50239098e-01,  7.70218074e-01,  2.33101651e-01,\n",
      "         6.74217105e-01,  2.88551617e-02,  5.71412563e-01,\n",
      "         5.07553399e-01,  5.32597721e-01,  2.80221291e-02,\n",
      "        -1.65169060e-01, -5.90368211e-01, -3.91396791e-01,\n",
      "        -3.89455050e-01,  1.79777384e-01, -4.33133543e-01,\n",
      "        -1.14573233e-01, -3.08897719e-02, -1.28587872e-01,\n",
      "        -3.49166095e-01,  1.77391157e-01,  1.78788751e-01],\n",
      "       [ 1.02420509e+00,  1.63117790e+00, -1.56771195e+00,\n",
      "         1.85721552e+00, -1.26102114e+00,  2.13293266e+00,\n",
      "        -1.95460975e-01,  1.34592414e+00, -1.18302131e+00,\n",
      "        -2.09016442e-01, -7.16183662e-01,  1.34045851e+00,\n",
      "        -1.86451063e-01, -2.66945541e-01,  1.61245584e+00,\n",
      "        -2.33729288e-01,  1.49230599e+00,  2.08372384e-01,\n",
      "         1.71470916e+00, -1.36371240e-01, -4.60770786e-01,\n",
      "         9.34248805e-01,  6.86674535e-01,  4.78208512e-02,\n",
      "         1.40339762e-01, -4.49494630e-01, -4.99186844e-01,\n",
      "        -8.31032991e-02, -5.00430703e-01,  1.26507692e-02,\n",
      "        -2.67056495e-01, -5.11043847e-01, -2.36952633e-01,\n",
      "        -1.64517730e-01, -2.81982552e-02, -1.98766775e-03],\n",
      "       [ 7.22224414e-01,  1.15373731e+00, -2.25893334e-01,\n",
      "         9.23405647e-01, -1.75972849e-01,  1.27395380e+00,\n",
      "        -5.40768132e-02,  1.05408072e+00,  2.17070952e-02,\n",
      "        -3.73906851e-01, -4.45009828e-01,  9.67696488e-01,\n",
      "        -2.53024668e-01, -7.20479563e-02,  7.03683078e-01,\n",
      "        -1.11528277e-01,  3.29411298e-01, -9.49430689e-02,\n",
      "         6.78903341e-01, -2.35999256e-01,  3.50351334e-01,\n",
      "         4.50195938e-01,  3.33074868e-01,  4.35716420e-01,\n",
      "        -8.70113298e-02, -7.08761588e-02, -9.57810227e-03,\n",
      "         8.47285334e-03,  9.36927572e-02, -1.98485166e-01,\n",
      "        -9.24167857e-02,  1.76452801e-01, -2.47835621e-01,\n",
      "         1.26717061e-01,  2.30308473e-01, -3.63570303e-01],\n",
      "       [ 1.15053654e+00,  1.10463965e+00, -8.54689002e-01,\n",
      "         1.08991337e+00, -5.56062400e-01,  1.65003431e+00,\n",
      "        -1.98427886e-01,  1.18988705e+00, -8.82561445e-01,\n",
      "         3.45331021e-02, -4.81845051e-01,  6.69834793e-01,\n",
      "         1.50591210e-01, -4.64222580e-02,  9.09897685e-01,\n",
      "         4.85241711e-01,  1.17015982e+00, -2.69831240e-01,\n",
      "         1.57790399e+00, -3.62600803e-01, -5.85825481e-02,\n",
      "         1.16849208e+00,  5.04330456e-01, -4.42673489e-02,\n",
      "        -9.17200968e-02, -5.47474742e-01, -2.88150102e-01,\n",
      "        -5.22088051e-01, -2.19292894e-01, -3.52013797e-01,\n",
      "        -4.58095640e-01, -2.94878483e-02, -4.55418110e-01,\n",
      "         8.28107893e-02, -5.29052973e-01, -4.52474058e-01],\n",
      "       [-4.17424530e-01, -6.60389781e-01,  2.16876596e-01,\n",
      "        -1.02150190e+00, -4.76694442e-02, -1.29612732e+00,\n",
      "         4.74975742e-02, -4.01680231e-01, -1.83919266e-01,\n",
      "        -7.25560263e-02,  3.02737653e-01, -7.81180263e-01,\n",
      "        -2.02664286e-01, -3.99899572e-01, -6.48340642e-01,\n",
      "         5.94031066e-04, -5.22574186e-01, -3.12595874e-01,\n",
      "        -1.07528698e+00, -3.98130566e-02,  2.84103870e-01,\n",
      "        -3.96592408e-01,  2.09434748e-01, -1.85691580e-01,\n",
      "        -4.15316336e-02, -2.13124201e-01,  1.84015527e-01,\n",
      "         1.02558516e-01, -8.99157599e-02, -3.61063004e-01,\n",
      "        -1.58378091e-02,  2.70164043e-01,  2.57688820e-01,\n",
      "         3.20507423e-03, -2.06061721e-01, -2.40007684e-01],\n",
      "       [ 1.65176344e+00,  1.58110666e+00, -2.66363829e-01,\n",
      "         1.03034246e+00, -5.94420135e-01,  1.25629234e+00,\n",
      "         3.81312758e-01,  1.26264000e+00, -1.04779154e-01,\n",
      "        -5.35063088e-01, -2.57802695e-01,  8.55990827e-01,\n",
      "        -1.15942515e-01,  1.98826209e-01,  7.55283713e-01,\n",
      "         6.35607094e-02,  2.88715065e-01, -3.38369086e-02,\n",
      "         8.45527649e-01, -2.04189450e-01,  1.48887718e-02,\n",
      "         7.34831512e-01,  6.96302772e-01, -1.66308135e-01,\n",
      "        -3.18009853e-01, -4.52301592e-01,  1.29772097e-01,\n",
      "        -1.25342801e-01,  2.83527792e-01, -2.64840215e-01,\n",
      "        -1.88074678e-01, -8.95518139e-02, -2.14617133e-01,\n",
      "        -1.69789433e-01, -2.89182276e-01,  2.67293453e-01],\n",
      "       [-1.19022357e+00, -7.75784731e-01,  2.28680521e-01,\n",
      "        -1.12858248e+00,  1.57508597e-01, -1.27679420e+00,\n",
      "         8.22989270e-02, -8.98663640e-01,  2.45872691e-01,\n",
      "        -2.54261140e-02,  3.08883250e-01, -4.61650044e-01,\n",
      "         3.00622880e-01, -1.43986329e-01, -4.95283365e-01,\n",
      "        -2.31241956e-01, -4.37728733e-01, -1.07395679e-01,\n",
      "        -1.17246997e+00,  2.70827353e-01, -4.41816121e-01,\n",
      "        -4.54684585e-01, -3.70200187e-01, -1.74975172e-01,\n",
      "         1.89793482e-01,  5.14041185e-01, -1.45871907e-01,\n",
      "         2.84835726e-01,  2.20542088e-01, -6.73347041e-02,\n",
      "         1.88903719e-01,  3.69759709e-01,  1.61023706e-01,\n",
      "         3.08990568e-01, -1.91251695e-01,  3.55520606e-01],\n",
      "       [ 1.26915836e+00,  6.97868466e-01, -7.91314840e-01,\n",
      "         9.48876083e-01, -2.99698323e-01,  8.07315886e-01,\n",
      "         8.82811993e-02,  6.78550422e-01, -1.27332985e-01,\n",
      "        -1.52858436e-01, -2.05881208e-01,  9.03515935e-01,\n",
      "        -3.04077059e-01,  1.02466784e-01,  6.60666704e-01,\n",
      "        -1.61273941e-01,  7.51627505e-01,  2.83021808e-01,\n",
      "         6.75280511e-01,  3.21356595e-01,  2.90016681e-01,\n",
      "         7.54780889e-01,  1.00624764e+00,  3.38939726e-01,\n",
      "         2.65325531e-02, -1.69309154e-01, -2.86530226e-01,\n",
      "        -1.52589381e-01, -2.25629896e-01, -4.73397702e-01,\n",
      "        -3.63092005e-01, -3.47528785e-01,  1.36808455e-01,\n",
      "        -7.58811608e-02,  9.09969658e-02, -1.17990375e-01],\n",
      "       [ 1.01722097e+00,  4.42914158e-01, -3.70245486e-01,\n",
      "         6.42664313e-01, -2.30229229e-01,  8.20868433e-01,\n",
      "         2.29049250e-02,  3.73247623e-01,  1.34052306e-01,\n",
      "         3.30537468e-01, -1.15276843e-01,  7.66362667e-01,\n",
      "         2.26182882e-02,  2.46749267e-01,  6.79075360e-01,\n",
      "         4.96407568e-01,  8.81816924e-01,  1.00298844e-01,\n",
      "         4.99713868e-01,  3.37992370e-01,  2.47636214e-02,\n",
      "         6.61883116e-01,  5.78347266e-01,  7.71538913e-02,\n",
      "         1.41782984e-01, -5.13148427e-01, -4.89729680e-02,\n",
      "        -1.94024622e-01, -3.02355260e-01,  8.78452137e-02,\n",
      "        -5.67197561e-01, -3.79547745e-01,  2.23233506e-01,\n",
      "        -4.24044617e-02, -1.84805349e-01, -3.87937933e-01],\n",
      "       [-1.11134136e+00, -8.17840993e-01,  7.21798688e-02,\n",
      "        -5.32067537e-01,  4.21309285e-02, -5.70938349e-01,\n",
      "         1.26437217e-01, -2.11214349e-01,  2.63387859e-01,\n",
      "         3.44026864e-01,  2.26524025e-01, -7.02498257e-01,\n",
      "         2.71080464e-01, -2.38510609e-01, -5.75297654e-01,\n",
      "        -2.48258799e-01, -1.62450448e-01, -2.81273782e-01,\n",
      "        -2.44484544e-01,  1.54822230e-01, -2.90932089e-01,\n",
      "        -8.57488036e-01, -2.42761120e-01, -3.84474576e-01,\n",
      "         2.24200949e-01,  1.73302174e-01, -6.26148237e-03,\n",
      "         2.48086303e-01,  1.25689745e-01, -2.12301109e-02,\n",
      "         8.70659947e-02,  2.47370884e-01, -8.83303657e-02,\n",
      "        -2.29961678e-01, -3.69057469e-02,  4.75655943e-02]], dtype=float32), array([[-1.1288854 , -0.5631249 , -0.37996498, -0.3670694 ,  0.35191903,\n",
      "        -0.42448556, -0.50141764, -0.5488069 , -0.50453085, -0.04235066,\n",
      "        -0.13597715, -0.38657132,  0.34479433, -0.35800266, -0.03120042,\n",
      "         0.30492103,  0.1275005 , -0.09395184, -0.11495169, -0.00505847,\n",
      "        -0.53130215, -0.26356527, -0.06536097, -0.3897853 , -0.20319137,\n",
      "         0.2873807 , -0.4691692 , -0.4566473 , -0.38514954, -0.61692774,\n",
      "        -0.08367655, -0.18080822, -0.1469215 , -0.4548185 , -0.42707768,\n",
      "        -0.18677233],\n",
      "       [-0.45265082, -0.18158244,  0.03505962,  0.0595924 ,  0.04934535,\n",
      "         0.2116237 , -0.38378608,  0.01169237, -0.25052753,  0.21478526,\n",
      "         0.12251927, -0.0607004 ,  0.29382864,  0.17497319,  0.07305019,\n",
      "         0.08423652, -0.23423098, -0.11825676, -0.41061938, -0.40658194,\n",
      "        -0.26957455, -0.35805434, -0.25036457,  0.12887082,  0.14976111,\n",
      "        -0.11998871, -0.42292362, -0.20791143, -0.5465657 , -0.32546   ,\n",
      "        -0.21687256,  0.15141383, -0.39734682, -0.45828542, -0.18235716,\n",
      "        -0.07706215],\n",
      "       [-0.5607307 , -1.3125978 ,  1.0998679 , -1.2219883 ,  0.61258096,\n",
      "        -1.6889979 ,  0.24902865, -1.2126011 ,  1.3435628 ,  0.48711264,\n",
      "         1.0962391 , -1.5013163 , -0.02783219, -0.29321826, -0.34992737,\n",
      "        -0.11280411, -0.04745013, -0.04535253, -1.0621513 , -0.0373509 ,\n",
      "         0.6186682 , -0.32169384, -0.05259279, -0.23367223,  0.03674193,\n",
      "        -0.20691545, -0.33862048, -0.46921477,  0.3732922 , -0.51202327,\n",
      "         0.50831026,  0.09868473, -0.33000815, -0.4408887 ,  0.02970692,\n",
      "         0.1664616 ],\n",
      "       [-1.5446614 , -0.88167995, -0.03384951, -0.76840216,  0.37171578,\n",
      "        -0.6105518 , -0.24855414, -0.9233308 , -0.19480138,  0.5182751 ,\n",
      "         0.14339624, -0.68124306,  0.18375249,  0.09469963, -0.4771373 ,\n",
      "        -0.38786235, -0.3994412 ,  0.28610885, -0.5905313 ,  0.1417615 ,\n",
      "        -0.43150747, -1.0740135 , -0.8870261 ,  0.10135949,  0.36897865,\n",
      "         0.07154136, -0.4975634 , -0.04797943, -0.51797545, -0.01345604,\n",
      "         0.16530837, -0.35857534, -0.37387702, -0.24676251, -0.1456091 ,\n",
      "         0.09146526],\n",
      "       [-0.37954015, -0.5508692 ,  0.94841737, -0.93786913,  0.69086224,\n",
      "        -0.8493929 ,  0.4246745 , -0.3768492 ,  1.2250106 ,  0.1449347 ,\n",
      "         0.25601116, -0.6504362 , -0.20102566, -0.08950069, -0.12887631,\n",
      "        -0.421136  , -0.2913285 , -0.2904414 , -0.7082538 , -0.2114378 ,\n",
      "         0.37830147, -0.21349008, -0.22548304,  0.23376353, -0.10499921,\n",
      "        -0.1593255 , -0.08307868, -0.24108955,  0.19742952, -0.42926088,\n",
      "         0.5161778 ,  0.03827597, -0.5400822 , -0.04183701,  0.02588729,\n",
      "        -0.6133346 ],\n",
      "       [-0.682717  , -0.20650437, -0.00553314, -0.45831   ,  0.8332506 ,\n",
      "         0.10827867, -0.52006006, -0.05748192, -0.43754494,  0.6669097 ,\n",
      "         0.27497622, -0.17040639,  0.39996842,  0.08443937, -0.66111684,\n",
      "         0.33956644, -0.23966002, -0.12494409, -0.100492  , -0.29499194,\n",
      "        -0.46593332, -0.5540551 , -0.8718982 , -0.22782953,  0.25532866,\n",
      "         0.18034244, -0.11388779, -0.22985852, -0.14125007, -0.12214126,\n",
      "        -0.16902532,  0.31921077, -0.30806005,  0.24588676, -0.3773236 ,\n",
      "        -0.12859766],\n",
      "       [-1.6949365 , -2.152713  ,  1.3211784 , -2.331481  ,  1.1830875 ,\n",
      "        -2.5860963 , -0.6649248 , -1.8227909 ,  1.0295169 ,  0.7083434 ,\n",
      "         1.1326845 , -2.106553  , -0.04394031, -0.17903829, -1.2115092 ,\n",
      "         0.21883209, -1.022091  , -0.14718662, -1.1677878 ,  0.21838062,\n",
      "         0.30857676, -0.93140614, -0.20447916,  0.09207581, -0.27592346,\n",
      "        -0.63746697,  0.00426992, -0.22536156, -0.12330516, -0.67832595,\n",
      "         0.10387263, -0.09768453, -0.03655699, -0.17208456, -0.39388466,\n",
      "        -0.6092475 ],\n",
      "       [-0.7796908 ,  0.1671941 , -0.15537885, -0.29155773,  0.21403089,\n",
      "        -0.19555163, -0.59939796, -0.04010316, -0.10197646, -0.26111302,\n",
      "        -0.02990439, -0.17161517,  0.08794407,  0.18081915,  0.08611742,\n",
      "        -0.06278647, -0.37532413, -0.12316654, -0.11912787, -0.2165715 ,\n",
      "        -0.6120374 , -0.5058905 , -0.23833337, -0.55416536, -0.07400716,\n",
      "        -0.09718468, -0.09029718, -0.2720317 , -0.04097942, -0.48150322,\n",
      "        -0.5042015 , -0.04526897, -0.49804282, -0.4190084 , -0.5570357 ,\n",
      "         0.22966787],\n",
      "       [-0.13982384, -0.6576289 ,  0.6709874 , -0.9118636 , -0.0474498 ,\n",
      "        -1.1429734 ,  1.1945443 , -0.76902825,  0.59451395,  0.1575486 ,\n",
      "         0.49984363, -0.665296  ,  0.16491869, -0.1149193 , -0.11730436,\n",
      "        -0.2621743 , -0.06620983, -0.02827467, -0.7963696 ,  0.31005755,\n",
      "         0.136007  ,  0.38623005,  0.28977075,  0.22164972, -0.16419706,\n",
      "        -0.08867564, -0.25941435,  0.07802033,  0.19839178, -0.24126512,\n",
      "         0.2921209 , -0.00734618,  0.07132415,  0.20715761, -0.28770807,\n",
      "         0.05958405],\n",
      "       [-0.0861636 , -1.0202284 ,  0.46169093, -0.80522037,  0.35999975,\n",
      "        -1.304854  ,  0.47351825, -0.7315885 ,  0.7879214 ,  0.09765949,\n",
      "         0.10872363, -0.6851022 , -0.17071468,  0.26861465, -0.53871447,\n",
      "        -0.32507128, -0.177867  ,  0.14782275, -0.79549754,  0.47005284,\n",
      "         0.40728512, -0.1327241 ,  0.2316756 ,  0.20337918,  0.10085059,\n",
      "        -0.16770464, -0.26539347, -0.21718465, -0.08898397, -0.55809224,\n",
      "         0.30022237, -0.45138735,  0.03632642, -0.08861233,  0.05329011,\n",
      "        -0.2196642 ],\n",
      "       [ 0.02037035, -0.96808153,  0.8184032 , -0.77657956,  0.4654675 ,\n",
      "        -0.7062217 ,  0.3232403 , -0.7325029 ,  0.8625005 ,  0.5052361 ,\n",
      "         0.1361949 , -0.34889042,  0.1272594 ,  0.3856121 , -0.36276925,\n",
      "         0.3823702 ,  0.0531951 ,  0.01679991, -0.79329175,  0.4761485 ,\n",
      "         0.07992447, -0.2392175 , -0.16407055, -0.04359077,  0.18505791,\n",
      "        -0.5362583 , -0.08312036, -0.30139348, -0.21877119, -0.03557727,\n",
      "        -0.02723002, -0.5203268 ,  0.07994471, -0.10724264, -0.27031437,\n",
      "        -0.53228754],\n",
      "       [-0.5409478 ,  0.04703619, -0.38659886,  0.2994472 ,  0.09533495,\n",
      "         0.51617557, -0.0349873 ,  0.41012266, -0.09277511,  0.47238362,\n",
      "         0.3427751 ,  0.16647142,  0.3295499 , -0.22433929, -0.3749579 ,\n",
      "        -0.20930658,  0.0539795 , -0.15647613,  0.23636115,  0.05463987,\n",
      "        -0.26268426, -0.6423586 , -0.11248828, -0.2063837 ,  0.19712152,\n",
      "         0.2506453 , -0.3480997 ,  0.07968475, -0.33921555, -0.23980416,\n",
      "        -0.6750037 ,  0.11503114, -0.30139667, -0.5390271 , -0.34458384,\n",
      "        -0.03224854]], dtype=float32), array([ 4.62101810e-02, -5.04898764e-02, -8.71150196e-03, -3.70345652e-01,\n",
      "        5.68505585e-01, -1.72018066e-01, -1.25030249e-01, -2.82457799e-01,\n",
      "        6.01543248e-01,  4.84139591e-01,  5.66980302e-01, -2.22841501e-01,\n",
      "        2.97526419e-01,  1.61919609e-01,  2.06550553e-01,  2.14954525e-01,\n",
      "        1.80151686e-01,  1.99524183e-02,  3.40203315e-01,  1.73346445e-01,\n",
      "       -1.41151935e-01,  1.04561165e-01,  2.21572191e-01,  2.34355614e-01,\n",
      "       -3.39724310e-03,  2.89954100e-04, -4.89163026e-03, -2.73238169e-04,\n",
      "       -6.00751769e-03,  7.93297513e-05, -4.34662029e-03,  1.29357481e-03,\n",
      "       -1.93458982e-03, -2.97553092e-03, -7.67320744e-04,  1.03852991e-03],\n",
      "      dtype=float32)]\n",
      "====================\n",
      "[array([[0.75513583],\n",
      "       [0.8885202 ],\n",
      "       [0.8474396 ],\n",
      "       [0.8557007 ],\n",
      "       [0.71463317],\n",
      "       [1.017771  ],\n",
      "       [0.73643905],\n",
      "       [0.8700946 ],\n",
      "       [0.8291494 ],\n",
      "       [0.770018  ],\n",
      "       [0.75936574],\n",
      "       [0.8396673 ]], dtype=float32), array([-0.00190315], dtype=float32)]\n",
      "====================\n"
     ]
    }
   ],
   "source": [
    "for layer in model.layers:\n",
    "    weights = layer.get_weights() # list of numpy arrays\n",
    "    print(weights)\n",
    "    print('='*20)"
   ]
  },
  {
   "cell_type": "code",
   "execution_count": 99,
   "metadata": {},
   "outputs": [
    {
     "name": "stdout",
     "output_type": "stream",
     "text": [
      "_________________________________________________________________\n",
      "Layer (type)                 Output Shape              Param #   \n",
      "=================================================================\n",
      "input_7 (InputLayer)         (1, 64, 1)                0         \n",
      "_________________________________________________________________\n",
      "gru_13 (GRU)                 (1, 64, 4)                72        \n",
      "_________________________________________________________________\n",
      "gru_14 (GRU)                 (1, 4)                    108       \n",
      "_________________________________________________________________\n",
      "dense_7 (Dense)              (1, 1)                    5         \n",
      "=================================================================\n",
      "Total params: 185\n",
      "Trainable params: 185\n",
      "Non-trainable params: 0\n",
      "_________________________________________________________________\n"
     ]
    }
   ],
   "source": [
    "model.summary()"
   ]
  },
  {
   "cell_type": "code",
   "execution_count": 101,
   "metadata": {},
   "outputs": [],
   "source": [
    "# model.save('saved_models/02_peak_comp_60_samples_180_params.h5')"
   ]
  },
  {
   "cell_type": "code",
   "execution_count": 76,
   "metadata": {},
   "outputs": [
    {
     "data": {
      "text/plain": [
       "0.0947332183358958"
      ]
     },
     "execution_count": 76,
     "metadata": {},
     "output_type": "execute_result"
    }
   ],
   "source": [
    "score = model.evaluate(X_te_s[:400], y_te_s[:400], verbose=0, batch_size=BATCH_SIZE)\n",
    "score"
   ]
  },
  {
   "cell_type": "code",
   "execution_count": 77,
   "metadata": {},
   "outputs": [
    {
     "data": {
      "text/plain": [
       "0.0947332183358958"
      ]
     },
     "execution_count": 77,
     "metadata": {},
     "output_type": "execute_result"
    }
   ],
   "source": [
    "0.0947332183358958"
   ]
  },
  {
   "cell_type": "code",
   "execution_count": 98,
   "metadata": {
    "scrolled": false
   },
   "outputs": [
    {
     "data": {
      "image/png": "[encoded data removed]",
      "text/plain": [
       "<Figure size 432x288 with 1 Axes>"
      ]
     },
     "metadata": {
      "needs_background": "light"
     },
     "output_type": "display_data"
    }
   ],
   "source": [
    "%matplotlib inline\n",
    "\n",
    "from matplotlib import pyplot as plt\n",
    "\n",
    "# Plot training & validation loss values\n",
    "plt.plot(normalize(np.array(history.history['loss'])))\n",
    "# plt.plot(normalize(np.array(history.history['val_loss'])))\n",
    "plt.title('Model loss')\n",
    "plt.ylabel('Loss')\n",
    "plt.xlabel('Epoch')\n",
    "plt.legend(['Train'], loc='upper left')\n",
    "plt.show()"
   ]
  },
  {
   "cell_type": "code",
   "execution_count": null,
   "metadata": {},
   "outputs": [],
   "source": [
    "len(X_te_f)"
   ]
  },
  {
   "cell_type": "code",
   "execution_count": null,
   "metadata": {},
   "outputs": [],
   "source": [
    "predict(model, X_te_s[:100])"
   ]
  },
  {
   "cell_type": "code",
   "execution_count": null,
   "metadata": {},
   "outputs": [],
   "source": [
    "print(X_tr_s[0][-1])"
   ]
  },
  {
   "cell_type": "code",
   "execution_count": 100,
   "metadata": {
    "scrolled": false
   },
   "outputs": [
    {
     "name": "stdout",
     "output_type": "stream",
     "text": [
      "0   -0.055320\n",
      "1   -0.053671\n",
      "2   -0.054124\n",
      "3   -0.056173\n",
      "4   -0.059953\n",
      "dtype: float32\n"
     ]
    },
    {
     "data": {
      "text/plain": [
       "Text(0,0.5,'value')"
      ]
     },
     "execution_count": 100,
     "metadata": {},
     "output_type": "execute_result"
    },
    {
     "data": {
      "image/png": "[encoded data removed]",
      "text/plain": [
       "<Figure size 1152x576 with 1 Axes>"
      ]
     },
     "metadata": {
      "needs_background": "light"
     },
     "output_type": "display_data"
    }
   ],
   "source": [
    "%matplotlib inline\n",
    "from scipy.signal import savgol_filter\n",
    "\n",
    "(fig, ax) = plt.subplots(figsize=(16, 8))\n",
    "\n",
    "I = 200\n",
    "\n",
    "feat = pd.Series((np.array(list(map(lambda row: row[-1][0], X_tr_s[:I])))))\n",
    "\n",
    "feat.plot.line(ax=ax, label='feature')\n",
    "\n",
    "targ = (pd.Series((y_tr_s[:I])))\n",
    "\n",
    "pred = pd.Series(predict(model, X_tr_s[:I]))\n",
    "pd.Series(predict(model, X_tr_s[:I]))\n",
    "# pred = (pred * 3.2) + 0.001\n",
    "pred = pred + 0.001\n",
    "\n",
    "zeros = pd.Series(np.zeros(I))\n",
    "zeros.plot.line(ax=ax, label='0')\n",
    "\n",
    "targ.plot.line(ax=ax, label='target')\n",
    "\n",
    "print(pred[:5])\n",
    "\n",
    "pred.plot.line(ax=ax, label='predicted')\n",
    "# pd.Series(savgol_filter(pred, 5, 3)).plot.line(ax=ax, label='savgol(predicted)')\n",
    "\n",
    "# pd.Series(normalize(np.array(list(map(lambda w: w[-1], X_tr_f[:I]))))).plot.line(ax=ax, label='feature')\n",
    "\n",
    "ax.legend(loc=\"upper right\")\n",
    "ax.set_xlabel('index')\n",
    "ax.set_ylabel('value')"
   ]
  },
  {
   "cell_type": "markdown",
   "metadata": {},
   "source": [
    "## Time to evaluate performance"
   ]
  },
  {
   "cell_type": "code",
   "execution_count": null,
   "metadata": {},
   "outputs": [],
   "source": [
    "predictions = predict(model, X_tr_s[:(44000 * 3)], batch_size=best_params['batch_size'])\n",
    "len(predictions), predictions[:10], np.max(predictions), np.min(predictions)"
   ]
  },
  {
   "cell_type": "code",
   "execution_count": null,
   "metadata": {},
   "outputs": [],
   "source": [
    "predictions_n = predictions / (max(abs(np.max(predictions)), abs(np.min(predictions)))) * MAX_VALUE\n",
    "len(predictions_n), predictions_n[:10], np.max(predictions_n), np.min(predictions_n)"
   ]
  },
  {
   "cell_type": "code",
   "execution_count": null,
   "metadata": {},
   "outputs": [],
   "source": [
    "wavfile.write('output/pred_out.wav', source_fs, predictions)"
   ]
  },
  {
   "cell_type": "code",
   "execution_count": null,
   "metadata": {},
   "outputs": [],
   "source": [
    "len(predictions)"
   ]
  },
  {
   "cell_type": "code",
   "execution_count": null,
   "metadata": {},
   "outputs": [],
   "source": []
  }
 ],
 "metadata": {
  "kernelspec": {
   "display_name": "Python 3",
   "language": "python",
   "name": "python3"
  },
  "language_info": {
   "codemirror_mode": {
    "name": "ipython",
    "version": 3
   },
   "file_extension": ".py",
   "mimetype": "text/x-python",
   "name": "python",
   "nbconvert_exporter": "python",
   "pygments_lexer": "ipython3",
   "version": "3.7.3"
  }
 },
 "nbformat": 4,
 "nbformat_minor": 2
}
