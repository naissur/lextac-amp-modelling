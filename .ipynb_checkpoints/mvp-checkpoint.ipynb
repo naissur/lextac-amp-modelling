{
 "cells": [
  {
   "cell_type": "code",
   "execution_count": 9,
   "metadata": {},
   "outputs": [],
   "source": [
    "from scipy.io import wavfile\n",
    "\n",
    "(source_clean_fs, source_clean_data) = wavfile.read('./data/source_clean.wav')\n",
    "(plini_clean_fs, plini_clean_data) = wavfile.read('./data/plini_clean.wav')"
   ]
  },
  {
   "cell_type": "code",
   "execution_count": 10,
   "metadata": {},
   "outputs": [],
   "source": [
    "import pandas as pd"
   ]
  },
  {
   "cell_type": "code",
   "execution_count": 13,
   "metadata": {},
   "outputs": [
    {
     "data": {
      "text/html": [
       "<div>\n",
       "<style scoped>\n",
       "    .dataframe tbody tr th:only-of-type {\n",
       "        vertical-align: middle;\n",
       "    }\n",
       "\n",
       "    .dataframe tbody tr th {\n",
       "        vertical-align: top;\n",
       "    }\n",
       "\n",
       "    .dataframe thead th {\n",
       "        text-align: right;\n",
       "    }\n",
       "</style>\n",
       "<table border=\"1\" class=\"dataframe\">\n",
       "  <thead>\n",
       "    <tr style=\"text-align: right;\">\n",
       "      <th></th>\n",
       "      <th>L</th>\n",
       "      <th>R</th>\n",
       "    </tr>\n",
       "  </thead>\n",
       "  <tbody>\n",
       "    <tr>\n",
       "      <th>0</th>\n",
       "      <td>0</td>\n",
       "      <td>0</td>\n",
       "    </tr>\n",
       "    <tr>\n",
       "      <th>1</th>\n",
       "      <td>0</td>\n",
       "      <td>0</td>\n",
       "    </tr>\n",
       "    <tr>\n",
       "      <th>2</th>\n",
       "      <td>0</td>\n",
       "      <td>0</td>\n",
       "    </tr>\n",
       "    <tr>\n",
       "      <th>3</th>\n",
       "      <td>0</td>\n",
       "      <td>0</td>\n",
       "    </tr>\n",
       "    <tr>\n",
       "      <th>4</th>\n",
       "      <td>0</td>\n",
       "      <td>0</td>\n",
       "    </tr>\n",
       "  </tbody>\n",
       "</table>\n",
       "</div>"
      ],
      "text/plain": [
       "   L  R\n",
       "0  0  0\n",
       "1  0  0\n",
       "2  0  0\n",
       "3  0  0\n",
       "4  0  0"
      ]
     },
     "execution_count": 13,
     "metadata": {},
     "output_type": "execute_result"
    }
   ],
   "source": [
    "source_clean_df = pd.DataFrame(source_clean_data, columns=['L', 'R'])\n",
    "source_clean_df.head()"
   ]
  },
  {
   "cell_type": "code",
   "execution_count": 14,
   "metadata": {},
   "outputs": [
    {
     "data": {
      "text/html": [
       "<div>\n",
       "<style scoped>\n",
       "    .dataframe tbody tr th:only-of-type {\n",
       "        vertical-align: middle;\n",
       "    }\n",
       "\n",
       "    .dataframe tbody tr th {\n",
       "        vertical-align: top;\n",
       "    }\n",
       "\n",
       "    .dataframe thead th {\n",
       "        text-align: right;\n",
       "    }\n",
       "</style>\n",
       "<table border=\"1\" class=\"dataframe\">\n",
       "  <thead>\n",
       "    <tr style=\"text-align: right;\">\n",
       "      <th></th>\n",
       "      <th>L</th>\n",
       "      <th>R</th>\n",
       "    </tr>\n",
       "  </thead>\n",
       "  <tbody>\n",
       "    <tr>\n",
       "      <th>0</th>\n",
       "      <td>0</td>\n",
       "      <td>0</td>\n",
       "    </tr>\n",
       "    <tr>\n",
       "      <th>1</th>\n",
       "      <td>0</td>\n",
       "      <td>0</td>\n",
       "    </tr>\n",
       "    <tr>\n",
       "      <th>2</th>\n",
       "      <td>0</td>\n",
       "      <td>0</td>\n",
       "    </tr>\n",
       "    <tr>\n",
       "      <th>3</th>\n",
       "      <td>0</td>\n",
       "      <td>0</td>\n",
       "    </tr>\n",
       "    <tr>\n",
       "      <th>4</th>\n",
       "      <td>0</td>\n",
       "      <td>0</td>\n",
       "    </tr>\n",
       "  </tbody>\n",
       "</table>\n",
       "</div>"
      ],
      "text/plain": [
       "   L  R\n",
       "0  0  0\n",
       "1  0  0\n",
       "2  0  0\n",
       "3  0  0\n",
       "4  0  0"
      ]
     },
     "execution_count": 14,
     "metadata": {},
     "output_type": "execute_result"
    }
   ],
   "source": [
    "plini_clean_df = pd.DataFrame(plini_clean_data, columns=['L', 'R'])\n",
    "plini_clean_df.head()"
   ]
  },
  {
   "cell_type": "code",
   "execution_count": 23,
   "metadata": {},
   "outputs": [
    {
     "data": {
      "text/plain": [
       "32767"
      ]
     },
     "execution_count": 23,
     "metadata": {},
     "output_type": "execute_result"
    }
   ],
   "source": [
    "plini_clean_df['L'].max()"
   ]
  },
  {
   "cell_type": "code",
   "execution_count": 22,
   "metadata": {},
   "outputs": [
    {
     "data": {
      "text/plain": [
       "32768"
      ]
     },
     "execution_count": 22,
     "metadata": {},
     "output_type": "execute_result"
    }
   ],
   "source": [
    "2 ** 15"
   ]
  },
  {
   "cell_type": "code",
   "execution_count": 280,
   "metadata": {},
   "outputs": [
    {
     "data": {
      "text/plain": [
       "32767"
      ]
     },
     "execution_count": 280,
     "metadata": {},
     "output_type": "execute_result"
    }
   ],
   "source": [
    "MAX_VALUE = 2 ** 15 - 1\n",
    "MAX_VALUE"
   ]
  },
  {
   "cell_type": "code",
   "execution_count": null,
   "metadata": {},
   "outputs": [],
   "source": []
  },
  {
   "cell_type": "code",
   "execution_count": 27,
   "metadata": {},
   "outputs": [
    {
     "data": {
      "text/plain": [
       "(2442240, 2442240)"
      ]
     },
     "execution_count": 27,
     "metadata": {},
     "output_type": "execute_result"
    }
   ],
   "source": [
    "len(plini_clean_df), len(source_clean_df)"
   ]
  },
  {
   "cell_type": "code",
   "execution_count": 30,
   "metadata": {},
   "outputs": [
    {
     "data": {
      "text/plain": [
       "1953792"
      ]
     },
     "execution_count": 30,
     "metadata": {},
     "output_type": "execute_result"
    }
   ],
   "source": [
    "START_END = int(len(plini_clean_df) * 0.8)\n",
    "START_END"
   ]
  },
  {
   "cell_type": "code",
   "execution_count": 32,
   "metadata": {},
   "outputs": [],
   "source": [
    "(X_train_start, X_train_end) = (0, START_END)\n",
    "(X_test_start, X_test_end) = (START_END + 1, len(source_clean_df))"
   ]
  },
  {
   "cell_type": "code",
   "execution_count": 33,
   "metadata": {},
   "outputs": [],
   "source": [
    "(y_train_start, y_train_end) = (0, START_END)\n",
    "(y_test_start, y_test_end) = (START_END + 1, len(source_clean_df))"
   ]
  },
  {
   "cell_type": "markdown",
   "metadata": {},
   "source": [
    "## IT'S MONO"
   ]
  },
  {
   "cell_type": "code",
   "execution_count": 45,
   "metadata": {},
   "outputs": [
    {
     "data": {
      "text/plain": [
       "0    0\n",
       "1    0\n",
       "2    0\n",
       "3    0\n",
       "4    0\n",
       "Name: L, dtype: int16"
      ]
     },
     "execution_count": 45,
     "metadata": {},
     "output_type": "execute_result"
    }
   ],
   "source": [
    "X_train_raw = source_clean_df['L'][X_train_start:X_train_end]\n",
    "X_train_raw.head()"
   ]
  },
  {
   "cell_type": "code",
   "execution_count": 46,
   "metadata": {},
   "outputs": [
    {
     "data": {
      "text/plain": [
       "1953793   -560\n",
       "1953794   -485\n",
       "1953795   -395\n",
       "1953796   -302\n",
       "1953797   -215\n",
       "Name: L, dtype: int16"
      ]
     },
     "execution_count": 46,
     "metadata": {},
     "output_type": "execute_result"
    }
   ],
   "source": [
    "X_test_raw = source_clean_df['L'][X_test_start:X_test_end]\n",
    "X_test_raw.head()"
   ]
  },
  {
   "cell_type": "code",
   "execution_count": 47,
   "metadata": {},
   "outputs": [
    {
     "data": {
      "text/plain": [
       "0    0\n",
       "1    0\n",
       "2    0\n",
       "3    0\n",
       "4    0\n",
       "Name: L, dtype: int16"
      ]
     },
     "execution_count": 47,
     "metadata": {},
     "output_type": "execute_result"
    }
   ],
   "source": [
    "y_train_raw = plini_clean_df['L'][y_train_start:y_train_end]\n",
    "y_train_raw.head()"
   ]
  },
  {
   "cell_type": "code",
   "execution_count": 48,
   "metadata": {},
   "outputs": [
    {
     "data": {
      "text/plain": [
       "1953793    807\n",
       "1953794    559\n",
       "1953795    206\n",
       "1953796    178\n",
       "1953797    213\n",
       "Name: L, dtype: int16"
      ]
     },
     "execution_count": 48,
     "metadata": {},
     "output_type": "execute_result"
    }
   ],
   "source": [
    "y_test_raw = plini_clean_df['L'][y_test_start:y_test_end]\n",
    "y_test_raw.head()"
   ]
  },
  {
   "cell_type": "code",
   "execution_count": null,
   "metadata": {},
   "outputs": [],
   "source": []
  },
  {
   "cell_type": "code",
   "execution_count": 778,
   "metadata": {},
   "outputs": [],
   "source": [
    "TR_N_DEV = source_clean_fs\n",
    "TR_OFFSET_DEV = source_clean_fs * 2\n",
    "\n",
    "TE_N_DEV = int(source_clean_fs / 8)\n",
    "TE_OFFSET_DEV = source_clean_fs * 2"
   ]
  },
  {
   "cell_type": "code",
   "execution_count": 779,
   "metadata": {},
   "outputs": [
    {
     "data": {
      "text/plain": [
       "(44100, 5512)"
      ]
     },
     "execution_count": 779,
     "metadata": {},
     "output_type": "execute_result"
    }
   ],
   "source": [
    "(TR_N_DEV, TE_N_DEV)"
   ]
  },
  {
   "cell_type": "code",
   "execution_count": 780,
   "metadata": {},
   "outputs": [
    {
     "data": {
      "text/plain": [
       "64"
      ]
     },
     "execution_count": 780,
     "metadata": {},
     "output_type": "execute_result"
    }
   ],
   "source": [
    "# N_WINDOW_POINTS = int(source_clean_fs * 0.02)\n",
    "N_WINDOW_POINTS = 64\n",
    "N_WINDOW_POINTS"
   ]
  },
  {
   "cell_type": "code",
   "execution_count": 781,
   "metadata": {},
   "outputs": [],
   "source": [
    "def make_windows(df, n_window_points):\n",
    "    df_index = df.index\n",
    "    index = 0\n",
    "    windows = []\n",
    "\n",
    "    for index in range(0, len(df) - n_window_points):\n",
    "        windows.append(df_index[index:(index + n_window_points)])\n",
    "\n",
    "    return windows"
   ]
  },
  {
   "cell_type": "code",
   "execution_count": 782,
   "metadata": {},
   "outputs": [
    {
     "data": {
      "text/plain": [
       "44036"
      ]
     },
     "execution_count": 782,
     "metadata": {},
     "output_type": "execute_result"
    }
   ],
   "source": [
    "X_train_wnd = make_windows(X_train_raw[TR_OFFSET_DEV:TR_OFFSET_DEV+TR_N_DEV], N_WINDOW_POINTS)\n",
    "len(X_train_wnd)"
   ]
  },
  {
   "cell_type": "code",
   "execution_count": 783,
   "metadata": {},
   "outputs": [
    {
     "data": {
      "text/plain": [
       "5448"
      ]
     },
     "execution_count": 783,
     "metadata": {},
     "output_type": "execute_result"
    }
   ],
   "source": [
    "X_test_wnd = make_windows(X_test_raw[TE_OFFSET_DEV:TE_OFFSET_DEV+TE_N_DEV], N_WINDOW_POINTS)\n",
    "len(X_test_wnd)"
   ]
  },
  {
   "cell_type": "code",
   "execution_count": 784,
   "metadata": {},
   "outputs": [
    {
     "data": {
      "text/plain": [
       "44036"
      ]
     },
     "execution_count": 784,
     "metadata": {},
     "output_type": "execute_result"
    }
   ],
   "source": [
    "y_train_wnd = make_windows(y_train_raw[TR_OFFSET_DEV:TR_OFFSET_DEV+TR_N_DEV], N_WINDOW_POINTS)\n",
    "len(y_train_wnd)"
   ]
  },
  {
   "cell_type": "code",
   "execution_count": 785,
   "metadata": {},
   "outputs": [
    {
     "data": {
      "text/plain": [
       "5448"
      ]
     },
     "execution_count": 785,
     "metadata": {},
     "output_type": "execute_result"
    }
   ],
   "source": [
    "y_test_wnd = make_windows(y_test_raw[TE_OFFSET_DEV:TE_OFFSET_DEV+TE_N_DEV], N_WINDOW_POINTS)\n",
    "len(y_test_wnd)"
   ]
  },
  {
   "cell_type": "code",
   "execution_count": 786,
   "metadata": {},
   "outputs": [
    {
     "data": {
      "text/plain": [
       "RangeIndex(start=2041993, stop=2042057, step=1)"
      ]
     },
     "execution_count": 786,
     "metadata": {},
     "output_type": "execute_result"
    }
   ],
   "source": [
    "X_test_wnd[0]"
   ]
  },
  {
   "cell_type": "code",
   "execution_count": 787,
   "metadata": {},
   "outputs": [
    {
     "data": {
      "text/plain": [
       "2041993     147\n",
       "2041994     154\n",
       "2041995     176\n",
       "2041996     215\n",
       "2041997     279\n",
       "2041998     358\n",
       "2041999     443\n",
       "2042000     539\n",
       "2042001     625\n",
       "2042002     696\n",
       "2042003     755\n",
       "2042004     791\n",
       "2042005     801\n",
       "2042006     790\n",
       "2042007     755\n",
       "2042008     691\n",
       "2042009     598\n",
       "2042010     478\n",
       "2042011     333\n",
       "2042012     169\n",
       "2042013      -6\n",
       "2042014    -183\n",
       "2042015    -360\n",
       "2042016    -528\n",
       "2042017    -681\n",
       "2042018    -813\n",
       "2042019    -926\n",
       "2042020   -1016\n",
       "2042021   -1084\n",
       "2042022   -1128\n",
       "           ... \n",
       "2042027   -1046\n",
       "2042028   -1002\n",
       "2042029    -955\n",
       "2042030    -902\n",
       "2042031    -845\n",
       "2042032    -791\n",
       "2042033    -742\n",
       "2042034    -694\n",
       "2042035    -644\n",
       "2042036    -589\n",
       "2042037    -525\n",
       "2042038    -453\n",
       "2042039    -378\n",
       "2042040    -309\n",
       "2042041    -250\n",
       "2042042    -204\n",
       "2042043    -170\n",
       "2042044    -141\n",
       "2042045    -115\n",
       "2042046     -91\n",
       "2042047     -71\n",
       "2042048     -58\n",
       "2042049     -58\n",
       "2042050     -71\n",
       "2042051     -95\n",
       "2042052    -120\n",
       "2042053    -146\n",
       "2042054    -169\n",
       "2042055    -188\n",
       "2042056    -210\n",
       "Name: L, Length: 64, dtype: int16"
      ]
     },
     "execution_count": 787,
     "metadata": {},
     "output_type": "execute_result"
    }
   ],
   "source": [
    "X_test_raw[X_test_wnd[0]]"
   ]
  },
  {
   "cell_type": "markdown",
   "metadata": {},
   "source": [
    "## Preparing data for processing"
   ]
  },
  {
   "cell_type": "code",
   "execution_count": 788,
   "metadata": {},
   "outputs": [
    {
     "data": {
      "text/plain": [
       "(88200    -725\n",
       " 88201    -877\n",
       " 88202    -986\n",
       " 88203   -1013\n",
       " 88204    -959\n",
       " 88205    -815\n",
       " 88206    -628\n",
       " 88207    -424\n",
       " 88208    -218\n",
       " 88209     -28\n",
       " 88210     151\n",
       " 88211     303\n",
       " 88212     431\n",
       " 88213     534\n",
       " 88214     615\n",
       " 88215     671\n",
       " 88216     707\n",
       " 88217     751\n",
       " 88218     842\n",
       " 88219     990\n",
       " 88220    1158\n",
       " 88221    1316\n",
       " 88222    1448\n",
       " 88223    1559\n",
       " 88224    1660\n",
       " 88225    1754\n",
       " 88226    1793\n",
       " 88227    1738\n",
       " 88228    1584\n",
       " 88229    1357\n",
       "          ... \n",
       " 88234     145\n",
       " 88235     -87\n",
       " 88236    -274\n",
       " 88237    -416\n",
       " 88238    -514\n",
       " 88239    -565\n",
       " 88240    -592\n",
       " 88241    -576\n",
       " 88242    -540\n",
       " 88243    -500\n",
       " 88244    -454\n",
       " 88245    -398\n",
       " 88246    -337\n",
       " 88247    -263\n",
       " 88248    -176\n",
       " 88249     -94\n",
       " 88250       3\n",
       " 88251      96\n",
       " 88252     190\n",
       " 88253     267\n",
       " 88254     319\n",
       " 88255     365\n",
       " 88256     400\n",
       " 88257     443\n",
       " 88258     482\n",
       " 88259     512\n",
       " 88260     504\n",
       " 88261     474\n",
       " 88262     451\n",
       " 88263     421\n",
       " Name: L, Length: 64, dtype: int16, 88201    -877\n",
       " 88202    -986\n",
       " 88203   -1013\n",
       " 88204    -959\n",
       " 88205    -815\n",
       " 88206    -628\n",
       " 88207    -424\n",
       " 88208    -218\n",
       " 88209     -28\n",
       " 88210     151\n",
       " 88211     303\n",
       " 88212     431\n",
       " 88213     534\n",
       " 88214     615\n",
       " 88215     671\n",
       " 88216     707\n",
       " 88217     751\n",
       " 88218     842\n",
       " 88219     990\n",
       " 88220    1158\n",
       " 88221    1316\n",
       " 88222    1448\n",
       " 88223    1559\n",
       " 88224    1660\n",
       " 88225    1754\n",
       " 88226    1793\n",
       " 88227    1738\n",
       " 88228    1584\n",
       " 88229    1357\n",
       " 88230    1122\n",
       "          ... \n",
       " 88235     -87\n",
       " 88236    -274\n",
       " 88237    -416\n",
       " 88238    -514\n",
       " 88239    -565\n",
       " 88240    -592\n",
       " 88241    -576\n",
       " 88242    -540\n",
       " 88243    -500\n",
       " 88244    -454\n",
       " 88245    -398\n",
       " 88246    -337\n",
       " 88247    -263\n",
       " 88248    -176\n",
       " 88249     -94\n",
       " 88250       3\n",
       " 88251      96\n",
       " 88252     190\n",
       " 88253     267\n",
       " 88254     319\n",
       " 88255     365\n",
       " 88256     400\n",
       " 88257     443\n",
       " 88258     482\n",
       " 88259     512\n",
       " 88260     504\n",
       " 88261     474\n",
       " 88262     451\n",
       " 88263     421\n",
       " 88264     401\n",
       " Name: L, Length: 64, dtype: int16)"
      ]
     },
     "execution_count": 788,
     "metadata": {},
     "output_type": "execute_result"
    }
   ],
   "source": [
    "X_train = list(map(lambda wnd: X_train_raw[wnd], X_train_wnd))\n",
    "X_train[0], X_train[1]"
   ]
  },
  {
   "cell_type": "code",
   "execution_count": 789,
   "metadata": {},
   "outputs": [
    {
     "data": {
      "text/plain": [
       "(2041993     147\n",
       " 2041994     154\n",
       " 2041995     176\n",
       " 2041996     215\n",
       " 2041997     279\n",
       " 2041998     358\n",
       " 2041999     443\n",
       " 2042000     539\n",
       " 2042001     625\n",
       " 2042002     696\n",
       " 2042003     755\n",
       " 2042004     791\n",
       " 2042005     801\n",
       " 2042006     790\n",
       " 2042007     755\n",
       " 2042008     691\n",
       " 2042009     598\n",
       " 2042010     478\n",
       " 2042011     333\n",
       " 2042012     169\n",
       " 2042013      -6\n",
       " 2042014    -183\n",
       " 2042015    -360\n",
       " 2042016    -528\n",
       " 2042017    -681\n",
       " 2042018    -813\n",
       " 2042019    -926\n",
       " 2042020   -1016\n",
       " 2042021   -1084\n",
       " 2042022   -1128\n",
       "            ... \n",
       " 2042027   -1046\n",
       " 2042028   -1002\n",
       " 2042029    -955\n",
       " 2042030    -902\n",
       " 2042031    -845\n",
       " 2042032    -791\n",
       " 2042033    -742\n",
       " 2042034    -694\n",
       " 2042035    -644\n",
       " 2042036    -589\n",
       " 2042037    -525\n",
       " 2042038    -453\n",
       " 2042039    -378\n",
       " 2042040    -309\n",
       " 2042041    -250\n",
       " 2042042    -204\n",
       " 2042043    -170\n",
       " 2042044    -141\n",
       " 2042045    -115\n",
       " 2042046     -91\n",
       " 2042047     -71\n",
       " 2042048     -58\n",
       " 2042049     -58\n",
       " 2042050     -71\n",
       " 2042051     -95\n",
       " 2042052    -120\n",
       " 2042053    -146\n",
       " 2042054    -169\n",
       " 2042055    -188\n",
       " 2042056    -210\n",
       " Name: L, Length: 64, dtype: int16, 2041994     154\n",
       " 2041995     176\n",
       " 2041996     215\n",
       " 2041997     279\n",
       " 2041998     358\n",
       " 2041999     443\n",
       " 2042000     539\n",
       " 2042001     625\n",
       " 2042002     696\n",
       " 2042003     755\n",
       " 2042004     791\n",
       " 2042005     801\n",
       " 2042006     790\n",
       " 2042007     755\n",
       " 2042008     691\n",
       " 2042009     598\n",
       " 2042010     478\n",
       " 2042011     333\n",
       " 2042012     169\n",
       " 2042013      -6\n",
       " 2042014    -183\n",
       " 2042015    -360\n",
       " 2042016    -528\n",
       " 2042017    -681\n",
       " 2042018    -813\n",
       " 2042019    -926\n",
       " 2042020   -1016\n",
       " 2042021   -1084\n",
       " 2042022   -1128\n",
       " 2042023   -1144\n",
       "            ... \n",
       " 2042028   -1002\n",
       " 2042029    -955\n",
       " 2042030    -902\n",
       " 2042031    -845\n",
       " 2042032    -791\n",
       " 2042033    -742\n",
       " 2042034    -694\n",
       " 2042035    -644\n",
       " 2042036    -589\n",
       " 2042037    -525\n",
       " 2042038    -453\n",
       " 2042039    -378\n",
       " 2042040    -309\n",
       " 2042041    -250\n",
       " 2042042    -204\n",
       " 2042043    -170\n",
       " 2042044    -141\n",
       " 2042045    -115\n",
       " 2042046     -91\n",
       " 2042047     -71\n",
       " 2042048     -58\n",
       " 2042049     -58\n",
       " 2042050     -71\n",
       " 2042051     -95\n",
       " 2042052    -120\n",
       " 2042053    -146\n",
       " 2042054    -169\n",
       " 2042055    -188\n",
       " 2042056    -210\n",
       " 2042057    -243\n",
       " Name: L, Length: 64, dtype: int16)"
      ]
     },
     "execution_count": 789,
     "metadata": {},
     "output_type": "execute_result"
    }
   ],
   "source": [
    "X_test = list(map(lambda wnd: X_test_raw[wnd], X_test_wnd))\n",
    "X_test[0], X_test[1]"
   ]
  },
  {
   "cell_type": "code",
   "execution_count": 790,
   "metadata": {},
   "outputs": [
    {
     "data": {
      "text/plain": [
       "(88200    1118\n",
       " 88201     258\n",
       " 88202     145\n",
       " 88203     854\n",
       " 88204     896\n",
       " 88205     -54\n",
       " 88206   -1922\n",
       " 88207   -3178\n",
       " 88208   -1751\n",
       " 88209    1715\n",
       " 88210    4552\n",
       " 88211    4313\n",
       " 88212    2005\n",
       " 88213    -137\n",
       " 88214   -1049\n",
       " 88215     866\n",
       " 88216    3828\n",
       " 88217    4486\n",
       " 88218    2774\n",
       " 88219      42\n",
       " 88220   -1738\n",
       " 88221   -1592\n",
       " 88222     -35\n",
       " 88223    1778\n",
       " 88224    2595\n",
       " 88225    1983\n",
       " 88226    1740\n",
       " 88227    1965\n",
       " 88228    1299\n",
       " 88229    1925\n",
       "          ... \n",
       " 88234    -442\n",
       " 88235    1143\n",
       " 88236    3186\n",
       " 88237    4384\n",
       " 88238    3292\n",
       " 88239    -477\n",
       " 88240   -2510\n",
       " 88241    -662\n",
       " 88242    3925\n",
       " 88243    7671\n",
       " 88244    6696\n",
       " 88245    3316\n",
       " 88246     803\n",
       " 88247    1191\n",
       " 88248    3828\n",
       " 88249    5551\n",
       " 88250    5037\n",
       " 88251    3819\n",
       " 88252    3078\n",
       " 88253    2579\n",
       " 88254    2618\n",
       " 88255    2391\n",
       " 88256    2255\n",
       " 88257    2113\n",
       " 88258    1952\n",
       " 88259    2723\n",
       " 88260    2672\n",
       " 88261    1317\n",
       " 88262     712\n",
       " 88263    1208\n",
       " Name: L, Length: 64, dtype: int16, 88201     258\n",
       " 88202     145\n",
       " 88203     854\n",
       " 88204     896\n",
       " 88205     -54\n",
       " 88206   -1922\n",
       " 88207   -3178\n",
       " 88208   -1751\n",
       " 88209    1715\n",
       " 88210    4552\n",
       " 88211    4313\n",
       " 88212    2005\n",
       " 88213    -137\n",
       " 88214   -1049\n",
       " 88215     866\n",
       " 88216    3828\n",
       " 88217    4486\n",
       " 88218    2774\n",
       " 88219      42\n",
       " 88220   -1738\n",
       " 88221   -1592\n",
       " 88222     -35\n",
       " 88223    1778\n",
       " 88224    2595\n",
       " 88225    1983\n",
       " 88226    1740\n",
       " 88227    1965\n",
       " 88228    1299\n",
       " 88229    1925\n",
       " 88230    3392\n",
       "          ... \n",
       " 88235    1143\n",
       " 88236    3186\n",
       " 88237    4384\n",
       " 88238    3292\n",
       " 88239    -477\n",
       " 88240   -2510\n",
       " 88241    -662\n",
       " 88242    3925\n",
       " 88243    7671\n",
       " 88244    6696\n",
       " 88245    3316\n",
       " 88246     803\n",
       " 88247    1191\n",
       " 88248    3828\n",
       " 88249    5551\n",
       " 88250    5037\n",
       " 88251    3819\n",
       " 88252    3078\n",
       " 88253    2579\n",
       " 88254    2618\n",
       " 88255    2391\n",
       " 88256    2255\n",
       " 88257    2113\n",
       " 88258    1952\n",
       " 88259    2723\n",
       " 88260    2672\n",
       " 88261    1317\n",
       " 88262     712\n",
       " 88263    1208\n",
       " 88264    1572\n",
       " Name: L, Length: 64, dtype: int16)"
      ]
     },
     "execution_count": 790,
     "metadata": {},
     "output_type": "execute_result"
    }
   ],
   "source": [
    "y_train = list(map(lambda wnd: y_train_raw[wnd], y_train_wnd))\n",
    "y_train[0], y_train[1]"
   ]
  },
  {
   "cell_type": "code",
   "execution_count": 791,
   "metadata": {},
   "outputs": [
    {
     "data": {
      "text/plain": [
       "(2041993     314\n",
       " 2041994    -408\n",
       " 2041995    -288\n",
       " 2041996    -101\n",
       " 2041997    -390\n",
       " 2041998   -1198\n",
       " 2041999   -2009\n",
       " 2042000   -2520\n",
       " 2042001   -2666\n",
       " 2042002   -2592\n",
       " 2042003   -2741\n",
       " 2042004   -2906\n",
       " 2042005   -2911\n",
       " 2042006   -2718\n",
       " 2042007   -2175\n",
       " 2042008   -1581\n",
       " 2042009   -1250\n",
       " 2042010   -1388\n",
       " 2042011   -1692\n",
       " 2042012   -1780\n",
       " 2042013   -1656\n",
       " 2042014   -1289\n",
       " 2042015    -987\n",
       " 2042016    -755\n",
       " 2042017    -609\n",
       " 2042018    -437\n",
       " 2042019    -199\n",
       " 2042020     -61\n",
       " 2042021      19\n",
       " 2042022    -117\n",
       "            ... \n",
       " 2042027     288\n",
       " 2042028     476\n",
       " 2042029     254\n",
       " 2042030    -152\n",
       " 2042031     229\n",
       " 2042032     748\n",
       " 2042033     953\n",
       " 2042034     871\n",
       " 2042035     455\n",
       " 2042036    -128\n",
       " 2042037    -425\n",
       " 2042038    -205\n",
       " 2042039     534\n",
       " 2042040     549\n",
       " 2042041     -71\n",
       " 2042042    -413\n",
       " 2042043    -554\n",
       " 2042044    -291\n",
       " 2042045       9\n",
       " 2042046     611\n",
       " 2042047     561\n",
       " 2042048    -444\n",
       " 2042049    -614\n",
       " 2042050    -416\n",
       " 2042051    -173\n",
       " 2042052     333\n",
       " 2042053     247\n",
       " 2042054      49\n",
       " 2042055     241\n",
       " 2042056      87\n",
       " Name: L, Length: 64, dtype: int16, 2041994    -408\n",
       " 2041995    -288\n",
       " 2041996    -101\n",
       " 2041997    -390\n",
       " 2041998   -1198\n",
       " 2041999   -2009\n",
       " 2042000   -2520\n",
       " 2042001   -2666\n",
       " 2042002   -2592\n",
       " 2042003   -2741\n",
       " 2042004   -2906\n",
       " 2042005   -2911\n",
       " 2042006   -2718\n",
       " 2042007   -2175\n",
       " 2042008   -1581\n",
       " 2042009   -1250\n",
       " 2042010   -1388\n",
       " 2042011   -1692\n",
       " 2042012   -1780\n",
       " 2042013   -1656\n",
       " 2042014   -1289\n",
       " 2042015    -987\n",
       " 2042016    -755\n",
       " 2042017    -609\n",
       " 2042018    -437\n",
       " 2042019    -199\n",
       " 2042020     -61\n",
       " 2042021      19\n",
       " 2042022    -117\n",
       " 2042023     -55\n",
       "            ... \n",
       " 2042028     476\n",
       " 2042029     254\n",
       " 2042030    -152\n",
       " 2042031     229\n",
       " 2042032     748\n",
       " 2042033     953\n",
       " 2042034     871\n",
       " 2042035     455\n",
       " 2042036    -128\n",
       " 2042037    -425\n",
       " 2042038    -205\n",
       " 2042039     534\n",
       " 2042040     549\n",
       " 2042041     -71\n",
       " 2042042    -413\n",
       " 2042043    -554\n",
       " 2042044    -291\n",
       " 2042045       9\n",
       " 2042046     611\n",
       " 2042047     561\n",
       " 2042048    -444\n",
       " 2042049    -614\n",
       " 2042050    -416\n",
       " 2042051    -173\n",
       " 2042052     333\n",
       " 2042053     247\n",
       " 2042054      49\n",
       " 2042055     241\n",
       " 2042056      87\n",
       " 2042057      87\n",
       " Name: L, Length: 64, dtype: int16)"
      ]
     },
     "execution_count": 791,
     "metadata": {},
     "output_type": "execute_result"
    }
   ],
   "source": [
    "y_test = list(map(lambda wnd: y_test_raw[wnd], y_test_wnd))\n",
    "y_test[0], y_test[1]"
   ]
  },
  {
   "cell_type": "code",
   "execution_count": 792,
   "metadata": {},
   "outputs": [],
   "source": [
    "def normalize_keeping_mean(arr, forced_abs=None):\n",
    "    left_abs = np.abs(arr.mean() - arr.min())\n",
    "    right_abs = np.abs(arr.max() - arr.mean())\n",
    "    \n",
    "    n = max(left_abs, right_abs)\n",
    "    \n",
    "    if (forced_abs is not None):\n",
    "        n = forced_abs\n",
    "    \n",
    "    return np.clip(arr / n, -1.0, 1.0)"
   ]
  },
  {
   "cell_type": "code",
   "execution_count": 793,
   "metadata": {},
   "outputs": [],
   "source": [
    "def normalize(arr, forced_abs=None, mean=None):\n",
    "    left_abs = np.abs(arr.mean() - arr.min())\n",
    "    right_abs = np.abs(arr.max() - arr.mean())\n",
    "    \n",
    "    n = max(left_abs, right_abs)\n",
    "    \n",
    "    if (forced_abs is not None):\n",
    "        n = forced_abs\n",
    "        \n",
    "    if (mean is None):\n",
    "        mean = arr.mean()\n",
    "    \n",
    "    \n",
    "    return np.clip((arr - mean) / n, -1.0, 1.0)"
   ]
  },
  {
   "cell_type": "code",
   "execution_count": 794,
   "metadata": {},
   "outputs": [
    {
     "data": {
      "text/plain": [
       "(-0.07431257057405316, 0.09094515823847163, -1.7989684502620792e-06)"
      ]
     },
     "execution_count": 794,
     "metadata": {},
     "output_type": "execute_result"
    }
   ],
   "source": [
    "X_tr = np.array(list(map(lambda x: np.array(x), X_train)))\n",
    "X_tr_n = normalize(X_tr, forced_abs=MAX_VALUE, mean=0.0)\n",
    "X_tr_n.min(), X_tr_n.max(), np.mean(X_tr_n)"
   ]
  },
  {
   "cell_type": "code",
   "execution_count": 795,
   "metadata": {},
   "outputs": [
    {
     "data": {
      "text/plain": [
       "<matplotlib.axes._subplots.AxesSubplot at 0x195028da0>"
      ]
     },
     "execution_count": 795,
     "metadata": {},
     "output_type": "execute_result"
    },
    {
     "data": {
      "image/png": "[encoded data removed]",
      "text/plain": [
       "<Figure size 432x288 with 1 Axes>"
      ]
     },
     "metadata": {
      "needs_background": "light"
     },
     "output_type": "display_data"
    }
   ],
   "source": [
    "pd.Series(X_tr_n[100]).plot.line()"
   ]
  },
  {
   "cell_type": "code",
   "execution_count": 796,
   "metadata": {},
   "outputs": [
    {
     "data": {
      "text/plain": [
       "<matplotlib.axes._subplots.AxesSubplot at 0x195028898>"
      ]
     },
     "execution_count": 796,
     "metadata": {},
     "output_type": "execute_result"
    },
    {
     "data": {
      "image/png": "[encoded data removed]",
      "text/plain": [
       "<Figure size 432x288 with 1 Axes>"
      ]
     },
     "metadata": {
      "needs_background": "light"
     },
     "output_type": "display_data"
    }
   ],
   "source": [
    "pd.Series(y_tr_n[100]).plot.line()"
   ]
  },
  {
   "cell_type": "code",
   "execution_count": 797,
   "metadata": {},
   "outputs": [
    {
     "data": {
      "text/plain": [
       "(-0.05261391033661916, 0.04519791253395184, -4.461425654356498e-05)"
      ]
     },
     "execution_count": 797,
     "metadata": {},
     "output_type": "execute_result"
    }
   ],
   "source": [
    "X_te = np.array(list(map(lambda x: np.array(x), X_test)))\n",
    "X_te_n = normalize_keeping_mean(X_te, forced_abs=MAX_VALUE)\n",
    "X_te_n.min(), X_te_n.max(), np.mean(X_te_n)"
   ]
  },
  {
   "cell_type": "code",
   "execution_count": 798,
   "metadata": {},
   "outputs": [
    {
     "data": {
      "text/plain": [
       "(-0.401989806817835, 0.380596331675161, 3.3109552483912526e-06)"
      ]
     },
     "execution_count": 798,
     "metadata": {},
     "output_type": "execute_result"
    }
   ],
   "source": [
    "y_tr = np.array(list(map(lambda x: np.array(x), y_train)))\n",
    "y_tr_n = normalize_keeping_mean(y_tr, forced_abs=MAX_VALUE)\n",
    "y_tr_n.min(), y_tr_n.max(), np.mean(y_tr_n)"
   ]
  },
  {
   "cell_type": "code",
   "execution_count": 799,
   "metadata": {},
   "outputs": [
    {
     "data": {
      "text/plain": [
       "(-0.16470839564195686, 0.1424604022339549, -6.50186607129133e-05)"
      ]
     },
     "execution_count": 799,
     "metadata": {},
     "output_type": "execute_result"
    }
   ],
   "source": [
    "y_te = np.array(list(map(lambda x: np.array(x), y_test)))\n",
    "y_te_n = normalize_keeping_mean(y_te, forced_abs=MAX_VALUE)\n",
    "y_te_n.min(), y_te_n.max(), np.mean(y_te_n)"
   ]
  },
  {
   "cell_type": "code",
   "execution_count": 800,
   "metadata": {},
   "outputs": [],
   "source": [
    "X_tr_n = X_tr_n.astype('float32')\n",
    "X_te_n = X_te_n.astype('float32')\n",
    "y_tr_n = X_tr_n.astype('float32')\n",
    "y_te_n = X_te.astype('float32')"
   ]
  },
  {
   "cell_type": "markdown",
   "metadata": {},
   "source": [
    "## Need to apply FFT to data\n",
    "\n",
    "The plan is to apply FFT, and take the freqs and amplitudes of first N peaks, feeding it into NN"
   ]
  },
  {
   "cell_type": "code",
   "execution_count": 801,
   "metadata": {},
   "outputs": [
    {
     "data": {
      "text/plain": [
       "array([  147,   154,   176,   215,   279,   358,   443,   539,   625,\n",
       "         696,   755,   791,   801,   790,   755,   691,   598,   478,\n",
       "         333,   169,    -6,  -183,  -360,  -528,  -681,  -813,  -926,\n",
       "       -1016, -1084, -1128, -1144, -1134, -1111, -1082, -1046, -1002,\n",
       "        -955,  -902,  -845,  -791,  -742,  -694,  -644,  -589,  -525,\n",
       "        -453,  -378,  -309,  -250,  -204,  -170,  -141,  -115,   -91,\n",
       "         -71,   -58,   -58,   -71,   -95,  -120,  -146,  -169,  -188,\n",
       "        -210], dtype=int16)"
      ]
     },
     "execution_count": 801,
     "metadata": {},
     "output_type": "execute_result"
    }
   ],
   "source": [
    "test_wnd = X_te[0]\n",
    "test_wnd"
   ]
  },
  {
   "cell_type": "code",
   "execution_count": 802,
   "metadata": {},
   "outputs": [
    {
     "data": {
      "text/plain": [
       "44100"
      ]
     },
     "execution_count": 802,
     "metadata": {},
     "output_type": "execute_result"
    }
   ],
   "source": [
    "FD = 22050 * 2\n",
    "FD"
   ]
  },
  {
   "cell_type": "code",
   "execution_count": 803,
   "metadata": {},
   "outputs": [
    {
     "data": {
      "text/plain": [
       "<matplotlib.axes._subplots.AxesSubplot at 0x195151240>"
      ]
     },
     "execution_count": 803,
     "metadata": {},
     "output_type": "execute_result"
    },
    {
     "data": {
      "image/png": "[encoded data removed]",
      "text/plain": [
       "<Figure size 432x288 with 1 Axes>"
      ]
     },
     "metadata": {
      "needs_background": "light"
     },
     "output_type": "display_data"
    }
   ],
   "source": [
    "pd.Series(test_wnd).plot.line()"
   ]
  },
  {
   "cell_type": "code",
   "execution_count": 804,
   "metadata": {},
   "outputs": [
    {
     "name": "stdout",
     "output_type": "stream",
     "text": [
      "22050.0\n",
      "[0.0, 668.1818181818182, 1336.3636363636365, 2004.5454545454545, 2672.727272727273, 3340.909090909091, 4009.090909090909, 4677.272727272727, 5345.454545454546, 6013.636363636363, 6681.818181818182, 7350.0, 8018.181818181818, 8686.363636363636, 9354.545454545454, 10022.727272727272, 10690.909090909092, 11359.090909090908, 12027.272727272726, 12695.454545454546, 13363.636363636364, 14031.818181818182, 14700.0, 15368.18181818182, 16036.363636363636, 16704.545454545456, 17372.727272727272, 18040.909090909092, 18709.090909090908, 19377.272727272728, 20045.454545454544, 20713.636363636364, 21381.818181818184]\n"
     ]
    }
   ],
   "source": [
    "from numpy.fft import rfft, fftfreq, rfftfreq\n",
    "\n",
    "freq = rfftfreq(32, 1./FD)\n",
    "max_freq = freq[-1]\n",
    "\n",
    "print(max_freq)\n",
    "\n",
    "fft = rfft(test_wnd)\n",
    "\n",
    "df = pd.Series(fft)\n",
    "\n",
    "index = []\n",
    "\n",
    "for i in range(0, len(fft)):\n",
    "    index = index + [(i / len(fft)) * max_freq]\n",
    "\n",
    "print(index)\n",
    "\n",
    "df.index = index"
   ]
  },
  {
   "cell_type": "code",
   "execution_count": 805,
   "metadata": {},
   "outputs": [
    {
     "data": {
      "text/plain": [
       "<matplotlib.axes._subplots.AxesSubplot at 0x19523a898>"
      ]
     },
     "execution_count": 805,
     "metadata": {},
     "output_type": "execute_result"
    },
    {
     "data": {
      "image/png": "[encoded data removed]",
      "text/plain": [
       "<Figure size 432x288 with 1 Axes>"
      ]
     },
     "metadata": {
      "needs_background": "light"
     },
     "output_type": "display_data"
    }
   ],
   "source": [
    "df.map(lambda x: x.imag).plot.line()"
   ]
  },
  {
   "cell_type": "code",
   "execution_count": 806,
   "metadata": {},
   "outputs": [
    {
     "data": {
      "text/plain": [
       "<matplotlib.axes._subplots.AxesSubplot at 0x196c26048>"
      ]
     },
     "execution_count": 806,
     "metadata": {},
     "output_type": "execute_result"
    },
    {
     "data": {
      "image/png": "[encoded data removed]",
      "text/plain": [
       "<Figure size 1152x576 with 1 Axes>"
      ]
     },
     "metadata": {
      "needs_background": "light"
     },
     "output_type": "display_data"
    }
   ],
   "source": [
    "from scipy.signal import find_peaks\n",
    "from matplotlib import pyplot as plt\n",
    "\n",
    "(fig, ax) = plt.subplots(figsize=(16, 8))\n",
    "df.plot.line(ax=ax)\n",
    "\n",
    "peaks_re = find_peaks(df.map(lambda x: x.real))[0]\n",
    "peaks_im = find_peaks(df.map(lambda x: x.imag))[0]\n",
    "\n",
    "pd.DataFrame(df.iloc[peaks_re]).plot.line(ax=ax)"
   ]
  },
  {
   "cell_type": "code",
   "execution_count": 807,
   "metadata": {},
   "outputs": [],
   "source": [
    "def append_peaks(df, peaks, N):\n",
    "    res = df.iloc[peaks[:N]]\n",
    "\n",
    "    for i in range(len(peaks), N_PEAKS):\n",
    "        res = res.append(pd.Series([0], index=[0]))\n",
    "        \n",
    "    return res"
   ]
  },
  {
   "cell_type": "code",
   "execution_count": 884,
   "metadata": {},
   "outputs": [
    {
     "name": "stderr",
     "output_type": "stream",
     "text": [
      "/usr/local/lib/python3.7/site-packages/numpy/core/numeric.py:538: ComplexWarning: Casting complex values to real discards the imaginary part\n",
      "  return array(a, dtype, copy=False, order=order)\n"
     ]
    },
    {
     "ename": "KeyError",
     "evalue": "10.0",
     "output_type": "error",
     "traceback": [
      "\u001b[0;31m---------------------------------------------------------------------------\u001b[0m",
      "\u001b[0;31mValueError\u001b[0m                                Traceback (most recent call last)",
      "\u001b[0;32m/usr/local/lib/python3.7/site-packages/pandas/core/indexes/base.py\u001b[0m in \u001b[0;36mget_slice_bound\u001b[0;34m(self, label, side, kind)\u001b[0m\n\u001b[1;32m   4803\u001b[0m             \u001b[0;32mtry\u001b[0m\u001b[0;34m:\u001b[0m\u001b[0;34m\u001b[0m\u001b[0;34m\u001b[0m\u001b[0m\n\u001b[0;32m-> 4804\u001b[0;31m                 \u001b[0;32mreturn\u001b[0m \u001b[0mself\u001b[0m\u001b[0;34m.\u001b[0m\u001b[0m_searchsorted_monotonic\u001b[0m\u001b[0;34m(\u001b[0m\u001b[0mlabel\u001b[0m\u001b[0;34m,\u001b[0m \u001b[0mside\u001b[0m\u001b[0;34m)\u001b[0m\u001b[0;34m\u001b[0m\u001b[0;34m\u001b[0m\u001b[0m\n\u001b[0m\u001b[1;32m   4805\u001b[0m             \u001b[0;32mexcept\u001b[0m \u001b[0mValueError\u001b[0m\u001b[0;34m:\u001b[0m\u001b[0;34m\u001b[0m\u001b[0;34m\u001b[0m\u001b[0m\n",
      "\u001b[0;32m/usr/local/lib/python3.7/site-packages/pandas/core/indexes/base.py\u001b[0m in \u001b[0;36m_searchsorted_monotonic\u001b[0;34m(self, label, side)\u001b[0m\n\u001b[1;32m   4763\u001b[0m \u001b[0;34m\u001b[0m\u001b[0m\n\u001b[0;32m-> 4764\u001b[0;31m         \u001b[0;32mraise\u001b[0m \u001b[0mValueError\u001b[0m\u001b[0;34m(\u001b[0m\u001b[0;34m'index must be monotonic increasing or decreasing'\u001b[0m\u001b[0;34m)\u001b[0m\u001b[0;34m\u001b[0m\u001b[0;34m\u001b[0m\u001b[0m\n\u001b[0m\u001b[1;32m   4765\u001b[0m \u001b[0;34m\u001b[0m\u001b[0m\n",
      "\u001b[0;31mValueError\u001b[0m: index must be monotonic increasing or decreasing",
      "\nDuring handling of the above exception, another exception occurred:\n",
      "\u001b[0;31mKeyError\u001b[0m                                  Traceback (most recent call last)",
      "\u001b[0;32m<ipython-input-884-1a166f017c1f>\u001b[0m in \u001b[0;36m<module>\u001b[0;34m\u001b[0m\n\u001b[1;32m      2\u001b[0m \u001b[0;34m\u001b[0m\u001b[0m\n\u001b[1;32m      3\u001b[0m \u001b[0mpeaks_re\u001b[0m \u001b[0;34m=\u001b[0m \u001b[0mappend_peaks\u001b[0m\u001b[0;34m(\u001b[0m\u001b[0mdf\u001b[0m\u001b[0;34m,\u001b[0m \u001b[0mpeaks_re\u001b[0m\u001b[0;34m,\u001b[0m \u001b[0mN_PEAKS\u001b[0m\u001b[0;34m)\u001b[0m\u001b[0;34m\u001b[0m\u001b[0;34m\u001b[0m\u001b[0m\n\u001b[0;32m----> 4\u001b[0;31m \u001b[0mpeaks_im\u001b[0m \u001b[0;34m=\u001b[0m \u001b[0mappend_peaks\u001b[0m\u001b[0;34m(\u001b[0m\u001b[0mdf\u001b[0m\u001b[0;34m,\u001b[0m \u001b[0mpeaks_im\u001b[0m\u001b[0;34m,\u001b[0m \u001b[0mN_PEAKS\u001b[0m\u001b[0;34m)\u001b[0m\u001b[0;34m\u001b[0m\u001b[0;34m\u001b[0m\u001b[0m\n\u001b[0m\u001b[1;32m      5\u001b[0m \u001b[0;34m\u001b[0m\u001b[0m\n\u001b[1;32m      6\u001b[0m \u001b[0;34m(\u001b[0m\u001b[0mpeaks_re\u001b[0m\u001b[0;34m,\u001b[0m \u001b[0mpeaks_im\u001b[0m\u001b[0;34m)\u001b[0m\u001b[0;34m\u001b[0m\u001b[0;34m\u001b[0m\u001b[0m\n",
      "\u001b[0;32m<ipython-input-807-3587a033d746>\u001b[0m in \u001b[0;36mappend_peaks\u001b[0;34m(df, peaks, N)\u001b[0m\n\u001b[1;32m      1\u001b[0m \u001b[0;32mdef\u001b[0m \u001b[0mappend_peaks\u001b[0m\u001b[0;34m(\u001b[0m\u001b[0mdf\u001b[0m\u001b[0;34m,\u001b[0m \u001b[0mpeaks\u001b[0m\u001b[0;34m,\u001b[0m \u001b[0mN\u001b[0m\u001b[0;34m)\u001b[0m\u001b[0;34m:\u001b[0m\u001b[0;34m\u001b[0m\u001b[0;34m\u001b[0m\u001b[0m\n\u001b[0;32m----> 2\u001b[0;31m     \u001b[0mres\u001b[0m \u001b[0;34m=\u001b[0m \u001b[0mdf\u001b[0m\u001b[0;34m.\u001b[0m\u001b[0miloc\u001b[0m\u001b[0;34m[\u001b[0m\u001b[0mpeaks\u001b[0m\u001b[0;34m[\u001b[0m\u001b[0;34m:\u001b[0m\u001b[0mN\u001b[0m\u001b[0;34m]\u001b[0m\u001b[0;34m]\u001b[0m\u001b[0;34m\u001b[0m\u001b[0;34m\u001b[0m\u001b[0m\n\u001b[0m\u001b[1;32m      3\u001b[0m \u001b[0;34m\u001b[0m\u001b[0m\n\u001b[1;32m      4\u001b[0m     \u001b[0;32mfor\u001b[0m \u001b[0mi\u001b[0m \u001b[0;32min\u001b[0m \u001b[0mrange\u001b[0m\u001b[0;34m(\u001b[0m\u001b[0mlen\u001b[0m\u001b[0;34m(\u001b[0m\u001b[0mpeaks\u001b[0m\u001b[0;34m)\u001b[0m\u001b[0;34m,\u001b[0m \u001b[0mN_PEAKS\u001b[0m\u001b[0;34m)\u001b[0m\u001b[0;34m:\u001b[0m\u001b[0;34m\u001b[0m\u001b[0;34m\u001b[0m\u001b[0m\n\u001b[1;32m      5\u001b[0m         \u001b[0mres\u001b[0m \u001b[0;34m=\u001b[0m \u001b[0mres\u001b[0m\u001b[0;34m.\u001b[0m\u001b[0mappend\u001b[0m\u001b[0;34m(\u001b[0m\u001b[0mpd\u001b[0m\u001b[0;34m.\u001b[0m\u001b[0mSeries\u001b[0m\u001b[0;34m(\u001b[0m\u001b[0;34m[\u001b[0m\u001b[0;36m0\u001b[0m\u001b[0;34m]\u001b[0m\u001b[0;34m,\u001b[0m \u001b[0mindex\u001b[0m\u001b[0;34m=\u001b[0m\u001b[0;34m[\u001b[0m\u001b[0;36m0\u001b[0m\u001b[0;34m]\u001b[0m\u001b[0;34m)\u001b[0m\u001b[0;34m)\u001b[0m\u001b[0;34m\u001b[0m\u001b[0;34m\u001b[0m\u001b[0m\n",
      "\u001b[0;32m/usr/local/lib/python3.7/site-packages/pandas/core/series.py\u001b[0m in \u001b[0;36m__getitem__\u001b[0;34m(self, key)\u001b[0m\n\u001b[1;32m    909\u001b[0m             \u001b[0mkey\u001b[0m \u001b[0;34m=\u001b[0m \u001b[0mcheck_bool_indexer\u001b[0m\u001b[0;34m(\u001b[0m\u001b[0mself\u001b[0m\u001b[0;34m.\u001b[0m\u001b[0mindex\u001b[0m\u001b[0;34m,\u001b[0m \u001b[0mkey\u001b[0m\u001b[0;34m)\u001b[0m\u001b[0;34m\u001b[0m\u001b[0;34m\u001b[0m\u001b[0m\n\u001b[1;32m    910\u001b[0m \u001b[0;34m\u001b[0m\u001b[0m\n\u001b[0;32m--> 911\u001b[0;31m         \u001b[0;32mreturn\u001b[0m \u001b[0mself\u001b[0m\u001b[0;34m.\u001b[0m\u001b[0m_get_with\u001b[0m\u001b[0;34m(\u001b[0m\u001b[0mkey\u001b[0m\u001b[0;34m)\u001b[0m\u001b[0;34m\u001b[0m\u001b[0;34m\u001b[0m\u001b[0m\n\u001b[0m\u001b[1;32m    912\u001b[0m \u001b[0;34m\u001b[0m\u001b[0m\n\u001b[1;32m    913\u001b[0m     \u001b[0;32mdef\u001b[0m \u001b[0m_get_with\u001b[0m\u001b[0;34m(\u001b[0m\u001b[0mself\u001b[0m\u001b[0;34m,\u001b[0m \u001b[0mkey\u001b[0m\u001b[0;34m)\u001b[0m\u001b[0;34m:\u001b[0m\u001b[0;34m\u001b[0m\u001b[0;34m\u001b[0m\u001b[0m\n",
      "\u001b[0;32m/usr/local/lib/python3.7/site-packages/pandas/core/series.py\u001b[0m in \u001b[0;36m_get_with\u001b[0;34m(self, key)\u001b[0m\n\u001b[1;32m    914\u001b[0m         \u001b[0;31m# other: fancy integer or otherwise\u001b[0m\u001b[0;34m\u001b[0m\u001b[0;34m\u001b[0m\u001b[0;34m\u001b[0m\u001b[0m\n\u001b[1;32m    915\u001b[0m         \u001b[0;32mif\u001b[0m \u001b[0misinstance\u001b[0m\u001b[0;34m(\u001b[0m\u001b[0mkey\u001b[0m\u001b[0;34m,\u001b[0m \u001b[0mslice\u001b[0m\u001b[0;34m)\u001b[0m\u001b[0;34m:\u001b[0m\u001b[0;34m\u001b[0m\u001b[0;34m\u001b[0m\u001b[0m\n\u001b[0;32m--> 916\u001b[0;31m             \u001b[0mindexer\u001b[0m \u001b[0;34m=\u001b[0m \u001b[0mself\u001b[0m\u001b[0;34m.\u001b[0m\u001b[0mindex\u001b[0m\u001b[0;34m.\u001b[0m\u001b[0m_convert_slice_indexer\u001b[0m\u001b[0;34m(\u001b[0m\u001b[0mkey\u001b[0m\u001b[0;34m,\u001b[0m \u001b[0mkind\u001b[0m\u001b[0;34m=\u001b[0m\u001b[0;34m'getitem'\u001b[0m\u001b[0;34m)\u001b[0m\u001b[0;34m\u001b[0m\u001b[0;34m\u001b[0m\u001b[0m\n\u001b[0m\u001b[1;32m    917\u001b[0m             \u001b[0;32mreturn\u001b[0m \u001b[0mself\u001b[0m\u001b[0;34m.\u001b[0m\u001b[0m_get_values\u001b[0m\u001b[0;34m(\u001b[0m\u001b[0mindexer\u001b[0m\u001b[0;34m)\u001b[0m\u001b[0;34m\u001b[0m\u001b[0;34m\u001b[0m\u001b[0m\n\u001b[1;32m    918\u001b[0m         \u001b[0;32melif\u001b[0m \u001b[0misinstance\u001b[0m\u001b[0;34m(\u001b[0m\u001b[0mkey\u001b[0m\u001b[0;34m,\u001b[0m \u001b[0mABCDataFrame\u001b[0m\u001b[0;34m)\u001b[0m\u001b[0;34m:\u001b[0m\u001b[0;34m\u001b[0m\u001b[0;34m\u001b[0m\u001b[0m\n",
      "\u001b[0;32m/usr/local/lib/python3.7/site-packages/pandas/core/indexes/numeric.py\u001b[0m in \u001b[0;36m_convert_slice_indexer\u001b[0;34m(self, key, kind)\u001b[0m\n\u001b[1;32m    356\u001b[0m \u001b[0;34m\u001b[0m\u001b[0m\n\u001b[1;32m    357\u001b[0m         \u001b[0;31m# translate to locations\u001b[0m\u001b[0;34m\u001b[0m\u001b[0;34m\u001b[0m\u001b[0;34m\u001b[0m\u001b[0m\n\u001b[0;32m--> 358\u001b[0;31m         \u001b[0;32mreturn\u001b[0m \u001b[0mself\u001b[0m\u001b[0;34m.\u001b[0m\u001b[0mslice_indexer\u001b[0m\u001b[0;34m(\u001b[0m\u001b[0mkey\u001b[0m\u001b[0;34m.\u001b[0m\u001b[0mstart\u001b[0m\u001b[0;34m,\u001b[0m \u001b[0mkey\u001b[0m\u001b[0;34m.\u001b[0m\u001b[0mstop\u001b[0m\u001b[0;34m,\u001b[0m \u001b[0mkey\u001b[0m\u001b[0;34m.\u001b[0m\u001b[0mstep\u001b[0m\u001b[0;34m,\u001b[0m \u001b[0mkind\u001b[0m\u001b[0;34m=\u001b[0m\u001b[0mkind\u001b[0m\u001b[0;34m)\u001b[0m\u001b[0;34m\u001b[0m\u001b[0;34m\u001b[0m\u001b[0m\n\u001b[0m\u001b[1;32m    359\u001b[0m \u001b[0;34m\u001b[0m\u001b[0m\n\u001b[1;32m    360\u001b[0m     def _format_native_types(self, na_rep='', float_format=None, decimal='.',\n",
      "\u001b[0;32m/usr/local/lib/python3.7/site-packages/pandas/core/indexes/base.py\u001b[0m in \u001b[0;36mslice_indexer\u001b[0;34m(self, start, end, step, kind)\u001b[0m\n\u001b[1;32m   4670\u001b[0m         \"\"\"\n\u001b[1;32m   4671\u001b[0m         start_slice, end_slice = self.slice_locs(start, end, step=step,\n\u001b[0;32m-> 4672\u001b[0;31m                                                  kind=kind)\n\u001b[0m\u001b[1;32m   4673\u001b[0m \u001b[0;34m\u001b[0m\u001b[0m\n\u001b[1;32m   4674\u001b[0m         \u001b[0;31m# return a slice\u001b[0m\u001b[0;34m\u001b[0m\u001b[0;34m\u001b[0m\u001b[0;34m\u001b[0m\u001b[0m\n",
      "\u001b[0;32m/usr/local/lib/python3.7/site-packages/pandas/core/indexes/base.py\u001b[0m in \u001b[0;36mslice_locs\u001b[0;34m(self, start, end, step, kind)\u001b[0m\n\u001b[1;32m   4875\u001b[0m         \u001b[0mend_slice\u001b[0m \u001b[0;34m=\u001b[0m \u001b[0;32mNone\u001b[0m\u001b[0;34m\u001b[0m\u001b[0;34m\u001b[0m\u001b[0m\n\u001b[1;32m   4876\u001b[0m         \u001b[0;32mif\u001b[0m \u001b[0mend\u001b[0m \u001b[0;32mis\u001b[0m \u001b[0;32mnot\u001b[0m \u001b[0;32mNone\u001b[0m\u001b[0;34m:\u001b[0m\u001b[0;34m\u001b[0m\u001b[0;34m\u001b[0m\u001b[0m\n\u001b[0;32m-> 4877\u001b[0;31m             \u001b[0mend_slice\u001b[0m \u001b[0;34m=\u001b[0m \u001b[0mself\u001b[0m\u001b[0;34m.\u001b[0m\u001b[0mget_slice_bound\u001b[0m\u001b[0;34m(\u001b[0m\u001b[0mend\u001b[0m\u001b[0;34m,\u001b[0m \u001b[0;34m'right'\u001b[0m\u001b[0;34m,\u001b[0m \u001b[0mkind\u001b[0m\u001b[0;34m)\u001b[0m\u001b[0;34m\u001b[0m\u001b[0;34m\u001b[0m\u001b[0m\n\u001b[0m\u001b[1;32m   4878\u001b[0m         \u001b[0;32mif\u001b[0m \u001b[0mend_slice\u001b[0m \u001b[0;32mis\u001b[0m \u001b[0;32mNone\u001b[0m\u001b[0;34m:\u001b[0m\u001b[0;34m\u001b[0m\u001b[0;34m\u001b[0m\u001b[0m\n\u001b[1;32m   4879\u001b[0m             \u001b[0mend_slice\u001b[0m \u001b[0;34m=\u001b[0m \u001b[0mlen\u001b[0m\u001b[0;34m(\u001b[0m\u001b[0mself\u001b[0m\u001b[0;34m)\u001b[0m\u001b[0;34m\u001b[0m\u001b[0;34m\u001b[0m\u001b[0m\n",
      "\u001b[0;32m/usr/local/lib/python3.7/site-packages/pandas/core/indexes/base.py\u001b[0m in \u001b[0;36mget_slice_bound\u001b[0;34m(self, label, side, kind)\u001b[0m\n\u001b[1;32m   4805\u001b[0m             \u001b[0;32mexcept\u001b[0m \u001b[0mValueError\u001b[0m\u001b[0;34m:\u001b[0m\u001b[0;34m\u001b[0m\u001b[0;34m\u001b[0m\u001b[0m\n\u001b[1;32m   4806\u001b[0m                 \u001b[0;31m# raise the original KeyError\u001b[0m\u001b[0;34m\u001b[0m\u001b[0;34m\u001b[0m\u001b[0;34m\u001b[0m\u001b[0m\n\u001b[0;32m-> 4807\u001b[0;31m                 \u001b[0;32mraise\u001b[0m \u001b[0merr\u001b[0m\u001b[0;34m\u001b[0m\u001b[0;34m\u001b[0m\u001b[0m\n\u001b[0m\u001b[1;32m   4808\u001b[0m \u001b[0;34m\u001b[0m\u001b[0m\n\u001b[1;32m   4809\u001b[0m         \u001b[0;32mif\u001b[0m \u001b[0misinstance\u001b[0m\u001b[0;34m(\u001b[0m\u001b[0mslc\u001b[0m\u001b[0;34m,\u001b[0m \u001b[0mnp\u001b[0m\u001b[0;34m.\u001b[0m\u001b[0mndarray\u001b[0m\u001b[0;34m)\u001b[0m\u001b[0;34m:\u001b[0m\u001b[0;34m\u001b[0m\u001b[0;34m\u001b[0m\u001b[0m\n",
      "\u001b[0;32m/usr/local/lib/python3.7/site-packages/pandas/core/indexes/base.py\u001b[0m in \u001b[0;36mget_slice_bound\u001b[0;34m(self, label, side, kind)\u001b[0m\n\u001b[1;32m   4799\u001b[0m         \u001b[0;31m# we need to look up the label\u001b[0m\u001b[0;34m\u001b[0m\u001b[0;34m\u001b[0m\u001b[0;34m\u001b[0m\u001b[0m\n\u001b[1;32m   4800\u001b[0m         \u001b[0;32mtry\u001b[0m\u001b[0;34m:\u001b[0m\u001b[0;34m\u001b[0m\u001b[0;34m\u001b[0m\u001b[0m\n\u001b[0;32m-> 4801\u001b[0;31m             \u001b[0mslc\u001b[0m \u001b[0;34m=\u001b[0m \u001b[0mself\u001b[0m\u001b[0;34m.\u001b[0m\u001b[0m_get_loc_only_exact_matches\u001b[0m\u001b[0;34m(\u001b[0m\u001b[0mlabel\u001b[0m\u001b[0;34m)\u001b[0m\u001b[0;34m\u001b[0m\u001b[0;34m\u001b[0m\u001b[0m\n\u001b[0m\u001b[1;32m   4802\u001b[0m         \u001b[0;32mexcept\u001b[0m \u001b[0mKeyError\u001b[0m \u001b[0;32mas\u001b[0m \u001b[0merr\u001b[0m\u001b[0;34m:\u001b[0m\u001b[0;34m\u001b[0m\u001b[0;34m\u001b[0m\u001b[0m\n\u001b[1;32m   4803\u001b[0m             \u001b[0;32mtry\u001b[0m\u001b[0;34m:\u001b[0m\u001b[0;34m\u001b[0m\u001b[0;34m\u001b[0m\u001b[0m\n",
      "\u001b[0;32m/usr/local/lib/python3.7/site-packages/pandas/core/indexes/base.py\u001b[0m in \u001b[0;36m_get_loc_only_exact_matches\u001b[0;34m(self, key)\u001b[0m\n\u001b[1;32m   4769\u001b[0m         \u001b[0mget_slice_bound\u001b[0m\u001b[0;34m.\u001b[0m\u001b[0;34m\u001b[0m\u001b[0;34m\u001b[0m\u001b[0m\n\u001b[1;32m   4770\u001b[0m         \"\"\"\n\u001b[0;32m-> 4771\u001b[0;31m         \u001b[0;32mreturn\u001b[0m \u001b[0mself\u001b[0m\u001b[0;34m.\u001b[0m\u001b[0mget_loc\u001b[0m\u001b[0;34m(\u001b[0m\u001b[0mkey\u001b[0m\u001b[0;34m)\u001b[0m\u001b[0;34m\u001b[0m\u001b[0;34m\u001b[0m\u001b[0m\n\u001b[0m\u001b[1;32m   4772\u001b[0m \u001b[0;34m\u001b[0m\u001b[0m\n\u001b[1;32m   4773\u001b[0m     \u001b[0;32mdef\u001b[0m \u001b[0mget_slice_bound\u001b[0m\u001b[0;34m(\u001b[0m\u001b[0mself\u001b[0m\u001b[0;34m,\u001b[0m \u001b[0mlabel\u001b[0m\u001b[0;34m,\u001b[0m \u001b[0mside\u001b[0m\u001b[0;34m,\u001b[0m \u001b[0mkind\u001b[0m\u001b[0;34m)\u001b[0m\u001b[0;34m:\u001b[0m\u001b[0;34m\u001b[0m\u001b[0;34m\u001b[0m\u001b[0m\n",
      "\u001b[0;32m/usr/local/lib/python3.7/site-packages/pandas/core/indexes/numeric.py\u001b[0m in \u001b[0;36mget_loc\u001b[0;34m(self, key, method, tolerance)\u001b[0m\n\u001b[1;32m    434\u001b[0m             \u001b[0;32mpass\u001b[0m\u001b[0;34m\u001b[0m\u001b[0;34m\u001b[0m\u001b[0m\n\u001b[1;32m    435\u001b[0m         return super(Float64Index, self).get_loc(key, method=method,\n\u001b[0;32m--> 436\u001b[0;31m                                                  tolerance=tolerance)\n\u001b[0m\u001b[1;32m    437\u001b[0m \u001b[0;34m\u001b[0m\u001b[0m\n\u001b[1;32m    438\u001b[0m     \u001b[0;34m@\u001b[0m\u001b[0mcache_readonly\u001b[0m\u001b[0;34m\u001b[0m\u001b[0;34m\u001b[0m\u001b[0m\n",
      "\u001b[0;32m/usr/local/lib/python3.7/site-packages/pandas/core/indexes/base.py\u001b[0m in \u001b[0;36mget_loc\u001b[0;34m(self, key, method, tolerance)\u001b[0m\n\u001b[1;32m   2656\u001b[0m                 \u001b[0;32mreturn\u001b[0m \u001b[0mself\u001b[0m\u001b[0;34m.\u001b[0m\u001b[0m_engine\u001b[0m\u001b[0;34m.\u001b[0m\u001b[0mget_loc\u001b[0m\u001b[0;34m(\u001b[0m\u001b[0mkey\u001b[0m\u001b[0;34m)\u001b[0m\u001b[0;34m\u001b[0m\u001b[0;34m\u001b[0m\u001b[0m\n\u001b[1;32m   2657\u001b[0m             \u001b[0;32mexcept\u001b[0m \u001b[0mKeyError\u001b[0m\u001b[0;34m:\u001b[0m\u001b[0;34m\u001b[0m\u001b[0;34m\u001b[0m\u001b[0m\n\u001b[0;32m-> 2658\u001b[0;31m                 \u001b[0;32mreturn\u001b[0m \u001b[0mself\u001b[0m\u001b[0;34m.\u001b[0m\u001b[0m_engine\u001b[0m\u001b[0;34m.\u001b[0m\u001b[0mget_loc\u001b[0m\u001b[0;34m(\u001b[0m\u001b[0mself\u001b[0m\u001b[0;34m.\u001b[0m\u001b[0m_maybe_cast_indexer\u001b[0m\u001b[0;34m(\u001b[0m\u001b[0mkey\u001b[0m\u001b[0;34m)\u001b[0m\u001b[0;34m)\u001b[0m\u001b[0;34m\u001b[0m\u001b[0;34m\u001b[0m\u001b[0m\n\u001b[0m\u001b[1;32m   2659\u001b[0m         \u001b[0mindexer\u001b[0m \u001b[0;34m=\u001b[0m \u001b[0mself\u001b[0m\u001b[0;34m.\u001b[0m\u001b[0mget_indexer\u001b[0m\u001b[0;34m(\u001b[0m\u001b[0;34m[\u001b[0m\u001b[0mkey\u001b[0m\u001b[0;34m]\u001b[0m\u001b[0;34m,\u001b[0m \u001b[0mmethod\u001b[0m\u001b[0;34m=\u001b[0m\u001b[0mmethod\u001b[0m\u001b[0;34m,\u001b[0m \u001b[0mtolerance\u001b[0m\u001b[0;34m=\u001b[0m\u001b[0mtolerance\u001b[0m\u001b[0;34m)\u001b[0m\u001b[0;34m\u001b[0m\u001b[0;34m\u001b[0m\u001b[0m\n\u001b[1;32m   2660\u001b[0m         \u001b[0;32mif\u001b[0m \u001b[0mindexer\u001b[0m\u001b[0;34m.\u001b[0m\u001b[0mndim\u001b[0m \u001b[0;34m>\u001b[0m \u001b[0;36m1\u001b[0m \u001b[0;32mor\u001b[0m \u001b[0mindexer\u001b[0m\u001b[0;34m.\u001b[0m\u001b[0msize\u001b[0m \u001b[0;34m>\u001b[0m \u001b[0;36m1\u001b[0m\u001b[0;34m:\u001b[0m\u001b[0;34m\u001b[0m\u001b[0;34m\u001b[0m\u001b[0m\n",
      "\u001b[0;32mpandas/_libs/index.pyx\u001b[0m in \u001b[0;36mpandas._libs.index.IndexEngine.get_loc\u001b[0;34m()\u001b[0m\n",
      "\u001b[0;32mpandas/_libs/index.pyx\u001b[0m in \u001b[0;36mpandas._libs.index.IndexEngine.get_loc\u001b[0;34m()\u001b[0m\n",
      "\u001b[0;32mpandas/_libs/hashtable_class_helper.pxi\u001b[0m in \u001b[0;36mpandas._libs.hashtable.Float64HashTable.get_item\u001b[0;34m()\u001b[0m\n",
      "\u001b[0;32mpandas/_libs/hashtable_class_helper.pxi\u001b[0m in \u001b[0;36mpandas._libs.hashtable.Float64HashTable.get_item\u001b[0;34m()\u001b[0m\n",
      "\u001b[0;31mKeyError\u001b[0m: 10.0"
     ]
    }
   ],
   "source": [
    "N_PEAKS = 10\n",
    "\n",
    "peaks_re = append_peaks(df, peaks_re, N_PEAKS)\n",
    "peaks_im = append_peaks(df, peaks_im, N_PEAKS)\n",
    "\n",
    "(peaks_re, peaks_im)"
   ]
  },
  {
   "cell_type": "code",
   "execution_count": 885,
   "metadata": {},
   "outputs": [],
   "source": [
    "from numpy.fft import rfft, fftfreq, rfftfreq\n",
    "from scipy.signal import find_peaks\n",
    "from matplotlib import pyplot as plt\n",
    "\n",
    "MAGIC_NUMBER = 22050\n",
    "\n",
    "def extract_fft_features(wnd, N_PEAKS):\n",
    "    # Apply FFT\n",
    "    \n",
    "    freq = rfftfreq(N_WINDOW_POINTS, 1./FD)\n",
    "    max_freq = freq[-1]\n",
    "\n",
    "    fft = rfft(wnd)\n",
    "\n",
    "    df = pd.Series(fft)\n",
    "\n",
    "    index = []\n",
    "\n",
    "    for i in range(0, len(fft)):\n",
    "        index = index + [(i / len(fft))]\n",
    "\n",
    "    df.index = index\n",
    "\n",
    "    \n",
    "    \n",
    "    # Find peaks\n",
    "\n",
    "    peaks_re = find_peaks(df.map(lambda x: x.real))[0]\n",
    "    peaks_im = find_peaks(df.map(lambda x: x.imag))[0]\n",
    "\n",
    "    peaks_re = append_peaks(df, peaks_re, N_PEAKS)\n",
    "    peaks_im = append_peaks(df, peaks_im, N_PEAKS)\n",
    "    \n",
    "    features_re = (\n",
    "         list(np.array(list(peaks_re.index))) +\n",
    "         list(normalize(np.array(list(map(lambda x: x.real, peaks_re.get_values()))), forced_abs=MAGIC_NUMBER, mean=0.0))\n",
    "    )\n",
    "    \n",
    "    features_im = (\n",
    "         list(np.array(list(peaks_im.index))) +\n",
    "         list(normalize(np.array(list(map(lambda x: x.imag, peaks_im.get_values()))), forced_abs=MAGIC_NUMBER))\n",
    "    )\n",
    "\n",
    "    return np.array(list(features_re) + list(features_im))"
   ]
  },
  {
   "cell_type": "code",
   "execution_count": 886,
   "metadata": {},
   "outputs": [
    {
     "data": {
      "text/plain": [
       "array([ 0.03030303,  0.12121212,  0.24242424,  0.3030303 ,  0.36363636,\n",
       "        0.42424242,  0.48484848,  0.54545455,  0.60606061,  0.75757576,\n",
       "        0.90735384,  0.01841214,  0.01698229,  0.00808086,  0.00870909,\n",
       "        0.00815364,  0.00825397,  0.00871987,  0.00786455,  0.00854355,\n",
       "        0.09090909,  0.15151515,  0.27272727,  0.54545455,  0.        ,\n",
       "        0.        ,  0.        ,  0.        ,  0.        ,  0.        ,\n",
       "        0.0962267 , -0.02451284, -0.02038419, -0.01321958, -0.00635168,\n",
       "       -0.00635168, -0.00635168, -0.00635168, -0.00635168, -0.00635168])"
      ]
     },
     "execution_count": 886,
     "metadata": {},
     "output_type": "execute_result"
    }
   ],
   "source": [
    "extract_fft_features(test_wnd, N_PEAKS)"
   ]
  },
  {
   "cell_type": "code",
   "execution_count": 887,
   "metadata": {},
   "outputs": [],
   "source": [
    "# it. fucking. works.\n",
    "# Hail God."
   ]
  },
  {
   "cell_type": "code",
   "execution_count": 888,
   "metadata": {},
   "outputs": [],
   "source": [
    "def append_features(X):\n",
    "    res = []\n",
    "    \n",
    "    for wnd in X:\n",
    "        # res.append(np.array(list(wnd) + list(extract_fft_features(wnd, N_PEAKS))))\n",
    "        res.append(np.array(list(extract_fft_features(wnd, N_PEAKS))))\n",
    "    \n",
    "    return np.array(res)"
   ]
  },
  {
   "cell_type": "code",
   "execution_count": 889,
   "metadata": {},
   "outputs": [
    {
     "data": {
      "text/plain": [
       "(44036, 5448, 44036, 5448)"
      ]
     },
     "execution_count": 889,
     "metadata": {},
     "output_type": "execute_result"
    }
   ],
   "source": [
    "(len(X_tr), len(X_te), len(y_tr), len(y_te))"
   ]
  },
  {
   "cell_type": "code",
   "execution_count": 890,
   "metadata": {},
   "outputs": [
    {
     "name": "stdout",
     "output_type": "stream",
     "text": [
      "CPU times: user 1min 57s, sys: 1.62 s, total: 1min 58s\n",
      "Wall time: 1min 59s\n"
     ]
    }
   ],
   "source": [
    "%%time\n",
    "\n",
    "N_DEV_2 = 10000\n",
    "\n",
    "X_tr_f = append_features(X_tr_n[:N_DEV_2])\n",
    "X_te_f = append_features(X_te_n[:N_DEV_2])\n",
    "y_tr_f = append_features(y_tr_n[:N_DEV_2])\n",
    "y_te_f = append_features(y_te_n[:N_DEV_2])"
   ]
  },
  {
   "cell_type": "code",
   "execution_count": 891,
   "metadata": {},
   "outputs": [
    {
     "data": {
      "text/plain": [
       "array([ 3.03030303e-02,  1.21212121e-01,  2.42424242e-01,  3.03030303e-01,\n",
       "        3.63636364e-01,  4.24242424e-01,  4.84848485e-01,  5.45454545e-01,\n",
       "        6.06060606e-01,  7.57575758e-01,  2.76910873e-05,  5.61910900e-07,\n",
       "        5.18273949e-07,  2.46615616e-07,  2.65788357e-07,  2.48837075e-07,\n",
       "        2.51898766e-07,  2.66117399e-07,  2.40014323e-07,  2.60736355e-07,\n",
       "        9.09090909e-02,  1.51515152e-01,  2.72727273e-01,  5.45454545e-01,\n",
       "        0.00000000e+00,  0.00000000e+00,  0.00000000e+00,  0.00000000e+00,\n",
       "        0.00000000e+00,  0.00000000e+00,  2.93669555e-06, -7.48095231e-07,\n",
       "       -6.22095086e-07, -4.03441930e-07, -1.93843884e-07, -1.93843884e-07,\n",
       "       -1.93843884e-07, -1.93843884e-07, -1.93843884e-07, -1.93843884e-07])"
      ]
     },
     "execution_count": 891,
     "metadata": {},
     "output_type": "execute_result"
    }
   ],
   "source": [
    "X_te_f[0]"
   ]
  },
  {
   "cell_type": "code",
   "execution_count": 892,
   "metadata": {},
   "outputs": [
    {
     "data": {
      "text/plain": [
       "0.9393939393939394"
      ]
     },
     "execution_count": 892,
     "metadata": {},
     "output_type": "execute_result"
    }
   ],
   "source": [
    "# np.max(list(map(lambda row: row[65:], X_te_f)))\n",
    "np.max(list(map(lambda row: row, X_te_f)))"
   ]
  },
  {
   "cell_type": "code",
   "execution_count": 893,
   "metadata": {},
   "outputs": [],
   "source": [
    "# appending stats of the whole sample, fading from silence"
   ]
  },
  {
   "cell_type": "code",
   "execution_count": 894,
   "metadata": {},
   "outputs": [
    {
     "data": {
      "text/plain": [
       "40"
      ]
     },
     "execution_count": 894,
     "metadata": {},
     "output_type": "execute_result"
    }
   ],
   "source": [
    "N_FEATURES = N_PEAKS * 4 \n",
    "N_FEATURES"
   ]
  },
  {
   "cell_type": "markdown",
   "metadata": {},
   "source": [
    "## Finished data processing!\n",
    "\n",
    "## Moving on to training NN"
   ]
  },
  {
   "cell_type": "code",
   "execution_count": 895,
   "metadata": {},
   "outputs": [],
   "source": [
    "import numpy as np"
   ]
  },
  {
   "cell_type": "code",
   "execution_count": 896,
   "metadata": {},
   "outputs": [],
   "source": [
    "from keras.models import Sequential\n",
    "from keras.layers import Dense, Dropout, Activation, Flatten\n",
    "from keras.layers import Convolution2D, MaxPooling2D\n",
    "from keras.utils import np_utils"
   ]
  },
  {
   "cell_type": "code",
   "execution_count": 897,
   "metadata": {},
   "outputs": [
    {
     "data": {
      "text/plain": [
       "((10000, 40), (10000, 40))"
      ]
     },
     "execution_count": 897,
     "metadata": {},
     "output_type": "execute_result"
    }
   ],
   "source": [
    "y_tr_f.shape, X_tr_f.shape"
   ]
  },
  {
   "cell_type": "code",
   "execution_count": 898,
   "metadata": {},
   "outputs": [
    {
     "data": {
      "text/plain": [
       "array([ 6.06060606e-02,  1.51515152e-01,  2.72727273e-01,  3.63636364e-01,\n",
       "        4.84848485e-01,  6.06060606e-01,  6.96969697e-01,  7.57575758e-01,\n",
       "        8.48484848e-01,  9.09090909e-01, -3.12904936e-06,  1.42749038e-06,\n",
       "       -1.64528329e-07, -2.16672234e-07, -6.65732564e-07, -6.99957100e-07,\n",
       "       -6.74789792e-07, -7.15222843e-07, -6.90957675e-07, -7.30634428e-07,\n",
       "        6.06060606e-02,  1.21212121e-01,  2.72727273e-01,  3.33333333e-01,\n",
       "        8.78787879e-01,  0.00000000e+00,  0.00000000e+00,  0.00000000e+00,\n",
       "        0.00000000e+00,  0.00000000e+00,  2.96392442e-05,  6.63770267e-06,\n",
       "       -2.93820669e-06, -3.61841849e-06, -4.84108502e-06, -4.97584734e-06,\n",
       "       -4.97584734e-06, -4.97584734e-06, -4.97584734e-06, -4.97584734e-06])"
      ]
     },
     "execution_count": 898,
     "metadata": {},
     "output_type": "execute_result"
    }
   ],
   "source": [
    "y_tr_f[0]"
   ]
  },
  {
   "cell_type": "code",
   "execution_count": 916,
   "metadata": {},
   "outputs": [
    {
     "data": {
      "text/plain": [
       "<keras.engine.sequential.Sequential at 0x1c11ae438>"
      ]
     },
     "execution_count": 916,
     "metadata": {},
     "output_type": "execute_result"
    }
   ],
   "source": [
    "model = Sequential()\n",
    "model"
   ]
  },
  {
   "cell_type": "code",
   "execution_count": 917,
   "metadata": {},
   "outputs": [],
   "source": [
    "model.add(Dense(40, activation='relu'))\n",
    "model.add(Dropout(0.5))\n",
    "model.add(Dense(80, activation='relu'))\n",
    "model.add(Dense(80, activation='relu'))\n",
    "model.add(Dense(40, activation='relu'))\n",
    "model.add(Dropout(0.5))\n",
    "model.add(Dense(N_FEATURES, activation='relu'))"
   ]
  },
  {
   "cell_type": "code",
   "execution_count": 918,
   "metadata": {},
   "outputs": [],
   "source": [
    "model.compile(loss='mean_squared_error',\n",
    "              optimizer='adam')"
   ]
  },
  {
   "cell_type": "code",
   "execution_count": 919,
   "metadata": {},
   "outputs": [
    {
     "name": "stderr",
     "output_type": "stream",
     "text": [
      "/usr/local/lib/python3.7/site-packages/ipykernel_launcher.py:2: UserWarning: The `nb_epoch` argument in `fit` has been renamed `epochs`.\n",
      "  \n"
     ]
    },
    {
     "name": "stdout",
     "output_type": "stream",
     "text": [
      "Epoch 1/10\n",
      "10000/10000 [==============================] - 2s 234us/step - loss: 0.0298\n",
      "Epoch 2/10\n",
      "10000/10000 [==============================] - 1s 61us/step - loss: 0.0144\n",
      "Epoch 3/10\n",
      "10000/10000 [==============================] - 1s 65us/step - loss: 0.0115\n",
      "Epoch 4/10\n",
      "10000/10000 [==============================] - 1s 65us/step - loss: 0.0099\n",
      "Epoch 5/10\n",
      "10000/10000 [==============================] - 1s 61us/step - loss: 0.0089\n",
      "Epoch 6/10\n",
      "10000/10000 [==============================] - 1s 67us/step - loss: 0.0081\n",
      "Epoch 7/10\n",
      "10000/10000 [==============================] - 1s 72us/step - loss: 0.0075\n",
      "Epoch 8/10\n",
      "10000/10000 [==============================] - 1s 63us/step - loss: 0.0070\n",
      "Epoch 9/10\n",
      "10000/10000 [==============================] - 1s 79us/step - loss: 0.0066\n",
      "Epoch 10/10\n",
      "10000/10000 [==============================] - 1s 76us/step - loss: 0.0063\n",
      "CPU times: user 12.1 s, sys: 2.23 s, total: 14.3 s\n",
      "Wall time: 8.89 s\n"
     ]
    },
    {
     "data": {
      "text/plain": [
       "<keras.callbacks.History at 0x1a9963c18>"
      ]
     },
     "execution_count": 919,
     "metadata": {},
     "output_type": "execute_result"
    }
   ],
   "source": [
    "%%time\n",
    "\n",
    "model.fit(X_tr_f, y_tr_f, batch_size=32, nb_epoch=10, verbose=1)"
   ]
  },
  {
   "cell_type": "code",
   "execution_count": 920,
   "metadata": {},
   "outputs": [
    {
     "data": {
      "text/plain": [
       "0.018011752860661645"
      ]
     },
     "execution_count": 920,
     "metadata": {},
     "output_type": "execute_result"
    }
   ],
   "source": [
    "score = model.evaluate(X_te_f, y_te_f, verbose=0)\n",
    "score"
   ]
  },
  {
   "cell_type": "code",
   "execution_count": 921,
   "metadata": {},
   "outputs": [
    {
     "data": {
      "text/plain": [
       "0.01540001930296421"
      ]
     },
     "execution_count": 921,
     "metadata": {},
     "output_type": "execute_result"
    }
   ],
   "source": [
    "0.018011752860661645\n",
    "0.01540001930296421"
   ]
  },
  {
   "cell_type": "code",
   "execution_count": 922,
   "metadata": {},
   "outputs": [
    {
     "data": {
      "text/plain": [
       "array([ 3.03030303e-02,  1.21212121e-01,  2.42424242e-01,  3.03030303e-01,\n",
       "        3.63636364e-01,  4.24242424e-01,  4.84848485e-01,  5.45454545e-01,\n",
       "        6.06060606e-01,  7.57575758e-01,  2.76910873e-05,  5.61910900e-07,\n",
       "        5.18273949e-07,  2.46615616e-07,  2.65788357e-07,  2.48837075e-07,\n",
       "        2.51898766e-07,  2.66117399e-07,  2.40014323e-07,  2.60736355e-07,\n",
       "        9.09090909e-02,  1.51515152e-01,  2.72727273e-01,  5.45454545e-01,\n",
       "        0.00000000e+00,  0.00000000e+00,  0.00000000e+00,  0.00000000e+00,\n",
       "        0.00000000e+00,  0.00000000e+00,  2.93669555e-06, -7.48095231e-07,\n",
       "       -6.22095086e-07, -4.03441930e-07, -1.93843884e-07, -1.93843884e-07,\n",
       "       -1.93843884e-07, -1.93843884e-07, -1.93843884e-07, -1.93843884e-07])"
      ]
     },
     "execution_count": 922,
     "metadata": {},
     "output_type": "execute_result"
    }
   ],
   "source": [
    "X_te_f[0]"
   ]
  },
  {
   "cell_type": "code",
   "execution_count": 923,
   "metadata": {},
   "outputs": [],
   "source": [
    "def predict(model, row):\n",
    "    return model.predict(np.array([row]))[0]"
   ]
  },
  {
   "cell_type": "code",
   "execution_count": 924,
   "metadata": {},
   "outputs": [
    {
     "data": {
      "text/plain": [
       "array([0.0606042 , 0.1631064 , 0.24444236, 0.33432996, 0.42141384,\n",
       "       0.5112433 , 0.6039907 , 0.6818145 , 0.7338054 , 0.80972266,\n",
       "       0.        , 0.        , 0.        , 0.        , 0.        ,\n",
       "       0.        , 0.        , 0.        , 0.        , 0.        ,\n",
       "       0.07065471, 0.17506972, 0.27309012, 0.30559108, 0.12792104,\n",
       "       0.        , 0.        , 0.        , 0.        , 0.        ,\n",
       "       0.        , 0.        , 0.        , 0.        , 0.        ,\n",
       "       0.        , 0.        , 0.        , 0.        , 0.        ],\n",
       "      dtype=float32)"
      ]
     },
     "execution_count": 924,
     "metadata": {},
     "output_type": "execute_result"
    }
   ],
   "source": [
    "predict(model, X_te_f[0])"
   ]
  },
  {
   "cell_type": "code",
   "execution_count": 930,
   "metadata": {},
   "outputs": [
    {
     "data": {
      "text/plain": [
       "<matplotlib.axes._subplots.AxesSubplot at 0x1aaae8828>"
      ]
     },
     "execution_count": 930,
     "metadata": {},
     "output_type": "execute_result"
    },
    {
     "data": {
      "image/png": "[encoded data removed]",
      "text/plain": [
       "<Figure size 1152x576 with 1 Axes>"
      ]
     },
     "metadata": {
      "needs_background": "light"
     },
     "output_type": "display_data"
    }
   ],
   "source": [
    "(fig, ax) = plt.subplots(figsize=(16, 8))\n",
    "\n",
    "I = 270\n",
    "\n",
    "pd.Series(y_te_f[I]).plot.line(ax=ax)\n",
    "pd.Series(predict(model, X_te_f[I])).plot.line(ax=ax)"
   ]
  },
  {
   "cell_type": "markdown",
   "metadata": {},
   "source": [
    "## Time to evaluate performance"
   ]
  },
  {
   "cell_type": "code",
   "execution_count": 883,
   "metadata": {},
   "outputs": [],
   "source": [
    "# Til next time"
   ]
  },
  {
   "cell_type": "code",
   "execution_count": null,
   "metadata": {},
   "outputs": [],
   "source": []
  }
 ],
 "metadata": {
  "kernelspec": {
   "display_name": "Python 3",
   "language": "python",
   "name": "python3"
  },
  "language_info": {
   "codemirror_mode": {
    "name": "ipython",
    "version": 3
   },
   "file_extension": ".py",
   "mimetype": "text/x-python",
   "name": "python",
   "nbconvert_exporter": "python",
   "pygments_lexer": "ipython3",
   "version": "3.7.3"
  }
 },
 "nbformat": 4,
 "nbformat_minor": 2
}
