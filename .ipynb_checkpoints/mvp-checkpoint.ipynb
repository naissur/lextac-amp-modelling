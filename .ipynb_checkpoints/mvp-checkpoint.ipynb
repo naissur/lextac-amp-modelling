{
 "cells": [
  {
   "cell_type": "code",
   "execution_count": 1,
   "metadata": {},
   "outputs": [],
   "source": [
    "from scipy.io import wavfile\n",
    "\n",
    "(source_clean_fs, source_clean_data) = wavfile.read('./data/source_clean.wav')\n",
    "(plini_clean_fs, plini_clean_data) = wavfile.read('./data/plini_clean.wav')\n",
    "(source_noise_fs, source_noise_data) = wavfile.read('./data/source_noise.wav')\n",
    "(plini_noise_fs, plini_noise_data) = wavfile.read('./data/plini_noise.wav')"
   ]
  },
  {
   "cell_type": "code",
   "execution_count": 2,
   "metadata": {},
   "outputs": [],
   "source": [
    "import pandas as pd"
   ]
  },
  {
   "cell_type": "code",
   "execution_count": 3,
   "metadata": {},
   "outputs": [
    {
     "data": {
      "text/html": [
       "<div>\n",
       "<style scoped>\n",
       "    .dataframe tbody tr th:only-of-type {\n",
       "        vertical-align: middle;\n",
       "    }\n",
       "\n",
       "    .dataframe tbody tr th {\n",
       "        vertical-align: top;\n",
       "    }\n",
       "\n",
       "    .dataframe thead th {\n",
       "        text-align: right;\n",
       "    }\n",
       "</style>\n",
       "<table border=\"1\" class=\"dataframe\">\n",
       "  <thead>\n",
       "    <tr style=\"text-align: right;\">\n",
       "      <th></th>\n",
       "      <th>L</th>\n",
       "      <th>R</th>\n",
       "    </tr>\n",
       "  </thead>\n",
       "  <tbody>\n",
       "    <tr>\n",
       "      <th>0</th>\n",
       "      <td>0</td>\n",
       "      <td>0</td>\n",
       "    </tr>\n",
       "    <tr>\n",
       "      <th>1</th>\n",
       "      <td>0</td>\n",
       "      <td>0</td>\n",
       "    </tr>\n",
       "    <tr>\n",
       "      <th>2</th>\n",
       "      <td>0</td>\n",
       "      <td>0</td>\n",
       "    </tr>\n",
       "    <tr>\n",
       "      <th>3</th>\n",
       "      <td>0</td>\n",
       "      <td>0</td>\n",
       "    </tr>\n",
       "    <tr>\n",
       "      <th>4</th>\n",
       "      <td>0</td>\n",
       "      <td>0</td>\n",
       "    </tr>\n",
       "  </tbody>\n",
       "</table>\n",
       "</div>"
      ],
      "text/plain": [
       "   L  R\n",
       "0  0  0\n",
       "1  0  0\n",
       "2  0  0\n",
       "3  0  0\n",
       "4  0  0"
      ]
     },
     "execution_count": 3,
     "metadata": {},
     "output_type": "execute_result"
    }
   ],
   "source": [
    "source_clean_df = pd.DataFrame(source_clean_data, columns=['L', 'R'])\n",
    "source_clean_df.head()"
   ]
  },
  {
   "cell_type": "code",
   "execution_count": 4,
   "metadata": {},
   "outputs": [
    {
     "data": {
      "text/html": [
       "<div>\n",
       "<style scoped>\n",
       "    .dataframe tbody tr th:only-of-type {\n",
       "        vertical-align: middle;\n",
       "    }\n",
       "\n",
       "    .dataframe tbody tr th {\n",
       "        vertical-align: top;\n",
       "    }\n",
       "\n",
       "    .dataframe thead th {\n",
       "        text-align: right;\n",
       "    }\n",
       "</style>\n",
       "<table border=\"1\" class=\"dataframe\">\n",
       "  <thead>\n",
       "    <tr style=\"text-align: right;\">\n",
       "      <th></th>\n",
       "      <th>L</th>\n",
       "      <th>R</th>\n",
       "    </tr>\n",
       "  </thead>\n",
       "  <tbody>\n",
       "    <tr>\n",
       "      <th>0</th>\n",
       "      <td>0</td>\n",
       "      <td>0</td>\n",
       "    </tr>\n",
       "    <tr>\n",
       "      <th>1</th>\n",
       "      <td>0</td>\n",
       "      <td>0</td>\n",
       "    </tr>\n",
       "    <tr>\n",
       "      <th>2</th>\n",
       "      <td>0</td>\n",
       "      <td>0</td>\n",
       "    </tr>\n",
       "    <tr>\n",
       "      <th>3</th>\n",
       "      <td>0</td>\n",
       "      <td>0</td>\n",
       "    </tr>\n",
       "    <tr>\n",
       "      <th>4</th>\n",
       "      <td>0</td>\n",
       "      <td>0</td>\n",
       "    </tr>\n",
       "  </tbody>\n",
       "</table>\n",
       "</div>"
      ],
      "text/plain": [
       "   L  R\n",
       "0  0  0\n",
       "1  0  0\n",
       "2  0  0\n",
       "3  0  0\n",
       "4  0  0"
      ]
     },
     "execution_count": 4,
     "metadata": {},
     "output_type": "execute_result"
    }
   ],
   "source": [
    "plini_clean_df = pd.DataFrame(plini_clean_data, columns=['L', 'R'])\n",
    "plini_clean_df.head()"
   ]
  },
  {
   "cell_type": "code",
   "execution_count": 5,
   "metadata": {},
   "outputs": [
    {
     "data": {
      "text/html": [
       "<div>\n",
       "<style scoped>\n",
       "    .dataframe tbody tr th:only-of-type {\n",
       "        vertical-align: middle;\n",
       "    }\n",
       "\n",
       "    .dataframe tbody tr th {\n",
       "        vertical-align: top;\n",
       "    }\n",
       "\n",
       "    .dataframe thead th {\n",
       "        text-align: right;\n",
       "    }\n",
       "</style>\n",
       "<table border=\"1\" class=\"dataframe\">\n",
       "  <thead>\n",
       "    <tr style=\"text-align: right;\">\n",
       "      <th></th>\n",
       "      <th>L</th>\n",
       "      <th>R</th>\n",
       "    </tr>\n",
       "  </thead>\n",
       "  <tbody>\n",
       "    <tr>\n",
       "      <th>0</th>\n",
       "      <td>0</td>\n",
       "      <td>0</td>\n",
       "    </tr>\n",
       "    <tr>\n",
       "      <th>1</th>\n",
       "      <td>0</td>\n",
       "      <td>0</td>\n",
       "    </tr>\n",
       "    <tr>\n",
       "      <th>2</th>\n",
       "      <td>0</td>\n",
       "      <td>0</td>\n",
       "    </tr>\n",
       "    <tr>\n",
       "      <th>3</th>\n",
       "      <td>0</td>\n",
       "      <td>0</td>\n",
       "    </tr>\n",
       "    <tr>\n",
       "      <th>4</th>\n",
       "      <td>0</td>\n",
       "      <td>0</td>\n",
       "    </tr>\n",
       "  </tbody>\n",
       "</table>\n",
       "</div>"
      ],
      "text/plain": [
       "   L  R\n",
       "0  0  0\n",
       "1  0  0\n",
       "2  0  0\n",
       "3  0  0\n",
       "4  0  0"
      ]
     },
     "execution_count": 5,
     "metadata": {},
     "output_type": "execute_result"
    }
   ],
   "source": [
    "source_noise_df = pd.DataFrame(source_noise_data, columns=['L', 'R'])\n",
    "source_noise_df.head()"
   ]
  },
  {
   "cell_type": "code",
   "execution_count": 6,
   "metadata": {},
   "outputs": [
    {
     "data": {
      "text/html": [
       "<div>\n",
       "<style scoped>\n",
       "    .dataframe tbody tr th:only-of-type {\n",
       "        vertical-align: middle;\n",
       "    }\n",
       "\n",
       "    .dataframe tbody tr th {\n",
       "        vertical-align: top;\n",
       "    }\n",
       "\n",
       "    .dataframe thead th {\n",
       "        text-align: right;\n",
       "    }\n",
       "</style>\n",
       "<table border=\"1\" class=\"dataframe\">\n",
       "  <thead>\n",
       "    <tr style=\"text-align: right;\">\n",
       "      <th></th>\n",
       "      <th>L</th>\n",
       "      <th>R</th>\n",
       "    </tr>\n",
       "  </thead>\n",
       "  <tbody>\n",
       "    <tr>\n",
       "      <th>0</th>\n",
       "      <td>0</td>\n",
       "      <td>0</td>\n",
       "    </tr>\n",
       "    <tr>\n",
       "      <th>1</th>\n",
       "      <td>0</td>\n",
       "      <td>0</td>\n",
       "    </tr>\n",
       "    <tr>\n",
       "      <th>2</th>\n",
       "      <td>0</td>\n",
       "      <td>0</td>\n",
       "    </tr>\n",
       "    <tr>\n",
       "      <th>3</th>\n",
       "      <td>0</td>\n",
       "      <td>0</td>\n",
       "    </tr>\n",
       "    <tr>\n",
       "      <th>4</th>\n",
       "      <td>0</td>\n",
       "      <td>0</td>\n",
       "    </tr>\n",
       "  </tbody>\n",
       "</table>\n",
       "</div>"
      ],
      "text/plain": [
       "   L  R\n",
       "0  0  0\n",
       "1  0  0\n",
       "2  0  0\n",
       "3  0  0\n",
       "4  0  0"
      ]
     },
     "execution_count": 6,
     "metadata": {},
     "output_type": "execute_result"
    }
   ],
   "source": [
    "plini_noise_df = pd.DataFrame(plini_noise_data, columns=['L', 'R'])\n",
    "plini_noise_df.head()"
   ]
  },
  {
   "cell_type": "code",
   "execution_count": 7,
   "metadata": {},
   "outputs": [
    {
     "data": {
      "text/plain": [
       "(32767, 29669)"
      ]
     },
     "execution_count": 7,
     "metadata": {},
     "output_type": "execute_result"
    }
   ],
   "source": [
    "plini_clean_df['L'].max(), plini_noise_df['L'].max()"
   ]
  },
  {
   "cell_type": "code",
   "execution_count": 8,
   "metadata": {},
   "outputs": [
    {
     "data": {
      "text/plain": [
       "32768"
      ]
     },
     "execution_count": 8,
     "metadata": {},
     "output_type": "execute_result"
    }
   ],
   "source": [
    "2 ** 15"
   ]
  },
  {
   "cell_type": "code",
   "execution_count": 9,
   "metadata": {},
   "outputs": [
    {
     "data": {
      "text/plain": [
       "32767"
      ]
     },
     "execution_count": 9,
     "metadata": {},
     "output_type": "execute_result"
    }
   ],
   "source": [
    "MAX_VALUE = 2 ** 15 - 1\n",
    "MAX_VALUE"
   ]
  },
  {
   "cell_type": "code",
   "execution_count": null,
   "metadata": {},
   "outputs": [],
   "source": []
  },
  {
   "cell_type": "code",
   "execution_count": 10,
   "metadata": {},
   "outputs": [
    {
     "data": {
      "text/plain": [
       "(2442240, 2442240)"
      ]
     },
     "execution_count": 10,
     "metadata": {},
     "output_type": "execute_result"
    }
   ],
   "source": [
    "len(plini_clean_df), len(source_clean_df)"
   ]
  },
  {
   "cell_type": "code",
   "execution_count": 11,
   "metadata": {},
   "outputs": [
    {
     "data": {
      "text/plain": [
       "(814464, 814464)"
      ]
     },
     "execution_count": 11,
     "metadata": {},
     "output_type": "execute_result"
    }
   ],
   "source": [
    "len(plini_noise_df), len(source_noise_df)"
   ]
  },
  {
   "cell_type": "code",
   "execution_count": 12,
   "metadata": {},
   "outputs": [
    {
     "data": {
      "text/plain": [
       "1953792"
      ]
     },
     "execution_count": 12,
     "metadata": {},
     "output_type": "execute_result"
    }
   ],
   "source": [
    "CLEAN_START_END = int(len(plini_clean_df) * 0.8)\n",
    "CLEAN_START_END"
   ]
  },
  {
   "cell_type": "code",
   "execution_count": 13,
   "metadata": {},
   "outputs": [
    {
     "data": {
      "text/plain": [
       "651571"
      ]
     },
     "execution_count": 13,
     "metadata": {},
     "output_type": "execute_result"
    }
   ],
   "source": [
    "NOISE_START_END = int(len(plini_noise_df) * 0.8)\n",
    "NOISE_START_END"
   ]
  },
  {
   "cell_type": "code",
   "execution_count": 24,
   "metadata": {},
   "outputs": [],
   "source": [
    "(X_train_c_start, X_train_c_end) = (0, CLEAN_START_END)\n",
    "(X_test_c_start, X_test_c_end) = (CLEAN_START_END, len(source_clean_df))\n",
    "(y_train_c_start, y_train_c_end) = (0, CLEAN_START_END)\n",
    "(y_test_c_start, y_test_c_end) = (CLEAN_START_END, len(plini_clean_df))"
   ]
  },
  {
   "cell_type": "code",
   "execution_count": 25,
   "metadata": {},
   "outputs": [],
   "source": [
    "(X_train_n_start, X_train_n_end) = (0, NOISE_START_END)\n",
    "(X_test_n_start, X_test_n_end) = (NOISE_START_END, len(source_noise_df))\n",
    "(y_train_n_start, y_train_n_end) = (0, NOISE_START_END)\n",
    "(y_test_n_start, y_test_n_end) = (NOISE_START_END, len(source_noise_df))"
   ]
  },
  {
   "cell_type": "markdown",
   "metadata": {},
   "source": [
    "## IT'S MONO"
   ]
  },
  {
   "cell_type": "code",
   "execution_count": 26,
   "metadata": {},
   "outputs": [
    {
     "data": {
      "text/plain": [
       "0    0\n",
       "1    0\n",
       "2    0\n",
       "3    0\n",
       "4    0\n",
       "Name: L, dtype: int16"
      ]
     },
     "execution_count": 26,
     "metadata": {},
     "output_type": "execute_result"
    }
   ],
   "source": [
    "X_train_c_raw = source_clean_df['L'][X_train_c_start:X_train_c_end]\n",
    "X_train_c_raw.head()"
   ]
  },
  {
   "cell_type": "code",
   "execution_count": 27,
   "metadata": {},
   "outputs": [
    {
     "data": {
      "text/plain": [
       "1953792   -615\n",
       "1953793   -560\n",
       "1953794   -485\n",
       "1953795   -395\n",
       "1953796   -302\n",
       "Name: L, dtype: int16"
      ]
     },
     "execution_count": 27,
     "metadata": {},
     "output_type": "execute_result"
    }
   ],
   "source": [
    "X_test_c_raw = source_clean_df['L'][X_test_c_start:X_test_c_end]\n",
    "X_test_c_raw.head()"
   ]
  },
  {
   "cell_type": "code",
   "execution_count": 28,
   "metadata": {},
   "outputs": [
    {
     "data": {
      "text/plain": [
       "0    0\n",
       "1    0\n",
       "2    0\n",
       "3    0\n",
       "4    0\n",
       "Name: L, dtype: int16"
      ]
     },
     "execution_count": 28,
     "metadata": {},
     "output_type": "execute_result"
    }
   ],
   "source": [
    "y_train_c_raw = plini_clean_df['L'][y_train_c_start:y_train_c_end]\n",
    "y_train_c_raw.head()"
   ]
  },
  {
   "cell_type": "code",
   "execution_count": 29,
   "metadata": {},
   "outputs": [
    {
     "data": {
      "text/plain": [
       "1953792    576\n",
       "1953793    807\n",
       "1953794    559\n",
       "1953795    206\n",
       "1953796    178\n",
       "Name: L, dtype: int16"
      ]
     },
     "execution_count": 29,
     "metadata": {},
     "output_type": "execute_result"
    }
   ],
   "source": [
    "y_test_c_raw = plini_clean_df['L'][y_test_c_start:y_test_c_end]\n",
    "y_test_c_raw.head()"
   ]
  },
  {
   "cell_type": "code",
   "execution_count": 26,
   "metadata": {},
   "outputs": [
    {
     "data": {
      "text/plain": [
       "0    0\n",
       "1    0\n",
       "2    0\n",
       "3    0\n",
       "4    0\n",
       "Name: L, dtype: int16"
      ]
     },
     "execution_count": 26,
     "metadata": {},
     "output_type": "execute_result"
    }
   ],
   "source": [
    "X_train_c_raw = source_clean_df['L'][X_train_c_start:X_train_c_end]\n",
    "X_train_c_raw.head()"
   ]
  },
  {
   "cell_type": "code",
   "execution_count": 27,
   "metadata": {},
   "outputs": [
    {
     "data": {
      "text/plain": [
       "1953792   -615\n",
       "1953793   -560\n",
       "1953794   -485\n",
       "1953795   -395\n",
       "1953796   -302\n",
       "Name: L, dtype: int16"
      ]
     },
     "execution_count": 27,
     "metadata": {},
     "output_type": "execute_result"
    }
   ],
   "source": [
    "X_test_c_raw = source_clean_df['L'][X_test_c_start:X_test_c_end]\n",
    "X_test_c_raw.head()"
   ]
  },
  {
   "cell_type": "code",
   "execution_count": 28,
   "metadata": {},
   "outputs": [
    {
     "data": {
      "text/plain": [
       "0    0\n",
       "1    0\n",
       "2    0\n",
       "3    0\n",
       "4    0\n",
       "Name: L, dtype: int16"
      ]
     },
     "execution_count": 28,
     "metadata": {},
     "output_type": "execute_result"
    }
   ],
   "source": [
    "y_train_c_raw = plini_clean_df['L'][y_train_c_start:y_train_c_end]\n",
    "y_train_c_raw.head()"
   ]
  },
  {
   "cell_type": "code",
   "execution_count": 29,
   "metadata": {},
   "outputs": [
    {
     "data": {
      "text/plain": [
       "1953792    576\n",
       "1953793    807\n",
       "1953794    559\n",
       "1953795    206\n",
       "1953796    178\n",
       "Name: L, dtype: int16"
      ]
     },
     "execution_count": 29,
     "metadata": {},
     "output_type": "execute_result"
    }
   ],
   "source": [
    "y_test_c_raw = plini_clean_df['L'][y_test_c_start:y_test_c_end]\n",
    "y_test_c_raw.head()"
   ]
  },
  {
   "cell_type": "code",
   "execution_count": 31,
   "metadata": {},
   "outputs": [
    {
     "data": {
      "text/plain": [
       "0    0\n",
       "1    0\n",
       "2    0\n",
       "3    0\n",
       "4    0\n",
       "Name: L, dtype: int16"
      ]
     },
     "execution_count": 31,
     "metadata": {},
     "output_type": "execute_result"
    }
   ],
   "source": [
    "X_train_n_raw = source_noise_df['L'][X_train_n_start:X_train_n_end]\n",
    "X_train_n_raw.head()"
   ]
  },
  {
   "cell_type": "code",
   "execution_count": 32,
   "metadata": {},
   "outputs": [
    {
     "data": {
      "text/plain": [
       "651571    -4\n",
       "651572    -9\n",
       "651573   -16\n",
       "651574   -19\n",
       "651575   -19\n",
       "Name: L, dtype: int16"
      ]
     },
     "execution_count": 32,
     "metadata": {},
     "output_type": "execute_result"
    }
   ],
   "source": [
    "X_test_n_raw = source_noise_df['L'][X_test_n_start:X_test_n_end]\n",
    "X_test_n_raw.head()"
   ]
  },
  {
   "cell_type": "code",
   "execution_count": 33,
   "metadata": {},
   "outputs": [
    {
     "data": {
      "text/plain": [
       "0    0\n",
       "1    0\n",
       "2    0\n",
       "3    0\n",
       "4    0\n",
       "Name: L, dtype: int16"
      ]
     },
     "execution_count": 33,
     "metadata": {},
     "output_type": "execute_result"
    }
   ],
   "source": [
    "y_train_n_raw = plini_noise_df['L'][y_train_n_start:y_train_n_end]\n",
    "y_train_n_raw.head()"
   ]
  },
  {
   "cell_type": "code",
   "execution_count": 34,
   "metadata": {},
   "outputs": [
    {
     "data": {
      "text/plain": [
       "651571    7847\n",
       "651572    -430\n",
       "651573   -4769\n",
       "651574    4381\n",
       "651575    3236\n",
       "Name: L, dtype: int16"
      ]
     },
     "execution_count": 34,
     "metadata": {},
     "output_type": "execute_result"
    }
   ],
   "source": [
    "y_test_n_raw = plini_noise_df['L'][y_test_n_start:y_test_n_end]\n",
    "y_test_n_raw.head()"
   ]
  },
  {
   "cell_type": "code",
   "execution_count": 35,
   "metadata": {},
   "outputs": [],
   "source": [
    "TR_C_N_DEV = source_clean_fs\n",
    "TR_C_OFFSET_DEV = source_clean_fs * 2\n",
    "\n",
    "TE_C_N_DEV = int(source_clean_fs / 8)\n",
    "TE_C_OFFSET_DEV = source_clean_fs * 2"
   ]
  },
  {
   "cell_type": "code",
   "execution_count": 58,
   "metadata": {},
   "outputs": [],
   "source": [
    "TR_N_N_DEV = source_noise_fs\n",
    "TR_N_OFFSET_DEV = source_noise_fs * 2\n",
    "\n",
    "TE_N_N_DEV = int(TE_C_N_DEV / 10)\n",
    "TE_N_OFFSET_DEV = source_noise_fs * 2"
   ]
  },
  {
   "cell_type": "code",
   "execution_count": 59,
   "metadata": {},
   "outputs": [
    {
     "data": {
      "text/plain": [
       "(44100, 5512, 44100, 551)"
      ]
     },
     "execution_count": 59,
     "metadata": {},
     "output_type": "execute_result"
    }
   ],
   "source": [
    "(TR_C_N_DEV, TE_C_N_DEV, TR_N_N_DEV, TE_N_N_DEV)"
   ]
  },
  {
   "cell_type": "code",
   "execution_count": 377,
   "metadata": {},
   "outputs": [
    {
     "data": {
      "text/plain": [
       "64"
      ]
     },
     "execution_count": 377,
     "metadata": {},
     "output_type": "execute_result"
    }
   ],
   "source": [
    "# N_WINDOW_POINTS = int(source_clean_fs * 0.02)\n",
    "N_WINDOW_POINTS = 64\n",
    "N_WINDOW_POINTS"
   ]
  },
  {
   "cell_type": "code",
   "execution_count": 378,
   "metadata": {},
   "outputs": [],
   "source": [
    "def make_windows(df, n_window_points):\n",
    "    df_index = df.index\n",
    "    index = 0\n",
    "    windows = []\n",
    "\n",
    "    for index in range(0, len(df) - n_window_points):\n",
    "        windows.append(df_index[index:(index + n_window_points)])\n",
    "\n",
    "    return windows"
   ]
  },
  {
   "cell_type": "code",
   "execution_count": 379,
   "metadata": {},
   "outputs": [
    {
     "data": {
      "text/plain": [
       "44036"
      ]
     },
     "execution_count": 379,
     "metadata": {},
     "output_type": "execute_result"
    }
   ],
   "source": [
    "X_train_c_wnd = make_windows(X_train_c_raw[TR_C_OFFSET_DEV:TR_C_OFFSET_DEV+TR_C_N_DEV], N_WINDOW_POINTS)\n",
    "len(X_train_c_wnd)"
   ]
  },
  {
   "cell_type": "code",
   "execution_count": 380,
   "metadata": {},
   "outputs": [
    {
     "data": {
      "text/plain": [
       "5448"
      ]
     },
     "execution_count": 380,
     "metadata": {},
     "output_type": "execute_result"
    }
   ],
   "source": [
    "X_test_c_wnd = make_windows(X_test_c_raw[TE_C_OFFSET_DEV:TE_C_OFFSET_DEV+TE_C_N_DEV], N_WINDOW_POINTS)\n",
    "len(X_test_c_wnd)"
   ]
  },
  {
   "cell_type": "code",
   "execution_count": 381,
   "metadata": {},
   "outputs": [
    {
     "data": {
      "text/plain": [
       "44036"
      ]
     },
     "execution_count": 381,
     "metadata": {},
     "output_type": "execute_result"
    }
   ],
   "source": [
    "y_train_c_wnd = make_windows(y_train_c_raw[TR_C_OFFSET_DEV:TR_C_OFFSET_DEV+TR_C_N_DEV], N_WINDOW_POINTS)\n",
    "len(y_train_c_wnd)"
   ]
  },
  {
   "cell_type": "code",
   "execution_count": 382,
   "metadata": {},
   "outputs": [
    {
     "data": {
      "text/plain": [
       "5448"
      ]
     },
     "execution_count": 382,
     "metadata": {},
     "output_type": "execute_result"
    }
   ],
   "source": [
    "y_test_c_wnd = make_windows(y_test_c_raw[TE_C_OFFSET_DEV:TE_C_OFFSET_DEV+TE_C_N_DEV], N_WINDOW_POINTS)\n",
    "len(y_test_c_wnd)"
   ]
  },
  {
   "cell_type": "code",
   "execution_count": 383,
   "metadata": {},
   "outputs": [
    {
     "data": {
      "text/plain": [
       "44036"
      ]
     },
     "execution_count": 383,
     "metadata": {},
     "output_type": "execute_result"
    }
   ],
   "source": [
    "X_train_n_wnd = make_windows(X_train_n_raw[TR_N_OFFSET_DEV:TR_N_OFFSET_DEV+TR_N_N_DEV], N_WINDOW_POINTS)\n",
    "len(X_train_n_wnd)"
   ]
  },
  {
   "cell_type": "code",
   "execution_count": 384,
   "metadata": {},
   "outputs": [
    {
     "data": {
      "text/plain": [
       "487"
      ]
     },
     "execution_count": 384,
     "metadata": {},
     "output_type": "execute_result"
    }
   ],
   "source": [
    "X_test_n_wnd = make_windows(X_test_n_raw[TE_N_OFFSET_DEV:TE_N_OFFSET_DEV+TE_N_N_DEV], N_WINDOW_POINTS)\n",
    "len(X_test_n_wnd)"
   ]
  },
  {
   "cell_type": "code",
   "execution_count": 385,
   "metadata": {},
   "outputs": [
    {
     "data": {
      "text/plain": [
       "44036"
      ]
     },
     "execution_count": 385,
     "metadata": {},
     "output_type": "execute_result"
    }
   ],
   "source": [
    "y_train_n_wnd = make_windows(y_train_n_raw[TR_N_OFFSET_DEV:TR_N_OFFSET_DEV+TR_N_N_DEV], N_WINDOW_POINTS)\n",
    "len(y_train_n_wnd)"
   ]
  },
  {
   "cell_type": "code",
   "execution_count": 386,
   "metadata": {},
   "outputs": [
    {
     "data": {
      "text/plain": [
       "487"
      ]
     },
     "execution_count": 386,
     "metadata": {},
     "output_type": "execute_result"
    }
   ],
   "source": [
    "y_test_n_wnd = make_windows(y_test_n_raw[TE_N_OFFSET_DEV:TE_N_OFFSET_DEV+TE_N_N_DEV], N_WINDOW_POINTS)\n",
    "len(y_test_n_wnd)"
   ]
  },
  {
   "cell_type": "code",
   "execution_count": 387,
   "metadata": {},
   "outputs": [
    {
     "data": {
      "text/plain": [
       "RangeIndex(start=2041992, stop=2042056, step=1)"
      ]
     },
     "execution_count": 387,
     "metadata": {},
     "output_type": "execute_result"
    }
   ],
   "source": [
    "X_test_c_wnd[0]"
   ]
  },
  {
   "cell_type": "code",
   "execution_count": 388,
   "metadata": {
    "scrolled": true
   },
   "outputs": [
    {
     "data": {
      "text/plain": [
       "2041992     153\n",
       "2041993     147\n",
       "2041994     154\n",
       "2041995     176\n",
       "2041996     215\n",
       "2041997     279\n",
       "2041998     358\n",
       "2041999     443\n",
       "2042000     539\n",
       "2042001     625\n",
       "2042002     696\n",
       "2042003     755\n",
       "2042004     791\n",
       "2042005     801\n",
       "2042006     790\n",
       "2042007     755\n",
       "2042008     691\n",
       "2042009     598\n",
       "2042010     478\n",
       "2042011     333\n",
       "2042012     169\n",
       "2042013      -6\n",
       "2042014    -183\n",
       "2042015    -360\n",
       "2042016    -528\n",
       "2042017    -681\n",
       "2042018    -813\n",
       "2042019    -926\n",
       "2042020   -1016\n",
       "2042021   -1084\n",
       "           ... \n",
       "2042026   -1082\n",
       "2042027   -1046\n",
       "2042028   -1002\n",
       "2042029    -955\n",
       "2042030    -902\n",
       "2042031    -845\n",
       "2042032    -791\n",
       "2042033    -742\n",
       "2042034    -694\n",
       "2042035    -644\n",
       "2042036    -589\n",
       "2042037    -525\n",
       "2042038    -453\n",
       "2042039    -378\n",
       "2042040    -309\n",
       "2042041    -250\n",
       "2042042    -204\n",
       "2042043    -170\n",
       "2042044    -141\n",
       "2042045    -115\n",
       "2042046     -91\n",
       "2042047     -71\n",
       "2042048     -58\n",
       "2042049     -58\n",
       "2042050     -71\n",
       "2042051     -95\n",
       "2042052    -120\n",
       "2042053    -146\n",
       "2042054    -169\n",
       "2042055    -188\n",
       "Name: L, Length: 64, dtype: int16"
      ]
     },
     "execution_count": 388,
     "metadata": {},
     "output_type": "execute_result"
    }
   ],
   "source": [
    "X_test_c_raw[X_test_c_wnd[0]]"
   ]
  },
  {
   "cell_type": "markdown",
   "metadata": {},
   "source": [
    "## Preparing data for processing"
   ]
  },
  {
   "cell_type": "code",
   "execution_count": 419,
   "metadata": {
    "scrolled": true
   },
   "outputs": [
    {
     "data": {
      "text/plain": [
       "(88200    -725\n",
       " 88201    -877\n",
       " 88202    -986\n",
       " 88203   -1013\n",
       " 88204    -959\n",
       " 88205    -815\n",
       " 88206    -628\n",
       " 88207    -424\n",
       " 88208    -218\n",
       " 88209     -28\n",
       " 88210     151\n",
       " 88211     303\n",
       " 88212     431\n",
       " 88213     534\n",
       " 88214     615\n",
       " 88215     671\n",
       " 88216     707\n",
       " 88217     751\n",
       " 88218     842\n",
       " 88219     990\n",
       " 88220    1158\n",
       " 88221    1316\n",
       " 88222    1448\n",
       " 88223    1559\n",
       " 88224    1660\n",
       " 88225    1754\n",
       " 88226    1793\n",
       " 88227    1738\n",
       " 88228    1584\n",
       " 88229    1357\n",
       "          ... \n",
       " 88234     145\n",
       " 88235     -87\n",
       " 88236    -274\n",
       " 88237    -416\n",
       " 88238    -514\n",
       " 88239    -565\n",
       " 88240    -592\n",
       " 88241    -576\n",
       " 88242    -540\n",
       " 88243    -500\n",
       " 88244    -454\n",
       " 88245    -398\n",
       " 88246    -337\n",
       " 88247    -263\n",
       " 88248    -176\n",
       " 88249     -94\n",
       " 88250       3\n",
       " 88251      96\n",
       " 88252     190\n",
       " 88253     267\n",
       " 88254     319\n",
       " 88255     365\n",
       " 88256     400\n",
       " 88257     443\n",
       " 88258     482\n",
       " 88259     512\n",
       " 88260     504\n",
       " 88261     474\n",
       " 88262     451\n",
       " 88263     421\n",
       " Name: L, Length: 64, dtype: int16, 132235    -8\n",
       " 132236    -4\n",
       " 132237   -10\n",
       " 132238    -1\n",
       " 132239    -2\n",
       " 132240    -2\n",
       " 132241    -7\n",
       " 132242   -16\n",
       " 132243    -8\n",
       " 132244    -1\n",
       " 132245     2\n",
       " 132246    -6\n",
       " 132247     8\n",
       " 132248     9\n",
       " 132249     3\n",
       " 132250     8\n",
       " 132251     5\n",
       " 132252     2\n",
       " 132253    -1\n",
       " 132254     2\n",
       " 132255    -6\n",
       " 132256    -7\n",
       " 132257    -2\n",
       " 132258    -3\n",
       " 132259     3\n",
       " 132260     3\n",
       " 132261    16\n",
       " 132262     7\n",
       " 132263   -12\n",
       " 132264     6\n",
       "           ..\n",
       " 132269    -8\n",
       " 132270    -9\n",
       " 132271   -10\n",
       " 132272    -6\n",
       " 132273    -2\n",
       " 132274   -14\n",
       " 132275   -14\n",
       " 132276    -3\n",
       " 132277   -15\n",
       " 132278   -19\n",
       " 132279   -22\n",
       " 132280   -29\n",
       " 132281   -18\n",
       " 132282   -17\n",
       " 132283   -23\n",
       " 132284   -27\n",
       " 132285   -29\n",
       " 132286   -22\n",
       " 132287   -28\n",
       " 132288   -39\n",
       " 132289   -31\n",
       " 132290   -15\n",
       " 132291   -14\n",
       " 132292   -21\n",
       " 132293   -15\n",
       " 132294   -11\n",
       " 132295   -18\n",
       " 132296   -17\n",
       " 132297   -20\n",
       " 132298   -14\n",
       " Name: L, Length: 64, dtype: int16)"
      ]
     },
     "execution_count": 419,
     "metadata": {},
     "output_type": "execute_result"
    }
   ],
   "source": [
    "X_train = (\n",
    "    list(map(lambda wnd: X_train_c_raw[wnd], X_train_c_wnd)) +\n",
    "    list(map(lambda wnd: X_train_n_raw[wnd], X_train_n_wnd))\n",
    ")\n",
    "\n",
    "X_train[0], X_train[-1]"
   ]
  },
  {
   "cell_type": "code",
   "execution_count": 420,
   "metadata": {
    "scrolled": true
   },
   "outputs": [
    {
     "data": {
      "text/plain": [
       "(2041992     153\n",
       " 2041993     147\n",
       " 2041994     154\n",
       " 2041995     176\n",
       " 2041996     215\n",
       " 2041997     279\n",
       " 2041998     358\n",
       " 2041999     443\n",
       " 2042000     539\n",
       " 2042001     625\n",
       " 2042002     696\n",
       " 2042003     755\n",
       " 2042004     791\n",
       " 2042005     801\n",
       " 2042006     790\n",
       " 2042007     755\n",
       " 2042008     691\n",
       " 2042009     598\n",
       " 2042010     478\n",
       " 2042011     333\n",
       " 2042012     169\n",
       " 2042013      -6\n",
       " 2042014    -183\n",
       " 2042015    -360\n",
       " 2042016    -528\n",
       " 2042017    -681\n",
       " 2042018    -813\n",
       " 2042019    -926\n",
       " 2042020   -1016\n",
       " 2042021   -1084\n",
       "            ... \n",
       " 2042026   -1082\n",
       " 2042027   -1046\n",
       " 2042028   -1002\n",
       " 2042029    -955\n",
       " 2042030    -902\n",
       " 2042031    -845\n",
       " 2042032    -791\n",
       " 2042033    -742\n",
       " 2042034    -694\n",
       " 2042035    -644\n",
       " 2042036    -589\n",
       " 2042037    -525\n",
       " 2042038    -453\n",
       " 2042039    -378\n",
       " 2042040    -309\n",
       " 2042041    -250\n",
       " 2042042    -204\n",
       " 2042043    -170\n",
       " 2042044    -141\n",
       " 2042045    -115\n",
       " 2042046     -91\n",
       " 2042047     -71\n",
       " 2042048     -58\n",
       " 2042049     -58\n",
       " 2042050     -71\n",
       " 2042051     -95\n",
       " 2042052    -120\n",
       " 2042053    -146\n",
       " 2042054    -169\n",
       " 2042055    -188\n",
       " Name: L, Length: 64, dtype: int16, 740257   -10\n",
       " 740258   -10\n",
       " 740259    -9\n",
       " 740260     2\n",
       " 740261    -6\n",
       " 740262    -9\n",
       " 740263    -3\n",
       " 740264     2\n",
       " 740265     3\n",
       " 740266    -2\n",
       " 740267    -9\n",
       " 740268   -25\n",
       " 740269   -13\n",
       " 740270    -9\n",
       " 740271   -15\n",
       " 740272    -9\n",
       " 740273   -13\n",
       " 740274   -12\n",
       " 740275   -17\n",
       " 740276    -8\n",
       " 740277    -4\n",
       " 740278   -16\n",
       " 740279   -18\n",
       " 740280   -13\n",
       " 740281    -6\n",
       " 740282    -4\n",
       " 740283     2\n",
       " 740284    -2\n",
       " 740285    -5\n",
       " 740286   -13\n",
       "           ..\n",
       " 740291   -20\n",
       " 740292    -7\n",
       " 740293   -12\n",
       " 740294   -13\n",
       " 740295    -6\n",
       " 740296   -21\n",
       " 740297   -20\n",
       " 740298   -18\n",
       " 740299    -7\n",
       " 740300    -4\n",
       " 740301     2\n",
       " 740302     2\n",
       " 740303    -3\n",
       " 740304     6\n",
       " 740305    -7\n",
       " 740306    15\n",
       " 740307    19\n",
       " 740308    -8\n",
       " 740309     2\n",
       " 740310    -2\n",
       " 740311     4\n",
       " 740312     1\n",
       " 740313   -10\n",
       " 740314     7\n",
       " 740315     1\n",
       " 740316    -7\n",
       " 740317    -5\n",
       " 740318    -2\n",
       " 740319    -1\n",
       " 740320    -7\n",
       " Name: L, Length: 64, dtype: int16)"
      ]
     },
     "execution_count": 420,
     "metadata": {},
     "output_type": "execute_result"
    }
   ],
   "source": [
    "X_test = (\n",
    "    list(map(lambda wnd: X_test_c_raw[wnd], X_test_c_wnd)) +\n",
    "    list(map(lambda wnd: X_test_n_raw[wnd], X_test_n_wnd))\n",
    ")\n",
    "\n",
    "X_test[0], X_test[-1]"
   ]
  },
  {
   "cell_type": "code",
   "execution_count": 421,
   "metadata": {
    "scrolled": true
   },
   "outputs": [
    {
     "data": {
      "text/plain": [
       "(88200    1118\n",
       " 88201     258\n",
       " 88202     145\n",
       " 88203     854\n",
       " 88204     896\n",
       " 88205     -54\n",
       " 88206   -1922\n",
       " 88207   -3178\n",
       " 88208   -1751\n",
       " 88209    1715\n",
       " 88210    4552\n",
       " 88211    4313\n",
       " 88212    2005\n",
       " 88213    -137\n",
       " 88214   -1049\n",
       " 88215     866\n",
       " 88216    3828\n",
       " 88217    4486\n",
       " 88218    2774\n",
       " 88219      42\n",
       " 88220   -1738\n",
       " 88221   -1592\n",
       " 88222     -35\n",
       " 88223    1778\n",
       " 88224    2595\n",
       " 88225    1983\n",
       " 88226    1740\n",
       " 88227    1965\n",
       " 88228    1299\n",
       " 88229    1925\n",
       "          ... \n",
       " 88234    -442\n",
       " 88235    1143\n",
       " 88236    3186\n",
       " 88237    4384\n",
       " 88238    3292\n",
       " 88239    -477\n",
       " 88240   -2510\n",
       " 88241    -662\n",
       " 88242    3925\n",
       " 88243    7671\n",
       " 88244    6696\n",
       " 88245    3316\n",
       " 88246     803\n",
       " 88247    1191\n",
       " 88248    3828\n",
       " 88249    5551\n",
       " 88250    5037\n",
       " 88251    3819\n",
       " 88252    3078\n",
       " 88253    2579\n",
       " 88254    2618\n",
       " 88255    2391\n",
       " 88256    2255\n",
       " 88257    2113\n",
       " 88258    1952\n",
       " 88259    2723\n",
       " 88260    2672\n",
       " 88261    1317\n",
       " 88262     712\n",
       " 88263    1208\n",
       " Name: L, Length: 64, dtype: int16, 132235    -2461\n",
       " 132236     1274\n",
       " 132237     4151\n",
       " 132238     3417\n",
       " 132239    -2516\n",
       " 132240    -6206\n",
       " 132241     2008\n",
       " 132242      883\n",
       " 132243    -3249\n",
       " 132244    -1408\n",
       " 132245     1014\n",
       " 132246     5972\n",
       " 132247     -734\n",
       " 132248    -4703\n",
       " 132249      195\n",
       " 132250     6093\n",
       " 132251    -1820\n",
       " 132252    -9735\n",
       " 132253      369\n",
       " 132254     -156\n",
       " 132255     7086\n",
       " 132256     2394\n",
       " 132257    -4838\n",
       " 132258     5950\n",
       " 132259    -6297\n",
       " 132260   -12667\n",
       " 132261     6862\n",
       " 132262    16455\n",
       " 132263    -5625\n",
       " 132264   -13240\n",
       "           ...  \n",
       " 132269    -4488\n",
       " 132270    -1601\n",
       " 132271     5919\n",
       " 132272    -3854\n",
       " 132273    -4118\n",
       " 132274     3591\n",
       " 132275    -1064\n",
       " 132276      -11\n",
       " 132277     1103\n",
       " 132278     -718\n",
       " 132279     2274\n",
       " 132280     -514\n",
       " 132281    -6929\n",
       " 132282    -1960\n",
       " 132283     5916\n",
       " 132284     7034\n",
       " 132285    -3392\n",
       " 132286    -5750\n",
       " 132287     1143\n",
       " 132288     -902\n",
       " 132289     1453\n",
       " 132290       -8\n",
       " 132291    -3264\n",
       " 132292     5414\n",
       " 132293     2280\n",
       " 132294    -5457\n",
       " 132295    -1068\n",
       " 132296    -3189\n",
       " 132297     1238\n",
       " 132298     3534\n",
       " Name: L, Length: 64, dtype: int16)"
      ]
     },
     "execution_count": 421,
     "metadata": {},
     "output_type": "execute_result"
    }
   ],
   "source": [
    "y_train = (\n",
    "    list(map(lambda wnd: y_train_c_raw[wnd], y_train_c_wnd)) +\n",
    "    list(map(lambda wnd: y_train_n_raw[wnd], y_train_n_wnd))\n",
    ")\n",
    "\n",
    "y_train[0], y_train[-1]"
   ]
  },
  {
   "cell_type": "code",
   "execution_count": 422,
   "metadata": {
    "scrolled": true
   },
   "outputs": [
    {
     "data": {
      "text/plain": [
       "(2041992    1572\n",
       " 2041993     314\n",
       " 2041994    -408\n",
       " 2041995    -288\n",
       " 2041996    -101\n",
       " 2041997    -390\n",
       " 2041998   -1198\n",
       " 2041999   -2009\n",
       " 2042000   -2520\n",
       " 2042001   -2666\n",
       " 2042002   -2592\n",
       " 2042003   -2741\n",
       " 2042004   -2906\n",
       " 2042005   -2911\n",
       " 2042006   -2718\n",
       " 2042007   -2175\n",
       " 2042008   -1581\n",
       " 2042009   -1250\n",
       " 2042010   -1388\n",
       " 2042011   -1692\n",
       " 2042012   -1780\n",
       " 2042013   -1656\n",
       " 2042014   -1289\n",
       " 2042015    -987\n",
       " 2042016    -755\n",
       " 2042017    -609\n",
       " 2042018    -437\n",
       " 2042019    -199\n",
       " 2042020     -61\n",
       " 2042021      19\n",
       "            ... \n",
       " 2042026     336\n",
       " 2042027     288\n",
       " 2042028     476\n",
       " 2042029     254\n",
       " 2042030    -152\n",
       " 2042031     229\n",
       " 2042032     748\n",
       " 2042033     953\n",
       " 2042034     871\n",
       " 2042035     455\n",
       " 2042036    -128\n",
       " 2042037    -425\n",
       " 2042038    -205\n",
       " 2042039     534\n",
       " 2042040     549\n",
       " 2042041     -71\n",
       " 2042042    -413\n",
       " 2042043    -554\n",
       " 2042044    -291\n",
       " 2042045       9\n",
       " 2042046     611\n",
       " 2042047     561\n",
       " 2042048    -444\n",
       " 2042049    -614\n",
       " 2042050    -416\n",
       " 2042051    -173\n",
       " 2042052     333\n",
       " 2042053     247\n",
       " 2042054      49\n",
       " 2042055     241\n",
       " Name: L, Length: 64, dtype: int16, 740257     5296\n",
       " 740258     3821\n",
       " 740259    -4651\n",
       " 740260    -2154\n",
       " 740261    -6542\n",
       " 740262     2110\n",
       " 740263    13309\n",
       " 740264    -3633\n",
       " 740265   -13991\n",
       " 740266     -499\n",
       " 740267     5320\n",
       " 740268     2882\n",
       " 740269     6765\n",
       " 740270      917\n",
       " 740271   -10678\n",
       " 740272    -9605\n",
       " 740273      -15\n",
       " 740274     8222\n",
       " 740275     8037\n",
       " 740276     2982\n",
       " 740277    -2047\n",
       " 740278   -14192\n",
       " 740279    -4111\n",
       " 740280    10375\n",
       " 740281    -2360\n",
       " 740282     2603\n",
       " 740283     2000\n",
       " 740284    -1472\n",
       " 740285     2463\n",
       " 740286    -6087\n",
       "           ...  \n",
       " 740291     2135\n",
       " 740292    -5900\n",
       " 740293    -8014\n",
       " 740294     1262\n",
       " 740295     1643\n",
       " 740296     3710\n",
       " 740297     2297\n",
       " 740298     6056\n",
       " 740299    -4308\n",
       " 740300   -18249\n",
       " 740301     6897\n",
       " 740302     4169\n",
       " 740303    -7454\n",
       " 740304    12601\n",
       " 740305     9985\n",
       " 740306   -11399\n",
       " 740307   -13305\n",
       " 740308     5587\n",
       " 740309     7296\n",
       " 740310    -6336\n",
       " 740311     3710\n",
       " 740312     7178\n",
       " 740313    -5650\n",
       " 740314    -4904\n",
       " 740315    -2614\n",
       " 740316     3435\n",
       " 740317     3323\n",
       " 740318    -5577\n",
       " 740319     3859\n",
       " 740320     7654\n",
       " Name: L, Length: 64, dtype: int16)"
      ]
     },
     "execution_count": 422,
     "metadata": {},
     "output_type": "execute_result"
    }
   ],
   "source": [
    "y_test = (\n",
    "    list(map(lambda wnd: y_test_c_raw[wnd], y_test_c_wnd)) +\n",
    "    list(map(lambda wnd: y_test_n_raw[wnd], y_test_n_wnd))\n",
    ")\n",
    "\n",
    "y_test[0], y_test[-1]"
   ]
  },
  {
   "cell_type": "code",
   "execution_count": 423,
   "metadata": {},
   "outputs": [
    {
     "data": {
      "text/plain": [
       "(array([12, 25, 22, 30, 45, 17, 18, 17, 22, 21, 21, 27, 12, 16, 22, 21,  6,\n",
       "         8,  5,  8, 24,  6,  5, 16, 13, 16, 16, 24, 29, 31, 37, 26, 28, 33,\n",
       "        34, 36, 33, 33, 26, 26, 19, 17,  1, -6,  5, -7,  2,  7, 13, 23,  6,\n",
       "         7, 19, 18, 19, 10,  7, -1,  9, 19,  5, 23,  6,  2], dtype=int16),\n",
       " array([ -5339,   -254,   2537,  -2629,  -2783,   6859,   -448,  -4081,\n",
       "         -7318,  -5167,   9471,   7116,   2370, -11311, -10961,   8825,\n",
       "          1113,  -2282,   7284,  -1966,  -5726,  -1076,   -976,   2636,\n",
       "          2928,   3504,    952, -10151,  -7856,   2850,   5165,   3055,\n",
       "          -559,  -3498,  -4965,   6687,   6325,  -7342,  -6869,  -6354,\n",
       "          4126,   9635,   4947,  -1520,  -7891,  -3876,    619,   7336,\n",
       "          5682,  -7423, -11697,   5632,   9048,  -3092,   3176,    697,\n",
       "        -11574,   -994,   9185,   2206,  -2236,  -9137,   1638,   9978],\n",
       "       dtype=int16))"
      ]
     },
     "execution_count": 423,
     "metadata": {},
     "output_type": "execute_result"
    }
   ],
   "source": [
    "train_shuffle_index = np.arange(0, len(X_train))\n",
    "np.random.shuffle(train_shuffle_index)\n",
    "\n",
    "test_shuffle_index = np.arange(0, len(X_test))\n",
    "np.random.shuffle(test_shuffle_index)\n",
    "\n",
    "X_train = np.array(X_train)[train_shuffle_index]\n",
    "y_train = np.array(y_train)[train_shuffle_index]\n",
    "\n",
    "X_test = np.array(X_test)[test_shuffle_index]\n",
    "y_test = np.array(y_test)[test_shuffle_index]\n",
    "\n",
    "X_train[0], y_train[0]"
   ]
  },
  {
   "cell_type": "code",
   "execution_count": 424,
   "metadata": {},
   "outputs": [],
   "source": [
    "def normalize_keeping_mean(arr, forced_abs=None):\n",
    "    left_abs = np.abs(arr.mean() - arr.min())\n",
    "    right_abs = np.abs(arr.max() - arr.mean())\n",
    "    \n",
    "    n = max(left_abs, right_abs)\n",
    "    \n",
    "    if (forced_abs is not None):\n",
    "        n = forced_abs\n",
    "    \n",
    "    return np.clip(arr / n, -1.0, 1.0)"
   ]
  },
  {
   "cell_type": "code",
   "execution_count": 425,
   "metadata": {},
   "outputs": [],
   "source": [
    "def normalize(arr, forced_abs=None, mean=None):\n",
    "    left_abs = np.abs(arr.mean() - arr.min())\n",
    "    right_abs = np.abs(arr.max() - arr.mean())\n",
    "    \n",
    "    n = max(left_abs, right_abs)\n",
    "    \n",
    "    if (forced_abs is not None):\n",
    "        n = forced_abs\n",
    "        \n",
    "    if (mean is None):\n",
    "        mean = arr.mean()\n",
    "    \n",
    "    \n",
    "    return np.clip((arr - mean) / n, -1.0, 1.0)"
   ]
  },
  {
   "cell_type": "code",
   "execution_count": 426,
   "metadata": {},
   "outputs": [
    {
     "data": {
      "text/plain": [
       "(-0.07431257057405316, 0.09094515823847163, 2.5463454694080666e-05)"
      ]
     },
     "execution_count": 426,
     "metadata": {},
     "output_type": "execute_result"
    }
   ],
   "source": [
    "import numpy as np\n",
    "\n",
    "X_tr = np.array(list(map(lambda x: np.array(x), X_train)))\n",
    "X_tr_n = normalize(X_tr, forced_abs=MAX_VALUE, mean=0.0)\n",
    "X_tr_n.min(), X_tr_n.max(), np.mean(X_tr_n)"
   ]
  },
  {
   "cell_type": "code",
   "execution_count": 427,
   "metadata": {},
   "outputs": [
    {
     "data": {
      "text/plain": [
       "(-0.05261391033661916, 0.04519791253395184, -5.329080997692491e-05)"
      ]
     },
     "execution_count": 427,
     "metadata": {},
     "output_type": "execute_result"
    }
   ],
   "source": [
    "X_te = np.array(list(map(lambda x: np.array(x), X_test)))\n",
    "X_te_n = normalize_keeping_mean(X_te, forced_abs=MAX_VALUE)\n",
    "X_te_n.min(), X_te_n.max(), np.mean(X_te_n)"
   ]
  },
  {
   "cell_type": "code",
   "execution_count": 428,
   "metadata": {},
   "outputs": [
    {
     "data": {
      "text/plain": [
       "(-0.6644795068208869, 0.7200231940672017, -1.735796643865174e-05)"
      ]
     },
     "execution_count": 428,
     "metadata": {},
     "output_type": "execute_result"
    }
   ],
   "source": [
    "y_tr = np.array(list(map(lambda x: np.array(x), y_train)))\n",
    "y_tr_n = normalize_keeping_mean(y_tr, forced_abs=MAX_VALUE)\n",
    "y_tr_n.min(), y_tr_n.max(), np.mean(y_tr_n)"
   ]
  },
  {
   "cell_type": "code",
   "execution_count": 429,
   "metadata": {},
   "outputs": [
    {
     "data": {
      "text/plain": [
       "(-0.5569322794274728, 0.6695455793939024, 4.3853725812506534e-05)"
      ]
     },
     "execution_count": 429,
     "metadata": {},
     "output_type": "execute_result"
    }
   ],
   "source": [
    "y_te = np.array(list(map(lambda x: np.array(x), y_test)))\n",
    "y_te_n = normalize_keeping_mean(y_te, forced_abs=MAX_VALUE)\n",
    "y_te_n.min(), y_te_n.max(), np.mean(y_te_n)"
   ]
  },
  {
   "cell_type": "code",
   "execution_count": 430,
   "metadata": {},
   "outputs": [],
   "source": [
    "X_tr_n = X_tr_n.astype('float32')\n",
    "X_te_n = X_te_n.astype('float32')\n",
    "y_tr_n = y_tr_n.astype('float32')\n",
    "y_te_n = y_te_n.astype('float32')"
   ]
  },
  {
   "cell_type": "code",
   "execution_count": 431,
   "metadata": {
    "scrolled": true
   },
   "outputs": [
    {
     "data": {
      "text/plain": [
       "<matplotlib.axes._subplots.AxesSubplot at 0x190639b00>"
      ]
     },
     "execution_count": 431,
     "metadata": {},
     "output_type": "execute_result"
    },
    {
     "data": {
      "image/png": "[encoded data removed]",
      "text/plain": [
       "<Figure size 432x288 with 1 Axes>"
      ]
     },
     "metadata": {
      "needs_background": "light"
     },
     "output_type": "display_data"
    }
   ],
   "source": [
    "pd.Series(X_tr_n[-100]).plot.line()"
   ]
  },
  {
   "cell_type": "code",
   "execution_count": 432,
   "metadata": {},
   "outputs": [
    {
     "data": {
      "text/plain": [
       "<matplotlib.axes._subplots.AxesSubplot at 0x150602fd0>"
      ]
     },
     "execution_count": 432,
     "metadata": {},
     "output_type": "execute_result"
    },
    {
     "data": {
      "image/png": "[encoded data removed]",
      "text/plain": [
       "<Figure size 432x288 with 1 Axes>"
      ]
     },
     "metadata": {
      "needs_background": "light"
     },
     "output_type": "display_data"
    }
   ],
   "source": [
    "pd.Series(y_tr_n[-100]).plot.line()"
   ]
  },
  {
   "cell_type": "code",
   "execution_count": 433,
   "metadata": {},
   "outputs": [
    {
     "data": {
      "text/plain": [
       "<matplotlib.axes._subplots.AxesSubplot at 0x1505f4160>"
      ]
     },
     "execution_count": 433,
     "metadata": {},
     "output_type": "execute_result"
    },
    {
     "data": {
      "image/png": "[encoded data removed]",
      "text/plain": [
       "<Figure size 432x288 with 1 Axes>"
      ]
     },
     "metadata": {
      "needs_background": "light"
     },
     "output_type": "display_data"
    }
   ],
   "source": [
    "pd.Series(X_te_n[-100]).plot.line()"
   ]
  },
  {
   "cell_type": "code",
   "execution_count": 434,
   "metadata": {},
   "outputs": [
    {
     "data": {
      "text/plain": [
       "<matplotlib.axes._subplots.AxesSubplot at 0x150686c18>"
      ]
     },
     "execution_count": 434,
     "metadata": {},
     "output_type": "execute_result"
    },
    {
     "data": {
      "image/png": "[encoded data removed]",
      "text/plain": [
       "<Figure size 432x288 with 1 Axes>"
      ]
     },
     "metadata": {
      "needs_background": "light"
     },
     "output_type": "display_data"
    }
   ],
   "source": [
    "pd.Series(y_te_n[-100]).plot.line()"
   ]
  },
  {
   "cell_type": "markdown",
   "metadata": {},
   "source": [
    "## Need to apply FFT to data\n",
    "\n",
    "The plan is to apply FFT, and take the freqs and amplitudes of first N peaks, feeding it into NN"
   ]
  },
  {
   "cell_type": "code",
   "execution_count": 435,
   "metadata": {},
   "outputs": [
    {
     "data": {
      "text/plain": [
       "array([-719, -739, -741, -733, -720, -708, -695, -679, -657, -629, -598,\n",
       "       -559, -520, -483, -448, -410, -370, -327, -274, -220, -164, -115,\n",
       "        -72,  -38,  -13,   10,   34,   61,   90,  122,  148,  167,  180,\n",
       "        190,  203,  219,  240,  265,  290,  314,  332,  341,  338,  319,\n",
       "        281,  226,  158,   82,    8,  -56, -103, -132, -148, -147, -136,\n",
       "       -117,  -88,  -53,  -12,   28,   70,  108,  143,  175], dtype=int16)"
      ]
     },
     "execution_count": 435,
     "metadata": {},
     "output_type": "execute_result"
    }
   ],
   "source": [
    "test_wnd = X_te[-1]\n",
    "test_wnd"
   ]
  },
  {
   "cell_type": "code",
   "execution_count": 436,
   "metadata": {},
   "outputs": [
    {
     "data": {
      "text/plain": [
       "44100"
      ]
     },
     "execution_count": 436,
     "metadata": {},
     "output_type": "execute_result"
    }
   ],
   "source": [
    "FD = 22050 * 2\n",
    "FD"
   ]
  },
  {
   "cell_type": "code",
   "execution_count": 437,
   "metadata": {},
   "outputs": [
    {
     "data": {
      "text/plain": [
       "<matplotlib.axes._subplots.AxesSubplot at 0x1504fe128>"
      ]
     },
     "execution_count": 437,
     "metadata": {},
     "output_type": "execute_result"
    },
    {
     "data": {
      "image/png": "[encoded data removed]",
      "text/plain": [
       "<Figure size 432x288 with 1 Axes>"
      ]
     },
     "metadata": {
      "needs_background": "light"
     },
     "output_type": "display_data"
    }
   ],
   "source": [
    "pd.Series(test_wnd).plot.line()"
   ]
  },
  {
   "cell_type": "code",
   "execution_count": 438,
   "metadata": {},
   "outputs": [
    {
     "name": "stdout",
     "output_type": "stream",
     "text": [
      "22050.0\n",
      "[0.0, 668.1818181818182, 1336.3636363636365, 2004.5454545454545, 2672.727272727273, 3340.909090909091, 4009.090909090909, 4677.272727272727, 5345.454545454546, 6013.636363636363, 6681.818181818182, 7350.0, 8018.181818181818, 8686.363636363636, 9354.545454545454, 10022.727272727272, 10690.909090909092, 11359.090909090908, 12027.272727272726, 12695.454545454546, 13363.636363636364, 14031.818181818182, 14700.0, 15368.18181818182, 16036.363636363636, 16704.545454545456, 17372.727272727272, 18040.909090909092, 18709.090909090908, 19377.272727272728, 20045.454545454544, 20713.636363636364, 21381.818181818184]\n"
     ]
    }
   ],
   "source": [
    "from numpy.fft import rfft, fftfreq, rfftfreq\n",
    "\n",
    "freq = rfftfreq(32, 1./FD)\n",
    "max_freq = freq[-1]\n",
    "\n",
    "print(max_freq)\n",
    "\n",
    "fft = rfft(test_wnd)\n",
    "\n",
    "df = pd.Series(fft)\n",
    "\n",
    "index = []\n",
    "\n",
    "for i in range(0, len(fft)):\n",
    "    index = index + [(i / len(fft)) * max_freq]\n",
    "\n",
    "print(index)\n",
    "\n",
    "df.index = index"
   ]
  },
  {
   "cell_type": "code",
   "execution_count": 439,
   "metadata": {},
   "outputs": [
    {
     "data": {
      "text/plain": [
       "<matplotlib.axes._subplots.AxesSubplot at 0x127371f28>"
      ]
     },
     "execution_count": 439,
     "metadata": {},
     "output_type": "execute_result"
    },
    {
     "data": {
      "image/png": "[encoded data removed]",
      "text/plain": [
       "<Figure size 432x288 with 1 Axes>"
      ]
     },
     "metadata": {
      "needs_background": "light"
     },
     "output_type": "display_data"
    }
   ],
   "source": [
    "df.map(lambda x: x.imag).plot.line()"
   ]
  },
  {
   "cell_type": "code",
   "execution_count": 440,
   "metadata": {},
   "outputs": [
    {
     "name": "stderr",
     "output_type": "stream",
     "text": [
      "/usr/local/lib/python3.7/site-packages/numpy/core/numeric.py:538: ComplexWarning: Casting complex values to real discards the imaginary part\n",
      "  return array(a, dtype, copy=False, order=order)\n"
     ]
    },
    {
     "data": {
      "text/plain": [
       "<matplotlib.axes._subplots.AxesSubplot at 0x173337470>"
      ]
     },
     "execution_count": 440,
     "metadata": {},
     "output_type": "execute_result"
    },
    {
     "data": {
      "image/png": "[encoded data removed]",
      "text/plain": [
       "<Figure size 1152x576 with 1 Axes>"
      ]
     },
     "metadata": {
      "needs_background": "light"
     },
     "output_type": "display_data"
    }
   ],
   "source": [
    "from scipy.signal import find_peaks\n",
    "from matplotlib import pyplot as plt\n",
    "\n",
    "(fig, ax) = plt.subplots(figsize=(16, 8))\n",
    "df.plot.line(ax=ax)\n",
    "\n",
    "peaks_re = find_peaks(df.map(lambda x: x.real))[0]\n",
    "peaks_im = find_peaks(df.map(lambda x: x.imag))[0]\n",
    "\n",
    "pd.DataFrame(df.iloc[peaks_re]).plot.line(ax=ax)"
   ]
  },
  {
   "cell_type": "code",
   "execution_count": 441,
   "metadata": {},
   "outputs": [],
   "source": [
    "def append_peaks(df, peaks, N):\n",
    "    res = df.iloc[peaks[:N]]\n",
    "\n",
    "    for i in range(len(peaks), N_PEAKS):\n",
    "        res = res.append(pd.Series([0], index=[0]))\n",
    "        \n",
    "    return res"
   ]
  },
  {
   "cell_type": "code",
   "execution_count": 442,
   "metadata": {},
   "outputs": [
    {
     "data": {
      "text/plain": [
       "array([ 3,  6, 10, 15, 17, 20, 24, 29, 31])"
      ]
     },
     "execution_count": 442,
     "metadata": {},
     "output_type": "execute_result"
    }
   ],
   "source": [
    "peaks_re"
   ]
  },
  {
   "cell_type": "code",
   "execution_count": 443,
   "metadata": {},
   "outputs": [
    {
     "data": {
      "text/plain": [
       "(2004.545455        (2118.0787381662176+3644.87072837443j)\n",
       " 4009.090909      (-67.08923483433728+1501.3065463699206j)\n",
       " 6681.818182       (-403.31196238416504+899.589881979391j)\n",
       " 10022.727273     (-425.55346306844876+521.1512308607812j)\n",
       " 11359.090909      (-431.8967908654222+414.8425838802409j)\n",
       " 13363.636364     (-438.9960255197043+315.65039360390756j)\n",
       " 16036.363636    (-441.85786437626905+195.80526599638256j)\n",
       " 19377.272727      (-441.8605858135604+63.28134144270689j)\n",
       " 20713.636364     (-444.7554894782734+23.283343787384183j)\n",
       " 0.000000                                               0j\n",
       " dtype: complex128, 668.181818     (-10126.474462388429+8684.902400725565j)\n",
       " 2004.545455      (2118.0787381662176+3644.87072837443j)\n",
       " 0.000000                                             0j\n",
       " 0.000000                                             0j\n",
       " 0.000000                                             0j\n",
       " 0.000000                                             0j\n",
       " 0.000000                                             0j\n",
       " 0.000000                                             0j\n",
       " 0.000000                                             0j\n",
       " 0.000000                                             0j\n",
       " dtype: complex128)"
      ]
     },
     "execution_count": 443,
     "metadata": {},
     "output_type": "execute_result"
    }
   ],
   "source": [
    "N_PEAKS = 10\n",
    "\n",
    "peaks_re = append_peaks(df, peaks_re, N_PEAKS)\n",
    "peaks_im = append_peaks(df, peaks_im, N_PEAKS)\n",
    "\n",
    "(peaks_re, peaks_im)"
   ]
  },
  {
   "cell_type": "code",
   "execution_count": 522,
   "metadata": {},
   "outputs": [],
   "source": [
    "from numpy.fft import rfft, fftfreq, rfftfreq\n",
    "from scipy.signal import find_peaks\n",
    "from matplotlib import pyplot as plt\n",
    "import librosa as lr\n",
    "\n",
    "MAGIC_NUMBER = 22050\n",
    "MAGIC_CENTROID_NUMBER = 10000\n",
    "\n",
    "def extract_fft_features(wnd, N_PEAKS):\n",
    "    # Apply FFT\n",
    "    \n",
    "    freq = rfftfreq(N_WINDOW_POINTS, 1./FD)\n",
    "    max_freq = FD / 2\n",
    "    \n",
    "\n",
    "    fft = rfft(wnd)\n",
    "\n",
    "    df = pd.Series(fft)\n",
    "\n",
    "    index = []\n",
    "\n",
    "    for i in range(0, len(fft)):\n",
    "        index = index + [(i / (len(fft) - 1))]\n",
    "\n",
    "    df.index = index\n",
    "\n",
    "    # Output FFT\n",
    "    \n",
    "    real = normalize(\n",
    "         np.array(list(map(lambda x: x.real, df.values))),\n",
    "         forced_abs=MAGIC_NUMBER,\n",
    "         mean=0.0\n",
    "    )\n",
    "    \n",
    "    imag = normalize(\n",
    "        np.array(list(map(lambda x: x.imag, df.values))),\n",
    "        forced_abs=MAGIC_NUMBER,\n",
    "        mean=0.0\n",
    "    )\n",
    "    \n",
    "    real_stats = [\n",
    "        real.mean(),\n",
    "        real.std(),\n",
    "        real.max(),\n",
    "        real.min(),\n",
    "    ]   \n",
    "    \n",
    "    imag_stats = [\n",
    "        imag.mean(),\n",
    "        imag.std(),\n",
    "        imag.max(),\n",
    "        imag.min(),\n",
    "    ]\n",
    "    \n",
    "    stats = [\n",
    "        lr.feature.spectral_centroid(wnd.astype('float64'))[0][0] / MAGIC_CENTROID_NUMBER\n",
    "    ]\n",
    "\n",
    "    res = np.concatenate([real, real_stats, imag, imag_stats, stats])\n",
    "    \n",
    "    return res\n",
    "    \n",
    "    \n",
    "    # Find peaks\n",
    "\n",
    "#     peaks_re = find_peaks(df.map(lambda x: x.real))[0]\n",
    "#     peaks_im = find_peaks(df.map(lambda x: x.imag))[0]\n",
    "\n",
    "#     peaks_re = append_peaks(df, peaks_re, N_PEAKS)\n",
    "#     peaks_im = append_peaks(df, peaks_im, N_PEAKS)\n",
    "    \n",
    "#     features_re = (\n",
    "#          list(np.array(list(peaks_re.index))) +\n",
    "#          list(normalize(np.array(list(map(lambda x: x.real, peaks_re.get_values()))), forced_abs=MAGIC_NUMBER, mean=0.0))\n",
    "#     )\n",
    "    \n",
    "#     features_im = (\n",
    "#          list(np.array(list(peaks_im.index))) +\n",
    "#          list(normalize(np.array(list(map(lambda x: x.imag, peaks_im.get_values()))), forced_abs=MAGIC_NUMBER, mean=0.0))\n",
    "#     )\n",
    "\n",
    "#     return np.array(list(features_re) + list(features_im))"
   ]
  },
  {
   "cell_type": "code",
   "execution_count": 523,
   "metadata": {},
   "outputs": [
    {
     "data": {
      "text/plain": [
       "array([-0.33927438, -0.45925054,  0.05716531,  0.09605799, -0.02701165,\n",
       "       -0.03099385, -0.0030426 , -0.02178505, -0.02132164, -0.01857339,\n",
       "       -0.01829079, -0.01846482, -0.01913417, -0.01916743, -0.01939776,\n",
       "       -0.01929948, -0.01963719, -0.01958716, -0.0199869 , -0.01992141,\n",
       "       -0.01990912, -0.01999576, -0.02003474, -0.0202817 , -0.02003891,\n",
       "       -0.02018584, -0.02037186, -0.02067782, -0.02011286, -0.02003903,\n",
       "       -0.02025836, -0.02017032, -0.02018141, -0.0370659 ,  0.09616327,\n",
       "        0.09605799, -0.45925054,  0.        ,  0.39387312,  0.12450732,\n",
       "        0.16530026,  0.15179976,  0.08044643,  0.06808646,  0.0587179 ,\n",
       "        0.05795035,  0.04448634,  0.04079773,  0.03577167,  0.03244445,\n",
       "        0.02885598,  0.02614273,  0.02363498,  0.0214059 ,  0.01881372,\n",
       "        0.01693096,  0.0159204 ,  0.01431521,  0.01283522,  0.01129354,\n",
       "        0.00976134,  0.00888006,  0.00762349,  0.00648621,  0.00535601,\n",
       "        0.00432812,  0.0028699 ,  0.00192963,  0.00105593,  0.        ,\n",
       "        0.04523094,  0.07419079,  0.39387312,  0.        ,  0.05501765])"
      ]
     },
     "execution_count": 523,
     "metadata": {},
     "output_type": "execute_result"
    }
   ],
   "source": [
    "extract_fft_features(test_wnd, N_PEAKS)"
   ]
  },
  {
   "cell_type": "code",
   "execution_count": 524,
   "metadata": {},
   "outputs": [
    {
     "ename": "ParameterError",
     "evalue": "data must be of type numpy.ndarray",
     "output_type": "error",
     "traceback": [
      "\u001b[0;31m---------------------------------------------------------------------------\u001b[0m",
      "\u001b[0;31mParameterError\u001b[0m                            Traceback (most recent call last)",
      "\u001b[0;32m<ipython-input-524-7cdba5798d79>\u001b[0m in \u001b[0;36m<module>\u001b[0;34m\u001b[0m\n\u001b[1;32m      1\u001b[0m \u001b[0;32mimport\u001b[0m \u001b[0mlibrosa\u001b[0m \u001b[0;32mas\u001b[0m \u001b[0mlr\u001b[0m\u001b[0;34m\u001b[0m\u001b[0;34m\u001b[0m\u001b[0m\n\u001b[1;32m      2\u001b[0m \u001b[0;34m\u001b[0m\u001b[0m\n\u001b[0;32m----> 3\u001b[0;31m \u001b[0mlr\u001b[0m\u001b[0;34m.\u001b[0m\u001b[0mfeature\u001b[0m\u001b[0;34m.\u001b[0m\u001b[0mspectral_centroid\u001b[0m\u001b[0;34m(\u001b[0m\u001b[0;34m)\u001b[0m\u001b[0;34m\u001b[0m\u001b[0;34m\u001b[0m\u001b[0m\n\u001b[0m",
      "\u001b[0;32m/usr/local/lib/python3.7/site-packages/librosa/feature/spectral.py\u001b[0m in \u001b[0;36mspectral_centroid\u001b[0;34m(y, sr, S, n_fft, hop_length, freq)\u001b[0m\n\u001b[1;32m    122\u001b[0m     '''\n\u001b[1;32m    123\u001b[0m \u001b[0;34m\u001b[0m\u001b[0m\n\u001b[0;32m--> 124\u001b[0;31m     \u001b[0mS\u001b[0m\u001b[0;34m,\u001b[0m \u001b[0mn_fft\u001b[0m \u001b[0;34m=\u001b[0m \u001b[0m_spectrogram\u001b[0m\u001b[0;34m(\u001b[0m\u001b[0my\u001b[0m\u001b[0;34m=\u001b[0m\u001b[0my\u001b[0m\u001b[0;34m,\u001b[0m \u001b[0mS\u001b[0m\u001b[0;34m=\u001b[0m\u001b[0mS\u001b[0m\u001b[0;34m,\u001b[0m \u001b[0mn_fft\u001b[0m\u001b[0;34m=\u001b[0m\u001b[0mn_fft\u001b[0m\u001b[0;34m,\u001b[0m \u001b[0mhop_length\u001b[0m\u001b[0;34m=\u001b[0m\u001b[0mhop_length\u001b[0m\u001b[0;34m)\u001b[0m\u001b[0;34m\u001b[0m\u001b[0;34m\u001b[0m\u001b[0m\n\u001b[0m\u001b[1;32m    125\u001b[0m \u001b[0;34m\u001b[0m\u001b[0m\n\u001b[1;32m    126\u001b[0m     \u001b[0;32mif\u001b[0m \u001b[0;32mnot\u001b[0m \u001b[0mnp\u001b[0m\u001b[0;34m.\u001b[0m\u001b[0misrealobj\u001b[0m\u001b[0;34m(\u001b[0m\u001b[0mS\u001b[0m\u001b[0;34m)\u001b[0m\u001b[0;34m:\u001b[0m\u001b[0;34m\u001b[0m\u001b[0;34m\u001b[0m\u001b[0m\n",
      "\u001b[0;32m/usr/local/lib/python3.7/site-packages/librosa/core/spectrum.py\u001b[0m in \u001b[0;36m_spectrogram\u001b[0;34m(y, S, n_fft, hop_length, power)\u001b[0m\n\u001b[1;32m   1555\u001b[0m     \u001b[0;32melse\u001b[0m\u001b[0;34m:\u001b[0m\u001b[0;34m\u001b[0m\u001b[0;34m\u001b[0m\u001b[0m\n\u001b[1;32m   1556\u001b[0m         \u001b[0;31m# Otherwise, compute a magnitude spectrogram from input\u001b[0m\u001b[0;34m\u001b[0m\u001b[0;34m\u001b[0m\u001b[0;34m\u001b[0m\u001b[0m\n\u001b[0;32m-> 1557\u001b[0;31m         \u001b[0mS\u001b[0m \u001b[0;34m=\u001b[0m \u001b[0mnp\u001b[0m\u001b[0;34m.\u001b[0m\u001b[0mabs\u001b[0m\u001b[0;34m(\u001b[0m\u001b[0mstft\u001b[0m\u001b[0;34m(\u001b[0m\u001b[0my\u001b[0m\u001b[0;34m,\u001b[0m \u001b[0mn_fft\u001b[0m\u001b[0;34m=\u001b[0m\u001b[0mn_fft\u001b[0m\u001b[0;34m,\u001b[0m \u001b[0mhop_length\u001b[0m\u001b[0;34m=\u001b[0m\u001b[0mhop_length\u001b[0m\u001b[0;34m)\u001b[0m\u001b[0;34m)\u001b[0m\u001b[0;34m**\u001b[0m\u001b[0mpower\u001b[0m\u001b[0;34m\u001b[0m\u001b[0;34m\u001b[0m\u001b[0m\n\u001b[0m\u001b[1;32m   1558\u001b[0m \u001b[0;34m\u001b[0m\u001b[0m\n\u001b[1;32m   1559\u001b[0m     \u001b[0;32mreturn\u001b[0m \u001b[0mS\u001b[0m\u001b[0;34m,\u001b[0m \u001b[0mn_fft\u001b[0m\u001b[0;34m\u001b[0m\u001b[0;34m\u001b[0m\u001b[0m\n",
      "\u001b[0;32m/usr/local/lib/python3.7/site-packages/librosa/core/spectrum.py\u001b[0m in \u001b[0;36mstft\u001b[0;34m(y, n_fft, hop_length, win_length, window, center, dtype, pad_mode)\u001b[0m\n\u001b[1;32m    159\u001b[0m \u001b[0;34m\u001b[0m\u001b[0m\n\u001b[1;32m    160\u001b[0m     \u001b[0;31m# Check audio is valid\u001b[0m\u001b[0;34m\u001b[0m\u001b[0;34m\u001b[0m\u001b[0;34m\u001b[0m\u001b[0m\n\u001b[0;32m--> 161\u001b[0;31m     \u001b[0mutil\u001b[0m\u001b[0;34m.\u001b[0m\u001b[0mvalid_audio\u001b[0m\u001b[0;34m(\u001b[0m\u001b[0my\u001b[0m\u001b[0;34m)\u001b[0m\u001b[0;34m\u001b[0m\u001b[0;34m\u001b[0m\u001b[0m\n\u001b[0m\u001b[1;32m    162\u001b[0m \u001b[0;34m\u001b[0m\u001b[0m\n\u001b[1;32m    163\u001b[0m     \u001b[0;31m# Pad the time series so that frames are centered\u001b[0m\u001b[0;34m\u001b[0m\u001b[0;34m\u001b[0m\u001b[0;34m\u001b[0m\u001b[0m\n",
      "\u001b[0;32m/usr/local/lib/python3.7/site-packages/librosa/util/utils.py\u001b[0m in \u001b[0;36mvalid_audio\u001b[0;34m(y, mono)\u001b[0m\n\u001b[1;32m    154\u001b[0m \u001b[0;34m\u001b[0m\u001b[0m\n\u001b[1;32m    155\u001b[0m     \u001b[0;32mif\u001b[0m \u001b[0;32mnot\u001b[0m \u001b[0misinstance\u001b[0m\u001b[0;34m(\u001b[0m\u001b[0my\u001b[0m\u001b[0;34m,\u001b[0m \u001b[0mnp\u001b[0m\u001b[0;34m.\u001b[0m\u001b[0mndarray\u001b[0m\u001b[0;34m)\u001b[0m\u001b[0;34m:\u001b[0m\u001b[0;34m\u001b[0m\u001b[0;34m\u001b[0m\u001b[0m\n\u001b[0;32m--> 156\u001b[0;31m         \u001b[0;32mraise\u001b[0m \u001b[0mParameterError\u001b[0m\u001b[0;34m(\u001b[0m\u001b[0;34m'data must be of type numpy.ndarray'\u001b[0m\u001b[0;34m)\u001b[0m\u001b[0;34m\u001b[0m\u001b[0;34m\u001b[0m\u001b[0m\n\u001b[0m\u001b[1;32m    157\u001b[0m \u001b[0;34m\u001b[0m\u001b[0m\n\u001b[1;32m    158\u001b[0m     \u001b[0;32mif\u001b[0m \u001b[0;32mnot\u001b[0m \u001b[0mnp\u001b[0m\u001b[0;34m.\u001b[0m\u001b[0missubdtype\u001b[0m\u001b[0;34m(\u001b[0m\u001b[0my\u001b[0m\u001b[0;34m.\u001b[0m\u001b[0mdtype\u001b[0m\u001b[0;34m,\u001b[0m \u001b[0mnp\u001b[0m\u001b[0;34m.\u001b[0m\u001b[0mfloating\u001b[0m\u001b[0;34m)\u001b[0m\u001b[0;34m:\u001b[0m\u001b[0;34m\u001b[0m\u001b[0;34m\u001b[0m\u001b[0m\n",
      "\u001b[0;31mParameterError\u001b[0m: data must be of type numpy.ndarray"
     ]
    }
   ],
   "source": [
    "import librosa as lr\n",
    "\n",
    "lr.feature.spectral_centroid()"
   ]
  },
  {
   "cell_type": "code",
   "execution_count": 463,
   "metadata": {},
   "outputs": [],
   "source": [
    "# it. fucking. works.\n",
    "# Hail God."
   ]
  },
  {
   "cell_type": "code",
   "execution_count": 464,
   "metadata": {},
   "outputs": [],
   "source": [
    "def append_features(X):\n",
    "    res = []\n",
    "    \n",
    "    for wnd in X:\n",
    "        # res.append(np.array(list(wnd) + list(extract_fft_features(wnd, N_PEAKS))))\n",
    "        res.append(extract_fft_features(wnd, N_PEAKS))\n",
    "    \n",
    "    return np.array(res)"
   ]
  },
  {
   "cell_type": "code",
   "execution_count": 465,
   "metadata": {},
   "outputs": [
    {
     "data": {
      "text/plain": [
       "array([ 1.50862473e-06, -1.58877425e-07,  3.56393460e-07, -2.71149344e-07,\n",
       "        4.84148937e-08,  1.15832286e-07, -7.27327437e-08, -3.80598311e-08,\n",
       "       -8.66512547e-08, -7.36721523e-08, -1.29813056e-07, -4.30396378e-08,\n",
       "       -1.68531196e-08,  1.08439086e-07, -1.72073280e-08, -5.30105788e-08,\n",
       "        5.95145536e-08,  6.19156686e-08, -1.09180221e-08,  5.07882908e-08,\n",
       "       -2.58728734e-08, -1.88414120e-08,  7.71854069e-08,  3.09925264e-08,\n",
       "       -5.72909214e-08,  3.75560688e-08,  3.80564031e-08, -9.51337533e-08,\n",
       "       -1.67613758e-08, -5.66849187e-10, -8.44214352e-09, -7.49214416e-09,\n",
       "       -1.10724751e-08,  3.87956040e-08,  2.78256960e-07,  1.50862473e-06,\n",
       "       -2.71149344e-07,  0.00000000e+00, -1.40153262e-07, -1.52996406e-07,\n",
       "       -3.82901610e-08, -1.79193279e-07, -1.58854543e-08,  3.25273841e-09,\n",
       "       -1.14794147e-07,  4.59830267e-09,  1.79591254e-09, -9.37108093e-08,\n",
       "       -5.97561026e-08,  2.85058056e-08,  5.13643529e-08, -1.08494369e-08,\n",
       "       -5.78685344e-09, -1.24565345e-08,  1.26566240e-09, -3.31942474e-08,\n",
       "       -7.89690719e-08, -1.24158042e-07, -4.59972953e-08, -2.23284242e-08,\n",
       "       -1.59369378e-08, -5.35321915e-08,  8.64261440e-09,  2.88389351e-08,\n",
       "        8.25971695e-08,  5.56795012e-08,  6.40723562e-08,  1.13845716e-08,\n",
       "        1.02633912e-09,  0.00000000e+00, -2.59080120e-08,  6.21837724e-08,\n",
       "        8.25971695e-08, -1.79193279e-07])"
      ]
     },
     "execution_count": 465,
     "metadata": {},
     "output_type": "execute_result"
    }
   ],
   "source": [
    "append_features(X_tr_n[:1])[0]"
   ]
  },
  {
   "cell_type": "code",
   "execution_count": 466,
   "metadata": {},
   "outputs": [
    {
     "data": {
      "text/plain": [
       "(88072, 5935, 88072, 5935)"
      ]
     },
     "execution_count": 466,
     "metadata": {},
     "output_type": "execute_result"
    }
   ],
   "source": [
    "(len(X_tr), len(X_te), len(y_tr), len(y_te))"
   ]
  },
  {
   "cell_type": "code",
   "execution_count": 467,
   "metadata": {},
   "outputs": [
    {
     "name": "stdout",
     "output_type": "stream",
     "text": [
      "CPU times: user 1min 37s, sys: 1.35 s, total: 1min 39s\n",
      "Wall time: 1min 39s\n"
     ]
    }
   ],
   "source": [
    "%%time\n",
    "\n",
    "# N_DEV_2 = 10000\n",
    "\n",
    "X_tr_f = append_features(X_tr_n)\n",
    "X_te_f = append_features(X_te_n)\n",
    "y_tr_f = append_features(y_tr_n)\n",
    "y_te_f = append_features(y_te_n)"
   ]
  },
  {
   "cell_type": "code",
   "execution_count": 468,
   "metadata": {},
   "outputs": [
    {
     "data": {
      "text/plain": [
       "<matplotlib.axes._subplots.AxesSubplot at 0x141c6cd68>"
      ]
     },
     "execution_count": 468,
     "metadata": {},
     "output_type": "execute_result"
    },
    {
     "data": {
      "image/png": "[encoded data removed]",
      "text/plain": [
       "<Figure size 432x288 with 1 Axes>"
      ]
     },
     "metadata": {
      "needs_background": "light"
     },
     "output_type": "display_data"
    }
   ],
   "source": [
    "pd.Series(X_tr_f[100]).plot.line()"
   ]
  },
  {
   "cell_type": "code",
   "execution_count": 469,
   "metadata": {},
   "outputs": [
    {
     "data": {
      "text/plain": [
       "<matplotlib.axes._subplots.AxesSubplot at 0x141c2fcf8>"
      ]
     },
     "execution_count": 469,
     "metadata": {},
     "output_type": "execute_result"
    },
    {
     "data": {
      "image/png": "[encoded data removed]",
      "text/plain": [
       "<Figure size 432x288 with 1 Axes>"
      ]
     },
     "metadata": {
      "needs_background": "light"
     },
     "output_type": "display_data"
    }
   ],
   "source": [
    "pd.Series(y_tr_f[100]).plot.line()"
   ]
  },
  {
   "cell_type": "code",
   "execution_count": 470,
   "metadata": {},
   "outputs": [
    {
     "data": {
      "text/plain": [
       "<matplotlib.axes._subplots.AxesSubplot at 0x13e942160>"
      ]
     },
     "execution_count": 470,
     "metadata": {},
     "output_type": "execute_result"
    },
    {
     "data": {
      "image/png": "[encoded data removed]",
      "text/plain": [
       "<Figure size 432x288 with 1 Axes>"
      ]
     },
     "metadata": {
      "needs_background": "light"
     },
     "output_type": "display_data"
    }
   ],
   "source": [
    "pd.Series(X_te_f[100]).plot.line()"
   ]
  },
  {
   "cell_type": "code",
   "execution_count": 471,
   "metadata": {},
   "outputs": [
    {
     "data": {
      "text/plain": [
       "<matplotlib.axes._subplots.AxesSubplot at 0x172d886a0>"
      ]
     },
     "execution_count": 471,
     "metadata": {},
     "output_type": "execute_result"
    },
    {
     "data": {
      "image/png": "[encoded data removed]",
      "text/plain": [
       "<Figure size 432x288 with 1 Axes>"
      ]
     },
     "metadata": {
      "needs_background": "light"
     },
     "output_type": "display_data"
    }
   ],
   "source": [
    "pd.Series(y_te_f[100]).plot.line()"
   ]
  },
  {
   "cell_type": "code",
   "execution_count": 472,
   "metadata": {},
   "outputs": [
    {
     "data": {
      "text/plain": [
       "(array([-3.04493065e-08, -1.39344333e-07, -1.25006212e-07,  2.09757350e-07,\n",
       "         8.45024787e-08,  1.13415949e-07, -9.01498531e-09,  1.22405155e-08,\n",
       "         1.10684008e-07,  1.66225159e-08,  1.72419266e-08,  3.10900905e-08,\n",
       "        -8.74221906e-09,  7.21320042e-08,  3.82988328e-08,  4.78062584e-09,\n",
       "         5.53623754e-08,  7.89619918e-08,  4.09300600e-08, -4.58950923e-08,\n",
       "         1.34986709e-07, -1.04559747e-09,  6.27715490e-08,  6.38788100e-08,\n",
       "         6.37074746e-08, -4.47760111e-08,  1.18413931e-07,  7.50631705e-08,\n",
       "        -1.69786551e-08, -2.49170257e-08,  3.07073468e-10, -1.21091089e-09,\n",
       "         2.76811877e-09,  2.91071883e-08,  6.93625685e-08,  2.09757350e-07,\n",
       "        -1.39344333e-07,  0.00000000e+00, -4.86002003e-07, -3.07632602e-07,\n",
       "        -2.13736887e-07, -1.01289898e-07, -3.91967681e-08, -1.15756951e-07,\n",
       "        -6.08961474e-08, -5.18003697e-08, -1.59969505e-07,  4.34597913e-08,\n",
       "         3.76976911e-08, -3.24772455e-08, -5.67335376e-08, -3.22984109e-08,\n",
       "        -3.31376037e-08, -1.05188513e-07,  1.18695944e-07, -1.45892327e-07,\n",
       "         5.84871188e-09, -1.12245444e-08, -6.26319166e-08,  2.23404870e-08,\n",
       "         1.89383744e-10, -6.56409635e-08,  7.70170184e-09, -1.46180762e-08,\n",
       "        -2.44612212e-08, -2.46748218e-08, -1.61702128e-08, -1.10839865e-08,\n",
       "        -7.20112123e-09,  0.00000000e+00, -5.89024825e-08,  1.08176758e-07,\n",
       "         1.18695944e-07, -4.86002003e-07]),\n",
       " array([-9.27320633e-07, -5.31929939e-07, -6.99338231e-06, -1.63135822e-06,\n",
       "        -1.84610679e-06, -2.25443675e-07, -9.06852102e-06, -2.01616260e-05,\n",
       "        -1.17576064e-04,  9.39751443e-05,  2.95904831e-05, -1.43219854e-04,\n",
       "         1.92818914e-05, -6.31028873e-05,  5.62380307e-05,  1.40698947e-06,\n",
       "        -3.93681843e-05, -1.99932411e-07,  1.91094273e-06,  9.34250313e-05,\n",
       "        -4.51359944e-05, -1.20373137e-05,  5.42011435e-05,  1.31939178e-05,\n",
       "         5.37238672e-05, -1.67958949e-05,  3.33527230e-05, -1.68411816e-05,\n",
       "         1.27080772e-05, -1.59313364e-05, -3.26453500e-06, -1.51870608e-06,\n",
       "        -1.10448066e-06, -1.65072157e-06,  4.68996589e-05,  9.39751443e-05,\n",
       "        -1.43219854e-04,  0.00000000e+00, -8.97526257e-06, -3.69664447e-06,\n",
       "         3.11917847e-06,  2.65724936e-06,  2.84447648e-06,  8.93093132e-06,\n",
       "        -7.73201136e-05, -4.12877835e-05,  1.14253262e-04, -5.44415830e-05,\n",
       "         5.58306199e-05, -3.43362211e-05, -3.80611765e-06,  1.77762670e-05,\n",
       "        -7.68801160e-05,  6.66313882e-05, -7.38185429e-05,  9.59274940e-06,\n",
       "         4.76228541e-05, -7.46867378e-05,  1.36468848e-05,  3.74423363e-05,\n",
       "        -2.91700144e-05, -6.56173343e-06,  1.56075641e-06, -1.99679368e-05,\n",
       "        -2.05413327e-05,  1.29466998e-05,  1.08276191e-06,  2.06752904e-07,\n",
       "         2.99483937e-08,  0.00000000e+00, -3.91863708e-06,  4.09104710e-05,\n",
       "         1.14253262e-04, -7.73201136e-05]))"
      ]
     },
     "execution_count": 472,
     "metadata": {},
     "output_type": "execute_result"
    }
   ],
   "source": [
    "(X_te_f[0], y_te_f[0])"
   ]
  },
  {
   "cell_type": "code",
   "execution_count": 473,
   "metadata": {},
   "outputs": [
    {
     "data": {
      "text/plain": [
       "5.3090593204734576e-05"
      ]
     },
     "execution_count": 473,
     "metadata": {},
     "output_type": "execute_result"
    }
   ],
   "source": [
    "# np.max(list(map(lambda row: row[65:], X_te_f)))\n",
    "np.max(list(map(lambda row: row, X_te_f)))"
   ]
  },
  {
   "cell_type": "code",
   "execution_count": 474,
   "metadata": {},
   "outputs": [],
   "source": [
    "# appending stats of the whole sample, fading from silence"
   ]
  },
  {
   "cell_type": "code",
   "execution_count": 475,
   "metadata": {},
   "outputs": [],
   "source": [
    "train_shuffle_index = np.random.shuffle(np.arange(0, len(X_tr_f)))\n",
    "test_shuffle_index = np.random.shuffle(np.arange(0, len(X_te_f)))\n",
    "\n",
    "X_tr_f = X_tr_f[train_shuffle_index][0]\n",
    "y_tr_f = y_tr_f[train_shuffle_index][0]\n",
    "\n",
    "X_te_f = X_te_f[test_shuffle_index][0]\n",
    "y_te_f = y_te_f[test_shuffle_index][0]"
   ]
  },
  {
   "cell_type": "code",
   "execution_count": 476,
   "metadata": {},
   "outputs": [
    {
     "data": {
      "text/plain": [
       "(74, array([ 1.50862473e-06, -1.58877425e-07,  3.56393460e-07, -2.71149344e-07,\n",
       "         4.84148937e-08,  1.15832286e-07, -7.27327437e-08, -3.80598311e-08,\n",
       "        -8.66512547e-08, -7.36721523e-08, -1.29813056e-07, -4.30396378e-08,\n",
       "        -1.68531196e-08,  1.08439086e-07, -1.72073280e-08, -5.30105788e-08,\n",
       "         5.95145536e-08,  6.19156686e-08, -1.09180221e-08,  5.07882908e-08,\n",
       "        -2.58728734e-08, -1.88414120e-08,  7.71854069e-08,  3.09925264e-08,\n",
       "        -5.72909214e-08,  3.75560688e-08,  3.80564031e-08, -9.51337533e-08,\n",
       "        -1.67613758e-08, -5.66849187e-10, -8.44214352e-09, -7.49214416e-09,\n",
       "        -1.10724751e-08,  3.87956040e-08,  2.78256960e-07,  1.50862473e-06,\n",
       "        -2.71149344e-07,  0.00000000e+00, -1.40153262e-07, -1.52996406e-07,\n",
       "        -3.82901610e-08, -1.79193279e-07, -1.58854543e-08,  3.25273841e-09,\n",
       "        -1.14794147e-07,  4.59830267e-09,  1.79591254e-09, -9.37108093e-08,\n",
       "        -5.97561026e-08,  2.85058056e-08,  5.13643529e-08, -1.08494369e-08,\n",
       "        -5.78685344e-09, -1.24565345e-08,  1.26566240e-09, -3.31942474e-08,\n",
       "        -7.89690719e-08, -1.24158042e-07, -4.59972953e-08, -2.23284242e-08,\n",
       "        -1.59369378e-08, -5.35321915e-08,  8.64261440e-09,  2.88389351e-08,\n",
       "         8.25971695e-08,  5.56795012e-08,  6.40723562e-08,  1.13845716e-08,\n",
       "         1.02633912e-09,  0.00000000e+00, -2.59080120e-08,  6.21837724e-08,\n",
       "         8.25971695e-08, -1.79193279e-07]))"
      ]
     },
     "execution_count": 476,
     "metadata": {},
     "output_type": "execute_result"
    }
   ],
   "source": [
    "(len(X_tr_f[0]), X_tr_f[0])"
   ]
  },
  {
   "cell_type": "code",
   "execution_count": 478,
   "metadata": {},
   "outputs": [
    {
     "data": {
      "text/plain": [
       "74"
      ]
     },
     "execution_count": 478,
     "metadata": {},
     "output_type": "execute_result"
    }
   ],
   "source": [
    "N_FEATURES = 74\n",
    "N_FEATURES"
   ]
  },
  {
   "cell_type": "code",
   "execution_count": 479,
   "metadata": {},
   "outputs": [
    {
     "data": {
      "text/plain": [
       "array([-1.29813056e-07, -4.30396378e-08, -1.68531196e-08,  1.08439086e-07,\n",
       "       -1.72073280e-08, -5.30105788e-08,  5.95145536e-08,  6.19156686e-08,\n",
       "       -1.09180221e-08,  5.07882908e-08])"
      ]
     },
     "execution_count": 479,
     "metadata": {},
     "output_type": "execute_result"
    }
   ],
   "source": [
    "list(map(lambda row: row[N_PEAKS:N_PEAKS*2], X_tr_f))[0]\n",
    "# list(map(lambda row: row[:N_PEAKS], X_tr_f))[0]"
   ]
  },
  {
   "cell_type": "code",
   "execution_count": 481,
   "metadata": {},
   "outputs": [
    {
     "data": {
      "text/plain": [
       "<Figure size 1368x1080 with 0 Axes>"
      ]
     },
     "metadata": {},
     "output_type": "display_data"
    },
    {
     "data": {
      "image/png": "[encoded data removed]",
      "text/plain": [
       "<Figure size 288x288 with 2 Axes>"
      ]
     },
     "metadata": {
      "needs_background": "light"
     },
     "output_type": "display_data"
    }
   ],
   "source": [
    "# amp_df = pd.DataFrame(list(map(lambda row: row[N_PEAKS:N_PEAKS*2], X_tr_f)))\n",
    "amp_df = pd.DataFrame(list(map(lambda row: row, X_tr_f)))\n",
    "\n",
    "f = plt.figure(figsize=(19, 15))\n",
    "plt.matshow(amp_df.corr())\n",
    "plt.xticks(range(amp_df.shape[1]), amp_df.columns, fontsize=14, rotation=45)\n",
    "plt.yticks(range(amp_df.shape[1]), amp_df.columns, fontsize=14)\n",
    "cb = plt.colorbar()\n",
    "cb.ax.tick_params(labelsize=14)\n",
    "plt.title('Correlation Matrix', fontsize=16);"
   ]
  },
  {
   "cell_type": "markdown",
   "metadata": {},
   "source": [
    "## Finished data processing!\n",
    "\n",
    "## Moving on to training NN"
   ]
  },
  {
   "cell_type": "code",
   "execution_count": 482,
   "metadata": {},
   "outputs": [],
   "source": [
    "import numpy as np"
   ]
  },
  {
   "cell_type": "code",
   "execution_count": 483,
   "metadata": {},
   "outputs": [],
   "source": [
    "import keras\n",
    "from keras.models import Sequential\n",
    "from keras.layers import Dense, Dropout, Activation, Flatten\n",
    "from keras.layers import Convolution2D, MaxPooling2D\n",
    "from keras.utils import np_utils"
   ]
  },
  {
   "cell_type": "code",
   "execution_count": 484,
   "metadata": {},
   "outputs": [
    {
     "data": {
      "text/plain": [
       "((88072, 74), (88072, 74), (5935, 74), (5935, 74))"
      ]
     },
     "execution_count": 484,
     "metadata": {},
     "output_type": "execute_result"
    }
   ],
   "source": [
    "y_tr_f.shape, X_tr_f.shape, X_te_f.shape, y_te_f.shape"
   ]
  },
  {
   "cell_type": "code",
   "execution_count": 485,
   "metadata": {},
   "outputs": [
    {
     "data": {
      "text/plain": [
       "array([-2.18252327e-05,  2.48636547e-06, -1.96955612e-06,  9.68172255e-06,\n",
       "        5.15012602e-06, -2.59266139e-06,  4.06798378e-05, -2.76252888e-05,\n",
       "        3.25538023e-05, -7.11860579e-05, -7.22856483e-05,  1.94435926e-04,\n",
       "        6.38403481e-05,  2.37462607e-05, -3.53565385e-05, -3.54140509e-05,\n",
       "       -3.97889389e-05, -5.23617595e-05, -4.26024687e-05, -7.85917138e-05,\n",
       "        2.97760733e-05,  1.01631848e-05, -9.88541009e-06, -9.29809596e-05,\n",
       "       -3.86215193e-05,  2.85586634e-05, -1.17473329e-05,  8.54063166e-06,\n",
       "       -2.82625635e-05, -1.51675924e-05, -7.37581036e-06, -7.54553456e-06,\n",
       "       -7.60540915e-06, -7.61148805e-06,  5.02076905e-05,  1.94435926e-04,\n",
       "       -9.29809596e-05,  0.00000000e+00,  8.65920094e-06,  2.78544646e-06,\n",
       "        2.75624054e-06, -3.18265953e-06, -3.50077591e-06,  5.79594248e-06,\n",
       "        5.98176019e-06, -3.93641922e-05, -2.22047061e-05,  3.80638136e-05,\n",
       "       -1.60729417e-05,  1.50168232e-04, -5.13004644e-05, -1.15904743e-05,\n",
       "        9.81980663e-06,  8.31418333e-05,  6.77436710e-05, -6.55152630e-05,\n",
       "       -4.18401906e-05,  2.34073844e-05,  7.02228214e-05,  1.05596995e-05,\n",
       "        2.89652859e-05,  3.36310986e-05,  1.61893348e-05, -3.31474342e-05,\n",
       "       -2.02409253e-05, -5.50549558e-06, -1.62868833e-05, -2.18931949e-06,\n",
       "       -1.02711395e-06,  0.00000000e+00,  6.81584038e-06,  4.08207925e-05,\n",
       "        1.50168232e-04, -6.55152630e-05])"
      ]
     },
     "execution_count": 485,
     "metadata": {},
     "output_type": "execute_result"
    }
   ],
   "source": [
    "y_tr_f[0]"
   ]
  },
  {
   "cell_type": "code",
   "execution_count": 486,
   "metadata": {},
   "outputs": [
    {
     "data": {
      "text/plain": [
       "<keras.engine.sequential.Sequential at 0x17f405c88>"
      ]
     },
     "execution_count": 486,
     "metadata": {},
     "output_type": "execute_result"
    }
   ],
   "source": [
    "model = Sequential()\n",
    "model"
   ]
  },
  {
   "cell_type": "code",
   "execution_count": 487,
   "metadata": {},
   "outputs": [],
   "source": [
    "model.add(Dense(65, activation='relu'))\n",
    "model.add(Dropout(0.5))\n",
    "model.add(Dense(171, activation='relu'))\n",
    "model.add(Dense(327, activation='relu'))\n",
    "model.add(Dense(171, activation='relu'))\n",
    "model.add(Dense(65, activation='relu'))\n",
    "model.add(Dropout(0.5))\n",
    "model.add(Dense(N_FEATURES, activation=None))"
   ]
  },
  {
   "cell_type": "code",
   "execution_count": 488,
   "metadata": {},
   "outputs": [],
   "source": [
    "# model.add(Dense(49, activation='relu'))\n",
    "# model.add(Dropout(0.2))\n",
    "# model.add(Dense(87, activation='relu'))\n",
    "# model.add(Dense(49, activation='relu'))\n",
    "# model.add(Dropout(0.2))\n",
    "# model.add(Dense(N_FEATURES, activation='relu'))"
   ]
  },
  {
   "cell_type": "code",
   "execution_count": 489,
   "metadata": {},
   "outputs": [],
   "source": [
    "model.compile(loss='mean_squared_error',\n",
    "              optimizer='adam')"
   ]
  },
  {
   "cell_type": "code",
   "execution_count": 490,
   "metadata": {},
   "outputs": [
    {
     "name": "stdout",
     "output_type": "stream",
     "text": [
      "Epoch 1/2\n",
      "88072/88072 [==============================] - 8s 93us/step - loss: 2.5652e-09\n",
      "Epoch 2/2\n",
      "88072/88072 [==============================] - 7s 81us/step - loss: 2.4376e-09\n",
      "CPU times: user 34.6 s, sys: 5.97 s, total: 40.6 s\n",
      "Wall time: 15.8 s\n"
     ]
    }
   ],
   "source": [
    "%%time\n",
    "\n",
    "history = model.fit(X_tr_f, y_tr_f, batch_size=32, epochs=2, verbose=1)"
   ]
  },
  {
   "cell_type": "code",
   "execution_count": 491,
   "metadata": {},
   "outputs": [
    {
     "data": {
      "text/plain": [
       "2.601850315802322e-09"
      ]
     },
     "execution_count": 491,
     "metadata": {},
     "output_type": "execute_result"
    }
   ],
   "source": [
    "score = model.evaluate(X_te_f, y_te_f, verbose=0)\n",
    "score"
   ]
  },
  {
   "cell_type": "code",
   "execution_count": 365,
   "metadata": {},
   "outputs": [
    {
     "data": {
      "text/plain": [
       "1.7349040782270075e-09"
      ]
     },
     "execution_count": 365,
     "metadata": {},
     "output_type": "execute_result"
    }
   ],
   "source": [
    "1.7349040782270075e-09"
   ]
  },
  {
   "cell_type": "code",
   "execution_count": 492,
   "metadata": {},
   "outputs": [
    {
     "data": {
      "image/png": "[encoded data removed]",
      "text/plain": [
       "<Figure size 432x288 with 1 Axes>"
      ]
     },
     "metadata": {
      "needs_background": "light"
     },
     "output_type": "display_data"
    }
   ],
   "source": [
    "# Plot training & validation loss values\n",
    "plt.plot(history.history['loss'])\n",
    "plt.title('Model loss')\n",
    "plt.ylabel('Loss')\n",
    "plt.xlabel('Epoch')\n",
    "plt.legend(['Train'], loc='upper left')\n",
    "plt.show()"
   ]
  },
  {
   "cell_type": "code",
   "execution_count": 493,
   "metadata": {},
   "outputs": [
    {
     "data": {
      "text/plain": [
       "array([-3.04493065e-08, -1.39344333e-07, -1.25006212e-07,  2.09757350e-07,\n",
       "        8.45024787e-08,  1.13415949e-07, -9.01498531e-09,  1.22405155e-08,\n",
       "        1.10684008e-07,  1.66225159e-08,  1.72419266e-08,  3.10900905e-08,\n",
       "       -8.74221906e-09,  7.21320042e-08,  3.82988328e-08,  4.78062584e-09,\n",
       "        5.53623754e-08,  7.89619918e-08,  4.09300600e-08, -4.58950923e-08,\n",
       "        1.34986709e-07, -1.04559747e-09,  6.27715490e-08,  6.38788100e-08,\n",
       "        6.37074746e-08, -4.47760111e-08,  1.18413931e-07,  7.50631705e-08,\n",
       "       -1.69786551e-08, -2.49170257e-08,  3.07073468e-10, -1.21091089e-09,\n",
       "        2.76811877e-09,  2.91071883e-08,  6.93625685e-08,  2.09757350e-07,\n",
       "       -1.39344333e-07,  0.00000000e+00, -4.86002003e-07, -3.07632602e-07,\n",
       "       -2.13736887e-07, -1.01289898e-07, -3.91967681e-08, -1.15756951e-07,\n",
       "       -6.08961474e-08, -5.18003697e-08, -1.59969505e-07,  4.34597913e-08,\n",
       "        3.76976911e-08, -3.24772455e-08, -5.67335376e-08, -3.22984109e-08,\n",
       "       -3.31376037e-08, -1.05188513e-07,  1.18695944e-07, -1.45892327e-07,\n",
       "        5.84871188e-09, -1.12245444e-08, -6.26319166e-08,  2.23404870e-08,\n",
       "        1.89383744e-10, -6.56409635e-08,  7.70170184e-09, -1.46180762e-08,\n",
       "       -2.44612212e-08, -2.46748218e-08, -1.61702128e-08, -1.10839865e-08,\n",
       "       -7.20112123e-09,  0.00000000e+00, -5.89024825e-08,  1.08176758e-07,\n",
       "        1.18695944e-07, -4.86002003e-07])"
      ]
     },
     "execution_count": 493,
     "metadata": {},
     "output_type": "execute_result"
    }
   ],
   "source": [
    "X_te_f[0]"
   ]
  },
  {
   "cell_type": "code",
   "execution_count": 494,
   "metadata": {},
   "outputs": [],
   "source": [
    "def predict(model, row):\n",
    "    return model.predict(np.array([row]))[0]"
   ]
  },
  {
   "cell_type": "code",
   "execution_count": 495,
   "metadata": {},
   "outputs": [
    {
     "data": {
      "text/plain": [
       "array([-2.36666674e-05,  9.11177631e-06, -3.44206273e-06, -2.01640523e-06,\n",
       "        1.59487681e-05, -2.07621943e-05, -1.87157948e-05,  2.25740860e-05,\n",
       "       -1.28969143e-04, -1.80501956e-07,  2.98027298e-05,  1.23969905e-04,\n",
       "        3.29621362e-05, -7.06735882e-05,  7.48331950e-05, -6.98666190e-06,\n",
       "       -4.18183699e-05, -4.80869676e-06,  1.27427284e-05, -3.24962202e-05,\n",
       "       -3.13440687e-05,  7.99094232e-06, -1.80798306e-05, -4.74670051e-05,\n",
       "       -3.50026094e-05,  1.07388523e-05, -4.66906458e-05, -2.61124774e-06,\n",
       "       -1.24703256e-05, -1.72202499e-06, -2.39294241e-06, -5.68619544e-06,\n",
       "       -6.54993255e-06, -1.60297022e-05,  6.48107452e-05,  1.35766371e-04,\n",
       "       -2.01252871e-04,  8.49961768e-11,  1.72399195e-05,  1.01940514e-05,\n",
       "       -4.21574332e-05, -5.20150206e-06,  9.93963840e-06,  1.63317964e-06,\n",
       "       -2.99548265e-06,  1.60744821e-05, -5.09183556e-05, -6.98185977e-05,\n",
       "        9.03083346e-05, -4.58655195e-05,  1.63668083e-05,  4.40909353e-05,\n",
       "       -2.06218028e-05,  3.73710936e-05, -3.85636595e-05,  4.47449238e-05,\n",
       "        8.83969624e-05, -7.56974259e-06,  1.05982144e-04,  2.68544936e-05,\n",
       "        1.24235530e-05,  1.34718757e-05,  4.36937407e-05, -1.19101969e-07,\n",
       "       -1.70938874e-05,  5.09968868e-06,  2.31255362e-05,  8.12796134e-06,\n",
       "       -4.62047592e-06, -3.51029882e-12,  3.90072091e-06,  1.02772494e-04,\n",
       "        1.12440088e-04, -1.37231778e-04], dtype=float32)"
      ]
     },
     "execution_count": 495,
     "metadata": {},
     "output_type": "execute_result"
    }
   ],
   "source": [
    "predict(model, X_te_f[0])"
   ]
  },
  {
   "cell_type": "code",
   "execution_count": 498,
   "metadata": {},
   "outputs": [
    {
     "data": {
      "text/plain": [
       "Text(0, 0.5, 'value')"
      ]
     },
     "execution_count": 498,
     "metadata": {},
     "output_type": "execute_result"
    },
    {
     "data": {
      "image/png": "[encoded data removed]",
      "text/plain": [
       "<Figure size 1152x576 with 1 Axes>"
      ]
     },
     "metadata": {
      "needs_background": "light"
     },
     "output_type": "display_data"
    }
   ],
   "source": [
    "from scipy.signal import savgol_filter\n",
    "\n",
    "(fig, ax) = plt.subplots(figsize=(16, 8))\n",
    "\n",
    "I = -210\n",
    "\n",
    "pd.Series(y_te_f[I]).plot.line(ax=ax, label='intended')\n",
    "\n",
    "pred = pd.Series(predict(model, X_te_f[I]))\n",
    "\n",
    "pred.plot.line(ax=ax, label='predicted')\n",
    "\n",
    "# pd.Series(savgol_filter(pred, 5, 3)).plot.line(ax=ax, label='savgol(predicted)')\n",
    "\n",
    "ax.legend(loc=\"upper right\")\n",
    "ax.set_xlabel('index')\n",
    "ax.set_ylabel('value')"
   ]
  },
  {
   "cell_type": "markdown",
   "metadata": {},
   "source": [
    "## Time to evaluate performance"
   ]
  },
  {
   "cell_type": "code",
   "execution_count": null,
   "metadata": {},
   "outputs": [],
   "source": [
    "# Til next time"
   ]
  },
  {
   "cell_type": "code",
   "execution_count": null,
   "metadata": {},
   "outputs": [],
   "source": [
    "def unpack_peaks(peaks, N):\n",
    "    df = pd.Series()\n",
    "    \n",
    "    for i in range(0, N):\n",
    "        df = df.append(pd.Series([peaks[N + i]], index=[peaks[i]]))\n",
    "        \n",
    "    return df"
   ]
  },
  {
   "cell_type": "code",
   "execution_count": null,
   "metadata": {},
   "outputs": [],
   "source": [
    "from numpy.fft import rfft, fftfreq, rfftfreq\n",
    "from scipy.signal import find_peaks\n",
    "from matplotlib import pyplot as plt\n",
    "\n",
    "MAGIC_NUMBER = 22050\n",
    "\n",
    "def unpack_fft_features(row, N_PEAKS):  \n",
    "    # Unpack peaks\n",
    "    \n",
    "    features_re = row[:2*N_PEAKS]\n",
    "    features_im = row[2*N_PEAKS:]\n",
    "    \n",
    "    df = pd.Series()\n",
    "    \n",
    "    peaks_re = unpack_peaks(features_re, N_PEAKS)\n",
    "    peaks_im = unpack_peaks(features_im, N_PEAKS)\n",
    "    \n",
    "    peaks = (peaks_re * complex(1, 0)).add(peaks_im * complex(0, 1))\n",
    "    \n",
    "    print(peaks)\n",
    "    \n",
    "    return []\n",
    "\n",
    "\n",
    "\n",
    "\n",
    "\n",
    "\n",
    "    # Apply IFFT\n",
    "    \n",
    "    freq = rfftfreq(N_WINDOW_POINTS, 1./FD)\n",
    "    max_freq = freq[-1]\n",
    "\n",
    "    fft = rfft(wnd)\n",
    "\n",
    "    df = pd.Series(fft)\n",
    "\n",
    "    index = []\n",
    "\n",
    "    for i in range(0, len(fft)):\n",
    "        index = index + [(i / len(fft))]\n",
    "\n",
    "    df.index = index\n",
    "\n",
    "    "
   ]
  },
  {
   "cell_type": "code",
   "execution_count": null,
   "metadata": {
    "scrolled": true
   },
   "outputs": [],
   "source": [
    "I = 200\n",
    "\n",
    "unpack_fft_features(predict(model, X_te_f[I]), N_PEAKS)"
   ]
  },
  {
   "cell_type": "code",
   "execution_count": null,
   "metadata": {},
   "outputs": [],
   "source": []
  }
 ],
 "metadata": {
  "kernelspec": {
   "display_name": "Python 3",
   "language": "python",
   "name": "python3"
  },
  "language_info": {
   "codemirror_mode": {
    "name": "ipython",
    "version": 3
   },
   "file_extension": ".py",
   "mimetype": "text/x-python",
   "name": "python",
   "nbconvert_exporter": "python",
   "pygments_lexer": "ipython3",
   "version": "3.7.3"
  }
 },
 "nbformat": 4,
 "nbformat_minor": 2
}
