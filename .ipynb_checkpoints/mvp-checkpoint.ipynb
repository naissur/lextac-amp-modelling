{
 "cells": [
  {
   "cell_type": "code",
   "execution_count": 1,
   "metadata": {},
   "outputs": [],
   "source": [
    "from scipy.io import wavfile\n",
    "\n",
    "(source_fs, source_data) = wavfile.read('./data/01_source.wav')\n",
    "(target_fs, target_data) = wavfile.read('./data/01_peak_compressor.wav')\n"
   ]
  },
  {
   "cell_type": "code",
   "execution_count": 2,
   "metadata": {},
   "outputs": [],
   "source": [
    "import pandas as pd"
   ]
  },
  {
   "cell_type": "code",
   "execution_count": 3,
   "metadata": {},
   "outputs": [
    {
     "data": {
      "text/html": [
       "<div>\n",
       "<style scoped>\n",
       "    .dataframe tbody tr th:only-of-type {\n",
       "        vertical-align: middle;\n",
       "    }\n",
       "\n",
       "    .dataframe tbody tr th {\n",
       "        vertical-align: top;\n",
       "    }\n",
       "\n",
       "    .dataframe thead th {\n",
       "        text-align: right;\n",
       "    }\n",
       "</style>\n",
       "<table border=\"1\" class=\"dataframe\">\n",
       "  <thead>\n",
       "    <tr style=\"text-align: right;\">\n",
       "      <th></th>\n",
       "      <th>L</th>\n",
       "      <th>R</th>\n",
       "    </tr>\n",
       "  </thead>\n",
       "  <tbody>\n",
       "    <tr>\n",
       "      <th>0</th>\n",
       "      <td>1</td>\n",
       "      <td>-1</td>\n",
       "    </tr>\n",
       "    <tr>\n",
       "      <th>1</th>\n",
       "      <td>-5</td>\n",
       "      <td>-6</td>\n",
       "    </tr>\n",
       "    <tr>\n",
       "      <th>2</th>\n",
       "      <td>-11</td>\n",
       "      <td>-12</td>\n",
       "    </tr>\n",
       "    <tr>\n",
       "      <th>3</th>\n",
       "      <td>-18</td>\n",
       "      <td>-17</td>\n",
       "    </tr>\n",
       "    <tr>\n",
       "      <th>4</th>\n",
       "      <td>-24</td>\n",
       "      <td>-24</td>\n",
       "    </tr>\n",
       "  </tbody>\n",
       "</table>\n",
       "</div>"
      ],
      "text/plain": [
       "    L   R\n",
       "0   1  -1\n",
       "1  -5  -6\n",
       "2 -11 -12\n",
       "3 -18 -17\n",
       "4 -24 -24"
      ]
     },
     "execution_count": 3,
     "metadata": {},
     "output_type": "execute_result"
    }
   ],
   "source": [
    "source_df = pd.DataFrame(source_data, columns=['L', 'R'])\n",
    "source_df.head()"
   ]
  },
  {
   "cell_type": "code",
   "execution_count": 4,
   "metadata": {},
   "outputs": [
    {
     "data": {
      "text/html": [
       "<div>\n",
       "<style scoped>\n",
       "    .dataframe tbody tr th:only-of-type {\n",
       "        vertical-align: middle;\n",
       "    }\n",
       "\n",
       "    .dataframe tbody tr th {\n",
       "        vertical-align: top;\n",
       "    }\n",
       "\n",
       "    .dataframe thead th {\n",
       "        text-align: right;\n",
       "    }\n",
       "</style>\n",
       "<table border=\"1\" class=\"dataframe\">\n",
       "  <thead>\n",
       "    <tr style=\"text-align: right;\">\n",
       "      <th></th>\n",
       "      <th>L</th>\n",
       "      <th>R</th>\n",
       "    </tr>\n",
       "  </thead>\n",
       "  <tbody>\n",
       "    <tr>\n",
       "      <th>0</th>\n",
       "      <td>-1</td>\n",
       "      <td>0</td>\n",
       "    </tr>\n",
       "    <tr>\n",
       "      <th>1</th>\n",
       "      <td>-37</td>\n",
       "      <td>-37</td>\n",
       "    </tr>\n",
       "    <tr>\n",
       "      <th>2</th>\n",
       "      <td>-81</td>\n",
       "      <td>-81</td>\n",
       "    </tr>\n",
       "    <tr>\n",
       "      <th>3</th>\n",
       "      <td>-128</td>\n",
       "      <td>-128</td>\n",
       "    </tr>\n",
       "    <tr>\n",
       "      <th>4</th>\n",
       "      <td>-177</td>\n",
       "      <td>-178</td>\n",
       "    </tr>\n",
       "  </tbody>\n",
       "</table>\n",
       "</div>"
      ],
      "text/plain": [
       "     L    R\n",
       "0   -1    0\n",
       "1  -37  -37\n",
       "2  -81  -81\n",
       "3 -128 -128\n",
       "4 -177 -178"
      ]
     },
     "execution_count": 4,
     "metadata": {},
     "output_type": "execute_result"
    }
   ],
   "source": [
    "target_df = pd.DataFrame(target_data, columns=['L', 'R'])\n",
    "target_df.head()"
   ]
  },
  {
   "cell_type": "code",
   "execution_count": 5,
   "metadata": {},
   "outputs": [
    {
     "data": {
      "text/plain": [
       "(10790, 16537)"
      ]
     },
     "execution_count": 5,
     "metadata": {},
     "output_type": "execute_result"
    }
   ],
   "source": [
    "source_df['L'].max(), target_df['L'].max()"
   ]
  },
  {
   "cell_type": "code",
   "execution_count": 6,
   "metadata": {},
   "outputs": [
    {
     "data": {
      "text/plain": [
       "32768"
      ]
     },
     "execution_count": 6,
     "metadata": {},
     "output_type": "execute_result"
    }
   ],
   "source": [
    "2 ** 15"
   ]
  },
  {
   "cell_type": "code",
   "execution_count": 7,
   "metadata": {},
   "outputs": [
    {
     "data": {
      "text/plain": [
       "32767"
      ]
     },
     "execution_count": 7,
     "metadata": {},
     "output_type": "execute_result"
    }
   ],
   "source": [
    "MAX_VALUE = 2 ** 15 - 1\n",
    "MAX_VALUE"
   ]
  },
  {
   "cell_type": "code",
   "execution_count": null,
   "metadata": {},
   "outputs": [],
   "source": []
  },
  {
   "cell_type": "code",
   "execution_count": 8,
   "metadata": {},
   "outputs": [
    {
     "data": {
      "text/plain": [
       "(1302647, 1302647)"
      ]
     },
     "execution_count": 8,
     "metadata": {},
     "output_type": "execute_result"
    }
   ],
   "source": [
    "len(source_df), len(target_df)"
   ]
  },
  {
   "cell_type": "code",
   "execution_count": 9,
   "metadata": {},
   "outputs": [
    {
     "data": {
      "text/plain": [
       "1042100"
      ]
     },
     "execution_count": 9,
     "metadata": {},
     "output_type": "execute_result"
    }
   ],
   "source": [
    "# END_LOC = int(len(target_df) * 0.8)\n",
    "TR_END_LOC = int(len(target_df) * 0.8 / 100) * 100\n",
    "TR_END_LOC"
   ]
  },
  {
   "cell_type": "markdown",
   "metadata": {},
   "source": [
    "## IT'S MONO"
   ]
  },
  {
   "cell_type": "code",
   "execution_count": 10,
   "metadata": {},
   "outputs": [
    {
     "data": {
      "text/plain": [
       "1042100"
      ]
     },
     "execution_count": 10,
     "metadata": {},
     "output_type": "execute_result"
    }
   ],
   "source": [
    "X_train_raw = source_df['L'][:TR_END_LOC]\n",
    "len(X_train_raw)"
   ]
  },
  {
   "cell_type": "code",
   "execution_count": 11,
   "metadata": {},
   "outputs": [
    {
     "data": {
      "text/plain": [
       "260547"
      ]
     },
     "execution_count": 11,
     "metadata": {},
     "output_type": "execute_result"
    }
   ],
   "source": [
    "X_test_raw = source_df['L'][TR_END_LOC:]\n",
    "len(X_test_raw)"
   ]
  },
  {
   "cell_type": "code",
   "execution_count": 12,
   "metadata": {},
   "outputs": [
    {
     "data": {
      "text/plain": [
       "1042100"
      ]
     },
     "execution_count": 12,
     "metadata": {},
     "output_type": "execute_result"
    }
   ],
   "source": [
    "y_train_raw = target_df['L'][:TR_END_LOC]\n",
    "len(y_train_raw)"
   ]
  },
  {
   "cell_type": "code",
   "execution_count": 13,
   "metadata": {},
   "outputs": [
    {
     "data": {
      "text/plain": [
       "260547"
      ]
     },
     "execution_count": 13,
     "metadata": {},
     "output_type": "execute_result"
    }
   ],
   "source": [
    "y_test_raw = target_df['L'][TR_END_LOC:]\n",
    "len(y_test_raw)"
   ]
  },
  {
   "cell_type": "code",
   "execution_count": 14,
   "metadata": {},
   "outputs": [
    {
     "data": {
      "text/plain": [
       "1042100    3458\n",
       "1042101    3469\n",
       "1042102    3479\n",
       "1042103    3485\n",
       "1042104    3490\n",
       "1042105    3491\n",
       "1042106    3489\n",
       "1042107    3485\n",
       "1042108    3479\n",
       "1042109    3471\n",
       "Name: L, dtype: int16"
      ]
     },
     "execution_count": 14,
     "metadata": {},
     "output_type": "execute_result"
    }
   ],
   "source": [
    "X_test_raw.iloc[:10]"
   ]
  },
  {
   "cell_type": "code",
   "execution_count": 15,
   "metadata": {},
   "outputs": [],
   "source": [
    "# safe-checking data"
   ]
  },
  {
   "cell_type": "code",
   "execution_count": 16,
   "metadata": {},
   "outputs": [],
   "source": [
    "# y_train_raw = -y_train_raw + 4000\n",
    "# y_train_raw.iloc[0]"
   ]
  },
  {
   "cell_type": "code",
   "execution_count": 17,
   "metadata": {},
   "outputs": [],
   "source": [
    "# y_test_raw = -y_test_raw + 4000\n",
    "# y_test_raw.iloc[0]"
   ]
  },
  {
   "cell_type": "markdown",
   "metadata": {},
   "source": [
    "## Preparing data for processing"
   ]
  },
  {
   "cell_type": "code",
   "execution_count": 18,
   "metadata": {},
   "outputs": [],
   "source": [
    "def normalize_keeping_mean(arr, forced_abs=None):\n",
    "    left_abs = np.abs(arr.mean() - arr.min())\n",
    "    right_abs = np.abs(arr.max() - arr.mean())\n",
    "    \n",
    "    n = max(left_abs, right_abs)\n",
    "    \n",
    "    if (forced_abs is not None):\n",
    "        n = forced_abs\n",
    "    \n",
    "    return np.clip(arr / n, -1.0, 1.0)"
   ]
  },
  {
   "cell_type": "code",
   "execution_count": 19,
   "metadata": {},
   "outputs": [],
   "source": [
    "def normalize(arr, forced_abs=None, mean=None):\n",
    "    left_abs = np.abs(arr.mean() - arr.min())\n",
    "    right_abs = np.abs(arr.max() - arr.mean())\n",
    "    \n",
    "    n = max(left_abs, right_abs)\n",
    "    \n",
    "    if (forced_abs is not None):\n",
    "        n = forced_abs\n",
    "        \n",
    "    if (mean is None):\n",
    "        mean = arr.mean()\n",
    "    \n",
    "    \n",
    "    return np.clip((arr - mean) / n, -1.0, 1.0)"
   ]
  },
  {
   "cell_type": "code",
   "execution_count": 20,
   "metadata": {},
   "outputs": [
    {
     "data": {
      "text/plain": [
       "(-0.30961027863399154, 0.3292947172460097, 5.524491569495269e-06)"
      ]
     },
     "execution_count": 20,
     "metadata": {},
     "output_type": "execute_result"
    }
   ],
   "source": [
    "import numpy as np\n",
    "\n",
    "X_tr = np.array(list(map(lambda x: np.array(x), X_train_raw)))\n",
    "X_tr_n = normalize(X_tr, forced_abs=MAX_VALUE, mean=0.0)\n",
    "X_tr_n.min(), X_tr_n.max(), np.mean(X_tr_n)"
   ]
  },
  {
   "cell_type": "code",
   "execution_count": 21,
   "metadata": {},
   "outputs": [
    {
     "data": {
      "text/plain": [
       "(-0.1662038026062807, 0.2346873378704184, 1.2222185906085745e-05)"
      ]
     },
     "execution_count": 21,
     "metadata": {},
     "output_type": "execute_result"
    }
   ],
   "source": [
    "X_te = np.array(list(map(lambda x: np.array(x), X_test_raw)))\n",
    "X_te_n= normalize(X_te, forced_abs=MAX_VALUE, mean=0.0)\n",
    "X_te_n.min(), X_te_n.max(), np.mean(X_te_n)"
   ]
  },
  {
   "cell_type": "code",
   "execution_count": 22,
   "metadata": {},
   "outputs": [
    {
     "data": {
      "text/plain": [
       "(-0.3057954649494919, 0.5046845912045655, -0.0002333393516189353)"
      ]
     },
     "execution_count": 22,
     "metadata": {},
     "output_type": "execute_result"
    }
   ],
   "source": [
    "y_tr = np.array(list(map(lambda x: np.array(x), y_train_raw)))\n",
    "y_tr_n = normalize(y_tr, forced_abs=MAX_VALUE, mean=0.0)\n",
    "y_tr_n.min(), y_tr_n.max(), np.mean(y_tr_n)"
   ]
  },
  {
   "cell_type": "code",
   "execution_count": 23,
   "metadata": {},
   "outputs": [
    {
     "data": {
      "text/plain": [
       "(-0.2708517715994751, 0.43766594439527573, -2.5239466909497803e-05)"
      ]
     },
     "execution_count": 23,
     "metadata": {},
     "output_type": "execute_result"
    }
   ],
   "source": [
    "y_te = np.array(list(map(lambda x: np.array(x), y_test_raw)))\n",
    "y_te_n = normalize(y_te, forced_abs=MAX_VALUE, mean=0.0)\n",
    "y_te_n.min(), y_te_n.max(), np.mean(y_te_n)"
   ]
  },
  {
   "cell_type": "code",
   "execution_count": 24,
   "metadata": {},
   "outputs": [],
   "source": [
    "X_tr_n = X_tr_n.astype('float32')\n",
    "X_te_n = X_te_n.astype('float32')\n",
    "y_tr_n = y_tr_n.astype('float32')\n",
    "y_te_n = y_te_n.astype('float32')"
   ]
  },
  {
   "cell_type": "code",
   "execution_count": 25,
   "metadata": {
    "scrolled": false
   },
   "outputs": [
    {
     "data": {
      "text/plain": [
       "<matplotlib.axes._subplots.AxesSubplot at 0x1291136d8>"
      ]
     },
     "execution_count": 25,
     "metadata": {},
     "output_type": "execute_result"
    }
   ],
   "source": [
    "pd.Series(X_tr_n[:800]).plot.line(figsize=(16, 8))"
   ]
  },
  {
   "cell_type": "code",
   "execution_count": 26,
   "metadata": {},
   "outputs": [
    {
     "data": {
      "text/plain": [
       "<matplotlib.axes._subplots.AxesSubplot at 0x129cb67f0>"
      ]
     },
     "execution_count": 26,
     "metadata": {},
     "output_type": "execute_result"
    },
    {
     "data": {
      "image/png": "[encoded data removed]",
      "text/plain": [
       "<Figure size 1152x576 with 1 Axes>"
      ]
     },
     "metadata": {
      "needs_background": "light"
     },
     "output_type": "display_data"
    }
   ],
   "source": [
    "pd.Series(y_tr_n[:800]).plot.line(figsize=(16, 8))"
   ]
  },
  {
   "cell_type": "code",
   "execution_count": 27,
   "metadata": {},
   "outputs": [
    {
     "data": {
      "text/plain": [
       "(-0.1662038, 0.23468734, 1.2222178e-05)"
      ]
     },
     "execution_count": 27,
     "metadata": {},
     "output_type": "execute_result"
    }
   ],
   "source": [
    "\n",
    "X_te_n.min(), X_te_n.max(), np.mean(X_te_n)"
   ]
  },
  {
   "cell_type": "code",
   "execution_count": 28,
   "metadata": {},
   "outputs": [
    {
     "data": {
      "text/plain": [
       "<matplotlib.axes._subplots.AxesSubplot at 0x129d01c88>"
      ]
     },
     "execution_count": 28,
     "metadata": {},
     "output_type": "execute_result"
    },
    {
     "data": {
      "image/png": "[encoded data removed]",
      "text/plain": [
       "<Figure size 1152x576 with 1 Axes>"
      ]
     },
     "metadata": {
      "needs_background": "light"
     },
     "output_type": "display_data"
    }
   ],
   "source": [
    "pd.Series(X_te_n[:800]).plot.line(figsize=(16, 8))"
   ]
  },
  {
   "cell_type": "code",
   "execution_count": 29,
   "metadata": {
    "scrolled": true
   },
   "outputs": [
    {
     "data": {
      "text/plain": [
       "<matplotlib.axes._subplots.AxesSubplot at 0x129d85898>"
      ]
     },
     "execution_count": 29,
     "metadata": {},
     "output_type": "execute_result"
    },
    {
     "data": {
      "image/png": "[encoded data removed]",
      "text/plain": [
       "<Figure size 1152x576 with 1 Axes>"
      ]
     },
     "metadata": {
      "needs_background": "light"
     },
     "output_type": "display_data"
    }
   ],
   "source": [
    "pd.Series(y_te_n[:800]).plot.line(figsize=(16, 8))"
   ]
  },
  {
   "cell_type": "code",
   "execution_count": null,
   "metadata": {},
   "outputs": [],
   "source": []
  },
  {
   "cell_type": "code",
   "execution_count": 30,
   "metadata": {},
   "outputs": [],
   "source": [
    "# appending stats of the whole sample, fading from silence"
   ]
  },
  {
   "cell_type": "code",
   "execution_count": 31,
   "metadata": {},
   "outputs": [],
   "source": [
    "# train_shuffle_index = np.random.shuffle(np.arange(0, len(X_tr_n)))\n",
    "# test_shuffle_index = np.random.shuffle(np.arange(0, len(X_te_n)))\n",
    "\n",
    "# X_tr_f = X_tr_n[train_shuffle_index][0]\n",
    "# y_tr_f = y_tr_n[train_shuffle_index][0]\n",
    "\n",
    "# X_te_f = X_te_n[test_shuffle_index][0]\n",
    "# y_te_f = y_te_n[test_shuffle_index][0]"
   ]
  },
  {
   "cell_type": "markdown",
   "metadata": {},
   "source": [
    "## Making windows"
   ]
  },
  {
   "cell_type": "code",
   "execution_count": 187,
   "metadata": {},
   "outputs": [
    {
     "data": {
      "text/plain": [
       "64"
      ]
     },
     "execution_count": 187,
     "metadata": {},
     "output_type": "execute_result"
    }
   ],
   "source": [
    "# N_WINDOW_POINTS = int(source_clean_fs * 0.02)\n",
    "N_WINDOW_POINTS = 64\n",
    "N_WINDOW_POINTS"
   ]
  },
  {
   "cell_type": "code",
   "execution_count": 444,
   "metadata": {},
   "outputs": [
    {
     "data": {
      "text/plain": [
       "8000"
      ]
     },
     "execution_count": 444,
     "metadata": {},
     "output_type": "execute_result"
    }
   ],
   "source": [
    "N_SAMPLES = 8000\n",
    "N_SAMPLES"
   ]
  },
  {
   "cell_type": "code",
   "execution_count": 445,
   "metadata": {},
   "outputs": [],
   "source": [
    "def make_windows(X, y, n_window_points):\n",
    "    X_index = X.index\n",
    "    index = 0\n",
    "    \n",
    "    res_X = []\n",
    "    res_y = []\n",
    "\n",
    "    for index in range(0, len(X) - n_window_points - 1):\n",
    "        res_X.append(X.iloc[index:(index + n_window_points)])\n",
    "#         res_y.append(y.iloc[index + n_window_points])\n",
    "        res_y.append(y.iloc[index + n_window_points - 1])\n",
    "\n",
    "    return (np.array(res_X), np.array(res_y))"
   ]
  },
  {
   "cell_type": "code",
   "execution_count": 446,
   "metadata": {},
   "outputs": [
    {
     "name": "stdout",
     "output_type": "stream",
     "text": [
      "(8000, array([ 3.05185094e-05, -1.52592547e-04, -3.35703604e-04, -5.49333170e-04,\n",
      "       -7.32444227e-04, -9.15555283e-04, -1.12918485e-03, -1.40385143e-03,\n",
      "       -1.61748100e-03, -1.86162908e-03, -2.10577715e-03, -2.38044374e-03,\n",
      "       -2.59407330e-03, -2.80770287e-03, -3.02133244e-03, -3.23496200e-03,\n",
      "       -3.38755455e-03, -3.54014710e-03, -3.75377666e-03, -3.93688772e-03,\n",
      "       -4.08948027e-03, -4.21155430e-03, -4.30310983e-03, -4.39466536e-03,\n",
      "       -4.45570238e-03, -4.57777642e-03, -4.69985045e-03, -4.79140598e-03,\n",
      "       -4.94399853e-03, -5.06607257e-03, -5.31022064e-03, -5.52385021e-03,\n",
      "       -5.85955381e-03, -6.50044251e-03, -7.14133121e-03, -7.87377544e-03,\n",
      "       -8.54518265e-03, -9.27762687e-03, -9.94903408e-03, -1.06814783e-02,\n",
      "       -1.12918485e-02, -1.18717002e-02, -1.24820704e-02, -1.30619220e-02,\n",
      "       -1.36722922e-02, -1.42216254e-02, -1.47404401e-02, -1.51982177e-02,\n",
      "       -1.55949583e-02, -1.58391073e-02, -1.59306619e-02, -1.58391073e-02,\n",
      "       -1.55949583e-02, -1.51982177e-02, -1.46183660e-02, -1.38859218e-02,\n",
      "       -1.30314035e-02, -1.21158483e-02, -1.11392559e-02, -1.01931822e-02,\n",
      "       -9.24710836e-03, -8.51466414e-03, -7.93481246e-03, -7.59910885e-03],\n",
      "      dtype=float32), -0.054567095)\n",
      "CPU times: user 1.19 s, sys: 39.6 ms, total: 1.22 s\n",
      "Wall time: 1.32 s\n"
     ]
    }
   ],
   "source": [
    "%%time\n",
    "(X_tr_f, y_tr_f) = make_windows(\n",
    "    pd.Series(X_tr_n[:(N_SAMPLES + N_WINDOW_POINTS + 1)]),\n",
    "    pd.Series(y_tr_n[:(N_SAMPLES + N_WINDOW_POINTS + 1)]),\n",
    "    N_WINDOW_POINTS)\n",
    "print((len(X_tr_f), X_tr_f[0], y_tr_f[0]))"
   ]
  },
  {
   "cell_type": "code",
   "execution_count": 447,
   "metadata": {},
   "outputs": [
    {
     "data": {
      "text/plain": [
       "(array([-0.00015259, -0.0003357 , -0.00054933, -0.00073244, -0.00091556,\n",
       "        -0.00112918, -0.00140385, -0.00161748, -0.00186163, -0.00210578,\n",
       "        -0.00238044, -0.00259407, -0.0028077 , -0.00302133, -0.00323496,\n",
       "        -0.00338755, -0.00354015, -0.00375378, -0.00393689, -0.00408948,\n",
       "        -0.00421155, -0.00430311, -0.00439467, -0.0044557 , -0.00457778,\n",
       "        -0.00469985, -0.00479141, -0.004944  , -0.00506607, -0.00531022,\n",
       "        -0.00552385, -0.00585955, -0.00650044, -0.00714133, -0.00787378,\n",
       "        -0.00854518, -0.00927763, -0.00994903, -0.01068148, -0.01129185,\n",
       "        -0.0118717 , -0.01248207, -0.01306192, -0.01367229, -0.01422163,\n",
       "        -0.01474044, -0.01519822, -0.01559496, -0.01583911, -0.01593066,\n",
       "        -0.01583911, -0.01559496, -0.01519822, -0.01461837, -0.01388592,\n",
       "        -0.0130314 , -0.01211585, -0.01113926, -0.01019318, -0.00924711,\n",
       "        -0.00851466, -0.00793481, -0.00759911, -0.00747703], dtype=float32),\n",
       " -0.053773616)"
      ]
     },
     "execution_count": 447,
     "metadata": {},
     "output_type": "execute_result"
    }
   ],
   "source": [
    "X_tr_f[1], y_tr_f[1]"
   ]
  },
  {
   "cell_type": "code",
   "execution_count": 448,
   "metadata": {},
   "outputs": [
    {
     "name": "stdout",
     "output_type": "stream",
     "text": [
      "(8000, array([0.105533  , 0.10586871, 0.1061739 , 0.10635701, 0.1065096 ,\n",
      "       0.10654011, 0.10647908, 0.10635701, 0.1061739 , 0.10592975,\n",
      "       0.105533  , 0.10507523, 0.10455641, 0.10391553, 0.1032136 ,\n",
      "       0.10242012, 0.10153508, 0.10058901, 0.09955138, 0.09839167,\n",
      "       0.09720145, 0.09588916, 0.09454634, 0.09305093, 0.09155553,\n",
      "       0.08990753, 0.08822901, 0.08648945, 0.08465835, 0.0827662 ,\n",
      "       0.08084353, 0.07882931, 0.07672353, 0.07458724, 0.07238991,\n",
      "       0.07016205, 0.06787317, 0.06552324, 0.0631428 , 0.06073184,\n",
      "       0.05829035, 0.05578784, 0.05328532, 0.0507828 , 0.04821924,\n",
      "       0.04565569, 0.04306162, 0.04049806, 0.03790399, 0.03530991,\n",
      "       0.03277688, 0.03021332, 0.02764977, 0.02517777, 0.02264473,\n",
      "       0.02023377, 0.01782281, 0.01544237, 0.01312296, 0.01083407,\n",
      "       0.00860622, 0.00640889, 0.00424207, 0.00219733], dtype=float32), 0.0045777764)\n",
      "CPU times: user 1.24 s, sys: 42.3 ms, total: 1.28 s\n",
      "Wall time: 1.4 s\n"
     ]
    }
   ],
   "source": [
    "%%time\n",
    "(X_te_f, y_te_f) = make_windows(\n",
    "    pd.Series(X_te_n[:(N_SAMPLES + N_WINDOW_POINTS + 1)]),\n",
    "    pd.Series(y_te_n[:(N_SAMPLES + N_WINDOW_POINTS + 1)]),\n",
    "    N_WINDOW_POINTS\n",
    ")\n",
    "print((len(X_te_f), X_te_f[0], y_te_f[0]))"
   ]
  },
  {
   "cell_type": "code",
   "execution_count": 449,
   "metadata": {},
   "outputs": [
    {
     "data": {
      "text/plain": [
       "(array([0.10586871, 0.1061739 , 0.10635701, 0.1065096 , 0.10654011,\n",
       "        0.10647908, 0.10635701, 0.1061739 , 0.10592975, 0.105533  ,\n",
       "        0.10507523, 0.10455641, 0.10391553, 0.1032136 , 0.10242012,\n",
       "        0.10153508, 0.10058901, 0.09955138, 0.09839167, 0.09720145,\n",
       "        0.09588916, 0.09454634, 0.09305093, 0.09155553, 0.08990753,\n",
       "        0.08822901, 0.08648945, 0.08465835, 0.0827662 , 0.08084353,\n",
       "        0.07882931, 0.07672353, 0.07458724, 0.07238991, 0.07016205,\n",
       "        0.06787317, 0.06552324, 0.0631428 , 0.06073184, 0.05829035,\n",
       "        0.05578784, 0.05328532, 0.0507828 , 0.04821924, 0.04565569,\n",
       "        0.04306162, 0.04049806, 0.03790399, 0.03530991, 0.03277688,\n",
       "        0.03021332, 0.02764977, 0.02517777, 0.02264473, 0.02023377,\n",
       "        0.01782281, 0.01544237, 0.01312296, 0.01083407, 0.00860622,\n",
       "        0.00640889, 0.00424207, 0.00219733, 0.00015259], dtype=float32),\n",
       " 0.0003357036)"
      ]
     },
     "execution_count": 449,
     "metadata": {},
     "output_type": "execute_result"
    }
   ],
   "source": [
    "X_te_f[1], y_te_f[1]"
   ]
  },
  {
   "cell_type": "code",
   "execution_count": null,
   "metadata": {},
   "outputs": [],
   "source": []
  },
  {
   "cell_type": "code",
   "execution_count": 450,
   "metadata": {},
   "outputs": [],
   "source": [
    "# import numpy as np\n",
    "\n",
    "# train_shuffle_index = np.arange(0, len(X_tr_f))\n",
    "# np.random.shuffle(train_shuffle_index)\n",
    "\n",
    "# test_shuffle_index = np.arange(0, len(X_te_f))\n",
    "# np.random.shuffle(test_shuffle_index)\n",
    "\n",
    "# X_tr_f = np.array(X_tr_f)[train_shuffle_index]\n",
    "# y_tr_f = np.array(y_tr_f)[train_shuffle_index]\n",
    "\n",
    "# X_te_f = np.array(X_te_f)[test_shuffle_index]\n",
    "# y_te_f = np.array(y_te_f)[test_shuffle_index]\n",
    "\n",
    "# X_tr_f[0], y_tr_f[0], len(X_tr_f), len(y_tr_f), len(X_te_f), len(y_te_f)"
   ]
  },
  {
   "cell_type": "code",
   "execution_count": 451,
   "metadata": {},
   "outputs": [],
   "source": [
    "# X_tr_f = X_tr_n\n",
    "# y_tr_f = y_tr_n\n",
    "\n",
    "# X_te_f = X_te_n\n",
    "# y_te_f = y_te_n"
   ]
  },
  {
   "cell_type": "code",
   "execution_count": 452,
   "metadata": {},
   "outputs": [
    {
     "data": {
      "text/plain": [
       "(8000, 8000, 8000, 8000)"
      ]
     },
     "execution_count": 452,
     "metadata": {},
     "output_type": "execute_result"
    }
   ],
   "source": [
    "(len(X_tr_f), len(y_tr_f), len(X_te_f), len(y_te_f))"
   ]
  },
  {
   "cell_type": "code",
   "execution_count": 453,
   "metadata": {},
   "outputs": [],
   "source": [
    "# list(map(lambda row: row[:N_PEAKS*2], X_tr_f))[0]\n",
    "# # list(map(lambda row: row[:N_PEAKS], X_tr_f))[0]"
   ]
  },
  {
   "cell_type": "code",
   "execution_count": 454,
   "metadata": {
    "scrolled": true
   },
   "outputs": [],
   "source": [
    "# from matplotlib import pyplot as plt\n",
    "\n",
    "# # amp_df = pd.DataFrame(list(map(lambda row: row[N_PEAKS:N_PEAKS*2], X_tr_f)))\n",
    "# amp_df = pd.DataFrame(list(map(lambda row: row, X_tr_f)))\n",
    "\n",
    "# f = plt.figure(figsize=(19, 15))\n",
    "# plt.matshow(amp_df.corr())\n",
    "# plt.xticks(range(amp_df.shape[1]), amp_df.columns, fontsize=14, rotation=45)\n",
    "# plt.yticks(range(amp_df.shape[1]), amp_df.columns, fontsize=14)\n",
    "# cb = plt.colorbar()\n",
    "# cb.ax.tick_params(labelsize=14)\n",
    "# plt.title('Correlation Matrix', fontsize=16);"
   ]
  },
  {
   "cell_type": "code",
   "execution_count": 455,
   "metadata": {
    "scrolled": false
   },
   "outputs": [
    {
     "data": {
      "text/plain": [
       "<matplotlib.axes._subplots.AxesSubplot at 0x164a3f9b0>"
      ]
     },
     "execution_count": 455,
     "metadata": {},
     "output_type": "execute_result"
    }
   ],
   "source": [
    "pd.Series(X_tr_f[0]).plot.line(figsize=(16, 8))"
   ]
  },
  {
   "cell_type": "code",
   "execution_count": 456,
   "metadata": {},
   "outputs": [
    {
     "data": {
      "text/plain": [
       "<matplotlib.axes._subplots.AxesSubplot at 0x164a3f9b0>"
      ]
     },
     "execution_count": 456,
     "metadata": {},
     "output_type": "execute_result"
    }
   ],
   "source": [
    "pd.Series(y_tr_f[:N_WINDOW_POINTS]).plot.line(figsize=(16, 8))"
   ]
  },
  {
   "cell_type": "code",
   "execution_count": 457,
   "metadata": {},
   "outputs": [
    {
     "data": {
      "text/plain": [
       "<matplotlib.axes._subplots.AxesSubplot at 0x164a3f9b0>"
      ]
     },
     "execution_count": 457,
     "metadata": {},
     "output_type": "execute_result"
    }
   ],
   "source": [
    "pd.Series(X_te_f[0]).plot.line(figsize=(16, 8))"
   ]
  },
  {
   "cell_type": "code",
   "execution_count": 458,
   "metadata": {
    "scrolled": false
   },
   "outputs": [
    {
     "data": {
      "text/plain": [
       "<matplotlib.axes._subplots.AxesSubplot at 0x164a3f9b0>"
      ]
     },
     "execution_count": 458,
     "metadata": {},
     "output_type": "execute_result"
    }
   ],
   "source": [
    "pd.Series(y_te_f[:N_WINDOW_POINTS]).plot.line(figsize=(16, 8))"
   ]
  },
  {
   "cell_type": "code",
   "execution_count": 459,
   "metadata": {},
   "outputs": [],
   "source": [
    "n_features = 1"
   ]
  },
  {
   "cell_type": "code",
   "execution_count": 460,
   "metadata": {},
   "outputs": [
    {
     "data": {
      "text/plain": [
       "(array([ 3.05185094e-05, -1.52592547e-04, -3.35703604e-04, -5.49333170e-04,\n",
       "        -7.32444227e-04, -9.15555283e-04, -1.12918485e-03, -1.40385143e-03,\n",
       "        -1.61748100e-03, -1.86162908e-03, -2.10577715e-03, -2.38044374e-03,\n",
       "        -2.59407330e-03, -2.80770287e-03, -3.02133244e-03, -3.23496200e-03,\n",
       "        -3.38755455e-03, -3.54014710e-03, -3.75377666e-03, -3.93688772e-03,\n",
       "        -4.08948027e-03, -4.21155430e-03, -4.30310983e-03, -4.39466536e-03,\n",
       "        -4.45570238e-03, -4.57777642e-03, -4.69985045e-03, -4.79140598e-03,\n",
       "        -4.94399853e-03, -5.06607257e-03, -5.31022064e-03, -5.52385021e-03,\n",
       "        -5.85955381e-03, -6.50044251e-03, -7.14133121e-03, -7.87377544e-03,\n",
       "        -8.54518265e-03, -9.27762687e-03, -9.94903408e-03, -1.06814783e-02,\n",
       "        -1.12918485e-02, -1.18717002e-02, -1.24820704e-02, -1.30619220e-02,\n",
       "        -1.36722922e-02, -1.42216254e-02, -1.47404401e-02, -1.51982177e-02,\n",
       "        -1.55949583e-02, -1.58391073e-02, -1.59306619e-02, -1.58391073e-02,\n",
       "        -1.55949583e-02, -1.51982177e-02, -1.46183660e-02, -1.38859218e-02,\n",
       "        -1.30314035e-02, -1.21158483e-02, -1.11392559e-02, -1.01931822e-02,\n",
       "        -9.24710836e-03, -8.51466414e-03, -7.93481246e-03, -7.59910885e-03],\n",
       "       dtype=float32), -0.054567095)"
      ]
     },
     "execution_count": 460,
     "metadata": {},
     "output_type": "execute_result"
    }
   ],
   "source": [
    "(X_tr_f[0], y_tr_f[0])"
   ]
  },
  {
   "cell_type": "code",
   "execution_count": 461,
   "metadata": {},
   "outputs": [
    {
     "data": {
      "text/plain": [
       "array([[ 3.0518509e-05],\n",
       "       [-1.5259255e-04],\n",
       "       [-3.3570360e-04],\n",
       "       [-5.4933317e-04],\n",
       "       [-7.3244423e-04]], dtype=float32)"
      ]
     },
     "execution_count": 461,
     "metadata": {},
     "output_type": "execute_result"
    }
   ],
   "source": [
    "X_tr_s = X_tr_f.reshape(X_tr_f.shape[0], X_tr_f.shape[1], n_features)\n",
    "X_tr_s[0][:5]"
   ]
  },
  {
   "cell_type": "code",
   "execution_count": 462,
   "metadata": {},
   "outputs": [],
   "source": [
    "y_tr_s = y_tr_f"
   ]
  },
  {
   "cell_type": "code",
   "execution_count": 463,
   "metadata": {},
   "outputs": [
    {
     "data": {
      "text/plain": [
       "array([[0.105533  ],\n",
       "       [0.10586871],\n",
       "       [0.1061739 ],\n",
       "       [0.10635701],\n",
       "       [0.1065096 ]], dtype=float32)"
      ]
     },
     "execution_count": 463,
     "metadata": {},
     "output_type": "execute_result"
    }
   ],
   "source": [
    "X_te_s = X_te_f.reshape(X_te_f.shape[0], X_te_f.shape[1], n_features)\n",
    "X_te_s[0][:5]"
   ]
  },
  {
   "cell_type": "code",
   "execution_count": 464,
   "metadata": {},
   "outputs": [],
   "source": [
    "y_te_s = y_te_f"
   ]
  },
  {
   "cell_type": "code",
   "execution_count": 465,
   "metadata": {},
   "outputs": [],
   "source": [
    "# def add_stats(row):\n",
    "#     stats = [\n",
    "#         np.mean(row),\n",
    "#         np.max(row),\n",
    "#         np.min(row),\n",
    "#         np.var(row)\n",
    "#     ]\n",
    "\n",
    "#     return np.array([(list(x) + list(stats)) for x in row])"
   ]
  },
  {
   "cell_type": "code",
   "execution_count": 466,
   "metadata": {},
   "outputs": [],
   "source": [
    "# %%time\n",
    "# X_tr_s = np.array([add_stats(row) for row in X_tr_s])\n",
    "# print(X_tr_s[0][0], X_tr_s[0][1])"
   ]
  },
  {
   "cell_type": "code",
   "execution_count": 467,
   "metadata": {},
   "outputs": [],
   "source": [
    "# %%time\n",
    "# X_te_s = np.array([add_stats(row) for row in X_te_s])\n",
    "# print(X_te_s[0][0], X_te_s[0][1])"
   ]
  },
  {
   "cell_type": "markdown",
   "metadata": {},
   "source": [
    "## Finished data processing!\n",
    "\n",
    "## Moving on to training NN"
   ]
  },
  {
   "cell_type": "code",
   "execution_count": 468,
   "metadata": {},
   "outputs": [],
   "source": [
    "import numpy as np"
   ]
  },
  {
   "cell_type": "code",
   "execution_count": 469,
   "metadata": {},
   "outputs": [],
   "source": [
    "# num_steps=100, 24 hidden states"
   ]
  },
  {
   "cell_type": "code",
   "execution_count": null,
   "metadata": {},
   "outputs": [],
   "source": []
  },
  {
   "cell_type": "code",
   "execution_count": 470,
   "metadata": {},
   "outputs": [],
   "source": [
    "import keras\n",
    "import tensorflow as tf\n",
    "from keras.models import Sequential\n",
    "from keras.layers import Dense, Dropout, Activation, Flatten, LSTM, Reshape, GRU, GaussianNoise\n",
    "from keras.layers import Convolution2D, MaxPooling2D\n",
    "from keras.utils import np_utils\n",
    "from keras.regularizers import L1L2\n",
    "\n",
    "tf.set_random_seed(1234)"
   ]
  },
  {
   "cell_type": "code",
   "execution_count": 471,
   "metadata": {},
   "outputs": [
    {
     "data": {
      "text/plain": [
       "((8000, 64, 1), (8000,), (8000, 64, 1), (8000,))"
      ]
     },
     "execution_count": 471,
     "metadata": {},
     "output_type": "execute_result"
    }
   ],
   "source": [
    "X_tr_s.shape, y_tr_s.shape, X_te_s.shape, y_te_s.shape"
   ]
  },
  {
   "cell_type": "code",
   "execution_count": 472,
   "metadata": {},
   "outputs": [
    {
     "data": {
      "text/plain": [
       "array([-0.05456709, -0.05377362, -0.05502487, ...,  0.09576708,\n",
       "        0.09561449,  0.09479049], dtype=float32)"
      ]
     },
     "execution_count": 472,
     "metadata": {},
     "output_type": "execute_result"
    }
   ],
   "source": [
    "y_tr_s"
   ]
  },
  {
   "cell_type": "code",
   "execution_count": 473,
   "metadata": {},
   "outputs": [],
   "source": [
    "from keras import backend as K\n",
    "from keras.layers import Layer\n",
    "\n",
    "class DebugLayer(Layer):\n",
    "\n",
    "    def __init__(self, output_dim, **kwargs):\n",
    "        self.output_dim = output_dim\n",
    "        super(DebugLayer, self).__init__(**kwargs)\n",
    "\n",
    "    def build(self, input_shape):\n",
    "        super(DebugLayer, self).build(input_shape)  # Be sure to call this at the end\n",
    "\n",
    "    def call(self, x):\n",
    "        print(x[0])\n",
    "        return x"
   ]
  },
  {
   "cell_type": "code",
   "execution_count": 496,
   "metadata": {},
   "outputs": [],
   "source": [
    "N_UNITS = 10\n",
    "n_features = 1\n",
    "BATCH_SIZE = 1\n",
    "\n",
    "best_params = {\n",
    "  'lr': 0.001,\n",
    "  'n_units': N_UNITS,\n",
    "  'batch_size': BATCH_SIZE,\n",
    "  'optimizer': keras.optimizers.adam,\n",
    "}\n",
    "\n",
    "\n",
    "model = Sequential()\n",
    "\n",
    "# model.add(LSTM(\n",
    "#      10,\n",
    "#      activation='relu',\n",
    "#      stateful=True,\n",
    "#      reset_after=True,\n",
    "#      input_shape=(n_steps, n_features),\n",
    "#      batch_input_shape=(1, n_steps, 1)\n",
    "# ))\n",
    "\n",
    "def loss(y_true,y_pred):\n",
    "        return K.mean(K.square(y_pred - y_true) + K.square(layer), axis=-1)\n",
    "    \n",
    "# model.add(GRU(\n",
    "#           N_UNITS,\n",
    "#           input_shape=(N_WINDOW_POINTS, n_features),\n",
    "#           # bias_regularizer=L1L2(l1=0.1, l2=0.1),\n",
    "#           stateful=True,\n",
    "#           # reset_after=True,\n",
    "#           # recurrent_activation='sigmoid',\n",
    "#           batch_input_shape=(BATCH_SIZE, N_WINDOW_POINTS, n_features),\n",
    "#           activation='tanh', recurrent_activation='hard_sigmoid',\n",
    "#           # kernel_initializer='zeros',\n",
    "#           bias_initializer='zeros',\n",
    "#           return_sequences=True,\n",
    "# ))\n",
    "\n",
    "model.add(Dense(\n",
    "    N_UNITS,\n",
    "    input_shape=(N_WINDOW_POINTS, n_features),\n",
    "    activation='tanh',\n",
    "    batch_input_shape=(BATCH_SIZE, N_WINDOW_POINTS, n_features),\n",
    "    kernel_initializer='identity',\n",
    "    bias_initializer='zeros',\n",
    "))\n",
    "\n",
    "\n",
    "model.add(GRU(\n",
    "          N_UNITS,\n",
    "          input_shape=(N_WINDOW_POINTS, n_features),\n",
    "          # bias_regularizer=L1L2(l1=0.1, l2=0.1),\n",
    "          stateful=True,\n",
    "          # reset_after=True,\n",
    "          # batch_input_shape=(BATCH_SIZE, N_WINDOW_POINTS, n_features),\n",
    "          activation='tanh', recurrent_activation='hard_sigmoid',\n",
    "#           kernel_initializer='identity',\n",
    "          bias_initializer='zeros',\n",
    "          # return_sequences=True,\n",
    "))\n",
    "\n",
    "# model.add(GRU(\n",
    "#           N_UNITS,\n",
    "#           input_shape=(N_WINDOW_POINTS, n_features),\n",
    "#           # bias_regularizer=L1L2(l1=0.01, l2=0.01),\n",
    "#           stateful=True,\n",
    "#           # reset_after=True,\n",
    "#           # recurrent_activation='sigmoid',\n",
    "#           batch_input_shape=(BATCH_SIZE, N_WINDOW_POINTS, n_features),\n",
    "#           # return_sequences=True\n",
    "# ))\n",
    "\n",
    "# model.add(GRU(\n",
    "#           N_UNITS,\n",
    "#           input_shape=(N_WINDOW_POINTS, n_features),\n",
    "#           # bias_regularizer=L1L2(l1=0.01, l2=0.01),\n",
    "#           # stateful=True,\n",
    "#           # reset_after=True,\n",
    "#           # recurrent_activation='sigmoid',\n",
    "# ))\n",
    "          # return_sequences=True))\n",
    "\n",
    "# model.add(GaussianNoise(0.01))\n",
    "\n",
    "model.add(Dense(\n",
    "    1,\n",
    "    activation=None,\n",
    "    kernel_initializer='identity',\n",
    "    bias_initializer='zeros',\n",
    "))\n",
    "\n",
    "optimizer = keras.optimizers.adam(lr=best_params['lr'])\n",
    "# optimizer = keras.optimizers.SGD(lr=best_params['lr'], decay=0.2)\n",
    "\n",
    "model.compile(optimizer=optimizer, loss='mae')"
   ]
  },
  {
   "cell_type": "code",
   "execution_count": 497,
   "metadata": {},
   "outputs": [],
   "source": [
    "import math\n",
    "\n",
    "def predict(model, X_input):\n",
    "    # X_input = np.array(rows).reshape(rows.shape[0], rows.shape[1], n_features)\n",
    "    \n",
    "    return np.array(\n",
    "        model.predict(\n",
    "            X_input[:(math.floor(len(X_input) / BATCH_SIZE) * BATCH_SIZE)], batch_size=BATCH_SIZE\n",
    "        )\n",
    "    ).flatten()"
   ]
  },
  {
   "cell_type": "code",
   "execution_count": 498,
   "metadata": {},
   "outputs": [],
   "source": [
    "from scipy.signal import savgol_filter\n",
    "\n",
    "\n",
    "# TensorBoard callback\n",
    "# tensorboard_cb = keras.callbacks.TensorBoard(\n",
    "#     log_dir='./logs',\n",
    "#     batch_size=BATCH_SIZE,\n",
    "#     # histogram_freq='batch',\n",
    "#     write_graph=True,\n",
    "#     write_grads=True,\n",
    "#     write_images=True\n",
    "# )\n",
    "\n",
    "class TestModel(keras.callbacks.Callback):\n",
    "    def __init__(self, model, I=200):\n",
    "        self.model = model\n",
    "        self.I = I\n",
    "        \n",
    "    def on_train_begin(self, batch):\n",
    "#         (fig, ax) = plt.subplots(figsize=(12, 8))\n",
    "        (fig, ax) = plt.subplots()\n",
    "        self.fig = fig\n",
    "        self.ax = ax\n",
    "        \n",
    "        feat = pd.Series((np.array(list(map(lambda row: row[-1][0], X_tr_s[:I])))))\n",
    "\n",
    "        feat_data, =  ax.plot(feat.values, label='feature')\n",
    "\n",
    "        targ = (pd.Series((y_tr_s[:I])))\n",
    "\n",
    "        pred = pd.Series(np.zeros(I))\n",
    "        # pred = (pred * 2.2) + 0.001\n",
    "        pred = pred + 0.001\n",
    "\n",
    "        zeros = pd.Series(np.zeros(I))\n",
    "        zeros.plot.line(ax=ax, label='0')\n",
    "\n",
    "        targ_data, = ax.plot(targ.values, label='target')\n",
    "\n",
    "        pred_data, = ax.plot(pred.values, label='predicted')\n",
    "        # pd.Series(savgol_filter(pred, 5, 3)).plot.line(ax=ax, label='savgol(predicted)')\n",
    "        \n",
    "        self.feat_data = feat_data\n",
    "        self.targ_data = targ_data\n",
    "        self.pred_data = pred_data\n",
    "        \n",
    "        ax.legend(loc=\"upper right\")\n",
    "        ax.set_xlabel('index')\n",
    "        ax.set_ylabel('value')\n",
    "        \n",
    "        plt.show()\n",
    "        fig.canvas.draw()\n",
    "        \n",
    "        \n",
    "    def on_epoch_end(self, batch, logs={}):\n",
    "        model = self.model\n",
    "        \n",
    "        fig = self.fig\n",
    "        ax = self.ax\n",
    "        \n",
    "        I = 200\n",
    "\n",
    "        feat = pd.Series((np.array(list(map(lambda row: row[-1][0], X_tr_s[:I])))))\n",
    "\n",
    "        self.feat_data.set_ydata(feat.values)\n",
    "\n",
    "        targ = (pd.Series((y_tr_s[:I])))\n",
    "\n",
    "        pred = pd.Series(predict(model, X_tr_s[:I]))\n",
    "        # pred = (pred * 2.2) + 0.001\n",
    "        pred = pred + 0.001\n",
    "\n",
    "        zeros = pd.Series(np.zeros(I))\n",
    "        zeros.plot.line(ax=ax, label='0')\n",
    "\n",
    "        self.targ_data.set_ydata(targ.values)\n",
    "\n",
    "        self.pred_data.set_ydata(pred.values)\n",
    "        # pd.Series(savgol_filter(pred, 5, 3)).plot.line(ax=ax, label='savgol(predicted)')\n",
    "\n",
    "        # pd.Series(normalize(np.array(list(map(lambda w: w[-1], X_tr_f[:I]))))).plot.line(ax=ax, label='feature')\n",
    "\n",
    "        fig.canvas.draw()\n",
    "\n",
    "\n",
    "test_model_cb = TestModel(model)\n",
    "\n",
    "# Callback to display the target and prediciton\n",
    "# test_model_cb = keras.callbacks.LambdaCallback(on_epoch_end=testmodel)"
   ]
  },
  {
   "cell_type": "code",
   "execution_count": 499,
   "metadata": {
    "scrolled": false
   },
   "outputs": [
    {
     "name": "stdout",
     "output_type": "stream",
     "text": [
      "Train on 1000 samples, validate on 400 samples\n"
     ]
    },
    {
     "data": {
      "application/javascript": [
       "/* Put everything inside the global mpl namespace */\n",
       "window.mpl = {};\n",
       "\n",
       "\n",
       "mpl.get_websocket_type = function() {\n",
       "    if (typeof(WebSocket) !== 'undefined') {\n",
       "        return WebSocket;\n",
       "    } else if (typeof(MozWebSocket) !== 'undefined') {\n",
       "        return MozWebSocket;\n",
       "    } else {\n",
       "        alert('Your browser does not have WebSocket support.' +\n",
       "              'Please try Chrome, Safari or Firefox ≥ 6. ' +\n",
       "              'Firefox 4 and 5 are also supported but you ' +\n",
       "              'have to enable WebSockets in about:config.');\n",
       "    };\n",
       "}\n",
       "\n",
       "mpl.figure = function(figure_id, websocket, ondownload, parent_element) {\n",
       "    this.id = figure_id;\n",
       "\n",
       "    this.ws = websocket;\n",
       "\n",
       "    this.supports_binary = (this.ws.binaryType != undefined);\n",
       "\n",
       "    if (!this.supports_binary) {\n",
       "        var warnings = document.getElementById(\"mpl-warnings\");\n",
       "        if (warnings) {\n",
       "            warnings.style.display = 'block';\n",
       "            warnings.textContent = (\n",
       "                \"This browser does not support binary websocket messages. \" +\n",
       "                    \"Performance may be slow.\");\n",
       "        }\n",
       "    }\n",
       "\n",
       "    this.imageObj = new Image();\n",
       "\n",
       "    this.context = undefined;\n",
       "    this.message = undefined;\n",
       "    this.canvas = undefined;\n",
       "    this.rubberband_canvas = undefined;\n",
       "    this.rubberband_context = undefined;\n",
       "    this.format_dropdown = undefined;\n",
       "\n",
       "    this.image_mode = 'full';\n",
       "\n",
       "    this.root = $('<div/>');\n",
       "    this._root_extra_style(this.root)\n",
       "    this.root.attr('style', 'display: inline-block');\n",
       "\n",
       "    $(parent_element).append(this.root);\n",
       "\n",
       "    this._init_header(this);\n",
       "    this._init_canvas(this);\n",
       "    this._init_toolbar(this);\n",
       "\n",
       "    var fig = this;\n",
       "\n",
       "    this.waiting = false;\n",
       "\n",
       "    this.ws.onopen =  function () {\n",
       "            fig.send_message(\"supports_binary\", {value: fig.supports_binary});\n",
       "            fig.send_message(\"send_image_mode\", {});\n",
       "            if (mpl.ratio != 1) {\n",
       "                fig.send_message(\"set_dpi_ratio\", {'dpi_ratio': mpl.ratio});\n",
       "            }\n",
       "            fig.send_message(\"refresh\", {});\n",
       "        }\n",
       "\n",
       "    this.imageObj.onload = function() {\n",
       "            if (fig.image_mode == 'full') {\n",
       "                // Full images could contain transparency (where diff images\n",
       "                // almost always do), so we need to clear the canvas so that\n",
       "                // there is no ghosting.\n",
       "                fig.context.clearRect(0, 0, fig.canvas.width, fig.canvas.height);\n",
       "            }\n",
       "            fig.context.drawImage(fig.imageObj, 0, 0);\n",
       "        };\n",
       "\n",
       "    this.imageObj.onunload = function() {\n",
       "        fig.ws.close();\n",
       "    }\n",
       "\n",
       "    this.ws.onmessage = this._make_on_message_function(this);\n",
       "\n",
       "    this.ondownload = ondownload;\n",
       "}\n",
       "\n",
       "mpl.figure.prototype._init_header = function() {\n",
       "    var titlebar = $(\n",
       "        '<div class=\"ui-dialog-titlebar ui-widget-header ui-corner-all ' +\n",
       "        'ui-helper-clearfix\"/>');\n",
       "    var titletext = $(\n",
       "        '<div class=\"ui-dialog-title\" style=\"width: 100%; ' +\n",
       "        'text-align: center; padding: 3px;\"/>');\n",
       "    titlebar.append(titletext)\n",
       "    this.root.append(titlebar);\n",
       "    this.header = titletext[0];\n",
       "}\n",
       "\n",
       "\n",
       "\n",
       "mpl.figure.prototype._canvas_extra_style = function(canvas_div) {\n",
       "\n",
       "}\n",
       "\n",
       "\n",
       "mpl.figure.prototype._root_extra_style = function(canvas_div) {\n",
       "\n",
       "}\n",
       "\n",
       "mpl.figure.prototype._init_canvas = function() {\n",
       "    var fig = this;\n",
       "\n",
       "    var canvas_div = $('<div/>');\n",
       "\n",
       "    canvas_div.attr('style', 'position: relative; clear: both; outline: 0');\n",
       "\n",
       "    function canvas_keyboard_event(event) {\n",
       "        return fig.key_event(event, event['data']);\n",
       "    }\n",
       "\n",
       "    canvas_div.keydown('key_press', canvas_keyboard_event);\n",
       "    canvas_div.keyup('key_release', canvas_keyboard_event);\n",
       "    this.canvas_div = canvas_div\n",
       "    this._canvas_extra_style(canvas_div)\n",
       "    this.root.append(canvas_div);\n",
       "\n",
       "    var canvas = $('<canvas/>');\n",
       "    canvas.addClass('mpl-canvas');\n",
       "    canvas.attr('style', \"left: 0; top: 0; z-index: 0; outline: 0\")\n",
       "\n",
       "    this.canvas = canvas[0];\n",
       "    this.context = canvas[0].getContext(\"2d\");\n",
       "\n",
       "    var backingStore = this.context.backingStorePixelRatio ||\n",
       "\tthis.context.webkitBackingStorePixelRatio ||\n",
       "\tthis.context.mozBackingStorePixelRatio ||\n",
       "\tthis.context.msBackingStorePixelRatio ||\n",
       "\tthis.context.oBackingStorePixelRatio ||\n",
       "\tthis.context.backingStorePixelRatio || 1;\n",
       "\n",
       "    mpl.ratio = (window.devicePixelRatio || 1) / backingStore;\n",
       "\n",
       "    var rubberband = $('<canvas/>');\n",
       "    rubberband.attr('style', \"position: absolute; left: 0; top: 0; z-index: 1;\")\n",
       "\n",
       "    var pass_mouse_events = true;\n",
       "\n",
       "    canvas_div.resizable({\n",
       "        start: function(event, ui) {\n",
       "            pass_mouse_events = false;\n",
       "        },\n",
       "        resize: function(event, ui) {\n",
       "            fig.request_resize(ui.size.width, ui.size.height);\n",
       "        },\n",
       "        stop: function(event, ui) {\n",
       "            pass_mouse_events = true;\n",
       "            fig.request_resize(ui.size.width, ui.size.height);\n",
       "        },\n",
       "    });\n",
       "\n",
       "    function mouse_event_fn(event) {\n",
       "        if (pass_mouse_events)\n",
       "            return fig.mouse_event(event, event['data']);\n",
       "    }\n",
       "\n",
       "    rubberband.mousedown('button_press', mouse_event_fn);\n",
       "    rubberband.mouseup('button_release', mouse_event_fn);\n",
       "    // Throttle sequential mouse events to 1 every 20ms.\n",
       "    rubberband.mousemove('motion_notify', mouse_event_fn);\n",
       "\n",
       "    rubberband.mouseenter('figure_enter', mouse_event_fn);\n",
       "    rubberband.mouseleave('figure_leave', mouse_event_fn);\n",
       "\n",
       "    canvas_div.on(\"wheel\", function (event) {\n",
       "        event = event.originalEvent;\n",
       "        event['data'] = 'scroll'\n",
       "        if (event.deltaY < 0) {\n",
       "            event.step = 1;\n",
       "        } else {\n",
       "            event.step = -1;\n",
       "        }\n",
       "        mouse_event_fn(event);\n",
       "    });\n",
       "\n",
       "    canvas_div.append(canvas);\n",
       "    canvas_div.append(rubberband);\n",
       "\n",
       "    this.rubberband = rubberband;\n",
       "    this.rubberband_canvas = rubberband[0];\n",
       "    this.rubberband_context = rubberband[0].getContext(\"2d\");\n",
       "    this.rubberband_context.strokeStyle = \"#000000\";\n",
       "\n",
       "    this._resize_canvas = function(width, height) {\n",
       "        // Keep the size of the canvas, canvas container, and rubber band\n",
       "        // canvas in synch.\n",
       "        canvas_div.css('width', width)\n",
       "        canvas_div.css('height', height)\n",
       "\n",
       "        canvas.attr('width', width * mpl.ratio);\n",
       "        canvas.attr('height', height * mpl.ratio);\n",
       "        canvas.attr('style', 'width: ' + width + 'px; height: ' + height + 'px;');\n",
       "\n",
       "        rubberband.attr('width', width);\n",
       "        rubberband.attr('height', height);\n",
       "    }\n",
       "\n",
       "    // Set the figure to an initial 600x600px, this will subsequently be updated\n",
       "    // upon first draw.\n",
       "    this._resize_canvas(600, 600);\n",
       "\n",
       "    // Disable right mouse context menu.\n",
       "    $(this.rubberband_canvas).bind(\"contextmenu\",function(e){\n",
       "        return false;\n",
       "    });\n",
       "\n",
       "    function set_focus () {\n",
       "        canvas.focus();\n",
       "        canvas_div.focus();\n",
       "    }\n",
       "\n",
       "    window.setTimeout(set_focus, 100);\n",
       "}\n",
       "\n",
       "mpl.figure.prototype._init_toolbar = function() {\n",
       "    var fig = this;\n",
       "\n",
       "    var nav_element = $('<div/>')\n",
       "    nav_element.attr('style', 'width: 100%');\n",
       "    this.root.append(nav_element);\n",
       "\n",
       "    // Define a callback function for later on.\n",
       "    function toolbar_event(event) {\n",
       "        return fig.toolbar_button_onclick(event['data']);\n",
       "    }\n",
       "    function toolbar_mouse_event(event) {\n",
       "        return fig.toolbar_button_onmouseover(event['data']);\n",
       "    }\n",
       "\n",
       "    for(var toolbar_ind in mpl.toolbar_items) {\n",
       "        var name = mpl.toolbar_items[toolbar_ind][0];\n",
       "        var tooltip = mpl.toolbar_items[toolbar_ind][1];\n",
       "        var image = mpl.toolbar_items[toolbar_ind][2];\n",
       "        var method_name = mpl.toolbar_items[toolbar_ind][3];\n",
       "\n",
       "        if (!name) {\n",
       "            // put a spacer in here.\n",
       "            continue;\n",
       "        }\n",
       "        var button = $('<button/>');\n",
       "        button.addClass('ui-button ui-widget ui-state-default ui-corner-all ' +\n",
       "                        'ui-button-icon-only');\n",
       "        button.attr('role', 'button');\n",
       "        button.attr('aria-disabled', 'false');\n",
       "        button.click(method_name, toolbar_event);\n",
       "        button.mouseover(tooltip, toolbar_mouse_event);\n",
       "\n",
       "        var icon_img = $('<span/>');\n",
       "        icon_img.addClass('ui-button-icon-primary ui-icon');\n",
       "        icon_img.addClass(image);\n",
       "        icon_img.addClass('ui-corner-all');\n",
       "\n",
       "        var tooltip_span = $('<span/>');\n",
       "        tooltip_span.addClass('ui-button-text');\n",
       "        tooltip_span.html(tooltip);\n",
       "\n",
       "        button.append(icon_img);\n",
       "        button.append(tooltip_span);\n",
       "\n",
       "        nav_element.append(button);\n",
       "    }\n",
       "\n",
       "    var fmt_picker_span = $('<span/>');\n",
       "\n",
       "    var fmt_picker = $('<select/>');\n",
       "    fmt_picker.addClass('mpl-toolbar-option ui-widget ui-widget-content');\n",
       "    fmt_picker_span.append(fmt_picker);\n",
       "    nav_element.append(fmt_picker_span);\n",
       "    this.format_dropdown = fmt_picker[0];\n",
       "\n",
       "    for (var ind in mpl.extensions) {\n",
       "        var fmt = mpl.extensions[ind];\n",
       "        var option = $(\n",
       "            '<option/>', {selected: fmt === mpl.default_extension}).html(fmt);\n",
       "        fmt_picker.append(option)\n",
       "    }\n",
       "\n",
       "    // Add hover states to the ui-buttons\n",
       "    $( \".ui-button\" ).hover(\n",
       "        function() { $(this).addClass(\"ui-state-hover\");},\n",
       "        function() { $(this).removeClass(\"ui-state-hover\");}\n",
       "    );\n",
       "\n",
       "    var status_bar = $('<span class=\"mpl-message\"/>');\n",
       "    nav_element.append(status_bar);\n",
       "    this.message = status_bar[0];\n",
       "}\n",
       "\n",
       "mpl.figure.prototype.request_resize = function(x_pixels, y_pixels) {\n",
       "    // Request matplotlib to resize the figure. Matplotlib will then trigger a resize in the client,\n",
       "    // which will in turn request a refresh of the image.\n",
       "    this.send_message('resize', {'width': x_pixels, 'height': y_pixels});\n",
       "}\n",
       "\n",
       "mpl.figure.prototype.send_message = function(type, properties) {\n",
       "    properties['type'] = type;\n",
       "    properties['figure_id'] = this.id;\n",
       "    this.ws.send(JSON.stringify(properties));\n",
       "}\n",
       "\n",
       "mpl.figure.prototype.send_draw_message = function() {\n",
       "    if (!this.waiting) {\n",
       "        this.waiting = true;\n",
       "        this.ws.send(JSON.stringify({type: \"draw\", figure_id: this.id}));\n",
       "    }\n",
       "}\n",
       "\n",
       "\n",
       "mpl.figure.prototype.handle_save = function(fig, msg) {\n",
       "    var format_dropdown = fig.format_dropdown;\n",
       "    var format = format_dropdown.options[format_dropdown.selectedIndex].value;\n",
       "    fig.ondownload(fig, format);\n",
       "}\n",
       "\n",
       "\n",
       "mpl.figure.prototype.handle_resize = function(fig, msg) {\n",
       "    var size = msg['size'];\n",
       "    if (size[0] != fig.canvas.width || size[1] != fig.canvas.height) {\n",
       "        fig._resize_canvas(size[0], size[1]);\n",
       "        fig.send_message(\"refresh\", {});\n",
       "    };\n",
       "}\n",
       "\n",
       "mpl.figure.prototype.handle_rubberband = function(fig, msg) {\n",
       "    var x0 = msg['x0'] / mpl.ratio;\n",
       "    var y0 = (fig.canvas.height - msg['y0']) / mpl.ratio;\n",
       "    var x1 = msg['x1'] / mpl.ratio;\n",
       "    var y1 = (fig.canvas.height - msg['y1']) / mpl.ratio;\n",
       "    x0 = Math.floor(x0) + 0.5;\n",
       "    y0 = Math.floor(y0) + 0.5;\n",
       "    x1 = Math.floor(x1) + 0.5;\n",
       "    y1 = Math.floor(y1) + 0.5;\n",
       "    var min_x = Math.min(x0, x1);\n",
       "    var min_y = Math.min(y0, y1);\n",
       "    var width = Math.abs(x1 - x0);\n",
       "    var height = Math.abs(y1 - y0);\n",
       "\n",
       "    fig.rubberband_context.clearRect(\n",
       "        0, 0, fig.canvas.width, fig.canvas.height);\n",
       "\n",
       "    fig.rubberband_context.strokeRect(min_x, min_y, width, height);\n",
       "}\n",
       "\n",
       "mpl.figure.prototype.handle_figure_label = function(fig, msg) {\n",
       "    // Updates the figure title.\n",
       "    fig.header.textContent = msg['label'];\n",
       "}\n",
       "\n",
       "mpl.figure.prototype.handle_cursor = function(fig, msg) {\n",
       "    var cursor = msg['cursor'];\n",
       "    switch(cursor)\n",
       "    {\n",
       "    case 0:\n",
       "        cursor = 'pointer';\n",
       "        break;\n",
       "    case 1:\n",
       "        cursor = 'default';\n",
       "        break;\n",
       "    case 2:\n",
       "        cursor = 'crosshair';\n",
       "        break;\n",
       "    case 3:\n",
       "        cursor = 'move';\n",
       "        break;\n",
       "    }\n",
       "    fig.rubberband_canvas.style.cursor = cursor;\n",
       "}\n",
       "\n",
       "mpl.figure.prototype.handle_message = function(fig, msg) {\n",
       "    fig.message.textContent = msg['message'];\n",
       "}\n",
       "\n",
       "mpl.figure.prototype.handle_draw = function(fig, msg) {\n",
       "    // Request the server to send over a new figure.\n",
       "    fig.send_draw_message();\n",
       "}\n",
       "\n",
       "mpl.figure.prototype.handle_image_mode = function(fig, msg) {\n",
       "    fig.image_mode = msg['mode'];\n",
       "}\n",
       "\n",
       "mpl.figure.prototype.updated_canvas_event = function() {\n",
       "    // Called whenever the canvas gets updated.\n",
       "    this.send_message(\"ack\", {});\n",
       "}\n",
       "\n",
       "// A function to construct a web socket function for onmessage handling.\n",
       "// Called in the figure constructor.\n",
       "mpl.figure.prototype._make_on_message_function = function(fig) {\n",
       "    return function socket_on_message(evt) {\n",
       "        if (evt.data instanceof Blob) {\n",
       "            /* FIXME: We get \"Resource interpreted as Image but\n",
       "             * transferred with MIME type text/plain:\" errors on\n",
       "             * Chrome.  But how to set the MIME type?  It doesn't seem\n",
       "             * to be part of the websocket stream */\n",
       "            evt.data.type = \"image/png\";\n",
       "\n",
       "            /* Free the memory for the previous frames */\n",
       "            if (fig.imageObj.src) {\n",
       "                (window.URL || window.webkitURL).revokeObjectURL(\n",
       "                    fig.imageObj.src);\n",
       "            }\n",
       "\n",
       "            fig.imageObj.src = (window.URL || window.webkitURL).createObjectURL(\n",
       "                evt.data);\n",
       "            fig.updated_canvas_event();\n",
       "            fig.waiting = false;\n",
       "            return;\n",
       "        }\n",
       "        else if (typeof evt.data === 'string' && evt.data.slice(0, 21) == \"data:image/png;base64\") {\n",
       "            fig.imageObj.src = evt.data;\n",
       "            fig.updated_canvas_event();\n",
       "            fig.waiting = false;\n",
       "            return;\n",
       "        }\n",
       "\n",
       "        var msg = JSON.parse(evt.data);\n",
       "        var msg_type = msg['type'];\n",
       "\n",
       "        // Call the  \"handle_{type}\" callback, which takes\n",
       "        // the figure and JSON message as its only arguments.\n",
       "        try {\n",
       "            var callback = fig[\"handle_\" + msg_type];\n",
       "        } catch (e) {\n",
       "            console.log(\"No handler for the '\" + msg_type + \"' message type: \", msg);\n",
       "            return;\n",
       "        }\n",
       "\n",
       "        if (callback) {\n",
       "            try {\n",
       "                // console.log(\"Handling '\" + msg_type + \"' message: \", msg);\n",
       "                callback(fig, msg);\n",
       "            } catch (e) {\n",
       "                console.log(\"Exception inside the 'handler_\" + msg_type + \"' callback:\", e, e.stack, msg);\n",
       "            }\n",
       "        }\n",
       "    };\n",
       "}\n",
       "\n",
       "// from http://stackoverflow.com/questions/1114465/getting-mouse-location-in-canvas\n",
       "mpl.findpos = function(e) {\n",
       "    //this section is from http://www.quirksmode.org/js/events_properties.html\n",
       "    var targ;\n",
       "    if (!e)\n",
       "        e = window.event;\n",
       "    if (e.target)\n",
       "        targ = e.target;\n",
       "    else if (e.srcElement)\n",
       "        targ = e.srcElement;\n",
       "    if (targ.nodeType == 3) // defeat Safari bug\n",
       "        targ = targ.parentNode;\n",
       "\n",
       "    // jQuery normalizes the pageX and pageY\n",
       "    // pageX,Y are the mouse positions relative to the document\n",
       "    // offset() returns the position of the element relative to the document\n",
       "    var x = e.pageX - $(targ).offset().left;\n",
       "    var y = e.pageY - $(targ).offset().top;\n",
       "\n",
       "    return {\"x\": x, \"y\": y};\n",
       "};\n",
       "\n",
       "/*\n",
       " * return a copy of an object with only non-object keys\n",
       " * we need this to avoid circular references\n",
       " * http://stackoverflow.com/a/24161582/3208463\n",
       " */\n",
       "function simpleKeys (original) {\n",
       "  return Object.keys(original).reduce(function (obj, key) {\n",
       "    if (typeof original[key] !== 'object')\n",
       "        obj[key] = original[key]\n",
       "    return obj;\n",
       "  }, {});\n",
       "}\n",
       "\n",
       "mpl.figure.prototype.mouse_event = function(event, name) {\n",
       "    var canvas_pos = mpl.findpos(event)\n",
       "\n",
       "    if (name === 'button_press')\n",
       "    {\n",
       "        this.canvas.focus();\n",
       "        this.canvas_div.focus();\n",
       "    }\n",
       "\n",
       "    var x = canvas_pos.x * mpl.ratio;\n",
       "    var y = canvas_pos.y * mpl.ratio;\n",
       "\n",
       "    this.send_message(name, {x: x, y: y, button: event.button,\n",
       "                             step: event.step,\n",
       "                             guiEvent: simpleKeys(event)});\n",
       "\n",
       "    /* This prevents the web browser from automatically changing to\n",
       "     * the text insertion cursor when the button is pressed.  We want\n",
       "     * to control all of the cursor setting manually through the\n",
       "     * 'cursor' event from matplotlib */\n",
       "    event.preventDefault();\n",
       "    return false;\n",
       "}\n",
       "\n",
       "mpl.figure.prototype._key_event_extra = function(event, name) {\n",
       "    // Handle any extra behaviour associated with a key event\n",
       "}\n",
       "\n",
       "mpl.figure.prototype.key_event = function(event, name) {\n",
       "\n",
       "    // Prevent repeat events\n",
       "    if (name == 'key_press')\n",
       "    {\n",
       "        if (event.which === this._key)\n",
       "            return;\n",
       "        else\n",
       "            this._key = event.which;\n",
       "    }\n",
       "    if (name == 'key_release')\n",
       "        this._key = null;\n",
       "\n",
       "    var value = '';\n",
       "    if (event.ctrlKey && event.which != 17)\n",
       "        value += \"ctrl+\";\n",
       "    if (event.altKey && event.which != 18)\n",
       "        value += \"alt+\";\n",
       "    if (event.shiftKey && event.which != 16)\n",
       "        value += \"shift+\";\n",
       "\n",
       "    value += 'k';\n",
       "    value += event.which.toString();\n",
       "\n",
       "    this._key_event_extra(event, name);\n",
       "\n",
       "    this.send_message(name, {key: value,\n",
       "                             guiEvent: simpleKeys(event)});\n",
       "    return false;\n",
       "}\n",
       "\n",
       "mpl.figure.prototype.toolbar_button_onclick = function(name) {\n",
       "    if (name == 'download') {\n",
       "        this.handle_save(this, null);\n",
       "    } else {\n",
       "        this.send_message(\"toolbar_button\", {name: name});\n",
       "    }\n",
       "};\n",
       "\n",
       "mpl.figure.prototype.toolbar_button_onmouseover = function(tooltip) {\n",
       "    this.message.textContent = tooltip;\n",
       "};\n",
       "mpl.toolbar_items = [[\"Home\", \"Reset original view\", \"fa fa-home icon-home\", \"home\"], [\"Back\", \"Back to  previous view\", \"fa fa-arrow-left icon-arrow-left\", \"back\"], [\"Forward\", \"Forward to next view\", \"fa fa-arrow-right icon-arrow-right\", \"forward\"], [\"\", \"\", \"\", \"\"], [\"Pan\", \"Pan axes with left mouse, zoom with right\", \"fa fa-arrows icon-move\", \"pan\"], [\"Zoom\", \"Zoom to rectangle\", \"fa fa-square-o icon-check-empty\", \"zoom\"], [\"\", \"\", \"\", \"\"], [\"Download\", \"Download plot\", \"fa fa-floppy-o icon-save\", \"download\"]];\n",
       "\n",
       "mpl.extensions = [\"eps\", \"jpeg\", \"pdf\", \"png\", \"ps\", \"raw\", \"svg\", \"tif\"];\n",
       "\n",
       "mpl.default_extension = \"png\";var comm_websocket_adapter = function(comm) {\n",
       "    // Create a \"websocket\"-like object which calls the given IPython comm\n",
       "    // object with the appropriate methods. Currently this is a non binary\n",
       "    // socket, so there is still some room for performance tuning.\n",
       "    var ws = {};\n",
       "\n",
       "    ws.close = function() {\n",
       "        comm.close()\n",
       "    };\n",
       "    ws.send = function(m) {\n",
       "        //console.log('sending', m);\n",
       "        comm.send(m);\n",
       "    };\n",
       "    // Register the callback with on_msg.\n",
       "    comm.on_msg(function(msg) {\n",
       "        //console.log('receiving', msg['content']['data'], msg);\n",
       "        // Pass the mpl event to the overridden (by mpl) onmessage function.\n",
       "        ws.onmessage(msg['content']['data'])\n",
       "    });\n",
       "    return ws;\n",
       "}\n",
       "\n",
       "mpl.mpl_figure_comm = function(comm, msg) {\n",
       "    // This is the function which gets called when the mpl process\n",
       "    // starts-up an IPython Comm through the \"matplotlib\" channel.\n",
       "\n",
       "    var id = msg.content.data.id;\n",
       "    // Get hold of the div created by the display call when the Comm\n",
       "    // socket was opened in Python.\n",
       "    var element = $(\"#\" + id);\n",
       "    var ws_proxy = comm_websocket_adapter(comm)\n",
       "\n",
       "    function ondownload(figure, format) {\n",
       "        window.open(figure.imageObj.src);\n",
       "    }\n",
       "\n",
       "    var fig = new mpl.figure(id, ws_proxy,\n",
       "                           ondownload,\n",
       "                           element.get(0));\n",
       "\n",
       "    // Call onopen now - mpl needs it, as it is assuming we've passed it a real\n",
       "    // web socket which is closed, not our websocket->open comm proxy.\n",
       "    ws_proxy.onopen();\n",
       "\n",
       "    fig.parent_element = element.get(0);\n",
       "    fig.cell_info = mpl.find_output_cell(\"<div id='\" + id + \"'></div>\");\n",
       "    if (!fig.cell_info) {\n",
       "        console.error(\"Failed to find cell for figure\", id, fig);\n",
       "        return;\n",
       "    }\n",
       "\n",
       "    var output_index = fig.cell_info[2]\n",
       "    var cell = fig.cell_info[0];\n",
       "\n",
       "};\n",
       "\n",
       "mpl.figure.prototype.handle_close = function(fig, msg) {\n",
       "    var width = fig.canvas.width/mpl.ratio\n",
       "    fig.root.unbind('remove')\n",
       "\n",
       "    // Update the output cell to use the data from the current canvas.\n",
       "    fig.push_to_output();\n",
       "    var dataURL = fig.canvas.toDataURL();\n",
       "    // Re-enable the keyboard manager in IPython - without this line, in FF,\n",
       "    // the notebook keyboard shortcuts fail.\n",
       "    IPython.keyboard_manager.enable()\n",
       "    $(fig.parent_element).html('<img src=\"' + dataURL + '\" width=\"' + width + '\">');\n",
       "    fig.close_ws(fig, msg);\n",
       "}\n",
       "\n",
       "mpl.figure.prototype.close_ws = function(fig, msg){\n",
       "    fig.send_message('closing', msg);\n",
       "    // fig.ws.close()\n",
       "}\n",
       "\n",
       "mpl.figure.prototype.push_to_output = function(remove_interactive) {\n",
       "    // Turn the data on the canvas into data in the output cell.\n",
       "    var width = this.canvas.width/mpl.ratio\n",
       "    var dataURL = this.canvas.toDataURL();\n",
       "    this.cell_info[1]['text/html'] = '<img src=\"' + dataURL + '\" width=\"' + width + '\">';\n",
       "}\n",
       "\n",
       "mpl.figure.prototype.updated_canvas_event = function() {\n",
       "    // Tell IPython that the notebook contents must change.\n",
       "    IPython.notebook.set_dirty(true);\n",
       "    this.send_message(\"ack\", {});\n",
       "    var fig = this;\n",
       "    // Wait a second, then push the new image to the DOM so\n",
       "    // that it is saved nicely (might be nice to debounce this).\n",
       "    setTimeout(function () { fig.push_to_output() }, 1000);\n",
       "}\n",
       "\n",
       "mpl.figure.prototype._init_toolbar = function() {\n",
       "    var fig = this;\n",
       "\n",
       "    var nav_element = $('<div/>')\n",
       "    nav_element.attr('style', 'width: 100%');\n",
       "    this.root.append(nav_element);\n",
       "\n",
       "    // Define a callback function for later on.\n",
       "    function toolbar_event(event) {\n",
       "        return fig.toolbar_button_onclick(event['data']);\n",
       "    }\n",
       "    function toolbar_mouse_event(event) {\n",
       "        return fig.toolbar_button_onmouseover(event['data']);\n",
       "    }\n",
       "\n",
       "    for(var toolbar_ind in mpl.toolbar_items){\n",
       "        var name = mpl.toolbar_items[toolbar_ind][0];\n",
       "        var tooltip = mpl.toolbar_items[toolbar_ind][1];\n",
       "        var image = mpl.toolbar_items[toolbar_ind][2];\n",
       "        var method_name = mpl.toolbar_items[toolbar_ind][3];\n",
       "\n",
       "        if (!name) { continue; };\n",
       "\n",
       "        var button = $('<button class=\"btn btn-default\" href=\"#\" title=\"' + name + '\"><i class=\"fa ' + image + ' fa-lg\"></i></button>');\n",
       "        button.click(method_name, toolbar_event);\n",
       "        button.mouseover(tooltip, toolbar_mouse_event);\n",
       "        nav_element.append(button);\n",
       "    }\n",
       "\n",
       "    // Add the status bar.\n",
       "    var status_bar = $('<span class=\"mpl-message\" style=\"text-align:right; float: right;\"/>');\n",
       "    nav_element.append(status_bar);\n",
       "    this.message = status_bar[0];\n",
       "\n",
       "    // Add the close button to the window.\n",
       "    var buttongrp = $('<div class=\"btn-group inline pull-right\"></div>');\n",
       "    var button = $('<button class=\"btn btn-mini btn-primary\" href=\"#\" title=\"Stop Interaction\"><i class=\"fa fa-power-off icon-remove icon-large\"></i></button>');\n",
       "    button.click(function (evt) { fig.handle_close(fig, {}); } );\n",
       "    button.mouseover('Stop Interaction', toolbar_mouse_event);\n",
       "    buttongrp.append(button);\n",
       "    var titlebar = this.root.find($('.ui-dialog-titlebar'));\n",
       "    titlebar.prepend(buttongrp);\n",
       "}\n",
       "\n",
       "mpl.figure.prototype._root_extra_style = function(el){\n",
       "    var fig = this\n",
       "    el.on(\"remove\", function(){\n",
       "\tfig.close_ws(fig, {});\n",
       "    });\n",
       "}\n",
       "\n",
       "mpl.figure.prototype._canvas_extra_style = function(el){\n",
       "    // this is important to make the div 'focusable\n",
       "    el.attr('tabindex', 0)\n",
       "    // reach out to IPython and tell the keyboard manager to turn it's self\n",
       "    // off when our div gets focus\n",
       "\n",
       "    // location in version 3\n",
       "    if (IPython.notebook.keyboard_manager) {\n",
       "        IPython.notebook.keyboard_manager.register_events(el);\n",
       "    }\n",
       "    else {\n",
       "        // location in version 2\n",
       "        IPython.keyboard_manager.register_events(el);\n",
       "    }\n",
       "\n",
       "}\n",
       "\n",
       "mpl.figure.prototype._key_event_extra = function(event, name) {\n",
       "    var manager = IPython.notebook.keyboard_manager;\n",
       "    if (!manager)\n",
       "        manager = IPython.keyboard_manager;\n",
       "\n",
       "    // Check for shift+enter\n",
       "    if (event.shiftKey && event.which == 13) {\n",
       "        this.canvas_div.blur();\n",
       "        event.shiftKey = false;\n",
       "        // Send a \"J\" for go to next cell\n",
       "        event.which = 74;\n",
       "        event.keyCode = 74;\n",
       "        manager.command_mode();\n",
       "        manager.handle_keydown(event);\n",
       "    }\n",
       "}\n",
       "\n",
       "mpl.figure.prototype.handle_save = function(fig, msg) {\n",
       "    fig.ondownload(fig, null);\n",
       "}\n",
       "\n",
       "\n",
       "mpl.find_output_cell = function(html_output) {\n",
       "    // Return the cell and output element which can be found *uniquely* in the notebook.\n",
       "    // Note - this is a bit hacky, but it is done because the \"notebook_saving.Notebook\"\n",
       "    // IPython event is triggered only after the cells have been serialised, which for\n",
       "    // our purposes (turning an active figure into a static one), is too late.\n",
       "    var cells = IPython.notebook.get_cells();\n",
       "    var ncells = cells.length;\n",
       "    for (var i=0; i<ncells; i++) {\n",
       "        var cell = cells[i];\n",
       "        if (cell.cell_type === 'code'){\n",
       "            for (var j=0; j<cell.output_area.outputs.length; j++) {\n",
       "                var data = cell.output_area.outputs[j];\n",
       "                if (data.data) {\n",
       "                    // IPython >= 3 moved mimebundle to data attribute of output\n",
       "                    data = data.data;\n",
       "                }\n",
       "                if (data['text/html'] == html_output) {\n",
       "                    return [cell, data, j];\n",
       "                }\n",
       "            }\n",
       "        }\n",
       "    }\n",
       "}\n",
       "\n",
       "// Register the function which deals with the matplotlib target/channel.\n",
       "// The kernel may be null if the page has been refreshed.\n",
       "if (IPython.notebook.kernel != null) {\n",
       "    IPython.notebook.kernel.comm_manager.register_target('matplotlib', mpl.mpl_figure_comm);\n",
       "}\n"
      ],
      "text/plain": [
       "<IPython.core.display.Javascript object>"
      ]
     },
     "metadata": {},
     "output_type": "display_data"
    },
    {
     "data": {
      "text/html": [
       "<img src=\"data:image/png;base64,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\" width=\"432\">"
      ],
      "text/plain": [
       "<IPython.core.display.HTML object>"
      ]
     },
     "metadata": {},
     "output_type": "display_data"
    },
    {
     "name": "stdout",
     "output_type": "stream",
     "text": [
      "Epoch 1/100\n",
      "1000/1000 [==============================] - 34s 34ms/step - loss: 0.0324 - val_loss: 0.0412\n",
      "Epoch 2/100\n",
      "1000/1000 [==============================] - 31s 31ms/step - loss: 0.0291 - val_loss: 0.0326\n",
      "Epoch 3/100\n",
      " 264/1000 [======>.......................] - ETA: 20s - loss: 0.0409"
     ]
    },
    {
     "ename": "KeyboardInterrupt",
     "evalue": "",
     "output_type": "error",
     "traceback": [
      "\u001b[0;31m---------------------------------------------------------------------------\u001b[0m",
      "\u001b[0;31mKeyboardInterrupt\u001b[0m                         Traceback (most recent call last)",
      "\u001b[0;32m<timed exec>\u001b[0m in \u001b[0;36m<module>\u001b[0;34m\u001b[0m\n",
      "\u001b[0;32m/usr/local/lib/python3.7/site-packages/keras/engine/training.py\u001b[0m in \u001b[0;36mfit\u001b[0;34m(self, x, y, batch_size, epochs, verbose, callbacks, validation_split, validation_data, shuffle, class_weight, sample_weight, initial_epoch, steps_per_epoch, validation_steps, **kwargs)\u001b[0m\n\u001b[1;32m   1037\u001b[0m                                         \u001b[0minitial_epoch\u001b[0m\u001b[0;34m=\u001b[0m\u001b[0minitial_epoch\u001b[0m\u001b[0;34m,\u001b[0m\u001b[0;34m\u001b[0m\u001b[0;34m\u001b[0m\u001b[0m\n\u001b[1;32m   1038\u001b[0m                                         \u001b[0msteps_per_epoch\u001b[0m\u001b[0;34m=\u001b[0m\u001b[0msteps_per_epoch\u001b[0m\u001b[0;34m,\u001b[0m\u001b[0;34m\u001b[0m\u001b[0;34m\u001b[0m\u001b[0m\n\u001b[0;32m-> 1039\u001b[0;31m                                         validation_steps=validation_steps)\n\u001b[0m\u001b[1;32m   1040\u001b[0m \u001b[0;34m\u001b[0m\u001b[0m\n\u001b[1;32m   1041\u001b[0m     def evaluate(self, x=None, y=None,\n",
      "\u001b[0;32m/usr/local/lib/python3.7/site-packages/keras/engine/training_arrays.py\u001b[0m in \u001b[0;36mfit_loop\u001b[0;34m(model, f, ins, out_labels, batch_size, epochs, verbose, callbacks, val_f, val_ins, shuffle, callback_metrics, initial_epoch, steps_per_epoch, validation_steps)\u001b[0m\n\u001b[1;32m    197\u001b[0m                     \u001b[0mins_batch\u001b[0m\u001b[0;34m[\u001b[0m\u001b[0mi\u001b[0m\u001b[0;34m]\u001b[0m \u001b[0;34m=\u001b[0m \u001b[0mins_batch\u001b[0m\u001b[0;34m[\u001b[0m\u001b[0mi\u001b[0m\u001b[0;34m]\u001b[0m\u001b[0;34m.\u001b[0m\u001b[0mtoarray\u001b[0m\u001b[0;34m(\u001b[0m\u001b[0;34m)\u001b[0m\u001b[0;34m\u001b[0m\u001b[0;34m\u001b[0m\u001b[0m\n\u001b[1;32m    198\u001b[0m \u001b[0;34m\u001b[0m\u001b[0m\n\u001b[0;32m--> 199\u001b[0;31m                 \u001b[0mouts\u001b[0m \u001b[0;34m=\u001b[0m \u001b[0mf\u001b[0m\u001b[0;34m(\u001b[0m\u001b[0mins_batch\u001b[0m\u001b[0;34m)\u001b[0m\u001b[0;34m\u001b[0m\u001b[0;34m\u001b[0m\u001b[0m\n\u001b[0m\u001b[1;32m    200\u001b[0m                 \u001b[0mouts\u001b[0m \u001b[0;34m=\u001b[0m \u001b[0mto_list\u001b[0m\u001b[0;34m(\u001b[0m\u001b[0mouts\u001b[0m\u001b[0;34m)\u001b[0m\u001b[0;34m\u001b[0m\u001b[0;34m\u001b[0m\u001b[0m\n\u001b[1;32m    201\u001b[0m                 \u001b[0;32mfor\u001b[0m \u001b[0ml\u001b[0m\u001b[0;34m,\u001b[0m \u001b[0mo\u001b[0m \u001b[0;32min\u001b[0m \u001b[0mzip\u001b[0m\u001b[0;34m(\u001b[0m\u001b[0mout_labels\u001b[0m\u001b[0;34m,\u001b[0m \u001b[0mouts\u001b[0m\u001b[0;34m)\u001b[0m\u001b[0;34m:\u001b[0m\u001b[0;34m\u001b[0m\u001b[0;34m\u001b[0m\u001b[0m\n",
      "\u001b[0;32m/usr/local/lib/python3.7/site-packages/keras/backend/tensorflow_backend.py\u001b[0m in \u001b[0;36m__call__\u001b[0;34m(self, inputs)\u001b[0m\n\u001b[1;32m   2713\u001b[0m                 \u001b[0;32mreturn\u001b[0m \u001b[0mself\u001b[0m\u001b[0;34m.\u001b[0m\u001b[0m_legacy_call\u001b[0m\u001b[0;34m(\u001b[0m\u001b[0minputs\u001b[0m\u001b[0;34m)\u001b[0m\u001b[0;34m\u001b[0m\u001b[0;34m\u001b[0m\u001b[0m\n\u001b[1;32m   2714\u001b[0m \u001b[0;34m\u001b[0m\u001b[0m\n\u001b[0;32m-> 2715\u001b[0;31m             \u001b[0;32mreturn\u001b[0m \u001b[0mself\u001b[0m\u001b[0;34m.\u001b[0m\u001b[0m_call\u001b[0m\u001b[0;34m(\u001b[0m\u001b[0minputs\u001b[0m\u001b[0;34m)\u001b[0m\u001b[0;34m\u001b[0m\u001b[0;34m\u001b[0m\u001b[0m\n\u001b[0m\u001b[1;32m   2716\u001b[0m         \u001b[0;32melse\u001b[0m\u001b[0;34m:\u001b[0m\u001b[0;34m\u001b[0m\u001b[0;34m\u001b[0m\u001b[0m\n\u001b[1;32m   2717\u001b[0m             \u001b[0;32mif\u001b[0m \u001b[0mpy_any\u001b[0m\u001b[0;34m(\u001b[0m\u001b[0mis_tensor\u001b[0m\u001b[0;34m(\u001b[0m\u001b[0mx\u001b[0m\u001b[0;34m)\u001b[0m \u001b[0;32mfor\u001b[0m \u001b[0mx\u001b[0m \u001b[0;32min\u001b[0m \u001b[0minputs\u001b[0m\u001b[0;34m)\u001b[0m\u001b[0;34m:\u001b[0m\u001b[0;34m\u001b[0m\u001b[0;34m\u001b[0m\u001b[0m\n",
      "\u001b[0;32m/usr/local/lib/python3.7/site-packages/keras/backend/tensorflow_backend.py\u001b[0m in \u001b[0;36m_call\u001b[0;34m(self, inputs)\u001b[0m\n\u001b[1;32m   2673\u001b[0m             \u001b[0mfetched\u001b[0m \u001b[0;34m=\u001b[0m \u001b[0mself\u001b[0m\u001b[0;34m.\u001b[0m\u001b[0m_callable_fn\u001b[0m\u001b[0;34m(\u001b[0m\u001b[0;34m*\u001b[0m\u001b[0marray_vals\u001b[0m\u001b[0;34m,\u001b[0m \u001b[0mrun_metadata\u001b[0m\u001b[0;34m=\u001b[0m\u001b[0mself\u001b[0m\u001b[0;34m.\u001b[0m\u001b[0mrun_metadata\u001b[0m\u001b[0;34m)\u001b[0m\u001b[0;34m\u001b[0m\u001b[0;34m\u001b[0m\u001b[0m\n\u001b[1;32m   2674\u001b[0m         \u001b[0;32melse\u001b[0m\u001b[0;34m:\u001b[0m\u001b[0;34m\u001b[0m\u001b[0;34m\u001b[0m\u001b[0m\n\u001b[0;32m-> 2675\u001b[0;31m             \u001b[0mfetched\u001b[0m \u001b[0;34m=\u001b[0m \u001b[0mself\u001b[0m\u001b[0;34m.\u001b[0m\u001b[0m_callable_fn\u001b[0m\u001b[0;34m(\u001b[0m\u001b[0;34m*\u001b[0m\u001b[0marray_vals\u001b[0m\u001b[0;34m)\u001b[0m\u001b[0;34m\u001b[0m\u001b[0;34m\u001b[0m\u001b[0m\n\u001b[0m\u001b[1;32m   2676\u001b[0m         \u001b[0;32mreturn\u001b[0m \u001b[0mfetched\u001b[0m\u001b[0;34m[\u001b[0m\u001b[0;34m:\u001b[0m\u001b[0mlen\u001b[0m\u001b[0;34m(\u001b[0m\u001b[0mself\u001b[0m\u001b[0;34m.\u001b[0m\u001b[0moutputs\u001b[0m\u001b[0;34m)\u001b[0m\u001b[0;34m]\u001b[0m\u001b[0;34m\u001b[0m\u001b[0;34m\u001b[0m\u001b[0m\n\u001b[1;32m   2677\u001b[0m \u001b[0;34m\u001b[0m\u001b[0m\n",
      "\u001b[0;32m/usr/local/lib/python3.7/site-packages/tensorflow/python/client/session.py\u001b[0m in \u001b[0;36m__call__\u001b[0;34m(self, *args, **kwargs)\u001b[0m\n\u001b[1;32m   1437\u001b[0m           ret = tf_session.TF_SessionRunCallable(\n\u001b[1;32m   1438\u001b[0m               \u001b[0mself\u001b[0m\u001b[0;34m.\u001b[0m\u001b[0m_session\u001b[0m\u001b[0;34m.\u001b[0m\u001b[0m_session\u001b[0m\u001b[0;34m,\u001b[0m \u001b[0mself\u001b[0m\u001b[0;34m.\u001b[0m\u001b[0m_handle\u001b[0m\u001b[0;34m,\u001b[0m \u001b[0margs\u001b[0m\u001b[0;34m,\u001b[0m \u001b[0mstatus\u001b[0m\u001b[0;34m,\u001b[0m\u001b[0;34m\u001b[0m\u001b[0;34m\u001b[0m\u001b[0m\n\u001b[0;32m-> 1439\u001b[0;31m               run_metadata_ptr)\n\u001b[0m\u001b[1;32m   1440\u001b[0m         \u001b[0;32mif\u001b[0m \u001b[0mrun_metadata\u001b[0m\u001b[0;34m:\u001b[0m\u001b[0;34m\u001b[0m\u001b[0;34m\u001b[0m\u001b[0m\n\u001b[1;32m   1441\u001b[0m           \u001b[0mproto_data\u001b[0m \u001b[0;34m=\u001b[0m \u001b[0mtf_session\u001b[0m\u001b[0;34m.\u001b[0m\u001b[0mTF_GetBuffer\u001b[0m\u001b[0;34m(\u001b[0m\u001b[0mrun_metadata_ptr\u001b[0m\u001b[0;34m)\u001b[0m\u001b[0;34m\u001b[0m\u001b[0;34m\u001b[0m\u001b[0m\n",
      "\u001b[0;31mKeyboardInterrupt\u001b[0m: "
     ]
    }
   ],
   "source": [
    "%%time\n",
    "%matplotlib notebook\n",
    "\n",
    "# TRAIN\n",
    "\n",
    "# N_SAMPLES = 20000\n",
    "# N_SAMPLES = 8800\n",
    "# N_SAMPLES = 100\n",
    "\n",
    "es_cb = keras.callbacks.EarlyStopping(\n",
    "    monitor='val_loss',\n",
    "    min_delta=0.0001,\n",
    "    patience=4,\n",
    "    verbose=0,\n",
    "    mode='auto',\n",
    ")\n",
    "\n",
    "history = model.fit(\n",
    "#     X_tr_s[:N_SAMPLES],\n",
    "#     y_tr_s[:N_SAMPLES],\n",
    "    X_tr_s[:1000],\n",
    "    y_tr_s[:1000],\n",
    "    batch_size=BATCH_SIZE,\n",
    "    shuffle=False,\n",
    "#     epochs=400,\n",
    "    epochs=100,\n",
    "    verbose=1,\n",
    "    validation_data=(X_te_s[:400], y_te_s[:400]),\n",
    "    # validation_data=(X_te_s[:200], y_te_s[:200]),\n",
    "    # callbacks=[es_cb, test_model_cb, tensorboard_cb],\n",
    "    callbacks=[es_cb, test_model_cb],\n",
    ")\n"
   ]
  },
  {
   "cell_type": "code",
   "execution_count": 500,
   "metadata": {},
   "outputs": [
    {
     "name": "stdout",
     "output_type": "stream",
     "text": [
      "[array([[0.9610148 , 0.90371776, 1.1668121 , 1.0560107 , 1.0646862 ,\n",
      "        1.0175797 , 0.9265292 , 0.9469326 , 0.85840476, 0.9265448 ]],\n",
      "      dtype=float32), array([-0.00125339,  0.00311181, -0.00176163, -0.00419943, -0.0102162 ,\n",
      "       -0.00425761,  0.00450747, -0.00129743,  0.00343726,  0.00130588],\n",
      "      dtype=float32)]\n",
      "====================\n",
      "[array([[-3.64859402e-01,  2.70034283e-01, -1.43224612e-01,\n",
      "         2.73843203e-03, -3.26671243e-01,  1.08576171e-01,\n",
      "        -2.94480205e-01, -2.84240961e-01,  7.71064013e-02,\n",
      "         1.61920831e-01,  3.50670993e-01, -1.04607046e-01,\n",
      "        -2.73516446e-01,  3.34250003e-01,  3.27896595e-01,\n",
      "        -1.85980096e-01, -1.32494852e-01,  7.97929689e-02,\n",
      "        -2.49759048e-01, -2.35661477e-01, -1.70152143e-01,\n",
      "         4.79693562e-01, -5.69576360e-02,  2.63192534e-01,\n",
      "         1.39697999e-01, -1.42082289e-01, -2.19126165e-01,\n",
      "        -2.82648802e-01,  1.41136363e-01,  1.65651426e-01],\n",
      "       [-3.07506442e-01,  5.34477681e-02,  1.37296626e-02,\n",
      "         3.76471668e-01,  7.82304928e-02,  4.58801761e-02,\n",
      "         1.81986794e-01,  2.66388834e-01, -1.95996806e-01,\n",
      "        -3.25581729e-01,  1.80359587e-01,  2.77272135e-01,\n",
      "         1.69695672e-02, -1.50462463e-01, -3.14557165e-01,\n",
      "         1.35489911e-01, -3.16204935e-01,  2.74813443e-01,\n",
      "        -3.56930792e-01,  4.26455028e-02,  2.72322923e-01,\n",
      "        -1.08748749e-01, -2.02925771e-01,  1.45939037e-01,\n",
      "        -8.48336667e-02,  5.01802973e-02, -1.68120205e-01,\n",
      "        -1.02583550e-01,  1.04441822e-01, -2.78038114e-01],\n",
      "       [ 1.52899280e-01,  3.22899371e-01,  5.26299924e-02,\n",
      "        -2.05784753e-01,  2.16373101e-01,  1.40955612e-01,\n",
      "         1.09621033e-01, -2.34129176e-01,  1.59981042e-01,\n",
      "         2.11480677e-01,  1.88369706e-01,  1.41961306e-01,\n",
      "         3.45461249e-01, -1.86309814e-01, -5.71677499e-02,\n",
      "         9.68941450e-02, -3.62347364e-01,  8.70138630e-02,\n",
      "         2.03073040e-01, -3.03360581e-01, -1.55749219e-02,\n",
      "        -1.15024513e-02, -1.19031221e-01,  2.85455287e-01,\n",
      "        -2.01585323e-01,  3.01640511e-01, -1.37448281e-01,\n",
      "        -4.75945324e-02,  2.73437023e-01,  2.10574642e-01],\n",
      "       [-8.95143580e-03, -1.53814808e-01,  1.43454224e-01,\n",
      "         2.94281900e-01,  1.44828320e-01, -6.52970150e-02,\n",
      "         3.18829328e-01, -2.05548644e-01,  2.47880161e-01,\n",
      "         1.35941952e-01, -5.94450906e-02, -1.91555232e-01,\n",
      "        -1.49922907e-01,  1.89164847e-01,  2.75728732e-01,\n",
      "         3.16718280e-01,  2.12137938e-01, -7.71938115e-02,\n",
      "         5.10816500e-02,  1.58030421e-01,  3.32474053e-01,\n",
      "         2.15151563e-01, -3.16442907e-01,  1.37577549e-01,\n",
      "         1.24879405e-01,  3.94786805e-01, -3.19094926e-01,\n",
      "        -3.21815044e-01,  1.12908028e-01,  3.30573708e-01],\n",
      "       [ 1.34434268e-01,  3.14645171e-01, -2.16346547e-01,\n",
      "        -7.98861459e-02,  2.70991802e-01,  2.72448272e-01,\n",
      "         3.66880506e-01,  2.89450139e-01,  3.14497985e-02,\n",
      "        -3.54795486e-01,  1.74713969e-01,  1.47867754e-01,\n",
      "         7.47772381e-02, -2.94844806e-01,  3.95692229e-01,\n",
      "        -2.59263337e-01, -1.83957025e-01, -3.05327356e-01,\n",
      "        -2.99479067e-01,  2.05080107e-01, -7.45109096e-02,\n",
      "         3.58672380e-01,  1.35727510e-01,  2.88337678e-01,\n",
      "        -2.83621877e-01,  9.44017023e-02,  3.43010068e-01,\n",
      "         2.70154834e-01,  2.35001490e-01, -1.52757078e-01],\n",
      "       [-6.61088079e-02,  3.70249152e-01,  2.60897100e-01,\n",
      "         1.05734095e-01, -2.20467113e-02,  3.30546051e-01,\n",
      "        -3.33020926e-01,  1.89257935e-01, -9.53161791e-02,\n",
      "        -3.33593227e-02,  2.66221255e-01,  2.21955225e-01,\n",
      "         3.07436168e-01,  3.98633778e-01,  1.95886418e-01,\n",
      "         1.92306209e-02,  6.69213682e-02, -8.94045457e-02,\n",
      "         8.44869390e-03, -1.62541285e-01,  1.56449869e-01,\n",
      "        -4.72143367e-02, -1.73205122e-01, -2.75227070e-01,\n",
      "         2.19034806e-01,  9.88029987e-02,  3.15710843e-01,\n",
      "         2.39583522e-01,  4.06824984e-02,  7.11012185e-02],\n",
      "       [-1.17368147e-01,  2.07650751e-01,  6.02098741e-02,\n",
      "        -3.75881642e-02, -3.83278579e-01, -1.54857159e-01,\n",
      "        -7.53676519e-02,  1.72830179e-01, -2.85252780e-01,\n",
      "         3.93737137e-01,  2.95803308e-01,  1.47611067e-01,\n",
      "        -3.32968324e-01, -2.36814141e-01,  2.47163057e-01,\n",
      "        -3.13067645e-01,  1.48042023e-01,  2.85913497e-01,\n",
      "         1.66862622e-01, -1.35911971e-01,  8.67797136e-02,\n",
      "        -3.26996773e-01, -1.27380267e-01,  3.89803946e-02,\n",
      "         3.65013242e-01, -2.87051797e-01,  2.07903251e-01,\n",
      "        -3.32817957e-02,  1.28833741e-01, -1.88336536e-01],\n",
      "       [ 8.21434185e-02, -1.54589504e-01, -3.09815586e-01,\n",
      "         1.69995666e-01,  2.40384489e-01, -4.39637184e-01,\n",
      "         2.27029532e-01, -3.51525515e-01, -2.76605815e-01,\n",
      "        -2.29587555e-01,  3.13977063e-01, -2.75653452e-01,\n",
      "        -1.27960652e-01,  2.70799279e-01, -6.81703389e-02,\n",
      "         3.51115584e-01,  2.71813542e-01,  4.39519018e-01,\n",
      "        -2.07757071e-01,  1.40963882e-01,  3.86026114e-01,\n",
      "         3.23093116e-01, -5.12096696e-02, -1.49484232e-01,\n",
      "         1.77060246e-01, -3.10355067e-01, -3.26958716e-01,\n",
      "        -1.91148460e-01, -3.28478545e-01,  2.79940903e-01],\n",
      "       [-4.09482479e-01,  2.83900321e-01, -3.21679831e-01,\n",
      "        -2.62596637e-01,  1.42460123e-01,  4.19416055e-02,\n",
      "        -4.00342345e-02, -2.43254304e-01,  2.58993119e-01,\n",
      "        -2.99541671e-02,  1.01261511e-01,  1.05054311e-01,\n",
      "         2.77388602e-01,  3.25851083e-01, -1.20891981e-01,\n",
      "        -3.88894022e-01,  3.56987268e-02, -2.55616218e-01,\n",
      "        -8.27226639e-02, -7.93608725e-02,  6.29385188e-02,\n",
      "        -9.24556181e-02, -1.89865559e-01, -4.20914330e-02,\n",
      "         5.31383678e-02, -9.72273573e-02, -9.61399153e-02,\n",
      "         3.67095888e-01, -1.57486647e-02, -2.26950496e-01],\n",
      "       [ 3.14606339e-01,  3.51470828e-01,  3.44495535e-01,\n",
      "        -8.30954305e-05,  1.49481103e-01,  1.47748992e-01,\n",
      "        -7.89475068e-02, -2.97601342e-01,  3.56827378e-01,\n",
      "        -1.44564465e-01, -3.70018989e-01,  3.53131354e-01,\n",
      "         3.17987800e-01, -2.04605088e-01, -3.06788713e-01,\n",
      "        -3.77925336e-01,  3.26406121e-01, -6.92046657e-02,\n",
      "        -3.54226857e-01,  2.15988308e-01,  2.65288204e-01,\n",
      "         4.29021001e-01, -2.36823559e-01,  2.18215540e-01,\n",
      "        -1.01864517e-01, -2.19762161e-01,  4.82622385e-02,\n",
      "        -1.28511161e-01, -2.47667238e-01, -1.70152724e-01]], dtype=float32), array([[-2.85635684e-02, -4.41018119e-02,  5.34154102e-02,\n",
      "         3.41003776e-01,  8.39612037e-02, -1.66491345e-01,\n",
      "         2.15518042e-01, -2.02612430e-01,  2.19392240e-01,\n",
      "         1.17128715e-01, -3.22257102e-01,  2.29991630e-01,\n",
      "        -5.95941357e-02,  1.83795244e-01, -2.24726990e-01,\n",
      "         8.58467668e-02,  3.10353395e-02,  5.16504347e-02,\n",
      "         2.11676434e-01, -9.33481455e-02, -1.11178659e-01,\n",
      "        -2.48231962e-01, -8.95122439e-02,  1.41280979e-01,\n",
      "         1.67630494e-01,  1.32990956e-01,  2.05567002e-01,\n",
      "         8.96377042e-02, -1.04125421e-02,  2.07732290e-01],\n",
      "       [-2.01739192e-01,  1.63231820e-01, -1.44936815e-01,\n",
      "         1.61977485e-01, -3.37748408e-01,  1.28532857e-01,\n",
      "         1.15483865e-01,  1.20077655e-01, -1.80100232e-01,\n",
      "        -1.11591831e-01, -7.69132450e-02, -5.17162532e-02,\n",
      "        -2.08474532e-01,  2.93329626e-01,  3.56162280e-01,\n",
      "         9.69940722e-02, -3.95307690e-03,  6.30558878e-02,\n",
      "         3.15142393e-01, -1.47809580e-01, -5.07233620e-01,\n",
      "        -2.24112168e-01,  8.96581560e-02,  8.52325410e-02,\n",
      "        -2.26183563e-01, -2.21036952e-02,  6.85888007e-02,\n",
      "        -1.75457850e-01, -3.61964166e-01, -1.55828401e-01],\n",
      "       [ 1.77569583e-01,  6.49185419e-01, -1.20616019e-01,\n",
      "        -2.52566963e-01,  2.11445957e-01,  1.03423998e-01,\n",
      "         5.26417838e-03, -7.07378164e-02, -2.47703642e-02,\n",
      "         1.24988027e-01, -1.11875236e-01, -1.04313493e-01,\n",
      "         2.20995992e-01, -1.52443096e-01,  5.76110035e-02,\n",
      "         1.35770231e-01,  3.51180919e-02,  1.38336942e-01,\n",
      "        -2.46100292e-01, -2.62962162e-01,  5.09836823e-02,\n",
      "        -1.60717443e-01, -2.21203268e-01, -3.82501706e-02,\n",
      "        -1.60519525e-01,  2.39096180e-01,  8.40104967e-02,\n",
      "        -1.73249066e-01, -1.51082769e-01,  1.19674392e-02],\n",
      "       [-1.35702506e-01,  7.15472102e-02, -2.83995926e-01,\n",
      "         8.55154842e-02,  6.80719465e-02, -4.79005873e-02,\n",
      "         7.92188421e-02, -1.64903507e-01, -2.70422131e-01,\n",
      "        -2.29010925e-01, -1.87976122e-01,  4.05613720e-01,\n",
      "        -1.03659131e-01,  5.59864528e-02, -1.87679037e-01,\n",
      "        -4.43286061e-01,  3.16885680e-01,  3.85530703e-02,\n",
      "        -7.48208612e-02,  2.27673873e-01, -2.58537531e-01,\n",
      "         4.00984064e-02, -1.64626300e-01,  3.02865785e-02,\n",
      "        -3.32930297e-01, -2.49660462e-02, -1.09951521e-04,\n",
      "        -2.99223810e-01,  1.88220125e-02, -2.28677362e-01],\n",
      "       [-3.21634173e-01,  1.03577569e-01,  7.45637417e-02,\n",
      "         5.57656772e-03, -3.16390902e-01,  4.94412333e-02,\n",
      "         3.31435055e-01,  2.76876777e-01, -9.59982127e-02,\n",
      "        -1.34615377e-01,  2.19486561e-02, -1.38479739e-01,\n",
      "         2.66474873e-01,  1.83984756e-01, -1.61417931e-01,\n",
      "         9.91295055e-02,  2.99812376e-01, -1.83202386e-01,\n",
      "         1.37655601e-01, -8.99923891e-02,  1.11577660e-01,\n",
      "         1.47276670e-01, -2.25508213e-01,  1.07732639e-02,\n",
      "        -4.36656103e-02, -4.43205804e-01, -2.61468172e-01,\n",
      "        -3.08029711e-01, -1.91413373e-01, -2.33230174e-01],\n",
      "       [ 2.72299945e-01,  3.55802894e-01,  7.09239915e-02,\n",
      "         2.36751333e-01,  1.51421830e-01, -4.11617965e-01,\n",
      "        -1.53683588e-01, -2.04701815e-02,  1.19338982e-01,\n",
      "        -3.46025437e-01,  2.79303610e-01, -1.57600775e-01,\n",
      "        -1.53155535e-01, -2.52938062e-01, -1.63092181e-01,\n",
      "        -1.73534319e-01, -1.56524539e-01,  2.42421865e-01,\n",
      "         2.57264972e-01, -1.24597624e-01, -2.11179048e-01,\n",
      "        -3.29491556e-01, -3.90966058e-01, -1.01521060e-01,\n",
      "        -2.22104311e-01, -2.20111936e-01, -1.06212489e-01,\n",
      "         4.99142781e-02, -2.57355779e-01, -3.24661583e-01],\n",
      "       [ 3.01231384e-01,  9.18266028e-02,  1.31649571e-02,\n",
      "        -1.91567570e-01,  4.02484745e-01,  3.60693693e-01,\n",
      "         2.41708547e-01,  1.24850653e-01,  8.38526115e-02,\n",
      "        -2.82368250e-02, -6.18043169e-02,  1.08727351e-01,\n",
      "        -2.85389274e-01,  2.85805017e-02, -2.27895796e-01,\n",
      "         2.19940439e-01, -1.31025147e-02,  2.09582373e-02,\n",
      "         3.08757216e-01,  4.21696045e-02, -3.13599706e-01,\n",
      "         1.31163329e-01, -3.16319317e-02, -5.52658677e-01,\n",
      "        -1.94592655e-01, -4.17116195e-01, -3.14200401e-01,\n",
      "        -1.77312046e-01, -3.15659076e-01, -2.81366650e-02],\n",
      "       [-2.22158104e-01,  3.16967182e-02, -5.15426183e-03,\n",
      "         3.59806418e-02, -7.41758794e-02, -3.90574187e-02,\n",
      "         3.59911501e-01,  2.34536856e-01, -1.19206928e-01,\n",
      "         1.86502889e-01,  1.05803452e-01,  1.20559655e-01,\n",
      "         3.55270356e-02, -9.42846686e-02,  1.70785099e-01,\n",
      "         3.05246096e-03,  2.74492413e-01,  1.89710230e-01,\n",
      "         1.44994289e-01,  3.39080274e-01,  1.29232600e-01,\n",
      "        -2.70743249e-03, -2.67403215e-01, -4.64207232e-01,\n",
      "        -1.62564591e-01,  8.04435611e-02, -1.24328710e-01,\n",
      "         3.08598578e-01, -3.16295773e-01,  4.16276753e-02],\n",
      "       [-8.45442340e-02,  1.19151533e-01, -7.39054158e-02,\n",
      "         3.81235689e-01, -2.41842214e-02, -2.18794003e-01,\n",
      "        -8.04257169e-02,  8.75651687e-02, -1.29280865e-01,\n",
      "         2.02036962e-01, -3.75902832e-01,  9.13622454e-02,\n",
      "        -5.58022819e-02, -4.15798247e-01,  2.13520214e-01,\n",
      "         4.09224890e-02, -6.99791983e-02,  2.39752993e-01,\n",
      "        -1.47824749e-01, -2.44844146e-02, -2.26866886e-01,\n",
      "         4.45196331e-02, -7.11139962e-02, -8.20036903e-02,\n",
      "        -1.02161050e-01, -5.09606481e-01, -2.87641436e-01,\n",
      "        -1.82724833e-01, -2.50734538e-01,  5.83823845e-02],\n",
      "       [-9.31129828e-02,  1.40511543e-01,  1.19075693e-01,\n",
      "         1.76305398e-01,  2.27740094e-01,  9.03460383e-02,\n",
      "        -9.82977599e-02, -8.22543129e-02,  3.38533849e-01,\n",
      "        -2.57754683e-01, -4.27952886e-01, -4.88795906e-01,\n",
      "        -5.63695952e-02, -1.13779508e-01,  7.76303932e-02,\n",
      "        -8.12524408e-02,  3.37646663e-01,  2.28146702e-01,\n",
      "         8.85583162e-02,  1.62857756e-01, -1.88378096e-01,\n",
      "        -3.66450071e-01, -1.61687627e-01, -1.62671521e-01,\n",
      "        -2.50060260e-01, -1.46232426e-01, -3.96385998e-01,\n",
      "        -3.16790968e-01, -2.55259156e-01, -9.21737328e-02]], dtype=float32), array([-0.01605871, -0.06573637,  0.44855955, -0.04476963,  0.28559035,\n",
      "        0.5184783 ,  0.40377173,  0.5795072 , -0.02785197,  0.48861426,\n",
      "       -0.07675585,  0.0873046 , -0.09856054,  0.07632437, -0.04241941,\n",
      "        0.21797411,  0.24594481,  0.0407505 ,  0.12212879,  0.33235553,\n",
      "       -0.00854769, -0.00975776, -0.01039393, -0.01143282, -0.00738526,\n",
      "       -0.00808586, -0.01054465, -0.00907931, -0.00830017, -0.00710824],\n",
      "      dtype=float32)]\n",
      "====================\n"
     ]
    },
    {
     "name": "stdout",
     "output_type": "stream",
     "text": [
      "[array([[0.91220146],\n",
      "       [0.9275776 ],\n",
      "       [0.8597461 ],\n",
      "       [0.93804836],\n",
      "       [0.73935676],\n",
      "       [0.74941427],\n",
      "       [0.72450453],\n",
      "       [0.795252  ],\n",
      "       [0.8795842 ],\n",
      "       [0.7091981 ]], dtype=float32), array([-0.0110932], dtype=float32)]\n",
      "====================\n"
     ]
    }
   ],
   "source": [
    "for layer in model.layers:\n",
    "    weights = layer.get_weights() # list of numpy arrays\n",
    "    print(weights)\n",
    "    print('='*20)"
   ]
  },
  {
   "cell_type": "code",
   "execution_count": 351,
   "metadata": {},
   "outputs": [
    {
     "name": "stdout",
     "output_type": "stream",
     "text": [
      "_________________________________________________________________\n",
      "Layer (type)                 Output Shape              Param #   \n",
      "=================================================================\n",
      "dense_22 (Dense)             (1, 64, 20)               40        \n",
      "_________________________________________________________________\n",
      "gru_26 (GRU)                 (1, 20)                   2460      \n",
      "_________________________________________________________________\n",
      "dense_23 (Dense)             (1, 1)                    21        \n",
      "=================================================================\n",
      "Total params: 2,521\n",
      "Trainable params: 2,521\n",
      "Non-trainable params: 0\n",
      "_________________________________________________________________\n"
     ]
    }
   ],
   "source": [
    "model.summary()"
   ]
  },
  {
   "cell_type": "code",
   "execution_count": 374,
   "metadata": {},
   "outputs": [
    {
     "data": {
      "text/plain": [
       "0.021763145157601683"
      ]
     },
     "execution_count": 374,
     "metadata": {},
     "output_type": "execute_result"
    }
   ],
   "source": [
    "score = model.evaluate(X_te_s[:400], y_te_s[:400], verbose=0, batch_size=BATCH_SIZE)\n",
    "score"
   ]
  },
  {
   "cell_type": "code",
   "execution_count": 265,
   "metadata": {},
   "outputs": [
    {
     "data": {
      "text/plain": [
       "0.005132799269631505"
      ]
     },
     "execution_count": 265,
     "metadata": {},
     "output_type": "execute_result"
    }
   ],
   "source": [
    "0.005132799269631505"
   ]
  },
  {
   "cell_type": "code",
   "execution_count": 266,
   "metadata": {
    "scrolled": false
   },
   "outputs": [
    {
     "data": {
      "image/png": "[encoded data removed]",
      "text/plain": [
       "<Figure size 432x288 with 1 Axes>"
      ]
     },
     "metadata": {
      "needs_background": "light"
     },
     "output_type": "display_data"
    }
   ],
   "source": [
    "from matplotlib import pyplot as plt\n",
    "\n",
    "# Plot training & validation loss values\n",
    "plt.plot(normalize(np.array(history.history['loss'])))\n",
    "plt.plot(normalize(np.array(history.history['val_loss'])))\n",
    "plt.title('Model loss')\n",
    "plt.ylabel('Loss')\n",
    "plt.xlabel('Epoch')\n",
    "plt.legend(['Train'], loc='upper left')\n",
    "plt.show()"
   ]
  },
  {
   "cell_type": "code",
   "execution_count": 267,
   "metadata": {},
   "outputs": [
    {
     "data": {
      "text/plain": [
       "10000"
      ]
     },
     "execution_count": 267,
     "metadata": {},
     "output_type": "execute_result"
    }
   ],
   "source": [
    "len(X_te_f)"
   ]
  },
  {
   "cell_type": "code",
   "execution_count": 269,
   "metadata": {},
   "outputs": [
    {
     "data": {
      "text/plain": [
       "array([ 0.00720847,  0.00390608,  0.00069414, -0.00238913, -0.00538246,\n",
       "       -0.0082476 , -0.01097245, -0.01364918, -0.01623574, -0.01858433,\n",
       "       -0.0209128 , -0.02311743, -0.02515342, -0.0271521 , -0.0289777 ,\n",
       "       -0.03068439, -0.03238854, -0.03380311, -0.03520663, -0.03654917,\n",
       "       -0.03762048, -0.03861776, -0.03963517, -0.04040424, -0.04111475,\n",
       "       -0.04170411, -0.04220744, -0.04252864, -0.04285228, -0.04293739,\n",
       "       -0.04293268, -0.04301209, -0.04282712, -0.0426129 , -0.0423735 ,\n",
       "       -0.04189257, -0.04140666, -0.04086066, -0.0401896 , -0.03941978,\n",
       "       -0.03869359, -0.03782381, -0.03685462, -0.03586413, -0.03482395,\n",
       "       -0.03364499, -0.03251233, -0.03126309, -0.03004637, -0.02876272,\n",
       "       -0.02733327, -0.02604197, -0.02467418, -0.02319817, -0.02179869,\n",
       "       -0.02037514, -0.01891786, -0.0175517 , -0.01616797, -0.01475757,\n",
       "       -0.01333211, -0.01194194, -0.01061384, -0.00931575, -0.00807026,\n",
       "       -0.00677356, -0.00557142, -0.00450684, -0.00338372, -0.00232304,\n",
       "       -0.00135431, -0.00043977,  0.00040901,  0.00115946,  0.00186014,\n",
       "        0.00252367,  0.00306633,  0.00356573,  0.00398246,  0.00426971,\n",
       "        0.00453319,  0.00474836,  0.0048362 ,  0.00478653,  0.0048053 ,\n",
       "        0.00467371,  0.00443301,  0.00423093,  0.00387216,  0.00345785,\n",
       "        0.00293897,  0.00237639,  0.00170085,  0.00104053,  0.00027128,\n",
       "       -0.0005587 , -0.00141925, -0.00238321, -0.00326496, -0.00424822],\n",
       "      dtype=float32)"
      ]
     },
     "execution_count": 269,
     "metadata": {},
     "output_type": "execute_result"
    }
   ],
   "source": [
    "predict(model, X_te_s[:100])"
   ]
  },
  {
   "cell_type": "code",
   "execution_count": 270,
   "metadata": {},
   "outputs": [
    {
     "name": "stdout",
     "output_type": "stream",
     "text": [
      "[-0.00759911]\n"
     ]
    }
   ],
   "source": [
    "print(X_tr_s[0][-1])"
   ]
  },
  {
   "cell_type": "code",
   "execution_count": 387,
   "metadata": {
    "scrolled": false
   },
   "outputs": [
    {
     "name": "stdout",
     "output_type": "stream",
     "text": [
      "0   -0.060514\n",
      "1   -0.058674\n",
      "2   -0.058097\n",
      "3   -0.058697\n",
      "4   -0.060560\n",
      "dtype: float32\n"
     ]
    },
    {
     "data": {
      "text/plain": [
       "Text(0,0.5,'value')"
      ]
     },
     "execution_count": 387,
     "metadata": {},
     "output_type": "execute_result"
    },
    {
     "data": {
      "image/png": "[encoded data removed]",
      "text/plain": [
       "<Figure size 1152x576 with 1 Axes>"
      ]
     },
     "metadata": {
      "needs_background": "light"
     },
     "output_type": "display_data"
    }
   ],
   "source": [
    "%matplotlib inline\n",
    "from scipy.signal import savgol_filter\n",
    "\n",
    "(fig, ax) = plt.subplots(figsize=(16, 8))\n",
    "\n",
    "I = 200\n",
    "\n",
    "feat = pd.Series((np.array(list(map(lambda row: row[-1][0], X_tr_s[:I])))))\n",
    "\n",
    "feat.plot.line(ax=ax, label='feature')\n",
    "\n",
    "targ = (pd.Series((y_tr_s[:I])))\n",
    "\n",
    "pred = pd.Series(predict(model, X_tr_s[:I]))\n",
    "pred = (pred * 3.2) + 0.001\n",
    "# pred = pred + 0.001\n",
    "\n",
    "zeros = pd.Series(np.zeros(I))\n",
    "zeros.plot.line(ax=ax, label='0')\n",
    "\n",
    "targ.plot.line(ax=ax, label='target')\n",
    "\n",
    "print(pred[:5])\n",
    "\n",
    "pred.plot.line(ax=ax, label='predicted')\n",
    "# pd.Series(savgol_filter(pred, 5, 3)).plot.line(ax=ax, label='savgol(predicted)')\n",
    "\n",
    "# pd.Series(normalize(np.array(list(map(lambda w: w[-1], X_tr_f[:I]))))).plot.line(ax=ax, label='feature')\n",
    "\n",
    "ax.legend(loc=\"upper right\")\n",
    "ax.set_xlabel('index')\n",
    "ax.set_ylabel('value')"
   ]
  },
  {
   "cell_type": "markdown",
   "metadata": {},
   "source": [
    "## Time to evaluate performance"
   ]
  },
  {
   "cell_type": "code",
   "execution_count": 75,
   "metadata": {},
   "outputs": [
    {
     "ename": "ValueError",
     "evalue": "Error when checking input: expected gru_1_input to have 3 dimensions, but got array with shape (10000, 2)",
     "output_type": "error",
     "traceback": [
      "\u001b[0;31m---------------------------------------------------------------------------\u001b[0m",
      "\u001b[0;31mValueError\u001b[0m                                Traceback (most recent call last)",
      "\u001b[0;32m<ipython-input-75-7d77ab836aa5>\u001b[0m in \u001b[0;36m<module>\u001b[0;34m\u001b[0m\n\u001b[0;32m----> 1\u001b[0;31m \u001b[0mpredictions\u001b[0m \u001b[0;34m=\u001b[0m \u001b[0mpredict\u001b[0m\u001b[0;34m(\u001b[0m\u001b[0mmodel\u001b[0m\u001b[0;34m,\u001b[0m \u001b[0mX_tr_f\u001b[0m\u001b[0;34m[\u001b[0m\u001b[0;34m:\u001b[0m\u001b[0;36m10000\u001b[0m\u001b[0;34m]\u001b[0m\u001b[0;34m)\u001b[0m\u001b[0;34m\u001b[0m\u001b[0;34m\u001b[0m\u001b[0m\n\u001b[0m\u001b[1;32m      2\u001b[0m \u001b[0mlen\u001b[0m\u001b[0;34m(\u001b[0m\u001b[0mpredictions\u001b[0m\u001b[0;34m)\u001b[0m\u001b[0;34m,\u001b[0m \u001b[0mpredictions\u001b[0m\u001b[0;34m[\u001b[0m\u001b[0;34m:\u001b[0m\u001b[0;36m10\u001b[0m\u001b[0;34m]\u001b[0m\u001b[0;34m\u001b[0m\u001b[0;34m\u001b[0m\u001b[0m\n",
      "\u001b[0;32m<ipython-input-71-c9658235d849>\u001b[0m in \u001b[0;36mpredict\u001b[0;34m(model, X_input)\u001b[0m\n\u001b[1;32m      6\u001b[0m     return np.array(\n\u001b[1;32m      7\u001b[0m         model.predict(\n\u001b[0;32m----> 8\u001b[0;31m             \u001b[0mX_input\u001b[0m\u001b[0;34m[\u001b[0m\u001b[0;34m:\u001b[0m\u001b[0;34m(\u001b[0m\u001b[0mmath\u001b[0m\u001b[0;34m.\u001b[0m\u001b[0mfloor\u001b[0m\u001b[0;34m(\u001b[0m\u001b[0mlen\u001b[0m\u001b[0;34m(\u001b[0m\u001b[0mX_input\u001b[0m\u001b[0;34m)\u001b[0m \u001b[0;34m/\u001b[0m \u001b[0mBATCH_SIZE\u001b[0m\u001b[0;34m)\u001b[0m \u001b[0;34m*\u001b[0m \u001b[0mBATCH_SIZE\u001b[0m\u001b[0;34m)\u001b[0m\u001b[0;34m]\u001b[0m\u001b[0;34m,\u001b[0m \u001b[0mbatch_size\u001b[0m\u001b[0;34m=\u001b[0m\u001b[0mBATCH_SIZE\u001b[0m\u001b[0;34m\u001b[0m\u001b[0;34m\u001b[0m\u001b[0m\n\u001b[0m\u001b[1;32m      9\u001b[0m         )\n\u001b[1;32m     10\u001b[0m     ).flatten()\n",
      "\u001b[0;32m/usr/local/lib/python3.7/site-packages/keras/engine/training.py\u001b[0m in \u001b[0;36mpredict\u001b[0;34m(self, x, batch_size, verbose, steps)\u001b[0m\n\u001b[1;32m   1147\u001b[0m                              'argument.')\n\u001b[1;32m   1148\u001b[0m         \u001b[0;31m# Validate user data.\u001b[0m\u001b[0;34m\u001b[0m\u001b[0;34m\u001b[0m\u001b[0;34m\u001b[0m\u001b[0m\n\u001b[0;32m-> 1149\u001b[0;31m         \u001b[0mx\u001b[0m\u001b[0;34m,\u001b[0m \u001b[0m_\u001b[0m\u001b[0;34m,\u001b[0m \u001b[0m_\u001b[0m \u001b[0;34m=\u001b[0m \u001b[0mself\u001b[0m\u001b[0;34m.\u001b[0m\u001b[0m_standardize_user_data\u001b[0m\u001b[0;34m(\u001b[0m\u001b[0mx\u001b[0m\u001b[0;34m)\u001b[0m\u001b[0;34m\u001b[0m\u001b[0;34m\u001b[0m\u001b[0m\n\u001b[0m\u001b[1;32m   1150\u001b[0m         \u001b[0;32mif\u001b[0m \u001b[0mself\u001b[0m\u001b[0;34m.\u001b[0m\u001b[0mstateful\u001b[0m\u001b[0;34m:\u001b[0m\u001b[0;34m\u001b[0m\u001b[0;34m\u001b[0m\u001b[0m\n\u001b[1;32m   1151\u001b[0m             \u001b[0;32mif\u001b[0m \u001b[0mx\u001b[0m\u001b[0;34m[\u001b[0m\u001b[0;36m0\u001b[0m\u001b[0;34m]\u001b[0m\u001b[0;34m.\u001b[0m\u001b[0mshape\u001b[0m\u001b[0;34m[\u001b[0m\u001b[0;36m0\u001b[0m\u001b[0;34m]\u001b[0m \u001b[0;34m>\u001b[0m \u001b[0mbatch_size\u001b[0m \u001b[0;32mand\u001b[0m \u001b[0mx\u001b[0m\u001b[0;34m[\u001b[0m\u001b[0;36m0\u001b[0m\u001b[0;34m]\u001b[0m\u001b[0;34m.\u001b[0m\u001b[0mshape\u001b[0m\u001b[0;34m[\u001b[0m\u001b[0;36m0\u001b[0m\u001b[0;34m]\u001b[0m \u001b[0;34m%\u001b[0m \u001b[0mbatch_size\u001b[0m \u001b[0;34m!=\u001b[0m \u001b[0;36m0\u001b[0m\u001b[0;34m:\u001b[0m\u001b[0;34m\u001b[0m\u001b[0;34m\u001b[0m\u001b[0m\n",
      "\u001b[0;32m/usr/local/lib/python3.7/site-packages/keras/engine/training.py\u001b[0m in \u001b[0;36m_standardize_user_data\u001b[0;34m(self, x, y, sample_weight, class_weight, check_array_lengths, batch_size)\u001b[0m\n\u001b[1;32m    749\u001b[0m             \u001b[0mfeed_input_shapes\u001b[0m\u001b[0;34m,\u001b[0m\u001b[0;34m\u001b[0m\u001b[0;34m\u001b[0m\u001b[0m\n\u001b[1;32m    750\u001b[0m             \u001b[0mcheck_batch_axis\u001b[0m\u001b[0;34m=\u001b[0m\u001b[0;32mFalse\u001b[0m\u001b[0;34m,\u001b[0m  \u001b[0;31m# Don't enforce the batch size.\u001b[0m\u001b[0;34m\u001b[0m\u001b[0;34m\u001b[0m\u001b[0m\n\u001b[0;32m--> 751\u001b[0;31m             exception_prefix='input')\n\u001b[0m\u001b[1;32m    752\u001b[0m \u001b[0;34m\u001b[0m\u001b[0m\n\u001b[1;32m    753\u001b[0m         \u001b[0;32mif\u001b[0m \u001b[0my\u001b[0m \u001b[0;32mis\u001b[0m \u001b[0;32mnot\u001b[0m \u001b[0;32mNone\u001b[0m\u001b[0;34m:\u001b[0m\u001b[0;34m\u001b[0m\u001b[0;34m\u001b[0m\u001b[0m\n",
      "\u001b[0;32m/usr/local/lib/python3.7/site-packages/keras/engine/training_utils.py\u001b[0m in \u001b[0;36mstandardize_input_data\u001b[0;34m(data, names, shapes, check_batch_axis, exception_prefix)\u001b[0m\n\u001b[1;32m    126\u001b[0m                         \u001b[0;34m': expected '\u001b[0m \u001b[0;34m+\u001b[0m \u001b[0mnames\u001b[0m\u001b[0;34m[\u001b[0m\u001b[0mi\u001b[0m\u001b[0;34m]\u001b[0m \u001b[0;34m+\u001b[0m \u001b[0;34m' to have '\u001b[0m \u001b[0;34m+\u001b[0m\u001b[0;34m\u001b[0m\u001b[0;34m\u001b[0m\u001b[0m\n\u001b[1;32m    127\u001b[0m                         \u001b[0mstr\u001b[0m\u001b[0;34m(\u001b[0m\u001b[0mlen\u001b[0m\u001b[0;34m(\u001b[0m\u001b[0mshape\u001b[0m\u001b[0;34m)\u001b[0m\u001b[0;34m)\u001b[0m \u001b[0;34m+\u001b[0m \u001b[0;34m' dimensions, but got array '\u001b[0m\u001b[0;34m\u001b[0m\u001b[0;34m\u001b[0m\u001b[0m\n\u001b[0;32m--> 128\u001b[0;31m                         'with shape ' + str(data_shape))\n\u001b[0m\u001b[1;32m    129\u001b[0m                 \u001b[0;32mif\u001b[0m \u001b[0;32mnot\u001b[0m \u001b[0mcheck_batch_axis\u001b[0m\u001b[0;34m:\u001b[0m\u001b[0;34m\u001b[0m\u001b[0;34m\u001b[0m\u001b[0m\n\u001b[1;32m    130\u001b[0m                     \u001b[0mdata_shape\u001b[0m \u001b[0;34m=\u001b[0m \u001b[0mdata_shape\u001b[0m\u001b[0;34m[\u001b[0m\u001b[0;36m1\u001b[0m\u001b[0;34m:\u001b[0m\u001b[0;34m]\u001b[0m\u001b[0;34m\u001b[0m\u001b[0;34m\u001b[0m\u001b[0m\n",
      "\u001b[0;31mValueError\u001b[0m: Error when checking input: expected gru_1_input to have 3 dimensions, but got array with shape (10000, 2)"
     ]
    }
   ],
   "source": [
    "predictions = predict(model, X_tr_f[:10000])\n",
    "len(predictions), predictions[:10]"
   ]
  },
  {
   "cell_type": "code",
   "execution_count": null,
   "metadata": {},
   "outputs": [],
   "source": [
    "wavfile.write('output/clean_train_pred_out.wav', source_clean_fs, predictions)"
   ]
  },
  {
   "cell_type": "code",
   "execution_count": null,
   "metadata": {},
   "outputs": [],
   "source": [
    "len(predictions)"
   ]
  },
  {
   "cell_type": "code",
   "execution_count": null,
   "metadata": {},
   "outputs": [],
   "source": []
  }
 ],
 "metadata": {
  "kernelspec": {
   "display_name": "Python 3",
   "language": "python",
   "name": "python3"
  },
  "language_info": {
   "codemirror_mode": {
    "name": "ipython",
    "version": 3
   },
   "file_extension": ".py",
   "mimetype": "text/x-python",
   "name": "python",
   "nbconvert_exporter": "python",
   "pygments_lexer": "ipython3",
   "version": "3.7.3"
  }
 },
 "nbformat": 4,
 "nbformat_minor": 2
}
