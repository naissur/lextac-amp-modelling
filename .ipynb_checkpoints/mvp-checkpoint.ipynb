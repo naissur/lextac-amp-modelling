{
 "cells": [
  {
   "cell_type": "code",
   "execution_count": 1,
   "metadata": {},
   "outputs": [],
   "source": [
    "from scipy.io import wavfile\n",
    "\n",
    "(source_fs, source_data) = wavfile.read('./data/01_source.wav')\n",
    "(target_fs, target_data) = wavfile.read('./data/01_peak_compressor.wav')\n"
   ]
  },
  {
   "cell_type": "code",
   "execution_count": 2,
   "metadata": {},
   "outputs": [],
   "source": [
    "import pandas as pd"
   ]
  },
  {
   "cell_type": "code",
   "execution_count": 3,
   "metadata": {},
   "outputs": [
    {
     "data": {
      "text/html": [
       "<div>\n",
       "<style scoped>\n",
       "    .dataframe tbody tr th:only-of-type {\n",
       "        vertical-align: middle;\n",
       "    }\n",
       "\n",
       "    .dataframe tbody tr th {\n",
       "        vertical-align: top;\n",
       "    }\n",
       "\n",
       "    .dataframe thead th {\n",
       "        text-align: right;\n",
       "    }\n",
       "</style>\n",
       "<table border=\"1\" class=\"dataframe\">\n",
       "  <thead>\n",
       "    <tr style=\"text-align: right;\">\n",
       "      <th></th>\n",
       "      <th>L</th>\n",
       "      <th>R</th>\n",
       "    </tr>\n",
       "  </thead>\n",
       "  <tbody>\n",
       "    <tr>\n",
       "      <th>0</th>\n",
       "      <td>1</td>\n",
       "      <td>-1</td>\n",
       "    </tr>\n",
       "    <tr>\n",
       "      <th>1</th>\n",
       "      <td>-5</td>\n",
       "      <td>-6</td>\n",
       "    </tr>\n",
       "    <tr>\n",
       "      <th>2</th>\n",
       "      <td>-11</td>\n",
       "      <td>-12</td>\n",
       "    </tr>\n",
       "    <tr>\n",
       "      <th>3</th>\n",
       "      <td>-18</td>\n",
       "      <td>-17</td>\n",
       "    </tr>\n",
       "    <tr>\n",
       "      <th>4</th>\n",
       "      <td>-24</td>\n",
       "      <td>-24</td>\n",
       "    </tr>\n",
       "  </tbody>\n",
       "</table>\n",
       "</div>"
      ],
      "text/plain": [
       "    L   R\n",
       "0   1  -1\n",
       "1  -5  -6\n",
       "2 -11 -12\n",
       "3 -18 -17\n",
       "4 -24 -24"
      ]
     },
     "execution_count": 3,
     "metadata": {},
     "output_type": "execute_result"
    }
   ],
   "source": [
    "source_df = pd.DataFrame(source_data, columns=['L', 'R'])\n",
    "source_df.head()"
   ]
  },
  {
   "cell_type": "code",
   "execution_count": 4,
   "metadata": {},
   "outputs": [
    {
     "data": {
      "text/html": [
       "<div>\n",
       "<style scoped>\n",
       "    .dataframe tbody tr th:only-of-type {\n",
       "        vertical-align: middle;\n",
       "    }\n",
       "\n",
       "    .dataframe tbody tr th {\n",
       "        vertical-align: top;\n",
       "    }\n",
       "\n",
       "    .dataframe thead th {\n",
       "        text-align: right;\n",
       "    }\n",
       "</style>\n",
       "<table border=\"1\" class=\"dataframe\">\n",
       "  <thead>\n",
       "    <tr style=\"text-align: right;\">\n",
       "      <th></th>\n",
       "      <th>L</th>\n",
       "      <th>R</th>\n",
       "    </tr>\n",
       "  </thead>\n",
       "  <tbody>\n",
       "    <tr>\n",
       "      <th>0</th>\n",
       "      <td>-1</td>\n",
       "      <td>0</td>\n",
       "    </tr>\n",
       "    <tr>\n",
       "      <th>1</th>\n",
       "      <td>-37</td>\n",
       "      <td>-37</td>\n",
       "    </tr>\n",
       "    <tr>\n",
       "      <th>2</th>\n",
       "      <td>-81</td>\n",
       "      <td>-81</td>\n",
       "    </tr>\n",
       "    <tr>\n",
       "      <th>3</th>\n",
       "      <td>-128</td>\n",
       "      <td>-128</td>\n",
       "    </tr>\n",
       "    <tr>\n",
       "      <th>4</th>\n",
       "      <td>-177</td>\n",
       "      <td>-178</td>\n",
       "    </tr>\n",
       "  </tbody>\n",
       "</table>\n",
       "</div>"
      ],
      "text/plain": [
       "     L    R\n",
       "0   -1    0\n",
       "1  -37  -37\n",
       "2  -81  -81\n",
       "3 -128 -128\n",
       "4 -177 -178"
      ]
     },
     "execution_count": 4,
     "metadata": {},
     "output_type": "execute_result"
    }
   ],
   "source": [
    "target_df = pd.DataFrame(target_data, columns=['L', 'R'])\n",
    "target_df.head()"
   ]
  },
  {
   "cell_type": "code",
   "execution_count": 5,
   "metadata": {},
   "outputs": [
    {
     "data": {
      "text/plain": [
       "(10790, 16537)"
      ]
     },
     "execution_count": 5,
     "metadata": {},
     "output_type": "execute_result"
    }
   ],
   "source": [
    "source_df['L'].max(), target_df['L'].max()"
   ]
  },
  {
   "cell_type": "code",
   "execution_count": 6,
   "metadata": {},
   "outputs": [
    {
     "data": {
      "text/plain": [
       "32768"
      ]
     },
     "execution_count": 6,
     "metadata": {},
     "output_type": "execute_result"
    }
   ],
   "source": [
    "2 ** 15"
   ]
  },
  {
   "cell_type": "code",
   "execution_count": 7,
   "metadata": {},
   "outputs": [
    {
     "data": {
      "text/plain": [
       "32767"
      ]
     },
     "execution_count": 7,
     "metadata": {},
     "output_type": "execute_result"
    }
   ],
   "source": [
    "MAX_VALUE = 2 ** 15 - 1\n",
    "MAX_VALUE"
   ]
  },
  {
   "cell_type": "code",
   "execution_count": null,
   "metadata": {},
   "outputs": [],
   "source": []
  },
  {
   "cell_type": "code",
   "execution_count": 8,
   "metadata": {},
   "outputs": [
    {
     "data": {
      "text/plain": [
       "(1302647, 1302647)"
      ]
     },
     "execution_count": 8,
     "metadata": {},
     "output_type": "execute_result"
    }
   ],
   "source": [
    "len(source_df), len(target_df)"
   ]
  },
  {
   "cell_type": "code",
   "execution_count": 9,
   "metadata": {},
   "outputs": [
    {
     "data": {
      "text/plain": [
       "1042100"
      ]
     },
     "execution_count": 9,
     "metadata": {},
     "output_type": "execute_result"
    }
   ],
   "source": [
    "# END_LOC = int(len(target_df) * 0.8)\n",
    "TR_END_LOC = int(len(target_df) * 0.8 / 100) * 100\n",
    "TR_END_LOC"
   ]
  },
  {
   "cell_type": "markdown",
   "metadata": {},
   "source": [
    "## IT'S MONO"
   ]
  },
  {
   "cell_type": "code",
   "execution_count": 10,
   "metadata": {},
   "outputs": [
    {
     "data": {
      "text/plain": [
       "1042100"
      ]
     },
     "execution_count": 10,
     "metadata": {},
     "output_type": "execute_result"
    }
   ],
   "source": [
    "X_train_raw = source_df['L'][:TR_END_LOC]\n",
    "len(X_train_raw)"
   ]
  },
  {
   "cell_type": "code",
   "execution_count": 11,
   "metadata": {},
   "outputs": [
    {
     "data": {
      "text/plain": [
       "260547"
      ]
     },
     "execution_count": 11,
     "metadata": {},
     "output_type": "execute_result"
    }
   ],
   "source": [
    "X_test_raw = source_df['L'][TR_END_LOC:]\n",
    "len(X_test_raw)"
   ]
  },
  {
   "cell_type": "code",
   "execution_count": 12,
   "metadata": {},
   "outputs": [
    {
     "data": {
      "text/plain": [
       "1042100"
      ]
     },
     "execution_count": 12,
     "metadata": {},
     "output_type": "execute_result"
    }
   ],
   "source": [
    "y_train_raw = target_df['L'][:TR_END_LOC]\n",
    "len(y_train_raw)"
   ]
  },
  {
   "cell_type": "code",
   "execution_count": 13,
   "metadata": {},
   "outputs": [
    {
     "data": {
      "text/plain": [
       "260547"
      ]
     },
     "execution_count": 13,
     "metadata": {},
     "output_type": "execute_result"
    }
   ],
   "source": [
    "y_test_raw = target_df['L'][TR_END_LOC:]\n",
    "len(y_test_raw)"
   ]
  },
  {
   "cell_type": "code",
   "execution_count": 14,
   "metadata": {},
   "outputs": [
    {
     "data": {
      "text/plain": [
       "1042100    3458\n",
       "1042101    3469\n",
       "1042102    3479\n",
       "1042103    3485\n",
       "1042104    3490\n",
       "1042105    3491\n",
       "1042106    3489\n",
       "1042107    3485\n",
       "1042108    3479\n",
       "1042109    3471\n",
       "Name: L, dtype: int16"
      ]
     },
     "execution_count": 14,
     "metadata": {},
     "output_type": "execute_result"
    }
   ],
   "source": [
    "X_test_raw.iloc[:10]"
   ]
  },
  {
   "cell_type": "code",
   "execution_count": 15,
   "metadata": {},
   "outputs": [],
   "source": [
    "# safe-checking data"
   ]
  },
  {
   "cell_type": "code",
   "execution_count": 16,
   "metadata": {},
   "outputs": [],
   "source": [
    "# y_train_raw = -y_train_raw + 4000\n",
    "# y_train_raw.iloc[0]"
   ]
  },
  {
   "cell_type": "code",
   "execution_count": 17,
   "metadata": {},
   "outputs": [],
   "source": [
    "# y_test_raw = -y_test_raw + 4000\n",
    "# y_test_raw.iloc[0]"
   ]
  },
  {
   "cell_type": "markdown",
   "metadata": {},
   "source": [
    "## Preparing data for processing"
   ]
  },
  {
   "cell_type": "code",
   "execution_count": 18,
   "metadata": {},
   "outputs": [],
   "source": [
    "def normalize_keeping_mean(arr, forced_abs=None):\n",
    "    left_abs = np.abs(arr.mean() - arr.min())\n",
    "    right_abs = np.abs(arr.max() - arr.mean())\n",
    "    \n",
    "    n = max(left_abs, right_abs)\n",
    "    \n",
    "    if (forced_abs is not None):\n",
    "        n = forced_abs\n",
    "    \n",
    "    return np.clip(arr / n, -1.0, 1.0)"
   ]
  },
  {
   "cell_type": "code",
   "execution_count": 19,
   "metadata": {},
   "outputs": [],
   "source": [
    "def normalize(arr, forced_abs=None, mean=None):\n",
    "    left_abs = np.abs(arr.mean() - arr.min())\n",
    "    right_abs = np.abs(arr.max() - arr.mean())\n",
    "    \n",
    "    n = max(left_abs, right_abs)\n",
    "    \n",
    "    if (forced_abs is not None):\n",
    "        n = forced_abs\n",
    "        \n",
    "    if (mean is None):\n",
    "        mean = arr.mean()\n",
    "    \n",
    "    \n",
    "    return np.clip((arr - mean) / n, -1.0, 1.0)"
   ]
  },
  {
   "cell_type": "code",
   "execution_count": 20,
   "metadata": {},
   "outputs": [
    {
     "data": {
      "text/plain": [
       "(-0.30961027863399154, 0.3292947172460097, 5.524491569495269e-06)"
      ]
     },
     "execution_count": 20,
     "metadata": {},
     "output_type": "execute_result"
    }
   ],
   "source": [
    "import numpy as np\n",
    "\n",
    "X_tr = np.array(list(map(lambda x: np.array(x), X_train_raw)))\n",
    "X_tr_n = normalize(X_tr, forced_abs=MAX_VALUE, mean=0.0)\n",
    "X_tr_n.min(), X_tr_n.max(), np.mean(X_tr_n)"
   ]
  },
  {
   "cell_type": "code",
   "execution_count": 21,
   "metadata": {},
   "outputs": [
    {
     "data": {
      "text/plain": [
       "(-0.1662038026062807, 0.2346873378704184, 1.2222185906085745e-05)"
      ]
     },
     "execution_count": 21,
     "metadata": {},
     "output_type": "execute_result"
    }
   ],
   "source": [
    "X_te = np.array(list(map(lambda x: np.array(x), X_test_raw)))\n",
    "X_te_n= normalize(X_te, forced_abs=MAX_VALUE, mean=0.0)\n",
    "X_te_n.min(), X_te_n.max(), np.mean(X_te_n)"
   ]
  },
  {
   "cell_type": "code",
   "execution_count": 22,
   "metadata": {},
   "outputs": [
    {
     "data": {
      "text/plain": [
       "(-0.3057954649494919, 0.5046845912045655, -0.0002333393516189353)"
      ]
     },
     "execution_count": 22,
     "metadata": {},
     "output_type": "execute_result"
    }
   ],
   "source": [
    "y_tr = np.array(list(map(lambda x: np.array(x), y_train_raw)))\n",
    "y_tr_n = normalize(y_tr, forced_abs=MAX_VALUE, mean=0.0)\n",
    "y_tr_n.min(), y_tr_n.max(), np.mean(y_tr_n)"
   ]
  },
  {
   "cell_type": "code",
   "execution_count": 23,
   "metadata": {},
   "outputs": [
    {
     "data": {
      "text/plain": [
       "(-0.2708517715994751, 0.43766594439527573, -2.5239466909497803e-05)"
      ]
     },
     "execution_count": 23,
     "metadata": {},
     "output_type": "execute_result"
    }
   ],
   "source": [
    "y_te = np.array(list(map(lambda x: np.array(x), y_test_raw)))\n",
    "y_te_n = normalize(y_te, forced_abs=MAX_VALUE, mean=0.0)\n",
    "y_te_n.min(), y_te_n.max(), np.mean(y_te_n)"
   ]
  },
  {
   "cell_type": "code",
   "execution_count": 24,
   "metadata": {},
   "outputs": [],
   "source": [
    "X_tr_n = X_tr_n.astype('float32')\n",
    "X_te_n = X_te_n.astype('float32')\n",
    "y_tr_n = y_tr_n.astype('float32')\n",
    "y_te_n = y_te_n.astype('float32')"
   ]
  },
  {
   "cell_type": "code",
   "execution_count": 25,
   "metadata": {
    "scrolled": false
   },
   "outputs": [
    {
     "data": {
      "text/plain": [
       "<matplotlib.axes._subplots.AxesSubplot at 0x123cbd5c0>"
      ]
     },
     "execution_count": 25,
     "metadata": {},
     "output_type": "execute_result"
    }
   ],
   "source": [
    "pd.Series(X_tr_n[:800]).plot.line(figsize=(16, 8))"
   ]
  },
  {
   "cell_type": "code",
   "execution_count": 26,
   "metadata": {},
   "outputs": [
    {
     "data": {
      "text/plain": [
       "<matplotlib.axes._subplots.AxesSubplot at 0x1247c5320>"
      ]
     },
     "execution_count": 26,
     "metadata": {},
     "output_type": "execute_result"
    },
    {
     "data": {
      "image/png": "[encoded data removed]",
      "text/plain": [
       "<Figure size 1152x576 with 1 Axes>"
      ]
     },
     "metadata": {
      "needs_background": "light"
     },
     "output_type": "display_data"
    }
   ],
   "source": [
    "pd.Series(y_tr_n[:800]).plot.line(figsize=(16, 8))"
   ]
  },
  {
   "cell_type": "code",
   "execution_count": 27,
   "metadata": {},
   "outputs": [
    {
     "data": {
      "text/plain": [
       "(-0.1662038, 0.23468734, 1.2222178e-05)"
      ]
     },
     "execution_count": 27,
     "metadata": {},
     "output_type": "execute_result"
    }
   ],
   "source": [
    "\n",
    "X_te_n.min(), X_te_n.max(), np.mean(X_te_n)"
   ]
  },
  {
   "cell_type": "code",
   "execution_count": 28,
   "metadata": {},
   "outputs": [
    {
     "data": {
      "text/plain": [
       "<matplotlib.axes._subplots.AxesSubplot at 0x12481bb70>"
      ]
     },
     "execution_count": 28,
     "metadata": {},
     "output_type": "execute_result"
    },
    {
     "data": {
      "image/png": "[encoded data removed]",
      "text/plain": [
       "<Figure size 1152x576 with 1 Axes>"
      ]
     },
     "metadata": {
      "needs_background": "light"
     },
     "output_type": "display_data"
    }
   ],
   "source": [
    "pd.Series(X_te_n[:800]).plot.line(figsize=(16, 8))"
   ]
  },
  {
   "cell_type": "code",
   "execution_count": 29,
   "metadata": {
    "scrolled": true
   },
   "outputs": [
    {
     "data": {
      "text/plain": [
       "<matplotlib.axes._subplots.AxesSubplot at 0x1248891d0>"
      ]
     },
     "execution_count": 29,
     "metadata": {},
     "output_type": "execute_result"
    },
    {
     "data": {
      "image/png": "[encoded data removed]",
      "text/plain": [
       "<Figure size 1152x576 with 1 Axes>"
      ]
     },
     "metadata": {
      "needs_background": "light"
     },
     "output_type": "display_data"
    }
   ],
   "source": [
    "pd.Series(y_te_n[:800]).plot.line(figsize=(16, 8))"
   ]
  },
  {
   "cell_type": "code",
   "execution_count": null,
   "metadata": {},
   "outputs": [],
   "source": []
  },
  {
   "cell_type": "code",
   "execution_count": 30,
   "metadata": {},
   "outputs": [],
   "source": [
    "# appending stats of the whole sample, fading from silence"
   ]
  },
  {
   "cell_type": "code",
   "execution_count": 31,
   "metadata": {},
   "outputs": [],
   "source": [
    "# train_shuffle_index = np.random.shuffle(np.arange(0, len(X_tr_n)))\n",
    "# test_shuffle_index = np.random.shuffle(np.arange(0, len(X_te_n)))\n",
    "\n",
    "# X_tr_f = X_tr_n[train_shuffle_index][0]\n",
    "# y_tr_f = y_tr_n[train_shuffle_index][0]\n",
    "\n",
    "# X_te_f = X_te_n[test_shuffle_index][0]\n",
    "# y_te_f = y_te_n[test_shuffle_index][0]"
   ]
  },
  {
   "cell_type": "markdown",
   "metadata": {},
   "source": [
    "## Making windows"
   ]
  },
  {
   "cell_type": "code",
   "execution_count": 32,
   "metadata": {},
   "outputs": [
    {
     "data": {
      "text/plain": [
       "64"
      ]
     },
     "execution_count": 32,
     "metadata": {},
     "output_type": "execute_result"
    }
   ],
   "source": [
    "# N_WINDOW_POINTS = int(source_clean_fs * 0.02)\n",
    "N_WINDOW_POINTS = 64\n",
    "N_WINDOW_POINTS"
   ]
  },
  {
   "cell_type": "code",
   "execution_count": 385,
   "metadata": {},
   "outputs": [
    {
     "data": {
      "text/plain": [
       "132000"
      ]
     },
     "execution_count": 385,
     "metadata": {},
     "output_type": "execute_result"
    }
   ],
   "source": [
    "N_SAMPLES = 44000 * 3\n",
    "N_SAMPLES"
   ]
  },
  {
   "cell_type": "code",
   "execution_count": 386,
   "metadata": {},
   "outputs": [],
   "source": [
    "def make_windows(X, y, n_window_points):\n",
    "    X_index = X.index\n",
    "    index = 0\n",
    "    \n",
    "    res_X = []\n",
    "    res_y = []\n",
    "\n",
    "    for index in range(0, len(X) - n_window_points - 1):\n",
    "        res_X.append(X.iloc[index:(index + n_window_points)])\n",
    "#         res_y.append(y.iloc[index + n_window_points])\n",
    "        res_y.append(y.iloc[index + n_window_points - 1])\n",
    "\n",
    "    return (np.array(res_X), np.array(res_y))"
   ]
  },
  {
   "cell_type": "code",
   "execution_count": 387,
   "metadata": {},
   "outputs": [
    {
     "name": "stdout",
     "output_type": "stream",
     "text": [
      "(132000, array([ 3.05185094e-05, -1.52592547e-04, -3.35703604e-04, -5.49333170e-04,\n",
      "       -7.32444227e-04, -9.15555283e-04, -1.12918485e-03, -1.40385143e-03,\n",
      "       -1.61748100e-03, -1.86162908e-03, -2.10577715e-03, -2.38044374e-03,\n",
      "       -2.59407330e-03, -2.80770287e-03, -3.02133244e-03, -3.23496200e-03,\n",
      "       -3.38755455e-03, -3.54014710e-03, -3.75377666e-03, -3.93688772e-03,\n",
      "       -4.08948027e-03, -4.21155430e-03, -4.30310983e-03, -4.39466536e-03,\n",
      "       -4.45570238e-03, -4.57777642e-03, -4.69985045e-03, -4.79140598e-03,\n",
      "       -4.94399853e-03, -5.06607257e-03, -5.31022064e-03, -5.52385021e-03,\n",
      "       -5.85955381e-03, -6.50044251e-03, -7.14133121e-03, -7.87377544e-03,\n",
      "       -8.54518265e-03, -9.27762687e-03, -9.94903408e-03, -1.06814783e-02,\n",
      "       -1.12918485e-02, -1.18717002e-02, -1.24820704e-02, -1.30619220e-02,\n",
      "       -1.36722922e-02, -1.42216254e-02, -1.47404401e-02, -1.51982177e-02,\n",
      "       -1.55949583e-02, -1.58391073e-02, -1.59306619e-02, -1.58391073e-02,\n",
      "       -1.55949583e-02, -1.51982177e-02, -1.46183660e-02, -1.38859218e-02,\n",
      "       -1.30314035e-02, -1.21158483e-02, -1.11392559e-02, -1.01931822e-02,\n",
      "       -9.24710836e-03, -8.51466414e-03, -7.93481246e-03, -7.59910885e-03],\n",
      "      dtype=float32), -0.054567095)\n",
      "CPU times: user 16.9 s, sys: 159 ms, total: 17 s\n",
      "Wall time: 17.1 s\n"
     ]
    }
   ],
   "source": [
    "%%time\n",
    "(X_tr_f, y_tr_f) = make_windows(\n",
    "    pd.Series(X_tr_n[:(N_SAMPLES + N_WINDOW_POINTS + 1)]),\n",
    "    pd.Series(y_tr_n[:(N_SAMPLES + N_WINDOW_POINTS + 1)]),\n",
    "    N_WINDOW_POINTS)\n",
    "print((len(X_tr_f), X_tr_f[0], y_tr_f[0]))"
   ]
  },
  {
   "cell_type": "code",
   "execution_count": 388,
   "metadata": {},
   "outputs": [
    {
     "data": {
      "text/plain": [
       "(array([-0.00015259, -0.0003357 , -0.00054933, -0.00073244, -0.00091556,\n",
       "        -0.00112918, -0.00140385, -0.00161748, -0.00186163, -0.00210578,\n",
       "        -0.00238044, -0.00259407, -0.0028077 , -0.00302133, -0.00323496,\n",
       "        -0.00338755, -0.00354015, -0.00375378, -0.00393689, -0.00408948,\n",
       "        -0.00421155, -0.00430311, -0.00439467, -0.0044557 , -0.00457778,\n",
       "        -0.00469985, -0.00479141, -0.004944  , -0.00506607, -0.00531022,\n",
       "        -0.00552385, -0.00585955, -0.00650044, -0.00714133, -0.00787378,\n",
       "        -0.00854518, -0.00927763, -0.00994903, -0.01068148, -0.01129185,\n",
       "        -0.0118717 , -0.01248207, -0.01306192, -0.01367229, -0.01422163,\n",
       "        -0.01474044, -0.01519822, -0.01559496, -0.01583911, -0.01593066,\n",
       "        -0.01583911, -0.01559496, -0.01519822, -0.01461837, -0.01388592,\n",
       "        -0.0130314 , -0.01211585, -0.01113926, -0.01019318, -0.00924711,\n",
       "        -0.00851466, -0.00793481, -0.00759911, -0.00747703], dtype=float32),\n",
       " -0.053773616)"
      ]
     },
     "execution_count": 388,
     "metadata": {},
     "output_type": "execute_result"
    }
   ],
   "source": [
    "X_tr_f[1], y_tr_f[1]"
   ]
  },
  {
   "cell_type": "code",
   "execution_count": 389,
   "metadata": {},
   "outputs": [
    {
     "name": "stdout",
     "output_type": "stream",
     "text": [
      "(132000, array([0.105533  , 0.10586871, 0.1061739 , 0.10635701, 0.1065096 ,\n",
      "       0.10654011, 0.10647908, 0.10635701, 0.1061739 , 0.10592975,\n",
      "       0.105533  , 0.10507523, 0.10455641, 0.10391553, 0.1032136 ,\n",
      "       0.10242012, 0.10153508, 0.10058901, 0.09955138, 0.09839167,\n",
      "       0.09720145, 0.09588916, 0.09454634, 0.09305093, 0.09155553,\n",
      "       0.08990753, 0.08822901, 0.08648945, 0.08465835, 0.0827662 ,\n",
      "       0.08084353, 0.07882931, 0.07672353, 0.07458724, 0.07238991,\n",
      "       0.07016205, 0.06787317, 0.06552324, 0.0631428 , 0.06073184,\n",
      "       0.05829035, 0.05578784, 0.05328532, 0.0507828 , 0.04821924,\n",
      "       0.04565569, 0.04306162, 0.04049806, 0.03790399, 0.03530991,\n",
      "       0.03277688, 0.03021332, 0.02764977, 0.02517777, 0.02264473,\n",
      "       0.02023377, 0.01782281, 0.01544237, 0.01312296, 0.01083407,\n",
      "       0.00860622, 0.00640889, 0.00424207, 0.00219733], dtype=float32), 0.0045777764)\n",
      "CPU times: user 18.5 s, sys: 201 ms, total: 18.7 s\n",
      "Wall time: 18.8 s\n"
     ]
    }
   ],
   "source": [
    "%%time\n",
    "(X_te_f, y_te_f) = make_windows(\n",
    "    pd.Series(X_te_n[:(N_SAMPLES + N_WINDOW_POINTS + 1)]),\n",
    "    pd.Series(y_te_n[:(N_SAMPLES + N_WINDOW_POINTS + 1)]),\n",
    "    N_WINDOW_POINTS\n",
    ")\n",
    "print((len(X_te_f), X_te_f[0], y_te_f[0]))"
   ]
  },
  {
   "cell_type": "code",
   "execution_count": 415,
   "metadata": {},
   "outputs": [
    {
     "data": {
      "text/plain": [
       "(array([0.10586871, 0.1061739 , 0.10635701, 0.1065096 , 0.10654011,\n",
       "        0.10647908, 0.10635701, 0.1061739 , 0.10592975, 0.105533  ,\n",
       "        0.10507523, 0.10455641, 0.10391553, 0.1032136 , 0.10242012,\n",
       "        0.10153508, 0.10058901, 0.09955138, 0.09839167, 0.09720145,\n",
       "        0.09588916, 0.09454634, 0.09305093, 0.09155553, 0.08990753,\n",
       "        0.08822901, 0.08648945, 0.08465835, 0.0827662 , 0.08084353,\n",
       "        0.07882931, 0.07672353, 0.07458724, 0.07238991, 0.07016205,\n",
       "        0.06787317, 0.06552324, 0.0631428 , 0.06073184, 0.05829035,\n",
       "        0.05578784, 0.05328532, 0.0507828 , 0.04821924, 0.04565569,\n",
       "        0.04306162, 0.04049806, 0.03790399, 0.03530991, 0.03277688,\n",
       "        0.03021332, 0.02764977, 0.02517777, 0.02264473, 0.02023377,\n",
       "        0.01782281, 0.01544237, 0.01312296, 0.01083407, 0.00860622,\n",
       "        0.00640889, 0.00424207, 0.00219733, 0.00015259], dtype=float32),\n",
       " 0.0003357036)"
      ]
     },
     "execution_count": 415,
     "metadata": {},
     "output_type": "execute_result"
    }
   ],
   "source": [
    "X_te_f[1], y_te_f[1]"
   ]
  },
  {
   "cell_type": "code",
   "execution_count": null,
   "metadata": {},
   "outputs": [],
   "source": []
  },
  {
   "cell_type": "code",
   "execution_count": 391,
   "metadata": {},
   "outputs": [],
   "source": [
    "# import numpy as np\n",
    "\n",
    "# train_shuffle_index = np.arange(0, len(X_tr_f))\n",
    "# np.random.shuffle(train_shuffle_index)\n",
    "\n",
    "# test_shuffle_index = np.arange(0, len(X_te_f))\n",
    "# np.random.shuffle(test_shuffle_index)\n",
    "\n",
    "# X_tr_f = np.array(X_tr_f)[train_shuffle_index]\n",
    "# y_tr_f = np.array(y_tr_f)[train_shuffle_index]\n",
    "\n",
    "# X_te_f = np.array(X_te_f)[test_shuffle_index]\n",
    "# y_te_f = np.array(y_te_f)[test_shuffle_index]\n",
    "\n",
    "# X_tr_f[0], y_tr_f[0], len(X_tr_f), len(y_tr_f), len(X_te_f), len(y_te_f)"
   ]
  },
  {
   "cell_type": "code",
   "execution_count": 392,
   "metadata": {},
   "outputs": [],
   "source": [
    "# X_tr_f = X_tr_n\n",
    "# y_tr_f = y_tr_n\n",
    "\n",
    "# X_te_f = X_te_n\n",
    "# y_te_f = y_te_n"
   ]
  },
  {
   "cell_type": "code",
   "execution_count": 393,
   "metadata": {},
   "outputs": [
    {
     "data": {
      "text/plain": [
       "(132000, 132000, 132000, 132000)"
      ]
     },
     "execution_count": 393,
     "metadata": {},
     "output_type": "execute_result"
    }
   ],
   "source": [
    "(len(X_tr_f), len(y_tr_f), len(X_te_f), len(y_te_f))"
   ]
  },
  {
   "cell_type": "code",
   "execution_count": 394,
   "metadata": {},
   "outputs": [],
   "source": [
    "# list(map(lambda row: row[:N_PEAKS*2], X_tr_f))[0]\n",
    "# # list(map(lambda row: row[:N_PEAKS], X_tr_f))[0]"
   ]
  },
  {
   "cell_type": "code",
   "execution_count": 395,
   "metadata": {
    "scrolled": true
   },
   "outputs": [],
   "source": [
    "# from matplotlib import pyplot as plt\n",
    "\n",
    "# # amp_df = pd.DataFrame(list(map(lambda row: row[N_PEAKS:N_PEAKS*2], X_tr_f)))\n",
    "# amp_df = pd.DataFrame(list(map(lambda row: row, X_tr_f)))\n",
    "\n",
    "# f = plt.figure(figsize=(19, 15))\n",
    "# plt.matshow(amp_df.corr())\n",
    "# plt.xticks(range(amp_df.shape[1]), amp_df.columns, fontsize=14, rotation=45)\n",
    "# plt.yticks(range(amp_df.shape[1]), amp_df.columns, fontsize=14)\n",
    "# cb = plt.colorbar()\n",
    "# cb.ax.tick_params(labelsize=14)\n",
    "# plt.title('Correlation Matrix', fontsize=16);"
   ]
  },
  {
   "cell_type": "code",
   "execution_count": 396,
   "metadata": {
    "scrolled": false
   },
   "outputs": [
    {
     "data": {
      "text/plain": [
       "<matplotlib.axes._subplots.AxesSubplot at 0x1950dc518>"
      ]
     },
     "execution_count": 396,
     "metadata": {},
     "output_type": "execute_result"
    }
   ],
   "source": [
    "pd.Series(X_tr_f[0]).plot.line(figsize=(16, 8))"
   ]
  },
  {
   "cell_type": "code",
   "execution_count": 397,
   "metadata": {},
   "outputs": [
    {
     "data": {
      "text/plain": [
       "<matplotlib.axes._subplots.AxesSubplot at 0x1950dc518>"
      ]
     },
     "execution_count": 397,
     "metadata": {},
     "output_type": "execute_result"
    }
   ],
   "source": [
    "pd.Series(y_tr_f[:N_WINDOW_POINTS]).plot.line(figsize=(16, 8))"
   ]
  },
  {
   "cell_type": "code",
   "execution_count": 398,
   "metadata": {},
   "outputs": [
    {
     "data": {
      "text/plain": [
       "<matplotlib.axes._subplots.AxesSubplot at 0x1950dc518>"
      ]
     },
     "execution_count": 398,
     "metadata": {},
     "output_type": "execute_result"
    }
   ],
   "source": [
    "pd.Series(X_te_f[0]).plot.line(figsize=(16, 8))"
   ]
  },
  {
   "cell_type": "code",
   "execution_count": 399,
   "metadata": {
    "scrolled": false
   },
   "outputs": [
    {
     "data": {
      "text/plain": [
       "<matplotlib.axes._subplots.AxesSubplot at 0x1950dc518>"
      ]
     },
     "execution_count": 399,
     "metadata": {},
     "output_type": "execute_result"
    }
   ],
   "source": [
    "pd.Series(y_te_f[:N_WINDOW_POINTS]).plot.line(figsize=(16, 8))"
   ]
  },
  {
   "cell_type": "code",
   "execution_count": 400,
   "metadata": {},
   "outputs": [],
   "source": [
    "n_features = 1"
   ]
  },
  {
   "cell_type": "code",
   "execution_count": 401,
   "metadata": {},
   "outputs": [
    {
     "data": {
      "text/plain": [
       "(array([ 3.05185094e-05, -1.52592547e-04, -3.35703604e-04, -5.49333170e-04,\n",
       "        -7.32444227e-04, -9.15555283e-04, -1.12918485e-03, -1.40385143e-03,\n",
       "        -1.61748100e-03, -1.86162908e-03, -2.10577715e-03, -2.38044374e-03,\n",
       "        -2.59407330e-03, -2.80770287e-03, -3.02133244e-03, -3.23496200e-03,\n",
       "        -3.38755455e-03, -3.54014710e-03, -3.75377666e-03, -3.93688772e-03,\n",
       "        -4.08948027e-03, -4.21155430e-03, -4.30310983e-03, -4.39466536e-03,\n",
       "        -4.45570238e-03, -4.57777642e-03, -4.69985045e-03, -4.79140598e-03,\n",
       "        -4.94399853e-03, -5.06607257e-03, -5.31022064e-03, -5.52385021e-03,\n",
       "        -5.85955381e-03, -6.50044251e-03, -7.14133121e-03, -7.87377544e-03,\n",
       "        -8.54518265e-03, -9.27762687e-03, -9.94903408e-03, -1.06814783e-02,\n",
       "        -1.12918485e-02, -1.18717002e-02, -1.24820704e-02, -1.30619220e-02,\n",
       "        -1.36722922e-02, -1.42216254e-02, -1.47404401e-02, -1.51982177e-02,\n",
       "        -1.55949583e-02, -1.58391073e-02, -1.59306619e-02, -1.58391073e-02,\n",
       "        -1.55949583e-02, -1.51982177e-02, -1.46183660e-02, -1.38859218e-02,\n",
       "        -1.30314035e-02, -1.21158483e-02, -1.11392559e-02, -1.01931822e-02,\n",
       "        -9.24710836e-03, -8.51466414e-03, -7.93481246e-03, -7.59910885e-03],\n",
       "       dtype=float32), -0.054567095)"
      ]
     },
     "execution_count": 401,
     "metadata": {},
     "output_type": "execute_result"
    }
   ],
   "source": [
    "(X_tr_f[0], y_tr_f[0])"
   ]
  },
  {
   "cell_type": "code",
   "execution_count": 402,
   "metadata": {},
   "outputs": [
    {
     "data": {
      "text/plain": [
       "array([[ 3.0518509e-05],\n",
       "       [-1.5259255e-04],\n",
       "       [-3.3570360e-04],\n",
       "       [-5.4933317e-04],\n",
       "       [-7.3244423e-04]], dtype=float32)"
      ]
     },
     "execution_count": 402,
     "metadata": {},
     "output_type": "execute_result"
    }
   ],
   "source": [
    "X_tr_s = X_tr_f.reshape(X_tr_f.shape[0], X_tr_f.shape[1], 1)\n",
    "X_tr_s[0][:5]"
   ]
  },
  {
   "cell_type": "code",
   "execution_count": 403,
   "metadata": {},
   "outputs": [],
   "source": [
    "y_tr_s = y_tr_f"
   ]
  },
  {
   "cell_type": "code",
   "execution_count": 404,
   "metadata": {},
   "outputs": [
    {
     "data": {
      "text/plain": [
       "array([[0.105533  ],\n",
       "       [0.10586871],\n",
       "       [0.1061739 ],\n",
       "       [0.10635701],\n",
       "       [0.1065096 ]], dtype=float32)"
      ]
     },
     "execution_count": 404,
     "metadata": {},
     "output_type": "execute_result"
    }
   ],
   "source": [
    "X_te_s = X_te_f.reshape(X_te_f.shape[0], X_te_f.shape[1], 1)\n",
    "X_te_s[0][:5]"
   ]
  },
  {
   "cell_type": "code",
   "execution_count": 405,
   "metadata": {},
   "outputs": [],
   "source": [
    "y_te_s = y_te_f"
   ]
  },
  {
   "cell_type": "code",
   "execution_count": 406,
   "metadata": {},
   "outputs": [],
   "source": [
    "def add_stats(row):\n",
    "    stats = [\n",
    "        np.abs(row[-1]),\n",
    "        -np.abs(row[-1]),\n",
    "#         np.mean(row),\n",
    "#         np.max(row),\n",
    "#         np.min(row),\n",
    "#         np.var(row)\n",
    "    ]\n",
    "\n",
    "    return np.array([(list(x) + list(stats)) for x in row])"
   ]
  },
  {
   "cell_type": "code",
   "execution_count": 407,
   "metadata": {},
   "outputs": [],
   "source": [
    "# %%time\n",
    "# X_tr_s = np.array([add_stats(row) for row in X_tr_s])\n",
    "# print(X_tr_s[0][0], X_tr_s[0][1])"
   ]
  },
  {
   "cell_type": "code",
   "execution_count": 408,
   "metadata": {},
   "outputs": [],
   "source": [
    "# %%time\n",
    "# X_te_s = np.array([add_stats(row) for row in X_te_s])\n",
    "# print(X_te_s[0][0], X_te_s[0][1])"
   ]
  },
  {
   "cell_type": "code",
   "execution_count": 409,
   "metadata": {},
   "outputs": [
    {
     "data": {
      "text/plain": [
       "4"
      ]
     },
     "execution_count": 409,
     "metadata": {},
     "output_type": "execute_result"
    }
   ],
   "source": [
    "N_REPEAT = 4\n",
    "N_REPEAT"
   ]
  },
  {
   "cell_type": "code",
   "execution_count": 410,
   "metadata": {},
   "outputs": [
    {
     "data": {
      "text/plain": [
       "array([3.051851e-05], dtype=float32)"
      ]
     },
     "execution_count": 410,
     "metadata": {},
     "output_type": "execute_result"
    }
   ],
   "source": [
    "X_tr_s[0][0]"
   ]
  },
  {
   "cell_type": "code",
   "execution_count": 411,
   "metadata": {},
   "outputs": [],
   "source": [
    "# X_tr_s = np.repeat(X_tr_s, N_REPEAT, axis=0)\n",
    "# X_tr_s[0][0], X_tr_s[1][0]"
   ]
  },
  {
   "cell_type": "code",
   "execution_count": 412,
   "metadata": {
    "scrolled": true
   },
   "outputs": [],
   "source": [
    "# y_tr_s = np.repeat(y_tr_s, N_REPEAT, axis=0)\n",
    "# y_tr_s[0], y_tr_s[1]"
   ]
  },
  {
   "cell_type": "code",
   "execution_count": 413,
   "metadata": {},
   "outputs": [],
   "source": [
    "# X_te_s = np.repeat(X_te_s, N_REPEAT, axis=0)\n",
    "# X_te_s[0][0], X_te_s[1][0]"
   ]
  },
  {
   "cell_type": "code",
   "execution_count": 414,
   "metadata": {},
   "outputs": [],
   "source": [
    "# y_te_s = np.repeat(y_te_s, N_REPEAT, axis=0)\n",
    "# y_tr_s[0], y_tr_s[1]"
   ]
  },
  {
   "cell_type": "markdown",
   "metadata": {},
   "source": [
    "## Finished data processing!\n",
    "\n",
    "## Moving on to training NN"
   ]
  },
  {
   "cell_type": "code",
   "execution_count": 244,
   "metadata": {},
   "outputs": [],
   "source": [
    "import numpy as np"
   ]
  },
  {
   "cell_type": "code",
   "execution_count": 245,
   "metadata": {},
   "outputs": [],
   "source": [
    "# num_steps=100, 24 hidden states"
   ]
  },
  {
   "cell_type": "code",
   "execution_count": null,
   "metadata": {},
   "outputs": [],
   "source": []
  },
  {
   "cell_type": "code",
   "execution_count": 246,
   "metadata": {},
   "outputs": [],
   "source": [
    "import keras\n",
    "import tensorflow as tf\n",
    "from keras.models import Sequential, Model\n",
    "from keras.layers import Dense, Dropout, Activation, Flatten, LSTM, Reshape, GRU, GaussianNoise\n",
    "from keras.layers import Convolution2D, MaxPooling2D, Layer, Input, BatchNormalization\n",
    "from keras.utils import np_utils\n",
    "from keras.regularizers import L1L2\n",
    "from keras.layers.merge import concatenate\n",
    "\n",
    "tf.set_random_seed(1234)"
   ]
  },
  {
   "cell_type": "code",
   "execution_count": 247,
   "metadata": {},
   "outputs": [
    {
     "data": {
      "text/plain": [
       "((8000, 64, 1), (8000,), (8000, 64, 1), (8000,))"
      ]
     },
     "execution_count": 247,
     "metadata": {},
     "output_type": "execute_result"
    }
   ],
   "source": [
    "X_tr_s.shape, y_tr_s.shape, X_te_s.shape, y_te_s.shape"
   ]
  },
  {
   "cell_type": "code",
   "execution_count": 248,
   "metadata": {},
   "outputs": [
    {
     "data": {
      "text/plain": [
       "array([-0.05456709, -0.05377362, -0.05502487, ...,  0.09576708,\n",
       "        0.09561449,  0.09479049], dtype=float32)"
      ]
     },
     "execution_count": 248,
     "metadata": {},
     "output_type": "execute_result"
    }
   ],
   "source": [
    "y_tr_s"
   ]
  },
  {
   "cell_type": "code",
   "execution_count": 249,
   "metadata": {},
   "outputs": [],
   "source": [
    "from keras import backend as K\n",
    "from keras.layers import Layer\n",
    "\n",
    "class DebugLayer(Layer):\n",
    "\n",
    "    def __init__(self, output_dim, **kwargs):\n",
    "        self.output_dim = output_dim\n",
    "        super(DebugLayer, self).__init__(**kwargs)\n",
    "\n",
    "    def build(self, input_shape):\n",
    "        super(DebugLayer, self).build(input_shape)  # Be sure to call this at the end\n",
    "\n",
    "    def call(self, x):\n",
    "        print(x[0])\n",
    "        return x"
   ]
  },
  {
   "cell_type": "code",
   "execution_count": 326,
   "metadata": {},
   "outputs": [],
   "source": [
    "from scipy.signal import savgol_filter\n",
    "from matplotlib import pyplot as plt\n",
    "\n",
    "\n",
    "# TensorBoard callback\n",
    "# tensorboard_cb = keras.callbacks.TensorBoard(\n",
    "#     log_dir='./logs',\n",
    "#     batch_size=BATCH_SIZE,\n",
    "#     # histogram_freq='batch',\n",
    "#     write_graph=True,\n",
    "#     write_grads=True,\n",
    "#     write_images=True\n",
    "# )\n",
    "\n",
    "class TestModel(keras.callbacks.Callback):\n",
    "    def __init__(self, model, I=200, batch_size=1):\n",
    "        self.model = model\n",
    "        self.I = I\n",
    "        self.batch_size = batch_size\n",
    "        \n",
    "    def on_train_begin(self, batch):\n",
    "#         (fig, ax) = plt.subplots(figsize=(12, 8))\n",
    "        I = self.I\n",
    "        (fig, ax) = plt.subplots()\n",
    "        self.fig = fig\n",
    "        self.ax = ax\n",
    "        \n",
    "        feat = pd.Series((np.array(list(map(lambda row: row[-1][0], X_tr_s[:I])))))\n",
    "\n",
    "        feat_data, =  ax.plot(feat.values, label='feature')\n",
    "\n",
    "        targ = (pd.Series((y_tr_s[:I])))\n",
    "\n",
    "        pred = pd.Series(np.zeros(I))\n",
    "        # pred = (pred * 2.2) + 0.001\n",
    "        pred = pred + 0.001\n",
    "\n",
    "        zeros = pd.Series(np.zeros(I))\n",
    "        zeros.plot.line(ax=ax, label='0')\n",
    "\n",
    "        targ_data, = ax.plot(targ.values, label='target')\n",
    "\n",
    "        pred_data, = ax.plot(pred.values, label='predicted')\n",
    "        # pd.Series(savgol_filter(pred, 5, 3)).plot.line(ax=ax, label='savgol(predicted)')\n",
    "        \n",
    "        self.feat_data = feat_data\n",
    "        self.targ_data = targ_data\n",
    "        self.pred_data = pred_data\n",
    "        \n",
    "        ax.legend(loc='upper right')\n",
    "        ax.set_title('NN predictions on first {} samples'.format(I))\n",
    "        ax.set_xlabel('index')\n",
    "        ax.set_ylabel('value')\n",
    "        \n",
    "        plt.show()\n",
    "        fig.canvas.draw()\n",
    "        \n",
    "        \n",
    "    def on_epoch_end(self, batch, logs={}):\n",
    "        model = self.model\n",
    "        \n",
    "        fig = self.fig\n",
    "        ax = self.ax\n",
    "        \n",
    "        I = self.I\n",
    "        batch_size = self.batch_size\n",
    "\n",
    "        feat = pd.Series((np.array(list(map(lambda row: row[-1][0], X_tr_s[:I])))))\n",
    "\n",
    "        self.feat_data.set_ydata(feat.values)\n",
    "\n",
    "        targ = (pd.Series((y_tr_s[:I])))\n",
    "\n",
    "        pred = pd.Series(predict(model, X_tr_s[:I], batch_size=batch_size))\n",
    "        # pred = (pred * 2.2) + 0.001\n",
    "        pred = pred + 0.001\n",
    "\n",
    "        # zeros = pd.Series(np.zeros(I))\n",
    "        # zeros.plot.line(ax=ax, label='0')\n",
    "\n",
    "        self.targ_data.set_ydata(targ.values)\n",
    "\n",
    "        self.pred_data.set_ydata(pred.values)\n",
    "        # pd.Series(savgol_filter(pred, 5, 3)).plot.line(ax=ax, label='savgol(predicted)')\n",
    "\n",
    "        # pd.Series(normalize(np.array(list(map(lambda w: w[-1], X_tr_f[:I]))))).plot.line(ax=ax, label='feature')\n",
    "\n",
    "        fig.canvas.draw()\n",
    "\n",
    "\n",
    "# Callback to display the target and prediciton\n",
    "# test_model_cb = keras.callbacks.LambdaCallback(on_epoch_end=testmodel)"
   ]
  },
  {
   "cell_type": "code",
   "execution_count": 339,
   "metadata": {},
   "outputs": [],
   "source": [
    "from keras import backend as K\n",
    "    \n",
    "N_UNITS = 24\n",
    "BATCH_SIZE = 1\n",
    "\n",
    "def create_lstm_model(X_tr, y_tr, x_val, y_val, params):\n",
    "    print(params)\n",
    "    \n",
    "    input_L = Input(\n",
    "        shape=(N_WINDOW_POINTS, n_features),\n",
    "        batch_shape=(params['batch_size'], N_WINDOW_POINTS, n_features),\n",
    "    )\n",
    "\n",
    "    # bn_L = (BatchNormalization()(input_L))\n",
    "\n",
    "    gru_1_L = GRU(\n",
    "        params['n_units'],\n",
    "        input_shape=(N_WINDOW_POINTS, n_features),\n",
    "        batch_input_shape=(params['batch_size'], N_WINDOW_POINTS, n_features),\n",
    "        # bias_regularizer=L1L2(l1=0.1, l2=0.1),\n",
    "        stateful=True,\n",
    "        # reset_after=True,\n",
    "        # batch_input_shape=(params['batch_size'], N_WINDOW_POINTS, n_features),\n",
    "        activation='tanh',\n",
    "        recurrent_activation='hard_sigmoid',\n",
    "        # kernel_initializer=keras.initializers.RandomNormal(stddev=0.1),\n",
    "        kernel_initializer=keras.initializers.glorot_uniform(seed=43),\n",
    "#         recurrent_initializer=keras.initializers.Orthogonal(gain=1.0, seed=42),\n",
    "        recurrent_initializer=keras.initializers.glorot_uniform(seed=43),\n",
    "        # kernel_initializer='identity',\n",
    "        bias_initializer='zeros',\n",
    "        return_sequences=True,\n",
    "    )(input_L)\n",
    "\n",
    "    gru_2_L = GRU(\n",
    "        params['n_units'],\n",
    "        input_shape=(N_WINDOW_POINTS, n_features),\n",
    "        batch_input_shape=(params['batch_size'], N_WINDOW_POINTS, n_features),\n",
    "        # bias_regularizer=L1L2(l1=0.1, l2=0.1),\n",
    "        stateful=True,\n",
    "        # reset_after=True,\n",
    "        # batch_input_shape=(params['batch_size'], N_WINDOW_POINTS, n_features),\n",
    "        activation='tanh',\n",
    "        recurrent_activation='hard_sigmoid',\n",
    "        # kernel_initializer=keras.initializers.RandomNormal(stddev=0.1),\n",
    "        kernel_initializer=keras.initializers.glorot_uniform(seed=43),\n",
    "#         recurrent_initializer=keras.initializers.Orthogonal(gain=1.0, seed=42),\n",
    "        recurrent_initializer=keras.initializers.glorot_uniform(seed=43),\n",
    "        # kernel_initializer='identity',\n",
    "        bias_initializer='zeros',\n",
    "    #     return_sequences=True,\n",
    "    )(gru_1_L)\n",
    "\n",
    "    dense_2_l = Dense(\n",
    "        1,\n",
    "        activation=None,\n",
    "        kernel_initializer='identity',\n",
    "        bias_initializer='zeros',\n",
    "    # )(gru_1_l)\n",
    "    )(gru_2_L)\n",
    "\n",
    "\n",
    "    model = Model(inputs=input_L, outputs=dense_2_l)\n",
    "\n",
    "    optimizer = keras.optimizers.adam(lr=params['lr'], clipvalue=10, clipnorm=10)\n",
    "    # optimizer = keras.optimizers.SGD(lr=params['lr'], decay=0.2)\n",
    "\n",
    "\n",
    "    def mean_squared_error(y_true, y_pred):\n",
    "        return K.mean(K.square(10 * (y_pred - y_true)), axis=-1)\n",
    "\n",
    "    # model.compile(optimizer=optimizer, loss='mse')\n",
    "    model.compile(optimizer=optimizer, loss='mae')\n",
    "    \n",
    "    # TRAIN\n",
    "\n",
    "    es_cb = keras.callbacks.EarlyStopping(\n",
    "        monitor='val_loss',\n",
    "        min_delta=0.0001,\n",
    "        patience=8,\n",
    "        verbose=0,\n",
    "        mode='auto',\n",
    "    )\n",
    "\n",
    "    def step_decay(epoch):\n",
    "        initial_lrate = params['lr']\n",
    "        drop = 0.8\n",
    "        epochs_drop = 20.0\n",
    "        lrate = initial_lrate * math.pow(drop,  \n",
    "               math.floor((1+epoch)/epochs_drop))\n",
    "        return lrate\n",
    "\n",
    "    lrate = keras.callbacks.LearningRateScheduler(step_decay)\n",
    "\n",
    "    test_model_cb = TestModel(model, I=min(params['n_samples'], 100), batch_size=params['batch_size'])\n",
    "\n",
    "    history = model.fit(\n",
    "        X_tr_s[:params['n_samples']],\n",
    "        y_tr_s[:params['n_samples']],\n",
    "#         X_tr_s[:40],\n",
    "#         y_tr_s[:40],\n",
    "        batch_size=params['batch_size'],\n",
    "        shuffle=False,\n",
    "    #     epochs=400,\n",
    "#         epochs=100,\n",
    "        epochs=params['epochs'],\n",
    "        verbose=1,\n",
    "        # validation_data=(X_te_s[:400], y_te_s[:400]),\n",
    "        # validation_data=(X_te_s[:200], y_te_s[:200]),\n",
    "        # callbacks=[es_cb, test_model_cb, tensorboard_cb],\n",
    "        callbacks=[es_cb, test_model_cb, lrate],\n",
    "    )\n",
    "    \n",
    "    return (history, model)\n",
    "\n"
   ]
  },
  {
   "cell_type": "code",
   "execution_count": 324,
   "metadata": {},
   "outputs": [],
   "source": [
    "import math\n",
    "\n",
    "def predict(model, X_input, batch_size=1):\n",
    "    # X_input = np.array(rows).reshape(rows.shape[0], rows.shape[1], n_features)\n",
    "    \n",
    "    return np.array(\n",
    "        model.predict(\n",
    "            X_input[:(math.floor(len(X_input) / batch_size) * batch_size)], batch_size=batch_size\n",
    "        )\n",
    "    ).flatten()"
   ]
  },
  {
   "cell_type": "code",
   "execution_count": null,
   "metadata": {},
   "outputs": [],
   "source": []
  },
  {
   "cell_type": "code",
   "execution_count": 322,
   "metadata": {
    "scrolled": true
   },
   "outputs": [
    {
     "name": "stderr",
     "output_type": "stream",
     "text": [
      "\n",
      "\n",
      "\n",
      "\n",
      "\n",
      "\n",
      "\n",
      "\n",
      "\n",
      "\n",
      "\n",
      "\n",
      "\n",
      "\n",
      "\n",
      "\n",
      "\n",
      "\n",
      "\n",
      "\n",
      "\n",
      "\n",
      "\n",
      "\n",
      "\n",
      "\n",
      "\n",
      "\n",
      "\n",
      "  0%|          | 0/9 [00:00<?, ?it/s]\u001b[A\u001b[A\u001b[A\u001b[A\u001b[A\u001b[A\u001b[A\u001b[A\u001b[A\u001b[A\u001b[A\u001b[A\u001b[A\u001b[A\u001b[A\u001b[A\u001b[A\u001b[A\u001b[A\u001b[A\u001b[A\u001b[A\u001b[A\u001b[A\u001b[A\u001b[A\u001b[A\u001b[A\u001b[A"
     ]
    },
    {
     "name": "stdout",
     "output_type": "stream",
     "text": [
      "{'lr': 0.001, 'n_samples': 80, 'n_units': 4, 'batch_size': 10, 'epochs': 10, 'optimizer': <class 'keras.optimizers.Adam'>}\n",
      "ERROR MESSAGE : __init__() got an unexpected keyword argument 'batch_size'\n"
     ]
    },
    {
     "ename": "TalosReturnError",
     "evalue": "Make sure that input model returns 'out, model' where out is history object from model.fit()",
     "output_type": "error",
     "traceback": [
      "\u001b[0;31m---------------------------------------------------------------------------\u001b[0m",
      "\u001b[0;31mTypeError\u001b[0m                                 Traceback (most recent call last)",
      "\u001b[0;32m/usr/local/lib/python3.7/site-packages/talos/scan/scan_round.py\u001b[0m in \u001b[0;36mscan_round\u001b[0;34m(self)\u001b[0m\n\u001b[1;32m     31\u001b[0m     \u001b[0;32mtry\u001b[0m\u001b[0;34m:\u001b[0m\u001b[0;34m\u001b[0m\u001b[0;34m\u001b[0m\u001b[0m\n\u001b[0;32m---> 32\u001b[0;31m         \u001b[0m_hr_out\u001b[0m\u001b[0;34m,\u001b[0m \u001b[0mself\u001b[0m\u001b[0;34m.\u001b[0m\u001b[0mkeras_model\u001b[0m \u001b[0;34m=\u001b[0m \u001b[0mingest_model\u001b[0m\u001b[0;34m(\u001b[0m\u001b[0mself\u001b[0m\u001b[0;34m)\u001b[0m\u001b[0;34m\u001b[0m\u001b[0;34m\u001b[0m\u001b[0m\n\u001b[0m\u001b[1;32m     33\u001b[0m     \u001b[0;32mexcept\u001b[0m \u001b[0mTypeError\u001b[0m \u001b[0;32mas\u001b[0m \u001b[0merr\u001b[0m\u001b[0;34m:\u001b[0m\u001b[0;34m\u001b[0m\u001b[0;34m\u001b[0m\u001b[0m\n",
      "\u001b[0;32m/usr/local/lib/python3.7/site-packages/talos/model/ingest_model.py\u001b[0m in \u001b[0;36mingest_model\u001b[0;34m(self)\u001b[0m\n\u001b[1;32m      9\u001b[0m                       \u001b[0mself\u001b[0m\u001b[0;34m.\u001b[0m\u001b[0my_val\u001b[0m\u001b[0;34m,\u001b[0m\u001b[0;34m\u001b[0m\u001b[0;34m\u001b[0m\u001b[0m\n\u001b[0;32m---> 10\u001b[0;31m                       self.round_params)\n\u001b[0m",
      "\u001b[0;32m<ipython-input-319-e7979d7c9b57>\u001b[0m in \u001b[0;36mcreate_lstm_model\u001b[0;34m(X_tr, y_tr, x_val, y_val, params)\u001b[0m\n\u001b[1;32m     94\u001b[0m \u001b[0;34m\u001b[0m\u001b[0m\n\u001b[0;32m---> 95\u001b[0;31m     \u001b[0mtest_model_cb\u001b[0m \u001b[0;34m=\u001b[0m \u001b[0mTestModel\u001b[0m\u001b[0;34m(\u001b[0m\u001b[0mmodel\u001b[0m\u001b[0;34m,\u001b[0m \u001b[0mI\u001b[0m\u001b[0;34m=\u001b[0m\u001b[0mmin\u001b[0m\u001b[0;34m(\u001b[0m\u001b[0mparams\u001b[0m\u001b[0;34m[\u001b[0m\u001b[0;34m'n_samples'\u001b[0m\u001b[0;34m]\u001b[0m\u001b[0;34m,\u001b[0m \u001b[0;36m100\u001b[0m\u001b[0;34m)\u001b[0m\u001b[0;34m,\u001b[0m \u001b[0mbatch_size\u001b[0m\u001b[0;34m=\u001b[0m\u001b[0mparams\u001b[0m\u001b[0;34m[\u001b[0m\u001b[0;34m'batch_size'\u001b[0m\u001b[0;34m]\u001b[0m\u001b[0;34m)\u001b[0m\u001b[0;34m\u001b[0m\u001b[0;34m\u001b[0m\u001b[0m\n\u001b[0m\u001b[1;32m     96\u001b[0m \u001b[0;34m\u001b[0m\u001b[0m\n",
      "\u001b[0;31mTypeError\u001b[0m: __init__() got an unexpected keyword argument 'batch_size'",
      "\nDuring handling of the above exception, another exception occurred:\n",
      "\u001b[0;31mTalosReturnError\u001b[0m                          Traceback (most recent call last)",
      "\u001b[0;32m<ipython-input-322-eadefa4bf75e>\u001b[0m in \u001b[0;36m<module>\u001b[0;34m\u001b[0m\n\u001b[1;32m     28\u001b[0m \u001b[0;31m#             grid_downsample=0.5,\u001b[0m\u001b[0;34m\u001b[0m\u001b[0;34m\u001b[0m\u001b[0;34m\u001b[0m\u001b[0m\n\u001b[1;32m     29\u001b[0m             \u001b[0mparams\u001b[0m\u001b[0;34m=\u001b[0m\u001b[0mp\u001b[0m\u001b[0;34m,\u001b[0m\u001b[0;34m\u001b[0m\u001b[0;34m\u001b[0m\u001b[0m\n\u001b[0;32m---> 30\u001b[0;31m             experiment_no='3')\n\u001b[0m",
      "\u001b[0;32m/usr/local/lib/python3.7/site-packages/talos/scan/Scan.py\u001b[0m in \u001b[0;36m__init__\u001b[0;34m(self, x, y, params, model, dataset_name, experiment_no, x_val, y_val, val_split, shuffle, round_limit, grid_downsample, random_method, seed, search_method, reduction_method, reduction_interval, reduction_window, reduction_threshold, reduction_metric, reduce_loss, last_epoch_value, clear_tf_session, disable_progress_bar, print_params, debug)\u001b[0m\n\u001b[1;32m    168\u001b[0m         \u001b[0;31m# input parameters section ends\u001b[0m\u001b[0;34m\u001b[0m\u001b[0;34m\u001b[0m\u001b[0;34m\u001b[0m\u001b[0m\n\u001b[1;32m    169\u001b[0m \u001b[0;34m\u001b[0m\u001b[0m\n\u001b[0;32m--> 170\u001b[0;31m         \u001b[0mself\u001b[0m\u001b[0;34m.\u001b[0m\u001b[0m_null\u001b[0m \u001b[0;34m=\u001b[0m \u001b[0mself\u001b[0m\u001b[0;34m.\u001b[0m\u001b[0mruntime\u001b[0m\u001b[0;34m(\u001b[0m\u001b[0;34m)\u001b[0m\u001b[0;34m\u001b[0m\u001b[0;34m\u001b[0m\u001b[0m\n\u001b[0m\u001b[1;32m    171\u001b[0m \u001b[0;34m\u001b[0m\u001b[0m\n\u001b[1;32m    172\u001b[0m     \u001b[0;32mdef\u001b[0m \u001b[0mruntime\u001b[0m\u001b[0;34m(\u001b[0m\u001b[0mself\u001b[0m\u001b[0;34m)\u001b[0m\u001b[0;34m:\u001b[0m\u001b[0;34m\u001b[0m\u001b[0;34m\u001b[0m\u001b[0m\n",
      "\u001b[0;32m/usr/local/lib/python3.7/site-packages/talos/scan/Scan.py\u001b[0m in \u001b[0;36mruntime\u001b[0;34m(self)\u001b[0m\n\u001b[1;32m    173\u001b[0m \u001b[0;34m\u001b[0m\u001b[0m\n\u001b[1;32m    174\u001b[0m         \u001b[0mself\u001b[0m \u001b[0;34m=\u001b[0m \u001b[0mscan_prepare\u001b[0m\u001b[0;34m(\u001b[0m\u001b[0mself\u001b[0m\u001b[0;34m)\u001b[0m\u001b[0;34m\u001b[0m\u001b[0;34m\u001b[0m\u001b[0m\n\u001b[0;32m--> 175\u001b[0;31m         \u001b[0mself\u001b[0m \u001b[0;34m=\u001b[0m \u001b[0mscan_run\u001b[0m\u001b[0;34m(\u001b[0m\u001b[0mself\u001b[0m\u001b[0;34m)\u001b[0m\u001b[0;34m\u001b[0m\u001b[0;34m\u001b[0m\u001b[0m\n\u001b[0m",
      "\u001b[0;32m/usr/local/lib/python3.7/site-packages/talos/scan/scan_run.py\u001b[0m in \u001b[0;36mscan_run\u001b[0;34m(self)\u001b[0m\n\u001b[1;32m     16\u001b[0m                      disable=self.disable_progress_bar)\n\u001b[1;32m     17\u001b[0m     \u001b[0;32mwhile\u001b[0m \u001b[0mlen\u001b[0m\u001b[0;34m(\u001b[0m\u001b[0mself\u001b[0m\u001b[0;34m.\u001b[0m\u001b[0mparam_log\u001b[0m\u001b[0;34m)\u001b[0m \u001b[0;34m!=\u001b[0m \u001b[0;36m0\u001b[0m\u001b[0;34m:\u001b[0m\u001b[0;34m\u001b[0m\u001b[0;34m\u001b[0m\u001b[0m\n\u001b[0;32m---> 18\u001b[0;31m         \u001b[0mself\u001b[0m \u001b[0;34m=\u001b[0m \u001b[0mscan_round\u001b[0m\u001b[0;34m(\u001b[0m\u001b[0mself\u001b[0m\u001b[0;34m)\u001b[0m\u001b[0;34m\u001b[0m\u001b[0;34m\u001b[0m\u001b[0m\n\u001b[0m\u001b[1;32m     19\u001b[0m         \u001b[0mself\u001b[0m\u001b[0;34m.\u001b[0m\u001b[0mpbar\u001b[0m\u001b[0;34m.\u001b[0m\u001b[0mupdate\u001b[0m\u001b[0;34m(\u001b[0m\u001b[0;36m1\u001b[0m\u001b[0;34m)\u001b[0m\u001b[0;34m\u001b[0m\u001b[0;34m\u001b[0m\u001b[0m\n\u001b[1;32m     20\u001b[0m     \u001b[0mself\u001b[0m\u001b[0;34m.\u001b[0m\u001b[0mpbar\u001b[0m\u001b[0;34m.\u001b[0m\u001b[0mclose\u001b[0m\u001b[0;34m(\u001b[0m\u001b[0;34m)\u001b[0m\u001b[0;34m\u001b[0m\u001b[0;34m\u001b[0m\u001b[0m\n",
      "\u001b[0;32m/usr/local/lib/python3.7/site-packages/talos/scan/scan_round.py\u001b[0m in \u001b[0;36mscan_round\u001b[0;34m(self)\u001b[0m\n\u001b[1;32m     36\u001b[0m         \u001b[0;32melse\u001b[0m\u001b[0;34m:\u001b[0m\u001b[0;34m\u001b[0m\u001b[0;34m\u001b[0m\u001b[0m\n\u001b[1;32m     37\u001b[0m             \u001b[0mprint\u001b[0m\u001b[0;34m(\u001b[0m\u001b[0;34m'ERROR MESSAGE : '\u001b[0m \u001b[0;34m+\u001b[0m \u001b[0merr\u001b[0m\u001b[0;34m.\u001b[0m\u001b[0margs\u001b[0m\u001b[0;34m[\u001b[0m\u001b[0;36m0\u001b[0m\u001b[0;34m]\u001b[0m\u001b[0;34m)\u001b[0m\u001b[0;34m\u001b[0m\u001b[0;34m\u001b[0m\u001b[0m\n\u001b[0;32m---> 38\u001b[0;31m             \u001b[0;32mraise\u001b[0m \u001b[0mTalosReturnError\u001b[0m\u001b[0;34m(\u001b[0m\u001b[0;34m\"Make sure that input model returns 'out, model' where out is history object from model.fit()\"\u001b[0m\u001b[0;34m)\u001b[0m\u001b[0;34m\u001b[0m\u001b[0;34m\u001b[0m\u001b[0m\n\u001b[0m\u001b[1;32m     39\u001b[0m \u001b[0;34m\u001b[0m\u001b[0m\n\u001b[1;32m     40\u001b[0m     \u001b[0;31m# set end time and log\u001b[0m\u001b[0;34m\u001b[0m\u001b[0;34m\u001b[0m\u001b[0;34m\u001b[0m\u001b[0m\n",
      "\u001b[0;31mTalosReturnError\u001b[0m: Make sure that input model returns 'out, model' where out is history object from model.fit()"
     ]
    }
   ],
   "source": [
    "from keras.optimizers import Adam, Nadam, RMSprop\n",
    "import talos as ta\n",
    "\n",
    "p = {\n",
    "     'lr': [0.001, 0.003, 0.01],\n",
    "     'n_samples': [80],\n",
    "     'n_units': [4, 8, 16],\n",
    "#      'batch_size': [10, 100, 1000],\n",
    "     'batch_size': [10],\n",
    "     'epochs': [10],\n",
    "     # 'dropout': (0, 0.5, 5),\n",
    "     # 'weight_regulizer':[None],\n",
    "     # 'emb_output_dims': [None],\n",
    "     # 'shape':['brick','long_funnel'],\n",
    "     'optimizer': [Adam],\n",
    " }\n",
    "#     'lr': 0.001,\n",
    "#     'n_samples': 20,\n",
    "#     'n_units': 24,\n",
    "#     'batch_size': 10,\n",
    "#     'epochs': 100,\n",
    "#     'optimizer': keras.optimizers.Adam,\n",
    "\n",
    "# and run the experiment\n",
    "t = ta.Scan(x=X_tr_s[:np.max(p['n_samples'])],\n",
    "            y=y_tr_s[:np.max(p['n_samples'])],\n",
    "            model=create_lstm_model,\n",
    "#             grid_downsample=0.5,\n",
    "            params=p,\n",
    "            experiment_no='3')\n"
   ]
  },
  {
   "cell_type": "code",
   "execution_count": null,
   "metadata": {},
   "outputs": [],
   "source": [
    "r = ta.Reporting(t)\n",
    "r.data.sort_values(by='loss')"
   ]
  },
  {
   "cell_type": "code",
   "execution_count": null,
   "metadata": {},
   "outputs": [],
   "source": [
    "best_params = r.data.loc[3]\n",
    "best_params"
   ]
  },
  {
   "cell_type": "code",
   "execution_count": 135,
   "metadata": {},
   "outputs": [
    {
     "data": {
      "text/plain": [
       "dict"
      ]
     },
     "execution_count": 135,
     "metadata": {},
     "output_type": "execute_result"
    }
   ],
   "source": [
    "type(best_params)"
   ]
  },
  {
   "cell_type": "code",
   "execution_count": 424,
   "metadata": {
    "scrolled": false
   },
   "outputs": [
    {
     "name": "stdout",
     "output_type": "stream",
     "text": [
      "{'lr': 0.001, 'n_samples': 60, 'n_units': 12, 'batch_size': 1, 'epochs': 300, 'optimizer': <class 'keras.optimizers.Adam'>}\n"
     ]
    },
    {
     "data": {
      "application/javascript": [
       "/* Put everything inside the global mpl namespace */\n",
       "window.mpl = {};\n",
       "\n",
       "\n",
       "mpl.get_websocket_type = function() {\n",
       "    if (typeof(WebSocket) !== 'undefined') {\n",
       "        return WebSocket;\n",
       "    } else if (typeof(MozWebSocket) !== 'undefined') {\n",
       "        return MozWebSocket;\n",
       "    } else {\n",
       "        alert('Your browser does not have WebSocket support.' +\n",
       "              'Please try Chrome, Safari or Firefox ≥ 6. ' +\n",
       "              'Firefox 4 and 5 are also supported but you ' +\n",
       "              'have to enable WebSockets in about:config.');\n",
       "    };\n",
       "}\n",
       "\n",
       "mpl.figure = function(figure_id, websocket, ondownload, parent_element) {\n",
       "    this.id = figure_id;\n",
       "\n",
       "    this.ws = websocket;\n",
       "\n",
       "    this.supports_binary = (this.ws.binaryType != undefined);\n",
       "\n",
       "    if (!this.supports_binary) {\n",
       "        var warnings = document.getElementById(\"mpl-warnings\");\n",
       "        if (warnings) {\n",
       "            warnings.style.display = 'block';\n",
       "            warnings.textContent = (\n",
       "                \"This browser does not support binary websocket messages. \" +\n",
       "                    \"Performance may be slow.\");\n",
       "        }\n",
       "    }\n",
       "\n",
       "    this.imageObj = new Image();\n",
       "\n",
       "    this.context = undefined;\n",
       "    this.message = undefined;\n",
       "    this.canvas = undefined;\n",
       "    this.rubberband_canvas = undefined;\n",
       "    this.rubberband_context = undefined;\n",
       "    this.format_dropdown = undefined;\n",
       "\n",
       "    this.image_mode = 'full';\n",
       "\n",
       "    this.root = $('<div/>');\n",
       "    this._root_extra_style(this.root)\n",
       "    this.root.attr('style', 'display: inline-block');\n",
       "\n",
       "    $(parent_element).append(this.root);\n",
       "\n",
       "    this._init_header(this);\n",
       "    this._init_canvas(this);\n",
       "    this._init_toolbar(this);\n",
       "\n",
       "    var fig = this;\n",
       "\n",
       "    this.waiting = false;\n",
       "\n",
       "    this.ws.onopen =  function () {\n",
       "            fig.send_message(\"supports_binary\", {value: fig.supports_binary});\n",
       "            fig.send_message(\"send_image_mode\", {});\n",
       "            if (mpl.ratio != 1) {\n",
       "                fig.send_message(\"set_dpi_ratio\", {'dpi_ratio': mpl.ratio});\n",
       "            }\n",
       "            fig.send_message(\"refresh\", {});\n",
       "        }\n",
       "\n",
       "    this.imageObj.onload = function() {\n",
       "            if (fig.image_mode == 'full') {\n",
       "                // Full images could contain transparency (where diff images\n",
       "                // almost always do), so we need to clear the canvas so that\n",
       "                // there is no ghosting.\n",
       "                fig.context.clearRect(0, 0, fig.canvas.width, fig.canvas.height);\n",
       "            }\n",
       "            fig.context.drawImage(fig.imageObj, 0, 0);\n",
       "        };\n",
       "\n",
       "    this.imageObj.onunload = function() {\n",
       "        fig.ws.close();\n",
       "    }\n",
       "\n",
       "    this.ws.onmessage = this._make_on_message_function(this);\n",
       "\n",
       "    this.ondownload = ondownload;\n",
       "}\n",
       "\n",
       "mpl.figure.prototype._init_header = function() {\n",
       "    var titlebar = $(\n",
       "        '<div class=\"ui-dialog-titlebar ui-widget-header ui-corner-all ' +\n",
       "        'ui-helper-clearfix\"/>');\n",
       "    var titletext = $(\n",
       "        '<div class=\"ui-dialog-title\" style=\"width: 100%; ' +\n",
       "        'text-align: center; padding: 3px;\"/>');\n",
       "    titlebar.append(titletext)\n",
       "    this.root.append(titlebar);\n",
       "    this.header = titletext[0];\n",
       "}\n",
       "\n",
       "\n",
       "\n",
       "mpl.figure.prototype._canvas_extra_style = function(canvas_div) {\n",
       "\n",
       "}\n",
       "\n",
       "\n",
       "mpl.figure.prototype._root_extra_style = function(canvas_div) {\n",
       "\n",
       "}\n",
       "\n",
       "mpl.figure.prototype._init_canvas = function() {\n",
       "    var fig = this;\n",
       "\n",
       "    var canvas_div = $('<div/>');\n",
       "\n",
       "    canvas_div.attr('style', 'position: relative; clear: both; outline: 0');\n",
       "\n",
       "    function canvas_keyboard_event(event) {\n",
       "        return fig.key_event(event, event['data']);\n",
       "    }\n",
       "\n",
       "    canvas_div.keydown('key_press', canvas_keyboard_event);\n",
       "    canvas_div.keyup('key_release', canvas_keyboard_event);\n",
       "    this.canvas_div = canvas_div\n",
       "    this._canvas_extra_style(canvas_div)\n",
       "    this.root.append(canvas_div);\n",
       "\n",
       "    var canvas = $('<canvas/>');\n",
       "    canvas.addClass('mpl-canvas');\n",
       "    canvas.attr('style', \"left: 0; top: 0; z-index: 0; outline: 0\")\n",
       "\n",
       "    this.canvas = canvas[0];\n",
       "    this.context = canvas[0].getContext(\"2d\");\n",
       "\n",
       "    var backingStore = this.context.backingStorePixelRatio ||\n",
       "\tthis.context.webkitBackingStorePixelRatio ||\n",
       "\tthis.context.mozBackingStorePixelRatio ||\n",
       "\tthis.context.msBackingStorePixelRatio ||\n",
       "\tthis.context.oBackingStorePixelRatio ||\n",
       "\tthis.context.backingStorePixelRatio || 1;\n",
       "\n",
       "    mpl.ratio = (window.devicePixelRatio || 1) / backingStore;\n",
       "\n",
       "    var rubberband = $('<canvas/>');\n",
       "    rubberband.attr('style', \"position: absolute; left: 0; top: 0; z-index: 1;\")\n",
       "\n",
       "    var pass_mouse_events = true;\n",
       "\n",
       "    canvas_div.resizable({\n",
       "        start: function(event, ui) {\n",
       "            pass_mouse_events = false;\n",
       "        },\n",
       "        resize: function(event, ui) {\n",
       "            fig.request_resize(ui.size.width, ui.size.height);\n",
       "        },\n",
       "        stop: function(event, ui) {\n",
       "            pass_mouse_events = true;\n",
       "            fig.request_resize(ui.size.width, ui.size.height);\n",
       "        },\n",
       "    });\n",
       "\n",
       "    function mouse_event_fn(event) {\n",
       "        if (pass_mouse_events)\n",
       "            return fig.mouse_event(event, event['data']);\n",
       "    }\n",
       "\n",
       "    rubberband.mousedown('button_press', mouse_event_fn);\n",
       "    rubberband.mouseup('button_release', mouse_event_fn);\n",
       "    // Throttle sequential mouse events to 1 every 20ms.\n",
       "    rubberband.mousemove('motion_notify', mouse_event_fn);\n",
       "\n",
       "    rubberband.mouseenter('figure_enter', mouse_event_fn);\n",
       "    rubberband.mouseleave('figure_leave', mouse_event_fn);\n",
       "\n",
       "    canvas_div.on(\"wheel\", function (event) {\n",
       "        event = event.originalEvent;\n",
       "        event['data'] = 'scroll'\n",
       "        if (event.deltaY < 0) {\n",
       "            event.step = 1;\n",
       "        } else {\n",
       "            event.step = -1;\n",
       "        }\n",
       "        mouse_event_fn(event);\n",
       "    });\n",
       "\n",
       "    canvas_div.append(canvas);\n",
       "    canvas_div.append(rubberband);\n",
       "\n",
       "    this.rubberband = rubberband;\n",
       "    this.rubberband_canvas = rubberband[0];\n",
       "    this.rubberband_context = rubberband[0].getContext(\"2d\");\n",
       "    this.rubberband_context.strokeStyle = \"#000000\";\n",
       "\n",
       "    this._resize_canvas = function(width, height) {\n",
       "        // Keep the size of the canvas, canvas container, and rubber band\n",
       "        // canvas in synch.\n",
       "        canvas_div.css('width', width)\n",
       "        canvas_div.css('height', height)\n",
       "\n",
       "        canvas.attr('width', width * mpl.ratio);\n",
       "        canvas.attr('height', height * mpl.ratio);\n",
       "        canvas.attr('style', 'width: ' + width + 'px; height: ' + height + 'px;');\n",
       "\n",
       "        rubberband.attr('width', width);\n",
       "        rubberband.attr('height', height);\n",
       "    }\n",
       "\n",
       "    // Set the figure to an initial 600x600px, this will subsequently be updated\n",
       "    // upon first draw.\n",
       "    this._resize_canvas(600, 600);\n",
       "\n",
       "    // Disable right mouse context menu.\n",
       "    $(this.rubberband_canvas).bind(\"contextmenu\",function(e){\n",
       "        return false;\n",
       "    });\n",
       "\n",
       "    function set_focus () {\n",
       "        canvas.focus();\n",
       "        canvas_div.focus();\n",
       "    }\n",
       "\n",
       "    window.setTimeout(set_focus, 100);\n",
       "}\n",
       "\n",
       "mpl.figure.prototype._init_toolbar = function() {\n",
       "    var fig = this;\n",
       "\n",
       "    var nav_element = $('<div/>')\n",
       "    nav_element.attr('style', 'width: 100%');\n",
       "    this.root.append(nav_element);\n",
       "\n",
       "    // Define a callback function for later on.\n",
       "    function toolbar_event(event) {\n",
       "        return fig.toolbar_button_onclick(event['data']);\n",
       "    }\n",
       "    function toolbar_mouse_event(event) {\n",
       "        return fig.toolbar_button_onmouseover(event['data']);\n",
       "    }\n",
       "\n",
       "    for(var toolbar_ind in mpl.toolbar_items) {\n",
       "        var name = mpl.toolbar_items[toolbar_ind][0];\n",
       "        var tooltip = mpl.toolbar_items[toolbar_ind][1];\n",
       "        var image = mpl.toolbar_items[toolbar_ind][2];\n",
       "        var method_name = mpl.toolbar_items[toolbar_ind][3];\n",
       "\n",
       "        if (!name) {\n",
       "            // put a spacer in here.\n",
       "            continue;\n",
       "        }\n",
       "        var button = $('<button/>');\n",
       "        button.addClass('ui-button ui-widget ui-state-default ui-corner-all ' +\n",
       "                        'ui-button-icon-only');\n",
       "        button.attr('role', 'button');\n",
       "        button.attr('aria-disabled', 'false');\n",
       "        button.click(method_name, toolbar_event);\n",
       "        button.mouseover(tooltip, toolbar_mouse_event);\n",
       "\n",
       "        var icon_img = $('<span/>');\n",
       "        icon_img.addClass('ui-button-icon-primary ui-icon');\n",
       "        icon_img.addClass(image);\n",
       "        icon_img.addClass('ui-corner-all');\n",
       "\n",
       "        var tooltip_span = $('<span/>');\n",
       "        tooltip_span.addClass('ui-button-text');\n",
       "        tooltip_span.html(tooltip);\n",
       "\n",
       "        button.append(icon_img);\n",
       "        button.append(tooltip_span);\n",
       "\n",
       "        nav_element.append(button);\n",
       "    }\n",
       "\n",
       "    var fmt_picker_span = $('<span/>');\n",
       "\n",
       "    var fmt_picker = $('<select/>');\n",
       "    fmt_picker.addClass('mpl-toolbar-option ui-widget ui-widget-content');\n",
       "    fmt_picker_span.append(fmt_picker);\n",
       "    nav_element.append(fmt_picker_span);\n",
       "    this.format_dropdown = fmt_picker[0];\n",
       "\n",
       "    for (var ind in mpl.extensions) {\n",
       "        var fmt = mpl.extensions[ind];\n",
       "        var option = $(\n",
       "            '<option/>', {selected: fmt === mpl.default_extension}).html(fmt);\n",
       "        fmt_picker.append(option)\n",
       "    }\n",
       "\n",
       "    // Add hover states to the ui-buttons\n",
       "    $( \".ui-button\" ).hover(\n",
       "        function() { $(this).addClass(\"ui-state-hover\");},\n",
       "        function() { $(this).removeClass(\"ui-state-hover\");}\n",
       "    );\n",
       "\n",
       "    var status_bar = $('<span class=\"mpl-message\"/>');\n",
       "    nav_element.append(status_bar);\n",
       "    this.message = status_bar[0];\n",
       "}\n",
       "\n",
       "mpl.figure.prototype.request_resize = function(x_pixels, y_pixels) {\n",
       "    // Request matplotlib to resize the figure. Matplotlib will then trigger a resize in the client,\n",
       "    // which will in turn request a refresh of the image.\n",
       "    this.send_message('resize', {'width': x_pixels, 'height': y_pixels});\n",
       "}\n",
       "\n",
       "mpl.figure.prototype.send_message = function(type, properties) {\n",
       "    properties['type'] = type;\n",
       "    properties['figure_id'] = this.id;\n",
       "    this.ws.send(JSON.stringify(properties));\n",
       "}\n",
       "\n",
       "mpl.figure.prototype.send_draw_message = function() {\n",
       "    if (!this.waiting) {\n",
       "        this.waiting = true;\n",
       "        this.ws.send(JSON.stringify({type: \"draw\", figure_id: this.id}));\n",
       "    }\n",
       "}\n",
       "\n",
       "\n",
       "mpl.figure.prototype.handle_save = function(fig, msg) {\n",
       "    var format_dropdown = fig.format_dropdown;\n",
       "    var format = format_dropdown.options[format_dropdown.selectedIndex].value;\n",
       "    fig.ondownload(fig, format);\n",
       "}\n",
       "\n",
       "\n",
       "mpl.figure.prototype.handle_resize = function(fig, msg) {\n",
       "    var size = msg['size'];\n",
       "    if (size[0] != fig.canvas.width || size[1] != fig.canvas.height) {\n",
       "        fig._resize_canvas(size[0], size[1]);\n",
       "        fig.send_message(\"refresh\", {});\n",
       "    };\n",
       "}\n",
       "\n",
       "mpl.figure.prototype.handle_rubberband = function(fig, msg) {\n",
       "    var x0 = msg['x0'] / mpl.ratio;\n",
       "    var y0 = (fig.canvas.height - msg['y0']) / mpl.ratio;\n",
       "    var x1 = msg['x1'] / mpl.ratio;\n",
       "    var y1 = (fig.canvas.height - msg['y1']) / mpl.ratio;\n",
       "    x0 = Math.floor(x0) + 0.5;\n",
       "    y0 = Math.floor(y0) + 0.5;\n",
       "    x1 = Math.floor(x1) + 0.5;\n",
       "    y1 = Math.floor(y1) + 0.5;\n",
       "    var min_x = Math.min(x0, x1);\n",
       "    var min_y = Math.min(y0, y1);\n",
       "    var width = Math.abs(x1 - x0);\n",
       "    var height = Math.abs(y1 - y0);\n",
       "\n",
       "    fig.rubberband_context.clearRect(\n",
       "        0, 0, fig.canvas.width, fig.canvas.height);\n",
       "\n",
       "    fig.rubberband_context.strokeRect(min_x, min_y, width, height);\n",
       "}\n",
       "\n",
       "mpl.figure.prototype.handle_figure_label = function(fig, msg) {\n",
       "    // Updates the figure title.\n",
       "    fig.header.textContent = msg['label'];\n",
       "}\n",
       "\n",
       "mpl.figure.prototype.handle_cursor = function(fig, msg) {\n",
       "    var cursor = msg['cursor'];\n",
       "    switch(cursor)\n",
       "    {\n",
       "    case 0:\n",
       "        cursor = 'pointer';\n",
       "        break;\n",
       "    case 1:\n",
       "        cursor = 'default';\n",
       "        break;\n",
       "    case 2:\n",
       "        cursor = 'crosshair';\n",
       "        break;\n",
       "    case 3:\n",
       "        cursor = 'move';\n",
       "        break;\n",
       "    }\n",
       "    fig.rubberband_canvas.style.cursor = cursor;\n",
       "}\n",
       "\n",
       "mpl.figure.prototype.handle_message = function(fig, msg) {\n",
       "    fig.message.textContent = msg['message'];\n",
       "}\n",
       "\n",
       "mpl.figure.prototype.handle_draw = function(fig, msg) {\n",
       "    // Request the server to send over a new figure.\n",
       "    fig.send_draw_message();\n",
       "}\n",
       "\n",
       "mpl.figure.prototype.handle_image_mode = function(fig, msg) {\n",
       "    fig.image_mode = msg['mode'];\n",
       "}\n",
       "\n",
       "mpl.figure.prototype.updated_canvas_event = function() {\n",
       "    // Called whenever the canvas gets updated.\n",
       "    this.send_message(\"ack\", {});\n",
       "}\n",
       "\n",
       "// A function to construct a web socket function for onmessage handling.\n",
       "// Called in the figure constructor.\n",
       "mpl.figure.prototype._make_on_message_function = function(fig) {\n",
       "    return function socket_on_message(evt) {\n",
       "        if (evt.data instanceof Blob) {\n",
       "            /* FIXME: We get \"Resource interpreted as Image but\n",
       "             * transferred with MIME type text/plain:\" errors on\n",
       "             * Chrome.  But how to set the MIME type?  It doesn't seem\n",
       "             * to be part of the websocket stream */\n",
       "            evt.data.type = \"image/png\";\n",
       "\n",
       "            /* Free the memory for the previous frames */\n",
       "            if (fig.imageObj.src) {\n",
       "                (window.URL || window.webkitURL).revokeObjectURL(\n",
       "                    fig.imageObj.src);\n",
       "            }\n",
       "\n",
       "            fig.imageObj.src = (window.URL || window.webkitURL).createObjectURL(\n",
       "                evt.data);\n",
       "            fig.updated_canvas_event();\n",
       "            fig.waiting = false;\n",
       "            return;\n",
       "        }\n",
       "        else if (typeof evt.data === 'string' && evt.data.slice(0, 21) == \"data:image/png;base64\") {\n",
       "            fig.imageObj.src = evt.data;\n",
       "            fig.updated_canvas_event();\n",
       "            fig.waiting = false;\n",
       "            return;\n",
       "        }\n",
       "\n",
       "        var msg = JSON.parse(evt.data);\n",
       "        var msg_type = msg['type'];\n",
       "\n",
       "        // Call the  \"handle_{type}\" callback, which takes\n",
       "        // the figure and JSON message as its only arguments.\n",
       "        try {\n",
       "            var callback = fig[\"handle_\" + msg_type];\n",
       "        } catch (e) {\n",
       "            console.log(\"No handler for the '\" + msg_type + \"' message type: \", msg);\n",
       "            return;\n",
       "        }\n",
       "\n",
       "        if (callback) {\n",
       "            try {\n",
       "                // console.log(\"Handling '\" + msg_type + \"' message: \", msg);\n",
       "                callback(fig, msg);\n",
       "            } catch (e) {\n",
       "                console.log(\"Exception inside the 'handler_\" + msg_type + \"' callback:\", e, e.stack, msg);\n",
       "            }\n",
       "        }\n",
       "    };\n",
       "}\n",
       "\n",
       "// from http://stackoverflow.com/questions/1114465/getting-mouse-location-in-canvas\n",
       "mpl.findpos = function(e) {\n",
       "    //this section is from http://www.quirksmode.org/js/events_properties.html\n",
       "    var targ;\n",
       "    if (!e)\n",
       "        e = window.event;\n",
       "    if (e.target)\n",
       "        targ = e.target;\n",
       "    else if (e.srcElement)\n",
       "        targ = e.srcElement;\n",
       "    if (targ.nodeType == 3) // defeat Safari bug\n",
       "        targ = targ.parentNode;\n",
       "\n",
       "    // jQuery normalizes the pageX and pageY\n",
       "    // pageX,Y are the mouse positions relative to the document\n",
       "    // offset() returns the position of the element relative to the document\n",
       "    var x = e.pageX - $(targ).offset().left;\n",
       "    var y = e.pageY - $(targ).offset().top;\n",
       "\n",
       "    return {\"x\": x, \"y\": y};\n",
       "};\n",
       "\n",
       "/*\n",
       " * return a copy of an object with only non-object keys\n",
       " * we need this to avoid circular references\n",
       " * http://stackoverflow.com/a/24161582/3208463\n",
       " */\n",
       "function simpleKeys (original) {\n",
       "  return Object.keys(original).reduce(function (obj, key) {\n",
       "    if (typeof original[key] !== 'object')\n",
       "        obj[key] = original[key]\n",
       "    return obj;\n",
       "  }, {});\n",
       "}\n",
       "\n",
       "mpl.figure.prototype.mouse_event = function(event, name) {\n",
       "    var canvas_pos = mpl.findpos(event)\n",
       "\n",
       "    if (name === 'button_press')\n",
       "    {\n",
       "        this.canvas.focus();\n",
       "        this.canvas_div.focus();\n",
       "    }\n",
       "\n",
       "    var x = canvas_pos.x * mpl.ratio;\n",
       "    var y = canvas_pos.y * mpl.ratio;\n",
       "\n",
       "    this.send_message(name, {x: x, y: y, button: event.button,\n",
       "                             step: event.step,\n",
       "                             guiEvent: simpleKeys(event)});\n",
       "\n",
       "    /* This prevents the web browser from automatically changing to\n",
       "     * the text insertion cursor when the button is pressed.  We want\n",
       "     * to control all of the cursor setting manually through the\n",
       "     * 'cursor' event from matplotlib */\n",
       "    event.preventDefault();\n",
       "    return false;\n",
       "}\n",
       "\n",
       "mpl.figure.prototype._key_event_extra = function(event, name) {\n",
       "    // Handle any extra behaviour associated with a key event\n",
       "}\n",
       "\n",
       "mpl.figure.prototype.key_event = function(event, name) {\n",
       "\n",
       "    // Prevent repeat events\n",
       "    if (name == 'key_press')\n",
       "    {\n",
       "        if (event.which === this._key)\n",
       "            return;\n",
       "        else\n",
       "            this._key = event.which;\n",
       "    }\n",
       "    if (name == 'key_release')\n",
       "        this._key = null;\n",
       "\n",
       "    var value = '';\n",
       "    if (event.ctrlKey && event.which != 17)\n",
       "        value += \"ctrl+\";\n",
       "    if (event.altKey && event.which != 18)\n",
       "        value += \"alt+\";\n",
       "    if (event.shiftKey && event.which != 16)\n",
       "        value += \"shift+\";\n",
       "\n",
       "    value += 'k';\n",
       "    value += event.which.toString();\n",
       "\n",
       "    this._key_event_extra(event, name);\n",
       "\n",
       "    this.send_message(name, {key: value,\n",
       "                             guiEvent: simpleKeys(event)});\n",
       "    return false;\n",
       "}\n",
       "\n",
       "mpl.figure.prototype.toolbar_button_onclick = function(name) {\n",
       "    if (name == 'download') {\n",
       "        this.handle_save(this, null);\n",
       "    } else {\n",
       "        this.send_message(\"toolbar_button\", {name: name});\n",
       "    }\n",
       "};\n",
       "\n",
       "mpl.figure.prototype.toolbar_button_onmouseover = function(tooltip) {\n",
       "    this.message.textContent = tooltip;\n",
       "};\n",
       "mpl.toolbar_items = [[\"Home\", \"Reset original view\", \"fa fa-home icon-home\", \"home\"], [\"Back\", \"Back to  previous view\", \"fa fa-arrow-left icon-arrow-left\", \"back\"], [\"Forward\", \"Forward to next view\", \"fa fa-arrow-right icon-arrow-right\", \"forward\"], [\"\", \"\", \"\", \"\"], [\"Pan\", \"Pan axes with left mouse, zoom with right\", \"fa fa-arrows icon-move\", \"pan\"], [\"Zoom\", \"Zoom to rectangle\", \"fa fa-square-o icon-check-empty\", \"zoom\"], [\"\", \"\", \"\", \"\"], [\"Download\", \"Download plot\", \"fa fa-floppy-o icon-save\", \"download\"]];\n",
       "\n",
       "mpl.extensions = [\"eps\", \"jpeg\", \"pdf\", \"png\", \"ps\", \"raw\", \"svg\", \"tif\"];\n",
       "\n",
       "mpl.default_extension = \"png\";var comm_websocket_adapter = function(comm) {\n",
       "    // Create a \"websocket\"-like object which calls the given IPython comm\n",
       "    // object with the appropriate methods. Currently this is a non binary\n",
       "    // socket, so there is still some room for performance tuning.\n",
       "    var ws = {};\n",
       "\n",
       "    ws.close = function() {\n",
       "        comm.close()\n",
       "    };\n",
       "    ws.send = function(m) {\n",
       "        //console.log('sending', m);\n",
       "        comm.send(m);\n",
       "    };\n",
       "    // Register the callback with on_msg.\n",
       "    comm.on_msg(function(msg) {\n",
       "        //console.log('receiving', msg['content']['data'], msg);\n",
       "        // Pass the mpl event to the overridden (by mpl) onmessage function.\n",
       "        ws.onmessage(msg['content']['data'])\n",
       "    });\n",
       "    return ws;\n",
       "}\n",
       "\n",
       "mpl.mpl_figure_comm = function(comm, msg) {\n",
       "    // This is the function which gets called when the mpl process\n",
       "    // starts-up an IPython Comm through the \"matplotlib\" channel.\n",
       "\n",
       "    var id = msg.content.data.id;\n",
       "    // Get hold of the div created by the display call when the Comm\n",
       "    // socket was opened in Python.\n",
       "    var element = $(\"#\" + id);\n",
       "    var ws_proxy = comm_websocket_adapter(comm)\n",
       "\n",
       "    function ondownload(figure, format) {\n",
       "        window.open(figure.imageObj.src);\n",
       "    }\n",
       "\n",
       "    var fig = new mpl.figure(id, ws_proxy,\n",
       "                           ondownload,\n",
       "                           element.get(0));\n",
       "\n",
       "    // Call onopen now - mpl needs it, as it is assuming we've passed it a real\n",
       "    // web socket which is closed, not our websocket->open comm proxy.\n",
       "    ws_proxy.onopen();\n",
       "\n",
       "    fig.parent_element = element.get(0);\n",
       "    fig.cell_info = mpl.find_output_cell(\"<div id='\" + id + \"'></div>\");\n",
       "    if (!fig.cell_info) {\n",
       "        console.error(\"Failed to find cell for figure\", id, fig);\n",
       "        return;\n",
       "    }\n",
       "\n",
       "    var output_index = fig.cell_info[2]\n",
       "    var cell = fig.cell_info[0];\n",
       "\n",
       "};\n",
       "\n",
       "mpl.figure.prototype.handle_close = function(fig, msg) {\n",
       "    var width = fig.canvas.width/mpl.ratio\n",
       "    fig.root.unbind('remove')\n",
       "\n",
       "    // Update the output cell to use the data from the current canvas.\n",
       "    fig.push_to_output();\n",
       "    var dataURL = fig.canvas.toDataURL();\n",
       "    // Re-enable the keyboard manager in IPython - without this line, in FF,\n",
       "    // the notebook keyboard shortcuts fail.\n",
       "    IPython.keyboard_manager.enable()\n",
       "    $(fig.parent_element).html('<img src=\"' + dataURL + '\" width=\"' + width + '\">');\n",
       "    fig.close_ws(fig, msg);\n",
       "}\n",
       "\n",
       "mpl.figure.prototype.close_ws = function(fig, msg){\n",
       "    fig.send_message('closing', msg);\n",
       "    // fig.ws.close()\n",
       "}\n",
       "\n",
       "mpl.figure.prototype.push_to_output = function(remove_interactive) {\n",
       "    // Turn the data on the canvas into data in the output cell.\n",
       "    var width = this.canvas.width/mpl.ratio\n",
       "    var dataURL = this.canvas.toDataURL();\n",
       "    this.cell_info[1]['text/html'] = '<img src=\"' + dataURL + '\" width=\"' + width + '\">';\n",
       "}\n",
       "\n",
       "mpl.figure.prototype.updated_canvas_event = function() {\n",
       "    // Tell IPython that the notebook contents must change.\n",
       "    IPython.notebook.set_dirty(true);\n",
       "    this.send_message(\"ack\", {});\n",
       "    var fig = this;\n",
       "    // Wait a second, then push the new image to the DOM so\n",
       "    // that it is saved nicely (might be nice to debounce this).\n",
       "    setTimeout(function () { fig.push_to_output() }, 1000);\n",
       "}\n",
       "\n",
       "mpl.figure.prototype._init_toolbar = function() {\n",
       "    var fig = this;\n",
       "\n",
       "    var nav_element = $('<div/>')\n",
       "    nav_element.attr('style', 'width: 100%');\n",
       "    this.root.append(nav_element);\n",
       "\n",
       "    // Define a callback function for later on.\n",
       "    function toolbar_event(event) {\n",
       "        return fig.toolbar_button_onclick(event['data']);\n",
       "    }\n",
       "    function toolbar_mouse_event(event) {\n",
       "        return fig.toolbar_button_onmouseover(event['data']);\n",
       "    }\n",
       "\n",
       "    for(var toolbar_ind in mpl.toolbar_items){\n",
       "        var name = mpl.toolbar_items[toolbar_ind][0];\n",
       "        var tooltip = mpl.toolbar_items[toolbar_ind][1];\n",
       "        var image = mpl.toolbar_items[toolbar_ind][2];\n",
       "        var method_name = mpl.toolbar_items[toolbar_ind][3];\n",
       "\n",
       "        if (!name) { continue; };\n",
       "\n",
       "        var button = $('<button class=\"btn btn-default\" href=\"#\" title=\"' + name + '\"><i class=\"fa ' + image + ' fa-lg\"></i></button>');\n",
       "        button.click(method_name, toolbar_event);\n",
       "        button.mouseover(tooltip, toolbar_mouse_event);\n",
       "        nav_element.append(button);\n",
       "    }\n",
       "\n",
       "    // Add the status bar.\n",
       "    var status_bar = $('<span class=\"mpl-message\" style=\"text-align:right; float: right;\"/>');\n",
       "    nav_element.append(status_bar);\n",
       "    this.message = status_bar[0];\n",
       "\n",
       "    // Add the close button to the window.\n",
       "    var buttongrp = $('<div class=\"btn-group inline pull-right\"></div>');\n",
       "    var button = $('<button class=\"btn btn-mini btn-primary\" href=\"#\" title=\"Stop Interaction\"><i class=\"fa fa-power-off icon-remove icon-large\"></i></button>');\n",
       "    button.click(function (evt) { fig.handle_close(fig, {}); } );\n",
       "    button.mouseover('Stop Interaction', toolbar_mouse_event);\n",
       "    buttongrp.append(button);\n",
       "    var titlebar = this.root.find($('.ui-dialog-titlebar'));\n",
       "    titlebar.prepend(buttongrp);\n",
       "}\n",
       "\n",
       "mpl.figure.prototype._root_extra_style = function(el){\n",
       "    var fig = this\n",
       "    el.on(\"remove\", function(){\n",
       "\tfig.close_ws(fig, {});\n",
       "    });\n",
       "}\n",
       "\n",
       "mpl.figure.prototype._canvas_extra_style = function(el){\n",
       "    // this is important to make the div 'focusable\n",
       "    el.attr('tabindex', 0)\n",
       "    // reach out to IPython and tell the keyboard manager to turn it's self\n",
       "    // off when our div gets focus\n",
       "\n",
       "    // location in version 3\n",
       "    if (IPython.notebook.keyboard_manager) {\n",
       "        IPython.notebook.keyboard_manager.register_events(el);\n",
       "    }\n",
       "    else {\n",
       "        // location in version 2\n",
       "        IPython.keyboard_manager.register_events(el);\n",
       "    }\n",
       "\n",
       "}\n",
       "\n",
       "mpl.figure.prototype._key_event_extra = function(event, name) {\n",
       "    var manager = IPython.notebook.keyboard_manager;\n",
       "    if (!manager)\n",
       "        manager = IPython.keyboard_manager;\n",
       "\n",
       "    // Check for shift+enter\n",
       "    if (event.shiftKey && event.which == 13) {\n",
       "        this.canvas_div.blur();\n",
       "        event.shiftKey = false;\n",
       "        // Send a \"J\" for go to next cell\n",
       "        event.which = 74;\n",
       "        event.keyCode = 74;\n",
       "        manager.command_mode();\n",
       "        manager.handle_keydown(event);\n",
       "    }\n",
       "}\n",
       "\n",
       "mpl.figure.prototype.handle_save = function(fig, msg) {\n",
       "    fig.ondownload(fig, null);\n",
       "}\n",
       "\n",
       "\n",
       "mpl.find_output_cell = function(html_output) {\n",
       "    // Return the cell and output element which can be found *uniquely* in the notebook.\n",
       "    // Note - this is a bit hacky, but it is done because the \"notebook_saving.Notebook\"\n",
       "    // IPython event is triggered only after the cells have been serialised, which for\n",
       "    // our purposes (turning an active figure into a static one), is too late.\n",
       "    var cells = IPython.notebook.get_cells();\n",
       "    var ncells = cells.length;\n",
       "    for (var i=0; i<ncells; i++) {\n",
       "        var cell = cells[i];\n",
       "        if (cell.cell_type === 'code'){\n",
       "            for (var j=0; j<cell.output_area.outputs.length; j++) {\n",
       "                var data = cell.output_area.outputs[j];\n",
       "                if (data.data) {\n",
       "                    // IPython >= 3 moved mimebundle to data attribute of output\n",
       "                    data = data.data;\n",
       "                }\n",
       "                if (data['text/html'] == html_output) {\n",
       "                    return [cell, data, j];\n",
       "                }\n",
       "            }\n",
       "        }\n",
       "    }\n",
       "}\n",
       "\n",
       "// Register the function which deals with the matplotlib target/channel.\n",
       "// The kernel may be null if the page has been refreshed.\n",
       "if (IPython.notebook.kernel != null) {\n",
       "    IPython.notebook.kernel.comm_manager.register_target('matplotlib', mpl.mpl_figure_comm);\n",
       "}\n"
      ],
      "text/plain": [
       "<IPython.core.display.Javascript object>"
      ]
     },
     "metadata": {},
     "output_type": "display_data"
    },
    {
     "data": {
      "text/html": [
       "<img src=\"data:image/png;base64,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\" width=\"640\">"
      ],
      "text/plain": [
       "<IPython.core.display.HTML object>"
      ]
     },
     "metadata": {},
     "output_type": "display_data"
    },
    {
     "name": "stdout",
     "output_type": "stream",
     "text": [
      "Epoch 1/300\n",
      "60/60 [==============================] - 17s 280ms/step - loss: 0.1068\n",
      "Epoch 2/300\n",
      "60/60 [==============================] - 2s 38ms/step - loss: 0.1261\n",
      "Epoch 3/300\n",
      "60/60 [==============================] - 2s 36ms/step - loss: 0.1484\n",
      "Epoch 4/300\n",
      "60/60 [==============================] - 2s 37ms/step - loss: 0.1362\n",
      "Epoch 5/300\n",
      "60/60 [==============================] - 2s 36ms/step - loss: 0.1284\n",
      "Epoch 6/300\n",
      "60/60 [==============================] - 2s 35ms/step - loss: 0.1254\n",
      "Epoch 7/300\n",
      "60/60 [==============================] - 2s 36ms/step - loss: 0.1113\n",
      "Epoch 8/300\n",
      "60/60 [==============================] - 2s 34ms/step - loss: 0.1040\n",
      "Epoch 9/300\n",
      "60/60 [==============================] - 2s 34ms/step - loss: 0.0804\n",
      "Epoch 10/300\n",
      "60/60 [==============================] - 2s 34ms/step - loss: 0.0748\n",
      "Epoch 11/300\n",
      "60/60 [==============================] - 2s 35ms/step - loss: 0.0544\n",
      "Epoch 12/300\n",
      "60/60 [==============================] - 2s 37ms/step - loss: 0.0489\n",
      "Epoch 13/300\n",
      "60/60 [==============================] - 2s 37ms/step - loss: 0.0228\n",
      "Epoch 14/300\n",
      "60/60 [==============================] - 2s 41ms/step - loss: 0.0297\n",
      "Epoch 15/300\n",
      "60/60 [==============================] - 3s 50ms/step - loss: 0.0686\n",
      "Epoch 16/300\n",
      "60/60 [==============================] - 2s 37ms/step - loss: 0.0744\n",
      "Epoch 17/300\n",
      "60/60 [==============================] - 2s 36ms/step - loss: 0.0478\n",
      "Epoch 18/300\n",
      "60/60 [==============================] - 2s 36ms/step - loss: 0.0345\n",
      "Epoch 19/300\n",
      "60/60 [==============================] - 2s 35ms/step - loss: 0.0261\n",
      "Epoch 20/300\n",
      "60/60 [==============================] - 2s 35ms/step - loss: 0.0295\n",
      "Epoch 21/300\n",
      "60/60 [==============================] - 2s 36ms/step - loss: 0.0577\n",
      "Epoch 22/300\n",
      "60/60 [==============================] - 3s 43ms/step - loss: 0.0414\n",
      "Epoch 23/300\n",
      "60/60 [==============================] - 3s 46ms/step - loss: 0.0460\n",
      "Epoch 24/300\n",
      "60/60 [==============================] - 2s 39ms/step - loss: 0.0391\n",
      "Epoch 25/300\n",
      "60/60 [==============================] - 3s 43ms/step - loss: 0.0431\n",
      "Epoch 26/300\n",
      "60/60 [==============================] - 2s 37ms/step - loss: 0.0346\n",
      "Epoch 27/300\n",
      "60/60 [==============================] - 2s 36ms/step - loss: 0.0365\n",
      "Epoch 28/300\n",
      "60/60 [==============================] - 2s 39ms/step - loss: 0.0399\n",
      "Epoch 29/300\n",
      "60/60 [==============================] - 2s 36ms/step - loss: 0.0442\n",
      "Epoch 30/300\n",
      "60/60 [==============================] - 2s 37ms/step - loss: 0.0391\n",
      "Epoch 31/300\n",
      "60/60 [==============================] - 2s 37ms/step - loss: 0.0409\n",
      "Epoch 32/300\n",
      "60/60 [==============================] - 2s 40ms/step - loss: 0.0331\n",
      "Epoch 33/300\n",
      "60/60 [==============================] - 2s 39ms/step - loss: 0.0359\n",
      "Epoch 34/300\n",
      "60/60 [==============================] - 2s 37ms/step - loss: 0.0380\n",
      "Epoch 35/300\n",
      "60/60 [==============================] - 2s 39ms/step - loss: 0.0412\n",
      "Epoch 36/300\n",
      "60/60 [==============================] - 2s 41ms/step - loss: 0.0332\n",
      "Epoch 37/300\n",
      "60/60 [==============================] - 2s 37ms/step - loss: 0.0367\n",
      "Epoch 38/300\n",
      "60/60 [==============================] - 2s 38ms/step - loss: 0.0363\n",
      "Epoch 39/300\n",
      "60/60 [==============================] - 2s 34ms/step - loss: 0.0363\n",
      "Epoch 40/300\n",
      "60/60 [==============================] - 2s 34ms/step - loss: 0.0348\n",
      "Epoch 41/300\n",
      "60/60 [==============================] - 2s 34ms/step - loss: 0.0361\n",
      "Epoch 42/300\n",
      "60/60 [==============================] - 2s 34ms/step - loss: 0.0368\n",
      "Epoch 43/300\n",
      "60/60 [==============================] - 2s 34ms/step - loss: 0.0329\n",
      "Epoch 44/300\n",
      "60/60 [==============================] - 2s 34ms/step - loss: 0.0367\n",
      "Epoch 45/300\n",
      "60/60 [==============================] - 2s 34ms/step - loss: 0.0342\n",
      "Epoch 46/300\n",
      "60/60 [==============================] - 2s 34ms/step - loss: 0.0358\n",
      "Epoch 47/300\n",
      "60/60 [==============================] - 2s 38ms/step - loss: 0.0356\n",
      "Epoch 48/300\n",
      "60/60 [==============================] - 2s 35ms/step - loss: 0.0320\n",
      "Epoch 49/300\n",
      "60/60 [==============================] - 2s 34ms/step - loss: 0.0348\n",
      "Epoch 50/300\n",
      "60/60 [==============================] - 2s 33ms/step - loss: 0.0332\n",
      "Epoch 51/300\n",
      "60/60 [==============================] - 2s 34ms/step - loss: 0.0355\n",
      "Epoch 52/300\n",
      "60/60 [==============================] - 2s 34ms/step - loss: 0.0320\n",
      "Epoch 53/300\n",
      "60/60 [==============================] - 2s 34ms/step - loss: 0.0338\n",
      "Epoch 54/300\n",
      "60/60 [==============================] - 2s 34ms/step - loss: 0.0320\n",
      "Epoch 55/300\n",
      "60/60 [==============================] - 2s 33ms/step - loss: 0.0331\n",
      "Epoch 56/300\n",
      "60/60 [==============================] - 2s 33ms/step - loss: 0.0335\n",
      "Epoch 57/300\n",
      "60/60 [==============================] - 2s 33ms/step - loss: 0.0286\n",
      "Epoch 58/300\n",
      "60/60 [==============================] - 2s 33ms/step - loss: 0.0315\n",
      "Epoch 59/300\n",
      "60/60 [==============================] - 2s 33ms/step - loss: 0.0332\n",
      "Epoch 60/300\n",
      "60/60 [==============================] - 2s 33ms/step - loss: 0.0313\n",
      "Epoch 61/300\n",
      "60/60 [==============================] - 2s 33ms/step - loss: 0.0315\n",
      "Epoch 62/300\n",
      "60/60 [==============================] - 2s 33ms/step - loss: 0.0324\n",
      "Epoch 63/300\n",
      "60/60 [==============================] - 2s 33ms/step - loss: 0.0311\n",
      "Epoch 64/300\n",
      "60/60 [==============================] - 2s 33ms/step - loss: 0.0286\n",
      "Epoch 65/300\n",
      "60/60 [==============================] - 2s 33ms/step - loss: 0.0290\n",
      "Epoch 66/300\n",
      "60/60 [==============================] - 2s 33ms/step - loss: 0.0308\n",
      "Epoch 67/300\n",
      "60/60 [==============================] - 2s 33ms/step - loss: 0.0321\n",
      "Epoch 68/300\n",
      "60/60 [==============================] - 2s 33ms/step - loss: 0.0289\n",
      "Epoch 69/300\n",
      "60/60 [==============================] - 2s 33ms/step - loss: 0.0284\n",
      "Epoch 70/300\n",
      "60/60 [==============================] - 2s 33ms/step - loss: 0.0290\n",
      "Epoch 71/300\n",
      "60/60 [==============================] - 2s 33ms/step - loss: 0.0295\n",
      "Epoch 72/300\n",
      "60/60 [==============================] - 2s 33ms/step - loss: 0.0248\n",
      "Epoch 73/300\n",
      "60/60 [==============================] - 2s 38ms/step - loss: 0.0281\n",
      "Epoch 74/300\n",
      "60/60 [==============================] - 2s 35ms/step - loss: 0.0297\n",
      "Epoch 75/300\n",
      "60/60 [==============================] - 2s 34ms/step - loss: 0.0245\n",
      "Epoch 76/300\n",
      "60/60 [==============================] - 2s 35ms/step - loss: 0.0253\n",
      "Epoch 77/300\n",
      "60/60 [==============================] - 2s 34ms/step - loss: 0.0234\n",
      "Epoch 78/300\n",
      "60/60 [==============================] - 2s 34ms/step - loss: 0.0247\n",
      "Epoch 79/300\n",
      "60/60 [==============================] - 2s 34ms/step - loss: 0.0229\n",
      "Epoch 80/300\n",
      "60/60 [==============================] - 2s 34ms/step - loss: 0.0224\n",
      "Epoch 81/300\n",
      "60/60 [==============================] - 2s 36ms/step - loss: 0.0230\n",
      "Epoch 82/300\n",
      "60/60 [==============================] - 2s 34ms/step - loss: 0.0175\n",
      "Epoch 83/300\n",
      "60/60 [==============================] - 2s 34ms/step - loss: 0.0150\n",
      "Epoch 84/300\n",
      "60/60 [==============================] - 2s 37ms/step - loss: 0.0277\n",
      "Epoch 85/300\n",
      "60/60 [==============================] - 2s 34ms/step - loss: 0.0179\n",
      "Epoch 86/300\n",
      "60/60 [==============================] - 2s 35ms/step - loss: 0.0171\n",
      "Epoch 87/300\n",
      "60/60 [==============================] - 2s 35ms/step - loss: 0.0352\n",
      "Epoch 88/300\n",
      "60/60 [==============================] - 2s 37ms/step - loss: 0.0178\n",
      "Epoch 89/300\n",
      "60/60 [==============================] - 2s 34ms/step - loss: 0.0093\n",
      "Epoch 90/300\n",
      "60/60 [==============================] - 2s 36ms/step - loss: 0.0217\n",
      "Epoch 91/300\n",
      "60/60 [==============================] - 2s 36ms/step - loss: 0.0261\n",
      "Epoch 92/300\n",
      "60/60 [==============================] - 2s 35ms/step - loss: 0.0194\n",
      "Epoch 93/300\n",
      "60/60 [==============================] - 2s 35ms/step - loss: 0.0153\n",
      "Epoch 94/300\n",
      "60/60 [==============================] - 2s 35ms/step - loss: 0.0344\n",
      "Epoch 95/300\n",
      "60/60 [==============================] - 2s 35ms/step - loss: 0.0178\n",
      "Epoch 96/300\n",
      "60/60 [==============================] - 2s 38ms/step - loss: 0.0091\n",
      "Epoch 97/300\n",
      "60/60 [==============================] - 2s 34ms/step - loss: 0.0290\n",
      "Epoch 98/300\n",
      "60/60 [==============================] - 2s 34ms/step - loss: 0.0161\n",
      "Epoch 99/300\n",
      "60/60 [==============================] - 2s 34ms/step - loss: 0.0120\n",
      "Epoch 100/300\n",
      "60/60 [==============================] - 2s 34ms/step - loss: 0.0140\n"
     ]
    },
    {
     "name": "stdout",
     "output_type": "stream",
     "text": [
      "Epoch 101/300\n",
      "60/60 [==============================] - 2s 34ms/step - loss: 0.0213\n",
      "Epoch 102/300\n",
      "60/60 [==============================] - 2s 34ms/step - loss: 0.0135\n",
      "Epoch 103/300\n",
      "60/60 [==============================] - 2s 34ms/step - loss: 0.0082\n",
      "Epoch 104/300\n",
      "60/60 [==============================] - 2s 35ms/step - loss: 0.0132\n",
      "Epoch 105/300\n",
      "60/60 [==============================] - 2s 34ms/step - loss: 0.0142\n",
      "Epoch 106/300\n",
      "60/60 [==============================] - 2s 34ms/step - loss: 0.0094\n",
      "Epoch 107/300\n",
      "60/60 [==============================] - 2s 34ms/step - loss: 0.0075\n",
      "Epoch 108/300\n",
      "60/60 [==============================] - 2s 34ms/step - loss: 0.0221\n",
      "Epoch 109/300\n",
      "60/60 [==============================] - 2s 35ms/step - loss: 0.0175\n",
      "Epoch 110/300\n",
      "60/60 [==============================] - 2s 35ms/step - loss: 0.0123\n",
      "Epoch 111/300\n",
      "60/60 [==============================] - 2s 34ms/step - loss: 0.0152\n",
      "Epoch 112/300\n",
      "60/60 [==============================] - 2s 34ms/step - loss: 0.0347\n",
      "Epoch 113/300\n",
      "60/60 [==============================] - 2s 34ms/step - loss: 0.0152\n",
      "Epoch 114/300\n",
      "60/60 [==============================] - 2s 34ms/step - loss: 0.0142\n",
      "Epoch 115/300\n",
      "60/60 [==============================] - 2s 35ms/step - loss: 0.0082\n",
      "Epoch 116/300\n",
      "60/60 [==============================] - 2s 34ms/step - loss: 0.0139\n",
      "Epoch 117/300\n",
      "60/60 [==============================] - 2s 37ms/step - loss: 0.0128\n",
      "Epoch 118/300\n",
      "60/60 [==============================] - 2s 36ms/step - loss: 0.0161\n",
      "Epoch 119/300\n",
      "60/60 [==============================] - 2s 36ms/step - loss: 0.0179\n",
      "Epoch 120/300\n",
      "60/60 [==============================] - 2s 37ms/step - loss: 0.0114\n",
      "Epoch 121/300\n",
      "60/60 [==============================] - 2s 35ms/step - loss: 0.0099\n",
      "Epoch 122/300\n",
      "60/60 [==============================] - 2s 37ms/step - loss: 0.0087\n",
      "Epoch 123/300\n",
      "60/60 [==============================] - 2s 38ms/step - loss: 0.0080\n",
      "Epoch 124/300\n",
      "60/60 [==============================] - 2s 36ms/step - loss: 0.0076\n",
      "Epoch 125/300\n",
      "60/60 [==============================] - 2s 37ms/step - loss: 0.0116\n",
      "Epoch 126/300\n",
      "60/60 [==============================] - 2s 37ms/step - loss: 0.0097\n",
      "Epoch 127/300\n",
      "60/60 [==============================] - 2s 39ms/step - loss: 0.0078\n",
      "Epoch 128/300\n",
      "60/60 [==============================] - 2s 39ms/step - loss: 0.0070\n",
      "Epoch 129/300\n",
      "60/60 [==============================] - 2s 38ms/step - loss: 0.0075\n",
      "Epoch 130/300\n",
      "60/60 [==============================] - 2s 39ms/step - loss: 0.0070\n",
      "Epoch 131/300\n",
      "60/60 [==============================] - 2s 37ms/step - loss: 0.0069\n",
      "Epoch 132/300\n",
      "60/60 [==============================] - 2s 39ms/step - loss: 0.0076\n",
      "Epoch 133/300\n",
      "60/60 [==============================] - 2s 34ms/step - loss: 0.0102\n",
      "Epoch 134/300\n",
      "60/60 [==============================] - 2s 34ms/step - loss: 0.0079\n",
      "Epoch 135/300\n",
      "60/60 [==============================] - 2s 34ms/step - loss: 0.0075\n",
      "Epoch 136/300\n",
      "60/60 [==============================] - 2s 34ms/step - loss: 0.0182\n",
      "Epoch 137/300\n",
      "60/60 [==============================] - 2s 34ms/step - loss: 0.0105\n",
      "Epoch 138/300\n",
      "60/60 [==============================] - 2s 34ms/step - loss: 0.0059\n",
      "Epoch 139/300\n",
      "60/60 [==============================] - 2s 34ms/step - loss: 0.0160\n",
      "Epoch 140/300\n",
      "60/60 [==============================] - 2s 34ms/step - loss: 0.0075\n",
      "Epoch 141/300\n",
      "60/60 [==============================] - 2s 34ms/step - loss: 0.0059\n",
      "Epoch 142/300\n",
      "60/60 [==============================] - 2s 37ms/step - loss: 0.0105\n",
      "Epoch 143/300\n",
      "60/60 [==============================] - 2s 36ms/step - loss: 0.0074\n",
      "Epoch 144/300\n",
      "60/60 [==============================] - 2s 36ms/step - loss: 0.0069\n",
      "Epoch 145/300\n",
      "60/60 [==============================] - 2s 36ms/step - loss: 0.0072\n",
      "Epoch 146/300\n",
      "60/60 [==============================] - 3s 42ms/step - loss: 0.0097\n",
      "Epoch 147/300\n",
      "60/60 [==============================] - 2s 36ms/step - loss: 0.0070\n",
      "Epoch 148/300\n",
      "60/60 [==============================] - 2s 36ms/step - loss: 0.0069\n",
      "Epoch 149/300\n",
      "60/60 [==============================] - 2s 36ms/step - loss: 0.0093\n",
      "Epoch 150/300\n",
      "60/60 [==============================] - 2s 35ms/step - loss: 0.0116\n",
      "Epoch 151/300\n",
      "60/60 [==============================] - 2s 38ms/step - loss: 0.0061\n",
      "Epoch 152/300\n",
      "60/60 [==============================] - 2s 34ms/step - loss: 0.0054\n",
      "Epoch 153/300\n",
      "60/60 [==============================] - 2s 34ms/step - loss: 0.0080\n",
      "Epoch 154/300\n",
      "60/60 [==============================] - 2s 33ms/step - loss: 0.0088\n",
      "Epoch 155/300\n",
      "60/60 [==============================] - 2s 33ms/step - loss: 0.0068\n",
      "Epoch 156/300\n",
      "60/60 [==============================] - 2s 33ms/step - loss: 0.0074\n",
      "Epoch 157/300\n",
      "60/60 [==============================] - 2s 33ms/step - loss: 0.0082\n",
      "Epoch 158/300\n",
      "60/60 [==============================] - 2s 33ms/step - loss: 0.0160\n",
      "Epoch 159/300\n",
      "60/60 [==============================] - 2s 33ms/step - loss: 0.0101\n",
      "Epoch 160/300\n",
      "60/60 [==============================] - 2s 33ms/step - loss: 0.0045\n",
      "Epoch 161/300\n",
      "60/60 [==============================] - 2s 33ms/step - loss: 0.0078\n",
      "Epoch 162/300\n",
      "60/60 [==============================] - 2s 33ms/step - loss: 0.0066\n",
      "Epoch 163/300\n",
      "60/60 [==============================] - 2s 33ms/step - loss: 0.0063\n",
      "Epoch 164/300\n",
      "60/60 [==============================] - 2s 33ms/step - loss: 0.0056\n",
      "Epoch 165/300\n",
      "60/60 [==============================] - 2s 33ms/step - loss: 0.0060\n",
      "Epoch 166/300\n",
      "60/60 [==============================] - 2s 33ms/step - loss: 0.0067\n",
      "Epoch 167/300\n",
      "60/60 [==============================] - 2s 33ms/step - loss: 0.0065\n",
      "Epoch 168/300\n",
      "60/60 [==============================] - 2s 33ms/step - loss: 0.0105\n",
      "Epoch 169/300\n",
      "60/60 [==============================] - 2s 33ms/step - loss: 0.0099\n",
      "Epoch 170/300\n",
      "60/60 [==============================] - 2s 33ms/step - loss: 0.0059\n",
      "Epoch 171/300\n",
      "60/60 [==============================] - 2s 33ms/step - loss: 0.0062\n",
      "Epoch 172/300\n",
      "60/60 [==============================] - 2s 33ms/step - loss: 0.0066\n",
      "Epoch 173/300\n",
      "60/60 [==============================] - 2s 33ms/step - loss: 0.0054\n",
      "Epoch 174/300\n",
      "60/60 [==============================] - 2s 33ms/step - loss: 0.0051\n",
      "Epoch 175/300\n",
      "60/60 [==============================] - 2s 33ms/step - loss: 0.0060\n",
      "Epoch 176/300\n",
      "60/60 [==============================] - 2s 33ms/step - loss: 0.0069\n",
      "Epoch 177/300\n",
      "60/60 [==============================] - 2s 33ms/step - loss: 0.0053\n",
      "Epoch 178/300\n",
      "60/60 [==============================] - 2s 34ms/step - loss: 0.0044\n",
      "Epoch 179/300\n",
      "60/60 [==============================] - 2s 33ms/step - loss: 0.0052\n",
      "Epoch 180/300\n",
      "60/60 [==============================] - 2s 33ms/step - loss: 0.0058\n",
      "Epoch 181/300\n",
      "60/60 [==============================] - 2s 33ms/step - loss: 0.0044\n",
      "Epoch 182/300\n",
      "60/60 [==============================] - 2s 34ms/step - loss: 0.0039\n",
      "Epoch 183/300\n",
      "60/60 [==============================] - 2s 33ms/step - loss: 0.0054\n",
      "Epoch 184/300\n",
      "60/60 [==============================] - 2s 33ms/step - loss: 0.0071\n",
      "Epoch 185/300\n",
      "60/60 [==============================] - 2s 37ms/step - loss: 0.0039\n",
      "Epoch 186/300\n",
      "60/60 [==============================] - 2s 35ms/step - loss: 0.0040\n",
      "Epoch 187/300\n",
      "60/60 [==============================] - 2s 34ms/step - loss: 0.0068\n",
      "Epoch 188/300\n",
      "60/60 [==============================] - 2s 34ms/step - loss: 0.0092\n",
      "Epoch 189/300\n",
      "60/60 [==============================] - 2s 34ms/step - loss: 0.0056\n",
      "Epoch 190/300\n",
      "60/60 [==============================] - 2s 35ms/step - loss: 0.0045\n",
      "Epoch 191/300\n",
      "60/60 [==============================] - 2s 34ms/step - loss: 0.0038\n",
      "Epoch 192/300\n",
      "60/60 [==============================] - 2s 34ms/step - loss: 0.0033\n",
      "Epoch 193/300\n",
      "60/60 [==============================] - 2s 34ms/step - loss: 0.0031\n",
      "Epoch 194/300\n",
      "60/60 [==============================] - 2s 35ms/step - loss: 0.0040\n",
      "Epoch 195/300\n",
      "60/60 [==============================] - 2s 34ms/step - loss: 0.0042\n",
      "Epoch 196/300\n",
      "60/60 [==============================] - 2s 34ms/step - loss: 0.0037\n",
      "Epoch 197/300\n",
      "60/60 [==============================] - 2s 34ms/step - loss: 0.0039\n",
      "Epoch 198/300\n",
      "60/60 [==============================] - 2s 34ms/step - loss: 0.0056\n",
      "Epoch 199/300\n"
     ]
    },
    {
     "name": "stdout",
     "output_type": "stream",
     "text": [
      "60/60 [==============================] - 2s 34ms/step - loss: 0.0036\n",
      "Epoch 200/300\n",
      "60/60 [==============================] - 2s 34ms/step - loss: 0.0041\n",
      "Epoch 201/300\n",
      "60/60 [==============================] - 2s 34ms/step - loss: 0.0040\n",
      "Epoch 202/300\n",
      "60/60 [==============================] - 2s 34ms/step - loss: 0.0048\n",
      "Epoch 203/300\n",
      "60/60 [==============================] - 2s 34ms/step - loss: 0.0034\n",
      "Epoch 204/300\n",
      "60/60 [==============================] - 2s 34ms/step - loss: 0.0031\n",
      "Epoch 205/300\n",
      "60/60 [==============================] - 2s 35ms/step - loss: 0.0034\n",
      "Epoch 206/300\n",
      "60/60 [==============================] - 2s 34ms/step - loss: 0.0039\n",
      "Epoch 207/300\n",
      "60/60 [==============================] - 2s 34ms/step - loss: 0.0033\n",
      "Epoch 208/300\n",
      "60/60 [==============================] - 2s 34ms/step - loss: 0.0030\n",
      "Epoch 209/300\n",
      "60/60 [==============================] - 2s 34ms/step - loss: 0.0056\n",
      "Epoch 210/300\n",
      "60/60 [==============================] - 2s 34ms/step - loss: 0.0047\n",
      "Epoch 211/300\n",
      "60/60 [==============================] - 2s 34ms/step - loss: 0.0037\n",
      "Epoch 212/300\n",
      "60/60 [==============================] - 2s 34ms/step - loss: 0.0037\n",
      "Epoch 213/300\n",
      "60/60 [==============================] - 2s 34ms/step - loss: 0.0033\n",
      "Epoch 214/300\n",
      "60/60 [==============================] - 2s 34ms/step - loss: 0.0043\n",
      "Epoch 215/300\n",
      "60/60 [==============================] - 2s 34ms/step - loss: 0.0062\n",
      "Epoch 216/300\n",
      "60/60 [==============================] - 2s 37ms/step - loss: 0.0031\n",
      "Epoch 217/300\n",
      "60/60 [==============================] - 2s 36ms/step - loss: 0.0047\n",
      "Epoch 218/300\n",
      "60/60 [==============================] - 2s 35ms/step - loss: 0.0063\n",
      "Epoch 219/300\n",
      "60/60 [==============================] - 2s 35ms/step - loss: 0.0030\n",
      "Epoch 220/300\n",
      "60/60 [==============================] - 2s 35ms/step - loss: 0.0046\n",
      "Epoch 221/300\n",
      "60/60 [==============================] - 2s 35ms/step - loss: 0.0063\n",
      "Epoch 222/300\n",
      "60/60 [==============================] - 2s 35ms/step - loss: 0.0027\n",
      "Epoch 223/300\n",
      "60/60 [==============================] - 2s 39ms/step - loss: 0.0029\n",
      "Epoch 224/300\n",
      "60/60 [==============================] - 2s 37ms/step - loss: 0.0028\n",
      "Epoch 225/300\n",
      "60/60 [==============================] - 2s 36ms/step - loss: 0.0023\n",
      "Epoch 226/300\n",
      "60/60 [==============================] - 2s 39ms/step - loss: 0.0029\n",
      "Epoch 227/300\n",
      "60/60 [==============================] - 2s 35ms/step - loss: 0.0030\n",
      "Epoch 228/300\n",
      "60/60 [==============================] - 2s 34ms/step - loss: 0.0023\n",
      "Epoch 229/300\n",
      "60/60 [==============================] - 2s 34ms/step - loss: 0.0044\n",
      "Epoch 230/300\n",
      "60/60 [==============================] - 2s 34ms/step - loss: 0.0049\n",
      "Epoch 231/300\n",
      "60/60 [==============================] - 2s 34ms/step - loss: 0.0022\n",
      "Epoch 232/300\n",
      "60/60 [==============================] - 2s 34ms/step - loss: 0.0039\n",
      "Epoch 233/300\n",
      "60/60 [==============================] - 2s 34ms/step - loss: 0.0050\n",
      "Epoch 234/300\n",
      "60/60 [==============================] - 2s 34ms/step - loss: 0.0026\n",
      "Epoch 235/300\n",
      "60/60 [==============================] - 2s 34ms/step - loss: 0.0037\n",
      "Epoch 236/300\n",
      "60/60 [==============================] - 2s 34ms/step - loss: 0.0061\n",
      "Epoch 237/300\n",
      "60/60 [==============================] - 2s 35ms/step - loss: 0.0025\n",
      "Epoch 238/300\n",
      "60/60 [==============================] - 2s 34ms/step - loss: 0.0027\n",
      "Epoch 239/300\n",
      "60/60 [==============================] - 2s 34ms/step - loss: 0.0038\n",
      "Epoch 240/300\n",
      "60/60 [==============================] - 2s 35ms/step - loss: 0.0032\n",
      "Epoch 241/300\n",
      "60/60 [==============================] - 2s 34ms/step - loss: 0.0030\n",
      "Epoch 242/300\n",
      "60/60 [==============================] - 2s 34ms/step - loss: 0.0029\n",
      "Epoch 243/300\n",
      "60/60 [==============================] - 2s 34ms/step - loss: 0.0020\n",
      "Epoch 244/300\n",
      "60/60 [==============================] - 2s 34ms/step - loss: 0.0025\n",
      "Epoch 245/300\n",
      "60/60 [==============================] - 2s 34ms/step - loss: 0.0024\n",
      "Epoch 246/300\n",
      "60/60 [==============================] - 2s 34ms/step - loss: 0.0021\n",
      "Epoch 247/300\n",
      "60/60 [==============================] - 2s 34ms/step - loss: 0.0023\n",
      "Epoch 248/300\n",
      "60/60 [==============================] - 2s 34ms/step - loss: 0.0022\n",
      "Epoch 249/300\n",
      "60/60 [==============================] - 2s 35ms/step - loss: 0.0021\n",
      "Epoch 250/300\n",
      "60/60 [==============================] - 2s 34ms/step - loss: 0.0019\n",
      "Epoch 251/300\n",
      "60/60 [==============================] - 2s 35ms/step - loss: 0.0022\n",
      "Epoch 252/300\n",
      "60/60 [==============================] - 2s 38ms/step - loss: 0.0021\n",
      "Epoch 253/300\n",
      "60/60 [==============================] - 2s 36ms/step - loss: 0.0021\n",
      "Epoch 254/300\n",
      "60/60 [==============================] - 2s 36ms/step - loss: 0.0019\n",
      "Epoch 255/300\n",
      "60/60 [==============================] - 2s 37ms/step - loss: 0.0020\n",
      "Epoch 256/300\n",
      "60/60 [==============================] - 2s 35ms/step - loss: 0.0020\n",
      "Epoch 257/300\n",
      "60/60 [==============================] - 2s 39ms/step - loss: 0.0022\n",
      "Epoch 258/300\n",
      "60/60 [==============================] - 2s 35ms/step - loss: 0.0020\n",
      "Epoch 259/300\n",
      "60/60 [==============================] - 2s 38ms/step - loss: 0.0019\n",
      "Epoch 260/300\n",
      "60/60 [==============================] - 2s 39ms/step - loss: 0.0022\n",
      "Epoch 261/300\n",
      "60/60 [==============================] - 2s 40ms/step - loss: 0.0027\n",
      "Epoch 262/300\n",
      "60/60 [==============================] - 2s 39ms/step - loss: 0.0020\n",
      "Epoch 263/300\n",
      "60/60 [==============================] - 2s 34ms/step - loss: 0.0026\n",
      "Epoch 264/300\n",
      "60/60 [==============================] - 2s 34ms/step - loss: 0.0031\n",
      "Epoch 265/300\n",
      "60/60 [==============================] - 2s 34ms/step - loss: 0.0024\n",
      "Epoch 266/300\n",
      "60/60 [==============================] - 2s 34ms/step - loss: 0.0019\n",
      "Epoch 267/300\n",
      "60/60 [==============================] - 2s 35ms/step - loss: 0.0019\n",
      "Epoch 268/300\n",
      "60/60 [==============================] - 2s 34ms/step - loss: 0.0018\n",
      "Epoch 269/300\n",
      "60/60 [==============================] - 2s 34ms/step - loss: 0.0018\n",
      "Epoch 270/300\n",
      "60/60 [==============================] - 2s 34ms/step - loss: 0.0019\n",
      "Epoch 271/300\n",
      "60/60 [==============================] - 2s 34ms/step - loss: 0.0020\n",
      "Epoch 272/300\n",
      "60/60 [==============================] - 2s 34ms/step - loss: 0.0018\n",
      "Epoch 273/300\n",
      "60/60 [==============================] - 2s 34ms/step - loss: 0.0019\n",
      "Epoch 274/300\n",
      "60/60 [==============================] - 2s 34ms/step - loss: 0.0022\n",
      "Epoch 275/300\n",
      "60/60 [==============================] - 2s 34ms/step - loss: 0.0021\n",
      "Epoch 276/300\n",
      "60/60 [==============================] - 2s 34ms/step - loss: 0.0020\n",
      "Epoch 277/300\n",
      "60/60 [==============================] - 2s 34ms/step - loss: 0.0025\n",
      "Epoch 278/300\n",
      "60/60 [==============================] - 2s 34ms/step - loss: 0.0020\n",
      "Epoch 279/300\n",
      "60/60 [==============================] - 2s 34ms/step - loss: 0.0022\n",
      "Epoch 280/300\n",
      "60/60 [==============================] - 2s 34ms/step - loss: 0.0033\n",
      "Epoch 281/300\n",
      "60/60 [==============================] - 2s 34ms/step - loss: 0.0021\n",
      "Epoch 282/300\n",
      "60/60 [==============================] - 2s 34ms/step - loss: 0.0017\n",
      "Epoch 283/300\n",
      "60/60 [==============================] - 2s 34ms/step - loss: 0.0017\n",
      "Epoch 284/300\n",
      "60/60 [==============================] - 2s 34ms/step - loss: 0.0019\n",
      "Epoch 285/300\n",
      "60/60 [==============================] - 2s 34ms/step - loss: 0.0023\n",
      "Epoch 286/300\n",
      "60/60 [==============================] - 2s 34ms/step - loss: 0.0018\n",
      "Epoch 287/300\n",
      "60/60 [==============================] - 2s 34ms/step - loss: 0.0020\n",
      "Epoch 288/300\n",
      "60/60 [==============================] - 2s 34ms/step - loss: 0.0023\n",
      "Epoch 289/300\n",
      "60/60 [==============================] - 2s 35ms/step - loss: 0.0023\n",
      "Epoch 290/300\n",
      "60/60 [==============================] - 2s 40ms/step - loss: 0.0018\n",
      "Epoch 291/300\n",
      "60/60 [==============================] - 2s 40ms/step - loss: 0.0017\n",
      "Epoch 292/300\n",
      "60/60 [==============================] - 2s 40ms/step - loss: 0.0015\n",
      "Epoch 293/300\n",
      "60/60 [==============================] - 2s 41ms/step - loss: 0.0017\n",
      "Epoch 294/300\n",
      "60/60 [==============================] - 2s 37ms/step - loss: 0.0017\n",
      "Epoch 295/300\n",
      "60/60 [==============================] - 2s 36ms/step - loss: 0.0017\n",
      "Epoch 296/300\n",
      "60/60 [==============================] - 2s 39ms/step - loss: 0.0022\n",
      "Epoch 297/300\n"
     ]
    },
    {
     "name": "stdout",
     "output_type": "stream",
     "text": [
      "60/60 [==============================] - 2s 35ms/step - loss: 0.0019\n",
      "Epoch 298/300\n",
      "60/60 [==============================] - 2s 40ms/step - loss: 0.0018\n",
      "Epoch 299/300\n",
      "60/60 [==============================] - 2s 38ms/step - loss: 0.0019\n",
      "Epoch 300/300\n",
      "60/60 [==============================] - 2s 35ms/step - loss: 0.0024\n"
     ]
    }
   ],
   "source": [
    "best_params = {\n",
    "    'lr': 0.001,\n",
    "    'n_samples': 60,\n",
    "    'n_units': 12,\n",
    "    'batch_size': 1,\n",
    "    'epochs': 300,\n",
    "    'optimizer': keras.optimizers.Adam,\n",
    "}\n",
    "\n",
    "history, model = create_lstm_model(\n",
    "    X_tr_s[:best_params['n_samples']],\n",
    "    y_tr_s[:best_params['n_samples']],\n",
    "    X_te_s[:best_params['n_samples']],\n",
    "    y_te_s[:best_params['n_samples']],\n",
    "    best_params\n",
    ")"
   ]
  },
  {
   "cell_type": "code",
   "execution_count": 422,
   "metadata": {},
   "outputs": [
    {
     "name": "stdout",
     "output_type": "stream",
     "text": [
      "[]\n",
      "====================\n",
      "[array([[-1.2980839 , -0.5591137 , -0.927732  , -1.2195966 , -0.17364292,\n",
      "        -1.0078278 , -0.7866367 , -1.0670093 , -0.8260515 , -1.1878628 ,\n",
      "        -0.7566513 , -0.46573663, -0.2561005 , -0.24136828,  0.23785001,\n",
      "        -0.12057084, -0.3069562 ,  0.08437774, -0.43160936,  0.18252161,\n",
      "        -0.16491273,  0.35831088, -0.5202053 ,  0.6071569 , -1.0920591 ,\n",
      "        -0.2969551 ,  0.81260896,  1.052097  , -0.44637468, -1.2089009 ,\n",
      "        -0.7334749 ,  0.907658  ,  0.56149286, -0.21043453,  0.44827932,\n",
      "         0.7745482 ]], dtype=float32), array([[ 7.0869261e-01, -2.0619442e-01, -1.9317375e-02,  1.6697608e-01,\n",
      "         3.8353108e-02,  1.4698776e-02,  4.9455303e-01,  3.5463604e-01,\n",
      "         6.1679459e-01,  1.0063397e+00,  7.7646554e-01,  4.3284482e-01,\n",
      "        -2.5743765e-01, -2.5118353e-02,  5.3042823e-01,  3.5434000e-02,\n",
      "        -3.2356325e-01,  9.7478926e-02,  4.8520970e-01,  2.9071793e-01,\n",
      "         6.2266134e-02, -1.6154797e-01,  1.5588509e-01,  2.0506176e-01,\n",
      "        -8.2692727e-02, -3.8602379e-01, -1.3389814e-01,  3.5607991e-01,\n",
      "        -2.7124652e-01, -3.2134014e-01, -1.5405505e-02,  5.3352717e-02,\n",
      "        -1.7374875e-01,  4.8832577e-01, -1.5227216e-01,  2.7891240e-01],\n",
      "       [-6.5019470e-01, -3.1418449e-01, -5.2017164e-01, -4.7937402e-01,\n",
      "        -4.8476705e-01, -5.2786523e-01, -2.2737686e-01, -7.3057479e-01,\n",
      "        -6.1659932e-01, -2.7267590e-01, -6.1116493e-01, -4.3697426e-01,\n",
      "        -1.6147820e-02,  3.6771977e-01,  3.9170092e-01,  3.1161797e-01,\n",
      "         2.8270516e-01,  5.6857049e-01, -5.5065472e-02,  6.4053780e-01,\n",
      "         4.5138988e-01,  1.4318767e-01,  4.6797112e-01,  4.0387827e-01,\n",
      "         5.5344582e-02, -5.0800033e-02,  3.3318433e-01,  2.8348835e-02,\n",
      "         3.0336383e-01,  2.1640435e-01, -1.6508846e-02, -7.9701953e-02,\n",
      "         1.8832676e-01, -6.9518365e-02, -1.4934860e-01, -2.6342133e-01],\n",
      "       [-5.9132427e-01,  2.2337051e-01, -5.4989416e-02,  3.2793306e-02,\n",
      "        -3.5023794e-01,  1.2905662e-01, -5.3783363e-01, -3.2122809e-01,\n",
      "        -2.2197567e-01, -1.2598022e+00, -6.8555504e-01,  1.9987732e-01,\n",
      "         1.8207102e-01, -1.2964250e-01, -4.5818895e-01, -2.3292722e-01,\n",
      "         4.8109181e-02, -4.4467559e-01, -8.2461393e-01, -3.0457604e-01,\n",
      "        -9.7763263e-02,  2.6784724e-01, -1.1231832e-01, -4.4702005e-01,\n",
      "        -6.0108174e-02,  2.1632567e-02,  2.9520142e-01,  1.3870838e-01,\n",
      "         8.8047786e-03, -2.0918018e-01, -7.3711149e-02,  3.7123448e-01,\n",
      "         2.9745352e-01, -5.4311335e-01, -2.6650347e-02,  1.0214999e-01],\n",
      "       [-7.5793940e-01,  2.7139831e-01, -6.8774742e-01, -6.1294800e-01,\n",
      "        -3.6707577e-01, -8.2536501e-01, -6.5379810e-01, -9.0303195e-01,\n",
      "        -4.4321054e-01, -1.3279617e+00, -7.7645683e-01, -3.1749174e-01,\n",
      "         3.4319586e-01,  1.6516513e-01, -2.2501551e-01, -2.6840761e-02,\n",
      "        -9.6359380e-02,  2.4249259e-01, -6.6257876e-01,  2.6716715e-01,\n",
      "        -1.7793934e-01,  1.7905617e-02, -3.2574153e-01,  4.7563831e-03,\n",
      "        -2.0676648e-02,  3.5739920e-01, -3.4095865e-02, -1.1503828e-01,\n",
      "         1.3060385e-01, -1.0362477e-04, -2.2819790e-01,  4.5674425e-03,\n",
      "        -9.5426872e-02, -4.4097871e-01,  2.9285744e-01,  1.1688890e-02],\n",
      "       [ 7.3816794e-01,  1.4607839e-02,  7.6513410e-01,  6.3182986e-01,\n",
      "         1.5715531e-01,  6.5946490e-01,  3.7948322e-01,  8.5846335e-01,\n",
      "         1.8641268e-01, -6.5103090e-01,  3.0652475e-01,  9.9531043e-01,\n",
      "         5.1496321e-01, -1.0367214e-01, -3.8729295e-01, -2.4585903e-01,\n",
      "         4.6257061e-01, -6.1258692e-01, -8.7465847e-01, -3.6840901e-01,\n",
      "        -7.8153640e-01,  9.8232619e-02, -3.9122254e-01, -3.3487347e-01,\n",
      "         2.1193360e-01, -2.8373301e-01,  1.6897377e-01,  3.1226009e-01,\n",
      "        -1.1308633e-01, -3.2092845e-01,  2.8091401e-01, -1.6717653e-01,\n",
      "        -2.7308199e-01, -9.7020969e-02, -1.0952950e-01, -1.8649980e-01],\n",
      "       [ 1.0084338e+00,  2.5936353e-01,  4.1862029e-01,  5.8436012e-01,\n",
      "         1.1633522e-01,  1.2563932e-01,  8.6153632e-01,  8.1789720e-01,\n",
      "         4.3803537e-01,  1.2237045e+00,  7.1840906e-01,  3.3798799e-02,\n",
      "        -2.7559522e-01,  2.0749012e-01, -7.9455785e-02,  4.7916353e-01,\n",
      "        -3.2334176e-01, -1.7963766e-01,  1.9272706e-01,  3.4624666e-01,\n",
      "        -2.2996165e-01,  4.3784626e-02,  6.8021017e-01, -1.9390714e-01,\n",
      "         5.2210021e-01, -2.0685560e-01, -2.7612719e-01, -1.3368243e-01,\n",
      "         1.6539791e-01, -1.7054103e-01,  4.8569894e-01, -4.5933542e-01,\n",
      "        -1.3097590e-01,  3.2735306e-01, -9.1558859e-02, -3.0753210e-02],\n",
      "       [ 6.7017990e-01,  8.9789890e-02,  2.0440969e-01,  6.8209606e-01,\n",
      "         1.0293518e-01,  1.7241177e-01,  3.6159512e-01,  2.3774621e-01,\n",
      "         5.5000651e-01,  7.1792299e-01,  8.3722961e-01,  6.2138814e-01,\n",
      "         2.3916601e-03, -2.5247839e-01, -7.9518091e-03, -2.0973991e-01,\n",
      "        -2.2325803e-01, -1.8667331e-01,  7.6219410e-01, -2.2035980e-01,\n",
      "        -2.4215625e-01, -5.5505395e-01,  4.0003088e-01,  1.0975121e-02,\n",
      "         5.2208219e-02,  8.7051578e-02, -3.5536569e-01,  3.9021519e-01,\n",
      "        -3.1739369e-01,  2.2376060e-01, -2.6622495e-01,  4.3437552e-02,\n",
      "        -4.8478860e-01, -2.5673099e-02, -1.9630864e-01, -1.0716318e-01],\n",
      "       [-7.0548826e-01, -3.8021177e-01,  2.7109089e-01, -4.6925279e-01,\n",
      "         5.3472064e-02, -3.2470280e-01, -4.7454646e-01, -4.0751526e-01,\n",
      "        -3.6771247e-01, -6.4805937e-01, -2.3643792e-01,  1.9889230e-01,\n",
      "         2.3313980e-01, -2.7286056e-01, -3.7606758e-01, -5.2523559e-01,\n",
      "        -7.8381255e-02,  4.4153307e-02, -4.7785443e-01, -1.4421956e-01,\n",
      "        -3.0461911e-02, -3.8145669e-02, -3.3620676e-01, -3.6849923e-02,\n",
      "        -1.8889126e-01, -8.5807823e-02, -1.5206021e-01,  1.4611582e-01,\n",
      "         3.1324780e-01, -2.2872552e-01, -1.1183173e-01,  1.6849765e-01,\n",
      "         9.8388262e-02, -6.2705529e-01,  4.1504887e-01, -2.5673521e-01],\n",
      "       [-7.6435417e-01, -2.5567481e-01,  2.1575230e-01, -1.7446454e-01,\n",
      "         4.6364106e-03, -2.5136197e-01, -2.2057000e-01, -3.9111692e-02,\n",
      "        -4.1598859e-01, -7.0146865e-01, -3.3399117e-01,  9.8494239e-02,\n",
      "         4.2938977e-02, -3.6791232e-01, -5.4560554e-01,  1.2654705e-01,\n",
      "         3.7776956e-01, -2.9898468e-01, -6.3607627e-01, -4.6087956e-01,\n",
      "         8.4752761e-02, -8.4808201e-02, -2.3308281e-02, -8.2591988e-02,\n",
      "         9.3143977e-02, -1.3399613e-01,  1.3792135e-01, -5.9387768e-03,\n",
      "         3.6371332e-01,  2.2224259e-01, -2.2664705e-01, -1.8821335e-01,\n",
      "         3.6805135e-01, -4.5154831e-01,  1.9123964e-01, -3.3248180e-01],\n",
      "       [ 5.6636953e-01, -3.4563902e-01, -3.2907739e-01, -4.3239421e-01,\n",
      "        -1.8114577e-01, -4.0049052e-01,  9.2827911e-03,  1.6168855e-01,\n",
      "        -4.1726295e-02,  1.3689275e+00,  1.8875848e-01, -1.7942898e-01,\n",
      "        -4.5328468e-01, -2.4661358e-01,  8.1340216e-02, -4.1636966e-02,\n",
      "        -1.0573528e-01,  3.1773588e-01,  4.4408965e-01,  1.8111554e-01,\n",
      "         2.5347331e-01, -3.9571926e-01,  5.1658994e-01,  6.0784298e-01,\n",
      "        -8.6722426e-02, -2.0310733e-02, -7.6424383e-02,  2.9380932e-01,\n",
      "        -2.8351420e-01, -2.9930413e-01, -2.8037220e-01, -1.4778705e-01,\n",
      "         6.8006851e-02,  1.3744912e-01,  2.4777256e-01,  2.6279554e-01],\n",
      "       [-3.8366836e-01, -3.5159084e-01,  1.5530738e-01,  1.6298822e-01,\n",
      "        -2.8800479e-01, -2.5348148e-01, -2.0668323e-01, -6.2680453e-01,\n",
      "        -6.0696465e-01, -1.1931196e+00, -2.0206334e-01,  1.1570563e-01,\n",
      "        -1.1785631e-01, -1.7133410e-01, -2.6247254e-01, -2.0679303e-01,\n",
      "        -1.2650284e-01, -9.2516445e-02, -5.0936151e-01, -3.4736803e-01,\n",
      "        -4.3152514e-01, -1.2596186e-01, -6.5068237e-02, -4.2309353e-01,\n",
      "         1.2908840e-01, -2.8462674e-02,  1.7894119e-01, -3.1033477e-01,\n",
      "        -1.9419643e-01,  3.4814638e-01,  3.1544146e-01,  2.8359097e-01,\n",
      "         4.6872702e-01, -2.5330400e-01,  2.9163414e-01,  1.3074431e-01],\n",
      "       [-1.2508310e+00, -4.6551859e-01, -9.5591319e-01, -9.4396079e-01,\n",
      "        -3.8132107e-01, -1.1946238e+00, -8.4996825e-01, -1.4811080e+00,\n",
      "        -1.0030112e+00, -4.8382130e-01, -8.5961074e-01, -7.0046586e-01,\n",
      "        -3.6421290e-01,  2.7403465e-01,  2.1144800e-01,  1.6379053e-02,\n",
      "        -1.5969844e-01,  4.9886125e-01,  1.9107404e-01,  5.8548146e-01,\n",
      "        -3.6822356e-02,  5.3186697e-01, -1.4912261e-01,  1.7785716e-01,\n",
      "        -2.7374893e-01,  5.5785620e-01,  3.6791632e-01,  1.3643618e-01,\n",
      "        -3.6722612e-01, -1.9275473e-01, -2.4030767e-01,  8.5112862e-03,\n",
      "         2.3486975e-01, -9.3355039e-03,  1.3746524e-01,  1.8482415e-01]],\n",
      "      dtype=float32), array([-0.58835506,  0.12191168, -0.6655232 , -0.6770628 ,  0.10557146,\n",
      "       -0.6994865 , -0.5708505 , -0.4363509 , -0.40827608,  0.53388786,\n",
      "       -0.3602178 , -0.622209  , -0.04856499, -0.05596814, -0.05686597,\n",
      "       -0.16347769, -0.07154202,  0.21208447, -0.04269252,  0.09402356,\n",
      "       -0.19228773, -0.00542112, -0.16453859, -0.05912881, -0.00216643,\n",
      "       -0.00807857, -0.01223284,  0.00120105, -0.00717674,  0.00087699,\n",
      "        0.01390999, -0.00339303, -0.02547075,  0.00612868, -0.02151997,\n",
      "       -0.00518797], dtype=float32)]\n",
      "====================\n"
     ]
    },
    {
     "name": "stdout",
     "output_type": "stream",
     "text": [
      "[array([[ 6.96662188e-01, -5.91408551e-01,  2.68727869e-01,\n",
      "         2.48457566e-01,  1.04669166e+00,  2.46263102e-01,\n",
      "         1.67387116e+00,  6.10299349e-01,  7.21910357e-01,\n",
      "        -3.41017962e-01,  7.78544843e-01, -1.42349347e-01,\n",
      "        -1.38872087e-01, -3.36654633e-01,  7.83285201e-01,\n",
      "         6.19693846e-02, -1.56581074e-01,  5.91541409e-01,\n",
      "        -3.97351831e-01,  1.82479218e-01,  1.75002933e-01,\n",
      "         5.65370858e-01, -3.17155540e-01,  1.30182362e+00,\n",
      "        -4.56284165e-01, -3.21975797e-01, -1.06705584e-01,\n",
      "         2.68871665e-01, -3.45487952e-01, -5.03029048e-01,\n",
      "        -4.36371058e-01, -9.84055698e-02, -8.28518271e-02,\n",
      "        -6.84452280e-02, -1.10742316e-01,  8.54437724e-02],\n",
      "       [-4.47085321e-01, -1.88386198e-02, -2.64407873e-01,\n",
      "        -9.64888483e-02, -4.82054293e-01, -3.11023712e-01,\n",
      "        -3.06791008e-01, -5.24845779e-01, -4.41625744e-01,\n",
      "        -7.94379599e-03, -4.39098597e-01, -9.74735394e-02,\n",
      "         4.15106863e-02,  4.38516349e-01,  2.09473267e-01,\n",
      "         2.64742583e-01, -2.81430185e-01, -1.87044457e-01,\n",
      "        -3.32545102e-01,  2.70466447e-01,  4.24695194e-01,\n",
      "         2.43777528e-01,  4.05844927e-01,  2.45012105e-01,\n",
      "        -2.63172742e-02,  1.23279780e-01,  3.34433943e-01,\n",
      "        -1.41651869e-01,  2.78773934e-01,  1.92202851e-01,\n",
      "        -1.02817804e-01, -1.88344628e-01,  4.63046841e-02,\n",
      "        -9.11412537e-02, -3.00812721e-01, -2.86841750e-01],\n",
      "       [-6.99449003e-01,  3.81403506e-01, -5.25615036e-01,\n",
      "        -3.28412890e-01, -1.05383468e+00, -2.71121621e-01,\n",
      "        -1.81545722e+00, -6.73657060e-01, -5.03703773e-01,\n",
      "        -1.29221603e-01, -6.53729677e-01,  4.60047334e-01,\n",
      "         2.31364761e-02, -1.96193773e-02, -4.95559573e-01,\n",
      "        -1.77194059e-01, -3.79457563e-01, -6.26111746e-01,\n",
      "        -7.26364329e-02, -2.93141425e-01,  6.97532669e-02,\n",
      "         9.53272581e-02,  1.87803194e-01, -7.58231819e-01,\n",
      "         2.16703773e-01, -1.81460455e-01,  3.97986919e-01,\n",
      "         1.22332223e-01, -9.10344254e-03, -1.70791313e-01,\n",
      "         1.24232650e-01,  4.56917286e-01,  2.77036309e-01,\n",
      "        -1.48348063e-01, -3.74721140e-02,  2.61188775e-01],\n",
      "       [-6.53129995e-01,  7.74959326e-01, -8.44795048e-01,\n",
      "        -3.69432300e-01, -1.56275737e+00, -8.99640977e-01,\n",
      "        -1.67818785e+00, -1.08498359e+00, -5.82816005e-01,\n",
      "         8.17932189e-02, -7.87263513e-01,  4.90572304e-01,\n",
      "         2.24479258e-01,  4.42088366e-01, -5.28682828e-01,\n",
      "        -1.12563320e-01, -2.06818253e-01, -4.19854909e-01,\n",
      "         1.31392792e-01,  2.37427652e-01, -2.56159812e-01,\n",
      "        -7.39213824e-01,  1.55746549e-01, -1.18353283e+00,\n",
      "         3.35094661e-01,  2.79182881e-01,  3.14430371e-02,\n",
      "        -9.22515094e-02,  2.59854883e-01,  1.94965899e-01,\n",
      "         9.51465592e-02,  1.06743805e-01, -1.78756058e-01,\n",
      "        -2.80103013e-02,  2.82582551e-01,  1.88206688e-01],\n",
      "       [ 2.98819393e-01, -6.23365223e-01, -6.30407408e-02,\n",
      "        -1.50462866e-01,  1.68857887e-01, -1.55679146e-02,\n",
      "        -2.67155200e-01,  4.51510310e-01, -1.29784748e-01,\n",
      "        -1.75626114e-01,  3.22819680e-01,  3.38915527e-01,\n",
      "         1.83434576e-01, -3.81334871e-01,  1.59166679e-01,\n",
      "         2.42922716e-02,  3.78739268e-01,  4.28160936e-01,\n",
      "        -4.95965555e-02, -1.08434558e-02, -3.07154596e-01,\n",
      "         2.39387080e-01, -3.59778762e-01,  5.03908992e-01,\n",
      "         1.53246000e-01, -1.26863524e-01,  2.65894175e-01,\n",
      "         2.82378256e-01,  1.50951021e-03, -2.84929127e-01,\n",
      "         3.38659227e-01, -1.76619634e-01, -9.72263794e-03,\n",
      "        -1.01875961e-01, -9.63919505e-04, -1.78327501e-01],\n",
      "       [ 9.50231910e-01, -1.14730887e-01,  5.78324854e-01,\n",
      "         6.13784790e-01,  1.19287479e+00,  2.95803577e-01,\n",
      "         2.02755189e+00,  9.91709530e-01,  5.00351667e-01,\n",
      "        -2.41481550e-02,  7.16311514e-01, -6.12667382e-01,\n",
      "        -1.63512737e-01, -8.99227709e-02,  1.99361563e-01,\n",
      "         5.84451735e-01, -9.33465138e-02,  3.85498196e-01,\n",
      "        -4.99788851e-01,  2.72994667e-01, -1.82730243e-01,\n",
      "         6.19683921e-01,  2.26732314e-01,  9.52034354e-01,\n",
      "        -4.58282717e-02, -2.14899376e-01, -3.04682732e-01,\n",
      "        -9.15891752e-02, -9.52039436e-02, -5.36605656e-01,\n",
      "        -5.49965724e-02, -6.15443349e-01, -1.41530514e-01,\n",
      "        -2.70440102e-01, -1.04614504e-01, -2.06473291e-01],\n",
      "       [ 6.70615554e-01, -3.48820567e-01,  4.94322896e-01,\n",
      "         7.09822893e-01,  1.00400209e+00,  3.43147486e-01,\n",
      "         1.41271758e+00,  4.52721596e-01,  7.18212664e-01,\n",
      "        -4.58722174e-01,  7.57322192e-01,  4.75681461e-02,\n",
      "         6.24588914e-02, -5.56993246e-01,  8.28161910e-02,\n",
      "        -1.62689775e-01,  1.43640205e-01,  3.06326568e-01,\n",
      "        -3.88522400e-03, -2.46209979e-01, -2.90822506e-01,\n",
      "        -9.53243375e-02,  5.98549396e-02,  7.39819169e-01,\n",
      "        -2.39005193e-01,  2.94249028e-01, -3.81499082e-01,\n",
      "         3.96605104e-01, -3.40200752e-01,  1.51366428e-01,\n",
      "        -5.18338978e-01, -3.62688154e-02, -3.40147585e-01,\n",
      "        -3.95832598e-01, -1.46124482e-01, -2.54983366e-01],\n",
      "       [-8.32162619e-01, -1.90973327e-01, -1.77991584e-01,\n",
      "        -8.15599024e-01, -7.59289801e-01, -7.42951930e-01,\n",
      "        -1.81748605e+00, -7.21279919e-01, -5.81336737e-01,\n",
      "         5.04399180e-01, -2.73168832e-01,  4.73541170e-01,\n",
      "         8.19970965e-02, -2.18217283e-01, -4.97180343e-01,\n",
      "        -4.92203325e-01, -3.52163821e-01, -1.44453228e-01,\n",
      "         3.17472100e-01, -9.66925323e-02,  6.27539754e-02,\n",
      "        -3.98784369e-01,  8.83164555e-02, -6.23155057e-01,\n",
      "         2.41489395e-01, -1.54294506e-01, -7.85534233e-02,\n",
      "         2.66105324e-01,  4.35706317e-01, -1.84436180e-02,\n",
      "         3.54141772e-01,  4.32590783e-01,  9.11332443e-02,\n",
      "        -4.86250557e-02,  3.96163136e-01, -4.99450155e-02],\n",
      "       [-9.33564007e-01, -8.61946642e-02, -3.53668511e-01,\n",
      "        -5.77499807e-01, -5.61530352e-01, -7.31496394e-01,\n",
      "        -1.39136374e+00, -4.55215037e-01, -6.96516097e-01,\n",
      "         3.34651381e-01, -2.80067474e-01,  1.62022829e-01,\n",
      "        -1.35484934e-01, -2.44649827e-01, -5.43510258e-01,\n",
      "         1.57517046e-01, -1.11021139e-01, -2.50861913e-01,\n",
      "         8.13081935e-02, -3.72508973e-01,  2.84840047e-01,\n",
      "        -1.13012999e-01,  1.37893945e-01, -2.39163220e-01,\n",
      "         4.27867025e-01, -2.35688373e-01,  1.95432082e-01,\n",
      "        -1.27934620e-01,  4.08248782e-01,  4.02093112e-01,\n",
      "         6.56550080e-02, -1.55977190e-01,  4.09558088e-01,\n",
      "        -1.40190767e-02,  1.96573272e-01, -2.14447185e-01],\n",
      "       [ 8.52334499e-01, -2.47714147e-01,  3.85822326e-01,\n",
      "         1.56392857e-01,  3.52823019e-01,  2.22768724e-01,\n",
      "         1.35767519e+00,  6.36971951e-01,  3.19839478e-01,\n",
      "         2.43939862e-01,  2.34798327e-01, -4.17926535e-02,\n",
      "        -9.54156518e-02,  2.12998595e-02,  1.07677907e-01,\n",
      "        -2.27629796e-01,  1.21943817e-01,  7.40921572e-02,\n",
      "        -5.63537955e-01,  1.36432886e-01,  6.70592189e-02,\n",
      "        -1.06651954e-01,  2.41155386e-01,  5.38023114e-01,\n",
      "        -1.82524770e-01,  2.04167906e-02, -1.50866553e-01,\n",
      "         2.14526445e-01, -2.17936486e-01, -2.80304164e-01,\n",
      "        -4.84629929e-01, -2.90990382e-01,  1.30198300e-01,\n",
      "        -1.64529696e-01,  2.66489148e-01,  1.41779006e-01],\n",
      "       [-4.96904522e-01, -1.06632777e-01, -2.83948541e-01,\n",
      "        -2.99790930e-02, -9.45616364e-01, -6.74857020e-01,\n",
      "        -1.34381163e+00, -9.70001101e-01, -8.60378861e-01,\n",
      "        -1.53457582e-01, -1.82598501e-01,  2.74152994e-01,\n",
      "        -2.40523130e-01, -5.45797609e-02, -3.86081517e-01,\n",
      "        -1.86117873e-01, -5.11280000e-01, -2.06861526e-01,\n",
      "         2.76239961e-01, -3.52942467e-01, -3.91081095e-01,\n",
      "        -3.58803093e-01,  1.57321304e-01, -8.38450789e-01,\n",
      "         2.73456216e-01, -2.82159746e-01,  2.03357548e-01,\n",
      "        -2.83345610e-01, -2.34125450e-01,  3.22414756e-01,\n",
      "         4.46812183e-01,  3.13722014e-01,  3.45859379e-01,\n",
      "         1.69728287e-02,  2.40689129e-01,  2.47167379e-01],\n",
      "       [-1.04492176e+00,  4.55091327e-01, -6.31704152e-01,\n",
      "        -2.42342219e-01, -1.67161167e+00, -8.20255041e-01,\n",
      "        -1.26423728e+00, -1.50038075e+00, -8.73496115e-01,\n",
      "         6.20287180e-01, -7.34563589e-01,  4.79989886e-01,\n",
      "        -2.24399596e-01,  9.87356067e-01, -7.70406127e-02,\n",
      "        -2.34660566e-01,  5.61606213e-02, -6.25061452e-01,\n",
      "         5.19755542e-01,  5.32718837e-01, -1.98086888e-01,\n",
      "        -3.77340943e-01,  2.43479401e-01, -9.31173384e-01,\n",
      "        -1.56288266e-01,  2.68743008e-01,  4.11539674e-01,\n",
      "         6.98286593e-02, -3.02458644e-01, -2.43138313e-01,\n",
      "        -2.32974529e-01,  7.91360587e-02,  4.07778211e-02,\n",
      "         1.20262966e-01,  5.31292409e-02,  3.15346777e-01]], dtype=float32), array([[-6.29001141e-01, -3.38994473e-01, -6.54408097e-01,\n",
      "        -6.33643031e-01, -4.00098205e-01, -5.70497274e-01,\n",
      "        -1.22850490e+00, -5.37339985e-01, -5.77153563e-01,\n",
      "        -8.55816305e-02, -1.66936472e-01,  6.20916970e-02,\n",
      "        -3.49721789e-01, -1.34854332e-01,  2.35605225e-01,\n",
      "        -1.50633782e-01, -3.98560226e-01,  3.57595310e-02,\n",
      "         3.31293643e-01,  1.57246720e-02, -1.12065069e-01,\n",
      "         1.41484484e-01, -2.93829054e-01,  3.04130297e-02,\n",
      "        -3.38388771e-01, -4.68613654e-01, -2.12869421e-02,\n",
      "         1.63513646e-01, -3.48595679e-01, -5.69443345e-01,\n",
      "        -1.28496289e-01,  1.87019557e-01, -7.61935338e-02,\n",
      "        -9.65733677e-02, -1.47026539e-01, -1.55833103e-02],\n",
      "       [-4.80236918e-01,  2.46779040e-01,  3.80733311e-02,\n",
      "         1.65995434e-01, -3.99539351e-01, -1.78350970e-01,\n",
      "         4.30044949e-01, -6.14447713e-01, -2.78838091e-02,\n",
      "         3.18666339e-01, -5.54183066e-01,  3.17234963e-01,\n",
      "         1.17373824e-01,  2.42737427e-01, -1.47476226e-01,\n",
      "         6.50022328e-02,  1.58333302e-01,  4.25217748e-02,\n",
      "        -5.38076341e-01,  3.70106936e-01,  1.00458255e-02,\n",
      "        -3.07612717e-01,  4.93130058e-01, -1.85759097e-01,\n",
      "        -7.60941580e-02,  2.60172814e-01,  3.64837766e-01,\n",
      "         1.07498385e-01,  3.25277478e-01,  3.03166419e-01,\n",
      "        -2.34636024e-01, -3.30714792e-01,  5.76455556e-02,\n",
      "        -1.81868169e-02, -2.81934828e-01, -1.56725496e-01],\n",
      "       [-1.02831447e+00,  1.05059063e+00, -5.18949389e-01,\n",
      "        -3.79354954e-01, -1.41197383e+00, -6.89044178e-01,\n",
      "        -1.82486331e+00, -1.16913509e+00, -3.97262424e-01,\n",
      "         1.50837392e-01, -1.04705536e+00,  4.80269790e-01,\n",
      "         1.15752541e-01,  3.42811942e-01, -6.42216206e-01,\n",
      "        -5.99721186e-02, -3.50434422e-01, -9.04036880e-01,\n",
      "        -8.03744122e-02, -4.85644080e-02, -1.02399521e-01,\n",
      "        -1.47672236e-01,  3.12370539e-01, -1.03968179e+00,\n",
      "        -1.48267131e-02, -5.67312658e-01,  2.78637737e-01,\n",
      "         1.19791448e-01, -3.24945658e-01, -4.56674248e-01,\n",
      "        -4.72561568e-01,  9.94653776e-02,  6.33643642e-02,\n",
      "        -3.92291009e-01, -3.15115154e-01,  1.52204618e-01],\n",
      "       [-2.52636433e-01,  6.30207360e-01, -4.99249458e-01,\n",
      "        -2.36746311e-01, -8.97340178e-01, -7.85943031e-01,\n",
      "        -1.01414812e+00, -7.47906744e-01, -2.45873779e-02,\n",
      "        -7.92276487e-02, -3.77007782e-01,  1.82485700e-01,\n",
      "         2.08160177e-01,  2.80668497e-01, -1.03744783e-01,\n",
      "         1.31465361e-01, -1.62165210e-01, -2.57674810e-02,\n",
      "         3.45991291e-02,  1.99815720e-01, -3.19671966e-02,\n",
      "        -1.40159115e-01,  1.17378786e-01, -2.28109911e-01,\n",
      "        -1.15799256e-01, -2.15252906e-01, -3.96980226e-01,\n",
      "        -3.24084580e-01, -2.46073470e-01, -2.90276080e-01,\n",
      "        -4.50098813e-01, -4.14081156e-01, -6.18074417e-01,\n",
      "        -4.31869060e-01, -1.69356421e-01, -2.19657078e-01],\n",
      "       [-6.91862285e-01, -1.24714747e-01, -5.65378845e-01,\n",
      "        -4.61381942e-01, -9.60266292e-01, -5.22495449e-01,\n",
      "        -1.83064544e+00, -5.17127573e-01, -8.52233112e-01,\n",
      "         3.36124599e-01, -5.88850677e-01,  6.75921321e-01,\n",
      "         2.03643724e-01, -2.24159777e-01, -3.33709478e-01,\n",
      "         2.78608911e-02,  3.03450495e-01, -2.27177456e-01,\n",
      "         1.23304032e-01,  1.81002945e-01, -4.37155545e-01,\n",
      "        -1.93562225e-01, -5.96160851e-02, -3.05405349e-01,\n",
      "         7.87784532e-02, -3.69505852e-01,  1.53082311e-01,\n",
      "         1.41754061e-01, -1.30843729e-01, -4.42492902e-01,\n",
      "         2.91832060e-01, -1.71515822e-01, -1.31050274e-01,\n",
      "        -3.05157781e-01, -1.31853402e-01, -4.09689695e-01],\n",
      "       [-9.87805903e-01,  4.66461509e-01, -4.38821286e-01,\n",
      "         1.04803011e-01, -9.44928646e-01, -8.28567803e-01,\n",
      "        -8.77514958e-01, -8.22386980e-01, -1.10968935e+00,\n",
      "         7.34864712e-01, -8.44690263e-01,  1.36767730e-01,\n",
      "        -3.19557577e-01,  6.78569973e-02, -7.58668303e-01,\n",
      "         1.22587070e-01, -3.55689496e-01, -7.45437682e-01,\n",
      "        -1.06808573e-01,  2.56607026e-01, -5.00898421e-01,\n",
      "        -1.82341546e-01,  5.94427228e-01, -8.24633121e-01,\n",
      "         7.82128721e-02, -1.96666226e-01, -1.37079924e-01,\n",
      "        -1.37240037e-01,  6.40420569e-03, -4.70358282e-01,\n",
      "         2.97229797e-01, -3.77973080e-01, -7.15596452e-02,\n",
      "        -2.12360308e-01, -6.14477135e-02, -1.67821959e-01],\n",
      "       [-8.01702976e-01, -5.54068744e-01, -9.33147132e-01,\n",
      "        -4.12548572e-01, -2.52338618e-01, -1.42528877e-01,\n",
      "        -8.06280673e-01, -5.68490803e-01, -7.41108358e-01,\n",
      "        -1.34905189e-01,  6.43913820e-02,  2.80609757e-01,\n",
      "         1.19544856e-01, -4.92860675e-01,  3.24554741e-02,\n",
      "        -1.93113431e-01,  2.42072821e-01,  6.37690574e-02,\n",
      "         8.22854698e-01, -1.65905550e-01, -2.53664106e-01,\n",
      "        -6.35478437e-01,  2.07994133e-01, -1.27743870e-01,\n",
      "        -3.52856249e-01,  1.24059737e-01, -6.03225529e-01,\n",
      "         2.31769085e-01, -4.89019334e-01, -3.25771235e-02,\n",
      "        -1.62139133e-01, -1.65901822e-03, -5.51314831e-01,\n",
      "        -5.31983137e-01, -3.06612551e-01, -5.30614674e-01],\n",
      "       [-3.27956170e-01, -6.32325411e-01,  1.21679977e-02,\n",
      "        -5.69726586e-01, -3.52746807e-02, -3.97091955e-01,\n",
      "        -1.23360205e+00, -8.16295519e-02, -2.58363485e-01,\n",
      "         2.48476356e-01,  2.92236716e-01,  1.97346136e-01,\n",
      "         8.47767889e-02, -3.94873440e-01, -1.99312955e-01,\n",
      "        -3.93535197e-01, -2.58301020e-01,  3.25202435e-01,\n",
      "         4.11455363e-01, -1.82292610e-01,  1.52740210e-01,\n",
      "        -1.38589069e-01, -3.98311578e-02, -8.56165066e-02,\n",
      "        -1.09429009e-01, -5.25427997e-01, -4.84257579e-01,\n",
      "         1.19935544e-02,  4.97571044e-02, -4.07470047e-01,\n",
      "         7.65169114e-02,  1.36164561e-01, -2.91921914e-01,\n",
      "        -4.33413804e-01,  4.30718325e-02, -4.73259866e-01],\n",
      "       [-9.37157035e-01,  2.19494909e-01, -8.78344625e-02,\n",
      "        -6.36192799e-01, -4.95247245e-01, -8.86229515e-01,\n",
      "        -1.21231508e+00, -5.49129248e-01, -2.68343300e-01,\n",
      "         3.85969490e-01, -3.03306490e-01,  8.41442868e-02,\n",
      "        -6.20954745e-02,  6.00935295e-02, -5.11294544e-01,\n",
      "         3.20035577e-01,  8.61698985e-02, -6.72501698e-02,\n",
      "         2.40406185e-01, -1.63772151e-01,  1.83913186e-01,\n",
      "        -2.85336077e-01,  2.09465727e-01, -2.17838660e-01,\n",
      "         1.32527038e-01, -6.63184822e-01, -3.18831280e-02,\n",
      "        -2.23779470e-01,  4.43921164e-02,  5.60755879e-02,\n",
      "        -4.71369445e-01, -5.32609582e-01,  1.35875493e-01,\n",
      "        -3.43492955e-01, -1.27683684e-01, -4.67224598e-01],\n",
      "       [-8.91956091e-02,  2.93924272e-01, -3.46408337e-02,\n",
      "        -2.12290794e-01, -4.98297483e-01, -3.81502122e-01,\n",
      "         8.82890821e-03, -4.90512609e-01, -3.52273107e-01,\n",
      "         4.74822789e-01, -6.62880361e-01,  6.94048684e-03,\n",
      "        -5.60441241e-02,  2.99756736e-01, -2.65793651e-01,\n",
      "        -1.23115905e-01,  4.18791175e-03, -3.52186769e-01,\n",
      "        -4.15474176e-01,  2.60423720e-01, -1.27116352e-01,\n",
      "        -3.06410193e-01,  4.34111327e-01,  5.65599911e-02,\n",
      "        -2.96663582e-01, -1.94517389e-01, -1.80558473e-01,\n",
      "         2.37235859e-01, -3.76896381e-01, -4.30340737e-01,\n",
      "        -6.68088794e-01, -4.45754856e-01,  1.90313011e-02,\n",
      "        -2.97712773e-01,  1.13612100e-01,  7.47118741e-02],\n",
      "       [-1.19229421e-01, -3.58263135e-01, -3.54541913e-02,\n",
      "         5.00894105e-03, -4.41792816e-01, -4.15199548e-01,\n",
      "        -8.21183681e-01, -5.32510102e-01, -4.95932162e-01,\n",
      "        -3.52694690e-01,  2.44731501e-01,  5.22667915e-02,\n",
      "        -2.25267738e-01, -1.13608390e-01, -1.23730883e-01,\n",
      "        -1.71900652e-02, -3.39789242e-01,  2.72382349e-01,\n",
      "         4.87152427e-01, -3.36787611e-01, -3.41193318e-01,\n",
      "        -2.20425084e-01,  1.14425741e-01, -4.13601190e-01,\n",
      "        -3.03419996e-02, -6.16701066e-01, -1.35409728e-01,\n",
      "        -4.36354280e-01, -5.74480474e-01, -1.89809743e-02,\n",
      "         2.41658777e-01,  2.35591177e-02,  4.06977385e-02,\n",
      "        -3.01825166e-01, -4.69386652e-02, -9.18438286e-02],\n",
      "       [-6.72729790e-01,  9.81900573e-01, -1.43847847e-02,\n",
      "         3.38217378e-01, -1.17864656e+00, -6.67837203e-01,\n",
      "        -6.73008263e-01, -1.37736893e+00, -4.97981280e-01,\n",
      "         7.99339712e-01, -7.52193034e-01,  2.80558258e-01,\n",
      "        -3.32762003e-01,  9.42046881e-01, -3.66531044e-01,\n",
      "        -2.80812740e-01, -6.93765730e-02, -6.62702084e-01,\n",
      "         2.95066629e-02,  3.27289909e-01, -4.16355103e-01,\n",
      "         1.37682492e-02,  1.75528318e-01, -4.21907425e-01,\n",
      "        -3.47377121e-01, -7.46040568e-02,  3.11485201e-01,\n",
      "         2.63169736e-01, -6.16669059e-01, -5.17459631e-01,\n",
      "        -6.96477830e-01, -2.92309433e-01, -1.57221094e-01,\n",
      "        -3.38887088e-02, -1.80671081e-01,  2.69702137e-01]], dtype=float32), array([-6.9563538e-01,  7.6664025e-01, -5.3871089e-01,  8.5276537e-02,\n",
      "       -8.5072979e-02, -3.8967025e-01,  6.3778496e-01, -4.7957516e-01,\n",
      "       -5.4710120e-01,  5.1052469e-01, -3.5709694e-01, -1.1092459e-01,\n",
      "        2.5475302e-01, -9.5355315e-03,  3.3050972e-01,  4.4281703e-01,\n",
      "        1.4417371e-01,  4.8752751e-02,  2.9853785e-01,  2.1733597e-01,\n",
      "        3.1694007e-01,  2.4636556e-01,  1.3386726e-01,  2.7771395e-01,\n",
      "       -3.3439160e-03,  6.1700470e-03, -7.6616411e-03, -3.1494035e-03,\n",
      "       -2.1412119e-03,  4.7408310e-03,  3.8931327e-04, -5.0353231e-03,\n",
      "       -4.0185028e-03,  1.4493078e-02, -1.8894982e-05,  1.0560443e-02],\n",
      "      dtype=float32)]\n",
      "====================\n"
     ]
    },
    {
     "name": "stdout",
     "output_type": "stream",
     "text": [
      "[array([[0.85112816],\n",
      "       [0.9343965 ],\n",
      "       [0.794871  ],\n",
      "       [0.6748711 ],\n",
      "       [0.8383302 ],\n",
      "       [0.8442498 ],\n",
      "       [0.74229884],\n",
      "       [0.8727063 ],\n",
      "       [0.75918615],\n",
      "       [0.7474922 ],\n",
      "       [0.70686835],\n",
      "       [0.7309802 ]], dtype=float32), array([0.00394603], dtype=float32)]\n",
      "====================\n"
     ]
    }
   ],
   "source": [
    "for layer in model.layers:\n",
    "    weights = layer.get_weights() # list of numpy arrays\n",
    "    print(weights)\n",
    "    print('='*20)"
   ]
  },
  {
   "cell_type": "code",
   "execution_count": 423,
   "metadata": {},
   "outputs": [
    {
     "name": "stdout",
     "output_type": "stream",
     "text": [
      "_________________________________________________________________\n",
      "Layer (type)                 Output Shape              Param #   \n",
      "=================================================================\n",
      "input_62 (InputLayer)        (1, 64, 1)                0         \n",
      "_________________________________________________________________\n",
      "gru_123 (GRU)                (1, 64, 12)               504       \n",
      "_________________________________________________________________\n",
      "gru_124 (GRU)                (1, 12)                   900       \n",
      "_________________________________________________________________\n",
      "dense_62 (Dense)             (1, 1)                    13        \n",
      "=================================================================\n",
      "Total params: 1,417\n",
      "Trainable params: 1,417\n",
      "Non-trainable params: 0\n",
      "_________________________________________________________________\n"
     ]
    }
   ],
   "source": [
    "model.summary()"
   ]
  },
  {
   "cell_type": "code",
   "execution_count": null,
   "metadata": {},
   "outputs": [],
   "source": [
    "score = model.evaluate(X_te_s[:400], y_te_s[:400], verbose=0, batch_size=BATCH_SIZE)\n",
    "score"
   ]
  },
  {
   "cell_type": "code",
   "execution_count": null,
   "metadata": {},
   "outputs": [],
   "source": [
    "0.005132799269631505"
   ]
  },
  {
   "cell_type": "code",
   "execution_count": null,
   "metadata": {
    "scrolled": false
   },
   "outputs": [],
   "source": [
    "from matplotlib import pyplot as plt\n",
    "\n",
    "# Plot training & validation loss values\n",
    "plt.plot(normalize(np.array(history.history['loss'])))\n",
    "plt.plot(normalize(np.array(history.history['val_loss'])))\n",
    "plt.title('Model loss')\n",
    "plt.ylabel('Loss')\n",
    "plt.xlabel('Epoch')\n",
    "plt.legend(['Train'], loc='upper left')\n",
    "plt.show()"
   ]
  },
  {
   "cell_type": "code",
   "execution_count": null,
   "metadata": {},
   "outputs": [],
   "source": [
    "len(X_te_f)"
   ]
  },
  {
   "cell_type": "code",
   "execution_count": null,
   "metadata": {},
   "outputs": [],
   "source": [
    "predict(model, X_te_s[:100])"
   ]
  },
  {
   "cell_type": "code",
   "execution_count": null,
   "metadata": {},
   "outputs": [],
   "source": [
    "print(X_tr_s[0][-1])"
   ]
  },
  {
   "cell_type": "code",
   "execution_count": null,
   "metadata": {
    "scrolled": false
   },
   "outputs": [],
   "source": [
    "%matplotlib inline\n",
    "from scipy.signal import savgol_filter\n",
    "\n",
    "(fig, ax) = plt.subplots(figsize=(16, 8))\n",
    "\n",
    "I = 200\n",
    "\n",
    "feat = pd.Series((np.array(list(map(lambda row: row[-1][0], X_tr_s[:I])))))\n",
    "\n",
    "feat.plot.line(ax=ax, label='feature')\n",
    "\n",
    "targ = (pd.Series((y_tr_s[:I])))\n",
    "\n",
    "pred = pd.Series(predict(model, X_tr_s[:I]))\n",
    "pd.Series(predict(model, X_tr_s[:I])\n",
    "# pred = (pred * 3.2) + 0.001\n",
    "pred = pred + 0.001\n",
    "\n",
    "zeros = pd.Series(np.zeros(I))\n",
    "zeros.plot.line(ax=ax, label='0')\n",
    "\n",
    "targ.plot.line(ax=ax, label='target')\n",
    "\n",
    "print(pred[:5])\n",
    "\n",
    "pred.plot.line(ax=ax, label='predicted')\n",
    "# pd.Series(savgol_filter(pred, 5, 3)).plot.line(ax=ax, label='savgol(predicted)')\n",
    "\n",
    "# pd.Series(normalize(np.array(list(map(lambda w: w[-1], X_tr_f[:I]))))).plot.line(ax=ax, label='feature')\n",
    "\n",
    "ax.legend(loc=\"upper right\")\n",
    "ax.set_xlabel('index')\n",
    "ax.set_ylabel('value')"
   ]
  },
  {
   "cell_type": "markdown",
   "metadata": {},
   "source": [
    "## Time to evaluate performance"
   ]
  },
  {
   "cell_type": "code",
   "execution_count": 417,
   "metadata": {},
   "outputs": [
    {
     "data": {
      "text/plain": [
       "(132000,\n",
       " array([-0.04886081, -0.04922077, -0.05179932, -0.05625489, -0.06245628,\n",
       "        -0.07003775, -0.0785034 , -0.08732291, -0.09609767, -0.10423632],\n",
       "       dtype=float32),\n",
       " 1.6179144,\n",
       " -1.16486)"
      ]
     },
     "execution_count": 417,
     "metadata": {},
     "output_type": "execute_result"
    }
   ],
   "source": [
    "predictions = predict(model, X_tr_s[:(44000 * 3)], batch_size=best_params['batch_size'])\n",
    "len(predictions), predictions[:10], np.max(predictions), np.min(predictions)"
   ]
  },
  {
   "cell_type": "code",
   "execution_count": 418,
   "metadata": {},
   "outputs": [
    {
     "data": {
      "text/plain": [
       "(132000, array([ -989.5593,  -996.8495, -1049.0717, -1139.3087, -1264.9032,\n",
       "        -1418.4476, -1589.8993, -1768.5173, -1946.2291, -2111.058 ],\n",
       "       dtype=float32), 32767.0, -23591.46)"
      ]
     },
     "execution_count": 418,
     "metadata": {},
     "output_type": "execute_result"
    }
   ],
   "source": [
    "predictions_n = predictions / (max(abs(np.max(predictions)), abs(np.min(predictions)))) * MAX_VALUE\n",
    "len(predictions_n), predictions_n[:10], np.max(predictions_n), np.min(predictions_n)"
   ]
  },
  {
   "cell_type": "code",
   "execution_count": 419,
   "metadata": {},
   "outputs": [],
   "source": [
    "wavfile.write('output/pred_out.wav', source_fs, predictions)"
   ]
  },
  {
   "cell_type": "code",
   "execution_count": null,
   "metadata": {},
   "outputs": [],
   "source": [
    "len(predictions)"
   ]
  },
  {
   "cell_type": "code",
   "execution_count": null,
   "metadata": {},
   "outputs": [],
   "source": []
  }
 ],
 "metadata": {
  "kernelspec": {
   "display_name": "Python 3",
   "language": "python",
   "name": "python3"
  },
  "language_info": {
   "codemirror_mode": {
    "name": "ipython",
    "version": 3
   },
   "file_extension": ".py",
   "mimetype": "text/x-python",
   "name": "python",
   "nbconvert_exporter": "python",
   "pygments_lexer": "ipython3",
   "version": "3.7.3"
  }
 },
 "nbformat": 4,
 "nbformat_minor": 2
}
