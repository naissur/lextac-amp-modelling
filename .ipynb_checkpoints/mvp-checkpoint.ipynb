{
 "cells": [
  {
   "cell_type": "code",
   "execution_count": 1,
   "metadata": {},
   "outputs": [],
   "source": [
    "from scipy.io import wavfile\n",
    "\n",
    "(source_fs, source_data) = wavfile.read('./data/01_source.wav')\n",
    "(target_fs, target_data) = wavfile.read('./data/01_peak_compressor.wav')\n"
   ]
  },
  {
   "cell_type": "code",
   "execution_count": 2,
   "metadata": {},
   "outputs": [],
   "source": [
    "import pandas as pd"
   ]
  },
  {
   "cell_type": "code",
   "execution_count": 3,
   "metadata": {},
   "outputs": [
    {
     "data": {
      "text/html": [
       "<div>\n",
       "<style scoped>\n",
       "    .dataframe tbody tr th:only-of-type {\n",
       "        vertical-align: middle;\n",
       "    }\n",
       "\n",
       "    .dataframe tbody tr th {\n",
       "        vertical-align: top;\n",
       "    }\n",
       "\n",
       "    .dataframe thead th {\n",
       "        text-align: right;\n",
       "    }\n",
       "</style>\n",
       "<table border=\"1\" class=\"dataframe\">\n",
       "  <thead>\n",
       "    <tr style=\"text-align: right;\">\n",
       "      <th></th>\n",
       "      <th>L</th>\n",
       "      <th>R</th>\n",
       "    </tr>\n",
       "  </thead>\n",
       "  <tbody>\n",
       "    <tr>\n",
       "      <th>0</th>\n",
       "      <td>1</td>\n",
       "      <td>-1</td>\n",
       "    </tr>\n",
       "    <tr>\n",
       "      <th>1</th>\n",
       "      <td>-5</td>\n",
       "      <td>-6</td>\n",
       "    </tr>\n",
       "    <tr>\n",
       "      <th>2</th>\n",
       "      <td>-11</td>\n",
       "      <td>-12</td>\n",
       "    </tr>\n",
       "    <tr>\n",
       "      <th>3</th>\n",
       "      <td>-18</td>\n",
       "      <td>-17</td>\n",
       "    </tr>\n",
       "    <tr>\n",
       "      <th>4</th>\n",
       "      <td>-24</td>\n",
       "      <td>-24</td>\n",
       "    </tr>\n",
       "  </tbody>\n",
       "</table>\n",
       "</div>"
      ],
      "text/plain": [
       "    L   R\n",
       "0   1  -1\n",
       "1  -5  -6\n",
       "2 -11 -12\n",
       "3 -18 -17\n",
       "4 -24 -24"
      ]
     },
     "execution_count": 3,
     "metadata": {},
     "output_type": "execute_result"
    }
   ],
   "source": [
    "source_df = pd.DataFrame(source_data, columns=['L', 'R'])\n",
    "source_df.head()"
   ]
  },
  {
   "cell_type": "code",
   "execution_count": 4,
   "metadata": {},
   "outputs": [
    {
     "data": {
      "text/html": [
       "<div>\n",
       "<style scoped>\n",
       "    .dataframe tbody tr th:only-of-type {\n",
       "        vertical-align: middle;\n",
       "    }\n",
       "\n",
       "    .dataframe tbody tr th {\n",
       "        vertical-align: top;\n",
       "    }\n",
       "\n",
       "    .dataframe thead th {\n",
       "        text-align: right;\n",
       "    }\n",
       "</style>\n",
       "<table border=\"1\" class=\"dataframe\">\n",
       "  <thead>\n",
       "    <tr style=\"text-align: right;\">\n",
       "      <th></th>\n",
       "      <th>L</th>\n",
       "      <th>R</th>\n",
       "    </tr>\n",
       "  </thead>\n",
       "  <tbody>\n",
       "    <tr>\n",
       "      <th>0</th>\n",
       "      <td>-1</td>\n",
       "      <td>0</td>\n",
       "    </tr>\n",
       "    <tr>\n",
       "      <th>1</th>\n",
       "      <td>-37</td>\n",
       "      <td>-37</td>\n",
       "    </tr>\n",
       "    <tr>\n",
       "      <th>2</th>\n",
       "      <td>-81</td>\n",
       "      <td>-81</td>\n",
       "    </tr>\n",
       "    <tr>\n",
       "      <th>3</th>\n",
       "      <td>-128</td>\n",
       "      <td>-128</td>\n",
       "    </tr>\n",
       "    <tr>\n",
       "      <th>4</th>\n",
       "      <td>-177</td>\n",
       "      <td>-178</td>\n",
       "    </tr>\n",
       "  </tbody>\n",
       "</table>\n",
       "</div>"
      ],
      "text/plain": [
       "     L    R\n",
       "0   -1    0\n",
       "1  -37  -37\n",
       "2  -81  -81\n",
       "3 -128 -128\n",
       "4 -177 -178"
      ]
     },
     "execution_count": 4,
     "metadata": {},
     "output_type": "execute_result"
    }
   ],
   "source": [
    "target_df = pd.DataFrame(target_data, columns=['L', 'R'])\n",
    "target_df.head()"
   ]
  },
  {
   "cell_type": "code",
   "execution_count": 5,
   "metadata": {},
   "outputs": [
    {
     "data": {
      "text/plain": [
       "(10790, 16537)"
      ]
     },
     "execution_count": 5,
     "metadata": {},
     "output_type": "execute_result"
    }
   ],
   "source": [
    "source_df['L'].max(), target_df['L'].max()"
   ]
  },
  {
   "cell_type": "code",
   "execution_count": 6,
   "metadata": {},
   "outputs": [
    {
     "data": {
      "text/plain": [
       "32768"
      ]
     },
     "execution_count": 6,
     "metadata": {},
     "output_type": "execute_result"
    }
   ],
   "source": [
    "2 ** 15"
   ]
  },
  {
   "cell_type": "code",
   "execution_count": 7,
   "metadata": {},
   "outputs": [
    {
     "data": {
      "text/plain": [
       "32767"
      ]
     },
     "execution_count": 7,
     "metadata": {},
     "output_type": "execute_result"
    }
   ],
   "source": [
    "MAX_VALUE = 2 ** 15 - 1\n",
    "MAX_VALUE"
   ]
  },
  {
   "cell_type": "code",
   "execution_count": null,
   "metadata": {},
   "outputs": [],
   "source": []
  },
  {
   "cell_type": "code",
   "execution_count": 8,
   "metadata": {},
   "outputs": [
    {
     "data": {
      "text/plain": [
       "(1302647, 1302647)"
      ]
     },
     "execution_count": 8,
     "metadata": {},
     "output_type": "execute_result"
    }
   ],
   "source": [
    "len(source_df), len(target_df)"
   ]
  },
  {
   "cell_type": "code",
   "execution_count": 9,
   "metadata": {},
   "outputs": [
    {
     "data": {
      "text/plain": [
       "1042100"
      ]
     },
     "execution_count": 9,
     "metadata": {},
     "output_type": "execute_result"
    }
   ],
   "source": [
    "# END_LOC = int(len(target_df) * 0.8)\n",
    "TR_END_LOC = int(len(target_df) * 0.8 / 100) * 100\n",
    "TR_END_LOC"
   ]
  },
  {
   "cell_type": "markdown",
   "metadata": {},
   "source": [
    "## IT'S MONO"
   ]
  },
  {
   "cell_type": "code",
   "execution_count": 10,
   "metadata": {},
   "outputs": [
    {
     "data": {
      "text/plain": [
       "1042100"
      ]
     },
     "execution_count": 10,
     "metadata": {},
     "output_type": "execute_result"
    }
   ],
   "source": [
    "X_train_raw = source_df['L'][:TR_END_LOC]\n",
    "len(X_train_raw)"
   ]
  },
  {
   "cell_type": "code",
   "execution_count": 11,
   "metadata": {},
   "outputs": [
    {
     "data": {
      "text/plain": [
       "260547"
      ]
     },
     "execution_count": 11,
     "metadata": {},
     "output_type": "execute_result"
    }
   ],
   "source": [
    "X_test_raw = source_df['L'][TR_END_LOC:]\n",
    "len(X_test_raw)"
   ]
  },
  {
   "cell_type": "code",
   "execution_count": 12,
   "metadata": {},
   "outputs": [
    {
     "data": {
      "text/plain": [
       "1042100"
      ]
     },
     "execution_count": 12,
     "metadata": {},
     "output_type": "execute_result"
    }
   ],
   "source": [
    "y_train_raw = target_df['L'][:TR_END_LOC]\n",
    "len(y_train_raw)"
   ]
  },
  {
   "cell_type": "code",
   "execution_count": 13,
   "metadata": {},
   "outputs": [
    {
     "data": {
      "text/plain": [
       "260547"
      ]
     },
     "execution_count": 13,
     "metadata": {},
     "output_type": "execute_result"
    }
   ],
   "source": [
    "y_test_raw = target_df['L'][TR_END_LOC:]\n",
    "len(y_test_raw)"
   ]
  },
  {
   "cell_type": "code",
   "execution_count": 14,
   "metadata": {},
   "outputs": [
    {
     "data": {
      "text/plain": [
       "1042100    3458\n",
       "1042101    3469\n",
       "1042102    3479\n",
       "1042103    3485\n",
       "1042104    3490\n",
       "1042105    3491\n",
       "1042106    3489\n",
       "1042107    3485\n",
       "1042108    3479\n",
       "1042109    3471\n",
       "Name: L, dtype: int16"
      ]
     },
     "execution_count": 14,
     "metadata": {},
     "output_type": "execute_result"
    }
   ],
   "source": [
    "X_test_raw.iloc[:10]"
   ]
  },
  {
   "cell_type": "code",
   "execution_count": 15,
   "metadata": {},
   "outputs": [],
   "source": [
    "# safe-checking data"
   ]
  },
  {
   "cell_type": "code",
   "execution_count": 16,
   "metadata": {},
   "outputs": [],
   "source": [
    "# y_train_raw = -y_train_raw + 4000\n",
    "# y_train_raw.iloc[0]"
   ]
  },
  {
   "cell_type": "code",
   "execution_count": 17,
   "metadata": {},
   "outputs": [],
   "source": [
    "# y_test_raw = -y_test_raw + 4000\n",
    "# y_test_raw.iloc[0]"
   ]
  },
  {
   "cell_type": "markdown",
   "metadata": {},
   "source": [
    "## Preparing data for processing"
   ]
  },
  {
   "cell_type": "code",
   "execution_count": 18,
   "metadata": {},
   "outputs": [],
   "source": [
    "def normalize_keeping_mean(arr, forced_abs=None):\n",
    "    left_abs = np.abs(arr.mean() - arr.min())\n",
    "    right_abs = np.abs(arr.max() - arr.mean())\n",
    "    \n",
    "    n = max(left_abs, right_abs)\n",
    "    \n",
    "    if (forced_abs is not None):\n",
    "        n = forced_abs\n",
    "    \n",
    "    return np.clip(arr / n, -1.0, 1.0)"
   ]
  },
  {
   "cell_type": "code",
   "execution_count": 19,
   "metadata": {},
   "outputs": [],
   "source": [
    "def normalize(arr, forced_abs=None, mean=None):\n",
    "    left_abs = np.abs(arr.mean() - arr.min())\n",
    "    right_abs = np.abs(arr.max() - arr.mean())\n",
    "    \n",
    "    n = max(left_abs, right_abs)\n",
    "    \n",
    "    if (forced_abs is not None):\n",
    "        n = forced_abs\n",
    "        \n",
    "    if (mean is None):\n",
    "        mean = arr.mean()\n",
    "    \n",
    "    \n",
    "    return np.clip((arr - mean) / n, -1.0, 1.0)"
   ]
  },
  {
   "cell_type": "code",
   "execution_count": 20,
   "metadata": {},
   "outputs": [
    {
     "data": {
      "text/plain": [
       "(-0.30961027863399154, 0.3292947172460097, 5.524491569495269e-06)"
      ]
     },
     "execution_count": 20,
     "metadata": {},
     "output_type": "execute_result"
    }
   ],
   "source": [
    "import numpy as np\n",
    "\n",
    "X_tr = np.array(list(map(lambda x: np.array(x), X_train_raw)))\n",
    "X_tr_n = normalize(X_tr, forced_abs=MAX_VALUE, mean=0.0)\n",
    "X_tr_n.min(), X_tr_n.max(), np.mean(X_tr_n)"
   ]
  },
  {
   "cell_type": "code",
   "execution_count": 21,
   "metadata": {},
   "outputs": [
    {
     "data": {
      "text/plain": [
       "(-0.1662038026062807, 0.2346873378704184, 1.2222185906085745e-05)"
      ]
     },
     "execution_count": 21,
     "metadata": {},
     "output_type": "execute_result"
    }
   ],
   "source": [
    "X_te = np.array(list(map(lambda x: np.array(x), X_test_raw)))\n",
    "X_te_n= normalize(X_te, forced_abs=MAX_VALUE, mean=0.0)\n",
    "X_te_n.min(), X_te_n.max(), np.mean(X_te_n)"
   ]
  },
  {
   "cell_type": "code",
   "execution_count": 22,
   "metadata": {},
   "outputs": [
    {
     "data": {
      "text/plain": [
       "(-0.3057954649494919, 0.5046845912045655, -0.0002333393516189353)"
      ]
     },
     "execution_count": 22,
     "metadata": {},
     "output_type": "execute_result"
    }
   ],
   "source": [
    "y_tr = np.array(list(map(lambda x: np.array(x), y_train_raw)))\n",
    "y_tr_n = normalize(y_tr, forced_abs=MAX_VALUE, mean=0.0)\n",
    "y_tr_n.min(), y_tr_n.max(), np.mean(y_tr_n)"
   ]
  },
  {
   "cell_type": "code",
   "execution_count": 23,
   "metadata": {},
   "outputs": [
    {
     "data": {
      "text/plain": [
       "(-0.2708517715994751, 0.43766594439527573, -2.5239466909497803e-05)"
      ]
     },
     "execution_count": 23,
     "metadata": {},
     "output_type": "execute_result"
    }
   ],
   "source": [
    "y_te = np.array(list(map(lambda x: np.array(x), y_test_raw)))\n",
    "y_te_n = normalize(y_te, forced_abs=MAX_VALUE, mean=0.0)\n",
    "y_te_n.min(), y_te_n.max(), np.mean(y_te_n)"
   ]
  },
  {
   "cell_type": "code",
   "execution_count": 24,
   "metadata": {},
   "outputs": [],
   "source": [
    "X_tr_n = X_tr_n.astype('float32')\n",
    "X_te_n = X_te_n.astype('float32')\n",
    "y_tr_n = y_tr_n.astype('float32')\n",
    "y_te_n = y_te_n.astype('float32')"
   ]
  },
  {
   "cell_type": "code",
   "execution_count": 25,
   "metadata": {
    "scrolled": false
   },
   "outputs": [
    {
     "data": {
      "text/plain": [
       "<matplotlib.axes._subplots.AxesSubplot at 0x1214bb588>"
      ]
     },
     "execution_count": 25,
     "metadata": {},
     "output_type": "execute_result"
    }
   ],
   "source": [
    "pd.Series(X_tr_n[:800]).plot.line(figsize=(16, 8))"
   ]
  },
  {
   "cell_type": "code",
   "execution_count": 26,
   "metadata": {},
   "outputs": [
    {
     "data": {
      "text/plain": [
       "<matplotlib.axes._subplots.AxesSubplot at 0x12204a400>"
      ]
     },
     "execution_count": 26,
     "metadata": {},
     "output_type": "execute_result"
    },
    {
     "data": {
      "image/png": "[encoded data removed]",
      "text/plain": [
       "<Figure size 1152x576 with 1 Axes>"
      ]
     },
     "metadata": {
      "needs_background": "light"
     },
     "output_type": "display_data"
    }
   ],
   "source": [
    "pd.Series(y_tr_n[:800]).plot.line(figsize=(16, 8))"
   ]
  },
  {
   "cell_type": "code",
   "execution_count": 27,
   "metadata": {},
   "outputs": [
    {
     "data": {
      "text/plain": [
       "(-0.1662038, 0.23468734, 1.2222178e-05)"
      ]
     },
     "execution_count": 27,
     "metadata": {},
     "output_type": "execute_result"
    }
   ],
   "source": [
    "\n",
    "X_te_n.min(), X_te_n.max(), np.mean(X_te_n)"
   ]
  },
  {
   "cell_type": "code",
   "execution_count": 28,
   "metadata": {},
   "outputs": [
    {
     "data": {
      "text/plain": [
       "<matplotlib.axes._subplots.AxesSubplot at 0x1220a05c0>"
      ]
     },
     "execution_count": 28,
     "metadata": {},
     "output_type": "execute_result"
    },
    {
     "data": {
      "image/png": "[encoded data removed]",
      "text/plain": [
       "<Figure size 1152x576 with 1 Axes>"
      ]
     },
     "metadata": {
      "needs_background": "light"
     },
     "output_type": "display_data"
    }
   ],
   "source": [
    "pd.Series(X_te_n[:800]).plot.line(figsize=(16, 8))"
   ]
  },
  {
   "cell_type": "code",
   "execution_count": 29,
   "metadata": {
    "scrolled": true
   },
   "outputs": [
    {
     "data": {
      "text/plain": [
       "<matplotlib.axes._subplots.AxesSubplot at 0x12210b4e0>"
      ]
     },
     "execution_count": 29,
     "metadata": {},
     "output_type": "execute_result"
    },
    {
     "data": {
      "image/png": "[encoded data removed]",
      "text/plain": [
       "<Figure size 1152x576 with 1 Axes>"
      ]
     },
     "metadata": {
      "needs_background": "light"
     },
     "output_type": "display_data"
    }
   ],
   "source": [
    "pd.Series(y_te_n[:800]).plot.line(figsize=(16, 8))"
   ]
  },
  {
   "cell_type": "code",
   "execution_count": null,
   "metadata": {},
   "outputs": [],
   "source": []
  },
  {
   "cell_type": "code",
   "execution_count": 30,
   "metadata": {},
   "outputs": [],
   "source": [
    "# appending stats of the whole sample, fading from silence"
   ]
  },
  {
   "cell_type": "code",
   "execution_count": 31,
   "metadata": {},
   "outputs": [],
   "source": [
    "# train_shuffle_index = np.random.shuffle(np.arange(0, len(X_tr_n)))\n",
    "# test_shuffle_index = np.random.shuffle(np.arange(0, len(X_te_n)))\n",
    "\n",
    "# X_tr_f = X_tr_n[train_shuffle_index][0]\n",
    "# y_tr_f = y_tr_n[train_shuffle_index][0]\n",
    "\n",
    "# X_te_f = X_te_n[test_shuffle_index][0]\n",
    "# y_te_f = y_te_n[test_shuffle_index][0]"
   ]
  },
  {
   "cell_type": "markdown",
   "metadata": {},
   "source": [
    "## Making windows"
   ]
  },
  {
   "cell_type": "code",
   "execution_count": 32,
   "metadata": {},
   "outputs": [
    {
     "data": {
      "text/plain": [
       "64"
      ]
     },
     "execution_count": 32,
     "metadata": {},
     "output_type": "execute_result"
    }
   ],
   "source": [
    "# N_WINDOW_POINTS = int(source_clean_fs * 0.02)\n",
    "N_WINDOW_POINTS = 64\n",
    "N_WINDOW_POINTS"
   ]
  },
  {
   "cell_type": "code",
   "execution_count": 33,
   "metadata": {},
   "outputs": [
    {
     "data": {
      "text/plain": [
       "132000"
      ]
     },
     "execution_count": 33,
     "metadata": {},
     "output_type": "execute_result"
    }
   ],
   "source": [
    "N_SAMPLES = 44000 * 3\n",
    "N_SAMPLES"
   ]
  },
  {
   "cell_type": "code",
   "execution_count": 34,
   "metadata": {},
   "outputs": [],
   "source": [
    "def make_windows(X, y, n_window_points):\n",
    "    X_index = X.index\n",
    "    index = 0\n",
    "    \n",
    "    res_X = []\n",
    "    res_y = []\n",
    "\n",
    "    for index in range(0, len(X) - n_window_points - 1):\n",
    "        res_X.append(X.iloc[index:(index + n_window_points)])\n",
    "#         res_y.append(y.iloc[index + n_window_points])\n",
    "        res_y.append(y.iloc[index + n_window_points - 1])\n",
    "\n",
    "    return (np.array(res_X), np.array(res_y))"
   ]
  },
  {
   "cell_type": "code",
   "execution_count": 35,
   "metadata": {},
   "outputs": [
    {
     "name": "stdout",
     "output_type": "stream",
     "text": [
      "(132000, array([ 3.05185094e-05, -1.52592547e-04, -3.35703604e-04, -5.49333170e-04,\n",
      "       -7.32444227e-04, -9.15555283e-04, -1.12918485e-03, -1.40385143e-03,\n",
      "       -1.61748100e-03, -1.86162908e-03, -2.10577715e-03, -2.38044374e-03,\n",
      "       -2.59407330e-03, -2.80770287e-03, -3.02133244e-03, -3.23496200e-03,\n",
      "       -3.38755455e-03, -3.54014710e-03, -3.75377666e-03, -3.93688772e-03,\n",
      "       -4.08948027e-03, -4.21155430e-03, -4.30310983e-03, -4.39466536e-03,\n",
      "       -4.45570238e-03, -4.57777642e-03, -4.69985045e-03, -4.79140598e-03,\n",
      "       -4.94399853e-03, -5.06607257e-03, -5.31022064e-03, -5.52385021e-03,\n",
      "       -5.85955381e-03, -6.50044251e-03, -7.14133121e-03, -7.87377544e-03,\n",
      "       -8.54518265e-03, -9.27762687e-03, -9.94903408e-03, -1.06814783e-02,\n",
      "       -1.12918485e-02, -1.18717002e-02, -1.24820704e-02, -1.30619220e-02,\n",
      "       -1.36722922e-02, -1.42216254e-02, -1.47404401e-02, -1.51982177e-02,\n",
      "       -1.55949583e-02, -1.58391073e-02, -1.59306619e-02, -1.58391073e-02,\n",
      "       -1.55949583e-02, -1.51982177e-02, -1.46183660e-02, -1.38859218e-02,\n",
      "       -1.30314035e-02, -1.21158483e-02, -1.11392559e-02, -1.01931822e-02,\n",
      "       -9.24710836e-03, -8.51466414e-03, -7.93481246e-03, -7.59910885e-03],\n",
      "      dtype=float32), -0.054567095)\n",
      "CPU times: user 18 s, sys: 178 ms, total: 18.1 s\n",
      "Wall time: 18.2 s\n"
     ]
    }
   ],
   "source": [
    "%%time\n",
    "(X_tr_f, y_tr_f) = make_windows(\n",
    "    pd.Series(X_tr_n[:(N_SAMPLES + N_WINDOW_POINTS + 1)]),\n",
    "    pd.Series(y_tr_n[:(N_SAMPLES + N_WINDOW_POINTS + 1)]),\n",
    "    N_WINDOW_POINTS)\n",
    "print((len(X_tr_f), X_tr_f[0], y_tr_f[0]))"
   ]
  },
  {
   "cell_type": "code",
   "execution_count": 36,
   "metadata": {},
   "outputs": [
    {
     "data": {
      "text/plain": [
       "(array([-0.00015259, -0.0003357 , -0.00054933, -0.00073244, -0.00091556,\n",
       "        -0.00112918, -0.00140385, -0.00161748, -0.00186163, -0.00210578,\n",
       "        -0.00238044, -0.00259407, -0.0028077 , -0.00302133, -0.00323496,\n",
       "        -0.00338755, -0.00354015, -0.00375378, -0.00393689, -0.00408948,\n",
       "        -0.00421155, -0.00430311, -0.00439467, -0.0044557 , -0.00457778,\n",
       "        -0.00469985, -0.00479141, -0.004944  , -0.00506607, -0.00531022,\n",
       "        -0.00552385, -0.00585955, -0.00650044, -0.00714133, -0.00787378,\n",
       "        -0.00854518, -0.00927763, -0.00994903, -0.01068148, -0.01129185,\n",
       "        -0.0118717 , -0.01248207, -0.01306192, -0.01367229, -0.01422163,\n",
       "        -0.01474044, -0.01519822, -0.01559496, -0.01583911, -0.01593066,\n",
       "        -0.01583911, -0.01559496, -0.01519822, -0.01461837, -0.01388592,\n",
       "        -0.0130314 , -0.01211585, -0.01113926, -0.01019318, -0.00924711,\n",
       "        -0.00851466, -0.00793481, -0.00759911, -0.00747703], dtype=float32),\n",
       " -0.053773616)"
      ]
     },
     "execution_count": 36,
     "metadata": {},
     "output_type": "execute_result"
    }
   ],
   "source": [
    "X_tr_f[1], y_tr_f[1]"
   ]
  },
  {
   "cell_type": "code",
   "execution_count": 37,
   "metadata": {},
   "outputs": [
    {
     "name": "stdout",
     "output_type": "stream",
     "text": [
      "(132000, array([0.105533  , 0.10586871, 0.1061739 , 0.10635701, 0.1065096 ,\n",
      "       0.10654011, 0.10647908, 0.10635701, 0.1061739 , 0.10592975,\n",
      "       0.105533  , 0.10507523, 0.10455641, 0.10391553, 0.1032136 ,\n",
      "       0.10242012, 0.10153508, 0.10058901, 0.09955138, 0.09839167,\n",
      "       0.09720145, 0.09588916, 0.09454634, 0.09305093, 0.09155553,\n",
      "       0.08990753, 0.08822901, 0.08648945, 0.08465835, 0.0827662 ,\n",
      "       0.08084353, 0.07882931, 0.07672353, 0.07458724, 0.07238991,\n",
      "       0.07016205, 0.06787317, 0.06552324, 0.0631428 , 0.06073184,\n",
      "       0.05829035, 0.05578784, 0.05328532, 0.0507828 , 0.04821924,\n",
      "       0.04565569, 0.04306162, 0.04049806, 0.03790399, 0.03530991,\n",
      "       0.03277688, 0.03021332, 0.02764977, 0.02517777, 0.02264473,\n",
      "       0.02023377, 0.01782281, 0.01544237, 0.01312296, 0.01083407,\n",
      "       0.00860622, 0.00640889, 0.00424207, 0.00219733], dtype=float32), 0.0045777764)\n",
      "CPU times: user 18.1 s, sys: 182 ms, total: 18.2 s\n",
      "Wall time: 18.3 s\n"
     ]
    }
   ],
   "source": [
    "%%time\n",
    "(X_te_f, y_te_f) = make_windows(\n",
    "    pd.Series(X_te_n[:(N_SAMPLES + N_WINDOW_POINTS + 1)]),\n",
    "    pd.Series(y_te_n[:(N_SAMPLES + N_WINDOW_POINTS + 1)]),\n",
    "    N_WINDOW_POINTS\n",
    ")\n",
    "print((len(X_te_f), X_te_f[0], y_te_f[0]))"
   ]
  },
  {
   "cell_type": "code",
   "execution_count": 38,
   "metadata": {},
   "outputs": [
    {
     "data": {
      "text/plain": [
       "(array([0.10586871, 0.1061739 , 0.10635701, 0.1065096 , 0.10654011,\n",
       "        0.10647908, 0.10635701, 0.1061739 , 0.10592975, 0.105533  ,\n",
       "        0.10507523, 0.10455641, 0.10391553, 0.1032136 , 0.10242012,\n",
       "        0.10153508, 0.10058901, 0.09955138, 0.09839167, 0.09720145,\n",
       "        0.09588916, 0.09454634, 0.09305093, 0.09155553, 0.08990753,\n",
       "        0.08822901, 0.08648945, 0.08465835, 0.0827662 , 0.08084353,\n",
       "        0.07882931, 0.07672353, 0.07458724, 0.07238991, 0.07016205,\n",
       "        0.06787317, 0.06552324, 0.0631428 , 0.06073184, 0.05829035,\n",
       "        0.05578784, 0.05328532, 0.0507828 , 0.04821924, 0.04565569,\n",
       "        0.04306162, 0.04049806, 0.03790399, 0.03530991, 0.03277688,\n",
       "        0.03021332, 0.02764977, 0.02517777, 0.02264473, 0.02023377,\n",
       "        0.01782281, 0.01544237, 0.01312296, 0.01083407, 0.00860622,\n",
       "        0.00640889, 0.00424207, 0.00219733, 0.00015259], dtype=float32),\n",
       " 0.0003357036)"
      ]
     },
     "execution_count": 38,
     "metadata": {},
     "output_type": "execute_result"
    }
   ],
   "source": [
    "X_te_f[1], y_te_f[1]"
   ]
  },
  {
   "cell_type": "code",
   "execution_count": null,
   "metadata": {},
   "outputs": [],
   "source": []
  },
  {
   "cell_type": "code",
   "execution_count": 39,
   "metadata": {},
   "outputs": [],
   "source": [
    "# import numpy as np\n",
    "\n",
    "# train_shuffle_index = np.arange(0, len(X_tr_f))\n",
    "# np.random.shuffle(train_shuffle_index)\n",
    "\n",
    "# test_shuffle_index = np.arange(0, len(X_te_f))\n",
    "# np.random.shuffle(test_shuffle_index)\n",
    "\n",
    "# X_tr_f = np.array(X_tr_f)[train_shuffle_index]\n",
    "# y_tr_f = np.array(y_tr_f)[train_shuffle_index]\n",
    "\n",
    "# X_te_f = np.array(X_te_f)[test_shuffle_index]\n",
    "# y_te_f = np.array(y_te_f)[test_shuffle_index]\n",
    "\n",
    "# X_tr_f[0], y_tr_f[0], len(X_tr_f), len(y_tr_f), len(X_te_f), len(y_te_f)"
   ]
  },
  {
   "cell_type": "code",
   "execution_count": 40,
   "metadata": {},
   "outputs": [],
   "source": [
    "# X_tr_f = X_tr_n\n",
    "# y_tr_f = y_tr_n\n",
    "\n",
    "# X_te_f = X_te_n\n",
    "# y_te_f = y_te_n"
   ]
  },
  {
   "cell_type": "code",
   "execution_count": 41,
   "metadata": {},
   "outputs": [
    {
     "data": {
      "text/plain": [
       "(132000, 132000, 132000, 132000)"
      ]
     },
     "execution_count": 41,
     "metadata": {},
     "output_type": "execute_result"
    }
   ],
   "source": [
    "(len(X_tr_f), len(y_tr_f), len(X_te_f), len(y_te_f))"
   ]
  },
  {
   "cell_type": "code",
   "execution_count": 42,
   "metadata": {},
   "outputs": [],
   "source": [
    "# list(map(lambda row: row[:N_PEAKS*2], X_tr_f))[0]\n",
    "# # list(map(lambda row: row[:N_PEAKS], X_tr_f))[0]"
   ]
  },
  {
   "cell_type": "code",
   "execution_count": 43,
   "metadata": {
    "scrolled": true
   },
   "outputs": [],
   "source": [
    "# from matplotlib import pyplot as plt\n",
    "\n",
    "# # amp_df = pd.DataFrame(list(map(lambda row: row[N_PEAKS:N_PEAKS*2], X_tr_f)))\n",
    "# amp_df = pd.DataFrame(list(map(lambda row: row, X_tr_f)))\n",
    "\n",
    "# f = plt.figure(figsize=(19, 15))\n",
    "# plt.matshow(amp_df.corr())\n",
    "# plt.xticks(range(amp_df.shape[1]), amp_df.columns, fontsize=14, rotation=45)\n",
    "# plt.yticks(range(amp_df.shape[1]), amp_df.columns, fontsize=14)\n",
    "# cb = plt.colorbar()\n",
    "# cb.ax.tick_params(labelsize=14)\n",
    "# plt.title('Correlation Matrix', fontsize=16);"
   ]
  },
  {
   "cell_type": "code",
   "execution_count": 44,
   "metadata": {
    "scrolled": false
   },
   "outputs": [
    {
     "data": {
      "text/plain": [
       "<matplotlib.axes._subplots.AxesSubplot at 0x13312c208>"
      ]
     },
     "execution_count": 44,
     "metadata": {},
     "output_type": "execute_result"
    },
    {
     "data": {
      "image/png": "[encoded data removed]",
      "text/plain": [
       "<Figure size 1152x576 with 1 Axes>"
      ]
     },
     "metadata": {
      "needs_background": "light"
     },
     "output_type": "display_data"
    }
   ],
   "source": [
    "pd.Series(X_tr_f[0]).plot.line(figsize=(16, 8))"
   ]
  },
  {
   "cell_type": "code",
   "execution_count": 45,
   "metadata": {},
   "outputs": [
    {
     "data": {
      "text/plain": [
       "<matplotlib.axes._subplots.AxesSubplot at 0x133077d68>"
      ]
     },
     "execution_count": 45,
     "metadata": {},
     "output_type": "execute_result"
    },
    {
     "data": {
      "image/png": "[encoded data removed]",
      "text/plain": [
       "<Figure size 1152x576 with 1 Axes>"
      ]
     },
     "metadata": {
      "needs_background": "light"
     },
     "output_type": "display_data"
    }
   ],
   "source": [
    "pd.Series(y_tr_f[:N_WINDOW_POINTS]).plot.line(figsize=(16, 8))"
   ]
  },
  {
   "cell_type": "code",
   "execution_count": 46,
   "metadata": {},
   "outputs": [
    {
     "data": {
      "text/plain": [
       "<matplotlib.axes._subplots.AxesSubplot at 0x133126a20>"
      ]
     },
     "execution_count": 46,
     "metadata": {},
     "output_type": "execute_result"
    },
    {
     "data": {
      "image/png": "[encoded data removed]",
      "text/plain": [
       "<Figure size 1152x576 with 1 Axes>"
      ]
     },
     "metadata": {
      "needs_background": "light"
     },
     "output_type": "display_data"
    }
   ],
   "source": [
    "pd.Series(X_te_f[0]).plot.line(figsize=(16, 8))"
   ]
  },
  {
   "cell_type": "code",
   "execution_count": 47,
   "metadata": {
    "scrolled": false
   },
   "outputs": [
    {
     "data": {
      "text/plain": [
       "<matplotlib.axes._subplots.AxesSubplot at 0x1320cf208>"
      ]
     },
     "execution_count": 47,
     "metadata": {},
     "output_type": "execute_result"
    },
    {
     "data": {
      "image/png": "[encoded data removed]",
      "text/plain": [
       "<Figure size 1152x576 with 1 Axes>"
      ]
     },
     "metadata": {
      "needs_background": "light"
     },
     "output_type": "display_data"
    }
   ],
   "source": [
    "pd.Series(y_te_f[:N_WINDOW_POINTS]).plot.line(figsize=(16, 8))"
   ]
  },
  {
   "cell_type": "code",
   "execution_count": 48,
   "metadata": {},
   "outputs": [],
   "source": [
    "n_features = 1"
   ]
  },
  {
   "cell_type": "code",
   "execution_count": 49,
   "metadata": {},
   "outputs": [
    {
     "data": {
      "text/plain": [
       "(array([ 3.05185094e-05, -1.52592547e-04, -3.35703604e-04, -5.49333170e-04,\n",
       "        -7.32444227e-04, -9.15555283e-04, -1.12918485e-03, -1.40385143e-03,\n",
       "        -1.61748100e-03, -1.86162908e-03, -2.10577715e-03, -2.38044374e-03,\n",
       "        -2.59407330e-03, -2.80770287e-03, -3.02133244e-03, -3.23496200e-03,\n",
       "        -3.38755455e-03, -3.54014710e-03, -3.75377666e-03, -3.93688772e-03,\n",
       "        -4.08948027e-03, -4.21155430e-03, -4.30310983e-03, -4.39466536e-03,\n",
       "        -4.45570238e-03, -4.57777642e-03, -4.69985045e-03, -4.79140598e-03,\n",
       "        -4.94399853e-03, -5.06607257e-03, -5.31022064e-03, -5.52385021e-03,\n",
       "        -5.85955381e-03, -6.50044251e-03, -7.14133121e-03, -7.87377544e-03,\n",
       "        -8.54518265e-03, -9.27762687e-03, -9.94903408e-03, -1.06814783e-02,\n",
       "        -1.12918485e-02, -1.18717002e-02, -1.24820704e-02, -1.30619220e-02,\n",
       "        -1.36722922e-02, -1.42216254e-02, -1.47404401e-02, -1.51982177e-02,\n",
       "        -1.55949583e-02, -1.58391073e-02, -1.59306619e-02, -1.58391073e-02,\n",
       "        -1.55949583e-02, -1.51982177e-02, -1.46183660e-02, -1.38859218e-02,\n",
       "        -1.30314035e-02, -1.21158483e-02, -1.11392559e-02, -1.01931822e-02,\n",
       "        -9.24710836e-03, -8.51466414e-03, -7.93481246e-03, -7.59910885e-03],\n",
       "       dtype=float32), -0.054567095)"
      ]
     },
     "execution_count": 49,
     "metadata": {},
     "output_type": "execute_result"
    }
   ],
   "source": [
    "(X_tr_f[0], y_tr_f[0])"
   ]
  },
  {
   "cell_type": "code",
   "execution_count": 50,
   "metadata": {},
   "outputs": [
    {
     "data": {
      "text/plain": [
       "array([[ 3.0518509e-05],\n",
       "       [-1.5259255e-04],\n",
       "       [-3.3570360e-04],\n",
       "       [-5.4933317e-04],\n",
       "       [-7.3244423e-04]], dtype=float32)"
      ]
     },
     "execution_count": 50,
     "metadata": {},
     "output_type": "execute_result"
    }
   ],
   "source": [
    "X_tr_s = X_tr_f.reshape(X_tr_f.shape[0], X_tr_f.shape[1], 1)\n",
    "X_tr_s[0][:5]"
   ]
  },
  {
   "cell_type": "code",
   "execution_count": 51,
   "metadata": {},
   "outputs": [],
   "source": [
    "y_tr_s = y_tr_f"
   ]
  },
  {
   "cell_type": "code",
   "execution_count": 52,
   "metadata": {},
   "outputs": [
    {
     "data": {
      "text/plain": [
       "array([[0.105533  ],\n",
       "       [0.10586871],\n",
       "       [0.1061739 ],\n",
       "       [0.10635701],\n",
       "       [0.1065096 ]], dtype=float32)"
      ]
     },
     "execution_count": 52,
     "metadata": {},
     "output_type": "execute_result"
    }
   ],
   "source": [
    "X_te_s = X_te_f.reshape(X_te_f.shape[0], X_te_f.shape[1], 1)\n",
    "X_te_s[0][:5]"
   ]
  },
  {
   "cell_type": "code",
   "execution_count": 53,
   "metadata": {},
   "outputs": [],
   "source": [
    "y_te_s = y_te_f"
   ]
  },
  {
   "cell_type": "code",
   "execution_count": 54,
   "metadata": {},
   "outputs": [],
   "source": [
    "def add_stats(row):\n",
    "    stats = [\n",
    "        np.abs(row[-1]),\n",
    "        -np.abs(row[-1]),\n",
    "#         np.mean(row),\n",
    "#         np.max(row),\n",
    "#         np.min(row),\n",
    "#         np.var(row)\n",
    "    ]\n",
    "\n",
    "    return np.array([(list(x) + list(stats)) for x in row])"
   ]
  },
  {
   "cell_type": "code",
   "execution_count": 55,
   "metadata": {},
   "outputs": [],
   "source": [
    "# %%time\n",
    "# X_tr_s = np.array([add_stats(row) for row in X_tr_s])\n",
    "# print(X_tr_s[0][0], X_tr_s[0][1])"
   ]
  },
  {
   "cell_type": "code",
   "execution_count": 56,
   "metadata": {},
   "outputs": [],
   "source": [
    "# %%time\n",
    "# X_te_s = np.array([add_stats(row) for row in X_te_s])\n",
    "# print(X_te_s[0][0], X_te_s[0][1])"
   ]
  },
  {
   "cell_type": "code",
   "execution_count": 57,
   "metadata": {},
   "outputs": [
    {
     "data": {
      "text/plain": [
       "4"
      ]
     },
     "execution_count": 57,
     "metadata": {},
     "output_type": "execute_result"
    }
   ],
   "source": [
    "N_REPEAT = 4\n",
    "N_REPEAT"
   ]
  },
  {
   "cell_type": "code",
   "execution_count": 58,
   "metadata": {},
   "outputs": [
    {
     "data": {
      "text/plain": [
       "array([3.051851e-05], dtype=float32)"
      ]
     },
     "execution_count": 58,
     "metadata": {},
     "output_type": "execute_result"
    }
   ],
   "source": [
    "X_tr_s[0][0]"
   ]
  },
  {
   "cell_type": "code",
   "execution_count": 59,
   "metadata": {},
   "outputs": [],
   "source": [
    "# X_tr_s = np.repeat(X_tr_s, N_REPEAT, axis=0)\n",
    "# X_tr_s[0][0], X_tr_s[1][0]"
   ]
  },
  {
   "cell_type": "code",
   "execution_count": 60,
   "metadata": {
    "scrolled": true
   },
   "outputs": [],
   "source": [
    "# y_tr_s = np.repeat(y_tr_s, N_REPEAT, axis=0)\n",
    "# y_tr_s[0], y_tr_s[1]"
   ]
  },
  {
   "cell_type": "code",
   "execution_count": 61,
   "metadata": {},
   "outputs": [],
   "source": [
    "# X_te_s = np.repeat(X_te_s, N_REPEAT, axis=0)\n",
    "# X_te_s[0][0], X_te_s[1][0]"
   ]
  },
  {
   "cell_type": "code",
   "execution_count": 62,
   "metadata": {},
   "outputs": [],
   "source": [
    "# y_te_s = np.repeat(y_te_s, N_REPEAT, axis=0)\n",
    "# y_tr_s[0], y_tr_s[1]"
   ]
  },
  {
   "cell_type": "markdown",
   "metadata": {},
   "source": [
    "## Finished data processing!\n",
    "\n",
    "## Moving on to training NN"
   ]
  },
  {
   "cell_type": "code",
   "execution_count": 63,
   "metadata": {},
   "outputs": [],
   "source": [
    "import numpy as np"
   ]
  },
  {
   "cell_type": "code",
   "execution_count": 64,
   "metadata": {},
   "outputs": [],
   "source": [
    "# num_steps=100, 24 hidden states"
   ]
  },
  {
   "cell_type": "code",
   "execution_count": null,
   "metadata": {},
   "outputs": [],
   "source": []
  },
  {
   "cell_type": "code",
   "execution_count": 65,
   "metadata": {},
   "outputs": [
    {
     "name": "stderr",
     "output_type": "stream",
     "text": [
      "Using TensorFlow backend.\n"
     ]
    }
   ],
   "source": [
    "import keras\n",
    "import tensorflow as tf\n",
    "from keras.models import Sequential, Model\n",
    "from keras.layers import Dense, Dropout, Activation, Flatten, LSTM, Reshape, GRU, GaussianNoise\n",
    "from keras.layers import Convolution2D, MaxPooling2D, Layer, Input, BatchNormalization\n",
    "from keras.utils import np_utils\n",
    "from keras.regularizers import L1L2\n",
    "from keras.layers.merge import concatenate\n",
    "\n",
    "tf.set_random_seed(1234)"
   ]
  },
  {
   "cell_type": "code",
   "execution_count": 66,
   "metadata": {},
   "outputs": [
    {
     "data": {
      "text/plain": [
       "((132000, 64, 1), (132000,), (132000, 64, 1), (132000,))"
      ]
     },
     "execution_count": 66,
     "metadata": {},
     "output_type": "execute_result"
    }
   ],
   "source": [
    "X_tr_s.shape, y_tr_s.shape, X_te_s.shape, y_te_s.shape"
   ]
  },
  {
   "cell_type": "code",
   "execution_count": 67,
   "metadata": {},
   "outputs": [
    {
     "data": {
      "text/plain": [
       "array([-0.05456709, -0.05377362, -0.05502487, ..., -0.16183965,\n",
       "       -0.1688284 , -0.17465743], dtype=float32)"
      ]
     },
     "execution_count": 67,
     "metadata": {},
     "output_type": "execute_result"
    }
   ],
   "source": [
    "y_tr_s"
   ]
  },
  {
   "cell_type": "code",
   "execution_count": 68,
   "metadata": {},
   "outputs": [],
   "source": [
    "from keras import backend as K\n",
    "from keras.layers import Layer\n",
    "\n",
    "class DebugLayer(Layer):\n",
    "\n",
    "    def __init__(self, output_dim, **kwargs):\n",
    "        self.output_dim = output_dim\n",
    "        super(DebugLayer, self).__init__(**kwargs)\n",
    "\n",
    "    def build(self, input_shape):\n",
    "        super(DebugLayer, self).build(input_shape)  # Be sure to call this at the end\n",
    "\n",
    "    def call(self, x):\n",
    "        print(x[0])\n",
    "        return x"
   ]
  },
  {
   "cell_type": "code",
   "execution_count": 69,
   "metadata": {},
   "outputs": [],
   "source": [
    "from scipy.signal import savgol_filter\n",
    "from matplotlib import pyplot as plt\n",
    "\n",
    "\n",
    "# TensorBoard callback\n",
    "# tensorboard_cb = keras.callbacks.TensorBoard(\n",
    "#     log_dir='./logs',\n",
    "#     batch_size=BATCH_SIZE,\n",
    "#     # histogram_freq='batch',\n",
    "#     write_graph=True,\n",
    "#     write_grads=True,\n",
    "#     write_images=True\n",
    "# )\n",
    "\n",
    "class TestModel(keras.callbacks.Callback):\n",
    "    def __init__(self, model, I=200, batch_size=1):\n",
    "        self.model = model\n",
    "        self.I = I\n",
    "        self.batch_size = batch_size\n",
    "        \n",
    "    def on_train_begin(self, batch):\n",
    "#         (fig, ax) = plt.subplots(figsize=(12, 8))\n",
    "        I = self.I\n",
    "        (fig, ax) = plt.subplots()\n",
    "        self.fig = fig\n",
    "        self.ax = ax\n",
    "        \n",
    "        feat = pd.Series((np.array(list(map(lambda row: row[-1][0], X_tr_s[:I])))))\n",
    "\n",
    "        feat_data, =  ax.plot(feat.values, label='feature')\n",
    "\n",
    "        targ = (pd.Series((y_tr_s[:I])))\n",
    "\n",
    "        pred = pd.Series(np.zeros(I))\n",
    "        # pred = (pred * 2.2) + 0.001\n",
    "        pred = pred + 0.001\n",
    "\n",
    "        zeros = pd.Series(np.zeros(I))\n",
    "        zeros.plot.line(ax=ax, label='0')\n",
    "\n",
    "        targ_data, = ax.plot(targ.values, label='target')\n",
    "\n",
    "        pred_data, = ax.plot(pred.values, label='predicted')\n",
    "        # pd.Series(savgol_filter(pred, 5, 3)).plot.line(ax=ax, label='savgol(predicted)')\n",
    "        \n",
    "        self.feat_data = feat_data\n",
    "        self.targ_data = targ_data\n",
    "        self.pred_data = pred_data\n",
    "        \n",
    "        ax.legend(loc='upper right')\n",
    "        ax.set_title('NN predictions on first {} samples'.format(I))\n",
    "        ax.set_xlabel('index')\n",
    "        ax.set_ylabel('value')\n",
    "        \n",
    "        plt.show()\n",
    "        fig.canvas.draw()\n",
    "        \n",
    "        \n",
    "    def on_epoch_end(self, batch, logs={}):\n",
    "        model = self.model\n",
    "        \n",
    "        fig = self.fig\n",
    "        ax = self.ax\n",
    "        \n",
    "        I = self.I\n",
    "        batch_size = self.batch_size\n",
    "\n",
    "        feat = pd.Series((np.array(list(map(lambda row: row[-1][0], X_tr_s[:I])))))\n",
    "\n",
    "        self.feat_data.set_ydata(feat.values)\n",
    "\n",
    "        targ = (pd.Series((y_tr_s[:I])))\n",
    "\n",
    "        pred = pd.Series(predict(model, X_tr_s[:I], batch_size=batch_size))\n",
    "        # pred = (pred * 2.2) + 0.001\n",
    "        pred = pred + 0.001\n",
    "\n",
    "        # zeros = pd.Series(np.zeros(I))\n",
    "        # zeros.plot.line(ax=ax, label='0')\n",
    "\n",
    "        self.targ_data.set_ydata(targ.values)\n",
    "\n",
    "        self.pred_data.set_ydata(pred.values)\n",
    "        # pd.Series(savgol_filter(pred, 5, 3)).plot.line(ax=ax, label='savgol(predicted)')\n",
    "\n",
    "        # pd.Series(normalize(np.array(list(map(lambda w: w[-1], X_tr_f[:I]))))).plot.line(ax=ax, label='feature')\n",
    "\n",
    "        fig.canvas.draw()\n",
    "\n",
    "\n",
    "# Callback to display the target and prediciton\n",
    "# test_model_cb = keras.callbacks.LambdaCallback(on_epoch_end=testmodel)"
   ]
  },
  {
   "cell_type": "code",
   "execution_count": 70,
   "metadata": {},
   "outputs": [],
   "source": [
    "from keras import backend as K\n",
    "    \n",
    "N_UNITS = 24\n",
    "BATCH_SIZE = 1\n",
    "\n",
    "def create_lstm_model(X_tr, y_tr, x_val, y_val, params):\n",
    "    print(params)\n",
    "    \n",
    "    input_L = Input(\n",
    "        shape=(N_WINDOW_POINTS, n_features),\n",
    "        batch_shape=(params['batch_size'], N_WINDOW_POINTS, n_features),\n",
    "    )\n",
    "\n",
    "    # bn_L = (BatchNormalization()(input_L))\n",
    "\n",
    "    gru_1_L = GRU(\n",
    "        params['n_units'],\n",
    "        input_shape=(N_WINDOW_POINTS, n_features),\n",
    "        batch_input_shape=(params['batch_size'], N_WINDOW_POINTS, n_features),\n",
    "        # bias_regularizer=L1L2(l1=0.1, l2=0.1),\n",
    "        stateful=True,\n",
    "        # reset_after=True,\n",
    "        # batch_input_shape=(params['batch_size'], N_WINDOW_POINTS, n_features),\n",
    "        activation='tanh',\n",
    "        recurrent_activation='hard_sigmoid',\n",
    "        # kernel_initializer=keras.initializers.RandomNormal(stddev=0.1),\n",
    "        kernel_initializer=keras.initializers.glorot_uniform(seed=43),\n",
    "#         recurrent_initializer=keras.initializers.Orthogonal(gain=1.0, seed=42),\n",
    "        recurrent_initializer=keras.initializers.glorot_uniform(seed=43),\n",
    "        # kernel_initializer='identity',\n",
    "        bias_initializer='zeros',\n",
    "        return_sequences=True,\n",
    "    )(input_L)\n",
    "\n",
    "    gru_2_L = GRU(\n",
    "        params['n_units'],\n",
    "        input_shape=(N_WINDOW_POINTS, n_features),\n",
    "        batch_input_shape=(params['batch_size'], N_WINDOW_POINTS, n_features),\n",
    "        # bias_regularizer=L1L2(l1=0.1, l2=0.1),\n",
    "        stateful=True,\n",
    "        # reset_after=True,\n",
    "        # batch_input_shape=(params['batch_size'], N_WINDOW_POINTS, n_features),\n",
    "        activation='tanh',\n",
    "        recurrent_activation='hard_sigmoid',\n",
    "        # kernel_initializer=keras.initializers.RandomNormal(stddev=0.1),\n",
    "        kernel_initializer=keras.initializers.glorot_uniform(seed=43),\n",
    "#         recurrent_initializer=keras.initializers.Orthogonal(gain=1.0, seed=42),\n",
    "        recurrent_initializer=keras.initializers.glorot_uniform(seed=43),\n",
    "        # kernel_initializer='identity',\n",
    "        bias_initializer='zeros',\n",
    "    #     return_sequences=True,\n",
    "    )(gru_1_L)\n",
    "\n",
    "    dense_2_l = Dense(\n",
    "        1,\n",
    "        activation=None,\n",
    "        kernel_initializer='identity',\n",
    "        bias_initializer='zeros',\n",
    "    # )(gru_1_l)\n",
    "    )(gru_2_L)\n",
    "\n",
    "\n",
    "    model = Model(inputs=input_L, outputs=dense_2_l)\n",
    "\n",
    "    optimizer = keras.optimizers.adam(lr=params['lr'], clipvalue=10, clipnorm=10)\n",
    "    # optimizer = keras.optimizers.SGD(lr=params['lr'], decay=0.2)\n",
    "\n",
    "\n",
    "    def mean_squared_error(y_true, y_pred):\n",
    "        return K.mean(K.square(10 * (y_pred - y_true)), axis=-1)\n",
    "\n",
    "    # model.compile(optimizer=optimizer, loss='mse')\n",
    "    model.compile(optimizer=optimizer, loss='mae')\n",
    "    \n",
    "    # TRAIN\n",
    "\n",
    "    es_cb = keras.callbacks.EarlyStopping(\n",
    "        monitor='val_loss',\n",
    "        min_delta=0.0001,\n",
    "        patience=8,\n",
    "        verbose=0,\n",
    "        mode='auto',\n",
    "    )\n",
    "\n",
    "    def step_decay(epoch):\n",
    "        initial_lrate = params['lr']\n",
    "        drop = 0.8\n",
    "        epochs_drop = 20.0\n",
    "        lrate = initial_lrate * math.pow(drop,  \n",
    "               math.floor((1+epoch)/epochs_drop))\n",
    "        return lrate\n",
    "\n",
    "    lrate = keras.callbacks.LearningRateScheduler(step_decay)\n",
    "\n",
    "    test_model_cb = TestModel(model, I=min(params['n_samples'], 100), batch_size=params['batch_size'])\n",
    "\n",
    "    history = model.fit(\n",
    "        X_tr_s[:params['n_samples']],\n",
    "        y_tr_s[:params['n_samples']],\n",
    "#         X_tr_s[:40],\n",
    "#         y_tr_s[:40],\n",
    "        batch_size=params['batch_size'],\n",
    "        shuffle=False,\n",
    "    #     epochs=400,\n",
    "#         epochs=100,\n",
    "        epochs=params['epochs'],\n",
    "        verbose=1,\n",
    "        # validation_data=(X_te_s[:400], y_te_s[:400]),\n",
    "        # validation_data=(X_te_s[:200], y_te_s[:200]),\n",
    "        # callbacks=[es_cb, test_model_cb, tensorboard_cb],\n",
    "        callbacks=[es_cb, test_model_cb, lrate],\n",
    "    )\n",
    "    \n",
    "    return (history, model)\n",
    "\n"
   ]
  },
  {
   "cell_type": "code",
   "execution_count": 71,
   "metadata": {},
   "outputs": [],
   "source": [
    "import math\n",
    "\n",
    "def predict(model, X_input, batch_size=1):\n",
    "    # X_input = np.array(rows).reshape(rows.shape[0], rows.shape[1], n_features)\n",
    "    \n",
    "    return np.array(\n",
    "        model.predict(\n",
    "            X_input[:(math.floor(len(X_input) / batch_size) * batch_size)], batch_size=batch_size\n",
    "        )\n",
    "    ).flatten()"
   ]
  },
  {
   "cell_type": "code",
   "execution_count": null,
   "metadata": {},
   "outputs": [],
   "source": []
  },
  {
   "cell_type": "code",
   "execution_count": null,
   "metadata": {
    "scrolled": true
   },
   "outputs": [],
   "source": [
    "from keras.optimizers import Adam, Nadam, RMSprop\n",
    "import talos as ta\n",
    "\n",
    "p = {\n",
    "     'lr': [0.001, 0.003, 0.01],\n",
    "     'n_samples': [80],\n",
    "     'n_units': [4, 8, 16],\n",
    "#      'batch_size': [10, 100, 1000],\n",
    "     'batch_size': [10],\n",
    "     'epochs': [10],\n",
    "     # 'dropout': (0, 0.5, 5),\n",
    "     # 'weight_regulizer':[None],\n",
    "     # 'emb_output_dims': [None],\n",
    "     # 'shape':['brick','long_funnel'],\n",
    "     'optimizer': [Adam],\n",
    " }\n",
    "#     'lr': 0.001,\n",
    "#     'n_samples': 20,\n",
    "#     'n_units': 24,\n",
    "#     'batch_size': 10,\n",
    "#     'epochs': 100,\n",
    "#     'optimizer': keras.optimizers.Adam,\n",
    "\n",
    "# and run the experiment\n",
    "t = ta.Scan(x=X_tr_s[:np.max(p['n_samples'])],\n",
    "            y=y_tr_s[:np.max(p['n_samples'])],\n",
    "            model=create_lstm_model,\n",
    "#             grid_downsample=0.5,\n",
    "            params=p,\n",
    "            experiment_no='3')\n"
   ]
  },
  {
   "cell_type": "code",
   "execution_count": null,
   "metadata": {},
   "outputs": [],
   "source": [
    "r = ta.Reporting(t)\n",
    "r.data.sort_values(by='loss')"
   ]
  },
  {
   "cell_type": "code",
   "execution_count": null,
   "metadata": {},
   "outputs": [],
   "source": [
    "best_params = r.data.loc[3]\n",
    "best_params"
   ]
  },
  {
   "cell_type": "code",
   "execution_count": null,
   "metadata": {},
   "outputs": [],
   "source": [
    "type(best_params)"
   ]
  },
  {
   "cell_type": "code",
   "execution_count": 73,
   "metadata": {
    "scrolled": true
   },
   "outputs": [
    {
     "name": "stdout",
     "output_type": "stream",
     "text": [
      "{'lr': 0.001, 'n_samples': 60, 'n_units': 12, 'batch_size': 1, 'epochs': 300, 'optimizer': <class 'keras.optimizers.Adam'>}\n"
     ]
    },
    {
     "data": {
      "application/javascript": [
       "/* Put everything inside the global mpl namespace */\n",
       "window.mpl = {};\n",
       "\n",
       "\n",
       "mpl.get_websocket_type = function() {\n",
       "    if (typeof(WebSocket) !== 'undefined') {\n",
       "        return WebSocket;\n",
       "    } else if (typeof(MozWebSocket) !== 'undefined') {\n",
       "        return MozWebSocket;\n",
       "    } else {\n",
       "        alert('Your browser does not have WebSocket support.' +\n",
       "              'Please try Chrome, Safari or Firefox ≥ 6. ' +\n",
       "              'Firefox 4 and 5 are also supported but you ' +\n",
       "              'have to enable WebSockets in about:config.');\n",
       "    };\n",
       "}\n",
       "\n",
       "mpl.figure = function(figure_id, websocket, ondownload, parent_element) {\n",
       "    this.id = figure_id;\n",
       "\n",
       "    this.ws = websocket;\n",
       "\n",
       "    this.supports_binary = (this.ws.binaryType != undefined);\n",
       "\n",
       "    if (!this.supports_binary) {\n",
       "        var warnings = document.getElementById(\"mpl-warnings\");\n",
       "        if (warnings) {\n",
       "            warnings.style.display = 'block';\n",
       "            warnings.textContent = (\n",
       "                \"This browser does not support binary websocket messages. \" +\n",
       "                    \"Performance may be slow.\");\n",
       "        }\n",
       "    }\n",
       "\n",
       "    this.imageObj = new Image();\n",
       "\n",
       "    this.context = undefined;\n",
       "    this.message = undefined;\n",
       "    this.canvas = undefined;\n",
       "    this.rubberband_canvas = undefined;\n",
       "    this.rubberband_context = undefined;\n",
       "    this.format_dropdown = undefined;\n",
       "\n",
       "    this.image_mode = 'full';\n",
       "\n",
       "    this.root = $('<div/>');\n",
       "    this._root_extra_style(this.root)\n",
       "    this.root.attr('style', 'display: inline-block');\n",
       "\n",
       "    $(parent_element).append(this.root);\n",
       "\n",
       "    this._init_header(this);\n",
       "    this._init_canvas(this);\n",
       "    this._init_toolbar(this);\n",
       "\n",
       "    var fig = this;\n",
       "\n",
       "    this.waiting = false;\n",
       "\n",
       "    this.ws.onopen =  function () {\n",
       "            fig.send_message(\"supports_binary\", {value: fig.supports_binary});\n",
       "            fig.send_message(\"send_image_mode\", {});\n",
       "            if (mpl.ratio != 1) {\n",
       "                fig.send_message(\"set_dpi_ratio\", {'dpi_ratio': mpl.ratio});\n",
       "            }\n",
       "            fig.send_message(\"refresh\", {});\n",
       "        }\n",
       "\n",
       "    this.imageObj.onload = function() {\n",
       "            if (fig.image_mode == 'full') {\n",
       "                // Full images could contain transparency (where diff images\n",
       "                // almost always do), so we need to clear the canvas so that\n",
       "                // there is no ghosting.\n",
       "                fig.context.clearRect(0, 0, fig.canvas.width, fig.canvas.height);\n",
       "            }\n",
       "            fig.context.drawImage(fig.imageObj, 0, 0);\n",
       "        };\n",
       "\n",
       "    this.imageObj.onunload = function() {\n",
       "        fig.ws.close();\n",
       "    }\n",
       "\n",
       "    this.ws.onmessage = this._make_on_message_function(this);\n",
       "\n",
       "    this.ondownload = ondownload;\n",
       "}\n",
       "\n",
       "mpl.figure.prototype._init_header = function() {\n",
       "    var titlebar = $(\n",
       "        '<div class=\"ui-dialog-titlebar ui-widget-header ui-corner-all ' +\n",
       "        'ui-helper-clearfix\"/>');\n",
       "    var titletext = $(\n",
       "        '<div class=\"ui-dialog-title\" style=\"width: 100%; ' +\n",
       "        'text-align: center; padding: 3px;\"/>');\n",
       "    titlebar.append(titletext)\n",
       "    this.root.append(titlebar);\n",
       "    this.header = titletext[0];\n",
       "}\n",
       "\n",
       "\n",
       "\n",
       "mpl.figure.prototype._canvas_extra_style = function(canvas_div) {\n",
       "\n",
       "}\n",
       "\n",
       "\n",
       "mpl.figure.prototype._root_extra_style = function(canvas_div) {\n",
       "\n",
       "}\n",
       "\n",
       "mpl.figure.prototype._init_canvas = function() {\n",
       "    var fig = this;\n",
       "\n",
       "    var canvas_div = $('<div/>');\n",
       "\n",
       "    canvas_div.attr('style', 'position: relative; clear: both; outline: 0');\n",
       "\n",
       "    function canvas_keyboard_event(event) {\n",
       "        return fig.key_event(event, event['data']);\n",
       "    }\n",
       "\n",
       "    canvas_div.keydown('key_press', canvas_keyboard_event);\n",
       "    canvas_div.keyup('key_release', canvas_keyboard_event);\n",
       "    this.canvas_div = canvas_div\n",
       "    this._canvas_extra_style(canvas_div)\n",
       "    this.root.append(canvas_div);\n",
       "\n",
       "    var canvas = $('<canvas/>');\n",
       "    canvas.addClass('mpl-canvas');\n",
       "    canvas.attr('style', \"left: 0; top: 0; z-index: 0; outline: 0\")\n",
       "\n",
       "    this.canvas = canvas[0];\n",
       "    this.context = canvas[0].getContext(\"2d\");\n",
       "\n",
       "    var backingStore = this.context.backingStorePixelRatio ||\n",
       "\tthis.context.webkitBackingStorePixelRatio ||\n",
       "\tthis.context.mozBackingStorePixelRatio ||\n",
       "\tthis.context.msBackingStorePixelRatio ||\n",
       "\tthis.context.oBackingStorePixelRatio ||\n",
       "\tthis.context.backingStorePixelRatio || 1;\n",
       "\n",
       "    mpl.ratio = (window.devicePixelRatio || 1) / backingStore;\n",
       "\n",
       "    var rubberband = $('<canvas/>');\n",
       "    rubberband.attr('style', \"position: absolute; left: 0; top: 0; z-index: 1;\")\n",
       "\n",
       "    var pass_mouse_events = true;\n",
       "\n",
       "    canvas_div.resizable({\n",
       "        start: function(event, ui) {\n",
       "            pass_mouse_events = false;\n",
       "        },\n",
       "        resize: function(event, ui) {\n",
       "            fig.request_resize(ui.size.width, ui.size.height);\n",
       "        },\n",
       "        stop: function(event, ui) {\n",
       "            pass_mouse_events = true;\n",
       "            fig.request_resize(ui.size.width, ui.size.height);\n",
       "        },\n",
       "    });\n",
       "\n",
       "    function mouse_event_fn(event) {\n",
       "        if (pass_mouse_events)\n",
       "            return fig.mouse_event(event, event['data']);\n",
       "    }\n",
       "\n",
       "    rubberband.mousedown('button_press', mouse_event_fn);\n",
       "    rubberband.mouseup('button_release', mouse_event_fn);\n",
       "    // Throttle sequential mouse events to 1 every 20ms.\n",
       "    rubberband.mousemove('motion_notify', mouse_event_fn);\n",
       "\n",
       "    rubberband.mouseenter('figure_enter', mouse_event_fn);\n",
       "    rubberband.mouseleave('figure_leave', mouse_event_fn);\n",
       "\n",
       "    canvas_div.on(\"wheel\", function (event) {\n",
       "        event = event.originalEvent;\n",
       "        event['data'] = 'scroll'\n",
       "        if (event.deltaY < 0) {\n",
       "            event.step = 1;\n",
       "        } else {\n",
       "            event.step = -1;\n",
       "        }\n",
       "        mouse_event_fn(event);\n",
       "    });\n",
       "\n",
       "    canvas_div.append(canvas);\n",
       "    canvas_div.append(rubberband);\n",
       "\n",
       "    this.rubberband = rubberband;\n",
       "    this.rubberband_canvas = rubberband[0];\n",
       "    this.rubberband_context = rubberband[0].getContext(\"2d\");\n",
       "    this.rubberband_context.strokeStyle = \"#000000\";\n",
       "\n",
       "    this._resize_canvas = function(width, height) {\n",
       "        // Keep the size of the canvas, canvas container, and rubber band\n",
       "        // canvas in synch.\n",
       "        canvas_div.css('width', width)\n",
       "        canvas_div.css('height', height)\n",
       "\n",
       "        canvas.attr('width', width * mpl.ratio);\n",
       "        canvas.attr('height', height * mpl.ratio);\n",
       "        canvas.attr('style', 'width: ' + width + 'px; height: ' + height + 'px;');\n",
       "\n",
       "        rubberband.attr('width', width);\n",
       "        rubberband.attr('height', height);\n",
       "    }\n",
       "\n",
       "    // Set the figure to an initial 600x600px, this will subsequently be updated\n",
       "    // upon first draw.\n",
       "    this._resize_canvas(600, 600);\n",
       "\n",
       "    // Disable right mouse context menu.\n",
       "    $(this.rubberband_canvas).bind(\"contextmenu\",function(e){\n",
       "        return false;\n",
       "    });\n",
       "\n",
       "    function set_focus () {\n",
       "        canvas.focus();\n",
       "        canvas_div.focus();\n",
       "    }\n",
       "\n",
       "    window.setTimeout(set_focus, 100);\n",
       "}\n",
       "\n",
       "mpl.figure.prototype._init_toolbar = function() {\n",
       "    var fig = this;\n",
       "\n",
       "    var nav_element = $('<div/>')\n",
       "    nav_element.attr('style', 'width: 100%');\n",
       "    this.root.append(nav_element);\n",
       "\n",
       "    // Define a callback function for later on.\n",
       "    function toolbar_event(event) {\n",
       "        return fig.toolbar_button_onclick(event['data']);\n",
       "    }\n",
       "    function toolbar_mouse_event(event) {\n",
       "        return fig.toolbar_button_onmouseover(event['data']);\n",
       "    }\n",
       "\n",
       "    for(var toolbar_ind in mpl.toolbar_items) {\n",
       "        var name = mpl.toolbar_items[toolbar_ind][0];\n",
       "        var tooltip = mpl.toolbar_items[toolbar_ind][1];\n",
       "        var image = mpl.toolbar_items[toolbar_ind][2];\n",
       "        var method_name = mpl.toolbar_items[toolbar_ind][3];\n",
       "\n",
       "        if (!name) {\n",
       "            // put a spacer in here.\n",
       "            continue;\n",
       "        }\n",
       "        var button = $('<button/>');\n",
       "        button.addClass('ui-button ui-widget ui-state-default ui-corner-all ' +\n",
       "                        'ui-button-icon-only');\n",
       "        button.attr('role', 'button');\n",
       "        button.attr('aria-disabled', 'false');\n",
       "        button.click(method_name, toolbar_event);\n",
       "        button.mouseover(tooltip, toolbar_mouse_event);\n",
       "\n",
       "        var icon_img = $('<span/>');\n",
       "        icon_img.addClass('ui-button-icon-primary ui-icon');\n",
       "        icon_img.addClass(image);\n",
       "        icon_img.addClass('ui-corner-all');\n",
       "\n",
       "        var tooltip_span = $('<span/>');\n",
       "        tooltip_span.addClass('ui-button-text');\n",
       "        tooltip_span.html(tooltip);\n",
       "\n",
       "        button.append(icon_img);\n",
       "        button.append(tooltip_span);\n",
       "\n",
       "        nav_element.append(button);\n",
       "    }\n",
       "\n",
       "    var fmt_picker_span = $('<span/>');\n",
       "\n",
       "    var fmt_picker = $('<select/>');\n",
       "    fmt_picker.addClass('mpl-toolbar-option ui-widget ui-widget-content');\n",
       "    fmt_picker_span.append(fmt_picker);\n",
       "    nav_element.append(fmt_picker_span);\n",
       "    this.format_dropdown = fmt_picker[0];\n",
       "\n",
       "    for (var ind in mpl.extensions) {\n",
       "        var fmt = mpl.extensions[ind];\n",
       "        var option = $(\n",
       "            '<option/>', {selected: fmt === mpl.default_extension}).html(fmt);\n",
       "        fmt_picker.append(option)\n",
       "    }\n",
       "\n",
       "    // Add hover states to the ui-buttons\n",
       "    $( \".ui-button\" ).hover(\n",
       "        function() { $(this).addClass(\"ui-state-hover\");},\n",
       "        function() { $(this).removeClass(\"ui-state-hover\");}\n",
       "    );\n",
       "\n",
       "    var status_bar = $('<span class=\"mpl-message\"/>');\n",
       "    nav_element.append(status_bar);\n",
       "    this.message = status_bar[0];\n",
       "}\n",
       "\n",
       "mpl.figure.prototype.request_resize = function(x_pixels, y_pixels) {\n",
       "    // Request matplotlib to resize the figure. Matplotlib will then trigger a resize in the client,\n",
       "    // which will in turn request a refresh of the image.\n",
       "    this.send_message('resize', {'width': x_pixels, 'height': y_pixels});\n",
       "}\n",
       "\n",
       "mpl.figure.prototype.send_message = function(type, properties) {\n",
       "    properties['type'] = type;\n",
       "    properties['figure_id'] = this.id;\n",
       "    this.ws.send(JSON.stringify(properties));\n",
       "}\n",
       "\n",
       "mpl.figure.prototype.send_draw_message = function() {\n",
       "    if (!this.waiting) {\n",
       "        this.waiting = true;\n",
       "        this.ws.send(JSON.stringify({type: \"draw\", figure_id: this.id}));\n",
       "    }\n",
       "}\n",
       "\n",
       "\n",
       "mpl.figure.prototype.handle_save = function(fig, msg) {\n",
       "    var format_dropdown = fig.format_dropdown;\n",
       "    var format = format_dropdown.options[format_dropdown.selectedIndex].value;\n",
       "    fig.ondownload(fig, format);\n",
       "}\n",
       "\n",
       "\n",
       "mpl.figure.prototype.handle_resize = function(fig, msg) {\n",
       "    var size = msg['size'];\n",
       "    if (size[0] != fig.canvas.width || size[1] != fig.canvas.height) {\n",
       "        fig._resize_canvas(size[0], size[1]);\n",
       "        fig.send_message(\"refresh\", {});\n",
       "    };\n",
       "}\n",
       "\n",
       "mpl.figure.prototype.handle_rubberband = function(fig, msg) {\n",
       "    var x0 = msg['x0'] / mpl.ratio;\n",
       "    var y0 = (fig.canvas.height - msg['y0']) / mpl.ratio;\n",
       "    var x1 = msg['x1'] / mpl.ratio;\n",
       "    var y1 = (fig.canvas.height - msg['y1']) / mpl.ratio;\n",
       "    x0 = Math.floor(x0) + 0.5;\n",
       "    y0 = Math.floor(y0) + 0.5;\n",
       "    x1 = Math.floor(x1) + 0.5;\n",
       "    y1 = Math.floor(y1) + 0.5;\n",
       "    var min_x = Math.min(x0, x1);\n",
       "    var min_y = Math.min(y0, y1);\n",
       "    var width = Math.abs(x1 - x0);\n",
       "    var height = Math.abs(y1 - y0);\n",
       "\n",
       "    fig.rubberband_context.clearRect(\n",
       "        0, 0, fig.canvas.width, fig.canvas.height);\n",
       "\n",
       "    fig.rubberband_context.strokeRect(min_x, min_y, width, height);\n",
       "}\n",
       "\n",
       "mpl.figure.prototype.handle_figure_label = function(fig, msg) {\n",
       "    // Updates the figure title.\n",
       "    fig.header.textContent = msg['label'];\n",
       "}\n",
       "\n",
       "mpl.figure.prototype.handle_cursor = function(fig, msg) {\n",
       "    var cursor = msg['cursor'];\n",
       "    switch(cursor)\n",
       "    {\n",
       "    case 0:\n",
       "        cursor = 'pointer';\n",
       "        break;\n",
       "    case 1:\n",
       "        cursor = 'default';\n",
       "        break;\n",
       "    case 2:\n",
       "        cursor = 'crosshair';\n",
       "        break;\n",
       "    case 3:\n",
       "        cursor = 'move';\n",
       "        break;\n",
       "    }\n",
       "    fig.rubberband_canvas.style.cursor = cursor;\n",
       "}\n",
       "\n",
       "mpl.figure.prototype.handle_message = function(fig, msg) {\n",
       "    fig.message.textContent = msg['message'];\n",
       "}\n",
       "\n",
       "mpl.figure.prototype.handle_draw = function(fig, msg) {\n",
       "    // Request the server to send over a new figure.\n",
       "    fig.send_draw_message();\n",
       "}\n",
       "\n",
       "mpl.figure.prototype.handle_image_mode = function(fig, msg) {\n",
       "    fig.image_mode = msg['mode'];\n",
       "}\n",
       "\n",
       "mpl.figure.prototype.updated_canvas_event = function() {\n",
       "    // Called whenever the canvas gets updated.\n",
       "    this.send_message(\"ack\", {});\n",
       "}\n",
       "\n",
       "// A function to construct a web socket function for onmessage handling.\n",
       "// Called in the figure constructor.\n",
       "mpl.figure.prototype._make_on_message_function = function(fig) {\n",
       "    return function socket_on_message(evt) {\n",
       "        if (evt.data instanceof Blob) {\n",
       "            /* FIXME: We get \"Resource interpreted as Image but\n",
       "             * transferred with MIME type text/plain:\" errors on\n",
       "             * Chrome.  But how to set the MIME type?  It doesn't seem\n",
       "             * to be part of the websocket stream */\n",
       "            evt.data.type = \"image/png\";\n",
       "\n",
       "            /* Free the memory for the previous frames */\n",
       "            if (fig.imageObj.src) {\n",
       "                (window.URL || window.webkitURL).revokeObjectURL(\n",
       "                    fig.imageObj.src);\n",
       "            }\n",
       "\n",
       "            fig.imageObj.src = (window.URL || window.webkitURL).createObjectURL(\n",
       "                evt.data);\n",
       "            fig.updated_canvas_event();\n",
       "            fig.waiting = false;\n",
       "            return;\n",
       "        }\n",
       "        else if (typeof evt.data === 'string' && evt.data.slice(0, 21) == \"data:image/png;base64\") {\n",
       "            fig.imageObj.src = evt.data;\n",
       "            fig.updated_canvas_event();\n",
       "            fig.waiting = false;\n",
       "            return;\n",
       "        }\n",
       "\n",
       "        var msg = JSON.parse(evt.data);\n",
       "        var msg_type = msg['type'];\n",
       "\n",
       "        // Call the  \"handle_{type}\" callback, which takes\n",
       "        // the figure and JSON message as its only arguments.\n",
       "        try {\n",
       "            var callback = fig[\"handle_\" + msg_type];\n",
       "        } catch (e) {\n",
       "            console.log(\"No handler for the '\" + msg_type + \"' message type: \", msg);\n",
       "            return;\n",
       "        }\n",
       "\n",
       "        if (callback) {\n",
       "            try {\n",
       "                // console.log(\"Handling '\" + msg_type + \"' message: \", msg);\n",
       "                callback(fig, msg);\n",
       "            } catch (e) {\n",
       "                console.log(\"Exception inside the 'handler_\" + msg_type + \"' callback:\", e, e.stack, msg);\n",
       "            }\n",
       "        }\n",
       "    };\n",
       "}\n",
       "\n",
       "// from http://stackoverflow.com/questions/1114465/getting-mouse-location-in-canvas\n",
       "mpl.findpos = function(e) {\n",
       "    //this section is from http://www.quirksmode.org/js/events_properties.html\n",
       "    var targ;\n",
       "    if (!e)\n",
       "        e = window.event;\n",
       "    if (e.target)\n",
       "        targ = e.target;\n",
       "    else if (e.srcElement)\n",
       "        targ = e.srcElement;\n",
       "    if (targ.nodeType == 3) // defeat Safari bug\n",
       "        targ = targ.parentNode;\n",
       "\n",
       "    // jQuery normalizes the pageX and pageY\n",
       "    // pageX,Y are the mouse positions relative to the document\n",
       "    // offset() returns the position of the element relative to the document\n",
       "    var x = e.pageX - $(targ).offset().left;\n",
       "    var y = e.pageY - $(targ).offset().top;\n",
       "\n",
       "    return {\"x\": x, \"y\": y};\n",
       "};\n",
       "\n",
       "/*\n",
       " * return a copy of an object with only non-object keys\n",
       " * we need this to avoid circular references\n",
       " * http://stackoverflow.com/a/24161582/3208463\n",
       " */\n",
       "function simpleKeys (original) {\n",
       "  return Object.keys(original).reduce(function (obj, key) {\n",
       "    if (typeof original[key] !== 'object')\n",
       "        obj[key] = original[key]\n",
       "    return obj;\n",
       "  }, {});\n",
       "}\n",
       "\n",
       "mpl.figure.prototype.mouse_event = function(event, name) {\n",
       "    var canvas_pos = mpl.findpos(event)\n",
       "\n",
       "    if (name === 'button_press')\n",
       "    {\n",
       "        this.canvas.focus();\n",
       "        this.canvas_div.focus();\n",
       "    }\n",
       "\n",
       "    var x = canvas_pos.x * mpl.ratio;\n",
       "    var y = canvas_pos.y * mpl.ratio;\n",
       "\n",
       "    this.send_message(name, {x: x, y: y, button: event.button,\n",
       "                             step: event.step,\n",
       "                             guiEvent: simpleKeys(event)});\n",
       "\n",
       "    /* This prevents the web browser from automatically changing to\n",
       "     * the text insertion cursor when the button is pressed.  We want\n",
       "     * to control all of the cursor setting manually through the\n",
       "     * 'cursor' event from matplotlib */\n",
       "    event.preventDefault();\n",
       "    return false;\n",
       "}\n",
       "\n",
       "mpl.figure.prototype._key_event_extra = function(event, name) {\n",
       "    // Handle any extra behaviour associated with a key event\n",
       "}\n",
       "\n",
       "mpl.figure.prototype.key_event = function(event, name) {\n",
       "\n",
       "    // Prevent repeat events\n",
       "    if (name == 'key_press')\n",
       "    {\n",
       "        if (event.which === this._key)\n",
       "            return;\n",
       "        else\n",
       "            this._key = event.which;\n",
       "    }\n",
       "    if (name == 'key_release')\n",
       "        this._key = null;\n",
       "\n",
       "    var value = '';\n",
       "    if (event.ctrlKey && event.which != 17)\n",
       "        value += \"ctrl+\";\n",
       "    if (event.altKey && event.which != 18)\n",
       "        value += \"alt+\";\n",
       "    if (event.shiftKey && event.which != 16)\n",
       "        value += \"shift+\";\n",
       "\n",
       "    value += 'k';\n",
       "    value += event.which.toString();\n",
       "\n",
       "    this._key_event_extra(event, name);\n",
       "\n",
       "    this.send_message(name, {key: value,\n",
       "                             guiEvent: simpleKeys(event)});\n",
       "    return false;\n",
       "}\n",
       "\n",
       "mpl.figure.prototype.toolbar_button_onclick = function(name) {\n",
       "    if (name == 'download') {\n",
       "        this.handle_save(this, null);\n",
       "    } else {\n",
       "        this.send_message(\"toolbar_button\", {name: name});\n",
       "    }\n",
       "};\n",
       "\n",
       "mpl.figure.prototype.toolbar_button_onmouseover = function(tooltip) {\n",
       "    this.message.textContent = tooltip;\n",
       "};\n",
       "mpl.toolbar_items = [[\"Home\", \"Reset original view\", \"fa fa-home icon-home\", \"home\"], [\"Back\", \"Back to  previous view\", \"fa fa-arrow-left icon-arrow-left\", \"back\"], [\"Forward\", \"Forward to next view\", \"fa fa-arrow-right icon-arrow-right\", \"forward\"], [\"\", \"\", \"\", \"\"], [\"Pan\", \"Pan axes with left mouse, zoom with right\", \"fa fa-arrows icon-move\", \"pan\"], [\"Zoom\", \"Zoom to rectangle\", \"fa fa-square-o icon-check-empty\", \"zoom\"], [\"\", \"\", \"\", \"\"], [\"Download\", \"Download plot\", \"fa fa-floppy-o icon-save\", \"download\"]];\n",
       "\n",
       "mpl.extensions = [\"eps\", \"jpeg\", \"pdf\", \"png\", \"ps\", \"raw\", \"svg\", \"tif\"];\n",
       "\n",
       "mpl.default_extension = \"png\";var comm_websocket_adapter = function(comm) {\n",
       "    // Create a \"websocket\"-like object which calls the given IPython comm\n",
       "    // object with the appropriate methods. Currently this is a non binary\n",
       "    // socket, so there is still some room for performance tuning.\n",
       "    var ws = {};\n",
       "\n",
       "    ws.close = function() {\n",
       "        comm.close()\n",
       "    };\n",
       "    ws.send = function(m) {\n",
       "        //console.log('sending', m);\n",
       "        comm.send(m);\n",
       "    };\n",
       "    // Register the callback with on_msg.\n",
       "    comm.on_msg(function(msg) {\n",
       "        //console.log('receiving', msg['content']['data'], msg);\n",
       "        // Pass the mpl event to the overridden (by mpl) onmessage function.\n",
       "        ws.onmessage(msg['content']['data'])\n",
       "    });\n",
       "    return ws;\n",
       "}\n",
       "\n",
       "mpl.mpl_figure_comm = function(comm, msg) {\n",
       "    // This is the function which gets called when the mpl process\n",
       "    // starts-up an IPython Comm through the \"matplotlib\" channel.\n",
       "\n",
       "    var id = msg.content.data.id;\n",
       "    // Get hold of the div created by the display call when the Comm\n",
       "    // socket was opened in Python.\n",
       "    var element = $(\"#\" + id);\n",
       "    var ws_proxy = comm_websocket_adapter(comm)\n",
       "\n",
       "    function ondownload(figure, format) {\n",
       "        window.open(figure.imageObj.src);\n",
       "    }\n",
       "\n",
       "    var fig = new mpl.figure(id, ws_proxy,\n",
       "                           ondownload,\n",
       "                           element.get(0));\n",
       "\n",
       "    // Call onopen now - mpl needs it, as it is assuming we've passed it a real\n",
       "    // web socket which is closed, not our websocket->open comm proxy.\n",
       "    ws_proxy.onopen();\n",
       "\n",
       "    fig.parent_element = element.get(0);\n",
       "    fig.cell_info = mpl.find_output_cell(\"<div id='\" + id + \"'></div>\");\n",
       "    if (!fig.cell_info) {\n",
       "        console.error(\"Failed to find cell for figure\", id, fig);\n",
       "        return;\n",
       "    }\n",
       "\n",
       "    var output_index = fig.cell_info[2]\n",
       "    var cell = fig.cell_info[0];\n",
       "\n",
       "};\n",
       "\n",
       "mpl.figure.prototype.handle_close = function(fig, msg) {\n",
       "    var width = fig.canvas.width/mpl.ratio\n",
       "    fig.root.unbind('remove')\n",
       "\n",
       "    // Update the output cell to use the data from the current canvas.\n",
       "    fig.push_to_output();\n",
       "    var dataURL = fig.canvas.toDataURL();\n",
       "    // Re-enable the keyboard manager in IPython - without this line, in FF,\n",
       "    // the notebook keyboard shortcuts fail.\n",
       "    IPython.keyboard_manager.enable()\n",
       "    $(fig.parent_element).html('<img src=\"' + dataURL + '\" width=\"' + width + '\">');\n",
       "    fig.close_ws(fig, msg);\n",
       "}\n",
       "\n",
       "mpl.figure.prototype.close_ws = function(fig, msg){\n",
       "    fig.send_message('closing', msg);\n",
       "    // fig.ws.close()\n",
       "}\n",
       "\n",
       "mpl.figure.prototype.push_to_output = function(remove_interactive) {\n",
       "    // Turn the data on the canvas into data in the output cell.\n",
       "    var width = this.canvas.width/mpl.ratio\n",
       "    var dataURL = this.canvas.toDataURL();\n",
       "    this.cell_info[1]['text/html'] = '<img src=\"' + dataURL + '\" width=\"' + width + '\">';\n",
       "}\n",
       "\n",
       "mpl.figure.prototype.updated_canvas_event = function() {\n",
       "    // Tell IPython that the notebook contents must change.\n",
       "    IPython.notebook.set_dirty(true);\n",
       "    this.send_message(\"ack\", {});\n",
       "    var fig = this;\n",
       "    // Wait a second, then push the new image to the DOM so\n",
       "    // that it is saved nicely (might be nice to debounce this).\n",
       "    setTimeout(function () { fig.push_to_output() }, 1000);\n",
       "}\n",
       "\n",
       "mpl.figure.prototype._init_toolbar = function() {\n",
       "    var fig = this;\n",
       "\n",
       "    var nav_element = $('<div/>')\n",
       "    nav_element.attr('style', 'width: 100%');\n",
       "    this.root.append(nav_element);\n",
       "\n",
       "    // Define a callback function for later on.\n",
       "    function toolbar_event(event) {\n",
       "        return fig.toolbar_button_onclick(event['data']);\n",
       "    }\n",
       "    function toolbar_mouse_event(event) {\n",
       "        return fig.toolbar_button_onmouseover(event['data']);\n",
       "    }\n",
       "\n",
       "    for(var toolbar_ind in mpl.toolbar_items){\n",
       "        var name = mpl.toolbar_items[toolbar_ind][0];\n",
       "        var tooltip = mpl.toolbar_items[toolbar_ind][1];\n",
       "        var image = mpl.toolbar_items[toolbar_ind][2];\n",
       "        var method_name = mpl.toolbar_items[toolbar_ind][3];\n",
       "\n",
       "        if (!name) { continue; };\n",
       "\n",
       "        var button = $('<button class=\"btn btn-default\" href=\"#\" title=\"' + name + '\"><i class=\"fa ' + image + ' fa-lg\"></i></button>');\n",
       "        button.click(method_name, toolbar_event);\n",
       "        button.mouseover(tooltip, toolbar_mouse_event);\n",
       "        nav_element.append(button);\n",
       "    }\n",
       "\n",
       "    // Add the status bar.\n",
       "    var status_bar = $('<span class=\"mpl-message\" style=\"text-align:right; float: right;\"/>');\n",
       "    nav_element.append(status_bar);\n",
       "    this.message = status_bar[0];\n",
       "\n",
       "    // Add the close button to the window.\n",
       "    var buttongrp = $('<div class=\"btn-group inline pull-right\"></div>');\n",
       "    var button = $('<button class=\"btn btn-mini btn-primary\" href=\"#\" title=\"Stop Interaction\"><i class=\"fa fa-power-off icon-remove icon-large\"></i></button>');\n",
       "    button.click(function (evt) { fig.handle_close(fig, {}); } );\n",
       "    button.mouseover('Stop Interaction', toolbar_mouse_event);\n",
       "    buttongrp.append(button);\n",
       "    var titlebar = this.root.find($('.ui-dialog-titlebar'));\n",
       "    titlebar.prepend(buttongrp);\n",
       "}\n",
       "\n",
       "mpl.figure.prototype._root_extra_style = function(el){\n",
       "    var fig = this\n",
       "    el.on(\"remove\", function(){\n",
       "\tfig.close_ws(fig, {});\n",
       "    });\n",
       "}\n",
       "\n",
       "mpl.figure.prototype._canvas_extra_style = function(el){\n",
       "    // this is important to make the div 'focusable\n",
       "    el.attr('tabindex', 0)\n",
       "    // reach out to IPython and tell the keyboard manager to turn it's self\n",
       "    // off when our div gets focus\n",
       "\n",
       "    // location in version 3\n",
       "    if (IPython.notebook.keyboard_manager) {\n",
       "        IPython.notebook.keyboard_manager.register_events(el);\n",
       "    }\n",
       "    else {\n",
       "        // location in version 2\n",
       "        IPython.keyboard_manager.register_events(el);\n",
       "    }\n",
       "\n",
       "}\n",
       "\n",
       "mpl.figure.prototype._key_event_extra = function(event, name) {\n",
       "    var manager = IPython.notebook.keyboard_manager;\n",
       "    if (!manager)\n",
       "        manager = IPython.keyboard_manager;\n",
       "\n",
       "    // Check for shift+enter\n",
       "    if (event.shiftKey && event.which == 13) {\n",
       "        this.canvas_div.blur();\n",
       "        event.shiftKey = false;\n",
       "        // Send a \"J\" for go to next cell\n",
       "        event.which = 74;\n",
       "        event.keyCode = 74;\n",
       "        manager.command_mode();\n",
       "        manager.handle_keydown(event);\n",
       "    }\n",
       "}\n",
       "\n",
       "mpl.figure.prototype.handle_save = function(fig, msg) {\n",
       "    fig.ondownload(fig, null);\n",
       "}\n",
       "\n",
       "\n",
       "mpl.find_output_cell = function(html_output) {\n",
       "    // Return the cell and output element which can be found *uniquely* in the notebook.\n",
       "    // Note - this is a bit hacky, but it is done because the \"notebook_saving.Notebook\"\n",
       "    // IPython event is triggered only after the cells have been serialised, which for\n",
       "    // our purposes (turning an active figure into a static one), is too late.\n",
       "    var cells = IPython.notebook.get_cells();\n",
       "    var ncells = cells.length;\n",
       "    for (var i=0; i<ncells; i++) {\n",
       "        var cell = cells[i];\n",
       "        if (cell.cell_type === 'code'){\n",
       "            for (var j=0; j<cell.output_area.outputs.length; j++) {\n",
       "                var data = cell.output_area.outputs[j];\n",
       "                if (data.data) {\n",
       "                    // IPython >= 3 moved mimebundle to data attribute of output\n",
       "                    data = data.data;\n",
       "                }\n",
       "                if (data['text/html'] == html_output) {\n",
       "                    return [cell, data, j];\n",
       "                }\n",
       "            }\n",
       "        }\n",
       "    }\n",
       "}\n",
       "\n",
       "// Register the function which deals with the matplotlib target/channel.\n",
       "// The kernel may be null if the page has been refreshed.\n",
       "if (IPython.notebook.kernel != null) {\n",
       "    IPython.notebook.kernel.comm_manager.register_target('matplotlib', mpl.mpl_figure_comm);\n",
       "}\n"
      ],
      "text/plain": [
       "<IPython.core.display.Javascript object>"
      ]
     },
     "metadata": {},
     "output_type": "display_data"
    },
    {
     "data": {
      "text/html": [
       "<img src=\"data:image/png;base64,iVBORw0KGgoAAAANSUhEUgAABQAAAAPACAYAAABq3NR5AAAgAElEQVR4XuzdB5AU1drG8XczLAssOUdJCpgQFBAVFeWqoF7ACBIkZ1TAgAQDoIJEJUpWUcGEKCpGFL1gQFFRAUkiOedl2f3qbb9pZpbZnTw90/M/VbfUne4TfqdvV/VTp/vEZWdnZwsFAQQQQAABBBBAAAEEEEAAAQQQQAABBGwpEEcAaMt5ZVAIIIAAAggggAACCCCAAAIIIIAAAggYAgSAXAgIIIAAAggggAACCCCAAAIIIIAAAgjYWIAA0MaTy9AQQAABBBBAAAEEEEAAAQQQQAABBBAgAOQaQAABBBBAAAEEEEAAAQQQQAABBBBAwMYCBIA2nlyGhgACCCCAAAIIIIAAAggggAACCCCAAAEg1wACCCCAAAIIIIAAAggggAACCCCAAAI2FiAAtPHkMjQEEEAAAQQQQAABBBBAAAEEEEAAAQQIALkGEEAAAQQQQAABBBBAAAEEEEAAAQQQsLEAAaCNJ5ehIYAAAggggAACCCCAAAIIIIAAAgggQADINYAAAggggAACCCCAAAIIIIAAAggggICNBQgAbTy5DA0BBBBAAAEEEEAAAQQQQAABBBBAAAECQK4BBBBAAAEEEEAAAQQQQAABBBBAAAEEbCxAAGjjyWVoCCCAAAIIIIAAAggggAACCCCAAAIIEAByDSCAAAIIIIAAAggggAACCCCAAAIIIGBjAQJAG08uQ0MAAQQQQAABBBBAAAEEEEAAAQQQQIAAkGsAAQQQQAABBBBAAAEEEEAAAQQQQAABGwsQANp4chkaAggggAACCCCAAAIIIIAAAggggAACBIBcAwgggAACCCCAAAIIIIAAAggggAACCNhYgADQxpPL0BBAAAEEEEAAAQQQQAABBBBAAAEEECAA5BpAAAEEEEAAAQQQQAABBBBAAAEEEEDAxgIEgDaeXIaGAAIIIIAAAggggAACCCCAAAIIIIAAASDXAAIIIIAAAggggAACCCCAAAIIIIAAAjYWIAC08eQyNAQQQAABBBBAAAEEEEAAAQQQQAABBAgAuQYQQAABBBBAAAEEEEAAAQQQQAABBBCwsQABoI0nl6EhgAACCCCAAAIIIIAAAggggAACCCBAAMg1gAACCCCAAAIIIIAAAggggAACCCCAgI0FCABtPLkMDQEEEEAAAQQQQAABBBBAAAEEEEAAAQJArgEEEEAAAQQQQAABBBBAAAEEEEAAAQRsLEAAaOPJZWgIIIAAAggggAACCCCAAAIIIIAAAggQAHINIIAAAggggAACCCCAAAIIIIAAAgggYGMBAkAbTy5DQwABBBBAAAEEEEAAAQQQQAABBBBAgACQawABBBBAAAEEEEAAAQQQQAABBBBAAAEbCxAA2nhyGRoCCCCAAAIIIIAAAggggAACCCCAAAIEgFwDCCCAAAIIIIAAAggggAACCCCAAAII2FiAANDGk8vQEEAAAQQQQAABBBBAAAEEEEAAAQQQIADkGkAAAQQQQAABBBBAAAEEEEAAAQQQQMDGAgSANp5choYAAggggAACCCCAAAIIIIAAAggggAABINcAAggggAACCCCAAAIIIIAAAggggAACNhYgALTx5DI0BBBAAAEEEEAAAQQQQAABBBBAAAEECAC5BhBAAAEEEEAAAQQQQAABBBBAAAEEELCxAAGgjSeXoSGAAAIIIIAAAggggAACCCCAAAIIIEAAyDWAAAIIIIAAAggggAACCCCAAAIIIICAjQUIAG08uQwNAQQQQAABBBBAAAEEEEAAAQQQQAABAkCuAQQQQAABBBBAAAEEEEAAAQQQQAABBGwsQABo48llaAgggAACCCCAAAIIIIAAAggggAACCBAAcg0ggAACCCCAAAIIIIAAAggggAACCCBgYwECQBtPLkNDAAEEEEAAAQQQQAABBBBAAAEEEECAAJBrAAEEEEAAAQQQQAABBBBAAAEEEEAAARsLEADaeHIZGgIIIIAAAggggAACCCCAAAIIIIAAAgSAXAMIIIAAAggggAACCCCAAAIIIIAAAgjYWIAA0MaTy9AQQAABBBBAAAEEEEAAAQQQQAABBBAgAOQaQAABBBBAAAEEEEAAAQQQQAABBBBAwMYCBIA2nlyGhgACCCCAAAIIIIAAAggggAACCCCAAAEg1wACCCCAAAIIIIAAAggggAACCCCAAAI2FiAAtPHkMjQEEEAAAQQQQAABBBBAAAEEEEAAAQQIALkGEEAAAQQQQAABBBBAAAEEEEAAAQQQsLEAAaCNJ5ehIYAAAggggAACCCCAAAIIIIAAAgggQADINYAAAggggAACCCCAAAIIIIAAAggggICNBQgAbTy5DA0BBBBAAAEEEEAAAQQQQAABBBBAAAECQK4BBBBAAAEEEEAAAQQQQAABBBBAAAEEbCxAAGjjyWVoCCCAAAIIIIAAAggggAACCCCAAAIIEAByDSCAAAIIIIAAAggggAACCCCAAAIIIGBjAQJAG08uQ0MAAQQQQAABBBBAAAEEEEAAAQQQQIAAkGsAAQQQQAABBBBAAAEEEEAAAQQQQAABGwsQANp4chkaAggggAACCCCAAAIIIIAAAggggAACBIBcAwgggAACCCCAAAIIIIAAAggggAACCNhYgADQxpPL0BBAAAEEEEAAAQQQQAABBBBAAAEEECAA5BpAAAEEEEAAAQQQQAABBBBAAAEEEEDAxgIEgDaeXIaGAAIIIIAAAggggAACCCCAAAIIIIAAASDXAAIIIIAAAggggAACCCCAAAIIIIAAAjYWIAC08eQyNAQQQAABBBBAAAEEEEAAAQQQQAABBAgAuQYQQAABBBBAAAEEEEAAAQQQQAABBBCwsQABoI0nl6EhgAACCCCAQGwKDB8+XEaMGGEMftiwYaL/HY5SuXJl2bJli9HUpk2bRP87kBIXF2eenp2dHUhVnIsAAggggAACCMS0AAFgTE8/g0cAAQQQQMD+Atdcc4188cUXLgN9++235dZbb/V68AMHDpQxY8a4HB/OYM3rjv7/gQSAvopxPAIIIIAAAgggYG8BAkB7zy+jQwABBBBAIOYF3AWA//3vf2Xx4sVe2Zw5c0YqVKggO3bsIAD0IMYKQK8uKQ5CAAEEEEAAAQTCLkAAGHZyGkQAAQQQQACBcAq4CwCTk5Nl586dUqRIEY9dWbZsmfznP/855zhWAJ5LRwDo8XLiAAQQQAABBBBAwBIBAkBL2GkUAQQQQAABBMIl4BwAXnDBBfLbb78ZTb/44ovSo0cPj92455575NVXXzWOcz6fAJAA0OPFwwEIIIAAAggggECECBAARshE0A0EEEAAAQQQCI2AcwD4xBNPyJNPPimnT5+WK664Qr755ps8Gz18+LCULl1aTpw4IRdffLHUrFlTXnvtNeMcAkACwNBcsdSKAAIIIIAAAggEX4AAMPim1IgAAggggAACESTgHABOmTJFPvjgA3n33XeNHv75559SvXr1XHv70ksvSefOnY3fx40bJ99++y0BYB5zyyvAEXTh0xUEEEAAAQQQQMBJgACQywEBBBBAAAEEbC2QMwAsUaKEtG7d2hjzkCFDjBWBuZWrr75avvzyS0lMTJTt27dL3759fQoAs7OzZdGiRfLmm2/KqlWrZNeuXUZTpUqVkssvv1x0M5JWrVpJXFyc13Pw2WefyYwZM+Trr7826tPvGFarVk3uvvtu6dChg6Smpoo/uwB/8skn8sYbb8iKFSuMDU+OHTsmxYoVk7p160qLFi3k/vvvl/z58+fZT6sDwF9//VXmzJkjy5cvl23btsmRI0eMMdSoUcP4jqOGufrf3pRPP/1UXn75ZWPetK6jR4+KfjuyaNGiUqVKFalXr55cf/31csMNNxh/d1f0vFmzZona/vHHH3Lw4EHRa6JgwYJSvnx5qV27tjRp0kRuv/12Y6UpBQEEEEAAAQQQCJUAAWCoZKkXAQQQQAABBCJCIGcA2KlTJyNsOXDggGhg9ddff7kN4DZv3ixVq1Y1Apubb75Z3nvvPbnrrru8DgDXr18vd955p/z44495OmiQ9Prrrxtt5VUyMzOlW7duRqCUW9FvFGrYqN8sHDFihHGYp1eVNaS677775PPPP8+z/bJly8rChQuNwCq3YlUAqDYPPPCA8V1H3bU5t5Keni7jx4+X9u3b53qMBp/63UfHKlFPF7GGsY5Vos7HTp8+Xfr372+8Pu6pNG7cWL766itPh/E7AggggAACCCDgtwABoN90nIgAAggggAAC0SCQMwDs3r27sfnH1KlTje5r8KUr/XIW/V6ghmda9Lt/d9xxh9cB4Lp164w69+zZY1arK+n0O4K62k9DwbVr15q/6YpAXWmoK9VyK86bkegxGmY1bdrUWNG2detWYxwZGRlGkNiyZUsj6NKSVwCo/bzuuuuMFX9atG+XXnqpsdmJrvbTVY/aL11JpyUlJcV4hVrbdVesCACzsrKMFXTOgZ2u0tN5139qwKmrJtXGUdSmX79+bsegdb399tvmb7q68pJLLjHq0m9H6pzq3GlArMVdAKjnaz2OUqhQIWnYsKGx6k9Xkx46dMh4/fyXX34x+kUAGA13EvqIAAIIIIBAdAsQAEb3/NF7BBBAAAEEEPAg4C4A1M0/GjVqZJypKwL1W385i34bcMOGDUbQpgFZvnz5vAoANdBp0KCB/PTTT0aVJUuWNF4l1ddFnctHH30k9957r+zdu9f4swZv+o3BpKSkc/oyf/58Y5Weo/Tu3VueffZZl1dytY9t27YVfXVVX0l1BF65BYC60q1+/fqiIaAWfUV20qRJct5557m0rxuhPPzww6LfT9RSpkwZ45zChQuf008rAkB1GDx4sNkX7auufnR+LXfnzp3Gqj8116IhnK6409ewnYvOmYa0WtLS0oyVmerirujKUV1peeGFFxqvSDsXDQzXrFlj/Enn6plnnjFezc5Z9LViDVS///57GT16tNt2+CMCCCCAAAIIIBAMAQLAYChSBwIIIIAAAghErIC7AFA7qzv66iosXZ2lAZHz9+1WrlxprMrS0rVrV5k2bZrx7968Ajx79mwjVNSiYd7//vc/YwWZu7J69WojiNRXWLXMnTvXJejTv+kKNw3WdCWbFv3On7bhrujrprq78c8//2z+nFsAqN8+HDp0qHGcrlbTbxXGx8fnOo/arvZPi4ZVzqGb46RwB4AaTpYrV874Pp+Whx56SJ577jm3Yzh16pTx+rKaa9FVjBqWOpfJkydLnz59jD899thj8tRTT+XqkdsP2hf9xp+WChUqyJYtW3z6xqPPDXICAggggAACCCDghQABoBdIHIIAAggggAAC0SuQWwCo4c7jjz9uDOyVV14xNtFwFH1N2BH66UoxRxjoTQCoAZyGflp005AJEybkidezZ09zdZ2eq6sTnYuuELvpppuMP2lIqUFgXhtZfPzxx8bGFI7iLgDUV1n1ddTdu3cbr/XqK8S6UjGv8s8//xjn6DcR9XVm55DRcV64A0B9jVtf59air1Fv2rQpz41KdEMP51V/v//+uxEEO8rIkSON4E9LXq8Je3LSUFKLrib09A3I6P1/Fj1HAAEEEEAAgWgSIACMptmirwgggAACCCDgs0BuAaCuzNLdXDXQat68ufEqphZdKaabhOiOrfo6rL4G7CieAkD9Vp7uyuvYiEJfA73ooovy7PMPP/xg7CirJSEhwfg+XIECBcxzBg0aZK5q0x2DdaVeXkXHoyvP9Pt9WtwFgM6vQGu4uHTpUq9c9duA+vqvfitQN1HJ+RpwuANA/S6j7lysRTfcGDdunMdx6Cu7ju8v6mvNGvY6ivOr1vpKtu6I7O7V3bwa0Vev1eXkyZPGq8b6bUZHgOyxcxyAAAIIIIAAAgiESIAAMESwVIsAAggggAACkSGQWwCovXP8psHb33//bQR/GihpsKRl+PDh5kYg+t+eAsCvv/5arrzySuNc/YacvqKqYVleRV/x1deQ9Zt8WrQOx/cJ9b+bNWsmy5cvN34bM2aMPPjggx5hNSjU3YC1uAsAn3/+ebMeDcTy2tnXuTGt07FhiG5gUbt2bZe+hDsAdHynUTuh3+tr06aNRxvnDWC6dOkiuluvo+zbt08qVapkzoUGqffff7+xC7S+xq3XiTdFV5Pqjsla9FuEuht069at5aqrrjK+KUlBAAEEEEAAAQTCLUAAGG5x2kMAAQQQQACBsArkFQDOmjXLCHi0OMI13dDhvffeM4I7Xf2nu+o6iqcA0Hn31/PPP19+++03r8aqx+rrqFreeecdYxdfR9HXSB0bingbcg0YMCDPXYD1W3ljx471qm+5HaSr4xxhp+OYcAeAGqbpikkt+tq1br7iqeiGHLpRiBb99qEjKHWcp8Gdbriir0k7Fw109fVh3d1ZrxHHZiHu2tNvSmrYt379epef9RuLGppq4KrBrm4woq9gUxBAAAEEEEAAgVALEACGWpj6EUAAAQQQQMBSgbwCQH1lV1f9HT9+3NjNVb+fp99v0005NKT58ssvXfruKQBcsGCBtGvXzjjnsssuMzec8ASgx+pOsFq0Dt0d2FGqVasmGzduNP5Tg0ldjeapDBkyRJ5++mnjMHcrAHXl28yZMz1Vk+fvn332mbGC0rmEOwDUV2wdr1u7W5HobgDOG33ozsw65zmLvrr9xBNPGN45g0DHsfratr5ynNvqSV39qRuSzJgxQ3bt2uXWUl8X11e8Bw4c6PXqwoAmjZMRQAABBBBAIGYFCABjduoZOAIIIIAAArEhkFcAqAIatukmIFp0p9s5c+YY/67BTefOnV2QPAWA0bICUL+X59icxJuNSry9UsIdAIZiBaDzWPU7kBoC60Yw+r/vvvvOJRDUV4JfffXVPF891oBSz9MVk/p6t9azd+9eF9Jbb71V3nrrLY+vi3s7DxyHAAIIIIAAAgjkFCAA5JpAAAEEEEAAAVsLeAoAP/zwQ2MTEOeSL18+0dc4c25y4SkAdP4GYMGCBY3XU634BqB+b27x4sXGkNytABw1apQ8+uijxu/6vcPXXnstKNdAuANA528A6rcbddyeSl7fAPR0rq7q01eG1VR3TtZSvHhx4991h2Zvin7zceXKlcbqwHfffdc8xdv+e9MGxyCAAAIIIIAAAjkFCAC5JhBAAAEEEEDA1gKeAkBdoaWbPTg2t1AM3bTBsYmDM46nADDnLsD67T59tTiv8uOPP4ruOKvF0y7AGnA5dr3NrU7dBbhixYrGpiZa3AWAn376qVx33XXG7+XLlzcCLE9BpTcXSbgDQOddgPW7h7q5iaeiuzL//PPPxmE5dwH2dK7jd30lW7/lpztGa/nkk0/k2muv9fZ04zidpxtvvNF8BVlfHZ83b55PdXAwAggggAACCCDgrQABoLdSHIcAAggggAACUSngKQDUQek32HQTEEdZunSp3HTTTeeM11MAqCdcccUVxoYUWrwJpXr37i0vvPCCcXzDhg2N1WHO5YMPPjD7kpqaKtu2bZOiRYvmOhcaRum37RzFXQCowZV++1BfcdWSc+MRfyc63AHg1KlTRVf0aSlTpoz89ddfoqs3cyv6Km79+vXNn3XjlZo1a/o1XP0G4A8//GCcq6+Q686/vpZJkyaJvoKt5YYbbhBdjUpBAAEEEEAAAQRCIUAAGApV6kQAAQQQQACBiBHwJgDUIEx3/HWUSy65xO2mDN4EgLNnz5ZOnToZVSUnJxsbgeS2ClA3/tDAUDcd0TJ37lxjB1rnoisUq1SpYgR/WnTX4tw28Dh58qRRn2PXYD3eXQCofx8xYoQMHz7cqFM3PtHQUv/pTdFNLUqVKnXOoeEOAPWVXO3z0aNHjb7o7r76erO7kpGRYezg++233xo/N23aVHQlpHPRb/PpK72eSs5Vo8uXLzdXVOoqUN3ZV+feU9ENQPRVYC1t27aV+fPnezqF3xFAAAEEEEAAAb8ECAD9YuMkBBBAAAEEEIgWAW8CQG/H4k0AqEFTgwYNzBBOV9rpCjENnJyLhkb33HOP7Nmzx/izvgas4VRSUtI53dFgUDcocZR+/frJ6NGjXVa76TcL9TVSrVfDJ+2HltwCQA3NNCz89ddfjeO0nxMnTpRWrVpJfHz8OX3QcEy/f6er7vR1V+cVk46Dwx0AarvPPvusDB482Oyv7oD8+OOPuwRwGliq37Jly4zjdPdg3Yzj8ssvdxlnx44djR2XdfOXli1bim4ykrPs27fPWDGqQa+WQoUKGd+LdHwD8PPPPzfmtWvXrsb3FS+44IJz6tAAcdGiRUafNLTV8vLLLxvnURBAAAEEEEAAgVAIEACGQpU6EUAAAQQQQCBiBMIdAOrA161bZ6w2c4R7+jf99tzFF19suKxZs8ZllV7JkiWNXWJr1KiRq5t+l/D11183fy9SpIgRKhYrVsxYHfjZZ58Z36TT1YK6q+z48eONY3MLAPU3fWVWXxfetGmTWa+ugNNgUANB/U7d/v375bfffpP169eLbmCh5cEHH4yYAFD7dNttt8mSJUvMMaiJ2qiRs43jgHHjxonuhJyzaCCnYasW/R5jrVq15PzzzzfqOXHihGzfvt3YydcRrupx06dPly5duphVaQDoHPaqo867/lODRw0jdeXnP//8Y57TpEkT0fPcBa8R838kOoIAAggggAACUS1AABjV00fnEUAAAQQQQMCTgBUBoPbpzz//FF0xqJt85FV05Z8Ge+edd16ex50+fdoImhwBlbuDNbB66623jA1M9BVfLXkFgPq7Bnzdu3c3VqRp4Oep6Ko4DRfbt29/zqFWrADUTugr1Pq9Rd3UQ1fX5VZ0V2ftu/NqSudj+/TpI5MnT/ZEYPyuuzyPHTvWJfzTv+ur1FdeeaX5WrenynRjl1mzZhn1URBAAAEEEEAAgVAJEACGSpZ6EUAAAQQQQCAiBKwKAHXwujpNg7XFixfLqlWrZPfu3YaJrvjT1081/NFXbn3ZgVe/W6erznQlmtanq9OqVatmvG6q3x5MS0szvu3nbQDomKRffvlFXn31VWMlmq4I1FdddUWaBn5avwaVulqwWbNmuW60YVUA6BiDvs6sYZpuhKIr//R7fLphiq6s1E1dNEDV1YF5FV29qa9R6+vYWp/ukKz16Oo9PVd3/9UNO/R1a51Hd+XAgQNGHfqasQbA+lqxemo4qa8Ma9irqyz1u3/6ujgFAQQQQAABBBAItQABYKiFqR8BBBBAAAEEEEAAAQQQQAABBBBAAAELBQgALcSnaQQQQAABBBBAAAEEEEAAAQQQQAABBEItQAAYamHqRwABBBBAAAEEEEAAAQQQQAABBBBAwEIBAkAL8WkaAQQQQAABBBBAAAEEEEAAAQQQQACBUAsQAIZamPoRQAABBBBAAAEEEEAAAQQQQAABBBCwUIAA0EJ8mkYAAQQQQAABBBBAAAEEEEAAAQQQQCDUAgSAoRamfgQQQAABBBBAAAEEEEAAAQQQQAABBCwUIAC0EJ+mEUAAAQQQQAABBBBAAAEEEEAAAQQQCLUAAWCohakfAQQQQAABBBBAAAEEEEAAAQQQQAABCwUIAC3Ep2kEEEAAAQQQQAABBBBAAAEEEEAAAQRCLUAAGGph6kcAAQQQQAABBBBAAAEEEEAAAQQQQMBCAQJAC/FpGgEEEEAAAQQQQAABBBBAAAEEEEAAgVALEACGWpj6EUAAAQQQQAABBBBAAAEEEEAAAQQQsFCAANBCfJpGAAEEEEAAAQQQQAABBBBAAAEEEEAg1AIEgKEWpn63AidPnpS1a9cav5UoUUISExORQgABBBBAAAEEEEAAAQQQQACBIAtkZmbKnj17jFrr1q0r+fLlC3ILVBcNAgSA0TBLNuzj6tWrpUGDBjYcGUNCAAEEEEAAAQQQQAABBBBAIDIFVq1aJfXr14/MztGrkAoQAIaUl8pzEyAA5NpAAAEEEEAAAQQQQAABBBBAILwCBIDh9Y6k1ggAI2k2YqgvmzdvlipVqhgj1htQmTJlYmj0DBUBBBBAAAEEEEAAAQQQQACB8Ajs2LHDfANv06ZNUrly5fA0TCsRJUAAGFHTETud+fvvv6VChQrGgLdt2ybly5ePncEzUgQQQAABBBBAAAEEEEAAAQTCJMDzd5igI7wZAsAInyC7do8bkF1nlnEhgAACCCCAAAIIIIAAAghEkgDP35E0G9b1hQDQOvuYbpkbUExPP4NHAAEEEEAAAQQQQAABBBAIkwDP32GCjvBmCAAjfILs2j1uQHadWcaFAAIIIIAAAggggAACCCAQSQI8f0fSbFjXFwJA6+xjumVuQDE9/QweAQQQQAABBBBAAAEEEEAgTAI8f4cJOsKbIQCM8Amya/e4Adl1ZhkXAggggAACCCCAAAIIIIBAJAnw/B1Js2FdXwgArbOP6Za5AcX09DN4BBBAAAEEEEAAAQQQQACBMAnw/B0m6AhvhgAwwifIrt3jBmTXmWVcCCCAAAIIIIAAAggggAACkSTA83ckzYZ1fSEAtM4+plvmBhTT08/gEUAAAQQQQAABBBBAAAEEwiTA83eYoCO8GQLACJ8gu3aPG5BdZ5ZxIYAAAggggAACCCCAAAIIRJIAz9+RNBvW9YUA0Dr7mG6ZG1BMTz+DRwABBBBAAAEEEEAAAQQQCJMAz99hgo7wZggAI3yC7Nq9YN2ATp48KQcPHpTjx4/LmTNn7MrFuKJEICEhQZKTk6VQoUKSlpYm8fHxUdJzuokAAggggAACCCCAAAJ2FQjW87ddfWJlXASAsTLTETbOQG9A2dnZsmPHDjl06FCEjYzuIPCvQFxcnJQrV04KFiwICQIIIIAAAggggAACCCBgmUCgz9+WdZyGgypAABhUTirzViDQG9DevXtlz549Ls0lJiZ62zzHIRASAV2FquG0oxAChoSZShFAAAEEEEAAAQQQQMAHgUCfv31oikMjWIAAMIInx85dC+QGlJGRIRs3bjR5SpYsKenp6f76ph8AACAASURBVKKvX1IQsFJAwz99HX3//v1y9OhRoysaAtaoUYPXga2cGNpGAAEEEEAAAQQQQCCGBQJ5/o5hNtsNnQDQdlMaHQMK5Aak4cquXbuMgRYrVkw0AKQgEEkCGgTqNe4IAfVVYP0uIAUBBBBAAAEEEEAAAQQQCLdAIM/f4e4r7YVOgAAwdLbUnIdAIDegbdu2mcFKlSpVJF++fFgjEHECx44dk61btxr90u8Ali9fPuL6SIcQQAABBBBAAAEEEEDA/gKBPH/bXyd2RkgAGDtzHVEjDeQGpK//6mvA+mplzZo1jX9SEIg0AV0F+McffxjfBExJSZGqVatGWhfpDwIIIIAAAggggAACCMSAQCDP3zHAEzNDJACMmamOrIEGcgNav369ZGZmim76Ub169cgaGL1BwEmAa5XLAQEEEEAAAQQQQAABBKwWCOT52+q+037wBAgAg2dJTT4IBHIDIlTxAZpDLRXgWrWUn8YRQAABBBBAAAEEEEBAxPg+eYUKFQwL/aQWnyeKzcuCADA2593yUQdyAyJUsXz66ICXAlyrXkJxGAIIIIAAAggggAACCIRMIJDn75B1iorDLkAAGHZyGlSBQG5AhCpcQ9EiwLUaLTNFPxFAAAEEEEAAAQQQsK9AIM/f9lWJvZERAEbQnO/evVtWrVpl/G/16tXG//bt22f0sH379jJnzpyg9/bVV1+V2bNny88//ywHDx6UUqVKSZMmTaRXr17SsGHDoLfnqDCQGxChSsimhYqDLMC1GmRQqkMAAQQQQAABBBBAAAGfBQJ5/va5MU6IWAECwAiamrx2sw12AHjixAlp3bq1vP/++24F4uPjZejQoTJs2LCQCAVyAyJUCcmU2KpSDbOLFClijGncuHHSv39/S8bHtWoJO40igAACCCCAAAIIIICAk0Agz99A2keAADCC5tI5AKxYsaLUqlVLPvroI6OHwQ4A7777blm4cKFRd9OmTaVfv35StmxZWbt2rYwcOVI2btxo/DZt2jTp2rVr0JUCuQERqgR9OtxWuHnzZqlSpUrAjWVnZwdch68VEAD6KsbxCCCAAAIIIIAAAgggYFeBQJ6/7WoSi+MiAIygWdfVdvXr1zf+p6/iOgcwwQwAP/30U7nuuuuMkbdo0ULeeustSUhIMCX27t0r9erVk61bt0p6err89ddf5mqqYHEFcgMiAAzWLORdDwFg4M5cq4EbUgMCCCCAAAIIIIAAAggEJhDI83dgLXN2JAkQAEbSbOToS6gCwJtuukk++OADSUxMlE2bNrndAlxXB+oqQS3PPvusDBw4MKhSgdyACFWCOhW5Vnb69Gn5448/cv29bt26xm+XXXaZ8R3J3EqdOnXC0+EIbIVrNQInhS4hgAACCCCAAAIIIBBjAoE8f8cYla2HSwAYwdMbigDwyJEjUrx4ccnIyJDmzZsbQaC7or+XKFFCDh8+bGwGsnLlyqBKBXIDIlQJ6lT4XZnjlfWrr75aPv/8c7/rsfOJXKt2nl3GhgACCCCAAAIIIIBAdAgE8vwdHSOkl94IEAB6o2TRMaEIAJ1f/x01apQ8/PDDuY7uxhtvNL5BqCsFjx8/LklJSUGTCOQGRKgStGkIqCICQM98XKuejTgCAQQQQAABBBBAAAEEQisQyPN3aHtG7eEUIAAMp7aPbYUiAJw8ebL06dPH6Il++++2227LtVe6McjEiRON33/99Ve54IILfBxB7ocHcgNyDlUqlC0vCUmJkpQcvHAyaIO0eUW+BIB6nb3zzjty0UUXyZo1a2TLli0yYcIEYxdqvRaOHTsmP/74o1x88cWGmn6H8s033xQNrPX4bdu2SWZmphQrVkwuueQSufPOO+Wee+4xwml3xdMmIOPHj5cBAwYYpx44cEAKFCggU6dOlfnz5xuvPZ85c0Zq1KhhtNG3b19JTk72azYJAP1i4yQEEEAAAQQQQAABBBAIokAgz99B7AZVWSxAAGjxBOTVfCgCQF3x98wzzxjNrl692vh+W25lzJgx5rf/li1bJroi0NuiN5i8yo4dO6RBgwbGIRrulC9f3tuqRUMV/T5d9pkzUiw1n3FegfSSUrBYYa/r4MDABfwNAMeOHSutWrWSQ4cOuXTCOQDUzWdy/p6zx40bN5Z3331XihYtes5gfAkA9TuYGvR98803blF0l2y9/v0JAQkAA7/OqAEBBBBAAAEEEEAAAQQCEyAADMzPLmcTAEbwTIYiAOzVq5e8+OKLxqjXrVsntWrVylVgypQp0rNnT+P3RYsWGaGNt8URDnlzvD8B4PGjxyQhPk6Kp6X+fxPxUqJSZUlIPLubsTdtc4z/Av4EgOXKlZMTJ05IVlaWPPDAA3LNNddISkqKsfrvP//5j1SsWNHoUKFChYzVgLphja4aLFmypPEauoZ1uuGI45uDLVu2NFYW5iy+BICNGjWSVatWyf333y+333670dbGjRtl5MiRRr+0jB49WgYPHuwzFgGgz2ScgAACCCCAAAIIIIAAAkEWIAAMMmiUVkcAGMETF4oAUEOOWbNmGaPWkKNq1aq5CuhxerwWfTWybdu2XmuFOgA8vP+gpORLdgoARfKlFZH0UsWNPmZlZcuB4xle99cOBxZJTZb4+LiwDcWfAFA7p6/x6qYy+optbkWDs+rVq+f6+7hx44wAUct3330n9erVcznWlwAwPj5e3n77bWnRooVLHUePHhXd6Vj/f6jBpL627GshAPRVjOMRQAABBBBAAAEEEEAg2AIEgMEWjc76CAAjeN5CEQCGawVgqF8BPrh7r+RPS3UJAOPiEqRE5cqigc6+o6ek3lPLI3h2g9+174dcL8XSUoJfcS41+hsA6nclHd+h9Lez2dnZct555xkrAocMGSJPPvmk3wFgp06d5KWXXnLbFX1d3rFRjgaAjhWK3vabANBbKY5DAAEEEEAAAQQQQACBUAkQAIZKNrrqJQCM4PkKRQAYrm8AemIN5Aakocr+nTulQKFCLgGgtplauIQUKp5OAOhpAoLwu78BoG7woasAvS0a9u3cuVMOHz5sfPvRUfT19BUrVhgr9/RbgM7FlxWAn3zyiVx77bVuu7N8+XJp1qyZ8dtnn31mvLLsSyEA9EWLYxFAAAEEEEAAAQQQQCAUAoE8f4eiP9RpjQABoDXuXrUaigDQDrsA/77udzm0Z5cUKJx+TgAYF58kJStXkv3HMlgB6NVV5v9B/gSA+g1AT6tDHT3S707OmDFDvv76a2OX4NxKw4YNjVeK/Q0At2/fLmXLlnVb/Q8//GC+XqwhY87XhD3pEQB6EuJ3BBBAAAEEEEAAAQQQCLUAAWCohaOjfgLACJ6nUASAn376qVx33XXGqEeNGmW+3uiOQXf9/eijjyQxMdHYgCEpKSloWoHcgH749js5nXHMbQCoHSxYrLScTEwmAAzabLmvyJ8AsE6dOrJ27do8e5aZmWnsyvvGG294NQLdLMSxWYfjBF9WAB44cEB012F3Zc2aNXLJJZcYP7311lty2223edUnx0EEgD5xcTACCCCAAAIIIIAAAgiEQCCQ5+8QdIcqLRIgALQI3ptmQxEAHjlyRIoXLy4ZGRnSvHlz+eCDD9x2RX8vUaKE8dqluxVW3vQ/r2MCuQGtXP6FJCRLrgFgfEKKFK9YgU1AAp0kD+f7EwDqjr4aquVVxo4dKw899JBxyOWXXy59+/aV+vXrS5kyZSQ1NdX4xqMW3QF4yZIlxi7BOeskAAzx5FM9AggggAACCCCAAAIIRI1AIM/fUTNIOupRgADQI5F1B4QiANTR3HTTTUbwpyv7dBOF8uXLnzPIhQsXyt133238/dlnn5WBAwcGFSKQG9BnSz6Q1MKpTgGg7nyb7dK/wqXKGZuEUEInEKoAsFatWvLHH3+IruxbvXq1cZ26K1deeaXxejABYOjmmJoRQAABBBBAAAEEEEAg+gUCef6O/tEzAocAAWAEXwv+BIBz5syRjh07GqMaNmyYDB8+/JwROr8GrKuo3nzzTUlISDCP000a6tWrJ1u3bjVejfzrr7+kSJEiQZUK5Ab08eI3pVCJYmYAmFIgXU4dPyySnWX2MSEpv5SoeG6wGdRBxHhloQgA9fXf5ORk0Y0/nnjiCXn88cfdKutmILqRiK5oJQCM8QuR4SOAAAIIIIAAAggggECeAoE8f0NrHwECwAiay6+++ko2bNjgEsQ5Vt41btxYOnfu7NLbDh06nNN7bwJAPUlX9+kqPy1NmzaV/v37Gxsh6PfZnn76adm4caPx27Rp06Rr165BV/L3BnTq+Cn54r23pHDpMmYAWKh4GTl14oScOnbQpZ9Fy1aU5PwpQe87Ff4rEIoA8NSpU5IvXz6j/sGDB8vo0aPdcjtf5wSAXJEIIIAAAggggAACCCCAQO4C/j5/Y2ovAQLACJpPDfTmzp3rdY90lVTO4m0AeOLECWndurW8//77btvT76zp6it3Kwi97mAeB/p7A/p95c+y9e9fpXDpsmYAWKJSVWPF2N6tm11eBU5KSZNi5csEo7vU4UYgFAGgNlOxYkXZtm2bnHfeeca3/dLS0lxa/+WXX+Tqq6+W/fv3G38nAOTyRAABBBBAAAEEEEAAAQQIALkG8hYgAIygKyScAaBj2K+88opoaPjTTz+JbpxQqlQpadKkifTu3dvY/CNUxd8A8MNpr0lckSwzACxRsKCUqlrV6Oa+7Tvl9MkjTl2Ok+IVKklicvB2Lw6VRzTWG6oAcMiQIcYqVC26a7Cugj3//PPl2LFjxq7UEydONDYCqVy5srFilQAwGq8e+owAAggggAACCCCAAALhEvD3+Ttc/aOd8AgQAIbHmVZyCPh7A5o3eKSUrlfFDABLFSlmfusv42SG7N++xaWl5PyFpWjZkviHQCBUAaCuTr3++utl5cqVbntdsGBBee2114zX09955x0CwBDMLVUigAACCCCAAAIIIICAfQT8ff62jwAjUQECQK4DSwT8vQFN6tRdaja/2gwAy5UqK0VKlzDHsHfbdsnMOH52THHxUqJSZZdNTiwZsA0bDVUAqFQZGRkyYcIE0RWquiOwrvgrV66cNG/eXPr16ydVq1aV2267jQDQhtcVQ0IAAQQQQAABBBBAAIHgCvj7/B3cXlCb1QIEgFbPQIy2788NKDPjtExo10bqtrrTDACrVKoqBdILmoonj52Qgzv/dlHNl1ZE0ksVj1Fphm2lwPr160V3Nk5MTJTq1atb2RXaRgABBBBAAAEEEEAAgRgV8Of5O0apbD1sAkBbT2/kDs6fG9CG79fJO88OlLqt7jUDwFrnX3DON/52b9kmWZknzcHHxSVIycqVJS4+PnJB6JktBQgAbTmtDAoBBBBAAAEEEEAAgagS8Of5O6oGSGe9EiAA9IqJg4It4M8N6JNZb8qaD2eZAWBa4XSpfdFF53Tt+KGjcnjvDpe/pxYuIYWKpwd7GNSHQJ4CBIBcIAgggAACCCCAAAIIIGC1gD/P31b3mfaDL0AAGHxTavRCwJ8b0MtDnpOd6784GwCmF5XaF9Y9p7Xs7GzZvXmrZGdlmL/FxSdJycqVxPHdOi+6yCEIBCxAABgwIRUggAACCCCAAAIIIIBAgAL+PH8H2CSnR6AAAWAETkosdMmfG9ALnXvLySObzQCwYNHickGd2m65juw7JMcO7nb5rWCx0i7fC4wFZ8ZorQABoLX+tI4AAggggAACCCCAAAIi/jx/42Y/AQJA+81pVIzI1xtQVuYZGde2jUh2hhkAFi5eUmpdcL7b8RqrADdtluzsTPP3+IQUKVm5YlT40El7CBAA2mMeGQUCCCCAAAIIIIAAAtEs4OvzdzSPlb7nLkAAyNVhiYCvN6Ctv/4lbzzR1+irYxOQIqVKS42aNXPt/6Hd++TEkf0uvxcuVU7yp6VaMmYajT0BAsDYm3NGjAACCCCAAAIIIIBApAn4+vwdaf2nP8ERIAAMjiO1+Cjg6w3o8wXvyfdLpjoFgOWkaJkyUr169VxbzjqTJbu3bBLJzjKPSUhKlRIVy/nYWw5HwD8BAkD/3DgLAQQQQAABBBBAAAEEgifg6/N38FqmpkgSIACMpNmIob74egNaOHy8bF+33AwA08tWlCKlSuYZAOrBB3bskVPHD7rIFi1bUZLzp8SQNkO1SoAA0Cp52kUAAQQQQAABBBBAAAGHgK/P38jZU4AA0J7zGvGj8vUGNKVbfzl+cIMZABatUFUKFy/qMQDMPJ0pe7duFpFs0yQpJU2KlS8T8UZ0MPoFCACjfw4ZAQIIIIAAAggggAAC0S7g6/N3tI+X/rsXIADkyrBEwJcbUFZWloy/907JzjphBoAlqtaUtMIFPQaAesK+7Tvl9MkjTuOMk+IVKklicpIlY6fR2BEgAIyduWakCCCAAAIIIIAAAghEqoAvz9+ROgb6FbgAAWDghtTgh4AvN6AdG/6WVx7rbraim4CUqVVH8uXP51UAmHEyQ/Zv3+LSy+TUwlK0TEk/es4pCHgvQADovRVHIoAAAggggAACCCCAQGgEfHn+Dk0PqDUSBAgAI2EWYrAPvtyAvn7jI/l20cSzAWDrdlK+dl1JSkryKgDUE/du2y6ZGcfPSsfFS4lKlSUhISEG9RlyuAT+/PNPOXPmjCQmJnp9rYarb7SDAAIIIIAAAggggAACsSHgy/N3bIjE5igJAGNz3i0ftS83oDeemixb1y47GwC26iAV6taWuLg4qVGjhsTHx3scz8ljJ+Tgzr9djstXsKiklyzm8VwOQMAfAQ3+NADUkpKSIlWrVvWnGs5BAAEEEEAAAQQQQAABBAIS8OX5O6CGODmiBQgAI3p67Ns5X25A03o+JEf3/W5i1G7RQSrVq238d7ly5aRQoUJeQe3esk2yMk+ax8bFJUjJypUlzosA0asGOAgBJ4F9+/bJ7t27jb8UKVJESpcujQ8CCCCAAAIIIIAAAgggEHYBX56/w945GgybAAFg2KhpyFnAlxvQuHvulqwzZzfxqNeqp5SqW8WoTl/h1WAlLS3N40rAY4eOypG9O1wmokB6CSlYLJ3JQSAoAtnZ2XLq1Ck5fPiwaADoKLr6T1cBUhBAAAEEEEAAAQQQQACBcAv48vwd7r7RXvgECADDZ01LTgLe3oD2/r1b5j7YycXutsFjJKFoPjlx4t9dgbXo68DefM8v48QJ0ZDG+bzk/PmZGwSCIqCv/TpfX1pp4cKFpWzZskGpn0oQQAABBBBAAAEEEEAAAV8FvH3+9rVejo8uAQLA6Jov2/TW2xvQqnc+lxWvjHEad6L0e3mRsdpv69atLiGgNzj6LcCM42dXE+o5KWmFJCV/Pm9O5xgEfBIoUaKEFCtWzAioKQgggAACCCCAAAIIIICAFQLePn9b0TfaDJ8AAWD4rGnJScDbG9Cbz06TTd8vMc9MKVBees+aavy3rrQ6duyYHDlyxAgCdfWVp6LnbPn5Z8nOOm0empBUQCrWOd/TqfyOgEcBDaaTk5OlQIECxmvp+u8UBBBAAAEEEEAAAQQQQMBKAW+fv63sI22HXoAAMPTGtOBGwNsb0Iw+D8vh3b+YNZSs0ljajX4kINMPXnxFfvviFZc6bhkwSmpeUTegejkZAQQQQAABBBBAAAEEEEAAgUgT8Pb5O9L6TX+CK0AAGFxPavNSwNsb0Pi27eTM6QNmrXWuu09u7HqHl624P+zk0ePyYpcOkp113DygcOmLpfOEpwKql5MRQAABBBBAAAEEEEAAAQQQiDQBb5+/I63f9Ce4AgSAwfWkNi8FvLkBHd57UGb0autSY7BW6i0eNUU2r1nqVHec3PXEZClXs5KXI+AwBBBAAAEEEEAAAQQQQAABBCJfwJvn78gfBT0MVIAAMFBBzvdLwJsb0A/LVspns0c61R8vfea+Icn5Uvxq0/mkg7v2y0t9dXfhTPPPpWtcI/c++VDAdVMBAggggAACCCCAAAIIIIAAApEi4M3zd6T0lX6EToAAMHS21JyHgDc3oHefny3r/7fYrCUpfxnpO2dG0FwXPPaM7NqwwqwvPjFd+s2fZ+wwTEEAAQQQQAABBBBAAAEEEEDADgLePH/bYZyMIW8BAkCuEEsEvLkBvdT/cTm440ezf8UqNJAOY4YGrb9/rvpFlox92KW+2x8eK1UvqRm0NqgIAQQQQAABBBBAAAEEEEAAASsFvHn+trJ/tB0eAQLA8DjTSg4Bb25AE+7rIJmn9ppnnn/V3XJTr3uDZpmVlSUT2t4rWWeOmHVWa3C73Prg/UFrg4oQQAABBBBAAAEEEEAAAQQQsFLAm+dvK/tH2+ERIAAMjzOt+BgAHj98TKZ0uUtEss0zb+wxXOpcc1lQLecOekr2bvnWrDNfwcrSa+bkoLZBZQgggAACCCCAAAIIIIAAAghYJUAAaJV8ZLVLABhZ8xEzvfF0A1r72Xfy0dThTh5x0mPma5JaMDWoRl+/8ZF8u2iiU53x0uXF+VKoWOGgtkNlCCCAAAIIIIAAAggggAACCFgh4On524o+0Wb4BQgAw29OiyLi6Qa0dPIC+X3FQtMqMaWE9Js3O+h2/640vEdEzph1X9ayh1x9781Bb4sKEUAAAQQQQAABBBBAAAEEEAi3gKfn73D3h/asESAAtMY95lv1dAOa89ATsm/bKtOpSNlLpdO4J0LiNqXbADl+cP3ZtsrVk07PjwhJW1SKAAIIIIAAAggggAACCCCAQDgFPD1/h7MvtGWdAAGgdfYx3bKnG9DE9p3l9MmdplH1K1pJywEdQ2L23sR58sfXr5t1x8WnSv/5r0p8YkJI2qNSBBBAAAEEEEAAAQQQQAABBMIl4On5O1z9oB1rBQgArfWP2dbzugGdOn5KJndsIyJZps+1nR6VS25sFBKvbes2y+vDe7vUfWPPEVLn6nohaY9KEUAAAQQQQAABBBBAAAEEEAiXAAFguKQjux0CwMieH9v2Lq8b0O8rf5alEx51GXuXF18O6cYcE9p1kMyMvWabFercKHc83se2/gwMAQQQQAABBBBAAAEEEEAgNgQIAGNjnj2NkgDQkxC/h0QgrxvQh9Nfl18+mWe2m5BURPovmB+SfjgqfWXoWNnxx2dmG0n5y0jfOTNC2iaVI4AAAggggAACCCCAAAIIIBBqAQLAUAtHR/0EgNExT7brZV43oHkPj5Q9m1aaYy5Usq50mTQqpAY/LFspn80e6dJGu2dnSslKpUPaLpUjgAACCCCAAAIIIIAAAgggEEoBAsBQ6kZP3QSA0TNXtuppXjegSZ26S8axv83xVqnXUv47qGtIx59xKkMmtb9bJPuU2U6d6+6TG7veEdJ2qRwBBBBAAAEEEEAAAQQQQACBUAoQAIZSN3rqJgCMnrmyVU9zuwFlZpyWCe10A5BMc7xN2j4kDVpcE/Lxz+jziBzevdZsp2Dx2tL1hWdC3i4NIIAAAggggAACCCCAAAIIIBAqAQLAUMlGV70EgNE1X7bpbW43oA3fr5N3nh3oMs6O42ZL0bIlQj725S8tlp8+mn22nbgk6T1roaSkpoS8bRpAAAEEEEAAAQQQQAABBBBAIBQCBIChUI2+OgkAo2/ObNHj3G5An8x+S9Yse8kcY3xCIRnwyithGfPev3fL3Ac7ubR1VdtBUr/FVWFpn0YQQAABBBBAAAEEEEAAAQQQCLYAAWCwRaOzPgLA6Jy3qO91bjegl4c8JzvXf2GOL63Y+dLtxefCNt5JHbtJxvHtZnulqjWRtk8PDlv7NIQAAggggAACCCCAAAIIIIBAMAUIAIOpGb11EQBG79xFdc9zuwG90Lm3nDyy2RxbxQv/I20e6xW2sS4aNUW2rFlqtpeQVET6L5gftvZpCAEEEEAAAQQQQAABBBBAAIFgChAABlMzeusiAIzeuYvqnru7AWVlnpFxbduIZGeYY2vYpp80at0sbGP9feXPsnTCoy7ttR4yXirVrRa2PtAQAggggAACCCCAAAIIIIAAAsESIAAMlmR010MAGN3zF7W9d3cD2vbbX/L6iL4uY2o7arqUqlo2bOPMysqS8W3vkewzR802q1/RSloO6Bi2PtAQAggggAACCCCAAAIIIIAAAsESIAAMlmR010MAGN3zF7W9d3cD+uLlpfLdu1PMMcXFp0r/lxdKfHx8WMc556EnZN+2VWab+QtXlZ7TJ4a1DzSGAAIIIIAAAggggAACCCCAQDAECACDoRj9dRAARv8cRuUI3N2AFg4fL9vXLTfHk5peXXpMGxf28X21cJn8763JTu3GS7cpCyStaKGw94UGEUAAAQQQQAABBBBAAAEEEAhEgAAwED37nEsAaJ+5jKqRuLsBTenWX44f3GCOo9wF18tdw/qHfVxHDxyRad3vFZEss+36t/WUq+6+Kex9oUEEEEAAAQQQQAABBBBAAAEEAhEgAAxEzz7nEgDaZy6jaiQ5b0Bly5aV8ffeJdlZx8+Gbrf2lKvusSZ0e7FrPzlxaKPZl6Ll60vHscOiypjOIoAAAggggAACCCCAAAIIIEAAyDWgAgSAXAeWCOS8ASVmxMnLj3Rz6csdwyZKhQuqWtK/JePnyp/fvGG2HRdfQPrPf0XiExMs6Q+NIoAAAggggAACCCCAAAIIIOCPAAGgP2r2O4cA0H5zGhUjynkD2vLNb/LtIqeNNuJSZMArb4R9AxAH3tZf/5I3nnDdkfimPk/J+VdeHBW+dBIBBBBAAAEEEEAAAQQQQAABFSAA5DpQAQJArgNLBHLegL6Z87ZsXbvM7Eu+gpWl10znjTjC383x7e6TMxn7zYYrXvgfafNYr/B3hBYRQAABBBBAAAEEEEAAAQQQ8FOAANBPOJudRgBoswmNluHkvAEtHTlBju5bZ3a/dI1r5N4nH7J0OC8PeU52rv/C7ENyalnpM3u6pX2icQQQQAABBBBAAAEEEEAAAQR8ESAA9EXLvscSANp3biN6ZDlvQG8MGihZZ46Yfb64+f1y788+jwAAIABJREFUXcfbLR3Dd++vkC/mPuPSh/uemyklKpa2tF80jgACCCCAAAIIIIAAAggggIC3AgSA3krZ+zgCQHvPb8SOzvkG9NOqH+XjMUNc+nr74LFS9dKalvY/4+QpmdThbpHsDLMfda9vLzd0aWNpv2gcAQQQQAABBBBAAAEEEEAAAW8FCAC9lbL3cQSA9p7fiB2d8w3o3Zmvy58fzXXqa6L0e3mRJCYmWt7/6b0Hy5E9v5r9KFSijnSZPNryftEBBBBAAAEEEEAAAQQQQAABBLwRIAD0Rsn+xxAA2n+OI3KEzjeg6Y+MksMbvzL7mVKgvPSeNTUi+v3h9Nfll0/mne1LXLL0mfOqJOdLiYj+0QkEEEAAAQQQQAABBBBAAAEE8hIgAOT6UAECQK4DSwScb0DPdOgpCce3mP0oUaWR3Df6UUv6lbPRPVt3yryBnV3+fE37h6XeTVdGRP/oBAIIIIAAAggggAACCCCAAAIEgFwDngQIAD0J8XtIBJwDwGG33y4Fk85+Z6/OdffJjV3vCEm7/lQ6qUNXyTjxj3lqJOxQ7M84OAcBBBBAAAEEEEAAAQQQQCD2BFgBGHtz7m7EBIBcB5YION+AhtxyraSn5jf7cXP/kVKr4YWW9Mtdo288NVm2rl1m/pSQXEz6z3f+ZmHEdJWOIIAAAggggAACCCCAAAIIIOAiQADIBaECBIBcB5YI5B4AxkufuW9E1Df2fl3xoyyb/LiLU5uhE6Vi7aqW2NEoAggggAACCCCAAAIIIIAAAt4KEAB6K2Xv4wgA7T2/ETu63ALApHylpe/cmRHV76zMMzK+3T2SnXXM7FeNhm2kRf/2EdVPOoMAAggggAACCCCAAAIIIIBATgECQK4JFSAA5DqwRCC3ALBYhQbSYcxQS/qUV6OzHxgu+7d/Zx6SWvg86TF9QsT1kw4hgAACCCCAAAIIIIAAAggg4CxAAMj1QADINWCZQG4BYK0md8nNvdta1q/cGv7ylfdl9TsvOv2cIN2mLZC09IIR11c6hAACCCCAAAIIIIAAAggggIBDgACQa4EAkGvAMoHcAsAbewyXOtdcZlm/cmv48L5DMqNnOxHJMg+5vFUfufKOGyOur3QIAQQQQAABBBBAAAEEEEAAAQJArgFnAV4B5nqwRMB9ABgnPWa+JqkFUy3pk6dGX+zSV04c/ss8LFJfV/Y0Dn5HAAEEEEAAAQQQQAABBBCIHQFWAMbOXOc1UgJArgNLBNwFgIkpxaXfvDmW9MebRt99fras/99i89C4hDTpv+AViY+P9+Z0jkEAAQQQQAABBBBAAAEEEEAg7AIEgGEnj8gGCQAjclrs3yl3AWB62Uvk/nFPRuzgN/+0XhaPHODSv5v7jZRajS6M2D7TMQQQQAABBBBAAAEEEEAAgdgWIACM7fl3jJ4AkOvAEgF3AWD1K1pJywEdLemPN41mZWXJxPvay5nTB8zDK118s7R+pIc3p3MMAggggAACCCCAAAIIIIAAAmEXIAAMO3lENkgAGJHTYv9OuQsAm3Z8VC5t3iiiB7/g0Wdk18YVZh+TU8tJn9nTIrrPdA4BBBBAAAEEEEAAAQQQQCB2BQgAY3funUdOAMh1YImAuwCwywsLpFDxdEv6422jq5Z8LisWjHE5vOO42VK0bAlvq+A4BBBAAAEEEEAAAQQQQAABBMImQAAYNuqIbogAMKKnx76dyxkAFitcVvovmB/xAz51/JRM7nSXSPZps68X3dhRru/UKuL7TgcRQAABBBBAAAEEEEAAAQRiT4AAMPbm3N2ICQC5DiwRyBkAVqzcQLpMGmVJX3xtdFrPgXJ03zrztEKlLpQuE0f6Wg3HI4AAAggggAACCCCAAAIIIBByAQLAkBNHRQMEgFExTfbrZM4A8JImd8h/B3WLioF+OO01+eVTp9WKcSnSZ+6rkpySHBX9p5MIIIAAAggggAACCCCAAAKxI0AAGDtznddICQC5DiwRyBkAtuj8uDS49RpL+uJro7s375D5g7u4nBYNG5j4Ok6ORwABBBBAAAEEEEAAAQQQiH4BAsDon8NgjIAAMBiK1OGzQM4AsN+UV6V4+ZI+12PVCRPbd5bTJ3eazZep2VTueeJBq7pDuwgggAACCCCAAAIIIIAAAgi4FSAA5MJQAQJArgNLBJxvQENvbSkj3n7Hkn742+jrT06Sbb98aJ6emFxc+s2f4291nIcAAggggAACCCCAAAIIIIBASAQIAEPCGnWVEgBG3ZTZo8PON6Cpg56Sbs88FlUD++Xz7+TDKcNd+nzniMlSvlblqBoHnUUAAQQQQAABBBBAAAEEELC3AAGgvefX29ERAHorxXFBFYj2G1BmZqZMbHe3ZGedMF1qXnmn3NKnXVCdqAwBBBBAAAEEEEAAAQQQQACBQASi/fk7kLFz7lkBAkCuBksE7HADmjVgqBz45wfTL7VIdekxdZwlnjSKAAIIIIAAAggggAACCCCAgDsBOzx/M7OBCxAABm5IDX4I2OEG9PmC9+T7JVOdRp8gPWa8IqmFCvghwikIIIAAAggggAACCCCAAAIIBF/ADs/fwVeJvRoJAGNvziNixHa4AR3ee1Bm9NJXfrNN0yta95XGbW6ICGM6gQACCCCAAAIIIIAAAggggIAdnr+ZxcAFCAADN6QGPwTscgN6oXNvOXlksylQuPTF0nnCU36IcAoCCCCAAAIIIIAAAggggAACwRewy/N38GViq0YCwNia74gZrV1uQEsmzJU/V77h5Jog90+aI+kli0SMNR1BAAEEEEAAAQQQQAABBBCIXQG7PH/H7gwGZ+QEgMFxpBYfBexyA9q/Y6/M7t9JRLJMgVpN7pKbe7f1UYTDEUAAAQQQQAABBBBAAAEEEAi+gF2ev4MvE1s1EgDG1nxHzGjtdAOa0edhObz7F9M2OX9Z6TNnesRY0xEEEEAAAQQQQAABBBBAAIHYFbDT83fszmLgIycADNyQGvwQsNMN6Nu3P5WvX33eRaHFg89IjQa1/ZDhFAQQQAABBBBAAAEEEEAAAQSCJ2Cn5+/gqcReTQSAsTfnETFiO92AMjMzZdJ97STrzBHTtnS1q+TepwdFhDWdQAABBBBAAAEEEEAAAQQQiF0BOz1/x+4sBj5yAsDADanBDwG73YAWjhgv239bbkrExeeX3rMXSHK+FD90OAUBBBBAAAEEEEAAAQQQQACB4AjY7fk7OCqxVwsBYITO+ZYtW2TixImydOlS2bZtm6SkpMh5550nd9xxh/Tq1UtSU1MD7vnmzZtlypQpsnz5ctm4caMcO3ZMChYsKLVq1ZLmzZtL9+7dpWTJkgG3464Cu92AtqzdKIue6ucy1Aa395Imd/0nJH5UigACCCCAAAIIIIAAAggggIA3AnZ7/vZmzBxzrgABYAReFUuWLJG2bdvK4cOH3fauRo0aRjBYrVo1v3s/f/586datm5w4cSLXOooWLSoLFy6UZs2a+d1Obifa8QY0+f5ecuroFnPIBYrWlO5TxgbdjgoRQAABBBBAAAEEEEAAAQQQ8FbAjs/f3o6d484KEABG2NXw448/SuPGjY1gLi0tTR555BFp2rSp8d8axs2YMcPosYaA3333nbFiz9fy9ddfy1VXXSVZWVkSHx8v7du3l1tvvVXKli0rW7dulblz54qGkFry588vv/zyi1StWtXXZvI83o43oI9nLpKfP57jNO44affMdClZuUxQ7agMAQQQQAABBBBAAAEEEEAAAW8F7Pj87e3YOY4AMGKvAQ3mVqxYIYmJifLll19Kw4YNXfr63HPPyaBB/24uMWzYMBk+fLjPY7nllluMFYRaXnjhBenZs+c5dTz44IPy/PP/7myrrxxPnjzZ53byOsGON6CjB4/ItO73iWSfNodepV5L+e+grkG1ozIEEEAAAQQQQAABBBBAAAEEvBWw4/O3t2PnOALAiLwGVq1aJZdffrnRN309d+rUqef0U1ft1alTR9atWyfp6emye/duSUpK8mk8+mrvgQMHpFixYrJ371635x46dMioX8ull14q33//vU9teDrYrjeg2Q+OkP1/rzaHn5BcVPrOnWOstKQggAACCCCAAAIIIIAAAgggEG4Buz5/h9sx2tvjFeAImsFHH31URo0aZfTo22+/NcPAnF0cPXq08Wqwlg8//FBuuOEGn0ahrxbrhh+XXXaZrF59NqzKWUmJEiWMgFADx7Vr1/rUhqeD7XoD+vmTVfLx9Cdcht+s61C58LoGnkj4HQEEEEAAAQQQQAABBBBAAIGgC9j1+TvoUDavkAAwgibY8fpvgQIF5ODBg8ZrwO7KN998I40aNTJ+Gjp0qIwYMcKnUdSrV09++OGHPFcA6gYkhQsXNupt1aqVLFq0yKc2PB1s1xuQrtCc2L6DnMnYbxIULV9fOo4d5omE3xFAAAEEEEAAAQQQQAABBBAIuoBdn7+DDmXzCgkAI2iCHSvuLrroIlmzZk2uPdPXd/U1Xi1t2rSR119/3adR6EYiXbv++126KVOmSPfu3c85f+DAgTJmzBjj7x9//LFcf/31PrXh6WA734DefHa6bPr+3bMEcUnSbeo8SUv3fcMWT478jgACCCCAAAIIIIAAAggggEBeAnZ+/mbmvRcgAPTeKqRHnjx50thxV8vNN98s7733Xp7tOV7jveKKK0RXBPpSzpw5I506dZJ58+YZ36bTf2/ZsqWUKVPG2AV4/vz58vbbbxtVPvbYY/LUU0/5Ur1xrN5g8io7duyQBg3+fS1227ZtUr58eZ/biNQTdm/eIfMHa8CabXbxwmYdpFnn1pHaZfqFAAIIIIAAAggggAACCCBgUwECQJtOrI/DIgD0ESxUh+/Zs0dKlixpVH/nnXfKwoUL82yqVKlSxgYggXyfT1/rHTlypPz444/ntNW0aVPRbxL6u/IvLi7Oayq7BYA68Kk9HpRj+/8wDVLSKknvl17w2oQDEUAAAQQQQAABBBBAAAEEEAiGAAFgMBSjvw4CwAiZQw3BKlasaPSmXbt2xuq8vIoeq+ecd955smHDBp9HobsIDx48WD744APJzMw85/x8+fLJbbfdZrwGXK5cOZ/rj/UAcMXCD2TVW66BX+sh46VS3Wo+W3ICAggggAACCCCAAAIIIIAAAv4KEAD6K2ev8wgAI2Q+w7kCcMWKFdKiRQs5dOiQVKpUyXjFt1mzZsZ3BXft2iXvvvuuPP7447J//34pW7asfPTRR1K7dm2fpGL5FWCFyjh5SiZ3bCvZWSdMt3IXXC93DevvkyMHI4AAAggggAACCCCAAAIIIBCIAAFgIHr2OZcAMELmMlzfADx16pSxanD79u1SunRp4/Vf/WfO8uuvv8pll10m2i/dNfi7774LqlQs3IBefuxZ2bnhS9MtLiFN+s5bkOvuzkEFpjIEEEAAAQQQQAABBBBAAAEE/v8b/RUqVDAs7PgJLibZOwECQO+cwnJU8eLFZd++fRLKXYDfeecd49VeLU8//bTxnb/cSpcuXWTmzJnGz7orsfYrWCUWAsANq3+Td8YMciFrfPcDcsVt1waLkXoQQAABBBBAAAEEEEAAAQQQyFMgFp6/uQQ8CxAAejYK2xFXXXWV6Ou5BQoUkIMHD+a6Ukx3/W3UqJHRr6FDh8qIESO87uPo0aPlkUceMY7X7/81b94813OnTp0qPXr0MH7XTUl0c5JglVi5AU3q0FUyTvxjshUqWUe6TBodLEbqQQABBBBAAAEEEEAAAQQQQIAAkGvAowABoEei8B2gq/FGjRplNPjtt9/K5Zdf7rZx5xDvww8/lBtuuMHrTuqmHgMHDjSOX7Jkidxyyy25njtp0iTp27ev8bvuGNyqVSuv2/F0YKwEgEsnL5DfVzjv6BwvHcfPkqJlinsi4ncEEEAAAQQQQAABBBBAAAEEAhaIlefvgKFsXgEBYARN8KpVq8zQr1u3bqIr8HKWrKwsqVOnjuguvunp6bJ7925JSkryehSLFy+W1q1bG8cPGjRInnnmmVzP1eP0eC3ff/+9XHrppV634+nAWLkBHdx9QF7q00FEzpgkNRq1kRb92nsi4ncEEEAAAQQQQAABBBBAAAEEAhaIlefvgKFsXgEBYIRNsOM14MTERPnyyy+lYcOGLj187rnnjOBOy7Bhw2T48OEuv3/++efStGlT42/t27eXOXPmuPyurxaXK1dOjh8/LgULFpSvv/5a6tate46Cvh6sqwM1cNTjt27dKvHx8UHTiqUb0Mx+Q+TQzjWmXWK+UtJn9oygegZtYqgIAQQQQAABBBBAAAEEEEDAVgKx9Pxtq4kL8mAIAIMMGmh1uitv48aN5cSJE5KWlmZs0qGBnv63fodv+vTpRhM1atQwdubVEM+5eAoA9dgnn3zS+HagFm2jT58+0qxZMylSpIjs2rVLdKOQGTNmSGZmpnHM/PnzpW3btoEOzeX8WLoBfffel/LF/Gddxn9zv5FSq9GFQTWlMgQQQAABBBBAAAEEEEAAAQRyCsTS8zezn7sAAWAEXh36bT4N3A4fPuy2dxr+LV26VKpVq3bO794EgNnZ2fLAAw/IhAkTRP89t6KvFo8cOVIeeuihoCvF0g0oK/OMTGjfTrIyz85nySqNpd3ofzdjoSCAAAIIIIAAAggggAACCCAQKoFYev4OlaEd6iUAjNBZ3LJlixHQadCn/2dNTk42Ar82bdpI7969JTU11W3PvQkAHSfqd/1mzpwpX331lWh7+lqwrgjUdq6++mrR7xBq2BiKEms3oNefmizb1i4zKePi8knPl+ZLvgL5Q8FLnQgggAACCCCAAAIIIIAAAggYArH2/M20uxcgAOTKsEQg1m5Af/++WV4b1tvFul6LbnJN2xaW+NMoAggggAACCCCAAAIIIIBAbAjE2vN3bMyq76MkAPTdjDOCIBCLN6AXu/SVE4f/MvVS06tJj2njg6BJFQgggAACCCCAAAIIIIAAAgi4F4jF52+uhXMFCAC5KiwRiMUb0Cdz3pY1H8x08b7n6SlSploFS+aARhFAAAEEEEAAAQQQQAABBOwvEIvP3/afVd9HSADouxlnBEEgFm9Ax48clyld2opkZ5iClS++WVo90iMIolSBAAIIIIAAAggggAACCCCAwLkCsfj8zXVwrgABIFeFJQKxegOaO+gp2bvlW9M8Pild+s2ZK/GJCZbMA40igAACCCCAAAIIIIAAAgjYWyBWn7/tPau+j44A0HczzgiCQKzegH798gdZ9sJQF8GmHR+VS5s3CoIqVSCAAAIIIIAAAggggAACCCDgKhCrz99cB64CBIBcEZYIxOoNKCsrSyZ1uF8yT+0x3YuUvVQ6jXvCknmgUQQQQAABBBBAAAEEEEAAAXsLxOrzt71n1ffREQD6bsYZQRCI5RvQO2NnyYZVbzopJkq3KfMkrWihIMhSBQIIIIAAAggggAACCCCAAAJnBWL5+Zvr4KwAASBXgyUCsXwD2vv3bpn7YGcRyTLtazdtK82732XJXNAoAggggAACCCCAAAIIIICAfQVi+fnbvrPq+8gIAH0344wgCMT6DWhar0FydO9vpmRygfLSZ9bUIMhSBQIIIIAAAggggAACCCCAAAJnBWL9+Ztr4V8BAkCuBEsEYv0GtHLRx/LNGxNc7G9/eKxUvaSmJfNBowgggAACCCCAAAIIIIAAAvYUiPXnb3vOqu+jIgD03YwzgiAQ6zegzIzTMrF9W8nOOmZqlq15rdz9xANB0KUKBBBAAAEEEEAAAQQQQAABBP4ViPXnb66DfwUIALkSLBHgBiTy6tDn5Z8/PjX94+ILSO858yU5JdmSOaFRBBBAAAEEEEAAAQQQQAAB+wnw/G2/OfVnRASA/qhxTsAC3IBE/vrxD3lr9IMulle07iuN29wQsC8VIIAAAggggAACCCCAAAIIIKACPH9zHagAASDXgSUC3ID+ZZ/cqbucOva3OQdpxc6Xbi8+Z8mc0CgCCCCAAAIIIIAAAggggID9BHj+tt+c+jMiAkB/1DgnYAFuQP8SLpu6UH79bIGTZ7y0HztTipcvGbAxFSCAAAIIIIAAAggggAACCCDA8zfXgAoQAHIdWCLADehf9qP7D8u0HveJSKY5D9UvbyUtH+hoybzQKAIIIIAAAggggAACCCCAgL0EeP6213z6OxoCQH/lOC8gAW5AZ/lmDRgqB/75wfxDYr5S0m/uSwH5cjICCCCAAAIIIIAAAggggAACKsDzN9eBChAAch1YIsAN6Cz7d++vkC/mPuMyD7cMGCU1r6hrydzQKAIIIIAAAggggAACCCCAgH0EeP62z1wGMhICwED0ONdvAW5AZ+myMs/IhPvaSdaZw+YfS1e7Su59epDfvpyIAAIIIIAAAggggAACCCCAgArw/M11oAIEgFwHlghwA3Jlf23EBPn7t4/NP8bFp0rvOQskOSXZkvmhUQQQQAABBBBAAAEEEEAAAXsI8Pxtj3kMdBQEgIEKcr5fAtyAXNm2rN0gi57q7/LHhm36SaPWzfzy5SQEEEAAAQQQQAABBBBAAAEEVIDnb64DFSAA5DqwRIAb0Lnskzt1l1PH/jZ/KFSijnSZPNqS+aFRBBBAAAEEEEAAAQQQQAABewjw/G2PeQx0FASAgQpyvl8C3IDOZfvgxVflty9edvohQe6fOFvSSxX1y5iTEEAAAQQQQAABBBBAAAEEEOD5m2tABQgAuQ4sEeAGdC774b0HZUav9iJyxvyxVpO75ObebS2ZIxpFAAEEEEAAAQQQQAABBBCIfgGev6N/DoMxAgLAYChSh88C3IDck83o+6gc3vWz+WNyalnpM3u6z76cgAACCCCAAAIIIIAAAggggIAK8PzNdaACBIBcB5YIcANyz/7NW5/IyoXjXH68/eGxUvWSmpbME40igAACCCCAAAIIIIAAAghEtwDP39E9f8HqPQFgsCSpxycBbkDuuTIzTsvEDm0l+8wx84By518ndw0f4JMvByOAAAIIIIAAAggggAACCCCgAjx/cx2oAAEg14ElAtyAcmd/5fExsuPPz80D4hLSpO+8BZKYmGjJXNEoAggggAACCCCAAAIIIIBA9Arw/B29cxfMnhMABlOTurwW4AaUO9WG1b/JO2MGuRzQpO1D0qDFNV77ciACCCCAAAIIIIAAAggggAACKsDzN9eBChAAch1YIsANKG/2iR26yOkTO8yDCpe+WDpPeMqSuaJRBBBAAAEEEEAAAQQQQACB6BXg+Tt65y6YPScADKYmdXktwA0ob6olE+bKnyvfcDooUbpNmSdpRQt5bcyBCCCAAAIIIIAAAggggAACCPD8zTWgAgSAXAeWCHADypt9/z97ZPaA+0UkyzywznX3yY1d77BkvmgUAQQQQAABBBBAAAEEEEAgOgV4/o7OeQt2rwkAgy1KfV4JcAPyzDSt50A5um+deWBKWiXp/dILnk/kCAQQQAABBBBAAAEEEEAAAQT+X4Dnby4FFSAA5DqwRIAbkGf2rxYuk/+9NdnlwDuGTZQKF1T1fDJHIIAAAggggAACCCCAAAIIIMAmIFwD/y9AAMilYIkAAaBn9oyTp2Ryx7aSnXXCPLhC3eZyx5Denk/mCAQQQAABBBBAAAEEEEAAAQQIALkGCAC5BqwUIAD0Tn/+I6Nl919fmQfHJxaWfnPnSXxigncVcBQCCCCAAAIIIIAAAggggEBMC/D8HdPTbw6eFYBcB5YIcAPyjn3dV2vk/UlDXA6+ttOjcsmNjbyrgKMQQAABBBBAAAEEEEAAAQRiWoDn75iefgJApt9aAW5A3vlnZWXJpA73S+apPeYJRcvXl45jh3lXAUchgAACCCCAAAIIIIAAAgjEtADP3zE9/QSATL+1AtyAvPd/e8xM2bj67bMnxCVJj+kLJLVQAe8r4UgEEEAAAQQQQAABBBBAAIGYFOD5Oyan/ZxB8wow14ElAtyAvGffvWWnzB/URUSyzZMubn6/XNfxdu8r4UgEEEAAAQQQQAABBBBAAIGYFOD5OyannQCQaY8MAW5Avs3DlO4D5PiB9eZJ+QufJz2nT/CtEo5GAAEEEEAAAQQQQAABBBCIOQGev2Nuyt0OmBWAXAeWCHAD8o398/nvyvfvTXc56Z6np0qZauV9q4ijEUAAAQQQQAABBBBAAAEEYkqA5++Ymu5cB0sAyHVgiQA3IN/YTx49Li90bieSfco8sUq9FvLfQd18q4ijEUAAAQQQQAABBBBAAAEEYkqA5++Ymm4CQKY7sgS4Afk+H3MGPin7tv7PPDEhuaj0nTtH4uPjfa+MMxBAAAEEEEAAAQQQQAABBGJCgOfvmJhmj4NkBaBHIg4IhQA3IN9Vf/5klXw8/QmXE2/sMVzqXHOZ75VxBgIIIIAAAggggAACCCCAQEwI8PwdE9PscZAEgB6JOCAUAtyAfFfNysqSife1lzOnD5gnF6/cUNo/85jvlXEGAggggAACCCCAAAIIIIBATAjw/B0T0+xxkASAHok4IBQC3ID8U108aopsXrP07MlxKdLrpQWSr0B+/yrkLAQQQAABBBBAAAEEEEAAAVsL8Pxt6+n1enAEgF5TcWAwBbgB+ae5/c+tsvDxni4nX9ayh1x9783+VchZCCCAAAIIIIAAAggggAACthbg+dvW0+v14AgAvabiwGAKcAPyX/OFLn3k5OFNZgUFitaU7lPG+l8hZyKAAAIIIIAAAggggAACCNhWgOdv206tTwMjAPSJi4ODJcANyH/J5S8tlp8+mv1/7N0HdFRVt8DxnRBCr9IUEBSkKCCKSlNAQUERlE4goUNogSQovYt0CCH0hBIIoSNIEQQVAT+RIggioogiIEVq6CHlrTs+bjIkkElm5s69d/6z1lvvkbn37H1+e77z1tnfLckG8JD2U+ZLgWKFMj4oZyKAAAIIIIAAAggggAACCJhSgP23Kcua7knRAEw3GSc4QoAFKOOKN6/dkLmMniPuAAAgAElEQVTd24kk3lcHea5qM2kc3DHjg3ImAggggAACCCCAAAIIIICAKQXYf5uyrOmeFA3AdJNxgiMEWIDsU1wQPEKunj2gDuKVpZAELIoQT09P+wbmbAQQQAABBBBAAAEEEEAAAVMJsP82VTkzPBkagBmm40R7BFiA7NETObB5t+yIHG81SMPAsVKueiX7BuZsBBBAAAEEEEAAAQQQQAABUwmw/zZVOTM8GRqAGabjRHsEWIDs0RNJiIuX0PZ+khAXow5UuPQb4vvpAPsG5mwEEEAAAQQQQAABBBBAAAFTCbD/NlU5MzwZGoAZpuNEewRYgOzR++/cFaOny5mjX6oDeXhml96LosQ7i7f9gzMCAggggAACCCCAAAIIIICAKQTYf5uijHZPggag3YQMkBEBFqCMqFmfc+rIH7J6TF+rP1Zr3kdqtnjH/sEZAQEEEEAAAQQQQAABBBBAwBQC7L9NUUa7J0ED0G5CBsiIAAtQRtRSnjOjUw+5d+u0+kWugi9ItxkTHDM4oyCAAAIIIIAAAggggAACCBhegP234UvokAnQAHQII4OkV4AFKL1iqR+/ZfYyObpjabIvPaVz6ELJW+QJxwRgFAQQQAABBBBAAAEEEEAAAUMLsP82dPkcljwNQIdRMlB6BFiA0qP16GNjLl2T8F7tRSRePajcG62lYW9fxwRgFAQQQAABBBBAAAEEEEAAAUMLsP82dPkcljwNQIdRMlB6BFiA0qP1+GMj+gyW6xcOqwd5Z39KAhbOc1wARkIAAQQQQAABBBBAAAEEEDCsAPtvw5bOoYnTAHQoJ4PZKsACZKtU2sftWfe1fLdsqtWBvuPmSeFnn0r7ZI5AAAEEEEAAAQQQQAABBBAwtQD7b1OX1+bJ0QC0mYoDHSnAAuQ4zbjY+xLarqVI4n110Lc6DZaX6tdwXBBGQgABBBBAAAEEEEAAAQQQMKQA+29Dls3hSdMAdDgpA9oiwAJki5Ltx4S26yBx9y6pJ7xYv6PU69TM9gE4EgEEEEAAAQQQQAABBBBAwJQC7L9NWdZ0T4oGYLrJOMERAixAjlBMGmN292C5ffU39Q8lXnxPmg/u6dggjIYAAggggAACCCCAAAIIIGA4AfbfhiuZUxKmAegUVgZNS4AFKC2h9H2/eMBY+fev/6kn5S/2qnScMiJ9g3A0AggggAACCCCAAAIIIICA6QTYf5uupBmaEA3ADLFxkr0CLED2Clqf/9mkcDm5f736x2x5npWe86Y7NgijIYAAAggggAACCCCAAAIIGE6A/bfhSuaUhGkAOoWVQdMSYAFKSyh93+9Y8rkc2DhPPSlT5nwSGLUkfYNwNAIIIIAAAggggAACCCCAgOkE2H+brqQZmhANwAyxcZK9AixA9gpan3/km/3y5ZyRyf6YSYKWrhVPr0yODcRoCCCAAAIIIIAAAggggAAChhJg/22ocjktWRqATqNl4McJsAA59vdx8a9zsmRAV6tB/SaES6GSTzo2EKMhgAACCCCAAAIIIIAAAggYSoD9t6HK5bRkaQA6jZaBaQBq9xtIiIuXkLZNRSReDfpO95FS8c1XtEuCSAgggAACCCCAAAIIIIAAAroToAGou5K4JCEagC5hJygLkON/A9N8/ST+/lV14Crvd5M6fo0dH4gREUAAAQQQQAABBBBAAAEEDCPA/tswpXJqojQAncrL4I8SYAFy/G9jVrc+cuf6SXXgZ1/5QJp8bH1bsOOjMiICCCCAAAIIIIAAAggggICeBdh/67k62uVGA1A7ayIlE2ABcvzPYWG/UXLlzD514IIla0i7CYMdH4gREUAAAQQQQAABBBBAAAEEDCPA/tswpXJqojQAncrL4I8SYAFy/G9j9dhZcuqnzerA2fOVkR5zpjo+ECMigAACCCCAAAIIIIAAAggYRoD9t2FK5dREaQA6lZfBaQBq9xvYvmCN/LR1oRrQK0sB6bt4kXYJEAkBBBBAAAEEEEAAAQQQQEB3AjQAdVcSlyREA9Al7ARlAXL8b+Dg1v/J1wvGJg3skVmCoteIp6en44MxIgIIIIAAAggggAACCCCAgCEE2H8bokxOT5IGoNOJCZCaAAuQ438XZ4+fkuXDe1kN3Dk0UvIWecLxwRgRAQQQQAABBBBAAAEEEEDAEALsvw1RJqcnSQPQ6cQEoAGozW8g9l6shLVrJiKJasCGfcdKuRqVtEmAKAgggAACCCCAAAIIIIAAAroToAGou5K4JCEagC5hJygLkHN+AyFt2khCfIw6+GtNeskbrd91TjBGRQABBBBAAAEEEEAAAQQQ0L0A+2/dl0iTBGkAasJMkIcFWICc85uY0bmn3Lv5tzr4c9WaSeOgjs4JxqgIIIAAAggggAACCCCAAAK6F2D/rfsSaZIgDUBNmAlCA1Cb38D8oGFy7Z+DarDCpd8Q308HaBOcKAgggAACCCCAAAIIIIAAAroToAGou5K4JCEagC5hJygLkHN+AytGT5czR79UB89Z4HnxnznROcEYFQEEEEAAAQQQQAABBBBAQPcC7L91XyJNEqQBqAkzQR4WYAFyzm9iy5zlcvSbKHXwzFmLSJ/ICOcEY1QEEEAAAQQQQAABBBBAAAHdC7D/1n2JNEmQBqAmzAShAajNb2Dvhh2yK2qyGszDI6sEL1+tTXCiIIAAAggggAACCCCAAAII6E6ABqDuSuKShGgAuoSdoCxAzvkN/PXT77JmbJDV4P5zlknOfLmcE5BREUAAAQQQQAABBBBAAAEEdC3A/lvX5dEsORqAmlETKLkAC5Bzfg93b96WmZ1bWg3+wceTpPQr5Z0TkFERQAABBBBAAAEEEEAAAQR0LcD+W9fl0Sw5GoCaUROIBqA2v4GpPq0kMeGWGqxGq0Cp3rSeNsGJggACCCCAAAIIIIAAAgggoCsBGoC6KofLkqEB6DJ69w7MAuS8+od19JfY22fVAOXeaC0Ne/s6LyAjI4AAAggggAACCCCAAAII6FaA/bduS6NpYjQANeW2PdipU6dk+vTpsmnTJjl9+rRkyZJFSpUqJS1btpRevXpJ9uzZbR8sjSO3b98uUVFRsnv3bjl37px4eXlJ4cKFpVKlSlK3bl3x8/OTnDlzOiyeMhALkEM5rQYLDxgkMRePqH97qtxb4jMq2HkBGRkBBBBAAAEEEEAAAQQQQEC3Auy/dVsaTROjAagpt23BNmzYIL6+vhITE5PqCWXKlLE0BkuXLm3bgI846urVq9KxY0dZv379Y8c5ePCgVK5c2a5YD5/MAuRQTqvBoodPkXPHv1H/lrtwJek6fazzAjIyAggggAACCCCAAAIIIICAbgXYf+u2NJomRgNQU+60gynNtpo1a8qdO3csV90NGjRI3nzzTcu/ly9fLuHh4ZZBlCbg/v37JVeujL3d9fr165ar+w4cOGAZr0mTJtK8eXPLVYaZMmWyXHX47bffypo1a0RpSNIATLt2ejli04wo+XXXcjUd7+xFJWDhXL2kRx4IIIAAAggggAACCCCAAAIaCtAA1BBbx6FoAOqsOLVq1ZJdu3ZZbsPduXOnVK9e3SrDSZMmSf/+/S1/GzFihIwcOTJDM2jXrp0sWbLEcmvxypUrpXHjxqmOk5iYKPHx8ZZ8HPlhAXKkpvVY36/ZLv9bOU39o0emHBIcvcJ5ARkZAQQQQAABBBBAAAEEEEBAtwLsv3VbGk0TowGoKffjg+3du1eqVq1qOcjf31/mzJmT4oSEhASpUKGCHDt2TPLmzSsXL16UzJkzp2sWyrP+3njjDcs5SkPxo48+Stf5jjiYBcgRiqmPcWLfL7J+8n9N4gefXgtWSdYc2ZwXlJERQAABBBBAAAEEEEAAAQR0KcD+W5dl0TwpGoCakz864ODBg2XcuHGWA/bs2aM2Ax8+Y/z48ZZbg5XP1q1b5Z133knXLFq3bi0rVqyQPHnyyPnz5yVr1qzpOt8RB7MAOUIx9TFuXomRuT3aWH3ZfGiolKhYynlBGRkBBBBAAAEEEEAAAQQQQECXAuy/dVkWzZOiAag5+aMDPrj9N0eOHHLt2rVH3nb7/fffS40aNSwDDR8+XEaNGmXzLGJjYy2Nv7t371qe+bdq1SrLucptvv/884/lfxcpUsTpTUEWIJtLlqEDp7RuJpJ4Tz23lm9/ebVRrQyNxUkIIIAAAggggAACCCCAAALGFWD/bdzaOTJzGoCO1LRzrIIFC8qlS5fkxRdflEOHDj1yNOXtvfnz57d836JFC8sz/Gz97Nu3T1577TXL4UrjMDAw0NJEjIyMtDQdlY+3t7cozcghQ4ZInTp1bB06XcexAKWLK90HT2/fWe7fvaCeV+EtP6nv3yrd43ACAggggAACCCCAAAIIIICAsQXYfxu7fo7KngagoyTtHEe5Ii9btv+e0dawYUPZuHHjY0dU3hB869YtqVatmihXBNr6URp9HTp0sByuvEQkOjpafv/991RP9/DwsNySPGDAAFuHV49TFpjHfc6dO6c2IpU3DhcrVizdMTjh0QJze34sNy8fUw8oXqG+tBwWABkCCCCAAAIIIIAAAggggICbCdAAdLOCP2K6NAB18jv4999/pVChQpZsWrVqJcuXL39sZoULF7a8AER5IciRI0dsnkVISIgEBwdbjlee/ac0Hhs0aCCjR4+WSpUqSUxMjKxZs0YGDhwo169ftxy3bt06+eCDD2yOoRyoNA9t/dAAtFXK9uOiBk+QC3/sUk/I99TL0ilktO0DcCQCCCCAAAIIIIAAAggggIApBGgAmqKMdk+CBqDdhI4ZQGmCPf3005bB/Pz8ZPHixY8dWDlWOadUqVJy4sQJm5MYM2aMDBs2TD3+7bffli+++EIyZcpkNYbypuDatWuL8tbh8uXLy9GjR9PV1KMBaHNJnHLg51MXyu8/rFHHzpqrhPSKmOmUWAyKAAIIIIAAAggggAACCCCgXwEagPqtjZaZ0QDUUvsxsbS6AnDy5Mny8ccfq5n8+OOP8tJLL6WamfJ8wdWrV1u+++mnnyxXCNr64RZgW6Wcc9zOZZtl37pZ6uCeXrklaGm0c4IxKgIIIIAAAggggAACCCCAgG4FaADqtjSaJkYDUFPuRwfT6hmAc+fOle7du1sSUV46otxG/KhPRESEdO3a1fK18n937tzZYVosQA6jTHWgY7sPyeawocm+85C+S9aKl3dm5wZmdAQQQAABBBBAAAEEEEAAAV0JsP/WVTlclgwNQJfRpwxcoEABuXz5slPfArx582bLS0aUj3Lln3IF4KM+W7dutTwfUPkoLwNRngvoqA8LkKMkUx/nyrlLsjDwv5e9PPi0/mSWFC3z323mfBBAAAEEEEAAAQQQQAABBNxDgP23e9Q5rVnSAExLSMPva9WqJbt27ZIcOXLItWvXxMvLK9Xoylt/a9SoYflu+PDhMmrUKJuzPHXqlJQsWdJyvHJLr3Jr76M+yZuFkyZNko8++sjmOGkdyAKUlpB93yvPbgzxaSoicepAdTsPkcrvVLdvYM5GAAEEEEAAAQQQQAABBBAwlAD7b0OVy2nJ0gB0Gm36Bx48eLDlSjvls2fPHqlatWqqg4wfP14GDRpk+U65Su+dd95JV7ASJUrI33//Lblz57Y0Gh/1wo6wsDDp06ePZezo6Gjx8fFJV5zHHcwC5DDKRw4U6tdB4mIvqd9Xrt9J6nZSmoJ8EEAAAQQQQAABBBBAAAEE3EWA/be7VPrx86QBqKPfwd69e9Wmn7+/v8yZMydFdsqVXRUqVJBjx45J3rx5Lc/wy5w5fc91Cw4OlpCQEMvY27Ztk3r16qWq8Oabb8qOHTss3ykNw+LFiztMiwXIYZSPHGh29yC5ffV39fsSlRtK80E9nB+YCAgggAACCCCAAAIIIIAAAroRYP+tm1K4NBEagC7lTxn8wW3Ayu2/O3fulOrVrW/ZVG7F7d+/v+XEESNGyMiRI60GURp2SuNO+bRv314WLVqUIojSzCtbtqwoLx6pWLGi7N6923I1YPJPVFSU+Pn5Wf6kPDNw48aNDpViAXIoZ6qDRfYfI5dO7VG/e6L4a9Jh8nDnByYCAggggAACCCCAAAIIIICAbgTYf+umFC5NhAagS/lTBj948KDUrFlT7ty5Izlz5hTltmCloaf8e/ny5TJv3jzLSWXKlJH9+/dLrly5rAaxpQGonJC8kag0AwcMGGB5JmBMTIysXbtWZs+eLfHx8ZbGoBLnueeec6gUC5BDOVMdbO3EefLngc/V77LlKSU954U6PzAREEAAAQQQQAABBBBAAAEEdCPA/ls3pXBpIjQAXcqfevANGzaIr6+vpRmX2kdp/m3atElKly6d4mtbG4DKicpzBCdMmCCJiYmpxilUqJCsW7cuxVWIjiBjAXKE4uPH+GbxevlxU7h6UKbM+SUwarHzAxMBAQQQQAABBBBAAAEEEEBANwLsv3VTCpcmQgPQpfyPDq68rTc0NNTS6FP+w+rt7W1p+LVo0UJ69+4t2bNnT/Xk9DQAlQGUNworV/spbx8+d+6cZM2a1XJ1YePGjSUgIEDy5MnjFCEWIKewWg16+Ot9sm1u8jdEZ5KgpWvF0yuT84MTAQEEEEAAAQQQQAABBBBAQBcC7L91UQaXJ0ED0OUlcM8EWICcX/cLJ/+RqEHdrAL5TYyQQiWKOD84ERBAAAEEEEAAAQQQQAABBHQhwP5bF2VweRI0AF1eAvdMgAXI+XVPiIuXkLZNRCRBDVa/x0ipUOcV5wcnAgIIIIAAAggggAACCCCAgC4E2H/rogwuT4IGoMtL4J4JsABpU/cQX19JuH9NDValkb/U8W2kTXCiIIAAAggggAACCCCAAAIIuFyA/bfLS6CLBGgA6qIM7pcEC5A2NZ/VtY/ciTmpBnv2lQ+lycddtAlOFAQQQAABBBBAAAEEEEAAAZcLsP92eQl0kQANQF2Uwf2SYAHSpuYL+42SK2f2qcEKPlND2o0frE1woiCAAAIIIIAAAggggAACCLhcgP23y0ugiwRoAOqiDO6XBAuQNjVf9elM+fvwF2qwHPnKSPc5U7UJThQEEEAAAQQQQAABBBBAAAGXC7D/dnkJdJEADUBdlMH9kmAB0qbm2yJWy+Fti9RgXlkKSt/FC7UJThQEEEAAAQQQQAABBBBAAAGXC7D/dnkJdJEADUBdlMH9kmAB0qbmB774TnYsGpcUzCOzBEWvEU9PT20SIAoCCCCAAAIIIIAAAggggIBLBdh/u5RfN8FpAOqmFO6VCAuQNvU+8+tfsmJEb6tgnacvlryF82uTAFEQQAABBBBAAAEEEEAAAQRcKsD+26X8uglOA1A3pXCvRFiAtKl37L1YCWvXTEQS1YANA8dKueqVtEmAKAgggAACCCCAAAIIIIAAAi4VYP/tUn7dBKcBqJtSuFciLEDa1TukjY8kxN9QA1ZtFiCvt6yvXQJEQgABBBBAAAEEEEAAAQQQcJkA+2+X0esqMA1AXZXDfZJhAdKu1jM695R7N/9WA5ap3lwaBXbQLgEiIYAAAggggAACCCCAAAIIuEyA/bfL6HUVmAagrsrhPsmwAGlX64i+Q+X6+UNqwCKla0nbT/trlwCREEAAAQQQQAABBBBAAAEEXCbA/ttl9LoKTANQV+Vwn2RYgLSr9YpRoXLml21qwFwFXpBuMydolwCREEAAAQQQQAABBBBAAAEEXCbA/ttl9LoKTANQV+Vwn2RYgLSr9ZbZy+TojqVqwMzZnpQ+i8K1S4BICCCAAAIIIIAAAggggAACLhNg/+0yel0FpgGoq3K4TzIsQNrVeu/6HbIrerIa0MMzmwQvW6VdAkRCAAEEEEAAAQQQQAABBBBwmQD7b5fR6yowDUBdlcN9kmEB0q7Wf/70m6wdG2wV0H/uMsmZN5d2SRAJAQQQQAABBBBAAAEEEEDAJQLsv13CrrugNAB1VxL3SIgFSLs6375xW2Z3aWkV8IP+k6R0lfLaJUEkBBBAAAEEEEAAAQQQQAABlwiw/3YJu+6C0gDUXUncIyEWIG3rPNWnpSQm3FaD1mgdJNWb1NU2CaIhgAACCCCAAAIIIIAAAghoLsD+W3NyXQakAajLspg/KRYgbWsc1rGbxN7+Rw1avpaPvNerrbZJEA0BBBBAAAEEEEAAAQQQQEBzAfbfmpPrMiANQF2WxfxJsQBpW+PwgIESc/FnNWjR8nWl9cggbZMgGgIIIIAAAggggAACCCCAgOYC7L81J9dlQBqAuiyL+ZNiAdK2xtHDJsu533aoQfMUriRdpo/VNgmiIYAAAggggAACCCCAAAIIaC7A/ltzcl0GpAGoy7KYPykWIG1rvHH6Yjn+3Uo1qHeOYhKwYI62SRANAQQQQAABBBBAAAEEEEBAcwH235qT6zIgDUBdlsX8SbEAaVvj71Z9KXtWT1eDemTKKcHRy7VNgmgIIIAAAggggAACCCCAAAKaC7D/1pxclwFpAOqyLOZPigVI2xr/tveobJgywCpo74VrJEv2LNomQjQEEEAAAQQQQAABBBBAAAFNBdh/a8qt22A0AHVbGnMnxgKkbX1jLl+X8J7Wb/1tMXy6PP3Cs9omQjQEEEAAAQQQQAABBBBAAAFNBdh/a8qt22A0AHVbGnMnxgKkfX2ntG4mknhPDVzbr7+88n4t7RMhIgIIIIAAAggggAACCCCAgGYC7L81o9Z1IBqAui6PeZNjAdK+tqHtO0vc3Qtq4Ap120n9bi21T4SICCCAAAIIIIAAAggggAACmgmw/9aMWteBaADqujzmTY4FSPvazu35kdy8/KsauHiF+tJyWID2iRARAQQQQAABBBBAAAEEEEBAMwH235pR6zoQDUBdl8e8ybEAaV/bJYPHy8U/dquB8xWtIp2mjtI+ESIigAACCCCAAAIIIIAAAghoJsD+WzNqXQeiAajr8pg3ORYg7Wu7fsoCObF3rRo4a66S0itihvaJEBEBBBBAAAEEEEAAAQQQQEAzAfbfmlHrOhANQF2Xx7zJsQBpX9ud0Ztl3/pZamBPrzwStHSp9okQEQEEEEAAAQQQQAABBBBAQDMB9t+aUes6EA1AXZfHvMmxAGlf26O7DsqWGcOSBfaQvkvWipd3Zu2TISICCCCAAAIIIIAAAggggIAmAuy/NWHWfRAagLovkTkTZAHSvq6XzlyUyH6drAK3+XS2PFm6uPbJEBEBBBBAAAEEEEAAAQQQQEATAfbfmjDrPggNQN2XyJwJsgBpX9eEhAQJ8WkqInFq8Lpdhkrlt6tpnwwREUAAAQQQQAABBBBAAAEENBFg/60Js+6D0ADUfYnMmSALkGvqOs2vvcTHXlaDV27QWep2bOKaZIiKAAIIIIAAAggggAACCCDgdAH2304nNkQAGoCGKJP5kmQBck1NZ/sHye1rv6vBS770vjQb2N01yRAVAQQQQAABBBBAAAEEEEDA6QLsv51ObIgANAANUSbzJckC5JqaRvYfI5dO7VGDP1H8NekwebhrkiEqAggggAACCCCAAAIIIICA0wXYfzud2BABaAAaokzmS5IFyDU1XTNhrvz14wY1ePY8paTHvFDXJENUBBBAAAEEEEAAAQQQQAABpwuw/3Y6sSEC0AA0RJnMlyQLkGtq+tWidXLoiwg1eCbv/BK4ZLFrkiEqAggggAACCCCAAAIIIICA0wXYfzud2BABaAAaokzmS5IFyDU1PfzVXtk2b3Sy4F4StGyteHp6uiYhoiKAAAIIIIAAAggggAACCDhVgP23U3kNMzgNQMOUylyJsgC5pp7nT56VpYP8rYK3n7JAChQr5JqEiIoAAggggAACCCCAAAIIIOBUAfbfTuU1zOA0AA1TKnMlygLkmnrGxcVJaNumIpKgJlC/5yipULuKaxIiKgIIIIAAAggggAACCCCAgFMF2H87ldcwg9MANEypzJUoC5Dr6hnS1lcS4q6pCVRp1F3q+L7vuoSIjAACCCCAAAIIIIAAAggg4DQB9t9OozXUwDQADVUu8yTLAuS6Ws7s0lvu3vhLTaDUqx/Khx91cV1CREYAAQQQQAABBBBAAAEEEHCaAPtvp9EaamAagIYql3mSZQFyXS0XBo+UK2f3qwkUeqam+I0f5LqEiIwAAggggAACCCCAAAIIIOA0AfbfTqM11MA0AA1VLvMkywLkulquGjND/j6yRU0gR/6y0n32FNclRGQEEEAAAQQQQAABBBBAAAGnCbD/dhqtoQamAWiocpknWRYg19Xyy/BVcmR7pJqAV5aC0nfxQtclRGQEEEAAAQQQQAABBBBAAAGnCbD/dhqtoQamAWiocpknWRYg19XywObdsiNyfFICHt4SFL1aPD09XZcUkRFAAAEEEEAAAQQQQAABBJwiwP7bKayGG5QGoOFKZo6EWYBcV8fTv5yUlaP6WCXQOWyJ5C2Uz3VJERkBBBBAAAEEEEAAAQQQQMApAuy/ncJquEFpABquZOZImAXIdXWMvXtPwto3s0rg/aBxUrZaRbuT2r5gjRz/3zeS64mnpHG/HjQV7RZlAAQQQAABBBBAAAEEEEDAPgH23/b5meVsGoBmqaTB5sEC5NqChbTxkYT4G2oSVZsFyOst69uV1KEvv5ev5n+qjvFUubfEZ1SwXWNyMgIIIIAAAggggAACCCCAgH0C7L/t8zPL2TQAzVJJg82DBci1BZvRqYfcu3VaTaJM9RbSKLC9XUnN7h4kt6/+ro7hlaWQ9F28wK4xORkBBBBAAAEEEEAAAQQQQMA+Afbf9vmZ5WwagGappMHmwQLk2oJF9B0q188fUpMo8lxtaTvm4wwndeLAMVk/0fp8D4+sErx8dYbH5EQEEEAAAQQQQAABBBBAAAH7Bdh/229ohhFoAJqhigacAwuQa4u2fOQ0OXtsu5pEroIvSLcZEzKc1KKPRsvl03tTnN8jfIVkz50jw+NyIgIIIIAAAggggAACCCCAgH0C7L/t8zPL2TQAzVJJg2bX4m0AACAASURBVM2DBci1BftiVrT88m20mkTmbE9Kn0XhGUrq0pmLEtmvq4jEpzi/+dBpUqJi6QyNy0kIIIAAAggggAACCCCAAAL2C7D/tt/QDCPQADRDFQ04BxYg1xbth/XfyO7oKWoSHp7ZJHjZqgwltXLMDDl9ZEuq59ZpP1CqvPd6hsblJAQQQAABBBBAAAEEEEAAAfsF2H/bb2iGEWgAmqGKBpwDC5Bri3by4HH5bHw/qyQycrvu3Zu3ZVbX9pKYcCfVCb1Yv6PU69TMtZMlOgIIIIAAAggggAACCCDgxgLsv924+MmmTgOQ34FLBFiAXMKuBr0dc0tmd21llUSTAVPk2ZfLpiuxLXOWy9Fvoh55TsmXG0mzAf7pGpODEUAAAQQQQAABBBBAAAEEHCfA/ttxlkYeiQagkatn4NxZgFxfvKk+Layu3KvpEyzVPnzL5sQS4uJlesdOEh97+ZHnFCxZQ9pNGGzzmByIAAIIIIAAAggggAACCCDgWAH23471NOpoNACNWjmD580C5PoCTu/QVe7fOacm8nztNvJuzzY2J/b9Z1/J/5aHWB2fJUdxuXfrtPq3nE+UE/9Zk20ekwMRQAABBBBAAAEEEEAAAQQcK8D+27GeRh2NBqBRK2fwvFmAXF/A8N4DJebfn9VEipavJ61HBtqc2KyufeROzEn1eK8sBaVczQby89dL1L9lzlpE+kRG2DwmByKAAAIIIIAAAggggAACCDhWgP23Yz2NOhoNQKNWzuB5swC5voBLh02W87/tUBPJU/hF6TL9U5sSO77niGwMGWR1bIW67SRf4UKyKzrpij8Pz+wSvGylTWNyEAIIIIAAAggggAACCCCAgOMF2H873tSII9IANGLVTJAzC5Dri7ghNFJ++98qNZEsOYpJ7wVzbEpsQdBwufrPj+qxHp45pNf8xXL62ElZP/FjqzF6LVglWXNks2lcDkIAAQQQQAABBBBAAAEEEHCsAPtvx3oadTQagEatnMHzZgFyfQF3r9wqP6wJS2riZcopwdHL00zswsl/JGpQdxFJUI8tUbmhNB/UQ2IuX5fwnm2txmg5coYUL18yzXE5AAEEEEAAAQQQQAABBBBAwPEC7L8db2rEEWkAGrFqJsiZBcj1RUztNt6AyDXinTXLY5NbPmqanP1le7JjvKRjSLjkf6qgJCQkSEibZiKJ99Xv63YeIpXfqe76CZMBAggggAACCCCAAAIIIOCGAuy/3bDoqUyZBiC/A5cIsAC5hN0qaMylaxLey9fqby1HTJfizz/7yORux9ySOd3aS2LiXfWYAiWqSfuJQ9V/T/NrL/Gxl9V/v/ReV3mr/QeunzAZIIAAAggggAACCCCAAAJuKMD+2w2LTgOQoutFgAVIH5WY0rqpSGKsmkyd9gOlynuvPzK5TTOi5Ndd1rcJNx08VZ55sYx6zqxufeXO9T/Ufz/7yofS5OMu+pgwWSCAAAIIIIAAAggggAACbibA/tvNCv6I6XIFIL8DlwiwALmEPUXQ0HadJO7eRfXvypt863drmWpycXFxMqNDR4m/f1X9Pkf+stJ99hSr4xcGj5QrZ/erfytU6nXxGztQHxMmCwQQQAABBBBAAAEEEEDAzQTYf7tZwWkAUnA9CbAA6aMac3r0k1tXjqvJFK/YQFoO7Z1qcg+/NEQ5qE6HQVLl3ZpWx6/8JExO/7xV/VuuAi9It5kT9DFhskAAAQQQQAABBBBAAAEE3EyA/bebFZwGIAXXkwALkD6qsWTgOLn453dqMvmKVpFOU0elmtyMzj3l3s2/1e8yZy0ivRfOE09PT6vjv5i1TH75dqn6N+/sT0nAwnn6mDBZIIAAAggggAACCCCAAAJuJsD+280KTgOQgutJgAVIH9VYNzlC/ti3Tk0ma66S0itiRorkju78UbbMHG7198oNOkvdjk1SHPv92u3yvxXT1L97ZMopwdHWzw3Ux+zJAgEEEEAAAQQQQAABBBAwvwD7b/PX2JYZ8gxAW5Q4xuECLEAOJ83QgN8u3ST7P5+tnuvplVeClkalGCuizxC5fuEnq6Ze7wWR4p01S4pjf9v7s2yYYv3Mv4DFa8U7i3eGcuQkBBBAAAEEEEAAAQQQQACBjAuw/864nZnOpAFopmoaaC4sQPooVsor+zyl79K14uXlpSZ47sRpiR7SU0QS1b89+8oH0uTjrqlO4tr5yzK/b3ur79p8OlueLF1cH5MmCwQQQAABBBBAAAEEEEDAjQTYf7tRsR8zVRqA/A5cIsAC5BL2FEEvnbkokf06PdSsmyNPli6m/i162GQ599uOpGM8Mkvn6Qskb6F8qU4iISFBQnyaikic+v3b/iOk0luv6mPSZIEAAggggAACCCCAAAIIuJEA+283KjYNQIqtNwEWIH1UJLVmXb2uw+TFelUtCd68EiNze3YQSYxVEy5U6nXxG2t9i+/Ds5nm6yfx96+qf67SqLvU8X1fH5MmCwQQQAABBBBAAAEEEEDAjQTYf7tRsWkAUmy9CbAA6aci0/zaSXzsFTWhyu92kbodPrT8+/OQhfL7njVWybYcMV2KP//sYycws0tvuXvjL/WY56o2k8bBHfUzaTJBAAEEEEAAAQQQQAABBNxEgP23mxQ6jWlyCzC/A5cIsAC5hD3VoLP9A+X2tRPqdyVfbiTNBvhLXOx9CevYQRLirqvf5Sr4gnSbMSHN5OcHDZNr/xxUjyvyXG1pO+bjNM/jAAScLaBc9ar8T/LnXDo7JuMjgAACCCCAAAIIIOBKAfbfrtTXT2wagPqphVtlwgKkn3Iv+vgTufz3D2pCTzxdVTpMGiY7ojbKgQ1zrBJ9u9twqVT3tTSTXz5qmpz9Zbt6XO5CFaVr2Lg0z+MABJwpsGbcbPnr0Bbx9MohdTsH8VxKZ2IzNgIIIIAAAggggIBuBNh/66YULk3EMA3A+/fvy++//27BKlWqlGTJksUK7u7duzJkyBBZuXKlXLp0SZ555hnp0aOHBAQEuBSY4KkLsADp55exZvwc+evgRjWh7HlLi//sqTKzcw+JvX1W/bt39qLSa/5s8fT0TDP5TTOi5Nddy9XjsuQoJr0XWDcT0xyEAxBwoMCZX/+SFSN6qyN6ZSkoAYvm2/R7dmAaDIUAAggggAACCCCAgOYC7L81J9dlQMM0AJXGno+Pj+TPn1+UH+/DDcB3331XvvzyS0lMTFShPTw8LE3AGTNm6BLfnZNiAdJP9b9a+Jkc2jJfTSiT9xPyVodesm3eaKsk0/Mij+9WfSl7Vk9Xz/fMlEuCopfpZ9Jk4nYCu1dulR/WhFnNu8nAKfLsS2XdzoIJI4AAAggggAACCLiXAPtv96r3o2ZrmAZg586dZeHChaL87/DwcKv5bNq0SRo1aiRKw69o0aLy6quvyt69e+Xs2bOWv+3atUtq1KhBxXUkwAKkn2Ic2rZHvooYkywhL8lVoKzcuHQ0qYHnlUcCFi4SL+/MNiX+6/8Oy6bQwcmO9ZC+S9bafL5NQTgIgXQIfDErWn75NtrqjGeqNJam/bulYxQORQABBBBAAAEEEEDAeALsv41XM2dkbJgG4EsvvSSHDx+WyMhI8fX1tbJo1qyZfPbZZ1K2bFlL4y9Xrlxy/fp1S9Pv119/lfbt28uCBQuc4ceYGRRgAcognBNOO3fijEQP6f7YkZ+r1kwaB9n+Ft9LZy5KZL9OVmP6jpsnhZ99ygkzYEgE0hZYOWaGnD6yxepA7xzFJIBb09PG4wgEEEAAAQQQQAABQwuw/zZ0+RyWvGEagMqVfefPn5fvvvtOqlWrpgIob3NUbgu+ceOGhIWFSc+ePdXvZs+eLb169bI0Bo8dO+YwNAayX4AFyH5DR40QFxcnoW2bikhC6kN6eIv/rEWSM39um0MmxMVLiGXMePWc+j1HSYXaVWwegwMRcKRAZP8xcunUnhRDtpsUIQWfLuLIUIyFAAIIIIAAAggggICuBNh/66ocLkvGMA1A5Zl/SqPixx9/lBdffFEFU/79yiuvWG71PXnypJQoUUL9Trn1t3bt2pI9e3a5efOmy5AJnFKABUhfv4qQtm0lIe56qkk9WaaOtPnko3QnHNLWVxLirqnnvfphT6nl8166x+EEBBwhMLfnx3Lzcsr/IuiFN32lQffWjgjBGAgggAACCCCAAAII6FKA/bcuy6J5UoZpAObOnVtu3bpledFH3bp1Vahp06ZJcHCwFC9eXE6dOmUFeOjQIXn55ZctLwy5c+eO5rgEfLQAC5C+fh0zu/SWuzf+SiUpD2nz6Sx5snTxdCc8o3MvuXcz6T+TZaq3kEaB7dM9Dicg4AiBsI7dJPb2PymGypG/rHSfPcURIRgDAQQQQAABBBBAAAFdCrD/1mVZNE/KMA3AihUryi+//CKffPKJDB6c9HIBpRm4Y8cOadOmjSxZssQK8Ouvv5Z69epJsWLF5O+//9Ycl4A0AI3yG1gQPEKunj2QIt08hV+ULtM/zdA0IvoOlevnD6nnPln2TWkzul+GxuIkBOwVCGnTRhLiY1IZJpP4z42SnHlz2RuC8xFAAAEEEEAAAQQQ0KUADUBdlkXzpAzTAOzTp4/MmDFDChcuLEpjr3z58vL5559LkyZNLGhRUVHi4+NjBTh9+nQJDAy0vBX4hx9+0ByXgDQAjfIbWPlJmJz+eWuKdBv0Gi0v1Ho5Q9NYNnyq/HP8a/Vce5qJGUqAkxD4fwHlWbEhPh8+8jmXrzXpJW+0fhcvBBBAAAEEEEAAAQRMKUAD0JRlTfekDNMA/P3330W5CvD+/fuWSebLl0+uXr0qiYmJliv8Tpw4Id7e3lYA77//vnzxxRfSqVMnCQ8PTzcOJzhPgAXIebYZGXnrvJXy81eLrU7NkvNp6T1/VkaGs5yzITRSfvvfKvV8e8fLcCKc6PYC185flvl9H337eb6iVaTT1FFu7wQAAggggAACCCCAgDkF2H+bs67pnZVhGoDKxFatWmVp5inPAnzwyZs3r2zYsEFq1qxpNXfljcHKC0GUF4ekdnVgeqG0Pl55nqFyBeOmTZvk9OnTlucYlipVSlq2bGl5s7HyYhNHf27fvi0VKlSQP//80zK04vfXX6k9F87+yCxA9hs6coT9m3fJt5ETrIas2ixAXm9ZP8Nhdi3/QvZ+NlM939MrjwQtXZrh8TgRgYwKnNh/TNZP+viRp3t4ZpU+kcvEyztzRkNwHgIIIIAAAggggAACuhVg/63b0miamKEagIrMxYsXLU0xpcH35JNPSuPGjSV//vwp0JSXhSxbtszyd+VFIXny5NEU1p5gSkPT19dXYmJSe16VSJkyZSwGpUuXtidMinM/+ugjmTIl6WH4NAAdyqvrwW5eiZG5PTuKJN6z5OnlXUB6LYwQLy+vDOd9dOePsmXm8GTne0rQ0s/E0ytThsfkRAQyIrB/4075dsnEZKcqv8F4q6Hqdh4ild+pnpHhOQcBBBBAAAEEEEAAAV0L0ADUdXk0S85wDUDNZFwU6ODBg5arGZW3FufMmVMGDRokb775puXfy5cvV29lVpqA+/fvl1y5HPPgeiWu8qzEzJkzW/7nxo0bXAHoot+Aq8J+v3a77Pt8hWTOkkPeDwyU4uVL2pXKxb/OyZIBXa3GaD9lgRQoVsiucTkZgfQKfLVgrRzaukA9zStLQfHwyCT3755X/1akTB1p+8lH6R2a4xFAAAEEEEAAAQQQ0L0ADUDdl0iTBGkAasJse5BatWrJrl27LFde7dy5U6pXt74iZdKkSdK/f3/LgCNGjJCRI0faPvgjjoyPj5eqVavKgQMHZPTo0TJ//nxRbkHmCkC7ad16AOX2+9C2ykt6ElWH9/qMkfI1K7u1C5PXXmDd5Aj5Y986NXC2PKWk4NPPyd9Htqh/y5Q5n/RZHCmenp7aJ0hEBBBAAAEEEEAAAQScKEAD0Im4BhraVA3ACxcuyMaNG+XSpUvyzDPPiPISEGc8K89Z9d27d6+lEad8/P39Zc6cOSlCKW+zVJ7Td+zYMVGef6jcEq1csWfPZ+rUqdKvXz8pW7asHD582HKLMQ1Ae0Q594FASJs2khCfdCu7vc8VRBaBjAgsHTZZzv+2Qz0171MvSc2WLWTTtMFWw33Qf5KUrlI+IyE4BwEEEEAAAQQQQAAB3QrQANRtaTRNzDANQKXhpVzx5uHhIXPnzrU0v5J/Pv/8c2nTpo3lVtkHH+XtwOvXr5fKlY1xxdHgwYNl3LhxlvT37NmjNgMf/kWMHz/ecmuw8tm6dau88847Gf7RKI2+F154wfJilW+++Ubq1KkjJUuWpAGYYVFOTC4wo1N3uXfrjPqncm+0loa9fUFCQFOBiL5D5fr5Q2rMp8q+Ja1GBkqor69Vg7rky42k2QB/TXMjGAIIIIAAAggggAACzhagAehsYWOMb5gGoNIYGzJkiOX5eMotssk/ylVwygsxbt68mUK9aNGilqvllOfp6f3z4PbfHDlyyLVr1x75Aobvv/9eatSoYZnO8OHDZdSoURmeWsOGDWXz5s3i5+cnixcvtoxDAzDDnJz4kEB4wCCJuXhE/WvR8vWk9chAnBDQVGBm1wC5G/Pf282Vz3NVm0nj4I6yZOA4ufjnd+rfvbMXlYCFczXNjWAIIIAAAggggAACCDhbgAags4WNMb5hGoD16tWzXKE2duxYGTBggJWu8hw85dl1ynPzJk6cKHXr1rVcGTdw4EBJTEyUyZMnS1BQkO4rUrBgQcvtyy+++KIcOpR0tcrDiV+9elV983GLFi1k5cqVGZqb8lIRHx8fyZcvnxw/flyU+MqHBmCGODkpFYGlQyfJ+d+/Vb9Rbr3sHPIJVghoKjDNr73Ex15WY77csKu82e4D2bdhp+yMSv52YBG/CeFSqOSTmuZHMAQQQAABBBBAAAEEnClAA9CZusYZ2zANQOW5dH/88Yd88cUXKW55rVixovzyyy/SsWNHiYiIUPWV5+iFh4dL7dq1Lc1DPX/u3r0r2bJls6SoXJWnPMvwcR/likbltt1q1aqJckVgej9KE7F8+fKiPDdRuaW6W7du6hCOaAAqC8zjPufOnZPXXnvNcsjp06dFuV2bj/kEPp+6UH7/YY06say5SkqviBnmmygz0rXAlNbNRBLvqTnW6TBIqrxbU2Lv3pOwDj4iibHqd8/Xbivv9vTR9XxIDgEEEEAAAQQQQACB9AjQAEyPlnmPNUwDUHnm340bNyxvqk3+TD/lirlChQpZng24bds2eeutt9Rqbdq0SRo1amS5sk1pdOn58++//1rmoXxatWolytV5j/sULlzY8gIQ5YUgR44k3WJp6xy7dOlieduv8pbh7777zuL34OOIBmDy8dLKiQZgWkLG/X5H1EY5sCHpZTbKm1YDo5YYd0JkbjiBuzdvy8zOLa3ybjp4qjzzYhnL3yL6DJHrF35Sv8+er4z0mDPVcPMkYQQQQAABBBBAAAEEHiVAA5DfhiJgmAZglixZJC4uztKsUq56e/BZt26dNG3aVJTvr1+/Lt7e3up3P/74o7zyyiuWt+Teu5d09YceS680wZ5++mlLasmfx/eoXJVjlXNKlSolJ06cSNeUdu7caXnZR6ZMmSwN1UqVKlmdTwMwXZwc/BiBw1/vk21zkz+j0kuClq0VT09P3BDQRODs8VOyfHgvq1hdZ0ZJ7gL/vUhqx5LP5cDGecm+zyT+c6IkZ75cmuRHEAQQQAABBBBAAAEEnC1AA9DZwsYY3zANwCeffNJyxduyZcukZcukqzkCAgJk5syZqb4cZO/evZZmofKMu8uXk57/pMfSaHUFoNIIVZ4xqDzzr1+/fpbnIz78cUQDkFuA9fgr0z6ncydOS/SQHlaBO4dGSt4iT2ifDBHdUuDIN/vlyzkjk83dugkdc/m6hPf0E5EE9ZhXP+gptdq855ZeTBoBBBBAAAEEEEDAfAI0AM1X04zMyDANwAYNGlhu8VVu6VWu+lM+d+7ckWeeeUaU5tnQoUNTvA131apVlttpy5UrZ3lGoJ4/Wj0DUHlr8CeffCLFixe3vB1ZeeOwMxqAaVmzAKUlZI7vY+/FSli7plaTadRvvJR5rYI5JsgsdC+we/kW+eGzpOdOenrlkaClS63ynt2tr9y+/of6N15Wo/uykiACCCCAAAIIIIBAOgTYf6cDy8SHGqYBuGjRIunUqZPlWXXKm29ff/11WbFiheWWYOV2wp9//tnS6Ev++eijj2Tq1KlSv359y8tD9P4pUKCA5UpFZ74FWLlVOjY21vLClHfeeSdVEuWqSuXZiko+YWFhlmOU5xMmf76ivZYsQPYKGuf8qW1aS2L8TTXhGq0CpXrTesaZAJkaWmDzzKVybOcydQ7eOYpJwIKk51IqX2yaESW/7kp67qqHR1bpHRkt3lmSHilhaASSRwABBBBAAAEEEHBrAfbfbl1+dfKGaQAmJCRYnlu3e/duqxdWJCYmSufOnS1v+3348+yzz8qpU6dk5MiRMmzYMN1XvFatWrJr1y7LVXnXrl0TLy+vVHNW3vpbo0YNy3fKFX2jRiV/xtrjp5mel3MkH0l5k/KOHTscZsgC5DBK3Q8U1rGbxN7+R82Tt6zqvmSmSnDlJ2Fy+uet6pxyFXhBus2cYDXHcyfOSPSQ7lZ/e/CmYFNhMBkEEEAAAQQQQAABtxRg/+2WZU8xacM0AJXMb926JSNGjBDl1t7z58+L8lzA9u3bW5p7DzfLNm7cKI0bN7Y0C5VnAVapUkX3FR88eLCMGzfOkueePXukatWqqeY8fvx4GTRokOW7rVu3PvJKvtROpgGo+5+B6RKc12uA3Lh0VJ1X8Qr1peWwANPNkwnpU2DRx5/I5b9/UJMrWLKGtJswOEWy09t3kft3z6t/L1K6lrT9tL8+J0VWCCCAAAIIIIAAAgikQ4AGYDqwTHyooRqA6anD1atXJSYmxnJKiRIl0nOqy45VGpUPmn7+/v4yZ471bWpKYsqVkBUqVLA8vy9v3ryWF6Mobzl25McRLwFJKx8WoLSEzPP9ksHj5eIfu9UJ5S/6inScmvylDOaZKzPRn8CcHv3k1pXjamIlKjeU5oOsX0yjfLnq05ny9+GkR0V4euWVvksW88Zq/ZWUjBBAAAEEEEAAAQTSKcD+O51gJj3ctA1Ao9brwW3AyhWNO3fulOrVq1tNZdKkSdK//39XpShXQyq3Nyf/KLfpvvnmm5Y/KVdHKs9OTO+HBmB6xTj+cQKfTYqQk/v/e3GP8smWp5T0nBcKGgKaCIR16Caxd5JuQX/hTV9p0L11itjH9xyRjSH/XVn94PPBRxOl9KvPa5InQRBAAAEEEEAAAQQQcJYADUBnyRprXBqAOqvXwYMHpWbNmpY3HOfMmVOU24KVhp7y7+XLl8u8efMsGZcpU0b2798vuXLlspoBDUCdFZR05OvI9XJwc9IzOjN5PyGBSyKRQUATgZA2PpIQf0ONVaNloFRvlvIlNMrV1aF+fpIQd109tmTlhtIslasFNUmcIAgggAACCCCAAAIIOEiABqCDIA0+jCEbgPHx8bJu3TrZvn275e2/V65csZQhf/78lttj69WrJx9++KFkypTJkOXZsGGD+Pr6qrcwPzwJpfm3adMmKV26dIr50QA0ZMlNnfShL7+Xr+Z/mjRHj8wSFL2GWytNXXV9TC4hLl5C2jZRHp6gJvRewBgp/3rlVBN8+HZ172xPScCi//5LFz4IIIAAAggggAACCBhVgAagUSvn2LwN1wDcsmWLdOvWTc6ePatKKG8CVj7JX3BRrFgxy9Vy9evXd6yYRqMpby8ODQ21NPqU/7B6e3tbGn4tWrSQ3r17S/bs2VPNhAagRgUijM0Cp4/9JStH9rY6vuuspZL7iTw2j8GBCGRE4Mo//8rCoI5Wp/qOmyeFn30q1eH2b94l30ZavyH4ccdnJCfOQQABBBBAAAEEEEBAawEagFqL6zOeoRqAS5YskY4dO4rS8HvQ9FOeV1ekSBGLrvJmYKVx9uA7T09PiYyMlLZt2+pT342zYgFyn+Lfu31PZnRsZjXhD/pPktJVyrsPAjN1icCJfb/I+snWb/INWLxWvLN4p5pP7L1YCWvvI5J4T/2+fC0fea8X/z/EJQUkKAIIIIAAAggggIBDBNh/O4TR8IMYpgGoNPbKlSsn9+7dkxw5csigQYOkS5cuUqhQIasi/PvvvxIRESHjxo2TmzdvStasWeXXX3+Vp59+2vDFMtMEWIDMVM205zLVp6UkJtxWD3yjzUfy2gd10j6RIxCwQ2Dfhp2yM2qiOoKHZzYJXrbqsSNG9B0q188fUo/Jnvc56TE3xI4sOBUBBBBAAAEEEEAAAdcKsP92rb9eohumARgcHCzTpk2zvBhDeTtu5cqpP8PpAexPP/0kb7zxhty6dUsCAwNlypQpejEnDxHLbc3Fixe3WJw+fVqUW7b5mFdgeoeucv/OOXWCFd7yk/r+rcw7YWamC4HtC9bIT1sXqrl4ZSkkfRcveGxuO6I2yoENc5Id4yn+s6MkZ/7cupgTSSCAAAIIIIAAAgggkF4B9t/pFTPn8YZpACov9zh27JiMHDlShg0bZlM1Ro8ebTn++eeft7wshI9+BFiA9FMLLTKZ2/NjuXn5mBrq6YoNpMVQ6+cCapEHMdxL4LNJEXJy/zp10tnzlJIe80Ifi3DzSozM7eFr9eKQKo26Sx3f990Lj9kigAACCCCAAAIImEaA/bdpSmnXRAzTAMydO7flar7du3dL9erVbZr0999/LzVr1rRcNRgTE2PTORykjQALkDbOeomyeOBY+ffP/6npPFH8Nekwebhe0iMPkwosHTJRzp/Yqc4uX9Eq0mnqqDRnO9s/UG5fO6Eel6dIZekSOibN8zgAAQQQQAABBBBAAAE9CrD/1mNVtM/JMA1A5bl/d+/eFaWp99prr9kktW/fPqlatarljbnK8wD56EeABUg/tdAik7UT58qfBzaoLTj2FwAAIABJREFUoXiumhbqxIjoM0SuX/hJhXiq3FviMyo4TZhNM6Lk113Lk47zyCIBkcse+fKQNAfkAAQQQAABBBBAAAEEXCjA/tuF+DoKbZgGYJkyZeSPP/6wPMtPeaafLZ/Q0FAJCgqS0qVLy2+//WbLKRyjkQALkEbQOgnz1YK1cmhr0rPXvLIUlL6Lk57NppM0ScNkAjO79Ja7N/5SZ1WmenNpFNghzVmeP3lWlg7ytzqudvsB8sp7b6R5LgcggAACCCCAAAIIIKA3AfbfequIa/IxTAPQ399fwsPDLW/9/fHHH+Wpp556rNg///wjVapUkYsXL0rXrl1lzpzkD3V3DTZRkwRYgNzr13Dgi+9kx6JxSZP2yCL9lq9xLwRmq7nANL/2Eh97WY1b5f1uUsevsU15PPzimsKl3hDfsQNsOpeDEEAAAQQQQAABBBDQkwD7bz1Vw3W5GKYBqLzEQ3nzb2JioqX5FxISIk2aNJFMmTJZ6SUkJMjatWulX79+lrfLKt8fPHhQlJeI8NGPAAuQfmqhRSanjvwhq8f0tQrlP2eZ5MyXS4vwxHBTgSmtm4okxqqzf6vTYHmpfg2bNFaPmy2nDm1Sj/X0yiN9lywRT09Pm87nIAQQQAABBBBAAAEE9CLA/lsvlXBtHoZpACpM48aNkyFDhoiHh4dFLW/evPLyyy9brgpU/nbhwgXL1YHXrl2zNAqVz9ixY2XgwIGuVSZ6CgEWIPf6Udy+cVtmd2lpNemmg6fKMy+WcS8IZquZQGq/uWaDQ6Tki8/ZlMNve4/KhinWV/w16jdeyrzGf5lkEyAHIYAAAggggAACCOhGgP23bkrh0kQM1QBUpGbNmiX9+/eX27dvW+AeNAMfKD5o/Ckv/pg0aZL06NHDpcAET12ABcj9fhlTfZpLYsJddeK1/frLK+/Xcj8IZqyJwJlf/5IVI3pbxfKfHS058+e2Kb5yNXmon58kxF1Xjy/x4nvSfHBPm87nIAQQQAABBBBAAAEE9CLA/lsvlXBtHoZrACpcly5dkoULF8r27dtFuTX4ypUrFsX8+fNbbvWtV6+edOzYUQoUKOBaXaI/UoAFyP1+HKHtO0vc3QvqxCu93UHe7tLc/SCYsSYCh7/eJ9vmjkoWy0uClq1N1y28UUMmyIUTu9QxMmd7UvosCtckf4IggAACCCCAAAIIIOAoAfbfjpI09jiGbADaSq78yJVbgpVP48a2Pfjd1rE5zj4BFiD7/Ix49pzuwXLratLbuEtWbijNBnGF7uNq+XnIQvlj35eSOVt+aRzcT55+4Vkjlt4lOe9a/oXs/WymGtvTK68ELY1KVy4pXl4jIm0+nSNPli6WrnE4GAEEEEAAAQQQQAABVwqw/3alvn5im7oBGBkZabkSUHloe1xcnH7UyURYgNzvRxDZf4xcOrVHnXiBEtWk/cSh7gdh44xP/nhcPpvQTz06Z4HnxX/mRBvP5rBNM6Lk113LVYgsOYpL7wWz0wUTey9WZrRvI4mJSbeul3ujtTTs7ZuucTgYAQQQQAABBBBAAAFXCrD/dqW+fmK7RQNQeU5gfHy8ftTJhAagG/4GHn6rao78ZaX77CluKGHblDfPXCrHdi5LOtjDW4KiV6frFlbbIpnzqJWfhMnpn7eqk8tV8AXpNmNCuic7P3CYXDt3UD0ve55S0mNeaLrH4QQEEEAAAQQQQAABBFwlQAPQVfL6iksDUF/1cJtsWIDcptTqRL8MXyVHtkeq/86ctbD0iZzvfhA2zjhq8AS58EfS8+eU01p/MkuKlnnaxhHc+7BFH42Wy6f3qgiFnqkpfuMHpRvl26WbZP/nya8c9JSus5ZI7ifypHssTkAAAQQQQAABBBBAwBUC7L9doa6/mDQA9VcTt8iIBcgtymw1yX0bdsrOqKRbWD08s0nwslXuB2HjjGf7B8rtayesjq7eoq/UaP62jSO492FzevSTW1eOqwgZfebkzas3ZG535ZbfpKvIq7zfTer48VxZ9/6FMXsEEEAAAQQQQMA4Auy/jVMrZ2ZKA9CZuoz9SAEWIPf7cZw8eFw+G5/0TDtFoNf8lZI1Z3b3w7BhxiFt20hCXIzVkSVfbiTNBvjbcDaHTO/QVe7fOadCVKjbTup3a5khmNndg+T21d/Vc/MUflG6TP80Q2NxEgIIIIAAAggggAACWguw/9ZaXJ/xaADqsy6mz4oFyPQlTjHB/66k8rH6e4vh03mzbSo/hdsxt2R211YpvqHxZPt/bqa2aS2J8TfVE2q0CpTqTevZPkCyI7+YFS2/fBud9BcPbwlYtEy8s2bJ0HichAACCCCAAAIIIICAlgLsv7XU1m8sGoD6rY2pM2MBMnV5Hzm5Ka2biiTGqt+/2XGwvNyghntiPGbWv35/WDZNG5ziCK8sBaTv4kV4pSGQEBcvIW0/FJFE9ciGfcdKuRqVMmR38a9zsmRAV6tza/n2l1cb1crQeJyEAAIIIIAAAggggICWAuy/tdTWbywagPqtjakzYwEydXkfObnQdh0k7t4l9fvKDTpL3Y5N3BPjMbP+ZvF6+XFTeCpHeEjvhaslS3auPHvcj+bSmYsS2a+T1SF+E8KlUMknM/xbC+vYTWJv/6Oen9GXimQ4AU5EAAEEEEAAAQQQQCCDAuy/MwhnstNoAJqsoEaZDguQUSrl2DwffrHFM1UaS9P+3RwbxASjrRwzQ04f2ZLqTN4PGidlq1U0wSydN4Xf9h6VDVMGWAXou+Qz8fLOnOGga8bPkb8OblTP98yUW/pGRYmnp2eGx+REBBBAAAEEEEAAAQS0EGD/rYWy/mPosgE4evRoh8gdOnRI1q1bJx4eHhIfn/QGR4cMziB2CbAA2cVn2JMX9hslV87sU/PnKqrUSxneZ7DEXDic6peV63eSup2aGvY3oEXie9fvkF3Rk9VQHp7ZJXjZSrtCn9h/TNZP+thqjIaBY6Vc9YzdVmxXMpyMAAIIIIAAAggggEA6BNh/pwPLxIfqsgGoXFGhNO0c8UlMTKQB6AhIB4/BAuRgUIMM9/CVbTmfKC/+syYZJHvt0gxt31ni7l5INeBTZd8Sn9HB2iVjwEjb56+Rn75cqGbulbWw9I2cb9dMEhISJNSvnSTEXVPHeaL4a9Ju4lCuArRLlpMRQAABBBBAAAEEnC3A/tvZwsYYX7cNQEfycQWgIzUdMxYLkGMcjTbKljnL5eg3UWrambM9KX0WpfasO6PNzHH5/vcCi2YiEpfqoNnzPic95oY4LqAJR1o7cZ78eeBzdWaOMls6ZKKcP7HTSuypcm9JqxGBNAFN+DtiSggggAACCCCAgFkE2H+bpZL2zUOXDcBvv/3Wvlmlcnbt2rUdPiYDZlyABSjjdkY+c8+6r+W7ZVPVKXh45pDgZSuMPCWH5372+ClZPrzXI8f1yJRTgqOXOzyumQaMGjJBLpzYpU4pX9Eq0mnqKLunePLH4/LZhI+s3i6sDFq0fF1pObwvTUC7hRkAAQQQQAABBBBAwBkC7L+doWq8MXXZADQeIxmnV4AFKL1i5jj+xL5fZP3k/laTCYhcI95ZeavtA5Qf1n8ju6OnPLbgnUMjJW+RJ8zxo3DCLCL6DJbryZ6hWLR8PWk9MtAhkbYvWCM/bU26vfjBoDQBHcLLIAgggAACCCCAAAJOEGD/7QRUAw5JA9CARTNDyixAZqhi+udw7eJVmR/gZ3Vi69EzpWjZEukfzKRnbJi2SH77frU6O+U26ft3LopI0ouM3uw4WF5uUMOkAvZPa2aXXnL3xil1oDLVW0ijwPb2D/z/Izz8jMGkJmA9aTm8D1cCOkyagRBAAAEEEEAAAQQcIcD+2xGKxh+DBqDxa2jIGbAAGbJsdietvEghxEd5g23S8+3qdR0mL9aravfYZhkgsv8YuXRqjzod5fbVm5fPyv2759W/la3ZUt7v084sU3b4PKb5tZP42CvquFUadZc6vu87NM62iNVyeNuiFGMWfb6etBxGE9Ch2AyGAAIIIIAAAgggYJcA+2+7+ExzMg1A05TSWBNhATJWvRyZbYrmzPvdpI5fY0eGMPRYM7v0lrs3/lLn8EyVxnLt/Fm5evaA+rcnnq4qHSYNM/Q8nZn8lNZNRRJj1RB1Ow+Ryu9Ud3hImoAOJ2VABBBAAAEEEEAAAScIsP92AqoBh6QBaMCimSFlFiAzVDFjc5jVtY/ciTmpnlz6tSbyQb/OGRvMhGdN9WkliQm31JlVbRYgl0+flRN716p/885eVAIWzjXh7O2f0u2YWzK7ayurgZoPnSYlKpa2f/BURvgyfJUc2R6Z4ptiz78tLYYFcDuwU9QZFAEEEEAAAQQQQCA9Auy/06Nl3mNpAJq3trqeGQuQrsvj1OQWBI+wupqtcOk3xPfTAU6NaZTBU3tGYtPBU+Xfv/+RXVGTk6bhkVmColaLp1cmo0xNszxP/3JSVo7qYxXPf84yyZkvl9Ny2Dpvpfz81eKUTcAX3pEWQ3vTBHSaPAMjgAACCCCAAAII2CLA/tsWJfMfQwPQ/DXW5QxZgHRZFk2SWjEqVM78sk2NlbtgBek6Y7wmsfUe5Ocd+2Xr7JHJ0vSUgMWr5dr5K7Kkfxer9FuOnCHFy5fU+5Q0z+/wV3tl27zRyeJ6SdCytU5vwtEE1LzUBEQAAQQQQAABBBCwUYD9t41QJj+MBqDJC6zX6bEA6bUyzs9r88ylcmznMjUQt7MmmT/8TLlM3k9I4JJIUV6eMq2tcmvwHfVg5dbg11vWd37BDBZhZ/Rm2bd+lpp1psz5JDBqiSazeFQTsHiF+tJ8SC+nNyE1mSRBEEAAAQQQQAABBAwnwP7bcCVzSsI0AJ3CyqBpCbAApSVk3u+/X7Nd/rdymjpBz0y5JCg6qSFo3pmnPbPlI0Pk7LGv1ANzPlFe/GdNsvx7ZtcAuRvzp/pdicoNpfmgHmkP6mZHbAxbIsd3r1BnnSXn09J7flJD0NkcNAGdLcz4CCCAAAIIIIAAAukVYP+dXjFzHk8D0Jx11f2sWIB0XyKnJXh8zxHZGDIo2fge0nfJWvHyzuy0mEYZeG7Pj+Xm5WNqukXL15XWI4Ms/44aPEEu/LFL/S53oQrSNYxbpx+u7YrR0+XM0S9d6kQT0Cj/iSNPBBBAAAEEEEDAPQTYf7tHndOaJQ3AtIT43ikCLEBOYTXEoFfOXZKFgR2scm3z6Rx5snQxQ+TvzCSn+bWX+NjLaohKb3eQt7s0t/z74abSg9uDnZmPEcde2G+UXDmzT0290LOvi9+4gZpPZevcFfLz1ylvPS5esYG0HNpb83wIiAACCCCAAAIIIOC+Auy/3bf2yWdOA5DfgUsEWIBcwq6LoMrz7EJ8mohIvJrPO91HSsU3X9FFfq5KIvZerIS1U5p9CWoK9XuMlAp1/nM5uvNH2TJzeLL0PKTX/BWSNWd2V6Wsy7hzugfLrau/qbmVfLmRNBvg75Jct8xZLke/iUoR++mKDSxvB+aDAAIIIIAAAggggIAWAuy/tVDWfwwagPqvkSkzZAEyZVltntQ0Xz+Jv39VPf6Vxj2kdtuGNp9vxgP//Ok3WTs22GpqncOWSN5C+Sx/ux1zS2Z3bWX1/Xt9xkj5mpXNyJHhOU1v30Xu3z2vnl+hbjup361lhsez90SagPYKcj4CCCCAAAIIIICAvQLsv+0VNMf5NADNUUfDzYIFyHAlc2jCM7v0lrs3/lLHfK5aM2kc1NGhMYw22O6VW+WHNWFq2h6eOSR4WdLLLJQvHm6cJr9F2GjzdVa+U9u0lsT4m+rwNX2CpdqHbzkrnE3jbpm9TI7uWJri2KcrvSsthvSyaQwOQgABBBBAAAEEEEAgowLsvzMqZ67zaACaq56GmQ0LkGFK5ZRE5wcOk2vnDqpjFylTR9p+8pFTYhll0LUT58mfBz5X082aq6T0iphhlf68XgPkxqWjuD2iqHFxcRLaVrm9PFE9omHgWClXvZLLfwZfzFomv3ybsgmohwaly3FIAAEEEEAAAQQQQMCpAuy/ncprmMFpABqmVOZKlAXIXPVM72yWjwyRs8e+Uk/LXbiSdJ0+Nr3DmOr4BcEj5OrZA+qcCpSoJu0nDrWa48oxM+T0kS3q37LlKSU954WaysGeyVw6c1Ei+3WyGsJvYoQUKlHEnmEddm5qTcDs+cpIjzlTHRaDgRBAAAEEEEAAAQQQeFiA/Te/CUWABiC/A5cIsAC5hF03QTeGLZHju5Nub82So7j0XjBbN/m5IpGwjv4Se/usGrpM9ebS6KG3Je9ctln2rZulHpPabcKuyF0vMY/vOSIbQwYlS8dD+i79TLy8vPSSonw2KUJO7l9nlaPfxHDdNCl1A0UiCCCAAAIIIIAAAg4TYP/tMEpDD0QD0NDlM27yLEDGrZ0jMn/4eXeeXrklaGm0I4Y25BiWNyO3aSGSeE/N//U2/aTqB29azefUkROyekyg1d/aT1kgBYoVMuS8HZ30D+u/kd3RU3TdIL157YbM7d5OJPG+mmfp15rKBw9duehoG8ZDAAEEEEAAAQQQcF8B9t/uW/vkM6cByO/AJQIsQC5h103QY7sPyeaw5Le3ekrfpWt1daWWllj//n1eFn/cxSpk69EzpWjZElZ/++8Zd81FJE79e+32A+SV997QMl3dxtoWsVoOb1uk5pc5axHpExmhu3wfvt3bK0shCVgUIZ6enrrLlYQQQAABBBBAAAEEjC/A/tv4NXTEDGgAOkKRMdItwAKUbjJTnZBaw0tPz2rTGvvg1v/J1wuSPwPRS4KWrhFPr0wpUgnr0E1i7/yj/j21W4W1zl8v8dZOnCt/HtigppM933PSY06IXtJT8ziwebfsiBxvldf7QeOkbLWKusuVhBBAAAEEEEAAAQSML8D+2/g1dMQMaAA6QpEx0i3AApRuMlOdkBAXLyGWt7UmqPNq0PsTeeGNl0w1T1sn8/DLIbyyFpa+kfNTPX1hv1Fy5cw+9bv8xV6VjlNG2BrK1MdFDZ4gF/7YpXsb5fcf2s5PEuJj1FyLlK4lbT/tb+r6MDkEEEAAAQQQQAAB1wiw/3aNu96i0gDUW0XcJB8WIDcp9GOmGdK2rSTEXVePqNqkt7zeuoFbwiwdMlHOn9ipzv1xb0XeMG2R/Pb9avVY72xPScCieW7p9vCkwwMGSczFI+qfiz5fT1qPsH5mol6gVowKlTO/bFPT8fDMLr0XRYl3Fm+9pEgeCCCAAAIIIIAAAiYRYP9tkkLaOQ0agHYCcnrGBFiAMuZmprNmdO4p927+rU6pbM2W8n6fdmaaos1zmd09SG5f/V09vnjFBtJyaO9Uz9+/eZd8Gzkh2Xde0nfpard9fmJypBmde8m9m6cM8Zv666ffZc3YIKsa12gVKNWb1rP5d8OBCCCAAAIIIIAAAgjYIsD+2xYl8x9DA9D8NdblDFmAdFkWTZOK6DNYrl84rMZ8qtxb4jMqWNMc9BLs4ashX27YVd5s90Gq6V06c1EiH3pjbPOh06RExdJ6mY7L8pjm6yfx96+q8V9p3ENqt23osnzSChzW0V9ib59VD8tdqKJ0DRuX1ml8jwACCCCAAAIIIIBAugTYf6eLy7QH0wA0bWn1PTEWIH3XR4vsoodNlnO/7VBD5SlSWbqEjtEitK5i3L5xW2Z3aWmVU8PAsVKueqVH5jnVp5UkJtxSv3/1w55Sy+c9Xc3LFclMad1EJPG+Grpul6FS+e1qrkjFppibZkTJr7uWJzs2k3QOWyR5C+Wz6XwOQgABBBBAAAEEEEDAFgH237Yomf8YGoDmr7EuZ8gCpMuyaJrUw8+yy5qrhPSKmKlpDnoI9tven2XDlIFWqfQIXyHZc+d4ZHqzuvWVO9f/UL9/umIDafGIW4b1MEctcrh57YbM9fexCtVi+HR5+oVntQifoRjXLlyR+X06WL0M5/nabeXdntbzyNDgnIQAAggggAACCCCAwP8LsP/mp6AI0ADkd+ASARYgl7DrKujO6M2yb/0sNSfPzHklKCpKVzlqkcyOqA1yYMPcJAev3BK0NPqxoZcOnSTnf/9WPSZXgRek28zkzwXUInN9xfj76ElZNbqPVVL+c5dJzry59JXoQ9nM6z1Abvx7VP1rlhzFpfeC2brOmeQQQAABBBBAAAEEjCXA/ttY9XJWtjQAnSXLuI8VYAHiB/Lzjv2ydfbIZBCZJGjZZ+Lp6elWOKs+nSl/H/5CnXP2vKWlx9xpjzXYFrFaDm9bpB6TKXM+CYxa4lZuD0/2p+0/yPbwT5L+7JFZ+i3/TPcm3636Uvasnm6VZ/OhoVKiYind506CCCCAAAIIIIAAAsYQYP9tjDo5O0sagM4WZvxUBViA+GGcP3lWlg7yt4LoGLJQ8j9V0K1wIvoMkesXflLnXLjUG+I7dsBjDY59d0g2Tx9qdUxatw2bHfXbpZtk/+dJV84ZpSkae/eezOjoK4kJd9QSFa9QX1oOCzB7yZgfAggggAACCCCAgEYC7L81gtZ5GBqAOi+QWdNjATJrZW2fV1zsfQn1ayoiiepJab38wvbRjXPk9PZd5P7d82rC5Wv5yHu92j52Andv3paZnVtZ2TXoNVpeqPWycSbu4Ew3Tl8sx79bqY6aJWcJ6T3fGM+UjBo8QS78sUvN3dMrj/SNXCyeXpkcrMRwCCCAAAIIIIAAAu4owP7bHauecs40APkduESABcgl7LoLGtLGRxLib6h5VW/RV2o0f1t3eToroYS4eAlp20xE4tQQdToMkirv1kwz5DS/9hIfe1k9rkLddlK/m/XbhNMcxEQHLB81Tc7+sl2dUe5CFaVr2DhDzDC1Kzrf6jRYXqpfwxD5kyQCCCCAAAIIIICAvgXYf+u7PlplRwNQK2niWAmwAPGDUATCOvpL7O2zKoYtV7+ZSe7sb3/L8mE9rabkNzFCCpUokuY0wwMGSszFn9XjbLl1OM1BDXzAwn6j5MqZfYb0SEhIkLAOnSXu3r9q/vmLvSodp4wwcEVIHQEEEEAAAQQQQEAvAuy/9VIJ1+ZBA9C1/m4bnQXIbUtvNfHw3gMl5t+kJlax59+WViP6ug3O3vU7ZFf05KT5enhLUPRqm16EsnrsLDn102b13Ky5n5Fe4WFuY/fwRGd3D5LbV39X//xMlUbStL/1Myb1jPPZpAg5uX+d1W+hR3iUZM+VXc9pkxsCCCCAAAIIIICAAQTYfxugSBqkSANQA2RCpBRgAeJXoQhEDZkgF/6PvbOAiyr74vhvgg4JBTuANbFzrbXbtTuw2zVXXf9rrmt3YoCt2K3r2rE2douBmCCIdM//cwed4cEAM8ObPu//4c8yc++J7308uWfOPSdAXvvMsUBl9Fs8w2TgHFm6Gc+v7pH5a25dACM3rlXK/8u7T+L6PnnATyC0wujtu5QKHiqlwMAGpa+lWLaRF5oM7GQwXnx+9QHbpE1x5DUxK7YYiAZebQzGBzKUCBABIkAEiAARIAJEQD8J0P5bP9dF21ZRAFDbxEmflAA9gOhGYAQOLfJBwI0DMhhW9m4Ytn65ycDZPPFvfHlzVeavKgHQoMevsHvGbxxWyh4fNkbAi7t1gSQlWuZa7e7jUL1NfYNydc3g0YgJD5DZbO3ggaFrlxqUD2QsESACRIAIEAEiQASIgP4RoP23/q2JLiyiAKAuqJNOCgDSPSAlcH7rYfgfXSejITJ3wuitW0yGzqoBIxAX+UbmryrHVqUNRHp2BCSJsvl1eo5Htdb1TIbfD0eTkpKwrEc7TvZcqzFzUKJGWYNicWbTQdw9sSGNzQL0nLMWrm75DcoPMpYIEAEiQASIABEgAkRAvwhQAFC/1kNX1lAAUFfkTVwvPYBM/Ab47v6909dxev1faWCIMWbnfpM5xrq4exdIkuVZa9XbjUDtrs2UvjnSN1HxqNYebcb1U3q+sQwMefsJW34fwHHHa5Evchd0MSgXYyJjsGZgD05Q161KW7RL55tBOUXGEgEiQASIABEgAkSACOicAO2/db4EemEABQD1YhlMzwh6AJnemivy+P2zQPhNHc55q/+KrXBwcTR6QBFfwrF+eE+On+0mLYJbxRJK+75p/EyEBt2QjVflCLHSSgxg4NOr93Fs6eQ0lgowavsBiMViA7Cea2L6bsZii9wYucnXZILiBrdgZDARIAJEgAgQASJABAyAAO2/DWCRtGAiBQC1AJlUZCRADyC6KxiBhLh4rPDqwIHRZvx8eFQtbfSAHl7wx8nV0zhBq5Gb98Lc0kJp348s24znV+RNRMws8+K3zWmPkCotyqAHXjt4Fv/tXCzzQSCyxdgdfgbp052TV3DWdzbH9pajZqNkzXIG6Q8ZTQSIABEgAkSACBABIqB7ArT/1v0a6IMFFADUh1UwQRvoAWSCi56Jy+mbN9TqNhY12jYwekCnffbh3r8bZX6qU//w9j9XcG5j2mCRCKO27oXY3Mzo+aV18OS63Xh4Rl470pADoay24zKv3khJ+iZz0dW9DnrOnmhSa0rOEgEiQASIABEgAkSACPBHgPbf/LE0ZEkUADTk1TNg2+kBZMCLx7Ppy/sMRGLsR5nUMvV7otmQrjxr0T9xftOX4v2T0zLDbJ1LYfDqBSoZGv4pFD6jvDhzVD1GrJJCPR28b95avLl9RGadjWNxDPGWZwTqqdmZmrX7rxUIenhS9r5AaIURm7bD3MLc0Fwhe4kAESACRIAIEAEiQAT0gADtv/VgEfTABAoA6sEimKIJ9AAyxVVX7PPa4RMQ9eWx7M1Cnk3RecpIowe0bvhERH55JPMzf8kG6DZjrMp+L+7eFZLkKNm8yq2HoF7PVirLMeQJW/+Yi+BXl2UuOBWsir6L0h6vNizvAh+8xN5ZozhG1+j4G2p1amJYjpC1RIAIEAEiQASIABEgAnpBgPbferEMOjeCAoA6XwLTNIAeQKa57oq8NrbgjbIru6xXHyQlfJENL9vIC00GdlJ2umzcmsFjEBP+wuQCqGlJnBYtAAAgAElEQVRBrR85CRHBD2UvFSzdGF2mcQNoKoPV8YSV/YYgPvqdzAr7PJ4YuHKujq0i9USACBABIkAEiAARIAKGSID234a4avzbTAFA/pmSRCUI0ANICUgmMuTAgvV4deuQzFvrXO4Yum6ZUXufEJ+AFb07AkiR+dlkyHSUrV9FZb93TF2Ej8/Oyeapc5RYZaV6NmFl/2GIj3ors6pE7S5oNbKXnlmpmjknVu/E4wvb00wSof/yjXBwdVJNEI0mAkSACBABIkAEiAARMHkCtP82+VtACoACgHQf6IQAPYB0gl0vlZ7ZdBB3T8g714rNc2PU1k16aStfRgU+CMDeWaM54vov36JWcOe07z7cOylvJiIUO2DM9m18mWoQcpb27IXkxK8yW6u2GYa63VsYhO2ZGRke/BU+I/sASJYNKVW3G1oM72HQfpHxRIAIEAEiQASIABEgAtonQPtv7TPXR40UANTHVTEBm+gBZAKLrKSLd05ewVnfNJ1sBeYY57dfydmGOey/Pf/i2t7lMuMFQmuM3blbLWeeXXuAo0v+4Mwd7L0Tto52askzxEmLurYDJIky0xsPmopyDasZoiscm9eP/AMRwQ9kr5nbFMRIX2+D94scIAJEgAgQASJABIgAEdAuAdp/a5e3vmqjAKC+royR20UPICNfYBXcC3r8Crtn/MYNYK3ZAVsnexWkGNbQAws24NWtgzKjLe2KYPiGVWo5ER8Tj5V92XFiiWy+useJ1TJAx5OivkZi7ZBuHCs6T1uOQqXddGxZztVf3XcaV3Yv5QjqMHkJipb/KefCSQIRIAJEgAgQASJABIiAyRCg/bfJLHWWjlIAkO4DnRCgB5BOsOul0rjoWKzqx21+0W7iIrhVKqGX9vJh1MZxMxD27qZMVO4iNeA1/0+1RS/r3QdJ8fKGImXq9UCzodygmNrC9Xyioo65Q9fvgrW9jZ5bnr15rFbkyj49IUmJkQ0uWKYJukzlBsyzl0QjiAARIAJEgAgQASJABEyZAO2/TXn15b5TAJDuA50QoAeQTrDrrdLF3TpBkhIrs69Oz/Go1rqe3tqbU8PSd3j9qUYH/Dqmr9piN/w2Gd8+35fNdylWC73mco8Fqy1czyfe/fcqzvj8neZfNeM6Qr79f/PxKeCizD+h2B6jNm+FUCzS85Uh84gAESACRIAIEAEiQAT0hQDtv/VlJXRrBwUAdcvfZLXTA8hkl16h48u9BiAx7pPsPc+GvdF0UGejhJSSkoKl3TtDIomT+Ver21jUaNtAbX/3zfXGmztHZfNzcqRYbSN0NPH8tqPwPyKviycyd8LorVt0ZA3/ahXVeKzX5w9Ubl6Lf2UkkQgQASJABIgAESACRMAoCdD+2yiXVWWnKACoMjKawAcBegDxQdF4ZHgPHYfosGcyh4qUb4GOk4cZj4NpPPnyLhibx/Xj+NZlxkoULFlUbX+v7D2Fq3uWyeYLBJYYvWM3hEKh2jINZeKRpZvx/Ooeow1+soDxij4DkBQfLPPRsUBl9Fs8w1CWiOwkAkSACBABIkAEiAAR0DEB2n/reAH0RD0FAPVkIUzNDHoAmdqKZ+3v5ol/48ubq7JBzoWro8+CKUYJKcORVYgxavteiMVitf19/ywQflOHc+b3mLMWed0KqC3TUCb6TV+K909Oy8zN5VoOA5an6SptKI5kYeehRb4IuJGmM7bADEPXbTOKOodGsDzkAhEgAkSACBABIkAE9J4A7b/1fom0YiAFALWCmZSkJ0APILon0hJIf4TV2rE4hnovNkpI/6zZiUfnt8t8E1u6YtRmnxz5yrLElnTvCEgSZHJyeqw4RwZpcbLv2Gn4+t5fptHVow56/j1RixZoXlVw4CdsnTCQ0+m5QtN+aNivveaVkwYiQASIABEgAkSACBABgydA+2+DX0JeHKAAIC8YSYiqBOgBpCox4x5/2mcf7v27UR4Us3DBqC2+Run09j8X4NOLCzLf7F3LYSAPGWsr+w1FfHSQTK5blbZo9/sAo2SY1qk1g8cgJvyF7KVilX9F+wmDjM7vNUPGIOar3E+rXO4Ytk5+7NvoHCaHiAARIAJEgAgQASJABHgjQPtv3lAatCAKABr08hmu8fQAMty104Tlt45fwoXN82SiWQ27sX57NaFK5zLXDBmLmK/PZXYU8myKzlNG5tiuzRNm4UvgNZkch3wV0X/pXzmWq+8Clnv1R2LcZ5mZ5Zv0RaP+HfTdbJXtO7/1MPyPruPMM5Vj3irDoglEgAgQASJABIgAESACHAK0/6YbghGgACDdBzohQA8gnWDXW6Vv7r3AvtljOPYNXb/LKGucLenREylJ4TJfK7YYiAZebXK8NsdWbsPTS34yOXwcLc6xUVoQsLhbZ0hSYmSa6nQfj2pt6mlBs3ZVxEXFYNWAnpxj3saa7ahdsqSNCBABIkAEiAARIALGT4D238a/xsp4SAFAZSjRGN4J0AOId6QGLTAqPBJrB3fj+NDxz6UoUtbDoP1Kb7w0iNO/M+fllqNmo2TNcjn28+6pazizYVYaOUKM3LIX5hbmOZatrwKSEhKxrFc7jnmtx81D8Wpl9NXkHNm1afxMhAbdkMkQm+fGyM2+JtHtOUfgaDIRIAJEgAgQASJABEycAO2/TfwG+O4+BQDpPtAJAXoA6QS7Xitd1LUDIImX2VjPaxIqt6it1zaratzzG49wZBG3QcXgtTth62CnqqgM48ODv8JnZC/O621+XwCPKqVyLFtfBQS/+YitE1lzDPnltcgXuQu66KvJObIrY5AXaDbiL5SpUzFHcmkyESACRIAIEAEiQASIgHEToP23ca+vst5RAFBZUjSOVwL0AOIVp1EIW9a7L5LiQ2S+lG/aF436GVctt/PbjsL/iLfMR6HIHmN27OBt/ZZ074aU5EiZvEotB6J+75wfL+bNQJ4FPb1yH8eWTU4jVYAx2w9CKBbxrEk/xLFuz8t69eYcIXdxq41ecybph4FkBREgAkSACBABIkAEiIBeEqD9t14ui9aNogCg1pGTQkaAHkB0H6QnkL7LadFKrdFh4mCjArV39moE3jsu88k6lzuG8tjJ1XvIWESnaTBSoFQjdJ0+2qgYpnXm6v7TuLJrqewlgcgWY3fI6yAao+N7Zq3E2wf/yH0WWmHExm0wt7QwRnfJJyJABIgAESACRIAIEAEeCND+mweIRiCCAoBGsIiG6AI9gAxx1TRrc/r6ZnmK1kTveWmzuzSrXxvSN4z6E98+3ZWpcnGvjV6z+cve8pu+BO+fnJHJt3EqgSFrFmnDNZ3oOLluNx6e2SLTbWaVD79tWq8TW7SlNOjJG+yePoKjzlg7H2uLKekhAkSACBABIkAEiICxE6D9t7GvsHL+UQBQOU40imcC9ADiGagRiNvz9yq8vX9C5omtc0kMXr3QCDyTu7DcawAS4z7JXihZpytajujJm49nNh3E3RMbZPKEYnuM2c7fEWPeDOVJ0L45a/Dm7jGTCXj+cHRl/+GIjwpMs84OGO7ra9QNX3i6ZUgMESACRIAIEAEiQARMkgDtv01y2TM4TQFAug90QoAeQDrBrtdKM2RzWebFb5vlwSy9Nl4J41KSkrGkB6tpmCQbzXejk4Cbj3Fo4QSONQNXbYN9bgclLDS8IVsnzUHw6/9khjsXqoY+C6caniMqWnz1wBlc8VvCmVWmXg80G8rtpK2iWBpOBIgAESACRIAIEAEiYKQEaP9tpAurolsUAFQRGA3nhwA9gPjhaExSbhw6j0s75Bl/AqE1xu7cbTQufgx4hx3/G8Lxp9e89XApmo83HxPi4rHCqxOAFJnMRgOnoHyj6rzp0CdB60dMQkTIQ5lJhTybovOUkfpkokZsYc1AVg8YhvjodzL5QpEdhq73haWNlUZ0klAiQASIABEgAkSACBABwyVA+2/DXTs+LacAIJ80eZQVGBiI5cuX49ixYwgKCoKFhQXc3d3RuXNnDB8+HNbW1mpri4mJwT///INTp07h1q1bCAgIQFRUFOzt7VG8eHE0bdoUQ4YMQd68edXWkd1EegBlR8j03g/wf4JD83/nOD7cd4/RBDRuHrmIi9vmy/0TmGPMjr0QCoW8Lnb6bsql6nZDi+E9eNWhL8JW9huK+OggmTl8H6nWFz8V2eF//DLOb57Leat4zU5oPcpLn80m24iAUgRSEhKQ/OULkiMjIUlMApISIUlKSv1KZN9Tf0a615Cc/P3972OTEqX6BGZm6b7MU382//H6959/jJO9nvq+0NoaQltbCHh+XisFgwYRASJABIgAEeCBAO2/eYBoBCIoAKiHi3jkyBH07NkTERERCq1jQToWGPTw8FDZ+vv376NWrVrSgF9WFwsGrlu3Dl26dFFZhzIT6AGkDCXTGhMR+g3rh3EDVZ2nr0ShUkWNAsTR5Vvw7D95RqO5dX6M3LiOd9/SNxrJXfRneM37H+969EHgkp49kZIYLjOlWrvhqNO1uT6YphUbVg0cibiI1zJdLGt2yNqNsLa30Yp+UkIEVCEgSUhAUlgYkkK+ICn0C+KCPyEm+APigz8j4UswUkLDIAn9CuHXSIij41QRrbWxLAgotLeDyM4eIjs7CO3Tf099TzbGnjtGIBBozVZSRASIABEgAkQgLQHaf9P9wAhQAFDP7oM7d+5IA3SxsbGwtbXFH3/8gfr160t/9vPzw/r1qR0uWRCQZe/Z2dmp5MHly5dRp04d6Rymp1WrVqhSpQqcnZ0REhKC/fv3S3WwI2YikQgsGNm8Of8banoAqbRsJjGY3XNLuncAJKkZG+xq2P9/qNDkZ6Pwf8uk2Qh5fUXmi2P+Sui3ZCbvvu2fvw6v/Q/L5FrYFsYIn9W869G1QOn90q09p6Zi48HTUK5BVV2bpjX998/exKm1Mzj63Kq0QbvfB2rNBlJEBH4QkEgk+Pb2Jd7eOo/wB7eRFPgWoq+RMP8WA8tvcbCMkdc/NUVqAnNziF1dYebqCnHevDDL6wqxa16I87rCLG9e6XtiZ2cIRCJTxEM+EwEiQASIgIYJ0P5bw4ANRDwFAPVsoerWrYtLly5BLBbj4sWL+PlnbvBjwYIFmDAhtcj/tGnTMH36dJU8uHLlCpYtWyadW7p0aYVzDx06hHbt2oH9Mc+OHb948QJ8f2pNDyCVls1kBi/t5YXkhFCZvxVbDEQDrzZG4f/qgb8hNuKVzJeilVqjw8TBvPt2df9pXNm1VC5XQ0eNeTdcRYFRYRFYO7Q7Z1aXGStRsKRxZIwqi8N7yFhEf30uGy4QWGLAKh/YO+dSVgSNIwIqE4iOj8KbR1fx+c5VxDx5BLMXQXAK+gbbGHn9UZWF0gRALIbYJQ/MfgQG0wUIzYsWhdjRkUgRASJABIgAEVCZAO2/VUZmlBMoAKhHy3rjxg1Ur55arH/w4MHw9vbOYB3LevH09MSTJ0/g4OCA4OBgmJmZ8e5Fx44dsW/fPqlcf39/VKpUiVcd9ADiFafRCFs9aBRiv72UBzNEtnDMVwqFPcvB85fqcHXLb7C+Lu7eFZJk+dF7TR1XVdRspOtfq1GgeGGDZafI8Df3XmDf7DGct4b77Ialrfr1UQ0R0JP/7uL48j85phcu1xyd/jfcEN0hm/WMQEJyAl6FvkDQ/SvSrL6UZy9h+zoY+T7GwypB88aycGKyCEgWAknfv2f13+y9ZJEASey79L9TbRQlA2L2lSKBWRL7/v3nH6/L3v/+ehLAb3VW/liJnJ1h4e4Oc3c3WLh7wMLDHeZubhDnycP7h7X8WU2SiAARIAJEQNcEaP+t6xXQD/0UANSPdZBaMXnyZMyZM0f639euXZMFA9ObOHfuXOnRYHadPHkSTZo04d2LVatWYcSIEVK5u3fvRqdOrLMofxc9gPhjaUySNo6djrD3tzJ1SWTuBMd8xVGkXAV41quG3AVdDMJ9Rdlq7SYuglulErzbn3qUuhMgiZfJrtl5NH7u0Ih3XboUeOfkFZz1nS03QWCBcX6pH1qY2rVuxEREhjxKw8Ic/Zeuh0NeZ1NDQf7mkMCn6E/478Y+hF06J83qyxMUiUIhEpgl51BwmuksOBdhDYTbAuHWAnyzAaLtzBBnb4kkR1skO9oBTg4Q5naCyN4eEhYElCQjRZKi8Iu9x04sSMew/6VI/186NjklGfHJ8YhMiEREQoT0OxunzCVIkUiDhsx3ywTAJh6wjgNs4iTy/45P/dla+h3fv0vS/DcgYg5o4WL1CNMHBi1YYDBfPmpeogX+pIIIEAEioO8EaP+t7yukHfsoAKgdzkpp+XH818bGBuHh4dJjwIquq1evombNmtK3pk6dihkzuDWglFKWzaDFixdj3Lhx0lEsE7B9e1Zri7+LHkD8sTQmSee2HMLtY6l1LpW5xBZ54FSwBIqxgGD9anBwdVJmmtbHPLp0B/+snJJGrwAjNu6FhbWFRmxZ2X844qMCZbI1ddxYI8YrKfT81sPwPypvoiIyd8borZuVnG1cwxR10C5QqiG6TudmSBqX1+QNHwRY4Oz51+e4en0fok7+C/fbn1E0OGeSoy2ATwWsEFPUBSmuzhA4OUKU2xkWeVxgmScvbJxdYW/pADtzu9QvMzuYifg/yaDIC+ZvbFKsLBjIAoJpg4Pp//vHz8ExwQiNk5enUJqQRAKLRMA2FnCKApwiJXCOAJwjJXCKlH9n/82yEjVxCaytwQKBFu5uMHf3gFVZT1iWLQuRra0m1JFMIkAEiAAR0FMCtP/W04XRslkUANQy8KzU5cmTB1++fEH58uVx9+7dTId+/foVTk6pgQ6Wmccy9Pi+2rRpg8OHUxsJPH78GKVKleJVBT2AeMVpNMKSEhJxcOF6vH1wDpKUWJX9MrPMi9yFS6JYxQooW68abJ3sVZahiQlnfPfj7klfmWiRmRNGb9uiCVVSmekbjuRyLY8By//WmD5dCD6ydBOeX90rU21pVxTDN6zUhSl6odNn9BSEf7yTxhYxei/wRp7CefXCPjJCfwgkpiTi9id/3Lp2AAmnL6D0g28oHKKefRG2IoQXcUSSR2HYepZF3oo1UbRkdViINfPhhnpW8jOLHYdmgUCWJfkp5hM+R3/m/PfnmM8IiwtTS5lAIoF9NAsIfg8Kfg8Ssp9/BA1zR/AYJBQIYOHhAasK5WFVPvXL3N2dMgXVWj2aRASIABEwDAK0/zaMddK0lRQA1DRhJeXHxcXByspKOrply5Y4evRoljNZh+Do6GjUqFEDLCOQz+vevXuoXLkykpOTUbZsWdy/f19l8ewBk9X18eNHVKtWTTokKCgIBQsWVFkHTTBeAilJyQi4/RTPrtzCh+cPERX2inOkVTnPhchfoh66TB8NoVC31Zx2zViGd49Pycy2dS6JwasXKueGGqNOrN6Bxxd2yGayTMlRWzaqIUl/p/hNX4L3T87IDDTGIKcq9AMfvMTeWaMB6YHJ1MvVow56/j1RFTE01kgJRCdG4793l3H36iHg3FVUfByHgiomtEU4WyLGLS/MSpaAU7nKKFTlF9jlM67aojldfnbcODg6WBoglAYKoz+BBQY/RH1AUGQQ3kW+Q5JEvW7IwhQJXL8CBUMlKPAFKPhFIv3v/KGAZWJOLQeEtrawKlcWlt8DgiwoSA1Hcs6VJBABIkAE9IUABQD1ZSV0awcFAHXLX6Y9JCQELi6p9cy6dOkCPz+/LC1zdXWVNgBhDUEePHjAmxfx8fGoXbs2bt1KrcPGsgBbt26tsnxVugZTAFBlvCY3ISkpCS+uP8Szq7fwMeAxYsJfAxLldjz1+05GpWapR+Z1daWv0Za/RAN0mzlWY+bcP3sTp9amLQ2g2SPHGnMkC8G+Y6fh63t/2Yi8HnXR4+/UDummem0aPxOhQTfSuC9C979XIZ8HfcBiivdESEwIzr09i4dXj8D60j1UfZKE/F+VIxFrZ4GEiiVgW7Yc8lWsBQfPChA5OCg3mUZlSiApJQkfoz4iMDIQgRGpX28j3kq/f4j+IK1bqOrFsgdzf0sNCBYI/R4YlAYHU2sS5uQyK1JYliFoVb4CLEsUh0ADjedyYiPNJQJEgAgQAeUIUABQOU7GPooCgHqywiwIVrhw6ifpvXr1wpYtWR8PZGPZHHd3dwQEBPDmxcCBA7FhwwapPC8vL2zatEkt2RQAVAsbTVKSQEJ8Ap5duY/nN/zx+eVjxH5j9e4UZ1UUrdASHf4YqqRkzQxb1rsPkuK/yIR7NuyNpoM6a0YZAEVNR1qPm4vi1Tw1plPbgtcMHo2YcPmzz61KW7T7fYC2zdArfe+fv4XfFNa8SR5EyF2kBrzmc7sE65XRZAyvBNix1CMvD+Ppf0eR+9oL1HgmgWu4ciriHKwgrF8Lxdp2h12VahCIvrfQVW46jcohgcTkRLyLeicNCL6JeJMaGIxMDRCyTEJJmuxepVRJJHCMkgcGC32RoOgnCYoFp3Y6VucSWFjAsqwnbH7+Gba1asHS0xOCTOpVqyOf5hABIkAEiIDmCFAAUHNsDUkyBQD1ZLX0IQOQdSBmnYjZVbVqVZw7dw6sIYk6Fx0BVocazVGXQHxMPJ5cvo0XN/zx/ul1JCfK01wcC1RGv8X8N8pR1lZW13BZrw6coEzjwdNQrkFVZUWoNW5Jjx5ISfomm1uhWX807NtOLVn6OGlZ735Iipd3KyjftC8a9WOcTfva+sdcBL+6nAaCEJ2nLUWh0m6mDcbIvWdBoq03vJG49wga3E5CngjlHI5ztoVlw3oo/GsXWFeqRDXglMOm9VHsaPGbb28QEB6AF19fyL6zrEFVL7MkFggEin+Q4Cf29V6i9P2SXhfrPGxTowZsateSBgTNChRQ1RwaTwSIABEgAloiQAFALYHWczUUANSTBdJ1DcC1a9diyJAhUholS5bEpUuXkDt3bo3RoQeQxtCavODDizfixfV9Mg4WtoUxwme1zrik1mYbxdHff9lmOOR11qhNa4eNR1ToU5kOTR871qgzCoQv7tYZkpQY2Tt1e05A1dZ1tW2G3ukLDvyErRPYs1yeEavrILjeQTIig1gH321XVsNi/yk0vZUCGyWOfCbkyQW7pk2Rr1U7WJYrR0E/A74fohKiUoOB4S8Q8DX1OwsQhscrmfb53XfHSAk8PkhSg4LvJXD/CFioUarQvGhR2NSqJQ0I2lSrBqGaHyIb8JKQ6USACBABvSVA+2+9XRqtGkYBQK3izloZC7iFhoZqvQvwzp070bNnT6SkpKBIkSK4fPmyxpty0ANIj248IzPlvz3/4tre5TKvBCIbjN2xS2deXtl7Clf3LJPbI7TG2J38d+5O72D6xiPWjj9hqPcSnXHgUzE7Ar6id3uOyDbj58Ojamk+1RisrB1TF+Hjs3Np7Beg3aSFcKtYwmB90mfDWZYvq7v5/Np1JCbEo3aX9ihWvrhGTb4fch/bL6+E84HLaHxHkm0TiMS8znBq0RLOzVvD0rMMVCnToVFHSDjvBCQSCULjQsGCwz+Cguz7y28vEZsUq5Q+UbIEhUIgzRAs/j41UzC/qg2OzcxgXaECbGrXlgYFLUuXomCzUvRpEBEgAkRAMwRo/60ZroYmlQKAerRidevWlWbesWO34eHhEGdSV4V1/a1ZM7WpwdSpUzFjhvrHG1mTjw4dOoA1WciXL59UP6srqOmLHkCaJmy68gP8n+DQ/N85AAav3QlbBzudQDm4cANe3jwo021hWwQjfFZp3JbzWw/D/+g6mR6hyA5jduzUuF5tKPj86gO2/TGIo6rv0k1wyqe5rGVt+MWXjrCPX7BxzEBOoxx713IYuHw2XypMXg6rs+l/4hICbl3Dt49PIJHEyZgIhNbos3g17/cjC+xc/3Qdu86vRJEjt1H/ngTmWdRySy7oitwtfoVD8+awKFmSgn4mfNeyD3hvHr2I188fQ1zJGYH27/A49DGehD5BZGKkUmRsY1IDgWXfSFDutQSF5WVtlZovcnSU1g78ERA0c01tfEcXESACRIAIaIcA7b+1w1nftVAAUI9WiNXfY3X42HXt2jVUr15doXVz587FH3/8IX3v5MmTaNKkiVpenDlzBi1btgTr/Ovs7IwLFy6gTJkyaslSdRI9gFQlRuOVJRAXFYNV/bkNNlqPm4fi1bRzb6e3c+O4GQh7d1P2snPh6uizYIqy7qg97tXtZzgwbxxnfv/lW+Dg6qS2TH2Z+OTyXRxfkbaxhRBjth+AUExNC36s0e6/ViDo4UnOkrUaMwclapTVl2U0ODs+vXoP/+Pn8PaBP2LCXwHIPPqWr0R9dJ/J/f1T12HWGfZC0AXsO7sCpY8/RZ2HEogzaRYrEQAWDesh/+DhlOmnLnAjm8cyVLdMmiXrmi4Q2aLn7CVwKZoPLKj8LvIdHoelBgOlQcGwJ0odIXaKkKDcGwnKv0oNCtorl1woo2tZvhzsGzeGXaNGYEeH6SICRIAIEAHNEqD9t2b5Gop0CgDq0UrduHFDFvQbPHgwvL29M1jHPsX19PTEkydP4ODggODgYJiZmansxZUrV6SBw+joaOTKlQssGFi5cmWV5ag7gR5A6pKjecoQWNK9G1KS5VkN1doNR52uzZWZyvuYlf2GIj46SCb3p+od8OvYvrzrSS8w9ZhsJ06QokG/yajYNDV72JCvq/tO48rupTIXjCm7ka91ifgSjvUj+gMSeVE4W+eSGLx6IV8qjF4O+/f2xY1HuH/mIj6+uIvE2I8q+CxGzzmr4eqWX4U53KFJKUk4+eYkjpxahcon36DmEwmEEsXiJEIBrFs0Q76hw2GhhSx+tZ2iiVolEBcdi82/T0VU6BOOXhf32ug1e5JCW1hQkHUdZsFAFhiUfg99jLC4zM8ACyQSFPsElH/NsgNTUOIdMg1SK1JqUby4NBBo16QxLEqUoGxVrd4lpIwIEAFTIUD7b1NZ6az9pACgnt0HP44Bs+O/Fy9exM8//8yxcMGCBZgwYYL0tWnTpmH69Omc98+fP3nDiqsAACAASURBVI/69etLX/Py8sKmTZsyeHj37l3pGHbMmB03ZlmEtWrV0ioJegBpFbfJKVs1YATiIt/I/Hav2hZtxw/QOgcWQFjavTPneGDNrmPwc7uGWrFluVd/JMZ9lukqUaszWv3WWyu6Nank5NpdeHh2q0yFuVV+jNwkP+6sSd2GJHvfvLV4c/sIx+Smw2bA8xftfdhjSLyYrQlx8bh36jqeXrmCL2/vIyVJyXa6ChzNXaQGvOanzVRVjkZCcgIOvTyEf0+sQe0zn1DteSZRP9ZbXCyEfZs2cB08BOaFCyunwABGsUzuW0cvIurrV9Ts3AL2zrkMwGr9MpEdU988YTLn30K5hWL0XbIeTvnzKGU0CwqGxIZIA4EPvjwAq0HJvkcnRiucbxkvQZm3qUeFWVBQlfqBZoUKwY5lBjZuBKvy5aluoFIrRIOIABEgAtkToP139oxMYQQFAPVsle/cuSMNxsXGxsLW1hbsWDAL1rGf/fz8sG5d6ia3ePHiuHXrFuzsuHXNsgsAvnz5Ulo/kGUOsmvJkiVo1KhRlhRcXFzAvvi86AHEJ02SlZ7ApvEzERp0Q/ayuhvxnJIN+xCCjWO42X6dp69EoVLaOe7kO2Yqvn64LXPDqWBV9F00Ladu6Xz+3jlrEHj3mMwOG6cSGLJmkc7t0jcDosIjsW5oP0hS5GfzrHO5Y+g6eVMafbNZF/awQP31g2fx6PxZfAt+CkgSlDRDCGsHNxQuWwWVmtXDqfVbEPLmSpq5AnSaugyFy7gpJS8uKQ67n+3GpePr0OBsGCq8ziLwZy6GQ+dOcOk/EGb58ikl3xAGvX8WiIs79uHj8yuQpKTWVWRHVjtNmau156YhcMrORlYHdPsfk5EQ+yHToQXLNEGXqb9lJyrT95NTkvH622vc/3JfGhC8F3IPL8NfQoKM922ecHkwkB0XVqZbNVMszpNHGghkAUHrKlUgUOPEi9oO0kQiQASIgJERoP23kS2omu5QAFBNcJqcduTIEWlX3ogIxZkHLPh37NgxeHh4ZDAjuwAgywjs21e144eKMg1z6j89gHJKkOZnRWD//LV47S/PfLKyd8Ow9fLOwNqid/fUNZzZMCuNOhFGbd+XaYMfvu06vGQjXlzbJxMrFNtj1NZtEAqFfKvSqrwtk2Yj5LU80KKtuopadZInZYcXb8SL6/J7gIk1lqPgfCCKiYjGzqlzEf7xjnLiBBZwyFsaHlVroHLzOrB1spfNCw78hK0ThgBIkr2WK28FDFiW9hmgWM3NTzfhs3sSGh39gDJvMzclxcoCzj16IHefvhDnNo6mNylJyfA/8R9unziS4ajqDxIicyf0WbAEDnmdlVsnEx7FalX6TZuM5ITQrCkILDB49UbOPZxTbFEJUXgY+hAPQlKzBFlwMP3RYdZhuEygBNWfS1D1uQQOipMIM5gizGUPu/oNpMeEbWrWhNDSMqfm0nwiQASIgEkRoP23SS13ps5SAFBP74PAwEAsW7ZMGuhjv6zm5ubSgF+nTp0wYsQIWFtbK7ScAoB6uqBkllYJXNh+DLcOr0kT+MqFMdu3a9UGpiz9UVWxhQtGbfHVmh0Bt57g0AJuR+R2kxbBrWIJrdmgCUXrhk9E5JdHMtGFPJui85SRmlBl8DLZUcrVg/pBkhwl88XCtjCGrV9p8IHgnC7Om3svcGjRbCTFh2QpSih2gEvRcihZuxbKNqgKcwvzTMfvnLYYH56e5bzfetxcFK/mqXAOC5isuLoQ4g270eJW5jX+UmytkMerL5x79YLIwSGnruvF/IjQb7iw7SBe3jqbfbAKALtvByxfBEsbK72wXx+NCHwQgP1zp2Y4us46U1ds3gO3j63nmK3p8hjSJiNR71KDgd+/nn59Clbfkl2CFAmKvweqP0uRHnV3+aYcVYmVJezq1YNj27awqVULArFYuYk0iggQASJgwgQoAGjCi5/GdQoA0n2gEwL0ANIJdpNR+vTqfRxbOpnj74iN+2BhbaFVBjumLMTH5+dlOu1dymLgitRO39q42NHGZT17cBqiaKsJiSb9W9lvCOKj38lUlKrbDS2G99CkSoOWfXzVdjy5uJPjQ53u41GtTT2D9isnxl/ceRw3D23I9LivuXUB5C9ZCeUb1oVbpRJKB0vDP4fBZ9RATvOVzI6oX3p3CX7bJqPTwS9wDVfsTYqDHVz7DYRj924Q2drmxGW9mRvg/wRXdh9ASOBNQJKokl3sGdp/ySzq+K2A2rNrD3Bs2V+QpMRw3mWZ3+0nzUSRsh5I/+GJQGSDYes3aTWoyo66s/qB/p/9cfvzbdwNuYvYpFhAIkHRz/JgYKEvyt0aSY52cGjTBi4dOsPip5+Um0SjiAARIAImSID23ya46ApcpgAg3Qc6IUAPIJ1gNxmlrPj52qHdOf52mLwERctrd3PgPXQcosOeyezQRaZa+nqIxlADbkmPHkhJkqeKVG83ArW7NjOZ+1tVR1lji1X9+3GYscYpw329lQ5sqapTX8ez7th7Zy3nBOZltgrMUaJWO1T7tTFciuRV24V9c73x5s5RzvzGg6aiXMNq0te+xX/DknN/wcXnOOo/UFznT5LHCXkHDoFDp44QWhl+xltSQiKu7j+N+2eOIy7iddZsBeZwcauGMnXr4sKWFZwPMNjEfCXqo/vMcWqvjzFOvHf6Ok5vmJchoC0yd0bXGbOR162A1O1Hl+7gn5VTOAhK/9IDzYd10xmWxJREPAt7Jg0ISoOCwbelvyP5QyWo9ox9pcDjk3LmRXvkg1O7DijcvjvEjo7KTaJRRIAIEAETIUD7bxNZ6GzcpAAg3Qc6IUAPIJ1gNymli7t15mRC1OwyGj+3z7rhDd+AlvbsheTErzKxFZoPQMM+bflWk6U8aabTwdVpxogwdP0OWNvbaNUOvpSxrMYl3dpz6qw1HTodnvWq8KXCKOX8u34PHpzezPGteoeRqN25qVH6q8gpVqNv98y/EB8VmOFtdjy/7e//Q5Gy7jnmkdp8pT/n+WNpVwRD163A6cBTOLFxKjofi1BY+yzFTIQ8Q4ch94ABEJpnftQ4x0ZqScCXd8G4sG0/3t6/kCGQl94EsUVu/FS9Mep2/xW2jqkNzp7feIQji6dkCGyVqN0FrUb20pIX+q3m6oEzuOK3gvNMZBabWeVDzzlz4JSPWyty9aDfEPvtlcwpoZkDRvpuhNjcTC8cTZGk4FX4K2kg8NbnW9KgYPLHz9IjwtWep6BUECDMvD+O1IckERBa2Q1O7TugTIseEJlrN/tfL0CSEUSACBCBdARo/023BCNAAUC6D3RCgB5AOsFuUkpX9BuChDTHRIv/3AmtR3tpjUFcdCxW9esMpOmI2OK3WShVq4LWbGCKWJ2t9cN6cuzQRTCUL6cjvoRj/XDmj/zqOnMVCpQowpcKo5TDMrBW9u+P5IQwmX8s6DXSd71JHKe8++9VnN24FJKUjB0HHPNXQteZk2Btp7i2rjo3xJFlm/H8yh7O1LiKP6HQfydR9YXi6IWwgieKzp4PC7di6qjkbQ4L2vkfP4/4qO+sBHLRAsGPH75/V/Te9zGfXz1H+If7AJKzsE0AuzylUbnlr6jY9GeFGak3j1zExW0LAaRw5JhaAFsRxHNbDuH2MZ8MbCztisJr/myFDT5uHb+EC5vnccRVajkQ9Xu34e0e4lMQqyP4Puq9NCDIgoHPXt5AwZtv8cuDFHh8zF5ThI0QH2p5wLl9R1Sp1QHWZvz9nmevnUYQASJABPSHAO2/9WctdGkJBQB1Sd+EddMDyIQXX0uu+4yZgvAP8s6eLu610Wv2JC1pBxQ14Bi8didsHVIzW7R5rew/nJP15OJWG73maI8Fn76+vvcc+2eP5Ygc7rtHqzWs+PRHm7LObz0M/6PrOCortxqEer1+1aYZWtXFMkaPLNmIgBsHOUHwVCNEKP1LVzQd0oX3o9DxMfFYPbAvpxmDCA5ofO82hGk+FGBWJFtZIP/vE+HYtQsEOu7QfXLdbjw8wxomZRW0y/kSsqYUBUrVRt3u7ZHPo2C2Ak9t2Iv7pzalGydG02FT4PlL5WznG+MARbU9mZ+2ziXhNX8mLG0VB7rY78Sq/kOQEPNBhkVs6YqRG9fz/nugKe6foj/hQtAF3Lt5FA5n76LWgyQ4yfscZar2TV4h3tZ2R5427VG7TAu4WLtoykSSSwSIABHQOwK0/9a7JdGJQRQA1Al2UkoPILoHNE1gz9+r8Pb+CZkaa8fiGOq9WNNqZfIv7mBNBuRHb4UiO4zZwW3EoC1j9s1bize3j8jUicwcMXrbVm2p51XP7X+u4NzG2XKZAguM89vHqw5jFZaSlIwV/QZwut6KzJ0wwsdHb47/8cmeZb/6TZuNyBB5x+gf8lljhCZDfkeZOhX5VMmRdXD1Fry8sJvzmluYFUoGPZS9Zla3JorM/BtmedWvOciHAzGRMdg1bT7C3t/iQ1ymMlhzldJ1m6F2lxYqN2XaO3s1Au8d58hmgcROU+aiUGk3jdqtT8JZAO/AgvWcZ/oP+1g2a8+5f2bZqZqNvez3D64fWMlxy1Azw6MTo3E16DKe/bsHdqduofzTeJhnE79OEgJ33AV4XdcNpVv1QlP35rA3t9enZSZbiAARIAK8E6D9N+9IDVIgBQANctkM32h6ABn+Guq7B2c2HsDdf9jRqNSLBTpGb92iNbP3zVmDN3ePyfRZ5XLHsHXLtKY/rSJFXZE7TV2OwmUMb9OceuRtfZp1dcbordzadjqBbCBKL+8+iev7WL0w+ZW3eD14VKmMPIXyw6VYfln9NQNxSaGZATcf4+iyuUhOlB95/jHQ2uEndJvxJxzyOmvERVbDbPejnXi+chHswksiRRIh0yMU2KPRvXsQ2Fuj0NQZsG/RHPJjtRoxJ1uhgQ8CcHDBbCTFB2c7Vr0BIjgVqIga7duiVG31SyCwwNfm3/9C2LubHDNEZk7ovWBxhlp36tmq37MYA7/pS/Dx2bkMhrIs9x4zf1fqSL/0w4C+/ZGUIG+1a2FbGCN80taL1W8WiqxLTknGg9fXELBvE2xP30KRt3HZOvHZAThdxRxo1QDNy3ZEjXw1IBKKsp2XkwExEdG4sO0QAm6cR0JcKAQCMQTC1C+h0AwCEfsuhlBsDpHIDEKxGUTsy4x9mUMs/TKD2NwcYgsL5MqdG54NqsPBhRqf5GRdaC4RMHYCtP829hVWzj8KACrHiUbxTIAeQDwDJXEZCDw8fwsn10xP87oQo7bu01qmk8/oKQj/mOYIsg6P3bLN3tJe3Tn1zwy1iP7hJRvx4po848/SvhiGr+cGtOjXIXMC0uN/rD5mrPz4X/rRAoElxBa5YGHjCCt7J9g554GDqwucC+RDniL5kaewq9Z+j9RZy9TgPwsKJ2WYXrhcc7SbOBhisVgd0dnOCYwIxOpd4/HLtoco9hl4WsgTr5xiOfOK2pdEm/n/04supdJM5cMbMjTZYAZb2BaRBh0gSa1ZyK1c+P0n2bc0734fz4IWed3L4JeebXkLzrEuzj6/TUBMeACHqYVNIQxYvijTY6/ZLpyCAex35creU3h29TKS4mNhYW0PK7tcsM7lAFsnB9jndkYuF2c45c8NexdHjd1TP0xjdTy3/jE7QwCUvc/u6w5/DFXpCO9pn3249+9GjucNB/yJCo1rqINLL+e8efAfXu70ge1Zf9iHJ2RpY5wZcNFTgBu1c6Nqjfb41eNXuOXi90OyjwFBOL91Dz48+w+QxPPMTAAL20LIX6I8ytStiZ+qlVHpfuDZGBJHBIiAHhKg/bceLooOTKIAoA6gk0qAHkB0F2iaQNiHEGwc05ejpsuMlShYsqimVUvlL+8zEImx8grlJet0RcsR3OYVWjHkuxLfsdPw9b2/TKWNUwkMWbNImybwomvn1MX48OysTFauvBUwYNksXmSbipAbh87j0g7WVEHdSwCh2A5mlg6wtHWClb0DLKxtYGljAytbW1ja2cImlx2sHexh58S+ckm7TgvFms2qYXX3ds1YhJA3VzI4JhBaolbX4ajepr66Tmc5j2Uebbvjg5CVK9HsWiJE3+NhrG3F6fKVkYRw2XyhyB7DNmxU+Qgsn4YnxMVj919L8TngUkaxAjNUaT0Av/RoyadK3mRFhUXAd8wYJMZ95si0z+OJ/kv/zvF99iPwd/vYHiTGfVLSbgEEQiuIzGxhZmkLcyt7WNnawypXLtg4OMLe2Qnm1lYQm4mlwXP2JTITw0yawWUGMwtziM3F0qO77GfpV5ogNbu3N0+YqvA4u7oNrlgwdVW/Ppw6ldoulaEkXOkw1l370YVbeHX7DsI/B8HOKS/ajh+qsNFJermS5GQEXzqDwF2bYXX5LsSJ3IYy6cffLyrAiSoCJFUvj1+Lt0XTok2RyyKXKubKxrL76eF5f1w/eAARnx8oqEWqlthsJwlEtnDKXxpulaugQpNasHdWz/5sFdEAvSTw+dUHPL9xDyVrVkSewrotMaGXgEzUKNp/m+jCp3ObAoB0H+iEAD2AdILdpJSyP7qXdO/IyWz5pdcEVGlVV+McUnV3ACSJMl2/eE1ElRZ1NK47MwUZG0CIMdx3p8E1z/AdMxVfP9yWucmOr/b4a7zOuBqiYnZ/rh02DjFfX2jRfAEgMIdQZAmRmAVKWJahNcwsrGBuZQ0LKxtYsuChrS2s7O1gxYKIDnawdbSHrVMu2DrZZZlhxTJr9v79F6exwQ/nzK3yo/3kP1GgeGGN+BuREIFFm4fgF987yPc1o4qX+YrjmQu3KJm6QRs+HPgY8A57Z8/idEn/IVdskQdtxk1G0fI/8aFKYzLY5nbHn+OQkhzJ0ZGT54F6gT+NuQiAtVgWAQJhqhJJ+gw2Aco37YNG/TqobcTR5Vvw7D9uncpWY+agRI2yasvka2JcVAweXvTHy5u3ERL4BPHRLGuZG7hzKlgVfRdNU0llclQUvh47ig9bfWEWEJTlXHY8+GQlIS5XsECNEg3RxqMNfs73s1JHhFmQ/fKuf/Do/DGFzyWVjM7xYCEs7Qojf4kKKFu/FtwqlaDswBwz1V8Bz649wNGl074/M0Rwr9oarUb30XiWsv4SIct+EKD9N90LjAAFAOk+0AkBegDpBLvJKV3uNYCTwVH6l+5oPqy7xjmwDfaO/w3h6Ok5Zx1c3fJrXHdmCsI/hcJnVB9O9kHdnhNQtbXmA6J8Or160CjEfnspE+letS3ajh/ApwqTkMWyqP7d4Icvb18iPuorEuPDIUmJ0W/fWQBRaAmh2BIiMytp8NDsexAxJPA2JCnco7bMmdxFf0bXaeM1lm3Hjvxumtcb7Q4Gw0xB44HkYgVQbPYCbFrlg7jINzK+rHnFoNU+Wq+3yLI/L/utUsjKsUBldJ0xEdZ2irvH6tvNweo8Hlr0Z4bAWPGandB6lJfS5upf4E8Z00Wo0XE4anVqoszgTMew5i/eg/pwfvdzuZbDgOVpGi3lSIPyk1mW4+NL/gi4eRvBb54gLvKdEt2oheg1by1ciuZTXtH3kRKJBLF37uDzJl/Enj4LQQr3kHtagex48CVPAU5UFiK+sAtaubdCG/c2cHdwz6A37OMXnNuyD4H3zkGSnHVrYpaJ71m/ifToemJsPBLjE5AYz77HIykhQf6VmIDkxEQkJSYgJTERyUnsKwEpyUlIToxDfDQ7bZCx5EFmUFhTMqeCZeBepSoqNK6p9eeQyotFE5QmwEq+rBo4DAkx7zlzWI3PNuPGm1TDJKWhmdBA2n+b0GJn4SoFAOk+0AkBegDpBLvJKV0/8g9EBLMjN6lXvhL10X3mOI1zuH7oHC7vSHO8VmCOMTv26vwT9xWs9ls021SlXjnJltE4xEwULOvdl9PFtkKz/mjYt52uzDEqvSzj5vPrjwgJ+oCw95/wLTgYUWFfEBsZhoTYr0hOYM0slN9k6haOGOWb9spRdlR29l8Lugz/ySPQ4GbGWl4pIiEcBw9EviHDIDA3x4Nzt/Cvd9qapEDRCi2lddu0cSUlJeHAXG+8ffCPAnUieDbojsYDO+n8GaUqC//jl3F+8/wMmWHV241A7a7NshTHAn9X952G/9HdWR71FZvnRr7ilREfHYW46AgkxEYiMT4SKUnRkKRk32RCVZ+yHS8wQz2v8ajcvFa2Q5UZsG+uN97cOZpmqACdpi7TeJModgT56X/38OKGPz6/eozYb2/Ver4U8myKzlNGKuNqpmMSP33CVz8/hPrtBMLlTXsUTXhQJPV4sL+HAGXylEWnEp3Q0q0lgu68wmW/PQgNYhnqWTwnBWZwKVYddbt3RJGyHjmy+8dkFsi9d/oqAm7cxJegh0hJlJccyF6BEFb2RVG4XFU06tuB1zqa2es2vhF3/72K/3Zvh5mlDdr+PgYuRbR7/Pbs5kO4c1zeKI1LWIxSdTuh2dBuBvesN747RTce0f5bN9z1TSsFAPVtRUzEHnoAmchC69hNvxlL8f7xaZkVtrlLY/AqtlnU7HVokS8CbuyXKbGwKYgRvt6aVaqE9D1/r8Lb+ydkI9nGdtTWTUrM1J8hi7t14mQvaetYt/4Q0J0lLGDCMkk/v36P0KBP+PrpMyJCQxAfHYnEuBgkJcQiOTEWyUlxSEmO00CRe+V8F5k5osVvk1C8WhnlJqgxau+1DRBOWYxSQRmzhpJLe+Cn+Utg4cHd3K8dNh5RoU/l2gTm6L90vca6Ef9QxOqh+k2fxcmc/fGe0MwBzYdPQMmfy6lBQT+mnPHdj7snfdMZI0bToX/Cs16VDEay+/ja/jO4xQJ/aeq0ph8oMndG+cbtUad7y0yPzrEgVvjHUHz99AXfQkIRGRKGqK/hiIkIR2zkN8THsN+NSCQnsmBhEiSSZIB9SY+yZl2HThFdgcgGzYf9kaNuyunlRnwJx/oR/TiZlM6Fq6PPgim8LzALVJ3x2YN3T+8iJvwNp0yGcsqEEIisOZl1LJt2uM9WXrJ8U+LjEXH8BMK2bkH84ydZmhScCzhZUYTPTiVQ/IM9xLEhWY4XinPBvXIj1OvdDva5HZRzV41R7P4OevQK989cxrsnjPNrJTIpUxUxG6u27oWanZtQgEgN9tKjt0v+J/vdZs+QoWvX8XJvKmMO+xBvzaABSEnOOoht7eCBdhN/R163AsqIpTFGRID230a0mDlwhQKAOYBHU9UnQA8g9dnRTOUJnFy3Gw/PbJFNYPWtRm3hdj1UXpryIzeOnY6w97dkE5wLVUOfhVOVF6ChkQ8v+OPkam69pK5/rdZYbTS+3WA1lVZ4cetdtZmwAB6VS/GtiuTxQIAdRYr6FoXI0G+IDo9ETHgEor9FIjaSfUUhPjoa8bExSIiJRmJ8jLTTapI0gBgLSXL89+yqzI/lKTKRBfm7zfyfxgreJ6YkYp3fBJRb8g9yc8vPSc2x6NYBxf43HQIFXYaf33iEI4smcszOX6IBus0cywNtxSLun72JMxsWZ6iVx0ZLWc2YrNFghMYcSyd435w1eHP3GOdV1pSj45/zZJlsLDBy/cBZ3DyyK9vAX7lG7VG3R+aBPz78Yvawzr4JcQlIik+UHv9MSkiSHvtMjGfHPdlriUhOZK8lQigUwKOqp0aOa+6cthgfnsqbK7Hag73meat1tDYzNqxu485pk5CcEKYCPgHMrfMjT5FScKtcAZ6/VMWHZ4E4tHACR0aFpv3QsF97FeRmPTT1ePBdfN22FREn/wWSuef7UyDAo2Ll8T4XkCJR8CBII5510y7fuBV+bt9IJ93TYyKice/UVby4cQOh7x4hJelbtpyscrmj2ZBh0lqBdClHgH0Y4D1oWIZsYm1meu+fvxav/Y+kew5aKy7vIbBAhaY9Ud+rDQV7lVtioxhF+2+jWMYcO0EBwBwjJAHqEKAHkDrUaI6qBO6cvIKzvmlrGYkxZud+jf+xs6LvIE7R7+I/d0Tr0az+nm4vdgxwea9unAy6MvV6SI+DGML16dV7bP9jMMfU/ss2azyDyhDYGKONLEDCNq+sXiH7ivkWiehvEYiJiEJcVOpXfEw0EmJjkJKUiEJlykmDAELh96YJPEP5Fv8NvvN6osGuAJinq/eXZCaE64zpcGnfKUutG0b9iW+f7qYZI0aveWt4DbQw4Yzd0WWb8eLaAQWZZgJ4VGuH1mP6aIwVz+izFcf83TJhFkKDbnDGsmzQ3vMX49m1e7h1eDcSYlkjCcUXy9bRRuAvW2d0MCDk7Sds+Z09W+U3dr7i9dCdpwZLrC7urul/IDlRQZecdP6aWeVD7kIlUKxiBZStV01hl99VA0ciLoJltqVebM4I37UauZ8TP3+WHg8O37UbyWGpwcvbHlXwySYrX4RIdiyEcm2aoGmzXyEQsIYuur/Y78mbey/w4Ox/eP/sLmK/sbqkmWWiCpDXow5ajxlkFB8SaJr+3jlrEJjuQ4hUnWJ0nr4UhUoV1agJX94FY/P4wZysWku7ovBaOAf75izHlzdXFeq3y1MGHSePh1P+PBq1j4TrBwHaf+vHOujaCgoA6noFTFQ/PYBMdOG17LaigFGveet532yndYtlPS3pyboPp+kArKXuw8rgTR+A0NaxaGVsy27Mo0t38M/KtMfShBiz86BGNn3Z2ULvmxaBl1+e48zvvVDnasajVXHOtiix1hfWntl3Tn376BX2zBzN2XSzRiVe89ixMX6uiNBv8Js2G5EhjzIIFIhs0aDvaFRoXIMfZXokhWXg+IyamLG7tcAsy6OmInMnlG3YHr/0bGXSXTI3T/ybGyQQmKH/Mh84uDrlaJXfPwvE7pn/Q0qS4rp0YgsXOBcsgaIVUjP8lNF3efdJXN+3gmNXkyHTUbZ+xiPfOTI+zWTp8eATJ/B+mx/+EbF/3zPW/hTAEo7xNgizeY4jNSIRai9Audzl4FXGCw0LN1SqezBf9iojJ+prJO6euoJ7/x5GXGSgwinsiHWZ+h3RuF8HCMUiZcSa3BhpQ6KFkzINpto4E2X4SAAAIABJREFUFseg1Qs1+rfK5gmz8CXwGod9y1GzUbJmankHaQOoXd4KG9OwNa7Wrj9qd27K+9qxDxckKRKN/t3Nu9FGLJD230a8uCq4RgFAFWDRUP4I0AOIP5YkKXMC0mBcD3ZkVF6Qu+GAPzW6+X339A12TRvBMarX/A1aLwSdGZXTvvtw72SaY9ACc4zctBPmlhZ6fytd2XsKV/csk9kpFNljzI4dem83GWjYBP57eBwhYyegxNuMbX5jy7qjnPdmiJ2dlXYy40ZNiM7TlvLSnfHh+Vs4vWGZwkwrK3s3dJ72J3IXdFHaVkMbyAIavqPHZNnU44dPIjMW+GuHX3q00snRTH1jG/TkDXZPZ8005Mfui5RvgY6Th6ltKpO5d9ZkpCRxA+cs27Jis84oW7+aWplHLJt9hZcX5zhrrrwVMGDZLLVtVXbi/nlr8fo295ilCLmQ/1sKSgQ9hHly6t8bSULgXDkBDv4sRIiDAAVsC6BX6V5o59EO1mb61WmbZQZe3HEMd47vUFgugPljbpUf9bwGaTTIquwa6NM4djx/NTv6m0U9UWZvtXbDUadrc42YHnDrCQ4tYMfi5b+7TgWqoO9ibuOp8OCv2Dd7McI/3lFoB+sE33HymBxlfLKA38Pz1xH44D7CPz6X/VuUu0gN9Jg9SScfsrByQM/++xdmVnYoWbMeanVuppO/eVmnc1aT19Utv0aDwVndZLT/1sivoMEJpQCgwS2ZcRhMDyDjWEdD8CJ919iyjbzQZGDWx/Ry4hfrKnll91KZCIHQEqO379bZP/bpfZEeExnXj/Nyg36TUbFpzZy4rZW5/6zZiUfnt8t0sdpQIzeu04puUmJ6BFgdsP1HFsBl1kbkVlBTPaVjc5SeNg8CMzOV4LBaaNv+YEEV+QcTDvkqov/Sv1SS82Mw27zfPn4ZNw7vRey3VwplsE6p7f8YqpPNl1pO5WBS8JuP2P6/cRmCTj9ESgN/Ddril56tKfCXjnP6DHFWR3HI2k2wtrdReUVYtuu+v//M0JBAbJEb3WfNRZ7COeuOenDhBry8eTCNXUL0mrdWo5lGUeGRWDe0H6eMhrV5QdS9fRnCdHUCfxiWLAAueqYGAj86C2BnbocuJbqge8nuyGOtX8cuWcmFo8t8EfSQNU/L+IEH84kFiVqNGqo3H2qqfGPyPEFR3T2XYrUQ8vYeJ9tOKLLDwNXrYOtgx7MFwJrBYxAT/iKNXDF6zlktDTQpui7uOI5bRzZy7uMf45iddboPRZVWdZWykzUGu3/uOgLv3UPY+2dISviS6TwWBOw1d7JW/x7eP38dXvsf5tjEMh4LlKyFuj3aI59HIaX8VHcQS0S4e/o67v37L8I+3JNmo1vYFkafhfM0Us81Oztp/50dIdN4nwKAprHOeuclPYD0bkmM1qC1w35HVKi8m1/B0o3RZdoojfmb/o8NVgB8hM8qjelTR/DyPgM5n1YXKNUQXaePUUeUVufsnb0agfeOy3TaOpfC4NULtGoDKTMNAonJidi2eAAqbbqRsd6fWIBcUyahcJfeasPYMXURPj47x5nfZvx8eFQtrbRMlgV1Zc+/uHfyYKa17dgHEDW7DEONtg2UlmsMAwP8WUbMn5xO1KweYNkG7Sjwl8UCpx5l5DbYUKeGbeCDAOyfMyVDNhlrxNVj9jxeslDDP4fB5zf2YZY8kM4C3Z2nsCxGzVwHFmzAq1tpg45Ay9Gz4VbQEaHr1iP84EEgUV7+I60VKQLgSikB9tcU4l0eAcRCMVoWa4neZXqjuGNxzRisplSWuXl85WpEfXmsWILADO5VWqLFiF5qZ1KxI/usHuHbh0/x+dUrhH8KRFJCDPL9VBHtJw4xiOD8q9vPcGAe+32RB0vF5rkx2HsNru0/Bf+j3A8o+ayr+WNhrh86h8s7FnHWqXDZZuj0J/ckSvqFZB8G75u9gPP3cdoxLIjZYfJvGYL/rMTEw3M38PruXYQGPUVi3GeV7jJN/46mNebE6h14fCGrUyIC2DqXRMWmLVGlZR1ej7izD0Cu7T+G90+vKWy8k/enX9Bj1u8qseNjMO2/+aBo+DIoAGj4a2iQHtADyCCXzSCN3j5lIT49Py+zPZdrOQxYnrYxCL9u+YyZgvAP8uMVfNf34sPaXTOX492jf2WizCxd8dtmHz5Ea1RG+hpV7NNkr/l/alQnCTc9AqGRwTg+tjOqXMq4sYlytMRPazbAoULlHIFhWRM+owcCkgSZHLYRGbx6YbZy2TGi89sO4cmlo1l2VDW3LoCO//tT4xkO2RqsowHsWNwZXx+wTE6PqjVRr+evBhFU0BEumVrvoeMQHfZM9jPLCBruu0npQM/re89xYN7UDLXG2L8zPefOg1O+3Ly5mP44PcvsGe6zFRbW/Je0YNlx3oP7cjqqpv8QKvHDB4Ru8EH43r2QJMh/t9M7fL2EAPtqCvEmb2pzkHqF6uG3ir/hJ8efeGPDh6AbR87jyu6NSE4IVSiO1c+s0aFPth8wsKDRq9tP8O7Jc4QEvkbklyAkxoVkmmWYy7U8+iycrte/r+wDmDUDhyMh5n0aNgI0HTYdnr9UljZi8h4yBrHfXnLebz1uLopXK8PH8ki7g68aMBBJ8fKsO1bndYi3j1JZu8zGM777cf/0Ds6/RT+MYx+a1OkxBMkJiXh15w5CAp8gIeYj56ixOo4Ur9kJrUd5qTNV6TnnthzC7WPrlR7PfHWr1AB1e7RRqg6pIsHsPr+y5wQCbl5EfNTbbHQL0W7iAq132qb9t9K3hFEPpACgUS+v/jpHDyD9XRtjs+zYym14eslP5hbrFvjbJuX/KFCVx3KvAZz6UyXrdEXLET1VFaPR8fdOX8fp9dzjhppujsKHQ2uHT+BkJCjzKTcfekmG6RB49uomng8fCI/XGQv8h5cqgCrr/WCWm58AhqKukVk1MmD17c747sFL/38VFnL/sUoCkQ3cKjVG82G9NBIIMZ27wTQ9vX/2Jk6tncFx3rNhbzQd1DlbICzz8vDC6ZCkRHPGmlnmRe9583jv2J5a+4ybRVOhaT9pN3C+r0OLfBFwYz9HbIuRs1CqdoUMqhI/ByNs40Z83bULktjYTE3x90gNBAYUEID9r6VbSwyrMAyF7DR7LFEVNixT75/V2/Hi+hGFQSImy8apBFqMGI6CpYqCHcF/fecJ3j9/gbD3bxAd/h4piYobwGRlB6vp2GfBNL0NAh5a5IOAG6zLuvzKV6I+us8cJ3uBZcLuncV+lmcIWtgUwrB1K3nJNjuxeiceX5CXRWGKyzXug8YDOqqyxPgYEIQD8xYgNkJxCQmVhLHBAnPYOBZD/uKeEJub48lF9je4vD4hG1Kh+QA07NNWZdHKTLh64Ayu+LF60dwO12JLVyRlm7EohlPBiqjRro3C3+30+lkg2P/YJTw4cxrfPrPGW/KM5OxstcrlhiHeS7V6JJr239mtimm8TwFA01hnvfOSHkB6tyRGaxD7BPvStjRZNQILjNmxRyP/4LI/BJb1YH94yf8AqN93Mio106/6euxT42W9u3KOx2m6NiIfN9iKvoM5n7aX/qU7mg/rzodokkEEcOn0Zggmz4NzBHejwtBEtqmLqrNWqlzvLyusLKC3blh/TkaRpV1RDF23nPN8YkXDT/v44d2jC5BI4jIVyTIYStZqgXq928LSxopWlAioTWDVgOGcrrAs02vERt8sa0iy48OHF7PgXwxHL2se0Wv+PDi4OKptT1YTVw0cibiI17Ih7EO+Eb5ref03PiYyBt6DWPafPLDJOrsO8V6cpU9JYWEI27gJX7dvR0oMl0vaif7uAmyvLz8a3OGnDhhcbrBe1QhkR0aPLFmDsHc3M/FZBIHQXGFdOXUXXhoEXDRd72qXsqPL+2azwLP8bz32OzJkjTcsbbkNXnbPWomgB/9wECgbUM/y34+wCKwbPoDz+8YC7SN81qoVXGS16o6v2YFnl/epFMRKtVEMa4eiyOtRBsWrV0aJGmU5gdt/vP3w6Ny2dO4IUavb6GyzR1W9d+6euoYzG+Zm8KFQ2Wbo/OcIsA8Nruw9gJA3N7PsDs/0sjrTJWs1QZ2uLTKsK/uw4+ahE/gYcCPLD+R+2M/KH5hbOyLm63OOS1XbDEPd7i1UdVPt8bT/VhudUU2kAKBRLafhOEMPIMNZK0O3NLWzIbcWSv9lm3nPRGCcAh+8xN5Z3PqCfZdsVKvLoaa5rx85CRHBD2Vq7F3LYaAGj0bz4c+SHj04tVSqdxiJ2p2b8iGaZJgwAXZE9MiqcSjifQLm6T68TxQDZhNGoFTv4RohdGTpJjy/upcju07P8ajWuh7eP3+Ls5t2IPjltSw3ZGzTV65xG9Tu3Exvs2U0Ao+EaoyAorpiWW1Un994iKNLZmQI/rBj6F4L5uWoq2h2Tl7efRLX963gDMsqkzY7eYreV/R72nTYDOlRT2Wu5PBwhG3ZirCtW5ESGalwCqsRyLoG764jxFc7ASxFluhRqgf6evZFLotcyqjRyphHF2/j7Ma16Y6+qq9aKM4Fa4cCsHNywcfnlzIcC3bIXxFeLBNQLFZfCY8z2Qe93oNGIj46iCO18aCpKNewWgZNcdGx8B48iNOZndVm7bPYO0fH4f2mL8X7J6xZi/yq5zUJlVvUzpG3LGvx8JKFSIh+l4UcESztCsHVvQx+qlpJmilnbpn1sXtFzVJY4LDJkD956yz99Mp9HFs+PUOmqot7bfSYNYHzoQD7AO7ijsN4cf00kuLZcfTML4HAEnl/qoFKzZsg4NZdvLp9Kduuz0waa6LkUqwKqrRqjuI1PBEXFYu1QwZwaqMKxfYY7L0B1nba6QxO++8c/XoYzWQKABrNUhqWI/QAMqz1MmRrpdluvTpwjgKo8oe7Kr5f9vsH1w+slE1h9YjG7tytigitjT25bjcentki1yewwKgtfnobQGC1apZ0a8fZHGhqHbW2CKRI5wTYfXVocjeUPHg/gy0RDmYovHIV8lWpozE72eZwzcD+nE6prFaarVMBfJXWEs2YjfjDGJYtWLV1R1RpXZfXbCeNOUuCDYYA+71Y2XcQp5xFZpl1bNN9fMVMSFK42ansqKO006WTvUb9ZgGZFV5enA+HWA25Acv/5kVvXFQMVrPsv2R59p+1w08YunaJyvKTIyPxdfsOhG3aBBYUVHTFi4Gj1QQ4VEOIOIvUrsH9PPtJuwZbm2knSJCdYyxb7Ozmg7h/eneG496ZzxXCzDIPbJ0LIk/hYihQsjjcKpXiZIbeOHQel3YwrtwOxI75K6H3gql6EQRUFAx29aiDnn9PzNT1VL+49V2dClZF30XTskOt8P33zwLhN/U3Dic+m6Kxv5sPL/XFa3/WdI2thRAWNgXgUqw03CtXRJm6lTJkxGXnCHum7GQ1uQMucoay4Nqvv/8Fj8qlshOR5fssK3P/3P9lyEBm9w47Si4UixTOZ3bdP3MDt44cwbfPDzIcG1bdKCHscpdC6V8aoNqv9TIERs9vO/p/9s4DPIqqC8PflvQOSSgJVToIIh1EmogiiIj0Jr1D6EUUkN5771JFUBER+VVUbEgRFJAqvYT0Xnc3/3Nms5tMNiFbs+0Mzz67O3PLOe8dJjvf3HsOLhzbJGq2KBOj8P234SPqiDVYAHTEUbUDn/gCZAeD5EAmrurTV/T0tW77IWjdv5PZPTyycCPuXTqubdfdtwJGbRXPTDB7p0Y2GH7nMfZNHyaq3XbYLNRu3cDIFi1bLS4iFtvH9BV10mv+RqdNcGBZ2s7RulKpwPFx76Ly97d0HH5WuTgabDsErxKlLQ5DR4wvpEfvwBpo1rUbarWsb3HbuAPnJZDfjapmdqqGytVfLuLb9fNE4STomJt3WbX4F+BTJAB147FJ0XfxZgSXL2Vy/1+v+QQ3fhM/yDN1hqEqORmxnx5C9PbtUEbnn2Aj3hP47BUpfnhJAqVMguLuxTGszjC8V/k9uMhcTPbLHA0kxSTgq1Vb8fTGz2LhROIKd+9S8Asui+AKFVHuxWooX7uKXjFJ1bNPV+mKgCH10G/Jh1YVASmz62cfTxAv/XUJwNANmwpNurF1zHQkRJDAlLMVNGuwsLHZNm4m4sMv5SomRZcZy1G+jnmTyFD4CYoPWK52ZXj7m/5/mYTjnZNnixLlkROUuKT7rMUIqVquMNfzPU42HvxoquhBGhUkUXTAyvlwdXPVq93IB+E4vf9LPPjntE5bhTVAoQ4q1GuOpu+9+dyZnSQ4bhw2ThS2AJCh2+zVKFO9fGHdmHyc779NRugQDbAA6BDDaH9O8AXI/sbMni3eOGw8UuJybvLL1WmP92aMNLtL28Z+gPhnf2vbpWUHfRdMM3s/5mpwdb+BUKRHaJsryqeQhvpw5+INfLEoJ7g21R+984heNxSG9sXlHZ+AIj0NJ4e9jYpnxMu4yPOnb9ZFy8W7IHXV76bBVFo022LdoEHPzehLMzACQuqiZZ9eRZ410FT/uL59EqCZdeveHwhlZozWAZp1Omqbepb7lZ/O4+SmBTrL7ahM/2ULzSIY6EtO/YBogEiYMcffM5qhu2EIzf5L0pri4fcCRm6hBAOmb8qkZMTs2IHonTsLTBbypBiwr6UU56pIAIkEId4hGPXSKLSv0B4yaf6zmky3zLAWKNTK5VO/wbd4cZR/qRpKVylr0qzkM1+ewm8HiLF4JmCxkProv+RDo2LcGeaRbmkSrzYOHyuKjUmlWg+cgbrtCo/z/OzOE+ydMUoUd07uFowRWzfpLVBp/99tnC0y0NZ/a+Y2lpLK7AibLso0TsdlLsXQZ9EyBIYGGzRUFJty7/RJOn8/6QH8oFVLjIqHS3+T6Ry8/MMJpMTdLtAeEi5LVW6IBm+/adAMRnXyoimiGf7mnMH5PIC3b95C5apVhCIPHz5EaGioQby5sGMQYAHQMcbR7rxgAdDuhsyuDd4zbSEi7v6m9SEgpB4GrhBnOTSHg6v7DRDFEqnRojfeHNnTHE1bpI0DH63AkxuntG3TE8wxu7ZYpC9TG73wza/4aTcFdlZvtGxkwkFx7DRT++D6zkEgIyUJP77fAWX/eSZymPIFxo56D6+MEWfILgoq+c22UvcrR4lKTdBmQC+e7VoUA8F9iAic3PwprpzaI9rXbsRsqFRZ+G7LQh3xj7Javr98UZHFs8pt2O4p8xB1n+JlZv+NkHpi1PY9Jj0kOr5uL67/QhlMc7bXhnyIOq81MuuZkhkRgah16xF3+DCgEmcu1XR0PQTY21qGm6ESYVcl/0oYU3cMWpVpBYlEvc+RNnUm1zW6ImBoA/RfPLPIRcD8zoXgCs3Qd9F0vbHnt3y4UsN30WniQL3aoNljGwaPRHru+HwSNwxatcUica31MsqIQpRUZ0fYJKQnPRDVpjADA1cs1ztsQEJ0PHZNmCgKVUANUvKOAdSOGWYgU2zvXw99gWe3zmQn4ZLDr2Qt1G79Gl5+6xWjZ6Tu/WAxnt2mmJc5W7OeE8yeFCV3+ykJyVg2eAhmfXZA2M0CoBEnr4NUYQHQQQbS3txgAdDeRsy+7f1q5U7cOkOZzdQbxSYavWOjWZ2ip5pr+1EG4Jwf75a4UTCn0XlFNWq7//IdBj+BNadNBbV1avdRXPxmq/aw3C0Q4z7ZVRRdcx8ORCAtLga/9+2AUrdiRV4ppEDC1AFo1p+eyhf9RrNLNo+aqJ1tQAJ3mVot0WZQD5MCxRe9J9yjIxFIT0nH+sH9RTPg6CY9My1KJ4Omp38lDFi+wODYYObipZ5VQ5lZc7Y67QbgtYEUA9jwjXzfMPh9UcB+S4f1SL99GxHLVyDpxx8LNPjPqhLsbyHF0+Jq0a92UG2MqzsODUvpJqAw3GvbqvHH59/j908pjIp4JmDxMg3Rb9EHRSYCPrp+D5/OHi865yl5yZD1mwya6UozyzYMGY7MtFwPnyQu6DVvLUpVKnwmVn4Piio36oK3J9DsV/vaaNbu7kkTdBJw6DtzTy0iTkZ60n2R4/TbsO/iZWb/u0mzgR9c/Q+lK5czi7CYEBWHbWOGimIW0izIEVu2mvTQoqCzgH5jbB03HY8eXMC8r9UP/lkAtK//M+a0lgVAc9LktvQmwAKg3qi4oBkI/H74O/zxWc6SHUsk57jz1w18sVi8RHXQ2j2iANdmcMWsTWSkpWPt+z1EP2pfenMw2rz/jln7MUdjR5fvwO2zn2ub8vCtiJFbaXYAb0xAPwIpEU9xvncnBD0UZ+GkoPupH49Bk3fNHxZAP8vUpeiG5o8j/4NMLkP9Di0NurE0pB8uywQMIfDVip249WfOA7T86noGVFaLf14ehjRt9rIbhoxFasIdbbsFJS7Rp+NvNx7A1Z/2iYq2GjADL79R+HJPfdp/Xpnks2cRsXQZ0i6LY8Zp6tADi+9fkuDwK1IkeKmFwJZlWmJaw2nCEmFH2v448j1+P0R/68UzI4tKBKRZd5uGhYnOK+Lbov9U1G9veIKoyz+ex/82iZfw+gTVxNB1i587bELCqKFDoFLkJI+Ruvhj5JbtFhGMiuIcirj3FPs+mCRK4EP9Eo+Bq+YXOLuOfrsKy4hjb4rMJFG219ylKFHR8rF7zcHnf1s/w+Xvd4uaqli/EzpPHmKO5kVtaFb8xKWksgBodrr21yALgPY3Zg5hMQuADjGMduNEfvHjhm06YJaneBoIP+87jvNf5cwqpNggE/aLlw7ZIrDNIycjKfqa1jT/UnUxaFXRL4EsjM3+j5bj6Y2cWRG2amdhfvBx6xBIengX//TugoCIVJEByW6Acsk0NGrX3zqGca9MwMYJJMUlYsuIATpZfjVmexWrKoh/bp5uVvfk10Mn8ecRceItYxJ2kMCwftBAkTDh7lMOo7atLzIfs7KykPjtt4hYsRKZD3VjlZIhKa4QsgUfbyhBhosE7jJ3DKk9BO/XfB+usqKJYVoUQNQPcWlc84iAZRuh38IZFp0JeGLDAfz7s1gIDizXGP2XzDTa9V2T5yL6wZ+i+k17jEeTzm0KbPPLZdvw37kvRccbvDMSr/Zsb7QdtlCRltgeWTBdJ3tvcRrbxR/oxJKk2KS7JswSxdsmPyRSL7w3cyHK1qxoC27pZQPNyls/ZCQyUh7nlJe4oM+C9WYVMb/ddBBXf9wr9MECoF5D4/CFWAB0+CG2TQdZALTNcXFUq+jJ6fqBXUXudRi/EFUbv2g2lw/NW4eHl7/VtkfLoUZspkx2tr2d2LAf//68X2ukROqBsD0HLfqD2hgi28M+RNzTi9qqpaq0RK+5k4xpius4GYH4G1dxvX8v+MZliDyP85LAdfVc1HvFuCWCToaR3XViAp/NW4cHuf6+aVAIWTZXzIOru/XFP7KJxIG1/fuLhDu/EnUweM18g0Yvv8zcxs74MqjjfAqrMjIQd/AgotZvgDI+Pt/mYryBfa2k+KWmOlFIWZ+ymNFoBpqFNDO1e5up/9tn/8OZw5SARiwCkhjXd8F0i/xmoeyy+2eOE8W6lMp8MWTdJr3j1OUHMO5ZDHaEDUOWKueBlFTuj2GbtuQbP5Oy8e6cMExkB2XaHrl1nUnJVmxlcK//8Q+Or56tE1M0tEZbdJ81TmsmzcbcM22BKNancFDiho4TPkaVhjVtxSW97RAyqa/7UFTer+RLGLx6nt5tPK/g+W9+wc+7l2r/37AAaBasdt8IC4B2P4T26QALgPY5bvZs9cpevaBSJmhdMPeT062jpyEh8oq2/ZKVW6D3PHE8IlvkJ8S2mTVaZFr7MfNQ/ZWXbMrcDUPHIjU+Z2mXIYGzbcoRNqZICcRcPIu7gwfBM1kh6jfSXwLfDcvx0stvFqk93BkTsEcCceHR2B42WBQuwjeoFvov/9igDKZF4fvR5dtx++wXubqSou/izQguX0qv7ime7/qBNPsvZ6mlLYgtyoQERG/dipjdnyArQ/wwQ+PYlXISbGsnxZPs+IBty7XF5PqTUcpbP9/1AmTFQuoZnjQLM48IWL4J+i6cblYxjMSmzSMm6GSBbd5rEhp2amkyhe+2HcY/34njGIfWfB3dPxqr03beRHZU4I3Rc1GzeV2T7bCVBv769nf8uJOWQYvjPVZp8h46hr0vmHlwzio8/vf7PCbL8frwmXixVX1bccVgO3ZN+hjRD8+K6umbXfp5nQmrnxbPALLStcVYADR4eByyAguADjmstu8UC4C2P0aOZuH6waORlnhP65a542ys6tsfyoxobfu12vRDu6Hd7AJjXtvLvfQW3ps+wqZsz5th2VZjFdoUNCc3JvLXU3g8agzc0sU3i4+DpCixeQNerNHCyQmx+0xAfwLqBASbhQqB5Rqh59wpNif+kW2UXGD7GEqKkCP6l6nVDt0+HKOXs/kJM837TELDjqaLPnoZUEihzCdPELlmLeKPHgWysnRKU3zArxpL8HlTqbAs2EPugaG1h6J/jf5wkbmYwwSrtvHrwW/x5xcbdETAoPJN0WfhNLOJgPnNAi0W2gADls8yi/9CRt8hY/IksZCiy4zlKF+nsrYPdQgbWu2QM9aOGgJFPbYk8IrP65faDURiTIzOEmhAilf7TEKDjq+aZUys1Yh6hudwkVAndwvGqG2bIXc17v9szNMo7J4cBlVmzoMM8s89pD5Gr5wjuMpJQKw14tbvlwVA64+BU1rAAqBTDrtVnc77hI0CSL+/7COz2ETZAtcNoAzAOT9a2o2cg1ot6pmlfUs3su+DJQi/fVrbjSWyJJvqw4qe74liULXsPw312r9iarNc30EJhJ/4ChGTp8FFIb6RuBsiR4Wt21G9ouNlzHTQoWS3bIhASkIykmITEVyupA1ZpWvK7inzRMsEKfHXqO17Co1TSFla1w0cCGVmTpZwV69QjNq2wWzCkrnApV2/LiQKSf7tt3ybjPADtr8uxcVKUuF4ed/y+KDxB2hcqrG5TLBaO78cPIGzX1DMZfHDneAKzdB7wVSTxyr8zmPsmzFWJMhQXOfBazYJdJjqAAAgAElEQVTBN9DfbH7fvnANR5dMFflBCc6Gb16l9WHTiIlIjrmRq085es2nrMFlzGaHLTV0cvOnuHJqTx6TKNFNXrFbggbvjLD7GIgaR79euwc3fv1U5HfVV7qjw5i+Bg8P3ZNsHTMe6UkPRHVp1na7SSNQrkJ5YT8LgAajdZgKLAA6zFDalyMsANrXeDmCtV8s3Yo7549qXXH3rYBRW8XBwo318+bZqzi2nH7E5WzmTjJirG361Dt79Cf8sn9ZrqISDFr7ic1kMM6bxZkM7Tx1OSq+XFUf97iMkxF49OlexM2ZD5n43hDXKrqg5tY9qBpSx8mIsLtMwLkI3D5/DUeXikNw1Gk3AK8NfH68zx92fI5LJ3eIYDXrOQGN32ltswATT51C+Lx5UDx5mq+Nf1aRYFdbKaJ91dmC25VvJywLLuFVwmZ90sew0we+wbkvSQQUC0PBFV9B7/lTjBYBaWbelpGTdDLMNu0ehibvvqaPaQaVOTBrBZ5cPyWqU7f9ELTu3wnnvz6Nn/csER0raJmwQZ3aeOHPl2zB3QtfPddKe1plow9ueviwfvAwKNIjcopL3DBgxSYUKx2kTxNCGTp/d06chbgnOTGzab+rR2kMWrsKMfExKFNGLR6zAKg3VocryAKgww2pfTjEAqB9jJMjWXl6/zc4d5SWjag3CuQ8fn9O8gtTfD21+ygufrM1p225H8bvE2eNM6V9S9dNS0rB+kG9REum6nUcjpZ9Oli660Lbv3DiN/y0i34A54oLI3HFiK178w2WXWiDXMChCTzYuh7JyylQvHi7WMMdjTYfxAtBLBo79AnAzjGBbAIbhoxFakJO3FgXj1IYvWNzgcIQJRBZN2AglBkxWoaunqUxavsmo8WkohoMVUoKojZuRPTOXZQJRafbNBfgs+ZSfFNfAqVMvSx4ZJ2R6F2jN1ykxi0xLCrfnteP+nedrggolfvBxc0Hrh5+cPP2haePH7yLFYNPsWLwKxEI/5KBKB4SBE9fL53mv99xBH+f3CnaHxBSDwNXqJdNmnujWbWbRwyBSpETo5oy2g5ctRG7p0yGIu2ZtkvaP3TDNngH+JjbDJtqj0QsEkbDb/6Ur12VG3XB2xNomb9jbZf+9wd+2C5OWGToaqXDCzfi/qXjIjB0v9N74Qph5jbffzvWOWOsNywAGkuO65lEgC9AJuHjykYQuHHmMr5eOV1Uc9SOz+Du5WFEa+Iqn85ZjUf/fqfd6RVQBcM3rTC53aJsYOPwCUiJvant0pyxboz14+rpv/DthrmiwPPUli3GKDTWR65nHgJZWVm4t2wh0rbnXToE/FHPE23WHka5YhXM0xm3wgSYgM0TUCeMEM/yf3347AKTBeR9kEcONu0WhiZdzD/ry1Lw0m/dQvicj5Fy/ny+XTwIAra+IcONUPVswBf8XhCWBTco2cBSJlm83Z/3Hcf5rzbls0RUj64lLpDJvSEXxEIfuHv7IereX8jKStNWlsi8MHDlRviXKKZHg8YVye9clbsGQpERJWqwZqs+eGN4D+M6sbNaKoUSu6Z8jNjHF0SWGxLP085cFszdNm4m4sMviUzXN+HLT3u+woWvt4jdlrig44S5qNKwlrCf77/t8awwv80sAJqfKbeoBwG+AOkBiYuYlQDFLdo8vKeozc7TlqNiXdNnBG0eORlJ0de0bZeu2ho9P55gVvst3dix1btx8/fPcv3o9UbY3v1Wm/lAsXG+WvahKO4fGUfCZP+lH1rNLkuPA7dvOIEslQr/zZqOzM90lwydau6LTiuOINQn1PCGuQYTYAJ2S4Bm9K3t3x8qRbzWB78SdTB4jXiGDR2ksusHDBYJLoXNGLRVMPQwJP7Lo4hYsgTK2JxYhrnt/bG2BHtbSZHoqRYC21doj0n1JyHIU/+lhrbkf06CGt2kKKba2ajLGLzSrZ2pzRRaf/PISUiKvl5gOSEpxI4tkMvlhbblKAUoI/cnUz7WCmL027r77DCH/v337M4T7J0xSvTg29UzBKO2boBULitwaC//eB7/2zQ3TxZlCZp2Hydaus73347yv8M0P1gANI0f1zaSAF+AjATH1UwisKJnN2SpUrRtNOk6Dk3fa2tSm1R5VZ++oqDh+sQaMrlTMzdw//JtHJ4XJmq148RF2qeGZu7uuc09vHYPn82dhixlkqicb3AtDFg5z6l+ABcld3vsKyszE7cmjYPy5I865n/Trhh6LziCkl62nbDAHrmzzUzAHggcXb4dt89+kctUKfou3ozg8qVE5v+095g2w7HmQFEJP5biqIyLQ8TKVYg7dCjfbMGJ7sC+VlL8WEeCLIkEXi5eggjYpXIXSCRqYdCeNvVMQArForsE2lg//Eq+hMGr5xlb3aB6j2/cx8GPxhVo/6t9pth9tluDgOQqfPvcv3Bxd0W5FysZ24Rd1csbs5yMf/G1/nh9SNd8/Xh0/R4OzZkiur+hglWadkXHcf1Fdfj+265OBYsZywKgxdByw88jwBcgPj+sQWDdwBFIT36o7bpKk/fQMex9k0xJSUzBxsHdRG20HzsP1Zu9ZFK7RV2ZYq6s7tcPqsw4bdcV63dC58lDitSUiHtPsW/mZJEdZICnfyUMXLm40CyORWosd2ZVAlkKBW6NHw3ldz+L7KDcH192DsbQDw/b7YwWq4LlzpmAgxCIi4jF9jEUKyxHFMq7hJCWGq4dOBiK9Eit1y7uJTB651aHmGmUeukSns75GOnXclYp5B7e6yHAtjdkeBCsFv2ahTTDnCZz7DJJSEJ0PO5evI74yGgkRscgOTYWqYnxSEuKR0ZqAhQZSVApkvUSCWnp7/vL16NYqcAi+9/w+ZLNuHvhmE5/ngFVMMLOwsoUGTQH7Iiy+G4cOgTKzJx4pJTJfPDaLTpZqOmc3zl+HBTp4uXiBWXE5vtvBzxhjHCJBUAjoHEV0wnwBch0htyC4QR2jP8IsU/+0lakP5B9F4njAhra6rXfLuGbNTNF1UZsO2SXCSo+mbYAkXd/1/ri7lMeo7bpJlQwlJG+5ePCo7F7yiTRjRjVdfMqg4GrluUbsFvftrmcYxHIUirx36QwZJ74XuSYQgoc7hGCsZM/RXGP4o7lNHvDBJiAwQR2T5mHqPtntPXoRnrU9j3ah0l5E4RRwYadR6F5jzcN7stWK9DDktj9+xG5eg1UySSAiTelBPimgQSHmkuR7iqBj6sPpjecjg4VO9jlbMDnjQM97EyJS0L040jEhkciITIGiTFqsTAlIQ7pyQlw8/RBm4F9UKZGxSId0oy0dGwcMixP7D8JOk9dhoovmx6upkid4c5MIvDn0R/x6/7lojZKVGqOPvOnavfREuntYyYjJf4/UTnPgMoYsmYJ5K66CX74/tukYXGYyiwAOsxQ2pcjfAGyr/FyFGsPL9iA+39/o3WH/kiO2LTSJPfyZoyTuQQgbK9uIgKTOimiyn8c+R6/H1qVqzcphm3cC+9ivha3gGI07pwwCRkpj0V90UyM95cv13nqaXGDuAObJUAx/+5Om4T0r06IbMyQA5/2L48pYw7A393fZu1nw5gAEyg6AhRP9uiSyaIONWE6hNl/g4aKMq3K3YIwZse258bbKjrrzdtT5rNneLZoERJPfJtvw+H+wMa3ZLhWVj0bsE3ZNviw8Yf8MMW8w/Dc1i6e/B2ndizUJjUp8UJz9FmQI/oUoSnclZUJ5I0vDkjQafISVKpfHSRk75m+EFH3/hBZSdevQatWF/i7ne+/rTyoNtI9C4A2MhDOZgZfgJxtxG3D3x92fYlLJ7ZpjTGHWHdg1go8uX5K26Z38eoYtmGpbThsoBVJcYnYPKyPKIhwUcRBSktOxfawKUhLuCuyWOZSDH0WLUNgaLCBnnBxRyVA4t+DmdOR8rk44UeGDDgwsAKmjz4APzc/R3Wf/WICTMAIAhuGjEVqwh1tTU2Cj98Pf6eTKbj+2yPQovdbRvRiP1WSfv0N4XM/Rub9B/kafaKeBPtbqmcDBrgFYGbjmXi9/Ov246CdW3rmy1O4cuoHBJQug04TBuU7k8vOXWTz9SBA8bAPzaa4kEptaVqZM2LLGhxf8wlu/nFY1ArNbu4+ZxlCqpQtsHW+/9YDvBMUYQHQCQbZFl3kC5Atjorj23Tl5ws4uWFWLkelGLfniEk/rjYNn4Dk2JvaNkNrtEX3WfQH2z63DUPHIjU+50YpsFxj9F8iXuJsTs9oCcPO8R+IsihT+1KZD3p8vASlKpUxZ3fclh0ToOyWD2d9iORDR0ReZMqAvf1CMX3cIQS4B9ixh2w6E2ACliDw66GTOkJf22Gz8NPuzchMC9d2KXcLxJgd2x1y9l9erqr0dERv3YboLVuQlZGhgz3vbMA3K7yJDxp9wA9YLHGCcptMoAACh+auxcMrJ0VH6Xd57rAG6oNytBsxE7Va1n8uS77/5lONCLAAyOeBVQjwBcgq2J2+05inUdiZJ+lHt9nrUKZ6eaPZrOzdGypFvLZ+3fZD0Lp/J6Pbs3bFo8t34PbZz7VmSOW+GLdnr0WCodPyq52TZyPuyUWR2/QUs/O0eahQp4q1cXD/NkKAxL/H8+Yicd8BkUUU829XnxKYGnYIwZ48U9RGhovNYAI2RUChUGBt//6iv9VSF3+dZFP1OgxFy75v25TtljYm4949PPlgJlIvXMi3q2/qS3CghXo2YJBHEGY3nY1XQ1+1tFncPhNgAgAo0eDm4YOhUiQ8l0e9jsPRsk+HQpnx/XehiJyiAAuATjHMtuckX4Bsb0ycwSKKmbGyV1cgK13rbvM+k9CwY0uj3Ke4dZuH9xTV7ThxMao0rGlUe7ZQKb94SZ2nLUfFuuYNQE1jsW/GYkTc/U3stsQVb42bjWpNatsCDrbBBgiQ+Pd08SLE7/pER/zb2b0YJk48hBDvEBuwlE1gAkzAVgnkfbiV106Za3GM3rkdcrncVl2wmF2UVCl2715ErFyFrLQ0nX7yzgbsXKkzpjSYAm9Xb4vZxA0zASagJnD6wDc49+WGAnGUr9sBXaYN1wsX33/rhcnhC7EA6PBDbJsO8gXINsfFGaxa8/4QZKY+1bpa/dWeaD+qt1Gu6y4plmD0zsPa7IJGNWrlSiTMre7TGyplotaSyo264O0JA8xqWX7LGmgJQ5vB0/BS28Zm7Ysbs18CJP49W74csdu2i5ygrJXbu/pi7MSDqOBXwX4dZMuZABMoEgJxEbHYPob+jiny7e+lNwahzYDORWKLrXYizAac8QFS//pLx0QVgG9zzQYs5VUKHzf7GI1L8d9rWx1PtssxCNDv8k3Dw0TheTSeBYTUw/vLZum9Sofvvx3jnDDVCxYATSXI9Y0iwBcgo7BxJTMQ2Dp2BhKe/aNtqWSVlug9d5JRLZ/ccghXfsiZlUQzCML27DaqLVuqtGvyXEQ/+FNrkqffCxixZbXZTMx/JoYUzXqGofE7rc3WDzdk/wQiVq9G9MZNIkdUEmDru14YMXEfqhYz78xU+yfGHjABJlAQgd1T5uUTOwughFOjd2w3KR6wo1Cn2YAxe/YgkmYDpuesltD4R7MBN3SQ4XoZdabgHlV7YHy98fB08XQUBOwHE7A5Anf+uoEvFlM2c5Li1ZubdzkMWbvCoEkHfP9tc0NrFYNYALQKdu6UL0B8DliLwKdzVuPRv99puzcla+++mUsRfutnbVu+QbUwZN0ia7lmtn5/OXgCZ79Yn6s9GUZs3Q9PXy+T+zi5+VNcObVHpx1945eYbAA3YDcEItdvQNTatSJ76afv1k7uGDTpE7wY9KLd+MKGMgEmYH0C+YW4IKvqvD4Arw3qYn0DbciC9Lt38ZRmA14Ux+glE+k6fIJmA7aUIsNFgjI+ZTD/lfmoG1zXhjxgU5iAYxE4unw7bp/9QnBK7haMvouXoFipQIOc5Ptvg3A5bGEWAB12aG3bMb4A2fb4OLJ1eWftyd2CMO6TnUa5vHFYGFLibmvrlnnxDXSbOdqotmypUkJ0PLaO7Ct60ti0exiavPuaSWb+vO84zn+1UaeNmq364I3hPUxqmys7FoGoLVsRuWKFjlNbOrii16RtaFCygWM5zN4wASZQJATyZrqnZCBjduzk2X/50BdmA36yB5GrCp8NKIEE/Wv2x5i6Y+Aqcy2SseROmICzEbjy03nEhUeh4Tut4OruZrD7fP9tMDKHrMACoEMOq+07xRcg2x8jR7Xw0v/+wA/b5+dyT47x+45AKpcZ7PKKXj2QpUzS1qv/9gi06P2Wwe3YYoX1g0chLfG+1rTgiq+g78JpRpv659Ef8ev+lSJRkRqr1LAzOk0cZHS7XNHxCETv3IWIxYt1HNv2phzvTNyA5qHNHc9p9ogJMIEiIXDpuzP4YRv9BsgS+mvwzki82rN9kfRtr52k36HZgDOQeumSjgvCbMAG6kzBNBuwVvFaWNpiKUJ9Qu3VXbabCTgsAb7/dtihNcgxFgANwsWFzUWAL0DmIsntGEog4t5T7Jk6RFStz8ItKFGxtEFNqQOK0yy5nK3z1OWo+LJjxCT7fMlm3L1wTOuczCUAYXt1l+4+D9rjmw9w5aczeHj1H8SHX9EJvh5aoy26zxpnEHcu7NgEaLbJswULdJzc8boMr09cibbl2jo2APaOCTABixO4ePJ3XP/9DCrUfYnjzupJW5gNuPsTRK5enW9swKcBwIa3ZLhRRgIfFx/MbTYXbcq10bN1LsYEmEBREOD776KgbPt9sABo+2PkkBbyBcghh9UunKJsWit7visSo1oPnIG67ZoaZP/f3/+J77fOzVVHijGfHIarm2Msfblx5jK+XjldxKTrR2tQtmbFAjnFhUfjn1N/4u6lvxD75AaUmbEFlg2q0BR9FkzTO3OZQYPDhe2SQOyBAwif87GO7Ttfk6JZ2AJ0qtTJLv1io5kAE2ACjkKgsNmAXzSV4LPmUqikEvSp3gcT6k2Ai8zFUdxnP5iAXRPg+2+7Hj6zGc8CoNlQckOGEOALkCG0uKy5CazuNwCK9Ehts7Xa9EO7od0M6ubEhgP49+d92jqmxBI0qOMiKkxC6ao+PZGlTNb2WPWV7uiQa9ZjSmIKrvx0Fv+d/wuR968hM/WpXtb5l6qLActmG7XsWq8OuJDdEYg9dAjhH83SsXtPaylqj/0QPapxjEi7G1Q2mAkwAYckIMwG3LVbPRswI0PHx+shwJpOMkT5qZcEL2u5DCHeIQ7Jgp1iAvZEgO+/7Wm0LGcrC4CWY8stP4cAX4D49LAmgc0jJyMp+prWhJAar6HHrDCDTNozYxEi/vtVW8evRG0MXqO7dNGgRm2s8I4JsxD7+ILWKs+AymjeozdunDmP8NtXkJb4EIDSIKuLl2mIXvOnOcxMSYOc58L5Eoj7/As8+eADSLLUMbk02/4WUpQfPQGDXuQYkXzqMAEmwARsjUD6nTt4On0GUv/+W8e0JHdg85tS/FlNCh/X7CXBZXlJsK2NIdvjXAT4/tu5xrsgb1kA5PPAKgT4AmQV7NxpNoH9Hy7D05s/aXn4Br+IIWsXGsRn/ZAxSEu4q61T/qW30GX6CIPasPXCP+09hgvHNptkpkTqDp/ASgitXge1WjVBmerlTWqPKzsWgfhjx/B4ylQd8e/T5lIUGzEMY18e61gOszdMgAkwAQciQLMBo3fsQOTqNYBCoePZd3Ul2NVGikwXCfrW6IvxL4/nJcEONP7sin0R4Ptv+xovS1nLAqClyHK7zyXAFyA+QaxJ4MSG/fj35/1aE1w8SmHsrq0GmbSiZzdkqVK0dRp1Ho1XerxhUBu2Xphi+m0f9742W6J+9srh6V8epSrXQrWmDVGlYU1e6qsfOKcrlfC//+FRWBgkKvHMvyNNJZAP74epDaZCIpE4HRd2mAkwASZgbwRoFuDjiZOQ+eiRjukPAoHV78jwMEiCFwNfFLIE85JgexthttcRCPD9tyOMouk+sABoOkNuwQgCfAEyAhpXMRuBc8dO4/TeJTntSVwxfv9hvRNSxDyJxM7xA0T2vDdzFcq9WMlsNtpKQ2sHDkdGsu4P+lzw4OoVguDyNVC5YX3UfLUe3DzdbMV8tsNGCST9+hseDB8OSZ4ZI182liBtyHuY1XQ2pBKpjVrPZjEBJsAEmEBeAsrERITPnoOE48d14GTIgV2vSfH9SxL4uPliXrN5aF22NUNkAkygCAnw/XcRwrbhrlgAtOHBcWTT+ALkyKNr+749un4Pn84aLTJ0wKpdKFYqUC/j//r2d/y4M3e8PxnG7TsCuVyuV317KvTDzi9w6dvtIpPlboEoFloNFeu+jBdbN4JvcT97colttTKBlL/+wv0BA4B0cfD4Yw0liBr4Fha+uggyqczKVnL3TIAJMAEmYCiBrKwsxH/+BcLnzUNWaqpO9TNVJUJswGQPXhJsKFsuzwRMJcD336YSdIz6LAA6xjjanRd8AbK7IXMogxUZmVjdtwsAldavdiNmo1bL+nr5eXzdXlz/5aC2rIt7SYzdvU2vuvZWiLIB/3Hkezy6dh2BoaF4sXUTBJcvZW9usL02QiDt339xt29fIDln+TyZRnGibg1qjRWtV8JF6mIj1rIZTIAJMAEmYAwBShDyeMJEpF+/rlM90ledJfhGqAS1A2sLS4JLe5c2phuuwwSYgAEE+P7bAFgOXJQFQAceXFt2jS9Atjw6zmHbqj79oMyM0Tr70huD0GZAZ72c3z11PqLu/aEt61+6LgatnKtXXS7EBJyVAN0Q3u3dG1mxcSIEv9SQ4NzQJljXdgPcZLx83FnPD/abCTABxyKgSk9HxNJliN27V8cxpQQ41FyKL5tI4OPuh/mvzEfLMi0dCwB7wwRsjADff9vYgFjJHBYArQTe2bvlC5CznwHW93/j8PFIib2lNaRs7TfR9YNRehm2btAopCfd15atUO9tvDtlqF51uRATcEYCmY8f406vXlA9ixC5f76SBN8Pq4uNb2yFp4unM6Jhn5kAE2ACDk0g8dSPeDpjBpRx4oc/5PSVchKs7ShFrI8E/Wv0x7h643gWuEOfDeycNQnw/bc16dtO3ywA2s5YOJUlfAFyquG2SWf3TF+EiDu/am3TdxYfLYld1asbsrLStHWbdB2Hpu+1tUk/2SgmYG0CishIQfxTPhQnk6Ebvy+G1cCmDjvg6+prbTO5fybABJgAE7AQgcxnz/Bk0mSknDun00OCB7DhLSn+qixF7aDaWNlyJYI9gy1kCTfLBJyXAN9/O+/Y5/acBUA+D6xCgC9AVsHOneYicGzVbtz84zPtHjevUIzesalQRhH3w7FnymBRue5z1iG0WvlC63IBJuBsBGjGx50+faC4/Z/I9VulgL3DK2Nzp90IcA9wNizsLxNgAkzA6QhkKZWI2rwZUevWA6qcGMwaEMfrS7CvlRQBPsFY1WqVIAbyxgSYgPkI8P23+Vjac0ssANrz6Nmx7XwBsuPBcxDTKbHF74dWab2RSD0x4cChQr07//Vp/LxnSa5ycozfdwRSOWctLRQeF3AqAsqkZNwb0B8Zl6+K/H4QBGwZVhab3t2LIM8gp2LCzjIBJsAEnJ1AyoULeDxpMhRPn+qguFMCWNFZhtjirpjVZBY6Verk7LjYfyZgNgJ8/202lHbdEAuAdj189ms8X4Dsd+wcxfK7f9/E5wsmiNwZtnE/vIs9fynisVW7cPOPw9p6rp6lMWbnFkfBwn4wAbMQoODv94cMQdpZ8XKvcH9g3bBSWNt1L2d9NAtpboQJMAEmYH8EaHb40w8/ROJ33+sYn+QOIS7gxUpS9KneBxPrT4RcKrc/J9liJmBjBPj+28YGxErmsABoJfDO3i1fgJz9DLC+/+kp6Vg3oIvIkLfCFqBak+cvOdk16WNEPzyrrVcspD4GrJhtfYfYAiZgIwSyMjPxYOwYpPz4s8iiKB9g5aBArOi5B+X9eMm8jQwXm8EEmAATsAqBrKwsxH36KZ4tWIisjAyRDbRA+EgzCQ6/IkXDkMZY9uoy+Lv7W8VO7pQJOAoBvv92lJE0zQ8WAE3jx7WNJMAXICPBcTWzEljZuxdUigRtm/XfHoEWvd96bh9rBw5HRnJOMoNKDTuj08RBZrWLG2MC9kqAYjw9njIFice/EbkQ7wksG+CPBX12o0pAFXt1j+1mAkyACTABMxNIu3ETj8ePR8adOzotX6wowZq3pQgIKoO1rdeiUkAlM/fOzTEB5yHA99/OM9bP85QFQD4PrEKAL0BWwc6d5iGwYchYpCbk/OCsUO9tvDtlaIGcKAPwyl7vAVk5T6pf6TURjTq1YrZMwOkJ0GyO8FmzEHcoJ7kOQUlxAxb388as/rtQM7Cm03NiAEyACTABJiAmQDFjn86cicRvv9VBE+EHLH9XhmehXljQfAHalG3D+JgAEzCCAN9/GwHNAauwAOiAg2oPLvEFyB5GyfFt3DV5LqIf/Kl1tHiZhnh/2UcFOv709kPs/2CE6Hiv+ZtQqlKo48NiD5nAcwiQ+BexdBliduwQlUqXA0t7eWDioG14ucTLzJAJMAEmwASYQL4E6O9IzK7diFi2DFAqRWUyZMD2dlL8WEeKkS+NxLDawyCVSJkkE2ACBhDg+28DYDlwURYAHXhwbdk1vgDZ8ug4j21fLN2GO+e/1Drs7lMeo7atKxDAmS9P4bcDK3KOS1wxfv9hSKX8I9R5zhr2ND8CUZs2I3JVTlZtKqOQAsu6uWLY0I1oWropg2MCTIAJMAEmUCiBlHPn8Gj8BCijonTKfv+SBDvbStGiYlvMf2U+PF08C22PCzABJqAmwPfffCYQARYA+TywCgG+AFkFO3eah8DpA9/g3JcbtHulMh+M33+gQE5Hl2/H7bNfaI+7eYVi9I5NzJUJODWBmL378GzePBEDlQRY3VmOHsNXo3XZ1k7Nh51nAkyACTABwwhkPosQ4gKm/vWXTsX/SqqXBAeUr4LVrVajjE8Zwxrn0kzASQnw/beTDnwet1kA5PPAKvR81aEAACAASURBVAT4AmQV7NxpHgI3z17BseXTRHtHbT8Ed+/8nyjvmDALsY8vaMsXtmSYgTMBRycQ9+WXeDptuo6b69+Sof2oJWhfsb2jI2D/mAATYAJMwAIEKKP8s6VLEfvJHp3WE92BNZ2kuFc9AMtbLEejUo0sYAE3yQQciwDffzvWeBrrDQuAxpLjeiYR4AuQSfi4spkIJMUlYvOwnqLWOk9djoovV823h7XvD0VG6hPtsSpNuqJjWH8zWcPNMAH7IpDw3Xd4NG4cJKoskeE72krRZOxcvFv5XftyiK11agIqVRbSFEqkZCiRSq9M9eeUDAXSFSpk5HplKlXIoJdClXMs+7umHJVJz7VPlZUFpUr90n7OAqhfzfecd2jL0XFlFpVRD49UAkjon4Q+S4R9ms/0TnuE/dmfJRKJqI6rXAq5VAK5TApXmRRymQQuMilcZBLIpfSu/kzveY9RXTrm4SKDm4tMeHfXvkuFz+qXVHuMvsvIaN6YgJEE4r8+jqcffois1FRRCyoAh16V4qtmckxqOAW9qvUCne+8MQEmkD8Bvv/mM0P4zZBFEVd5YwJFTIAvQEUMnLsrkMCKnt2RpUrWHm/83lg06/q6TnmVQomVvbtQZDPtsRZ9p6B+h1eZLhNwOgJJv/yCByNGQKIQB2o/+KoUlcOmo0+NPk7HhB0uOgL005VEucQ0BRLTMpGUrkASfc5+F76n0zEFktMVgpCXJgh66s8k7pHIp/lM+9MySU7gzRIESGgkUVAjEHq6yuDtJoeXmzz7XZbrs2a/DF6umuN5yrrKIWVR0RJDZbNtpt+6hUdjxiLj3j0dGy9UkmBdBylef/FdzGw8E64yV5v1gw1jAtYkwPff1qRvO32zAGg7Y+FUlvAFyKmG26adXTdoJNKTHmhtrNyoC96eMEDH5ofX7uHQ7NGi/f2WbkNQ2ZI27R8bxwTMTSD5zJ+4P3QIJBmZoqaPNZTAf+I4DK0zzNxdcnsOSCBdoUR8SibiUjMRR+8pGYhPzRRewvfUDCSkaoS8TEHM0wh7JPYp8sw8dUBE7NJzCPi4yeHn6QI/Dxf4Z7/TZz8P13z25ZQj4ZFnidnnqaVMSsLT6dOR+N33Og6E+6vjAvrXegkrW65EkGeQfTrJVjMBCxLg+28LwrWjplkAtKPBciRT+QLkSKNp377kjesXVKEp+i2aoePU74e/wx+frdbul0jdEbbvEGcAtu/hZ+sNJJDy10XcHfg+pGkZopqUmVE5aQjG1Qvjm2sDmdp7cZqNRzPpopMyEJWcLrzH0Htyhlrgyxbz6D23wEez8HhjAkVNgJYj+7rL4e/pimJe6legt/q9uJcbinur3zX7A7xcheXQvNkGAbrexGzfjogVK2n9vMioDDmw5Q0prjcqiQ1tNqBqsfzDudiGJ2wFEyh6Anz/XfTMbbFHFgBtcVScwCa+ADnBINuJi4cXbsT9S8e11nr6V8KIzat0rP98yWbcvXBMu9/NuxxGb19vJ16ymUzAdAKpV67iTr8+kKakiRo7XVOC6Em9ML3xByz+mY7ZJlqg2XlqIS8DUUlqUS86W9wjYS+a9gnv6v2Ounw2dyw7in9HS1mF99yf89uXXcYt+xgJSCQ8aV4Uo48+0ypWzWf1d/WL9CZtGe1+9alBgXsoVqAQv0fzOUv4qN6ffYAmSNJnKqn+rD5GsQkzlVlQqNQxDGkmpUKIaah+p+/q/SoolFlCrEN619SjcyM9UyXES6Rl1PRO45+W/ZnadrSNZhaqhcFscdDbFYH02dsNwT5uCPZ1RwlfNwT5uMFNLnM0923Sn+QzZ/B4wkQoY2J07DtZV4JDb3pjcevlaB7a3CbtZ6OYgDUI8P23NajbXp8sANremDiFRXwBcophtgsnf/zkKP46vlVrq8wlAGF7dTPObQ/7EHFPL2rLBZVvin6LdWcK2oXTbCQTMJBA2o2b+K9PL0gTc+JlUhNnqkrwaHI3fNDsI0glPEvGQKxFXpyEncikdDxLSENEQhqeJag/03tEIu1Lx7PENGHWnj1tlJjCx91FiCcnvNzloCWiPu5yeLrJ4ekiA8Wdc3eVZX+Ww4M+u6oTWag/y9VlssvSfo4zZ/hZQCJimkKlFgczNS+VEHeRvquTq9BybqUQn5FetLRb/Vmp/Szsy8jZR+euPWwBni4o4euuFgV93LI/k1CoFgnpGAmFPKvQ9NHMDA/H43FhSP37b53G/i0DrHzXBWNafYDu1bqb3hm3wAQcgADffzvAIJrBBRYAzQCRmzCcAF+ADGfGNSxD4Orpv/Dt+o9yNS7BmE+OwNVNHER6Tf9ByEx7pi1XrXkPvDWaEx1YZlS4VVsikH7nLm737gFpbILIrL9ekOC/qV0ws/kcFv+sPGA0uys2JRNP4lKF17PE9GyBL0fki0hMF2b02eJGQp0mjps/xXDzdIG/EM/NRS3sZQt6GnGP3qmO5jvPurLFUTWvTSQAasXCDIUQHzJ33Mjcy8uFOJKpmUjIjilJ3yn7si1ttOw4yMcdJX3dUNrfQ3iF0CtA/ZnEQ8rUzNvzCWRlZODZosWI3b9fp2CEH7C0iwwtWvXHhHoTIJPy7Ew+n5ybAN9/O/f4a7xnAZDPA6sQ4AuQVbBzp/kQiHsWg+1j+4mOdP1oDcrWrKjdp1AosFrIAJwTs6r1wBmo264pM2UCDk0g49Ej3OrRDdKoWJGf/5SX4OrUTpjdcj6Lf0VwBtDMKbW4l6Z+j1cLfcL37M+2sAyXlsZqlkZSDDWaDUWx1jSJGkjkyy3w0TGKx8ZCRxGcRE7cBQnkNKNQE4eShEESzDWxKnMvdyeRnJa3x6ZkZC+ntg44Wh5e0tddKwhqBcJssbC0v7sgjvOmJhB/9CiefjQLWenpIiRpLsD6DlJ4tX0NC5svhKeLJyNjAk5LgO+/nXboRY6zAMjngVUI8AXIKti50wIILO/RBcjK+dHYvNckNOzUUlv6/uXbODwvTFR7wKpdKFYqkJkyAYclQMurbvboCml4lMjHa6HApWkdMav1Qp5RYYbR18zeexiTgoexKfkIfWlWm7lHcenUyREoUYI6QYI6OYKbOh6ad06yBPrs5SrjOJBmOCe4CesToBmDJAJq4mAKwqAQ81IdA5O+R9JM20T1Mvp0KyxRJvGchMHQAA+ULeaFcsU9UbaYJ8oW9xT2OdvMWIpT+2j0aCjCw3VOoM9ekeDft1/EurbrEejBv92s/z+MLbAGAb7/tgZ12+uTBUDbGxOnsIgvQE4xzHbj5Nr3hyIj9YnW3rzLe385eAJnv8hJ+CGRemLCgUN24x8bygQMJaCIjMSNXt0gfSi+kbpdCvhz2puY03Ypi38GQE1My8TDmFRB4HsUmwoS+x7Fpgj76D05o2gz4tJMPSEemRCXjOKViWOUUWIDilPm6+7CcfAMGGcu6pwESMSnJckUP1MnpqYQYzMnzmZRJUmRSIDSfiQM5oiCJBCWK+Yl7KNl9o640d+uR2PHIfViTsxmjZ9/VpHgcPfSWNl+IyoHVHZE99knJvBcAnz/zScIEWABkM8DqxDgC5BVsHOnBRDYNnYG4p/9oz1asnIL9J43Wfs9b6ZgD9+KGLl1DfNkAg5JQBEbixu9ukN696HIv3vBwK/TXsecN5ZDLpU7pO/GOkWZUUnYe0DCnjCTTy3yaQS/okqqQcsGSdCjFy0fJJFPnaE0+3N2IgJakishhYA3JsAEioyAZrYvJdwREvDEpyE8IQ2PY9XL+h9nx/AsiuX8dA3Qzhgs5onygV54IcgLFQK9hVm+9rypMjIQPmcO4o98ruPG/SBgfQ8fTO+8Ck1LcxgXex5ntt1wAnz/bTgzR6zBAqAjjqod+MQXIDsYJCcy8dOP1+DR1f9pPfYuXg3DNizTft86dgYScgmEwS+8gr4LpjkRIXbVWQgoExJwvU8PSG/eFbn8qDjw49TW+LjDaqcV/yhz6f3oFNyPThbe7+X6TDfvWUWQY4Bu2oWEAX7u2sQBFAtMk0SAEwc4y/9U9tNRCZBISMuLKb6nRhDUvFPcz8dxaYhKEse5MzcLitVZMVAtBlYMyhEGSTCkLNn2sAli6569eLZ4EaAUZ5BO8ABWd3bBuz0+wntV3rMHd9hGJmAWAnz/bRaMdt8IC4B2P4T26QBfgOxz3BzV6u+2HcY/3+3Suid3DcS4PTnfV/cbAEV6pPZ4zZa98caIno6Kg/1yUgLKpGTc6N8Tkqu3RATC/YHvprbAnE5r4SJ1zGVjGocpq6ha3EvGg9wiX0yKEO/LkhvF2yMxjzKBagL+a4Q9EvxK+XsIWW95YwJMwLkJUFKgp/HqhEA0e5BmGgsPJ2JS8CA6WUhwYomNJg3T9alikLcgEJI4WDFbJKQZx1KagmxjW/Iff+DhuHHISkgUWaaUADvbShHabxDG1QvjZFY2Nm5sjmUI8P23ZbjaW6ssANrbiDmIvXwBcpCBdBA3Ln13Bj9sm5fLGxnG7/scUrkMGWnpWNu/K4CcJ8hth36E2m0aOoj37AYTAFSpqbg+sC8kF6+KcET5At9MaoaPu2yEi8wxxL/41Ezci0oWRL47kep39fcU0DFLbXTzTDH3KDh/mWKeKBPggdBi6mD9ZQI8UcrPnbPhWgo+t8sEnIhAQlqm8ACDQhKQMPggJln7mURDlQVmK3u4yPBCsBeqBPugcgkfVCnhjSolfATB0NrCYMaDB3gwYgQy/7ujcxZ895IEDwe3w9yWC+Eud3eis4RddUYCfP/tjKOu6zMLgHweWIUAX4Csgp07LYBAxP1w7JkyWHS01/xNKFUpFLcvXMPRJTnxAKnQkPV74RvozzyZgEMQoHhJN4b0B/68JPInxhv4emIjzOm2Ba4y+4oJlZSuEES9uyTs0XsukY+W11lqo9hZGmGPRL3cYl+IE2bltBRnbpcJMAHjCGQoVMLSYgplQHFKNeEM7kYlCSKhuZOUeLrKUDnYWxAFq5YgcVAtDNIDj6KMQ6pMSsLjyZOR/ONPOuAos/2JIS9i0dsbUdyjuHFguRYTsAMCfP9tB4NUBCayAFgEkLkLXQJ8AeKzwpYIqFQqrOz5LgCF1qxWA2bg5Tea4qe9X+PCsU3a/VKZD8bvP2BL5rMtTMBoAlmZmbg+cjDwy1lRGxQj6eiE+pjVaxvcZG5Gt2/JirQMjm5e6cb1TrbQdy8qRfhsyRhZdONKWTTLF/dC2eLqdyG7ZnFP+Lg7xixJS44bt80EmIBtElAoVUIyozt0TY1MFq6ldyKThAcplLTEnJuPm1wrBmrEQZo1SNnHLSUMZqlUiFyzBtGbNuu4EukL7OpbCjP7bkNF/4rmdJXbYgI2Q4Dvv21mKKxqCAuAVsVfcOf379/HmjVrcPz4cTx8+BBubm544YUX0K1bN4waNQqenp5msfzEiRPYsmULzp07h8jISAQFBaFBgwYYOnQo3nzzTbP0kV8jfAGyGFpu2EgCq/sNhCI9Qlu7Vuu+aDesOw7NXYuHV05q93v6V8KIzauM7IWrMQHbIZClVOLGuBHI+v4XkVFJ7sCXY+viw347rL4kim5IabYK3YjezV6uSzejdHNqqcQbFIuPlq2RoJcj7qlFPhL+7CUIvu2caWwJE2AC9k6AZlXTNTi3OCg8fIlMRkqG0mzu0SzqaiV9UL2Ur/CizzRr0E1uvuQjCd98g0fTp0OSLp4Nni4HdrzjhT6jNqBhKQ7zYrZB5YZshgDff9vMUFjVEBYArYo//86PHTuGPn36ICEhId8CVapUEYTBSpUqGW09zXgikW/79u0FtjF48GBs3rwZUqnU6H4KqsgXILMj5QZNJLBl1FQkRuXEPwup3gY9Zo/HltFTkRiZs79klZboPXeSib1xdSZgXQI0E+Lm5HFQHf9eZEiKK/DF6Nr4YOAueMg9isRIytZICTYEkS/7RTeVllqSRk6RyEfLc0ngqxDohfIk9gnvXqClui4y8//dKxKY3AkTYAJMoAgJ0PWbZgf+F5mEm88ScfNZEm4J74lISMtZVWGKSXS9fiHISyQK1ijla9JswbR//8XdEcOAZ1E6pn3RTIaaU+eiU5XOppjNdZmAzRHg+2+bGxKrGMQCoFWwF9zpxYsX0axZM6SmpsLb2xvTp09Hq1athO8HDx7E1q1bhcokAp4/fx4+Pj5GeUDtLlq0SKhbt25dTJkyRZhh+N9//2HJkiUgO2ijcgsWLDCqj+dV4guQ2ZFygyYS2P/Rcjy98aO2Fd/gWhiydhFW9e0HZUaMdn+tNv3Qbmg3E3vj6kzAegQE8W/GRKi+/FZkBM1+ODKiBqYP3QNPF/PMMs/dAQWmpxkkwgw+rdiXJOxLNuMMEk2flHSjtJ+HWuALVM/mU3/2EpJuuMpZ5LPeWcg9MwEm4MgENMKgWhTUvNTioLmu98VptmApH1Qv6YtqwoxBH1QK1n+2oCIqCndHj4Ti0mWdoThXWYL0mSMwuOFoiy1JduTxZ99skwDff9vmuBS1VSwAFjXxQvp79dVX8csvv0Aul+P06dNo0qSJqMbSpUsFsY62WbNmYfbs2QZ7cPPmTdSsWRMKhQL169cX+vHwyJnpkZKSghYtWggCI9lx7do1k2Yb5mcgX4AMHjauYGECJzYcwL8/79P24uJeEkM3rMX6gST25aTMazdyDmq1qGdha7h5JmAZArTs9/qUccDxH0QdZMiAI0OqYtqo/SaJf+kKpZB9Uivw5RL8LBWXr4SvmyDuVQxSz+AjgY+EPl6ua5lziFtlAkyACRhLgITBJ/FpuBmeSxSMSMStZ0lIzTR9KbFcKhESjtQs7YtapX1RM8RPmDno7SbP1+SsjAw8mjMbSUe+0Dl+Lxi4MqUjxrdfALk0//rGcuB6TMAaBPj+2xrUba9PFgBtaEzOnj2LRo0aCRYNGzYMmzblJB7QmElLd2vVqiWIcv7+/oiIiICLi2FBx0eOHImNGzcKTf7xxx9o3LixDoUzZ85oxUcqv379erOS4guQWXFyY2YgcP7r0/h5z5KcliSu6BA2B1+vnC5qfdimA/AOMG7mrRnM5CaYgNEEshQKXB0/HLLvfhO1oZACnw+ohElhB+Hl4lVo+xSX70lcmpBZlzJJqpfrql+PYlOgytHLC21L3wK+7nJUDPJGxWxxr0K22EdCn1cBN3b6ts3lmAATYAJMwLoEVKosIQvx9fAEXHuaiGtPE3AtPAEPY1JNNoxmg1co7oUaJAqG+AniYM3SfqB4g7SRKBmzbx/CFyyANM8fsDhP4PsR9THx/c0mPRwz2QlugAmYgQDff5sBogM0wQKgDQ3ijBkzsHDhQsEiEuA0YmBeE2npLi3Npe3kyZN4/fXX9faC/siFhobiyZMnqFatmiAkFrTR8Rs3biAkJERIRGLOrFx8AdJ7yLhgERF4fOM+Dn40StRb5cZdcOvMEe0+qdwP4/flzBIsItO4GyZgMgHK9nt59CC4/HxO1BaJf1/0rYAJEw/B29Vbe0wj8t2LTga9SNyjjLv3opLxMDYFmUrzq3zuLlLtMl0S9uhFs/oqBHojwNPFrH+DTAbKDTABJsAEmIDFCSSmZeJGeCKu0etpAq7TKzzRLIlHSvu5CzME1bMF/VDl6XXETw2DPClN5FemDPi6W1kMm7IfxT2KW9xn7oAJWIoA339biqx9tcsCoA2Nl2b5r5eXF+Li4oTlt/ltNGuvadOmwqGPPvoIc+bM0duLO3fuCLH+aCtolqGmMTpOGYJpo3oVKlTQu5/CCvIFqDBCfLyoCdCS+NW93wWg0nbt7lMeaYn3tN+9ilXF8I3Li9o07o8JmERAlZGBf4b3g9vvf+vc1BzpXxnNOq5FeFwW7kWlCGKfJUU+qQQoU8xTEPfUAp96Vh8t2y3l6w4pFeCNCTABJsAEmEABBHLPFvz3aaIgCpprtmB1ZRym/bYOwTFxOr1/38IPby8+iHL+5XlsmIBdEuD7b7scNrMbzQKg2ZEa32BQUBCioqJQp04dXLp0qcCGYmNjUaxYMeF4165dcejQIb07/frrr9GxY0eh/MqVKxEWFlZgXTo+YcIE4ThlHW7fvr3e/RRWUHQBuvE3QkNKF1aFjzMBixNYNWwClJk5CT8AEiNyZjqVrvIqek4baHE7uAMmYC4CiQnJuBw2CgF//ydqMkMOLGsfiiuyvpBkGRZGQh/binu7olwxyqzribLFKB6fF8oW90Sovwcn39AHIJdhAkyACTABgwgkpWcKWYhpGfH1p0m4EZ4gzF5XGBiXwjMjDaP/2os64U90+r9Q1QUlZs7Ha9Ub86x0g0aHC9sCgUePn6BM1TqCKbS6j1YF8uZ8BFgAtJExT0tL0ybieOutt0BC3fM2yhCcnJwsxO+jGYH6bhRXcMSIEULxzz77DO+9916BVQ8fPiwIjLRRPZoRqO9GAt/ztqdPn6Jhw4bqC9B4b4T6cjZGfdlyOcsR2HSnE5LTcwuA4r7qBErwWtBpyxnALTMBMxJQKST46/dAeD0RC3xpLsAPHTIxzi0S5pf+zOgAN8UEmAATYAJMwAoEslTArb/9obzhqdP7/WDAs0UcXpWlWMEy7pIJGE/gUYIKZVYmqe+/WQA0HqSd12QB0EYGMDIyEsHBwYI13bt3x8GDB59rWYkSJYQEIJQQ5PJl3fT1BVXOnUX4xIkTeOONNwrsh45rZv0tW7YMEydO1JuWIfECWQDUGysXtDCBPQ86IiJZd9mHptu3QiNQzeeGha3g5pmA6QRUmRKc/z0IPk/FoSRSXYHTHdIx2jUanNPQdM7cAhNgAkyACTgugQf/eSHhvC9kWeLwFHFeQHSbZHTwjHdc59kzhyPAAqDDDalRDrEAaBQ281ciFb5s2bJCw3379sUnn3zy3E6oLNWheH63b9/W26C5c+cKcQNp++GHH9C6desC6546dQpt2rQRjlO9mTNn6t0PC4B6o+KCNkTgWPhruBmbXqBFI6qcg6dMHBzahsxnU5iAQECZIcH534Lh+0wmIpLsBpztkIbhLjHgOdd8sjABJsAEmAATKJxA9DM3PPi9GNzTxSJghgy40TINXYNihIAxvDEBWyfAAqCtj1DR2McCYNFwLrQXR5sByEuACx1yLmCDBP6IaYDfn7nna5lM6o2wqids0Go2iQnkEFCQ+PdrMPwixOJfkjtwuUMqBshj+UaFTxgmwASYABNgAgYQSE6U4fJvQfCL0318drmeAu9UioArq4AGEOWi1iDAAqA1qNtenywA2siYOFoMwMKw5k4CUnPEWrj6Fi+sSpEdl0klQiZKmUQCOX2WAJp99D33cSpD32UyKiuFi0yS/ZJCLpPCVUrvtE8KF7kEcon6s1xOZaVwkWYfo/pyKdykUri6SIUg+a5Un/Zll3WTy7L3S9TvLjKhferTkBmXRQbSDju6d/Uejiyfna/l3sWqYtiy6XboFZtsTgJZWVlITFcgKikdkYnqV0RiOqLoc659dDxTmZNAxpw25NeWu4sMVTwU6H1yJUKfqeO7aLYED+C/D99Dr3bjLG0Gt88EmAATYAJMwCEJKBIScGb0EBS/qpsc5GxFL2ysNRQZUh+jfKe/4VVLeqNaCR9UK+WLGqV9UaG4l3AvwRsTMBcBTgJiLpL23Q4LgDY0foGBgYiOjna6LMAhI3ZB7htoQyNhX6ZIJBBEQhIM3VxkcHeRwl1O79mfXWQg8VDYX9Bx2i9XH/cQysjg4Zrnu7CP2pI6rOCYnpKOdQMoMY6ucBNaoy26z2IBxb7+d+hnbWqGEtHJ6YhOyhDeo5IyEJOcgegk9b6oZPqefTwpAxlKlX4Nm7EU/f8N8fdASICn+t3fHSEBHihbTJ1l1zslFhd7dULA4wRRrxSn6MmCYejSruCM72Y0k5tiAkyACTABJuCwBLIUCvw2dTCKH/9Tx8dHJd1wZfgCXE0PxpXH8QhPMC1kDP3dr17KFy+G+KEWvUr7oXIJb2ECAW9MwBgCuSfgcBIQYwg6Rh0WAG1oHF999VX88ssv8PLyQlxcHOTy/EO0U9bfpk2bCpZTPL85c+bo7cWdO3eEuIG0UVZfyu5b0EbHt2zZIhymehUqVNC7n8IK5r4AsQBYGC3bO04/SkgoFMRCVxIP1eJgjnhIn9Vl6Lini1wQFDXHPV3V3zWCo/BdKJvTrrWeeq7s3RsqhW5Q55ffGoJW/TrZ3mCwRVoCGQoV4lMzta+E7M8JaZmIT8nZL4h7wkst6qVkKK1OMcDTRRD01OKeJ0r7uyNU+O4p7KfjBc30TXn6CJd6voOA8GSRHzHeQNzS8Xir1VCr+8cGMAEmwASYABNwFAJ/bpgLr7X7IcvzvDjBW4riq5ai0ivthRUCJARezn7R56fxpomCtAKIRMFapXOEwSolfISVQbwxgcIIsABYGCHnOM4CoA2N84wZM7Bw4ULBojNnzqBRo0b5Wrdo0SJMn65einjy5Em8/vrrentBy9dCQ0Px5MkTVKtWDdeuXSuwbvXq1XH9+nWEhIQICUfMucyUBUC9h8xpC9LSZtGMRK3YKBWJjZoygqCYLUSqZzrmPxuSxEv1jMicWZG5n6ZuGDoWqfF3dLh3nLgYVRrWdNrxsKTjJNylZCiQlK4QxLjk7Hf1dwWS05XZx5VIJDEvNRMacU/9WSHsS820vpCXlxPN0C3u5YYSvvRyF96DfejdXSvylfb3AIngxmyJD+/iSq8u8I9MFVWP9AUyV81Em6a9jWmW6zABJsAEmAATYALPIXDlxH6kzZgHr1SxCpgpA7Kmj0SdPmN0alN4EBIErzxSC4MkCj4xVRSUSVG1pI96lmCIWhik7/RblzcmkJsAC4B8PhABFgBt6Dw4e/asVvQraHaeSqVCrVq1BOHO398fERERcHFxMciLkSNHYuPGjUIdmk3YuHFjnfokQDZp0kTYT+XXr19vUB+FFc59Abpy8z+EhpQBRaanm2WKoUtio/qdvlOMO3WLub9rypGoqcqiYGC3vAAAIABJREFURZtZyMoCVNnf6Z2+a47n912zT6nKgjIrC/SuUFJ7WVDQvjwvhUqlPpanDH2nYxnKLGQqVMhUal5Zos+0dDDneJawlJDKUv10hRIkhKQrVNp3+kz7NfsK48rHjSNAcRw1S6DfvnsK3smX8zQkwY3Xp0Pu7qaNzUiioRCLkeI05vqsjt2YHa9RWJpNcSKlQjxJigdJfVG8SPqsiSlJban3Uxl1WfruIpUK8SUpDmVh/w+0/180/1nyQaHKdZ4L53rec5z+Dyg1/xdUouNUNj2TznEV0jNzzknNOao5d3Ofx1Re+C7UUSFNoUQSiXkaoU8Q9xRFGivPuDMk/1r+ni4o4eOO4Fzinlrk07zcEOjtZrHlOnF3b+Jan27wjxZnro7wl0C2fj5eqdfZnO5yW0yACTABJsAEmEAuAvevnMG94UMRHJWpwyW+x+to9NFKSKTPn51H4UY0YqD6PQGP48QP9QyFTr8jaWYgiYE1Q3xRs7QfqpfyMfpho6H9c3nbJMACoG2OS1FbxQJgURMvpD/NMmBa/nv69GmtCKeptnTpUkyZMkX4OmvWLMyeLU5Y8NNPP6FVq1bC8f79+2PXrl06Pd68eRM1atSAUqlE/fr1hX48PDy05VJTU0F2nD9/XliG/O+//6Jy5cpmJcUXIMNxkpApCCm5BcLMHHFFI8SkkdCSqVS/SEDUfNbsV9AxTRm1QKMun71PoURqhvozzagiociZtrej/kG5xN9ELqtkAVhftoddYcgrppPATYI4bwUTIPG2uLcrinm5ori3GwK9cj7T/kDhmBuKe7kiyMdNmEVqrS3q5mXc7tcbfnHim47wYhJ4b1qBBrXfsJZp3C8TYAJMgAkwAachEBVxD38O6oaKtxJ1fI5tXBWNN+yH1NPTIB4UqkSzfJjerzyJx8MY00RBephcMchbWD5MswUp0QgJg34ehk0kMcgRLmxTBPj+26aGw2rGsABoNfT5d3zx4kU0a9YMJMJ5e3uDlgWToEffDx48qI3JV6VKFUGg8/ERZ5vSRwCknmkJMS0lpq1u3bqYOnWqEBvwv//+w+LFi0F2aMotWLDA7JT4AmR2pBZrkGYokhCYlqEWBEkopHdKnKARGoXvufapP2fXy1Qv30wlgTG7Dfqeux1bWrrZLP4eXo45IeKZ7FYJO0q3tRhjbtj8BCimJP2o1bx8c32meHok8IlEPW9X+LjJzRrqwPxeqVt8euUc7g8cCL8EhaiLJ4FSBG5djzrVW1qqa26XCTABJsAEmAATyEMgJS0Rx8a9i9o/P9JhE1+uOOru/BRupUNM4haXQqJggnq24BP18uH70SkmtUmVKZlYzWxRkN5JFKSHnLw5HgG+/3a8MTXGIxYAjaFm4TrHjh1Dnz59kJAgzuao6ZbEv+PHj6NSpUo6lugrANJS4iFDhmDHjh0FejNo0CBBcJQWMnXdGBx8ATKGmuPWodmNWkFQEA9zBEJhJqJWfMwjQNLsxTzCZG5RUjTTUZgRqSx0uWml1Gi8GX5ILKx4NcSR4HqOOwA25hmJd15uMmGpipebHF6USMZNDm83Gbxc5TnCnqda4Mst7gnf3V0cNiD29f8dQvKU2fBME0/nfFRChjLbt6Napfxjx9rYELM5TIAJMAEmwAQcioBCpcCnCweizt5zOslBUnzdUHnzNvjWrW9Wnyn+8dVsMfDy4wRBFLwbJU4IZkyHFK+Ysg4LgmB2FuLSfu528ZDUGH+dpQ7ffzvLSD/fTxYAbfQ8uH//PlavXi0IffSf1dXVVRD8unbtitGjR8OzgKnk+gqAGre/+eYbQeQ7d+4coqKiEBgYiAYNGggZgt98802L0eELkMXQcsOFEKAlzbmXSGs/U7y6TCUS45NwZcloUSvu9XoBDRpql19TvLsMpTpmI70yhRiO6vh4GdmxHNWf1fEdM1UqIbYexdETXkqVsLQ6M1cMPlsdOIpFqIlP6KaJeSiXIeezOqmKmwvFO5TCzSWfY9p6UniToCe8sgU+QeQjwU8OTxL6XOVCf7zpEjizdQG8Vu6BXCU+9qC0Cyrv2oOKZeswNibABJgAE2ACTMBKBOiB9mf7PkSFZUfgnSfhr0IuQdC8OSj5TleLWkfJ0q4+UYuB9E4C4e2IJCFeuikbxT0WRMHsmIK0lLh8cS9I+TebKViLtC7ffxcpbpvtjAVAmx0axzaML0COPb727t3q/oOgSHuW7YYEveZvRKlKoRZzi34wahJyaARCzXdagq1OZpOT6IZ+w1Ed9TuZlZ3wJvu7JiFO7jpCAhKJWszTeUnUiUko4UjuMkLykeckFbEYEG5YRIBmbP/40RCUPvy7Dpl7Zdzw4iefIrRUVabGBJgAE2ACTIAJ2ACBE6e3w3XacpSO0VXd3Af1RfmJ0wpNDmJON2glzbVwEgMTcDV7CfHN8CThwbUpG63Q0MQS1GQhfiHI22LJz0yxletCmFRUpkwZAcXDhw8RGmq5exvmbbsEWAC03bFxaMv4AuTQw2v3zl08+Tt+2r0WKmUqqjR5Bx3D3rd7n9gB+ySQkZaMU8O7oNyZ+zoOXK8dgFc3H0bxgNL26RxbzQSYABNgAkzAQQn8cf07PBo/HrXuKnU9bNUEVZevMzg5iDlR0SqVWxGJuPpYPUvwypME/PskQYjpbcrmKpeiekkf1Cjth1rZswWrlfSxauI0U/xxpLp8/+1Io2m8LywAGs+Oa5pAgC9AJsDjqkyACTgFgdiIh7jw/nsIuaMbD/bq65XQcflncHNxdwoW7CQTYAJMgAkwAXsjcC3iCn6a1B8tz+om61BWLoeqW3fBpWRJm3GLwtNQDEFNXEHNUuKENHHSMUMNppUnLwR5oUYpX+2MQfoc4OVqaFNc3gQCfP9tAjwHqsoCoAMNpj25whcgexottpUJMIGiJnD/3zO4P3QogqIyRV2rJMDtQa3w9sT1vDy7qAeF+2MCTIAJMAEmYCCBJ0lPsGtuD7z9VaROchBFgA8qbd4Gj9q1DWy16IpTyJlHsanZomBCdgbiBEQlpZtsBCUWoSXEamFQnXQkNMCDf9+YTDb/Bvj+20Jg7axZFgDtbMAcxVy+ADnKSLIfTIAJmJvApR8OInPSx/BOFccOSnUFEmYORctu483dJbfHBJgAE2ACTIAJWIhAfPr/2bsP+KrK+4/j39zsEJIQAoQMtgwFQWWrULdVrFX/jtq66iiigAtx4xatCxzU1m2t1rrqQGtRQNkIqOw9ZSRhhOx17//1nBgK3ARyk3tzz7n3c17lBSbnPM/vef+enuT87jnnyddTky7XOa+v8locxB0TpaxHxyt52NkB6j0wzebsLd1XDKy+Y3Cvft5T0ujOmsdFed0p2KV1osyjxWyNE+D6u3F+oXI0BcBQyaTDxsEJyGEJI1wEEGgSgamvPazUJ99WzEGv4Nmd5FLihMd09KDfNEkcdIIAAggggAAC/hMorSzV+PdH6cQJ3yljt3e7qdcPV+uRI5t0cRD/ja66pd1F5Vq2rXoFYvNOQbPgyPqdRb8sWNfw3qIjI9SldXPr3YI92iape9vqv9MSYxveaBgeyfV3GCa9liFTAGQeBEWAE1BQ2OkUAQRsKmBW+p38wNXq/M85XhFuzYhV15ffUHan3jaNnrAQQAABBBBA4HACVe4qPTv9YWU9/k8dvcF7heCE005R9uNPBHVxkMONwdfvF5VVasX26gVGTHHQvFdwxfYCmUVIGru1ah4rs8CIeYS4pijYKY27Bety5fq7sTMuNI6nABgaeXTcKDgBOS5lBIwAAgESKC0t1H9uuEBdZ27y6mH9Uak64eUPldSiTYB6p1kEEEAAAQQQaCoB8069N398Vbsff0pnLPIuAkb16KYOk/5iq8VB/G1TWeXW2twiLduWbxUGTVHQFAf3FB/43uOG9Hvw3YI1dwxyt6DE9XdDZlToHUMBMPRy6ogRcQJyRJoIEgEEAiyQk7NB86+5SJ1WFXj1tO6Urjr9mX8qOoaVfgOcBppHAAEEEECgSQUmr5usaRPG6vKvKr0WB4lIS1X7FyfZenEQf2OZwui2/NLqYqBVFMy3ioJmARJ/bGmJMTqidXN1bZOoI9qYv6v/nZIQPisRc/3tj5nk/DYoADo/h44cAScgR6aNoBFAwI8Cq5bN1Jbh16ttzkEr/UraeuWpOnXsRFbC86M3TSGAAAIIIGAngXnb5umll0fo+veL1OygRXU9MTHKfOxRJZ/trMVB/O2bX1KhFdv2avm26keHzd8rdxSotKLxjxCbWM1jxFZR0CoO/q9AmBwf7e+hBL09rr+DngJbBEAB0BZpCL8gOAGFX84ZMQII/E9g9jd/l25/VCmFBz7+UxYlld4zXAMvGQ0XAggggAACCIS4wKrdq3T/O9fomrdy1baWxUFaXj9crRy+OIi/U1jl9mjDziKt2FZdEKwpDvpjFeKaWNskmcJg8wPuGjSrETu5MMj1t79nojPbowDozLw5PmpOQI5PIQNAAIEGCJhHXCa/+YAynvyn4g561U1BM5eSJzyubicMa0DLHIIAAggggAACThTYXrRdt3xynX77+hr12uj9XsDmp52mjMfHh9TiIIHIU35xhbXgSKDuFjQxt2wWo06tmqljmvmTaP27U1oztWuZoNioyEAMy29tcv3tN0pHN0QB0NHpc27wnICcmzsiRwCBhgkUFO3R5/dcpl5frJHroCZy28Sp26tvqk3nXg1rnKMQQAABBBBAwLECe8v36pYpo9TrrXk6vZbFQWK7d1P2iy8qOiPDsWMMRuA1dwuu3lGgVTsKtWpHgVbvKNS6vEJVVHkXWxsaoytCymqRsK84aIqCnVolWoXC9KQ4ucwOQd64/g5yAmzSPQVAmyQi3MLgBBRuGWe8CIS3wE+Lv9aWW29Vx00HveTHvO+vW0sNfO0jNUttFd5IjB4BBBBAAIEwFiivKtc9M+5R1Qef66r/ur0WB4lsmaqs555XwrHHhLGSf4ZeUeXWxp1FBxQFTXFwfV6RKt3+KwyaaOOjI9XBFATTmik7NUFZLeKtv7NbxCuzRXyT3TnI9bd/5o7TW6EA6PQMOjR+TkAOTRxhI4CATwJuj1v/fvlOZb/wiZqVeh+6dWh3/WriO4qMZaVfn2DZGQEEEEAAgRAUML83PLvwWX3/6Su6+WO3Eg/+3SE6Wm0ffFAp5/02BEcf/CGVV7qtImD1nYK/3DWYU6CNO4tl7ib09xYRIbVpHqfs1HjrDkJTFMyyioMJ1tfM3YNRkQc/N9KwKLj+bphbqB1FATDUMuqQ8ex/Alp4x53KSEmRzBnQ/M/629wm/cvfv3zdfM36Xs3Xza3UERFyxScoMiVFkSnJikw2f6coskWKIpOSFBFp73cxOCRdhIkAAg0QyNm1Rd+MuUy9Z273OrrSJRVcfa4G3fIYK/02wJZDEEAAAQQQCGWBd1a8o9e+eFS3/6tSmbu8R5p69R/V+pZbuNZpoklgCoObdxdrXW6R1ucVWn+vyzP/LlJugffTHf4KK8oVobYpcdUFwRbVdw+2SY5TmyTzJ9YqHqYkRNfrd0kKgP7KirPboQDo7Pw5Nvr9T0DfdOqs9OjALLXuToyXJylRSmquiOQkqzgYlZKimBapimmRprjUlopKSVV023RFZ2bKFR/vWFMCRwAB+wjMnPGuSu56WJk5VV5B7W4Zq6ynn1a7ASfbJ2AiQQABBBBAAAFbCXy96Ws98NXtuv6DEvVZ7333WeLQocp46klFJibaKu5wC2ZvaYU25BUdUBRcl1toFQeLy71/D/S3T0ykS61NMbCmKGj9/b8CYetf/r0nd7vatWtndb9582ZlZWX5OxTac4AABUAHJCkUQ2yqAqCvdsVJsSptkyx3epoiszKV0K6DUjp2U6suPZXQNotP2XwFZX8EwkygrLJMHz1zg7q/MVOxld6D3z74CA1+9k3FJqWEmQzDRQABBBBAAAFfBX7I+UGj/3ujzvlyl86e710EjOnSWdmTJikmO9vXptk/wAIej0c5BWVa+0sx0BQJt+wuse4k3LyrRPklFQGO4MDmo0t3ac2EyykANqm6/TqjAGi/nIRFRHYtAB4KvyJSym8Ro6JWzVSRniplpFs/bJu376zUzkeqfUYPxUdxB2FYTGAGiUAtAut/Xqrvb7laPX/M9/puWXSEPLdcrT5X3lKvxzQARgABBBBAAAEEjMDGvRt1/ZTrdcR3G3XNf9yKch/oYp5wypwwQc0G9AfMQQLmzsHNu4qri4IH/7272O93D1buzdPPk66kAOigORKIUCkABkKVNg8rsH8B8OGzu6hFfLR5s58ifvlgy/xtLZb+y9/7vv7LPjXfN3/HlUvNSzxqXiIllkhxTfthyr6x7mwubc+IV0mHNors1lkteh6jdt37q2OLzkqITjisCTsggIAzBcwnvP+Z/JziH/qLWu/x/nQ+LzNR3Z/7q1odyap9zswwUSOAAAIIIBBcgZ0lOzXym5GqXPiTbv2wSkklB8UTFaX0e+9Vi4svCm6g9O4XAfO75a6icm3evzi4u1jb9pRox94y5RSUKq+w3Ke+KAD6xBWyO1MADNnU2ntg+xcA+z3fT81bNVd0ZLSiXdGKiYxRjCvG+u+avw/+es1/R7miVOWuUklliUorS62/y0uLpPwCuQqK5SooUnRBqaILyxRbVK64oorqQmGpKRZWFw2TiqXk4sB4lUZLm1pJuVmJKu+Yodge3dXyqGPVOf1IdUrppGbRzQLTMa0igECTCBSU7tVHD16pYz5e7vWJvAkg96x+Ov7RvyoyjlV+myQhdIIAAggggECIChRXFGvst2O1dMlUjX2/Su1yvQfa4g9/UJs7xioiKipEFRhWjYBZmCSvsEw79pb+8qfm39UFwuqvl+171JgCIHPHCFAAZB4ERSBYqxC5Pe59hcLSqlKVVJSoqLJIO3f9rD3rV6lk8wZVbdmqyG15isvNV1JeqdL2uP16V6G5a397qrSxdYTysprL3aWdmvU4Slkdj9ZRrXqqc3JnRbpYvTgoE5NOEfBB4KeV32rtraPVfU2p11HF8S41u+92dT/vCh9aZFcEEEAAAQQQQKBugUp3pcbPG69///SuRn3iVt813k8eNBs8WJnPPK3I5GQoEVBpRZVy9pbpp1Vrdc7goy0RFgEJ34lBATB8cx/UkQerAOjroM3t1wXlBcrZsko71y1T4cZ1Kt+8WZ6t2xWzfbea5RYqKb9CLu+fvb52pb3x0uqMCK1rF6Oqnkeo1bED1TPrOB3d6milxqX63B4HIIBAYATMBwkfvj1Omc+8r5Qi7z5yu6Spz4uvK6ld58AEQKsIIIAAAgggELYC5vrklSWvaOL3z+qSb906b3Yti4N06KCsSS8qtmPHsHVi4AcKOOX6m7wFVoACYGB9ab0OgVA6AXnKy5W/bpW2/jBTe5b8oKpVaxS/IUfN9vr2XoaDqSpd0vo20qqsCOV1aaX4Y4/REV36q3er3uraoqv1iDQbAgg0rUBO/jZ9cffl6j9li1fH5u7egkvP0IC7nuTRm6ZNC70hgAACCCAQdgKfrftM9868V4N+KtefJrsVU3Uggat5c2U+/bQSTzwh7GwYsLdAKF1/k9+GC1AAbLgdRzZCIBxOQJW5udq7bLFyfpyrgqWLpTUblLB1d6PuFsxJllZmRWhtdrR1l2B6r/46uk0f6y7B9GbpjcgIhyKAwKEEzLtGJ0+eqMinX1HHrQf9hm0Kf8nRSn/8MbX71dlAIoAAAggggAACTSIwd9tc3TT1JrXdUKAxH1R5P5ngcqn17WOUesUVioiwllhkC1OBcLj+DtPU+jRsCoA+cbGzvwTC9QTkLi1V2eo1Klq2RHmLv1fJ8mWKWrdFUSUNW7q4OKb6sWFTFMzpnKLEY45T7/YD1T+9vzqndOYHvb8mLO2EtcDiNbP0w8NjdOycXXLVIpHXp736Pf+m4tJah7UTg0cAAQQQQACBphdYtXuVRkwZocrt2zXm/Sp12uEdQ/J55yn9gfvliolp+gDp0RYC4Xr9bQt8GwVBAdBGyQinUDgB/S/bHrdbFVu2qOSnxdo1f5YKFsxX1NotZoUen6dEVYS0Ll1a0iFCm45IVlLfATqu3SD1a9tPHZM6UhD0WZQDwllgd/EufTpxtLr983sllXhLVEZKVcMvVe8b7+H/W+E8URg7AggggAACQRbYXrRdN3x9gzbuWKkRn7s1aIX3dUR8797KfG6iolvzgWWQ0xWU7rn+Dgq77TqlAGi7lIRHQJyADp1nd1GRSn76SYULF2jXvFmqWrxMkcVlPk8O8x7BVZnS0vYR2nJEC6X2Hai+2YPUL72f2jVvR9HCZ1EOCAcBs8jH5188J9dTL6vTz5W1DnlPm2bq8szz1mI9bAgggAACCCCAQLAFzMKFN0+7WXO3ztH5szzWAiEHb1Ft2ijr+ecV36tnsMOl/yYW4Pq7icFt2h0FQJsmJtTD4gTkW4Y9VVUqW7NWJYsWKv/7eSpc8L0it+X61oiksqjqdwguaR+hrd1S1ebYweqXOdAqCGY1z/K5PQ5AINQElq6bo4UP3aZjZ++s9XHf8ugIua+8QL1H3stjNKGWfMaDAAIIIICAwwUqqip0/+z79cnaT9RvpVsjP3Ur7qA3DUXExqrtww8r+ZxhDh8t4fsiwPW3L1qhuy8FwNDNra1Hxgmo8ekxi4wUL1pk/dkzf47cK1YrotJ7cYJD9WTeIbg8O8K6Q3BH99Zq22eQBmQO1KC2g9QqoVXjg6QFBBwisKdktz6deLO6vju31sd9zTB2DuymYx+aqITsdg4ZFWEigAACCCCAQLgJeDwevfjji/rLj39Rdo5HY9+vUut8b4WW116rVjeNVkRkZLgRheV4uf4Oy7R7DZoCIPMgKAKcgPzPbhYYKfnhBxXNnqPds75T1dIVinB73/p/qJ4L4qRl7SP0U4cI7e3dUd17DtXgzON1bJtjFRcV5/+gaRGBIAuYx32//PIFeZ786yEf9826d5yyTz0nyNHSPQIIIIAAAgggUD+Bj1Z/pAdnP6j4ogrd/JFbPTd5vxcwcehQZTz1pCITE+vXKHs5VoDrb8emzq+BUwD0KyeN1VeAE1B9pRq+X1VhkUoWLlDRnOqCoHvlWp8XFslJlhZ3iNCyTtGK7HeMju06VIMzBqtri668P7DhqeFImwgsWz9XC8zjvrPy6nzct/KK83XMqPt43NcmOSMMBBBAAAEEEKi/wKyts3TLtFtUWlqoK6e4dcZC7yJgTOfOyn7hecV06FD/htnTcQJcfzsuZQEJmAJgQFhp9HACnIAOJ+T/71fl56t4/nyrILhn9gx51m70qRNzL+GGdFl3B27smqyWA0/UwPYnamDbgTwu7JMkOwdbwHrc97lb1PWdOXU+7ps34Agd+/BzapbdPtjh0j8CCCCAAAIIINBggZW7VmrE1yOUU5yjUxe59cev3Io66CEhV1KSMp95WonHH9/gfjjQ3gJcf9s7P00VHQXAppKmnwMEOAEFf0JU5uWpeN48Fc2dqz2zZkibt/oUVHmUtDwrQos7RmjP0e3V8diTNDiLx4V9QmTnJhUwj/v+5z+T5H7yL+q0pfbVffNbJyjj3nFqd9pvmjQ2OkMAAQQQQAABBAIlsKNoh274+gat3L1SPTZ5dOuHVd4fgrpcanPHWLW47DKe9AlUIoLYLtffQcS3UdcUAG2UjHAKhROQ/bJdsX279f7AwlkztXfmDEXs2uNTkHvj//e4cES/3jq61yk6IfMEdUruxC8RPkmys78FKt2V+mba68p75WX1XpBf9+O+l/1Wx9x0P4/7+jsBtIcAAggggAACQRcoLC/UbdNv08ytM9Vqj0djPqhShxzvsJIvOF/p48bx+1DQM+bfALj+9q+nU1ujAOjUzDk8bk5A9k6gWT2sbPVqFc2apfwZ36pk/gK5ysp9CnprC1l3B27qnqqWg4dowBEna0DbAWoe09yndtgZgYYKFFcUa8onE1X+5ns6amVJnc3k9e+iYx8xj/vy7puGWnMcAggggAACCNhfoMJdoYfnPKwPV3+o2HKPbvzMrQErvd8LGH/MMcqaOEFRrVrZf1BEWC8Brr/rxRTyO1EADPkU23OAnIDsmZe6ovKUl6vYrDA8a5Z2z5iuqmUrFeH2/mWhruOrIqQ1GdKSjpEqOaarOg46XYPbD1H31O5yRbichUG0thcw7/ib8o/xint3sjpvrv1RXzOI/FYJanvvPWp/+nm2HxMBIoAAAggggAAC/hAwH/T/bfHf9Nyi56wFAi+Y4dFFMw56KaCkqPR0ZT3/vOJ7HuWPbmkjyAJcfwc5ATbpngKgTRIRbmFwAnJ2xs2CIubdgYWmIPjddLl+3u7TgIpjpGXtIrTmiGaKGzRAvY47Q4Mzj1dqXKpP7bAzAvsLbN+zRdNeeVBpH81UZp73L7I1+5ZHR6jist/o2Jse5PEWphACCCCAAAIIhKXAp2s/1X2z7pN5VcqAFW7d8JlbcRUHUkTExSnjsUeV9Otfh6VRKA2a6+9QymbDx0IBsOF2HNkIAU5AjcCz4aHlW35W0ezqx4VNUTCyoNinKPOSqt8fuKtXttKGnKIBPU5Tr7ReinJF+dQOO4enwLqfl2rOSw+p3Rc/qmVB3QbFCZGqOv909bn+LsW0TAtPLEaNAAIIIIAAAgj8IjB/+3yNnjpaBeUFar+j+r2ArfO9edJGXK+0G29UhIsnd5w6ebj+dmrm/Bs3BUD/etJaPQU4AdUTyoG7edxulS5brqJZM5X37deq+mGpXJVVPo1kfRtpZcdYeY49Su1OPEMDu5ysrOZZPrXBzqEvsGTVDP304mPqOnWdmpXVPd69LWIV+/v/U68rb1JkYmLowzBCBBBAAAEEEECgngJr96zViCkjtLVoq5oXV68QfORm74Obn3aaMh4fL1dCQj1bZjc7CXD9badsBC8WCoB6+iHXAAAgAElEQVTBsw/rnjkBhU/63SUlKv5+gfJnTNeu76Ypat0WnwbvjpDWpUubj0hWdN9j1GXIOerXaYgSYyjk+AQZIjub99bM/f5jbZg0QT3m7lDMIWrLuzOaq8U1f1T3C69WRHR0iAgwDAQQQAABBBBAwL8CeSV5uuHrG7Rs5zJFVnl09VdunfqD9/u+Y3v0UPYLzys6I8O/AdBawAW4/g44sSM6oADoiDSFXpCcgEIvp/UdUWVenopmz1bOtP+qZPYcRe86xDObtTRqFhRZlxGhvO7pShwwUD1+dZ6OzDpWka7I+obAfg4UKK8q14yvX9fOl1/VkYvz5TrEGjS53Vore/godTjzfEVERDhwtISMAAIIIIAAAgg0rUBxRbFu//Z2Td8yXfJ4dOYCj66Y4lbkQb9zRbZsqaznnlPCscc0bYD01igBrr8bxRcyB1MADJlUOmsgnICcla9ARWvu5ipfu1b5M77Tjmn/kRYtVVRZ3au21hZHpUtanxmlwp7tlTp4iI4+6UJlpHUMVMi024QCFe4KfT/7Q236+J9qOWelMnPrXtjDfCe3bwd1G3mH2g4Y2oRR0hUCCCCAAAIIIBAaAmZBkPHzxuufK/9pDajXerdu/titxNIDx2eerEh/4AGlnH9eaAw8DEbB9XcYJLkeQ6QAWA8kdvG/ACcg/5uGQoue8nKV/Pijcr77RjtnTVfsio2KrKy76FPbmCsipc3ZcSrv002t+p+go4acpxZpmaHAExZjML94LpjzsTZ9/K5SZ69QRu6h3x9ZGSntGtpLvUbfq9RuvcLCiEEigAACCCCAAAKBEjAf0L+x9A09teApq4u2Oz26/f0qZe7y7jH1qqvU+rZbFRHJkziByoe/2uX621+Szm6HAqCz8+fY6DkBOTZ1TRq4u7RURYsWasu0L7R3zmw1W7PVei+JL5spH+akx6q0Wzsl9+2vI04cprRuvXk01BfEAO9b5a7SonmfauPH/1DKzGWHLfqZcEpjI1Rw1mAdN2qcmrXNDnCENI8AAggggAACCISXwFcbvtJdM+5SWVWZEko9uuljt/qs9/49vNnQIcp88klFNm8eXkAOGy3X3w5LWIDCpQAYIFiaPbQAJyBmSEME3MXF2j1/jjZM+1Sl8xcoeV2uIn27QdDqtjjBpfwj0hXfp4/aDz5d6X1PkKtZs4aExDENFHB73Ppp/uda9+HbSp61VBk59Xv0e29ytNznn6Hj/nSXYlJaNLB3DkMAAQQQQAABBBA4nMCPuT9q1DejtKt0l1xujy77xq2z53sXAWM6d1b2iy8opn37wzXJ94MkwPV3kOBt1i0FQJslJFzC4QQULpkO7DjdRUX6edbX2jjtc7kX/KSWG/cccnGIuqIxKw3nZ6costeRyhh4stoMOFHR2dncJejn9JlHShZ//4XWffiWms9cUv+iX1K0Sk7orS4XXK7MQacowuXyc2Q0hwACCCCAAAIIIFCbwOaCzRoxZYQ27N1gffukH9269ku3og76EN6VnKysCc+q2cCBQNpQgOtvGyYlCCFRAAwCOl1KnICYBYEQKN+br1XT/61t334l1+JVarW5QNGHfoVcnWGUJsWqqnsnNT/yaLXu1VcJ3borpkMHRURFBSL0kGzTFPy2bFysdbO/0p6F89V87nK1zamo11j3JkWp6ISj1fn8y9Vu8GkU/eqlxk4IIIAAAggggID/BfLL8jV66mgt2LHAarzbZo9u+7BKycUH9RUZqTZ336XUSy/1fxC02CgBrr8bxRcyB1MADJlUOmsgnICclS+nRltWXKjlsz/X1jnfqHLxMqWt2akWhb69Q3D/sVdFuVSWmaboI7oo9ag+Su7RS3FduyqqbVvuFpS0J2+LVs36QnkL58izfLVarN+pFnvr/4y2KfoVHt9Lnc77gzqccCZFP6f+H4+4EUAAAQQQQCDkBMqrynXvzHs1ef1ka2yt9lQvDtI+13uoKb+7ROl33SWzWjCbPQS4/rZHHoIdBQXAYGcgTPvnBBSmiQ/ysM0vLsuXfav1M/+jkkWLlLRqm9rt8H6EwdcwK+Jj5O6YqWbdeliFwbiu3azCYGRKiq9NOWb/sqK9WjPvv9o2/zuVL12mxLXb1Sqvfnf37T/I/KQoFRx/lDr+9vfqfOLZFP0cMwMIFAEEEEAAAQTCTcA83fHCDy/opZ9esoYeW+7RqE/c6rfa+wP2hAEDlPnsM4pqwTub7TBPuP62QxaCHwMFwODnICwj4AQUlmm33aAr3ZVasfVHrZw1WXsWzFX88o3qtKXS+3GGBkZe0SJRER2yFZueocSMdoprm6no9DaKavPLn5YtFREZ2cDWm+Yw84teVWGhfl65QJvnfqPCxT8qbtVmpW0rUWQDb6bMbx6p/OOPtIp+Rww5h6Jf06SSXhBAAAEEEEAAAb8IfLT6Iz04+0FVeioV4fHoom/dumCW9y+G5p3a2ZNeVGyXLn7pl0YaLsD1d8PtQulICoChlE0HjYUTkIOSFUahVrmrtHLXCi3+cYpy530nrdmolluL1C7Xo9RC/0O4XRGqbNFcap2qqNZtFN82U4mZ7a2C4f6FQldsrF87N0U99969KsvdoV1b1yt/2yYV5mxRae52VebtlHbtUeSeAsXmlyqhoFwx9Vugt84YS2IitLN9stzdO6vdWeer25Bz5bJ54dOv4DSGAAIIIIAAAgiEmMCcbXN089SbVVhR/Uvy8Uvdun6y2+v3RlezZsp8+iklDh0aYgLOGg7X387KV6CipQAYKFnaPaQAJyAmiFME9pTu0ardq7Rm0yLlLVmostWrFb8xR5m5VWqXKyWUBX4k5t2DnkiX3FGR8hzw71/+2/p6pDyRv/wdHSnt+3eUPBGSZ0++XLsLFLO3WPEF5Ypq4OIohxttRaS0IzNB5V3bqVnv3urQ/1S16zmIgt/h4Pg+AggggAACCCDgMIE1u9doxNcjtK1omxV5560ejfmgyvuDc5dLrceMUeqVV/De7CDlmOvvIMHbrFsKgDZLSLiEwwkoXDIdmuOscFdoff56rdy5QpvWLFL+8sXyrN2gtG3F1t2CmTvV4NWHnSTmjpB2tIlRYed0xfbsqYx+Q9T1uFMVG9/MScMgVgQQQAABBBBAAIEGCuSV5OnGr2/U0p1LrRZaFFQXAbtU1wQP2JIvOF9tx41TRExMA3vjsIYKcP3dULnQOo4CYGjl0zGj4QTkmFQRqA8C5hegFbtWaGXucm1fuVClq1YpcscuJeaXKbVASi3wWH+3KJSi6r84rg8RBHbXnBYu7emUJteRXdXq2EHqNvAstWiRHthOaR0BBBBAAAEEEEDA1gLFFcUa+91YTds8zYozusKjEZ+7dfxy7/cCxvc9TlkTJyoqNdXWYwq14Lj+DrWMNmw8FAAb5sZRjRTgBNRIQA53lEBRRZFyinOUW5yrnJIc5RTu0N7tm1S87WdV7tiuiNzditq5Vy32VlnFQVMobFkgxZcHfpjFsVJ+swgVN49WWVK8qlo0V0RqC0WnpSmuVRsltslSStv2SsvsojYt2/PYRuBTQg8IIIAAAggggIDjBMy7tJ/8/kn9ffnfq2P3eHT+LI8u+db7U+/ozExlTXpRcV27Om6cTg2Y62+nZs6/cVMA9K8nrdVTgBNQPaHYLWwEzMIce8r2VBcKS3Ktv3fmbVbxti1yl5ZKlVWKqO1PVZUiKtxyVVZJVVVyVVb/O6LK/F39J8LtlponKiotTbGtWqtZ60wlp7dXi7Yd1LpFplJiU+SKcIWNNQNFAAEEEEAAAQQQCIzA28vf1uPzHpdH1Xf/DVjh1g2fuRVXcWB/roQEZTz9lJr/6leBCYRWDxDg+psJYQQoADIPgiLACSgo7HSKAAIIIIAAAggggAACCARUYOqmqdYjwSWVJVY/HbZ7dPv7VUorOKjbiAi1vu02pf7xKp4yCWhGJK6/AwzskOYpADokUaEWJiegUMso40EAAQQQQAABBBBAAAEEqgWW71yuG7+50XqqxWwphR7d9kGVum71Fko+/3yl3z9OLhYHCdj04fo7YLSOapgCoKPSFTrBcgIKnVwyEgQQQAABBBBAAAEEEEDgYAFT/Bv5zUgt27nM+lZ0pUfDJ7t14tJaFgc57jhlPcfiIIGaRVx/B0rWWe1SAHRWvkImWk5AIZNKBoIAAggggAACCCCAAAII1CpgVgi+e8bdmrJpSvX3PR6dN9uj302vZXGQjAxlTZqkuG4sDuLv6cT1t79FndkeBUBn5s3xUXMCcnwKGQACCCCAAAIIIIAAAgggcFgBt8etiQsn6pUlr+zbt99Kt0Z+WsfiIE8+qeYnn3TYdtmh/gJcf9ffKpT3pAAYytm18dg4Adk4OYSGAAIIIIAAAggggAACCPhZ4OM1H+uB2Q+o0l1ptdx+h0djzeIgew/qyCwOcustSr36ahYH8VMOuP72E6TDm6EA6PAEOjV8TkBOzRxxI4AAAggggAACCCCAAAINE/h++/e6adpNyi/LtxpILvRoTF2Lg/z2t0p/8AEWB2kY9QFHcf3tB8QQaIICYAgk0YlD4ATkxKwRMwIIIIAAAggggAACCCDQOIFNezfphq9v0Ia9G6yGzOIgf5rs1pDaFgc55hhlPf+colq2bFynYX40199hPgF+GT4FQOZBUAQ4AQWFnU4RQAABBBBAAAEEEEAAgaALmDsAb51+q+Zum1sdi8ejc+d49LtpbrkOii4qo62yrcVBugU9bqcGwPW3UzPn37gpAPrXk9bqKcAJqJ5Q7IYAAggggAACCCCAAAIIhKBAhbtCj859VO+ven/f6PqucmvUJ96Lg0QkJCjzz0+o+SmnhKBE4IfE9XfgjZ3QAwVAJ2QpBGPkBBSCSWVICCCAAAIIIIAAAggggIAPAh6PR28te0tPfv+kPPJYR5rFQW5/v0qtalkcpNXNN6vltdewOIgPxmZXrr99BAvR3SkAhmhi7T4sTkB2zxDxIYAAAggggAACCCCAAAJNIzBt8zTd/u3tKqkssTpMKvLotg+q1P1n7/6Tz/2N0h98UK7Y2KYJLgR64fo7BJLohyFQAPQDIk34LsAJyHczjkAAAQQQQAABBBBAAAEEQlVg5a6V1uIgO4p3WEOMMouDfOHW0CXVdwbuv8X36VO9OEhaWqhy+HVcXH/7ldOxjVEAdGzqnB04JyBn54/oEUAAAQQQQAABBBBAAAF/C+QW52rUN6O0ZOeS6qY9Hv1mrkeXTq1lcZC2bZX94guK69HD32GEXHtcf4dcShs0IAqADWLjoMYKcAJqrCDHI4AAAggggAACCCCAAAKhJ2AeA75nxj36auNX+wZ33OrqxUHiyw8cb0R8vDKeeFxJp50WehB+HBHX337EdHBTFAAdnDwnh84JyMnZI3YEEEAAAQQQQAABBBBAIHACZnGQv/70Vz3/w/P7OsnO8Wjs+1Vqne/db6ubblLLP13H4iB1pITr78DNVSe1TAHQSdkKoVg5AYVQMhkKAggggAACCCCAAAIIIBAAgambpurOGXeqqKLIat1aHOTDKnXf4t1Z0jnnqO3DD7E4SC154Po7AJPTgU1SAHRg0kIhZE5AoZBFxoAAAggggAACCCCAAAIIBFZg3Z51GvnNSG0q2GR1ZBYHufZLt05a7L04SFzvo5X9/POKatUqsEE5rHWuvx2WsACFSwEwQLA0e2gBTkDMEAQQQAABBBBAAAEEEEAAgfoI5Jfla+y3YzVz68zq3T0enTPPo99/U8viIOnp1YuDHHlkfZoOi324/g6LNB92kBQAD0vEDoEQ4AQUCFXaRAABBBBAAAEEEEAAAQRCU6DKXaUJCyfotaWv7RvgsavdGl3X4iCPj1fS6aeHJoaPo+L620ewEN2dAmCIJtbuw+IEZPcMER8CCCCAAAIIIIAAAgggYD+Bz9d9rnGzxqmsqswKLjvXo7H/qmNxkNGj1HL48LBfHITrb/vN42BERAEwGOr0KU5ATAIEEEAAAQQQQAABBBBAAIGGCCzduVSjvxmtHcU7rMObF3t064dVOnKzd2tJZ5+tto88LFdcXEO6ColjuP4OiTQ2ehAUABtNSAMNEeAE1BA1jkEAAQQQQAABBBBAAAEEEDACeSV5unXarVqYs9ACiayqXhzk5J9qWRzkqKOU9cLzik5PD0s8rr/DMu1eg6YAyDwIigAnoKCw0ykCCCCAAAIIIIAAAgggEDICFVUVGj9vvN5b9V71mDwenT3fo8vM4iAH1QEj09KUNXGCEo49NmTGX9+BcP1dX6nQ3o8CYGjn17aj4wRk29QQGAIIIIAAAggggAACCCDgKIH3Vr6nx+Y+pkpPpRX3MWvcGv1vtxLKDxpGdLTS77tXLS680FHja2ywXH83VjA0jqcAGBp5dNwoOAE5LmUEjAACCCCAAAIIIIAAAgjYVmDBjgW6Zdot2lW6y4oxM8+j29+vUtvd3iG3uPRStbnzDkVER9t2PP4MjOtvf2o6ty0KgM7NnaMj5wTk6PQRPAIIIIAAAggggAACCCBgO4Fthds0eupoLd+13IqtWYnHuhOwz3rv9wIm9O+vzGefUVRqqu3G4e+AuP72t6gz26MA6My8OT5qTkCOTyEDQAABBBBAAAEEEEAAAQRsJ1BSWaL7Z92vyesnW7G53B5dOs2t38z1LgJGZ2Qo68UXFNe9u+3G4c+AuP72p6Zz26IA6NzcOTpyTkCOTh/BI4AAAggggAACCCCAAAK2FfB4PHpr2VuauGiiyqrKrDhPXOLWnya7FVN1YNgR8fHKeOxRJZ15pm3H09jAuP5urGBoHE8BMDTy6LhRcAJyXMoIGAEEEEAAAQQQQAABBBBwlMDGvRv1wOwHNH/7fCvuzls9uu3DKrUs8B5Gy+uHq9XIkYpwuRw1xvoEy/V3fZRCfx8KgKGfY1uOkBOQLdNCUAgggAACCCCAAAIIIIBASAm4PW59uPpDPf390yqoKFByYXURsNvP3sNMPOkkZfz5CUUmJoaUAdffIZXOBg+GAmCD6TiwMQKcgBqjx7EIIIAAAggggAACCCCAAAK+COQU5+jRuY/q601fK6rSo6u/cuuUH73fCxjTubOyX3heMR06+NK8rffl+tvW6Wmy4CgANhl1/TsqLi7W888/r3/9619au3atysrKlJ2drbPPPlujRo1S+/bt699YLXu63W7NmDFDX375pWbNmqUVK1Zo165diouLU7t27TRkyBANHz5cRx99dKP6OdTBnIACRkvDCCCAAAIIIIAAAggggAACdQhM2ThFj8x9RHnFuTpjgUdXTnEr8qA6oCupuTKfelqJJ54QEo5cf4dEGhs9CAqAjSb0bwNr1qzRWWedpdWrV9facFJSkt5++20NGzaswR2bIt/mzZsPebzL5dJtt92m8ePHKyIiosF91XUgJyC/k9IgAggggAACCCCAAAIIIIBAPQTyy/L1zIJn9MHqD3TURrdu/sitpJIDD/S4ItTmtjFKverKgFwT1yNMv+3C9bffKB3dEAVAG6WvoKBAffv21apVq6yorr32Wl1yySWKj4/X1KlT9dhjj6mwsFAJCQmaOXOm+vTp06Doo6KiVFVVpS5duuiCCy7Q8ccfr4yMDJWUlFj9PPPMM9q9e7fV9p133qlHH320Qf0c6iBOQH4npUEEEEAAAQQQQAABBBBAAAEfBOZum2stElK6eZPGfFClDjneBzcbdpayHn5Errg4H1q2165cf9srH8GKhgJgsORr6fe+++7TQw89ZH3niSee0JgxYw7YyzyuO3ToUFVWVlp/T5s2rUHRDx48WOPGjdPpp59e6ycZ5rHjQYMGKTc3V6ZYuHLlSnXq1KlBfdV1ECcgv3LSGAIIIIAAAggggAACCCCAQAMESipLNOnHSfrnojc0/NMKDVzp/V7Aiq7t1X3SK4rJzGxAD8E/hOvv4OfADhFQALRDFiRVVFSoVatWys/PV48ePbRkyRKZx3AP3sy7+V566SXry/PmzVO/fv0CMgLzDsKRI0dabT/11FO65ZZb/NoPJyC/ctIYAggggAACCCCAAAIIIIBAIwSW7VymcTPv05GfLdcl37q9WipKiFTBXdfoxPNvVJQrqhE9Nf2hXH83vbkde6QAaJOsfPXVVzrjjDOsaMx798aOHVtrZHPmzLHuzjNboB7PNW0vXbpUPXv2tPoZMWKEXnjhBb9KcQLyKyeNIYAAAggggAACCCCAAAIINFKgwl2hN5e+qbnvPafh/y5TfPmBDZqy4JenJKvtiJH6bdfzlBCd0Mgem+Zwrr+bxtnuvVAAtEmG9n/8d/bs2Ro4cGCtkZnHf5OTk2VWCjar9U6fPj0gI1i4cKGOO+44q21zJ+DEiRP92g8nIL9y0hgCCCCAAAIIIIAAAggggICfBDbu3ajnPrxdZ730k9pWvx7/gG1h5wi9cUGKzj329/pd998pNS7VTz0HphmuvwPj6rRWKQDaJGP/93//pw8++MCKxizAkZKSUmdkvXv31k8//WQ9MpyTU8tbSv0wJrMQSM1jvy+++KKuv/56P7T6vyY4AfmVk8YQQAABBBBAAAEEEEAAAQT8KOD2uPXZT++p9IE/q9eyYq+Wc5Klp86P1NbMOP22y291xZFXKDsp248R+K8prr/9Z+nkligA2iR75o6/uXPnqlmzZtZKv4fahg0bps8//9zapbS0VLGxsX4dhbm70LyHcNOmTVbb69ats1YJ9mUzJ5hDbdu2bVP//v2tXTZv3qysrCxfmmdfBBBAAAEEEEAAAQQQQAABBAIuUFlVqflP362kVz+R66D1QcojpVfOcGlqb5dcES6d2u5U/bHnH3VU2lEBj8uXDigA+qIVuvtSALRJbo866igtW7ZMbdq00fbt2w8Z1cUXX6z33nvP2icvL08tW7b06yjMI79mERCzmbsAzSIgvm4RERH1PoQCYL2p2BEBBBBAAAEEEEAAAQQQQCAIAoVz52rjTaPk2r3Xq/dvjo7QK6e7VBFdfR3cP72/rup5lY7POF6+XBsHalgUAAMl66x2KQDaJF+dO3e27rTLzs627rw71Hb55Zfrrbfesnbxd/Hs7bff1h/+8AerbXMX4IIFCxQfH++zki8nOX+PwedgOQABBBBAAAEEEEAAAQQQQACBwwhU7Nihn2+6WSWLFnntub6N9NR5kcpp8b+bYY5ocYSuOuoqndnxTEW7ooPmSwEwaPS26pgCoI/p8KWwVVfTr732mq688soDvm2HOwCnTZumM888U2VlZUpNTdWMGTOsImBDNh4BbogaxyCAAAIIIIAAAggggAACCNhZwFNRoZwnn9SuN970CrMwTnp+mEsLj3Ad8L30Zuk6t/O5GpI1RD3TelqPCzflRgGwKbXt2xcFQB9zE6gCYLDfAfj999/r5JNPVkFBgRITEzVlyhQNGDDAR536784JqP5W7IkAAggggAACCCCAAAIIIGAvgb1ffKGtd98jT7H3AiEfDI7Qeye65HF5vxrLrBh8QuYJVjFwcMZgNY9pHvCBcf0dcGJHdEAB0Mc0rVixwscjvHdv27atkpOTD/hGMFcBXrp0qYYOHaqdO3dai36YBUZOOeWURo/zUA1wAgooL40jgAACCCCAAAIIIIAAAggEWKBs7VptGTlK5evWefX0U4cITTjXpYKEut+PHxURpWPbHGsVA0/MOlEdkzoG5J2BXH8HeCI4pHkKgDZJ1H333aeHHnrIimb27NkydwTWtlVWViolJUVFRUUaMmSIpk+f3qgRrF27VieeeKLMqrxRUVF6//33de655zaqzfoczAmoPkrsgwACCCCAAAIIIIAAAgggYGeBqsIibb/vXu2d/IVXmHtTojX+N26tyazfIplZiVkamj1UQzKHqG96X8VExvhl6Fx/+4XR8Y1QALRJCr/66iudccYZVjTjx4/X2LFja41szpw5GjRokPW9O++8U48++miDR2BOAqb4t2HDBrlcLmthkUsvvbTB7flyICcgX7TYFwEEEEAAAQQQQAABBBBAwK4CHo9Hu996Szue+LNUWXlAmJ6oSC39/QD9vXuu1u1dX+8hxEfFa2DbgdbdgeZP64TW9T724B25/m4wXUgdSAHQJuksLy9X69atlZ+fby28YR7Lre19g8OHD9dLL71kRT1v3jz169evQSPIycmx7iBcuXKldfxf//pXXXvttQ1qqyEHcQJqiBrHIIAAAggggAACCCCAAAII2FWgeOFCa5XgypwcrxCThg1T1a1X67s9C/Tdlu80b/s8Vbgr6j2Ubi26yawq3CGpg9ont7ceF85unq2E6ITDtsH192GJwmIHCoA2SvP+jwE/8cQTGjNmzAHRmUeDTdHOPAZs3tlnVu2tbaspHLZv3966u+/gbc+ePTrppJP0ww8/WN965plndNNNNzWpBCegJuWmMwQQQAABBBBAAAEEEEAAgSYQqMzL08+33KriefO8eovOzlbmk39WfO/eKq4o1pxtc/Ttlm+tgmBOiXfRsD7htkloow7JHazCoFUcTGpv/Z2RmKFIV6TVBNff9ZEM/X0oANoox2YF3r59+2rVqlVWVNddd50uueQSxcfHa+rUqdbjvoWFhdZ/z5o1S3369PG5AFhWVmat9muON9vvf/973XHHHYdUaNasmTp27OhXKU5AfuWkMQQQQAABBBBAAAEEEEAAAZsIeCorlTthgnb+7WXviKKi1GrkSLW85mpFRFYX6MwjxCt2rbCKgd/+/K0W5y6WR55GjSbaFW3dIWgKgimlKXro7Oo1BzZv3qysrKxGtc3BzhSgAGizvK1Zs0ZnnXWWVq9eXWtkSUlJevvttzVs2LA6Iz/UHYDmjkBfi3mHutuwoXwUABsqx3EIIIAAAggggAACCCCAAAJOECiYMkVb77xL7oICr3AT+vdXxhOPKzo93et7u0p3acbPM6yC4KyfZ6mgwvt4X8ZfsatCK2+pfv0XBUBf5EJrXw24ixUAACAASURBVAqANsynWeH3hRde0L/+9S+ZgqB5P2B2drZVGBw9erTMo72H2igA2jCphIQAAggggAACCCCAAAIIIBB2AuVbftbWMWNUsmiR19gjk5OV/vBDSjrttDpdzHsCf8z5USt3r9SG/A3auHejNuzdoG1F2+ptSQGw3lQhvSMFwJBOr30Hxx2A9s0NkSGAAAIIIIAAAggggAACCPhPwDwSnDfpL8qbNElyu70aTrn4YrW5Y6xc8fH17rSkskSb9m7aVxC0CoP5G7R+73oVlB94xyAFwHqzhvSOFABDOr32HRwFQPvmhsgQQAABBBBAAAEEEEAAAQT8L1C8YIF+HjNGlVu9796L6dxZmU89qbju3RvVsXmf4J6yPdZdgqYgaP5esnaJXr34VatdHgFuFK+jD6YA6Oj0OTd4CoDOzR2RI4AAAggggAACCCCAAAIINEygKj9f28bdr4Ivv/RqICI6Wq3H3KYWl12mmld7NayXA4/i+tsfis5vgwKg83PoyBFwAnJk2ggaAQQQQAABBBBAAAEEEECgkQLmLr38Dz/S9kcekae42Ku1ZkNOVMZjjymqZctG9lR9ONfffmF0fCMUAB2fQmcOgBOQM/NG1AgggAACCCCAAAIIIIAAAv4RKFu/XltvvU2ly5Z5NRiZlmYVARNPPKHRnXH93WjCkGiAAmBIpNF5g+AE5LycETECCCCAAAIIIIAAAggggIB/BTzl5cp5doJ2vVr9jr6Dt9Qrr1SrW26WKyamwR1z/d1gupA6kAJgSKXTOYPhBOScXBEpAggggAACCCCAAAIIIIBAYAUKZ87U1jvuUFVunldHsT16WAuExHbq1KAguP5uEFvIHUQBMORS6owBcQJyRp6IEgEEEEAAAQQQQAABBBBAoGkEKnft0rY771Lh9OleHUbEx6vN2NuVctFFinC5fAqI62+fuEJ2ZwqAIZtaew+ME5C980N0CCCAAAIIIIAAAggggAACTS9gFgjZ/fY/lPPEEzKPBx+8JfTvr7YPPaiY9u3rHRzX3/WmCukdKQCGdHrtOzhOQPbNDZEhgAACCCCAAAIIIIAAAggEV6B05Ur9fOutKl+z1iuQiNhYtRo1SqlXXqGIyMjDBsr192GJwmIHCoBhkWb7DZITkP1yQkQIIIAAAggggAACCCCAAAL2EXCXllp3Au7+xzu1BhXXq5faPvKw4rp2PWTQXH/bJ6fBjIQCYDD1w7hvTkBhnHyGjgACCCCAAAIIIIAAAgggUG+Bwhkztf2++1Sxdav3MdHRSrvuOqX96TpF1LFSMNff9aYO6R0pAIZ0eu07OE5A9s0NkSGAAAIIIIAAAggggAACCNhLwF1UpJxnntXut9+WPB6v4GKP6KK2jzyi+KOP9voe19/2ymWwoqEAGCz5MO+XE1CYTwCGjwACCCCAAAIIIIAAAggg4LNA8cKF2nb3PSpfv977WJdLqZdfrlajR8kVH7/v+1x/+8wckgdQAAzJtNp/UJyA7J8jIkQAAQQQQAABBBBAAAEEELCfgLusTHkvTtLOl1+Wqqq8AozOzlbbhx5Ss4EDrO9x/W2/HAYjIgqAwVCnT05AzAEEEEAAAQQQQAABBBBAAAEEGiFQuny5tt59t8qWLa+1lZQLL1Tr28doW36+srOzrX02b96srKysRvTKoU4VoADo1Mw5PG4+gXB4AgkfAQQQQAABBBBAAAEEEEAg6AKeigrtfO115T3/vDzl5V7xRLVuraobblCPSy6mABj0bAU3AAqAwfUP294pAIZt6hk4AggggAACCCCAAAIIIICAnwXK1q3TtnvuVcnChV4tb6+o0Mnr1lIA9LO505qjAOi0jIVIvBQAQySRDAMBBBBAAAEEEEAAAQQQQMAWAh63W7v/8Y5ynn5anuLifTFRALRFeoIeBAXAoKcgPAOgABieeWfUCCCAAAIIIIAAAggggAACgRWo+PlnbRt3v4pmzLA6ogAYWG+ntE4B0CmZCrE4KQCGWEIZDgIIIIAAAggggAACCCCAgG0EPB6P8j/+t3aMH6+teXk8AmybzAQvEAqAwbMP654pAIZ1+hk8AggggAACCCCAAAIIIIBAEwhU5uZq0dg71P+1V63eWAW4CdBt2gUFQJsmJtTDogAY6hlmfAgggAACCCCAAAIIIIAAAnYQ4PrbDlkIfgwUAIOfg7CMgBNQWKadQSOAAAIIIIAAAggggAACCDSxANffTQxu0+4oANo0MaEeFiegUM8w40MAAQQQQAABBBBAAAEEELCDANffdshC8GOgABj8HIRlBJyAwjLtDBoBBBBAAAEEEEAAAQQQQKCJBbj+bmJwm3ZHAdCmiQn1sDgBhXqGGR8CCCCAAAIIIIAAAggggIAdBLj+tkMWgh8DBcDg5yAsI+AEFJZpZ9AIIIAAAggggAACCCCAAAJNLMD1dxOD27Q7CoA2TUyoh8UJKNQzzPgQQAABBBBAAAEEEEAAAQTsIMD1tx2yEPwYKAAGPwdhGQEnoLBMO4NGAAEEEEAAAQQQQAABBBBoYgGuv5sY3KbdUQC0aWJCPSxOQKGeYcaHAAIIIIAAAggggAACCCBgBwGuv+2QheDHQAEw+DkIywg2bNigjh07WmOfN2+e2rZtG5YODBoBBBBAAAEEEEAAAQQQQACBQAps27ZN/fv3t7pYv369OnToEMjuaNumAhQAbZqYUA9r/vz5+05AoT5WxocAAggggAACCCCAAAIIIICAHQTMDTj9+vWzQyjE0MQCFACbGJzuqgU+++wznXPOOXAggAACCCCAAAIIIIAAAggggEATCVAAbCJoG3ZDAdCGSQmHkNasWaMjjjjCGuqsWbOUnZ0dDsNmjA4R2P8WeR5Rd0jSwihM5mcYJduBQ2V+OjBpYRYyczTMEu6w4TI/HZYwB4VbWVmp3NxcK+JevXopLi7OQdETqr8EKAD6S5J2fBLgJaQ+cbFzEwswP5sYnO58EmB++sTFzk0swPxsYnC681mAOeozGQc0oQDzswmx6QqBMBSgABiGSbfDkPnhZocsEENdAsxP5oadBZifds4OsTE/mQN2F2CO2j1D4R0f8zO888/oEQi0AAXAQAvTfq0C/HBjYthZgPlp5+wQG/OTOWBnAeannbNDbEaAOco8sLMA89PO2SE2BJwvQAHQ+Tl05Aj44ebItIVN0MzPsEm1IwfK/HRk2sImaOZn2KTasQNljjo2dWEROPMzLNLMIBEImgAFwKDRh3fH/HAL7/zbffTMT7tnKLzjY36Gd/7tPnrmp90zRHzMUeaAnQWYn3bODrEh4HwBCoDOz6EjR8APN0emLWyCZn6GTaodOVDmpyPTFjZBMz/DJtWOHShz1LGpC4vAmZ9hkWYGiUDQBCgABo0+vDvmh1t459/uo2d+2j1D4R0f8zO882/30TM/7Z4h4mOOMgfsLMD8tHN2iA0B5wtQAHR+Dh05An64OTJtYRM08zNsUu3IgTI/HZm2sAma+Rk2qXbsQJmjjk1dWATO/AyLNDNIBIImQAEwaPR0jAACCCCAAAIIIIAAAggggAACCCCAQOAFKAAG3pgeEEAAAQQQQAABBBBAAAEEEEAAAQQQCJoABcCg0dMxAggggAACCCCAAAIIIIAAAggggAACgRegABh4Y3pAAAEEEEAAAQQQQAABBBBAAAEEEEAgaAIUAINGT8cIIIAAAggggAACCCCAAAIIIIAAAggEXoACYOCN6QEBBBBAAAEEEEAAAQQQQAABBBBAAIGgCVAADBo9HSOAAAIIIIAAAggggAACCCCAAAIIIBB4AQqAgTemBwQQQAABBBBAAAEEEEAAAQQQQAABBIImQAEwaPR0jAACCCCAAAIIIIAAAggggAACCCCAQOAFKAAG3pgeEEAAAQQQQAABBBBAAAEEEEAAAQQQCJoABcCg0dMxAggggAACCCCAAAIIIIAAAggggAACgRegABh4Y3o4SGDjxo2aOHGiPv/8c23evFmxsbHq3LmzLrroIt1www1KSEjADAG/CeTk5GjevHnWn/nz51t/du7cabV/xRVX6PXXX/epry+++EJ//etfrXZyc3PVqlUr9evXT9ddd51+/etf+9QWOyNgBL7//ntNnjxZM2bM0LJly6x5FR0drYyMDB1//PG6+uqrdcIJJ9Qbizlabyp2PIzA3r17rblpzndmnv7888/W/CwpKVFKSoqOPPJInXXWWdYcbdmy5WE9Z82apRdffFHfffedduzYYbXRu3dvXXnllfrd73532OPZAYH6CowdO1ZPPPHEvt2nTp2qX/3qV4c8nHNnfXXZr74CERER9dp16NChmjZtGvOzXlrshAACjRGgANgYPY71WeDTTz/VH/7wB5mLitq2rl27WoXBLl26+Nw2ByBQm8ChfvnypQDodrutIt8rr7xSJ/Q111yjl156SS6Xi2QgUC+BIUOGWMWQw22XX365/va3vykmJqbOXZmjh1Pk+74KTJkyRaeddtphD0tLS9Pf//53nXHGGXXue//99+uhhx6Smae1bWeffbbef/99xcXFHbY/dkDgUAI//PCD9cFcZWXlvt0OVQDk3Ml8CpSAPwqAzM9AZYd2EQhPAQqA4Zn3oIx60aJF1t0s5s6BxMRE3XnnnTrppJOs/3733Xeti1uzmSKgudOgefPmQYmTTkNLYP9fvtq1a6fu3bvrq6++sgbpSwHQzNfx48dbxx1zzDG6/fbbrTtX165da91lYOa32cx+jz76aGghMpqACZgPO8wcMnf7XXjhhTrxxBNl5mlVVZVmz56tp556yrrrymzmDql//OMfdcbCHA1YmsK2YVMA/OMf/2j9rD7uuOOUnZ2ttm3bWkW8LVu2WAW7Dz/80Jqvpjht7rQ2d/QdvJkPRoYPH2592Zw377rrLvXq1Utbt27VhAkTZIoz9ZnjYZsIBl5vATM3Bw4caN212rp1a5mnAMx2qAIg585687KjjwI1v4Nef/31GjFiRJ1HN2vWTB07dqz1+8xPH9HZHQEEDilAAZAJ0mQCNXe6REVF6dtvv9WgQYMO6PvPf/6zVVQx27hx42TuFmBDoLECZi6ZOwHMnzZt2mjDhg37fsmqbwFw1apVOuqoo6y7Cfr27WvN3/j4+H2hFRcXyzy+YQrXZn4vX76cu1gbm7gwOX7YsGEyd/ddcMEFioyM9Bp1Xl6e9cGJmYNmmz59usy59OCNORomE6aJh2kKe7XNy/3D+Pjjj3XeeedZXzJ/m4Lg/tuuXbvUqVMn5efnW8XtBQsWyNwxWLOZPsxx5gkBs9XnUc0mZqA7Bwk8++yzuvnmm60P+8y8euyxxw45rzh3Oii5Dgy1pgDY0Osa5qcDk07ICNhcgAKgzRMUKuGZuwIGDBhgDedPf/qT/vKXv3gNzXxq27NnT6t4Yt4LZD61Ne/BYkPAnwINKQCaT20nTZpkhWHuyjJ3Fxy8zZkzZ19R2+z/wgsv+DNs2gpjgc8++0znnHOOJTBy5EjrHaoHb8zRMJ4gNhi6KbasXLnSKuyZdwTuv5k7pM372Mz2zjvv6JJLLvGK2NxN2KFDB+tOQvNOQfMqEDYEfBXYtGmT9WFdYWGh9T41U0x+4IEHrGbqKixz7vRVmf19EWhsAZD56Ys2+yKAQH0EKADWR4l9Gi1gHvep+RTWFEpqioEHN2wesTS3upvtP//5j04//fRG900DCOwv4GsB0OPxKCsry3pUzVzkmgJ1XVvNRXBmZqa1wE193/1ChhA4lEBRUZH12gSz1VYcYY4yf4ItYO6wNndAm3laUFBwQDiDBw+2PjhJSkqyioN1vcfyzDPPtH7um4XBzH68BiTYWXVe/+aDEvOBSc3d/eZJkkMVADl3Oi/HTou4MQVA5qfTsk28CDhDgAKgM/Lk+ChrHv8177jYs2eP9ZhkbZu5SDAXC2a777779v3i5ngABmAbAV8LgOvWrbPeWWW2uu5erRmc+b5ZIdhs5ri63udiGwwCcYSAeYSyZoVVc4H7ySefHBA3c9QRaQzZIM2df+bu/ZpXJJh3r9Vs5eXlSkhIsO7sMwuEfPnll3U6mA8JzYeFZvvmm2+s9w6yIVBfgffee08XX3yxUlNT992NergCIOfO+uqyX0MFGlMAZH42VJ3jEEDgUAIUAJkfTSLQqlUrmXdZmZeDm9XZ6tp2795t/fJmNvNCfPMLHRsC/hTwtQC4/+OXzzzzjG666aY6wzHfv+WWW6zvm0fYzN1abAg0VuCjjz7S+eefbzVj3pP6+OOPH9Akc7Sxwhzvq4B576lZnMa8t8884rtjxw6rCbMS8O9///t9zS1ZssRa7MNso0ePlnk/W13b/vPcvELhUC/M9zVe9g9tAfPBco8ePbR9+3ZrQblrrrnGGvDhCoCcO0N7XthhdDUFwCOPPFLmjj7zO6h5r2p6erp1w8OVV15Z54cdzE87ZJAYEAg9AQqAoZdT242otLR034IJZ599tvV4xqE28wiReeTNvGfN3BHIhoA/BXwtAJr3VZrV28z2r3/9S//3f/9XZzhmRUxTuDabOc7cEciGQGMEzLtRzYJJ5j2qZjOPWZrVWPffmKONEebY+gq8/vrruuqqq+rc/Y477rBWQN//1Qfmjr9f//rX1jFmoa/bbrutzuPN3DaPEpvNtFXz2pD6xsd+4Stw3XXXWYU/s2DSd999t28OHq4AyLkzfOdMU428Pq+C+e1vfytzfk1OTuZne1Mlhn4QCGMBCoBhnPymGrp5l0/r1q2t7szjGe++++4huzYrtZoFQMwjRYsXL26qMOknTAR8LQDuvzr1F198IfOeqro28/2au/6efPJJ3XrrrWGiyjADJfDUU0/tK5qYuwA/+OADr66Yo4HSp939BeoqAPbp08d69UFN8W7/Y8yHJhdddJH1JbOQ0vDhw+tENe9XNXfJmO3GG2/Uc889RwIQOKyAKfgNHTrUuqtq0aJF1u+ONdvhCoCcOw/Lyw6NFDCvPvrNb36jU045xXqPtLnJwVwXTZ8+3fqgeOfOnVYPZg7/97//PWDxQ+ZnI/E5HAEEahWgAMjECLiAWQyhXbt2Vj+XXXaZ3nzzzUP2afY1x5j3rq1Zsybg8dFBeAn4WgB86KGHrPdRmu3rr7/WySefXCeYeW+V+SXPbOa4e+65J7xwGa1fBcwFwqmnnmq9W818iGI+EKn5MGX/jpijfmWnsToEzGOWZrVes5WUlGjt2rXWazrMo7vm57V5vHfYsGEHHP3WW2/p8ssvt772yiuv6I9//GOdvvu/7+rqq6/Wyy+/TC4QOKSAecekebXMihUrNGbMGOtx9P23wxUAOXcywQItYM6bKSkptXZjXp1g7pA2hWuzTZgwQaNGjdq3L/Mz0NmhfQTCU4ACYHjmvUlHzR2ATcpNZ4cR8LUAyCewTKlgCCxdulQnnniizHtR4+LirNVRzWJKtW3M0WBkiD5rBEyRz6y6ah51M0U+806rmo07AJkngRSoKfCZD46XLVsmc7eVLwVAzp2BzA5t10fAfPBh7gysqKhQly5dtHr16n2HMT/rI8g+CCDgqwAFQF/F2N9nAd4B6DMZBwRQwNcCIO8ICmAyaLpWgfXr1+uEE07Q1q1brcfazGO/5557bp1azFEmUrAFzOs9zN2ApgCzadOmfYt58Q7AYGcmdPs3d/2Zu//MXYD//ve/rccsD94Odwcg587QnR9OGpl5P/rkyZOtkM3iShkZGda/mZ9OyiKxIuAcAQqAzsmVoyNNS0uz3nPBKsCOTmNIBO9rAZBV2EIi7Y4ZhCn6mTv/zF0B5o4q8961mkco6xoEc9Qx6Q3ZQP/xj3/sW/337bff1qWXXmqNlVWAQzblQR+YWWTLvHuyU6dOeuSRR2qNxyzMVfPe1HvvvXffOybPOeccq1jNuTPoaSQAyXp83bw32mxmwa+a96kyP5keCCAQCAEKgIFQpU0vAfPomnlRs/mFy7wPIyoqqlYls+rv4MGDre+Z96498MADaCLgVwFfC4D7v5fKXHCYT2Tr2mouSMz3zXEdO3b0a+w0FtoCeXl51ovAzaNsZnv++ed1ww03HHbQzNHDErFDgAXMy+tPP/10qxezEvCdd95p/dvcnZWQkKCqqiqdccYZMncE1rWZVX/vuusu69vmfaonnXRSgKOmeScLmEfN33jjjQYNwdxl3aFDB+vntHl/pdn4+d4gSg7yg8Dtt99urZJutv0LgMxPP+DSBAIIeAlQAGRSNImA+aXe/HJvtjlz5mjAgAG19jt+/Ph9Fw7mnVc1FxRNEiSdhIWArwVAj8ejrKws63FM854Ws1JlXVuPHj2sl5FnZmZaC9mYO7jYEKiPQH5+vrXAzMKFC63dzblw7Nix9TlUzNF6MbFTAAX2XyF44sSJGjly5L7ezId65sO9pKQka/XLmJiYWiMxK6ybn/uxsbHWfs2bNw9gxDTtdAF/FAA5dzp9FoRG/GbxpM8//9wajFloyfwOaTbmZ2jkl1EgYDcBCoB2y0iIxmM+0aop+tX1Kavb7VbPnj2tAotZMSsnJ0fR0dEhKsKwgiXgawHQxDlixAhNmjTJCtlcyA4cONArfFPYHjRokPV1s/8LL7wQrCHSr8MEiouLrQ87Zs6caUV+99136+GHH/ZpFMxRn7jY2c8C+7/DaurUqfrVr361rwezMmtNMfudd97RJZdc4tW7ueg1d2SZOwXPOuusfRfDfg6T5sJM4HDvAOTne5hNCBsO19yNaj5cNndLm7tR16xZc0CU/Gy3YdIICQGHC1AAdHgCnRR+zWPA5vHfb7/9dl+xpGYM+692NW7cOJlf3NgQ8LdAQwqAq1atst4dZC5O+/bta83f+Pj4faGVlJRYK7R+//331uPt5hHOI444wt+h014ICphf+s37qL766itrdKNHj9azzz7r80iZoz6TcUA9BMydfaZgZ1airmt75plndMstt1jfNq89MKtYmsVrarZdu3ZZ72kzd7m2b99eCxYsUMuWLfd935xXzzvvPH366afW1w4uINYjTHZBoFaB+hQAOXcyeQIlYM5pv/71r+t87dGOHTus7y9atMgK4amnntp3Lq2JifkZqOzQLgLhK0ABMHxz3+QjNz/gjj/+eJliSWJiovWuH/OOH/Pf7777rvUyZ7N17drVKqTw+E+TpygkO5wxY8YBn6ia96yZFy6bzczHa6655oBxm8eKatvMO63MY5lmO+aYY6w7WsyntWvXrtXjjz++7xc4s595BxYbAvURuOCCC/Thhx9au5pHgE3x71CPjpvHJ805kjlaH132aayAuSuvoKBAZp6alanNOc/8/DZfW7x4scyCHzV3rpq5aR5jO/XUU726femllzR8+HDr66YNc5drr169rFcrmDlvin5m+93vfiezoAgbAv4QqE8B0PTDz3d/aNPGwQLm/FlRUWGdP80TIua/zYfH5vfQadOmyZwXzb/NZs6vU6ZMsV6BcPDG/GRuIYCAPwUoAPpTk7YOK2A+DfvDH/6gvXv31rqvubA1FxBdunQ5bFvsgEB9BHx9T5B550ptm3lE/dprr9Wrr75aZ7dXX321Vch2uVz1CY19EPD5PZHmDipzFytzlMnTFALmgnXjxo2H7cq8J9WcG0877bQ69zV39j/00EPWe61q28yjv2bF1kPdbXjYQNgBgf0E6lsA5Oc70yYQAvU9f5oC4csvv2y9/oif7YHIBG0igMD+AhQAmQ9NLmAuJiZMmGAV+sx7f8xdA6bgd+GFF+rGG2+0VgxkQ8BfAv4qANbEM3nyZKvIN3/+fOuT27S0NPXr189aQdA8ysGGgC8Cvi4Uc6gCIHPUF3n2rY/AypUrrZ/V5i4/824q88jazp07rbtYWrdurT59+si8wP6iiy6q18/uWbNmWe9H/e6776y2zAVv7969ddVVV1l3/7Eh4E+B+hYAOXf6U522agSmT58u88e8O9qs6Gt+ZzQ3QJi7qLOzs2UWSLriiiu8XolUlyC/fzK3EEDAHwIUAP2hSBsIIIAAAggggAACCCCAAAIIIIAAAgjYVIACoE0TQ1gIIIAAAggggAACCCCAAAIIIIAAAgj4Q4ACoD8UaQMBBBBAAAEEEEAAAQQQQAABBBBAAAGbClAAtGliCAsBBBBAAAEEEEAAAQQQQAABBBBAAAF/CFAA9IcibSCAAAIIIIAAAggggAACCCCAAAIIIGBTAQqANk0MYSGAAAIIIIAAAggggAACCCCAAAIIIOAPAQqA/lCkDQQQQAABBBBAAAEEEEAAAQQQQAABBGwqQAHQpokhLAQQQAABBBBAAAEEEEAAAQQQQAABBPwhQAHQH4q0gQACCCCAAAIIIIAAAggggAACCCCAgE0FKADaNDGEhQACCCCAAAIIIIAAAggggAACCCCAgD8EKAD6Q5E2EEAAAQQQQAABBBBAAAEEEEAAAQQQsKkABUCbJoawEEAAAQQQQAABBBBAAAEEEEAAAQQQ8IcABUB/KNIGAggggAACCCCAAAIIIIAAAggggAACNhWgAGjTxBAWAggggAACCCCAAAIIIIAAAggggAAC/hCgAOgPRdpAAAEEEEAAAQQQQAABBBBAAAEEEEDApgIUAG2aGMJCAAEEEEAAAQQQQAABBBBAAAEEEEDAHwIUAP2hSBsIIIAAAggggAACCCCAAAIIIIAAAgjYVIACoE0TQ1gIIIAAAggggEC4C2zYsEEdO3a0GF577TVdeeWV4U7C+BFAAAEEEEAAgQYJUABsEBsHIYAAAggggAACgROYNm2aTjrpJJ86GD16tJ599lmfjrH7zhQA7Z4h4kMAAQQQQAABpwhQAHRKpogTAQQQQAABBMJGgAJgdaopAIbNlGegCCCAAAIIIBBgAQqAAQameQQQQAABBBBAwFeB/QuA119/vUaMGHHYJtLS0pSenn7Y/Zy0AwVAJ2WLWBFAAAEEEEDAzgIUAO2cHWJDAAEEEEAAgbAUMjq9NwAAC5BJREFU2L8AOG7cON1///1h6UABMCzTzqARQAABBBBAIAACFAADgEqTCCCAAAIIIIBAYwQoAFbrUQBszCziWAQQQAABBBBA4H8CFACZDQgggAACCCCAgM0E/FEA7NChgzZu3KgrrrhCr7/+uubPn6+nn35aM2bMUG5urlq1aqVTTz1VY8eOVffu3Q8r8Omnn+qNN97QnDlzrOMTExPVtWtXnXvuubrxxhut/z7ctmTJEr300ksy49uyZYsKCwvVsmVL9ezZU6effrouu+wytW3bdl8ztRUA//vf/2rixInWeHbv3q2MjAydeeaZuvvuu5WVlXW4EPg+AggggAACCCAQlgIUAMMy7QwaAQQQQAABBOws4O8C4JAhQ/SnP/1JlZWVXsOOjY3VW2+9pQsvvLBWktLSUl166aX66KOP6iQzRbjPP/9cffr0qXWfqqoqjRkzxlql2OPx1NlOTbGyZoeDC4ArV67U+PHjaz3eFDSnT5+uHj162Dm1xIYAAggggAACCARFgAJgUNjpFAEEEEAAAQQQqFvAnwXA3r17a9myZdYdf3feeaf69+8vU9SbPHmyVZArKytTdHS0Zs2apb59+3oFdfHFF+u9996zvm7auvXWW60i265du/Tuu+9adxeaol5qaqp++uknZWZmerVx9dVX69VXX7W+bu7wM3cMDh48WMnJydbdhPPmzdP7779vFRBNe7UVAM3+JsahQ4daxUxz9+GePXv05ptvWn/MNnDgQM2ePZuphQACCCCAAAIIIHCQAAVApgQCCCCAAAIIIGAzgYasAtytWzerkFez1TwCbP67ffv21qO7B68SPHXqVOvRW3NnYL9+/axC3P6buatv2LBh1pdOOeUUq2gYExNzwD5/+9vfdN1111lfu+iii/TPf/7zgO9/8skn1mPCZhs0aJDVRkpKSq3imzdvVnZ29r7v7X8HoPnitddeaz1CHBERccDx5usvv/yy9bWFCxfqmGOOsVlGCQcBBBBAAAEEEAiuAAXA4PrTOwIIIIAAAggg4CWwfwGwvjzr16+XKfrVbPsXAM3ddRdccEGtTY0YMUKTJk2yvmfeq7f/XYBnnXWWvvjiC6uwuHbt2gOKc/s3dtppp2nKlCmKiorSpk2bDniPn7lzz9yVl5CQoNWrV1vv7Kvvtn8B0Nw5aMZoHlk+eDOPBte8x3DChAkaNWpUfbtgPwT+v717CdH5++MA/tkQxiX3QjZKskAUhRXFhMRGQ8l14RrZuJSNwtJqxGLCwqUUC8NCWSg2GpKFBdmIQi47aUr9+3xr5j+Yxzzz7fn9fvOdeZ0Vz5zz/Z7zOs/q3fk8hwABAgQIEBgSAgLAIbHNFkmAAAECBAhUSaCRAeD48ePj06dPRTjXW+vo6ChO/2U7e/ZsHDt2rPh3ngrMEt3v37/H2rVro729vSZhlghnqXC2a9euxebNm4t/f/nypSg9zhLhHTt2dJcB17sXPQPAgwcPFpd/1GpjxowpLhU5dOhQUdqsESBAgAABAgQI/F9AAOjbQIAAAQIECBAYYAKN/A3AFStWxIMHD2quMIO+pqam6OzsLC77uHr1atH31atXkWXF2U6dOhUnT56s+Yy8bbjr9OGJEyfi9OnTRd98b940nC1/AzBDwP60ngFga2tr5GnFWm3mzJmRJcQ7d+6Mtra2/rxGXwIECBAgQIDAoBcQAA76LbZAAgQIECBAoGoCjQwAW1pa4vr1638lyPLaDx8+RHNzc1Hymy1/MzB/sy/bhQsXios3arW8SGTEiBHFn/fs2dNdUpy/B5jvz5bPzef3p/1+C/D27dtrDu8qef79JuH+vE9fAgQIECBAgMBgFRAADtadtS4CBAgQIECgsgKNDACzHDfLcv/W+goA8+KNros+enuOALCyXzUTJ0CAAAECBIaIgABwiGy0ZRIgQIAAAQLVEWhkADhYSoAvXboUTgBW5ztspgQIECBAgMDAEhAADqz9MBsCBAgQIECAQDQyAJwwYUJ8/Pix5iUgT58+7b7598yZM3H8+PFiB/pzCcjNmzdj06ZNxbiel4B8/fo1Jk2aVFwCkuFdhnj9aUqA+6OlLwECBAgQIECgtoAA0LeDAAECBAgQIDDABBoZAObSbt26FRs3bux1lfv374/z588Xf3vy5En3jcD5/zVr1hS/3Td8+PB48+ZNzJgxo9dnrF69Ou7fv1+EjG/fvo0sKe5qy5cvj8ePH8eoUaPi9evXMW3atLq1BYB1U+lIgAABAgQIEPirgADQF4QAAQIECBAgMMAEGh0A5gUZeanH1KlTf1npw4cPi1t687TfokWLoqOj45e/3717N9atW1d8tmrVqmhvb49hw4b90idv9921a1fxWZ4CzIs/erY7d+7E+vXri4+WLl0a9+7di3HjxvUq/u7du19CRgHgAPtimg4BAgQIECBQWQEBYGW3zsQJECBAgACBwSrQMwDcu3dv7Nu3r8+ljhw5MmbNmtXdr+tW3Pnz58fLly9jypQpRXnv4sWLIy/tyCDu3Llz8ePHj+Lk3qNHj2LJkiV/vCdDvSzxzbZw4cI4cuRIzJkzJ759+xY3btyIDACzxDdLjV+8eBHTp0//4xm7d++Otra24vM8AXjgwIFYtmxZjB07Nj5//lwEjxkc5lwvX77cPV4A2Oe260CAAAECBAgQqEtAAFgXk04ECBAgQIAAgX9PoGcAWO9bMzx7/vz5HwHgtm3bIstwM0jMk36/tyzvvXLlSrS0tPT6qgwIt2zZErdv3645lQz18rTgggULeu3z8+fPOHz4cLS2thZhYa2WcxUA1rvj+hEgQIAAAQIE6hcQANZvpScBAgQIECBA4F8RaHQAmKFalgDnib886Zen7iZPnhwrV66Mo0ePxty5c/tcV5bydj0nxzc1NcXs2bNjw4YNxYm+0aNH9/mMZ8+excWLF4tLTt6/fx+dnZ0xceLEmDdvXjQ3N8fWrVuLS0O6mhOAfZLqQIAAAQIECBCoS0AAWBeTTgQIECBAgACBagl0lQD/fqquWqswWwIECBAgQIAAgUYICAAboegZBAgQIECAAIEBJiAAHGAbYjoECBAgQIAAgf9QQAD4H+J7NQECBAgQIEDgnxIQAP5Tsp5LgAABAgQIEKiegACwentmxgQIECBAgACBPgUEgH0S6UCAAAECBAgQGDICAsAhs9UWSoAAAQIECAwlAQHgUNptayVAgAABAgQI/F1AAOgbQoAAAQIECBAYhAICwEG4qZZEgAABAgQIECgpIAAsCWcYAQIECBAgQIAAAQIECBAgQIAAgSoICACrsEvmSIAAAQIECBAgQIAAAQIECBAgQKCkgACwJJxhBAgQIECAAAECBAgQIECAAAECBKogIACswi6ZIwECBAgQIECAAAECBAgQIECAAIGSAgLAknCGESBAgAABAgQIECBAgAABAgQIEKiCgACwCrtkjgQIECBAgAABAgQIECBAgAABAgRKCggAS8IZRoAAAQIECBAgQIAAAQIECBAgQKAKAgLAKuySORIgQIAAAQIECBAgQIAAAQIECBAoKSAALAlnGAECBAgQIECAAAECBAgQIECAAIEqCAgAq7BL5kiAAAECBAgQIECAAAECBAgQIECgpIAAsCScYQQIECBAgAABAgQIECBAgAABAgSqICAArMIumSMBAgQIECBAgAABAgQIECBAgACBkgICwJJwhhEgQIAAAQIECBAgQIAAAQIECBCogoAAsAq7ZI4ECBAgQIAAAQIECBAgQIAAAQIESgoIAEvCGUaAAAECBAgQIECAAAECBAgQIECgCgICwCrskjkSIECAAAECBAgQIECAAAECBAgQKCkgACwJZxgBAgQIECBAgAABAgQIECBAgACBKggIAKuwS+ZIgAABAgQIECBAgAABAgQIECBAoKSAALAknGEECBAgQIAAAQIECBAgQIAAAQIEqiDwP8widXoyhaPbAAAAAElFTkSuQmCC\" width=\"640\">"
      ],
      "text/plain": [
       "<IPython.core.display.HTML object>"
      ]
     },
     "metadata": {},
     "output_type": "display_data"
    },
    {
     "name": "stdout",
     "output_type": "stream",
     "text": [
      "Epoch 1/300\n",
      "60/60 [==============================] - 3s 50ms/step - loss: 0.1203\n",
      "Epoch 2/300\n",
      "60/60 [==============================] - 2s 32ms/step - loss: 0.1392\n",
      "Epoch 3/300\n",
      "60/60 [==============================] - 2s 32ms/step - loss: 0.1313\n",
      "Epoch 4/300\n",
      "60/60 [==============================] - 2s 32ms/step - loss: 0.1187\n",
      "Epoch 5/300\n",
      "60/60 [==============================] - 2s 32ms/step - loss: 0.1091\n",
      "Epoch 6/300\n",
      "60/60 [==============================] - 2s 35ms/step - loss: 0.0992\n",
      "Epoch 7/300\n",
      "60/60 [==============================] - 2s 33ms/step - loss: 0.0690\n",
      "Epoch 8/300\n",
      "60/60 [==============================] - 2s 33ms/step - loss: 0.0772\n",
      "Epoch 9/300\n",
      "60/60 [==============================] - 2s 33ms/step - loss: 0.0436\n",
      "Epoch 10/300\n",
      "60/60 [==============================] - 2s 33ms/step - loss: 0.0426\n",
      "Epoch 11/300\n",
      "60/60 [==============================] - 2s 33ms/step - loss: 0.0161\n",
      "Epoch 12/300\n",
      "60/60 [==============================] - 2s 33ms/step - loss: 0.0379\n",
      "Epoch 13/300\n",
      "60/60 [==============================] - 2s 33ms/step - loss: 0.0614\n",
      "Epoch 14/300\n",
      "60/60 [==============================] - 2s 33ms/step - loss: 0.0407\n",
      "Epoch 15/300\n",
      "60/60 [==============================] - 2s 33ms/step - loss: 0.0276\n",
      "Epoch 16/300\n",
      "60/60 [==============================] - 2s 33ms/step - loss: 0.0286\n",
      "Epoch 17/300\n",
      "60/60 [==============================] - 2s 36ms/step - loss: 0.0325\n",
      "Epoch 18/300\n",
      "60/60 [==============================] - 2s 35ms/step - loss: 0.0711\n",
      "Epoch 19/300\n",
      "60/60 [==============================] - 2s 33ms/step - loss: 0.0592\n",
      "Epoch 20/300\n",
      "60/60 [==============================] - 2s 33ms/step - loss: 0.0555\n",
      "Epoch 21/300\n",
      "60/60 [==============================] - 2s 32ms/step - loss: 0.0455\n",
      "Epoch 22/300\n",
      "60/60 [==============================] - 2s 32ms/step - loss: 0.0384\n",
      "Epoch 23/300\n",
      "60/60 [==============================] - 2s 32ms/step - loss: 0.0379\n",
      "Epoch 24/300\n",
      "60/60 [==============================] - 2s 32ms/step - loss: 0.0377\n",
      "Epoch 25/300\n",
      "60/60 [==============================] - 2s 33ms/step - loss: 0.0375\n",
      "Epoch 26/300\n",
      "60/60 [==============================] - 2s 32ms/step - loss: 0.0403\n",
      "Epoch 27/300\n",
      "60/60 [==============================] - 2s 32ms/step - loss: 0.0415\n",
      "Epoch 28/300\n",
      "60/60 [==============================] - 2s 32ms/step - loss: 0.0345\n",
      "Epoch 29/300\n",
      "60/60 [==============================] - 2s 32ms/step - loss: 0.0362\n",
      "Epoch 30/300\n",
      "60/60 [==============================] - 2s 32ms/step - loss: 0.0390\n",
      "Epoch 31/300\n",
      "60/60 [==============================] - 2s 32ms/step - loss: 0.0390\n",
      "Epoch 32/300\n",
      "60/60 [==============================] - 2s 33ms/step - loss: 0.0405\n",
      "Epoch 33/300\n",
      "60/60 [==============================] - 2s 32ms/step - loss: 0.0363\n",
      "Epoch 34/300\n",
      "60/60 [==============================] - 2s 32ms/step - loss: 0.0382\n",
      "Epoch 35/300\n",
      "60/60 [==============================] - 2s 32ms/step - loss: 0.0379\n",
      "Epoch 36/300\n",
      "60/60 [==============================] - 2s 32ms/step - loss: 0.0378\n",
      "Epoch 37/300\n",
      "60/60 [==============================] - 2s 32ms/step - loss: 0.0412\n",
      "Epoch 38/300\n",
      "60/60 [==============================] - 2s 32ms/step - loss: 0.0334\n",
      "Epoch 39/300\n",
      "60/60 [==============================] - 2s 32ms/step - loss: 0.0370\n",
      "Epoch 40/300\n",
      "60/60 [==============================] - 2s 32ms/step - loss: 0.0380\n",
      "Epoch 41/300\n",
      "60/60 [==============================] - 2s 32ms/step - loss: 0.0294\n",
      "Epoch 42/300\n",
      "60/60 [==============================] - 2s 32ms/step - loss: 0.0368\n",
      "Epoch 43/300\n",
      "60/60 [==============================] - 2s 32ms/step - loss: 0.0385\n",
      "Epoch 44/300\n",
      "60/60 [==============================] - 2s 32ms/step - loss: 0.0383\n",
      "Epoch 45/300\n",
      "60/60 [==============================] - 2s 32ms/step - loss: 0.0373\n",
      "Epoch 46/300\n",
      "60/60 [==============================] - 2s 32ms/step - loss: 0.0351\n",
      "Epoch 47/300\n",
      "60/60 [==============================] - 2s 32ms/step - loss: 0.0358\n",
      "Epoch 48/300\n",
      "60/60 [==============================] - 2s 33ms/step - loss: 0.0321\n",
      "Epoch 49/300\n",
      "60/60 [==============================] - 2s 33ms/step - loss: 0.0318\n",
      "Epoch 50/300\n",
      "60/60 [==============================] - 2s 32ms/step - loss: 0.0373\n",
      "Epoch 51/300\n",
      "60/60 [==============================] - 2s 32ms/step - loss: 0.0313\n",
      "Epoch 52/300\n",
      "60/60 [==============================] - 2s 33ms/step - loss: 0.0379\n",
      "Epoch 53/300\n",
      "60/60 [==============================] - 2s 32ms/step - loss: 0.0354\n",
      "Epoch 54/300\n",
      "60/60 [==============================] - 2s 33ms/step - loss: 0.0363\n",
      "Epoch 55/300\n",
      "60/60 [==============================] - 2s 32ms/step - loss: 0.0323\n",
      "Epoch 56/300\n",
      "60/60 [==============================] - 2s 33ms/step - loss: 0.0363\n",
      "Epoch 57/300\n",
      "60/60 [==============================] - 2s 33ms/step - loss: 0.0347\n",
      "Epoch 58/300\n",
      "60/60 [==============================] - 2s 33ms/step - loss: 0.0361\n",
      "Epoch 59/300\n",
      "60/60 [==============================] - 2s 33ms/step - loss: 0.0299\n",
      "Epoch 60/300\n",
      "60/60 [==============================] - 2s 32ms/step - loss: 0.0342\n",
      "Epoch 61/300\n",
      "60/60 [==============================] - 2s 33ms/step - loss: 0.0313\n",
      "Epoch 62/300\n",
      "60/60 [==============================] - 2s 32ms/step - loss: 0.0310\n",
      "Epoch 63/300\n",
      "60/60 [==============================] - 2s 32ms/step - loss: 0.0331\n",
      "Epoch 64/300\n",
      "60/60 [==============================] - 2s 32ms/step - loss: 0.0304\n",
      "Epoch 65/300\n",
      "60/60 [==============================] - 2s 32ms/step - loss: 0.0337\n",
      "Epoch 66/300\n",
      "60/60 [==============================] - 2s 33ms/step - loss: 0.0330\n",
      "Epoch 67/300\n",
      "60/60 [==============================] - 2s 32ms/step - loss: 0.0284\n",
      "Epoch 68/300\n",
      "60/60 [==============================] - 2s 32ms/step - loss: 0.0335\n",
      "Epoch 69/300\n",
      "60/60 [==============================] - 2s 33ms/step - loss: 0.0309\n",
      "Epoch 70/300\n",
      "60/60 [==============================] - 2s 32ms/step - loss: 0.0267\n",
      "Epoch 71/300\n",
      "60/60 [==============================] - 2s 33ms/step - loss: 0.0325\n",
      "Epoch 72/300\n",
      "60/60 [==============================] - 2s 32ms/step - loss: 0.0291\n",
      "Epoch 73/300\n",
      "60/60 [==============================] - 2s 32ms/step - loss: 0.0325\n",
      "Epoch 74/300\n",
      "60/60 [==============================] - 2s 32ms/step - loss: 0.0275\n",
      "Epoch 75/300\n",
      "60/60 [==============================] - 2s 33ms/step - loss: 0.0329\n",
      "Epoch 76/300\n",
      "60/60 [==============================] - 2s 33ms/step - loss: 0.0313\n",
      "Epoch 77/300\n",
      "60/60 [==============================] - 2s 32ms/step - loss: 0.0280\n",
      "Epoch 78/300\n",
      "60/60 [==============================] - 2s 32ms/step - loss: 0.0286\n",
      "Epoch 79/300\n",
      "60/60 [==============================] - 2s 33ms/step - loss: 0.0327\n",
      "Epoch 80/300\n",
      "60/60 [==============================] - 2s 33ms/step - loss: 0.0301\n",
      "Epoch 81/300\n",
      "60/60 [==============================] - 2s 32ms/step - loss: 0.0270\n",
      "Epoch 82/300\n",
      "60/60 [==============================] - 2s 36ms/step - loss: 0.0302\n",
      "Epoch 83/300\n",
      "60/60 [==============================] - 2s 34ms/step - loss: 0.0274\n",
      "Epoch 84/300\n",
      "60/60 [==============================] - 2s 34ms/step - loss: 0.0271\n",
      "Epoch 85/300\n",
      "60/60 [==============================] - 2s 33ms/step - loss: 0.0280\n",
      "Epoch 86/300\n",
      "60/60 [==============================] - 2s 34ms/step - loss: 0.0281\n",
      "Epoch 87/300\n",
      "60/60 [==============================] - 2s 33ms/step - loss: 0.0275\n",
      "Epoch 88/300\n",
      "60/60 [==============================] - 2s 33ms/step - loss: 0.0270\n",
      "Epoch 89/300\n",
      "60/60 [==============================] - 2s 33ms/step - loss: 0.0273\n",
      "Epoch 90/300\n",
      "60/60 [==============================] - 2s 33ms/step - loss: 0.0277\n",
      "Epoch 91/300\n",
      "60/60 [==============================] - 2s 30ms/step - loss: 0.0243\n",
      "Epoch 92/300\n",
      "60/60 [==============================] - 2s 30ms/step - loss: 0.0273\n",
      "Epoch 93/300\n",
      "60/60 [==============================] - 2s 29ms/step - loss: 0.0274\n",
      "Epoch 94/300\n",
      "60/60 [==============================] - 2s 30ms/step - loss: 0.0241\n",
      "Epoch 95/300\n",
      "60/60 [==============================] - 2s 30ms/step - loss: 0.0249\n",
      "Epoch 96/300\n",
      "60/60 [==============================] - 2s 31ms/step - loss: 0.0239\n",
      "Epoch 97/300\n",
      "60/60 [==============================] - 2s 31ms/step - loss: 0.0212\n",
      "Epoch 98/300\n",
      "60/60 [==============================] - 2s 30ms/step - loss: 0.0231\n",
      "Epoch 99/300\n",
      "60/60 [==============================] - 2s 31ms/step - loss: 0.0224\n",
      "Epoch 100/300\n",
      "60/60 [==============================] - 2s 30ms/step - loss: 0.0185\n",
      "Epoch 101/300\n"
     ]
    },
    {
     "name": "stdout",
     "output_type": "stream",
     "text": [
      "60/60 [==============================] - 2s 30ms/step - loss: 0.0163\n",
      "Epoch 102/300\n",
      "60/60 [==============================] - 2s 31ms/step - loss: 0.0179\n",
      "Epoch 103/300\n",
      "60/60 [==============================] - 2s 31ms/step - loss: 0.0121\n",
      "Epoch 104/300\n",
      "60/60 [==============================] - 2s 30ms/step - loss: 0.0163\n",
      "Epoch 105/300\n",
      "60/60 [==============================] - 2s 30ms/step - loss: 0.0227\n",
      "Epoch 106/300\n",
      "60/60 [==============================] - 2s 30ms/step - loss: 0.0132\n",
      "Epoch 107/300\n",
      "60/60 [==============================] - 2s 34ms/step - loss: 0.0165\n",
      "Epoch 108/300\n",
      "60/60 [==============================] - 2s 33ms/step - loss: 0.0488\n",
      "Epoch 109/300\n",
      "60/60 [==============================] - 2s 32ms/step - loss: 0.0205\n",
      "Epoch 110/300\n",
      "60/60 [==============================] - 2s 32ms/step - loss: 0.0215\n",
      "Epoch 111/300\n",
      "60/60 [==============================] - 2s 35ms/step - loss: 0.0112\n",
      "Epoch 112/300\n",
      "60/60 [==============================] - 2s 39ms/step - loss: 0.0172\n",
      "Epoch 113/300\n",
      "60/60 [==============================] - 2s 34ms/step - loss: 0.0240\n",
      "Epoch 114/300\n",
      "60/60 [==============================] - 2s 32ms/step - loss: 0.0134\n",
      "Epoch 115/300\n",
      "60/60 [==============================] - 2s 31ms/step - loss: 0.0128\n",
      "Epoch 116/300\n",
      "60/60 [==============================] - 2s 32ms/step - loss: 0.0258\n",
      "Epoch 117/300\n",
      "60/60 [==============================] - 2s 32ms/step - loss: 0.0169\n",
      "Epoch 118/300\n",
      "60/60 [==============================] - 2s 30ms/step - loss: 0.0123\n",
      "Epoch 119/300\n",
      "60/60 [==============================] - 2s 30ms/step - loss: 0.0145\n",
      "Epoch 120/300\n",
      "60/60 [==============================] - 2s 29ms/step - loss: 0.0253\n",
      "Epoch 121/300\n",
      "60/60 [==============================] - 2s 30ms/step - loss: 0.0137\n",
      "Epoch 122/300\n",
      "60/60 [==============================] - 2s 29ms/step - loss: 0.0110\n",
      "Epoch 123/300\n",
      "60/60 [==============================] - 2s 30ms/step - loss: 0.0135\n",
      "Epoch 124/300\n",
      "60/60 [==============================] - 2s 29ms/step - loss: 0.0128\n",
      "Epoch 125/300\n",
      "60/60 [==============================] - 2s 29ms/step - loss: 0.0079\n",
      "Epoch 126/300\n",
      "60/60 [==============================] - 2s 29ms/step - loss: 0.0142\n",
      "Epoch 127/300\n",
      "60/60 [==============================] - 2s 30ms/step - loss: 0.0199\n",
      "Epoch 128/300\n",
      "60/60 [==============================] - 2s 29ms/step - loss: 0.0108\n",
      "Epoch 129/300\n",
      "60/60 [==============================] - 2s 30ms/step - loss: 0.0074\n",
      "Epoch 130/300\n",
      "60/60 [==============================] - 2s 30ms/step - loss: 0.0129\n",
      "Epoch 131/300\n",
      "60/60 [==============================] - 2s 30ms/step - loss: 0.0143\n",
      "Epoch 132/300\n",
      "60/60 [==============================] - 2s 29ms/step - loss: 0.0095\n",
      "Epoch 133/300\n",
      "60/60 [==============================] - 2s 29ms/step - loss: 0.0102\n",
      "Epoch 134/300\n",
      "60/60 [==============================] - 2s 32ms/step - loss: 0.0171\n",
      "Epoch 135/300\n",
      "60/60 [==============================] - 2s 33ms/step - loss: 0.0112\n",
      "Epoch 136/300\n",
      "60/60 [==============================] - 2s 34ms/step - loss: 0.0108\n",
      "Epoch 137/300\n",
      "60/60 [==============================] - 2s 35ms/step - loss: 0.0113\n",
      "Epoch 138/300\n",
      "60/60 [==============================] - 2s 34ms/step - loss: 0.0100\n",
      "Epoch 139/300\n",
      "60/60 [==============================] - 2s 36ms/step - loss: 0.0104\n",
      "Epoch 140/300\n",
      "60/60 [==============================] - 2s 34ms/step - loss: 0.0122\n",
      "Epoch 141/300\n",
      "60/60 [==============================] - 2s 33ms/step - loss: 0.0126\n",
      "Epoch 142/300\n",
      "60/60 [==============================] - 2s 33ms/step - loss: 0.0120\n",
      "Epoch 143/300\n",
      "60/60 [==============================] - 2s 34ms/step - loss: 0.0201\n",
      "Epoch 144/300\n",
      "60/60 [==============================] - 2s 34ms/step - loss: 0.0201\n",
      "Epoch 145/300\n",
      "60/60 [==============================] - 2s 34ms/step - loss: 0.0112\n",
      "Epoch 146/300\n",
      "60/60 [==============================] - 2s 34ms/step - loss: 0.0175\n",
      "Epoch 147/300\n",
      "60/60 [==============================] - 2s 33ms/step - loss: 0.0097\n",
      "Epoch 148/300\n",
      "60/60 [==============================] - 2s 34ms/step - loss: 0.0081\n",
      "Epoch 149/300\n",
      "60/60 [==============================] - 2s 34ms/step - loss: 0.0138\n",
      "Epoch 150/300\n",
      "60/60 [==============================] - 2s 34ms/step - loss: 0.0095\n",
      "Epoch 151/300\n",
      "60/60 [==============================] - 2s 35ms/step - loss: 0.0085\n",
      "Epoch 152/300\n",
      "60/60 [==============================] - 2s 41ms/step - loss: 0.0077\n",
      "Epoch 153/300\n",
      "60/60 [==============================] - 3s 42ms/step - loss: 0.0070\n",
      "Epoch 154/300\n",
      "60/60 [==============================] - 2s 36ms/step - loss: 0.0083\n",
      "Epoch 155/300\n",
      "60/60 [==============================] - 2s 33ms/step - loss: 0.0092\n",
      "Epoch 156/300\n",
      "60/60 [==============================] - 2s 32ms/step - loss: 0.0096\n",
      "Epoch 157/300\n",
      "60/60 [==============================] - 2s 33ms/step - loss: 0.0072\n",
      "Epoch 158/300\n",
      "60/60 [==============================] - 2s 34ms/step - loss: 0.0065\n",
      "Epoch 159/300\n",
      "60/60 [==============================] - 2s 32ms/step - loss: 0.0075\n",
      "Epoch 160/300\n",
      "60/60 [==============================] - 2s 34ms/step - loss: 0.0071\n",
      "Epoch 161/300\n",
      "60/60 [==============================] - 2s 33ms/step - loss: 0.0079\n",
      "Epoch 162/300\n",
      "60/60 [==============================] - 2s 33ms/step - loss: 0.0109\n",
      "Epoch 163/300\n",
      "60/60 [==============================] - 2s 33ms/step - loss: 0.0078\n",
      "Epoch 164/300\n",
      "60/60 [==============================] - 2s 33ms/step - loss: 0.0081\n",
      "Epoch 165/300\n",
      "60/60 [==============================] - 2s 33ms/step - loss: 0.0110\n",
      "Epoch 166/300\n",
      "60/60 [==============================] - 2s 33ms/step - loss: 0.0091\n",
      "Epoch 167/300\n",
      "60/60 [==============================] - 2s 33ms/step - loss: 0.0065\n",
      "Epoch 168/300\n",
      "60/60 [==============================] - 2s 33ms/step - loss: 0.0091\n",
      "Epoch 169/300\n",
      "60/60 [==============================] - 2s 33ms/step - loss: 0.0104\n",
      "Epoch 170/300\n",
      "60/60 [==============================] - 2s 32ms/step - loss: 0.0064\n",
      "Epoch 171/300\n",
      "60/60 [==============================] - 2s 35ms/step - loss: 0.0062\n",
      "Epoch 172/300\n",
      "60/60 [==============================] - 2s 34ms/step - loss: 0.0080\n",
      "Epoch 173/300\n",
      "60/60 [==============================] - 2s 33ms/step - loss: 0.0069\n",
      "Epoch 174/300\n",
      "60/60 [==============================] - 2s 32ms/step - loss: 0.0081\n",
      "Epoch 175/300\n",
      "60/60 [==============================] - 2s 31ms/step - loss: 0.0080\n",
      "Epoch 176/300\n",
      "60/60 [==============================] - 2s 30ms/step - loss: 0.0087\n",
      "Epoch 177/300\n",
      "60/60 [==============================] - 2s 31ms/step - loss: 0.0078\n",
      "Epoch 178/300\n",
      "60/60 [==============================] - 2s 29ms/step - loss: 0.0074\n",
      "Epoch 179/300\n",
      "60/60 [==============================] - 2s 28ms/step - loss: 0.0089\n",
      "Epoch 180/300\n",
      "60/60 [==============================] - 2s 34ms/step - loss: 0.0083\n",
      "Epoch 181/300\n",
      "60/60 [==============================] - 2s 29ms/step - loss: 0.0059\n",
      "Epoch 182/300\n",
      "60/60 [==============================] - 2s 31ms/step - loss: 0.0059\n",
      "Epoch 183/300\n",
      "60/60 [==============================] - 2s 33ms/step - loss: 0.0069\n",
      "Epoch 184/300\n",
      "60/60 [==============================] - 2s 31ms/step - loss: 0.0069\n",
      "Epoch 185/300\n",
      "60/60 [==============================] - 2s 28ms/step - loss: 0.0075\n",
      "Epoch 186/300\n",
      "60/60 [==============================] - 2s 28ms/step - loss: 0.0077\n",
      "Epoch 187/300\n",
      "60/60 [==============================] - 2s 28ms/step - loss: 0.0068\n",
      "Epoch 188/300\n",
      "60/60 [==============================] - 2s 29ms/step - loss: 0.0070\n",
      "Epoch 189/300\n",
      "60/60 [==============================] - 2s 29ms/step - loss: 0.0079\n",
      "Epoch 190/300\n",
      "60/60 [==============================] - 2s 29ms/step - loss: 0.0063\n",
      "Epoch 191/300\n",
      "60/60 [==============================] - 2s 29ms/step - loss: 0.0068\n",
      "Epoch 192/300\n",
      "60/60 [==============================] - 2s 29ms/step - loss: 0.0076\n",
      "Epoch 193/300\n",
      "60/60 [==============================] - 2s 29ms/step - loss: 0.0068\n",
      "Epoch 194/300\n",
      "60/60 [==============================] - 2s 31ms/step - loss: 0.0060\n",
      "Epoch 195/300\n",
      "60/60 [==============================] - 2s 33ms/step - loss: 0.0068\n",
      "Epoch 196/300\n",
      "60/60 [==============================] - 2s 32ms/step - loss: 0.0073\n",
      "Epoch 197/300\n",
      "60/60 [==============================] - 2s 35ms/step - loss: 0.0065\n",
      "Epoch 198/300\n",
      "60/60 [==============================] - 2s 35ms/step - loss: 0.0063\n",
      "Epoch 199/300\n"
     ]
    },
    {
     "name": "stdout",
     "output_type": "stream",
     "text": [
      "60/60 [==============================] - 2s 32ms/step - loss: 0.0075\n",
      "Epoch 200/300\n",
      "60/60 [==============================] - 2s 30ms/step - loss: 0.0064\n",
      "Epoch 201/300\n",
      "60/60 [==============================] - 2s 30ms/step - loss: 0.0060\n",
      "Epoch 202/300\n",
      "60/60 [==============================] - 2s 30ms/step - loss: 0.0062\n",
      "Epoch 203/300\n",
      "60/60 [==============================] - 2s 30ms/step - loss: 0.0064\n",
      "Epoch 204/300\n",
      "60/60 [==============================] - 2s 30ms/step - loss: 0.0061\n",
      "Epoch 205/300\n",
      "60/60 [==============================] - 2s 30ms/step - loss: 0.0058\n",
      "Epoch 206/300\n",
      "60/60 [==============================] - 2s 30ms/step - loss: 0.0060\n",
      "Epoch 207/300\n",
      "60/60 [==============================] - 2s 31ms/step - loss: 0.0064\n",
      "Epoch 208/300\n",
      "60/60 [==============================] - 2s 30ms/step - loss: 0.0059\n",
      "Epoch 209/300\n",
      "60/60 [==============================] - 2s 31ms/step - loss: 0.0057\n",
      "Epoch 210/300\n",
      "60/60 [==============================] - 2s 31ms/step - loss: 0.0065\n",
      "Epoch 211/300\n",
      "60/60 [==============================] - 2s 31ms/step - loss: 0.0061\n",
      "Epoch 212/300\n",
      "60/60 [==============================] - 2s 30ms/step - loss: 0.0055\n",
      "Epoch 213/300\n",
      "60/60 [==============================] - 2s 30ms/step - loss: 0.0060\n",
      "Epoch 214/300\n",
      "60/60 [==============================] - 2s 32ms/step - loss: 0.0075\n",
      "Epoch 215/300\n",
      "60/60 [==============================] - 2s 30ms/step - loss: 0.0054\n",
      "Epoch 216/300\n",
      "60/60 [==============================] - 2s 28ms/step - loss: 0.0053\n",
      "Epoch 217/300\n",
      "60/60 [==============================] - 2s 28ms/step - loss: 0.0062\n",
      "Epoch 218/300\n",
      "60/60 [==============================] - 2s 28ms/step - loss: 0.0063\n",
      "Epoch 219/300\n",
      "60/60 [==============================] - 2s 28ms/step - loss: 0.0058\n",
      "Epoch 220/300\n",
      "60/60 [==============================] - 2s 29ms/step - loss: 0.0052\n",
      "Epoch 221/300\n",
      "60/60 [==============================] - 2s 29ms/step - loss: 0.0054\n",
      "Epoch 222/300\n",
      "60/60 [==============================] - 2s 29ms/step - loss: 0.0055\n",
      "Epoch 223/300\n",
      "60/60 [==============================] - 2s 29ms/step - loss: 0.0053\n",
      "Epoch 224/300\n",
      "60/60 [==============================] - 2s 30ms/step - loss: 0.0051\n",
      "Epoch 225/300\n",
      "60/60 [==============================] - 2s 29ms/step - loss: 0.0054\n",
      "Epoch 226/300\n",
      "60/60 [==============================] - 2s 29ms/step - loss: 0.0054\n",
      "Epoch 227/300\n",
      "60/60 [==============================] - 2s 29ms/step - loss: 0.0050\n",
      "Epoch 228/300\n",
      "60/60 [==============================] - 2s 29ms/step - loss: 0.0050\n",
      "Epoch 229/300\n",
      "60/60 [==============================] - 2s 29ms/step - loss: 0.0050\n",
      "Epoch 230/300\n",
      "60/60 [==============================] - 2s 29ms/step - loss: 0.0058\n",
      "Epoch 231/300\n",
      "60/60 [==============================] - 2s 29ms/step - loss: 0.0052\n",
      "Epoch 232/300\n",
      "60/60 [==============================] - 2s 29ms/step - loss: 0.0047\n",
      "Epoch 233/300\n",
      "60/60 [==============================] - 2s 29ms/step - loss: 0.0053\n",
      "Epoch 234/300\n",
      "60/60 [==============================] - 2s 29ms/step - loss: 0.0061\n",
      "Epoch 235/300\n",
      "60/60 [==============================] - 2s 29ms/step - loss: 0.0049\n",
      "Epoch 236/300\n",
      "60/60 [==============================] - 2s 29ms/step - loss: 0.0047\n",
      "Epoch 237/300\n",
      "60/60 [==============================] - 2s 29ms/step - loss: 0.0052\n",
      "Epoch 238/300\n",
      "60/60 [==============================] - 2s 29ms/step - loss: 0.0062\n",
      "Epoch 239/300\n",
      "60/60 [==============================] - 2s 29ms/step - loss: 0.0046\n",
      "Epoch 240/300\n",
      "60/60 [==============================] - 2s 29ms/step - loss: 0.0044\n",
      "Epoch 241/300\n",
      "60/60 [==============================] - 2s 29ms/step - loss: 0.0049\n",
      "Epoch 242/300\n",
      "60/60 [==============================] - 2s 29ms/step - loss: 0.0051\n",
      "Epoch 243/300\n",
      "60/60 [==============================] - 2s 29ms/step - loss: 0.0045\n",
      "Epoch 244/300\n",
      "60/60 [==============================] - 2s 29ms/step - loss: 0.0046\n",
      "Epoch 245/300\n",
      "60/60 [==============================] - 2s 29ms/step - loss: 0.0051\n",
      "Epoch 246/300\n",
      "60/60 [==============================] - 2s 29ms/step - loss: 0.0046\n",
      "Epoch 247/300\n",
      "60/60 [==============================] - 2s 30ms/step - loss: 0.0042\n",
      "Epoch 248/300\n",
      "60/60 [==============================] - 2s 29ms/step - loss: 0.0046\n",
      "Epoch 249/300\n",
      "60/60 [==============================] - 2s 32ms/step - loss: 0.0052\n",
      "Epoch 250/300\n",
      "60/60 [==============================] - 2s 33ms/step - loss: 0.0045\n",
      "Epoch 251/300\n",
      "60/60 [==============================] - 2s 34ms/step - loss: 0.0045\n",
      "Epoch 252/300\n",
      "60/60 [==============================] - 2s 35ms/step - loss: 0.0046\n",
      "Epoch 253/300\n",
      "60/60 [==============================] - 2s 33ms/step - loss: 0.0048\n",
      "Epoch 254/300\n",
      "60/60 [==============================] - 2s 30ms/step - loss: 0.0045\n",
      "Epoch 255/300\n",
      "60/60 [==============================] - 2s 30ms/step - loss: 0.0043\n",
      "Epoch 256/300\n",
      "60/60 [==============================] - 2s 30ms/step - loss: 0.0048\n",
      "Epoch 257/300\n",
      "60/60 [==============================] - 2s 30ms/step - loss: 0.0043\n",
      "Epoch 258/300\n",
      "60/60 [==============================] - 2s 34ms/step - loss: 0.0040\n",
      "Epoch 259/300\n",
      "60/60 [==============================] - 2s 35ms/step - loss: 0.0043\n",
      "Epoch 260/300\n",
      "60/60 [==============================] - 2s 35ms/step - loss: 0.0043\n",
      "Epoch 261/300\n",
      "60/60 [==============================] - 2s 36ms/step - loss: 0.0045\n",
      "Epoch 262/300\n",
      "60/60 [==============================] - 2s 34ms/step - loss: 0.0040\n",
      "Epoch 263/300\n",
      "60/60 [==============================] - 2s 35ms/step - loss: 0.0039\n",
      "Epoch 264/300\n",
      "60/60 [==============================] - 2s 35ms/step - loss: 0.0040\n",
      "Epoch 265/300\n",
      "60/60 [==============================] - 2s 33ms/step - loss: 0.0044\n",
      "Epoch 266/300\n",
      "60/60 [==============================] - 2s 35ms/step - loss: 0.0040\n",
      "Epoch 267/300\n",
      "60/60 [==============================] - 2s 37ms/step - loss: 0.0038\n",
      "Epoch 268/300\n",
      "60/60 [==============================] - 2s 36ms/step - loss: 0.0038\n",
      "Epoch 269/300\n",
      "60/60 [==============================] - 2s 33ms/step - loss: 0.0039\n",
      "Epoch 270/300\n",
      "60/60 [==============================] - 2s 31ms/step - loss: 0.0038\n",
      "Epoch 271/300\n",
      "60/60 [==============================] - 2s 31ms/step - loss: 0.0039\n",
      "Epoch 272/300\n",
      "60/60 [==============================] - 2s 31ms/step - loss: 0.0040\n",
      "Epoch 273/300\n",
      "60/60 [==============================] - 2s 32ms/step - loss: 0.0041\n",
      "Epoch 274/300\n",
      "60/60 [==============================] - 2s 32ms/step - loss: 0.0039\n",
      "Epoch 275/300\n",
      "60/60 [==============================] - 2s 32ms/step - loss: 0.0040\n",
      "Epoch 276/300\n",
      "60/60 [==============================] - 2s 32ms/step - loss: 0.0041\n",
      "Epoch 277/300\n",
      "60/60 [==============================] - 2s 32ms/step - loss: 0.0040\n",
      "Epoch 278/300\n",
      "60/60 [==============================] - 2s 34ms/step - loss: 0.0037\n",
      "Epoch 279/300\n",
      "60/60 [==============================] - 2s 32ms/step - loss: 0.0037\n",
      "Epoch 280/300\n",
      "60/60 [==============================] - 2s 31ms/step - loss: 0.0036\n",
      "Epoch 281/300\n",
      "60/60 [==============================] - 2s 31ms/step - loss: 0.0036\n",
      "Epoch 282/300\n",
      "60/60 [==============================] - 2s 31ms/step - loss: 0.0036\n",
      "Epoch 283/300\n",
      "60/60 [==============================] - 2s 32ms/step - loss: 0.0036\n",
      "Epoch 284/300\n",
      "60/60 [==============================] - 2s 34ms/step - loss: 0.0036\n",
      "Epoch 285/300\n",
      "60/60 [==============================] - 2s 29ms/step - loss: 0.0035\n",
      "Epoch 286/300\n",
      "60/60 [==============================] - 2s 28ms/step - loss: 0.0036\n",
      "Epoch 287/300\n",
      "60/60 [==============================] - 2s 28ms/step - loss: 0.0036\n",
      "Epoch 288/300\n",
      "60/60 [==============================] - 2s 29ms/step - loss: 0.0035\n",
      "Epoch 289/300\n",
      "60/60 [==============================] - 2s 30ms/step - loss: 0.0036\n",
      "Epoch 290/300\n",
      "60/60 [==============================] - 2s 30ms/step - loss: 0.0036\n",
      "Epoch 291/300\n",
      "60/60 [==============================] - 2s 29ms/step - loss: 0.0035\n",
      "Epoch 292/300\n",
      "60/60 [==============================] - 2s 30ms/step - loss: 0.0035\n",
      "Epoch 293/300\n",
      "60/60 [==============================] - 2s 29ms/step - loss: 0.0035\n",
      "Epoch 294/300\n",
      "60/60 [==============================] - 2s 29ms/step - loss: 0.0036\n",
      "Epoch 295/300\n",
      "60/60 [==============================] - 2s 29ms/step - loss: 0.0036\n",
      "Epoch 296/300\n",
      "60/60 [==============================] - 2s 29ms/step - loss: 0.0035\n",
      "Epoch 297/300\n"
     ]
    },
    {
     "name": "stdout",
     "output_type": "stream",
     "text": [
      "60/60 [==============================] - 2s 29ms/step - loss: 0.0035\n",
      "Epoch 298/300\n",
      "60/60 [==============================] - 2s 29ms/step - loss: 0.0035\n",
      "Epoch 299/300\n",
      "60/60 [==============================] - 2s 29ms/step - loss: 0.0035\n",
      "Epoch 300/300\n",
      "60/60 [==============================] - 2s 29ms/step - loss: 0.0034\n"
     ]
    }
   ],
   "source": [
    "%matplotlib notebook\n",
    "\n",
    "best_params = {\n",
    "    'lr': 0.001,\n",
    "    'n_samples': 60,\n",
    "    'n_units': 12,\n",
    "    'batch_size': 1,\n",
    "    'epochs': 300,\n",
    "    'optimizer': keras.optimizers.Adam,\n",
    "}\n",
    "\n",
    "history, model = create_lstm_model(\n",
    "    X_tr_s[:best_params['n_samples']],\n",
    "    y_tr_s[:best_params['n_samples']],\n",
    "    X_te_s[:best_params['n_samples']],\n",
    "    y_te_s[:best_params['n_samples']],\n",
    "    best_params\n",
    ")"
   ]
  },
  {
   "cell_type": "code",
   "execution_count": 74,
   "metadata": {},
   "outputs": [
    {
     "name": "stdout",
     "output_type": "stream",
     "text": [
      "[]\n",
      "====================\n",
      "[array([[-1.9930363 , -1.2088823 , -1.1665124 , -1.140611  , -0.7802299 ,\n",
      "        -1.1415867 ,  0.12047306, -1.9630934 , -1.1389594 , -1.209383  ,\n",
      "        -1.134794  , -1.096016  ,  0.433691  , -0.4553654 ,  0.09966512,\n",
      "         1.0256974 ,  0.41399953,  0.21791226,  0.51552   ,  0.21770333,\n",
      "        -0.61797005,  0.19831754,  0.05508596, -0.42689335, -0.65467656,\n",
      "         0.8000907 , -0.89630324, -0.8627992 , -0.59065855, -1.049858  ,\n",
      "         0.43339992, -0.59059125,  0.7194685 , -0.78309107, -0.82719594,\n",
      "         0.17884956]], dtype=float32), array([[ 1.2203827 ,  0.02094106,  0.6388866 ,  0.2571571 ,  0.8630593 ,\n",
      "         0.34670594, -0.52400476,  1.6844049 ,  0.24042723,  0.69954675,\n",
      "         0.3431363 ,  0.49449903,  0.04901066, -0.12439268, -0.16947392,\n",
      "         0.0691731 ,  0.00745368, -0.27421176, -0.34575865, -0.35508114,\n",
      "         0.10818075, -0.14461496,  0.19733547, -0.20969532,  0.13264662,\n",
      "         0.36339673, -0.06876902, -0.29333365,  0.01228736, -0.33093742,\n",
      "         0.35009074,  0.511501  , -0.02565293, -0.23559405, -0.15311256,\n",
      "        -0.21213901],\n",
      "       [-1.2823387 , -0.36894938, -0.35351187, -0.29919773, -0.76445204,\n",
      "        -0.07457118,  0.62145984, -1.6441705 , -0.2529944 , -0.57748264,\n",
      "        -0.32707664, -0.7417416 ,  0.46717393,  0.07790253,  0.3029871 ,\n",
      "         0.27394244, -0.04964937,  0.01089168,  0.02335642, -0.0254851 ,\n",
      "        -0.20848751,  0.11629874, -0.14447357,  0.32594162, -0.19643672,\n",
      "        -0.38485947, -0.4187229 , -0.18150416, -0.36672175, -0.31115136,\n",
      "         0.04176065, -0.32277635, -0.02635746, -0.3562621 , -0.15943475,\n",
      "         0.05246279],\n",
      "       [ 1.139741  , -0.0880104 ,  0.55339295,  0.3226951 ,  0.44957024,\n",
      "         0.05605312, -0.90424496,  1.6117287 ,  0.32958874,  0.5490758 ,\n",
      "         0.66383773,  0.3593906 , -0.20435213, -0.11827104,  0.08887799,\n",
      "         0.11037087,  0.14517444, -0.04020794, -0.35669452, -0.34169748,\n",
      "         0.52110714, -0.40301603,  0.07124719, -0.27666634,  0.20594828,\n",
      "        -0.2030724 , -0.23061104, -0.33589825,  0.27832037, -0.3462619 ,\n",
      "         0.18235415,  0.5724609 , -0.1514124 , -0.26145935,  0.27679577,\n",
      "         0.18805724],\n",
      "       [ 0.9557838 ,  1.5992783 ,  1.461942  ,  1.5056726 ,  1.3216803 ,\n",
      "         1.9430743 ,  0.54898137,  0.39246902,  1.3340076 ,  1.7919974 ,\n",
      "         1.451014  ,  0.7711065 ,  0.1931277 , -0.07864581, -0.10945366,\n",
      "        -1.2811387 , -0.6636976 , -0.4303653 , -0.6433909 ,  0.0290309 ,\n",
      "         0.09079376, -0.43356982, -0.68782264,  0.59687555,  0.5182033 ,\n",
      "        -0.10212192, -0.10104124,  0.16161722, -0.11818869,  0.29767984,\n",
      "         0.3636579 , -0.28218892, -0.38375792,  0.09555042,  0.22680542,\n",
      "         0.01992126],\n",
      "       [ 1.1934731 ,  0.5155932 ,  0.65892434,  0.42308018,  0.81655574,\n",
      "         0.5835164 , -0.99407536,  2.12767   ,  0.48273516,  0.4923988 ,\n",
      "         0.10566501,  0.95312417, -0.4930056 , -0.03752201,  0.24986407,\n",
      "        -0.24539648, -0.06352301, -0.33001995, -0.2554194 , -0.5151365 ,\n",
      "         0.29205212, -0.33537373, -0.06073733,  0.11883195,  0.17270589,\n",
      "         0.30992624,  0.06169308,  0.00991388,  0.02211373, -0.19019054,\n",
      "         0.14765169,  0.64485073, -0.20221479,  0.13934122,  0.24666616,\n",
      "        -0.2148996 ],\n",
      "       [ 1.4014225 ,  0.8786863 ,  0.8957132 ,  0.5786467 ,  0.97512525,\n",
      "         1.0972768 , -0.1799386 ,  1.7393322 ,  0.5185632 ,  1.2668922 ,\n",
      "         0.729785  ,  0.36236796,  0.15215608,  0.05981942, -0.401961  ,\n",
      "        -0.26712433, -0.24409729, -0.6794927 , -0.18436396, -0.6071356 ,\n",
      "         0.12168787,  0.03025835, -0.40124777, -0.09755443,  0.35371467,\n",
      "        -0.25654614,  0.21726519, -0.14928232,  0.27649844,  0.07172635,\n",
      "         0.03951643,  0.54948026, -0.5369489 ,  0.48037007, -0.1050229 ,\n",
      "        -0.4279052 ],\n",
      "       [-0.4046829 , -0.6692431 , -0.73403466, -0.9888186 , -0.62878716,\n",
      "        -1.1339777 , -0.14043087, -0.18326326, -0.95560986, -0.67955226,\n",
      "        -0.33985665, -0.6721481 , -0.43208268, -0.15336746, -0.4595293 ,\n",
      "         1.072946  , -0.3727297 ,  0.29374272, -0.05431312, -0.37418476,\n",
      "        -0.02245218, -0.28834584,  0.27543375, -0.0987917 , -0.09137578,\n",
      "        -0.32832202,  0.13355926,  0.16150232, -0.14044954, -0.3295262 ,\n",
      "        -0.46045762,  0.26032618,  0.34730202,  0.04516787, -0.16662738,\n",
      "        -0.2370208 ],\n",
      "       [ 2.0953271 ,  0.4597388 ,  0.9021865 ,  0.36368895,  0.66580665,\n",
      "         0.40559372, -0.79006827,  1.8522121 ,  0.41059545,  0.92417365,\n",
      "         0.6600346 ,  0.7102707 , -0.35958555,  0.60206175,  0.02231116,\n",
      "         0.04206847, -0.351473  , -0.01718162, -0.30429325, -0.42813358,\n",
      "         0.22045024, -0.5987031 ,  0.40918836, -0.13348983, -0.01371239,\n",
      "        -0.25391456, -0.00761266, -0.32725796,  0.11201223, -0.46759847,\n",
      "        -0.05441754,  0.4776218 , -0.21519332, -0.3197579 , -0.4793787 ,\n",
      "         0.19843554],\n",
      "       [-1.6921864 , -0.14953384, -0.8042279 , -0.6019861 , -0.9903872 ,\n",
      "        -0.5516576 ,  0.86532015, -1.969782  , -0.44730192, -1.0782857 ,\n",
      "        -0.4490982 , -0.4019167 ,  0.47167918, -0.26033017,  0.2698817 ,\n",
      "         0.0209277 ,  0.25914127,  0.11671477, -0.01918362,  0.616769  ,\n",
      "        -0.5041709 ,  0.5517227 ,  0.06190173,  0.00803954, -0.03795471,\n",
      "         0.20251676, -0.17043798,  0.36465913,  0.20640695, -0.00887192,\n",
      "        -0.03944559, -0.03690766,  0.18111812,  0.3316054 , -0.15931208,\n",
      "         0.37563506],\n",
      "       [ 1.5144203 ,  0.41362944,  0.49108556,  0.40826708,  0.8325592 ,\n",
      "         0.25832346, -0.3426992 ,  1.5841293 ,  0.78629917,  0.6536035 ,\n",
      "         0.53495264,  0.74239063, -0.36713406,  0.25554046, -0.31632414,\n",
      "        -0.62153584, -0.22609013, -0.08144794, -0.5362816 , -0.04558809,\n",
      "         0.2571935 , -0.20519505,  0.21427307,  0.04484122,  0.5143372 ,\n",
      "         0.20414129,  0.07642032,  0.073612  ,  0.08038543, -0.20939663,\n",
      "         0.02374342,  0.26778638,  0.02933557,  0.10101433,  0.31065685,\n",
      "        -0.1416041 ],\n",
      "       [ 1.2850534 , -0.00610497,  0.5707997 ,  0.0781891 ,  0.621767  ,\n",
      "         0.19296987, -0.7319168 ,  1.5700307 ,  0.54567665,  0.8428925 ,\n",
      "         0.19886385,  0.83200395, -0.21713293,  0.4103999 , -0.12520787,\n",
      "         0.19695455,  0.18889858, -0.1445823 , -0.5890218 , -0.02504068,\n",
      "         0.00585548, -0.35006347, -0.0599246 , -0.27922907,  0.50081134,\n",
      "        -0.13885485,  0.17224434, -0.07673143, -0.15893352,  0.23416688,\n",
      "        -0.3026162 ,  0.16672765,  0.17543364,  0.04158702, -0.06568385,\n",
      "        -0.41179848],\n",
      "       [-1.5146118 , -0.30558652, -0.62939024,  0.03088189, -0.66492754,\n",
      "         0.01194717,  0.8164618 , -1.5444498 , -0.10063842, -0.21226622,\n",
      "        -0.12710524, -0.7020307 ,  0.47772714, -0.24696548, -0.13977264,\n",
      "        -0.20517819,  0.24319741, -0.00302518,  0.42437935,  0.5180496 ,\n",
      "        -0.06050514, -0.22025031,  0.17779472, -0.03115316,  0.00699094,\n",
      "        -0.06066782, -0.10955729,  0.22431688,  0.06734617, -0.03260728,\n",
      "        -0.1755938 , -0.12540495, -0.13631323, -0.34925452, -0.12987284,\n",
      "        -0.05061787]], dtype=float32), array([-4.7505826e-02, -3.1974024e-01, -5.2378386e-01, -5.4843551e-01,\n",
      "       -4.0275848e-01, -5.0710326e-01, -2.5021738e-01,  8.6240751e-01,\n",
      "       -4.5555726e-01, -4.1447124e-01, -5.2633512e-01,  9.5028162e-02,\n",
      "        4.1882303e-03,  9.7294807e-02, -6.8661280e-02,  4.6876207e-02,\n",
      "       -1.2746177e-02,  3.7623662e-01, -5.5160537e-02,  9.2889227e-02,\n",
      "       -1.5581307e-02, -7.8752987e-02, -9.5468089e-02, -1.1797342e-01,\n",
      "        1.8776704e-05, -1.8056610e-03,  1.6593082e-03,  2.6732776e-04,\n",
      "        3.3309595e-03,  7.6295628e-04, -4.7696559e-03,  1.0629571e-02,\n",
      "        4.1258754e-04,  4.0411092e-03,  3.6480443e-03, -5.1978324e-03],\n",
      "      dtype=float32)]\n",
      "====================\n",
      "[array([[ 8.01710606e-01,  5.30808687e-01, -4.74512905e-01,\n",
      "         7.94258654e-01, -3.64297539e-01,  9.94776368e-01,\n",
      "         2.24474981e-01,  5.05666256e-01, -5.92942119e-01,\n",
      "        -3.20930868e-01, -4.52138841e-01,  4.39502388e-01,\n",
      "         2.05542028e-01, -3.14022571e-01,  7.89745808e-01,\n",
      "         4.75652516e-01,  8.69313002e-01,  1.22991661e-02,\n",
      "         8.32402468e-01,  5.28371818e-02,  1.00982323e-01,\n",
      "         9.95317817e-01,  8.40102136e-01,  4.42906767e-02,\n",
      "        -3.89875770e-01, -6.40579015e-02, -2.81381935e-01,\n",
      "        -3.37304324e-01, -1.59316614e-01, -4.19557035e-01,\n",
      "        -2.62723975e-02, -2.05796391e-01,  7.45579526e-02,\n",
      "        -2.98846960e-01, -2.44338229e-01, -1.43979564e-01],\n",
      "       [-8.36279869e-01, -9.89563823e-01,  6.46680653e-01,\n",
      "        -8.18356752e-01,  3.33368689e-01, -7.65998840e-01,\n",
      "        -1.94080710e-01, -6.05089784e-01,  2.75985092e-01,\n",
      "         3.26530933e-01,  2.76909530e-01, -7.58989036e-01,\n",
      "         2.16077343e-01,  1.86740175e-01, -4.00026888e-01,\n",
      "        -1.87758803e-02, -6.91529691e-01, -2.18734220e-01,\n",
      "        -1.04763639e+00, -3.29085916e-01, -1.29112005e-01,\n",
      "        -7.55289614e-01, -5.40495574e-01,  5.17796576e-02,\n",
      "         3.38484228e-01,  7.26052225e-02,  1.66017637e-02,\n",
      "         1.44636944e-01, -7.74764940e-02,  6.99512735e-02,\n",
      "         4.10759062e-01,  4.49787319e-01, -2.87884641e-02,\n",
      "        -5.57374321e-02,  2.27519780e-01,  2.37854600e-01],\n",
      "       [ 6.94625437e-01,  4.72077101e-01, -3.75945270e-01,\n",
      "         8.36338937e-01, -5.69578469e-01,  7.38665938e-01,\n",
      "        -6.17384873e-02,  3.53076905e-01, -2.28159323e-01,\n",
      "        -2.97956198e-01,  8.52842405e-02,  3.25543523e-01,\n",
      "         3.05666141e-02, -2.05232531e-01,  7.73629606e-01,\n",
      "         3.50239098e-01,  7.70218074e-01,  2.33101651e-01,\n",
      "         6.74217105e-01,  2.88551617e-02,  5.71412563e-01,\n",
      "         5.07553399e-01,  5.32597721e-01,  2.80221291e-02,\n",
      "        -1.65169060e-01, -5.90368211e-01, -3.91396791e-01,\n",
      "        -3.89455050e-01,  1.79777384e-01, -4.33133543e-01,\n",
      "        -1.14573233e-01, -3.08897719e-02, -1.28587872e-01,\n",
      "        -3.49166095e-01,  1.77391157e-01,  1.78788751e-01],\n",
      "       [ 1.02420509e+00,  1.63117790e+00, -1.56771195e+00,\n",
      "         1.85721552e+00, -1.26102114e+00,  2.13293266e+00,\n",
      "        -1.95460975e-01,  1.34592414e+00, -1.18302131e+00,\n",
      "        -2.09016442e-01, -7.16183662e-01,  1.34045851e+00,\n",
      "        -1.86451063e-01, -2.66945541e-01,  1.61245584e+00,\n",
      "        -2.33729288e-01,  1.49230599e+00,  2.08372384e-01,\n",
      "         1.71470916e+00, -1.36371240e-01, -4.60770786e-01,\n",
      "         9.34248805e-01,  6.86674535e-01,  4.78208512e-02,\n",
      "         1.40339762e-01, -4.49494630e-01, -4.99186844e-01,\n",
      "        -8.31032991e-02, -5.00430703e-01,  1.26507692e-02,\n",
      "        -2.67056495e-01, -5.11043847e-01, -2.36952633e-01,\n",
      "        -1.64517730e-01, -2.81982552e-02, -1.98766775e-03],\n",
      "       [ 7.22224414e-01,  1.15373731e+00, -2.25893334e-01,\n",
      "         9.23405647e-01, -1.75972849e-01,  1.27395380e+00,\n",
      "        -5.40768132e-02,  1.05408072e+00,  2.17070952e-02,\n",
      "        -3.73906851e-01, -4.45009828e-01,  9.67696488e-01,\n",
      "        -2.53024668e-01, -7.20479563e-02,  7.03683078e-01,\n",
      "        -1.11528277e-01,  3.29411298e-01, -9.49430689e-02,\n",
      "         6.78903341e-01, -2.35999256e-01,  3.50351334e-01,\n",
      "         4.50195938e-01,  3.33074868e-01,  4.35716420e-01,\n",
      "        -8.70113298e-02, -7.08761588e-02, -9.57810227e-03,\n",
      "         8.47285334e-03,  9.36927572e-02, -1.98485166e-01,\n",
      "        -9.24167857e-02,  1.76452801e-01, -2.47835621e-01,\n",
      "         1.26717061e-01,  2.30308473e-01, -3.63570303e-01],\n",
      "       [ 1.15053654e+00,  1.10463965e+00, -8.54689002e-01,\n",
      "         1.08991337e+00, -5.56062400e-01,  1.65003431e+00,\n",
      "        -1.98427886e-01,  1.18988705e+00, -8.82561445e-01,\n",
      "         3.45331021e-02, -4.81845051e-01,  6.69834793e-01,\n",
      "         1.50591210e-01, -4.64222580e-02,  9.09897685e-01,\n",
      "         4.85241711e-01,  1.17015982e+00, -2.69831240e-01,\n",
      "         1.57790399e+00, -3.62600803e-01, -5.85825481e-02,\n",
      "         1.16849208e+00,  5.04330456e-01, -4.42673489e-02,\n",
      "        -9.17200968e-02, -5.47474742e-01, -2.88150102e-01,\n",
      "        -5.22088051e-01, -2.19292894e-01, -3.52013797e-01,\n",
      "        -4.58095640e-01, -2.94878483e-02, -4.55418110e-01,\n",
      "         8.28107893e-02, -5.29052973e-01, -4.52474058e-01],\n",
      "       [-4.17424530e-01, -6.60389781e-01,  2.16876596e-01,\n",
      "        -1.02150190e+00, -4.76694442e-02, -1.29612732e+00,\n",
      "         4.74975742e-02, -4.01680231e-01, -1.83919266e-01,\n",
      "        -7.25560263e-02,  3.02737653e-01, -7.81180263e-01,\n",
      "        -2.02664286e-01, -3.99899572e-01, -6.48340642e-01,\n",
      "         5.94031066e-04, -5.22574186e-01, -3.12595874e-01,\n",
      "        -1.07528698e+00, -3.98130566e-02,  2.84103870e-01,\n",
      "        -3.96592408e-01,  2.09434748e-01, -1.85691580e-01,\n",
      "        -4.15316336e-02, -2.13124201e-01,  1.84015527e-01,\n",
      "         1.02558516e-01, -8.99157599e-02, -3.61063004e-01,\n",
      "        -1.58378091e-02,  2.70164043e-01,  2.57688820e-01,\n",
      "         3.20507423e-03, -2.06061721e-01, -2.40007684e-01],\n",
      "       [ 1.65176344e+00,  1.58110666e+00, -2.66363829e-01,\n",
      "         1.03034246e+00, -5.94420135e-01,  1.25629234e+00,\n",
      "         3.81312758e-01,  1.26264000e+00, -1.04779154e-01,\n",
      "        -5.35063088e-01, -2.57802695e-01,  8.55990827e-01,\n",
      "        -1.15942515e-01,  1.98826209e-01,  7.55283713e-01,\n",
      "         6.35607094e-02,  2.88715065e-01, -3.38369086e-02,\n",
      "         8.45527649e-01, -2.04189450e-01,  1.48887718e-02,\n",
      "         7.34831512e-01,  6.96302772e-01, -1.66308135e-01,\n",
      "        -3.18009853e-01, -4.52301592e-01,  1.29772097e-01,\n",
      "        -1.25342801e-01,  2.83527792e-01, -2.64840215e-01,\n",
      "        -1.88074678e-01, -8.95518139e-02, -2.14617133e-01,\n",
      "        -1.69789433e-01, -2.89182276e-01,  2.67293453e-01],\n",
      "       [-1.19022357e+00, -7.75784731e-01,  2.28680521e-01,\n",
      "        -1.12858248e+00,  1.57508597e-01, -1.27679420e+00,\n",
      "         8.22989270e-02, -8.98663640e-01,  2.45872691e-01,\n",
      "        -2.54261140e-02,  3.08883250e-01, -4.61650044e-01,\n",
      "         3.00622880e-01, -1.43986329e-01, -4.95283365e-01,\n",
      "        -2.31241956e-01, -4.37728733e-01, -1.07395679e-01,\n",
      "        -1.17246997e+00,  2.70827353e-01, -4.41816121e-01,\n",
      "        -4.54684585e-01, -3.70200187e-01, -1.74975172e-01,\n",
      "         1.89793482e-01,  5.14041185e-01, -1.45871907e-01,\n",
      "         2.84835726e-01,  2.20542088e-01, -6.73347041e-02,\n",
      "         1.88903719e-01,  3.69759709e-01,  1.61023706e-01,\n",
      "         3.08990568e-01, -1.91251695e-01,  3.55520606e-01],\n",
      "       [ 1.26915836e+00,  6.97868466e-01, -7.91314840e-01,\n",
      "         9.48876083e-01, -2.99698323e-01,  8.07315886e-01,\n",
      "         8.82811993e-02,  6.78550422e-01, -1.27332985e-01,\n",
      "        -1.52858436e-01, -2.05881208e-01,  9.03515935e-01,\n",
      "        -3.04077059e-01,  1.02466784e-01,  6.60666704e-01,\n",
      "        -1.61273941e-01,  7.51627505e-01,  2.83021808e-01,\n",
      "         6.75280511e-01,  3.21356595e-01,  2.90016681e-01,\n",
      "         7.54780889e-01,  1.00624764e+00,  3.38939726e-01,\n",
      "         2.65325531e-02, -1.69309154e-01, -2.86530226e-01,\n",
      "        -1.52589381e-01, -2.25629896e-01, -4.73397702e-01,\n",
      "        -3.63092005e-01, -3.47528785e-01,  1.36808455e-01,\n",
      "        -7.58811608e-02,  9.09969658e-02, -1.17990375e-01],\n",
      "       [ 1.01722097e+00,  4.42914158e-01, -3.70245486e-01,\n",
      "         6.42664313e-01, -2.30229229e-01,  8.20868433e-01,\n",
      "         2.29049250e-02,  3.73247623e-01,  1.34052306e-01,\n",
      "         3.30537468e-01, -1.15276843e-01,  7.66362667e-01,\n",
      "         2.26182882e-02,  2.46749267e-01,  6.79075360e-01,\n",
      "         4.96407568e-01,  8.81816924e-01,  1.00298844e-01,\n",
      "         4.99713868e-01,  3.37992370e-01,  2.47636214e-02,\n",
      "         6.61883116e-01,  5.78347266e-01,  7.71538913e-02,\n",
      "         1.41782984e-01, -5.13148427e-01, -4.89729680e-02,\n",
      "        -1.94024622e-01, -3.02355260e-01,  8.78452137e-02,\n",
      "        -5.67197561e-01, -3.79547745e-01,  2.23233506e-01,\n",
      "        -4.24044617e-02, -1.84805349e-01, -3.87937933e-01],\n",
      "       [-1.11134136e+00, -8.17840993e-01,  7.21798688e-02,\n",
      "        -5.32067537e-01,  4.21309285e-02, -5.70938349e-01,\n",
      "         1.26437217e-01, -2.11214349e-01,  2.63387859e-01,\n",
      "         3.44026864e-01,  2.26524025e-01, -7.02498257e-01,\n",
      "         2.71080464e-01, -2.38510609e-01, -5.75297654e-01,\n",
      "        -2.48258799e-01, -1.62450448e-01, -2.81273782e-01,\n",
      "        -2.44484544e-01,  1.54822230e-01, -2.90932089e-01,\n",
      "        -8.57488036e-01, -2.42761120e-01, -3.84474576e-01,\n",
      "         2.24200949e-01,  1.73302174e-01, -6.26148237e-03,\n",
      "         2.48086303e-01,  1.25689745e-01, -2.12301109e-02,\n",
      "         8.70659947e-02,  2.47370884e-01, -8.83303657e-02,\n",
      "        -2.29961678e-01, -3.69057469e-02,  4.75655943e-02]], dtype=float32), array([[-1.1288854 , -0.5631249 , -0.37996498, -0.3670694 ,  0.35191903,\n",
      "        -0.42448556, -0.50141764, -0.5488069 , -0.50453085, -0.04235066,\n",
      "        -0.13597715, -0.38657132,  0.34479433, -0.35800266, -0.03120042,\n",
      "         0.30492103,  0.1275005 , -0.09395184, -0.11495169, -0.00505847,\n",
      "        -0.53130215, -0.26356527, -0.06536097, -0.3897853 , -0.20319137,\n",
      "         0.2873807 , -0.4691692 , -0.4566473 , -0.38514954, -0.61692774,\n",
      "        -0.08367655, -0.18080822, -0.1469215 , -0.4548185 , -0.42707768,\n",
      "        -0.18677233],\n",
      "       [-0.45265082, -0.18158244,  0.03505962,  0.0595924 ,  0.04934535,\n",
      "         0.2116237 , -0.38378608,  0.01169237, -0.25052753,  0.21478526,\n",
      "         0.12251927, -0.0607004 ,  0.29382864,  0.17497319,  0.07305019,\n",
      "         0.08423652, -0.23423098, -0.11825676, -0.41061938, -0.40658194,\n",
      "        -0.26957455, -0.35805434, -0.25036457,  0.12887082,  0.14976111,\n",
      "        -0.11998871, -0.42292362, -0.20791143, -0.5465657 , -0.32546   ,\n",
      "        -0.21687256,  0.15141383, -0.39734682, -0.45828542, -0.18235716,\n",
      "        -0.07706215],\n",
      "       [-0.5607307 , -1.3125978 ,  1.0998679 , -1.2219883 ,  0.61258096,\n",
      "        -1.6889979 ,  0.24902865, -1.2126011 ,  1.3435628 ,  0.48711264,\n",
      "         1.0962391 , -1.5013163 , -0.02783219, -0.29321826, -0.34992737,\n",
      "        -0.11280411, -0.04745013, -0.04535253, -1.0621513 , -0.0373509 ,\n",
      "         0.6186682 , -0.32169384, -0.05259279, -0.23367223,  0.03674193,\n",
      "        -0.20691545, -0.33862048, -0.46921477,  0.3732922 , -0.51202327,\n",
      "         0.50831026,  0.09868473, -0.33000815, -0.4408887 ,  0.02970692,\n",
      "         0.1664616 ],\n",
      "       [-1.5446614 , -0.88167995, -0.03384951, -0.76840216,  0.37171578,\n",
      "        -0.6105518 , -0.24855414, -0.9233308 , -0.19480138,  0.5182751 ,\n",
      "         0.14339624, -0.68124306,  0.18375249,  0.09469963, -0.4771373 ,\n",
      "        -0.38786235, -0.3994412 ,  0.28610885, -0.5905313 ,  0.1417615 ,\n",
      "        -0.43150747, -1.0740135 , -0.8870261 ,  0.10135949,  0.36897865,\n",
      "         0.07154136, -0.4975634 , -0.04797943, -0.51797545, -0.01345604,\n",
      "         0.16530837, -0.35857534, -0.37387702, -0.24676251, -0.1456091 ,\n",
      "         0.09146526],\n",
      "       [-0.37954015, -0.5508692 ,  0.94841737, -0.93786913,  0.69086224,\n",
      "        -0.8493929 ,  0.4246745 , -0.3768492 ,  1.2250106 ,  0.1449347 ,\n",
      "         0.25601116, -0.6504362 , -0.20102566, -0.08950069, -0.12887631,\n",
      "        -0.421136  , -0.2913285 , -0.2904414 , -0.7082538 , -0.2114378 ,\n",
      "         0.37830147, -0.21349008, -0.22548304,  0.23376353, -0.10499921,\n",
      "        -0.1593255 , -0.08307868, -0.24108955,  0.19742952, -0.42926088,\n",
      "         0.5161778 ,  0.03827597, -0.5400822 , -0.04183701,  0.02588729,\n",
      "        -0.6133346 ],\n",
      "       [-0.682717  , -0.20650437, -0.00553314, -0.45831   ,  0.8332506 ,\n",
      "         0.10827867, -0.52006006, -0.05748192, -0.43754494,  0.6669097 ,\n",
      "         0.27497622, -0.17040639,  0.39996842,  0.08443937, -0.66111684,\n",
      "         0.33956644, -0.23966002, -0.12494409, -0.100492  , -0.29499194,\n",
      "        -0.46593332, -0.5540551 , -0.8718982 , -0.22782953,  0.25532866,\n",
      "         0.18034244, -0.11388779, -0.22985852, -0.14125007, -0.12214126,\n",
      "        -0.16902532,  0.31921077, -0.30806005,  0.24588676, -0.3773236 ,\n",
      "        -0.12859766],\n",
      "       [-1.6949365 , -2.152713  ,  1.3211784 , -2.331481  ,  1.1830875 ,\n",
      "        -2.5860963 , -0.6649248 , -1.8227909 ,  1.0295169 ,  0.7083434 ,\n",
      "         1.1326845 , -2.106553  , -0.04394031, -0.17903829, -1.2115092 ,\n",
      "         0.21883209, -1.022091  , -0.14718662, -1.1677878 ,  0.21838062,\n",
      "         0.30857676, -0.93140614, -0.20447916,  0.09207581, -0.27592346,\n",
      "        -0.63746697,  0.00426992, -0.22536156, -0.12330516, -0.67832595,\n",
      "         0.10387263, -0.09768453, -0.03655699, -0.17208456, -0.39388466,\n",
      "        -0.6092475 ],\n",
      "       [-0.7796908 ,  0.1671941 , -0.15537885, -0.29155773,  0.21403089,\n",
      "        -0.19555163, -0.59939796, -0.04010316, -0.10197646, -0.26111302,\n",
      "        -0.02990439, -0.17161517,  0.08794407,  0.18081915,  0.08611742,\n",
      "        -0.06278647, -0.37532413, -0.12316654, -0.11912787, -0.2165715 ,\n",
      "        -0.6120374 , -0.5058905 , -0.23833337, -0.55416536, -0.07400716,\n",
      "        -0.09718468, -0.09029718, -0.2720317 , -0.04097942, -0.48150322,\n",
      "        -0.5042015 , -0.04526897, -0.49804282, -0.4190084 , -0.5570357 ,\n",
      "         0.22966787],\n",
      "       [-0.13982384, -0.6576289 ,  0.6709874 , -0.9118636 , -0.0474498 ,\n",
      "        -1.1429734 ,  1.1945443 , -0.76902825,  0.59451395,  0.1575486 ,\n",
      "         0.49984363, -0.665296  ,  0.16491869, -0.1149193 , -0.11730436,\n",
      "        -0.2621743 , -0.06620983, -0.02827467, -0.7963696 ,  0.31005755,\n",
      "         0.136007  ,  0.38623005,  0.28977075,  0.22164972, -0.16419706,\n",
      "        -0.08867564, -0.25941435,  0.07802033,  0.19839178, -0.24126512,\n",
      "         0.2921209 , -0.00734618,  0.07132415,  0.20715761, -0.28770807,\n",
      "         0.05958405],\n",
      "       [-0.0861636 , -1.0202284 ,  0.46169093, -0.80522037,  0.35999975,\n",
      "        -1.304854  ,  0.47351825, -0.7315885 ,  0.7879214 ,  0.09765949,\n",
      "         0.10872363, -0.6851022 , -0.17071468,  0.26861465, -0.53871447,\n",
      "        -0.32507128, -0.177867  ,  0.14782275, -0.79549754,  0.47005284,\n",
      "         0.40728512, -0.1327241 ,  0.2316756 ,  0.20337918,  0.10085059,\n",
      "        -0.16770464, -0.26539347, -0.21718465, -0.08898397, -0.55809224,\n",
      "         0.30022237, -0.45138735,  0.03632642, -0.08861233,  0.05329011,\n",
      "        -0.2196642 ],\n",
      "       [ 0.02037035, -0.96808153,  0.8184032 , -0.77657956,  0.4654675 ,\n",
      "        -0.7062217 ,  0.3232403 , -0.7325029 ,  0.8625005 ,  0.5052361 ,\n",
      "         0.1361949 , -0.34889042,  0.1272594 ,  0.3856121 , -0.36276925,\n",
      "         0.3823702 ,  0.0531951 ,  0.01679991, -0.79329175,  0.4761485 ,\n",
      "         0.07992447, -0.2392175 , -0.16407055, -0.04359077,  0.18505791,\n",
      "        -0.5362583 , -0.08312036, -0.30139348, -0.21877119, -0.03557727,\n",
      "        -0.02723002, -0.5203268 ,  0.07994471, -0.10724264, -0.27031437,\n",
      "        -0.53228754],\n",
      "       [-0.5409478 ,  0.04703619, -0.38659886,  0.2994472 ,  0.09533495,\n",
      "         0.51617557, -0.0349873 ,  0.41012266, -0.09277511,  0.47238362,\n",
      "         0.3427751 ,  0.16647142,  0.3295499 , -0.22433929, -0.3749579 ,\n",
      "        -0.20930658,  0.0539795 , -0.15647613,  0.23636115,  0.05463987,\n",
      "        -0.26268426, -0.6423586 , -0.11248828, -0.2063837 ,  0.19712152,\n",
      "         0.2506453 , -0.3480997 ,  0.07968475, -0.33921555, -0.23980416,\n",
      "        -0.6750037 ,  0.11503114, -0.30139667, -0.5390271 , -0.34458384,\n",
      "        -0.03224854]], dtype=float32), array([ 4.62101810e-02, -5.04898764e-02, -8.71150196e-03, -3.70345652e-01,\n",
      "        5.68505585e-01, -1.72018066e-01, -1.25030249e-01, -2.82457799e-01,\n",
      "        6.01543248e-01,  4.84139591e-01,  5.66980302e-01, -2.22841501e-01,\n",
      "        2.97526419e-01,  1.61919609e-01,  2.06550553e-01,  2.14954525e-01,\n",
      "        1.80151686e-01,  1.99524183e-02,  3.40203315e-01,  1.73346445e-01,\n",
      "       -1.41151935e-01,  1.04561165e-01,  2.21572191e-01,  2.34355614e-01,\n",
      "       -3.39724310e-03,  2.89954100e-04, -4.89163026e-03, -2.73238169e-04,\n",
      "       -6.00751769e-03,  7.93297513e-05, -4.34662029e-03,  1.29357481e-03,\n",
      "       -1.93458982e-03, -2.97553092e-03, -7.67320744e-04,  1.03852991e-03],\n",
      "      dtype=float32)]\n",
      "====================\n",
      "[array([[0.75513583],\n",
      "       [0.8885202 ],\n",
      "       [0.8474396 ],\n",
      "       [0.8557007 ],\n",
      "       [0.71463317],\n",
      "       [1.017771  ],\n",
      "       [0.73643905],\n",
      "       [0.8700946 ],\n",
      "       [0.8291494 ],\n",
      "       [0.770018  ],\n",
      "       [0.75936574],\n",
      "       [0.8396673 ]], dtype=float32), array([-0.00190315], dtype=float32)]\n",
      "====================\n"
     ]
    }
   ],
   "source": [
    "for layer in model.layers:\n",
    "    weights = layer.get_weights() # list of numpy arrays\n",
    "    print(weights)\n",
    "    print('='*20)"
   ]
  },
  {
   "cell_type": "code",
   "execution_count": 75,
   "metadata": {},
   "outputs": [
    {
     "name": "stdout",
     "output_type": "stream",
     "text": [
      "_________________________________________________________________\n",
      "Layer (type)                 Output Shape              Param #   \n",
      "=================================================================\n",
      "input_2 (InputLayer)         (1, 64, 1)                0         \n",
      "_________________________________________________________________\n",
      "gru_3 (GRU)                  (1, 64, 12)               504       \n",
      "_________________________________________________________________\n",
      "gru_4 (GRU)                  (1, 12)                   900       \n",
      "_________________________________________________________________\n",
      "dense_2 (Dense)              (1, 1)                    13        \n",
      "=================================================================\n",
      "Total params: 1,417\n",
      "Trainable params: 1,417\n",
      "Non-trainable params: 0\n",
      "_________________________________________________________________\n"
     ]
    }
   ],
   "source": [
    "model.summary()"
   ]
  },
  {
   "cell_type": "code",
   "execution_count": 83,
   "metadata": {},
   "outputs": [],
   "source": [
    "# model.save('saved_models/01_peak_comp_60_samples.h5')"
   ]
  },
  {
   "cell_type": "code",
   "execution_count": 76,
   "metadata": {},
   "outputs": [
    {
     "data": {
      "text/plain": [
       "0.0947332183358958"
      ]
     },
     "execution_count": 76,
     "metadata": {},
     "output_type": "execute_result"
    }
   ],
   "source": [
    "score = model.evaluate(X_te_s[:400], y_te_s[:400], verbose=0, batch_size=BATCH_SIZE)\n",
    "score"
   ]
  },
  {
   "cell_type": "code",
   "execution_count": 77,
   "metadata": {},
   "outputs": [
    {
     "data": {
      "text/plain": [
       "0.0947332183358958"
      ]
     },
     "execution_count": 77,
     "metadata": {},
     "output_type": "execute_result"
    }
   ],
   "source": [
    "0.0947332183358958"
   ]
  },
  {
   "cell_type": "code",
   "execution_count": 80,
   "metadata": {
    "scrolled": false
   },
   "outputs": [
    {
     "data": {
      "image/png": "[encoded data removed]",
      "text/plain": [
       "<Figure size 432x288 with 1 Axes>"
      ]
     },
     "metadata": {
      "needs_background": "light"
     },
     "output_type": "display_data"
    }
   ],
   "source": [
    "%matplotlib inline\n",
    "\n",
    "from matplotlib import pyplot as plt\n",
    "\n",
    "# Plot training & validation loss values\n",
    "plt.plot(normalize(np.array(history.history['loss'])))\n",
    "# plt.plot(normalize(np.array(history.history['val_loss'])))\n",
    "plt.title('Model loss')\n",
    "plt.ylabel('Loss')\n",
    "plt.xlabel('Epoch')\n",
    "plt.legend(['Train'], loc='upper left')\n",
    "plt.show()"
   ]
  },
  {
   "cell_type": "code",
   "execution_count": null,
   "metadata": {},
   "outputs": [],
   "source": [
    "len(X_te_f)"
   ]
  },
  {
   "cell_type": "code",
   "execution_count": null,
   "metadata": {},
   "outputs": [],
   "source": [
    "predict(model, X_te_s[:100])"
   ]
  },
  {
   "cell_type": "code",
   "execution_count": null,
   "metadata": {},
   "outputs": [],
   "source": [
    "print(X_tr_s[0][-1])"
   ]
  },
  {
   "cell_type": "code",
   "execution_count": 82,
   "metadata": {
    "scrolled": false
   },
   "outputs": [
    {
     "name": "stdout",
     "output_type": "stream",
     "text": [
      "0   -0.052136\n",
      "1   -0.052247\n",
      "2   -0.054475\n",
      "3   -0.058482\n",
      "4   -0.064144\n",
      "dtype: float32\n"
     ]
    },
    {
     "data": {
      "text/plain": [
       "Text(0,0.5,'value')"
      ]
     },
     "execution_count": 82,
     "metadata": {},
     "output_type": "execute_result"
    },
    {
     "data": {
      "image/png": "[encoded data removed]",
      "text/plain": [
       "<Figure size 1152x576 with 1 Axes>"
      ]
     },
     "metadata": {
      "needs_background": "light"
     },
     "output_type": "display_data"
    }
   ],
   "source": [
    "%matplotlib inline\n",
    "from scipy.signal import savgol_filter\n",
    "\n",
    "(fig, ax) = plt.subplots(figsize=(16, 8))\n",
    "\n",
    "I = 200\n",
    "\n",
    "feat = pd.Series((np.array(list(map(lambda row: row[-1][0], X_tr_s[:I])))))\n",
    "\n",
    "feat.plot.line(ax=ax, label='feature')\n",
    "\n",
    "targ = (pd.Series((y_tr_s[:I])))\n",
    "\n",
    "pred = pd.Series(predict(model, X_tr_s[:I]))\n",
    "pd.Series(predict(model, X_tr_s[:I]))\n",
    "# pred = (pred * 3.2) + 0.001\n",
    "pred = pred + 0.001\n",
    "\n",
    "zeros = pd.Series(np.zeros(I))\n",
    "zeros.plot.line(ax=ax, label='0')\n",
    "\n",
    "targ.plot.line(ax=ax, label='target')\n",
    "\n",
    "print(pred[:5])\n",
    "\n",
    "pred.plot.line(ax=ax, label='predicted')\n",
    "# pd.Series(savgol_filter(pred, 5, 3)).plot.line(ax=ax, label='savgol(predicted)')\n",
    "\n",
    "# pd.Series(normalize(np.array(list(map(lambda w: w[-1], X_tr_f[:I]))))).plot.line(ax=ax, label='feature')\n",
    "\n",
    "ax.legend(loc=\"upper right\")\n",
    "ax.set_xlabel('index')\n",
    "ax.set_ylabel('value')"
   ]
  },
  {
   "cell_type": "markdown",
   "metadata": {},
   "source": [
    "## Time to evaluate performance"
   ]
  },
  {
   "cell_type": "code",
   "execution_count": null,
   "metadata": {},
   "outputs": [],
   "source": [
    "predictions = predict(model, X_tr_s[:(44000 * 3)], batch_size=best_params['batch_size'])\n",
    "len(predictions), predictions[:10], np.max(predictions), np.min(predictions)"
   ]
  },
  {
   "cell_type": "code",
   "execution_count": null,
   "metadata": {},
   "outputs": [],
   "source": [
    "predictions_n = predictions / (max(abs(np.max(predictions)), abs(np.min(predictions)))) * MAX_VALUE\n",
    "len(predictions_n), predictions_n[:10], np.max(predictions_n), np.min(predictions_n)"
   ]
  },
  {
   "cell_type": "code",
   "execution_count": null,
   "metadata": {},
   "outputs": [],
   "source": [
    "wavfile.write('output/pred_out.wav', source_fs, predictions)"
   ]
  },
  {
   "cell_type": "code",
   "execution_count": null,
   "metadata": {},
   "outputs": [],
   "source": [
    "len(predictions)"
   ]
  },
  {
   "cell_type": "code",
   "execution_count": null,
   "metadata": {},
   "outputs": [],
   "source": []
  }
 ],
 "metadata": {
  "kernelspec": {
   "display_name": "Python 3",
   "language": "python",
   "name": "python3"
  },
  "language_info": {
   "codemirror_mode": {
    "name": "ipython",
    "version": 3
   },
   "file_extension": ".py",
   "mimetype": "text/x-python",
   "name": "python",
   "nbconvert_exporter": "python",
   "pygments_lexer": "ipython3",
   "version": "3.7.3"
  }
 },
 "nbformat": 4,
 "nbformat_minor": 2
}
