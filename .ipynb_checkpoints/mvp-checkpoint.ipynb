{
 "cells": [
  {
   "cell_type": "code",
   "execution_count": 1,
   "metadata": {},
   "outputs": [],
   "source": [
    "from scipy.io import wavfile\n",
    "\n",
    "(source_fs, source_data) = wavfile.read('./data/01_source.wav')\n",
    "(target_fs, target_data) = wavfile.read('./data/01_peak_compressor.wav')\n"
   ]
  },
  {
   "cell_type": "code",
   "execution_count": 2,
   "metadata": {},
   "outputs": [],
   "source": [
    "import pandas as pd"
   ]
  },
  {
   "cell_type": "code",
   "execution_count": 3,
   "metadata": {},
   "outputs": [
    {
     "data": {
      "text/html": [
       "<div>\n",
       "<style scoped>\n",
       "    .dataframe tbody tr th:only-of-type {\n",
       "        vertical-align: middle;\n",
       "    }\n",
       "\n",
       "    .dataframe tbody tr th {\n",
       "        vertical-align: top;\n",
       "    }\n",
       "\n",
       "    .dataframe thead th {\n",
       "        text-align: right;\n",
       "    }\n",
       "</style>\n",
       "<table border=\"1\" class=\"dataframe\">\n",
       "  <thead>\n",
       "    <tr style=\"text-align: right;\">\n",
       "      <th></th>\n",
       "      <th>L</th>\n",
       "      <th>R</th>\n",
       "    </tr>\n",
       "  </thead>\n",
       "  <tbody>\n",
       "    <tr>\n",
       "      <th>0</th>\n",
       "      <td>1</td>\n",
       "      <td>-1</td>\n",
       "    </tr>\n",
       "    <tr>\n",
       "      <th>1</th>\n",
       "      <td>-5</td>\n",
       "      <td>-6</td>\n",
       "    </tr>\n",
       "    <tr>\n",
       "      <th>2</th>\n",
       "      <td>-11</td>\n",
       "      <td>-12</td>\n",
       "    </tr>\n",
       "    <tr>\n",
       "      <th>3</th>\n",
       "      <td>-18</td>\n",
       "      <td>-17</td>\n",
       "    </tr>\n",
       "    <tr>\n",
       "      <th>4</th>\n",
       "      <td>-24</td>\n",
       "      <td>-24</td>\n",
       "    </tr>\n",
       "  </tbody>\n",
       "</table>\n",
       "</div>"
      ],
      "text/plain": [
       "    L   R\n",
       "0   1  -1\n",
       "1  -5  -6\n",
       "2 -11 -12\n",
       "3 -18 -17\n",
       "4 -24 -24"
      ]
     },
     "execution_count": 3,
     "metadata": {},
     "output_type": "execute_result"
    }
   ],
   "source": [
    "source_df = pd.DataFrame(source_data, columns=['L', 'R'])\n",
    "source_df.head()"
   ]
  },
  {
   "cell_type": "code",
   "execution_count": 4,
   "metadata": {},
   "outputs": [
    {
     "data": {
      "text/html": [
       "<div>\n",
       "<style scoped>\n",
       "    .dataframe tbody tr th:only-of-type {\n",
       "        vertical-align: middle;\n",
       "    }\n",
       "\n",
       "    .dataframe tbody tr th {\n",
       "        vertical-align: top;\n",
       "    }\n",
       "\n",
       "    .dataframe thead th {\n",
       "        text-align: right;\n",
       "    }\n",
       "</style>\n",
       "<table border=\"1\" class=\"dataframe\">\n",
       "  <thead>\n",
       "    <tr style=\"text-align: right;\">\n",
       "      <th></th>\n",
       "      <th>L</th>\n",
       "      <th>R</th>\n",
       "    </tr>\n",
       "  </thead>\n",
       "  <tbody>\n",
       "    <tr>\n",
       "      <th>0</th>\n",
       "      <td>-1</td>\n",
       "      <td>0</td>\n",
       "    </tr>\n",
       "    <tr>\n",
       "      <th>1</th>\n",
       "      <td>-37</td>\n",
       "      <td>-37</td>\n",
       "    </tr>\n",
       "    <tr>\n",
       "      <th>2</th>\n",
       "      <td>-81</td>\n",
       "      <td>-81</td>\n",
       "    </tr>\n",
       "    <tr>\n",
       "      <th>3</th>\n",
       "      <td>-128</td>\n",
       "      <td>-128</td>\n",
       "    </tr>\n",
       "    <tr>\n",
       "      <th>4</th>\n",
       "      <td>-177</td>\n",
       "      <td>-178</td>\n",
       "    </tr>\n",
       "  </tbody>\n",
       "</table>\n",
       "</div>"
      ],
      "text/plain": [
       "     L    R\n",
       "0   -1    0\n",
       "1  -37  -37\n",
       "2  -81  -81\n",
       "3 -128 -128\n",
       "4 -177 -178"
      ]
     },
     "execution_count": 4,
     "metadata": {},
     "output_type": "execute_result"
    }
   ],
   "source": [
    "target_df = pd.DataFrame(target_data, columns=['L', 'R'])\n",
    "target_df.head()"
   ]
  },
  {
   "cell_type": "code",
   "execution_count": 5,
   "metadata": {},
   "outputs": [
    {
     "data": {
      "text/plain": [
       "(10790, 16537)"
      ]
     },
     "execution_count": 5,
     "metadata": {},
     "output_type": "execute_result"
    }
   ],
   "source": [
    "source_df['L'].max(), target_df['L'].max()"
   ]
  },
  {
   "cell_type": "code",
   "execution_count": 6,
   "metadata": {},
   "outputs": [
    {
     "data": {
      "text/plain": [
       "32768"
      ]
     },
     "execution_count": 6,
     "metadata": {},
     "output_type": "execute_result"
    }
   ],
   "source": [
    "2 ** 15"
   ]
  },
  {
   "cell_type": "code",
   "execution_count": 7,
   "metadata": {},
   "outputs": [
    {
     "data": {
      "text/plain": [
       "32767"
      ]
     },
     "execution_count": 7,
     "metadata": {},
     "output_type": "execute_result"
    }
   ],
   "source": [
    "MAX_VALUE = 2 ** 15 - 1\n",
    "MAX_VALUE"
   ]
  },
  {
   "cell_type": "code",
   "execution_count": null,
   "metadata": {},
   "outputs": [],
   "source": []
  },
  {
   "cell_type": "code",
   "execution_count": 8,
   "metadata": {},
   "outputs": [
    {
     "data": {
      "text/plain": [
       "(1302647, 1302647)"
      ]
     },
     "execution_count": 8,
     "metadata": {},
     "output_type": "execute_result"
    }
   ],
   "source": [
    "len(source_df), len(target_df)"
   ]
  },
  {
   "cell_type": "code",
   "execution_count": 9,
   "metadata": {},
   "outputs": [
    {
     "data": {
      "text/plain": [
       "1042100"
      ]
     },
     "execution_count": 9,
     "metadata": {},
     "output_type": "execute_result"
    }
   ],
   "source": [
    "# END_LOC = int(len(target_df) * 0.8)\n",
    "TR_END_LOC = int(len(target_df) * 0.8 / 100) * 100\n",
    "TR_END_LOC"
   ]
  },
  {
   "cell_type": "markdown",
   "metadata": {},
   "source": [
    "## IT'S MONO"
   ]
  },
  {
   "cell_type": "code",
   "execution_count": 10,
   "metadata": {},
   "outputs": [
    {
     "data": {
      "text/plain": [
       "1042100"
      ]
     },
     "execution_count": 10,
     "metadata": {},
     "output_type": "execute_result"
    }
   ],
   "source": [
    "X_train_raw = source_df['L'][:TR_END_LOC]\n",
    "len(X_train_raw)"
   ]
  },
  {
   "cell_type": "code",
   "execution_count": 11,
   "metadata": {},
   "outputs": [
    {
     "data": {
      "text/plain": [
       "260547"
      ]
     },
     "execution_count": 11,
     "metadata": {},
     "output_type": "execute_result"
    }
   ],
   "source": [
    "X_test_raw = source_df['L'][TR_END_LOC:]\n",
    "len(X_test_raw)"
   ]
  },
  {
   "cell_type": "code",
   "execution_count": 12,
   "metadata": {},
   "outputs": [
    {
     "data": {
      "text/plain": [
       "1042100"
      ]
     },
     "execution_count": 12,
     "metadata": {},
     "output_type": "execute_result"
    }
   ],
   "source": [
    "y_train_raw = target_df['L'][:TR_END_LOC]\n",
    "len(y_train_raw)"
   ]
  },
  {
   "cell_type": "code",
   "execution_count": 13,
   "metadata": {},
   "outputs": [
    {
     "data": {
      "text/plain": [
       "260547"
      ]
     },
     "execution_count": 13,
     "metadata": {},
     "output_type": "execute_result"
    }
   ],
   "source": [
    "y_test_raw = target_df['L'][TR_END_LOC:]\n",
    "len(y_test_raw)"
   ]
  },
  {
   "cell_type": "code",
   "execution_count": 14,
   "metadata": {},
   "outputs": [
    {
     "data": {
      "text/plain": [
       "1042100    3458\n",
       "1042101    3469\n",
       "1042102    3479\n",
       "1042103    3485\n",
       "1042104    3490\n",
       "1042105    3491\n",
       "1042106    3489\n",
       "1042107    3485\n",
       "1042108    3479\n",
       "1042109    3471\n",
       "Name: L, dtype: int16"
      ]
     },
     "execution_count": 14,
     "metadata": {},
     "output_type": "execute_result"
    }
   ],
   "source": [
    "X_test_raw.iloc[:10]"
   ]
  },
  {
   "cell_type": "code",
   "execution_count": 15,
   "metadata": {},
   "outputs": [],
   "source": [
    "# safe-checking data"
   ]
  },
  {
   "cell_type": "code",
   "execution_count": 16,
   "metadata": {},
   "outputs": [],
   "source": [
    "# y_train_raw = -y_train_raw + 4000\n",
    "# y_train_raw.iloc[0]"
   ]
  },
  {
   "cell_type": "code",
   "execution_count": 17,
   "metadata": {},
   "outputs": [],
   "source": [
    "# y_test_raw = -y_test_raw + 4000\n",
    "# y_test_raw.iloc[0]"
   ]
  },
  {
   "cell_type": "markdown",
   "metadata": {},
   "source": [
    "## Preparing data for processing"
   ]
  },
  {
   "cell_type": "code",
   "execution_count": 18,
   "metadata": {},
   "outputs": [],
   "source": [
    "def normalize_keeping_mean(arr, forced_abs=None):\n",
    "    left_abs = np.abs(arr.mean() - arr.min())\n",
    "    right_abs = np.abs(arr.max() - arr.mean())\n",
    "    \n",
    "    n = max(left_abs, right_abs)\n",
    "    \n",
    "    if (forced_abs is not None):\n",
    "        n = forced_abs\n",
    "    \n",
    "    return np.clip(arr / n, -1.0, 1.0)"
   ]
  },
  {
   "cell_type": "code",
   "execution_count": 19,
   "metadata": {},
   "outputs": [],
   "source": [
    "def normalize(arr, forced_abs=None, mean=None):\n",
    "    left_abs = np.abs(arr.mean() - arr.min())\n",
    "    right_abs = np.abs(arr.max() - arr.mean())\n",
    "    \n",
    "    n = max(left_abs, right_abs)\n",
    "    \n",
    "    if (forced_abs is not None):\n",
    "        n = forced_abs\n",
    "        \n",
    "    if (mean is None):\n",
    "        mean = arr.mean()\n",
    "    \n",
    "    \n",
    "    return np.clip((arr - mean) / n, -1.0, 1.0)"
   ]
  },
  {
   "cell_type": "code",
   "execution_count": 20,
   "metadata": {},
   "outputs": [
    {
     "data": {
      "text/plain": [
       "(-0.30961027863399154, 0.3292947172460097, 5.524491569495269e-06)"
      ]
     },
     "execution_count": 20,
     "metadata": {},
     "output_type": "execute_result"
    }
   ],
   "source": [
    "import numpy as np\n",
    "\n",
    "X_tr = np.array(list(map(lambda x: np.array(x), X_train_raw)))\n",
    "X_tr_n = normalize(X_tr, forced_abs=MAX_VALUE, mean=0.0)\n",
    "X_tr_n.min(), X_tr_n.max(), np.mean(X_tr_n)"
   ]
  },
  {
   "cell_type": "code",
   "execution_count": 21,
   "metadata": {},
   "outputs": [
    {
     "data": {
      "text/plain": [
       "(-0.1662038026062807, 0.2346873378704184, 1.2222185906085745e-05)"
      ]
     },
     "execution_count": 21,
     "metadata": {},
     "output_type": "execute_result"
    }
   ],
   "source": [
    "X_te = np.array(list(map(lambda x: np.array(x), X_test_raw)))\n",
    "X_te_n= normalize(X_te, forced_abs=MAX_VALUE, mean=0.0)\n",
    "X_te_n.min(), X_te_n.max(), np.mean(X_te_n)"
   ]
  },
  {
   "cell_type": "code",
   "execution_count": 22,
   "metadata": {},
   "outputs": [
    {
     "data": {
      "text/plain": [
       "(-0.3057954649494919, 0.5046845912045655, -0.0002333393516189353)"
      ]
     },
     "execution_count": 22,
     "metadata": {},
     "output_type": "execute_result"
    }
   ],
   "source": [
    "y_tr = np.array(list(map(lambda x: np.array(x), y_train_raw)))\n",
    "y_tr_n = normalize(y_tr, forced_abs=MAX_VALUE, mean=0.0)\n",
    "y_tr_n.min(), y_tr_n.max(), np.mean(y_tr_n)"
   ]
  },
  {
   "cell_type": "code",
   "execution_count": 23,
   "metadata": {},
   "outputs": [
    {
     "data": {
      "text/plain": [
       "(-0.2708517715994751, 0.43766594439527573, -2.5239466909497803e-05)"
      ]
     },
     "execution_count": 23,
     "metadata": {},
     "output_type": "execute_result"
    }
   ],
   "source": [
    "y_te = np.array(list(map(lambda x: np.array(x), y_test_raw)))\n",
    "y_te_n = normalize(y_te, forced_abs=MAX_VALUE, mean=0.0)\n",
    "y_te_n.min(), y_te_n.max(), np.mean(y_te_n)"
   ]
  },
  {
   "cell_type": "code",
   "execution_count": 24,
   "metadata": {},
   "outputs": [],
   "source": [
    "X_tr_n = X_tr_n.astype('float32')\n",
    "X_te_n = X_te_n.astype('float32')\n",
    "y_tr_n = y_tr_n.astype('float32')\n",
    "y_te_n = y_te_n.astype('float32')"
   ]
  },
  {
   "cell_type": "code",
   "execution_count": 25,
   "metadata": {
    "scrolled": false
   },
   "outputs": [
    {
     "data": {
      "text/plain": [
       "<matplotlib.axes._subplots.AxesSubplot at 0x1291136d8>"
      ]
     },
     "execution_count": 25,
     "metadata": {},
     "output_type": "execute_result"
    }
   ],
   "source": [
    "pd.Series(X_tr_n[:800]).plot.line(figsize=(16, 8))"
   ]
  },
  {
   "cell_type": "code",
   "execution_count": 26,
   "metadata": {},
   "outputs": [
    {
     "data": {
      "text/plain": [
       "<matplotlib.axes._subplots.AxesSubplot at 0x129cb67f0>"
      ]
     },
     "execution_count": 26,
     "metadata": {},
     "output_type": "execute_result"
    },
    {
     "data": {
      "image/png": "[encoded data removed]",
      "text/plain": [
       "<Figure size 1152x576 with 1 Axes>"
      ]
     },
     "metadata": {
      "needs_background": "light"
     },
     "output_type": "display_data"
    }
   ],
   "source": [
    "pd.Series(y_tr_n[:800]).plot.line(figsize=(16, 8))"
   ]
  },
  {
   "cell_type": "code",
   "execution_count": 27,
   "metadata": {},
   "outputs": [
    {
     "data": {
      "text/plain": [
       "(-0.1662038, 0.23468734, 1.2222178e-05)"
      ]
     },
     "execution_count": 27,
     "metadata": {},
     "output_type": "execute_result"
    }
   ],
   "source": [
    "\n",
    "X_te_n.min(), X_te_n.max(), np.mean(X_te_n)"
   ]
  },
  {
   "cell_type": "code",
   "execution_count": 28,
   "metadata": {},
   "outputs": [
    {
     "data": {
      "text/plain": [
       "<matplotlib.axes._subplots.AxesSubplot at 0x129d01c88>"
      ]
     },
     "execution_count": 28,
     "metadata": {},
     "output_type": "execute_result"
    },
    {
     "data": {
      "image/png": "[encoded data removed]",
      "text/plain": [
       "<Figure size 1152x576 with 1 Axes>"
      ]
     },
     "metadata": {
      "needs_background": "light"
     },
     "output_type": "display_data"
    }
   ],
   "source": [
    "pd.Series(X_te_n[:800]).plot.line(figsize=(16, 8))"
   ]
  },
  {
   "cell_type": "code",
   "execution_count": 29,
   "metadata": {
    "scrolled": true
   },
   "outputs": [
    {
     "data": {
      "text/plain": [
       "<matplotlib.axes._subplots.AxesSubplot at 0x129d85898>"
      ]
     },
     "execution_count": 29,
     "metadata": {},
     "output_type": "execute_result"
    },
    {
     "data": {
      "image/png": "[encoded data removed]",
      "text/plain": [
       "<Figure size 1152x576 with 1 Axes>"
      ]
     },
     "metadata": {
      "needs_background": "light"
     },
     "output_type": "display_data"
    }
   ],
   "source": [
    "pd.Series(y_te_n[:800]).plot.line(figsize=(16, 8))"
   ]
  },
  {
   "cell_type": "code",
   "execution_count": null,
   "metadata": {},
   "outputs": [],
   "source": []
  },
  {
   "cell_type": "code",
   "execution_count": 30,
   "metadata": {},
   "outputs": [],
   "source": [
    "# appending stats of the whole sample, fading from silence"
   ]
  },
  {
   "cell_type": "code",
   "execution_count": 31,
   "metadata": {},
   "outputs": [],
   "source": [
    "# train_shuffle_index = np.random.shuffle(np.arange(0, len(X_tr_n)))\n",
    "# test_shuffle_index = np.random.shuffle(np.arange(0, len(X_te_n)))\n",
    "\n",
    "# X_tr_f = X_tr_n[train_shuffle_index][0]\n",
    "# y_tr_f = y_tr_n[train_shuffle_index][0]\n",
    "\n",
    "# X_te_f = X_te_n[test_shuffle_index][0]\n",
    "# y_te_f = y_te_n[test_shuffle_index][0]"
   ]
  },
  {
   "cell_type": "markdown",
   "metadata": {},
   "source": [
    "## Making windows"
   ]
  },
  {
   "cell_type": "code",
   "execution_count": 187,
   "metadata": {},
   "outputs": [
    {
     "data": {
      "text/plain": [
       "64"
      ]
     },
     "execution_count": 187,
     "metadata": {},
     "output_type": "execute_result"
    }
   ],
   "source": [
    "# N_WINDOW_POINTS = int(source_clean_fs * 0.02)\n",
    "N_WINDOW_POINTS = 64\n",
    "N_WINDOW_POINTS"
   ]
  },
  {
   "cell_type": "code",
   "execution_count": 230,
   "metadata": {},
   "outputs": [
    {
     "data": {
      "text/plain": [
       "10000"
      ]
     },
     "execution_count": 230,
     "metadata": {},
     "output_type": "execute_result"
    }
   ],
   "source": [
    "N_SAMPLES = 10000\n",
    "N_SAMPLES"
   ]
  },
  {
   "cell_type": "code",
   "execution_count": 231,
   "metadata": {},
   "outputs": [],
   "source": [
    "def make_windows(X, y, n_window_points):\n",
    "    X_index = X.index\n",
    "    index = 0\n",
    "    \n",
    "    res_X = []\n",
    "    res_y = []\n",
    "\n",
    "    for index in range(0, len(X) - n_window_points - 1):\n",
    "        res_X.append(X.iloc[index:(index + n_window_points)])\n",
    "#         res_y.append(y.iloc[index + n_window_points])\n",
    "        res_y.append(y.iloc[index + n_window_points - 1])\n",
    "\n",
    "    return (np.array(res_X), np.array(res_y))"
   ]
  },
  {
   "cell_type": "code",
   "execution_count": 232,
   "metadata": {},
   "outputs": [
    {
     "name": "stdout",
     "output_type": "stream",
     "text": [
      "(10000, array([ 3.05185094e-05, -1.52592547e-04, -3.35703604e-04, -5.49333170e-04,\n",
      "       -7.32444227e-04, -9.15555283e-04, -1.12918485e-03, -1.40385143e-03,\n",
      "       -1.61748100e-03, -1.86162908e-03, -2.10577715e-03, -2.38044374e-03,\n",
      "       -2.59407330e-03, -2.80770287e-03, -3.02133244e-03, -3.23496200e-03,\n",
      "       -3.38755455e-03, -3.54014710e-03, -3.75377666e-03, -3.93688772e-03,\n",
      "       -4.08948027e-03, -4.21155430e-03, -4.30310983e-03, -4.39466536e-03,\n",
      "       -4.45570238e-03, -4.57777642e-03, -4.69985045e-03, -4.79140598e-03,\n",
      "       -4.94399853e-03, -5.06607257e-03, -5.31022064e-03, -5.52385021e-03,\n",
      "       -5.85955381e-03, -6.50044251e-03, -7.14133121e-03, -7.87377544e-03,\n",
      "       -8.54518265e-03, -9.27762687e-03, -9.94903408e-03, -1.06814783e-02,\n",
      "       -1.12918485e-02, -1.18717002e-02, -1.24820704e-02, -1.30619220e-02,\n",
      "       -1.36722922e-02, -1.42216254e-02, -1.47404401e-02, -1.51982177e-02,\n",
      "       -1.55949583e-02, -1.58391073e-02, -1.59306619e-02, -1.58391073e-02,\n",
      "       -1.55949583e-02, -1.51982177e-02, -1.46183660e-02, -1.38859218e-02,\n",
      "       -1.30314035e-02, -1.21158483e-02, -1.11392559e-02, -1.01931822e-02,\n",
      "       -9.24710836e-03, -8.51466414e-03, -7.93481246e-03, -7.59910885e-03],\n",
      "      dtype=float32), -0.054567095)\n",
      "CPU times: user 1.4 s, sys: 17.8 ms, total: 1.42 s\n",
      "Wall time: 1.42 s\n"
     ]
    }
   ],
   "source": [
    "%%time\n",
    "(X_tr_f, y_tr_f) = make_windows(\n",
    "    pd.Series(X_tr_n[:(N_SAMPLES + N_WINDOW_POINTS + 1)]),\n",
    "    pd.Series(y_tr_n[:(N_SAMPLES + N_WINDOW_POINTS + 1)]),\n",
    "    N_WINDOW_POINTS)\n",
    "print((len(X_tr_f), X_tr_f[0], y_tr_f[0]))"
   ]
  },
  {
   "cell_type": "code",
   "execution_count": 233,
   "metadata": {},
   "outputs": [
    {
     "data": {
      "text/plain": [
       "(array([-0.00015259, -0.0003357 , -0.00054933, -0.00073244, -0.00091556,\n",
       "        -0.00112918, -0.00140385, -0.00161748, -0.00186163, -0.00210578,\n",
       "        -0.00238044, -0.00259407, -0.0028077 , -0.00302133, -0.00323496,\n",
       "        -0.00338755, -0.00354015, -0.00375378, -0.00393689, -0.00408948,\n",
       "        -0.00421155, -0.00430311, -0.00439467, -0.0044557 , -0.00457778,\n",
       "        -0.00469985, -0.00479141, -0.004944  , -0.00506607, -0.00531022,\n",
       "        -0.00552385, -0.00585955, -0.00650044, -0.00714133, -0.00787378,\n",
       "        -0.00854518, -0.00927763, -0.00994903, -0.01068148, -0.01129185,\n",
       "        -0.0118717 , -0.01248207, -0.01306192, -0.01367229, -0.01422163,\n",
       "        -0.01474044, -0.01519822, -0.01559496, -0.01583911, -0.01593066,\n",
       "        -0.01583911, -0.01559496, -0.01519822, -0.01461837, -0.01388592,\n",
       "        -0.0130314 , -0.01211585, -0.01113926, -0.01019318, -0.00924711,\n",
       "        -0.00851466, -0.00793481, -0.00759911, -0.00747703], dtype=float32),\n",
       " -0.053773616)"
      ]
     },
     "execution_count": 233,
     "metadata": {},
     "output_type": "execute_result"
    }
   ],
   "source": [
    "X_tr_f[1], y_tr_f[1]"
   ]
  },
  {
   "cell_type": "code",
   "execution_count": 234,
   "metadata": {},
   "outputs": [
    {
     "name": "stdout",
     "output_type": "stream",
     "text": [
      "(10000, array([0.105533  , 0.10586871, 0.1061739 , 0.10635701, 0.1065096 ,\n",
      "       0.10654011, 0.10647908, 0.10635701, 0.1061739 , 0.10592975,\n",
      "       0.105533  , 0.10507523, 0.10455641, 0.10391553, 0.1032136 ,\n",
      "       0.10242012, 0.10153508, 0.10058901, 0.09955138, 0.09839167,\n",
      "       0.09720145, 0.09588916, 0.09454634, 0.09305093, 0.09155553,\n",
      "       0.08990753, 0.08822901, 0.08648945, 0.08465835, 0.0827662 ,\n",
      "       0.08084353, 0.07882931, 0.07672353, 0.07458724, 0.07238991,\n",
      "       0.07016205, 0.06787317, 0.06552324, 0.0631428 , 0.06073184,\n",
      "       0.05829035, 0.05578784, 0.05328532, 0.0507828 , 0.04821924,\n",
      "       0.04565569, 0.04306162, 0.04049806, 0.03790399, 0.03530991,\n",
      "       0.03277688, 0.03021332, 0.02764977, 0.02517777, 0.02264473,\n",
      "       0.02023377, 0.01782281, 0.01544237, 0.01312296, 0.01083407,\n",
      "       0.00860622, 0.00640889, 0.00424207, 0.00219733], dtype=float32), 0.0045777764)\n",
      "CPU times: user 1.4 s, sys: 17.4 ms, total: 1.42 s\n",
      "Wall time: 1.42 s\n"
     ]
    }
   ],
   "source": [
    "%%time\n",
    "(X_te_f, y_te_f) = make_windows(\n",
    "    pd.Series(X_te_n[:(N_SAMPLES + N_WINDOW_POINTS + 1)]),\n",
    "    pd.Series(y_te_n[:(N_SAMPLES + N_WINDOW_POINTS + 1)]),\n",
    "    N_WINDOW_POINTS\n",
    ")\n",
    "print((len(X_te_f), X_te_f[0], y_te_f[0]))"
   ]
  },
  {
   "cell_type": "code",
   "execution_count": 235,
   "metadata": {},
   "outputs": [
    {
     "data": {
      "text/plain": [
       "(array([0.10586871, 0.1061739 , 0.10635701, 0.1065096 , 0.10654011,\n",
       "        0.10647908, 0.10635701, 0.1061739 , 0.10592975, 0.105533  ,\n",
       "        0.10507523, 0.10455641, 0.10391553, 0.1032136 , 0.10242012,\n",
       "        0.10153508, 0.10058901, 0.09955138, 0.09839167, 0.09720145,\n",
       "        0.09588916, 0.09454634, 0.09305093, 0.09155553, 0.08990753,\n",
       "        0.08822901, 0.08648945, 0.08465835, 0.0827662 , 0.08084353,\n",
       "        0.07882931, 0.07672353, 0.07458724, 0.07238991, 0.07016205,\n",
       "        0.06787317, 0.06552324, 0.0631428 , 0.06073184, 0.05829035,\n",
       "        0.05578784, 0.05328532, 0.0507828 , 0.04821924, 0.04565569,\n",
       "        0.04306162, 0.04049806, 0.03790399, 0.03530991, 0.03277688,\n",
       "        0.03021332, 0.02764977, 0.02517777, 0.02264473, 0.02023377,\n",
       "        0.01782281, 0.01544237, 0.01312296, 0.01083407, 0.00860622,\n",
       "        0.00640889, 0.00424207, 0.00219733, 0.00015259], dtype=float32),\n",
       " 0.0003357036)"
      ]
     },
     "execution_count": 235,
     "metadata": {},
     "output_type": "execute_result"
    }
   ],
   "source": [
    "X_te_f[1], y_te_f[1]"
   ]
  },
  {
   "cell_type": "code",
   "execution_count": null,
   "metadata": {},
   "outputs": [],
   "source": []
  },
  {
   "cell_type": "code",
   "execution_count": 236,
   "metadata": {},
   "outputs": [],
   "source": [
    "# import numpy as np\n",
    "\n",
    "# train_shuffle_index = np.arange(0, len(X_tr_f))\n",
    "# np.random.shuffle(train_shuffle_index)\n",
    "\n",
    "# test_shuffle_index = np.arange(0, len(X_te_f))\n",
    "# np.random.shuffle(test_shuffle_index)\n",
    "\n",
    "# X_tr_f = np.array(X_tr_f)[train_shuffle_index]\n",
    "# y_tr_f = np.array(y_tr_f)[train_shuffle_index]\n",
    "\n",
    "# X_te_f = np.array(X_te_f)[test_shuffle_index]\n",
    "# y_te_f = np.array(y_te_f)[test_shuffle_index]\n",
    "\n",
    "# X_tr_f[0], y_tr_f[0], len(X_tr_f), len(y_tr_f), len(X_te_f), len(y_te_f)"
   ]
  },
  {
   "cell_type": "code",
   "execution_count": 237,
   "metadata": {},
   "outputs": [],
   "source": [
    "# X_tr_f = X_tr_n\n",
    "# y_tr_f = y_tr_n\n",
    "\n",
    "# X_te_f = X_te_n\n",
    "# y_te_f = y_te_n"
   ]
  },
  {
   "cell_type": "code",
   "execution_count": 238,
   "metadata": {},
   "outputs": [
    {
     "data": {
      "text/plain": [
       "(10000, 10000, 10000, 10000)"
      ]
     },
     "execution_count": 238,
     "metadata": {},
     "output_type": "execute_result"
    }
   ],
   "source": [
    "(len(X_tr_f), len(y_tr_f), len(X_te_f), len(y_te_f))"
   ]
  },
  {
   "cell_type": "code",
   "execution_count": 239,
   "metadata": {},
   "outputs": [],
   "source": [
    "# list(map(lambda row: row[:N_PEAKS*2], X_tr_f))[0]\n",
    "# # list(map(lambda row: row[:N_PEAKS], X_tr_f))[0]"
   ]
  },
  {
   "cell_type": "code",
   "execution_count": 240,
   "metadata": {
    "scrolled": true
   },
   "outputs": [],
   "source": [
    "# from matplotlib import pyplot as plt\n",
    "\n",
    "# # amp_df = pd.DataFrame(list(map(lambda row: row[N_PEAKS:N_PEAKS*2], X_tr_f)))\n",
    "# amp_df = pd.DataFrame(list(map(lambda row: row, X_tr_f)))\n",
    "\n",
    "# f = plt.figure(figsize=(19, 15))\n",
    "# plt.matshow(amp_df.corr())\n",
    "# plt.xticks(range(amp_df.shape[1]), amp_df.columns, fontsize=14, rotation=45)\n",
    "# plt.yticks(range(amp_df.shape[1]), amp_df.columns, fontsize=14)\n",
    "# cb = plt.colorbar()\n",
    "# cb.ax.tick_params(labelsize=14)\n",
    "# plt.title('Correlation Matrix', fontsize=16);"
   ]
  },
  {
   "cell_type": "code",
   "execution_count": 241,
   "metadata": {
    "scrolled": false
   },
   "outputs": [
    {
     "data": {
      "text/plain": [
       "<matplotlib.axes._subplots.AxesSubplot at 0x14842a6a0>"
      ]
     },
     "execution_count": 241,
     "metadata": {},
     "output_type": "execute_result"
    },
    {
     "data": {
      "image/png": "[encoded data removed]",
      "text/plain": [
       "<Figure size 1152x576 with 1 Axes>"
      ]
     },
     "metadata": {
      "needs_background": "light"
     },
     "output_type": "display_data"
    }
   ],
   "source": [
    "pd.Series(X_tr_f[0]).plot.line(figsize=(16, 8))"
   ]
  },
  {
   "cell_type": "code",
   "execution_count": 242,
   "metadata": {},
   "outputs": [
    {
     "data": {
      "text/plain": [
       "<matplotlib.axes._subplots.AxesSubplot at 0x15061afd0>"
      ]
     },
     "execution_count": 242,
     "metadata": {},
     "output_type": "execute_result"
    },
    {
     "data": {
      "image/png": "[encoded data removed]",
      "text/plain": [
       "<Figure size 1152x576 with 1 Axes>"
      ]
     },
     "metadata": {
      "needs_background": "light"
     },
     "output_type": "display_data"
    }
   ],
   "source": [
    "pd.Series(y_tr_f[:N_WINDOW_POINTS]).plot.line(figsize=(16, 8))"
   ]
  },
  {
   "cell_type": "code",
   "execution_count": 243,
   "metadata": {},
   "outputs": [
    {
     "data": {
      "text/plain": [
       "<matplotlib.axes._subplots.AxesSubplot at 0x15068bf98>"
      ]
     },
     "execution_count": 243,
     "metadata": {},
     "output_type": "execute_result"
    },
    {
     "data": {
      "image/png": "[encoded data removed]",
      "text/plain": [
       "<Figure size 1152x576 with 1 Axes>"
      ]
     },
     "metadata": {
      "needs_background": "light"
     },
     "output_type": "display_data"
    }
   ],
   "source": [
    "pd.Series(X_te_f[0]).plot.line(figsize=(16, 8))"
   ]
  },
  {
   "cell_type": "code",
   "execution_count": 244,
   "metadata": {
    "scrolled": false
   },
   "outputs": [
    {
     "data": {
      "text/plain": [
       "<matplotlib.axes._subplots.AxesSubplot at 0x14b15c438>"
      ]
     },
     "execution_count": 244,
     "metadata": {},
     "output_type": "execute_result"
    },
    {
     "data": {
      "image/png": "[encoded data removed]",
      "text/plain": [
       "<Figure size 1152x576 with 1 Axes>"
      ]
     },
     "metadata": {
      "needs_background": "light"
     },
     "output_type": "display_data"
    }
   ],
   "source": [
    "pd.Series(y_te_f[:N_WINDOW_POINTS]).plot.line(figsize=(16, 8))"
   ]
  },
  {
   "cell_type": "code",
   "execution_count": 245,
   "metadata": {},
   "outputs": [],
   "source": [
    "n_features = 1"
   ]
  },
  {
   "cell_type": "code",
   "execution_count": 246,
   "metadata": {},
   "outputs": [
    {
     "data": {
      "text/plain": [
       "(array([ 3.05185094e-05, -1.52592547e-04, -3.35703604e-04, -5.49333170e-04,\n",
       "        -7.32444227e-04, -9.15555283e-04, -1.12918485e-03, -1.40385143e-03,\n",
       "        -1.61748100e-03, -1.86162908e-03, -2.10577715e-03, -2.38044374e-03,\n",
       "        -2.59407330e-03, -2.80770287e-03, -3.02133244e-03, -3.23496200e-03,\n",
       "        -3.38755455e-03, -3.54014710e-03, -3.75377666e-03, -3.93688772e-03,\n",
       "        -4.08948027e-03, -4.21155430e-03, -4.30310983e-03, -4.39466536e-03,\n",
       "        -4.45570238e-03, -4.57777642e-03, -4.69985045e-03, -4.79140598e-03,\n",
       "        -4.94399853e-03, -5.06607257e-03, -5.31022064e-03, -5.52385021e-03,\n",
       "        -5.85955381e-03, -6.50044251e-03, -7.14133121e-03, -7.87377544e-03,\n",
       "        -8.54518265e-03, -9.27762687e-03, -9.94903408e-03, -1.06814783e-02,\n",
       "        -1.12918485e-02, -1.18717002e-02, -1.24820704e-02, -1.30619220e-02,\n",
       "        -1.36722922e-02, -1.42216254e-02, -1.47404401e-02, -1.51982177e-02,\n",
       "        -1.55949583e-02, -1.58391073e-02, -1.59306619e-02, -1.58391073e-02,\n",
       "        -1.55949583e-02, -1.51982177e-02, -1.46183660e-02, -1.38859218e-02,\n",
       "        -1.30314035e-02, -1.21158483e-02, -1.11392559e-02, -1.01931822e-02,\n",
       "        -9.24710836e-03, -8.51466414e-03, -7.93481246e-03, -7.59910885e-03],\n",
       "       dtype=float32), -0.054567095)"
      ]
     },
     "execution_count": 246,
     "metadata": {},
     "output_type": "execute_result"
    }
   ],
   "source": [
    "(X_tr_f[0], y_tr_f[0])"
   ]
  },
  {
   "cell_type": "code",
   "execution_count": 247,
   "metadata": {},
   "outputs": [
    {
     "data": {
      "text/plain": [
       "array([[ 3.0518509e-05],\n",
       "       [-1.5259255e-04],\n",
       "       [-3.3570360e-04],\n",
       "       [-5.4933317e-04],\n",
       "       [-7.3244423e-04]], dtype=float32)"
      ]
     },
     "execution_count": 247,
     "metadata": {},
     "output_type": "execute_result"
    }
   ],
   "source": [
    "X_tr_s = X_tr_f.reshape(X_tr_f.shape[0], X_tr_f.shape[1], n_features)\n",
    "X_tr_s[0][:5]"
   ]
  },
  {
   "cell_type": "code",
   "execution_count": 248,
   "metadata": {},
   "outputs": [],
   "source": [
    "y_tr_s = y_tr_f"
   ]
  },
  {
   "cell_type": "code",
   "execution_count": 249,
   "metadata": {},
   "outputs": [
    {
     "data": {
      "text/plain": [
       "array([[0.105533  ],\n",
       "       [0.10586871],\n",
       "       [0.1061739 ],\n",
       "       [0.10635701],\n",
       "       [0.1065096 ]], dtype=float32)"
      ]
     },
     "execution_count": 249,
     "metadata": {},
     "output_type": "execute_result"
    }
   ],
   "source": [
    "X_te_s = X_te_f.reshape(X_te_f.shape[0], X_te_f.shape[1], n_features)\n",
    "X_te_s[0][:5]"
   ]
  },
  {
   "cell_type": "code",
   "execution_count": 250,
   "metadata": {},
   "outputs": [],
   "source": [
    "y_te_s = y_te_f"
   ]
  },
  {
   "cell_type": "code",
   "execution_count": 251,
   "metadata": {},
   "outputs": [],
   "source": [
    "# def add_stats(row):\n",
    "#     stats = [\n",
    "#         np.mean(row),\n",
    "#         np.max(row),\n",
    "#         np.min(row),\n",
    "#         np.var(row)\n",
    "#     ]\n",
    "\n",
    "#     return np.array([(list(x) + list(stats)) for x in row])"
   ]
  },
  {
   "cell_type": "code",
   "execution_count": 252,
   "metadata": {},
   "outputs": [],
   "source": [
    "# %%time\n",
    "# X_tr_s = np.array([add_stats(row) for row in X_tr_s])\n",
    "# print(X_tr_s[0][0], X_tr_s[0][1])"
   ]
  },
  {
   "cell_type": "code",
   "execution_count": 253,
   "metadata": {},
   "outputs": [],
   "source": [
    "# %%time\n",
    "# X_te_s = np.array([add_stats(row) for row in X_te_s])\n",
    "# print(X_te_s[0][0], X_te_s[0][1])"
   ]
  },
  {
   "cell_type": "markdown",
   "metadata": {},
   "source": [
    "## Finished data processing!\n",
    "\n",
    "## Moving on to training NN"
   ]
  },
  {
   "cell_type": "code",
   "execution_count": 254,
   "metadata": {},
   "outputs": [],
   "source": [
    "import numpy as np"
   ]
  },
  {
   "cell_type": "code",
   "execution_count": 255,
   "metadata": {},
   "outputs": [],
   "source": [
    "# num_steps=100, 24 hidden states"
   ]
  },
  {
   "cell_type": "code",
   "execution_count": null,
   "metadata": {},
   "outputs": [],
   "source": []
  },
  {
   "cell_type": "code",
   "execution_count": 256,
   "metadata": {},
   "outputs": [],
   "source": [
    "import keras\n",
    "import tensorflow as tf\n",
    "from keras.models import Sequential\n",
    "from keras.layers import Dense, Dropout, Activation, Flatten, LSTM, Reshape, GRU, GaussianNoise\n",
    "from keras.layers import Convolution2D, MaxPooling2D\n",
    "from keras.utils import np_utils\n",
    "from keras.regularizers import L1L2\n",
    "\n",
    "tf.set_random_seed(1234)"
   ]
  },
  {
   "cell_type": "code",
   "execution_count": 257,
   "metadata": {},
   "outputs": [
    {
     "data": {
      "text/plain": [
       "((10000, 64, 1), (10000,), (10000, 64, 1), (10000,))"
      ]
     },
     "execution_count": 257,
     "metadata": {},
     "output_type": "execute_result"
    }
   ],
   "source": [
    "X_tr_s.shape, y_tr_s.shape, X_te_s.shape, y_te_s.shape"
   ]
  },
  {
   "cell_type": "code",
   "execution_count": 258,
   "metadata": {},
   "outputs": [
    {
     "data": {
      "text/plain": [
       "array([-0.05456709, -0.05377362, -0.05502487, ..., -0.07788324,\n",
       "       -0.08398694, -0.08786279], dtype=float32)"
      ]
     },
     "execution_count": 258,
     "metadata": {},
     "output_type": "execute_result"
    }
   ],
   "source": [
    "y_tr_s"
   ]
  },
  {
   "cell_type": "code",
   "execution_count": 259,
   "metadata": {},
   "outputs": [],
   "source": [
    "from keras import backend as K\n",
    "from keras.layers import Layer\n",
    "\n",
    "class DebugLayer(Layer):\n",
    "\n",
    "    def __init__(self, output_dim, **kwargs):\n",
    "        self.output_dim = output_dim\n",
    "        super(DebugLayer, self).__init__(**kwargs)\n",
    "\n",
    "    def build(self, input_shape):\n",
    "        super(DebugLayer, self).build(input_shape)  # Be sure to call this at the end\n",
    "\n",
    "    def call(self, x):\n",
    "        print(x[0])\n",
    "        return x"
   ]
  },
  {
   "cell_type": "code",
   "execution_count": 358,
   "metadata": {},
   "outputs": [],
   "source": [
    "N_UNITS = 20\n",
    "n_features = 1\n",
    "BATCH_SIZE = 1\n",
    "\n",
    "best_params = {\n",
    "  'lr': 0.01,\n",
    "  'n_units': 2,\n",
    "  'batch_size': 1,\n",
    "  'optimizer': keras.optimizers.adam,\n",
    "}\n",
    "\n",
    "\n",
    "model = Sequential()\n",
    "\n",
    "# model.add(LSTM(\n",
    "#      10,\n",
    "#      activation='relu',\n",
    "#      stateful=True,\n",
    "#      reset_after=True,\n",
    "#      input_shape=(n_steps, n_features),\n",
    "#      batch_input_shape=(1, n_steps, 1)\n",
    "# ))\n",
    "\n",
    "def loss(y_true,y_pred):\n",
    "        return K.mean(K.square(y_pred - y_true) + K.square(layer), axis=-1)\n",
    "    \n",
    "# model.add(GRU(\n",
    "#           N_UNITS,\n",
    "#           input_shape=(N_WINDOW_POINTS, n_features),\n",
    "#           # bias_regularizer=L1L2(l1=0.1, l2=0.1),\n",
    "#           stateful=True,\n",
    "#           # reset_after=True,\n",
    "#           # recurrent_activation='sigmoid',\n",
    "#           batch_input_shape=(BATCH_SIZE, N_WINDOW_POINTS, n_features),\n",
    "#           activation='tanh', recurrent_activation='hard_sigmoid',\n",
    "#           # kernel_initializer='zeros',\n",
    "#           bias_initializer='zeros',\n",
    "#           return_sequences=True,\n",
    "# ))\n",
    "\n",
    "model.add(Dense(\n",
    "    N_UNITS,\n",
    "    input_shape=(N_WINDOW_POINTS, n_features),\n",
    "    activation=None,\n",
    "    batch_input_shape=(BATCH_SIZE, N_WINDOW_POINTS, n_features),\n",
    "    # kernel_initializer='zeros',\n",
    "    bias_initializer='zeros',\n",
    "))\n",
    "\n",
    "\n",
    "model.add(GRU(\n",
    "          N_UNITS,\n",
    "          input_shape=(N_WINDOW_POINTS, n_features),\n",
    "          # bias_regularizer=L1L2(l1=0.1, l2=0.1),\n",
    "          stateful=True,\n",
    "          # reset_after=True,\n",
    "          # batch_input_shape=(BATCH_SIZE, N_WINDOW_POINTS, n_features),\n",
    "          activation='tanh', recurrent_activation='hard_sigmoid',\n",
    "          # kernel_initializer='zeros',\n",
    "          bias_initializer='zeros',\n",
    "          # return_sequences=True,\n",
    "))\n",
    "\n",
    "# model.add(GRU(\n",
    "#           N_UNITS,\n",
    "#           input_shape=(N_WINDOW_POINTS, n_features),\n",
    "#           # bias_regularizer=L1L2(l1=0.01, l2=0.01),\n",
    "#           stateful=True,\n",
    "#           # reset_after=True,\n",
    "#           # recurrent_activation='sigmoid',\n",
    "#           batch_input_shape=(BATCH_SIZE, N_WINDOW_POINTS, n_features),\n",
    "#           # return_sequences=True\n",
    "# ))\n",
    "\n",
    "# model.add(GRU(\n",
    "#           N_UNITS,\n",
    "#           input_shape=(N_WINDOW_POINTS, n_features),\n",
    "#           # bias_regularizer=L1L2(l1=0.01, l2=0.01),\n",
    "#           # stateful=True,\n",
    "#           # reset_after=True,\n",
    "#           # recurrent_activation='sigmoid',\n",
    "# ))\n",
    "          # return_sequences=True))\n",
    "\n",
    "# model.add(GaussianNoise(0.01))\n",
    "\n",
    "model.add(Dense(\n",
    "    1,\n",
    "    activation=None,\n",
    "    # kernel_initializer='zeros',\n",
    "    bias_initializer='zeros',\n",
    "))\n",
    "\n",
    "optimizer = keras.optimizers.adam(lr=best_params['lr'])\n",
    "# optimizer = keras.optimizers.SGD(lr=0.1, decay=0.2)\n",
    "\n",
    "model.compile(optimizer=optimizer, loss='mae')"
   ]
  },
  {
   "cell_type": "code",
   "execution_count": 359,
   "metadata": {},
   "outputs": [],
   "source": [
    "import math\n",
    "\n",
    "def predict(model, X_input):\n",
    "    # X_input = np.array(rows).reshape(rows.shape[0], rows.shape[1], n_features)\n",
    "    \n",
    "    return np.array(\n",
    "        model.predict(\n",
    "            X_input[:(math.floor(len(X_input) / BATCH_SIZE) * BATCH_SIZE)], batch_size=BATCH_SIZE\n",
    "        )\n",
    "    ).flatten()"
   ]
  },
  {
   "cell_type": "code",
   "execution_count": 362,
   "metadata": {},
   "outputs": [],
   "source": [
    "from scipy.signal import savgol_filter\n",
    "\n",
    "\n",
    "# TensorBoard callback\n",
    "# tensorboard_cb = keras.callbacks.TensorBoard(\n",
    "#     log_dir='./logs',\n",
    "#     batch_size=BATCH_SIZE,\n",
    "#     # histogram_freq='batch',\n",
    "#     write_graph=True,\n",
    "#     write_grads=True,\n",
    "#     write_images=True\n",
    "# )\n",
    "\n",
    "class TestModel(keras.callbacks.Callback):\n",
    "    def __init__(self, model, I=200):\n",
    "        self.model = model\n",
    "        self.I = I\n",
    "        \n",
    "    def on_train_begin(self, batch):\n",
    "#         (fig, ax) = plt.subplots(figsize=(12, 8))\n",
    "        (fig, ax) = plt.subplots()\n",
    "        self.fig = fig\n",
    "        self.ax = ax\n",
    "        \n",
    "        feat = pd.Series((np.array(list(map(lambda row: row[-1][0], X_tr_s[:I])))))\n",
    "\n",
    "        feat_data, =  ax.plot(feat.values, label='feature')\n",
    "\n",
    "        targ = (pd.Series((y_tr_s[:I])))\n",
    "\n",
    "        pred = pd.Series(np.zeros(I))\n",
    "        # pred = (pred * 2.2) + 0.001\n",
    "        pred = pred + 0.001\n",
    "\n",
    "        zeros = pd.Series(np.zeros(I))\n",
    "        zeros.plot.line(ax=ax, label='0')\n",
    "\n",
    "        targ_data, = ax.plot(targ.values, label='target')\n",
    "\n",
    "        pred_data, = ax.plot(pred.values, label='predicted')\n",
    "        # pd.Series(savgol_filter(pred, 5, 3)).plot.line(ax=ax, label='savgol(predicted)')\n",
    "        \n",
    "        self.feat_data = feat_data\n",
    "        self.targ_data = targ_data\n",
    "        self.pred_data = pred_data\n",
    "        \n",
    "        ax.legend(loc=\"upper right\")\n",
    "        ax.set_xlabel('index')\n",
    "        ax.set_ylabel('value')\n",
    "        \n",
    "        plt.show()\n",
    "        fig.canvas.draw()\n",
    "        \n",
    "        \n",
    "    def on_epoch_end(self, batch, logs={}):\n",
    "        model = self.model\n",
    "        \n",
    "        fig = self.fig\n",
    "        ax = self.ax\n",
    "        \n",
    "        I = 200\n",
    "\n",
    "        feat = pd.Series((np.array(list(map(lambda row: row[-1][0], X_tr_s[:I])))))\n",
    "\n",
    "        self.feat_data.set_ydata(feat.values)\n",
    "\n",
    "        targ = (pd.Series((y_tr_s[:I])))\n",
    "\n",
    "        pred = pd.Series(predict(model, X_tr_s[:I]))\n",
    "        # pred = (pred * 2.2) + 0.001\n",
    "        pred = pred + 0.001\n",
    "\n",
    "        zeros = pd.Series(np.zeros(I))\n",
    "        zeros.plot.line(ax=ax, label='0')\n",
    "\n",
    "        self.targ_data.set_ydata(targ.values)\n",
    "\n",
    "        self.pred_data.set_ydata(pred.values)\n",
    "        # pd.Series(savgol_filter(pred, 5, 3)).plot.line(ax=ax, label='savgol(predicted)')\n",
    "\n",
    "        # pd.Series(normalize(np.array(list(map(lambda w: w[-1], X_tr_f[:I]))))).plot.line(ax=ax, label='feature')\n",
    "\n",
    "        fig.canvas.draw()\n",
    "\n",
    "\n",
    "test_model_cb = TestModel(model)\n",
    "\n",
    "# Callback to display the target and prediciton\n",
    "# test_model_cb = keras.callbacks.LambdaCallback(on_epoch_end=testmodel)"
   ]
  },
  {
   "cell_type": "code",
   "execution_count": null,
   "metadata": {
    "scrolled": false
   },
   "outputs": [
    {
     "name": "stdout",
     "output_type": "stream",
     "text": [
      "Train on 800 samples, validate on 200 samples\n"
     ]
    },
    {
     "data": {
      "application/javascript": [
       "/* Put everything inside the global mpl namespace */\n",
       "window.mpl = {};\n",
       "\n",
       "\n",
       "mpl.get_websocket_type = function() {\n",
       "    if (typeof(WebSocket) !== 'undefined') {\n",
       "        return WebSocket;\n",
       "    } else if (typeof(MozWebSocket) !== 'undefined') {\n",
       "        return MozWebSocket;\n",
       "    } else {\n",
       "        alert('Your browser does not have WebSocket support.' +\n",
       "              'Please try Chrome, Safari or Firefox ≥ 6. ' +\n",
       "              'Firefox 4 and 5 are also supported but you ' +\n",
       "              'have to enable WebSockets in about:config.');\n",
       "    };\n",
       "}\n",
       "\n",
       "mpl.figure = function(figure_id, websocket, ondownload, parent_element) {\n",
       "    this.id = figure_id;\n",
       "\n",
       "    this.ws = websocket;\n",
       "\n",
       "    this.supports_binary = (this.ws.binaryType != undefined);\n",
       "\n",
       "    if (!this.supports_binary) {\n",
       "        var warnings = document.getElementById(\"mpl-warnings\");\n",
       "        if (warnings) {\n",
       "            warnings.style.display = 'block';\n",
       "            warnings.textContent = (\n",
       "                \"This browser does not support binary websocket messages. \" +\n",
       "                    \"Performance may be slow.\");\n",
       "        }\n",
       "    }\n",
       "\n",
       "    this.imageObj = new Image();\n",
       "\n",
       "    this.context = undefined;\n",
       "    this.message = undefined;\n",
       "    this.canvas = undefined;\n",
       "    this.rubberband_canvas = undefined;\n",
       "    this.rubberband_context = undefined;\n",
       "    this.format_dropdown = undefined;\n",
       "\n",
       "    this.image_mode = 'full';\n",
       "\n",
       "    this.root = $('<div/>');\n",
       "    this._root_extra_style(this.root)\n",
       "    this.root.attr('style', 'display: inline-block');\n",
       "\n",
       "    $(parent_element).append(this.root);\n",
       "\n",
       "    this._init_header(this);\n",
       "    this._init_canvas(this);\n",
       "    this._init_toolbar(this);\n",
       "\n",
       "    var fig = this;\n",
       "\n",
       "    this.waiting = false;\n",
       "\n",
       "    this.ws.onopen =  function () {\n",
       "            fig.send_message(\"supports_binary\", {value: fig.supports_binary});\n",
       "            fig.send_message(\"send_image_mode\", {});\n",
       "            if (mpl.ratio != 1) {\n",
       "                fig.send_message(\"set_dpi_ratio\", {'dpi_ratio': mpl.ratio});\n",
       "            }\n",
       "            fig.send_message(\"refresh\", {});\n",
       "        }\n",
       "\n",
       "    this.imageObj.onload = function() {\n",
       "            if (fig.image_mode == 'full') {\n",
       "                // Full images could contain transparency (where diff images\n",
       "                // almost always do), so we need to clear the canvas so that\n",
       "                // there is no ghosting.\n",
       "                fig.context.clearRect(0, 0, fig.canvas.width, fig.canvas.height);\n",
       "            }\n",
       "            fig.context.drawImage(fig.imageObj, 0, 0);\n",
       "        };\n",
       "\n",
       "    this.imageObj.onunload = function() {\n",
       "        fig.ws.close();\n",
       "    }\n",
       "\n",
       "    this.ws.onmessage = this._make_on_message_function(this);\n",
       "\n",
       "    this.ondownload = ondownload;\n",
       "}\n",
       "\n",
       "mpl.figure.prototype._init_header = function() {\n",
       "    var titlebar = $(\n",
       "        '<div class=\"ui-dialog-titlebar ui-widget-header ui-corner-all ' +\n",
       "        'ui-helper-clearfix\"/>');\n",
       "    var titletext = $(\n",
       "        '<div class=\"ui-dialog-title\" style=\"width: 100%; ' +\n",
       "        'text-align: center; padding: 3px;\"/>');\n",
       "    titlebar.append(titletext)\n",
       "    this.root.append(titlebar);\n",
       "    this.header = titletext[0];\n",
       "}\n",
       "\n",
       "\n",
       "\n",
       "mpl.figure.prototype._canvas_extra_style = function(canvas_div) {\n",
       "\n",
       "}\n",
       "\n",
       "\n",
       "mpl.figure.prototype._root_extra_style = function(canvas_div) {\n",
       "\n",
       "}\n",
       "\n",
       "mpl.figure.prototype._init_canvas = function() {\n",
       "    var fig = this;\n",
       "\n",
       "    var canvas_div = $('<div/>');\n",
       "\n",
       "    canvas_div.attr('style', 'position: relative; clear: both; outline: 0');\n",
       "\n",
       "    function canvas_keyboard_event(event) {\n",
       "        return fig.key_event(event, event['data']);\n",
       "    }\n",
       "\n",
       "    canvas_div.keydown('key_press', canvas_keyboard_event);\n",
       "    canvas_div.keyup('key_release', canvas_keyboard_event);\n",
       "    this.canvas_div = canvas_div\n",
       "    this._canvas_extra_style(canvas_div)\n",
       "    this.root.append(canvas_div);\n",
       "\n",
       "    var canvas = $('<canvas/>');\n",
       "    canvas.addClass('mpl-canvas');\n",
       "    canvas.attr('style', \"left: 0; top: 0; z-index: 0; outline: 0\")\n",
       "\n",
       "    this.canvas = canvas[0];\n",
       "    this.context = canvas[0].getContext(\"2d\");\n",
       "\n",
       "    var backingStore = this.context.backingStorePixelRatio ||\n",
       "\tthis.context.webkitBackingStorePixelRatio ||\n",
       "\tthis.context.mozBackingStorePixelRatio ||\n",
       "\tthis.context.msBackingStorePixelRatio ||\n",
       "\tthis.context.oBackingStorePixelRatio ||\n",
       "\tthis.context.backingStorePixelRatio || 1;\n",
       "\n",
       "    mpl.ratio = (window.devicePixelRatio || 1) / backingStore;\n",
       "\n",
       "    var rubberband = $('<canvas/>');\n",
       "    rubberband.attr('style', \"position: absolute; left: 0; top: 0; z-index: 1;\")\n",
       "\n",
       "    var pass_mouse_events = true;\n",
       "\n",
       "    canvas_div.resizable({\n",
       "        start: function(event, ui) {\n",
       "            pass_mouse_events = false;\n",
       "        },\n",
       "        resize: function(event, ui) {\n",
       "            fig.request_resize(ui.size.width, ui.size.height);\n",
       "        },\n",
       "        stop: function(event, ui) {\n",
       "            pass_mouse_events = true;\n",
       "            fig.request_resize(ui.size.width, ui.size.height);\n",
       "        },\n",
       "    });\n",
       "\n",
       "    function mouse_event_fn(event) {\n",
       "        if (pass_mouse_events)\n",
       "            return fig.mouse_event(event, event['data']);\n",
       "    }\n",
       "\n",
       "    rubberband.mousedown('button_press', mouse_event_fn);\n",
       "    rubberband.mouseup('button_release', mouse_event_fn);\n",
       "    // Throttle sequential mouse events to 1 every 20ms.\n",
       "    rubberband.mousemove('motion_notify', mouse_event_fn);\n",
       "\n",
       "    rubberband.mouseenter('figure_enter', mouse_event_fn);\n",
       "    rubberband.mouseleave('figure_leave', mouse_event_fn);\n",
       "\n",
       "    canvas_div.on(\"wheel\", function (event) {\n",
       "        event = event.originalEvent;\n",
       "        event['data'] = 'scroll'\n",
       "        if (event.deltaY < 0) {\n",
       "            event.step = 1;\n",
       "        } else {\n",
       "            event.step = -1;\n",
       "        }\n",
       "        mouse_event_fn(event);\n",
       "    });\n",
       "\n",
       "    canvas_div.append(canvas);\n",
       "    canvas_div.append(rubberband);\n",
       "\n",
       "    this.rubberband = rubberband;\n",
       "    this.rubberband_canvas = rubberband[0];\n",
       "    this.rubberband_context = rubberband[0].getContext(\"2d\");\n",
       "    this.rubberband_context.strokeStyle = \"#000000\";\n",
       "\n",
       "    this._resize_canvas = function(width, height) {\n",
       "        // Keep the size of the canvas, canvas container, and rubber band\n",
       "        // canvas in synch.\n",
       "        canvas_div.css('width', width)\n",
       "        canvas_div.css('height', height)\n",
       "\n",
       "        canvas.attr('width', width * mpl.ratio);\n",
       "        canvas.attr('height', height * mpl.ratio);\n",
       "        canvas.attr('style', 'width: ' + width + 'px; height: ' + height + 'px;');\n",
       "\n",
       "        rubberband.attr('width', width);\n",
       "        rubberband.attr('height', height);\n",
       "    }\n",
       "\n",
       "    // Set the figure to an initial 600x600px, this will subsequently be updated\n",
       "    // upon first draw.\n",
       "    this._resize_canvas(600, 600);\n",
       "\n",
       "    // Disable right mouse context menu.\n",
       "    $(this.rubberband_canvas).bind(\"contextmenu\",function(e){\n",
       "        return false;\n",
       "    });\n",
       "\n",
       "    function set_focus () {\n",
       "        canvas.focus();\n",
       "        canvas_div.focus();\n",
       "    }\n",
       "\n",
       "    window.setTimeout(set_focus, 100);\n",
       "}\n",
       "\n",
       "mpl.figure.prototype._init_toolbar = function() {\n",
       "    var fig = this;\n",
       "\n",
       "    var nav_element = $('<div/>')\n",
       "    nav_element.attr('style', 'width: 100%');\n",
       "    this.root.append(nav_element);\n",
       "\n",
       "    // Define a callback function for later on.\n",
       "    function toolbar_event(event) {\n",
       "        return fig.toolbar_button_onclick(event['data']);\n",
       "    }\n",
       "    function toolbar_mouse_event(event) {\n",
       "        return fig.toolbar_button_onmouseover(event['data']);\n",
       "    }\n",
       "\n",
       "    for(var toolbar_ind in mpl.toolbar_items) {\n",
       "        var name = mpl.toolbar_items[toolbar_ind][0];\n",
       "        var tooltip = mpl.toolbar_items[toolbar_ind][1];\n",
       "        var image = mpl.toolbar_items[toolbar_ind][2];\n",
       "        var method_name = mpl.toolbar_items[toolbar_ind][3];\n",
       "\n",
       "        if (!name) {\n",
       "            // put a spacer in here.\n",
       "            continue;\n",
       "        }\n",
       "        var button = $('<button/>');\n",
       "        button.addClass('ui-button ui-widget ui-state-default ui-corner-all ' +\n",
       "                        'ui-button-icon-only');\n",
       "        button.attr('role', 'button');\n",
       "        button.attr('aria-disabled', 'false');\n",
       "        button.click(method_name, toolbar_event);\n",
       "        button.mouseover(tooltip, toolbar_mouse_event);\n",
       "\n",
       "        var icon_img = $('<span/>');\n",
       "        icon_img.addClass('ui-button-icon-primary ui-icon');\n",
       "        icon_img.addClass(image);\n",
       "        icon_img.addClass('ui-corner-all');\n",
       "\n",
       "        var tooltip_span = $('<span/>');\n",
       "        tooltip_span.addClass('ui-button-text');\n",
       "        tooltip_span.html(tooltip);\n",
       "\n",
       "        button.append(icon_img);\n",
       "        button.append(tooltip_span);\n",
       "\n",
       "        nav_element.append(button);\n",
       "    }\n",
       "\n",
       "    var fmt_picker_span = $('<span/>');\n",
       "\n",
       "    var fmt_picker = $('<select/>');\n",
       "    fmt_picker.addClass('mpl-toolbar-option ui-widget ui-widget-content');\n",
       "    fmt_picker_span.append(fmt_picker);\n",
       "    nav_element.append(fmt_picker_span);\n",
       "    this.format_dropdown = fmt_picker[0];\n",
       "\n",
       "    for (var ind in mpl.extensions) {\n",
       "        var fmt = mpl.extensions[ind];\n",
       "        var option = $(\n",
       "            '<option/>', {selected: fmt === mpl.default_extension}).html(fmt);\n",
       "        fmt_picker.append(option)\n",
       "    }\n",
       "\n",
       "    // Add hover states to the ui-buttons\n",
       "    $( \".ui-button\" ).hover(\n",
       "        function() { $(this).addClass(\"ui-state-hover\");},\n",
       "        function() { $(this).removeClass(\"ui-state-hover\");}\n",
       "    );\n",
       "\n",
       "    var status_bar = $('<span class=\"mpl-message\"/>');\n",
       "    nav_element.append(status_bar);\n",
       "    this.message = status_bar[0];\n",
       "}\n",
       "\n",
       "mpl.figure.prototype.request_resize = function(x_pixels, y_pixels) {\n",
       "    // Request matplotlib to resize the figure. Matplotlib will then trigger a resize in the client,\n",
       "    // which will in turn request a refresh of the image.\n",
       "    this.send_message('resize', {'width': x_pixels, 'height': y_pixels});\n",
       "}\n",
       "\n",
       "mpl.figure.prototype.send_message = function(type, properties) {\n",
       "    properties['type'] = type;\n",
       "    properties['figure_id'] = this.id;\n",
       "    this.ws.send(JSON.stringify(properties));\n",
       "}\n",
       "\n",
       "mpl.figure.prototype.send_draw_message = function() {\n",
       "    if (!this.waiting) {\n",
       "        this.waiting = true;\n",
       "        this.ws.send(JSON.stringify({type: \"draw\", figure_id: this.id}));\n",
       "    }\n",
       "}\n",
       "\n",
       "\n",
       "mpl.figure.prototype.handle_save = function(fig, msg) {\n",
       "    var format_dropdown = fig.format_dropdown;\n",
       "    var format = format_dropdown.options[format_dropdown.selectedIndex].value;\n",
       "    fig.ondownload(fig, format);\n",
       "}\n",
       "\n",
       "\n",
       "mpl.figure.prototype.handle_resize = function(fig, msg) {\n",
       "    var size = msg['size'];\n",
       "    if (size[0] != fig.canvas.width || size[1] != fig.canvas.height) {\n",
       "        fig._resize_canvas(size[0], size[1]);\n",
       "        fig.send_message(\"refresh\", {});\n",
       "    };\n",
       "}\n",
       "\n",
       "mpl.figure.prototype.handle_rubberband = function(fig, msg) {\n",
       "    var x0 = msg['x0'] / mpl.ratio;\n",
       "    var y0 = (fig.canvas.height - msg['y0']) / mpl.ratio;\n",
       "    var x1 = msg['x1'] / mpl.ratio;\n",
       "    var y1 = (fig.canvas.height - msg['y1']) / mpl.ratio;\n",
       "    x0 = Math.floor(x0) + 0.5;\n",
       "    y0 = Math.floor(y0) + 0.5;\n",
       "    x1 = Math.floor(x1) + 0.5;\n",
       "    y1 = Math.floor(y1) + 0.5;\n",
       "    var min_x = Math.min(x0, x1);\n",
       "    var min_y = Math.min(y0, y1);\n",
       "    var width = Math.abs(x1 - x0);\n",
       "    var height = Math.abs(y1 - y0);\n",
       "\n",
       "    fig.rubberband_context.clearRect(\n",
       "        0, 0, fig.canvas.width, fig.canvas.height);\n",
       "\n",
       "    fig.rubberband_context.strokeRect(min_x, min_y, width, height);\n",
       "}\n",
       "\n",
       "mpl.figure.prototype.handle_figure_label = function(fig, msg) {\n",
       "    // Updates the figure title.\n",
       "    fig.header.textContent = msg['label'];\n",
       "}\n",
       "\n",
       "mpl.figure.prototype.handle_cursor = function(fig, msg) {\n",
       "    var cursor = msg['cursor'];\n",
       "    switch(cursor)\n",
       "    {\n",
       "    case 0:\n",
       "        cursor = 'pointer';\n",
       "        break;\n",
       "    case 1:\n",
       "        cursor = 'default';\n",
       "        break;\n",
       "    case 2:\n",
       "        cursor = 'crosshair';\n",
       "        break;\n",
       "    case 3:\n",
       "        cursor = 'move';\n",
       "        break;\n",
       "    }\n",
       "    fig.rubberband_canvas.style.cursor = cursor;\n",
       "}\n",
       "\n",
       "mpl.figure.prototype.handle_message = function(fig, msg) {\n",
       "    fig.message.textContent = msg['message'];\n",
       "}\n",
       "\n",
       "mpl.figure.prototype.handle_draw = function(fig, msg) {\n",
       "    // Request the server to send over a new figure.\n",
       "    fig.send_draw_message();\n",
       "}\n",
       "\n",
       "mpl.figure.prototype.handle_image_mode = function(fig, msg) {\n",
       "    fig.image_mode = msg['mode'];\n",
       "}\n",
       "\n",
       "mpl.figure.prototype.updated_canvas_event = function() {\n",
       "    // Called whenever the canvas gets updated.\n",
       "    this.send_message(\"ack\", {});\n",
       "}\n",
       "\n",
       "// A function to construct a web socket function for onmessage handling.\n",
       "// Called in the figure constructor.\n",
       "mpl.figure.prototype._make_on_message_function = function(fig) {\n",
       "    return function socket_on_message(evt) {\n",
       "        if (evt.data instanceof Blob) {\n",
       "            /* FIXME: We get \"Resource interpreted as Image but\n",
       "             * transferred with MIME type text/plain:\" errors on\n",
       "             * Chrome.  But how to set the MIME type?  It doesn't seem\n",
       "             * to be part of the websocket stream */\n",
       "            evt.data.type = \"image/png\";\n",
       "\n",
       "            /* Free the memory for the previous frames */\n",
       "            if (fig.imageObj.src) {\n",
       "                (window.URL || window.webkitURL).revokeObjectURL(\n",
       "                    fig.imageObj.src);\n",
       "            }\n",
       "\n",
       "            fig.imageObj.src = (window.URL || window.webkitURL).createObjectURL(\n",
       "                evt.data);\n",
       "            fig.updated_canvas_event();\n",
       "            fig.waiting = false;\n",
       "            return;\n",
       "        }\n",
       "        else if (typeof evt.data === 'string' && evt.data.slice(0, 21) == \"data:image/png;base64\") {\n",
       "            fig.imageObj.src = evt.data;\n",
       "            fig.updated_canvas_event();\n",
       "            fig.waiting = false;\n",
       "            return;\n",
       "        }\n",
       "\n",
       "        var msg = JSON.parse(evt.data);\n",
       "        var msg_type = msg['type'];\n",
       "\n",
       "        // Call the  \"handle_{type}\" callback, which takes\n",
       "        // the figure and JSON message as its only arguments.\n",
       "        try {\n",
       "            var callback = fig[\"handle_\" + msg_type];\n",
       "        } catch (e) {\n",
       "            console.log(\"No handler for the '\" + msg_type + \"' message type: \", msg);\n",
       "            return;\n",
       "        }\n",
       "\n",
       "        if (callback) {\n",
       "            try {\n",
       "                // console.log(\"Handling '\" + msg_type + \"' message: \", msg);\n",
       "                callback(fig, msg);\n",
       "            } catch (e) {\n",
       "                console.log(\"Exception inside the 'handler_\" + msg_type + \"' callback:\", e, e.stack, msg);\n",
       "            }\n",
       "        }\n",
       "    };\n",
       "}\n",
       "\n",
       "// from http://stackoverflow.com/questions/1114465/getting-mouse-location-in-canvas\n",
       "mpl.findpos = function(e) {\n",
       "    //this section is from http://www.quirksmode.org/js/events_properties.html\n",
       "    var targ;\n",
       "    if (!e)\n",
       "        e = window.event;\n",
       "    if (e.target)\n",
       "        targ = e.target;\n",
       "    else if (e.srcElement)\n",
       "        targ = e.srcElement;\n",
       "    if (targ.nodeType == 3) // defeat Safari bug\n",
       "        targ = targ.parentNode;\n",
       "\n",
       "    // jQuery normalizes the pageX and pageY\n",
       "    // pageX,Y are the mouse positions relative to the document\n",
       "    // offset() returns the position of the element relative to the document\n",
       "    var x = e.pageX - $(targ).offset().left;\n",
       "    var y = e.pageY - $(targ).offset().top;\n",
       "\n",
       "    return {\"x\": x, \"y\": y};\n",
       "};\n",
       "\n",
       "/*\n",
       " * return a copy of an object with only non-object keys\n",
       " * we need this to avoid circular references\n",
       " * http://stackoverflow.com/a/24161582/3208463\n",
       " */\n",
       "function simpleKeys (original) {\n",
       "  return Object.keys(original).reduce(function (obj, key) {\n",
       "    if (typeof original[key] !== 'object')\n",
       "        obj[key] = original[key]\n",
       "    return obj;\n",
       "  }, {});\n",
       "}\n",
       "\n",
       "mpl.figure.prototype.mouse_event = function(event, name) {\n",
       "    var canvas_pos = mpl.findpos(event)\n",
       "\n",
       "    if (name === 'button_press')\n",
       "    {\n",
       "        this.canvas.focus();\n",
       "        this.canvas_div.focus();\n",
       "    }\n",
       "\n",
       "    var x = canvas_pos.x * mpl.ratio;\n",
       "    var y = canvas_pos.y * mpl.ratio;\n",
       "\n",
       "    this.send_message(name, {x: x, y: y, button: event.button,\n",
       "                             step: event.step,\n",
       "                             guiEvent: simpleKeys(event)});\n",
       "\n",
       "    /* This prevents the web browser from automatically changing to\n",
       "     * the text insertion cursor when the button is pressed.  We want\n",
       "     * to control all of the cursor setting manually through the\n",
       "     * 'cursor' event from matplotlib */\n",
       "    event.preventDefault();\n",
       "    return false;\n",
       "}\n",
       "\n",
       "mpl.figure.prototype._key_event_extra = function(event, name) {\n",
       "    // Handle any extra behaviour associated with a key event\n",
       "}\n",
       "\n",
       "mpl.figure.prototype.key_event = function(event, name) {\n",
       "\n",
       "    // Prevent repeat events\n",
       "    if (name == 'key_press')\n",
       "    {\n",
       "        if (event.which === this._key)\n",
       "            return;\n",
       "        else\n",
       "            this._key = event.which;\n",
       "    }\n",
       "    if (name == 'key_release')\n",
       "        this._key = null;\n",
       "\n",
       "    var value = '';\n",
       "    if (event.ctrlKey && event.which != 17)\n",
       "        value += \"ctrl+\";\n",
       "    if (event.altKey && event.which != 18)\n",
       "        value += \"alt+\";\n",
       "    if (event.shiftKey && event.which != 16)\n",
       "        value += \"shift+\";\n",
       "\n",
       "    value += 'k';\n",
       "    value += event.which.toString();\n",
       "\n",
       "    this._key_event_extra(event, name);\n",
       "\n",
       "    this.send_message(name, {key: value,\n",
       "                             guiEvent: simpleKeys(event)});\n",
       "    return false;\n",
       "}\n",
       "\n",
       "mpl.figure.prototype.toolbar_button_onclick = function(name) {\n",
       "    if (name == 'download') {\n",
       "        this.handle_save(this, null);\n",
       "    } else {\n",
       "        this.send_message(\"toolbar_button\", {name: name});\n",
       "    }\n",
       "};\n",
       "\n",
       "mpl.figure.prototype.toolbar_button_onmouseover = function(tooltip) {\n",
       "    this.message.textContent = tooltip;\n",
       "};\n",
       "mpl.toolbar_items = [[\"Home\", \"Reset original view\", \"fa fa-home icon-home\", \"home\"], [\"Back\", \"Back to  previous view\", \"fa fa-arrow-left icon-arrow-left\", \"back\"], [\"Forward\", \"Forward to next view\", \"fa fa-arrow-right icon-arrow-right\", \"forward\"], [\"\", \"\", \"\", \"\"], [\"Pan\", \"Pan axes with left mouse, zoom with right\", \"fa fa-arrows icon-move\", \"pan\"], [\"Zoom\", \"Zoom to rectangle\", \"fa fa-square-o icon-check-empty\", \"zoom\"], [\"\", \"\", \"\", \"\"], [\"Download\", \"Download plot\", \"fa fa-floppy-o icon-save\", \"download\"]];\n",
       "\n",
       "mpl.extensions = [\"eps\", \"jpeg\", \"pdf\", \"png\", \"ps\", \"raw\", \"svg\", \"tif\"];\n",
       "\n",
       "mpl.default_extension = \"png\";var comm_websocket_adapter = function(comm) {\n",
       "    // Create a \"websocket\"-like object which calls the given IPython comm\n",
       "    // object with the appropriate methods. Currently this is a non binary\n",
       "    // socket, so there is still some room for performance tuning.\n",
       "    var ws = {};\n",
       "\n",
       "    ws.close = function() {\n",
       "        comm.close()\n",
       "    };\n",
       "    ws.send = function(m) {\n",
       "        //console.log('sending', m);\n",
       "        comm.send(m);\n",
       "    };\n",
       "    // Register the callback with on_msg.\n",
       "    comm.on_msg(function(msg) {\n",
       "        //console.log('receiving', msg['content']['data'], msg);\n",
       "        // Pass the mpl event to the overridden (by mpl) onmessage function.\n",
       "        ws.onmessage(msg['content']['data'])\n",
       "    });\n",
       "    return ws;\n",
       "}\n",
       "\n",
       "mpl.mpl_figure_comm = function(comm, msg) {\n",
       "    // This is the function which gets called when the mpl process\n",
       "    // starts-up an IPython Comm through the \"matplotlib\" channel.\n",
       "\n",
       "    var id = msg.content.data.id;\n",
       "    // Get hold of the div created by the display call when the Comm\n",
       "    // socket was opened in Python.\n",
       "    var element = $(\"#\" + id);\n",
       "    var ws_proxy = comm_websocket_adapter(comm)\n",
       "\n",
       "    function ondownload(figure, format) {\n",
       "        window.open(figure.imageObj.src);\n",
       "    }\n",
       "\n",
       "    var fig = new mpl.figure(id, ws_proxy,\n",
       "                           ondownload,\n",
       "                           element.get(0));\n",
       "\n",
       "    // Call onopen now - mpl needs it, as it is assuming we've passed it a real\n",
       "    // web socket which is closed, not our websocket->open comm proxy.\n",
       "    ws_proxy.onopen();\n",
       "\n",
       "    fig.parent_element = element.get(0);\n",
       "    fig.cell_info = mpl.find_output_cell(\"<div id='\" + id + \"'></div>\");\n",
       "    if (!fig.cell_info) {\n",
       "        console.error(\"Failed to find cell for figure\", id, fig);\n",
       "        return;\n",
       "    }\n",
       "\n",
       "    var output_index = fig.cell_info[2]\n",
       "    var cell = fig.cell_info[0];\n",
       "\n",
       "};\n",
       "\n",
       "mpl.figure.prototype.handle_close = function(fig, msg) {\n",
       "    var width = fig.canvas.width/mpl.ratio\n",
       "    fig.root.unbind('remove')\n",
       "\n",
       "    // Update the output cell to use the data from the current canvas.\n",
       "    fig.push_to_output();\n",
       "    var dataURL = fig.canvas.toDataURL();\n",
       "    // Re-enable the keyboard manager in IPython - without this line, in FF,\n",
       "    // the notebook keyboard shortcuts fail.\n",
       "    IPython.keyboard_manager.enable()\n",
       "    $(fig.parent_element).html('<img src=\"' + dataURL + '\" width=\"' + width + '\">');\n",
       "    fig.close_ws(fig, msg);\n",
       "}\n",
       "\n",
       "mpl.figure.prototype.close_ws = function(fig, msg){\n",
       "    fig.send_message('closing', msg);\n",
       "    // fig.ws.close()\n",
       "}\n",
       "\n",
       "mpl.figure.prototype.push_to_output = function(remove_interactive) {\n",
       "    // Turn the data on the canvas into data in the output cell.\n",
       "    var width = this.canvas.width/mpl.ratio\n",
       "    var dataURL = this.canvas.toDataURL();\n",
       "    this.cell_info[1]['text/html'] = '<img src=\"' + dataURL + '\" width=\"' + width + '\">';\n",
       "}\n",
       "\n",
       "mpl.figure.prototype.updated_canvas_event = function() {\n",
       "    // Tell IPython that the notebook contents must change.\n",
       "    IPython.notebook.set_dirty(true);\n",
       "    this.send_message(\"ack\", {});\n",
       "    var fig = this;\n",
       "    // Wait a second, then push the new image to the DOM so\n",
       "    // that it is saved nicely (might be nice to debounce this).\n",
       "    setTimeout(function () { fig.push_to_output() }, 1000);\n",
       "}\n",
       "\n",
       "mpl.figure.prototype._init_toolbar = function() {\n",
       "    var fig = this;\n",
       "\n",
       "    var nav_element = $('<div/>')\n",
       "    nav_element.attr('style', 'width: 100%');\n",
       "    this.root.append(nav_element);\n",
       "\n",
       "    // Define a callback function for later on.\n",
       "    function toolbar_event(event) {\n",
       "        return fig.toolbar_button_onclick(event['data']);\n",
       "    }\n",
       "    function toolbar_mouse_event(event) {\n",
       "        return fig.toolbar_button_onmouseover(event['data']);\n",
       "    }\n",
       "\n",
       "    for(var toolbar_ind in mpl.toolbar_items){\n",
       "        var name = mpl.toolbar_items[toolbar_ind][0];\n",
       "        var tooltip = mpl.toolbar_items[toolbar_ind][1];\n",
       "        var image = mpl.toolbar_items[toolbar_ind][2];\n",
       "        var method_name = mpl.toolbar_items[toolbar_ind][3];\n",
       "\n",
       "        if (!name) { continue; };\n",
       "\n",
       "        var button = $('<button class=\"btn btn-default\" href=\"#\" title=\"' + name + '\"><i class=\"fa ' + image + ' fa-lg\"></i></button>');\n",
       "        button.click(method_name, toolbar_event);\n",
       "        button.mouseover(tooltip, toolbar_mouse_event);\n",
       "        nav_element.append(button);\n",
       "    }\n",
       "\n",
       "    // Add the status bar.\n",
       "    var status_bar = $('<span class=\"mpl-message\" style=\"text-align:right; float: right;\"/>');\n",
       "    nav_element.append(status_bar);\n",
       "    this.message = status_bar[0];\n",
       "\n",
       "    // Add the close button to the window.\n",
       "    var buttongrp = $('<div class=\"btn-group inline pull-right\"></div>');\n",
       "    var button = $('<button class=\"btn btn-mini btn-primary\" href=\"#\" title=\"Stop Interaction\"><i class=\"fa fa-power-off icon-remove icon-large\"></i></button>');\n",
       "    button.click(function (evt) { fig.handle_close(fig, {}); } );\n",
       "    button.mouseover('Stop Interaction', toolbar_mouse_event);\n",
       "    buttongrp.append(button);\n",
       "    var titlebar = this.root.find($('.ui-dialog-titlebar'));\n",
       "    titlebar.prepend(buttongrp);\n",
       "}\n",
       "\n",
       "mpl.figure.prototype._root_extra_style = function(el){\n",
       "    var fig = this\n",
       "    el.on(\"remove\", function(){\n",
       "\tfig.close_ws(fig, {});\n",
       "    });\n",
       "}\n",
       "\n",
       "mpl.figure.prototype._canvas_extra_style = function(el){\n",
       "    // this is important to make the div 'focusable\n",
       "    el.attr('tabindex', 0)\n",
       "    // reach out to IPython and tell the keyboard manager to turn it's self\n",
       "    // off when our div gets focus\n",
       "\n",
       "    // location in version 3\n",
       "    if (IPython.notebook.keyboard_manager) {\n",
       "        IPython.notebook.keyboard_manager.register_events(el);\n",
       "    }\n",
       "    else {\n",
       "        // location in version 2\n",
       "        IPython.keyboard_manager.register_events(el);\n",
       "    }\n",
       "\n",
       "}\n",
       "\n",
       "mpl.figure.prototype._key_event_extra = function(event, name) {\n",
       "    var manager = IPython.notebook.keyboard_manager;\n",
       "    if (!manager)\n",
       "        manager = IPython.keyboard_manager;\n",
       "\n",
       "    // Check for shift+enter\n",
       "    if (event.shiftKey && event.which == 13) {\n",
       "        this.canvas_div.blur();\n",
       "        event.shiftKey = false;\n",
       "        // Send a \"J\" for go to next cell\n",
       "        event.which = 74;\n",
       "        event.keyCode = 74;\n",
       "        manager.command_mode();\n",
       "        manager.handle_keydown(event);\n",
       "    }\n",
       "}\n",
       "\n",
       "mpl.figure.prototype.handle_save = function(fig, msg) {\n",
       "    fig.ondownload(fig, null);\n",
       "}\n",
       "\n",
       "\n",
       "mpl.find_output_cell = function(html_output) {\n",
       "    // Return the cell and output element which can be found *uniquely* in the notebook.\n",
       "    // Note - this is a bit hacky, but it is done because the \"notebook_saving.Notebook\"\n",
       "    // IPython event is triggered only after the cells have been serialised, which for\n",
       "    // our purposes (turning an active figure into a static one), is too late.\n",
       "    var cells = IPython.notebook.get_cells();\n",
       "    var ncells = cells.length;\n",
       "    for (var i=0; i<ncells; i++) {\n",
       "        var cell = cells[i];\n",
       "        if (cell.cell_type === 'code'){\n",
       "            for (var j=0; j<cell.output_area.outputs.length; j++) {\n",
       "                var data = cell.output_area.outputs[j];\n",
       "                if (data.data) {\n",
       "                    // IPython >= 3 moved mimebundle to data attribute of output\n",
       "                    data = data.data;\n",
       "                }\n",
       "                if (data['text/html'] == html_output) {\n",
       "                    return [cell, data, j];\n",
       "                }\n",
       "            }\n",
       "        }\n",
       "    }\n",
       "}\n",
       "\n",
       "// Register the function which deals with the matplotlib target/channel.\n",
       "// The kernel may be null if the page has been refreshed.\n",
       "if (IPython.notebook.kernel != null) {\n",
       "    IPython.notebook.kernel.comm_manager.register_target('matplotlib', mpl.mpl_figure_comm);\n",
       "}\n"
      ],
      "text/plain": [
       "<IPython.core.display.Javascript object>"
      ]
     },
     "metadata": {},
     "output_type": "display_data"
    },
    {
     "data": {
      "text/html": [
       "<img src=\"data:image/png;base64,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\" width=\"640\">"
      ],
      "text/plain": [
       "<IPython.core.display.HTML object>"
      ]
     },
     "metadata": {},
     "output_type": "display_data"
    },
    {
     "name": "stdout",
     "output_type": "stream",
     "text": [
      "Epoch 1/1\n",
      "153/800 [====>.........................] - ETA: 17s - loss: 0.0461"
     ]
    }
   ],
   "source": [
    "%%time\n",
    "%matplotlib notebook\n",
    "\n",
    "# TRAIN\n",
    "\n",
    "# N_SAMPLES = 20000\n",
    "# N_SAMPLES = 8800\n",
    "# N_SAMPLES = 100\n",
    "\n",
    "es_cb = keras.callbacks.EarlyStopping(\n",
    "    monitor='val_loss',\n",
    "    min_delta=0.0001,\n",
    "    patience=4,\n",
    "    verbose=0,\n",
    "    mode='auto',\n",
    ")\n",
    "\n",
    "history = model.fit(\n",
    "    X_tr_s[:800],\n",
    "    y_tr_s[:800],\n",
    "    # X_tr_s[:N_SAMPLES],\n",
    "    # y_tr_s[:N_SAMPLES],\n",
    "    batch_size=BATCH_SIZE,\n",
    "#     epochs=400,\n",
    "    epochs=1,\n",
    "    verbose=1,\n",
    "    # validation_data=(X_te_s[:4000], y_te_s[:4000]),\n",
    "    validation_data=(X_te_s[:200], y_te_s[:200]),\n",
    "    # callbacks=[es_cb, test_model_cb, tensorboard_cb],\n",
    "    callbacks=[es_cb, test_model_cb],\n",
    ")\n"
   ]
  },
  {
   "cell_type": "code",
   "execution_count": 350,
   "metadata": {},
   "outputs": [
    {
     "name": "stdout",
     "output_type": "stream",
     "text": [
      "[array([[ 0.04803527, -0.00493167,  0.659959  , -0.8742506 ,  0.80034214,\n",
      "        -0.98697746, -1.0819997 , -0.19323687, -0.9390833 ,  1.0063655 ,\n",
      "        -1.0800743 , -0.83702147,  1.0218716 ,  0.3923984 , -0.41287416,\n",
      "        -0.9362643 , -0.66107494, -0.84376496,  0.01052046, -0.44521078]],\n",
      "      dtype=float32), array([-6.9637579e-04, -2.6573208e-03, -1.5561199e-02,  2.0270150e-02,\n",
      "       -1.8320920e-02,  1.7001014e-02,  1.6547384e-02,  3.5835561e-05,\n",
      "        1.7610779e-02, -1.2042410e-02,  6.5342630e-03,  2.2699937e-02,\n",
      "       -1.0346061e-02, -2.0020291e-02,  1.4374531e-02,  1.3037698e-02,\n",
      "        1.9289250e-02,  1.2836599e-02,  6.5633783e-04,  9.7463652e-03],\n",
      "      dtype=float32)]\n",
      "====================\n",
      "[array([[-0.32245874,  0.7323317 ,  0.93724835, ..., -0.09866451,\n",
      "         0.2881537 , -0.01304016],\n",
      "       [ 0.5899278 , -0.60752237, -1.1516815 , ...,  0.0436277 ,\n",
      "        -0.17808034, -0.17085999],\n",
      "       [-0.62210995,  0.29240337,  0.9266137 , ...,  0.060814  ,\n",
      "        -0.10678924,  0.17301013],\n",
      "       ...,\n",
      "       [ 0.7383102 , -0.47114554, -0.7950014 , ...,  0.01106589,\n",
      "        -0.14145789,  0.1863876 ],\n",
      "       [-0.22395015, -0.05746512,  1.0165898 , ..., -0.12414623,\n",
      "         0.23454958,  0.01377402],\n",
      "       [ 0.39735848, -0.24335836, -0.80125445, ...,  0.14062421,\n",
      "         0.06416644, -0.04878965]], dtype=float32), array([[-0.02389742, -0.87870866, -0.7991572 , ..., -0.5640543 ,\n",
      "        -0.1628586 , -0.01074784],\n",
      "       [-0.4749801 , -0.20150304, -0.5868056 , ...,  0.5697209 ,\n",
      "        -0.4125682 , -0.32932255],\n",
      "       [-0.3020843 ,  0.1154912 , -0.47095957, ...,  0.58233434,\n",
      "        -0.4767357 ,  0.36608896],\n",
      "       ...,\n",
      "       [ 0.2068481 ,  0.13430311,  0.8297563 , ..., -0.31955263,\n",
      "         0.38565138,  0.62277627],\n",
      "       [ 0.24615905, -0.00865106, -0.5539695 , ...,  0.48028693,\n",
      "        -0.6834062 , -0.30705386],\n",
      "       [ 0.3875388 , -0.6605091 , -0.40192154, ...,  0.21220401,\n",
      "        -0.2668503 ,  0.3846501 ]], dtype=float32), array([ 0.29109392, -0.03657752, -0.6521485 , -0.8406822 , -0.6515035 ,\n",
      "        1.0743015 ,  0.21054308, -0.3096576 , -0.7048241 , -0.55871314,\n",
      "        0.12261157, -0.44574177, -0.22152986,  1.0861886 , -0.23557755,\n",
      "        0.799774  ,  0.23848288,  0.26277035, -0.14358443,  0.3784993 ,\n",
      "       -0.026681  ,  0.2708397 , -0.15223306,  0.36886624,  0.23533592,\n",
      "        0.12269947,  0.2561865 ,  0.1574645 ,  0.09360807,  0.33692628,\n",
      "       -0.04772512,  0.12300568,  0.34400582,  0.08919702, -0.20788705,\n",
      "        0.15374132, -0.05960093,  0.00152282, -0.17831184, -0.16214375,\n",
      "        0.02649636,  0.03413233, -0.04156614,  0.02762489,  0.00950196,\n",
      "       -0.07658773,  0.03265161, -0.05086078, -0.02588709, -0.01461097,\n",
      "       -0.01814753,  0.02280367,  0.06861851,  0.07670407,  0.07781599,\n",
      "        0.08469211, -0.03322925, -0.09082189,  0.02065954, -0.03465495],\n",
      "      dtype=float32)]\n",
      "====================\n",
      "[array([[-0.05175108],\n",
      "       [-0.17236555],\n",
      "       [-0.22228615],\n",
      "       [ 0.13635224],\n",
      "       [ 0.10571719],\n",
      "       [-0.15236452],\n",
      "       [ 0.12333206],\n",
      "       [ 0.24969253],\n",
      "       [-0.07845842],\n",
      "       [ 0.17252104],\n",
      "       [ 0.10657142],\n",
      "       [-0.07936125],\n",
      "       [-0.13897252],\n",
      "       [ 0.08475258],\n",
      "       [ 0.22474532],\n",
      "       [ 0.16285914],\n",
      "       [ 0.14199309],\n",
      "       [ 0.04181129],\n",
      "       [-0.05258665],\n",
      "       [-0.05324614]], dtype=float32), array([0.02052599], dtype=float32)]\n",
      "====================\n"
     ]
    }
   ],
   "source": [
    "for layer in model.layers:\n",
    "    weights = layer.get_weights() # list of numpy arrays\n",
    "    print(weights)\n",
    "    print('='*20)"
   ]
  },
  {
   "cell_type": "code",
   "execution_count": 351,
   "metadata": {},
   "outputs": [
    {
     "name": "stdout",
     "output_type": "stream",
     "text": [
      "_________________________________________________________________\n",
      "Layer (type)                 Output Shape              Param #   \n",
      "=================================================================\n",
      "dense_22 (Dense)             (1, 64, 20)               40        \n",
      "_________________________________________________________________\n",
      "gru_26 (GRU)                 (1, 20)                   2460      \n",
      "_________________________________________________________________\n",
      "dense_23 (Dense)             (1, 1)                    21        \n",
      "=================================================================\n",
      "Total params: 2,521\n",
      "Trainable params: 2,521\n",
      "Non-trainable params: 0\n",
      "_________________________________________________________________\n"
     ]
    }
   ],
   "source": [
    "model.summary()"
   ]
  },
  {
   "cell_type": "code",
   "execution_count": 264,
   "metadata": {},
   "outputs": [
    {
     "data": {
      "text/plain": [
       "0.01658539002411999"
      ]
     },
     "execution_count": 264,
     "metadata": {},
     "output_type": "execute_result"
    }
   ],
   "source": [
    "score = model.evaluate(X_te_s[:400], y_te_s[:400], verbose=0, batch_size=BATCH_SIZE)\n",
    "score"
   ]
  },
  {
   "cell_type": "code",
   "execution_count": 265,
   "metadata": {},
   "outputs": [
    {
     "data": {
      "text/plain": [
       "0.005132799269631505"
      ]
     },
     "execution_count": 265,
     "metadata": {},
     "output_type": "execute_result"
    }
   ],
   "source": [
    "0.005132799269631505"
   ]
  },
  {
   "cell_type": "code",
   "execution_count": 266,
   "metadata": {
    "scrolled": false
   },
   "outputs": [
    {
     "data": {
      "image/png": "[encoded data removed]",
      "text/plain": [
       "<Figure size 432x288 with 1 Axes>"
      ]
     },
     "metadata": {
      "needs_background": "light"
     },
     "output_type": "display_data"
    }
   ],
   "source": [
    "from matplotlib import pyplot as plt\n",
    "\n",
    "# Plot training & validation loss values\n",
    "plt.plot(normalize(np.array(history.history['loss'])))\n",
    "plt.plot(normalize(np.array(history.history['val_loss'])))\n",
    "plt.title('Model loss')\n",
    "plt.ylabel('Loss')\n",
    "plt.xlabel('Epoch')\n",
    "plt.legend(['Train'], loc='upper left')\n",
    "plt.show()"
   ]
  },
  {
   "cell_type": "code",
   "execution_count": 267,
   "metadata": {},
   "outputs": [
    {
     "data": {
      "text/plain": [
       "10000"
      ]
     },
     "execution_count": 267,
     "metadata": {},
     "output_type": "execute_result"
    }
   ],
   "source": [
    "len(X_te_f)"
   ]
  },
  {
   "cell_type": "code",
   "execution_count": 269,
   "metadata": {},
   "outputs": [
    {
     "data": {
      "text/plain": [
       "array([ 0.00720847,  0.00390608,  0.00069414, -0.00238913, -0.00538246,\n",
       "       -0.0082476 , -0.01097245, -0.01364918, -0.01623574, -0.01858433,\n",
       "       -0.0209128 , -0.02311743, -0.02515342, -0.0271521 , -0.0289777 ,\n",
       "       -0.03068439, -0.03238854, -0.03380311, -0.03520663, -0.03654917,\n",
       "       -0.03762048, -0.03861776, -0.03963517, -0.04040424, -0.04111475,\n",
       "       -0.04170411, -0.04220744, -0.04252864, -0.04285228, -0.04293739,\n",
       "       -0.04293268, -0.04301209, -0.04282712, -0.0426129 , -0.0423735 ,\n",
       "       -0.04189257, -0.04140666, -0.04086066, -0.0401896 , -0.03941978,\n",
       "       -0.03869359, -0.03782381, -0.03685462, -0.03586413, -0.03482395,\n",
       "       -0.03364499, -0.03251233, -0.03126309, -0.03004637, -0.02876272,\n",
       "       -0.02733327, -0.02604197, -0.02467418, -0.02319817, -0.02179869,\n",
       "       -0.02037514, -0.01891786, -0.0175517 , -0.01616797, -0.01475757,\n",
       "       -0.01333211, -0.01194194, -0.01061384, -0.00931575, -0.00807026,\n",
       "       -0.00677356, -0.00557142, -0.00450684, -0.00338372, -0.00232304,\n",
       "       -0.00135431, -0.00043977,  0.00040901,  0.00115946,  0.00186014,\n",
       "        0.00252367,  0.00306633,  0.00356573,  0.00398246,  0.00426971,\n",
       "        0.00453319,  0.00474836,  0.0048362 ,  0.00478653,  0.0048053 ,\n",
       "        0.00467371,  0.00443301,  0.00423093,  0.00387216,  0.00345785,\n",
       "        0.00293897,  0.00237639,  0.00170085,  0.00104053,  0.00027128,\n",
       "       -0.0005587 , -0.00141925, -0.00238321, -0.00326496, -0.00424822],\n",
       "      dtype=float32)"
      ]
     },
     "execution_count": 269,
     "metadata": {},
     "output_type": "execute_result"
    }
   ],
   "source": [
    "predict(model, X_te_s[:100])"
   ]
  },
  {
   "cell_type": "code",
   "execution_count": 270,
   "metadata": {},
   "outputs": [
    {
     "name": "stdout",
     "output_type": "stream",
     "text": [
      "[-0.00759911]\n"
     ]
    }
   ],
   "source": [
    "print(X_tr_s[0][-1])"
   ]
  },
  {
   "cell_type": "code",
   "execution_count": 273,
   "metadata": {
    "scrolled": false
   },
   "outputs": [
    {
     "name": "stdout",
     "output_type": "stream",
     "text": [
      "0   -0.007838\n",
      "1   -0.007643\n",
      "2   -0.007963\n",
      "3   -0.008629\n",
      "4   -0.009705\n",
      "dtype: float32\n"
     ]
    },
    {
     "data": {
      "text/plain": [
       "Text(0,0.5,'value')"
      ]
     },
     "execution_count": 273,
     "metadata": {},
     "output_type": "execute_result"
    },
    {
     "data": {
      "image/png": "[encoded data removed]",
      "text/plain": [
       "<Figure size 1152x576 with 1 Axes>"
      ]
     },
     "metadata": {
      "needs_background": "light"
     },
     "output_type": "display_data"
    }
   ],
   "source": [
    "from scipy.signal import savgol_filter\n",
    "\n",
    "(fig, ax) = plt.subplots(figsize=(16, 8))\n",
    "\n",
    "I = 200\n",
    "\n",
    "feat = pd.Series((np.array(list(map(lambda row: row[-1][0], X_tr_s[:I])))))\n",
    "\n",
    "feat.plot.line(ax=ax, label='feature')\n",
    "\n",
    "targ = (pd.Series((y_tr_s[:I])))\n",
    "\n",
    "pred = pd.Series(predict(model, X_tr_s[:I]))\n",
    "# pred = (pred * 2.2) + 0.001\n",
    "pred = pred + 0.001\n",
    "\n",
    "zeros = pd.Series(np.zeros(I))\n",
    "zeros.plot.line(ax=ax, label='0')\n",
    "\n",
    "targ.plot.line(ax=ax, label='target')\n",
    "\n",
    "print(pred[:5])\n",
    "\n",
    "pred.plot.line(ax=ax, label='predicted')\n",
    "# pd.Series(savgol_filter(pred, 5, 3)).plot.line(ax=ax, label='savgol(predicted)')\n",
    "\n",
    "# pd.Series(normalize(np.array(list(map(lambda w: w[-1], X_tr_f[:I]))))).plot.line(ax=ax, label='feature')\n",
    "\n",
    "ax.legend(loc=\"upper right\")\n",
    "ax.set_xlabel('index')\n",
    "ax.set_ylabel('value')"
   ]
  },
  {
   "cell_type": "markdown",
   "metadata": {},
   "source": [
    "## Time to evaluate performance"
   ]
  },
  {
   "cell_type": "code",
   "execution_count": 75,
   "metadata": {},
   "outputs": [
    {
     "ename": "ValueError",
     "evalue": "Error when checking input: expected gru_1_input to have 3 dimensions, but got array with shape (10000, 2)",
     "output_type": "error",
     "traceback": [
      "\u001b[0;31m---------------------------------------------------------------------------\u001b[0m",
      "\u001b[0;31mValueError\u001b[0m                                Traceback (most recent call last)",
      "\u001b[0;32m<ipython-input-75-7d77ab836aa5>\u001b[0m in \u001b[0;36m<module>\u001b[0;34m\u001b[0m\n\u001b[0;32m----> 1\u001b[0;31m \u001b[0mpredictions\u001b[0m \u001b[0;34m=\u001b[0m \u001b[0mpredict\u001b[0m\u001b[0;34m(\u001b[0m\u001b[0mmodel\u001b[0m\u001b[0;34m,\u001b[0m \u001b[0mX_tr_f\u001b[0m\u001b[0;34m[\u001b[0m\u001b[0;34m:\u001b[0m\u001b[0;36m10000\u001b[0m\u001b[0;34m]\u001b[0m\u001b[0;34m)\u001b[0m\u001b[0;34m\u001b[0m\u001b[0;34m\u001b[0m\u001b[0m\n\u001b[0m\u001b[1;32m      2\u001b[0m \u001b[0mlen\u001b[0m\u001b[0;34m(\u001b[0m\u001b[0mpredictions\u001b[0m\u001b[0;34m)\u001b[0m\u001b[0;34m,\u001b[0m \u001b[0mpredictions\u001b[0m\u001b[0;34m[\u001b[0m\u001b[0;34m:\u001b[0m\u001b[0;36m10\u001b[0m\u001b[0;34m]\u001b[0m\u001b[0;34m\u001b[0m\u001b[0;34m\u001b[0m\u001b[0m\n",
      "\u001b[0;32m<ipython-input-71-c9658235d849>\u001b[0m in \u001b[0;36mpredict\u001b[0;34m(model, X_input)\u001b[0m\n\u001b[1;32m      6\u001b[0m     return np.array(\n\u001b[1;32m      7\u001b[0m         model.predict(\n\u001b[0;32m----> 8\u001b[0;31m             \u001b[0mX_input\u001b[0m\u001b[0;34m[\u001b[0m\u001b[0;34m:\u001b[0m\u001b[0;34m(\u001b[0m\u001b[0mmath\u001b[0m\u001b[0;34m.\u001b[0m\u001b[0mfloor\u001b[0m\u001b[0;34m(\u001b[0m\u001b[0mlen\u001b[0m\u001b[0;34m(\u001b[0m\u001b[0mX_input\u001b[0m\u001b[0;34m)\u001b[0m \u001b[0;34m/\u001b[0m \u001b[0mBATCH_SIZE\u001b[0m\u001b[0;34m)\u001b[0m \u001b[0;34m*\u001b[0m \u001b[0mBATCH_SIZE\u001b[0m\u001b[0;34m)\u001b[0m\u001b[0;34m]\u001b[0m\u001b[0;34m,\u001b[0m \u001b[0mbatch_size\u001b[0m\u001b[0;34m=\u001b[0m\u001b[0mBATCH_SIZE\u001b[0m\u001b[0;34m\u001b[0m\u001b[0;34m\u001b[0m\u001b[0m\n\u001b[0m\u001b[1;32m      9\u001b[0m         )\n\u001b[1;32m     10\u001b[0m     ).flatten()\n",
      "\u001b[0;32m/usr/local/lib/python3.7/site-packages/keras/engine/training.py\u001b[0m in \u001b[0;36mpredict\u001b[0;34m(self, x, batch_size, verbose, steps)\u001b[0m\n\u001b[1;32m   1147\u001b[0m                              'argument.')\n\u001b[1;32m   1148\u001b[0m         \u001b[0;31m# Validate user data.\u001b[0m\u001b[0;34m\u001b[0m\u001b[0;34m\u001b[0m\u001b[0;34m\u001b[0m\u001b[0m\n\u001b[0;32m-> 1149\u001b[0;31m         \u001b[0mx\u001b[0m\u001b[0;34m,\u001b[0m \u001b[0m_\u001b[0m\u001b[0;34m,\u001b[0m \u001b[0m_\u001b[0m \u001b[0;34m=\u001b[0m \u001b[0mself\u001b[0m\u001b[0;34m.\u001b[0m\u001b[0m_standardize_user_data\u001b[0m\u001b[0;34m(\u001b[0m\u001b[0mx\u001b[0m\u001b[0;34m)\u001b[0m\u001b[0;34m\u001b[0m\u001b[0;34m\u001b[0m\u001b[0m\n\u001b[0m\u001b[1;32m   1150\u001b[0m         \u001b[0;32mif\u001b[0m \u001b[0mself\u001b[0m\u001b[0;34m.\u001b[0m\u001b[0mstateful\u001b[0m\u001b[0;34m:\u001b[0m\u001b[0;34m\u001b[0m\u001b[0;34m\u001b[0m\u001b[0m\n\u001b[1;32m   1151\u001b[0m             \u001b[0;32mif\u001b[0m \u001b[0mx\u001b[0m\u001b[0;34m[\u001b[0m\u001b[0;36m0\u001b[0m\u001b[0;34m]\u001b[0m\u001b[0;34m.\u001b[0m\u001b[0mshape\u001b[0m\u001b[0;34m[\u001b[0m\u001b[0;36m0\u001b[0m\u001b[0;34m]\u001b[0m \u001b[0;34m>\u001b[0m \u001b[0mbatch_size\u001b[0m \u001b[0;32mand\u001b[0m \u001b[0mx\u001b[0m\u001b[0;34m[\u001b[0m\u001b[0;36m0\u001b[0m\u001b[0;34m]\u001b[0m\u001b[0;34m.\u001b[0m\u001b[0mshape\u001b[0m\u001b[0;34m[\u001b[0m\u001b[0;36m0\u001b[0m\u001b[0;34m]\u001b[0m \u001b[0;34m%\u001b[0m \u001b[0mbatch_size\u001b[0m \u001b[0;34m!=\u001b[0m \u001b[0;36m0\u001b[0m\u001b[0;34m:\u001b[0m\u001b[0;34m\u001b[0m\u001b[0;34m\u001b[0m\u001b[0m\n",
      "\u001b[0;32m/usr/local/lib/python3.7/site-packages/keras/engine/training.py\u001b[0m in \u001b[0;36m_standardize_user_data\u001b[0;34m(self, x, y, sample_weight, class_weight, check_array_lengths, batch_size)\u001b[0m\n\u001b[1;32m    749\u001b[0m             \u001b[0mfeed_input_shapes\u001b[0m\u001b[0;34m,\u001b[0m\u001b[0;34m\u001b[0m\u001b[0;34m\u001b[0m\u001b[0m\n\u001b[1;32m    750\u001b[0m             \u001b[0mcheck_batch_axis\u001b[0m\u001b[0;34m=\u001b[0m\u001b[0;32mFalse\u001b[0m\u001b[0;34m,\u001b[0m  \u001b[0;31m# Don't enforce the batch size.\u001b[0m\u001b[0;34m\u001b[0m\u001b[0;34m\u001b[0m\u001b[0m\n\u001b[0;32m--> 751\u001b[0;31m             exception_prefix='input')\n\u001b[0m\u001b[1;32m    752\u001b[0m \u001b[0;34m\u001b[0m\u001b[0m\n\u001b[1;32m    753\u001b[0m         \u001b[0;32mif\u001b[0m \u001b[0my\u001b[0m \u001b[0;32mis\u001b[0m \u001b[0;32mnot\u001b[0m \u001b[0;32mNone\u001b[0m\u001b[0;34m:\u001b[0m\u001b[0;34m\u001b[0m\u001b[0;34m\u001b[0m\u001b[0m\n",
      "\u001b[0;32m/usr/local/lib/python3.7/site-packages/keras/engine/training_utils.py\u001b[0m in \u001b[0;36mstandardize_input_data\u001b[0;34m(data, names, shapes, check_batch_axis, exception_prefix)\u001b[0m\n\u001b[1;32m    126\u001b[0m                         \u001b[0;34m': expected '\u001b[0m \u001b[0;34m+\u001b[0m \u001b[0mnames\u001b[0m\u001b[0;34m[\u001b[0m\u001b[0mi\u001b[0m\u001b[0;34m]\u001b[0m \u001b[0;34m+\u001b[0m \u001b[0;34m' to have '\u001b[0m \u001b[0;34m+\u001b[0m\u001b[0;34m\u001b[0m\u001b[0;34m\u001b[0m\u001b[0m\n\u001b[1;32m    127\u001b[0m                         \u001b[0mstr\u001b[0m\u001b[0;34m(\u001b[0m\u001b[0mlen\u001b[0m\u001b[0;34m(\u001b[0m\u001b[0mshape\u001b[0m\u001b[0;34m)\u001b[0m\u001b[0;34m)\u001b[0m \u001b[0;34m+\u001b[0m \u001b[0;34m' dimensions, but got array '\u001b[0m\u001b[0;34m\u001b[0m\u001b[0;34m\u001b[0m\u001b[0m\n\u001b[0;32m--> 128\u001b[0;31m                         'with shape ' + str(data_shape))\n\u001b[0m\u001b[1;32m    129\u001b[0m                 \u001b[0;32mif\u001b[0m \u001b[0;32mnot\u001b[0m \u001b[0mcheck_batch_axis\u001b[0m\u001b[0;34m:\u001b[0m\u001b[0;34m\u001b[0m\u001b[0;34m\u001b[0m\u001b[0m\n\u001b[1;32m    130\u001b[0m                     \u001b[0mdata_shape\u001b[0m \u001b[0;34m=\u001b[0m \u001b[0mdata_shape\u001b[0m\u001b[0;34m[\u001b[0m\u001b[0;36m1\u001b[0m\u001b[0;34m:\u001b[0m\u001b[0;34m]\u001b[0m\u001b[0;34m\u001b[0m\u001b[0;34m\u001b[0m\u001b[0m\n",
      "\u001b[0;31mValueError\u001b[0m: Error when checking input: expected gru_1_input to have 3 dimensions, but got array with shape (10000, 2)"
     ]
    }
   ],
   "source": [
    "predictions = predict(model, X_tr_f[:10000])\n",
    "len(predictions), predictions[:10]"
   ]
  },
  {
   "cell_type": "code",
   "execution_count": null,
   "metadata": {},
   "outputs": [],
   "source": [
    "wavfile.write('output/clean_train_pred_out.wav', source_clean_fs, predictions)"
   ]
  },
  {
   "cell_type": "code",
   "execution_count": null,
   "metadata": {},
   "outputs": [],
   "source": [
    "len(predictions)"
   ]
  },
  {
   "cell_type": "code",
   "execution_count": null,
   "metadata": {},
   "outputs": [],
   "source": []
  }
 ],
 "metadata": {
  "kernelspec": {
   "display_name": "Python 3",
   "language": "python",
   "name": "python3"
  },
  "language_info": {
   "codemirror_mode": {
    "name": "ipython",
    "version": 3
   },
   "file_extension": ".py",
   "mimetype": "text/x-python",
   "name": "python",
   "nbconvert_exporter": "python",
   "pygments_lexer": "ipython3",
   "version": "3.7.3"
  }
 },
 "nbformat": 4,
 "nbformat_minor": 2
}
