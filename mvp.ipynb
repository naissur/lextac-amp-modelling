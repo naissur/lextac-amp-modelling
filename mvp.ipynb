{
 "cells": [
  {
   "cell_type": "code",
   "execution_count": 1,
   "metadata": {},
   "outputs": [],
   "source": [
    "from scipy.io import wavfile\n",
    "\n",
    "(source_clean_fs, source_clean_data) = wavfile.read('./data/source_clean.wav')\n",
    "(plini_clean_fs, plini_clean_data) = wavfile.read('./data/plini_clean.wav')"
   ]
  },
  {
   "cell_type": "code",
   "execution_count": 2,
   "metadata": {},
   "outputs": [],
   "source": [
    "import pandas as pd"
   ]
  },
  {
   "cell_type": "code",
   "execution_count": 3,
   "metadata": {},
   "outputs": [
    {
     "data": {
      "text/html": [
       "<div>\n",
       "<style scoped>\n",
       "    .dataframe tbody tr th:only-of-type {\n",
       "        vertical-align: middle;\n",
       "    }\n",
       "\n",
       "    .dataframe tbody tr th {\n",
       "        vertical-align: top;\n",
       "    }\n",
       "\n",
       "    .dataframe thead th {\n",
       "        text-align: right;\n",
       "    }\n",
       "</style>\n",
       "<table border=\"1\" class=\"dataframe\">\n",
       "  <thead>\n",
       "    <tr style=\"text-align: right;\">\n",
       "      <th></th>\n",
       "      <th>L</th>\n",
       "      <th>R</th>\n",
       "    </tr>\n",
       "  </thead>\n",
       "  <tbody>\n",
       "    <tr>\n",
       "      <th>0</th>\n",
       "      <td>0</td>\n",
       "      <td>0</td>\n",
       "    </tr>\n",
       "    <tr>\n",
       "      <th>1</th>\n",
       "      <td>0</td>\n",
       "      <td>0</td>\n",
       "    </tr>\n",
       "    <tr>\n",
       "      <th>2</th>\n",
       "      <td>0</td>\n",
       "      <td>0</td>\n",
       "    </tr>\n",
       "    <tr>\n",
       "      <th>3</th>\n",
       "      <td>0</td>\n",
       "      <td>0</td>\n",
       "    </tr>\n",
       "    <tr>\n",
       "      <th>4</th>\n",
       "      <td>0</td>\n",
       "      <td>0</td>\n",
       "    </tr>\n",
       "  </tbody>\n",
       "</table>\n",
       "</div>"
      ],
      "text/plain": [
       "   L  R\n",
       "0  0  0\n",
       "1  0  0\n",
       "2  0  0\n",
       "3  0  0\n",
       "4  0  0"
      ]
     },
     "execution_count": 3,
     "metadata": {},
     "output_type": "execute_result"
    }
   ],
   "source": [
    "source_clean_df = pd.DataFrame(source_clean_data, columns=['L', 'R'])\n",
    "source_clean_df.head()"
   ]
  },
  {
   "cell_type": "code",
   "execution_count": 4,
   "metadata": {},
   "outputs": [
    {
     "data": {
      "text/html": [
       "<div>\n",
       "<style scoped>\n",
       "    .dataframe tbody tr th:only-of-type {\n",
       "        vertical-align: middle;\n",
       "    }\n",
       "\n",
       "    .dataframe tbody tr th {\n",
       "        vertical-align: top;\n",
       "    }\n",
       "\n",
       "    .dataframe thead th {\n",
       "        text-align: right;\n",
       "    }\n",
       "</style>\n",
       "<table border=\"1\" class=\"dataframe\">\n",
       "  <thead>\n",
       "    <tr style=\"text-align: right;\">\n",
       "      <th></th>\n",
       "      <th>L</th>\n",
       "      <th>R</th>\n",
       "    </tr>\n",
       "  </thead>\n",
       "  <tbody>\n",
       "    <tr>\n",
       "      <th>0</th>\n",
       "      <td>0</td>\n",
       "      <td>0</td>\n",
       "    </tr>\n",
       "    <tr>\n",
       "      <th>1</th>\n",
       "      <td>0</td>\n",
       "      <td>0</td>\n",
       "    </tr>\n",
       "    <tr>\n",
       "      <th>2</th>\n",
       "      <td>0</td>\n",
       "      <td>0</td>\n",
       "    </tr>\n",
       "    <tr>\n",
       "      <th>3</th>\n",
       "      <td>0</td>\n",
       "      <td>0</td>\n",
       "    </tr>\n",
       "    <tr>\n",
       "      <th>4</th>\n",
       "      <td>0</td>\n",
       "      <td>0</td>\n",
       "    </tr>\n",
       "  </tbody>\n",
       "</table>\n",
       "</div>"
      ],
      "text/plain": [
       "   L  R\n",
       "0  0  0\n",
       "1  0  0\n",
       "2  0  0\n",
       "3  0  0\n",
       "4  0  0"
      ]
     },
     "execution_count": 4,
     "metadata": {},
     "output_type": "execute_result"
    }
   ],
   "source": [
    "plini_clean_df = pd.DataFrame(plini_clean_data, columns=['L', 'R'])\n",
    "plini_clean_df.head()"
   ]
  },
  {
   "cell_type": "code",
   "execution_count": 5,
   "metadata": {},
   "outputs": [
    {
     "data": {
      "text/plain": [
       "32767"
      ]
     },
     "execution_count": 5,
     "metadata": {},
     "output_type": "execute_result"
    }
   ],
   "source": [
    "plini_clean_df['L'].max()"
   ]
  },
  {
   "cell_type": "code",
   "execution_count": 6,
   "metadata": {},
   "outputs": [
    {
     "data": {
      "text/plain": [
       "32768"
      ]
     },
     "execution_count": 6,
     "metadata": {},
     "output_type": "execute_result"
    }
   ],
   "source": [
    "2 ** 15"
   ]
  },
  {
   "cell_type": "code",
   "execution_count": 7,
   "metadata": {},
   "outputs": [
    {
     "data": {
      "text/plain": [
       "32767"
      ]
     },
     "execution_count": 7,
     "metadata": {},
     "output_type": "execute_result"
    }
   ],
   "source": [
    "MAX_VALUE = 2 ** 15 - 1\n",
    "MAX_VALUE"
   ]
  },
  {
   "cell_type": "code",
   "execution_count": null,
   "metadata": {},
   "outputs": [],
   "source": []
  },
  {
   "cell_type": "code",
   "execution_count": 8,
   "metadata": {},
   "outputs": [
    {
     "data": {
      "text/plain": [
       "(2442240, 2442240)"
      ]
     },
     "execution_count": 8,
     "metadata": {},
     "output_type": "execute_result"
    }
   ],
   "source": [
    "len(plini_clean_df), len(source_clean_df)"
   ]
  },
  {
   "cell_type": "code",
   "execution_count": 9,
   "metadata": {},
   "outputs": [
    {
     "data": {
      "text/plain": [
       "1953792"
      ]
     },
     "execution_count": 9,
     "metadata": {},
     "output_type": "execute_result"
    }
   ],
   "source": [
    "START_END = int(len(plini_clean_df) * 0.8)\n",
    "START_END"
   ]
  },
  {
   "cell_type": "code",
   "execution_count": 10,
   "metadata": {},
   "outputs": [],
   "source": [
    "(X_train_start, X_train_end) = (0, START_END)\n",
    "(X_test_start, X_test_end) = (START_END, len(source_clean_df))"
   ]
  },
  {
   "cell_type": "code",
   "execution_count": 11,
   "metadata": {},
   "outputs": [],
   "source": [
    "(y_train_start, y_train_end) = (0, START_END)\n",
    "(y_test_start, y_test_end) = (START_END, len(source_clean_df))"
   ]
  },
  {
   "cell_type": "markdown",
   "metadata": {},
   "source": [
    "## IT'S MONO"
   ]
  },
  {
   "cell_type": "code",
   "execution_count": 12,
   "metadata": {},
   "outputs": [
    {
     "data": {
      "text/plain": [
       "0    0\n",
       "1    0\n",
       "2    0\n",
       "3    0\n",
       "4    0\n",
       "Name: L, dtype: int16"
      ]
     },
     "execution_count": 12,
     "metadata": {},
     "output_type": "execute_result"
    }
   ],
   "source": [
    "X_train_raw = source_clean_df['L'][X_train_start:X_train_end]\n",
    "X_train_raw.head()"
   ]
  },
  {
   "cell_type": "code",
   "execution_count": 13,
   "metadata": {},
   "outputs": [
    {
     "data": {
      "text/plain": [
       "1953792   -615\n",
       "1953793   -560\n",
       "1953794   -485\n",
       "1953795   -395\n",
       "1953796   -302\n",
       "Name: L, dtype: int16"
      ]
     },
     "execution_count": 13,
     "metadata": {},
     "output_type": "execute_result"
    }
   ],
   "source": [
    "X_test_raw = source_clean_df['L'][X_test_start:X_test_end]\n",
    "X_test_raw.head()"
   ]
  },
  {
   "cell_type": "code",
   "execution_count": 14,
   "metadata": {},
   "outputs": [
    {
     "data": {
      "text/plain": [
       "0    0\n",
       "1    0\n",
       "2    0\n",
       "3    0\n",
       "4    0\n",
       "Name: L, dtype: int16"
      ]
     },
     "execution_count": 14,
     "metadata": {},
     "output_type": "execute_result"
    }
   ],
   "source": [
    "y_train_raw = plini_clean_df['L'][y_train_start:y_train_end]\n",
    "y_train_raw.head()"
   ]
  },
  {
   "cell_type": "code",
   "execution_count": 15,
   "metadata": {},
   "outputs": [
    {
     "data": {
      "text/plain": [
       "1953792    576\n",
       "1953793    807\n",
       "1953794    559\n",
       "1953795    206\n",
       "1953796    178\n",
       "Name: L, dtype: int16"
      ]
     },
     "execution_count": 15,
     "metadata": {},
     "output_type": "execute_result"
    }
   ],
   "source": [
    "y_test_raw = plini_clean_df['L'][y_test_start:y_test_end]\n",
    "y_test_raw.head()"
   ]
  },
  {
   "cell_type": "code",
   "execution_count": null,
   "metadata": {},
   "outputs": [],
   "source": []
  },
  {
   "cell_type": "code",
   "execution_count": 16,
   "metadata": {},
   "outputs": [],
   "source": [
    "TR_N_DEV = source_clean_fs\n",
    "TR_OFFSET_DEV = source_clean_fs * 2\n",
    "\n",
    "TE_N_DEV = int(source_clean_fs / 8)\n",
    "TE_OFFSET_DEV = source_clean_fs * 2"
   ]
  },
  {
   "cell_type": "code",
   "execution_count": 17,
   "metadata": {},
   "outputs": [
    {
     "data": {
      "text/plain": [
       "(44100, 5512)"
      ]
     },
     "execution_count": 17,
     "metadata": {},
     "output_type": "execute_result"
    }
   ],
   "source": [
    "(TR_N_DEV, TE_N_DEV)"
   ]
  },
  {
   "cell_type": "code",
   "execution_count": 18,
   "metadata": {},
   "outputs": [
    {
     "data": {
      "text/plain": [
       "64"
      ]
     },
     "execution_count": 18,
     "metadata": {},
     "output_type": "execute_result"
    }
   ],
   "source": [
    "# N_WINDOW_POINTS = int(source_clean_fs * 0.02)\n",
    "N_WINDOW_POINTS = 64\n",
    "N_WINDOW_POINTS"
   ]
  },
  {
   "cell_type": "code",
   "execution_count": 19,
   "metadata": {},
   "outputs": [],
   "source": [
    "def make_windows(df, n_window_points):\n",
    "    df_index = df.index\n",
    "    index = 0\n",
    "    windows = []\n",
    "\n",
    "    for index in range(0, len(df) - n_window_points):\n",
    "        windows.append(df_index[index:(index + n_window_points)])\n",
    "\n",
    "    return windows"
   ]
  },
  {
   "cell_type": "code",
   "execution_count": 20,
   "metadata": {},
   "outputs": [
    {
     "data": {
      "text/plain": [
       "44036"
      ]
     },
     "execution_count": 20,
     "metadata": {},
     "output_type": "execute_result"
    }
   ],
   "source": [
    "X_train_wnd = make_windows(X_train_raw[TR_OFFSET_DEV:TR_OFFSET_DEV+TR_N_DEV], N_WINDOW_POINTS)\n",
    "len(X_train_wnd)"
   ]
  },
  {
   "cell_type": "code",
   "execution_count": 21,
   "metadata": {},
   "outputs": [
    {
     "data": {
      "text/plain": [
       "5448"
      ]
     },
     "execution_count": 21,
     "metadata": {},
     "output_type": "execute_result"
    }
   ],
   "source": [
    "X_test_wnd = make_windows(X_test_raw[TE_OFFSET_DEV:TE_OFFSET_DEV+TE_N_DEV], N_WINDOW_POINTS)\n",
    "len(X_test_wnd)"
   ]
  },
  {
   "cell_type": "code",
   "execution_count": 22,
   "metadata": {},
   "outputs": [
    {
     "data": {
      "text/plain": [
       "44036"
      ]
     },
     "execution_count": 22,
     "metadata": {},
     "output_type": "execute_result"
    }
   ],
   "source": [
    "y_train_wnd = make_windows(y_train_raw[TR_OFFSET_DEV:TR_OFFSET_DEV+TR_N_DEV], N_WINDOW_POINTS)\n",
    "len(y_train_wnd)"
   ]
  },
  {
   "cell_type": "code",
   "execution_count": 23,
   "metadata": {},
   "outputs": [
    {
     "data": {
      "text/plain": [
       "5448"
      ]
     },
     "execution_count": 23,
     "metadata": {},
     "output_type": "execute_result"
    }
   ],
   "source": [
    "y_test_wnd = make_windows(y_test_raw[TE_OFFSET_DEV:TE_OFFSET_DEV+TE_N_DEV], N_WINDOW_POINTS)\n",
    "len(y_test_wnd)"
   ]
  },
  {
   "cell_type": "code",
   "execution_count": 24,
   "metadata": {},
   "outputs": [
    {
     "data": {
      "text/plain": [
       "RangeIndex(start=2041992, stop=2042056, step=1)"
      ]
     },
     "execution_count": 24,
     "metadata": {},
     "output_type": "execute_result"
    }
   ],
   "source": [
    "X_test_wnd[0]"
   ]
  },
  {
   "cell_type": "code",
   "execution_count": 25,
   "metadata": {},
   "outputs": [
    {
     "data": {
      "text/plain": [
       "2041992     153\n",
       "2041993     147\n",
       "2041994     154\n",
       "2041995     176\n",
       "2041996     215\n",
       "2041997     279\n",
       "2041998     358\n",
       "2041999     443\n",
       "2042000     539\n",
       "2042001     625\n",
       "2042002     696\n",
       "2042003     755\n",
       "2042004     791\n",
       "2042005     801\n",
       "2042006     790\n",
       "2042007     755\n",
       "2042008     691\n",
       "2042009     598\n",
       "2042010     478\n",
       "2042011     333\n",
       "2042012     169\n",
       "2042013      -6\n",
       "2042014    -183\n",
       "2042015    -360\n",
       "2042016    -528\n",
       "2042017    -681\n",
       "2042018    -813\n",
       "2042019    -926\n",
       "2042020   -1016\n",
       "2042021   -1084\n",
       "           ... \n",
       "2042026   -1082\n",
       "2042027   -1046\n",
       "2042028   -1002\n",
       "2042029    -955\n",
       "2042030    -902\n",
       "2042031    -845\n",
       "2042032    -791\n",
       "2042033    -742\n",
       "2042034    -694\n",
       "2042035    -644\n",
       "2042036    -589\n",
       "2042037    -525\n",
       "2042038    -453\n",
       "2042039    -378\n",
       "2042040    -309\n",
       "2042041    -250\n",
       "2042042    -204\n",
       "2042043    -170\n",
       "2042044    -141\n",
       "2042045    -115\n",
       "2042046     -91\n",
       "2042047     -71\n",
       "2042048     -58\n",
       "2042049     -58\n",
       "2042050     -71\n",
       "2042051     -95\n",
       "2042052    -120\n",
       "2042053    -146\n",
       "2042054    -169\n",
       "2042055    -188\n",
       "Name: L, Length: 64, dtype: int16"
      ]
     },
     "execution_count": 25,
     "metadata": {},
     "output_type": "execute_result"
    }
   ],
   "source": [
    "X_test_raw[X_test_wnd[0]]"
   ]
  },
  {
   "cell_type": "markdown",
   "metadata": {},
   "source": [
    "## Preparing data for processing"
   ]
  },
  {
   "cell_type": "code",
   "execution_count": 26,
   "metadata": {},
   "outputs": [
    {
     "data": {
      "text/plain": [
       "(88200    -725\n",
       " 88201    -877\n",
       " 88202    -986\n",
       " 88203   -1013\n",
       " 88204    -959\n",
       " 88205    -815\n",
       " 88206    -628\n",
       " 88207    -424\n",
       " 88208    -218\n",
       " 88209     -28\n",
       " 88210     151\n",
       " 88211     303\n",
       " 88212     431\n",
       " 88213     534\n",
       " 88214     615\n",
       " 88215     671\n",
       " 88216     707\n",
       " 88217     751\n",
       " 88218     842\n",
       " 88219     990\n",
       " 88220    1158\n",
       " 88221    1316\n",
       " 88222    1448\n",
       " 88223    1559\n",
       " 88224    1660\n",
       " 88225    1754\n",
       " 88226    1793\n",
       " 88227    1738\n",
       " 88228    1584\n",
       " 88229    1357\n",
       "          ... \n",
       " 88234     145\n",
       " 88235     -87\n",
       " 88236    -274\n",
       " 88237    -416\n",
       " 88238    -514\n",
       " 88239    -565\n",
       " 88240    -592\n",
       " 88241    -576\n",
       " 88242    -540\n",
       " 88243    -500\n",
       " 88244    -454\n",
       " 88245    -398\n",
       " 88246    -337\n",
       " 88247    -263\n",
       " 88248    -176\n",
       " 88249     -94\n",
       " 88250       3\n",
       " 88251      96\n",
       " 88252     190\n",
       " 88253     267\n",
       " 88254     319\n",
       " 88255     365\n",
       " 88256     400\n",
       " 88257     443\n",
       " 88258     482\n",
       " 88259     512\n",
       " 88260     504\n",
       " 88261     474\n",
       " 88262     451\n",
       " 88263     421\n",
       " Name: L, Length: 64, dtype: int16, 88201    -877\n",
       " 88202    -986\n",
       " 88203   -1013\n",
       " 88204    -959\n",
       " 88205    -815\n",
       " 88206    -628\n",
       " 88207    -424\n",
       " 88208    -218\n",
       " 88209     -28\n",
       " 88210     151\n",
       " 88211     303\n",
       " 88212     431\n",
       " 88213     534\n",
       " 88214     615\n",
       " 88215     671\n",
       " 88216     707\n",
       " 88217     751\n",
       " 88218     842\n",
       " 88219     990\n",
       " 88220    1158\n",
       " 88221    1316\n",
       " 88222    1448\n",
       " 88223    1559\n",
       " 88224    1660\n",
       " 88225    1754\n",
       " 88226    1793\n",
       " 88227    1738\n",
       " 88228    1584\n",
       " 88229    1357\n",
       " 88230    1122\n",
       "          ... \n",
       " 88235     -87\n",
       " 88236    -274\n",
       " 88237    -416\n",
       " 88238    -514\n",
       " 88239    -565\n",
       " 88240    -592\n",
       " 88241    -576\n",
       " 88242    -540\n",
       " 88243    -500\n",
       " 88244    -454\n",
       " 88245    -398\n",
       " 88246    -337\n",
       " 88247    -263\n",
       " 88248    -176\n",
       " 88249     -94\n",
       " 88250       3\n",
       " 88251      96\n",
       " 88252     190\n",
       " 88253     267\n",
       " 88254     319\n",
       " 88255     365\n",
       " 88256     400\n",
       " 88257     443\n",
       " 88258     482\n",
       " 88259     512\n",
       " 88260     504\n",
       " 88261     474\n",
       " 88262     451\n",
       " 88263     421\n",
       " 88264     401\n",
       " Name: L, Length: 64, dtype: int16)"
      ]
     },
     "execution_count": 26,
     "metadata": {},
     "output_type": "execute_result"
    }
   ],
   "source": [
    "X_train = list(map(lambda wnd: X_train_raw[wnd], X_train_wnd))\n",
    "X_train[0], X_train[1]"
   ]
  },
  {
   "cell_type": "code",
   "execution_count": 27,
   "metadata": {},
   "outputs": [
    {
     "data": {
      "text/plain": [
       "(2041992     153\n",
       " 2041993     147\n",
       " 2041994     154\n",
       " 2041995     176\n",
       " 2041996     215\n",
       " 2041997     279\n",
       " 2041998     358\n",
       " 2041999     443\n",
       " 2042000     539\n",
       " 2042001     625\n",
       " 2042002     696\n",
       " 2042003     755\n",
       " 2042004     791\n",
       " 2042005     801\n",
       " 2042006     790\n",
       " 2042007     755\n",
       " 2042008     691\n",
       " 2042009     598\n",
       " 2042010     478\n",
       " 2042011     333\n",
       " 2042012     169\n",
       " 2042013      -6\n",
       " 2042014    -183\n",
       " 2042015    -360\n",
       " 2042016    -528\n",
       " 2042017    -681\n",
       " 2042018    -813\n",
       " 2042019    -926\n",
       " 2042020   -1016\n",
       " 2042021   -1084\n",
       "            ... \n",
       " 2042026   -1082\n",
       " 2042027   -1046\n",
       " 2042028   -1002\n",
       " 2042029    -955\n",
       " 2042030    -902\n",
       " 2042031    -845\n",
       " 2042032    -791\n",
       " 2042033    -742\n",
       " 2042034    -694\n",
       " 2042035    -644\n",
       " 2042036    -589\n",
       " 2042037    -525\n",
       " 2042038    -453\n",
       " 2042039    -378\n",
       " 2042040    -309\n",
       " 2042041    -250\n",
       " 2042042    -204\n",
       " 2042043    -170\n",
       " 2042044    -141\n",
       " 2042045    -115\n",
       " 2042046     -91\n",
       " 2042047     -71\n",
       " 2042048     -58\n",
       " 2042049     -58\n",
       " 2042050     -71\n",
       " 2042051     -95\n",
       " 2042052    -120\n",
       " 2042053    -146\n",
       " 2042054    -169\n",
       " 2042055    -188\n",
       " Name: L, Length: 64, dtype: int16, 2041993     147\n",
       " 2041994     154\n",
       " 2041995     176\n",
       " 2041996     215\n",
       " 2041997     279\n",
       " 2041998     358\n",
       " 2041999     443\n",
       " 2042000     539\n",
       " 2042001     625\n",
       " 2042002     696\n",
       " 2042003     755\n",
       " 2042004     791\n",
       " 2042005     801\n",
       " 2042006     790\n",
       " 2042007     755\n",
       " 2042008     691\n",
       " 2042009     598\n",
       " 2042010     478\n",
       " 2042011     333\n",
       " 2042012     169\n",
       " 2042013      -6\n",
       " 2042014    -183\n",
       " 2042015    -360\n",
       " 2042016    -528\n",
       " 2042017    -681\n",
       " 2042018    -813\n",
       " 2042019    -926\n",
       " 2042020   -1016\n",
       " 2042021   -1084\n",
       " 2042022   -1128\n",
       "            ... \n",
       " 2042027   -1046\n",
       " 2042028   -1002\n",
       " 2042029    -955\n",
       " 2042030    -902\n",
       " 2042031    -845\n",
       " 2042032    -791\n",
       " 2042033    -742\n",
       " 2042034    -694\n",
       " 2042035    -644\n",
       " 2042036    -589\n",
       " 2042037    -525\n",
       " 2042038    -453\n",
       " 2042039    -378\n",
       " 2042040    -309\n",
       " 2042041    -250\n",
       " 2042042    -204\n",
       " 2042043    -170\n",
       " 2042044    -141\n",
       " 2042045    -115\n",
       " 2042046     -91\n",
       " 2042047     -71\n",
       " 2042048     -58\n",
       " 2042049     -58\n",
       " 2042050     -71\n",
       " 2042051     -95\n",
       " 2042052    -120\n",
       " 2042053    -146\n",
       " 2042054    -169\n",
       " 2042055    -188\n",
       " 2042056    -210\n",
       " Name: L, Length: 64, dtype: int16)"
      ]
     },
     "execution_count": 27,
     "metadata": {},
     "output_type": "execute_result"
    }
   ],
   "source": [
    "X_test = list(map(lambda wnd: X_test_raw[wnd], X_test_wnd))\n",
    "X_test[0], X_test[1]"
   ]
  },
  {
   "cell_type": "code",
   "execution_count": 28,
   "metadata": {},
   "outputs": [
    {
     "data": {
      "text/plain": [
       "(88200    1118\n",
       " 88201     258\n",
       " 88202     145\n",
       " 88203     854\n",
       " 88204     896\n",
       " 88205     -54\n",
       " 88206   -1922\n",
       " 88207   -3178\n",
       " 88208   -1751\n",
       " 88209    1715\n",
       " 88210    4552\n",
       " 88211    4313\n",
       " 88212    2005\n",
       " 88213    -137\n",
       " 88214   -1049\n",
       " 88215     866\n",
       " 88216    3828\n",
       " 88217    4486\n",
       " 88218    2774\n",
       " 88219      42\n",
       " 88220   -1738\n",
       " 88221   -1592\n",
       " 88222     -35\n",
       " 88223    1778\n",
       " 88224    2595\n",
       " 88225    1983\n",
       " 88226    1740\n",
       " 88227    1965\n",
       " 88228    1299\n",
       " 88229    1925\n",
       "          ... \n",
       " 88234    -442\n",
       " 88235    1143\n",
       " 88236    3186\n",
       " 88237    4384\n",
       " 88238    3292\n",
       " 88239    -477\n",
       " 88240   -2510\n",
       " 88241    -662\n",
       " 88242    3925\n",
       " 88243    7671\n",
       " 88244    6696\n",
       " 88245    3316\n",
       " 88246     803\n",
       " 88247    1191\n",
       " 88248    3828\n",
       " 88249    5551\n",
       " 88250    5037\n",
       " 88251    3819\n",
       " 88252    3078\n",
       " 88253    2579\n",
       " 88254    2618\n",
       " 88255    2391\n",
       " 88256    2255\n",
       " 88257    2113\n",
       " 88258    1952\n",
       " 88259    2723\n",
       " 88260    2672\n",
       " 88261    1317\n",
       " 88262     712\n",
       " 88263    1208\n",
       " Name: L, Length: 64, dtype: int16, 88201     258\n",
       " 88202     145\n",
       " 88203     854\n",
       " 88204     896\n",
       " 88205     -54\n",
       " 88206   -1922\n",
       " 88207   -3178\n",
       " 88208   -1751\n",
       " 88209    1715\n",
       " 88210    4552\n",
       " 88211    4313\n",
       " 88212    2005\n",
       " 88213    -137\n",
       " 88214   -1049\n",
       " 88215     866\n",
       " 88216    3828\n",
       " 88217    4486\n",
       " 88218    2774\n",
       " 88219      42\n",
       " 88220   -1738\n",
       " 88221   -1592\n",
       " 88222     -35\n",
       " 88223    1778\n",
       " 88224    2595\n",
       " 88225    1983\n",
       " 88226    1740\n",
       " 88227    1965\n",
       " 88228    1299\n",
       " 88229    1925\n",
       " 88230    3392\n",
       "          ... \n",
       " 88235    1143\n",
       " 88236    3186\n",
       " 88237    4384\n",
       " 88238    3292\n",
       " 88239    -477\n",
       " 88240   -2510\n",
       " 88241    -662\n",
       " 88242    3925\n",
       " 88243    7671\n",
       " 88244    6696\n",
       " 88245    3316\n",
       " 88246     803\n",
       " 88247    1191\n",
       " 88248    3828\n",
       " 88249    5551\n",
       " 88250    5037\n",
       " 88251    3819\n",
       " 88252    3078\n",
       " 88253    2579\n",
       " 88254    2618\n",
       " 88255    2391\n",
       " 88256    2255\n",
       " 88257    2113\n",
       " 88258    1952\n",
       " 88259    2723\n",
       " 88260    2672\n",
       " 88261    1317\n",
       " 88262     712\n",
       " 88263    1208\n",
       " 88264    1572\n",
       " Name: L, Length: 64, dtype: int16)"
      ]
     },
     "execution_count": 28,
     "metadata": {},
     "output_type": "execute_result"
    }
   ],
   "source": [
    "y_train = list(map(lambda wnd: y_train_raw[wnd], y_train_wnd))\n",
    "y_train[0], y_train[1]"
   ]
  },
  {
   "cell_type": "code",
   "execution_count": 29,
   "metadata": {},
   "outputs": [
    {
     "data": {
      "text/plain": [
       "(2041992    1572\n",
       " 2041993     314\n",
       " 2041994    -408\n",
       " 2041995    -288\n",
       " 2041996    -101\n",
       " 2041997    -390\n",
       " 2041998   -1198\n",
       " 2041999   -2009\n",
       " 2042000   -2520\n",
       " 2042001   -2666\n",
       " 2042002   -2592\n",
       " 2042003   -2741\n",
       " 2042004   -2906\n",
       " 2042005   -2911\n",
       " 2042006   -2718\n",
       " 2042007   -2175\n",
       " 2042008   -1581\n",
       " 2042009   -1250\n",
       " 2042010   -1388\n",
       " 2042011   -1692\n",
       " 2042012   -1780\n",
       " 2042013   -1656\n",
       " 2042014   -1289\n",
       " 2042015    -987\n",
       " 2042016    -755\n",
       " 2042017    -609\n",
       " 2042018    -437\n",
       " 2042019    -199\n",
       " 2042020     -61\n",
       " 2042021      19\n",
       "            ... \n",
       " 2042026     336\n",
       " 2042027     288\n",
       " 2042028     476\n",
       " 2042029     254\n",
       " 2042030    -152\n",
       " 2042031     229\n",
       " 2042032     748\n",
       " 2042033     953\n",
       " 2042034     871\n",
       " 2042035     455\n",
       " 2042036    -128\n",
       " 2042037    -425\n",
       " 2042038    -205\n",
       " 2042039     534\n",
       " 2042040     549\n",
       " 2042041     -71\n",
       " 2042042    -413\n",
       " 2042043    -554\n",
       " 2042044    -291\n",
       " 2042045       9\n",
       " 2042046     611\n",
       " 2042047     561\n",
       " 2042048    -444\n",
       " 2042049    -614\n",
       " 2042050    -416\n",
       " 2042051    -173\n",
       " 2042052     333\n",
       " 2042053     247\n",
       " 2042054      49\n",
       " 2042055     241\n",
       " Name: L, Length: 64, dtype: int16, 2041993     314\n",
       " 2041994    -408\n",
       " 2041995    -288\n",
       " 2041996    -101\n",
       " 2041997    -390\n",
       " 2041998   -1198\n",
       " 2041999   -2009\n",
       " 2042000   -2520\n",
       " 2042001   -2666\n",
       " 2042002   -2592\n",
       " 2042003   -2741\n",
       " 2042004   -2906\n",
       " 2042005   -2911\n",
       " 2042006   -2718\n",
       " 2042007   -2175\n",
       " 2042008   -1581\n",
       " 2042009   -1250\n",
       " 2042010   -1388\n",
       " 2042011   -1692\n",
       " 2042012   -1780\n",
       " 2042013   -1656\n",
       " 2042014   -1289\n",
       " 2042015    -987\n",
       " 2042016    -755\n",
       " 2042017    -609\n",
       " 2042018    -437\n",
       " 2042019    -199\n",
       " 2042020     -61\n",
       " 2042021      19\n",
       " 2042022    -117\n",
       "            ... \n",
       " 2042027     288\n",
       " 2042028     476\n",
       " 2042029     254\n",
       " 2042030    -152\n",
       " 2042031     229\n",
       " 2042032     748\n",
       " 2042033     953\n",
       " 2042034     871\n",
       " 2042035     455\n",
       " 2042036    -128\n",
       " 2042037    -425\n",
       " 2042038    -205\n",
       " 2042039     534\n",
       " 2042040     549\n",
       " 2042041     -71\n",
       " 2042042    -413\n",
       " 2042043    -554\n",
       " 2042044    -291\n",
       " 2042045       9\n",
       " 2042046     611\n",
       " 2042047     561\n",
       " 2042048    -444\n",
       " 2042049    -614\n",
       " 2042050    -416\n",
       " 2042051    -173\n",
       " 2042052     333\n",
       " 2042053     247\n",
       " 2042054      49\n",
       " 2042055     241\n",
       " 2042056      87\n",
       " Name: L, Length: 64, dtype: int16)"
      ]
     },
     "execution_count": 29,
     "metadata": {},
     "output_type": "execute_result"
    }
   ],
   "source": [
    "y_test = list(map(lambda wnd: y_test_raw[wnd], y_test_wnd))\n",
    "y_test[0], y_test[1]"
   ]
  },
  {
   "cell_type": "code",
   "execution_count": 30,
   "metadata": {},
   "outputs": [],
   "source": [
    "def normalize_keeping_mean(arr, forced_abs=None):\n",
    "    left_abs = np.abs(arr.mean() - arr.min())\n",
    "    right_abs = np.abs(arr.max() - arr.mean())\n",
    "    \n",
    "    n = max(left_abs, right_abs)\n",
    "    \n",
    "    if (forced_abs is not None):\n",
    "        n = forced_abs\n",
    "    \n",
    "    return np.clip(arr / n, -1.0, 1.0)"
   ]
  },
  {
   "cell_type": "code",
   "execution_count": 40,
   "metadata": {},
   "outputs": [],
   "source": [
    "def normalize(arr, forced_abs=None, mean=None):\n",
    "    left_abs = np.abs(arr.mean() - arr.min())\n",
    "    right_abs = np.abs(arr.max() - arr.mean())\n",
    "    \n",
    "    n = max(left_abs, right_abs)\n",
    "    \n",
    "    if (forced_abs is not None):\n",
    "        n = forced_abs\n",
    "        \n",
    "    if (mean is None):\n",
    "        mean = arr.mean()\n",
    "    \n",
    "    \n",
    "    return np.clip((arr - mean) / n, -1.0, 1.0)"
   ]
  },
  {
   "cell_type": "code",
   "execution_count": 52,
   "metadata": {},
   "outputs": [
    {
     "data": {
      "text/plain": [
       "(-0.07431257057405316, 0.09094515823847163, -1.7989684502620792e-06)"
      ]
     },
     "execution_count": 52,
     "metadata": {},
     "output_type": "execute_result"
    }
   ],
   "source": [
    "import numpy as np\n",
    "\n",
    "X_tr = np.array(list(map(lambda x: np.array(x), X_train)))\n",
    "X_tr_n = normalize(X_tr, forced_abs=MAX_VALUE, mean=0.0)\n",
    "X_tr_n.min(), X_tr_n.max(), np.mean(X_tr_n)"
   ]
  },
  {
   "cell_type": "code",
   "execution_count": 53,
   "metadata": {},
   "outputs": [
    {
     "data": {
      "text/plain": [
       "(-0.05261391033661916, 0.04519791253395184, -4.6741183226139913e-05)"
      ]
     },
     "execution_count": 53,
     "metadata": {},
     "output_type": "execute_result"
    }
   ],
   "source": [
    "X_te = np.array(list(map(lambda x: np.array(x), X_test)))\n",
    "X_te_n = normalize_keeping_mean(X_te, forced_abs=MAX_VALUE)\n",
    "X_te_n.min(), X_te_n.max(), np.mean(X_te_n)"
   ]
  },
  {
   "cell_type": "code",
   "execution_count": 54,
   "metadata": {},
   "outputs": [
    {
     "data": {
      "text/plain": [
       "(-0.401989806817835, 0.380596331675161, 3.3109552483912526e-06)"
      ]
     },
     "execution_count": 54,
     "metadata": {},
     "output_type": "execute_result"
    }
   ],
   "source": [
    "y_tr = np.array(list(map(lambda x: np.array(x), y_train)))\n",
    "y_tr_n = normalize_keeping_mean(y_tr, forced_abs=MAX_VALUE)\n",
    "y_tr_n.min(), y_tr_n.max(), np.mean(y_tr_n)"
   ]
  },
  {
   "cell_type": "code",
   "execution_count": 55,
   "metadata": {},
   "outputs": [
    {
     "data": {
      "text/plain": [
       "(-0.16470839564195686, 0.1424604022339549, -6.220499054262349e-05)"
      ]
     },
     "execution_count": 55,
     "metadata": {},
     "output_type": "execute_result"
    }
   ],
   "source": [
    "y_te = np.array(list(map(lambda x: np.array(x), y_test)))\n",
    "y_te_n = normalize_keeping_mean(y_te, forced_abs=MAX_VALUE)\n",
    "y_te_n.min(), y_te_n.max(), np.mean(y_te_n)"
   ]
  },
  {
   "cell_type": "code",
   "execution_count": 56,
   "metadata": {},
   "outputs": [],
   "source": [
    "X_tr_n = X_tr_n.astype('float32')\n",
    "X_te_n = X_te_n.astype('float32')\n",
    "y_tr_n = y_tr_n.astype('float32')\n",
    "y_te_n = y_te_n.astype('float32')"
   ]
  },
  {
   "cell_type": "code",
   "execution_count": 57,
   "metadata": {
    "scrolled": true
   },
   "outputs": [
    {
     "data": {
      "text/plain": [
       "<matplotlib.axes._subplots.AxesSubplot at 0x12db37a90>"
      ]
     },
     "execution_count": 57,
     "metadata": {},
     "output_type": "execute_result"
    },
    {
     "data": {
      "image/png": "[encoded data removed]",
      "text/plain": [
       "<Figure size 432x288 with 1 Axes>"
      ]
     },
     "metadata": {
      "needs_background": "light"
     },
     "output_type": "display_data"
    }
   ],
   "source": [
    "pd.Series(X_tr_n[100]).plot.line()"
   ]
  },
  {
   "cell_type": "code",
   "execution_count": 58,
   "metadata": {},
   "outputs": [
    {
     "data": {
      "text/plain": [
       "<matplotlib.axes._subplots.AxesSubplot at 0x12def0978>"
      ]
     },
     "execution_count": 58,
     "metadata": {},
     "output_type": "execute_result"
    },
    {
     "data": {
      "image/png": "[encoded data removed]",
      "text/plain": [
       "<Figure size 432x288 with 1 Axes>"
      ]
     },
     "metadata": {
      "needs_background": "light"
     },
     "output_type": "display_data"
    }
   ],
   "source": [
    "pd.Series(y_tr_n[100]).plot.line()"
   ]
  },
  {
   "cell_type": "code",
   "execution_count": 96,
   "metadata": {},
   "outputs": [
    {
     "data": {
      "text/plain": [
       "<matplotlib.axes._subplots.AxesSubplot at 0x16155d710>"
      ]
     },
     "execution_count": 96,
     "metadata": {},
     "output_type": "execute_result"
    },
    {
     "data": {
      "image/png": "[encoded data removed]",
      "text/plain": [
       "<Figure size 432x288 with 1 Axes>"
      ]
     },
     "metadata": {
      "needs_background": "light"
     },
     "output_type": "display_data"
    }
   ],
   "source": [
    "pd.Series(X_te_n[100]).plot.line()"
   ]
  },
  {
   "cell_type": "code",
   "execution_count": 97,
   "metadata": {},
   "outputs": [
    {
     "data": {
      "text/plain": [
       "<matplotlib.axes._subplots.AxesSubplot at 0x1615be320>"
      ]
     },
     "execution_count": 97,
     "metadata": {},
     "output_type": "execute_result"
    },
    {
     "data": {
      "image/png": "[encoded data removed]",
      "text/plain": [
       "<Figure size 432x288 with 1 Axes>"
      ]
     },
     "metadata": {
      "needs_background": "light"
     },
     "output_type": "display_data"
    }
   ],
   "source": [
    "pd.Series(y_te_n[100]).plot.line()"
   ]
  },
  {
   "cell_type": "markdown",
   "metadata": {},
   "source": [
    "## Need to apply FFT to data\n",
    "\n",
    "The plan is to apply FFT, and take the freqs and amplitudes of first N peaks, feeding it into NN"
   ]
  },
  {
   "cell_type": "code",
   "execution_count": 59,
   "metadata": {},
   "outputs": [
    {
     "data": {
      "text/plain": [
       "array([  153,   147,   154,   176,   215,   279,   358,   443,   539,\n",
       "         625,   696,   755,   791,   801,   790,   755,   691,   598,\n",
       "         478,   333,   169,    -6,  -183,  -360,  -528,  -681,  -813,\n",
       "        -926, -1016, -1084, -1128, -1144, -1134, -1111, -1082, -1046,\n",
       "       -1002,  -955,  -902,  -845,  -791,  -742,  -694,  -644,  -589,\n",
       "        -525,  -453,  -378,  -309,  -250,  -204,  -170,  -141,  -115,\n",
       "         -91,   -71,   -58,   -58,   -71,   -95,  -120,  -146,  -169,\n",
       "        -188], dtype=int16)"
      ]
     },
     "execution_count": 59,
     "metadata": {},
     "output_type": "execute_result"
    }
   ],
   "source": [
    "test_wnd = X_te[0]\n",
    "test_wnd"
   ]
  },
  {
   "cell_type": "code",
   "execution_count": 60,
   "metadata": {},
   "outputs": [
    {
     "data": {
      "text/plain": [
       "44100"
      ]
     },
     "execution_count": 60,
     "metadata": {},
     "output_type": "execute_result"
    }
   ],
   "source": [
    "FD = 22050 * 2\n",
    "FD"
   ]
  },
  {
   "cell_type": "code",
   "execution_count": 61,
   "metadata": {},
   "outputs": [
    {
     "data": {
      "text/plain": [
       "<matplotlib.axes._subplots.AxesSubplot at 0x12e011668>"
      ]
     },
     "execution_count": 61,
     "metadata": {},
     "output_type": "execute_result"
    },
    {
     "data": {
      "image/png": "[encoded data removed]",
      "text/plain": [
       "<Figure size 432x288 with 1 Axes>"
      ]
     },
     "metadata": {
      "needs_background": "light"
     },
     "output_type": "display_data"
    }
   ],
   "source": [
    "pd.Series(test_wnd).plot.line()"
   ]
  },
  {
   "cell_type": "code",
   "execution_count": 62,
   "metadata": {},
   "outputs": [
    {
     "name": "stdout",
     "output_type": "stream",
     "text": [
      "22050.0\n",
      "[0.0, 668.1818181818182, 1336.3636363636365, 2004.5454545454545, 2672.727272727273, 3340.909090909091, 4009.090909090909, 4677.272727272727, 5345.454545454546, 6013.636363636363, 6681.818181818182, 7350.0, 8018.181818181818, 8686.363636363636, 9354.545454545454, 10022.727272727272, 10690.909090909092, 11359.090909090908, 12027.272727272726, 12695.454545454546, 13363.636363636364, 14031.818181818182, 14700.0, 15368.18181818182, 16036.363636363636, 16704.545454545456, 17372.727272727272, 18040.909090909092, 18709.090909090908, 19377.272727272728, 20045.454545454544, 20713.636363636364, 21381.818181818184]\n"
     ]
    }
   ],
   "source": [
    "from numpy.fft import rfft, fftfreq, rfftfreq\n",
    "\n",
    "freq = rfftfreq(32, 1./FD)\n",
    "max_freq = freq[-1]\n",
    "\n",
    "print(max_freq)\n",
    "\n",
    "fft = rfft(test_wnd)\n",
    "\n",
    "df = pd.Series(fft)\n",
    "\n",
    "index = []\n",
    "\n",
    "for i in range(0, len(fft)):\n",
    "    index = index + [(i / len(fft)) * max_freq]\n",
    "\n",
    "print(index)\n",
    "\n",
    "df.index = index"
   ]
  },
  {
   "cell_type": "code",
   "execution_count": 98,
   "metadata": {},
   "outputs": [
    {
     "data": {
      "text/plain": [
       "<matplotlib.axes._subplots.AxesSubplot at 0x161620d68>"
      ]
     },
     "execution_count": 98,
     "metadata": {},
     "output_type": "execute_result"
    },
    {
     "data": {
      "image/png": "[encoded data removed]",
      "text/plain": [
       "<Figure size 432x288 with 1 Axes>"
      ]
     },
     "metadata": {
      "needs_background": "light"
     },
     "output_type": "display_data"
    }
   ],
   "source": [
    "df.map(lambda x: x.imag).plot.line()"
   ]
  },
  {
   "cell_type": "code",
   "execution_count": 99,
   "metadata": {},
   "outputs": [
    {
     "name": "stderr",
     "output_type": "stream",
     "text": [
      "/usr/local/lib/python3.7/site-packages/numpy/core/numeric.py:538: ComplexWarning: Casting complex values to real discards the imaginary part\n",
      "  return array(a, dtype, copy=False, order=order)\n"
     ]
    },
    {
     "data": {
      "text/plain": [
       "<matplotlib.axes._subplots.AxesSubplot at 0x161bb0668>"
      ]
     },
     "execution_count": 99,
     "metadata": {},
     "output_type": "execute_result"
    },
    {
     "data": {
      "image/png": "[encoded data removed]",
      "text/plain": [
       "<Figure size 1152x576 with 1 Axes>"
      ]
     },
     "metadata": {
      "needs_background": "light"
     },
     "output_type": "display_data"
    }
   ],
   "source": [
    "from scipy.signal import find_peaks\n",
    "from matplotlib import pyplot as plt\n",
    "\n",
    "(fig, ax) = plt.subplots(figsize=(16, 8))\n",
    "df.plot.line(ax=ax)\n",
    "\n",
    "peaks_re = find_peaks(df.map(lambda x: x.real))[0]\n",
    "peaks_im = find_peaks(df.map(lambda x: x.imag))[0]\n",
    "\n",
    "pd.DataFrame(df.iloc[peaks_re]).plot.line(ax=ax)"
   ]
  },
  {
   "cell_type": "code",
   "execution_count": 65,
   "metadata": {},
   "outputs": [],
   "source": [
    "def append_peaks(df, peaks, N):\n",
    "    res = df.iloc[peaks[:N]]\n",
    "\n",
    "    for i in range(len(peaks), N_PEAKS):\n",
    "        res = res.append(pd.Series([0], index=[0]))\n",
    "        \n",
    "    return res"
   ]
  },
  {
   "cell_type": "code",
   "execution_count": 100,
   "metadata": {},
   "outputs": [
    {
     "data": {
      "text/plain": [
       "array([ 1,  4,  8, 11, 14, 16, 18, 22, 27, 30])"
      ]
     },
     "execution_count": 100,
     "metadata": {},
     "output_type": "execute_result"
    }
   ],
   "source": [
    "peaks_re"
   ]
  },
  {
   "cell_type": "code",
   "execution_count": 101,
   "metadata": {},
   "outputs": [
    {
     "data": {
      "text/plain": [
       "(668.181818      (19165.864282007904-13210.228041584922j)\n",
       " 2672.727273        (426.432405907169-907.7575432592483j)\n",
       " 5345.454545       (332.3675323681471-560.1980515339465j)\n",
       " 7350.000000      (183.2663119928262-266.17821596121325j)\n",
       " 9354.545455       (177.2448962721844-220.2590427688965j)\n",
       " 10690.909091                                  (184-182j)\n",
       " 12027.272727    (176.96210797064782-159.03466627268244j)\n",
       " 14700.000000     (187.02907484401788-90.56815615341998j)\n",
       " 18040.909091     (175.31949521909988-47.18761735642482j)\n",
       " 20045.454545     (179.08391988326366-20.23888053051087j)\n",
       " dtype: complex128, 2004.545455    (-1169.0739447816322+2828.3801350635576j)\n",
       " 3340.909091     (236.02378658939276-386.19916021680666j)\n",
       " 6013.636364     (213.62943828431537-305.72801820736674j)\n",
       " 7350.000000      (183.2663119928262-266.17821596121325j)\n",
       " 0.000000                                              0j\n",
       " 0.000000                                              0j\n",
       " 0.000000                                              0j\n",
       " 0.000000                                              0j\n",
       " 0.000000                                              0j\n",
       " 0.000000                                              0j\n",
       " dtype: complex128)"
      ]
     },
     "execution_count": 101,
     "metadata": {},
     "output_type": "execute_result"
    }
   ],
   "source": [
    "N_PEAKS = 10\n",
    "\n",
    "peaks_re = append_peaks(df, peaks_re, N_PEAKS)\n",
    "peaks_im = append_peaks(df, peaks_im, N_PEAKS)\n",
    "\n",
    "(peaks_re, peaks_im)"
   ]
  },
  {
   "cell_type": "code",
   "execution_count": 334,
   "metadata": {},
   "outputs": [],
   "source": [
    "from numpy.fft import rfft, fftfreq, rfftfreq\n",
    "from scipy.signal import find_peaks\n",
    "from matplotlib import pyplot as plt\n",
    "\n",
    "MAGIC_NUMBER = 22050\n",
    "\n",
    "def extract_fft_features(wnd, N_PEAKS):\n",
    "    # Apply FFT\n",
    "    \n",
    "    freq = rfftfreq(N_WINDOW_POINTS, 1./FD)\n",
    "    max_freq = freq[-1]\n",
    "\n",
    "    fft = rfft(wnd)\n",
    "\n",
    "    df = pd.Series(fft)\n",
    "\n",
    "    index = []\n",
    "\n",
    "    for i in range(0, len(fft)):\n",
    "        index = index + [(i / len(fft))]\n",
    "\n",
    "    df.index = index\n",
    "\n",
    "    # Output FFT\n",
    "    \n",
    "    real = normalize(\n",
    "         np.array(list(map(lambda x: x.real, df.values))),\n",
    "         forced_abs=MAGIC_NUMBER,\n",
    "         mean=0.0\n",
    "    )\n",
    "    \n",
    "    imag = normalize(\n",
    "        np.array(list(map(lambda x: x.imag, df.values))),\n",
    "        forced_abs=MAGIC_NUMBER,\n",
    "        mean=0.0\n",
    "    )\n",
    "\n",
    "    res = np.concatenate([real, imag])\n",
    "    \n",
    "    return res\n",
    "    \n",
    "    \n",
    "    # Find peaks\n",
    "\n",
    "#     peaks_re = find_peaks(df.map(lambda x: x.real))[0]\n",
    "#     peaks_im = find_peaks(df.map(lambda x: x.imag))[0]\n",
    "\n",
    "#     peaks_re = append_peaks(df, peaks_re, N_PEAKS)\n",
    "#     peaks_im = append_peaks(df, peaks_im, N_PEAKS)\n",
    "    \n",
    "#     features_re = (\n",
    "#          list(np.array(list(peaks_re.index))) +\n",
    "#          list(normalize(np.array(list(map(lambda x: x.real, peaks_re.get_values()))), forced_abs=MAGIC_NUMBER, mean=0.0))\n",
    "#     )\n",
    "    \n",
    "#     features_im = (\n",
    "#          list(np.array(list(peaks_im.index))) +\n",
    "#          list(normalize(np.array(list(map(lambda x: x.imag, peaks_im.get_values()))), forced_abs=MAGIC_NUMBER, mean=0.0))\n",
    "#     )\n",
    "\n",
    "#     return np.array(list(features_re) + list(features_im))"
   ]
  },
  {
   "cell_type": "code",
   "execution_count": 335,
   "metadata": {},
   "outputs": [
    {
     "data": {
      "text/plain": [
       "array([-5.92834467e-01,  8.69200194e-01, -5.47614264e-01, -5.30192265e-02,\n",
       "        1.93393381e-02,  1.07040266e-02,  4.97133652e-03,  9.81766727e-03,\n",
       "        1.50733575e-02,  9.68840990e-03,  7.54393080e-03,  8.31139737e-03,\n",
       "        8.20167816e-03,  7.49889112e-03,  8.03831729e-03,  7.64894290e-03,\n",
       "        8.34467120e-03,  7.87888664e-03,  8.02549242e-03,  7.46351238e-03,\n",
       "        7.96057280e-03,  8.25331567e-03,  8.48204421e-03,  8.46799898e-03,\n",
       "        8.14659717e-03,  7.97394767e-03,  7.91895148e-03,  7.95099752e-03,\n",
       "        7.85441998e-03,  7.99184101e-03,  8.12171972e-03,  8.04674832e-03,\n",
       "        8.34467120e-03,  0.00000000e+00, -5.99103313e-01, -1.31371004e-01,\n",
       "        1.28271208e-01, -4.11681426e-02, -1.75147011e-02, -2.06327904e-02,\n",
       "       -2.69463869e-02, -2.54058073e-02, -1.38652162e-02, -1.56780222e-02,\n",
       "       -1.20715744e-02, -1.28484292e-02, -1.04171928e-02, -9.98907223e-03,\n",
       "       -8.91974825e-03, -8.25396825e-03, -7.39820649e-03, -7.21245652e-03,\n",
       "       -5.27925145e-03, -4.99087737e-03, -4.26488267e-03, -4.10739937e-03,\n",
       "       -3.84511682e-03, -3.45569395e-03, -3.12384577e-03, -2.56478041e-03,\n",
       "       -2.14002800e-03, -1.56455897e-03, -1.20451767e-03, -9.17863063e-04,\n",
       "       -3.37394630e-04,  0.00000000e+00])"
      ]
     },
     "execution_count": 335,
     "metadata": {},
     "output_type": "execute_result"
    }
   ],
   "source": [
    "extract_fft_features(test_wnd, N_PEAKS)"
   ]
  },
  {
   "cell_type": "code",
   "execution_count": 336,
   "metadata": {},
   "outputs": [],
   "source": [
    "# it. fucking. works.\n",
    "# Hail God."
   ]
  },
  {
   "cell_type": "code",
   "execution_count": 337,
   "metadata": {},
   "outputs": [],
   "source": [
    "def append_features(X):\n",
    "    res = []\n",
    "    \n",
    "    for wnd in X:\n",
    "        # res.append(np.array(list(wnd) + list(extract_fft_features(wnd, N_PEAKS))))\n",
    "        res.append(extract_fft_features(wnd, N_PEAKS))\n",
    "    \n",
    "    return np.array(res)"
   ]
  },
  {
   "cell_type": "code",
   "execution_count": 338,
   "metadata": {},
   "outputs": [
    {
     "data": {
      "text/plain": [
       "array([[ 2.35705316e-05, -1.81903035e-05, -3.12904936e-06,\n",
       "        -5.34367088e-06, -2.79372167e-06,  1.42749038e-06,\n",
       "         1.70190232e-07, -3.17186309e-07, -5.95771389e-07,\n",
       "        -1.64528329e-07, -2.30042274e-07, -8.17901577e-07,\n",
       "        -2.16672234e-07, -6.26118233e-07, -6.27115560e-07,\n",
       "        -6.82641952e-07, -6.65732564e-07, -6.72055896e-07,\n",
       "        -7.13611585e-07, -7.37893261e-07, -6.99957100e-07,\n",
       "        -7.14908683e-07, -7.42622294e-07, -6.74789792e-07,\n",
       "        -7.19085027e-07, -7.15222843e-07, -7.18107441e-07,\n",
       "        -7.18191248e-07, -6.90957675e-07, -7.45519848e-07,\n",
       "        -7.30634428e-07, -7.33720926e-07, -7.30783271e-07,\n",
       "         0.00000000e+00, -2.14029113e-05,  3.46150916e-05,\n",
       "         9.30396123e-07,  1.16135500e-05,  4.46473382e-06,\n",
       "         3.16080877e-06,  2.91652861e-06,  1.94926110e-06,\n",
       "         2.03764065e-06,  8.86869420e-07,  1.35742885e-06,\n",
       "         1.20448971e-06,  9.83657293e-07,  9.45051557e-07,\n",
       "         8.61775145e-07,  8.34587894e-07,  7.05697238e-07,\n",
       "         6.63215966e-07,  5.85345898e-07,  5.18860049e-07,\n",
       "         4.65089000e-07,  4.06199227e-07,  3.50761582e-07,\n",
       "         3.27143166e-07,  2.59126412e-07,  2.01315439e-07,\n",
       "         1.58791499e-07,  1.32257307e-07,  1.34762322e-07,\n",
       "         7.64293553e-08,  4.07593857e-08,  0.00000000e+00]])"
      ]
     },
     "execution_count": 338,
     "metadata": {},
     "output_type": "execute_result"
    }
   ],
   "source": [
    "append_features(X_tr_n[:1])"
   ]
  },
  {
   "cell_type": "code",
   "execution_count": 339,
   "metadata": {},
   "outputs": [
    {
     "data": {
      "text/plain": [
       "(44036, 5448, 44036, 5448)"
      ]
     },
     "execution_count": 339,
     "metadata": {},
     "output_type": "execute_result"
    }
   ],
   "source": [
    "(len(X_tr), len(X_te), len(y_tr), len(y_te))"
   ]
  },
  {
   "cell_type": "code",
   "execution_count": 340,
   "metadata": {},
   "outputs": [
    {
     "name": "stdout",
     "output_type": "stream",
     "text": [
      "CPU times: user 6.88 s, sys: 139 ms, total: 7.01 s\n",
      "Wall time: 7.1 s\n"
     ]
    }
   ],
   "source": [
    "%%time\n",
    "\n",
    "N_DEV_2 = 10000\n",
    "\n",
    "X_tr_f = append_features(X_tr_n[:N_DEV_2:2])\n",
    "X_te_f = append_features(X_te_n[:N_DEV_2:2])\n",
    "y_tr_f = append_features(y_tr_n[:N_DEV_2:2])\n",
    "y_te_f = append_features(y_te_n[:N_DEV_2:2])"
   ]
  },
  {
   "cell_type": "code",
   "execution_count": 341,
   "metadata": {},
   "outputs": [
    {
     "data": {
      "text/plain": [
       "(array([-1.80924246e-05,  2.65266949e-05, -1.67123715e-05, -1.61806786e-06,\n",
       "         5.90207708e-07,  3.26671096e-07,  1.51717760e-07,  2.99620590e-07,\n",
       "         4.60016390e-07,  2.95676000e-07,  2.30229304e-07,  2.53651507e-07,\n",
       "         2.50303074e-07,  2.28854790e-07,  2.45317514e-07,  2.33434375e-07,\n",
       "         2.54667011e-07,  2.40451955e-07,  2.44925949e-07,  2.27775232e-07,\n",
       "         2.42944710e-07,  2.51879039e-07,  2.58859299e-07,  2.58430774e-07,\n",
       "         2.48621931e-07,  2.43353189e-07,  2.41674376e-07,  2.42652651e-07,\n",
       "         2.39705111e-07,  2.43899182e-07,  2.47862784e-07,  2.45574758e-07,\n",
       "         2.54666885e-07,  0.00000000e+00, -1.82837405e-05, -4.00924723e-06,\n",
       "         3.91464604e-06, -1.25639011e-06, -5.34522688e-07, -6.29681797e-07,\n",
       "        -8.22363790e-07, -7.75347214e-07, -4.23145889e-07, -4.78469783e-07,\n",
       "        -3.68406591e-07, -3.92114826e-07, -3.17917159e-07, -3.04851664e-07,\n",
       "        -2.72217260e-07, -2.51898766e-07, -2.25782447e-07, -2.20113478e-07,\n",
       "        -1.61114808e-07, -1.52314116e-07, -1.30157772e-07, -1.25351808e-07,\n",
       "        -1.17347106e-07, -1.05462725e-07, -9.53351552e-08, -7.82732514e-08,\n",
       "        -6.53105557e-08, -4.77478328e-08, -3.67601346e-08, -2.80118003e-08,\n",
       "        -1.02968495e-08,  0.00000000e+00]),\n",
       " array([-4.69223814e-05, -1.13004088e-05,  2.87723740e-05,  1.83673161e-05,\n",
       "         7.31380227e-06,  3.48559770e-06, -1.67481013e-06,  2.27801657e-06,\n",
       "         4.67338883e-06, -2.57652435e-06, -9.77820394e-06,  7.21107190e-06,\n",
       "         7.43520500e-06,  4.02060616e-06,  4.61312440e-06,  3.91152770e-06,\n",
       "         3.37156883e-06,  3.71560072e-07,  1.53267608e-06,  3.77981881e-06,\n",
       "         2.40618285e-06,  2.70600772e-06,  9.82731173e-07,  1.52152796e-06,\n",
       "         5.47283085e-07,  3.51674823e-07,  1.58861757e-06,  1.45140862e-06,\n",
       "         1.50193091e-06,  1.09692410e-06,  1.23499629e-06,  1.25817464e-06,\n",
       "         1.25949429e-06,  0.00000000e+00,  4.87230915e-05,  8.27394546e-06,\n",
       "        -2.01793243e-06, -5.87654645e-06, -1.08850794e-05,  6.82444093e-07,\n",
       "         4.23231269e-06, -4.21741836e-07,  7.09068213e-06,  2.08530649e-06,\n",
       "        -3.52399413e-06, -7.01997719e-07, -1.12224805e-06, -4.95927900e-07,\n",
       "        -8.77505512e-07,  3.82000306e-07,  1.94711923e-08, -2.35766597e-06,\n",
       "        -1.21431063e-06, -3.95772458e-07, -1.44770505e-07,  9.34200712e-07,\n",
       "        -2.48542634e-07,  1.16162235e-06, -1.18608308e-06, -6.63049054e-07,\n",
       "        -1.21359879e-06,  3.31307693e-07, -2.54868438e-07, -1.26707869e-07,\n",
       "        -6.49770729e-08,  0.00000000e+00]))"
      ]
     },
     "execution_count": 341,
     "metadata": {},
     "output_type": "execute_result"
    }
   ],
   "source": [
    "(X_te_f[0], y_te_f[0])"
   ]
  },
  {
   "cell_type": "code",
   "execution_count": 342,
   "metadata": {},
   "outputs": [
    {
     "data": {
      "text/plain": [
       "5.308476488588002e-05"
      ]
     },
     "execution_count": 342,
     "metadata": {},
     "output_type": "execute_result"
    }
   ],
   "source": [
    "# np.max(list(map(lambda row: row[65:], X_te_f)))\n",
    "np.max(list(map(lambda row: row, X_te_f)))"
   ]
  },
  {
   "cell_type": "code",
   "execution_count": 343,
   "metadata": {},
   "outputs": [],
   "source": [
    "# appending stats of the whole sample, fading from silence"
   ]
  },
  {
   "cell_type": "code",
   "execution_count": 345,
   "metadata": {},
   "outputs": [],
   "source": [
    "train_shuffle_index = np.random.shuffle(np.arange(0, len(X_tr_f)))\n",
    "test_shuffle_index = np.random.shuffle(np.arange(0, len(X_te_f)))\n",
    "\n",
    "X_tr_f = X_tr_f[train_shuffle_index][0]\n",
    "y_tr_f = y_tr_f[train_shuffle_index][0]\n",
    "\n",
    "X_te_f = X_te_f[test_shuffle_index][0]\n",
    "y_te_f = y_te_f[test_shuffle_index][0]"
   ]
  },
  {
   "cell_type": "code",
   "execution_count": 347,
   "metadata": {},
   "outputs": [
    {
     "data": {
      "text/plain": [
       "(66, array([ 2.35705316e-05, -1.81903035e-05, -3.12904936e-06, -5.34367088e-06,\n",
       "        -2.79372167e-06,  1.42749038e-06,  1.70190232e-07, -3.17186309e-07,\n",
       "        -5.95771389e-07, -1.64528329e-07, -2.30042274e-07, -8.17901577e-07,\n",
       "        -2.16672234e-07, -6.26118233e-07, -6.27115560e-07, -6.82641952e-07,\n",
       "        -6.65732564e-07, -6.72055896e-07, -7.13611585e-07, -7.37893261e-07,\n",
       "        -6.99957100e-07, -7.14908683e-07, -7.42622294e-07, -6.74789792e-07,\n",
       "        -7.19085027e-07, -7.15222843e-07, -7.18107441e-07, -7.18191248e-07,\n",
       "        -6.90957675e-07, -7.45519848e-07, -7.30634428e-07, -7.33720926e-07,\n",
       "        -7.30783271e-07,  0.00000000e+00, -2.14029113e-05,  3.46150916e-05,\n",
       "         9.30396123e-07,  1.16135500e-05,  4.46473382e-06,  3.16080877e-06,\n",
       "         2.91652861e-06,  1.94926110e-06,  2.03764065e-06,  8.86869420e-07,\n",
       "         1.35742885e-06,  1.20448971e-06,  9.83657293e-07,  9.45051557e-07,\n",
       "         8.61775145e-07,  8.34587894e-07,  7.05697238e-07,  6.63215966e-07,\n",
       "         5.85345898e-07,  5.18860049e-07,  4.65089000e-07,  4.06199227e-07,\n",
       "         3.50761582e-07,  3.27143166e-07,  2.59126412e-07,  2.01315439e-07,\n",
       "         1.58791499e-07,  1.32257307e-07,  1.34762322e-07,  7.64293553e-08,\n",
       "         4.07593857e-08,  0.00000000e+00]))"
      ]
     },
     "execution_count": 347,
     "metadata": {},
     "output_type": "execute_result"
    }
   ],
   "source": [
    "(len(X_tr_f[0]), X_tr_f[0])"
   ]
  },
  {
   "cell_type": "code",
   "execution_count": 348,
   "metadata": {},
   "outputs": [
    {
     "data": {
      "text/plain": [
       "66"
      ]
     },
     "execution_count": 348,
     "metadata": {},
     "output_type": "execute_result"
    }
   ],
   "source": [
    "N_FEATURES = 66\n",
    "N_FEATURES"
   ]
  },
  {
   "cell_type": "markdown",
   "metadata": {},
   "source": [
    "## Finished data processing!\n",
    "\n",
    "## Moving on to training NN"
   ]
  },
  {
   "cell_type": "code",
   "execution_count": 349,
   "metadata": {},
   "outputs": [],
   "source": [
    "import numpy as np"
   ]
  },
  {
   "cell_type": "code",
   "execution_count": 350,
   "metadata": {},
   "outputs": [],
   "source": [
    "import keras\n",
    "from keras.models import Sequential\n",
    "from keras.layers import Dense, Dropout, Activation, Flatten\n",
    "from keras.layers import Convolution2D, MaxPooling2D\n",
    "from keras.utils import np_utils"
   ]
  },
  {
   "cell_type": "code",
   "execution_count": 351,
   "metadata": {},
   "outputs": [
    {
     "data": {
      "text/plain": [
       "((5000, 66), (5000, 66))"
      ]
     },
     "execution_count": 351,
     "metadata": {},
     "output_type": "execute_result"
    }
   ],
   "source": [
    "y_tr_f.shape, X_tr_f.shape"
   ]
  },
  {
   "cell_type": "code",
   "execution_count": 352,
   "metadata": {},
   "outputs": [
    {
     "data": {
      "text/plain": [
       "array([ 1.61543260e-04, -1.95589207e-05, -2.84839250e-05, -1.95780412e-05,\n",
       "        2.25734096e-05,  7.11883687e-06,  6.18788575e-06,  9.72137164e-06,\n",
       "       -1.73348164e-05, -1.25761593e-05, -1.66300020e-05, -1.86587974e-05,\n",
       "        3.98572037e-05,  2.03656077e-06,  3.45692274e-06,  3.49047936e-06,\n",
       "        4.64351894e-06,  7.50992714e-07, -9.21466203e-08,  1.21059751e-06,\n",
       "        1.48674767e-06, -2.43529278e-07,  4.54286991e-07, -3.68132318e-06,\n",
       "        2.55583023e-06,  1.24302198e-08,  3.53271590e-07,  1.35953090e-07,\n",
       "        1.75663560e-07, -4.80917108e-07, -8.03021126e-08, -5.71492660e-08,\n",
       "       -4.29043627e-08,  0.00000000e+00,  4.84491986e-05,  1.46241554e-05,\n",
       "       -1.80179951e-06,  3.02230226e-05, -2.75416954e-06, -5.44930809e-06,\n",
       "        9.92998882e-06, -3.51673606e-05, -4.84662784e-05,  7.51526481e-05,\n",
       "       -4.10564182e-06, -1.07102571e-05,  7.14117497e-06,  2.02459093e-08,\n",
       "       -5.07716954e-06,  3.37710498e-06, -1.45002226e-06,  6.55335486e-06,\n",
       "        2.95699787e-06,  4.33063062e-07,  1.10356943e-06, -3.37102786e-07,\n",
       "        2.34307880e-06, -2.30425339e-06,  4.99875765e-08, -1.24767669e-06,\n",
       "       -4.41016128e-07,  1.22861890e-06, -2.77500147e-07, -3.26741958e-08,\n",
       "       -8.47824729e-09,  0.00000000e+00])"
      ]
     },
     "execution_count": 352,
     "metadata": {},
     "output_type": "execute_result"
    }
   ],
   "source": [
    "y_tr_f[0]"
   ]
  },
  {
   "cell_type": "code",
   "execution_count": 380,
   "metadata": {},
   "outputs": [
    {
     "data": {
      "text/plain": [
       "<keras.engine.sequential.Sequential at 0x16afb85f8>"
      ]
     },
     "execution_count": 380,
     "metadata": {},
     "output_type": "execute_result"
    }
   ],
   "source": [
    "model = Sequential()\n",
    "model"
   ]
  },
  {
   "cell_type": "code",
   "execution_count": 381,
   "metadata": {},
   "outputs": [],
   "source": [
    "model.add(Dense(101, activation='relu'))\n",
    "model.add(Dropout(0.5))\n",
    "model.add(Dense(131, activation='relu'))\n",
    "model.add(Dense(171, activation='relu'))\n",
    "model.add(Dense(131, activation='relu'))\n",
    "model.add(Dense(101, activation='relu'))\n",
    "model.add(Dropout(0.5))\n",
    "model.add(Dense(N_FEATURES, activation=None))"
   ]
  },
  {
   "cell_type": "code",
   "execution_count": 382,
   "metadata": {},
   "outputs": [],
   "source": [
    "# model.add(Dense(49, activation='relu'))\n",
    "# model.add(Dropout(0.2))\n",
    "# model.add(Dense(87, activation='relu'))\n",
    "# model.add(Dense(49, activation='relu'))\n",
    "# model.add(Dropout(0.2))\n",
    "# model.add(Dense(N_FEATURES, activation='relu'))"
   ]
  },
  {
   "cell_type": "code",
   "execution_count": 383,
   "metadata": {},
   "outputs": [],
   "source": [
    "model.compile(loss='mean_squared_error',\n",
    "              optimizer='adam')"
   ]
  },
  {
   "cell_type": "code",
   "execution_count": 384,
   "metadata": {},
   "outputs": [
    {
     "name": "stdout",
     "output_type": "stream",
     "text": [
      "Epoch 1/24\n",
      "5000/5000 [==============================] - 1s 200us/step - loss: 3.7567e-09\n",
      "Epoch 2/24\n",
      "5000/5000 [==============================] - 0s 62us/step - loss: 8.1191e-10\n",
      "Epoch 3/24\n",
      "5000/5000 [==============================] - 0s 63us/step - loss: 9.7169e-10\n",
      "Epoch 4/24\n",
      "5000/5000 [==============================] - 0s 65us/step - loss: 1.1015e-09\n",
      "Epoch 5/24\n",
      "5000/5000 [==============================] - 0s 62us/step - loss: 1.1841e-09\n",
      "Epoch 6/24\n",
      "5000/5000 [==============================] - 0s 63us/step - loss: 1.2468e-09\n",
      "Epoch 7/24\n",
      "5000/5000 [==============================] - 0s 66us/step - loss: 1.3199e-09\n",
      "Epoch 8/24\n",
      "5000/5000 [==============================] - 0s 67us/step - loss: 1.3554e-09\n",
      "Epoch 9/24\n",
      "5000/5000 [==============================] - 0s 64us/step - loss: 1.3377e-09\n",
      "Epoch 10/24\n",
      "5000/5000 [==============================] - 0s 66us/step - loss: 1.2481e-09\n",
      "Epoch 11/24\n",
      "5000/5000 [==============================] - 0s 67us/step - loss: 1.4051e-09\n",
      "Epoch 12/24\n",
      "5000/5000 [==============================] - 0s 65us/step - loss: 1.2729e-09\n",
      "Epoch 13/24\n",
      "5000/5000 [==============================] - 0s 69us/step - loss: 1.3885e-09\n",
      "Epoch 14/24\n",
      "5000/5000 [==============================] - 0s 69us/step - loss: 1.2784e-09\n",
      "Epoch 15/24\n",
      "5000/5000 [==============================] - 0s 69us/step - loss: 1.3976e-09: 0s - loss: 1.4355e-\n",
      "Epoch 16/24\n",
      "5000/5000 [==============================] - 0s 73us/step - loss: 1.3417e-09\n",
      "Epoch 17/24\n",
      "5000/5000 [==============================] - 0s 70us/step - loss: 1.3311e-09\n",
      "Epoch 18/24\n",
      "5000/5000 [==============================] - 0s 69us/step - loss: 1.3014e-09\n",
      "Epoch 19/24\n",
      "5000/5000 [==============================] - 0s 72us/step - loss: 1.3349e-09\n",
      "Epoch 20/24\n",
      "5000/5000 [==============================] - 0s 69us/step - loss: 1.3770e-09\n",
      "Epoch 21/24\n",
      "5000/5000 [==============================] - 0s 69us/step - loss: 1.3903e-09\n",
      "Epoch 22/24\n",
      "5000/5000 [==============================] - 0s 72us/step - loss: 1.3654e-09\n",
      "Epoch 23/24\n",
      "5000/5000 [==============================] - 0s 65us/step - loss: 1.3482e-09\n",
      "Epoch 24/24\n",
      "5000/5000 [==============================] - 0s 68us/step - loss: 1.3084e-09\n",
      "CPU times: user 17.2 s, sys: 2.92 s, total: 20.1 s\n",
      "Wall time: 9.68 s\n"
     ]
    }
   ],
   "source": [
    "%%time\n",
    "\n",
    "history = model.fit(X_tr_f, y_tr_f, batch_size=32, epochs=24, verbose=1)"
   ]
  },
  {
   "cell_type": "code",
   "execution_count": 385,
   "metadata": {},
   "outputs": [
    {
     "data": {
      "text/plain": [
       "1.2209316008848814e-09"
      ]
     },
     "execution_count": 385,
     "metadata": {},
     "output_type": "execute_result"
    }
   ],
   "source": [
    "score = model.evaluate(X_te_f, y_te_f, verbose=0)\n",
    "score"
   ]
  },
  {
   "cell_type": "code",
   "execution_count": 386,
   "metadata": {},
   "outputs": [
    {
     "data": {
      "text/plain": [
       "0.017688618357486138"
      ]
     },
     "execution_count": 386,
     "metadata": {},
     "output_type": "execute_result"
    }
   ],
   "source": [
    "1.2209316008848814e-09\n",
    "0.017688618357486138"
   ]
  },
  {
   "cell_type": "code",
   "execution_count": 387,
   "metadata": {},
   "outputs": [
    {
     "data": {
      "image/png": "[encoded data removed]",
      "text/plain": [
       "<Figure size 432x288 with 1 Axes>"
      ]
     },
     "metadata": {
      "needs_background": "light"
     },
     "output_type": "display_data"
    }
   ],
   "source": [
    "# Plot training & validation loss values\n",
    "plt.plot(history.history['loss'])\n",
    "plt.title('Model loss')\n",
    "plt.ylabel('Loss')\n",
    "plt.xlabel('Epoch')\n",
    "plt.legend(['Train'], loc='upper left')\n",
    "plt.show()"
   ]
  },
  {
   "cell_type": "code",
   "execution_count": 388,
   "metadata": {},
   "outputs": [
    {
     "data": {
      "text/plain": [
       "array([-1.80924246e-05,  2.65266949e-05, -1.67123715e-05, -1.61806786e-06,\n",
       "        5.90207708e-07,  3.26671096e-07,  1.51717760e-07,  2.99620590e-07,\n",
       "        4.60016390e-07,  2.95676000e-07,  2.30229304e-07,  2.53651507e-07,\n",
       "        2.50303074e-07,  2.28854790e-07,  2.45317514e-07,  2.33434375e-07,\n",
       "        2.54667011e-07,  2.40451955e-07,  2.44925949e-07,  2.27775232e-07,\n",
       "        2.42944710e-07,  2.51879039e-07,  2.58859299e-07,  2.58430774e-07,\n",
       "        2.48621931e-07,  2.43353189e-07,  2.41674376e-07,  2.42652651e-07,\n",
       "        2.39705111e-07,  2.43899182e-07,  2.47862784e-07,  2.45574758e-07,\n",
       "        2.54666885e-07,  0.00000000e+00, -1.82837405e-05, -4.00924723e-06,\n",
       "        3.91464604e-06, -1.25639011e-06, -5.34522688e-07, -6.29681797e-07,\n",
       "       -8.22363790e-07, -7.75347214e-07, -4.23145889e-07, -4.78469783e-07,\n",
       "       -3.68406591e-07, -3.92114826e-07, -3.17917159e-07, -3.04851664e-07,\n",
       "       -2.72217260e-07, -2.51898766e-07, -2.25782447e-07, -2.20113478e-07,\n",
       "       -1.61114808e-07, -1.52314116e-07, -1.30157772e-07, -1.25351808e-07,\n",
       "       -1.17347106e-07, -1.05462725e-07, -9.53351552e-08, -7.82732514e-08,\n",
       "       -6.53105557e-08, -4.77478328e-08, -3.67601346e-08, -2.80118003e-08,\n",
       "       -1.02968495e-08,  0.00000000e+00])"
      ]
     },
     "execution_count": 388,
     "metadata": {},
     "output_type": "execute_result"
    }
   ],
   "source": [
    "X_te_f[0]"
   ]
  },
  {
   "cell_type": "code",
   "execution_count": 389,
   "metadata": {},
   "outputs": [],
   "source": [
    "def predict(model, row):\n",
    "    return model.predict(np.array([row]))[0]"
   ]
  },
  {
   "cell_type": "code",
   "execution_count": 390,
   "metadata": {},
   "outputs": [
    {
     "data": {
      "text/plain": [
       "array([ 9.90542176e-05, -1.02761987e-07,  5.40446126e-06,  5.00053211e-05,\n",
       "       -8.44775059e-05, -5.19863206e-05, -2.53289527e-05,  9.20099192e-05,\n",
       "        1.79176495e-05,  1.73870394e-05,  1.86701345e-05,  1.23841828e-05,\n",
       "       -5.19125751e-06, -9.58353303e-06, -2.23154912e-05, -3.66209570e-05,\n",
       "       -2.72839570e-05, -2.85617134e-05, -1.97775880e-05, -4.03203412e-05,\n",
       "       -2.61080331e-05, -3.53016949e-05, -3.19152459e-05, -2.09271675e-05,\n",
       "       -1.07109527e-05, -2.33698429e-05, -1.63236145e-05, -2.60132419e-05,\n",
       "       -7.03606838e-06, -3.25014516e-05, -1.66811897e-05, -1.57216891e-05,\n",
       "       -1.57811228e-05, -1.68837744e-09, -7.48409657e-05, -9.79637844e-06,\n",
       "        9.17520447e-06,  9.04660192e-06, -9.79547167e-06,  1.96609926e-05,\n",
       "        9.73355782e-07, -6.86317071e-05,  2.07243720e-05, -1.69043960e-05,\n",
       "        5.03341580e-05, -2.90382486e-05, -2.53294729e-07,  1.68666083e-05,\n",
       "        8.37435073e-06, -1.19322212e-05,  1.96172768e-05,  4.57392343e-05,\n",
       "        3.05284448e-05,  8.01497299e-06,  2.74851118e-05,  1.42686640e-05,\n",
       "        2.24659470e-05,  2.89950513e-05,  1.06411735e-05, -2.01241128e-05,\n",
       "       -1.43394645e-05, -1.83103148e-05,  3.03327397e-05, -2.11057613e-05,\n",
       "        3.28874876e-06, -1.32442085e-10], dtype=float32)"
      ]
     },
     "execution_count": 390,
     "metadata": {},
     "output_type": "execute_result"
    }
   ],
   "source": [
    "predict(model, X_te_f[0])"
   ]
  },
  {
   "cell_type": "code",
   "execution_count": 391,
   "metadata": {},
   "outputs": [
    {
     "data": {
      "text/plain": [
       "<matplotlib.legend.Legend at 0x16b884c88>"
      ]
     },
     "execution_count": 391,
     "metadata": {},
     "output_type": "execute_result"
    },
    {
     "data": {
      "image/png": "[encoded data removed]",
      "text/plain": [
       "<Figure size 1152x576 with 1 Axes>"
      ]
     },
     "metadata": {
      "needs_background": "light"
     },
     "output_type": "display_data"
    }
   ],
   "source": [
    "(fig, ax) = plt.subplots(figsize=(16, 8))\n",
    "\n",
    "I = 300\n",
    "\n",
    "pd.Series(y_te_f[I]).plot.line(ax=ax, label='intended')\n",
    "pd.Series(predict(model, X_te_f[I])).plot.line(ax=ax, label='predicted')\n",
    "ax.legend(loc=\"upper right\")"
   ]
  },
  {
   "cell_type": "markdown",
   "metadata": {},
   "source": [
    "## Time to evaluate performance"
   ]
  },
  {
   "cell_type": "code",
   "execution_count": 232,
   "metadata": {},
   "outputs": [],
   "source": [
    "# Til next time"
   ]
  },
  {
   "cell_type": "code",
   "execution_count": 392,
   "metadata": {},
   "outputs": [],
   "source": [
    "def unpack_peaks(peaks, N):\n",
    "    df = pd.Series()\n",
    "    \n",
    "    for i in range(0, N):\n",
    "        df = df.append(pd.Series([peaks[N + i]], index=[peaks[i]]))\n",
    "        \n",
    "    return df"
   ]
  },
  {
   "cell_type": "code",
   "execution_count": 393,
   "metadata": {},
   "outputs": [],
   "source": [
    "from numpy.fft import rfft, fftfreq, rfftfreq\n",
    "from scipy.signal import find_peaks\n",
    "from matplotlib import pyplot as plt\n",
    "\n",
    "MAGIC_NUMBER = 22050\n",
    "\n",
    "def unpack_fft_features(row, N_PEAKS):  \n",
    "    # Unpack peaks\n",
    "    \n",
    "    features_re = row[:2*N_PEAKS]\n",
    "    features_im = row[2*N_PEAKS:]\n",
    "    \n",
    "    df = pd.Series()\n",
    "    \n",
    "    peaks_re = unpack_peaks(features_re, N_PEAKS)\n",
    "    peaks_im = unpack_peaks(features_im, N_PEAKS)\n",
    "    \n",
    "    peaks = (peaks_re * complex(1, 0)).add(peaks_im * complex(0, 1))\n",
    "    \n",
    "    print(peaks)\n",
    "    \n",
    "    return []\n",
    "\n",
    "\n",
    "\n",
    "\n",
    "\n",
    "\n",
    "    # Apply IFFT\n",
    "    \n",
    "    freq = rfftfreq(N_WINDOW_POINTS, 1./FD)\n",
    "    max_freq = freq[-1]\n",
    "\n",
    "    fft = rfft(wnd)\n",
    "\n",
    "    df = pd.Series(fft)\n",
    "\n",
    "    index = []\n",
    "\n",
    "    for i in range(0, len(fft)):\n",
    "        index = index + [(i / len(fft))]\n",
    "\n",
    "    df.index = index\n",
    "\n",
    "    "
   ]
  },
  {
   "cell_type": "code",
   "execution_count": 394,
   "metadata": {},
   "outputs": [
    {
     "name": "stdout",
     "output_type": "stream",
     "text": [
      "-8.447751e-05    NaN\n",
      "-5.198632e-05    NaN\n",
      "-3.530169e-05    NaN\n",
      "-3.250145e-05    NaN\n",
      "-3.191525e-05    NaN\n",
      "-2.610803e-05    NaN\n",
      "-2.601324e-05    NaN\n",
      "-2.532895e-05    NaN\n",
      "-2.336984e-05    NaN\n",
      "-2.092717e-05    NaN\n",
      "-1.632361e-05    NaN\n",
      "-1.071095e-05    NaN\n",
      "-7.036068e-06    NaN\n",
      "-1.027620e-07    NaN\n",
      " 5.404461e-06    NaN\n",
      " 1.738704e-05    NaN\n",
      " 1.791765e-05    NaN\n",
      " 5.000532e-05    NaN\n",
      " 9.200992e-05    NaN\n",
      " 9.905422e-05    NaN\n",
      "dtype: complex128\n"
     ]
    },
    {
     "data": {
      "text/plain": [
       "[]"
      ]
     },
     "execution_count": 394,
     "metadata": {},
     "output_type": "execute_result"
    }
   ],
   "source": [
    "I = 200\n",
    "\n",
    "unpack_fft_features(predict(model, X_te_f[I]), N_PEAKS)"
   ]
  },
  {
   "cell_type": "code",
   "execution_count": null,
   "metadata": {},
   "outputs": [],
   "source": []
  }
 ],
 "metadata": {
  "kernelspec": {
   "display_name": "Python 3",
   "language": "python",
   "name": "python3"
  },
  "language_info": {
   "codemirror_mode": {
    "name": "ipython",
    "version": 3
   },
   "file_extension": ".py",
   "mimetype": "text/x-python",
   "name": "python",
   "nbconvert_exporter": "python",
   "pygments_lexer": "ipython3",
   "version": "3.7.3"
  }
 },
 "nbformat": 4,
 "nbformat_minor": 2
}
