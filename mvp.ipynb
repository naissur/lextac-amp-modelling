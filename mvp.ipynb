{
 "cells": [
  {
   "cell_type": "code",
   "execution_count": 9,
   "metadata": {},
   "outputs": [],
   "source": [
    "from scipy.io import wavfile\n",
    "\n",
    "(source_clean_fs, source_clean_data) = wavfile.read('./data/source_clean.wav')\n",
    "(plini_clean_fs, plini_clean_data) = wavfile.read('./data/plini_clean.wav')"
   ]
  },
  {
   "cell_type": "code",
   "execution_count": 10,
   "metadata": {},
   "outputs": [],
   "source": [
    "import pandas as pd"
   ]
  },
  {
   "cell_type": "code",
   "execution_count": 13,
   "metadata": {},
   "outputs": [
    {
     "data": {
      "text/html": [
       "<div>\n",
       "<style scoped>\n",
       "    .dataframe tbody tr th:only-of-type {\n",
       "        vertical-align: middle;\n",
       "    }\n",
       "\n",
       "    .dataframe tbody tr th {\n",
       "        vertical-align: top;\n",
       "    }\n",
       "\n",
       "    .dataframe thead th {\n",
       "        text-align: right;\n",
       "    }\n",
       "</style>\n",
       "<table border=\"1\" class=\"dataframe\">\n",
       "  <thead>\n",
       "    <tr style=\"text-align: right;\">\n",
       "      <th></th>\n",
       "      <th>L</th>\n",
       "      <th>R</th>\n",
       "    </tr>\n",
       "  </thead>\n",
       "  <tbody>\n",
       "    <tr>\n",
       "      <th>0</th>\n",
       "      <td>0</td>\n",
       "      <td>0</td>\n",
       "    </tr>\n",
       "    <tr>\n",
       "      <th>1</th>\n",
       "      <td>0</td>\n",
       "      <td>0</td>\n",
       "    </tr>\n",
       "    <tr>\n",
       "      <th>2</th>\n",
       "      <td>0</td>\n",
       "      <td>0</td>\n",
       "    </tr>\n",
       "    <tr>\n",
       "      <th>3</th>\n",
       "      <td>0</td>\n",
       "      <td>0</td>\n",
       "    </tr>\n",
       "    <tr>\n",
       "      <th>4</th>\n",
       "      <td>0</td>\n",
       "      <td>0</td>\n",
       "    </tr>\n",
       "  </tbody>\n",
       "</table>\n",
       "</div>"
      ],
      "text/plain": [
       "   L  R\n",
       "0  0  0\n",
       "1  0  0\n",
       "2  0  0\n",
       "3  0  0\n",
       "4  0  0"
      ]
     },
     "execution_count": 13,
     "metadata": {},
     "output_type": "execute_result"
    }
   ],
   "source": [
    "source_clean_df = pd.DataFrame(source_clean_data, columns=['L', 'R'])\n",
    "source_clean_df.head()"
   ]
  },
  {
   "cell_type": "code",
   "execution_count": 14,
   "metadata": {},
   "outputs": [
    {
     "data": {
      "text/html": [
       "<div>\n",
       "<style scoped>\n",
       "    .dataframe tbody tr th:only-of-type {\n",
       "        vertical-align: middle;\n",
       "    }\n",
       "\n",
       "    .dataframe tbody tr th {\n",
       "        vertical-align: top;\n",
       "    }\n",
       "\n",
       "    .dataframe thead th {\n",
       "        text-align: right;\n",
       "    }\n",
       "</style>\n",
       "<table border=\"1\" class=\"dataframe\">\n",
       "  <thead>\n",
       "    <tr style=\"text-align: right;\">\n",
       "      <th></th>\n",
       "      <th>L</th>\n",
       "      <th>R</th>\n",
       "    </tr>\n",
       "  </thead>\n",
       "  <tbody>\n",
       "    <tr>\n",
       "      <th>0</th>\n",
       "      <td>0</td>\n",
       "      <td>0</td>\n",
       "    </tr>\n",
       "    <tr>\n",
       "      <th>1</th>\n",
       "      <td>0</td>\n",
       "      <td>0</td>\n",
       "    </tr>\n",
       "    <tr>\n",
       "      <th>2</th>\n",
       "      <td>0</td>\n",
       "      <td>0</td>\n",
       "    </tr>\n",
       "    <tr>\n",
       "      <th>3</th>\n",
       "      <td>0</td>\n",
       "      <td>0</td>\n",
       "    </tr>\n",
       "    <tr>\n",
       "      <th>4</th>\n",
       "      <td>0</td>\n",
       "      <td>0</td>\n",
       "    </tr>\n",
       "  </tbody>\n",
       "</table>\n",
       "</div>"
      ],
      "text/plain": [
       "   L  R\n",
       "0  0  0\n",
       "1  0  0\n",
       "2  0  0\n",
       "3  0  0\n",
       "4  0  0"
      ]
     },
     "execution_count": 14,
     "metadata": {},
     "output_type": "execute_result"
    }
   ],
   "source": [
    "plini_clean_df = pd.DataFrame(plini_clean_data, columns=['L', 'R'])\n",
    "plini_clean_df.head()"
   ]
  },
  {
   "cell_type": "code",
   "execution_count": 23,
   "metadata": {},
   "outputs": [
    {
     "data": {
      "text/plain": [
       "32767"
      ]
     },
     "execution_count": 23,
     "metadata": {},
     "output_type": "execute_result"
    }
   ],
   "source": [
    "plini_clean_df['L'].max()"
   ]
  },
  {
   "cell_type": "code",
   "execution_count": 22,
   "metadata": {},
   "outputs": [
    {
     "data": {
      "text/plain": [
       "32768"
      ]
     },
     "execution_count": 22,
     "metadata": {},
     "output_type": "execute_result"
    }
   ],
   "source": [
    "2 ** 15"
   ]
  },
  {
   "cell_type": "code",
   "execution_count": 280,
   "metadata": {},
   "outputs": [
    {
     "data": {
      "text/plain": [
       "32767"
      ]
     },
     "execution_count": 280,
     "metadata": {},
     "output_type": "execute_result"
    }
   ],
   "source": [
    "MAX_VALUE = 2 ** 15 - 1\n",
    "MAX_VALUE"
   ]
  },
  {
   "cell_type": "code",
   "execution_count": null,
   "metadata": {},
   "outputs": [],
   "source": []
  },
  {
   "cell_type": "code",
   "execution_count": 27,
   "metadata": {},
   "outputs": [
    {
     "data": {
      "text/plain": [
       "(2442240, 2442240)"
      ]
     },
     "execution_count": 27,
     "metadata": {},
     "output_type": "execute_result"
    }
   ],
   "source": [
    "len(plini_clean_df), len(source_clean_df)"
   ]
  },
  {
   "cell_type": "code",
   "execution_count": 30,
   "metadata": {},
   "outputs": [
    {
     "data": {
      "text/plain": [
       "1953792"
      ]
     },
     "execution_count": 30,
     "metadata": {},
     "output_type": "execute_result"
    }
   ],
   "source": [
    "START_END = int(len(plini_clean_df) * 0.8)\n",
    "START_END"
   ]
  },
  {
   "cell_type": "code",
   "execution_count": 32,
   "metadata": {},
   "outputs": [],
   "source": [
    "(X_train_start, X_train_end) = (0, START_END)\n",
    "(X_test_start, X_test_end) = (START_END + 1, len(source_clean_df))"
   ]
  },
  {
   "cell_type": "code",
   "execution_count": 33,
   "metadata": {},
   "outputs": [],
   "source": [
    "(y_train_start, y_train_end) = (0, START_END)\n",
    "(y_test_start, y_test_end) = (START_END + 1, len(source_clean_df))"
   ]
  },
  {
   "cell_type": "markdown",
   "metadata": {},
   "source": [
    "## IT'S MONO"
   ]
  },
  {
   "cell_type": "code",
   "execution_count": 45,
   "metadata": {},
   "outputs": [
    {
     "data": {
      "text/plain": [
       "0    0\n",
       "1    0\n",
       "2    0\n",
       "3    0\n",
       "4    0\n",
       "Name: L, dtype: int16"
      ]
     },
     "execution_count": 45,
     "metadata": {},
     "output_type": "execute_result"
    }
   ],
   "source": [
    "X_train_raw = source_clean_df['L'][X_train_start:X_train_end]\n",
    "X_train_raw.head()"
   ]
  },
  {
   "cell_type": "code",
   "execution_count": 46,
   "metadata": {},
   "outputs": [
    {
     "data": {
      "text/plain": [
       "1953793   -560\n",
       "1953794   -485\n",
       "1953795   -395\n",
       "1953796   -302\n",
       "1953797   -215\n",
       "Name: L, dtype: int16"
      ]
     },
     "execution_count": 46,
     "metadata": {},
     "output_type": "execute_result"
    }
   ],
   "source": [
    "X_test_raw = source_clean_df['L'][X_test_start:X_test_end]\n",
    "X_test_raw.head()"
   ]
  },
  {
   "cell_type": "code",
   "execution_count": 47,
   "metadata": {},
   "outputs": [
    {
     "data": {
      "text/plain": [
       "0    0\n",
       "1    0\n",
       "2    0\n",
       "3    0\n",
       "4    0\n",
       "Name: L, dtype: int16"
      ]
     },
     "execution_count": 47,
     "metadata": {},
     "output_type": "execute_result"
    }
   ],
   "source": [
    "y_train_raw = plini_clean_df['L'][y_train_start:y_train_end]\n",
    "y_train_raw.head()"
   ]
  },
  {
   "cell_type": "code",
   "execution_count": 48,
   "metadata": {},
   "outputs": [
    {
     "data": {
      "text/plain": [
       "1953793    807\n",
       "1953794    559\n",
       "1953795    206\n",
       "1953796    178\n",
       "1953797    213\n",
       "Name: L, dtype: int16"
      ]
     },
     "execution_count": 48,
     "metadata": {},
     "output_type": "execute_result"
    }
   ],
   "source": [
    "y_test_raw = plini_clean_df['L'][y_test_start:y_test_end]\n",
    "y_test_raw.head()"
   ]
  },
  {
   "cell_type": "code",
   "execution_count": null,
   "metadata": {},
   "outputs": [],
   "source": []
  },
  {
   "cell_type": "code",
   "execution_count": 134,
   "metadata": {},
   "outputs": [],
   "source": [
    "X_N_DEV = source_clean_fs\n",
    "X_OFFSET_DEV = source_clean_fs * 2\n",
    "\n",
    "y_N_DEV = int(source_clean_fs / 8)\n",
    "y_OFFSET_DEV = source_clean_fs * 2"
   ]
  },
  {
   "cell_type": "code",
   "execution_count": 135,
   "metadata": {},
   "outputs": [
    {
     "data": {
      "text/plain": [
       "5512"
      ]
     },
     "execution_count": 135,
     "metadata": {},
     "output_type": "execute_result"
    }
   ],
   "source": [
    "y_N_DEV"
   ]
  },
  {
   "cell_type": "code",
   "execution_count": 136,
   "metadata": {},
   "outputs": [
    {
     "data": {
      "text/plain": [
       "882"
      ]
     },
     "execution_count": 136,
     "metadata": {},
     "output_type": "execute_result"
    }
   ],
   "source": [
    "N_WINDOW_POINTS = int(source_clean_fs * 0.02)\n",
    "N_WINDOW_POINTS"
   ]
  },
  {
   "cell_type": "code",
   "execution_count": 137,
   "metadata": {},
   "outputs": [],
   "source": [
    "def make_windows(df, n_window_points):\n",
    "    df_index = df.index\n",
    "    index = 0\n",
    "    windows = []\n",
    "\n",
    "    for index in range(0, len(df) - n_window_points):\n",
    "        windows.append(df_index[index:(index + n_window_points)])\n",
    "\n",
    "    return windows"
   ]
  },
  {
   "cell_type": "code",
   "execution_count": 138,
   "metadata": {},
   "outputs": [
    {
     "data": {
      "text/plain": [
       "43218"
      ]
     },
     "execution_count": 138,
     "metadata": {},
     "output_type": "execute_result"
    }
   ],
   "source": [
    "X_train_wnd = make_windows(X_train_raw[X_OFFSET_DEV:X_OFFSET_DEV+X_N_DEV], N_WINDOW_POINTS)\n",
    "len(X_train_wnd)"
   ]
  },
  {
   "cell_type": "code",
   "execution_count": 139,
   "metadata": {},
   "outputs": [
    {
     "data": {
      "text/plain": [
       "43218"
      ]
     },
     "execution_count": 139,
     "metadata": {},
     "output_type": "execute_result"
    }
   ],
   "source": [
    "X_test_wnd = make_windows(X_test_raw[X_OFFSET_DEV:X_OFFSET_DEV+X_N_DEV], N_WINDOW_POINTS)\n",
    "len(X_test_wnd)"
   ]
  },
  {
   "cell_type": "code",
   "execution_count": 140,
   "metadata": {},
   "outputs": [
    {
     "data": {
      "text/plain": [
       "4630"
      ]
     },
     "execution_count": 140,
     "metadata": {},
     "output_type": "execute_result"
    }
   ],
   "source": [
    "y_train_wnd = make_windows(y_train_raw[y_OFFSET_DEV:y_OFFSET_DEV+y_N_DEV], N_WINDOW_POINTS)\n",
    "len(y_train_wnd)"
   ]
  },
  {
   "cell_type": "code",
   "execution_count": 141,
   "metadata": {},
   "outputs": [
    {
     "data": {
      "text/plain": [
       "4630"
      ]
     },
     "execution_count": 141,
     "metadata": {},
     "output_type": "execute_result"
    }
   ],
   "source": [
    "y_test_wnd = make_windows(y_test_raw[y_OFFSET_DEV:y_OFFSET_DEV+y_N_DEV], N_WINDOW_POINTS)\n",
    "len(y_test_wnd)"
   ]
  },
  {
   "cell_type": "code",
   "execution_count": 142,
   "metadata": {},
   "outputs": [
    {
     "data": {
      "text/plain": [
       "RangeIndex(start=2041993, stop=2042875, step=1)"
      ]
     },
     "execution_count": 142,
     "metadata": {},
     "output_type": "execute_result"
    }
   ],
   "source": [
    "X_test_wnd[0]"
   ]
  },
  {
   "cell_type": "code",
   "execution_count": 143,
   "metadata": {},
   "outputs": [
    {
     "data": {
      "text/plain": [
       "2041993     147\n",
       "2041994     154\n",
       "2041995     176\n",
       "2041996     215\n",
       "2041997     279\n",
       "2041998     358\n",
       "2041999     443\n",
       "2042000     539\n",
       "2042001     625\n",
       "2042002     696\n",
       "2042003     755\n",
       "2042004     791\n",
       "2042005     801\n",
       "2042006     790\n",
       "2042007     755\n",
       "2042008     691\n",
       "2042009     598\n",
       "2042010     478\n",
       "2042011     333\n",
       "2042012     169\n",
       "2042013      -6\n",
       "2042014    -183\n",
       "2042015    -360\n",
       "2042016    -528\n",
       "2042017    -681\n",
       "2042018    -813\n",
       "2042019    -926\n",
       "2042020   -1016\n",
       "2042021   -1084\n",
       "2042022   -1128\n",
       "           ... \n",
       "2042845     -43\n",
       "2042846       9\n",
       "2042847      66\n",
       "2042848     122\n",
       "2042849     177\n",
       "2042850     234\n",
       "2042851     288\n",
       "2042852     337\n",
       "2042853     379\n",
       "2042854     419\n",
       "2042855     453\n",
       "2042856     483\n",
       "2042857     514\n",
       "2042858     546\n",
       "2042859     571\n",
       "2042860     586\n",
       "2042861     591\n",
       "2042862     583\n",
       "2042863     564\n",
       "2042864     541\n",
       "2042865     515\n",
       "2042866     494\n",
       "2042867     471\n",
       "2042868     450\n",
       "2042869     430\n",
       "2042870     407\n",
       "2042871     386\n",
       "2042872     363\n",
       "2042873     348\n",
       "2042874     340\n",
       "Name: L, Length: 882, dtype: int16"
      ]
     },
     "execution_count": 143,
     "metadata": {},
     "output_type": "execute_result"
    }
   ],
   "source": [
    "X_test_raw[X_test_wnd[0]]"
   ]
  },
  {
   "cell_type": "markdown",
   "metadata": {},
   "source": [
    "## Preparing data for processing"
   ]
  },
  {
   "cell_type": "code",
   "execution_count": 144,
   "metadata": {},
   "outputs": [
    {
     "data": {
      "text/plain": [
       "(88200    -725\n",
       " 88201    -877\n",
       " 88202    -986\n",
       " 88203   -1013\n",
       " 88204    -959\n",
       " 88205    -815\n",
       " 88206    -628\n",
       " 88207    -424\n",
       " 88208    -218\n",
       " 88209     -28\n",
       " 88210     151\n",
       " 88211     303\n",
       " 88212     431\n",
       " 88213     534\n",
       " 88214     615\n",
       " 88215     671\n",
       " 88216     707\n",
       " 88217     751\n",
       " 88218     842\n",
       " 88219     990\n",
       " 88220    1158\n",
       " 88221    1316\n",
       " 88222    1448\n",
       " 88223    1559\n",
       " 88224    1660\n",
       " 88225    1754\n",
       " 88226    1793\n",
       " 88227    1738\n",
       " 88228    1584\n",
       " 88229    1357\n",
       "          ... \n",
       " 89052       1\n",
       " 89053     124\n",
       " 89054     221\n",
       " 89055     343\n",
       " 89056     416\n",
       " 89057     540\n",
       " 89058     613\n",
       " 89059     661\n",
       " 89060     665\n",
       " 89061     681\n",
       " 89062     753\n",
       " 89063     820\n",
       " 89064     846\n",
       " 89065     844\n",
       " 89066     787\n",
       " 89067     605\n",
       " 89068     431\n",
       " 89069     282\n",
       " 89070     166\n",
       " 89071      27\n",
       " 89072     -61\n",
       " 89073    -111\n",
       " 89074    -235\n",
       " 89075    -396\n",
       " 89076    -587\n",
       " 89077    -831\n",
       " 89078   -1113\n",
       " 89079   -1381\n",
       " 89080   -1592\n",
       " 89081   -1689\n",
       " Name: L, Length: 882, dtype: int16, 88201    -877\n",
       " 88202    -986\n",
       " 88203   -1013\n",
       " 88204    -959\n",
       " 88205    -815\n",
       " 88206    -628\n",
       " 88207    -424\n",
       " 88208    -218\n",
       " 88209     -28\n",
       " 88210     151\n",
       " 88211     303\n",
       " 88212     431\n",
       " 88213     534\n",
       " 88214     615\n",
       " 88215     671\n",
       " 88216     707\n",
       " 88217     751\n",
       " 88218     842\n",
       " 88219     990\n",
       " 88220    1158\n",
       " 88221    1316\n",
       " 88222    1448\n",
       " 88223    1559\n",
       " 88224    1660\n",
       " 88225    1754\n",
       " 88226    1793\n",
       " 88227    1738\n",
       " 88228    1584\n",
       " 88229    1357\n",
       " 88230    1122\n",
       "          ... \n",
       " 89053     124\n",
       " 89054     221\n",
       " 89055     343\n",
       " 89056     416\n",
       " 89057     540\n",
       " 89058     613\n",
       " 89059     661\n",
       " 89060     665\n",
       " 89061     681\n",
       " 89062     753\n",
       " 89063     820\n",
       " 89064     846\n",
       " 89065     844\n",
       " 89066     787\n",
       " 89067     605\n",
       " 89068     431\n",
       " 89069     282\n",
       " 89070     166\n",
       " 89071      27\n",
       " 89072     -61\n",
       " 89073    -111\n",
       " 89074    -235\n",
       " 89075    -396\n",
       " 89076    -587\n",
       " 89077    -831\n",
       " 89078   -1113\n",
       " 89079   -1381\n",
       " 89080   -1592\n",
       " 89081   -1689\n",
       " 89082   -1744\n",
       " Name: L, Length: 882, dtype: int16)"
      ]
     },
     "execution_count": 144,
     "metadata": {},
     "output_type": "execute_result"
    }
   ],
   "source": [
    "X_train = list(map(lambda wnd: X_train_raw[wnd], X_train_wnd))\n",
    "X_train[0], X_train[1]"
   ]
  },
  {
   "cell_type": "code",
   "execution_count": 145,
   "metadata": {},
   "outputs": [
    {
     "data": {
      "text/plain": [
       "(2041993     147\n",
       " 2041994     154\n",
       " 2041995     176\n",
       " 2041996     215\n",
       " 2041997     279\n",
       " 2041998     358\n",
       " 2041999     443\n",
       " 2042000     539\n",
       " 2042001     625\n",
       " 2042002     696\n",
       " 2042003     755\n",
       " 2042004     791\n",
       " 2042005     801\n",
       " 2042006     790\n",
       " 2042007     755\n",
       " 2042008     691\n",
       " 2042009     598\n",
       " 2042010     478\n",
       " 2042011     333\n",
       " 2042012     169\n",
       " 2042013      -6\n",
       " 2042014    -183\n",
       " 2042015    -360\n",
       " 2042016    -528\n",
       " 2042017    -681\n",
       " 2042018    -813\n",
       " 2042019    -926\n",
       " 2042020   -1016\n",
       " 2042021   -1084\n",
       " 2042022   -1128\n",
       "            ... \n",
       " 2042845     -43\n",
       " 2042846       9\n",
       " 2042847      66\n",
       " 2042848     122\n",
       " 2042849     177\n",
       " 2042850     234\n",
       " 2042851     288\n",
       " 2042852     337\n",
       " 2042853     379\n",
       " 2042854     419\n",
       " 2042855     453\n",
       " 2042856     483\n",
       " 2042857     514\n",
       " 2042858     546\n",
       " 2042859     571\n",
       " 2042860     586\n",
       " 2042861     591\n",
       " 2042862     583\n",
       " 2042863     564\n",
       " 2042864     541\n",
       " 2042865     515\n",
       " 2042866     494\n",
       " 2042867     471\n",
       " 2042868     450\n",
       " 2042869     430\n",
       " 2042870     407\n",
       " 2042871     386\n",
       " 2042872     363\n",
       " 2042873     348\n",
       " 2042874     340\n",
       " Name: L, Length: 882, dtype: int16, 2041994     154\n",
       " 2041995     176\n",
       " 2041996     215\n",
       " 2041997     279\n",
       " 2041998     358\n",
       " 2041999     443\n",
       " 2042000     539\n",
       " 2042001     625\n",
       " 2042002     696\n",
       " 2042003     755\n",
       " 2042004     791\n",
       " 2042005     801\n",
       " 2042006     790\n",
       " 2042007     755\n",
       " 2042008     691\n",
       " 2042009     598\n",
       " 2042010     478\n",
       " 2042011     333\n",
       " 2042012     169\n",
       " 2042013      -6\n",
       " 2042014    -183\n",
       " 2042015    -360\n",
       " 2042016    -528\n",
       " 2042017    -681\n",
       " 2042018    -813\n",
       " 2042019    -926\n",
       " 2042020   -1016\n",
       " 2042021   -1084\n",
       " 2042022   -1128\n",
       " 2042023   -1144\n",
       "            ... \n",
       " 2042846       9\n",
       " 2042847      66\n",
       " 2042848     122\n",
       " 2042849     177\n",
       " 2042850     234\n",
       " 2042851     288\n",
       " 2042852     337\n",
       " 2042853     379\n",
       " 2042854     419\n",
       " 2042855     453\n",
       " 2042856     483\n",
       " 2042857     514\n",
       " 2042858     546\n",
       " 2042859     571\n",
       " 2042860     586\n",
       " 2042861     591\n",
       " 2042862     583\n",
       " 2042863     564\n",
       " 2042864     541\n",
       " 2042865     515\n",
       " 2042866     494\n",
       " 2042867     471\n",
       " 2042868     450\n",
       " 2042869     430\n",
       " 2042870     407\n",
       " 2042871     386\n",
       " 2042872     363\n",
       " 2042873     348\n",
       " 2042874     340\n",
       " 2042875     336\n",
       " Name: L, Length: 882, dtype: int16)"
      ]
     },
     "execution_count": 145,
     "metadata": {},
     "output_type": "execute_result"
    }
   ],
   "source": [
    "X_test = list(map(lambda wnd: X_test_raw[wnd], X_test_wnd))\n",
    "X_test[0], X_test[1]"
   ]
  },
  {
   "cell_type": "code",
   "execution_count": 148,
   "metadata": {},
   "outputs": [
    {
     "data": {
      "text/plain": [
       "(88200    1118\n",
       " 88201     258\n",
       " 88202     145\n",
       " 88203     854\n",
       " 88204     896\n",
       " 88205     -54\n",
       " 88206   -1922\n",
       " 88207   -3178\n",
       " 88208   -1751\n",
       " 88209    1715\n",
       " 88210    4552\n",
       " 88211    4313\n",
       " 88212    2005\n",
       " 88213    -137\n",
       " 88214   -1049\n",
       " 88215     866\n",
       " 88216    3828\n",
       " 88217    4486\n",
       " 88218    2774\n",
       " 88219      42\n",
       " 88220   -1738\n",
       " 88221   -1592\n",
       " 88222     -35\n",
       " 88223    1778\n",
       " 88224    2595\n",
       " 88225    1983\n",
       " 88226    1740\n",
       " 88227    1965\n",
       " 88228    1299\n",
       " 88229    1925\n",
       "          ... \n",
       " 89052   -1176\n",
       " 89053   -1907\n",
       " 89054   -1610\n",
       " 89055   -2147\n",
       " 89056   -1488\n",
       " 89057    1142\n",
       " 89058    1252\n",
       " 89059    1798\n",
       " 89060     482\n",
       " 89061     101\n",
       " 89062   -3090\n",
       " 89063   -5149\n",
       " 89064   -3446\n",
       " 89065   -1327\n",
       " 89066    -249\n",
       " 89067   -1297\n",
       " 89068    2541\n",
       " 89069    2939\n",
       " 89070   -2563\n",
       " 89071   -6492\n",
       " 89072   -6727\n",
       " 89073   -4716\n",
       " 89074   -2427\n",
       " 89075     193\n",
       " 89076    2419\n",
       " 89077     875\n",
       " 89078   -2570\n",
       " 89079   -3712\n",
       " 89080   -4386\n",
       " 89081   -2282\n",
       " Name: L, Length: 882, dtype: int16, 88201     258\n",
       " 88202     145\n",
       " 88203     854\n",
       " 88204     896\n",
       " 88205     -54\n",
       " 88206   -1922\n",
       " 88207   -3178\n",
       " 88208   -1751\n",
       " 88209    1715\n",
       " 88210    4552\n",
       " 88211    4313\n",
       " 88212    2005\n",
       " 88213    -137\n",
       " 88214   -1049\n",
       " 88215     866\n",
       " 88216    3828\n",
       " 88217    4486\n",
       " 88218    2774\n",
       " 88219      42\n",
       " 88220   -1738\n",
       " 88221   -1592\n",
       " 88222     -35\n",
       " 88223    1778\n",
       " 88224    2595\n",
       " 88225    1983\n",
       " 88226    1740\n",
       " 88227    1965\n",
       " 88228    1299\n",
       " 88229    1925\n",
       " 88230    3392\n",
       "          ... \n",
       " 89053   -1907\n",
       " 89054   -1610\n",
       " 89055   -2147\n",
       " 89056   -1488\n",
       " 89057    1142\n",
       " 89058    1252\n",
       " 89059    1798\n",
       " 89060     482\n",
       " 89061     101\n",
       " 89062   -3090\n",
       " 89063   -5149\n",
       " 89064   -3446\n",
       " 89065   -1327\n",
       " 89066    -249\n",
       " 89067   -1297\n",
       " 89068    2541\n",
       " 89069    2939\n",
       " 89070   -2563\n",
       " 89071   -6492\n",
       " 89072   -6727\n",
       " 89073   -4716\n",
       " 89074   -2427\n",
       " 89075     193\n",
       " 89076    2419\n",
       " 89077     875\n",
       " 89078   -2570\n",
       " 89079   -3712\n",
       " 89080   -4386\n",
       " 89081   -2282\n",
       " 89082   -4044\n",
       " Name: L, Length: 882, dtype: int16)"
      ]
     },
     "execution_count": 148,
     "metadata": {},
     "output_type": "execute_result"
    }
   ],
   "source": [
    "y_train = list(map(lambda wnd: y_train_raw[wnd], y_train_wnd))\n",
    "y_train[0], y_train[1]"
   ]
  },
  {
   "cell_type": "code",
   "execution_count": 149,
   "metadata": {},
   "outputs": [
    {
     "data": {
      "text/plain": [
       "(2041993     314\n",
       " 2041994    -408\n",
       " 2041995    -288\n",
       " 2041996    -101\n",
       " 2041997    -390\n",
       " 2041998   -1198\n",
       " 2041999   -2009\n",
       " 2042000   -2520\n",
       " 2042001   -2666\n",
       " 2042002   -2592\n",
       " 2042003   -2741\n",
       " 2042004   -2906\n",
       " 2042005   -2911\n",
       " 2042006   -2718\n",
       " 2042007   -2175\n",
       " 2042008   -1581\n",
       " 2042009   -1250\n",
       " 2042010   -1388\n",
       " 2042011   -1692\n",
       " 2042012   -1780\n",
       " 2042013   -1656\n",
       " 2042014   -1289\n",
       " 2042015    -987\n",
       " 2042016    -755\n",
       " 2042017    -609\n",
       " 2042018    -437\n",
       " 2042019    -199\n",
       " 2042020     -61\n",
       " 2042021      19\n",
       " 2042022    -117\n",
       "            ... \n",
       " 2042845   -1999\n",
       " 2042846   -1313\n",
       " 2042847    -389\n",
       " 2042848     -23\n",
       " 2042849    -297\n",
       " 2042850   -1237\n",
       " 2042851   -2557\n",
       " 2042852   -3439\n",
       " 2042853   -3249\n",
       " 2042854   -2001\n",
       " 2042855    -772\n",
       " 2042856    -207\n",
       " 2042857    -588\n",
       " 2042858   -1407\n",
       " 2042859   -2062\n",
       " 2042860   -2361\n",
       " 2042861   -2099\n",
       " 2042862   -1604\n",
       " 2042863   -1453\n",
       " 2042864   -1193\n",
       " 2042865    -387\n",
       " 2042866      -2\n",
       " 2042867    -124\n",
       " 2042868    -307\n",
       " 2042869    -763\n",
       " 2042870   -1302\n",
       " 2042871   -1592\n",
       " 2042872   -1298\n",
       " 2042873    -824\n",
       " 2042874    -800\n",
       " Name: L, Length: 882, dtype: int16, 2041994    -408\n",
       " 2041995    -288\n",
       " 2041996    -101\n",
       " 2041997    -390\n",
       " 2041998   -1198\n",
       " 2041999   -2009\n",
       " 2042000   -2520\n",
       " 2042001   -2666\n",
       " 2042002   -2592\n",
       " 2042003   -2741\n",
       " 2042004   -2906\n",
       " 2042005   -2911\n",
       " 2042006   -2718\n",
       " 2042007   -2175\n",
       " 2042008   -1581\n",
       " 2042009   -1250\n",
       " 2042010   -1388\n",
       " 2042011   -1692\n",
       " 2042012   -1780\n",
       " 2042013   -1656\n",
       " 2042014   -1289\n",
       " 2042015    -987\n",
       " 2042016    -755\n",
       " 2042017    -609\n",
       " 2042018    -437\n",
       " 2042019    -199\n",
       " 2042020     -61\n",
       " 2042021      19\n",
       " 2042022    -117\n",
       " 2042023     -55\n",
       "            ... \n",
       " 2042846   -1313\n",
       " 2042847    -389\n",
       " 2042848     -23\n",
       " 2042849    -297\n",
       " 2042850   -1237\n",
       " 2042851   -2557\n",
       " 2042852   -3439\n",
       " 2042853   -3249\n",
       " 2042854   -2001\n",
       " 2042855    -772\n",
       " 2042856    -207\n",
       " 2042857    -588\n",
       " 2042858   -1407\n",
       " 2042859   -2062\n",
       " 2042860   -2361\n",
       " 2042861   -2099\n",
       " 2042862   -1604\n",
       " 2042863   -1453\n",
       " 2042864   -1193\n",
       " 2042865    -387\n",
       " 2042866      -2\n",
       " 2042867    -124\n",
       " 2042868    -307\n",
       " 2042869    -763\n",
       " 2042870   -1302\n",
       " 2042871   -1592\n",
       " 2042872   -1298\n",
       " 2042873    -824\n",
       " 2042874    -800\n",
       " 2042875    -757\n",
       " Name: L, Length: 882, dtype: int16)"
      ]
     },
     "execution_count": 149,
     "metadata": {},
     "output_type": "execute_result"
    }
   ],
   "source": [
    "y_test = list(map(lambda wnd: y_test_raw[wnd], y_test_wnd))\n",
    "y_test[0], y_test[1]"
   ]
  },
  {
   "cell_type": "code",
   "execution_count": 335,
   "metadata": {},
   "outputs": [],
   "source": [
    "def normalize_keeping_mean(arr, forced_abs=None):\n",
    "    left_abs = np.abs(arr.mean() - arr.min())\n",
    "    right_abs = np.abs(arr.max() - arr.mean())\n",
    "    \n",
    "    n = max(left_abs, right_abs)\n",
    "    \n",
    "    if (forced_abs is not None):\n",
    "        n = forced_abs\n",
    "    \n",
    "    return np.clip(arr / n, -1.0, 1.0)"
   ]
  },
  {
   "cell_type": "code",
   "execution_count": 343,
   "metadata": {},
   "outputs": [
    {
     "data": {
      "text/plain": [
       "(-0.07431257057405316, 0.09094515823847163, 2.026278089936955e-06)"
      ]
     },
     "execution_count": 343,
     "metadata": {},
     "output_type": "execute_result"
    }
   ],
   "source": [
    "X_tr = np.array(list(map(lambda x: np.array(x), X_train)))\n",
    "X_tr_n = normalize_keeping_mean(X_tr, forced_abs=MAX_VALUE)\n",
    "X_tr_n.min(), X_tr_n.max(), np.mean(X_tr_n)"
   ]
  },
  {
   "cell_type": "code",
   "execution_count": 345,
   "metadata": {},
   "outputs": [
    {
     "data": {
      "text/plain": [
       "<matplotlib.axes._subplots.AxesSubplot at 0x154ed7390>"
      ]
     },
     "execution_count": 345,
     "metadata": {},
     "output_type": "execute_result"
    },
    {
     "data": {
      "image/png": "[encoded data removed]",
      "text/plain": [
       "<Figure size 432x288 with 1 Axes>"
      ]
     },
     "metadata": {
      "needs_background": "light"
     },
     "output_type": "display_data"
    }
   ],
   "source": [
    "pd.Series(X_tr_n[0]).plot.line()"
   ]
  },
  {
   "cell_type": "code",
   "execution_count": 348,
   "metadata": {},
   "outputs": [
    {
     "data": {
      "text/plain": [
       "(-0.06585894344920194, 0.13354899746696372, 2.4376905272377355e-06)"
      ]
     },
     "execution_count": 348,
     "metadata": {},
     "output_type": "execute_result"
    }
   ],
   "source": [
    "X_te = np.array(list(map(lambda x: np.array(x), X_test)))\n",
    "X_te_n = normalize_keeping_mean(X_te, forced_abs=MAX_VALUE)\n",
    "X_te_n.min(), X_te_n.max(), np.mean(X_te_n)"
   ]
  },
  {
   "cell_type": "code",
   "execution_count": 349,
   "metadata": {},
   "outputs": [
    {
     "data": {
      "text/plain": [
       "(-0.401989806817835, 0.380596331675161, -0.00013942314010930278)"
      ]
     },
     "execution_count": 349,
     "metadata": {},
     "output_type": "execute_result"
    }
   ],
   "source": [
    "y_tr = np.array(list(map(lambda x: np.array(x), y_train)))\n",
    "y_tr_n = normalize_keeping_mean(y_tr, forced_abs=MAX_VALUE)\n",
    "y_tr_n.min(), y_tr_n.max(), np.mean(y_tr_n)"
   ]
  },
  {
   "cell_type": "code",
   "execution_count": 350,
   "metadata": {},
   "outputs": [
    {
     "data": {
      "text/plain": [
       "(-0.16470839564195686, 0.1424604022339549, -3.383165768275146e-05)"
      ]
     },
     "execution_count": 350,
     "metadata": {},
     "output_type": "execute_result"
    }
   ],
   "source": [
    "y_te = np.array(list(map(lambda x: np.array(x), y_test)))\n",
    "y_te_n = normalize_keeping_mean(y_te, forced_abs=MAX_VALUE)\n",
    "y_te_n.min(), y_te_n.max(), np.mean(y_te_n)"
   ]
  },
  {
   "cell_type": "markdown",
   "metadata": {},
   "source": [
    "## Finished data processing!"
   ]
  },
  {
   "cell_type": "code",
   "execution_count": 155,
   "metadata": {},
   "outputs": [],
   "source": [
    "import numpy as np"
   ]
  },
  {
   "cell_type": "code",
   "execution_count": 157,
   "metadata": {},
   "outputs": [],
   "source": [
    "from keras.models import Sequential\n",
    "from keras.layers import Dense, Dropout, Activation, Flatten\n",
    "from keras.layers import Convolution2D, MaxPooling2D\n",
    "from keras.utils import np_utils"
   ]
  },
  {
   "cell_type": "code",
   "execution_count": null,
   "metadata": {},
   "outputs": [],
   "source": []
  }
 ],
 "metadata": {
  "kernelspec": {
   "display_name": "Python 3",
   "language": "python",
   "name": "python3"
  },
  "language_info": {
   "codemirror_mode": {
    "name": "ipython",
    "version": 3
   },
   "file_extension": ".py",
   "mimetype": "text/x-python",
   "name": "python",
   "nbconvert_exporter": "python",
   "pygments_lexer": "ipython3",
   "version": "3.7.3"
  }
 },
 "nbformat": 4,
 "nbformat_minor": 2
}
