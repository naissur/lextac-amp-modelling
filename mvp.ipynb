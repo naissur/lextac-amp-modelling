{
 "cells": [
  {
   "cell_type": "code",
   "execution_count": 208,
   "metadata": {},
   "outputs": [],
   "source": [
    "from scipy.io import wavfile\n",
    "\n",
    "(source_clean_fs, source_clean_data) = wavfile.read('./data/source_clean.wav')\n",
    "(plini_clean_fs, plini_clean_data) = wavfile.read('./data/plini_clean.wav')\n",
    "(source_noise_fs, source_noise_data) = wavfile.read('./data/source_noise.wav')\n",
    "(plini_noise_fs, plini_noise_data) = wavfile.read('./data/plini_noise.wav')"
   ]
  },
  {
   "cell_type": "code",
   "execution_count": 209,
   "metadata": {},
   "outputs": [],
   "source": [
    "import pandas as pd"
   ]
  },
  {
   "cell_type": "code",
   "execution_count": 210,
   "metadata": {},
   "outputs": [
    {
     "data": {
      "text/html": [
       "<div>\n",
       "<style scoped>\n",
       "    .dataframe tbody tr th:only-of-type {\n",
       "        vertical-align: middle;\n",
       "    }\n",
       "\n",
       "    .dataframe tbody tr th {\n",
       "        vertical-align: top;\n",
       "    }\n",
       "\n",
       "    .dataframe thead th {\n",
       "        text-align: right;\n",
       "    }\n",
       "</style>\n",
       "<table border=\"1\" class=\"dataframe\">\n",
       "  <thead>\n",
       "    <tr style=\"text-align: right;\">\n",
       "      <th></th>\n",
       "      <th>L</th>\n",
       "      <th>R</th>\n",
       "    </tr>\n",
       "  </thead>\n",
       "  <tbody>\n",
       "    <tr>\n",
       "      <th>0</th>\n",
       "      <td>0</td>\n",
       "      <td>0</td>\n",
       "    </tr>\n",
       "    <tr>\n",
       "      <th>1</th>\n",
       "      <td>0</td>\n",
       "      <td>0</td>\n",
       "    </tr>\n",
       "    <tr>\n",
       "      <th>2</th>\n",
       "      <td>0</td>\n",
       "      <td>0</td>\n",
       "    </tr>\n",
       "    <tr>\n",
       "      <th>3</th>\n",
       "      <td>0</td>\n",
       "      <td>0</td>\n",
       "    </tr>\n",
       "    <tr>\n",
       "      <th>4</th>\n",
       "      <td>0</td>\n",
       "      <td>0</td>\n",
       "    </tr>\n",
       "  </tbody>\n",
       "</table>\n",
       "</div>"
      ],
      "text/plain": [
       "   L  R\n",
       "0  0  0\n",
       "1  0  0\n",
       "2  0  0\n",
       "3  0  0\n",
       "4  0  0"
      ]
     },
     "execution_count": 210,
     "metadata": {},
     "output_type": "execute_result"
    }
   ],
   "source": [
    "source_clean_df = pd.DataFrame(source_clean_data, columns=['L', 'R'])\n",
    "source_clean_df.head()"
   ]
  },
  {
   "cell_type": "code",
   "execution_count": 211,
   "metadata": {},
   "outputs": [
    {
     "data": {
      "text/html": [
       "<div>\n",
       "<style scoped>\n",
       "    .dataframe tbody tr th:only-of-type {\n",
       "        vertical-align: middle;\n",
       "    }\n",
       "\n",
       "    .dataframe tbody tr th {\n",
       "        vertical-align: top;\n",
       "    }\n",
       "\n",
       "    .dataframe thead th {\n",
       "        text-align: right;\n",
       "    }\n",
       "</style>\n",
       "<table border=\"1\" class=\"dataframe\">\n",
       "  <thead>\n",
       "    <tr style=\"text-align: right;\">\n",
       "      <th></th>\n",
       "      <th>L</th>\n",
       "      <th>R</th>\n",
       "    </tr>\n",
       "  </thead>\n",
       "  <tbody>\n",
       "    <tr>\n",
       "      <th>0</th>\n",
       "      <td>0</td>\n",
       "      <td>0</td>\n",
       "    </tr>\n",
       "    <tr>\n",
       "      <th>1</th>\n",
       "      <td>0</td>\n",
       "      <td>0</td>\n",
       "    </tr>\n",
       "    <tr>\n",
       "      <th>2</th>\n",
       "      <td>0</td>\n",
       "      <td>0</td>\n",
       "    </tr>\n",
       "    <tr>\n",
       "      <th>3</th>\n",
       "      <td>0</td>\n",
       "      <td>0</td>\n",
       "    </tr>\n",
       "    <tr>\n",
       "      <th>4</th>\n",
       "      <td>0</td>\n",
       "      <td>0</td>\n",
       "    </tr>\n",
       "  </tbody>\n",
       "</table>\n",
       "</div>"
      ],
      "text/plain": [
       "   L  R\n",
       "0  0  0\n",
       "1  0  0\n",
       "2  0  0\n",
       "3  0  0\n",
       "4  0  0"
      ]
     },
     "execution_count": 211,
     "metadata": {},
     "output_type": "execute_result"
    }
   ],
   "source": [
    "plini_clean_df = pd.DataFrame(plini_clean_data, columns=['L', 'R'])\n",
    "plini_clean_df.head()"
   ]
  },
  {
   "cell_type": "code",
   "execution_count": 212,
   "metadata": {},
   "outputs": [
    {
     "data": {
      "text/html": [
       "<div>\n",
       "<style scoped>\n",
       "    .dataframe tbody tr th:only-of-type {\n",
       "        vertical-align: middle;\n",
       "    }\n",
       "\n",
       "    .dataframe tbody tr th {\n",
       "        vertical-align: top;\n",
       "    }\n",
       "\n",
       "    .dataframe thead th {\n",
       "        text-align: right;\n",
       "    }\n",
       "</style>\n",
       "<table border=\"1\" class=\"dataframe\">\n",
       "  <thead>\n",
       "    <tr style=\"text-align: right;\">\n",
       "      <th></th>\n",
       "      <th>L</th>\n",
       "      <th>R</th>\n",
       "    </tr>\n",
       "  </thead>\n",
       "  <tbody>\n",
       "    <tr>\n",
       "      <th>0</th>\n",
       "      <td>0</td>\n",
       "      <td>0</td>\n",
       "    </tr>\n",
       "    <tr>\n",
       "      <th>1</th>\n",
       "      <td>0</td>\n",
       "      <td>0</td>\n",
       "    </tr>\n",
       "    <tr>\n",
       "      <th>2</th>\n",
       "      <td>0</td>\n",
       "      <td>0</td>\n",
       "    </tr>\n",
       "    <tr>\n",
       "      <th>3</th>\n",
       "      <td>0</td>\n",
       "      <td>0</td>\n",
       "    </tr>\n",
       "    <tr>\n",
       "      <th>4</th>\n",
       "      <td>0</td>\n",
       "      <td>0</td>\n",
       "    </tr>\n",
       "  </tbody>\n",
       "</table>\n",
       "</div>"
      ],
      "text/plain": [
       "   L  R\n",
       "0  0  0\n",
       "1  0  0\n",
       "2  0  0\n",
       "3  0  0\n",
       "4  0  0"
      ]
     },
     "execution_count": 212,
     "metadata": {},
     "output_type": "execute_result"
    }
   ],
   "source": [
    "source_noise_df = pd.DataFrame(source_noise_data, columns=['L', 'R'])\n",
    "source_noise_df.head()"
   ]
  },
  {
   "cell_type": "code",
   "execution_count": 213,
   "metadata": {},
   "outputs": [
    {
     "data": {
      "text/html": [
       "<div>\n",
       "<style scoped>\n",
       "    .dataframe tbody tr th:only-of-type {\n",
       "        vertical-align: middle;\n",
       "    }\n",
       "\n",
       "    .dataframe tbody tr th {\n",
       "        vertical-align: top;\n",
       "    }\n",
       "\n",
       "    .dataframe thead th {\n",
       "        text-align: right;\n",
       "    }\n",
       "</style>\n",
       "<table border=\"1\" class=\"dataframe\">\n",
       "  <thead>\n",
       "    <tr style=\"text-align: right;\">\n",
       "      <th></th>\n",
       "      <th>L</th>\n",
       "      <th>R</th>\n",
       "    </tr>\n",
       "  </thead>\n",
       "  <tbody>\n",
       "    <tr>\n",
       "      <th>0</th>\n",
       "      <td>0</td>\n",
       "      <td>0</td>\n",
       "    </tr>\n",
       "    <tr>\n",
       "      <th>1</th>\n",
       "      <td>0</td>\n",
       "      <td>0</td>\n",
       "    </tr>\n",
       "    <tr>\n",
       "      <th>2</th>\n",
       "      <td>0</td>\n",
       "      <td>0</td>\n",
       "    </tr>\n",
       "    <tr>\n",
       "      <th>3</th>\n",
       "      <td>0</td>\n",
       "      <td>0</td>\n",
       "    </tr>\n",
       "    <tr>\n",
       "      <th>4</th>\n",
       "      <td>0</td>\n",
       "      <td>0</td>\n",
       "    </tr>\n",
       "  </tbody>\n",
       "</table>\n",
       "</div>"
      ],
      "text/plain": [
       "   L  R\n",
       "0  0  0\n",
       "1  0  0\n",
       "2  0  0\n",
       "3  0  0\n",
       "4  0  0"
      ]
     },
     "execution_count": 213,
     "metadata": {},
     "output_type": "execute_result"
    }
   ],
   "source": [
    "plini_noise_df = pd.DataFrame(plini_noise_data, columns=['L', 'R'])\n",
    "plini_noise_df.head()"
   ]
  },
  {
   "cell_type": "code",
   "execution_count": 216,
   "metadata": {},
   "outputs": [
    {
     "data": {
      "text/plain": [
       "(32767, 29669)"
      ]
     },
     "execution_count": 216,
     "metadata": {},
     "output_type": "execute_result"
    }
   ],
   "source": [
    "plini_clean_df['L'].max(), plini_noise_df['L'].max()"
   ]
  },
  {
   "cell_type": "code",
   "execution_count": 6,
   "metadata": {},
   "outputs": [
    {
     "data": {
      "text/plain": [
       "32768"
      ]
     },
     "execution_count": 6,
     "metadata": {},
     "output_type": "execute_result"
    }
   ],
   "source": [
    "2 ** 15"
   ]
  },
  {
   "cell_type": "code",
   "execution_count": 7,
   "metadata": {},
   "outputs": [
    {
     "data": {
      "text/plain": [
       "32767"
      ]
     },
     "execution_count": 7,
     "metadata": {},
     "output_type": "execute_result"
    }
   ],
   "source": [
    "MAX_VALUE = 2 ** 15 - 1\n",
    "MAX_VALUE"
   ]
  },
  {
   "cell_type": "code",
   "execution_count": null,
   "metadata": {},
   "outputs": [],
   "source": []
  },
  {
   "cell_type": "code",
   "execution_count": 8,
   "metadata": {},
   "outputs": [
    {
     "data": {
      "text/plain": [
       "(2442240, 2442240)"
      ]
     },
     "execution_count": 8,
     "metadata": {},
     "output_type": "execute_result"
    }
   ],
   "source": [
    "len(plini_clean_df), len(source_clean_df)"
   ]
  },
  {
   "cell_type": "code",
   "execution_count": 217,
   "metadata": {},
   "outputs": [
    {
     "data": {
      "text/plain": [
       "(814464, 814464)"
      ]
     },
     "execution_count": 217,
     "metadata": {},
     "output_type": "execute_result"
    }
   ],
   "source": [
    "len(plini_noise_df), len(source_noise_df)"
   ]
  },
  {
   "cell_type": "code",
   "execution_count": 218,
   "metadata": {},
   "outputs": [
    {
     "data": {
      "text/plain": [
       "1953792"
      ]
     },
     "execution_count": 218,
     "metadata": {},
     "output_type": "execute_result"
    }
   ],
   "source": [
    "CLEAN_START_END = int(len(plini_clean_df) * 0.8)\n",
    "CLEAN_START_END"
   ]
  },
  {
   "cell_type": "code",
   "execution_count": 219,
   "metadata": {},
   "outputs": [
    {
     "data": {
      "text/plain": [
       "651571"
      ]
     },
     "execution_count": 219,
     "metadata": {},
     "output_type": "execute_result"
    }
   ],
   "source": [
    "NOISE_START_END = int(len(plini_noise_df) * 0.8)\n",
    "NOISE_START_END"
   ]
  },
  {
   "cell_type": "code",
   "execution_count": 227,
   "metadata": {},
   "outputs": [],
   "source": [
    "(X_train_c_start, X_train_c_end) = (0, CLEAN_START_END)\n",
    "(X_test_c_start, X_test_c_end) = (CLEAN_START_END, len(source_clean_df))"
   ]
  },
  {
   "cell_type": "code",
   "execution_count": 228,
   "metadata": {},
   "outputs": [],
   "source": [
    "(y_train_n_start, y_train_n_end) = (0, NOISE_START_END)\n",
    "(y_test_n_start, y_test_n_end) = (NOISE_START_END, len(source_noise_df))"
   ]
  },
  {
   "cell_type": "markdown",
   "metadata": {},
   "source": [
    "## IT'S MONO"
   ]
  },
  {
   "cell_type": "code",
   "execution_count": 229,
   "metadata": {},
   "outputs": [
    {
     "data": {
      "text/plain": [
       "0    0\n",
       "1    0\n",
       "2    0\n",
       "3    0\n",
       "4    0\n",
       "Name: L, dtype: int16"
      ]
     },
     "execution_count": 229,
     "metadata": {},
     "output_type": "execute_result"
    }
   ],
   "source": [
    "X_train_c_raw = source_clean_df['L'][X_train_c_start:X_train_c_end]\n",
    "X_train_c_raw.head()"
   ]
  },
  {
   "cell_type": "code",
   "execution_count": 13,
   "metadata": {},
   "outputs": [
    {
     "data": {
      "text/plain": [
       "1953792   -615\n",
       "1953793   -560\n",
       "1953794   -485\n",
       "1953795   -395\n",
       "1953796   -302\n",
       "Name: L, dtype: int16"
      ]
     },
     "execution_count": 13,
     "metadata": {},
     "output_type": "execute_result"
    }
   ],
   "source": [
    "X_test_raw = source_clean_df['L'][X_test_start:X_test_end]\n",
    "X_test_raw.head()"
   ]
  },
  {
   "cell_type": "code",
   "execution_count": 14,
   "metadata": {},
   "outputs": [
    {
     "data": {
      "text/plain": [
       "0    0\n",
       "1    0\n",
       "2    0\n",
       "3    0\n",
       "4    0\n",
       "Name: L, dtype: int16"
      ]
     },
     "execution_count": 14,
     "metadata": {},
     "output_type": "execute_result"
    }
   ],
   "source": [
    "y_train_raw = plini_clean_df['L'][y_train_start:y_train_end]\n",
    "y_train_raw.head()"
   ]
  },
  {
   "cell_type": "code",
   "execution_count": 15,
   "metadata": {},
   "outputs": [
    {
     "data": {
      "text/plain": [
       "1953792    576\n",
       "1953793    807\n",
       "1953794    559\n",
       "1953795    206\n",
       "1953796    178\n",
       "Name: L, dtype: int16"
      ]
     },
     "execution_count": 15,
     "metadata": {},
     "output_type": "execute_result"
    }
   ],
   "source": [
    "y_test_raw = plini_clean_df['L'][y_test_start:y_test_end]\n",
    "y_test_raw.head()"
   ]
  },
  {
   "cell_type": "code",
   "execution_count": null,
   "metadata": {},
   "outputs": [],
   "source": []
  },
  {
   "cell_type": "code",
   "execution_count": 230,
   "metadata": {},
   "outputs": [],
   "source": [
    "TR_C_N_DEV = source_clean_fs\n",
    "TR_C_OFFSET_DEV = source_clean_fs * 2\n",
    "\n",
    "TE_C_N_DEV = int(source_clean_fs / 8)\n",
    "TE_C_OFFSET_DEV = source_clean_fs * 2"
   ]
  },
  {
   "cell_type": "code",
   "execution_count": 231,
   "metadata": {},
   "outputs": [],
   "source": [
    "TR_N_N_DEV = source_noise_fs\n",
    "TR_N_OFFSET_DEV = source_noise_fs * 2\n",
    "\n",
    "TE_N_N_DEV = int(source_noise_fs / 8)\n",
    "TE_N_OFFSET_DEV = source_noise_fs * 2"
   ]
  },
  {
   "cell_type": "code",
   "execution_count": 232,
   "metadata": {},
   "outputs": [
    {
     "data": {
      "text/plain": [
       "(44100, 5512, 44100, 5512)"
      ]
     },
     "execution_count": 232,
     "metadata": {},
     "output_type": "execute_result"
    }
   ],
   "source": [
    "(TR_C_N_DEV, TE_C_N_DEV, TR_N_N_DEV, TE_N_N_DEV)"
   ]
  },
  {
   "cell_type": "code",
   "execution_count": 109,
   "metadata": {},
   "outputs": [
    {
     "data": {
      "text/plain": [
       "32"
      ]
     },
     "execution_count": 109,
     "metadata": {},
     "output_type": "execute_result"
    }
   ],
   "source": [
    "# N_WINDOW_POINTS = int(source_clean_fs * 0.02)\n",
    "N_WINDOW_POINTS = 32\n",
    "N_WINDOW_POINTS"
   ]
  },
  {
   "cell_type": "code",
   "execution_count": 110,
   "metadata": {},
   "outputs": [],
   "source": [
    "def make_windows(df, n_window_points):\n",
    "    df_index = df.index\n",
    "    index = 0\n",
    "    windows = []\n",
    "\n",
    "    for index in range(0, len(df) - n_window_points):\n",
    "        windows.append(df_index[index:(index + n_window_points)])\n",
    "\n",
    "    return windows"
   ]
  },
  {
   "cell_type": "code",
   "execution_count": 111,
   "metadata": {},
   "outputs": [
    {
     "data": {
      "text/plain": [
       "44068"
      ]
     },
     "execution_count": 111,
     "metadata": {},
     "output_type": "execute_result"
    }
   ],
   "source": [
    "X_train_c_wnd = make_windows(X_train_c_raw[TR_OFFSET_DEV:TR_OFFSET_DEV+TR_N_DEV], N_WINDOW_POINTS)\n",
    "len(X_train_wnd)"
   ]
  },
  {
   "cell_type": "code",
   "execution_count": 112,
   "metadata": {},
   "outputs": [
    {
     "data": {
      "text/plain": [
       "5480"
      ]
     },
     "execution_count": 112,
     "metadata": {},
     "output_type": "execute_result"
    }
   ],
   "source": [
    "X_test_wnd = make_windows(X_test_raw[TE_OFFSET_DEV:TE_OFFSET_DEV+TE_N_DEV], N_WINDOW_POINTS)\n",
    "len(X_test_wnd)"
   ]
  },
  {
   "cell_type": "code",
   "execution_count": 113,
   "metadata": {},
   "outputs": [
    {
     "data": {
      "text/plain": [
       "44068"
      ]
     },
     "execution_count": 113,
     "metadata": {},
     "output_type": "execute_result"
    }
   ],
   "source": [
    "y_train_wnd = make_windows(y_train_raw[TR_OFFSET_DEV:TR_OFFSET_DEV+TR_N_DEV], N_WINDOW_POINTS)\n",
    "len(y_train_wnd)"
   ]
  },
  {
   "cell_type": "code",
   "execution_count": 114,
   "metadata": {},
   "outputs": [
    {
     "data": {
      "text/plain": [
       "5480"
      ]
     },
     "execution_count": 114,
     "metadata": {},
     "output_type": "execute_result"
    }
   ],
   "source": [
    "y_test_wnd = make_windows(y_test_raw[TE_OFFSET_DEV:TE_OFFSET_DEV+TE_N_DEV], N_WINDOW_POINTS)\n",
    "len(y_test_wnd)"
   ]
  },
  {
   "cell_type": "code",
   "execution_count": 115,
   "metadata": {},
   "outputs": [
    {
     "data": {
      "text/plain": [
       "RangeIndex(start=2041992, stop=2042024, step=1)"
      ]
     },
     "execution_count": 115,
     "metadata": {},
     "output_type": "execute_result"
    }
   ],
   "source": [
    "X_test_wnd[0]"
   ]
  },
  {
   "cell_type": "code",
   "execution_count": 116,
   "metadata": {},
   "outputs": [
    {
     "data": {
      "text/plain": [
       "2041992     153\n",
       "2041993     147\n",
       "2041994     154\n",
       "2041995     176\n",
       "2041996     215\n",
       "2041997     279\n",
       "2041998     358\n",
       "2041999     443\n",
       "2042000     539\n",
       "2042001     625\n",
       "2042002     696\n",
       "2042003     755\n",
       "2042004     791\n",
       "2042005     801\n",
       "2042006     790\n",
       "2042007     755\n",
       "2042008     691\n",
       "2042009     598\n",
       "2042010     478\n",
       "2042011     333\n",
       "2042012     169\n",
       "2042013      -6\n",
       "2042014    -183\n",
       "2042015    -360\n",
       "2042016    -528\n",
       "2042017    -681\n",
       "2042018    -813\n",
       "2042019    -926\n",
       "2042020   -1016\n",
       "2042021   -1084\n",
       "2042022   -1128\n",
       "2042023   -1144\n",
       "Name: L, dtype: int16"
      ]
     },
     "execution_count": 116,
     "metadata": {},
     "output_type": "execute_result"
    }
   ],
   "source": [
    "X_test_raw[X_test_wnd[0]]"
   ]
  },
  {
   "cell_type": "markdown",
   "metadata": {},
   "source": [
    "## Preparing data for processing"
   ]
  },
  {
   "cell_type": "code",
   "execution_count": 117,
   "metadata": {},
   "outputs": [
    {
     "data": {
      "text/plain": [
       "(88200    -725\n",
       " 88201    -877\n",
       " 88202    -986\n",
       " 88203   -1013\n",
       " 88204    -959\n",
       " 88205    -815\n",
       " 88206    -628\n",
       " 88207    -424\n",
       " 88208    -218\n",
       " 88209     -28\n",
       " 88210     151\n",
       " 88211     303\n",
       " 88212     431\n",
       " 88213     534\n",
       " 88214     615\n",
       " 88215     671\n",
       " 88216     707\n",
       " 88217     751\n",
       " 88218     842\n",
       " 88219     990\n",
       " 88220    1158\n",
       " 88221    1316\n",
       " 88222    1448\n",
       " 88223    1559\n",
       " 88224    1660\n",
       " 88225    1754\n",
       " 88226    1793\n",
       " 88227    1738\n",
       " 88228    1584\n",
       " 88229    1357\n",
       " 88230    1122\n",
       " 88231     888\n",
       " Name: L, dtype: int16, 88201    -877\n",
       " 88202    -986\n",
       " 88203   -1013\n",
       " 88204    -959\n",
       " 88205    -815\n",
       " 88206    -628\n",
       " 88207    -424\n",
       " 88208    -218\n",
       " 88209     -28\n",
       " 88210     151\n",
       " 88211     303\n",
       " 88212     431\n",
       " 88213     534\n",
       " 88214     615\n",
       " 88215     671\n",
       " 88216     707\n",
       " 88217     751\n",
       " 88218     842\n",
       " 88219     990\n",
       " 88220    1158\n",
       " 88221    1316\n",
       " 88222    1448\n",
       " 88223    1559\n",
       " 88224    1660\n",
       " 88225    1754\n",
       " 88226    1793\n",
       " 88227    1738\n",
       " 88228    1584\n",
       " 88229    1357\n",
       " 88230    1122\n",
       " 88231     888\n",
       " 88232     649\n",
       " Name: L, dtype: int16)"
      ]
     },
     "execution_count": 117,
     "metadata": {},
     "output_type": "execute_result"
    }
   ],
   "source": [
    "X_train = list(map(lambda wnd: X_train_raw[wnd], X_train_wnd))\n",
    "X_train[0], X_train[1]"
   ]
  },
  {
   "cell_type": "code",
   "execution_count": 118,
   "metadata": {},
   "outputs": [
    {
     "data": {
      "text/plain": [
       "(2041992     153\n",
       " 2041993     147\n",
       " 2041994     154\n",
       " 2041995     176\n",
       " 2041996     215\n",
       " 2041997     279\n",
       " 2041998     358\n",
       " 2041999     443\n",
       " 2042000     539\n",
       " 2042001     625\n",
       " 2042002     696\n",
       " 2042003     755\n",
       " 2042004     791\n",
       " 2042005     801\n",
       " 2042006     790\n",
       " 2042007     755\n",
       " 2042008     691\n",
       " 2042009     598\n",
       " 2042010     478\n",
       " 2042011     333\n",
       " 2042012     169\n",
       " 2042013      -6\n",
       " 2042014    -183\n",
       " 2042015    -360\n",
       " 2042016    -528\n",
       " 2042017    -681\n",
       " 2042018    -813\n",
       " 2042019    -926\n",
       " 2042020   -1016\n",
       " 2042021   -1084\n",
       " 2042022   -1128\n",
       " 2042023   -1144\n",
       " Name: L, dtype: int16, 2041993     147\n",
       " 2041994     154\n",
       " 2041995     176\n",
       " 2041996     215\n",
       " 2041997     279\n",
       " 2041998     358\n",
       " 2041999     443\n",
       " 2042000     539\n",
       " 2042001     625\n",
       " 2042002     696\n",
       " 2042003     755\n",
       " 2042004     791\n",
       " 2042005     801\n",
       " 2042006     790\n",
       " 2042007     755\n",
       " 2042008     691\n",
       " 2042009     598\n",
       " 2042010     478\n",
       " 2042011     333\n",
       " 2042012     169\n",
       " 2042013      -6\n",
       " 2042014    -183\n",
       " 2042015    -360\n",
       " 2042016    -528\n",
       " 2042017    -681\n",
       " 2042018    -813\n",
       " 2042019    -926\n",
       " 2042020   -1016\n",
       " 2042021   -1084\n",
       " 2042022   -1128\n",
       " 2042023   -1144\n",
       " 2042024   -1134\n",
       " Name: L, dtype: int16)"
      ]
     },
     "execution_count": 118,
     "metadata": {},
     "output_type": "execute_result"
    }
   ],
   "source": [
    "X_test = list(map(lambda wnd: X_test_raw[wnd], X_test_wnd))\n",
    "X_test[0], X_test[1]"
   ]
  },
  {
   "cell_type": "code",
   "execution_count": 119,
   "metadata": {},
   "outputs": [
    {
     "data": {
      "text/plain": [
       "(88200    1118\n",
       " 88201     258\n",
       " 88202     145\n",
       " 88203     854\n",
       " 88204     896\n",
       " 88205     -54\n",
       " 88206   -1922\n",
       " 88207   -3178\n",
       " 88208   -1751\n",
       " 88209    1715\n",
       " 88210    4552\n",
       " 88211    4313\n",
       " 88212    2005\n",
       " 88213    -137\n",
       " 88214   -1049\n",
       " 88215     866\n",
       " 88216    3828\n",
       " 88217    4486\n",
       " 88218    2774\n",
       " 88219      42\n",
       " 88220   -1738\n",
       " 88221   -1592\n",
       " 88222     -35\n",
       " 88223    1778\n",
       " 88224    2595\n",
       " 88225    1983\n",
       " 88226    1740\n",
       " 88227    1965\n",
       " 88228    1299\n",
       " 88229    1925\n",
       " 88230    3392\n",
       " 88231    4098\n",
       " Name: L, dtype: int16, 88201     258\n",
       " 88202     145\n",
       " 88203     854\n",
       " 88204     896\n",
       " 88205     -54\n",
       " 88206   -1922\n",
       " 88207   -3178\n",
       " 88208   -1751\n",
       " 88209    1715\n",
       " 88210    4552\n",
       " 88211    4313\n",
       " 88212    2005\n",
       " 88213    -137\n",
       " 88214   -1049\n",
       " 88215     866\n",
       " 88216    3828\n",
       " 88217    4486\n",
       " 88218    2774\n",
       " 88219      42\n",
       " 88220   -1738\n",
       " 88221   -1592\n",
       " 88222     -35\n",
       " 88223    1778\n",
       " 88224    2595\n",
       " 88225    1983\n",
       " 88226    1740\n",
       " 88227    1965\n",
       " 88228    1299\n",
       " 88229    1925\n",
       " 88230    3392\n",
       " 88231    4098\n",
       " 88232    3392\n",
       " Name: L, dtype: int16)"
      ]
     },
     "execution_count": 119,
     "metadata": {},
     "output_type": "execute_result"
    }
   ],
   "source": [
    "y_train = list(map(lambda wnd: y_train_raw[wnd], y_train_wnd))\n",
    "y_train[0], y_train[1]"
   ]
  },
  {
   "cell_type": "code",
   "execution_count": 120,
   "metadata": {},
   "outputs": [
    {
     "data": {
      "text/plain": [
       "(2041992    1572\n",
       " 2041993     314\n",
       " 2041994    -408\n",
       " 2041995    -288\n",
       " 2041996    -101\n",
       " 2041997    -390\n",
       " 2041998   -1198\n",
       " 2041999   -2009\n",
       " 2042000   -2520\n",
       " 2042001   -2666\n",
       " 2042002   -2592\n",
       " 2042003   -2741\n",
       " 2042004   -2906\n",
       " 2042005   -2911\n",
       " 2042006   -2718\n",
       " 2042007   -2175\n",
       " 2042008   -1581\n",
       " 2042009   -1250\n",
       " 2042010   -1388\n",
       " 2042011   -1692\n",
       " 2042012   -1780\n",
       " 2042013   -1656\n",
       " 2042014   -1289\n",
       " 2042015    -987\n",
       " 2042016    -755\n",
       " 2042017    -609\n",
       " 2042018    -437\n",
       " 2042019    -199\n",
       " 2042020     -61\n",
       " 2042021      19\n",
       " 2042022    -117\n",
       " 2042023     -55\n",
       " Name: L, dtype: int16, 2041993     314\n",
       " 2041994    -408\n",
       " 2041995    -288\n",
       " 2041996    -101\n",
       " 2041997    -390\n",
       " 2041998   -1198\n",
       " 2041999   -2009\n",
       " 2042000   -2520\n",
       " 2042001   -2666\n",
       " 2042002   -2592\n",
       " 2042003   -2741\n",
       " 2042004   -2906\n",
       " 2042005   -2911\n",
       " 2042006   -2718\n",
       " 2042007   -2175\n",
       " 2042008   -1581\n",
       " 2042009   -1250\n",
       " 2042010   -1388\n",
       " 2042011   -1692\n",
       " 2042012   -1780\n",
       " 2042013   -1656\n",
       " 2042014   -1289\n",
       " 2042015    -987\n",
       " 2042016    -755\n",
       " 2042017    -609\n",
       " 2042018    -437\n",
       " 2042019    -199\n",
       " 2042020     -61\n",
       " 2042021      19\n",
       " 2042022    -117\n",
       " 2042023     -55\n",
       " 2042024    -141\n",
       " Name: L, dtype: int16)"
      ]
     },
     "execution_count": 120,
     "metadata": {},
     "output_type": "execute_result"
    }
   ],
   "source": [
    "y_test = list(map(lambda wnd: y_test_raw[wnd], y_test_wnd))\n",
    "y_test[0], y_test[1]"
   ]
  },
  {
   "cell_type": "code",
   "execution_count": 121,
   "metadata": {},
   "outputs": [],
   "source": [
    "def normalize_keeping_mean(arr, forced_abs=None):\n",
    "    left_abs = np.abs(arr.mean() - arr.min())\n",
    "    right_abs = np.abs(arr.max() - arr.mean())\n",
    "    \n",
    "    n = max(left_abs, right_abs)\n",
    "    \n",
    "    if (forced_abs is not None):\n",
    "        n = forced_abs\n",
    "    \n",
    "    return np.clip(arr / n, -1.0, 1.0)"
   ]
  },
  {
   "cell_type": "code",
   "execution_count": 122,
   "metadata": {},
   "outputs": [],
   "source": [
    "def normalize(arr, forced_abs=None, mean=None):\n",
    "    left_abs = np.abs(arr.mean() - arr.min())\n",
    "    right_abs = np.abs(arr.max() - arr.mean())\n",
    "    \n",
    "    n = max(left_abs, right_abs)\n",
    "    \n",
    "    if (forced_abs is not None):\n",
    "        n = forced_abs\n",
    "        \n",
    "    if (mean is None):\n",
    "        mean = arr.mean()\n",
    "    \n",
    "    \n",
    "    return np.clip((arr - mean) / n, -1.0, 1.0)"
   ]
  },
  {
   "cell_type": "code",
   "execution_count": 123,
   "metadata": {},
   "outputs": [
    {
     "data": {
      "text/plain": [
       "(-0.07431257057405316, 0.09094515823847163, 4.246737367871073e-06)"
      ]
     },
     "execution_count": 123,
     "metadata": {},
     "output_type": "execute_result"
    }
   ],
   "source": [
    "import numpy as np\n",
    "\n",
    "X_tr = np.array(list(map(lambda x: np.array(x), X_train)))\n",
    "X_tr_n = normalize(X_tr, forced_abs=MAX_VALUE, mean=0.0)\n",
    "X_tr_n.min(), X_tr_n.max(), np.mean(X_tr_n)"
   ]
  },
  {
   "cell_type": "code",
   "execution_count": 124,
   "metadata": {},
   "outputs": [
    {
     "data": {
      "text/plain": [
       "(-0.05261391033661916, 0.04519791253395184, -6.593727939517224e-05)"
      ]
     },
     "execution_count": 124,
     "metadata": {},
     "output_type": "execute_result"
    }
   ],
   "source": [
    "X_te = np.array(list(map(lambda x: np.array(x), X_test)))\n",
    "X_te_n = normalize_keeping_mean(X_te, forced_abs=MAX_VALUE)\n",
    "X_te_n.min(), X_te_n.max(), np.mean(X_te_n)"
   ]
  },
  {
   "cell_type": "code",
   "execution_count": 125,
   "metadata": {},
   "outputs": [
    {
     "data": {
      "text/plain": [
       "(-0.401989806817835, 0.380596331675161, 5.842201732312055e-06)"
      ]
     },
     "execution_count": 125,
     "metadata": {},
     "output_type": "execute_result"
    }
   ],
   "source": [
    "y_tr = np.array(list(map(lambda x: np.array(x), y_train)))\n",
    "y_tr_n = normalize_keeping_mean(y_tr, forced_abs=MAX_VALUE)\n",
    "y_tr_n.min(), y_tr_n.max(), np.mean(y_tr_n)"
   ]
  },
  {
   "cell_type": "code",
   "execution_count": 126,
   "metadata": {},
   "outputs": [
    {
     "data": {
      "text/plain": [
       "(-0.16470839564195686, 0.1424604022339549, -0.00019012913060785963)"
      ]
     },
     "execution_count": 126,
     "metadata": {},
     "output_type": "execute_result"
    }
   ],
   "source": [
    "y_te = np.array(list(map(lambda x: np.array(x), y_test)))\n",
    "y_te_n = normalize_keeping_mean(y_te, forced_abs=MAX_VALUE)\n",
    "y_te_n.min(), y_te_n.max(), np.mean(y_te_n)"
   ]
  },
  {
   "cell_type": "code",
   "execution_count": 127,
   "metadata": {},
   "outputs": [],
   "source": [
    "X_tr_n = X_tr_n.astype('float32')\n",
    "X_te_n = X_te_n.astype('float32')\n",
    "y_tr_n = y_tr_n.astype('float32')\n",
    "y_te_n = y_te_n.astype('float32')"
   ]
  },
  {
   "cell_type": "code",
   "execution_count": 128,
   "metadata": {
    "scrolled": true
   },
   "outputs": [
    {
     "data": {
      "text/plain": [
       "<matplotlib.axes._subplots.AxesSubplot at 0x13abd1710>"
      ]
     },
     "execution_count": 128,
     "metadata": {},
     "output_type": "execute_result"
    },
    {
     "data": {
      "image/png": "[encoded data removed]",
      "text/plain": [
       "<Figure size 432x288 with 1 Axes>"
      ]
     },
     "metadata": {
      "needs_background": "light"
     },
     "output_type": "display_data"
    }
   ],
   "source": [
    "pd.Series(X_tr_n[100]).plot.line()"
   ]
  },
  {
   "cell_type": "code",
   "execution_count": 129,
   "metadata": {},
   "outputs": [
    {
     "data": {
      "text/plain": [
       "<matplotlib.axes._subplots.AxesSubplot at 0x122522b70>"
      ]
     },
     "execution_count": 129,
     "metadata": {},
     "output_type": "execute_result"
    },
    {
     "data": {
      "image/png": "[encoded data removed]",
      "text/plain": [
       "<Figure size 432x288 with 1 Axes>"
      ]
     },
     "metadata": {
      "needs_background": "light"
     },
     "output_type": "display_data"
    }
   ],
   "source": [
    "pd.Series(y_tr_n[100]).plot.line()"
   ]
  },
  {
   "cell_type": "code",
   "execution_count": 130,
   "metadata": {},
   "outputs": [
    {
     "data": {
      "text/plain": [
       "<matplotlib.axes._subplots.AxesSubplot at 0x13c457630>"
      ]
     },
     "execution_count": 130,
     "metadata": {},
     "output_type": "execute_result"
    },
    {
     "data": {
      "image/png": "[encoded data removed]",
      "text/plain": [
       "<Figure size 432x288 with 1 Axes>"
      ]
     },
     "metadata": {
      "needs_background": "light"
     },
     "output_type": "display_data"
    }
   ],
   "source": [
    "pd.Series(X_te_n[100]).plot.line()"
   ]
  },
  {
   "cell_type": "code",
   "execution_count": 131,
   "metadata": {},
   "outputs": [
    {
     "data": {
      "text/plain": [
       "<matplotlib.axes._subplots.AxesSubplot at 0x13c440278>"
      ]
     },
     "execution_count": 131,
     "metadata": {},
     "output_type": "execute_result"
    },
    {
     "data": {
      "image/png": "[encoded data removed]",
      "text/plain": [
       "<Figure size 432x288 with 1 Axes>"
      ]
     },
     "metadata": {
      "needs_background": "light"
     },
     "output_type": "display_data"
    }
   ],
   "source": [
    "pd.Series(y_te_n[100]).plot.line()"
   ]
  },
  {
   "cell_type": "markdown",
   "metadata": {},
   "source": [
    "## Need to apply FFT to data\n",
    "\n",
    "The plan is to apply FFT, and take the freqs and amplitudes of first N peaks, feeding it into NN"
   ]
  },
  {
   "cell_type": "code",
   "execution_count": 132,
   "metadata": {},
   "outputs": [
    {
     "data": {
      "text/plain": [
       "array([  153,   147,   154,   176,   215,   279,   358,   443,   539,\n",
       "         625,   696,   755,   791,   801,   790,   755,   691,   598,\n",
       "         478,   333,   169,    -6,  -183,  -360,  -528,  -681,  -813,\n",
       "        -926, -1016, -1084, -1128, -1144], dtype=int16)"
      ]
     },
     "execution_count": 132,
     "metadata": {},
     "output_type": "execute_result"
    }
   ],
   "source": [
    "test_wnd = X_te[0]\n",
    "test_wnd"
   ]
  },
  {
   "cell_type": "code",
   "execution_count": 133,
   "metadata": {},
   "outputs": [
    {
     "data": {
      "text/plain": [
       "44100"
      ]
     },
     "execution_count": 133,
     "metadata": {},
     "output_type": "execute_result"
    }
   ],
   "source": [
    "FD = 22050 * 2\n",
    "FD"
   ]
  },
  {
   "cell_type": "code",
   "execution_count": 134,
   "metadata": {},
   "outputs": [
    {
     "data": {
      "text/plain": [
       "<matplotlib.axes._subplots.AxesSubplot at 0x1227d8c18>"
      ]
     },
     "execution_count": 134,
     "metadata": {},
     "output_type": "execute_result"
    },
    {
     "data": {
      "image/png": "[encoded data removed]",
      "text/plain": [
       "<Figure size 432x288 with 1 Axes>"
      ]
     },
     "metadata": {
      "needs_background": "light"
     },
     "output_type": "display_data"
    }
   ],
   "source": [
    "pd.Series(test_wnd).plot.line()"
   ]
  },
  {
   "cell_type": "code",
   "execution_count": 135,
   "metadata": {},
   "outputs": [
    {
     "name": "stdout",
     "output_type": "stream",
     "text": [
      "22050.0\n",
      "[0.0, 1297.0588235294117, 2594.1176470588234, 3891.1764705882356, 5188.235294117647, 6485.2941176470595, 7782.352941176471, 9079.411764705881, 10376.470588235294, 11673.529411764706, 12970.588235294119, 14267.64705882353, 15564.705882352942, 16861.764705882353, 18158.823529411762, 19455.882352941175, 20752.941176470587]\n"
     ]
    }
   ],
   "source": [
    "from numpy.fft import rfft, fftfreq, rfftfreq\n",
    "\n",
    "freq = rfftfreq(32, 1./FD)\n",
    "max_freq = freq[-1]\n",
    "\n",
    "print(max_freq)\n",
    "\n",
    "fft = rfft(test_wnd)\n",
    "\n",
    "df = pd.Series(fft)\n",
    "\n",
    "index = []\n",
    "\n",
    "for i in range(0, len(fft)):\n",
    "    index = index + [(i / len(fft)) * max_freq]\n",
    "\n",
    "print(index)\n",
    "\n",
    "df.index = index"
   ]
  },
  {
   "cell_type": "code",
   "execution_count": 136,
   "metadata": {},
   "outputs": [
    {
     "data": {
      "text/plain": [
       "<matplotlib.axes._subplots.AxesSubplot at 0x122836278>"
      ]
     },
     "execution_count": 136,
     "metadata": {},
     "output_type": "execute_result"
    },
    {
     "data": {
      "image/png": "[encoded data removed]",
      "text/plain": [
       "<Figure size 432x288 with 1 Axes>"
      ]
     },
     "metadata": {
      "needs_background": "light"
     },
     "output_type": "display_data"
    }
   ],
   "source": [
    "df.map(lambda x: x.imag).plot.line()"
   ]
  },
  {
   "cell_type": "code",
   "execution_count": 141,
   "metadata": {},
   "outputs": [
    {
     "data": {
      "text/plain": [
       "<matplotlib.axes._subplots.AxesSubplot at 0x1228676d8>"
      ]
     },
     "execution_count": 141,
     "metadata": {},
     "output_type": "execute_result"
    },
    {
     "data": {
      "image/png": "[encoded data removed]",
      "text/plain": [
       "<Figure size 1152x576 with 1 Axes>"
      ]
     },
     "metadata": {
      "needs_background": "light"
     },
     "output_type": "display_data"
    }
   ],
   "source": [
    "from scipy.signal import find_peaks\n",
    "from matplotlib import pyplot as plt\n",
    "\n",
    "(fig, ax) = plt.subplots(figsize=(16, 8))\n",
    "df.plot.line(ax=ax)\n",
    "\n",
    "peaks_re = find_peaks(df.map(lambda x: x.real))[0]\n",
    "peaks_im = find_peaks(df.map(lambda x: x.imag))[0]\n",
    "\n",
    "pd.DataFrame(df.iloc[peaks_re]).plot.line(ax=ax)"
   ]
  },
  {
   "cell_type": "code",
   "execution_count": 142,
   "metadata": {},
   "outputs": [],
   "source": [
    "def append_peaks(df, peaks, N):\n",
    "    res = df.iloc[peaks[:N]]\n",
    "\n",
    "    for i in range(len(peaks), N_PEAKS):\n",
    "        res = res.append(pd.Series([0], index=[0]))\n",
    "        \n",
    "    return res"
   ]
  },
  {
   "cell_type": "code",
   "execution_count": 143,
   "metadata": {},
   "outputs": [
    {
     "data": {
      "text/plain": [
       "array([ 2, 11])"
      ]
     },
     "execution_count": 143,
     "metadata": {},
     "output_type": "execute_result"
    }
   ],
   "source": [
    "peaks_re"
   ]
  },
  {
   "cell_type": "code",
   "execution_count": 144,
   "metadata": {},
   "outputs": [
    {
     "data": {
      "text/plain": [
       "(2594.117647     (1351.2863121695095-3130.439869442133j)\n",
       " 14267.647059    (664.2777190964798-339.66376228766103j)\n",
       " 0.000000                                             0j\n",
       " 0.000000                                             0j\n",
       " 0.000000                                             0j\n",
       " 0.000000                                             0j\n",
       " 0.000000                                             0j\n",
       " 0.000000                                             0j\n",
       " 0.000000                                             0j\n",
       " 0.000000                                             0j\n",
       " dtype: complex128, 0.0    0\n",
       " 0.0    0\n",
       " 0.0    0\n",
       " 0.0    0\n",
       " 0.0    0\n",
       " 0.0    0\n",
       " 0.0    0\n",
       " 0.0    0\n",
       " 0.0    0\n",
       " 0.0    0\n",
       " dtype: int64)"
      ]
     },
     "execution_count": 144,
     "metadata": {},
     "output_type": "execute_result"
    }
   ],
   "source": [
    "N_PEAKS = 10\n",
    "\n",
    "peaks_re = append_peaks(df, peaks_re, N_PEAKS)\n",
    "peaks_im = append_peaks(df, peaks_im, N_PEAKS)\n",
    "\n",
    "(peaks_re, peaks_im)"
   ]
  },
  {
   "cell_type": "code",
   "execution_count": 145,
   "metadata": {},
   "outputs": [],
   "source": [
    "from numpy.fft import rfft, fftfreq, rfftfreq\n",
    "from scipy.signal import find_peaks\n",
    "from matplotlib import pyplot as plt\n",
    "\n",
    "MAGIC_NUMBER = 22050\n",
    "\n",
    "def extract_fft_features(wnd, N_PEAKS):\n",
    "    # Apply FFT\n",
    "    \n",
    "    freq = rfftfreq(N_WINDOW_POINTS, 1./FD)\n",
    "    max_freq = freq[-1]\n",
    "\n",
    "    fft = rfft(wnd)\n",
    "\n",
    "    df = pd.Series(fft)\n",
    "\n",
    "    index = []\n",
    "\n",
    "    for i in range(0, len(fft)):\n",
    "        index = index + [(i / len(fft))]\n",
    "\n",
    "    df.index = index\n",
    "\n",
    "    # Output FFT\n",
    "    \n",
    "    real = normalize(\n",
    "         np.array(list(map(lambda x: x.real, df.values))),\n",
    "         forced_abs=MAGIC_NUMBER,\n",
    "         mean=0.0\n",
    "    )\n",
    "    \n",
    "    imag = normalize(\n",
    "        np.array(list(map(lambda x: x.imag, df.values))),\n",
    "        forced_abs=MAGIC_NUMBER,\n",
    "        mean=0.0\n",
    "    )\n",
    "\n",
    "    res = np.concatenate([real, imag])\n",
    "    \n",
    "    return res\n",
    "    \n",
    "    \n",
    "    # Find peaks\n",
    "\n",
    "#     peaks_re = find_peaks(df.map(lambda x: x.real))[0]\n",
    "#     peaks_im = find_peaks(df.map(lambda x: x.imag))[0]\n",
    "\n",
    "#     peaks_re = append_peaks(df, peaks_re, N_PEAKS)\n",
    "#     peaks_im = append_peaks(df, peaks_im, N_PEAKS)\n",
    "    \n",
    "#     features_re = (\n",
    "#          list(np.array(list(peaks_re.index))) +\n",
    "#          list(normalize(np.array(list(map(lambda x: x.real, peaks_re.get_values()))), forced_abs=MAGIC_NUMBER, mean=0.0))\n",
    "#     )\n",
    "    \n",
    "#     features_im = (\n",
    "#          list(np.array(list(peaks_im.index))) +\n",
    "#          list(normalize(np.array(list(map(lambda x: x.imag, peaks_im.get_values()))), forced_abs=MAGIC_NUMBER, mean=0.0))\n",
    "#     )\n",
    "\n",
    "#     return np.array(list(features_re) + list(features_im))"
   ]
  },
  {
   "cell_type": "code",
   "execution_count": 146,
   "metadata": {},
   "outputs": [
    {
     "data": {
      "text/plain": [
       "array([ 0.09419501, -0.41276206,  0.06128283,  0.03794118,  0.03332838,\n",
       "        0.03072445,  0.03072402,  0.03025742,  0.03002268,  0.02947596,\n",
       "        0.02969528,  0.03012597,  0.02980087,  0.02950137,  0.02940898,\n",
       "        0.02954296,  0.02970522,  0.        , -0.44566353, -0.14197006,\n",
       "       -0.09345454, -0.07381607, -0.05575746, -0.0447379 , -0.03586779,\n",
       "       -0.0293424 , -0.0243774 , -0.01903552, -0.01540425, -0.01231947,\n",
       "       -0.00897093, -0.00579149, -0.00292255,  0.        ])"
      ]
     },
     "execution_count": 146,
     "metadata": {},
     "output_type": "execute_result"
    }
   ],
   "source": [
    "extract_fft_features(test_wnd, N_PEAKS)"
   ]
  },
  {
   "cell_type": "code",
   "execution_count": 147,
   "metadata": {},
   "outputs": [],
   "source": [
    "# it. fucking. works.\n",
    "# Hail God."
   ]
  },
  {
   "cell_type": "code",
   "execution_count": 148,
   "metadata": {},
   "outputs": [],
   "source": [
    "def append_features(X):\n",
    "    res = []\n",
    "    \n",
    "    for wnd in X:\n",
    "        # res.append(np.array(list(wnd) + list(extract_fft_features(wnd, N_PEAKS))))\n",
    "        res.append(extract_fft_features(wnd, N_PEAKS))\n",
    "    \n",
    "    return np.array(res)"
   ]
  },
  {
   "cell_type": "code",
   "execution_count": 149,
   "metadata": {},
   "outputs": [
    {
     "data": {
      "text/plain": [
       "array([[ 2.31124079e-05, -8.70724610e-06, -5.34973644e-06,\n",
       "        -1.38905736e-06, -1.20693343e-06, -7.96220556e-07,\n",
       "        -7.69198091e-07, -1.00812972e-06, -9.95138740e-07,\n",
       "        -1.00462925e-06, -9.80192200e-07, -9.91397334e-07,\n",
       "        -9.79880484e-07, -9.77435380e-07, -9.83780079e-07,\n",
       "        -9.81669296e-07, -9.81298104e-07,  0.00000000e+00,\n",
       "         2.36763422e-05,  1.10765212e-05,  3.50252314e-06,\n",
       "         2.48443201e-06,  1.35614401e-06,  1.50837174e-06,\n",
       "         1.16921853e-06,  9.96522884e-07,  7.86358196e-07,\n",
       "         6.53421786e-07,  5.25147813e-07,  3.88965763e-07,\n",
       "         2.67475363e-07,  1.67764074e-07,  9.53220709e-08,\n",
       "         0.00000000e+00]])"
      ]
     },
     "execution_count": 149,
     "metadata": {},
     "output_type": "execute_result"
    }
   ],
   "source": [
    "append_features(X_tr_n[:1])"
   ]
  },
  {
   "cell_type": "code",
   "execution_count": 150,
   "metadata": {},
   "outputs": [
    {
     "data": {
      "text/plain": [
       "(44068, 5480, 44068, 5480)"
      ]
     },
     "execution_count": 150,
     "metadata": {},
     "output_type": "execute_result"
    }
   ],
   "source": [
    "(len(X_tr), len(X_te), len(y_tr), len(y_te))"
   ]
  },
  {
   "cell_type": "code",
   "execution_count": 151,
   "metadata": {},
   "outputs": [
    {
     "name": "stdout",
     "output_type": "stream",
     "text": [
      "CPU times: user 42.3 s, sys: 771 ms, total: 43 s\n",
      "Wall time: 43.2 s\n"
     ]
    }
   ],
   "source": [
    "%%time\n",
    "\n",
    "# N_DEV_2 = 10000\n",
    "\n",
    "X_tr_f = append_features(X_tr_n)\n",
    "X_te_f = append_features(X_te_n)\n",
    "y_tr_f = append_features(y_tr_n)\n",
    "y_te_f = append_features(y_te_n)"
   ]
  },
  {
   "cell_type": "code",
   "execution_count": 153,
   "metadata": {},
   "outputs": [
    {
     "data": {
      "text/plain": [
       "<matplotlib.axes._subplots.AxesSubplot at 0x122a6d6a0>"
      ]
     },
     "execution_count": 153,
     "metadata": {},
     "output_type": "execute_result"
    },
    {
     "data": {
      "image/png": "[encoded data removed]",
      "text/plain": [
       "<Figure size 432x288 with 1 Axes>"
      ]
     },
     "metadata": {
      "needs_background": "light"
     },
     "output_type": "display_data"
    }
   ],
   "source": [
    "pd.Series(X_tr_f[100]).plot.line()"
   ]
  },
  {
   "cell_type": "code",
   "execution_count": 154,
   "metadata": {},
   "outputs": [
    {
     "data": {
      "text/plain": [
       "<matplotlib.axes._subplots.AxesSubplot at 0x1228b9da0>"
      ]
     },
     "execution_count": 154,
     "metadata": {},
     "output_type": "execute_result"
    },
    {
     "data": {
      "image/png": "[encoded data removed]",
      "text/plain": [
       "<Figure size 432x288 with 1 Axes>"
      ]
     },
     "metadata": {
      "needs_background": "light"
     },
     "output_type": "display_data"
    }
   ],
   "source": [
    "pd.Series(y_tr_f[100]).plot.line()"
   ]
  },
  {
   "cell_type": "code",
   "execution_count": 155,
   "metadata": {},
   "outputs": [
    {
     "data": {
      "text/plain": [
       "<matplotlib.axes._subplots.AxesSubplot at 0x122f8b550>"
      ]
     },
     "execution_count": 155,
     "metadata": {},
     "output_type": "execute_result"
    },
    {
     "data": {
      "image/png": "[encoded data removed]",
      "text/plain": [
       "<Figure size 432x288 with 1 Axes>"
      ]
     },
     "metadata": {
      "needs_background": "light"
     },
     "output_type": "display_data"
    }
   ],
   "source": [
    "pd.Series(X_te_f[100]).plot.line()"
   ]
  },
  {
   "cell_type": "code",
   "execution_count": 156,
   "metadata": {},
   "outputs": [
    {
     "data": {
      "text/plain": [
       "<matplotlib.axes._subplots.AxesSubplot at 0x122b2f128>"
      ]
     },
     "execution_count": 156,
     "metadata": {},
     "output_type": "execute_result"
    },
    {
     "data": {
      "image/png": "[encoded data removed]",
      "text/plain": [
       "<Figure size 432x288 with 1 Axes>"
      ]
     },
     "metadata": {
      "needs_background": "light"
     },
     "output_type": "display_data"
    }
   ],
   "source": [
    "pd.Series(y_te_f[100]).plot.line()"
   ]
  },
  {
   "cell_type": "code",
   "execution_count": 157,
   "metadata": {},
   "outputs": [
    {
     "data": {
      "text/plain": [
       "(array([ 2.87469155e-06, -1.25968829e-05,  1.87026057e-06,  1.15790846e-06,\n",
       "         1.01713262e-06,  9.37664275e-07,  9.37651206e-07,  9.23411224e-07,\n",
       "         9.16247482e-07,  8.99562160e-07,  9.06255760e-07,  9.19399821e-07,\n",
       "         9.09478127e-07,  9.00337857e-07,  8.97518335e-07,  9.01607202e-07,\n",
       "         9.06558855e-07,  0.00000000e+00, -1.36009869e-05, -4.33271458e-06,\n",
       "        -2.85209326e-06, -2.25275645e-06, -1.70163450e-06, -1.36533407e-06,\n",
       "        -1.09463144e-06, -8.95486380e-07, -7.43961886e-07, -5.80935547e-07,\n",
       "        -4.70114871e-07, -3.75972004e-07, -2.73779460e-07, -1.76747559e-07,\n",
       "        -8.91919598e-08,  0.00000000e+00]),\n",
       " array([-5.20046476e-05,  2.77562079e-05,  9.41722492e-06, -3.93464272e-06,\n",
       "         2.57669220e-06,  8.05041282e-08,  5.15301955e-06,  3.66225763e-06,\n",
       "         2.78887987e-06,  2.38340065e-06,  2.15539692e-06,  1.74283601e-06,\n",
       "         1.75264539e-06,  1.85690657e-06,  1.35571076e-06,  1.36404347e-06,\n",
       "         1.40620455e-06,  0.00000000e+00,  1.40534168e-05, -6.19286763e-06,\n",
       "        -1.02191680e-06, -1.69885173e-06,  3.96863405e-06, -1.09904284e-06,\n",
       "        -9.37770264e-07, -1.37990729e-06, -7.65401926e-07, -1.01064047e-06,\n",
       "        -5.93955485e-07, -3.23096443e-07, -3.77600152e-07, -9.21116194e-08,\n",
       "        -1.10226911e-07,  0.00000000e+00]))"
      ]
     },
     "execution_count": 157,
     "metadata": {},
     "output_type": "execute_result"
    }
   ],
   "source": [
    "(X_te_f[0], y_te_f[0])"
   ]
  },
  {
   "cell_type": "code",
   "execution_count": 158,
   "metadata": {},
   "outputs": [
    {
     "data": {
      "text/plain": [
       "4.0853281765162536e-05"
      ]
     },
     "execution_count": 158,
     "metadata": {},
     "output_type": "execute_result"
    }
   ],
   "source": [
    "# np.max(list(map(lambda row: row[65:], X_te_f)))\n",
    "np.max(list(map(lambda row: row, X_te_f)))"
   ]
  },
  {
   "cell_type": "code",
   "execution_count": 159,
   "metadata": {},
   "outputs": [],
   "source": [
    "# appending stats of the whole sample, fading from silence"
   ]
  },
  {
   "cell_type": "code",
   "execution_count": 160,
   "metadata": {},
   "outputs": [],
   "source": [
    "train_shuffle_index = np.random.shuffle(np.arange(0, len(X_tr_f)))\n",
    "test_shuffle_index = np.random.shuffle(np.arange(0, len(X_te_f)))\n",
    "\n",
    "X_tr_f = X_tr_f[train_shuffle_index][0]\n",
    "y_tr_f = y_tr_f[train_shuffle_index][0]\n",
    "\n",
    "X_te_f = X_te_f[test_shuffle_index][0]\n",
    "y_te_f = y_te_f[test_shuffle_index][0]"
   ]
  },
  {
   "cell_type": "code",
   "execution_count": 161,
   "metadata": {},
   "outputs": [
    {
     "data": {
      "text/plain": [
       "(34, array([ 2.31124079e-05, -8.70724610e-06, -5.34973644e-06, -1.38905736e-06,\n",
       "        -1.20693343e-06, -7.96220556e-07, -7.69198091e-07, -1.00812972e-06,\n",
       "        -9.95138740e-07, -1.00462925e-06, -9.80192200e-07, -9.91397334e-07,\n",
       "        -9.79880484e-07, -9.77435380e-07, -9.83780079e-07, -9.81669296e-07,\n",
       "        -9.81298104e-07,  0.00000000e+00,  2.36763422e-05,  1.10765212e-05,\n",
       "         3.50252314e-06,  2.48443201e-06,  1.35614401e-06,  1.50837174e-06,\n",
       "         1.16921853e-06,  9.96522884e-07,  7.86358196e-07,  6.53421786e-07,\n",
       "         5.25147813e-07,  3.88965763e-07,  2.67475363e-07,  1.67764074e-07,\n",
       "         9.53220709e-08,  0.00000000e+00]))"
      ]
     },
     "execution_count": 161,
     "metadata": {},
     "output_type": "execute_result"
    }
   ],
   "source": [
    "(len(X_tr_f[0]), X_tr_f[0])"
   ]
  },
  {
   "cell_type": "code",
   "execution_count": 163,
   "metadata": {},
   "outputs": [
    {
     "data": {
      "text/plain": [
       "34"
      ]
     },
     "execution_count": 163,
     "metadata": {},
     "output_type": "execute_result"
    }
   ],
   "source": [
    "N_FEATURES = 34\n",
    "N_FEATURES"
   ]
  },
  {
   "cell_type": "markdown",
   "metadata": {},
   "source": [
    "## Finished data processing!\n",
    "\n",
    "## Moving on to training NN"
   ]
  },
  {
   "cell_type": "code",
   "execution_count": 164,
   "metadata": {},
   "outputs": [],
   "source": [
    "import numpy as np"
   ]
  },
  {
   "cell_type": "code",
   "execution_count": 165,
   "metadata": {},
   "outputs": [],
   "source": [
    "import keras\n",
    "from keras.models import Sequential\n",
    "from keras.layers import Dense, Dropout, Activation, Flatten\n",
    "from keras.layers import Convolution2D, MaxPooling2D\n",
    "from keras.utils import np_utils"
   ]
  },
  {
   "cell_type": "code",
   "execution_count": 235,
   "metadata": {},
   "outputs": [
    {
     "data": {
      "text/plain": [
       "((44068, 34), (44068, 34), (5480, 34), (5480, 34))"
      ]
     },
     "execution_count": 235,
     "metadata": {},
     "output_type": "execute_result"
    }
   ],
   "source": [
    "y_tr_f.shape, X_tr_f.shape, X_te_f.shape, y_te_f.shape"
   ]
  },
  {
   "cell_type": "code",
   "execution_count": 167,
   "metadata": {},
   "outputs": [
    {
     "data": {
      "text/plain": [
       "array([ 5.14468719e-05, -1.96906236e-06,  1.50280722e-05,  4.11279736e-06,\n",
       "        9.19614837e-06, -2.28869611e-05,  1.11858489e-05,  1.26070353e-06,\n",
       "       -1.86156025e-06, -4.64483437e-06, -1.64549327e-06, -2.32516035e-06,\n",
       "        1.61512386e-08, -1.45144346e-06, -1.85877972e-06, -2.10244739e-06,\n",
       "       -2.03871922e-06,  0.00000000e+00,  1.09030858e-05,  2.73374748e-05,\n",
       "        6.18523765e-07, -2.38703769e-05,  3.70288534e-05,  3.90178061e-06,\n",
       "        4.10504112e-06,  2.98126447e-06,  4.47397640e-06,  3.59611496e-07,\n",
       "       -5.99699670e-07,  5.58272187e-07,  1.25593839e-07,  8.42064538e-07,\n",
       "        2.86668160e-07,  0.00000000e+00])"
      ]
     },
     "execution_count": 167,
     "metadata": {},
     "output_type": "execute_result"
    }
   ],
   "source": [
    "y_tr_f[0]"
   ]
  },
  {
   "cell_type": "code",
   "execution_count": 170,
   "metadata": {},
   "outputs": [
    {
     "data": {
      "text/plain": [
       "<keras.engine.sequential.Sequential at 0x1231119e8>"
      ]
     },
     "execution_count": 170,
     "metadata": {},
     "output_type": "execute_result"
    }
   ],
   "source": [
    "model = Sequential()\n",
    "model"
   ]
  },
  {
   "cell_type": "code",
   "execution_count": 171,
   "metadata": {},
   "outputs": [],
   "source": [
    "model.add(Dense(65, activation='relu'))\n",
    "model.add(Dropout(0.5))\n",
    "model.add(Dense(171, activation='relu'))\n",
    "model.add(Dense(327, activation='relu'))\n",
    "model.add(Dense(171, activation='relu'))\n",
    "model.add(Dense(65, activation='relu'))\n",
    "model.add(Dropout(0.5))\n",
    "model.add(Dense(N_FEATURES, activation=None))"
   ]
  },
  {
   "cell_type": "code",
   "execution_count": 172,
   "metadata": {},
   "outputs": [],
   "source": [
    "# model.add(Dense(49, activation='relu'))\n",
    "# model.add(Dropout(0.2))\n",
    "# model.add(Dense(87, activation='relu'))\n",
    "# model.add(Dense(49, activation='relu'))\n",
    "# model.add(Dropout(0.2))\n",
    "# model.add(Dense(N_FEATURES, activation='relu'))"
   ]
  },
  {
   "cell_type": "code",
   "execution_count": 173,
   "metadata": {},
   "outputs": [],
   "source": [
    "model.compile(loss='mean_squared_error',\n",
    "              optimizer='adam')"
   ]
  },
  {
   "cell_type": "code",
   "execution_count": 174,
   "metadata": {},
   "outputs": [
    {
     "name": "stdout",
     "output_type": "stream",
     "text": [
      "Epoch 1/6\n",
      "44068/44068 [==============================] - 3s 75us/step - loss: 1.6055e-09\n",
      "Epoch 2/6\n",
      "44068/44068 [==============================] - 3s 65us/step - loss: 8.9401e-10\n",
      "Epoch 3/6\n",
      "44068/44068 [==============================] - 3s 65us/step - loss: 8.9657e-10\n",
      "Epoch 4/6\n",
      "44068/44068 [==============================] - 3s 69us/step - loss: 8.9809e-10\n",
      "Epoch 5/6\n",
      "44068/44068 [==============================] - 3s 66us/step - loss: 9.2623e-10\n",
      "Epoch 6/6\n",
      "44068/44068 [==============================] - 3s 66us/step - loss: 9.1449e-10\n",
      "CPU times: user 44.6 s, sys: 8.17 s, total: 52.8 s\n",
      "Wall time: 18.4 s\n"
     ]
    }
   ],
   "source": [
    "%%time\n",
    "\n",
    "history = model.fit(X_tr_f, y_tr_f, batch_size=32, epochs=6, verbose=1)"
   ]
  },
  {
   "cell_type": "code",
   "execution_count": 175,
   "metadata": {},
   "outputs": [
    {
     "data": {
      "text/plain": [
       "1.0348142858422424e-09"
      ]
     },
     "execution_count": 175,
     "metadata": {},
     "output_type": "execute_result"
    }
   ],
   "source": [
    "score = model.evaluate(X_te_f, y_te_f, verbose=0)\n",
    "score"
   ]
  },
  {
   "cell_type": "code",
   "execution_count": 73,
   "metadata": {},
   "outputs": [
    {
     "data": {
      "text/plain": [
       "0.017688618357486138"
      ]
     },
     "execution_count": 73,
     "metadata": {},
     "output_type": "execute_result"
    }
   ],
   "source": [
    "1.0348142858422424e-09\n",
    "1.2209316008848814e-09"
   ]
  },
  {
   "cell_type": "code",
   "execution_count": 176,
   "metadata": {},
   "outputs": [
    {
     "data": {
      "image/png": "[encoded data removed]",
      "text/plain": [
       "<Figure size 432x288 with 1 Axes>"
      ]
     },
     "metadata": {
      "needs_background": "light"
     },
     "output_type": "display_data"
    }
   ],
   "source": [
    "# Plot training & validation loss values\n",
    "plt.plot(history.history['loss'])\n",
    "plt.title('Model loss')\n",
    "plt.ylabel('Loss')\n",
    "plt.xlabel('Epoch')\n",
    "plt.legend(['Train'], loc='upper left')\n",
    "plt.show()"
   ]
  },
  {
   "cell_type": "code",
   "execution_count": 177,
   "metadata": {},
   "outputs": [
    {
     "data": {
      "text/plain": [
       "array([ 2.87469155e-06, -1.25968829e-05,  1.87026057e-06,  1.15790846e-06,\n",
       "        1.01713262e-06,  9.37664275e-07,  9.37651206e-07,  9.23411224e-07,\n",
       "        9.16247482e-07,  8.99562160e-07,  9.06255760e-07,  9.19399821e-07,\n",
       "        9.09478127e-07,  9.00337857e-07,  8.97518335e-07,  9.01607202e-07,\n",
       "        9.06558855e-07,  0.00000000e+00, -1.36009869e-05, -4.33271458e-06,\n",
       "       -2.85209326e-06, -2.25275645e-06, -1.70163450e-06, -1.36533407e-06,\n",
       "       -1.09463144e-06, -8.95486380e-07, -7.43961886e-07, -5.80935547e-07,\n",
       "       -4.70114871e-07, -3.75972004e-07, -2.73779460e-07, -1.76747559e-07,\n",
       "       -8.91919598e-08,  0.00000000e+00])"
      ]
     },
     "execution_count": 177,
     "metadata": {},
     "output_type": "execute_result"
    }
   ],
   "source": [
    "X_te_f[0]"
   ]
  },
  {
   "cell_type": "code",
   "execution_count": 178,
   "metadata": {},
   "outputs": [],
   "source": [
    "def predict(model, row):\n",
    "    return model.predict(np.array([row]))[0]"
   ]
  },
  {
   "cell_type": "code",
   "execution_count": 179,
   "metadata": {},
   "outputs": [
    {
     "data": {
      "text/plain": [
       "array([ 9.6908094e-05,  2.3934459e-05, -3.2686577e-05,  3.4690602e-05,\n",
       "       -3.6481055e-05,  2.8634800e-05, -7.5039243e-06, -6.0128536e-05,\n",
       "       -2.6554102e-05, -2.5344096e-05, -2.9796596e-05, -2.1390591e-05,\n",
       "       -8.3411469e-06,  9.8328092e-06, -9.4340212e-06, -1.4496418e-05,\n",
       "       -1.7734825e-05,  2.9646234e-08,  1.5994839e-05,  1.2008426e-05,\n",
       "       -5.5620112e-06,  3.6597041e-05, -4.0778526e-05,  6.3555963e-06,\n",
       "       -1.8846482e-05,  2.9717063e-05, -1.4787144e-05, -1.5826012e-05,\n",
       "       -1.6747808e-05, -6.3662374e-05, -2.0128467e-05, -5.4723455e-07,\n",
       "        1.5635433e-05,  6.7081942e-08], dtype=float32)"
      ]
     },
     "execution_count": 179,
     "metadata": {},
     "output_type": "execute_result"
    }
   ],
   "source": [
    "predict(model, X_te_f[0])"
   ]
  },
  {
   "cell_type": "code",
   "execution_count": 234,
   "metadata": {},
   "outputs": [
    {
     "data": {
      "text/plain": [
       "Text(0, 0.5, 'value')"
      ]
     },
     "execution_count": 234,
     "metadata": {},
     "output_type": "execute_result"
    },
    {
     "data": {
      "image/png": "[encoded data removed]",
      "text/plain": [
       "<Figure size 1152x576 with 1 Axes>"
      ]
     },
     "metadata": {
      "needs_background": "light"
     },
     "output_type": "display_data"
    }
   ],
   "source": [
    "from scipy.signal import savgol_filter\n",
    "\n",
    "(fig, ax) = plt.subplots(figsize=(16, 8))\n",
    "\n",
    "I = 210\n",
    "\n",
    "pd.Series(y_tr_f[I]).plot.line(ax=ax, label='intended')\n",
    "\n",
    "pred = pd.Series(predict(model, X_tr_f[I]))\n",
    "\n",
    "pred.plot.line(ax=ax, label='predicted')\n",
    "\n",
    "# pd.Series(savgol_filter(pred, 5, 3)).plot.line(ax=ax, label='savgol(predicted)')\n",
    "\n",
    "ax.legend(loc=\"upper right\")\n",
    "ax.set_xlabel('index')\n",
    "ax.set_ylabel('value')"
   ]
  },
  {
   "cell_type": "markdown",
   "metadata": {},
   "source": [
    "## Time to evaluate performance"
   ]
  },
  {
   "cell_type": "code",
   "execution_count": 79,
   "metadata": {},
   "outputs": [],
   "source": [
    "# Til next time"
   ]
  },
  {
   "cell_type": "code",
   "execution_count": 80,
   "metadata": {},
   "outputs": [],
   "source": [
    "def unpack_peaks(peaks, N):\n",
    "    df = pd.Series()\n",
    "    \n",
    "    for i in range(0, N):\n",
    "        df = df.append(pd.Series([peaks[N + i]], index=[peaks[i]]))\n",
    "        \n",
    "    return df"
   ]
  },
  {
   "cell_type": "code",
   "execution_count": 81,
   "metadata": {},
   "outputs": [],
   "source": [
    "from numpy.fft import rfft, fftfreq, rfftfreq\n",
    "from scipy.signal import find_peaks\n",
    "from matplotlib import pyplot as plt\n",
    "\n",
    "MAGIC_NUMBER = 22050\n",
    "\n",
    "def unpack_fft_features(row, N_PEAKS):  \n",
    "    # Unpack peaks\n",
    "    \n",
    "    features_re = row[:2*N_PEAKS]\n",
    "    features_im = row[2*N_PEAKS:]\n",
    "    \n",
    "    df = pd.Series()\n",
    "    \n",
    "    peaks_re = unpack_peaks(features_re, N_PEAKS)\n",
    "    peaks_im = unpack_peaks(features_im, N_PEAKS)\n",
    "    \n",
    "    peaks = (peaks_re * complex(1, 0)).add(peaks_im * complex(0, 1))\n",
    "    \n",
    "    print(peaks)\n",
    "    \n",
    "    return []\n",
    "\n",
    "\n",
    "\n",
    "\n",
    "\n",
    "\n",
    "    # Apply IFFT\n",
    "    \n",
    "    freq = rfftfreq(N_WINDOW_POINTS, 1./FD)\n",
    "    max_freq = freq[-1]\n",
    "\n",
    "    fft = rfft(wnd)\n",
    "\n",
    "    df = pd.Series(fft)\n",
    "\n",
    "    index = []\n",
    "\n",
    "    for i in range(0, len(fft)):\n",
    "        index = index + [(i / len(fft))]\n",
    "\n",
    "    df.index = index\n",
    "\n",
    "    "
   ]
  },
  {
   "cell_type": "code",
   "execution_count": 82,
   "metadata": {},
   "outputs": [
    {
     "name": "stdout",
     "output_type": "stream",
     "text": [
      "-0.000070    NaN\n",
      "-0.000050    NaN\n",
      "-0.000040    NaN\n",
      "-0.000038    NaN\n",
      "-0.000036    NaN\n",
      "-0.000029    NaN\n",
      "-0.000024    NaN\n",
      "-0.000022    NaN\n",
      "-0.000021    NaN\n",
      "-0.000019    NaN\n",
      "-0.000014    NaN\n",
      "-0.000006    NaN\n",
      "-0.000002    NaN\n",
      "-0.000002    NaN\n",
      "-0.000001    NaN\n",
      " 0.000004    NaN\n",
      " 0.000005    NaN\n",
      " 0.000013    NaN\n",
      " 0.000044    NaN\n",
      " 0.000074    NaN\n",
      "dtype: complex128\n"
     ]
    },
    {
     "data": {
      "text/plain": [
       "[]"
      ]
     },
     "execution_count": 82,
     "metadata": {},
     "output_type": "execute_result"
    }
   ],
   "source": [
    "I = 200\n",
    "\n",
    "unpack_fft_features(predict(model, X_te_f[I]), N_PEAKS)"
   ]
  },
  {
   "cell_type": "code",
   "execution_count": null,
   "metadata": {},
   "outputs": [],
   "source": []
  }
 ],
 "metadata": {
  "kernelspec": {
   "display_name": "Python 3",
   "language": "python",
   "name": "python3"
  },
  "language_info": {
   "codemirror_mode": {
    "name": "ipython",
    "version": 3
   },
   "file_extension": ".py",
   "mimetype": "text/x-python",
   "name": "python",
   "nbconvert_exporter": "python",
   "pygments_lexer": "ipython3",
   "version": "3.7.3"
  }
 },
 "nbformat": 4,
 "nbformat_minor": 2
}
